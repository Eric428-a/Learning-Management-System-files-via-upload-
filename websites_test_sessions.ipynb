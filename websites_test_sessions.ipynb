{
  "nbformat": 4,
  "nbformat_minor": 0,
  "metadata": {
    "colab": {
      "provenance": []
    },
    "kernelspec": {
      "name": "python3",
      "display_name": "Python 3"
    },
    "language_info": {
      "name": "python"
    }
  },
  "cells": [
    {
      "cell_type": "markdown",
      "source": [
        "# EXPLANATORY DATA ANALYSIS"
      ],
      "metadata": {
        "id": "Uy4OTiUKp5Ff"
      }
    },
    {
      "cell_type": "code",
      "source": [],
      "metadata": {
        "id": "rLOxJh3tp4RH"
      },
      "execution_count": null,
      "outputs": []
    },
    {
      "cell_type": "code",
      "source": [],
      "metadata": {
        "id": "HQI5OQDZp4Ue"
      },
      "execution_count": null,
      "outputs": []
    },
    {
      "cell_type": "markdown",
      "source": [
        "# **<span style=\"color:#1E90FF;\">Websites Test Sessions Analysis</span>**\n",
        "\n",
        "## **<span style=\"color:#32CD32;\">Project Overview</span>**\n",
        "\n",
        "The **Websites Test Sessions Analysis** project is dedicated to a thorough exploration and examination of user behavior across different website sessions. The primary objective is to uncover patterns, optimize user experience, and segment sessions using advanced data analysis and machine learning techniques. The project is structured into several key phases, each designed to methodically process and analyze the dataset, ensuring that insights derived are both actionable and valuable for business or research purposes.\n",
        "\n",
        "### **<span style=\"color:#FFA500;\">1. Data Import and Initial Inspection</span>**\n",
        "\n",
        "The journey begins with importing the dataset into a pandas DataFrame. This initial phase focuses on getting familiar with the dataset by conducting a preliminary inspection. Key actions include:\n",
        "- **Library Importation**: Importing essential libraries (`pandas`, `numpy`, `matplotlib`, `seaborn`) that provide the foundation for data manipulation, numerical operations, and visualization.\n",
        "- **Dataset Loading**: Reading the dataset from a CSV file and displaying the first few rows to understand its structure.\n",
        "- **Initial Inspection**: Employing methods like `.info()` and `.describe()` to get an overview of the data types, missing values, and basic statistical measures. This step lays the groundwork for more detailed data exploration.\n",
        "\n",
        "### **<span style=\"color:#FFA500;\">2. Handling Missing Data and Duplicates</span>**\n",
        "\n",
        "Data quality is crucial for reliable analysis. This phase focuses on cleaning the data by addressing missing values and duplicates:\n",
        "- **Missing Values**: Detecting and handling missing values is critical. Numerical columns are filled with the mean value, ensuring no data points are lost, which is particularly important in maintaining dataset integrity for analysis.\n",
        "- **Duplicates**: Identifying and removing duplicate rows to prevent skewed analysis. Duplicates can distort results, particularly in aggregation or modeling tasks, so their removal is necessary for accurate outcomes.\n",
        "\n",
        "### **<span style=\"color:#FFA500;\">3. Exploring Data Distribution and Correlations</span>**\n",
        "\n",
        "Understanding the distribution of data and the relationships between variables is essential for accurate modeling and insightful analysis:\n",
        "- **Histograms**: Generating histograms for each numerical feature to visualize their distribution. This step is important to identify normal or skewed distributions, which may influence subsequent analysis steps.\n",
        "- **Correlation Matrix**: A heatmap visualization of the correlation matrix reveals how numerical variables relate to each other. High correlations may indicate multicollinearity, which could affect the performance of machine learning models.\n",
        "\n",
        "### **<span style=\"color:#FFA500;\">4. Categorical Variables Handling</span>**\n",
        "\n",
        "While this dataset is primarily numerical, this phase outlines the importance of handling categorical variables, should they be present:\n",
        "- **One-Hot Encoding**: Converting categorical variables into numerical format through one-hot encoding. This technique ensures that machine learning algorithms can process the data effectively, avoiding the pitfalls of ordinal misinterpretation.\n",
        "\n",
        "### **<span style=\"color:#FFA500;\">5. Detecting and Handling Outliers</span>**\n",
        "\n",
        "Outliers can significantly impact the results of statistical analyses and machine learning models:\n",
        "- **Outlier Detection**: Utilizing the Interquartile Range (IQR) method to detect outliers. These outliers are extreme values that may arise from errors or genuine anomalies.\n",
        "- **Removal of Outliers**: Outliers are removed to ensure that the analysis is not unduly influenced by extreme values, particularly in clustering or regression tasks where they can distort results.\n",
        "\n",
        "### **<span style=\"color:#FFA500;\">6. Feature Scaling and Standardization</span>**\n",
        "\n",
        "To prepare the data for machine learning algorithms, especially those sensitive to feature magnitude, scaling is applied:\n",
        "- **Standardization**: Numerical features are scaled to have a mean of 0 and a standard deviation of 1. This process is essential for ensuring that features contribute equally in distance-based algorithms such as K-Means clustering.\n",
        "- **Exclusions**: Non-numeric columns like session IDs and datetime fields are excluded from scaling as they are either identifiers or temporal markers that do not require scaling.\n",
        "\n",
        "### **<span style=\"color:#FFA500;\">7. Analyzing Session Duration</span>**\n",
        "\n",
        "Understanding how long users spend on websites is key to assessing engagement and identifying potential issues:\n",
        "- **Duration Calculation**: The duration of each session is computed by subtracting the start time from the end time.\n",
        "- **Visualization**: The distribution of session durations is visualized using histograms or box plots. This analysis can reveal typical session lengths and help identify unusually short or long sessions, which could indicate technical issues or highly engaging content.\n",
        "\n",
        "### **<span style=\"color:#FFA500;\">8. Identifying Most Visited Websites</span>**\n",
        "\n",
        "This phase dives into user preferences by analyzing which websites are most frequently visited:\n",
        "- **Frequency Analysis**: The occurrence of each website in the dataset is counted, and the top 10 most visited websites are identified. This analysis helps in understanding user interests and the websites that attract the most attention during sessions.\n",
        "- **Visualization**: Bar charts are employed to visually present the most visited websites, making it easier to compare their relative popularity.\n",
        "\n",
        "### **<span style=\"color:#FFA500;\">9. Clustering Sessions Using K-Means</span>**\n",
        "\n",
        "Clustering is a powerful unsupervised learning technique used to group similar sessions together:\n",
        "- **Preparation for Clustering**: Before applying K-Means, non-numeric columns are dropped, and the dataset is scaled to ensure equal contribution of features.\n",
        "- **K-Means Clustering**: K-Means is applied to segment the sessions into clusters. The optimal number of clusters is determined using methods like the elbow method.\n",
        "- **Cluster Analysis**: The resulting clusters are analyzed to understand the characteristics of each group. This can provide insights into different user behaviors and how they interact with websites.\n",
        "\n",
        "### **<span style=\"color:#FFA500;\">10. Data Transformation Using Logarithmic Scaling</span>**\n",
        "\n",
        "Skewed data can negatively impact the performance of many statistical models and machine learning algorithms:\n",
        "- **Log Transformation**: A logarithmic transformation is applied to highly skewed features, such as session duration, to reduce skewness and make the data more normally distributed. This transformation is particularly useful in linear models and algorithms that assume normality.\n",
        "\n",
        "### **<span style=\"color:#FFA500;\">11. User Engagement and Interaction Analysis</span>**\n",
        "\n",
        "This phase focuses on deeper insights into user engagement by examining how users interact with different websites:\n",
        "- **Engagement Metrics**: Metrics such as average time spent on each website, bounce rates, and click-through rates are calculated. These metrics provide a detailed understanding of user engagement, highlighting which websites are more engaging and how users navigate through them.\n",
        "- **Insights Generation**: The analysis helps identify key factors that drive user engagement, which can inform website optimization strategies and improve user retention.\n",
        "\n",
        "### **<span style=\"color:#FFA500;\">12. Documenting and Saving Analysis Results</span>**\n",
        "\n",
        "Throughout the project, it is crucial to maintain a record of all analysis steps and results:\n",
        "- **Saving Results**: Key results, such as cleaned data, transformed datasets, and clustering outputs, are saved into CSV files. This ensures that the work is reproducible and that the data can be easily accessed for future use.\n",
        "- **Documentation**: Detailed notes and documentation accompany each step, explaining the rationale behind each decision and providing context for future reference. This thorough documentation is invaluable for both team collaboration and project continuity."
      ],
      "metadata": {
        "id": "JmeTvY09oe_w"
      }
    },
    {
      "cell_type": "code",
      "source": [],
      "metadata": {
        "id": "YbN73aXIofa3"
      },
      "execution_count": null,
      "outputs": []
    },
    {
      "cell_type": "code",
      "source": [],
      "metadata": {
        "id": "qF_jUHgjp_eP"
      },
      "execution_count": null,
      "outputs": []
    },
    {
      "cell_type": "code",
      "source": [],
      "metadata": {
        "id": "27_HpxI4p_te"
      },
      "execution_count": null,
      "outputs": []
    },
    {
      "cell_type": "markdown",
      "source": [
        "### **<span style=\"color:#FF6347;\">Importing Libraries</span>**\n",
        "\n",
        "**<span style=\"color:#FFD700;\">Notes:</span>**\n",
        "\n",
        "1. **<span style=\"color:#00BFFF;\">pandas</span>**:\n",
        "   - **Purpose**: Provides data structures and data analysis tools. Essential for handling and analyzing data in DataFrame format.\n",
        "   - **Common Functions**: `pd.read_csv()`, `pd.DataFrame()`, `df.head()`, `df.describe()`.\n",
        "   - **Usage**: Used for reading data from files, manipulating data (e.g., handling missing values, merging datasets), and performing statistical operations.\n",
        "\n",
        "2. **<span style=\"color:#00BFFF;\">numpy</span>**:\n",
        "   - **Purpose**: Supports numerical operations with arrays and matrices. Offers mathematical functions to operate on these arrays.\n",
        "   - **Common Functions**: `np.array()`, `np.mean()`, `np.log1p()`.\n",
        "   - **Usage**: Essential for performing mathematical operations and handling numerical data efficiently.\n",
        "\n",
        "3. **<span style=\"color:#00BFFF;\">matplotlib</span>**:\n",
        "   - **Purpose**: A fundamental library for creating static, animated, and interactive visualizations in Python.\n",
        "   - **Common Functions**: `plt.hist()`, `plt.figure()`, `plt.show()`.\n",
        "   - **Usage**: Used for plotting histograms, line charts, and other static visualizations to analyze data distributions and trends.\n",
        "\n",
        "4. **<span style=\"color:#00BFFF;\">seaborn</span>**:\n",
        "   - **Purpose**: Built on top of matplotlib, it provides a high-level interface for drawing attractive and informative statistical graphics.\n",
        "   - **Common Functions**: `sns.heatmap()`, `sns.histplot()`, `sns.barplot()`.\n",
        "   - **Usage**: Used for enhanced visualizations such as heatmaps and complex statistical plots, making it easier to visualize relationships and distributions."
      ],
      "metadata": {
        "id": "73QwWvREpxlt"
      }
    },
    {
      "cell_type": "code",
      "source": [
        "# 1. Import Necessary Libraries\n",
        "# We import the libraries needed for our analysis"
      ],
      "metadata": {
        "id": "cEplNynCI1v6"
      },
      "execution_count": null,
      "outputs": []
    },
    {
      "cell_type": "code",
      "execution_count": null,
      "metadata": {
        "id": "V41j6_LVUNgB"
      },
      "outputs": [],
      "source": [
        "import pandas as pd  # pandas for data manipulation and analysis"
      ]
    },
    {
      "cell_type": "code",
      "source": [
        "import numpy as np  # numpy for numerical computing"
      ],
      "metadata": {
        "id": "63XRQGdZI7fO"
      },
      "execution_count": null,
      "outputs": []
    },
    {
      "cell_type": "code",
      "source": [
        "import matplotlib.pyplot as plt  # matplotlib for data visualization"
      ],
      "metadata": {
        "id": "YsCpQLlYI7hz"
      },
      "execution_count": null,
      "outputs": []
    },
    {
      "cell_type": "code",
      "source": [
        "import seaborn as sns  # seaborn for enhanced data visualization"
      ],
      "metadata": {
        "id": "nV8_gaUEI7k7"
      },
      "execution_count": null,
      "outputs": []
    },
    {
      "cell_type": "code",
      "source": [],
      "metadata": {
        "id": "3s6coqi5WVWI"
      },
      "execution_count": null,
      "outputs": []
    },
    {
      "cell_type": "code",
      "source": [],
      "metadata": {
        "id": "MlYmsU5EsfaX"
      },
      "execution_count": null,
      "outputs": []
    },
    {
      "cell_type": "code",
      "source": [],
      "metadata": {
        "id": "bkud5OoasfeG"
      },
      "execution_count": null,
      "outputs": []
    },
    {
      "cell_type": "markdown",
      "source": [
        "### **<span style=\"color:#FF6347;\">Load the Data</span>**\n",
        "\n",
        "**<span style=\"color:#FFD700;\">Notes:</span>**\n",
        "\n",
        "1. **Purpose**:\n",
        "   - **Loading Data**: This step involves reading the dataset from a file (CSV in this case) into a pandas DataFrame. The DataFrame is a powerful data structure provided by pandas that allows for easy manipulation and analysis of tabular data.\n",
        "\n",
        "2. **Functions Used**:\n",
        "   - **`pd.read_csv()`**:\n",
        "     - **Purpose**: Reads a CSV file and converts it into a pandas DataFrame.\n",
        "     - **Parameters**:\n",
        "       - **`filepath`**: Path to the CSV file to be read.\n",
        "       - **`sep`**: Delimiter used in the file (default is comma for CSV).\n",
        "       - **`header`**: Row to use as column names (default is the first row).\n",
        "       - **`index_col`**: Column to set as the index of the DataFrame (if any).\n",
        "     - **Example**: `df = pd.read_csv('/content/websites_test_sessions.csv')`\n",
        "\n",
        "3. **Usage**:\n",
        "   - **Loading**: The data is loaded into a DataFrame which allows for subsequent inspection, cleaning, and analysis. It’s important to ensure that the file path is correct and that the file is accessible.\n",
        "\n",
        "4. **Considerations**:\n",
        "   - **File Path**: Ensure the file path is correctly specified. If the file is in the same directory as the script, only the file name is needed. Otherwise, provide the full path.\n",
        "   - **Data Format**: Verify that the data is in the expected format (e.g., columns, data types) to avoid issues during loading and analysis.\n",
        "\n",
        "---"
      ],
      "metadata": {
        "id": "vSTABOgmsfwy"
      }
    },
    {
      "cell_type": "code",
      "source": [
        "# 2. Load the Data\n",
        "# We load the dataset containing information about website test sessions from a CSV file into a pandas DataFrame."
      ],
      "metadata": {
        "id": "CSMVtIVRJGZW"
      },
      "execution_count": null,
      "outputs": []
    },
    {
      "cell_type": "code",
      "source": [
        "df = pd.read_csv('/content/websites_test_sessions.csv')"
      ],
      "metadata": {
        "id": "r-IXvFzIWVhu"
      },
      "execution_count": null,
      "outputs": []
    },
    {
      "cell_type": "code",
      "source": [],
      "metadata": {
        "id": "lhLj9o_KWVkW"
      },
      "execution_count": null,
      "outputs": []
    },
    {
      "cell_type": "code",
      "source": [],
      "metadata": {
        "id": "mVATPol1skJe"
      },
      "execution_count": null,
      "outputs": []
    },
    {
      "cell_type": "code",
      "source": [],
      "metadata": {
        "id": "YtdOVkR3skNf"
      },
      "execution_count": null,
      "outputs": []
    },
    {
      "cell_type": "markdown",
      "source": [
        "### **<span style=\"color:#FF6347;\">Inspect the Data</span>**\n",
        "\n",
        "**<span style=\"color:#FFD700;\">Notes:</span>**\n",
        "\n",
        "1. **Purpose**:\n",
        "   - **Inspecting Data**: This step involves examining the first few rows of the DataFrame, understanding its structure, and obtaining descriptive statistics. This helps in getting an initial understanding of the dataset's contents, data types, and any immediate data quality issues.\n",
        "\n",
        "2. **Functions Used**:\n",
        "   - **`df.head()`**:\n",
        "     - **Purpose**: Displays the first few rows of the DataFrame. This is useful for quickly verifying that the data has been loaded correctly and understanding its structure.\n",
        "     - **Parameters**:\n",
        "       - **`n`**: Number of rows to display (default is 5).\n",
        "     - **Example**: `print(df.head())`\n",
        "\n",
        "   - **`df.info()`**:\n",
        "     - **Purpose**: Provides a concise summary of the DataFrame, including the number of non-null entries, data types, and memory usage.\n",
        "     - **Parameters**: None.\n",
        "     - **Example**: `print(df.info())`\n",
        "\n",
        "   - **`df.describe()`**:\n",
        "     - **Purpose**: Generates descriptive statistics for numerical columns, including count, mean, standard deviation, min, max, and percentiles.\n",
        "     - **Parameters**:\n",
        "       - **`include`**: Specify data types to include (e.g., `include='all'` for all columns, including categorical).\n",
        "     - **Example**: `print(df.describe())`\n",
        "\n",
        "3. **Usage**:\n",
        "   - **Initial Exploration**: Helps in understanding the basic characteristics of the dataset such as the range of values, presence of nulls, and data types. This is crucial for deciding the next steps in data cleaning and preprocessing.\n",
        "   - **Data Types**: Check if data types are appropriate for the columns. For example, numerical columns should be of numeric types, and categorical columns should be of object type.\n",
        "\n",
        "4. **Considerations**:\n",
        "   - **Data Quality**: Look for anomalies such as incorrect data types, missing values, or unexpected values.\n",
        "   - **Descriptive Statistics**: Helps in identifying potential outliers or trends that may require further investigation or"
      ],
      "metadata": {
        "id": "lh7qDFJiskpf"
      }
    },
    {
      "cell_type": "code",
      "source": [
        "# 3. Inspect the Data\n",
        "# We display the first few rows, information about the dataset, and descriptive statistics of the numerical columns."
      ],
      "metadata": {
        "id": "32Nfs7EDXgHq"
      },
      "execution_count": null,
      "outputs": []
    },
    {
      "cell_type": "code",
      "source": [
        "print(df.head())  # Display the first few rows of the dataset"
      ],
      "metadata": {
        "colab": {
          "base_uri": "https://localhost:8080/"
        },
        "id": "FTbbpcB7JSOn",
        "outputId": "391fec88-cdfd-4ec6-af3c-2789bfbc6b77"
      },
      "execution_count": null,
      "outputs": [
        {
          "output_type": "stream",
          "name": "stdout",
          "text": [
            "   session_id  site1                time1   site2                time2  site3  \\\n",
            "0           1     29  2014-10-04 11:19:53    35.0  2014-10-04 11:19:53   22.0   \n",
            "1           2    782  2014-07-03 11:00:28   782.0  2014-07-03 11:00:53  782.0   \n",
            "2           3     55  2014-12-05 15:55:12    55.0  2014-12-05 15:55:13   55.0   \n",
            "3           4   1023  2014-11-04 10:03:19  1022.0  2014-11-04 10:03:19   50.0   \n",
            "4           5    301  2014-05-16 15:05:31   301.0  2014-05-16 15:05:32  301.0   \n",
            "\n",
            "                 time3  site4                time4  site5  ...   site6  \\\n",
            "0  2014-10-04 11:19:54  321.0  2014-10-04 11:19:54   23.0  ...  2211.0   \n",
            "1  2014-07-03 11:00:58  782.0  2014-07-03 11:01:06  782.0  ...   782.0   \n",
            "2  2014-12-05 15:55:14   55.0  2014-12-05 15:56:15   55.0  ...    55.0   \n",
            "3  2014-11-04 10:03:20  222.0  2014-11-04 10:03:21  202.0  ...  3374.0   \n",
            "4  2014-05-16 15:05:33   66.0  2014-05-16 15:05:39   67.0  ...    69.0   \n",
            "\n",
            "                 time6   site7                time7  site8  \\\n",
            "0  2014-10-04 11:19:54  6730.0  2014-10-04 11:19:54   21.0   \n",
            "1  2014-07-03 11:01:10   782.0  2014-07-03 11:01:23  782.0   \n",
            "2  2014-12-05 15:56:17    55.0  2014-12-05 15:56:18   55.0   \n",
            "3  2014-11-04 10:03:22    50.0  2014-11-04 10:03:22   48.0   \n",
            "4  2014-05-16 15:05:40    70.0  2014-05-16 15:05:40   68.0   \n",
            "\n",
            "                 time8    site9                time9   site10  \\\n",
            "0  2014-10-04 11:19:54  44582.0  2014-10-04 11:20:00  15336.0   \n",
            "1  2014-07-03 11:01:29    782.0  2014-07-03 11:01:30    782.0   \n",
            "2  2014-12-05 15:56:19   1445.0  2014-12-05 15:56:33   1445.0   \n",
            "3  2014-11-04 10:03:22     48.0  2014-11-04 10:03:23   3374.0   \n",
            "4  2014-05-16 15:05:40     71.0  2014-05-16 15:05:40    167.0   \n",
            "\n",
            "                time10  \n",
            "0  2014-10-04 11:20:00  \n",
            "1  2014-07-03 11:01:53  \n",
            "2  2014-12-05 15:56:36  \n",
            "3  2014-11-04 10:03:23  \n",
            "4  2014-05-16 15:05:44  \n",
            "\n",
            "[5 rows x 21 columns]\n"
          ]
        }
      ]
    },
    {
      "cell_type": "code",
      "source": [],
      "metadata": {
        "id": "aN_QiI4-JV9d"
      },
      "execution_count": null,
      "outputs": []
    },
    {
      "cell_type": "code",
      "source": [
        "print(df.info())  # Display information about the dataset (e.g., data types, number of entries)"
      ],
      "metadata": {
        "colab": {
          "base_uri": "https://localhost:8080/"
        },
        "id": "HoCsHS4ZXgKW",
        "outputId": "71527caf-4e11-4def-fe7d-098b41b526f9"
      },
      "execution_count": null,
      "outputs": [
        {
          "output_type": "stream",
          "name": "stdout",
          "text": [
            "<class 'pandas.core.frame.DataFrame'>\n",
            "RangeIndex: 82797 entries, 0 to 82796\n",
            "Data columns (total 21 columns):\n",
            " #   Column      Non-Null Count  Dtype  \n",
            "---  ------      --------------  -----  \n",
            " 0   session_id  82797 non-null  int64  \n",
            " 1   site1       82797 non-null  int64  \n",
            " 2   time1       82797 non-null  object \n",
            " 3   site2       81308 non-null  float64\n",
            " 4   time2       81308 non-null  object \n",
            " 5   site3       80075 non-null  float64\n",
            " 6   time3       80075 non-null  object \n",
            " 7   site4       79182 non-null  float64\n",
            " 8   time4       79182 non-null  object \n",
            " 9   site5       78341 non-null  float64\n",
            " 10  time5       78341 non-null  object \n",
            " 11  site6       77566 non-null  float64\n",
            " 12  time6       77566 non-null  object \n",
            " 13  site7       76840 non-null  float64\n",
            " 14  time7       76840 non-null  object \n",
            " 15  site8       76151 non-null  float64\n",
            " 16  time8       76151 non-null  object \n",
            " 17  site9       75484 non-null  float64\n",
            " 18  time9       75484 non-null  object \n",
            " 19  site10      74806 non-null  float64\n",
            " 20  time10      74806 non-null  object \n",
            "dtypes: float64(9), int64(2), object(10)\n",
            "memory usage: 13.3+ MB\n",
            "None\n"
          ]
        }
      ]
    },
    {
      "cell_type": "code",
      "source": [],
      "metadata": {
        "id": "zffQIN-RJbGj"
      },
      "execution_count": null,
      "outputs": []
    },
    {
      "cell_type": "code",
      "source": [
        "print(df.describe())  # Display descriptive statistics of numerical columns (e.g., count, mean, min, max)"
      ],
      "metadata": {
        "colab": {
          "base_uri": "https://localhost:8080/"
        },
        "id": "pp1w6g-RXgM0",
        "outputId": "ee755005-2cfa-4496-aa6f-0bb467eb9a66"
      },
      "execution_count": null,
      "outputs": [
        {
          "output_type": "stream",
          "name": "stdout",
          "text": [
            "         session_id         site1         site2         site3         site4  \\\n",
            "count  82797.000000  82797.000000  81308.000000  80075.000000  79182.000000   \n",
            "mean   41399.000000   4171.849222   4147.442367   4184.994168   4252.491930   \n",
            "std    23901.579456   9889.731240   9880.269377   9989.521163  10074.595053   \n",
            "min        1.000000      1.000000      1.000000      1.000000      1.000000   \n",
            "25%    20700.000000     65.000000     63.000000     58.000000     56.000000   \n",
            "50%    41399.000000    722.000000    679.000000    679.000000    679.000000   \n",
            "75%    62098.000000   1515.000000   1445.000000   1445.000000   1445.000000   \n",
            "max    82797.000000  48370.000000  48370.000000  48370.000000  48371.000000   \n",
            "\n",
            "              site5         site6         site7         site8        site9  \\\n",
            "count  78341.000000  77566.000000  76840.000000  76151.000000  75484.00000   \n",
            "mean    4204.713688   4206.955032   4272.329230   4250.169624   4365.81975   \n",
            "std     9968.228603   9988.481243  10082.180876  10024.760129  10198.51818   \n",
            "min        1.000000      1.000000      1.000000      1.000000      1.00000   \n",
            "25%       63.000000     57.000000     65.000000     65.000000     70.00000   \n",
            "50%      719.000000    707.000000    733.000000    733.000000    747.00000   \n",
            "75%     1445.000000   1445.000000   1477.000000   1508.000000   1523.00000   \n",
            "max    48370.000000  48370.000000  48370.000000  48370.000000  48370.00000   \n",
            "\n",
            "             site10  \n",
            "count  74806.000000  \n",
            "mean    4370.203152  \n",
            "std    10189.244294  \n",
            "min        1.000000  \n",
            "25%       70.000000  \n",
            "50%      747.000000  \n",
            "75%     1589.000000  \n",
            "max    48370.000000  \n"
          ]
        }
      ]
    },
    {
      "cell_type": "code",
      "source": [],
      "metadata": {
        "id": "Upp3x-PZJhZu"
      },
      "execution_count": null,
      "outputs": []
    },
    {
      "cell_type": "code",
      "source": [],
      "metadata": {
        "id": "icXphKaMvIdV"
      },
      "execution_count": null,
      "outputs": []
    },
    {
      "cell_type": "code",
      "source": [],
      "metadata": {
        "id": "Qkg4gKSDvIh8"
      },
      "execution_count": null,
      "outputs": []
    },
    {
      "cell_type": "markdown",
      "source": [
        "### **<span style=\"color:#FF6347;\">Check for Missing Values</span>**\n",
        "\n",
        "**<span style=\"color:#FFD700;\">Notes:</span>**\n",
        "\n",
        "1. **Purpose**:\n",
        "   - **Identify Missing Data**: This step involves checking the dataset for missing values to ensure data quality and completeness. Missing values can impact the accuracy and reliability of subsequent analyses and models.\n",
        "\n",
        "2. **Functions Used**:\n",
        "   - **`df.isnull().sum()`**:\n",
        "     - **Purpose**: Computes the number of missing values in each column. `isnull()` returns a DataFrame of the same shape with `True` for missing values and `False` otherwise. `sum()` then counts the `True` values (i.e., missing values) per column.\n",
        "     - **Parameters**: None.\n",
        "     - **Example**: `print(df.isnull().sum())`\n",
        "\n",
        "3. **Usage**:\n",
        "   - **Detect Missing Values**: Helps in identifying columns with missing values and the extent of the missing data. This is crucial for deciding how to handle these missing values in the data cleaning process.\n",
        "   - **Summary Statistics**: Provides a quick overview of missing data, which can guide the choice of imputation or cleaning strategies.\n",
        "\n",
        "4. **Considerations**:\n",
        "   - **Extent of Missing Data**: Assess the proportion of missing values in each column. If a significant portion of a column is missing, it might influence how you handle that column (e.g., imputation vs. removal).\n",
        "   - **Handling Missing Data**: Based on the extent and nature of the missing values, decide on the appropriate strategy for handling them, such as filling with mean/median, forward/backward filling, or dropping the column/row.\n",
        "\n",
        "---"
      ],
      "metadata": {
        "id": "KL9D_XM7vI1F"
      }
    },
    {
      "cell_type": "code",
      "source": [
        "\n",
        "# 4. Check for Missing Values\n",
        "# We check for missing values in each column of the dataset and print the number of missing values for each column."
      ],
      "metadata": {
        "id": "vLv3OtW4XgPj"
      },
      "execution_count": null,
      "outputs": []
    },
    {
      "cell_type": "code",
      "source": [
        "print(df.isnull().sum())  # Print the number of missing values in each column"
      ],
      "metadata": {
        "colab": {
          "base_uri": "https://localhost:8080/"
        },
        "id": "mikokILxJlul",
        "outputId": "6d0e7689-6581-4dc2-aede-faf712ab6725"
      },
      "execution_count": null,
      "outputs": [
        {
          "output_type": "stream",
          "name": "stdout",
          "text": [
            "session_id       0\n",
            "site1            0\n",
            "time1            0\n",
            "site2         1489\n",
            "time2         1489\n",
            "site3         2722\n",
            "time3         2722\n",
            "site4         3615\n",
            "time4         3615\n",
            "site5         4456\n",
            "time5         4456\n",
            "site6         5231\n",
            "time6         5231\n",
            "site7         5957\n",
            "time7         5957\n",
            "site8         6646\n",
            "time8         6646\n",
            "site9         7313\n",
            "time9         7313\n",
            "site10        7991\n",
            "time10        7991\n",
            "dtype: int64\n"
          ]
        }
      ]
    },
    {
      "cell_type": "code",
      "source": [],
      "metadata": {
        "id": "anUXStARXgSc"
      },
      "execution_count": null,
      "outputs": []
    },
    {
      "cell_type": "code",
      "source": [],
      "metadata": {
        "id": "sRAeSpBLvL58"
      },
      "execution_count": null,
      "outputs": []
    },
    {
      "cell_type": "code",
      "source": [],
      "metadata": {
        "id": "IdqF1QyqvL-O"
      },
      "execution_count": null,
      "outputs": []
    },
    {
      "cell_type": "markdown",
      "source": [
        "### **<span style=\"color:#FF6347;\">Handle Missing Values</span>**\n",
        "\n",
        "**<span style=\"color:#FFD700;\">Notes:</span>**\n",
        "\n",
        "1. **Purpose**:\n",
        "   - **Address Missing Data**: This step involves filling or otherwise handling missing values identified in the dataset. Proper handling of missing data is essential for ensuring the accuracy and completeness of the analysis and modeling processes.\n",
        "\n",
        "2. **Methods Used**:\n",
        "   - **Filling Missing Values**:\n",
        "     - **`df.fillna(df.mean(numeric_only=True), inplace=True)`**:\n",
        "       - **Purpose**: Replaces missing values in numerical columns with the mean of the respective column. This method is useful when the amount of missing data is relatively small and can be reasonably estimated by the mean.\n",
        "       - **Parameters**:\n",
        "         - **`value`**: Specifies the value to replace missing entries. In this case, the mean of each numerical column.\n",
        "         - **`inplace`**: If `True`, modifies the DataFrame in place. If `False`, returns a new DataFrame with the missing values filled.\n",
        "       - **Example**: `df.fillna(df.mean(numeric_only=True), inplace=True)`\n",
        "\n",
        "3. **Usage**:\n",
        "   - **Imputation Strategy**: Fills missing values with the mean, ensuring that the dataset does not have null entries that could hinder further analysis. This is a simple and effective method, especially for datasets where missing values are sporadic.\n",
        "   - **Handling Non-Numeric Data**: If there are categorical columns with missing values, different imputation methods might be needed (e.g., mode, forward/backward fill).\n",
        "\n",
        "4. **Considerations**:\n",
        "   - **Impact on Data Distribution**: Imputing with the mean can affect the distribution of the data, particularly if there is a significant amount of missing data. Evaluate the impact of imputation on the dataset's overall characteristics.\n",
        "   - **Alternative Methods**: Consider other imputation techniques if mean imputation is not appropriate. For instance, median imputation might be better for skewed distributions, or using more sophisticated methods like KNN imputation.\n",
        "\n",
        "---"
      ],
      "metadata": {
        "id": "QyLL-F01vMT9"
      }
    },
    {
      "cell_type": "code",
      "source": [
        "# 5. Handle Missing Values (Fill with mean for numerical columns)\n",
        "# We fill missing values in numerical columns with the mean of each column."
      ],
      "metadata": {
        "id": "lXgp3Qm-XgU2"
      },
      "execution_count": null,
      "outputs": []
    },
    {
      "cell_type": "code",
      "source": [
        "df.fillna(df.mean(numeric_only=True), inplace=True)  # Fill missing values with the mean of each numerical column"
      ],
      "metadata": {
        "id": "shaYYI8OJuCl"
      },
      "execution_count": null,
      "outputs": []
    },
    {
      "cell_type": "code",
      "source": [],
      "metadata": {
        "id": "HNP_LpSRXgXh"
      },
      "execution_count": null,
      "outputs": []
    },
    {
      "cell_type": "code",
      "source": [],
      "metadata": {
        "id": "xGD_xMJKvVf-"
      },
      "execution_count": null,
      "outputs": []
    },
    {
      "cell_type": "code",
      "source": [],
      "metadata": {
        "id": "AHYW_3PKvVm9"
      },
      "execution_count": null,
      "outputs": []
    },
    {
      "cell_type": "markdown",
      "source": [
        "### **<span style=\"color:#FF6347;\">Check and Remove Duplicate Values</span>**\n",
        "\n",
        "**<span style=\"color:#FFD700;\">Notes:</span>**\n",
        "\n",
        "1. **Purpose**:\n",
        "   - **Ensure Data Integrity**: Identifying and removing duplicate rows is essential to avoid redundancy and ensure the accuracy of the analysis.\n",
        "\n",
        "2. **Functions Used**:\n",
        "   - **`df.duplicated().sum()`**:\n",
        "     - **Purpose**: Checks for duplicate rows in the DataFrame and counts the number of duplicate entries. `duplicated()` returns a Boolean Series indicating duplicate rows, and `sum()` counts the `True` values (duplicates).\n",
        "     - **Parameters**: None.\n",
        "     - **Example**: `print(df.duplicated().sum())`\n",
        "   - **`df.drop_duplicates(inplace=True)`**:\n",
        "     - **Purpose**: Removes duplicate rows from the DataFrame. `drop_duplicates()` eliminates duplicate entries based on all columns or a subset of columns.\n",
        "     - **Parameters**:\n",
        "       - **`inplace`**: If `True`, modifies the DataFrame in place. If `False`, returns a new DataFrame with duplicates removed.\n",
        "     - **Example**: `df.drop_duplicates(inplace=True)`\n",
        "\n",
        "3. **Usage**:\n",
        "   - **Detect and Remove Duplicates**: Ensures that the dataset is clean and free of duplicate entries that could skew the analysis or modeling results.\n",
        "\n",
        "4. **Considerations**:\n",
        "   - **Criteria for Duplicates**: Determine the criteria for identifying duplicates (e.g., all columns vs. a subset). Ensure that the duplicates are genuinely redundant and should be removed.\n",
        "\n",
        "---"
      ],
      "metadata": {
        "id": "mVHh2o1TvV3O"
      }
    },
    {
      "cell_type": "code",
      "source": [
        "# 6. Check for Duplicate Values\n",
        "# We ensure that there are no duplicate rows in our dataset"
      ],
      "metadata": {
        "id": "3RTLJseQWVmf"
      },
      "execution_count": null,
      "outputs": []
    },
    {
      "cell_type": "code",
      "source": [
        "print(df.duplicated().sum())  # This tells us how many duplicate rows we have"
      ],
      "metadata": {
        "colab": {
          "base_uri": "https://localhost:8080/"
        },
        "id": "vowU0Ub8Ktog",
        "outputId": "0bb13924-b40c-4132-c287-e19562752224"
      },
      "execution_count": null,
      "outputs": [
        {
          "output_type": "stream",
          "name": "stdout",
          "text": [
            "0\n"
          ]
        }
      ]
    },
    {
      "cell_type": "code",
      "source": [],
      "metadata": {
        "id": "O1Wfj1CDKw-c"
      },
      "execution_count": null,
      "outputs": []
    },
    {
      "cell_type": "code",
      "source": [],
      "metadata": {
        "id": "pKM0DDQAvUMm"
      },
      "execution_count": null,
      "outputs": []
    },
    {
      "cell_type": "code",
      "source": [
        "# 7. Remove Duplicate Values\n",
        "# We remove any duplicate rows from our dataset to maintain data integrity"
      ],
      "metadata": {
        "id": "LaH-hTt5ZkFB"
      },
      "execution_count": null,
      "outputs": []
    },
    {
      "cell_type": "code",
      "source": [
        "df.drop_duplicates(inplace=True)  # Remove duplicate rows from the dataset"
      ],
      "metadata": {
        "id": "BDhJLeLTZkH1"
      },
      "execution_count": null,
      "outputs": []
    },
    {
      "cell_type": "code",
      "source": [],
      "metadata": {
        "id": "nYa719s3ZkKi"
      },
      "execution_count": null,
      "outputs": []
    },
    {
      "cell_type": "code",
      "source": [],
      "metadata": {
        "id": "3UqqcucpveV-"
      },
      "execution_count": null,
      "outputs": []
    },
    {
      "cell_type": "code",
      "source": [],
      "metadata": {
        "id": "ECJ9AMK5veb_"
      },
      "execution_count": null,
      "outputs": []
    },
    {
      "cell_type": "markdown",
      "source": [
        "### **<span style=\"color:#FF6347;\">Check Data Distribution</span>**\n",
        "\n",
        "**<span style=\"color:#FFD700;\">Notes:</span>**\n",
        "\n",
        "1. **Purpose**:\n",
        "   - **Understand Data Characteristics**: This step helps visualize the distribution of numerical data, providing insights into the data's spread, central tendency, and potential skewness.\n",
        "\n",
        "2. **Functions Used**:\n",
        "   - **Visualize Distribution**:\n",
        "     - **`df.hist(bins=30, figsize=(20,15), density=True)`**:\n",
        "       - **Purpose**: Plots histograms for each numerical column in the dataset, showing the frequency distribution of values. `bins` defines the number of bins, and `density=True` normalizes the histogram.\n",
        "       - **Parameters**:\n",
        "         - **`bins`**: Number of bins in the histogram.\n",
        "         - **`figsize`**: Size of the figure.\n",
        "         - **`density`**: If `True`, plots the normalized histogram.\n",
        "       - **Example**: `df.hist(bins=30, figsize=(20,15), density=True)`\n",
        "   - **Display Histograms**:\n",
        "     - **`plt.show()`**:\n",
        "       - **Purpose**: Displays the histograms created by the `hist()` function.\n",
        "       - **Example**: `plt.show()`\n",
        "\n",
        "3. **Usage**:\n",
        "   - **Data Exploration**: Provides a graphical representation of data distributions, helping to identify patterns, outliers, and the overall shape of the data.\n",
        "\n",
        "4. **Considerations**:\n",
        "   - **Histogram Configuration**: Adjust bin size and figure size based on the data to ensure clear visualization.\n",
        "\n",
        "---"
      ],
      "metadata": {
        "id": "h4L1Ruusve5W"
      }
    },
    {
      "cell_type": "code",
      "source": [
        "\n",
        "# 9. Check Data Distribution\n",
        "# We visualize the distribution of numerical data in our dataset"
      ],
      "metadata": {
        "id": "2Cfc9i_BZkTn"
      },
      "execution_count": null,
      "outputs": []
    },
    {
      "cell_type": "code",
      "source": [
        "df.hist(bins=30, figsize=(20,15), density=True)  # Plot histograms for each numerical column\n",
        "plt.show()  # Display the histograms"
      ],
      "metadata": {
        "colab": {
          "base_uri": "https://localhost:8080/",
          "height": 831
        },
        "id": "3D3hbtemK-NG",
        "outputId": "bcfd9d21-3f69-46f8-b666-210e101c4b76"
      },
      "execution_count": null,
      "outputs": [
        {
          "output_type": "display_data",
          "data": {
            "text/plain": [
              "<Figure size 2000x1500 with 12 Axes>"
            ],
            "image/png": "[encoded data removed]"
          },
          "metadata": {}
        }
      ]
    },
    {
      "cell_type": "code",
      "source": [],
      "metadata": {
        "id": "nxfTzFDFZsSE"
      },
      "execution_count": null,
      "outputs": []
    },
    {
      "cell_type": "code",
      "source": [],
      "metadata": {
        "id": "T5omZi56vxZ0"
      },
      "execution_count": null,
      "outputs": []
    },
    {
      "cell_type": "code",
      "source": [],
      "metadata": {
        "id": "bN3b19vCvxc_"
      },
      "execution_count": null,
      "outputs": []
    },
    {
      "cell_type": "markdown",
      "source": [
        "### **<span style=\"color:#FF6347;\">Check Correlations</span>**\n",
        "\n",
        "**<span style=\"color:#FFD700;\">Notes:</span>**\n",
        "\n",
        "1. **Purpose**:\n",
        "   - **Understand Relationships**: This step aims to visualize and understand the relationships between numerical variables in the dataset. Correlation matrices can help identify strong relationships and potential multicollinearity.\n",
        "\n",
        "2. **Functions Used**:\n",
        "   - **Visualize Correlations**:\n",
        "     - **`sns.heatmap(df.corr(), annot=True)`**:\n",
        "       - **Purpose**: Plots a heatmap of the correlation matrix to visualize the correlation between numerical variables. `annot=True` adds correlation coefficients to the heatmap.\n",
        "       - **Parameters**:\n",
        "         - **`data`**: DataFrame containing correlation data.\n",
        "         - **`annot`**: If `True`, displays the correlation coefficients on the heatmap.\n",
        "       - **Example**: `sns.heatmap(df.corr(), annot=True)`\n",
        "   - **Display Heatmap**:\n",
        "     - **`plt.show()`**:\n",
        "       - **Purpose**: Displays the heatmap created by the `heatmap()` function.\n",
        "       - **Example**: `plt.show()`\n",
        "\n",
        "3. **Usage**:\n",
        "   - **Relationship Analysis**: Helps identify relationships between variables, which can be useful for feature selection and understanding how variables interact.\n",
        "\n",
        "4. **Considerations**:\n",
        "   - **Correlation Strength**: Consider the strength and direction of correlations when interpreting results. Correlation does not imply causation.\n",
        "\n",
        "---"
      ],
      "metadata": {
        "id": "IEF5kk7Jvxr_"
      }
    },
    {
      "cell_type": "code",
      "source": [
        "\n",
        "# 10. Check Correlations (Correlation matrix)\n",
        "# We visualize the correlation between numerical variables in our dataset"
      ],
      "metadata": {
        "id": "N94JNCQ_Ztvn"
      },
      "execution_count": null,
      "outputs": []
    },
    {
      "cell_type": "code",
      "source": [
        "sns.heatmap(df.corr(), annot=True)  # Plot a heatmap to visualize correlations\n",
        "plt.show()  # Display the heatmap"
      ],
      "metadata": {
        "id": "TJUiTyu3Ztyd",
        "colab": {
          "base_uri": "https://localhost:8080/",
          "height": 549
        },
        "outputId": "ef26be8e-0442-435a-c4da-8b9047670713"
      },
      "execution_count": null,
      "outputs": [
        {
          "output_type": "stream",
          "name": "stderr",
          "text": [
            "<ipython-input-106-8a58a482ea7a>:1: FutureWarning: The default value of numeric_only in DataFrame.corr is deprecated. In a future version, it will default to False. Select only valid columns or specify the value of numeric_only to silence this warning.\n",
            "  sns.heatmap(df.corr(), annot=True)  # Plot a heatmap to visualize correlations\n"
          ]
        },
        {
          "output_type": "display_data",
          "data": {
            "text/plain": [
              "<Figure size 640x480 with 2 Axes>"
            ],
            "image/png": "[encoded data removed]"
          },
          "metadata": {}
        }
      ]
    },
    {
      "cell_type": "code",
      "source": [],
      "metadata": {
        "id": "TOUHzEG-LJdP"
      },
      "execution_count": null,
      "outputs": []
    },
    {
      "cell_type": "code",
      "source": [],
      "metadata": {
        "id": "2zI6eu9_LJ5i"
      },
      "execution_count": null,
      "outputs": []
    },
    {
      "cell_type": "code",
      "source": [],
      "metadata": {
        "id": "dmLciC-kv3hZ"
      },
      "execution_count": null,
      "outputs": []
    },
    {
      "cell_type": "markdown",
      "source": [
        "### **<span style=\"color:#FF6347;\">Handle Categorical Variables</span>**\n",
        "\n",
        "**<span style=\"color:#FFD700;\">Notes:</span>**\n",
        "\n",
        "1. **Purpose**:\n",
        "   - **Convert Categorical Data**: This step involves encoding categorical variables into numerical format so that they can be used in machine learning algorithms. Categorical variables need to be transformed into a format that models can understand.\n",
        "\n",
        "2. **Methods Used**:\n",
        "   - **One-Hot Encoding**:\n",
        "     - **`pd.get_dummies()`**:\n",
        "       - **Purpose**: Converts categorical variables into dummy/indicator variables. Each category is represented as a separate binary column.\n",
        "       - **Parameters**:\n",
        "         - **`data`**: DataFrame containing categorical columns to encode.\n",
        "       - **Example**: `pd.get_dummies(df['categorical_column'])`\n",
        "\n",
        "3. **Usage**:\n",
        "   - **Data Preparation**: Prepares categorical data for machine learning models by converting it into a suitable format.\n",
        "\n",
        "4. **Considerations**:\n",
        "   - **Feature Expansion**: One-hot encoding can lead to a large number of features if there are many categories, which might increase computational complexity.\n",
        "\n",
        "---"
      ],
      "metadata": {
        "id": "7W9WK9Gwv3qv"
      }
    },
    {
      "cell_type": "code",
      "source": [
        "# 11. Handle Categorical Variables (if applicable)\n",
        "# Assuming there are categorical variables to encode, use pd.get_dummies() or other encoding techniques\n",
        "# Example of using pd.get_dummies() for one-hot encoding"
      ],
      "metadata": {
        "id": "wxri5trKZt1P"
      },
      "execution_count": null,
      "outputs": []
    },
    {
      "cell_type": "code",
      "source": [],
      "metadata": {
        "id": "HIdnGN1UQPUp"
      },
      "execution_count": null,
      "outputs": []
    },
    {
      "cell_type": "code",
      "source": [],
      "metadata": {
        "id": "JNQWdLsELg1O"
      },
      "execution_count": null,
      "outputs": []
    },
    {
      "cell_type": "code",
      "source": [],
      "metadata": {
        "id": "BWZWzY3Cv8CJ"
      },
      "execution_count": null,
      "outputs": []
    },
    {
      "cell_type": "markdown",
      "source": [
        "### **<span style=\"color:#FF6347;\">Outlier Detection</span>**\n",
        "\n",
        "**<span style=\"color:#FFD700;\">Notes:</span>**\n",
        "\n",
        "1. **Purpose**:\n",
        "   - **Identify Outliers**: This step involves detecting and potentially removing outliers from the dataset. Outliers can significantly impact the results of statistical analyses and machine learning models.\n",
        "\n",
        "2. **Methods Used**:\n",
        "   - **Interquartile Range (IQR) Method**:\n",
        "     - **Calculate IQR**:\n",
        "       - **`Q1 = df.quantile(0.25, numeric_only=True)`**: Computes the first quartile.\n",
        "       - **`Q3 = df.quantile(0.75, numeric_only=True)`**: Computes the third quartile.\n",
        "       - **`IQR = Q3 - Q1`**: Computes the interquartile range.\n",
        "       - **Example**: `IQR = Q3 - Q1`\n",
        "     - **Remove Outliers**:\n",
        "       - **`df = df[~((df < (Q1 - 1.5 * IQR)) | (df > (Q3 + 1.5 * IQR))).any(axis=1)]`**: Filters out rows where any column value is outside the 1.5 * IQR range.\n",
        "       - **Example**: `df = df[~((df < (Q1 - 1.5 * IQR)) | (df > (Q3 + 1.5 * IQR))).any(axis=1)]`\n",
        "\n",
        "3. **Usage**:\n",
        "   - **Data Cleaning**: Helps in improving the quality of the data by removing extreme values that might skew analysis and modeling results.\n",
        "\n",
        "4. **Considerations**:\n",
        "   - **Impact on Data**: Removing outliers can affect data distribution. Ensure that removing outliers is justified and that it does not remove valuable data.\n",
        "\n",
        "---"
      ],
      "metadata": {
        "id": "vpuL7snrv8PX"
      }
    },
    {
      "cell_type": "code",
      "source": [
        "# 12. Outlier Detection (Using IQR)\n",
        "# We detect and remove outliers using the Interquartile Range (IQR) method"
      ],
      "metadata": {
        "id": "HsSR4em9LhNR"
      },
      "execution_count": null,
      "outputs": []
    },
    {
      "cell_type": "code",
      "source": [
        "Q1 = df.quantile(0.25, numeric_only=True)  # Compute the first quartile for numeric columns only"
      ],
      "metadata": {
        "id": "NxCQ92vvaK86"
      },
      "execution_count": null,
      "outputs": []
    },
    {
      "cell_type": "code",
      "source": [
        "Q3 = df.quantile(0.75, numeric_only=True)  # Compute the third quartile for numeric columns only"
      ],
      "metadata": {
        "id": "u3gGS10caRNq"
      },
      "execution_count": null,
      "outputs": []
    },
    {
      "cell_type": "code",
      "source": [
        "IQR = Q3 - Q1  # Compute the interquartile range"
      ],
      "metadata": {
        "id": "fXApAtZsaRR3"
      },
      "execution_count": null,
      "outputs": []
    },
    {
      "cell_type": "code",
      "source": [
        "df = df[~((df < (Q1 - 1.5 * IQR)) | (df > (Q3 + 1.5 * IQR))).any(axis=1)]  # Remove outliers based on IQR"
      ],
      "metadata": {
        "id": "VHhGaNTVaRY-",
        "colab": {
          "base_uri": "https://localhost:8080/"
        },
        "outputId": "f94c2efb-f695-4229-8d7e-355fc497d916"
      },
      "execution_count": null,
      "outputs": [
        {
          "output_type": "stream",
          "name": "stderr",
          "text": [
            "<ipython-input-112-f164ccdf0e28>:1: FutureWarning: Automatic reindexing on DataFrame vs Series comparisons is deprecated and will raise ValueError in a future version. Do `left, right = left.align(right, axis=1, copy=False)` before e.g. `left == right`\n",
            "  df = df[~((df < (Q1 - 1.5 * IQR)) | (df > (Q3 + 1.5 * IQR))).any(axis=1)]  # Remove outliers based on IQR\n"
          ]
        }
      ]
    },
    {
      "cell_type": "code",
      "source": [],
      "metadata": {
        "id": "TSJ9-FcndoWp"
      },
      "execution_count": null,
      "outputs": []
    },
    {
      "cell_type": "code",
      "source": [],
      "metadata": {
        "id": "ciBeR1LDwBtG"
      },
      "execution_count": null,
      "outputs": []
    },
    {
      "cell_type": "code",
      "source": [],
      "metadata": {
        "id": "OGbhOwwNwBwS"
      },
      "execution_count": null,
      "outputs": []
    },
    {
      "cell_type": "markdown",
      "source": [
        "### **<span style=\"color:#FF6347;\">Feature Scaling</span>**\n",
        "\n",
        "**<span style=\"color:#FFD700;\">Notes:</span>**\n",
        "\n",
        "1. **Purpose**:\n",
        "   - **Normalize Data**: This step involves standardizing numerical features to ensure they have a mean of 0 and a standard deviation of 1. Scaling is important for algorithms that are sensitive to the scale of features.\n",
        "\n",
        "2. **Functions Used**:\n",
        "   - **Standardization**:\n",
        "     - **`StandardScaler()`**:\n",
        "       - **Purpose**: Standardizes features by removing the mean and scaling to unit variance.\n",
        "       - **Example**: `scaler = StandardScaler()`\n",
        "     - **`scaler.fit_transform()`**:\n",
        "       - **Purpose**: Fits the scaler to the data and transforms the data accordingly.\n",
        "       - **Example**: `scaled_other_cols = scaler.fit_transform(df[other_cols])`\n",
        "   - **Concatenate Scaled Data**:\n",
        "     - **`pd.concat()`**:\n",
        "       - **Purpose**: Combines the scaled numerical columns with any non-numeric columns (e.g., datetime) to form a complete DataFrame.\n",
        "       - **Example**: `scaled_df = pd.concat([df[time_cols], pd.DataFrame(scaled_other_cols, columns=other_cols)], axis=1)`\n",
        "\n",
        "3. **Usage**:\n",
        "   - **Prepare Data for Modeling**: Ensures that all features contribute equally to the model, which is particularly important for algorithms that rely on distance metrics.\n",
        "\n",
        "4. **Considerations**:\n",
        "   - **Impact on Model Performance**: Proper scaling can significantly affect the performance of machine learning algorithms, especially those sensitive to feature scales (e.g., SVM, K-Means).\n",
        "\n",
        "---"
      ],
      "metadata": {
        "id": "vliJUNXNwCJO"
      }
    },
    {
      "cell_type": "code",
      "source": [
        "\n",
        "# 13. Feature Scaling (Standardization)\n",
        "# We standardize numerical features to have a mean of 0 and a standard deviation of 1"
      ],
      "metadata": {
        "id": "zIC_Y3OqaReG"
      },
      "execution_count": null,
      "outputs": []
    },
    {
      "cell_type": "code",
      "source": [
        "from sklearn.preprocessing import StandardScaler  # Import StandardScaler from scikit-learn"
      ],
      "metadata": {
        "id": "wzRNcL5VQw18"
      },
      "execution_count": null,
      "outputs": []
    },
    {
      "cell_type": "code",
      "source": [
        "scaler = StandardScaler()  # Create a StandardScaler object"
      ],
      "metadata": {
        "id": "c8pNcIGfaRiN"
      },
      "execution_count": null,
      "outputs": []
    },
    {
      "cell_type": "code",
      "source": [
        "# Identify datetime columns\n",
        "# If you have datetime columns in your dataset, you may want to separate them before scaling"
      ],
      "metadata": {
        "id": "cyz79XjlfL0H"
      },
      "execution_count": null,
      "outputs": []
    },
    {
      "cell_type": "code",
      "source": [
        "time_cols = [col for col in df.columns if col.startswith('time')]  # Identify datetime columns"
      ],
      "metadata": {
        "id": "ihRfcPTPRDZN"
      },
      "execution_count": null,
      "outputs": []
    },
    {
      "cell_type": "code",
      "source": [],
      "metadata": {
        "id": "-sjmHR_aRIo5"
      },
      "execution_count": null,
      "outputs": []
    },
    {
      "cell_type": "code",
      "source": [
        "\n",
        "# Select other columns excluding session_id and datetime columns"
      ],
      "metadata": {
        "id": "bbxLyX3tRI2Q"
      },
      "execution_count": null,
      "outputs": []
    },
    {
      "cell_type": "code",
      "source": [
        "other_cols = [col for col in df.columns if col not in ['session_id'] + time_cols]  # Select non-datetime columns"
      ],
      "metadata": {
        "id": "mmna0J3QfS12"
      },
      "execution_count": null,
      "outputs": []
    },
    {
      "cell_type": "code",
      "source": [],
      "metadata": {
        "id": "Xhd0g-FtRx57"
      },
      "execution_count": null,
      "outputs": []
    },
    {
      "cell_type": "code",
      "source": [
        "# Perform feature scaling on other columns"
      ],
      "metadata": {
        "id": "D9rzKN8Ad0nU"
      },
      "execution_count": null,
      "outputs": []
    },
    {
      "cell_type": "code",
      "source": [
        "scaled_other_cols = scaler.fit_transform(df[other_cols])  # Scale numerical columns excluding datetime and session_id"
      ],
      "metadata": {
        "id": "LIVRapJ5d0qF"
      },
      "execution_count": null,
      "outputs": []
    },
    {
      "cell_type": "code",
      "source": [],
      "metadata": {
        "id": "5wsQcqD4RwJm"
      },
      "execution_count": null,
      "outputs": []
    },
    {
      "cell_type": "code",
      "source": [
        "# Concatenate scaled other columns with original datetime columns"
      ],
      "metadata": {
        "id": "04p8TZubRYax"
      },
      "execution_count": null,
      "outputs": []
    },
    {
      "cell_type": "code",
      "source": [
        "scaled_df = pd.concat([df[time_cols], pd.DataFrame(scaled_other_cols, columns=other_cols)], axis=1)  # Concatenate scaled columns with datetime columns"
      ],
      "metadata": {
        "id": "99mjdDmSRbeI"
      },
      "execution_count": null,
      "outputs": []
    },
    {
      "cell_type": "code",
      "source": [],
      "metadata": {
        "id": "Xl9dZV5DRdJV"
      },
      "execution_count": null,
      "outputs": []
    },
    {
      "cell_type": "code",
      "source": [
        "print(\"Feature Scaling completed.\\n\")"
      ],
      "metadata": {
        "colab": {
          "base_uri": "https://localhost:8080/"
        },
        "id": "VHr8GFA8Rdab",
        "outputId": "fff86162-971c-4f2c-f493-a056bbb2d335"
      },
      "execution_count": null,
      "outputs": [
        {
          "output_type": "stream",
          "name": "stdout",
          "text": [
            "Feature Scaling completed.\n",
            "\n"
          ]
        }
      ]
    },
    {
      "cell_type": "code",
      "source": [],
      "metadata": {
        "id": "-DFMxj-RRg2Y"
      },
      "execution_count": null,
      "outputs": []
    },
    {
      "cell_type": "code",
      "source": [
        "# Save the scaled DataFrame\n",
        "# Save the scaled DataFrame to a CSV file or use it for further analysis"
      ],
      "metadata": {
        "id": "0J8ZI1mnRjoF"
      },
      "execution_count": null,
      "outputs": []
    },
    {
      "cell_type": "code",
      "source": [
        "scaled_df.to_csv('/content/scaled_data.csv', index=False)  # Save the scaled DataFrame to a CSV file"
      ],
      "metadata": {
        "id": "-atHKSEBRkuD"
      },
      "execution_count": null,
      "outputs": []
    },
    {
      "cell_type": "code",
      "source": [],
      "metadata": {
        "id": "A3c7_7gARsgA"
      },
      "execution_count": null,
      "outputs": []
    },
    {
      "cell_type": "code",
      "source": [],
      "metadata": {
        "id": "wtPxX2n5Rskl"
      },
      "execution_count": null,
      "outputs": []
    },
    {
      "cell_type": "code",
      "source": [],
      "metadata": {
        "id": "L8kyevLAwHBv"
      },
      "execution_count": null,
      "outputs": []
    },
    {
      "cell_type": "markdown",
      "source": [
        "### **<span style=\"color:#FF6347;\">Session Duration Analysis</span>**\n",
        "\n",
        "**<span style=\"color:#FFD700;\">Notes:</span>**\n",
        "\n",
        "1. **Purpose**:\n",
        "   - **Analyze Session Duration**: This step involves analyzing the duration of sessions to understand user engagement and interaction with the website.\n",
        "\n",
        "2. **Functions Used**:\n",
        "   - **Plot Session Duration**:\n",
        "     - **`df['session_duration'].plot(kind='hist', bins=30)`**:\n",
        "       - **Purpose**: Creates a histogram to visualize the distribution of session durations.\n",
        "       - **Parameters**:\n",
        "         - **`kind`**: Specifies the type of plot (histogram).\n",
        "         - **`bins`**: Number of bins in the histogram.\n",
        "       - **Example**: `df['session_duration'].plot(kind='hist', bins=30)`\n",
        "   - **Display Plot**:\n",
        "     - **`plt.show()`**:\n",
        "       - **Purpose**: Displays the histogram of session durations.\n",
        "       - **Example**: `plt.show()`\n",
        "\n",
        "3. **Usage**:\n",
        "   - **Understand Engagement**: Provides insights into how long users are staying on the site, which can be used to gauge engagement and identify trends.\n",
        "\n",
        "4. **Considerations**:\n",
        "   - **Histogram Bin Size**: Adjust the bin size to balance detail and clarity. Too many bins can make the plot cluttered, while too few bins can obscure important details.\n",
        "\n",
        "---"
      ],
      "metadata": {
        "id": "hk9pPC5uwKsQ"
      }
    },
    {
      "cell_type": "markdown",
      "source": [
        "# TASK 1: SESSION DURATION ANALYSIS"
      ],
      "metadata": {
        "id": "QC0aAqQCiJvK"
      }
    },
    {
      "cell_type": "code",
      "source": [
        "# Calculate session durations\n",
        "# We calculate the duration of each test session by subtracting the start time from the end time."
      ],
      "metadata": {
        "id": "lhKGGoRASBg5"
      },
      "execution_count": null,
      "outputs": []
    },
    {
      "cell_type": "code",
      "source": [
        "df['time1'] = pd.to_datetime(df['time1'])"
      ],
      "metadata": {
        "id": "aweK6LTCiSsc"
      },
      "execution_count": null,
      "outputs": []
    },
    {
      "cell_type": "code",
      "source": [
        "df['time10'] = pd.to_datetime(df['time10'])"
      ],
      "metadata": {
        "id": "A8AhNQytiS51"
      },
      "execution_count": null,
      "outputs": []
    },
    {
      "cell_type": "code",
      "source": [
        "df['session_duration'] = (df['time10'] - df['time1']).dt.total_seconds()"
      ],
      "metadata": {
        "id": "mdQ_ShjqiS9P"
      },
      "execution_count": null,
      "outputs": []
    },
    {
      "cell_type": "code",
      "source": [],
      "metadata": {
        "id": "ThLuzg1QiTBj"
      },
      "execution_count": null,
      "outputs": []
    },
    {
      "cell_type": "code",
      "source": [
        "# Plot session duration distribution\n",
        "# We visualize the distribution of session durations to understand how long sessions typically last."
      ],
      "metadata": {
        "id": "r2HDHbHFSVCa"
      },
      "execution_count": null,
      "outputs": []
    },
    {
      "cell_type": "code",
      "source": [
        "plt.figure(figsize=(10, 6))\n",
        "sns.histplot(df['session_duration'], bins=30, kde=True)\n",
        "plt.title('Session Duration Distribution')\n",
        "plt.xlabel('Session Duration (seconds)')\n",
        "plt.ylabel('Frequency')\n",
        "plt.show()"
      ],
      "metadata": {
        "colab": {
          "base_uri": "https://localhost:8080/",
          "height": 564
        },
        "id": "CtPy1jfliTHA",
        "outputId": "a27f5e3c-5474-4d3f-e945-2dbd8e32545a"
      },
      "execution_count": null,
      "outputs": [
        {
          "output_type": "display_data",
          "data": {
            "text/plain": [
              "<Figure size 1000x600 with 1 Axes>"
            ],
            "image/png": "[encoded data removed]"
          },
          "metadata": {}
        }
      ]
    },
    {
      "cell_type": "code",
      "source": [
        "print(\"Task 1 completed.\\n\")"
      ],
      "metadata": {
        "colab": {
          "base_uri": "https://localhost:8080/"
        },
        "id": "ZZC675AYiTKL",
        "outputId": "2d235dfc-2952-434a-cf22-31ce063cc20f"
      },
      "execution_count": null,
      "outputs": [
        {
          "output_type": "stream",
          "name": "stdout",
          "text": [
            "Task 1 completed.\n",
            "\n"
          ]
        }
      ]
    },
    {
      "cell_type": "code",
      "source": [],
      "metadata": {
        "id": "BQrWGbUJiTM1"
      },
      "execution_count": null,
      "outputs": []
    },
    {
      "cell_type": "code",
      "source": [],
      "metadata": {
        "id": "ehJ3nRa6ik1U"
      },
      "execution_count": null,
      "outputs": []
    },
    {
      "cell_type": "code",
      "source": [],
      "metadata": {
        "id": "Kl5gbIG7wMu4"
      },
      "execution_count": null,
      "outputs": []
    },
    {
      "cell_type": "markdown",
      "source": [
        "### **<span style=\"color:#FF6347;\">Most Visited Websites</span>**\n",
        "\n",
        "**<span style=\"color:#FFD700;\">Notes:</span>**\n",
        "\n",
        "1. **Purpose**:\n",
        "   - **Identify Popular Sites**: This step aims to identify which websites are most frequently visited by users. It helps in understanding user preferences and behavior.\n",
        "\n",
        "2. **Functions Used**:\n",
        "   - **Count Visits**:\n",
        "     - **`df['website'].value_counts()`**:\n",
        "       - **Purpose**: Counts the number of visits to each website.\n",
        "       - **Example**: `website_counts = df['website'].value_counts()`\n",
        "   - **Plot Most Visited Websites**:\n",
        "     - **`website_counts.plot(kind='bar')`**:\n",
        "       - **Purpose**: Creates a bar plot of the most visited websites based on visit counts.\n",
        "       - **Example**: `website_counts.plot(kind='bar')`\n",
        "   - **Display Plot**:\n",
        "     - **`plt.show()`**:\n",
        "       - **Purpose**: Displays the bar plot of most visited websites.\n",
        "       - **Example**: `plt.show()`\n",
        "\n",
        "3. **Usage**:\n",
        "   - **User Preference Analysis**: Helps to identify which websites attract the most user visits, which can be useful for targeted marketing and site optimization.\n",
        "\n",
        "4. **Considerations**:\n",
        "   - **Plot Clarity**: Ensure that the bar plot is clear and easy to interpret. Label axes appropriately and consider sorting the websites by visit counts.\n",
        "\n",
        "---"
      ],
      "metadata": {
        "id": "KzmO6HNqwM84"
      }
    },
    {
      "cell_type": "markdown",
      "source": [
        "# TASK 2: MOST VISITED WEBSITES"
      ],
      "metadata": {
        "id": "pwWw378Til7y"
      }
    },
    {
      "cell_type": "code",
      "source": [
        "# Identify most visited websites\n",
        "# We count the occurrences of each website visited during the test sessions and display the top 10 most visited websites."
      ],
      "metadata": {
        "id": "OimzIPmhShA3"
      },
      "execution_count": null,
      "outputs": []
    },
    {
      "cell_type": "code",
      "source": [
        "top_sites = df.iloc[:, 1:11].stack().value_counts().head(10)"
      ],
      "metadata": {
        "id": "C7vJciCAik4T"
      },
      "execution_count": null,
      "outputs": []
    },
    {
      "cell_type": "code",
      "source": [
        "print(\"Top 10 Most Visited Websites:\\n\", top_sites)"
      ],
      "metadata": {
        "colab": {
          "base_uri": "https://localhost:8080/"
        },
        "id": "rPiCXTywik7I",
        "outputId": "05a77223-070f-40d4-adbe-666b316edd76"
      },
      "execution_count": null,
      "outputs": [
        {
          "output_type": "stream",
          "name": "stdout",
          "text": [
            "Top 10 Most Visited Websites:\n",
            " 782       15416\n",
            "778.0     12667\n",
            "21.0      12116\n",
            "1202.0    10073\n",
            "23.0       8769\n",
            "80.0       6563\n",
            "167.0      6433\n",
            "22.0       6256\n",
            "302        5275\n",
            "786        5110\n",
            "dtype: int64\n"
          ]
        }
      ]
    },
    {
      "cell_type": "code",
      "source": [],
      "metadata": {
        "id": "x96rH1tpSqDh"
      },
      "execution_count": null,
      "outputs": []
    },
    {
      "cell_type": "code",
      "source": [
        "print(\"\\nTask 2 completed.\\n\")"
      ],
      "metadata": {
        "colab": {
          "base_uri": "https://localhost:8080/"
        },
        "id": "gyt1nVLrilAI",
        "outputId": "95c5dc5e-5613-428a-f829-af940c5ce3c0"
      },
      "execution_count": null,
      "outputs": [
        {
          "output_type": "stream",
          "name": "stdout",
          "text": [
            "\n",
            "Task 2 completed.\n",
            "\n"
          ]
        }
      ]
    },
    {
      "cell_type": "code",
      "source": [],
      "metadata": {
        "id": "YxDS5U3hilEX"
      },
      "execution_count": null,
      "outputs": []
    },
    {
      "cell_type": "code",
      "source": [],
      "metadata": {
        "id": "3eQuRCruilF3"
      },
      "execution_count": null,
      "outputs": []
    },
    {
      "cell_type": "code",
      "source": [],
      "metadata": {
        "id": "Cj04kbG_wQfn"
      },
      "execution_count": null,
      "outputs": []
    },
    {
      "cell_type": "markdown",
      "source": [
        "### **<span style=\"color:#FF6347;\">Session Clustering (K-Means)</span>**\n",
        "\n",
        "**<span style=\"color:#FFD700;\">Notes:</span>**\n",
        "\n",
        "1. **Purpose**:\n",
        "   - **Cluster Sessions**: This step involves clustering sessions into distinct groups based on their features using K-Means clustering. It helps to identify patterns and group similar sessions together.\n",
        "\n",
        "2. **Functions Used**:\n",
        "   - **K-Means Clustering**:\n",
        "     - **`KMeans(n_clusters=k)`**:\n",
        "       - **Purpose**: Initializes the K-Means clustering algorithm with `k` clusters.\n",
        "       - **Parameters**:\n",
        "         - **`n_clusters`**: Number of clusters to form.\n",
        "       - **Example**: `kmeans = KMeans(n_clusters=k)`\n",
        "     - **`kmeans.fit_predict(data)`**:\n",
        "       - **Purpose**: Fits the K-Means model and predicts the cluster labels for each session.\n",
        "       - **Example**: `cluster_labels = kmeans.fit_predict(scaled_df)`\n",
        "\n",
        "3. **Usage**:\n",
        "   - **Pattern Recognition**: Identifies patterns in session data and groups similar sessions together, providing insights into user behavior and session characteristics.\n",
        "\n",
        "4. **Considerations**:\n",
        "   - **Choosing Number of Clusters**: The number of clusters `k` can be chosen based on domain knowledge or methods such as the Elbow Method to determine the optimal number of clusters.\n",
        "\n",
        "---"
      ],
      "metadata": {
        "id": "O_AOnOXVwQq2"
      }
    },
    {
      "cell_type": "markdown",
      "source": [
        "# TASK 3: SESSION CLUSTERING (K-MEANS)"
      ],
      "metadata": {
        "id": "u0xsitNri85J"
      }
    },
    {
      "cell_type": "code",
      "source": [
        "# Drop non-numeric columns\n",
        "# We remove non-numeric columns like session_id and datetime columns before performing clustering."
      ],
      "metadata": {
        "id": "TyY7RJsxSsa4"
      },
      "execution_count": null,
      "outputs": []
    },
    {
      "cell_type": "code",
      "source": [
        "from sklearn.cluster import KMeans\n"
      ],
      "metadata": {
        "id": "FhEFTRBpi7en"
      },
      "execution_count": null,
      "outputs": []
    },
    {
      "cell_type": "code",
      "source": [],
      "metadata": {
        "id": "d4lrQmClS6O8"
      },
      "execution_count": null,
      "outputs": []
    },
    {
      "cell_type": "code",
      "source": [
        "# Drop non-numeric columns\n",
        "numeric_df = df.drop(columns=['session_id', 'time1', 'time2', 'time3', 'time4', 'time5', 'time6', 'time7', 'time8', 'time9', 'time10'])"
      ],
      "metadata": {
        "id": "FGDDPS2ki7ho"
      },
      "execution_count": null,
      "outputs": []
    },
    {
      "cell_type": "code",
      "source": [
        "# Fill missing values with 0\n",
        "numeric_df.fillna(0, inplace=True)"
      ],
      "metadata": {
        "id": "EMHEXyG5i7lC"
      },
      "execution_count": null,
      "outputs": []
    },
    {
      "cell_type": "code",
      "source": [
        "# Scale features\n",
        "scaler = StandardScaler()"
      ],
      "metadata": {
        "id": "6XPGWGp7i7r3"
      },
      "execution_count": null,
      "outputs": []
    },
    {
      "cell_type": "code",
      "source": [
        "scaled_df = scaler.fit_transform(numeric_df)"
      ],
      "metadata": {
        "id": "mkp6uhyFjX9b"
      },
      "execution_count": null,
      "outputs": []
    },
    {
      "cell_type": "code",
      "source": [
        "# Perform K-means clustering\n",
        "kmeans = KMeans(n_clusters=3, random_state=42)"
      ],
      "metadata": {
        "id": "uD384ov1jYKW"
      },
      "execution_count": null,
      "outputs": []
    },
    {
      "cell_type": "code",
      "source": [
        "df['cluster'] = kmeans.fit_predict(scaled_df)"
      ],
      "metadata": {
        "colab": {
          "base_uri": "https://localhost:8080/"
        },
        "id": "nujDIyr3jbsG",
        "outputId": "b9678318-bd31-4183-de6a-7777f1870642"
      },
      "execution_count": null,
      "outputs": [
        {
          "output_type": "stream",
          "name": "stderr",
          "text": [
            "/usr/local/lib/python3.10/dist-packages/sklearn/cluster/_kmeans.py:870: FutureWarning: The default value of `n_init` will change from 10 to 'auto' in 1.4. Set the value of `n_init` explicitly to suppress the warning\n",
            "  warnings.warn(\n"
          ]
        }
      ]
    },
    {
      "cell_type": "code",
      "source": [
        "# Save the DataFrame with cluster labels\n",
        "df.to_csv('clustered_sessions.csv', index=False)"
      ],
      "metadata": {
        "id": "Dqidw8lAkMBT"
      },
      "execution_count": null,
      "outputs": []
    },
    {
      "cell_type": "code",
      "source": [
        "print(\"Task 3 completed.\\n\")"
      ],
      "metadata": {
        "colab": {
          "base_uri": "https://localhost:8080/"
        },
        "id": "KG05vlcyjbvB",
        "outputId": "cdafe3f2-8fbe-413e-82bf-9f06cdae01f1"
      },
      "execution_count": null,
      "outputs": [
        {
          "output_type": "stream",
          "name": "stdout",
          "text": [
            "Task 3 completed.\n",
            "\n"
          ]
        }
      ]
    },
    {
      "cell_type": "code",
      "source": [],
      "metadata": {
        "id": "ag6Q07vDwC_a"
      },
      "execution_count": null,
      "outputs": []
    },
    {
      "cell_type": "code",
      "source": [],
      "metadata": {
        "id": "kpsQe2RrwDgl"
      },
      "execution_count": null,
      "outputs": []
    },
    {
      "cell_type": "code",
      "source": [],
      "metadata": {
        "id": "CA5LgN7SwT8O"
      },
      "execution_count": null,
      "outputs": []
    },
    {
      "cell_type": "markdown",
      "source": [
        "### **<span style=\"color:#FF6347;\">Data Transformation (Log Transformation)</span>**\n",
        "\n",
        "**<span style=\"color:#FFD700;\">Notes:</span>**\n",
        "\n",
        "1. **Purpose**:\n",
        "   - **Stabilize Variance**: This step involves applying a log transformation to stabilize variance and normalize the distribution of highly skewed data.\n",
        "\n",
        "2. **Functions Used**:\n",
        "   - **Apply Log Transformation**:\n",
        "     - **`np.log1p(df['column'])`**:\n",
        "       - **Purpose**: Applies the log transformation to the specified column. `log1p()` computes `log(1 + x)`, which is useful for data with zero or small values.\n",
        "       - **Example**: `df['log_transformed'] = np.log1p(df['column'])`\n",
        "\n",
        "3. **Usage**:\n",
        "   - **Data Normalization**: Transforms data to reduce skewness and make it more suitable for analysis and modeling.\n",
        "\n",
        "4. **Considerations**:\n",
        "   - **Transformation Impact**: Ensure that the log transformation is appropriate for the data and consider how it affects the interpretation of results.\n",
        "\n",
        "---"
      ],
      "metadata": {
        "id": "TVfWBufswUPI"
      }
    },
    {
      "cell_type": "markdown",
      "source": [
        "# DATA TRANSFORMATION (Log Transformation)"
      ],
      "metadata": {
        "id": "-yvVJsu0xvy_"
      }
    },
    {
      "cell_type": "code",
      "source": [
        "# We apply log transformation to skewed numerical features to make their distribution more Gaussian-like.\n",
        "# In this example, if the session duration is right-skewed, we apply log transformation to it."
      ],
      "metadata": {
        "id": "Gm2lZpSlwfHG"
      },
      "execution_count": null,
      "outputs": []
    },
    {
      "cell_type": "code",
      "source": [
        "df['session_duration_log'] = np.log1p(df['session_duration'])"
      ],
      "metadata": {
        "id": "u_kH6XxUwfKR"
      },
      "execution_count": null,
      "outputs": []
    },
    {
      "cell_type": "code",
      "source": [],
      "metadata": {
        "id": "kZAqJdIAx8wa"
      },
      "execution_count": null,
      "outputs": []
    },
    {
      "cell_type": "code",
      "source": [
        "# Description: We apply log transformation to the session duration to mitigate the effect of skewness."
      ],
      "metadata": {
        "id": "GPHKHzpawDjN"
      },
      "execution_count": null,
      "outputs": []
    },
    {
      "cell_type": "code",
      "source": [],
      "metadata": {
        "id": "sUWRs7rMwDmA"
      },
      "execution_count": null,
      "outputs": []
    },
    {
      "cell_type": "code",
      "source": [
        "# Save the processed data"
      ],
      "metadata": {
        "id": "CFRsWP3jwDrr"
      },
      "execution_count": null,
      "outputs": []
    },
    {
      "cell_type": "code",
      "source": [
        "df.to_csv('processed_data_with_log.csv', index=False)"
      ],
      "metadata": {
        "id": "zAIJua4jyVkJ"
      },
      "execution_count": null,
      "outputs": []
    },
    {
      "cell_type": "code",
      "source": [],
      "metadata": {
        "id": "2doGCP4ayVnB"
      },
      "execution_count": null,
      "outputs": []
    },
    {
      "cell_type": "code",
      "source": [],
      "metadata": {
        "id": "-BBdsXsDyVph"
      },
      "execution_count": null,
      "outputs": []
    },
    {
      "cell_type": "code",
      "source": [],
      "metadata": {
        "id": "Lg7ItJVJwYSu"
      },
      "execution_count": null,
      "outputs": []
    },
    {
      "cell_type": "markdown",
      "source": [
        "### **<span style=\"color:#FF6347;\">User Engagement Analysis</span>**\n",
        "\n",
        "**<span style=\"color:#FFD700;\">Notes:</span>**\n",
        "\n",
        "1. **Purpose**:\n",
        "   - **Analyze User Interaction**: This step involves analyzing metrics related to user engagement, such as session duration and frequency of visits.\n",
        "\n",
        "2. **Functions Used**:\n",
        "   - **Calculate Engagement Metrics**:\n",
        "     - **`df.groupby('user_id').agg({'session_duration': ['mean', 'sum']})`**:\n",
        "       - **Purpose**: Aggregates engagement metrics for each user, such as the average and total session duration.\n",
        "       - **Example**: `engagement_metrics = df.groupby('user_id').agg({'session_duration': ['mean', 'sum']})`\n",
        "   - **Plot Engagement Metrics**:\n",
        "     - **`engagement_metrics.plot(kind='bar')`**:\n",
        "       - **Purpose**: Creates a bar plot to visualize user engagement metrics.\n",
        "       - **Example**: `engagement_metrics.plot(kind='bar')`\n",
        "   - **Display Plot**:\n",
        "     - **`plt.show()`**:\n",
        "       - **Purpose**: Displays the bar plot of engagement metrics.\n",
        "       - **Example**: `plt.show()`\n",
        "\n",
        "3. **Usage**:\n",
        "   - **Insight into User Behavior**: Provides insights into how users are engaging with the website, which can inform strategies for improving user experience.\n",
        "\n",
        "4. **Considerations**:\n",
        "   - **Metric Interpretation**: Ensure that engagement metrics are interpreted in the context of overall user behavior and site objectives.\n",
        "\n",
        "---"
      ],
      "metadata": {
        "id": "rewfxO9hwYjQ"
      }
    },
    {
      "cell_type": "markdown",
      "source": [
        "# USER ENGAGEMENT ANALYSIS"
      ],
      "metadata": {
        "id": "9hhdlZeu0Ny4"
      }
    },
    {
      "cell_type": "code",
      "source": [
        "# Analyze user engagement metrics such as time spent on each website\n",
        "# Calculate average time spent on each website and visualize the results."
      ],
      "metadata": {
        "id": "CXZIK5LjyVwH"
      },
      "execution_count": null,
      "outputs": []
    },
    {
      "cell_type": "code",
      "source": [
        "# Description:\n",
        "# User engagement is a critical metric for understanding user behavior on websites.\n",
        "# Analyzing the time spent by users on each website can provide insights into which\n",
        "# websites are more engaging or attract more user attention. In this task, we calculate\n",
        "# the average time spent on each website across all test sessions and visualize the results."
      ],
      "metadata": {
        "id": "avY1vgyy0YVw"
      },
      "execution_count": null,
      "outputs": []
    },
    {
      "cell_type": "code",
      "source": [],
      "metadata": {
        "id": "T4GzQWz50vY6"
      },
      "execution_count": null,
      "outputs": []
    },
    {
      "cell_type": "code",
      "source": [
        "# Example:\n",
        "# Calculate the average time spent on each website"
      ],
      "metadata": {
        "id": "fItYTUsk0YY2"
      },
      "execution_count": null,
      "outputs": []
    },
    {
      "cell_type": "code",
      "source": [
        "average_time_per_website = df.iloc[:, 1:11].mean()"
      ],
      "metadata": {
        "colab": {
          "base_uri": "https://localhost:8080/"
        },
        "id": "aMoxNC8A0Ybi",
        "outputId": "69ea2315-4d47-4187-d8e7-ce43e29b3634"
      },
      "execution_count": null,
      "outputs": [
        {
          "output_type": "stream",
          "name": "stderr",
          "text": [
            "<ipython-input-159-48c0aeb7fd13>:1: FutureWarning: DataFrame.mean and DataFrame.median with numeric_only=None will include datetime64 and datetime64tz columns in a future version.\n",
            "  average_time_per_website = df.iloc[:, 1:11].mean()\n",
            "<ipython-input-159-48c0aeb7fd13>:1: FutureWarning: The default value of numeric_only in DataFrame.mean is deprecated. In a future version, it will default to False. In addition, specifying 'numeric_only=None' is deprecated. Select only valid columns or specify the value of numeric_only to silence this warning.\n",
            "  average_time_per_website = df.iloc[:, 1:11].mean()\n"
          ]
        }
      ]
    },
    {
      "cell_type": "code",
      "source": [],
      "metadata": {
        "id": "aSBCFwsV00AQ"
      },
      "execution_count": null,
      "outputs": []
    },
    {
      "cell_type": "code",
      "source": [
        "# Print the average time spent per website"
      ],
      "metadata": {
        "id": "l_WmTLSq00DI"
      },
      "execution_count": null,
      "outputs": []
    },
    {
      "cell_type": "code",
      "source": [
        "print(\"Average Time Spent per Website:\\n\", average_time_per_website)"
      ],
      "metadata": {
        "colab": {
          "base_uri": "https://localhost:8080/"
        },
        "id": "3NG1RHlF0YeD",
        "outputId": "8992e5f1-a223-42a8-f2ba-521e9f2e9104"
      },
      "execution_count": null,
      "outputs": [
        {
          "output_type": "stream",
          "name": "stdout",
          "text": [
            "Average Time Spent per Website:\n",
            " site1    584.926514\n",
            "site2    675.451360\n",
            "site3    739.590054\n",
            "site4    815.757118\n",
            "site5    881.698714\n",
            "dtype: float64\n"
          ]
        }
      ]
    },
    {
      "cell_type": "code",
      "source": [],
      "metadata": {
        "id": "nx6441CT0Yg-"
      },
      "execution_count": null,
      "outputs": []
    },
    {
      "cell_type": "code",
      "source": [
        "# Visualize average time spent per website"
      ],
      "metadata": {
        "id": "eTEgJEW8yVyQ"
      },
      "execution_count": null,
      "outputs": []
    },
    {
      "cell_type": "code",
      "source": [
        "plt.figure(figsize=(10, 6))\n",
        "average_time_per_website.plot(kind='bar')\n",
        "plt.title('Average Time Spent per Website')\n",
        "plt.xlabel('Website')\n",
        "plt.ylabel('Average Time Spent (seconds)')\n",
        "plt.xticks(rotation=45)\n",
        "plt.show()"
      ],
      "metadata": {
        "colab": {
          "base_uri": "https://localhost:8080/",
          "height": 584
        },
        "id": "Jmd__N8lyV1P",
        "outputId": "5dc43d32-9893-456e-deb4-99beec457867"
      },
      "execution_count": null,
      "outputs": [
        {
          "output_type": "display_data",
          "data": {
            "text/plain": [
              "<Figure size 1000x600 with 1 Axes>"
            ],
            "image/png": "[encoded data removed]"
          },
          "metadata": {}
        }
      ]
    },
    {
      "cell_type": "code",
      "source": [],
      "metadata": {
        "id": "56X22UMH09Ta"
      },
      "execution_count": null,
      "outputs": []
    },
    {
      "cell_type": "code",
      "source": [
        "print(\"Task  completed.\\n\")"
      ],
      "metadata": {
        "colab": {
          "base_uri": "https://localhost:8080/"
        },
        "id": "M_iRjzfQ09WW",
        "outputId": "d139b43e-03bd-41cf-b3f1-51795282147d"
      },
      "execution_count": null,
      "outputs": [
        {
          "output_type": "stream",
          "name": "stdout",
          "text": [
            "Task  completed.\n",
            "\n"
          ]
        }
      ]
    },
    {
      "cell_type": "code",
      "source": [],
      "metadata": {
        "id": "psAhqp2N09Zh"
      },
      "execution_count": null,
      "outputs": []
    },
    {
      "cell_type": "code",
      "source": [],
      "metadata": {
        "id": "znsVhrHUwsCP"
      },
      "execution_count": null,
      "outputs": []
    },
    {
      "cell_type": "code",
      "source": [],
      "metadata": {
        "id": "GLQTLFM5wsOv"
      },
      "execution_count": null,
      "outputs": []
    },
    {
      "cell_type": "markdown",
      "source": [
        "### **<span style=\"color:#FF6347;\">Conclusions</span>**\n",
        "\n",
        "1. **Data Quality and Integrity**:\n",
        "   - **Findings**: The dataset was initially assessed for missing and duplicate values. Missing values in numerical columns were filled with the mean, and duplicate rows were removed to ensure the dataset's accuracy and consistency.\n",
        "   - **Actionable Insights**: Clean and reliable data is crucial for accurate analysis and modeling. Regular checks for missing and duplicate values should be part of the data preprocessing workflow.\n",
        "\n",
        "2. **Exploratory Data Analysis (EDA)**:\n",
        "   - **Findings**: The distribution of session durations and correlations between numerical features provided a foundational understanding of the data.\n",
        "   - **Actionable Insights**: Visualizing data distributions and correlations helps identify trends and relationships, guiding subsequent analysis steps and model development.\n",
        "\n",
        "3. **Session Duration Analysis**:\n",
        "   - **Findings**: Session duration analysis revealed typical user engagement levels on the site, highlighting how long users stay during test sessions.\n",
        "   - **Actionable Insights**: Longer session durations suggest higher engagement, whereas shorter durations may indicate issues with content or user experience. This information can guide content improvements and user retention strategies.\n",
        "\n",
        "4. **Most Visited Websites**:\n",
        "   - **Findings**: The analysis identified the most frequently visited websites, providing insight into user preferences.\n",
        "   - **Actionable Insights**: Focus on optimizing and promoting these popular sites to enhance user experience. Tailoring content and marketing efforts based on user preferences can increase engagement and satisfaction.\n",
        "\n",
        "5. **Session Clustering (K-Means)**:\n",
        "   - **Findings**: Clustering sessions using K-Means identified distinct user behavior patterns.\n",
        "   - **Actionable Insights**: Clusters can be used to personalize user experiences, target specific user segments, and improve site features based on cluster characteristics. Analyzing clusters helps in understanding diverse user needs and behaviors.\n",
        "\n",
        "6. **Data Transformation**:\n",
        "   - **Findings**: Log transformation was applied to skewed data to normalize distributions and stabilize variance.\n",
        "   - **Actionable Insights**: Data transformation improves the performance of statistical analyses and models. Ensure that transformations align with analysis goals and accurately represent the data.\n",
        "\n",
        "7. **User Engagement Analysis**:\n",
        "   - **Findings**: Average time spent on each website was analyzed to gauge user engagement.\n",
        "   - **Actionable Insights**: Understanding user engagement metrics helps in optimizing site features and content. Use this analysis to enhance user experience and tailor strategies to increase interaction and satisfaction.\n",
        "\n",
        "### **<span style=\"color:#FF6347;\">Final Thoughts</span>**\n",
        "The comprehensive analysis of website test sessions provided valuable insights into user behavior, site performance, and engagement. Implementing the actionable insights derived from this analysis can lead to improved user experiences, optimized content, and targeted strategies to enhance site effectiveness. Regular data analysis and continuous monitoring are essential for maintaining and improving website performance."
      ],
      "metadata": {
        "id": "3Bo_xkZhwsgB"
      }
    }
  ]
}