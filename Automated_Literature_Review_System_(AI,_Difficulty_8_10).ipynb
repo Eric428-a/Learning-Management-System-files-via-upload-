{
  "nbformat": 4,
  "nbformat_minor": 0,
  "metadata": {
    "colab": {
      "provenance": [],
      "gpuType": "T4"
    },
    "kernelspec": {
      "name": "python3",
      "display_name": "Python 3"
    },
    "language_info": {
      "name": "python"
    },
    "accelerator": "GPU",
    "widgets": {
      "application/vnd.jupyter.widget-state+json": {
        "b3bb1e605ab545939a421e34682dcdce": {
          "model_module": "@jupyter-widgets/controls",
          "model_name": "HBoxModel",
          "model_module_version": "1.5.0",
          "state": {
            "_dom_classes": [],
            "_model_module": "@jupyter-widgets/controls",
            "_model_module_version": "1.5.0",
            "_model_name": "HBoxModel",
            "_view_count": null,
            "_view_module": "@jupyter-widgets/controls",
            "_view_module_version": "1.5.0",
            "_view_name": "HBoxView",
            "box_style": "",
            "children": [
              "IPY_MODEL_7e955637256c4227bd3b0557970e5db7",
              "IPY_MODEL_57bf7eec932940f7932587c573ce631e",
              "IPY_MODEL_7084f12f021a44369c8c901084704a96"
            ],
            "layout": "IPY_MODEL_ec853dd6656441f39fb385bc9a4b7f36"
          }
        },
        "7e955637256c4227bd3b0557970e5db7": {
          "model_module": "@jupyter-widgets/controls",
          "model_name": "HTMLModel",
          "model_module_version": "1.5.0",
          "state": {
            "_dom_classes": [],
            "_model_module": "@jupyter-widgets/controls",
            "_model_module_version": "1.5.0",
            "_model_name": "HTMLModel",
            "_view_count": null,
            "_view_module": "@jupyter-widgets/controls",
            "_view_module_version": "1.5.0",
            "_view_name": "HTMLView",
            "description": "",
            "description_tooltip": null,
            "layout": "IPY_MODEL_6b64dae9131744ae838abfc06494c1a5",
            "placeholder": "​",
            "style": "IPY_MODEL_129bb8afbee84e94b3e1ae06e9eb3123",
            "value": "tokenizer_config.json: 100%"
          }
        },
        "57bf7eec932940f7932587c573ce631e": {
          "model_module": "@jupyter-widgets/controls",
          "model_name": "FloatProgressModel",
          "model_module_version": "1.5.0",
          "state": {
            "_dom_classes": [],
            "_model_module": "@jupyter-widgets/controls",
            "_model_module_version": "1.5.0",
            "_model_name": "FloatProgressModel",
            "_view_count": null,
            "_view_module": "@jupyter-widgets/controls",
            "_view_module_version": "1.5.0",
            "_view_name": "ProgressView",
            "bar_style": "success",
            "description": "",
            "description_tooltip": null,
            "layout": "IPY_MODEL_b6a4e61a035d4d49b70670900456e8cf",
            "max": 48,
            "min": 0,
            "orientation": "horizontal",
            "style": "IPY_MODEL_fc8688081f1049938b53b02fb22fad17",
            "value": 48
          }
        },
        "7084f12f021a44369c8c901084704a96": {
          "model_module": "@jupyter-widgets/controls",
          "model_name": "HTMLModel",
          "model_module_version": "1.5.0",
          "state": {
            "_dom_classes": [],
            "_model_module": "@jupyter-widgets/controls",
            "_model_module_version": "1.5.0",
            "_model_name": "HTMLModel",
            "_view_count": null,
            "_view_module": "@jupyter-widgets/controls",
            "_view_module_version": "1.5.0",
            "_view_name": "HTMLView",
            "description": "",
            "description_tooltip": null,
            "layout": "IPY_MODEL_53b170415eef4a66886707a058628b6d",
            "placeholder": "​",
            "style": "IPY_MODEL_566bc580d01e4e0e9d71c6baa33eab95",
            "value": " 48.0/48.0 [00:00&lt;00:00, 1.06kB/s]"
          }
        },
        "ec853dd6656441f39fb385bc9a4b7f36": {
          "model_module": "@jupyter-widgets/base",
          "model_name": "LayoutModel",
          "model_module_version": "1.2.0",
          "state": {
            "_model_module": "@jupyter-widgets/base",
            "_model_module_version": "1.2.0",
            "_model_name": "LayoutModel",
            "_view_count": null,
            "_view_module": "@jupyter-widgets/base",
            "_view_module_version": "1.2.0",
            "_view_name": "LayoutView",
            "align_content": null,
            "align_items": null,
            "align_self": null,
            "border": null,
            "bottom": null,
            "display": null,
            "flex": null,
            "flex_flow": null,
            "grid_area": null,
            "grid_auto_columns": null,
            "grid_auto_flow": null,
            "grid_auto_rows": null,
            "grid_column": null,
            "grid_gap": null,
            "grid_row": null,
            "grid_template_areas": null,
            "grid_template_columns": null,
            "grid_template_rows": null,
            "height": null,
            "justify_content": null,
            "justify_items": null,
            "left": null,
            "margin": null,
            "max_height": null,
            "max_width": null,
            "min_height": null,
            "min_width": null,
            "object_fit": null,
            "object_position": null,
            "order": null,
            "overflow": null,
            "overflow_x": null,
            "overflow_y": null,
            "padding": null,
            "right": null,
            "top": null,
            "visibility": null,
            "width": null
          }
        },
        "6b64dae9131744ae838abfc06494c1a5": {
          "model_module": "@jupyter-widgets/base",
          "model_name": "LayoutModel",
          "model_module_version": "1.2.0",
          "state": {
            "_model_module": "@jupyter-widgets/base",
            "_model_module_version": "1.2.0",
            "_model_name": "LayoutModel",
            "_view_count": null,
            "_view_module": "@jupyter-widgets/base",
            "_view_module_version": "1.2.0",
            "_view_name": "LayoutView",
            "align_content": null,
            "align_items": null,
            "align_self": null,
            "border": null,
            "bottom": null,
            "display": null,
            "flex": null,
            "flex_flow": null,
            "grid_area": null,
            "grid_auto_columns": null,
            "grid_auto_flow": null,
            "grid_auto_rows": null,
            "grid_column": null,
            "grid_gap": null,
            "grid_row": null,
            "grid_template_areas": null,
            "grid_template_columns": null,
            "grid_template_rows": null,
            "height": null,
            "justify_content": null,
            "justify_items": null,
            "left": null,
            "margin": null,
            "max_height": null,
            "max_width": null,
            "min_height": null,
            "min_width": null,
            "object_fit": null,
            "object_position": null,
            "order": null,
            "overflow": null,
            "overflow_x": null,
            "overflow_y": null,
            "padding": null,
            "right": null,
            "top": null,
            "visibility": null,
            "width": null
          }
        },
        "129bb8afbee84e94b3e1ae06e9eb3123": {
          "model_module": "@jupyter-widgets/controls",
          "model_name": "DescriptionStyleModel",
          "model_module_version": "1.5.0",
          "state": {
            "_model_module": "@jupyter-widgets/controls",
            "_model_module_version": "1.5.0",
            "_model_name": "DescriptionStyleModel",
            "_view_count": null,
            "_view_module": "@jupyter-widgets/base",
            "_view_module_version": "1.2.0",
            "_view_name": "StyleView",
            "description_width": ""
          }
        },
        "b6a4e61a035d4d49b70670900456e8cf": {
          "model_module": "@jupyter-widgets/base",
          "model_name": "LayoutModel",
          "model_module_version": "1.2.0",
          "state": {
            "_model_module": "@jupyter-widgets/base",
            "_model_module_version": "1.2.0",
            "_model_name": "LayoutModel",
            "_view_count": null,
            "_view_module": "@jupyter-widgets/base",
            "_view_module_version": "1.2.0",
            "_view_name": "LayoutView",
            "align_content": null,
            "align_items": null,
            "align_self": null,
            "border": null,
            "bottom": null,
            "display": null,
            "flex": null,
            "flex_flow": null,
            "grid_area": null,
            "grid_auto_columns": null,
            "grid_auto_flow": null,
            "grid_auto_rows": null,
            "grid_column": null,
            "grid_gap": null,
            "grid_row": null,
            "grid_template_areas": null,
            "grid_template_columns": null,
            "grid_template_rows": null,
            "height": null,
            "justify_content": null,
            "justify_items": null,
            "left": null,
            "margin": null,
            "max_height": null,
            "max_width": null,
            "min_height": null,
            "min_width": null,
            "object_fit": null,
            "object_position": null,
            "order": null,
            "overflow": null,
            "overflow_x": null,
            "overflow_y": null,
            "padding": null,
            "right": null,
            "top": null,
            "visibility": null,
            "width": null
          }
        },
        "fc8688081f1049938b53b02fb22fad17": {
          "model_module": "@jupyter-widgets/controls",
          "model_name": "ProgressStyleModel",
          "model_module_version": "1.5.0",
          "state": {
            "_model_module": "@jupyter-widgets/controls",
            "_model_module_version": "1.5.0",
            "_model_name": "ProgressStyleModel",
            "_view_count": null,
            "_view_module": "@jupyter-widgets/base",
            "_view_module_version": "1.2.0",
            "_view_name": "StyleView",
            "bar_color": null,
            "description_width": ""
          }
        },
        "53b170415eef4a66886707a058628b6d": {
          "model_module": "@jupyter-widgets/base",
          "model_name": "LayoutModel",
          "model_module_version": "1.2.0",
          "state": {
            "_model_module": "@jupyter-widgets/base",
            "_model_module_version": "1.2.0",
            "_model_name": "LayoutModel",
            "_view_count": null,
            "_view_module": "@jupyter-widgets/base",
            "_view_module_version": "1.2.0",
            "_view_name": "LayoutView",
            "align_content": null,
            "align_items": null,
            "align_self": null,
            "border": null,
            "bottom": null,
            "display": null,
            "flex": null,
            "flex_flow": null,
            "grid_area": null,
            "grid_auto_columns": null,
            "grid_auto_flow": null,
            "grid_auto_rows": null,
            "grid_column": null,
            "grid_gap": null,
            "grid_row": null,
            "grid_template_areas": null,
            "grid_template_columns": null,
            "grid_template_rows": null,
            "height": null,
            "justify_content": null,
            "justify_items": null,
            "left": null,
            "margin": null,
            "max_height": null,
            "max_width": null,
            "min_height": null,
            "min_width": null,
            "object_fit": null,
            "object_position": null,
            "order": null,
            "overflow": null,
            "overflow_x": null,
            "overflow_y": null,
            "padding": null,
            "right": null,
            "top": null,
            "visibility": null,
            "width": null
          }
        },
        "566bc580d01e4e0e9d71c6baa33eab95": {
          "model_module": "@jupyter-widgets/controls",
          "model_name": "DescriptionStyleModel",
          "model_module_version": "1.5.0",
          "state": {
            "_model_module": "@jupyter-widgets/controls",
            "_model_module_version": "1.5.0",
            "_model_name": "DescriptionStyleModel",
            "_view_count": null,
            "_view_module": "@jupyter-widgets/base",
            "_view_module_version": "1.2.0",
            "_view_name": "StyleView",
            "description_width": ""
          }
        },
        "78c5ebf59b514e19964596998c8436ac": {
          "model_module": "@jupyter-widgets/controls",
          "model_name": "HBoxModel",
          "model_module_version": "1.5.0",
          "state": {
            "_dom_classes": [],
            "_model_module": "@jupyter-widgets/controls",
            "_model_module_version": "1.5.0",
            "_model_name": "HBoxModel",
            "_view_count": null,
            "_view_module": "@jupyter-widgets/controls",
            "_view_module_version": "1.5.0",
            "_view_name": "HBoxView",
            "box_style": "",
            "children": [
              "IPY_MODEL_a1a8b01ebb6d4a13904642e2dda88ced",
              "IPY_MODEL_b2fcf89f08554facaa27b9440ad46ac2",
              "IPY_MODEL_3af093b672374449b61311fcf415be78"
            ],
            "layout": "IPY_MODEL_7fe4353ffaf740419f1e206367f12292"
          }
        },
        "a1a8b01ebb6d4a13904642e2dda88ced": {
          "model_module": "@jupyter-widgets/controls",
          "model_name": "HTMLModel",
          "model_module_version": "1.5.0",
          "state": {
            "_dom_classes": [],
            "_model_module": "@jupyter-widgets/controls",
            "_model_module_version": "1.5.0",
            "_model_name": "HTMLModel",
            "_view_count": null,
            "_view_module": "@jupyter-widgets/controls",
            "_view_module_version": "1.5.0",
            "_view_name": "HTMLView",
            "description": "",
            "description_tooltip": null,
            "layout": "IPY_MODEL_6786662bf91a44239c8889c1a74c84dc",
            "placeholder": "​",
            "style": "IPY_MODEL_678287410fe04608958b5a570222bb66",
            "value": "vocab.txt: 100%"
          }
        },
        "b2fcf89f08554facaa27b9440ad46ac2": {
          "model_module": "@jupyter-widgets/controls",
          "model_name": "FloatProgressModel",
          "model_module_version": "1.5.0",
          "state": {
            "_dom_classes": [],
            "_model_module": "@jupyter-widgets/controls",
            "_model_module_version": "1.5.0",
            "_model_name": "FloatProgressModel",
            "_view_count": null,
            "_view_module": "@jupyter-widgets/controls",
            "_view_module_version": "1.5.0",
            "_view_name": "ProgressView",
            "bar_style": "success",
            "description": "",
            "description_tooltip": null,
            "layout": "IPY_MODEL_dfc61aa789eb49c893c72dcce2ee4043",
            "max": 231508,
            "min": 0,
            "orientation": "horizontal",
            "style": "IPY_MODEL_140dfba0c7e94285963a31adcfa503ae",
            "value": 231508
          }
        },
        "3af093b672374449b61311fcf415be78": {
          "model_module": "@jupyter-widgets/controls",
          "model_name": "HTMLModel",
          "model_module_version": "1.5.0",
          "state": {
            "_dom_classes": [],
            "_model_module": "@jupyter-widgets/controls",
            "_model_module_version": "1.5.0",
            "_model_name": "HTMLModel",
            "_view_count": null,
            "_view_module": "@jupyter-widgets/controls",
            "_view_module_version": "1.5.0",
            "_view_name": "HTMLView",
            "description": "",
            "description_tooltip": null,
            "layout": "IPY_MODEL_729664dea510496a85ac3a967ec6512c",
            "placeholder": "​",
            "style": "IPY_MODEL_16d895bc86d444cfad530e6e074f41e9",
            "value": " 232k/232k [00:00&lt;00:00, 1.43MB/s]"
          }
        },
        "7fe4353ffaf740419f1e206367f12292": {
          "model_module": "@jupyter-widgets/base",
          "model_name": "LayoutModel",
          "model_module_version": "1.2.0",
          "state": {
            "_model_module": "@jupyter-widgets/base",
            "_model_module_version": "1.2.0",
            "_model_name": "LayoutModel",
            "_view_count": null,
            "_view_module": "@jupyter-widgets/base",
            "_view_module_version": "1.2.0",
            "_view_name": "LayoutView",
            "align_content": null,
            "align_items": null,
            "align_self": null,
            "border": null,
            "bottom": null,
            "display": null,
            "flex": null,
            "flex_flow": null,
            "grid_area": null,
            "grid_auto_columns": null,
            "grid_auto_flow": null,
            "grid_auto_rows": null,
            "grid_column": null,
            "grid_gap": null,
            "grid_row": null,
            "grid_template_areas": null,
            "grid_template_columns": null,
            "grid_template_rows": null,
            "height": null,
            "justify_content": null,
            "justify_items": null,
            "left": null,
            "margin": null,
            "max_height": null,
            "max_width": null,
            "min_height": null,
            "min_width": null,
            "object_fit": null,
            "object_position": null,
            "order": null,
            "overflow": null,
            "overflow_x": null,
            "overflow_y": null,
            "padding": null,
            "right": null,
            "top": null,
            "visibility": null,
            "width": null
          }
        },
        "6786662bf91a44239c8889c1a74c84dc": {
          "model_module": "@jupyter-widgets/base",
          "model_name": "LayoutModel",
          "model_module_version": "1.2.0",
          "state": {
            "_model_module": "@jupyter-widgets/base",
            "_model_module_version": "1.2.0",
            "_model_name": "LayoutModel",
            "_view_count": null,
            "_view_module": "@jupyter-widgets/base",
            "_view_module_version": "1.2.0",
            "_view_name": "LayoutView",
            "align_content": null,
            "align_items": null,
            "align_self": null,
            "border": null,
            "bottom": null,
            "display": null,
            "flex": null,
            "flex_flow": null,
            "grid_area": null,
            "grid_auto_columns": null,
            "grid_auto_flow": null,
            "grid_auto_rows": null,
            "grid_column": null,
            "grid_gap": null,
            "grid_row": null,
            "grid_template_areas": null,
            "grid_template_columns": null,
            "grid_template_rows": null,
            "height": null,
            "justify_content": null,
            "justify_items": null,
            "left": null,
            "margin": null,
            "max_height": null,
            "max_width": null,
            "min_height": null,
            "min_width": null,
            "object_fit": null,
            "object_position": null,
            "order": null,
            "overflow": null,
            "overflow_x": null,
            "overflow_y": null,
            "padding": null,
            "right": null,
            "top": null,
            "visibility": null,
            "width": null
          }
        },
        "678287410fe04608958b5a570222bb66": {
          "model_module": "@jupyter-widgets/controls",
          "model_name": "DescriptionStyleModel",
          "model_module_version": "1.5.0",
          "state": {
            "_model_module": "@jupyter-widgets/controls",
            "_model_module_version": "1.5.0",
            "_model_name": "DescriptionStyleModel",
            "_view_count": null,
            "_view_module": "@jupyter-widgets/base",
            "_view_module_version": "1.2.0",
            "_view_name": "StyleView",
            "description_width": ""
          }
        },
        "dfc61aa789eb49c893c72dcce2ee4043": {
          "model_module": "@jupyter-widgets/base",
          "model_name": "LayoutModel",
          "model_module_version": "1.2.0",
          "state": {
            "_model_module": "@jupyter-widgets/base",
            "_model_module_version": "1.2.0",
            "_model_name": "LayoutModel",
            "_view_count": null,
            "_view_module": "@jupyter-widgets/base",
            "_view_module_version": "1.2.0",
            "_view_name": "LayoutView",
            "align_content": null,
            "align_items": null,
            "align_self": null,
            "border": null,
            "bottom": null,
            "display": null,
            "flex": null,
            "flex_flow": null,
            "grid_area": null,
            "grid_auto_columns": null,
            "grid_auto_flow": null,
            "grid_auto_rows": null,
            "grid_column": null,
            "grid_gap": null,
            "grid_row": null,
            "grid_template_areas": null,
            "grid_template_columns": null,
            "grid_template_rows": null,
            "height": null,
            "justify_content": null,
            "justify_items": null,
            "left": null,
            "margin": null,
            "max_height": null,
            "max_width": null,
            "min_height": null,
            "min_width": null,
            "object_fit": null,
            "object_position": null,
            "order": null,
            "overflow": null,
            "overflow_x": null,
            "overflow_y": null,
            "padding": null,
            "right": null,
            "top": null,
            "visibility": null,
            "width": null
          }
        },
        "140dfba0c7e94285963a31adcfa503ae": {
          "model_module": "@jupyter-widgets/controls",
          "model_name": "ProgressStyleModel",
          "model_module_version": "1.5.0",
          "state": {
            "_model_module": "@jupyter-widgets/controls",
            "_model_module_version": "1.5.0",
            "_model_name": "ProgressStyleModel",
            "_view_count": null,
            "_view_module": "@jupyter-widgets/base",
            "_view_module_version": "1.2.0",
            "_view_name": "StyleView",
            "bar_color": null,
            "description_width": ""
          }
        },
        "729664dea510496a85ac3a967ec6512c": {
          "model_module": "@jupyter-widgets/base",
          "model_name": "LayoutModel",
          "model_module_version": "1.2.0",
          "state": {
            "_model_module": "@jupyter-widgets/base",
            "_model_module_version": "1.2.0",
            "_model_name": "LayoutModel",
            "_view_count": null,
            "_view_module": "@jupyter-widgets/base",
            "_view_module_version": "1.2.0",
            "_view_name": "LayoutView",
            "align_content": null,
            "align_items": null,
            "align_self": null,
            "border": null,
            "bottom": null,
            "display": null,
            "flex": null,
            "flex_flow": null,
            "grid_area": null,
            "grid_auto_columns": null,
            "grid_auto_flow": null,
            "grid_auto_rows": null,
            "grid_column": null,
            "grid_gap": null,
            "grid_row": null,
            "grid_template_areas": null,
            "grid_template_columns": null,
            "grid_template_rows": null,
            "height": null,
            "justify_content": null,
            "justify_items": null,
            "left": null,
            "margin": null,
            "max_height": null,
            "max_width": null,
            "min_height": null,
            "min_width": null,
            "object_fit": null,
            "object_position": null,
            "order": null,
            "overflow": null,
            "overflow_x": null,
            "overflow_y": null,
            "padding": null,
            "right": null,
            "top": null,
            "visibility": null,
            "width": null
          }
        },
        "16d895bc86d444cfad530e6e074f41e9": {
          "model_module": "@jupyter-widgets/controls",
          "model_name": "DescriptionStyleModel",
          "model_module_version": "1.5.0",
          "state": {
            "_model_module": "@jupyter-widgets/controls",
            "_model_module_version": "1.5.0",
            "_model_name": "DescriptionStyleModel",
            "_view_count": null,
            "_view_module": "@jupyter-widgets/base",
            "_view_module_version": "1.2.0",
            "_view_name": "StyleView",
            "description_width": ""
          }
        },
        "9657c5756a9946ac8385113b0f514c8f": {
          "model_module": "@jupyter-widgets/controls",
          "model_name": "HBoxModel",
          "model_module_version": "1.5.0",
          "state": {
            "_dom_classes": [],
            "_model_module": "@jupyter-widgets/controls",
            "_model_module_version": "1.5.0",
            "_model_name": "HBoxModel",
            "_view_count": null,
            "_view_module": "@jupyter-widgets/controls",
            "_view_module_version": "1.5.0",
            "_view_name": "HBoxView",
            "box_style": "",
            "children": [
              "IPY_MODEL_e77023f3e7cf47a9b066ec6ec2046be4",
              "IPY_MODEL_9eeae6f09d544d19a03716f3cad43be0",
              "IPY_MODEL_6a29fda3cf654578b0059734ed2ca790"
            ],
            "layout": "IPY_MODEL_e4b0db7c195d459ab431ecdbf0fcec7c"
          }
        },
        "e77023f3e7cf47a9b066ec6ec2046be4": {
          "model_module": "@jupyter-widgets/controls",
          "model_name": "HTMLModel",
          "model_module_version": "1.5.0",
          "state": {
            "_dom_classes": [],
            "_model_module": "@jupyter-widgets/controls",
            "_model_module_version": "1.5.0",
            "_model_name": "HTMLModel",
            "_view_count": null,
            "_view_module": "@jupyter-widgets/controls",
            "_view_module_version": "1.5.0",
            "_view_name": "HTMLView",
            "description": "",
            "description_tooltip": null,
            "layout": "IPY_MODEL_c03b23dc1b384b5d9fefec4e92f08727",
            "placeholder": "​",
            "style": "IPY_MODEL_7e531d58d1094a94913b7a76c0550b1a",
            "value": "tokenizer.json: 100%"
          }
        },
        "9eeae6f09d544d19a03716f3cad43be0": {
          "model_module": "@jupyter-widgets/controls",
          "model_name": "FloatProgressModel",
          "model_module_version": "1.5.0",
          "state": {
            "_dom_classes": [],
            "_model_module": "@jupyter-widgets/controls",
            "_model_module_version": "1.5.0",
            "_model_name": "FloatProgressModel",
            "_view_count": null,
            "_view_module": "@jupyter-widgets/controls",
            "_view_module_version": "1.5.0",
            "_view_name": "ProgressView",
            "bar_style": "success",
            "description": "",
            "description_tooltip": null,
            "layout": "IPY_MODEL_e426ce6b11694700a4513c2d0859d15b",
            "max": 466062,
            "min": 0,
            "orientation": "horizontal",
            "style": "IPY_MODEL_624dd5ed422c4ad4bae9e8e69a96c9bd",
            "value": 466062
          }
        },
        "6a29fda3cf654578b0059734ed2ca790": {
          "model_module": "@jupyter-widgets/controls",
          "model_name": "HTMLModel",
          "model_module_version": "1.5.0",
          "state": {
            "_dom_classes": [],
            "_model_module": "@jupyter-widgets/controls",
            "_model_module_version": "1.5.0",
            "_model_name": "HTMLModel",
            "_view_count": null,
            "_view_module": "@jupyter-widgets/controls",
            "_view_module_version": "1.5.0",
            "_view_name": "HTMLView",
            "description": "",
            "description_tooltip": null,
            "layout": "IPY_MODEL_19defc956e964a54bf6b2fc603fe1aea",
            "placeholder": "​",
            "style": "IPY_MODEL_9aacbbc68a31447988a7f51a4bd9ca7d",
            "value": " 466k/466k [00:00&lt;00:00, 2.77MB/s]"
          }
        },
        "e4b0db7c195d459ab431ecdbf0fcec7c": {
          "model_module": "@jupyter-widgets/base",
          "model_name": "LayoutModel",
          "model_module_version": "1.2.0",
          "state": {
            "_model_module": "@jupyter-widgets/base",
            "_model_module_version": "1.2.0",
            "_model_name": "LayoutModel",
            "_view_count": null,
            "_view_module": "@jupyter-widgets/base",
            "_view_module_version": "1.2.0",
            "_view_name": "LayoutView",
            "align_content": null,
            "align_items": null,
            "align_self": null,
            "border": null,
            "bottom": null,
            "display": null,
            "flex": null,
            "flex_flow": null,
            "grid_area": null,
            "grid_auto_columns": null,
            "grid_auto_flow": null,
            "grid_auto_rows": null,
            "grid_column": null,
            "grid_gap": null,
            "grid_row": null,
            "grid_template_areas": null,
            "grid_template_columns": null,
            "grid_template_rows": null,
            "height": null,
            "justify_content": null,
            "justify_items": null,
            "left": null,
            "margin": null,
            "max_height": null,
            "max_width": null,
            "min_height": null,
            "min_width": null,
            "object_fit": null,
            "object_position": null,
            "order": null,
            "overflow": null,
            "overflow_x": null,
            "overflow_y": null,
            "padding": null,
            "right": null,
            "top": null,
            "visibility": null,
            "width": null
          }
        },
        "c03b23dc1b384b5d9fefec4e92f08727": {
          "model_module": "@jupyter-widgets/base",
          "model_name": "LayoutModel",
          "model_module_version": "1.2.0",
          "state": {
            "_model_module": "@jupyter-widgets/base",
            "_model_module_version": "1.2.0",
            "_model_name": "LayoutModel",
            "_view_count": null,
            "_view_module": "@jupyter-widgets/base",
            "_view_module_version": "1.2.0",
            "_view_name": "LayoutView",
            "align_content": null,
            "align_items": null,
            "align_self": null,
            "border": null,
            "bottom": null,
            "display": null,
            "flex": null,
            "flex_flow": null,
            "grid_area": null,
            "grid_auto_columns": null,
            "grid_auto_flow": null,
            "grid_auto_rows": null,
            "grid_column": null,
            "grid_gap": null,
            "grid_row": null,
            "grid_template_areas": null,
            "grid_template_columns": null,
            "grid_template_rows": null,
            "height": null,
            "justify_content": null,
            "justify_items": null,
            "left": null,
            "margin": null,
            "max_height": null,
            "max_width": null,
            "min_height": null,
            "min_width": null,
            "object_fit": null,
            "object_position": null,
            "order": null,
            "overflow": null,
            "overflow_x": null,
            "overflow_y": null,
            "padding": null,
            "right": null,
            "top": null,
            "visibility": null,
            "width": null
          }
        },
        "7e531d58d1094a94913b7a76c0550b1a": {
          "model_module": "@jupyter-widgets/controls",
          "model_name": "DescriptionStyleModel",
          "model_module_version": "1.5.0",
          "state": {
            "_model_module": "@jupyter-widgets/controls",
            "_model_module_version": "1.5.0",
            "_model_name": "DescriptionStyleModel",
            "_view_count": null,
            "_view_module": "@jupyter-widgets/base",
            "_view_module_version": "1.2.0",
            "_view_name": "StyleView",
            "description_width": ""
          }
        },
        "e426ce6b11694700a4513c2d0859d15b": {
          "model_module": "@jupyter-widgets/base",
          "model_name": "LayoutModel",
          "model_module_version": "1.2.0",
          "state": {
            "_model_module": "@jupyter-widgets/base",
            "_model_module_version": "1.2.0",
            "_model_name": "LayoutModel",
            "_view_count": null,
            "_view_module": "@jupyter-widgets/base",
            "_view_module_version": "1.2.0",
            "_view_name": "LayoutView",
            "align_content": null,
            "align_items": null,
            "align_self": null,
            "border": null,
            "bottom": null,
            "display": null,
            "flex": null,
            "flex_flow": null,
            "grid_area": null,
            "grid_auto_columns": null,
            "grid_auto_flow": null,
            "grid_auto_rows": null,
            "grid_column": null,
            "grid_gap": null,
            "grid_row": null,
            "grid_template_areas": null,
            "grid_template_columns": null,
            "grid_template_rows": null,
            "height": null,
            "justify_content": null,
            "justify_items": null,
            "left": null,
            "margin": null,
            "max_height": null,
            "max_width": null,
            "min_height": null,
            "min_width": null,
            "object_fit": null,
            "object_position": null,
            "order": null,
            "overflow": null,
            "overflow_x": null,
            "overflow_y": null,
            "padding": null,
            "right": null,
            "top": null,
            "visibility": null,
            "width": null
          }
        },
        "624dd5ed422c4ad4bae9e8e69a96c9bd": {
          "model_module": "@jupyter-widgets/controls",
          "model_name": "ProgressStyleModel",
          "model_module_version": "1.5.0",
          "state": {
            "_model_module": "@jupyter-widgets/controls",
            "_model_module_version": "1.5.0",
            "_model_name": "ProgressStyleModel",
            "_view_count": null,
            "_view_module": "@jupyter-widgets/base",
            "_view_module_version": "1.2.0",
            "_view_name": "StyleView",
            "bar_color": null,
            "description_width": ""
          }
        },
        "19defc956e964a54bf6b2fc603fe1aea": {
          "model_module": "@jupyter-widgets/base",
          "model_name": "LayoutModel",
          "model_module_version": "1.2.0",
          "state": {
            "_model_module": "@jupyter-widgets/base",
            "_model_module_version": "1.2.0",
            "_model_name": "LayoutModel",
            "_view_count": null,
            "_view_module": "@jupyter-widgets/base",
            "_view_module_version": "1.2.0",
            "_view_name": "LayoutView",
            "align_content": null,
            "align_items": null,
            "align_self": null,
            "border": null,
            "bottom": null,
            "display": null,
            "flex": null,
            "flex_flow": null,
            "grid_area": null,
            "grid_auto_columns": null,
            "grid_auto_flow": null,
            "grid_auto_rows": null,
            "grid_column": null,
            "grid_gap": null,
            "grid_row": null,
            "grid_template_areas": null,
            "grid_template_columns": null,
            "grid_template_rows": null,
            "height": null,
            "justify_content": null,
            "justify_items": null,
            "left": null,
            "margin": null,
            "max_height": null,
            "max_width": null,
            "min_height": null,
            "min_width": null,
            "object_fit": null,
            "object_position": null,
            "order": null,
            "overflow": null,
            "overflow_x": null,
            "overflow_y": null,
            "padding": null,
            "right": null,
            "top": null,
            "visibility": null,
            "width": null
          }
        },
        "9aacbbc68a31447988a7f51a4bd9ca7d": {
          "model_module": "@jupyter-widgets/controls",
          "model_name": "DescriptionStyleModel",
          "model_module_version": "1.5.0",
          "state": {
            "_model_module": "@jupyter-widgets/controls",
            "_model_module_version": "1.5.0",
            "_model_name": "DescriptionStyleModel",
            "_view_count": null,
            "_view_module": "@jupyter-widgets/base",
            "_view_module_version": "1.2.0",
            "_view_name": "StyleView",
            "description_width": ""
          }
        },
        "e10eebed861047a6a82adede8622a14d": {
          "model_module": "@jupyter-widgets/controls",
          "model_name": "HBoxModel",
          "model_module_version": "1.5.0",
          "state": {
            "_dom_classes": [],
            "_model_module": "@jupyter-widgets/controls",
            "_model_module_version": "1.5.0",
            "_model_name": "HBoxModel",
            "_view_count": null,
            "_view_module": "@jupyter-widgets/controls",
            "_view_module_version": "1.5.0",
            "_view_name": "HBoxView",
            "box_style": "",
            "children": [
              "IPY_MODEL_d68e2c17baee473f8236216ebb02f4ab",
              "IPY_MODEL_127e978a4b0c442dbac6e47eb009912b",
              "IPY_MODEL_3bb87a9b1b8746a195ccdf37fa3c0d7f"
            ],
            "layout": "IPY_MODEL_0c92cca249af4447b68c901e2ae08262"
          }
        },
        "d68e2c17baee473f8236216ebb02f4ab": {
          "model_module": "@jupyter-widgets/controls",
          "model_name": "HTMLModel",
          "model_module_version": "1.5.0",
          "state": {
            "_dom_classes": [],
            "_model_module": "@jupyter-widgets/controls",
            "_model_module_version": "1.5.0",
            "_model_name": "HTMLModel",
            "_view_count": null,
            "_view_module": "@jupyter-widgets/controls",
            "_view_module_version": "1.5.0",
            "_view_name": "HTMLView",
            "description": "",
            "description_tooltip": null,
            "layout": "IPY_MODEL_52f1a7349e1c49809b0ed141e818336c",
            "placeholder": "​",
            "style": "IPY_MODEL_13184be1945a4960afbc1c8b2e93a5dc",
            "value": "config.json: 100%"
          }
        },
        "127e978a4b0c442dbac6e47eb009912b": {
          "model_module": "@jupyter-widgets/controls",
          "model_name": "FloatProgressModel",
          "model_module_version": "1.5.0",
          "state": {
            "_dom_classes": [],
            "_model_module": "@jupyter-widgets/controls",
            "_model_module_version": "1.5.0",
            "_model_name": "FloatProgressModel",
            "_view_count": null,
            "_view_module": "@jupyter-widgets/controls",
            "_view_module_version": "1.5.0",
            "_view_name": "ProgressView",
            "bar_style": "success",
            "description": "",
            "description_tooltip": null,
            "layout": "IPY_MODEL_11ce7a2108b04567b0553b6004cfac47",
            "max": 570,
            "min": 0,
            "orientation": "horizontal",
            "style": "IPY_MODEL_ae3af46dd2a94b31bf129813ad98e7ce",
            "value": 570
          }
        },
        "3bb87a9b1b8746a195ccdf37fa3c0d7f": {
          "model_module": "@jupyter-widgets/controls",
          "model_name": "HTMLModel",
          "model_module_version": "1.5.0",
          "state": {
            "_dom_classes": [],
            "_model_module": "@jupyter-widgets/controls",
            "_model_module_version": "1.5.0",
            "_model_name": "HTMLModel",
            "_view_count": null,
            "_view_module": "@jupyter-widgets/controls",
            "_view_module_version": "1.5.0",
            "_view_name": "HTMLView",
            "description": "",
            "description_tooltip": null,
            "layout": "IPY_MODEL_9b17f6ec35d5423880d6ae410f7b18c8",
            "placeholder": "​",
            "style": "IPY_MODEL_fa7c70d5010349b5945e2b2c186068af",
            "value": " 570/570 [00:00&lt;00:00, 12.6kB/s]"
          }
        },
        "0c92cca249af4447b68c901e2ae08262": {
          "model_module": "@jupyter-widgets/base",
          "model_name": "LayoutModel",
          "model_module_version": "1.2.0",
          "state": {
            "_model_module": "@jupyter-widgets/base",
            "_model_module_version": "1.2.0",
            "_model_name": "LayoutModel",
            "_view_count": null,
            "_view_module": "@jupyter-widgets/base",
            "_view_module_version": "1.2.0",
            "_view_name": "LayoutView",
            "align_content": null,
            "align_items": null,
            "align_self": null,
            "border": null,
            "bottom": null,
            "display": null,
            "flex": null,
            "flex_flow": null,
            "grid_area": null,
            "grid_auto_columns": null,
            "grid_auto_flow": null,
            "grid_auto_rows": null,
            "grid_column": null,
            "grid_gap": null,
            "grid_row": null,
            "grid_template_areas": null,
            "grid_template_columns": null,
            "grid_template_rows": null,
            "height": null,
            "justify_content": null,
            "justify_items": null,
            "left": null,
            "margin": null,
            "max_height": null,
            "max_width": null,
            "min_height": null,
            "min_width": null,
            "object_fit": null,
            "object_position": null,
            "order": null,
            "overflow": null,
            "overflow_x": null,
            "overflow_y": null,
            "padding": null,
            "right": null,
            "top": null,
            "visibility": null,
            "width": null
          }
        },
        "52f1a7349e1c49809b0ed141e818336c": {
          "model_module": "@jupyter-widgets/base",
          "model_name": "LayoutModel",
          "model_module_version": "1.2.0",
          "state": {
            "_model_module": "@jupyter-widgets/base",
            "_model_module_version": "1.2.0",
            "_model_name": "LayoutModel",
            "_view_count": null,
            "_view_module": "@jupyter-widgets/base",
            "_view_module_version": "1.2.0",
            "_view_name": "LayoutView",
            "align_content": null,
            "align_items": null,
            "align_self": null,
            "border": null,
            "bottom": null,
            "display": null,
            "flex": null,
            "flex_flow": null,
            "grid_area": null,
            "grid_auto_columns": null,
            "grid_auto_flow": null,
            "grid_auto_rows": null,
            "grid_column": null,
            "grid_gap": null,
            "grid_row": null,
            "grid_template_areas": null,
            "grid_template_columns": null,
            "grid_template_rows": null,
            "height": null,
            "justify_content": null,
            "justify_items": null,
            "left": null,
            "margin": null,
            "max_height": null,
            "max_width": null,
            "min_height": null,
            "min_width": null,
            "object_fit": null,
            "object_position": null,
            "order": null,
            "overflow": null,
            "overflow_x": null,
            "overflow_y": null,
            "padding": null,
            "right": null,
            "top": null,
            "visibility": null,
            "width": null
          }
        },
        "13184be1945a4960afbc1c8b2e93a5dc": {
          "model_module": "@jupyter-widgets/controls",
          "model_name": "DescriptionStyleModel",
          "model_module_version": "1.5.0",
          "state": {
            "_model_module": "@jupyter-widgets/controls",
            "_model_module_version": "1.5.0",
            "_model_name": "DescriptionStyleModel",
            "_view_count": null,
            "_view_module": "@jupyter-widgets/base",
            "_view_module_version": "1.2.0",
            "_view_name": "StyleView",
            "description_width": ""
          }
        },
        "11ce7a2108b04567b0553b6004cfac47": {
          "model_module": "@jupyter-widgets/base",
          "model_name": "LayoutModel",
          "model_module_version": "1.2.0",
          "state": {
            "_model_module": "@jupyter-widgets/base",
            "_model_module_version": "1.2.0",
            "_model_name": "LayoutModel",
            "_view_count": null,
            "_view_module": "@jupyter-widgets/base",
            "_view_module_version": "1.2.0",
            "_view_name": "LayoutView",
            "align_content": null,
            "align_items": null,
            "align_self": null,
            "border": null,
            "bottom": null,
            "display": null,
            "flex": null,
            "flex_flow": null,
            "grid_area": null,
            "grid_auto_columns": null,
            "grid_auto_flow": null,
            "grid_auto_rows": null,
            "grid_column": null,
            "grid_gap": null,
            "grid_row": null,
            "grid_template_areas": null,
            "grid_template_columns": null,
            "grid_template_rows": null,
            "height": null,
            "justify_content": null,
            "justify_items": null,
            "left": null,
            "margin": null,
            "max_height": null,
            "max_width": null,
            "min_height": null,
            "min_width": null,
            "object_fit": null,
            "object_position": null,
            "order": null,
            "overflow": null,
            "overflow_x": null,
            "overflow_y": null,
            "padding": null,
            "right": null,
            "top": null,
            "visibility": null,
            "width": null
          }
        },
        "ae3af46dd2a94b31bf129813ad98e7ce": {
          "model_module": "@jupyter-widgets/controls",
          "model_name": "ProgressStyleModel",
          "model_module_version": "1.5.0",
          "state": {
            "_model_module": "@jupyter-widgets/controls",
            "_model_module_version": "1.5.0",
            "_model_name": "ProgressStyleModel",
            "_view_count": null,
            "_view_module": "@jupyter-widgets/base",
            "_view_module_version": "1.2.0",
            "_view_name": "StyleView",
            "bar_color": null,
            "description_width": ""
          }
        },
        "9b17f6ec35d5423880d6ae410f7b18c8": {
          "model_module": "@jupyter-widgets/base",
          "model_name": "LayoutModel",
          "model_module_version": "1.2.0",
          "state": {
            "_model_module": "@jupyter-widgets/base",
            "_model_module_version": "1.2.0",
            "_model_name": "LayoutModel",
            "_view_count": null,
            "_view_module": "@jupyter-widgets/base",
            "_view_module_version": "1.2.0",
            "_view_name": "LayoutView",
            "align_content": null,
            "align_items": null,
            "align_self": null,
            "border": null,
            "bottom": null,
            "display": null,
            "flex": null,
            "flex_flow": null,
            "grid_area": null,
            "grid_auto_columns": null,
            "grid_auto_flow": null,
            "grid_auto_rows": null,
            "grid_column": null,
            "grid_gap": null,
            "grid_row": null,
            "grid_template_areas": null,
            "grid_template_columns": null,
            "grid_template_rows": null,
            "height": null,
            "justify_content": null,
            "justify_items": null,
            "left": null,
            "margin": null,
            "max_height": null,
            "max_width": null,
            "min_height": null,
            "min_width": null,
            "object_fit": null,
            "object_position": null,
            "order": null,
            "overflow": null,
            "overflow_x": null,
            "overflow_y": null,
            "padding": null,
            "right": null,
            "top": null,
            "visibility": null,
            "width": null
          }
        },
        "fa7c70d5010349b5945e2b2c186068af": {
          "model_module": "@jupyter-widgets/controls",
          "model_name": "DescriptionStyleModel",
          "model_module_version": "1.5.0",
          "state": {
            "_model_module": "@jupyter-widgets/controls",
            "_model_module_version": "1.5.0",
            "_model_name": "DescriptionStyleModel",
            "_view_count": null,
            "_view_module": "@jupyter-widgets/base",
            "_view_module_version": "1.2.0",
            "_view_name": "StyleView",
            "description_width": ""
          }
        },
        "d13af31af5b54d198b866ab6f05276cd": {
          "model_module": "@jupyter-widgets/controls",
          "model_name": "HBoxModel",
          "model_module_version": "1.5.0",
          "state": {
            "_dom_classes": [],
            "_model_module": "@jupyter-widgets/controls",
            "_model_module_version": "1.5.0",
            "_model_name": "HBoxModel",
            "_view_count": null,
            "_view_module": "@jupyter-widgets/controls",
            "_view_module_version": "1.5.0",
            "_view_name": "HBoxView",
            "box_style": "",
            "children": [
              "IPY_MODEL_cde38450ddde4f13ad8fe98e1b953074",
              "IPY_MODEL_21193346e4324d69b85d723c17cef6c5",
              "IPY_MODEL_20f236f644c446ed9c72cc913552efb5"
            ],
            "layout": "IPY_MODEL_43fe3ff9a3ec4f30805ae10bfbf693b0"
          }
        },
        "cde38450ddde4f13ad8fe98e1b953074": {
          "model_module": "@jupyter-widgets/controls",
          "model_name": "HTMLModel",
          "model_module_version": "1.5.0",
          "state": {
            "_dom_classes": [],
            "_model_module": "@jupyter-widgets/controls",
            "_model_module_version": "1.5.0",
            "_model_name": "HTMLModel",
            "_view_count": null,
            "_view_module": "@jupyter-widgets/controls",
            "_view_module_version": "1.5.0",
            "_view_name": "HTMLView",
            "description": "",
            "description_tooltip": null,
            "layout": "IPY_MODEL_19309ad98aff48898e0ebcc95ae4c6c8",
            "placeholder": "​",
            "style": "IPY_MODEL_f98787679aca4e24a3c487b72c8acf3a",
            "value": "model.safetensors: 100%"
          }
        },
        "21193346e4324d69b85d723c17cef6c5": {
          "model_module": "@jupyter-widgets/controls",
          "model_name": "FloatProgressModel",
          "model_module_version": "1.5.0",
          "state": {
            "_dom_classes": [],
            "_model_module": "@jupyter-widgets/controls",
            "_model_module_version": "1.5.0",
            "_model_name": "FloatProgressModel",
            "_view_count": null,
            "_view_module": "@jupyter-widgets/controls",
            "_view_module_version": "1.5.0",
            "_view_name": "ProgressView",
            "bar_style": "success",
            "description": "",
            "description_tooltip": null,
            "layout": "IPY_MODEL_8c7d703fb44346abb92b4c7a0bd96d33",
            "max": 440449768,
            "min": 0,
            "orientation": "horizontal",
            "style": "IPY_MODEL_2ce78f42945342b19b8ab84d61b76f53",
            "value": 440449768
          }
        },
        "20f236f644c446ed9c72cc913552efb5": {
          "model_module": "@jupyter-widgets/controls",
          "model_name": "HTMLModel",
          "model_module_version": "1.5.0",
          "state": {
            "_dom_classes": [],
            "_model_module": "@jupyter-widgets/controls",
            "_model_module_version": "1.5.0",
            "_model_name": "HTMLModel",
            "_view_count": null,
            "_view_module": "@jupyter-widgets/controls",
            "_view_module_version": "1.5.0",
            "_view_name": "HTMLView",
            "description": "",
            "description_tooltip": null,
            "layout": "IPY_MODEL_5e7ad811061e4ede9f0bc80784eb4dd6",
            "placeholder": "​",
            "style": "IPY_MODEL_fc9713da19f244bba0b36ff1095d28c6",
            "value": " 440M/440M [00:02&lt;00:00, 156MB/s]"
          }
        },
        "43fe3ff9a3ec4f30805ae10bfbf693b0": {
          "model_module": "@jupyter-widgets/base",
          "model_name": "LayoutModel",
          "model_module_version": "1.2.0",
          "state": {
            "_model_module": "@jupyter-widgets/base",
            "_model_module_version": "1.2.0",
            "_model_name": "LayoutModel",
            "_view_count": null,
            "_view_module": "@jupyter-widgets/base",
            "_view_module_version": "1.2.0",
            "_view_name": "LayoutView",
            "align_content": null,
            "align_items": null,
            "align_self": null,
            "border": null,
            "bottom": null,
            "display": null,
            "flex": null,
            "flex_flow": null,
            "grid_area": null,
            "grid_auto_columns": null,
            "grid_auto_flow": null,
            "grid_auto_rows": null,
            "grid_column": null,
            "grid_gap": null,
            "grid_row": null,
            "grid_template_areas": null,
            "grid_template_columns": null,
            "grid_template_rows": null,
            "height": null,
            "justify_content": null,
            "justify_items": null,
            "left": null,
            "margin": null,
            "max_height": null,
            "max_width": null,
            "min_height": null,
            "min_width": null,
            "object_fit": null,
            "object_position": null,
            "order": null,
            "overflow": null,
            "overflow_x": null,
            "overflow_y": null,
            "padding": null,
            "right": null,
            "top": null,
            "visibility": null,
            "width": null
          }
        },
        "19309ad98aff48898e0ebcc95ae4c6c8": {
          "model_module": "@jupyter-widgets/base",
          "model_name": "LayoutModel",
          "model_module_version": "1.2.0",
          "state": {
            "_model_module": "@jupyter-widgets/base",
            "_model_module_version": "1.2.0",
            "_model_name": "LayoutModel",
            "_view_count": null,
            "_view_module": "@jupyter-widgets/base",
            "_view_module_version": "1.2.0",
            "_view_name": "LayoutView",
            "align_content": null,
            "align_items": null,
            "align_self": null,
            "border": null,
            "bottom": null,
            "display": null,
            "flex": null,
            "flex_flow": null,
            "grid_area": null,
            "grid_auto_columns": null,
            "grid_auto_flow": null,
            "grid_auto_rows": null,
            "grid_column": null,
            "grid_gap": null,
            "grid_row": null,
            "grid_template_areas": null,
            "grid_template_columns": null,
            "grid_template_rows": null,
            "height": null,
            "justify_content": null,
            "justify_items": null,
            "left": null,
            "margin": null,
            "max_height": null,
            "max_width": null,
            "min_height": null,
            "min_width": null,
            "object_fit": null,
            "object_position": null,
            "order": null,
            "overflow": null,
            "overflow_x": null,
            "overflow_y": null,
            "padding": null,
            "right": null,
            "top": null,
            "visibility": null,
            "width": null
          }
        },
        "f98787679aca4e24a3c487b72c8acf3a": {
          "model_module": "@jupyter-widgets/controls",
          "model_name": "DescriptionStyleModel",
          "model_module_version": "1.5.0",
          "state": {
            "_model_module": "@jupyter-widgets/controls",
            "_model_module_version": "1.5.0",
            "_model_name": "DescriptionStyleModel",
            "_view_count": null,
            "_view_module": "@jupyter-widgets/base",
            "_view_module_version": "1.2.0",
            "_view_name": "StyleView",
            "description_width": ""
          }
        },
        "8c7d703fb44346abb92b4c7a0bd96d33": {
          "model_module": "@jupyter-widgets/base",
          "model_name": "LayoutModel",
          "model_module_version": "1.2.0",
          "state": {
            "_model_module": "@jupyter-widgets/base",
            "_model_module_version": "1.2.0",
            "_model_name": "LayoutModel",
            "_view_count": null,
            "_view_module": "@jupyter-widgets/base",
            "_view_module_version": "1.2.0",
            "_view_name": "LayoutView",
            "align_content": null,
            "align_items": null,
            "align_self": null,
            "border": null,
            "bottom": null,
            "display": null,
            "flex": null,
            "flex_flow": null,
            "grid_area": null,
            "grid_auto_columns": null,
            "grid_auto_flow": null,
            "grid_auto_rows": null,
            "grid_column": null,
            "grid_gap": null,
            "grid_row": null,
            "grid_template_areas": null,
            "grid_template_columns": null,
            "grid_template_rows": null,
            "height": null,
            "justify_content": null,
            "justify_items": null,
            "left": null,
            "margin": null,
            "max_height": null,
            "max_width": null,
            "min_height": null,
            "min_width": null,
            "object_fit": null,
            "object_position": null,
            "order": null,
            "overflow": null,
            "overflow_x": null,
            "overflow_y": null,
            "padding": null,
            "right": null,
            "top": null,
            "visibility": null,
            "width": null
          }
        },
        "2ce78f42945342b19b8ab84d61b76f53": {
          "model_module": "@jupyter-widgets/controls",
          "model_name": "ProgressStyleModel",
          "model_module_version": "1.5.0",
          "state": {
            "_model_module": "@jupyter-widgets/controls",
            "_model_module_version": "1.5.0",
            "_model_name": "ProgressStyleModel",
            "_view_count": null,
            "_view_module": "@jupyter-widgets/base",
            "_view_module_version": "1.2.0",
            "_view_name": "StyleView",
            "bar_color": null,
            "description_width": ""
          }
        },
        "5e7ad811061e4ede9f0bc80784eb4dd6": {
          "model_module": "@jupyter-widgets/base",
          "model_name": "LayoutModel",
          "model_module_version": "1.2.0",
          "state": {
            "_model_module": "@jupyter-widgets/base",
            "_model_module_version": "1.2.0",
            "_model_name": "LayoutModel",
            "_view_count": null,
            "_view_module": "@jupyter-widgets/base",
            "_view_module_version": "1.2.0",
            "_view_name": "LayoutView",
            "align_content": null,
            "align_items": null,
            "align_self": null,
            "border": null,
            "bottom": null,
            "display": null,
            "flex": null,
            "flex_flow": null,
            "grid_area": null,
            "grid_auto_columns": null,
            "grid_auto_flow": null,
            "grid_auto_rows": null,
            "grid_column": null,
            "grid_gap": null,
            "grid_row": null,
            "grid_template_areas": null,
            "grid_template_columns": null,
            "grid_template_rows": null,
            "height": null,
            "justify_content": null,
            "justify_items": null,
            "left": null,
            "margin": null,
            "max_height": null,
            "max_width": null,
            "min_height": null,
            "min_width": null,
            "object_fit": null,
            "object_position": null,
            "order": null,
            "overflow": null,
            "overflow_x": null,
            "overflow_y": null,
            "padding": null,
            "right": null,
            "top": null,
            "visibility": null,
            "width": null
          }
        },
        "fc9713da19f244bba0b36ff1095d28c6": {
          "model_module": "@jupyter-widgets/controls",
          "model_name": "DescriptionStyleModel",
          "model_module_version": "1.5.0",
          "state": {
            "_model_module": "@jupyter-widgets/controls",
            "_model_module_version": "1.5.0",
            "_model_name": "DescriptionStyleModel",
            "_view_count": null,
            "_view_module": "@jupyter-widgets/base",
            "_view_module_version": "1.2.0",
            "_view_name": "StyleView",
            "description_width": ""
          }
        },
        "fb0311cc8a7b44e38abf1ab4e4be2cc8": {
          "model_module": "@jupyter-widgets/controls",
          "model_name": "HBoxModel",
          "model_module_version": "1.5.0",
          "state": {
            "_dom_classes": [],
            "_model_module": "@jupyter-widgets/controls",
            "_model_module_version": "1.5.0",
            "_model_name": "HBoxModel",
            "_view_count": null,
            "_view_module": "@jupyter-widgets/controls",
            "_view_module_version": "1.5.0",
            "_view_name": "HBoxView",
            "box_style": "",
            "children": [
              "IPY_MODEL_c0b485847e5d466fb3efe9584e1116cf",
              "IPY_MODEL_07c956e326eb45888ca974563bebdd43",
              "IPY_MODEL_824f9ad8bfad4f158c2aa63c0b867596"
            ],
            "layout": "IPY_MODEL_45f2ccf2a4a241948f5c5a794674749b"
          }
        },
        "c0b485847e5d466fb3efe9584e1116cf": {
          "model_module": "@jupyter-widgets/controls",
          "model_name": "HTMLModel",
          "model_module_version": "1.5.0",
          "state": {
            "_dom_classes": [],
            "_model_module": "@jupyter-widgets/controls",
            "_model_module_version": "1.5.0",
            "_model_name": "HTMLModel",
            "_view_count": null,
            "_view_module": "@jupyter-widgets/controls",
            "_view_module_version": "1.5.0",
            "_view_name": "HTMLView",
            "description": "",
            "description_tooltip": null,
            "layout": "IPY_MODEL_0c91a38e61f64f369d2d764acd387118",
            "placeholder": "​",
            "style": "IPY_MODEL_4ccd7652ed9f4e34978293e5fd35a479",
            "value": "spiece.model: 100%"
          }
        },
        "07c956e326eb45888ca974563bebdd43": {
          "model_module": "@jupyter-widgets/controls",
          "model_name": "FloatProgressModel",
          "model_module_version": "1.5.0",
          "state": {
            "_dom_classes": [],
            "_model_module": "@jupyter-widgets/controls",
            "_model_module_version": "1.5.0",
            "_model_name": "FloatProgressModel",
            "_view_count": null,
            "_view_module": "@jupyter-widgets/controls",
            "_view_module_version": "1.5.0",
            "_view_name": "ProgressView",
            "bar_style": "success",
            "description": "",
            "description_tooltip": null,
            "layout": "IPY_MODEL_675fc6ad1d6f4ca384181d33e3c632d8",
            "max": 791656,
            "min": 0,
            "orientation": "horizontal",
            "style": "IPY_MODEL_7c4fe65fc98e42e4a18a0c41d1c233e2",
            "value": 791656
          }
        },
        "824f9ad8bfad4f158c2aa63c0b867596": {
          "model_module": "@jupyter-widgets/controls",
          "model_name": "HTMLModel",
          "model_module_version": "1.5.0",
          "state": {
            "_dom_classes": [],
            "_model_module": "@jupyter-widgets/controls",
            "_model_module_version": "1.5.0",
            "_model_name": "HTMLModel",
            "_view_count": null,
            "_view_module": "@jupyter-widgets/controls",
            "_view_module_version": "1.5.0",
            "_view_name": "HTMLView",
            "description": "",
            "description_tooltip": null,
            "layout": "IPY_MODEL_ea119b7df9e44ad887b2970d378f46be",
            "placeholder": "​",
            "style": "IPY_MODEL_4d290f0624a640199bd6cef4e493f115",
            "value": " 792k/792k [00:00&lt;00:00, 9.36MB/s]"
          }
        },
        "45f2ccf2a4a241948f5c5a794674749b": {
          "model_module": "@jupyter-widgets/base",
          "model_name": "LayoutModel",
          "model_module_version": "1.2.0",
          "state": {
            "_model_module": "@jupyter-widgets/base",
            "_model_module_version": "1.2.0",
            "_model_name": "LayoutModel",
            "_view_count": null,
            "_view_module": "@jupyter-widgets/base",
            "_view_module_version": "1.2.0",
            "_view_name": "LayoutView",
            "align_content": null,
            "align_items": null,
            "align_self": null,
            "border": null,
            "bottom": null,
            "display": null,
            "flex": null,
            "flex_flow": null,
            "grid_area": null,
            "grid_auto_columns": null,
            "grid_auto_flow": null,
            "grid_auto_rows": null,
            "grid_column": null,
            "grid_gap": null,
            "grid_row": null,
            "grid_template_areas": null,
            "grid_template_columns": null,
            "grid_template_rows": null,
            "height": null,
            "justify_content": null,
            "justify_items": null,
            "left": null,
            "margin": null,
            "max_height": null,
            "max_width": null,
            "min_height": null,
            "min_width": null,
            "object_fit": null,
            "object_position": null,
            "order": null,
            "overflow": null,
            "overflow_x": null,
            "overflow_y": null,
            "padding": null,
            "right": null,
            "top": null,
            "visibility": null,
            "width": null
          }
        },
        "0c91a38e61f64f369d2d764acd387118": {
          "model_module": "@jupyter-widgets/base",
          "model_name": "LayoutModel",
          "model_module_version": "1.2.0",
          "state": {
            "_model_module": "@jupyter-widgets/base",
            "_model_module_version": "1.2.0",
            "_model_name": "LayoutModel",
            "_view_count": null,
            "_view_module": "@jupyter-widgets/base",
            "_view_module_version": "1.2.0",
            "_view_name": "LayoutView",
            "align_content": null,
            "align_items": null,
            "align_self": null,
            "border": null,
            "bottom": null,
            "display": null,
            "flex": null,
            "flex_flow": null,
            "grid_area": null,
            "grid_auto_columns": null,
            "grid_auto_flow": null,
            "grid_auto_rows": null,
            "grid_column": null,
            "grid_gap": null,
            "grid_row": null,
            "grid_template_areas": null,
            "grid_template_columns": null,
            "grid_template_rows": null,
            "height": null,
            "justify_content": null,
            "justify_items": null,
            "left": null,
            "margin": null,
            "max_height": null,
            "max_width": null,
            "min_height": null,
            "min_width": null,
            "object_fit": null,
            "object_position": null,
            "order": null,
            "overflow": null,
            "overflow_x": null,
            "overflow_y": null,
            "padding": null,
            "right": null,
            "top": null,
            "visibility": null,
            "width": null
          }
        },
        "4ccd7652ed9f4e34978293e5fd35a479": {
          "model_module": "@jupyter-widgets/controls",
          "model_name": "DescriptionStyleModel",
          "model_module_version": "1.5.0",
          "state": {
            "_model_module": "@jupyter-widgets/controls",
            "_model_module_version": "1.5.0",
            "_model_name": "DescriptionStyleModel",
            "_view_count": null,
            "_view_module": "@jupyter-widgets/base",
            "_view_module_version": "1.2.0",
            "_view_name": "StyleView",
            "description_width": ""
          }
        },
        "675fc6ad1d6f4ca384181d33e3c632d8": {
          "model_module": "@jupyter-widgets/base",
          "model_name": "LayoutModel",
          "model_module_version": "1.2.0",
          "state": {
            "_model_module": "@jupyter-widgets/base",
            "_model_module_version": "1.2.0",
            "_model_name": "LayoutModel",
            "_view_count": null,
            "_view_module": "@jupyter-widgets/base",
            "_view_module_version": "1.2.0",
            "_view_name": "LayoutView",
            "align_content": null,
            "align_items": null,
            "align_self": null,
            "border": null,
            "bottom": null,
            "display": null,
            "flex": null,
            "flex_flow": null,
            "grid_area": null,
            "grid_auto_columns": null,
            "grid_auto_flow": null,
            "grid_auto_rows": null,
            "grid_column": null,
            "grid_gap": null,
            "grid_row": null,
            "grid_template_areas": null,
            "grid_template_columns": null,
            "grid_template_rows": null,
            "height": null,
            "justify_content": null,
            "justify_items": null,
            "left": null,
            "margin": null,
            "max_height": null,
            "max_width": null,
            "min_height": null,
            "min_width": null,
            "object_fit": null,
            "object_position": null,
            "order": null,
            "overflow": null,
            "overflow_x": null,
            "overflow_y": null,
            "padding": null,
            "right": null,
            "top": null,
            "visibility": null,
            "width": null
          }
        },
        "7c4fe65fc98e42e4a18a0c41d1c233e2": {
          "model_module": "@jupyter-widgets/controls",
          "model_name": "ProgressStyleModel",
          "model_module_version": "1.5.0",
          "state": {
            "_model_module": "@jupyter-widgets/controls",
            "_model_module_version": "1.5.0",
            "_model_name": "ProgressStyleModel",
            "_view_count": null,
            "_view_module": "@jupyter-widgets/base",
            "_view_module_version": "1.2.0",
            "_view_name": "StyleView",
            "bar_color": null,
            "description_width": ""
          }
        },
        "ea119b7df9e44ad887b2970d378f46be": {
          "model_module": "@jupyter-widgets/base",
          "model_name": "LayoutModel",
          "model_module_version": "1.2.0",
          "state": {
            "_model_module": "@jupyter-widgets/base",
            "_model_module_version": "1.2.0",
            "_model_name": "LayoutModel",
            "_view_count": null,
            "_view_module": "@jupyter-widgets/base",
            "_view_module_version": "1.2.0",
            "_view_name": "LayoutView",
            "align_content": null,
            "align_items": null,
            "align_self": null,
            "border": null,
            "bottom": null,
            "display": null,
            "flex": null,
            "flex_flow": null,
            "grid_area": null,
            "grid_auto_columns": null,
            "grid_auto_flow": null,
            "grid_auto_rows": null,
            "grid_column": null,
            "grid_gap": null,
            "grid_row": null,
            "grid_template_areas": null,
            "grid_template_columns": null,
            "grid_template_rows": null,
            "height": null,
            "justify_content": null,
            "justify_items": null,
            "left": null,
            "margin": null,
            "max_height": null,
            "max_width": null,
            "min_height": null,
            "min_width": null,
            "object_fit": null,
            "object_position": null,
            "order": null,
            "overflow": null,
            "overflow_x": null,
            "overflow_y": null,
            "padding": null,
            "right": null,
            "top": null,
            "visibility": null,
            "width": null
          }
        },
        "4d290f0624a640199bd6cef4e493f115": {
          "model_module": "@jupyter-widgets/controls",
          "model_name": "DescriptionStyleModel",
          "model_module_version": "1.5.0",
          "state": {
            "_model_module": "@jupyter-widgets/controls",
            "_model_module_version": "1.5.0",
            "_model_name": "DescriptionStyleModel",
            "_view_count": null,
            "_view_module": "@jupyter-widgets/base",
            "_view_module_version": "1.2.0",
            "_view_name": "StyleView",
            "description_width": ""
          }
        },
        "0ba71bc65ca44680971b903af81e117f": {
          "model_module": "@jupyter-widgets/controls",
          "model_name": "HBoxModel",
          "model_module_version": "1.5.0",
          "state": {
            "_dom_classes": [],
            "_model_module": "@jupyter-widgets/controls",
            "_model_module_version": "1.5.0",
            "_model_name": "HBoxModel",
            "_view_count": null,
            "_view_module": "@jupyter-widgets/controls",
            "_view_module_version": "1.5.0",
            "_view_name": "HBoxView",
            "box_style": "",
            "children": [
              "IPY_MODEL_03b864eff7084479a9bc19c6f63a56a0",
              "IPY_MODEL_6a82a0ccd77c49bdbea8bc703bacd28c",
              "IPY_MODEL_d1cfab33998a4d89988b4404d3075108"
            ],
            "layout": "IPY_MODEL_7854c5ca5e324885bfc3d7bc2fe9e52f"
          }
        },
        "03b864eff7084479a9bc19c6f63a56a0": {
          "model_module": "@jupyter-widgets/controls",
          "model_name": "HTMLModel",
          "model_module_version": "1.5.0",
          "state": {
            "_dom_classes": [],
            "_model_module": "@jupyter-widgets/controls",
            "_model_module_version": "1.5.0",
            "_model_name": "HTMLModel",
            "_view_count": null,
            "_view_module": "@jupyter-widgets/controls",
            "_view_module_version": "1.5.0",
            "_view_name": "HTMLView",
            "description": "",
            "description_tooltip": null,
            "layout": "IPY_MODEL_bdf88481625d419bbd6154dd9aedf82c",
            "placeholder": "​",
            "style": "IPY_MODEL_95b7bc04809f4dab82036c2d69ca828f",
            "value": "tokenizer.json: 100%"
          }
        },
        "6a82a0ccd77c49bdbea8bc703bacd28c": {
          "model_module": "@jupyter-widgets/controls",
          "model_name": "FloatProgressModel",
          "model_module_version": "1.5.0",
          "state": {
            "_dom_classes": [],
            "_model_module": "@jupyter-widgets/controls",
            "_model_module_version": "1.5.0",
            "_model_name": "FloatProgressModel",
            "_view_count": null,
            "_view_module": "@jupyter-widgets/controls",
            "_view_module_version": "1.5.0",
            "_view_name": "ProgressView",
            "bar_style": "success",
            "description": "",
            "description_tooltip": null,
            "layout": "IPY_MODEL_107eb7f88488430aabee757736723b74",
            "max": 1389353,
            "min": 0,
            "orientation": "horizontal",
            "style": "IPY_MODEL_e8441ac8e6a64a7f9c5526911857ee5f",
            "value": 1389353
          }
        },
        "d1cfab33998a4d89988b4404d3075108": {
          "model_module": "@jupyter-widgets/controls",
          "model_name": "HTMLModel",
          "model_module_version": "1.5.0",
          "state": {
            "_dom_classes": [],
            "_model_module": "@jupyter-widgets/controls",
            "_model_module_version": "1.5.0",
            "_model_name": "HTMLModel",
            "_view_count": null,
            "_view_module": "@jupyter-widgets/controls",
            "_view_module_version": "1.5.0",
            "_view_name": "HTMLView",
            "description": "",
            "description_tooltip": null,
            "layout": "IPY_MODEL_6e13ca6099f04ac58005b7f57ad9474d",
            "placeholder": "​",
            "style": "IPY_MODEL_0c4e38744fdb42609bdbdf3efbcf8263",
            "value": " 1.39M/1.39M [00:00&lt;00:00, 4.20MB/s]"
          }
        },
        "7854c5ca5e324885bfc3d7bc2fe9e52f": {
          "model_module": "@jupyter-widgets/base",
          "model_name": "LayoutModel",
          "model_module_version": "1.2.0",
          "state": {
            "_model_module": "@jupyter-widgets/base",
            "_model_module_version": "1.2.0",
            "_model_name": "LayoutModel",
            "_view_count": null,
            "_view_module": "@jupyter-widgets/base",
            "_view_module_version": "1.2.0",
            "_view_name": "LayoutView",
            "align_content": null,
            "align_items": null,
            "align_self": null,
            "border": null,
            "bottom": null,
            "display": null,
            "flex": null,
            "flex_flow": null,
            "grid_area": null,
            "grid_auto_columns": null,
            "grid_auto_flow": null,
            "grid_auto_rows": null,
            "grid_column": null,
            "grid_gap": null,
            "grid_row": null,
            "grid_template_areas": null,
            "grid_template_columns": null,
            "grid_template_rows": null,
            "height": null,
            "justify_content": null,
            "justify_items": null,
            "left": null,
            "margin": null,
            "max_height": null,
            "max_width": null,
            "min_height": null,
            "min_width": null,
            "object_fit": null,
            "object_position": null,
            "order": null,
            "overflow": null,
            "overflow_x": null,
            "overflow_y": null,
            "padding": null,
            "right": null,
            "top": null,
            "visibility": null,
            "width": null
          }
        },
        "bdf88481625d419bbd6154dd9aedf82c": {
          "model_module": "@jupyter-widgets/base",
          "model_name": "LayoutModel",
          "model_module_version": "1.2.0",
          "state": {
            "_model_module": "@jupyter-widgets/base",
            "_model_module_version": "1.2.0",
            "_model_name": "LayoutModel",
            "_view_count": null,
            "_view_module": "@jupyter-widgets/base",
            "_view_module_version": "1.2.0",
            "_view_name": "LayoutView",
            "align_content": null,
            "align_items": null,
            "align_self": null,
            "border": null,
            "bottom": null,
            "display": null,
            "flex": null,
            "flex_flow": null,
            "grid_area": null,
            "grid_auto_columns": null,
            "grid_auto_flow": null,
            "grid_auto_rows": null,
            "grid_column": null,
            "grid_gap": null,
            "grid_row": null,
            "grid_template_areas": null,
            "grid_template_columns": null,
            "grid_template_rows": null,
            "height": null,
            "justify_content": null,
            "justify_items": null,
            "left": null,
            "margin": null,
            "max_height": null,
            "max_width": null,
            "min_height": null,
            "min_width": null,
            "object_fit": null,
            "object_position": null,
            "order": null,
            "overflow": null,
            "overflow_x": null,
            "overflow_y": null,
            "padding": null,
            "right": null,
            "top": null,
            "visibility": null,
            "width": null
          }
        },
        "95b7bc04809f4dab82036c2d69ca828f": {
          "model_module": "@jupyter-widgets/controls",
          "model_name": "DescriptionStyleModel",
          "model_module_version": "1.5.0",
          "state": {
            "_model_module": "@jupyter-widgets/controls",
            "_model_module_version": "1.5.0",
            "_model_name": "DescriptionStyleModel",
            "_view_count": null,
            "_view_module": "@jupyter-widgets/base",
            "_view_module_version": "1.2.0",
            "_view_name": "StyleView",
            "description_width": ""
          }
        },
        "107eb7f88488430aabee757736723b74": {
          "model_module": "@jupyter-widgets/base",
          "model_name": "LayoutModel",
          "model_module_version": "1.2.0",
          "state": {
            "_model_module": "@jupyter-widgets/base",
            "_model_module_version": "1.2.0",
            "_model_name": "LayoutModel",
            "_view_count": null,
            "_view_module": "@jupyter-widgets/base",
            "_view_module_version": "1.2.0",
            "_view_name": "LayoutView",
            "align_content": null,
            "align_items": null,
            "align_self": null,
            "border": null,
            "bottom": null,
            "display": null,
            "flex": null,
            "flex_flow": null,
            "grid_area": null,
            "grid_auto_columns": null,
            "grid_auto_flow": null,
            "grid_auto_rows": null,
            "grid_column": null,
            "grid_gap": null,
            "grid_row": null,
            "grid_template_areas": null,
            "grid_template_columns": null,
            "grid_template_rows": null,
            "height": null,
            "justify_content": null,
            "justify_items": null,
            "left": null,
            "margin": null,
            "max_height": null,
            "max_width": null,
            "min_height": null,
            "min_width": null,
            "object_fit": null,
            "object_position": null,
            "order": null,
            "overflow": null,
            "overflow_x": null,
            "overflow_y": null,
            "padding": null,
            "right": null,
            "top": null,
            "visibility": null,
            "width": null
          }
        },
        "e8441ac8e6a64a7f9c5526911857ee5f": {
          "model_module": "@jupyter-widgets/controls",
          "model_name": "ProgressStyleModel",
          "model_module_version": "1.5.0",
          "state": {
            "_model_module": "@jupyter-widgets/controls",
            "_model_module_version": "1.5.0",
            "_model_name": "ProgressStyleModel",
            "_view_count": null,
            "_view_module": "@jupyter-widgets/base",
            "_view_module_version": "1.2.0",
            "_view_name": "StyleView",
            "bar_color": null,
            "description_width": ""
          }
        },
        "6e13ca6099f04ac58005b7f57ad9474d": {
          "model_module": "@jupyter-widgets/base",
          "model_name": "LayoutModel",
          "model_module_version": "1.2.0",
          "state": {
            "_model_module": "@jupyter-widgets/base",
            "_model_module_version": "1.2.0",
            "_model_name": "LayoutModel",
            "_view_count": null,
            "_view_module": "@jupyter-widgets/base",
            "_view_module_version": "1.2.0",
            "_view_name": "LayoutView",
            "align_content": null,
            "align_items": null,
            "align_self": null,
            "border": null,
            "bottom": null,
            "display": null,
            "flex": null,
            "flex_flow": null,
            "grid_area": null,
            "grid_auto_columns": null,
            "grid_auto_flow": null,
            "grid_auto_rows": null,
            "grid_column": null,
            "grid_gap": null,
            "grid_row": null,
            "grid_template_areas": null,
            "grid_template_columns": null,
            "grid_template_rows": null,
            "height": null,
            "justify_content": null,
            "justify_items": null,
            "left": null,
            "margin": null,
            "max_height": null,
            "max_width": null,
            "min_height": null,
            "min_width": null,
            "object_fit": null,
            "object_position": null,
            "order": null,
            "overflow": null,
            "overflow_x": null,
            "overflow_y": null,
            "padding": null,
            "right": null,
            "top": null,
            "visibility": null,
            "width": null
          }
        },
        "0c4e38744fdb42609bdbdf3efbcf8263": {
          "model_module": "@jupyter-widgets/controls",
          "model_name": "DescriptionStyleModel",
          "model_module_version": "1.5.0",
          "state": {
            "_model_module": "@jupyter-widgets/controls",
            "_model_module_version": "1.5.0",
            "_model_name": "DescriptionStyleModel",
            "_view_count": null,
            "_view_module": "@jupyter-widgets/base",
            "_view_module_version": "1.2.0",
            "_view_name": "StyleView",
            "description_width": ""
          }
        },
        "a1752a4f88ef4e04b18d92a38a45c547": {
          "model_module": "@jupyter-widgets/controls",
          "model_name": "HBoxModel",
          "model_module_version": "1.5.0",
          "state": {
            "_dom_classes": [],
            "_model_module": "@jupyter-widgets/controls",
            "_model_module_version": "1.5.0",
            "_model_name": "HBoxModel",
            "_view_count": null,
            "_view_module": "@jupyter-widgets/controls",
            "_view_module_version": "1.5.0",
            "_view_name": "HBoxView",
            "box_style": "",
            "children": [
              "IPY_MODEL_a65007de45d54ac6ac9a0d405eff5c1c",
              "IPY_MODEL_2a86992fd1cc485b87fec5b49c1bc629",
              "IPY_MODEL_257411f65c5846f9bae81da6cd1b30ea"
            ],
            "layout": "IPY_MODEL_197196db219f439583b3708204d1a59b"
          }
        },
        "a65007de45d54ac6ac9a0d405eff5c1c": {
          "model_module": "@jupyter-widgets/controls",
          "model_name": "HTMLModel",
          "model_module_version": "1.5.0",
          "state": {
            "_dom_classes": [],
            "_model_module": "@jupyter-widgets/controls",
            "_model_module_version": "1.5.0",
            "_model_name": "HTMLModel",
            "_view_count": null,
            "_view_module": "@jupyter-widgets/controls",
            "_view_module_version": "1.5.0",
            "_view_name": "HTMLView",
            "description": "",
            "description_tooltip": null,
            "layout": "IPY_MODEL_a6d8472740644f5ca506bd57108d9b09",
            "placeholder": "​",
            "style": "IPY_MODEL_5cc3477fe98d498e8f9165b986b157d4",
            "value": "config.json: 100%"
          }
        },
        "2a86992fd1cc485b87fec5b49c1bc629": {
          "model_module": "@jupyter-widgets/controls",
          "model_name": "FloatProgressModel",
          "model_module_version": "1.5.0",
          "state": {
            "_dom_classes": [],
            "_model_module": "@jupyter-widgets/controls",
            "_model_module_version": "1.5.0",
            "_model_name": "FloatProgressModel",
            "_view_count": null,
            "_view_module": "@jupyter-widgets/controls",
            "_view_module_version": "1.5.0",
            "_view_name": "ProgressView",
            "bar_style": "success",
            "description": "",
            "description_tooltip": null,
            "layout": "IPY_MODEL_e00c0224b5ec4abf8d7490f59eeac965",
            "max": 1208,
            "min": 0,
            "orientation": "horizontal",
            "style": "IPY_MODEL_824aa4e19ce845698dd8d8fd33098cea",
            "value": 1208
          }
        },
        "257411f65c5846f9bae81da6cd1b30ea": {
          "model_module": "@jupyter-widgets/controls",
          "model_name": "HTMLModel",
          "model_module_version": "1.5.0",
          "state": {
            "_dom_classes": [],
            "_model_module": "@jupyter-widgets/controls",
            "_model_module_version": "1.5.0",
            "_model_name": "HTMLModel",
            "_view_count": null,
            "_view_module": "@jupyter-widgets/controls",
            "_view_module_version": "1.5.0",
            "_view_name": "HTMLView",
            "description": "",
            "description_tooltip": null,
            "layout": "IPY_MODEL_7d6d4677358e415b8b9a002ff6c77609",
            "placeholder": "​",
            "style": "IPY_MODEL_ad27d4d8df3e46bfa1f1559ff1317241",
            "value": " 1.21k/1.21k [00:00&lt;00:00, 128kB/s]"
          }
        },
        "197196db219f439583b3708204d1a59b": {
          "model_module": "@jupyter-widgets/base",
          "model_name": "LayoutModel",
          "model_module_version": "1.2.0",
          "state": {
            "_model_module": "@jupyter-widgets/base",
            "_model_module_version": "1.2.0",
            "_model_name": "LayoutModel",
            "_view_count": null,
            "_view_module": "@jupyter-widgets/base",
            "_view_module_version": "1.2.0",
            "_view_name": "LayoutView",
            "align_content": null,
            "align_items": null,
            "align_self": null,
            "border": null,
            "bottom": null,
            "display": null,
            "flex": null,
            "flex_flow": null,
            "grid_area": null,
            "grid_auto_columns": null,
            "grid_auto_flow": null,
            "grid_auto_rows": null,
            "grid_column": null,
            "grid_gap": null,
            "grid_row": null,
            "grid_template_areas": null,
            "grid_template_columns": null,
            "grid_template_rows": null,
            "height": null,
            "justify_content": null,
            "justify_items": null,
            "left": null,
            "margin": null,
            "max_height": null,
            "max_width": null,
            "min_height": null,
            "min_width": null,
            "object_fit": null,
            "object_position": null,
            "order": null,
            "overflow": null,
            "overflow_x": null,
            "overflow_y": null,
            "padding": null,
            "right": null,
            "top": null,
            "visibility": null,
            "width": null
          }
        },
        "a6d8472740644f5ca506bd57108d9b09": {
          "model_module": "@jupyter-widgets/base",
          "model_name": "LayoutModel",
          "model_module_version": "1.2.0",
          "state": {
            "_model_module": "@jupyter-widgets/base",
            "_model_module_version": "1.2.0",
            "_model_name": "LayoutModel",
            "_view_count": null,
            "_view_module": "@jupyter-widgets/base",
            "_view_module_version": "1.2.0",
            "_view_name": "LayoutView",
            "align_content": null,
            "align_items": null,
            "align_self": null,
            "border": null,
            "bottom": null,
            "display": null,
            "flex": null,
            "flex_flow": null,
            "grid_area": null,
            "grid_auto_columns": null,
            "grid_auto_flow": null,
            "grid_auto_rows": null,
            "grid_column": null,
            "grid_gap": null,
            "grid_row": null,
            "grid_template_areas": null,
            "grid_template_columns": null,
            "grid_template_rows": null,
            "height": null,
            "justify_content": null,
            "justify_items": null,
            "left": null,
            "margin": null,
            "max_height": null,
            "max_width": null,
            "min_height": null,
            "min_width": null,
            "object_fit": null,
            "object_position": null,
            "order": null,
            "overflow": null,
            "overflow_x": null,
            "overflow_y": null,
            "padding": null,
            "right": null,
            "top": null,
            "visibility": null,
            "width": null
          }
        },
        "5cc3477fe98d498e8f9165b986b157d4": {
          "model_module": "@jupyter-widgets/controls",
          "model_name": "DescriptionStyleModel",
          "model_module_version": "1.5.0",
          "state": {
            "_model_module": "@jupyter-widgets/controls",
            "_model_module_version": "1.5.0",
            "_model_name": "DescriptionStyleModel",
            "_view_count": null,
            "_view_module": "@jupyter-widgets/base",
            "_view_module_version": "1.2.0",
            "_view_name": "StyleView",
            "description_width": ""
          }
        },
        "e00c0224b5ec4abf8d7490f59eeac965": {
          "model_module": "@jupyter-widgets/base",
          "model_name": "LayoutModel",
          "model_module_version": "1.2.0",
          "state": {
            "_model_module": "@jupyter-widgets/base",
            "_model_module_version": "1.2.0",
            "_model_name": "LayoutModel",
            "_view_count": null,
            "_view_module": "@jupyter-widgets/base",
            "_view_module_version": "1.2.0",
            "_view_name": "LayoutView",
            "align_content": null,
            "align_items": null,
            "align_self": null,
            "border": null,
            "bottom": null,
            "display": null,
            "flex": null,
            "flex_flow": null,
            "grid_area": null,
            "grid_auto_columns": null,
            "grid_auto_flow": null,
            "grid_auto_rows": null,
            "grid_column": null,
            "grid_gap": null,
            "grid_row": null,
            "grid_template_areas": null,
            "grid_template_columns": null,
            "grid_template_rows": null,
            "height": null,
            "justify_content": null,
            "justify_items": null,
            "left": null,
            "margin": null,
            "max_height": null,
            "max_width": null,
            "min_height": null,
            "min_width": null,
            "object_fit": null,
            "object_position": null,
            "order": null,
            "overflow": null,
            "overflow_x": null,
            "overflow_y": null,
            "padding": null,
            "right": null,
            "top": null,
            "visibility": null,
            "width": null
          }
        },
        "824aa4e19ce845698dd8d8fd33098cea": {
          "model_module": "@jupyter-widgets/controls",
          "model_name": "ProgressStyleModel",
          "model_module_version": "1.5.0",
          "state": {
            "_model_module": "@jupyter-widgets/controls",
            "_model_module_version": "1.5.0",
            "_model_name": "ProgressStyleModel",
            "_view_count": null,
            "_view_module": "@jupyter-widgets/base",
            "_view_module_version": "1.2.0",
            "_view_name": "StyleView",
            "bar_color": null,
            "description_width": ""
          }
        },
        "7d6d4677358e415b8b9a002ff6c77609": {
          "model_module": "@jupyter-widgets/base",
          "model_name": "LayoutModel",
          "model_module_version": "1.2.0",
          "state": {
            "_model_module": "@jupyter-widgets/base",
            "_model_module_version": "1.2.0",
            "_model_name": "LayoutModel",
            "_view_count": null,
            "_view_module": "@jupyter-widgets/base",
            "_view_module_version": "1.2.0",
            "_view_name": "LayoutView",
            "align_content": null,
            "align_items": null,
            "align_self": null,
            "border": null,
            "bottom": null,
            "display": null,
            "flex": null,
            "flex_flow": null,
            "grid_area": null,
            "grid_auto_columns": null,
            "grid_auto_flow": null,
            "grid_auto_rows": null,
            "grid_column": null,
            "grid_gap": null,
            "grid_row": null,
            "grid_template_areas": null,
            "grid_template_columns": null,
            "grid_template_rows": null,
            "height": null,
            "justify_content": null,
            "justify_items": null,
            "left": null,
            "margin": null,
            "max_height": null,
            "max_width": null,
            "min_height": null,
            "min_width": null,
            "object_fit": null,
            "object_position": null,
            "order": null,
            "overflow": null,
            "overflow_x": null,
            "overflow_y": null,
            "padding": null,
            "right": null,
            "top": null,
            "visibility": null,
            "width": null
          }
        },
        "ad27d4d8df3e46bfa1f1559ff1317241": {
          "model_module": "@jupyter-widgets/controls",
          "model_name": "DescriptionStyleModel",
          "model_module_version": "1.5.0",
          "state": {
            "_model_module": "@jupyter-widgets/controls",
            "_model_module_version": "1.5.0",
            "_model_name": "DescriptionStyleModel",
            "_view_count": null,
            "_view_module": "@jupyter-widgets/base",
            "_view_module_version": "1.2.0",
            "_view_name": "StyleView",
            "description_width": ""
          }
        },
        "fdf93acdb8ea436aba446ffd09813568": {
          "model_module": "@jupyter-widgets/controls",
          "model_name": "HBoxModel",
          "model_module_version": "1.5.0",
          "state": {
            "_dom_classes": [],
            "_model_module": "@jupyter-widgets/controls",
            "_model_module_version": "1.5.0",
            "_model_name": "HBoxModel",
            "_view_count": null,
            "_view_module": "@jupyter-widgets/controls",
            "_view_module_version": "1.5.0",
            "_view_name": "HBoxView",
            "box_style": "",
            "children": [
              "IPY_MODEL_e50832ac6ec54ea8bd81ccb9ec651645",
              "IPY_MODEL_06e7026c10774c89befc4e55f05fed18",
              "IPY_MODEL_1539944e24ae4aa88c45ccfd2d478c6f"
            ],
            "layout": "IPY_MODEL_23121b916197490096b893e27b44a47c"
          }
        },
        "e50832ac6ec54ea8bd81ccb9ec651645": {
          "model_module": "@jupyter-widgets/controls",
          "model_name": "HTMLModel",
          "model_module_version": "1.5.0",
          "state": {
            "_dom_classes": [],
            "_model_module": "@jupyter-widgets/controls",
            "_model_module_version": "1.5.0",
            "_model_name": "HTMLModel",
            "_view_count": null,
            "_view_module": "@jupyter-widgets/controls",
            "_view_module_version": "1.5.0",
            "_view_name": "HTMLView",
            "description": "",
            "description_tooltip": null,
            "layout": "IPY_MODEL_d176f172786e48fe9a9095de2cf6806d",
            "placeholder": "​",
            "style": "IPY_MODEL_d317f0133aa84985b77ec5db73eb5ed0",
            "value": "model.safetensors: 100%"
          }
        },
        "06e7026c10774c89befc4e55f05fed18": {
          "model_module": "@jupyter-widgets/controls",
          "model_name": "FloatProgressModel",
          "model_module_version": "1.5.0",
          "state": {
            "_dom_classes": [],
            "_model_module": "@jupyter-widgets/controls",
            "_model_module_version": "1.5.0",
            "_model_name": "FloatProgressModel",
            "_view_count": null,
            "_view_module": "@jupyter-widgets/controls",
            "_view_module_version": "1.5.0",
            "_view_name": "ProgressView",
            "bar_style": "success",
            "description": "",
            "description_tooltip": null,
            "layout": "IPY_MODEL_711d5b1e2156467eb5e577c4b04c4bb8",
            "max": 891646390,
            "min": 0,
            "orientation": "horizontal",
            "style": "IPY_MODEL_06a0ec5406d247c5a2a34bb85e0824ce",
            "value": 891646390
          }
        },
        "1539944e24ae4aa88c45ccfd2d478c6f": {
          "model_module": "@jupyter-widgets/controls",
          "model_name": "HTMLModel",
          "model_module_version": "1.5.0",
          "state": {
            "_dom_classes": [],
            "_model_module": "@jupyter-widgets/controls",
            "_model_module_version": "1.5.0",
            "_model_name": "HTMLModel",
            "_view_count": null,
            "_view_module": "@jupyter-widgets/controls",
            "_view_module_version": "1.5.0",
            "_view_name": "HTMLView",
            "description": "",
            "description_tooltip": null,
            "layout": "IPY_MODEL_ca77dfdfcd5e46c7933a5bedc5cef737",
            "placeholder": "​",
            "style": "IPY_MODEL_d6e9a9f5314a49b194164819842b3fbf",
            "value": " 892M/892M [00:03&lt;00:00, 204MB/s]"
          }
        },
        "23121b916197490096b893e27b44a47c": {
          "model_module": "@jupyter-widgets/base",
          "model_name": "LayoutModel",
          "model_module_version": "1.2.0",
          "state": {
            "_model_module": "@jupyter-widgets/base",
            "_model_module_version": "1.2.0",
            "_model_name": "LayoutModel",
            "_view_count": null,
            "_view_module": "@jupyter-widgets/base",
            "_view_module_version": "1.2.0",
            "_view_name": "LayoutView",
            "align_content": null,
            "align_items": null,
            "align_self": null,
            "border": null,
            "bottom": null,
            "display": null,
            "flex": null,
            "flex_flow": null,
            "grid_area": null,
            "grid_auto_columns": null,
            "grid_auto_flow": null,
            "grid_auto_rows": null,
            "grid_column": null,
            "grid_gap": null,
            "grid_row": null,
            "grid_template_areas": null,
            "grid_template_columns": null,
            "grid_template_rows": null,
            "height": null,
            "justify_content": null,
            "justify_items": null,
            "left": null,
            "margin": null,
            "max_height": null,
            "max_width": null,
            "min_height": null,
            "min_width": null,
            "object_fit": null,
            "object_position": null,
            "order": null,
            "overflow": null,
            "overflow_x": null,
            "overflow_y": null,
            "padding": null,
            "right": null,
            "top": null,
            "visibility": null,
            "width": null
          }
        },
        "d176f172786e48fe9a9095de2cf6806d": {
          "model_module": "@jupyter-widgets/base",
          "model_name": "LayoutModel",
          "model_module_version": "1.2.0",
          "state": {
            "_model_module": "@jupyter-widgets/base",
            "_model_module_version": "1.2.0",
            "_model_name": "LayoutModel",
            "_view_count": null,
            "_view_module": "@jupyter-widgets/base",
            "_view_module_version": "1.2.0",
            "_view_name": "LayoutView",
            "align_content": null,
            "align_items": null,
            "align_self": null,
            "border": null,
            "bottom": null,
            "display": null,
            "flex": null,
            "flex_flow": null,
            "grid_area": null,
            "grid_auto_columns": null,
            "grid_auto_flow": null,
            "grid_auto_rows": null,
            "grid_column": null,
            "grid_gap": null,
            "grid_row": null,
            "grid_template_areas": null,
            "grid_template_columns": null,
            "grid_template_rows": null,
            "height": null,
            "justify_content": null,
            "justify_items": null,
            "left": null,
            "margin": null,
            "max_height": null,
            "max_width": null,
            "min_height": null,
            "min_width": null,
            "object_fit": null,
            "object_position": null,
            "order": null,
            "overflow": null,
            "overflow_x": null,
            "overflow_y": null,
            "padding": null,
            "right": null,
            "top": null,
            "visibility": null,
            "width": null
          }
        },
        "d317f0133aa84985b77ec5db73eb5ed0": {
          "model_module": "@jupyter-widgets/controls",
          "model_name": "DescriptionStyleModel",
          "model_module_version": "1.5.0",
          "state": {
            "_model_module": "@jupyter-widgets/controls",
            "_model_module_version": "1.5.0",
            "_model_name": "DescriptionStyleModel",
            "_view_count": null,
            "_view_module": "@jupyter-widgets/base",
            "_view_module_version": "1.2.0",
            "_view_name": "StyleView",
            "description_width": ""
          }
        },
        "711d5b1e2156467eb5e577c4b04c4bb8": {
          "model_module": "@jupyter-widgets/base",
          "model_name": "LayoutModel",
          "model_module_version": "1.2.0",
          "state": {
            "_model_module": "@jupyter-widgets/base",
            "_model_module_version": "1.2.0",
            "_model_name": "LayoutModel",
            "_view_count": null,
            "_view_module": "@jupyter-widgets/base",
            "_view_module_version": "1.2.0",
            "_view_name": "LayoutView",
            "align_content": null,
            "align_items": null,
            "align_self": null,
            "border": null,
            "bottom": null,
            "display": null,
            "flex": null,
            "flex_flow": null,
            "grid_area": null,
            "grid_auto_columns": null,
            "grid_auto_flow": null,
            "grid_auto_rows": null,
            "grid_column": null,
            "grid_gap": null,
            "grid_row": null,
            "grid_template_areas": null,
            "grid_template_columns": null,
            "grid_template_rows": null,
            "height": null,
            "justify_content": null,
            "justify_items": null,
            "left": null,
            "margin": null,
            "max_height": null,
            "max_width": null,
            "min_height": null,
            "min_width": null,
            "object_fit": null,
            "object_position": null,
            "order": null,
            "overflow": null,
            "overflow_x": null,
            "overflow_y": null,
            "padding": null,
            "right": null,
            "top": null,
            "visibility": null,
            "width": null
          }
        },
        "06a0ec5406d247c5a2a34bb85e0824ce": {
          "model_module": "@jupyter-widgets/controls",
          "model_name": "ProgressStyleModel",
          "model_module_version": "1.5.0",
          "state": {
            "_model_module": "@jupyter-widgets/controls",
            "_model_module_version": "1.5.0",
            "_model_name": "ProgressStyleModel",
            "_view_count": null,
            "_view_module": "@jupyter-widgets/base",
            "_view_module_version": "1.2.0",
            "_view_name": "StyleView",
            "bar_color": null,
            "description_width": ""
          }
        },
        "ca77dfdfcd5e46c7933a5bedc5cef737": {
          "model_module": "@jupyter-widgets/base",
          "model_name": "LayoutModel",
          "model_module_version": "1.2.0",
          "state": {
            "_model_module": "@jupyter-widgets/base",
            "_model_module_version": "1.2.0",
            "_model_name": "LayoutModel",
            "_view_count": null,
            "_view_module": "@jupyter-widgets/base",
            "_view_module_version": "1.2.0",
            "_view_name": "LayoutView",
            "align_content": null,
            "align_items": null,
            "align_self": null,
            "border": null,
            "bottom": null,
            "display": null,
            "flex": null,
            "flex_flow": null,
            "grid_area": null,
            "grid_auto_columns": null,
            "grid_auto_flow": null,
            "grid_auto_rows": null,
            "grid_column": null,
            "grid_gap": null,
            "grid_row": null,
            "grid_template_areas": null,
            "grid_template_columns": null,
            "grid_template_rows": null,
            "height": null,
            "justify_content": null,
            "justify_items": null,
            "left": null,
            "margin": null,
            "max_height": null,
            "max_width": null,
            "min_height": null,
            "min_width": null,
            "object_fit": null,
            "object_position": null,
            "order": null,
            "overflow": null,
            "overflow_x": null,
            "overflow_y": null,
            "padding": null,
            "right": null,
            "top": null,
            "visibility": null,
            "width": null
          }
        },
        "d6e9a9f5314a49b194164819842b3fbf": {
          "model_module": "@jupyter-widgets/controls",
          "model_name": "DescriptionStyleModel",
          "model_module_version": "1.5.0",
          "state": {
            "_model_module": "@jupyter-widgets/controls",
            "_model_module_version": "1.5.0",
            "_model_name": "DescriptionStyleModel",
            "_view_count": null,
            "_view_module": "@jupyter-widgets/base",
            "_view_module_version": "1.2.0",
            "_view_name": "StyleView",
            "description_width": ""
          }
        },
        "6f9aa9d54c3f4adc87e3196e6ae1bfb7": {
          "model_module": "@jupyter-widgets/controls",
          "model_name": "HBoxModel",
          "model_module_version": "1.5.0",
          "state": {
            "_dom_classes": [],
            "_model_module": "@jupyter-widgets/controls",
            "_model_module_version": "1.5.0",
            "_model_name": "HBoxModel",
            "_view_count": null,
            "_view_module": "@jupyter-widgets/controls",
            "_view_module_version": "1.5.0",
            "_view_name": "HBoxView",
            "box_style": "",
            "children": [
              "IPY_MODEL_d67199e1daa64be1882cbe0f6c9c7b16",
              "IPY_MODEL_9493deeab4e24fe4aef365cdf458faef",
              "IPY_MODEL_09afe8adf08d4f7d837085654df66303"
            ],
            "layout": "IPY_MODEL_2672abb62560401181bd9ddaf337ef7c"
          }
        },
        "d67199e1daa64be1882cbe0f6c9c7b16": {
          "model_module": "@jupyter-widgets/controls",
          "model_name": "HTMLModel",
          "model_module_version": "1.5.0",
          "state": {
            "_dom_classes": [],
            "_model_module": "@jupyter-widgets/controls",
            "_model_module_version": "1.5.0",
            "_model_name": "HTMLModel",
            "_view_count": null,
            "_view_module": "@jupyter-widgets/controls",
            "_view_module_version": "1.5.0",
            "_view_name": "HTMLView",
            "description": "",
            "description_tooltip": null,
            "layout": "IPY_MODEL_e3baffff72cf4465b80543cf3fe581f9",
            "placeholder": "​",
            "style": "IPY_MODEL_7a33cbdf1f3c497f93748db0a16dce5f",
            "value": "generation_config.json: 100%"
          }
        },
        "9493deeab4e24fe4aef365cdf458faef": {
          "model_module": "@jupyter-widgets/controls",
          "model_name": "FloatProgressModel",
          "model_module_version": "1.5.0",
          "state": {
            "_dom_classes": [],
            "_model_module": "@jupyter-widgets/controls",
            "_model_module_version": "1.5.0",
            "_model_name": "FloatProgressModel",
            "_view_count": null,
            "_view_module": "@jupyter-widgets/controls",
            "_view_module_version": "1.5.0",
            "_view_name": "ProgressView",
            "bar_style": "success",
            "description": "",
            "description_tooltip": null,
            "layout": "IPY_MODEL_042cc3caec574ddc857bccfc1cf83a64",
            "max": 147,
            "min": 0,
            "orientation": "horizontal",
            "style": "IPY_MODEL_e5cca145b76f4026af36447650f1354e",
            "value": 147
          }
        },
        "09afe8adf08d4f7d837085654df66303": {
          "model_module": "@jupyter-widgets/controls",
          "model_name": "HTMLModel",
          "model_module_version": "1.5.0",
          "state": {
            "_dom_classes": [],
            "_model_module": "@jupyter-widgets/controls",
            "_model_module_version": "1.5.0",
            "_model_name": "HTMLModel",
            "_view_count": null,
            "_view_module": "@jupyter-widgets/controls",
            "_view_module_version": "1.5.0",
            "_view_name": "HTMLView",
            "description": "",
            "description_tooltip": null,
            "layout": "IPY_MODEL_f2f46c700e0041c4b81dc8d2148eba34",
            "placeholder": "​",
            "style": "IPY_MODEL_a630a4b5348c44a58d5686f40c6cf3cd",
            "value": " 147/147 [00:00&lt;00:00, 11.7kB/s]"
          }
        },
        "2672abb62560401181bd9ddaf337ef7c": {
          "model_module": "@jupyter-widgets/base",
          "model_name": "LayoutModel",
          "model_module_version": "1.2.0",
          "state": {
            "_model_module": "@jupyter-widgets/base",
            "_model_module_version": "1.2.0",
            "_model_name": "LayoutModel",
            "_view_count": null,
            "_view_module": "@jupyter-widgets/base",
            "_view_module_version": "1.2.0",
            "_view_name": "LayoutView",
            "align_content": null,
            "align_items": null,
            "align_self": null,
            "border": null,
            "bottom": null,
            "display": null,
            "flex": null,
            "flex_flow": null,
            "grid_area": null,
            "grid_auto_columns": null,
            "grid_auto_flow": null,
            "grid_auto_rows": null,
            "grid_column": null,
            "grid_gap": null,
            "grid_row": null,
            "grid_template_areas": null,
            "grid_template_columns": null,
            "grid_template_rows": null,
            "height": null,
            "justify_content": null,
            "justify_items": null,
            "left": null,
            "margin": null,
            "max_height": null,
            "max_width": null,
            "min_height": null,
            "min_width": null,
            "object_fit": null,
            "object_position": null,
            "order": null,
            "overflow": null,
            "overflow_x": null,
            "overflow_y": null,
            "padding": null,
            "right": null,
            "top": null,
            "visibility": null,
            "width": null
          }
        },
        "e3baffff72cf4465b80543cf3fe581f9": {
          "model_module": "@jupyter-widgets/base",
          "model_name": "LayoutModel",
          "model_module_version": "1.2.0",
          "state": {
            "_model_module": "@jupyter-widgets/base",
            "_model_module_version": "1.2.0",
            "_model_name": "LayoutModel",
            "_view_count": null,
            "_view_module": "@jupyter-widgets/base",
            "_view_module_version": "1.2.0",
            "_view_name": "LayoutView",
            "align_content": null,
            "align_items": null,
            "align_self": null,
            "border": null,
            "bottom": null,
            "display": null,
            "flex": null,
            "flex_flow": null,
            "grid_area": null,
            "grid_auto_columns": null,
            "grid_auto_flow": null,
            "grid_auto_rows": null,
            "grid_column": null,
            "grid_gap": null,
            "grid_row": null,
            "grid_template_areas": null,
            "grid_template_columns": null,
            "grid_template_rows": null,
            "height": null,
            "justify_content": null,
            "justify_items": null,
            "left": null,
            "margin": null,
            "max_height": null,
            "max_width": null,
            "min_height": null,
            "min_width": null,
            "object_fit": null,
            "object_position": null,
            "order": null,
            "overflow": null,
            "overflow_x": null,
            "overflow_y": null,
            "padding": null,
            "right": null,
            "top": null,
            "visibility": null,
            "width": null
          }
        },
        "7a33cbdf1f3c497f93748db0a16dce5f": {
          "model_module": "@jupyter-widgets/controls",
          "model_name": "DescriptionStyleModel",
          "model_module_version": "1.5.0",
          "state": {
            "_model_module": "@jupyter-widgets/controls",
            "_model_module_version": "1.5.0",
            "_model_name": "DescriptionStyleModel",
            "_view_count": null,
            "_view_module": "@jupyter-widgets/base",
            "_view_module_version": "1.2.0",
            "_view_name": "StyleView",
            "description_width": ""
          }
        },
        "042cc3caec574ddc857bccfc1cf83a64": {
          "model_module": "@jupyter-widgets/base",
          "model_name": "LayoutModel",
          "model_module_version": "1.2.0",
          "state": {
            "_model_module": "@jupyter-widgets/base",
            "_model_module_version": "1.2.0",
            "_model_name": "LayoutModel",
            "_view_count": null,
            "_view_module": "@jupyter-widgets/base",
            "_view_module_version": "1.2.0",
            "_view_name": "LayoutView",
            "align_content": null,
            "align_items": null,
            "align_self": null,
            "border": null,
            "bottom": null,
            "display": null,
            "flex": null,
            "flex_flow": null,
            "grid_area": null,
            "grid_auto_columns": null,
            "grid_auto_flow": null,
            "grid_auto_rows": null,
            "grid_column": null,
            "grid_gap": null,
            "grid_row": null,
            "grid_template_areas": null,
            "grid_template_columns": null,
            "grid_template_rows": null,
            "height": null,
            "justify_content": null,
            "justify_items": null,
            "left": null,
            "margin": null,
            "max_height": null,
            "max_width": null,
            "min_height": null,
            "min_width": null,
            "object_fit": null,
            "object_position": null,
            "order": null,
            "overflow": null,
            "overflow_x": null,
            "overflow_y": null,
            "padding": null,
            "right": null,
            "top": null,
            "visibility": null,
            "width": null
          }
        },
        "e5cca145b76f4026af36447650f1354e": {
          "model_module": "@jupyter-widgets/controls",
          "model_name": "ProgressStyleModel",
          "model_module_version": "1.5.0",
          "state": {
            "_model_module": "@jupyter-widgets/controls",
            "_model_module_version": "1.5.0",
            "_model_name": "ProgressStyleModel",
            "_view_count": null,
            "_view_module": "@jupyter-widgets/base",
            "_view_module_version": "1.2.0",
            "_view_name": "StyleView",
            "bar_color": null,
            "description_width": ""
          }
        },
        "f2f46c700e0041c4b81dc8d2148eba34": {
          "model_module": "@jupyter-widgets/base",
          "model_name": "LayoutModel",
          "model_module_version": "1.2.0",
          "state": {
            "_model_module": "@jupyter-widgets/base",
            "_model_module_version": "1.2.0",
            "_model_name": "LayoutModel",
            "_view_count": null,
            "_view_module": "@jupyter-widgets/base",
            "_view_module_version": "1.2.0",
            "_view_name": "LayoutView",
            "align_content": null,
            "align_items": null,
            "align_self": null,
            "border": null,
            "bottom": null,
            "display": null,
            "flex": null,
            "flex_flow": null,
            "grid_area": null,
            "grid_auto_columns": null,
            "grid_auto_flow": null,
            "grid_auto_rows": null,
            "grid_column": null,
            "grid_gap": null,
            "grid_row": null,
            "grid_template_areas": null,
            "grid_template_columns": null,
            "grid_template_rows": null,
            "height": null,
            "justify_content": null,
            "justify_items": null,
            "left": null,
            "margin": null,
            "max_height": null,
            "max_width": null,
            "min_height": null,
            "min_width": null,
            "object_fit": null,
            "object_position": null,
            "order": null,
            "overflow": null,
            "overflow_x": null,
            "overflow_y": null,
            "padding": null,
            "right": null,
            "top": null,
            "visibility": null,
            "width": null
          }
        },
        "a630a4b5348c44a58d5686f40c6cf3cd": {
          "model_module": "@jupyter-widgets/controls",
          "model_name": "DescriptionStyleModel",
          "model_module_version": "1.5.0",
          "state": {
            "_model_module": "@jupyter-widgets/controls",
            "_model_module_version": "1.5.0",
            "_model_name": "DescriptionStyleModel",
            "_view_count": null,
            "_view_module": "@jupyter-widgets/base",
            "_view_module_version": "1.2.0",
            "_view_name": "StyleView",
            "description_width": ""
          }
        },
        "476fb726ec8448f8afdc94aaa386d136": {
          "model_module": "@jupyter-widgets/controls",
          "model_name": "TextModel",
          "model_module_version": "1.5.0",
          "state": {
            "_dom_classes": [],
            "_model_module": "@jupyter-widgets/controls",
            "_model_module_version": "1.5.0",
            "_model_name": "TextModel",
            "_view_count": null,
            "_view_module": "@jupyter-widgets/controls",
            "_view_module_version": "1.5.0",
            "_view_name": "TextView",
            "continuous_update": true,
            "description": "Query:",
            "description_tooltip": null,
            "disabled": false,
            "layout": "IPY_MODEL_d90af83d52fc4b649230ed870fd88412",
            "placeholder": "Enter search query...",
            "style": "IPY_MODEL_4ce9174ecc514fa1b01e0288dd031ea5",
            "value": "NLP"
          }
        },
        "d90af83d52fc4b649230ed870fd88412": {
          "model_module": "@jupyter-widgets/base",
          "model_name": "LayoutModel",
          "model_module_version": "1.2.0",
          "state": {
            "_model_module": "@jupyter-widgets/base",
            "_model_module_version": "1.2.0",
            "_model_name": "LayoutModel",
            "_view_count": null,
            "_view_module": "@jupyter-widgets/base",
            "_view_module_version": "1.2.0",
            "_view_name": "LayoutView",
            "align_content": null,
            "align_items": null,
            "align_self": null,
            "border": null,
            "bottom": null,
            "display": null,
            "flex": null,
            "flex_flow": null,
            "grid_area": null,
            "grid_auto_columns": null,
            "grid_auto_flow": null,
            "grid_auto_rows": null,
            "grid_column": null,
            "grid_gap": null,
            "grid_row": null,
            "grid_template_areas": null,
            "grid_template_columns": null,
            "grid_template_rows": null,
            "height": null,
            "justify_content": null,
            "justify_items": null,
            "left": null,
            "margin": null,
            "max_height": null,
            "max_width": null,
            "min_height": null,
            "min_width": null,
            "object_fit": null,
            "object_position": null,
            "order": null,
            "overflow": null,
            "overflow_x": null,
            "overflow_y": null,
            "padding": null,
            "right": null,
            "top": null,
            "visibility": null,
            "width": "50%"
          }
        },
        "4ce9174ecc514fa1b01e0288dd031ea5": {
          "model_module": "@jupyter-widgets/controls",
          "model_name": "DescriptionStyleModel",
          "model_module_version": "1.5.0",
          "state": {
            "_model_module": "@jupyter-widgets/controls",
            "_model_module_version": "1.5.0",
            "_model_name": "DescriptionStyleModel",
            "_view_count": null,
            "_view_module": "@jupyter-widgets/base",
            "_view_module_version": "1.2.0",
            "_view_name": "StyleView",
            "description_width": ""
          }
        },
        "a7c42ee8d21f42aa933e835d56edf87e": {
          "model_module": "@jupyter-widgets/controls",
          "model_name": "ButtonModel",
          "model_module_version": "1.5.0",
          "state": {
            "_dom_classes": [],
            "_model_module": "@jupyter-widgets/controls",
            "_model_module_version": "1.5.0",
            "_model_name": "ButtonModel",
            "_view_count": null,
            "_view_module": "@jupyter-widgets/controls",
            "_view_module_version": "1.5.0",
            "_view_name": "ButtonView",
            "button_style": "",
            "description": "Search",
            "disabled": false,
            "icon": "",
            "layout": "IPY_MODEL_f3645d812310468fb740be229e71d3cf",
            "style": "IPY_MODEL_e57e80cf20784c0c8dd198985b2d5a83",
            "tooltip": ""
          }
        },
        "f3645d812310468fb740be229e71d3cf": {
          "model_module": "@jupyter-widgets/base",
          "model_name": "LayoutModel",
          "model_module_version": "1.2.0",
          "state": {
            "_model_module": "@jupyter-widgets/base",
            "_model_module_version": "1.2.0",
            "_model_name": "LayoutModel",
            "_view_count": null,
            "_view_module": "@jupyter-widgets/base",
            "_view_module_version": "1.2.0",
            "_view_name": "LayoutView",
            "align_content": null,
            "align_items": null,
            "align_self": null,
            "border": null,
            "bottom": null,
            "display": null,
            "flex": null,
            "flex_flow": null,
            "grid_area": null,
            "grid_auto_columns": null,
            "grid_auto_flow": null,
            "grid_auto_rows": null,
            "grid_column": null,
            "grid_gap": null,
            "grid_row": null,
            "grid_template_areas": null,
            "grid_template_columns": null,
            "grid_template_rows": null,
            "height": null,
            "justify_content": null,
            "justify_items": null,
            "left": null,
            "margin": null,
            "max_height": null,
            "max_width": null,
            "min_height": null,
            "min_width": null,
            "object_fit": null,
            "object_position": null,
            "order": null,
            "overflow": null,
            "overflow_x": null,
            "overflow_y": null,
            "padding": null,
            "right": null,
            "top": null,
            "visibility": null,
            "width": null
          }
        },
        "e57e80cf20784c0c8dd198985b2d5a83": {
          "model_module": "@jupyter-widgets/controls",
          "model_name": "ButtonStyleModel",
          "model_module_version": "1.5.0",
          "state": {
            "_model_module": "@jupyter-widgets/controls",
            "_model_module_version": "1.5.0",
            "_model_name": "ButtonStyleModel",
            "_view_count": null,
            "_view_module": "@jupyter-widgets/base",
            "_view_module_version": "1.2.0",
            "_view_name": "StyleView",
            "button_color": null,
            "font_weight": ""
          }
        },
        "e4aa5e131efe446481ffb20e038a0682": {
          "model_module": "@jupyter-widgets/controls",
          "model_name": "ButtonModel",
          "model_module_version": "1.5.0",
          "state": {
            "_dom_classes": [],
            "_model_module": "@jupyter-widgets/controls",
            "_model_module_version": "1.5.0",
            "_model_name": "ButtonModel",
            "_view_count": null,
            "_view_module": "@jupyter-widgets/controls",
            "_view_module_version": "1.5.0",
            "_view_name": "ButtonView",
            "button_style": "",
            "description": "Visualize Network",
            "disabled": false,
            "icon": "",
            "layout": "IPY_MODEL_0dd81261cd7f4a39987a3a094bf98b70",
            "style": "IPY_MODEL_fef883846ff54b4c8bf1b434144286b0",
            "tooltip": ""
          }
        },
        "0dd81261cd7f4a39987a3a094bf98b70": {
          "model_module": "@jupyter-widgets/base",
          "model_name": "LayoutModel",
          "model_module_version": "1.2.0",
          "state": {
            "_model_module": "@jupyter-widgets/base",
            "_model_module_version": "1.2.0",
            "_model_name": "LayoutModel",
            "_view_count": null,
            "_view_module": "@jupyter-widgets/base",
            "_view_module_version": "1.2.0",
            "_view_name": "LayoutView",
            "align_content": null,
            "align_items": null,
            "align_self": null,
            "border": null,
            "bottom": null,
            "display": null,
            "flex": null,
            "flex_flow": null,
            "grid_area": null,
            "grid_auto_columns": null,
            "grid_auto_flow": null,
            "grid_auto_rows": null,
            "grid_column": null,
            "grid_gap": null,
            "grid_row": null,
            "grid_template_areas": null,
            "grid_template_columns": null,
            "grid_template_rows": null,
            "height": null,
            "justify_content": null,
            "justify_items": null,
            "left": null,
            "margin": null,
            "max_height": null,
            "max_width": null,
            "min_height": null,
            "min_width": null,
            "object_fit": null,
            "object_position": null,
            "order": null,
            "overflow": null,
            "overflow_x": null,
            "overflow_y": null,
            "padding": null,
            "right": null,
            "top": null,
            "visibility": null,
            "width": null
          }
        },
        "fef883846ff54b4c8bf1b434144286b0": {
          "model_module": "@jupyter-widgets/controls",
          "model_name": "ButtonStyleModel",
          "model_module_version": "1.5.0",
          "state": {
            "_model_module": "@jupyter-widgets/controls",
            "_model_module_version": "1.5.0",
            "_model_name": "ButtonStyleModel",
            "_view_count": null,
            "_view_module": "@jupyter-widgets/base",
            "_view_module_version": "1.2.0",
            "_view_name": "StyleView",
            "button_color": null,
            "font_weight": ""
          }
        },
        "ed39e0af82e54ffc8dc9d0fe20226565": {
          "model_module": "@jupyter-widgets/output",
          "model_name": "OutputModel",
          "model_module_version": "1.0.0",
          "state": {
            "_dom_classes": [],
            "_model_module": "@jupyter-widgets/output",
            "_model_module_version": "1.0.0",
            "_model_name": "OutputModel",
            "_view_count": null,
            "_view_module": "@jupyter-widgets/output",
            "_view_module_version": "1.0.0",
            "_view_name": "OutputView",
            "layout": "IPY_MODEL_2e30f8692c0b422baa8077305db25c26",
            "msg_id": "",
            "outputs": [
              {
                "output_type": "display_data",
                "data": {
                  "text/plain": "<Figure size 1000x600 with 1 Axes>",
                  "image/png": "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\n"
                },
                "metadata": {}
              }
            ]
          }
        },
        "2e30f8692c0b422baa8077305db25c26": {
          "model_module": "@jupyter-widgets/base",
          "model_name": "LayoutModel",
          "model_module_version": "1.2.0",
          "state": {
            "_model_module": "@jupyter-widgets/base",
            "_model_module_version": "1.2.0",
            "_model_name": "LayoutModel",
            "_view_count": null,
            "_view_module": "@jupyter-widgets/base",
            "_view_module_version": "1.2.0",
            "_view_name": "LayoutView",
            "align_content": null,
            "align_items": null,
            "align_self": null,
            "border": null,
            "bottom": null,
            "display": null,
            "flex": null,
            "flex_flow": null,
            "grid_area": null,
            "grid_auto_columns": null,
            "grid_auto_flow": null,
            "grid_auto_rows": null,
            "grid_column": null,
            "grid_gap": null,
            "grid_row": null,
            "grid_template_areas": null,
            "grid_template_columns": null,
            "grid_template_rows": null,
            "height": null,
            "justify_content": null,
            "justify_items": null,
            "left": null,
            "margin": null,
            "max_height": null,
            "max_width": null,
            "min_height": null,
            "min_width": null,
            "object_fit": null,
            "object_position": null,
            "order": null,
            "overflow": null,
            "overflow_x": null,
            "overflow_y": null,
            "padding": null,
            "right": null,
            "top": null,
            "visibility": null,
            "width": null
          }
        }
      }
    }
  },
  "cells": [
    {
      "cell_type": "markdown",
      "source": [
        "---\n",
        "---"
      ],
      "metadata": {
        "id": "oS72DZpXBkyi"
      }
    },
    {
      "cell_type": "code",
      "source": [
        "pip install pandas requests"
      ],
      "metadata": {
        "colab": {
          "base_uri": "https://localhost:8080/"
        },
        "id": "X_yKov7tBmL0",
        "outputId": "03123ea1-3169-4c95-c402-5b0585c2fb9c"
      },
      "execution_count": 1,
      "outputs": [
        {
          "output_type": "stream",
          "name": "stdout",
          "text": [
            "Requirement already satisfied: pandas in /usr/local/lib/python3.11/dist-packages (2.2.2)\n",
            "Requirement already satisfied: requests in /usr/local/lib/python3.11/dist-packages (2.32.3)\n",
            "Requirement already satisfied: numpy>=1.23.2 in /usr/local/lib/python3.11/dist-packages (from pandas) (1.26.4)\n",
            "Requirement already satisfied: python-dateutil>=2.8.2 in /usr/local/lib/python3.11/dist-packages (from pandas) (2.8.2)\n",
            "Requirement already satisfied: pytz>=2020.1 in /usr/local/lib/python3.11/dist-packages (from pandas) (2025.1)\n",
            "Requirement already satisfied: tzdata>=2022.7 in /usr/local/lib/python3.11/dist-packages (from pandas) (2025.1)\n",
            "Requirement already satisfied: charset-normalizer<4,>=2 in /usr/local/lib/python3.11/dist-packages (from requests) (3.4.1)\n",
            "Requirement already satisfied: idna<4,>=2.5 in /usr/local/lib/python3.11/dist-packages (from requests) (3.10)\n",
            "Requirement already satisfied: urllib3<3,>=1.21.1 in /usr/local/lib/python3.11/dist-packages (from requests) (2.3.0)\n",
            "Requirement already satisfied: certifi>=2017.4.17 in /usr/local/lib/python3.11/dist-packages (from requests) (2025.1.31)\n",
            "Requirement already satisfied: six>=1.5 in /usr/local/lib/python3.11/dist-packages (from python-dateutil>=2.8.2->pandas) (1.17.0)\n"
          ]
        }
      ]
    },
    {
      "cell_type": "code",
      "source": [],
      "metadata": {
        "id": "FYlwY4SeBmOu"
      },
      "execution_count": 1,
      "outputs": []
    },
    {
      "cell_type": "code",
      "source": [
        "import requests"
      ],
      "metadata": {
        "id": "fPxjeZFXBmRm"
      },
      "execution_count": 2,
      "outputs": []
    },
    {
      "cell_type": "code",
      "source": [
        "import xml.etree.ElementTree as ET"
      ],
      "metadata": {
        "id": "NlRe0FM5BmUs"
      },
      "execution_count": 3,
      "outputs": []
    },
    {
      "cell_type": "code",
      "source": [
        "import pandas as pd"
      ],
      "metadata": {
        "id": "IEAaVi_KCQ2L"
      },
      "execution_count": 4,
      "outputs": []
    },
    {
      "cell_type": "code",
      "source": [],
      "metadata": {
        "id": "pTpuf0LeCQ4z"
      },
      "execution_count": 4,
      "outputs": []
    },
    {
      "cell_type": "code",
      "source": [
        "# Function to fetch papers from arXiv"
      ],
      "metadata": {
        "id": "5UsGPOvdCQ7t"
      },
      "execution_count": 5,
      "outputs": []
    },
    {
      "cell_type": "code",
      "source": [
        "def fetch_papers(query, max_results=10):\n",
        "    base_url = \"http://export.arxiv.org/api/query\"\n",
        "    params = {\n",
        "        \"search_query\": query,\n",
        "        \"max_results\": max_results\n",
        "    }\n",
        "\n",
        "    response = requests.get(base_url, params=params)\n",
        "\n",
        "    if response.status_code != 200:\n",
        "        print(\"Error fetching data from arXiv\")\n",
        "        return []\n",
        "\n",
        "    root = ET.fromstring(response.text)\n",
        "    papers = []\n",
        "\n",
        "    for entry in root.findall(\"{http://www.w3.org/2005/Atom}entry\"):\n",
        "        title = entry.find(\"{http://www.w3.org/2005/Atom}title\").text.strip()\n",
        "        summary = entry.find(\"{http://www.w3.org/2005/Atom}summary\").text.strip()\n",
        "        published = entry.find(\"{http://www.w3.org/2005/Atom}published\").text\n",
        "        link = entry.find(\"{http://www.w3.org/2005/Atom}id\").text\n",
        "\n",
        "        authors = [\n",
        "            author.find(\"{http://www.w3.org/2005/Atom}name\").text\n",
        "            for author in entry.findall(\"{http://www.w3.org/2005/Atom}author\")\n",
        "        ]\n",
        "\n",
        "        papers.append({\n",
        "            \"Title\": title,\n",
        "            \"Authors\": \", \".join(authors),\n",
        "            \"Published Date\": published,\n",
        "            \"Abstract\": summary,\n",
        "            \"arXiv Link\": link\n",
        "        })\n",
        "\n",
        "    return papers"
      ],
      "metadata": {
        "id": "7MCX4SVzCQ-2"
      },
      "execution_count": 6,
      "outputs": []
    },
    {
      "cell_type": "code",
      "source": [],
      "metadata": {
        "id": "410yYQiDCaiU"
      },
      "execution_count": 6,
      "outputs": []
    },
    {
      "cell_type": "code",
      "source": [
        "# Function to save data to CSV in Colab"
      ],
      "metadata": {
        "id": "aW9L28XaCalV"
      },
      "execution_count": 7,
      "outputs": []
    },
    {
      "cell_type": "code",
      "source": [
        "def save_to_csv(papers, filename=\"/content/arxiv_papers.csv\"):\n",
        "    df = pd.DataFrame(papers)\n",
        "    df.to_csv(filename, index=False)\n",
        "    print(f\"✅ Dataset saved to {filename}\")\n",
        "    return df  # Return DataFrame for display"
      ],
      "metadata": {
        "id": "Jy_03CEBCaoE"
      },
      "execution_count": 8,
      "outputs": []
    },
    {
      "cell_type": "code",
      "source": [],
      "metadata": {
        "id": "Zg_qU0huCasb"
      },
      "execution_count": 8,
      "outputs": []
    },
    {
      "cell_type": "code",
      "source": [
        "# Function to analyze the dataset"
      ],
      "metadata": {
        "id": "y4wKNt43BmXU"
      },
      "execution_count": 9,
      "outputs": []
    },
    {
      "cell_type": "code",
      "source": [
        "def analyze_papers(papers):\n",
        "    df = pd.DataFrame(papers)\n",
        "\n",
        "    # Count papers per author\n",
        "    author_counts = {}\n",
        "    for authors in df[\"Authors\"]:\n",
        "        for author in authors.split(\", \"):\n",
        "            author_counts[author] = author_counts.get(author, 0) + 1\n",
        "\n",
        "    sorted_authors = sorted(author_counts.items(), key=lambda x: x[1], reverse=True)\n",
        "\n",
        "    print(\"\\n🔍 **Top 5 Authors with Most Papers:**\")\n",
        "    for author, count in sorted_authors[:5]:\n",
        "        print(f\"📌 {author}: {count} papers\")\n"
      ],
      "metadata": {
        "id": "FPG0HDDbBmbX"
      },
      "execution_count": 10,
      "outputs": []
    },
    {
      "cell_type": "code",
      "source": [],
      "metadata": {
        "id": "T5hxDFDYCj6z"
      },
      "execution_count": 10,
      "outputs": []
    },
    {
      "cell_type": "code",
      "source": [
        "# Main function to run in Colab"
      ],
      "metadata": {
        "id": "wFJTMl5fCj9q"
      },
      "execution_count": 11,
      "outputs": []
    },
    {
      "cell_type": "code",
      "source": [
        "def main():\n",
        "    query = \"machine learning\"  # Change this to any topic you want\n",
        "    papers = fetch_papers(query, max_results=10)\n",
        "\n",
        "    if papers:\n",
        "        df = save_to_csv(papers)\n",
        "        display(df)  # Show table inline in Colab\n",
        "        analyze_papers(papers)\n",
        "    else:\n",
        "        print(\"❌ No papers found!\")"
      ],
      "metadata": {
        "id": "EzOZD3uqCkA2"
      },
      "execution_count": 12,
      "outputs": []
    },
    {
      "cell_type": "code",
      "source": [],
      "metadata": {
        "id": "S7gB6ZLTCkD6"
      },
      "execution_count": 12,
      "outputs": []
    },
    {
      "cell_type": "code",
      "source": [
        "# Run the script in Colab"
      ],
      "metadata": {
        "id": "8lKuuVe7CkGs"
      },
      "execution_count": 13,
      "outputs": []
    },
    {
      "cell_type": "code",
      "source": [
        "main()"
      ],
      "metadata": {
        "colab": {
          "base_uri": "https://localhost:8080/",
          "height": 1000
        },
        "id": "X1uvPZOVCkJz",
        "outputId": "e0953d58-6e89-4e13-f692-0a5e3c991c56"
      },
      "execution_count": 14,
      "outputs": [
        {
          "output_type": "stream",
          "name": "stdout",
          "text": [
            "✅ Dataset saved to /content/arxiv_papers.csv\n"
          ]
        },
        {
          "output_type": "display_data",
          "data": {
            "text/plain": [
              "                                               Title  \\\n",
              "0   Lecture Notes: Optimization for Machine Learning   \n",
              "1  An Optimal Control View of Adversarial Machine...   \n",
              "2  Minimax deviation strategies for machine learn...   \n",
              "3  Machine Learning for Clinical Predictive Analy...   \n",
              "4  Towards Modular Machine Learning Solution Deve...   \n",
              "5  Introduction to Machine Learning: Class Notes ...   \n",
              "6  The Tribes of Machine Learning and the Realm o...   \n",
              "7  A Machine Learning Tutorial for Operational Me...   \n",
              "8  Position Paper: Towards Transparent Machine Le...   \n",
              "9             Understanding Bias in Machine Learning   \n",
              "\n",
              "                                             Authors        Published Date  \\\n",
              "0                                         Elad Hazan  2019-09-08T21:49:42Z   \n",
              "1                                        Xiaojin Zhu  2018-11-11T14:28:34Z   \n",
              "2           Michail Schlesinger, Evgeniy Vodolazskiy  2017-07-16T09:15:08Z   \n",
              "3                                      Wei-Hung Weng  2019-09-19T22:02:00Z   \n",
              "4                Samiyuru Menik, Lakshmish Ramaswamy  2023-01-23T22:54:34Z   \n",
              "5                                      Amnon Shashua  2009-04-23T11:40:57Z   \n",
              "6                       Ayaz Akram, Jason Lowe-Power  2020-12-07T23:10:51Z   \n",
              "7  Randy J. Chase, David R. Harrison, Amanda Burk...  2022-04-15T14:48:04Z   \n",
              "8                                     Dustin Juliano  2019-11-12T10:49:55Z   \n",
              "9                          Jindong Gu, Daniela Oelke  2019-09-02T20:36:19Z   \n",
              "\n",
              "                                            Abstract  \\\n",
              "0  Lecture notes on optimization for machine lear...   \n",
              "1  I describe an optimal control view of adversar...   \n",
              "2  The article is devoted to the problem of small...   \n",
              "3  In this chapter, we provide a brief overview o...   \n",
              "4  Machine learning technologies have demonstrate...   \n",
              "5  Introduction to Machine learning covering Stat...   \n",
              "6  Machine learning techniques have influenced th...   \n",
              "7  Recently, the use of machine learning in meteo...   \n",
              "8  Transparent machine learning is introduced as ...   \n",
              "9  Bias is known to be an impediment to fair deci...   \n",
              "\n",
              "                          arXiv Link  \n",
              "0  http://arxiv.org/abs/1909.03550v1  \n",
              "1  http://arxiv.org/abs/1811.04422v1  \n",
              "2  http://arxiv.org/abs/1707.04849v1  \n",
              "3  http://arxiv.org/abs/1909.09246v1  \n",
              "4  http://arxiv.org/abs/2301.09753v1  \n",
              "5   http://arxiv.org/abs/0904.3664v1  \n",
              "6  http://arxiv.org/abs/2012.04105v1  \n",
              "7  http://arxiv.org/abs/2204.07492v2  \n",
              "8  http://arxiv.org/abs/1911.06612v1  \n",
              "9  http://arxiv.org/abs/1909.01866v1  "
            ],
            "text/html": [
              "\n",
              "  <div id=\"df-e9bee90d-ab2c-4c0a-af69-6e29a1b7601f\" class=\"colab-df-container\">\n",
              "    <div>\n",
              "<style scoped>\n",
              "    .dataframe tbody tr th:only-of-type {\n",
              "        vertical-align: middle;\n",
              "    }\n",
              "\n",
              "    .dataframe tbody tr th {\n",
              "        vertical-align: top;\n",
              "    }\n",
              "\n",
              "    .dataframe thead th {\n",
              "        text-align: right;\n",
              "    }\n",
              "</style>\n",
              "<table border=\"1\" class=\"dataframe\">\n",
              "  <thead>\n",
              "    <tr style=\"text-align: right;\">\n",
              "      <th></th>\n",
              "      <th>Title</th>\n",
              "      <th>Authors</th>\n",
              "      <th>Published Date</th>\n",
              "      <th>Abstract</th>\n",
              "      <th>arXiv Link</th>\n",
              "    </tr>\n",
              "  </thead>\n",
              "  <tbody>\n",
              "    <tr>\n",
              "      <th>0</th>\n",
              "      <td>Lecture Notes: Optimization for Machine Learning</td>\n",
              "      <td>Elad Hazan</td>\n",
              "      <td>2019-09-08T21:49:42Z</td>\n",
              "      <td>Lecture notes on optimization for machine lear...</td>\n",
              "      <td>http://arxiv.org/abs/1909.03550v1</td>\n",
              "    </tr>\n",
              "    <tr>\n",
              "      <th>1</th>\n",
              "      <td>An Optimal Control View of Adversarial Machine...</td>\n",
              "      <td>Xiaojin Zhu</td>\n",
              "      <td>2018-11-11T14:28:34Z</td>\n",
              "      <td>I describe an optimal control view of adversar...</td>\n",
              "      <td>http://arxiv.org/abs/1811.04422v1</td>\n",
              "    </tr>\n",
              "    <tr>\n",
              "      <th>2</th>\n",
              "      <td>Minimax deviation strategies for machine learn...</td>\n",
              "      <td>Michail Schlesinger, Evgeniy Vodolazskiy</td>\n",
              "      <td>2017-07-16T09:15:08Z</td>\n",
              "      <td>The article is devoted to the problem of small...</td>\n",
              "      <td>http://arxiv.org/abs/1707.04849v1</td>\n",
              "    </tr>\n",
              "    <tr>\n",
              "      <th>3</th>\n",
              "      <td>Machine Learning for Clinical Predictive Analy...</td>\n",
              "      <td>Wei-Hung Weng</td>\n",
              "      <td>2019-09-19T22:02:00Z</td>\n",
              "      <td>In this chapter, we provide a brief overview o...</td>\n",
              "      <td>http://arxiv.org/abs/1909.09246v1</td>\n",
              "    </tr>\n",
              "    <tr>\n",
              "      <th>4</th>\n",
              "      <td>Towards Modular Machine Learning Solution Deve...</td>\n",
              "      <td>Samiyuru Menik, Lakshmish Ramaswamy</td>\n",
              "      <td>2023-01-23T22:54:34Z</td>\n",
              "      <td>Machine learning technologies have demonstrate...</td>\n",
              "      <td>http://arxiv.org/abs/2301.09753v1</td>\n",
              "    </tr>\n",
              "    <tr>\n",
              "      <th>5</th>\n",
              "      <td>Introduction to Machine Learning: Class Notes ...</td>\n",
              "      <td>Amnon Shashua</td>\n",
              "      <td>2009-04-23T11:40:57Z</td>\n",
              "      <td>Introduction to Machine learning covering Stat...</td>\n",
              "      <td>http://arxiv.org/abs/0904.3664v1</td>\n",
              "    </tr>\n",
              "    <tr>\n",
              "      <th>6</th>\n",
              "      <td>The Tribes of Machine Learning and the Realm o...</td>\n",
              "      <td>Ayaz Akram, Jason Lowe-Power</td>\n",
              "      <td>2020-12-07T23:10:51Z</td>\n",
              "      <td>Machine learning techniques have influenced th...</td>\n",
              "      <td>http://arxiv.org/abs/2012.04105v1</td>\n",
              "    </tr>\n",
              "    <tr>\n",
              "      <th>7</th>\n",
              "      <td>A Machine Learning Tutorial for Operational Me...</td>\n",
              "      <td>Randy J. Chase, David R. Harrison, Amanda Burk...</td>\n",
              "      <td>2022-04-15T14:48:04Z</td>\n",
              "      <td>Recently, the use of machine learning in meteo...</td>\n",
              "      <td>http://arxiv.org/abs/2204.07492v2</td>\n",
              "    </tr>\n",
              "    <tr>\n",
              "      <th>8</th>\n",
              "      <td>Position Paper: Towards Transparent Machine Le...</td>\n",
              "      <td>Dustin Juliano</td>\n",
              "      <td>2019-11-12T10:49:55Z</td>\n",
              "      <td>Transparent machine learning is introduced as ...</td>\n",
              "      <td>http://arxiv.org/abs/1911.06612v1</td>\n",
              "    </tr>\n",
              "    <tr>\n",
              "      <th>9</th>\n",
              "      <td>Understanding Bias in Machine Learning</td>\n",
              "      <td>Jindong Gu, Daniela Oelke</td>\n",
              "      <td>2019-09-02T20:36:19Z</td>\n",
              "      <td>Bias is known to be an impediment to fair deci...</td>\n",
              "      <td>http://arxiv.org/abs/1909.01866v1</td>\n",
              "    </tr>\n",
              "  </tbody>\n",
              "</table>\n",
              "</div>\n",
              "    <div class=\"colab-df-buttons\">\n",
              "\n",
              "  <div class=\"colab-df-container\">\n",
              "    <button class=\"colab-df-convert\" onclick=\"convertToInteractive('df-e9bee90d-ab2c-4c0a-af69-6e29a1b7601f')\"\n",
              "            title=\"Convert this dataframe to an interactive table.\"\n",
              "            style=\"display:none;\">\n",
              "\n",
              "  <svg xmlns=\"http://www.w3.org/2000/svg\" height=\"24px\" viewBox=\"0 -960 960 960\">\n",
              "    <path d=\"M120-120v-720h720v720H120Zm60-500h600v-160H180v160Zm220 220h160v-160H400v160Zm0 220h160v-160H400v160ZM180-400h160v-160H180v160Zm440 0h160v-160H620v160ZM180-180h160v-160H180v160Zm440 0h160v-160H620v160Z\"/>\n",
              "  </svg>\n",
              "    </button>\n",
              "\n",
              "  <style>\n",
              "    .colab-df-container {\n",
              "      display:flex;\n",
              "      gap: 12px;\n",
              "    }\n",
              "\n",
              "    .colab-df-convert {\n",
              "      background-color: #E8F0FE;\n",
              "      border: none;\n",
              "      border-radius: 50%;\n",
              "      cursor: pointer;\n",
              "      display: none;\n",
              "      fill: #1967D2;\n",
              "      height: 32px;\n",
              "      padding: 0 0 0 0;\n",
              "      width: 32px;\n",
              "    }\n",
              "\n",
              "    .colab-df-convert:hover {\n",
              "      background-color: #E2EBFA;\n",
              "      box-shadow: 0px 1px 2px rgba(60, 64, 67, 0.3), 0px 1px 3px 1px rgba(60, 64, 67, 0.15);\n",
              "      fill: #174EA6;\n",
              "    }\n",
              "\n",
              "    .colab-df-buttons div {\n",
              "      margin-bottom: 4px;\n",
              "    }\n",
              "\n",
              "    [theme=dark] .colab-df-convert {\n",
              "      background-color: #3B4455;\n",
              "      fill: #D2E3FC;\n",
              "    }\n",
              "\n",
              "    [theme=dark] .colab-df-convert:hover {\n",
              "      background-color: #434B5C;\n",
              "      box-shadow: 0px 1px 3px 1px rgba(0, 0, 0, 0.15);\n",
              "      filter: drop-shadow(0px 1px 2px rgba(0, 0, 0, 0.3));\n",
              "      fill: #FFFFFF;\n",
              "    }\n",
              "  </style>\n",
              "\n",
              "    <script>\n",
              "      const buttonEl =\n",
              "        document.querySelector('#df-e9bee90d-ab2c-4c0a-af69-6e29a1b7601f button.colab-df-convert');\n",
              "      buttonEl.style.display =\n",
              "        google.colab.kernel.accessAllowed ? 'block' : 'none';\n",
              "\n",
              "      async function convertToInteractive(key) {\n",
              "        const element = document.querySelector('#df-e9bee90d-ab2c-4c0a-af69-6e29a1b7601f');\n",
              "        const dataTable =\n",
              "          await google.colab.kernel.invokeFunction('convertToInteractive',\n",
              "                                                    [key], {});\n",
              "        if (!dataTable) return;\n",
              "\n",
              "        const docLinkHtml = 'Like what you see? Visit the ' +\n",
              "          '<a target=\"_blank\" href=https://colab.research.google.com/notebooks/data_table.ipynb>data table notebook</a>'\n",
              "          + ' to learn more about interactive tables.';\n",
              "        element.innerHTML = '';\n",
              "        dataTable['output_type'] = 'display_data';\n",
              "        await google.colab.output.renderOutput(dataTable, element);\n",
              "        const docLink = document.createElement('div');\n",
              "        docLink.innerHTML = docLinkHtml;\n",
              "        element.appendChild(docLink);\n",
              "      }\n",
              "    </script>\n",
              "  </div>\n",
              "\n",
              "\n",
              "<div id=\"df-473c6d12-66e6-4f5d-9b9f-ee18556c6ce2\">\n",
              "  <button class=\"colab-df-quickchart\" onclick=\"quickchart('df-473c6d12-66e6-4f5d-9b9f-ee18556c6ce2')\"\n",
              "            title=\"Suggest charts\"\n",
              "            style=\"display:none;\">\n",
              "\n",
              "<svg xmlns=\"http://www.w3.org/2000/svg\" height=\"24px\"viewBox=\"0 0 24 24\"\n",
              "     width=\"24px\">\n",
              "    <g>\n",
              "        <path d=\"M19 3H5c-1.1 0-2 .9-2 2v14c0 1.1.9 2 2 2h14c1.1 0 2-.9 2-2V5c0-1.1-.9-2-2-2zM9 17H7v-7h2v7zm4 0h-2V7h2v10zm4 0h-2v-4h2v4z\"/>\n",
              "    </g>\n",
              "</svg>\n",
              "  </button>\n",
              "\n",
              "<style>\n",
              "  .colab-df-quickchart {\n",
              "      --bg-color: #E8F0FE;\n",
              "      --fill-color: #1967D2;\n",
              "      --hover-bg-color: #E2EBFA;\n",
              "      --hover-fill-color: #174EA6;\n",
              "      --disabled-fill-color: #AAA;\n",
              "      --disabled-bg-color: #DDD;\n",
              "  }\n",
              "\n",
              "  [theme=dark] .colab-df-quickchart {\n",
              "      --bg-color: #3B4455;\n",
              "      --fill-color: #D2E3FC;\n",
              "      --hover-bg-color: #434B5C;\n",
              "      --hover-fill-color: #FFFFFF;\n",
              "      --disabled-bg-color: #3B4455;\n",
              "      --disabled-fill-color: #666;\n",
              "  }\n",
              "\n",
              "  .colab-df-quickchart {\n",
              "    background-color: var(--bg-color);\n",
              "    border: none;\n",
              "    border-radius: 50%;\n",
              "    cursor: pointer;\n",
              "    display: none;\n",
              "    fill: var(--fill-color);\n",
              "    height: 32px;\n",
              "    padding: 0;\n",
              "    width: 32px;\n",
              "  }\n",
              "\n",
              "  .colab-df-quickchart:hover {\n",
              "    background-color: var(--hover-bg-color);\n",
              "    box-shadow: 0 1px 2px rgba(60, 64, 67, 0.3), 0 1px 3px 1px rgba(60, 64, 67, 0.15);\n",
              "    fill: var(--button-hover-fill-color);\n",
              "  }\n",
              "\n",
              "  .colab-df-quickchart-complete:disabled,\n",
              "  .colab-df-quickchart-complete:disabled:hover {\n",
              "    background-color: var(--disabled-bg-color);\n",
              "    fill: var(--disabled-fill-color);\n",
              "    box-shadow: none;\n",
              "  }\n",
              "\n",
              "  .colab-df-spinner {\n",
              "    border: 2px solid var(--fill-color);\n",
              "    border-color: transparent;\n",
              "    border-bottom-color: var(--fill-color);\n",
              "    animation:\n",
              "      spin 1s steps(1) infinite;\n",
              "  }\n",
              "\n",
              "  @keyframes spin {\n",
              "    0% {\n",
              "      border-color: transparent;\n",
              "      border-bottom-color: var(--fill-color);\n",
              "      border-left-color: var(--fill-color);\n",
              "    }\n",
              "    20% {\n",
              "      border-color: transparent;\n",
              "      border-left-color: var(--fill-color);\n",
              "      border-top-color: var(--fill-color);\n",
              "    }\n",
              "    30% {\n",
              "      border-color: transparent;\n",
              "      border-left-color: var(--fill-color);\n",
              "      border-top-color: var(--fill-color);\n",
              "      border-right-color: var(--fill-color);\n",
              "    }\n",
              "    40% {\n",
              "      border-color: transparent;\n",
              "      border-right-color: var(--fill-color);\n",
              "      border-top-color: var(--fill-color);\n",
              "    }\n",
              "    60% {\n",
              "      border-color: transparent;\n",
              "      border-right-color: var(--fill-color);\n",
              "    }\n",
              "    80% {\n",
              "      border-color: transparent;\n",
              "      border-right-color: var(--fill-color);\n",
              "      border-bottom-color: var(--fill-color);\n",
              "    }\n",
              "    90% {\n",
              "      border-color: transparent;\n",
              "      border-bottom-color: var(--fill-color);\n",
              "    }\n",
              "  }\n",
              "</style>\n",
              "\n",
              "  <script>\n",
              "    async function quickchart(key) {\n",
              "      const quickchartButtonEl =\n",
              "        document.querySelector('#' + key + ' button');\n",
              "      quickchartButtonEl.disabled = true;  // To prevent multiple clicks.\n",
              "      quickchartButtonEl.classList.add('colab-df-spinner');\n",
              "      try {\n",
              "        const charts = await google.colab.kernel.invokeFunction(\n",
              "            'suggestCharts', [key], {});\n",
              "      } catch (error) {\n",
              "        console.error('Error during call to suggestCharts:', error);\n",
              "      }\n",
              "      quickchartButtonEl.classList.remove('colab-df-spinner');\n",
              "      quickchartButtonEl.classList.add('colab-df-quickchart-complete');\n",
              "    }\n",
              "    (() => {\n",
              "      let quickchartButtonEl =\n",
              "        document.querySelector('#df-473c6d12-66e6-4f5d-9b9f-ee18556c6ce2 button');\n",
              "      quickchartButtonEl.style.display =\n",
              "        google.colab.kernel.accessAllowed ? 'block' : 'none';\n",
              "    })();\n",
              "  </script>\n",
              "</div>\n",
              "\n",
              "    </div>\n",
              "  </div>\n"
            ],
            "application/vnd.google.colaboratory.intrinsic+json": {
              "type": "dataframe",
              "summary": "{\n  \"name\": \"main()\",\n  \"rows\": 10,\n  \"fields\": [\n    {\n      \"column\": \"Title\",\n      \"properties\": {\n        \"dtype\": \"string\",\n        \"num_unique_values\": 10,\n        \"samples\": [\n          \"Position Paper: Towards Transparent Machine Learning\",\n          \"An Optimal Control View of Adversarial Machine Learning\",\n          \"Introduction to Machine Learning: Class Notes 67577\"\n        ],\n        \"semantic_type\": \"\",\n        \"description\": \"\"\n      }\n    },\n    {\n      \"column\": \"Authors\",\n      \"properties\": {\n        \"dtype\": \"string\",\n        \"num_unique_values\": 10,\n        \"samples\": [\n          \"Dustin Juliano\",\n          \"Xiaojin Zhu\",\n          \"Amnon Shashua\"\n        ],\n        \"semantic_type\": \"\",\n        \"description\": \"\"\n      }\n    },\n    {\n      \"column\": \"Published Date\",\n      \"properties\": {\n        \"dtype\": \"object\",\n        \"num_unique_values\": 10,\n        \"samples\": [\n          \"2019-11-12T10:49:55Z\",\n          \"2018-11-11T14:28:34Z\",\n          \"2009-04-23T11:40:57Z\"\n        ],\n        \"semantic_type\": \"\",\n        \"description\": \"\"\n      }\n    },\n    {\n      \"column\": \"Abstract\",\n      \"properties\": {\n        \"dtype\": \"string\",\n        \"num_unique_values\": 10,\n        \"samples\": [\n          \"Transparent machine learning is introduced as an alternative form of machine\\nlearning, where both the model and the learning system are represented in\\nsource code form. The goal of this project is to enable direct human\\nunderstanding of machine learning models, giving us the ability to learn,\\nverify, and refine them as programs. If solved, this technology could represent\\na best-case scenario for the safety and security of AI systems going forward.\",\n          \"I describe an optimal control view of adversarial machine learning, where the\\ndynamical system is the machine learner, the input are adversarial actions, and\\nthe control costs are defined by the adversary's goals to do harm and be hard\\nto detect. This view encompasses many types of adversarial machine learning,\\nincluding test-item attacks, training-data poisoning, and adversarial reward\\nshaping. The view encourages adversarial machine learning researcher to utilize\\nadvances in control theory and reinforcement learning.\",\n          \"Introduction to Machine learning covering Statistical Inference (Bayes, EM,\\nML/MaxEnt duality), algebraic and spectral methods (PCA, LDA, CCA, Clustering),\\nand PAC learning (the Formal model, VC dimension, Double Sampling theorem).\"\n        ],\n        \"semantic_type\": \"\",\n        \"description\": \"\"\n      }\n    },\n    {\n      \"column\": \"arXiv Link\",\n      \"properties\": {\n        \"dtype\": \"string\",\n        \"num_unique_values\": 10,\n        \"samples\": [\n          \"http://arxiv.org/abs/1911.06612v1\",\n          \"http://arxiv.org/abs/1811.04422v1\",\n          \"http://arxiv.org/abs/0904.3664v1\"\n        ],\n        \"semantic_type\": \"\",\n        \"description\": \"\"\n      }\n    }\n  ]\n}"
            }
          },
          "metadata": {}
        },
        {
          "output_type": "stream",
          "name": "stdout",
          "text": [
            "\n",
            "🔍 **Top 5 Authors with Most Papers:**\n",
            "📌 Elad Hazan: 1 papers\n",
            "📌 Xiaojin Zhu: 1 papers\n",
            "📌 Michail Schlesinger: 1 papers\n",
            "📌 Evgeniy Vodolazskiy: 1 papers\n",
            "📌 Wei-Hung Weng: 1 papers\n"
          ]
        }
      ]
    },
    {
      "cell_type": "markdown",
      "source": [
        "---\n",
        "---"
      ],
      "metadata": {
        "id": "OmlOpOSzC3Wd"
      }
    },
    {
      "cell_type": "code",
      "source": [],
      "metadata": {
        "id": "FWsV9rn2Ou_0"
      },
      "execution_count": null,
      "outputs": []
    },
    {
      "cell_type": "code",
      "source": [],
      "metadata": {
        "id": "vlyIoCH8OvV7"
      },
      "execution_count": null,
      "outputs": []
    },
    {
      "cell_type": "code",
      "source": [],
      "metadata": {
        "id": "8LzS8WDYOv7d"
      },
      "execution_count": null,
      "outputs": []
    },
    {
      "cell_type": "markdown",
      "source": [
        "---\n",
        "---"
      ],
      "metadata": {
        "id": "4MaATC-5OwLC"
      }
    },
    {
      "cell_type": "code",
      "source": [
        "# Load the dataset"
      ],
      "metadata": {
        "id": "n9J8diq3C4Zf"
      },
      "execution_count": 15,
      "outputs": []
    },
    {
      "cell_type": "code",
      "source": [
        "file_path = \"/content/arxiv_papers.csv\""
      ],
      "metadata": {
        "id": "E9UUHZzcC4dv"
      },
      "execution_count": 16,
      "outputs": []
    },
    {
      "cell_type": "code",
      "source": [
        "df = pd.read_csv(file_path)"
      ],
      "metadata": {
        "id": "738LOwkcC4h6"
      },
      "execution_count": 17,
      "outputs": []
    },
    {
      "cell_type": "code",
      "source": [],
      "metadata": {
        "id": "bL68VQkDDBIF"
      },
      "execution_count": 17,
      "outputs": []
    },
    {
      "cell_type": "code",
      "source": [],
      "metadata": {
        "id": "XJiqGm1GDBLs"
      },
      "execution_count": 17,
      "outputs": []
    },
    {
      "cell_type": "code",
      "source": [
        "# Display basic info about the dataset"
      ],
      "metadata": {
        "id": "v9zS5CXXDBPk"
      },
      "execution_count": 18,
      "outputs": []
    },
    {
      "cell_type": "code",
      "source": [
        "print(\"🔹 Dataset Info:\")\n",
        "print(df.info())"
      ],
      "metadata": {
        "colab": {
          "base_uri": "https://localhost:8080/"
        },
        "id": "eUCnrvYkDBSt",
        "outputId": "da1a30bf-a700-43b9-9ec6-5ed0c74ac497"
      },
      "execution_count": 19,
      "outputs": [
        {
          "output_type": "stream",
          "name": "stdout",
          "text": [
            "🔹 Dataset Info:\n",
            "<class 'pandas.core.frame.DataFrame'>\n",
            "RangeIndex: 10 entries, 0 to 9\n",
            "Data columns (total 5 columns):\n",
            " #   Column          Non-Null Count  Dtype \n",
            "---  ------          --------------  ----- \n",
            " 0   Title           10 non-null     object\n",
            " 1   Authors         10 non-null     object\n",
            " 2   Published Date  10 non-null     object\n",
            " 3   Abstract        10 non-null     object\n",
            " 4   arXiv Link      10 non-null     object\n",
            "dtypes: object(5)\n",
            "memory usage: 532.0+ bytes\n",
            "None\n"
          ]
        }
      ]
    },
    {
      "cell_type": "code",
      "source": [],
      "metadata": {
        "id": "A5YKUS0oDBWe"
      },
      "execution_count": 19,
      "outputs": []
    },
    {
      "cell_type": "code",
      "source": [],
      "metadata": {
        "id": "8AAoXtiiDBZu"
      },
      "execution_count": 19,
      "outputs": []
    },
    {
      "cell_type": "code",
      "source": [
        "# Check for missing values"
      ],
      "metadata": {
        "id": "xwkTojVqDBdO"
      },
      "execution_count": 20,
      "outputs": []
    },
    {
      "cell_type": "code",
      "source": [
        "print(\"\\n🔹 Missing Values:\")\n",
        "print(df.isnull().sum())"
      ],
      "metadata": {
        "colab": {
          "base_uri": "https://localhost:8080/"
        },
        "id": "-r_YGbOGDBgq",
        "outputId": "8f0acf4f-3f0c-4857-89d2-c770180ca9d6"
      },
      "execution_count": 21,
      "outputs": [
        {
          "output_type": "stream",
          "name": "stdout",
          "text": [
            "\n",
            "🔹 Missing Values:\n",
            "Title             0\n",
            "Authors           0\n",
            "Published Date    0\n",
            "Abstract          0\n",
            "arXiv Link        0\n",
            "dtype: int64\n"
          ]
        }
      ]
    },
    {
      "cell_type": "code",
      "source": [],
      "metadata": {
        "id": "LbutBqpYDLwY"
      },
      "execution_count": 21,
      "outputs": []
    },
    {
      "cell_type": "code",
      "source": [],
      "metadata": {
        "id": "X6lPWU5GDLzj"
      },
      "execution_count": 21,
      "outputs": []
    },
    {
      "cell_type": "code",
      "source": [
        "# Check for duplicate rows"
      ],
      "metadata": {
        "id": "tsgBWscuDL4Y"
      },
      "execution_count": 22,
      "outputs": []
    },
    {
      "cell_type": "code",
      "source": [
        "print(\"\\n🔹 Duplicate Rows:\", df.duplicated().sum())"
      ],
      "metadata": {
        "colab": {
          "base_uri": "https://localhost:8080/"
        },
        "id": "Ls6JJttTDL8P",
        "outputId": "5d5ab29d-47f3-46e0-b1a5-9a9a75fcdeb6"
      },
      "execution_count": 23,
      "outputs": [
        {
          "output_type": "stream",
          "name": "stdout",
          "text": [
            "\n",
            "🔹 Duplicate Rows: 0\n"
          ]
        }
      ]
    },
    {
      "cell_type": "code",
      "source": [],
      "metadata": {
        "id": "IpXPf3TpDMAo"
      },
      "execution_count": 23,
      "outputs": []
    },
    {
      "cell_type": "code",
      "source": [],
      "metadata": {
        "id": "n8akXaXyDBj4"
      },
      "execution_count": 23,
      "outputs": []
    },
    {
      "cell_type": "code",
      "source": [
        "#  Display first few rows"
      ],
      "metadata": {
        "id": "3BojK6o_DBm9"
      },
      "execution_count": 24,
      "outputs": []
    },
    {
      "cell_type": "code",
      "source": [
        "print(\"\\n🔹 First 5 Rows:\")\n",
        "print(df.head())"
      ],
      "metadata": {
        "colab": {
          "base_uri": "https://localhost:8080/"
        },
        "id": "Svrx9_DhDBqG",
        "outputId": "961676a2-18b8-433d-d9e8-9aa2acb3103e"
      },
      "execution_count": 25,
      "outputs": [
        {
          "output_type": "stream",
          "name": "stdout",
          "text": [
            "\n",
            "🔹 First 5 Rows:\n",
            "                                               Title  \\\n",
            "0   Lecture Notes: Optimization for Machine Learning   \n",
            "1  An Optimal Control View of Adversarial Machine...   \n",
            "2  Minimax deviation strategies for machine learn...   \n",
            "3  Machine Learning for Clinical Predictive Analy...   \n",
            "4  Towards Modular Machine Learning Solution Deve...   \n",
            "\n",
            "                                    Authors        Published Date  \\\n",
            "0                                Elad Hazan  2019-09-08T21:49:42Z   \n",
            "1                               Xiaojin Zhu  2018-11-11T14:28:34Z   \n",
            "2  Michail Schlesinger, Evgeniy Vodolazskiy  2017-07-16T09:15:08Z   \n",
            "3                             Wei-Hung Weng  2019-09-19T22:02:00Z   \n",
            "4       Samiyuru Menik, Lakshmish Ramaswamy  2023-01-23T22:54:34Z   \n",
            "\n",
            "                                            Abstract  \\\n",
            "0  Lecture notes on optimization for machine lear...   \n",
            "1  I describe an optimal control view of adversar...   \n",
            "2  The article is devoted to the problem of small...   \n",
            "3  In this chapter, we provide a brief overview o...   \n",
            "4  Machine learning technologies have demonstrate...   \n",
            "\n",
            "                          arXiv Link  \n",
            "0  http://arxiv.org/abs/1909.03550v1  \n",
            "1  http://arxiv.org/abs/1811.04422v1  \n",
            "2  http://arxiv.org/abs/1707.04849v1  \n",
            "3  http://arxiv.org/abs/1909.09246v1  \n",
            "4  http://arxiv.org/abs/2301.09753v1  \n"
          ]
        }
      ]
    },
    {
      "cell_type": "code",
      "source": [],
      "metadata": {
        "id": "EuG_BGvJDUen"
      },
      "execution_count": 25,
      "outputs": []
    },
    {
      "cell_type": "code",
      "source": [],
      "metadata": {
        "id": "VjW857GUDUhz"
      },
      "execution_count": 25,
      "outputs": []
    },
    {
      "cell_type": "code",
      "source": [
        "# Check data types of each column"
      ],
      "metadata": {
        "id": "7TpZZG6DDUmn"
      },
      "execution_count": 26,
      "outputs": []
    },
    {
      "cell_type": "code",
      "source": [
        "print(\"\\n🔹 Data Types:\")\n",
        "print(df.dtypes)"
      ],
      "metadata": {
        "colab": {
          "base_uri": "https://localhost:8080/"
        },
        "id": "roAoNFb-DUp5",
        "outputId": "24077540-539f-4991-a3f2-c750f4b0391c"
      },
      "execution_count": 27,
      "outputs": [
        {
          "output_type": "stream",
          "name": "stdout",
          "text": [
            "\n",
            "🔹 Data Types:\n",
            "Title             object\n",
            "Authors           object\n",
            "Published Date    object\n",
            "Abstract          object\n",
            "arXiv Link        object\n",
            "dtype: object\n"
          ]
        }
      ]
    },
    {
      "cell_type": "code",
      "source": [],
      "metadata": {
        "id": "IpklXLBwDUue"
      },
      "execution_count": 27,
      "outputs": []
    },
    {
      "cell_type": "code",
      "source": [],
      "metadata": {
        "id": "y9aZWnQ7DUyH"
      },
      "execution_count": 27,
      "outputs": []
    },
    {
      "cell_type": "code",
      "source": [
        "# Check unique values in categorical columns"
      ],
      "metadata": {
        "id": "zZNiacwJDU1d"
      },
      "execution_count": 28,
      "outputs": []
    },
    {
      "cell_type": "code",
      "source": [
        "for col in df.select_dtypes(include=['object']).columns:\n",
        "    print(f\"\\n🔹 Unique values in '{col}':\", df[col].nunique())"
      ],
      "metadata": {
        "colab": {
          "base_uri": "https://localhost:8080/"
        },
        "id": "BuMjYSOHDU5Q",
        "outputId": "1848567a-88a3-4348-fdf5-8a26fcbd0eb2"
      },
      "execution_count": 29,
      "outputs": [
        {
          "output_type": "stream",
          "name": "stdout",
          "text": [
            "\n",
            "🔹 Unique values in 'Title': 10\n",
            "\n",
            "🔹 Unique values in 'Authors': 10\n",
            "\n",
            "🔹 Unique values in 'Published Date': 10\n",
            "\n",
            "🔹 Unique values in 'Abstract': 10\n",
            "\n",
            "🔹 Unique values in 'arXiv Link': 10\n"
          ]
        }
      ]
    },
    {
      "cell_type": "code",
      "source": [],
      "metadata": {
        "id": "bC1NDEp_DU8v"
      },
      "execution_count": 29,
      "outputs": []
    },
    {
      "cell_type": "code",
      "source": [],
      "metadata": {
        "id": "tx6-Rv6bDVAa"
      },
      "execution_count": 29,
      "outputs": []
    },
    {
      "cell_type": "code",
      "source": [
        "# Check if any column has weird characters or formatting issues"
      ],
      "metadata": {
        "id": "PrR1t8ZBC4lJ"
      },
      "execution_count": 30,
      "outputs": []
    },
    {
      "cell_type": "code",
      "source": [
        "print(\"\\n🔹 Sample Abstracts (Checking Formatting Issues):\")\n",
        "print(df[\"Abstract\"].head(3))  # Check first 3 abstracts"
      ],
      "metadata": {
        "colab": {
          "base_uri": "https://localhost:8080/"
        },
        "id": "p-JLKZQdC4oF",
        "outputId": "41728a94-bcaf-43e8-8d1d-ad310d0a5414"
      },
      "execution_count": 31,
      "outputs": [
        {
          "output_type": "stream",
          "name": "stdout",
          "text": [
            "\n",
            "🔹 Sample Abstracts (Checking Formatting Issues):\n",
            "0    Lecture notes on optimization for machine lear...\n",
            "1    I describe an optimal control view of adversar...\n",
            "2    The article is devoted to the problem of small...\n",
            "Name: Abstract, dtype: object\n"
          ]
        }
      ]
    },
    {
      "cell_type": "markdown",
      "source": [
        "---\n",
        "---"
      ],
      "metadata": {
        "id": "CrzKsfPHDrTR"
      }
    },
    {
      "cell_type": "code",
      "source": [],
      "metadata": {
        "id": "ycA0aelGO5wd"
      },
      "execution_count": null,
      "outputs": []
    },
    {
      "cell_type": "code",
      "source": [],
      "metadata": {
        "id": "8kstu8BFO5_b"
      },
      "execution_count": null,
      "outputs": []
    },
    {
      "cell_type": "code",
      "source": [],
      "metadata": {
        "id": "qiX8nE9wO6fR"
      },
      "execution_count": null,
      "outputs": []
    },
    {
      "cell_type": "markdown",
      "source": [
        "---\n",
        "---"
      ],
      "metadata": {
        "id": "vUb-tsMEO6t2"
      }
    },
    {
      "cell_type": "code",
      "source": [
        "# Convert 'Published Date' to datetime format"
      ],
      "metadata": {
        "id": "HJpFiEE0DsNZ"
      },
      "execution_count": 32,
      "outputs": []
    },
    {
      "cell_type": "code",
      "source": [
        "df['Published Date'] = pd.to_datetime(df['Published Date'])"
      ],
      "metadata": {
        "id": "BGE4mj1zDsSj"
      },
      "execution_count": 33,
      "outputs": []
    },
    {
      "cell_type": "code",
      "source": [],
      "metadata": {
        "id": "OuiL_vaiDsXQ"
      },
      "execution_count": 33,
      "outputs": []
    },
    {
      "cell_type": "code",
      "source": [
        "# Save the processed dataset for future use"
      ],
      "metadata": {
        "id": "p5ye3VMFDsbc"
      },
      "execution_count": 34,
      "outputs": []
    },
    {
      "cell_type": "code",
      "source": [
        "df.to_csv(\"/content/arxiv_papers_processed.csv\", index=False)"
      ],
      "metadata": {
        "id": "t34D7HcDDsfh"
      },
      "execution_count": 35,
      "outputs": []
    },
    {
      "cell_type": "code",
      "source": [],
      "metadata": {
        "id": "yH28h1fCDsjO"
      },
      "execution_count": 35,
      "outputs": []
    },
    {
      "cell_type": "code",
      "source": [
        "# Confirm the change"
      ],
      "metadata": {
        "id": "fLKHGwXdDsnl"
      },
      "execution_count": 36,
      "outputs": []
    },
    {
      "cell_type": "code",
      "source": [
        "print(\"\\n🔹 Updated Data Types After Conversion:\")\n",
        "print(df.dtypes)"
      ],
      "metadata": {
        "colab": {
          "base_uri": "https://localhost:8080/"
        },
        "id": "FLXwSMotDsrw",
        "outputId": "53b07fab-33e6-44fb-8f1f-ed1097ef2e59"
      },
      "execution_count": 37,
      "outputs": [
        {
          "output_type": "stream",
          "name": "stdout",
          "text": [
            "\n",
            "🔹 Updated Data Types After Conversion:\n",
            "Title                          object\n",
            "Authors                        object\n",
            "Published Date    datetime64[ns, UTC]\n",
            "Abstract                       object\n",
            "arXiv Link                     object\n",
            "dtype: object\n"
          ]
        }
      ]
    },
    {
      "cell_type": "markdown",
      "source": [
        "---\n",
        "---"
      ],
      "metadata": {
        "id": "k3mAaidDD2wu"
      }
    },
    {
      "cell_type": "code",
      "source": [],
      "metadata": {
        "id": "EaUeE_nBO-fn"
      },
      "execution_count": null,
      "outputs": []
    },
    {
      "cell_type": "code",
      "source": [],
      "metadata": {
        "id": "BE5nlk3yO-w0"
      },
      "execution_count": null,
      "outputs": []
    },
    {
      "cell_type": "code",
      "source": [],
      "metadata": {
        "id": "ZqtUTFnJO--V"
      },
      "execution_count": null,
      "outputs": []
    },
    {
      "cell_type": "markdown",
      "source": [
        "---\n",
        "---"
      ],
      "metadata": {
        "id": "vo350pykO_P3"
      }
    },
    {
      "cell_type": "code",
      "source": [
        "# Data Handling"
      ],
      "metadata": {
        "id": "7t0MbSdbD4C5"
      },
      "execution_count": 38,
      "outputs": []
    },
    {
      "cell_type": "code",
      "source": [
        "import numpy as np"
      ],
      "metadata": {
        "id": "hLPrQB5ID4HJ"
      },
      "execution_count": 39,
      "outputs": []
    },
    {
      "cell_type": "code",
      "source": [],
      "metadata": {
        "id": "5K7srSTnD4Lo"
      },
      "execution_count": 39,
      "outputs": []
    },
    {
      "cell_type": "code",
      "source": [
        "# NLP Processing"
      ],
      "metadata": {
        "id": "E8T9DviMEAxy"
      },
      "execution_count": 40,
      "outputs": []
    },
    {
      "cell_type": "code",
      "source": [
        "import re"
      ],
      "metadata": {
        "id": "gv-5zdIjEA1v"
      },
      "execution_count": 41,
      "outputs": []
    },
    {
      "cell_type": "code",
      "source": [
        "import string"
      ],
      "metadata": {
        "id": "ib8BfPdWD4Pq"
      },
      "execution_count": 42,
      "outputs": []
    },
    {
      "cell_type": "code",
      "source": [
        "import nltk"
      ],
      "metadata": {
        "id": "N-aSFImzD4Tv"
      },
      "execution_count": 43,
      "outputs": []
    },
    {
      "cell_type": "code",
      "source": [
        "from nltk.corpus import stopwords"
      ],
      "metadata": {
        "id": "-Q9uiZnAEHQV"
      },
      "execution_count": 44,
      "outputs": []
    },
    {
      "cell_type": "code",
      "source": [
        "from nltk.tokenize import word_tokenize"
      ],
      "metadata": {
        "id": "vDmVVHLKEHUW"
      },
      "execution_count": 45,
      "outputs": []
    },
    {
      "cell_type": "code",
      "source": [
        "from nltk.stem import WordNetLemmatizer"
      ],
      "metadata": {
        "id": "-StgrRcuEHYS"
      },
      "execution_count": 46,
      "outputs": []
    },
    {
      "cell_type": "code",
      "source": [],
      "metadata": {
        "id": "lIRQhTJUEHcj"
      },
      "execution_count": 46,
      "outputs": []
    },
    {
      "cell_type": "code",
      "source": [
        "# Machine Learning & Vectorization"
      ],
      "metadata": {
        "id": "mbWRchLCEHhn"
      },
      "execution_count": 47,
      "outputs": []
    },
    {
      "cell_type": "code",
      "source": [
        "from sklearn.feature_extraction.text import TfidfVectorizer"
      ],
      "metadata": {
        "id": "pABrV1DBEO5E"
      },
      "execution_count": 48,
      "outputs": []
    },
    {
      "cell_type": "code",
      "source": [
        "from sklearn.decomposition import LatentDirichletAllocation"
      ],
      "metadata": {
        "id": "blgbQ9oBEO9d"
      },
      "execution_count": 49,
      "outputs": []
    },
    {
      "cell_type": "code",
      "source": [],
      "metadata": {
        "id": "1SdOTyAzEPB5"
      },
      "execution_count": 49,
      "outputs": []
    },
    {
      "cell_type": "code",
      "source": [
        "# Visualization"
      ],
      "metadata": {
        "id": "gZCCqTYkEPFs"
      },
      "execution_count": 50,
      "outputs": []
    },
    {
      "cell_type": "code",
      "source": [
        "import matplotlib.pyplot as plt"
      ],
      "metadata": {
        "id": "NsMxrNukEPKV"
      },
      "execution_count": 51,
      "outputs": []
    },
    {
      "cell_type": "code",
      "source": [
        "import seaborn as sns"
      ],
      "metadata": {
        "id": "eoc29q8fEWwX"
      },
      "execution_count": 52,
      "outputs": []
    },
    {
      "cell_type": "code",
      "source": [
        "from wordcloud import WordCloud"
      ],
      "metadata": {
        "id": "vts57InbEW1w"
      },
      "execution_count": 53,
      "outputs": []
    },
    {
      "cell_type": "code",
      "source": [],
      "metadata": {
        "id": "3HDEDY1HEW6b"
      },
      "execution_count": 53,
      "outputs": []
    },
    {
      "cell_type": "code",
      "source": [
        "# Ensure necessary NLTK resources are downloaded"
      ],
      "metadata": {
        "id": "h9qtCFDwEW-q"
      },
      "execution_count": 54,
      "outputs": []
    },
    {
      "cell_type": "code",
      "source": [
        "nltk.download('punkt')"
      ],
      "metadata": {
        "colab": {
          "base_uri": "https://localhost:8080/"
        },
        "id": "vjTyHe0OEXDb",
        "outputId": "42e2e79e-7cb1-4d5b-c681-4dfcd7c1996c"
      },
      "execution_count": 55,
      "outputs": [
        {
          "output_type": "stream",
          "name": "stderr",
          "text": [
            "[nltk_data] Downloading package punkt to /root/nltk_data...\n",
            "[nltk_data]   Unzipping tokenizers/punkt.zip.\n"
          ]
        },
        {
          "output_type": "execute_result",
          "data": {
            "text/plain": [
              "True"
            ]
          },
          "metadata": {},
          "execution_count": 55
        }
      ]
    },
    {
      "cell_type": "code",
      "source": [],
      "metadata": {
        "id": "DLtqimGuEgu6"
      },
      "execution_count": 55,
      "outputs": []
    },
    {
      "cell_type": "code",
      "source": [
        "nltk.download('stopwords')"
      ],
      "metadata": {
        "colab": {
          "base_uri": "https://localhost:8080/"
        },
        "id": "GTia1i2AEXIP",
        "outputId": "b154902c-dca4-4b4c-8aac-e5b038f2ccef"
      },
      "execution_count": 56,
      "outputs": [
        {
          "output_type": "stream",
          "name": "stderr",
          "text": [
            "[nltk_data] Downloading package stopwords to /root/nltk_data...\n",
            "[nltk_data]   Unzipping corpora/stopwords.zip.\n"
          ]
        },
        {
          "output_type": "execute_result",
          "data": {
            "text/plain": [
              "True"
            ]
          },
          "metadata": {},
          "execution_count": 56
        }
      ]
    },
    {
      "cell_type": "code",
      "source": [],
      "metadata": {
        "id": "0ZPQeMcHEXOc"
      },
      "execution_count": 56,
      "outputs": []
    },
    {
      "cell_type": "code",
      "source": [
        "nltk.download('wordnet')"
      ],
      "metadata": {
        "colab": {
          "base_uri": "https://localhost:8080/"
        },
        "id": "0RrHe_YqEXWP",
        "outputId": "3ff29e8e-8266-4dc5-fd7d-317ad4d1255a"
      },
      "execution_count": 57,
      "outputs": [
        {
          "output_type": "stream",
          "name": "stderr",
          "text": [
            "[nltk_data] Downloading package wordnet to /root/nltk_data...\n"
          ]
        },
        {
          "output_type": "execute_result",
          "data": {
            "text/plain": [
              "True"
            ]
          },
          "metadata": {},
          "execution_count": 57
        }
      ]
    },
    {
      "cell_type": "markdown",
      "source": [
        "---\n",
        "---"
      ],
      "metadata": {
        "id": "4Ca3Vpx4Emw-"
      }
    },
    {
      "cell_type": "code",
      "source": [],
      "metadata": {
        "id": "Hq3NY7MjPEy8"
      },
      "execution_count": null,
      "outputs": []
    },
    {
      "cell_type": "code",
      "source": [],
      "metadata": {
        "id": "V_FtGvJtPFDa"
      },
      "execution_count": null,
      "outputs": []
    },
    {
      "cell_type": "code",
      "source": [],
      "metadata": {
        "id": "3hkVJq65PHSn"
      },
      "execution_count": null,
      "outputs": []
    },
    {
      "cell_type": "markdown",
      "source": [
        "---\n",
        "---"
      ],
      "metadata": {
        "id": "820-mXz9PFVX"
      }
    },
    {
      "cell_type": "code",
      "source": [
        "# Load the processed dataset"
      ],
      "metadata": {
        "id": "8ZRtm0DqEnt9"
      },
      "execution_count": 58,
      "outputs": []
    },
    {
      "cell_type": "code",
      "source": [
        "file_path = \"/content/arxiv_papers_processed.csv\""
      ],
      "metadata": {
        "id": "4DLmYenaEn0A"
      },
      "execution_count": 59,
      "outputs": []
    },
    {
      "cell_type": "code",
      "source": [
        "df = pd.read_csv(file_path)"
      ],
      "metadata": {
        "id": "FwJUYmD6En4p"
      },
      "execution_count": 60,
      "outputs": []
    },
    {
      "cell_type": "code",
      "source": [],
      "metadata": {
        "id": "UedbhM0sEn9F"
      },
      "execution_count": 60,
      "outputs": []
    },
    {
      "cell_type": "code",
      "source": [
        "# Convert 'Published Date' to datetime format"
      ],
      "metadata": {
        "id": "e6tPPxIJEoBU"
      },
      "execution_count": 61,
      "outputs": []
    },
    {
      "cell_type": "code",
      "source": [
        "df['Published Date'] = pd.to_datetime(df['Published Date'], utc=True)"
      ],
      "metadata": {
        "id": "6TAy-VCUEoGW"
      },
      "execution_count": 62,
      "outputs": []
    },
    {
      "cell_type": "code",
      "source": [],
      "metadata": {
        "id": "PGA-WKSJEoe1"
      },
      "execution_count": 62,
      "outputs": []
    },
    {
      "cell_type": "code",
      "source": [
        "# Display basic info"
      ],
      "metadata": {
        "id": "_uanS5FDE1Us"
      },
      "execution_count": 63,
      "outputs": []
    },
    {
      "cell_type": "code",
      "source": [
        "print(\"\\n🔹 Dataset Overview:\")\n",
        "print(df.info())"
      ],
      "metadata": {
        "colab": {
          "base_uri": "https://localhost:8080/"
        },
        "id": "C-iCLyUuE1Z7",
        "outputId": "e482de8b-11d5-4b17-ba69-26742f9811be"
      },
      "execution_count": 64,
      "outputs": [
        {
          "output_type": "stream",
          "name": "stdout",
          "text": [
            "\n",
            "🔹 Dataset Overview:\n",
            "<class 'pandas.core.frame.DataFrame'>\n",
            "RangeIndex: 10 entries, 0 to 9\n",
            "Data columns (total 5 columns):\n",
            " #   Column          Non-Null Count  Dtype              \n",
            "---  ------          --------------  -----              \n",
            " 0   Title           10 non-null     object             \n",
            " 1   Authors         10 non-null     object             \n",
            " 2   Published Date  10 non-null     datetime64[ns, UTC]\n",
            " 3   Abstract        10 non-null     object             \n",
            " 4   arXiv Link      10 non-null     object             \n",
            "dtypes: datetime64[ns, UTC](1), object(4)\n",
            "memory usage: 532.0+ bytes\n",
            "None\n"
          ]
        }
      ]
    },
    {
      "cell_type": "code",
      "source": [],
      "metadata": {
        "id": "SydeH-2EE1fj"
      },
      "execution_count": 64,
      "outputs": []
    },
    {
      "cell_type": "code",
      "source": [],
      "metadata": {
        "id": "pOSuTLeuE1j1"
      },
      "execution_count": 64,
      "outputs": []
    },
    {
      "cell_type": "code",
      "source": [
        "# Show first few rows"
      ],
      "metadata": {
        "id": "SAF03k_FE1oX"
      },
      "execution_count": 65,
      "outputs": []
    },
    {
      "cell_type": "code",
      "source": [
        "df.head()"
      ],
      "metadata": {
        "colab": {
          "base_uri": "https://localhost:8080/",
          "height": 608
        },
        "id": "6ug6_xThE1tK",
        "outputId": "bd524167-96de-4b0a-b6d8-f0f81ef37aeb"
      },
      "execution_count": 66,
      "outputs": [
        {
          "output_type": "execute_result",
          "data": {
            "text/plain": [
              "                                               Title  \\\n",
              "0   Lecture Notes: Optimization for Machine Learning   \n",
              "1  An Optimal Control View of Adversarial Machine...   \n",
              "2  Minimax deviation strategies for machine learn...   \n",
              "3  Machine Learning for Clinical Predictive Analy...   \n",
              "4  Towards Modular Machine Learning Solution Deve...   \n",
              "\n",
              "                                    Authors            Published Date  \\\n",
              "0                                Elad Hazan 2019-09-08 21:49:42+00:00   \n",
              "1                               Xiaojin Zhu 2018-11-11 14:28:34+00:00   \n",
              "2  Michail Schlesinger, Evgeniy Vodolazskiy 2017-07-16 09:15:08+00:00   \n",
              "3                             Wei-Hung Weng 2019-09-19 22:02:00+00:00   \n",
              "4       Samiyuru Menik, Lakshmish Ramaswamy 2023-01-23 22:54:34+00:00   \n",
              "\n",
              "                                            Abstract  \\\n",
              "0  Lecture notes on optimization for machine lear...   \n",
              "1  I describe an optimal control view of adversar...   \n",
              "2  The article is devoted to the problem of small...   \n",
              "3  In this chapter, we provide a brief overview o...   \n",
              "4  Machine learning technologies have demonstrate...   \n",
              "\n",
              "                          arXiv Link  \n",
              "0  http://arxiv.org/abs/1909.03550v1  \n",
              "1  http://arxiv.org/abs/1811.04422v1  \n",
              "2  http://arxiv.org/abs/1707.04849v1  \n",
              "3  http://arxiv.org/abs/1909.09246v1  \n",
              "4  http://arxiv.org/abs/2301.09753v1  "
            ],
            "text/html": [
              "\n",
              "  <div id=\"df-36cd01f8-66de-48bf-9892-6d1e3993d34e\" class=\"colab-df-container\">\n",
              "    <div>\n",
              "<style scoped>\n",
              "    .dataframe tbody tr th:only-of-type {\n",
              "        vertical-align: middle;\n",
              "    }\n",
              "\n",
              "    .dataframe tbody tr th {\n",
              "        vertical-align: top;\n",
              "    }\n",
              "\n",
              "    .dataframe thead th {\n",
              "        text-align: right;\n",
              "    }\n",
              "</style>\n",
              "<table border=\"1\" class=\"dataframe\">\n",
              "  <thead>\n",
              "    <tr style=\"text-align: right;\">\n",
              "      <th></th>\n",
              "      <th>Title</th>\n",
              "      <th>Authors</th>\n",
              "      <th>Published Date</th>\n",
              "      <th>Abstract</th>\n",
              "      <th>arXiv Link</th>\n",
              "    </tr>\n",
              "  </thead>\n",
              "  <tbody>\n",
              "    <tr>\n",
              "      <th>0</th>\n",
              "      <td>Lecture Notes: Optimization for Machine Learning</td>\n",
              "      <td>Elad Hazan</td>\n",
              "      <td>2019-09-08 21:49:42+00:00</td>\n",
              "      <td>Lecture notes on optimization for machine lear...</td>\n",
              "      <td>http://arxiv.org/abs/1909.03550v1</td>\n",
              "    </tr>\n",
              "    <tr>\n",
              "      <th>1</th>\n",
              "      <td>An Optimal Control View of Adversarial Machine...</td>\n",
              "      <td>Xiaojin Zhu</td>\n",
              "      <td>2018-11-11 14:28:34+00:00</td>\n",
              "      <td>I describe an optimal control view of adversar...</td>\n",
              "      <td>http://arxiv.org/abs/1811.04422v1</td>\n",
              "    </tr>\n",
              "    <tr>\n",
              "      <th>2</th>\n",
              "      <td>Minimax deviation strategies for machine learn...</td>\n",
              "      <td>Michail Schlesinger, Evgeniy Vodolazskiy</td>\n",
              "      <td>2017-07-16 09:15:08+00:00</td>\n",
              "      <td>The article is devoted to the problem of small...</td>\n",
              "      <td>http://arxiv.org/abs/1707.04849v1</td>\n",
              "    </tr>\n",
              "    <tr>\n",
              "      <th>3</th>\n",
              "      <td>Machine Learning for Clinical Predictive Analy...</td>\n",
              "      <td>Wei-Hung Weng</td>\n",
              "      <td>2019-09-19 22:02:00+00:00</td>\n",
              "      <td>In this chapter, we provide a brief overview o...</td>\n",
              "      <td>http://arxiv.org/abs/1909.09246v1</td>\n",
              "    </tr>\n",
              "    <tr>\n",
              "      <th>4</th>\n",
              "      <td>Towards Modular Machine Learning Solution Deve...</td>\n",
              "      <td>Samiyuru Menik, Lakshmish Ramaswamy</td>\n",
              "      <td>2023-01-23 22:54:34+00:00</td>\n",
              "      <td>Machine learning technologies have demonstrate...</td>\n",
              "      <td>http://arxiv.org/abs/2301.09753v1</td>\n",
              "    </tr>\n",
              "  </tbody>\n",
              "</table>\n",
              "</div>\n",
              "    <div class=\"colab-df-buttons\">\n",
              "\n",
              "  <div class=\"colab-df-container\">\n",
              "    <button class=\"colab-df-convert\" onclick=\"convertToInteractive('df-36cd01f8-66de-48bf-9892-6d1e3993d34e')\"\n",
              "            title=\"Convert this dataframe to an interactive table.\"\n",
              "            style=\"display:none;\">\n",
              "\n",
              "  <svg xmlns=\"http://www.w3.org/2000/svg\" height=\"24px\" viewBox=\"0 -960 960 960\">\n",
              "    <path d=\"M120-120v-720h720v720H120Zm60-500h600v-160H180v160Zm220 220h160v-160H400v160Zm0 220h160v-160H400v160ZM180-400h160v-160H180v160Zm440 0h160v-160H620v160ZM180-180h160v-160H180v160Zm440 0h160v-160H620v160Z\"/>\n",
              "  </svg>\n",
              "    </button>\n",
              "\n",
              "  <style>\n",
              "    .colab-df-container {\n",
              "      display:flex;\n",
              "      gap: 12px;\n",
              "    }\n",
              "\n",
              "    .colab-df-convert {\n",
              "      background-color: #E8F0FE;\n",
              "      border: none;\n",
              "      border-radius: 50%;\n",
              "      cursor: pointer;\n",
              "      display: none;\n",
              "      fill: #1967D2;\n",
              "      height: 32px;\n",
              "      padding: 0 0 0 0;\n",
              "      width: 32px;\n",
              "    }\n",
              "\n",
              "    .colab-df-convert:hover {\n",
              "      background-color: #E2EBFA;\n",
              "      box-shadow: 0px 1px 2px rgba(60, 64, 67, 0.3), 0px 1px 3px 1px rgba(60, 64, 67, 0.15);\n",
              "      fill: #174EA6;\n",
              "    }\n",
              "\n",
              "    .colab-df-buttons div {\n",
              "      margin-bottom: 4px;\n",
              "    }\n",
              "\n",
              "    [theme=dark] .colab-df-convert {\n",
              "      background-color: #3B4455;\n",
              "      fill: #D2E3FC;\n",
              "    }\n",
              "\n",
              "    [theme=dark] .colab-df-convert:hover {\n",
              "      background-color: #434B5C;\n",
              "      box-shadow: 0px 1px 3px 1px rgba(0, 0, 0, 0.15);\n",
              "      filter: drop-shadow(0px 1px 2px rgba(0, 0, 0, 0.3));\n",
              "      fill: #FFFFFF;\n",
              "    }\n",
              "  </style>\n",
              "\n",
              "    <script>\n",
              "      const buttonEl =\n",
              "        document.querySelector('#df-36cd01f8-66de-48bf-9892-6d1e3993d34e button.colab-df-convert');\n",
              "      buttonEl.style.display =\n",
              "        google.colab.kernel.accessAllowed ? 'block' : 'none';\n",
              "\n",
              "      async function convertToInteractive(key) {\n",
              "        const element = document.querySelector('#df-36cd01f8-66de-48bf-9892-6d1e3993d34e');\n",
              "        const dataTable =\n",
              "          await google.colab.kernel.invokeFunction('convertToInteractive',\n",
              "                                                    [key], {});\n",
              "        if (!dataTable) return;\n",
              "\n",
              "        const docLinkHtml = 'Like what you see? Visit the ' +\n",
              "          '<a target=\"_blank\" href=https://colab.research.google.com/notebooks/data_table.ipynb>data table notebook</a>'\n",
              "          + ' to learn more about interactive tables.';\n",
              "        element.innerHTML = '';\n",
              "        dataTable['output_type'] = 'display_data';\n",
              "        await google.colab.output.renderOutput(dataTable, element);\n",
              "        const docLink = document.createElement('div');\n",
              "        docLink.innerHTML = docLinkHtml;\n",
              "        element.appendChild(docLink);\n",
              "      }\n",
              "    </script>\n",
              "  </div>\n",
              "\n",
              "\n",
              "<div id=\"df-97f63295-6a1c-4704-a6e6-1d7e91d7d565\">\n",
              "  <button class=\"colab-df-quickchart\" onclick=\"quickchart('df-97f63295-6a1c-4704-a6e6-1d7e91d7d565')\"\n",
              "            title=\"Suggest charts\"\n",
              "            style=\"display:none;\">\n",
              "\n",
              "<svg xmlns=\"http://www.w3.org/2000/svg\" height=\"24px\"viewBox=\"0 0 24 24\"\n",
              "     width=\"24px\">\n",
              "    <g>\n",
              "        <path d=\"M19 3H5c-1.1 0-2 .9-2 2v14c0 1.1.9 2 2 2h14c1.1 0 2-.9 2-2V5c0-1.1-.9-2-2-2zM9 17H7v-7h2v7zm4 0h-2V7h2v10zm4 0h-2v-4h2v4z\"/>\n",
              "    </g>\n",
              "</svg>\n",
              "  </button>\n",
              "\n",
              "<style>\n",
              "  .colab-df-quickchart {\n",
              "      --bg-color: #E8F0FE;\n",
              "      --fill-color: #1967D2;\n",
              "      --hover-bg-color: #E2EBFA;\n",
              "      --hover-fill-color: #174EA6;\n",
              "      --disabled-fill-color: #AAA;\n",
              "      --disabled-bg-color: #DDD;\n",
              "  }\n",
              "\n",
              "  [theme=dark] .colab-df-quickchart {\n",
              "      --bg-color: #3B4455;\n",
              "      --fill-color: #D2E3FC;\n",
              "      --hover-bg-color: #434B5C;\n",
              "      --hover-fill-color: #FFFFFF;\n",
              "      --disabled-bg-color: #3B4455;\n",
              "      --disabled-fill-color: #666;\n",
              "  }\n",
              "\n",
              "  .colab-df-quickchart {\n",
              "    background-color: var(--bg-color);\n",
              "    border: none;\n",
              "    border-radius: 50%;\n",
              "    cursor: pointer;\n",
              "    display: none;\n",
              "    fill: var(--fill-color);\n",
              "    height: 32px;\n",
              "    padding: 0;\n",
              "    width: 32px;\n",
              "  }\n",
              "\n",
              "  .colab-df-quickchart:hover {\n",
              "    background-color: var(--hover-bg-color);\n",
              "    box-shadow: 0 1px 2px rgba(60, 64, 67, 0.3), 0 1px 3px 1px rgba(60, 64, 67, 0.15);\n",
              "    fill: var(--button-hover-fill-color);\n",
              "  }\n",
              "\n",
              "  .colab-df-quickchart-complete:disabled,\n",
              "  .colab-df-quickchart-complete:disabled:hover {\n",
              "    background-color: var(--disabled-bg-color);\n",
              "    fill: var(--disabled-fill-color);\n",
              "    box-shadow: none;\n",
              "  }\n",
              "\n",
              "  .colab-df-spinner {\n",
              "    border: 2px solid var(--fill-color);\n",
              "    border-color: transparent;\n",
              "    border-bottom-color: var(--fill-color);\n",
              "    animation:\n",
              "      spin 1s steps(1) infinite;\n",
              "  }\n",
              "\n",
              "  @keyframes spin {\n",
              "    0% {\n",
              "      border-color: transparent;\n",
              "      border-bottom-color: var(--fill-color);\n",
              "      border-left-color: var(--fill-color);\n",
              "    }\n",
              "    20% {\n",
              "      border-color: transparent;\n",
              "      border-left-color: var(--fill-color);\n",
              "      border-top-color: var(--fill-color);\n",
              "    }\n",
              "    30% {\n",
              "      border-color: transparent;\n",
              "      border-left-color: var(--fill-color);\n",
              "      border-top-color: var(--fill-color);\n",
              "      border-right-color: var(--fill-color);\n",
              "    }\n",
              "    40% {\n",
              "      border-color: transparent;\n",
              "      border-right-color: var(--fill-color);\n",
              "      border-top-color: var(--fill-color);\n",
              "    }\n",
              "    60% {\n",
              "      border-color: transparent;\n",
              "      border-right-color: var(--fill-color);\n",
              "    }\n",
              "    80% {\n",
              "      border-color: transparent;\n",
              "      border-right-color: var(--fill-color);\n",
              "      border-bottom-color: var(--fill-color);\n",
              "    }\n",
              "    90% {\n",
              "      border-color: transparent;\n",
              "      border-bottom-color: var(--fill-color);\n",
              "    }\n",
              "  }\n",
              "</style>\n",
              "\n",
              "  <script>\n",
              "    async function quickchart(key) {\n",
              "      const quickchartButtonEl =\n",
              "        document.querySelector('#' + key + ' button');\n",
              "      quickchartButtonEl.disabled = true;  // To prevent multiple clicks.\n",
              "      quickchartButtonEl.classList.add('colab-df-spinner');\n",
              "      try {\n",
              "        const charts = await google.colab.kernel.invokeFunction(\n",
              "            'suggestCharts', [key], {});\n",
              "      } catch (error) {\n",
              "        console.error('Error during call to suggestCharts:', error);\n",
              "      }\n",
              "      quickchartButtonEl.classList.remove('colab-df-spinner');\n",
              "      quickchartButtonEl.classList.add('colab-df-quickchart-complete');\n",
              "    }\n",
              "    (() => {\n",
              "      let quickchartButtonEl =\n",
              "        document.querySelector('#df-97f63295-6a1c-4704-a6e6-1d7e91d7d565 button');\n",
              "      quickchartButtonEl.style.display =\n",
              "        google.colab.kernel.accessAllowed ? 'block' : 'none';\n",
              "    })();\n",
              "  </script>\n",
              "</div>\n",
              "\n",
              "    </div>\n",
              "  </div>\n"
            ],
            "application/vnd.google.colaboratory.intrinsic+json": {
              "type": "dataframe",
              "variable_name": "df",
              "summary": "{\n  \"name\": \"df\",\n  \"rows\": 10,\n  \"fields\": [\n    {\n      \"column\": \"Title\",\n      \"properties\": {\n        \"dtype\": \"string\",\n        \"num_unique_values\": 10,\n        \"samples\": [\n          \"Position Paper: Towards Transparent Machine Learning\",\n          \"An Optimal Control View of Adversarial Machine Learning\",\n          \"Introduction to Machine Learning: Class Notes 67577\"\n        ],\n        \"semantic_type\": \"\",\n        \"description\": \"\"\n      }\n    },\n    {\n      \"column\": \"Authors\",\n      \"properties\": {\n        \"dtype\": \"string\",\n        \"num_unique_values\": 10,\n        \"samples\": [\n          \"Dustin Juliano\",\n          \"Xiaojin Zhu\",\n          \"Amnon Shashua\"\n        ],\n        \"semantic_type\": \"\",\n        \"description\": \"\"\n      }\n    },\n    {\n      \"column\": \"Published Date\",\n      \"properties\": {\n        \"dtype\": \"date\",\n        \"min\": \"2009-04-23 11:40:57+00:00\",\n        \"max\": \"2023-01-23 22:54:34+00:00\",\n        \"num_unique_values\": 10,\n        \"samples\": [\n          \"2019-11-12 10:49:55+00:00\",\n          \"2018-11-11 14:28:34+00:00\",\n          \"2009-04-23 11:40:57+00:00\"\n        ],\n        \"semantic_type\": \"\",\n        \"description\": \"\"\n      }\n    },\n    {\n      \"column\": \"Abstract\",\n      \"properties\": {\n        \"dtype\": \"string\",\n        \"num_unique_values\": 10,\n        \"samples\": [\n          \"Transparent machine learning is introduced as an alternative form of machine\\nlearning, where both the model and the learning system are represented in\\nsource code form. The goal of this project is to enable direct human\\nunderstanding of machine learning models, giving us the ability to learn,\\nverify, and refine them as programs. If solved, this technology could represent\\na best-case scenario for the safety and security of AI systems going forward.\",\n          \"I describe an optimal control view of adversarial machine learning, where the\\ndynamical system is the machine learner, the input are adversarial actions, and\\nthe control costs are defined by the adversary's goals to do harm and be hard\\nto detect. This view encompasses many types of adversarial machine learning,\\nincluding test-item attacks, training-data poisoning, and adversarial reward\\nshaping. The view encourages adversarial machine learning researcher to utilize\\nadvances in control theory and reinforcement learning.\",\n          \"Introduction to Machine learning covering Statistical Inference (Bayes, EM,\\nML/MaxEnt duality), algebraic and spectral methods (PCA, LDA, CCA, Clustering),\\nand PAC learning (the Formal model, VC dimension, Double Sampling theorem).\"\n        ],\n        \"semantic_type\": \"\",\n        \"description\": \"\"\n      }\n    },\n    {\n      \"column\": \"arXiv Link\",\n      \"properties\": {\n        \"dtype\": \"string\",\n        \"num_unique_values\": 10,\n        \"samples\": [\n          \"http://arxiv.org/abs/1911.06612v1\",\n          \"http://arxiv.org/abs/1811.04422v1\",\n          \"http://arxiv.org/abs/0904.3664v1\"\n        ],\n        \"semantic_type\": \"\",\n        \"description\": \"\"\n      }\n    }\n  ]\n}"
            }
          },
          "metadata": {},
          "execution_count": 66
        }
      ]
    },
    {
      "cell_type": "markdown",
      "source": [
        "---\n",
        "---"
      ],
      "metadata": {
        "id": "Q2ZoprbWE8vI"
      }
    },
    {
      "cell_type": "code",
      "source": [],
      "metadata": {
        "id": "O-JZxISoPLjv"
      },
      "execution_count": null,
      "outputs": []
    },
    {
      "cell_type": "code",
      "source": [],
      "metadata": {
        "id": "raaG1gxsPLy9"
      },
      "execution_count": null,
      "outputs": []
    },
    {
      "cell_type": "code",
      "source": [],
      "metadata": {
        "id": "jEq7MOQJPMOe"
      },
      "execution_count": null,
      "outputs": []
    },
    {
      "cell_type": "markdown",
      "source": [
        "---\n",
        "---"
      ],
      "metadata": {
        "id": "sWAcbVq0PMgT"
      }
    },
    {
      "cell_type": "markdown",
      "source": [
        "# Set Random Seed for Reproducibility"
      ],
      "metadata": {
        "id": "FRo0kGD-E9w7"
      }
    },
    {
      "cell_type": "code",
      "source": [
        "import random"
      ],
      "metadata": {
        "id": "sSLiPN-PE92S"
      },
      "execution_count": 67,
      "outputs": []
    },
    {
      "cell_type": "code",
      "source": [
        "import torch"
      ],
      "metadata": {
        "id": "vBnkOP-KE965"
      },
      "execution_count": 68,
      "outputs": []
    },
    {
      "cell_type": "code",
      "source": [],
      "metadata": {
        "id": "C5CfiLhRFIOZ"
      },
      "execution_count": 68,
      "outputs": []
    },
    {
      "cell_type": "code",
      "source": [
        "# Set a fixed random seed for reproducibility"
      ],
      "metadata": {
        "id": "AjiuwDCYFISs"
      },
      "execution_count": 69,
      "outputs": []
    },
    {
      "cell_type": "code",
      "source": [
        "SEED = 42"
      ],
      "metadata": {
        "id": "zfVmoCK8FIXj"
      },
      "execution_count": 70,
      "outputs": []
    },
    {
      "cell_type": "code",
      "source": [
        "np.random.seed(SEED)"
      ],
      "metadata": {
        "id": "EgPGHUgLFIc9"
      },
      "execution_count": 71,
      "outputs": []
    },
    {
      "cell_type": "code",
      "source": [
        "random.seed(SEED)"
      ],
      "metadata": {
        "id": "IxSa0h4JFIiO"
      },
      "execution_count": 72,
      "outputs": []
    },
    {
      "cell_type": "code",
      "source": [
        "torch.manual_seed(SEED)"
      ],
      "metadata": {
        "colab": {
          "base_uri": "https://localhost:8080/"
        },
        "id": "Aja4q74oFInM",
        "outputId": "a16c5405-72dc-4991-d753-47eebdc566c5"
      },
      "execution_count": 73,
      "outputs": [
        {
          "output_type": "execute_result",
          "data": {
            "text/plain": [
              "<torch._C.Generator at 0x7c64c609c2f0>"
            ]
          },
          "metadata": {},
          "execution_count": 73
        }
      ]
    },
    {
      "cell_type": "code",
      "source": [],
      "metadata": {
        "id": "24BLeLDnFIs7"
      },
      "execution_count": 73,
      "outputs": []
    },
    {
      "cell_type": "code",
      "source": [
        "# Ensure reproducibility for CUDA (if using GPU)"
      ],
      "metadata": {
        "id": "nfIkf3m1FIx2"
      },
      "execution_count": 74,
      "outputs": []
    },
    {
      "cell_type": "code",
      "source": [
        "if torch.cuda.is_available():\n",
        "    torch.cuda.manual_seed(SEED)\n",
        "    torch.cuda.manual_seed_all(SEED)\n",
        "    torch.backends.cudnn.deterministic = True\n",
        "    torch.backends.cudnn.benchmark = False"
      ],
      "metadata": {
        "id": "k16NyyCFE-Be"
      },
      "execution_count": 75,
      "outputs": []
    },
    {
      "cell_type": "markdown",
      "source": [
        "----\n",
        "----"
      ],
      "metadata": {
        "id": "hYerkwcCFlDW"
      }
    },
    {
      "cell_type": "code",
      "source": [],
      "metadata": {
        "id": "MIN9LmNOPR3L"
      },
      "execution_count": null,
      "outputs": []
    },
    {
      "cell_type": "code",
      "source": [],
      "metadata": {
        "id": "wGEudEcVPSGk"
      },
      "execution_count": null,
      "outputs": []
    },
    {
      "cell_type": "code",
      "source": [],
      "metadata": {
        "id": "1TUI0SzAPSYP"
      },
      "execution_count": null,
      "outputs": []
    },
    {
      "cell_type": "markdown",
      "source": [
        "---\n",
        "---"
      ],
      "metadata": {
        "id": "4cdjpAgxPSkm"
      }
    },
    {
      "cell_type": "markdown",
      "source": [
        "# Load the arXiv Dataset"
      ],
      "metadata": {
        "id": "f2v5JQPbFl51"
      }
    },
    {
      "cell_type": "code",
      "source": [
        "import os"
      ],
      "metadata": {
        "id": "bOIDmetPFl_1"
      },
      "execution_count": 76,
      "outputs": []
    },
    {
      "cell_type": "code",
      "source": [],
      "metadata": {
        "id": "Y4sdWHJEFmFV"
      },
      "execution_count": 76,
      "outputs": []
    },
    {
      "cell_type": "code",
      "source": [
        "# Define the dataset path"
      ],
      "metadata": {
        "id": "uuXzoQrVFmLG"
      },
      "execution_count": 77,
      "outputs": []
    },
    {
      "cell_type": "code",
      "source": [
        "dataset_path = \"/content/arxiv_papers_processed.csv\""
      ],
      "metadata": {
        "id": "v7XZSE6pFmP4"
      },
      "execution_count": 78,
      "outputs": []
    },
    {
      "cell_type": "code",
      "source": [],
      "metadata": {
        "id": "wq1xkCztFmU0"
      },
      "execution_count": 78,
      "outputs": []
    },
    {
      "cell_type": "code",
      "source": [
        "# Function to load the dataset"
      ],
      "metadata": {
        "id": "NmYVHCU9FmbD"
      },
      "execution_count": 79,
      "outputs": []
    },
    {
      "cell_type": "code",
      "source": [
        "def load_dataset(path):\n",
        "    try:\n",
        "        if not os.path.exists(path):\n",
        "            raise FileNotFoundError(f\"❌ Error: The file {path} was not found.\")\n",
        "\n",
        "        # Load the dataset\n",
        "        df = pd.read_csv(path, parse_dates=['Published Date'])\n",
        "\n",
        "        print(\"✅ Dataset loaded successfully!\")\n",
        "        print(\"\\n🔹 Dataset Overview:\")\n",
        "        print(df.info())\n",
        "\n",
        "        return df\n",
        "\n",
        "    except Exception as e:\n",
        "        print(f\"❌ An error occurred while loading the dataset: {e}\")\n",
        "        return None\n"
      ],
      "metadata": {
        "id": "9q0M0VcWFiD7"
      },
      "execution_count": 80,
      "outputs": []
    },
    {
      "cell_type": "code",
      "source": [],
      "metadata": {
        "id": "HHXPgJmLF2RU"
      },
      "execution_count": 80,
      "outputs": []
    },
    {
      "cell_type": "code",
      "source": [
        "# Load the dataset"
      ],
      "metadata": {
        "id": "iO9VvVk1F2XI"
      },
      "execution_count": 81,
      "outputs": []
    },
    {
      "cell_type": "code",
      "source": [
        "df = load_dataset(dataset_path)"
      ],
      "metadata": {
        "colab": {
          "base_uri": "https://localhost:8080/"
        },
        "id": "Xl4SW810FiJM",
        "outputId": "17fc2726-82f4-4285-8faa-85173561b72a"
      },
      "execution_count": 82,
      "outputs": [
        {
          "output_type": "stream",
          "name": "stdout",
          "text": [
            "✅ Dataset loaded successfully!\n",
            "\n",
            "🔹 Dataset Overview:\n",
            "<class 'pandas.core.frame.DataFrame'>\n",
            "RangeIndex: 10 entries, 0 to 9\n",
            "Data columns (total 5 columns):\n",
            " #   Column          Non-Null Count  Dtype              \n",
            "---  ------          --------------  -----              \n",
            " 0   Title           10 non-null     object             \n",
            " 1   Authors         10 non-null     object             \n",
            " 2   Published Date  10 non-null     datetime64[ns, UTC]\n",
            " 3   Abstract        10 non-null     object             \n",
            " 4   arXiv Link      10 non-null     object             \n",
            "dtypes: datetime64[ns, UTC](1), object(4)\n",
            "memory usage: 532.0+ bytes\n",
            "None\n"
          ]
        }
      ]
    },
    {
      "cell_type": "markdown",
      "source": [
        "---\n",
        "---"
      ],
      "metadata": {
        "id": "HfdnFHZHGE9D"
      }
    },
    {
      "cell_type": "code",
      "source": [],
      "metadata": {
        "id": "EoyK_d1KPXQ6"
      },
      "execution_count": null,
      "outputs": []
    },
    {
      "cell_type": "code",
      "source": [],
      "metadata": {
        "id": "ttS0S6arPXfz"
      },
      "execution_count": null,
      "outputs": []
    },
    {
      "cell_type": "code",
      "source": [],
      "metadata": {
        "id": "H0yKThI6PXsV"
      },
      "execution_count": null,
      "outputs": []
    },
    {
      "cell_type": "markdown",
      "source": [
        "---\n",
        "---"
      ],
      "metadata": {
        "id": "3yQtnOlkPX9N"
      }
    },
    {
      "cell_type": "markdown",
      "source": [
        "#  Preprocess Text Data"
      ],
      "metadata": {
        "id": "ZoyZmn7KGF70"
      }
    },
    {
      "cell_type": "code",
      "source": [
        "import re"
      ],
      "metadata": {
        "id": "eSeLBcehGGCz"
      },
      "execution_count": 83,
      "outputs": []
    },
    {
      "cell_type": "code",
      "source": [],
      "metadata": {
        "id": "glPUDn1iGGIb"
      },
      "execution_count": 83,
      "outputs": []
    },
    {
      "cell_type": "code",
      "source": [
        "# Function to clean text"
      ],
      "metadata": {
        "id": "5U2skgYIGDdK"
      },
      "execution_count": 84,
      "outputs": []
    },
    {
      "cell_type": "code",
      "source": [
        "def preprocess_text(text):\n",
        "    text = text.lower()  # Convert to lowercase\n",
        "    text = re.sub(r'\\d+', '', text)  # Remove numbers\n",
        "    text = re.sub(r'\\W+', ' ', text)  # Remove special characters (non-word characters)\n",
        "    text = text.strip()  # Remove leading/trailing spaces\n",
        "    return text"
      ],
      "metadata": {
        "id": "uUdMhSDqGDiv"
      },
      "execution_count": 85,
      "outputs": []
    },
    {
      "cell_type": "code",
      "source": [],
      "metadata": {
        "id": "WZ1zlaW5GDoP"
      },
      "execution_count": 85,
      "outputs": []
    },
    {
      "cell_type": "code",
      "source": [
        "# Apply preprocessing to the 'Abstract' column"
      ],
      "metadata": {
        "id": "IvScCOOvGDtq"
      },
      "execution_count": 86,
      "outputs": []
    },
    {
      "cell_type": "code",
      "source": [
        "df['Cleaned Abstract'] = df['Abstract'].apply(preprocess_text)"
      ],
      "metadata": {
        "id": "5rzPXhLZFiQY"
      },
      "execution_count": 87,
      "outputs": []
    },
    {
      "cell_type": "code",
      "source": [],
      "metadata": {
        "id": "OJcyzt7eFiWC"
      },
      "execution_count": 87,
      "outputs": []
    },
    {
      "cell_type": "code",
      "source": [
        "# Display some cleaned abstracts"
      ],
      "metadata": {
        "id": "xUZJETjUFibO"
      },
      "execution_count": 88,
      "outputs": []
    },
    {
      "cell_type": "code",
      "source": [
        "print(\"\\n🔹 Sample Cleaned Abstracts:\")\n",
        "print(df[['Abstract', 'Cleaned Abstract']].head(3))"
      ],
      "metadata": {
        "colab": {
          "base_uri": "https://localhost:8080/"
        },
        "id": "QhpaeU4xFihW",
        "outputId": "800bc110-e5ec-434d-cfe9-e9ed8b76e5f4"
      },
      "execution_count": 89,
      "outputs": [
        {
          "output_type": "stream",
          "name": "stdout",
          "text": [
            "\n",
            "🔹 Sample Cleaned Abstracts:\n",
            "                                            Abstract  \\\n",
            "0  Lecture notes on optimization for machine lear...   \n",
            "1  I describe an optimal control view of adversar...   \n",
            "2  The article is devoted to the problem of small...   \n",
            "\n",
            "                                    Cleaned Abstract  \n",
            "0  lecture notes on optimization for machine lear...  \n",
            "1  i describe an optimal control view of adversar...  \n",
            "2  the article is devoted to the problem of small...  \n"
          ]
        }
      ]
    },
    {
      "cell_type": "markdown",
      "source": [
        "---\n",
        "---"
      ],
      "metadata": {
        "id": "8wkqiODTGctV"
      }
    },
    {
      "cell_type": "code",
      "source": [],
      "metadata": {
        "id": "DzZr8K27PbUM"
      },
      "execution_count": null,
      "outputs": []
    },
    {
      "cell_type": "code",
      "source": [],
      "metadata": {
        "id": "5CDVXDjhPbkE"
      },
      "execution_count": null,
      "outputs": []
    },
    {
      "cell_type": "code",
      "source": [],
      "metadata": {
        "id": "ICS4zzJbPbxS"
      },
      "execution_count": null,
      "outputs": []
    },
    {
      "cell_type": "markdown",
      "source": [
        "---\n",
        "---"
      ],
      "metadata": {
        "id": "16T5Yk3YPcR0"
      }
    },
    {
      "cell_type": "markdown",
      "source": [
        "# Split Data into Training and Testing Sets"
      ],
      "metadata": {
        "id": "7_yR5RH9Gdv_"
      }
    },
    {
      "cell_type": "code",
      "source": [
        "from sklearn.model_selection import train_test_split"
      ],
      "metadata": {
        "id": "MqoeDsy1Gd2f"
      },
      "execution_count": 90,
      "outputs": []
    },
    {
      "cell_type": "code",
      "source": [],
      "metadata": {
        "id": "7Ntntu5pGd9L"
      },
      "execution_count": 90,
      "outputs": []
    },
    {
      "cell_type": "code",
      "source": [
        "# Split data (80% train, 20% test)"
      ],
      "metadata": {
        "id": "u8MKdnAVGeCm"
      },
      "execution_count": 91,
      "outputs": []
    },
    {
      "cell_type": "code",
      "source": [
        "train_df, test_df = train_test_split(df, test_size=0.2, random_state=42)"
      ],
      "metadata": {
        "id": "IDnu9DlFGeIY"
      },
      "execution_count": 92,
      "outputs": []
    },
    {
      "cell_type": "code",
      "source": [],
      "metadata": {
        "id": "fB9DJL4LGeOR"
      },
      "execution_count": 92,
      "outputs": []
    },
    {
      "cell_type": "code",
      "source": [
        "# Display dataset sizes"
      ],
      "metadata": {
        "id": "_EwqyACfFimb"
      },
      "execution_count": 93,
      "outputs": []
    },
    {
      "cell_type": "code",
      "source": [
        "print(f\"🔹 Training Set Size: {len(train_df)}\")\n",
        "print(f\"🔹 Testing Set Size: {len(test_df)}\")"
      ],
      "metadata": {
        "colab": {
          "base_uri": "https://localhost:8080/"
        },
        "id": "N6Xoi2D-Fisc",
        "outputId": "e13b5a89-d0a4-4668-fb07-2efc59a46e84"
      },
      "execution_count": 94,
      "outputs": [
        {
          "output_type": "stream",
          "name": "stdout",
          "text": [
            "🔹 Training Set Size: 8\n",
            "🔹 Testing Set Size: 2\n"
          ]
        }
      ]
    },
    {
      "cell_type": "markdown",
      "source": [
        "---\n",
        "---"
      ],
      "metadata": {
        "id": "F-yAN7S9GtzP"
      }
    },
    {
      "cell_type": "code",
      "source": [],
      "metadata": {
        "id": "6THrObh1Pf-X"
      },
      "execution_count": null,
      "outputs": []
    },
    {
      "cell_type": "code",
      "source": [],
      "metadata": {
        "id": "rFAFerngPgRq"
      },
      "execution_count": null,
      "outputs": []
    },
    {
      "cell_type": "code",
      "source": [],
      "metadata": {
        "id": "4miKXvYWPgzA"
      },
      "execution_count": null,
      "outputs": []
    },
    {
      "cell_type": "markdown",
      "source": [
        "---\n",
        "---"
      ],
      "metadata": {
        "id": "4EvdXEgLPhC1"
      }
    },
    {
      "cell_type": "markdown",
      "source": [
        "# Initialize BERT Tokenizer and Model"
      ],
      "metadata": {
        "id": "NtUFQlFiGu0a"
      }
    },
    {
      "cell_type": "code",
      "source": [
        "from transformers import BertTokenizer, BertForSequenceClassification"
      ],
      "metadata": {
        "id": "gjil4hg8Gu77"
      },
      "execution_count": 95,
      "outputs": []
    },
    {
      "cell_type": "code",
      "source": [],
      "metadata": {
        "id": "kVaT9XUYGvB4"
      },
      "execution_count": 95,
      "outputs": []
    },
    {
      "cell_type": "code",
      "source": [
        "# Load BERT tokenizer"
      ],
      "metadata": {
        "id": "AzFVxDrTGvHf"
      },
      "execution_count": 96,
      "outputs": []
    },
    {
      "cell_type": "code",
      "source": [
        "tokenizer = BertTokenizer.from_pretrained(\"bert-base-uncased\")"
      ],
      "metadata": {
        "colab": {
          "base_uri": "https://localhost:8080/",
          "height": 269,
          "referenced_widgets": [
            "b3bb1e605ab545939a421e34682dcdce",
            "7e955637256c4227bd3b0557970e5db7",
            "57bf7eec932940f7932587c573ce631e",
            "7084f12f021a44369c8c901084704a96",
            "ec853dd6656441f39fb385bc9a4b7f36",
            "6b64dae9131744ae838abfc06494c1a5",
            "129bb8afbee84e94b3e1ae06e9eb3123",
            "b6a4e61a035d4d49b70670900456e8cf",
            "fc8688081f1049938b53b02fb22fad17",
            "53b170415eef4a66886707a058628b6d",
            "566bc580d01e4e0e9d71c6baa33eab95",
            "78c5ebf59b514e19964596998c8436ac",
            "a1a8b01ebb6d4a13904642e2dda88ced",
            "b2fcf89f08554facaa27b9440ad46ac2",
            "3af093b672374449b61311fcf415be78",
            "7fe4353ffaf740419f1e206367f12292",
            "6786662bf91a44239c8889c1a74c84dc",
            "678287410fe04608958b5a570222bb66",
            "dfc61aa789eb49c893c72dcce2ee4043",
            "140dfba0c7e94285963a31adcfa503ae",
            "729664dea510496a85ac3a967ec6512c",
            "16d895bc86d444cfad530e6e074f41e9",
            "9657c5756a9946ac8385113b0f514c8f",
            "e77023f3e7cf47a9b066ec6ec2046be4",
            "9eeae6f09d544d19a03716f3cad43be0",
            "6a29fda3cf654578b0059734ed2ca790",
            "e4b0db7c195d459ab431ecdbf0fcec7c",
            "c03b23dc1b384b5d9fefec4e92f08727",
            "7e531d58d1094a94913b7a76c0550b1a",
            "e426ce6b11694700a4513c2d0859d15b",
            "624dd5ed422c4ad4bae9e8e69a96c9bd",
            "19defc956e964a54bf6b2fc603fe1aea",
            "9aacbbc68a31447988a7f51a4bd9ca7d",
            "e10eebed861047a6a82adede8622a14d",
            "d68e2c17baee473f8236216ebb02f4ab",
            "127e978a4b0c442dbac6e47eb009912b",
            "3bb87a9b1b8746a195ccdf37fa3c0d7f",
            "0c92cca249af4447b68c901e2ae08262",
            "52f1a7349e1c49809b0ed141e818336c",
            "13184be1945a4960afbc1c8b2e93a5dc",
            "11ce7a2108b04567b0553b6004cfac47",
            "ae3af46dd2a94b31bf129813ad98e7ce",
            "9b17f6ec35d5423880d6ae410f7b18c8",
            "fa7c70d5010349b5945e2b2c186068af"
          ]
        },
        "id": "JPYMiXtgGvM6",
        "outputId": "ca46105a-8e13-4d5f-80c8-fc665858e202"
      },
      "execution_count": 97,
      "outputs": [
        {
          "output_type": "stream",
          "name": "stderr",
          "text": [
            "/usr/local/lib/python3.11/dist-packages/huggingface_hub/utils/_auth.py:94: UserWarning: \n",
            "The secret `HF_TOKEN` does not exist in your Colab secrets.\n",
            "To authenticate with the Hugging Face Hub, create a token in your settings tab (https://huggingface.co/settings/tokens), set it as secret in your Google Colab and restart your session.\n",
            "You will be able to reuse this secret in all of your notebooks.\n",
            "Please note that authentication is recommended but still optional to access public models or datasets.\n",
            "  warnings.warn(\n"
          ]
        },
        {
          "output_type": "display_data",
          "data": {
            "text/plain": [
              "tokenizer_config.json:   0%|          | 0.00/48.0 [00:00<?, ?B/s]"
            ],
            "application/vnd.jupyter.widget-view+json": {
              "version_major": 2,
              "version_minor": 0,
              "model_id": "b3bb1e605ab545939a421e34682dcdce"
            }
          },
          "metadata": {}
        },
        {
          "output_type": "display_data",
          "data": {
            "text/plain": [
              "vocab.txt:   0%|          | 0.00/232k [00:00<?, ?B/s]"
            ],
            "application/vnd.jupyter.widget-view+json": {
              "version_major": 2,
              "version_minor": 0,
              "model_id": "78c5ebf59b514e19964596998c8436ac"
            }
          },
          "metadata": {}
        },
        {
          "output_type": "display_data",
          "data": {
            "text/plain": [
              "tokenizer.json:   0%|          | 0.00/466k [00:00<?, ?B/s]"
            ],
            "application/vnd.jupyter.widget-view+json": {
              "version_major": 2,
              "version_minor": 0,
              "model_id": "9657c5756a9946ac8385113b0f514c8f"
            }
          },
          "metadata": {}
        },
        {
          "output_type": "display_data",
          "data": {
            "text/plain": [
              "config.json:   0%|          | 0.00/570 [00:00<?, ?B/s]"
            ],
            "application/vnd.jupyter.widget-view+json": {
              "version_major": 2,
              "version_minor": 0,
              "model_id": "e10eebed861047a6a82adede8622a14d"
            }
          },
          "metadata": {}
        }
      ]
    },
    {
      "cell_type": "code",
      "source": [],
      "metadata": {
        "id": "o7OLCmH3GvSw"
      },
      "execution_count": 97,
      "outputs": []
    },
    {
      "cell_type": "code",
      "source": [
        "# Load BERT model for sequence classification (binary or multi-class)"
      ],
      "metadata": {
        "id": "Wadqc9THE-Fz"
      },
      "execution_count": 98,
      "outputs": []
    },
    {
      "cell_type": "code",
      "source": [
        "model = BertForSequenceClassification.from_pretrained(\"bert-base-uncased\", num_labels=2)\n"
      ],
      "metadata": {
        "colab": {
          "base_uri": "https://localhost:8080/",
          "height": 104,
          "referenced_widgets": [
            "d13af31af5b54d198b866ab6f05276cd",
            "cde38450ddde4f13ad8fe98e1b953074",
            "21193346e4324d69b85d723c17cef6c5",
            "20f236f644c446ed9c72cc913552efb5",
            "43fe3ff9a3ec4f30805ae10bfbf693b0",
            "19309ad98aff48898e0ebcc95ae4c6c8",
            "f98787679aca4e24a3c487b72c8acf3a",
            "8c7d703fb44346abb92b4c7a0bd96d33",
            "2ce78f42945342b19b8ab84d61b76f53",
            "5e7ad811061e4ede9f0bc80784eb4dd6",
            "fc9713da19f244bba0b36ff1095d28c6"
          ]
        },
        "id": "ms4wBeo_EXbi",
        "outputId": "47f52564-1c78-4c7f-eac2-f9e061e1f9ae"
      },
      "execution_count": 99,
      "outputs": [
        {
          "output_type": "display_data",
          "data": {
            "text/plain": [
              "model.safetensors:   0%|          | 0.00/440M [00:00<?, ?B/s]"
            ],
            "application/vnd.jupyter.widget-view+json": {
              "version_major": 2,
              "version_minor": 0,
              "model_id": "d13af31af5b54d198b866ab6f05276cd"
            }
          },
          "metadata": {}
        },
        {
          "output_type": "stream",
          "name": "stderr",
          "text": [
            "Some weights of BertForSequenceClassification were not initialized from the model checkpoint at bert-base-uncased and are newly initialized: ['classifier.bias', 'classifier.weight']\n",
            "You should probably TRAIN this model on a down-stream task to be able to use it for predictions and inference.\n"
          ]
        }
      ]
    },
    {
      "cell_type": "markdown",
      "source": [
        "---\n",
        "---"
      ],
      "metadata": {
        "id": "EaH7bbWeG-33"
      }
    },
    {
      "cell_type": "code",
      "source": [],
      "metadata": {
        "id": "qkb_6HnnPkz0"
      },
      "execution_count": null,
      "outputs": []
    },
    {
      "cell_type": "code",
      "source": [],
      "metadata": {
        "id": "X2oEPeqxPlC5"
      },
      "execution_count": null,
      "outputs": []
    },
    {
      "cell_type": "code",
      "source": [],
      "metadata": {
        "id": "U9buF5q4PlQb"
      },
      "execution_count": null,
      "outputs": []
    },
    {
      "cell_type": "markdown",
      "source": [
        "---\n",
        "---"
      ],
      "metadata": {
        "id": "9SclpfNTPlf4"
      }
    },
    {
      "cell_type": "markdown",
      "source": [
        "# Tokenize and Encode Abstracts"
      ],
      "metadata": {
        "id": "-yr47sIUHAU5"
      }
    },
    {
      "cell_type": "code",
      "source": [
        "# Define a function to tokenize abstracts"
      ],
      "metadata": {
        "id": "3eAf6gpBHAcS"
      },
      "execution_count": 100,
      "outputs": []
    },
    {
      "cell_type": "code",
      "source": [
        "def tokenize_texts(texts, tokenizer, max_length=512):\n",
        "    return tokenizer(\n",
        "        texts.tolist(),  # Convert Pandas Series to list\n",
        "        padding=True,\n",
        "        truncation=True,\n",
        "        max_length=max_length,\n",
        "        return_tensors=\"pt\"\n",
        "    )"
      ],
      "metadata": {
        "id": "2uOanj2qHAi0"
      },
      "execution_count": 101,
      "outputs": []
    },
    {
      "cell_type": "code",
      "source": [],
      "metadata": {
        "id": "HfuhkCoxHAsD"
      },
      "execution_count": 101,
      "outputs": []
    },
    {
      "cell_type": "code",
      "source": [
        "# Tokenize and encode training and testing abstracts"
      ],
      "metadata": {
        "id": "s9a1tH3THAxk"
      },
      "execution_count": 102,
      "outputs": []
    },
    {
      "cell_type": "code",
      "source": [
        "train_encodings = tokenize_texts(train_df[\"Cleaned Abstract\"], tokenizer)"
      ],
      "metadata": {
        "id": "V40DrVMcHA3G"
      },
      "execution_count": 103,
      "outputs": []
    },
    {
      "cell_type": "code",
      "source": [
        "test_encodings = tokenize_texts(test_df[\"Cleaned Abstract\"], tokenizer)"
      ],
      "metadata": {
        "id": "iE_eYDepHA8c"
      },
      "execution_count": 104,
      "outputs": []
    },
    {
      "cell_type": "markdown",
      "source": [
        "---\n",
        "---"
      ],
      "metadata": {
        "id": "XaMmjm2RHVci"
      }
    },
    {
      "cell_type": "code",
      "source": [],
      "metadata": {
        "id": "4mwSLMs0PpVX"
      },
      "execution_count": null,
      "outputs": []
    },
    {
      "cell_type": "code",
      "source": [],
      "metadata": {
        "id": "a-zaA1U8PpkG"
      },
      "execution_count": null,
      "outputs": []
    },
    {
      "cell_type": "code",
      "source": [],
      "metadata": {
        "id": "T5sWz7fBPrYN"
      },
      "execution_count": null,
      "outputs": []
    },
    {
      "cell_type": "markdown",
      "source": [
        "---\n",
        "---"
      ],
      "metadata": {
        "id": "0kvqQti1Pp0J"
      }
    },
    {
      "cell_type": "markdown",
      "source": [
        "#  Create PyTorch Datasets and Data Loaders"
      ],
      "metadata": {
        "id": "mvw0vBH_HkCQ"
      }
    },
    {
      "cell_type": "code",
      "source": [
        "train_labels = torch.zeros(len(train_df), dtype=torch.long)  # Placeholder labels\n"
      ],
      "metadata": {
        "id": "MR2-xhygDsvn"
      },
      "execution_count": 105,
      "outputs": []
    },
    {
      "cell_type": "code",
      "source": [
        "test_labels = torch.zeros(len(test_df), dtype=torch.long)    # Placeholder labels\n"
      ],
      "metadata": {
        "id": "7vXX_FJ-Ds3e"
      },
      "execution_count": 106,
      "outputs": []
    },
    {
      "cell_type": "code",
      "source": [],
      "metadata": {
        "id": "kJmipVcIC4rC"
      },
      "execution_count": 106,
      "outputs": []
    },
    {
      "cell_type": "code",
      "source": [
        "from torch.utils.data import TensorDataset, DataLoader"
      ],
      "metadata": {
        "id": "RTIbRvUUCkMv"
      },
      "execution_count": 107,
      "outputs": []
    },
    {
      "cell_type": "code",
      "source": [],
      "metadata": {
        "id": "8HRGLCWwBmeE"
      },
      "execution_count": 107,
      "outputs": []
    },
    {
      "cell_type": "code",
      "source": [
        "# Create PyTorch TensorDataset"
      ],
      "metadata": {
        "id": "WJw759L0Bmgl"
      },
      "execution_count": 108,
      "outputs": []
    },
    {
      "cell_type": "code",
      "source": [
        "train_dataset = TensorDataset(train_encodings['input_ids'],\n",
        "                              train_encodings['attention_mask'],\n",
        "                              train_labels)\n"
      ],
      "metadata": {
        "id": "0luu2y_pBmjJ"
      },
      "execution_count": 109,
      "outputs": []
    },
    {
      "cell_type": "code",
      "source": [],
      "metadata": {
        "id": "ndz2JcskBml3"
      },
      "execution_count": 109,
      "outputs": []
    },
    {
      "cell_type": "code",
      "source": [
        "test_dataset = TensorDataset(test_encodings['input_ids'],\n",
        "                             test_encodings['attention_mask'],\n",
        "                             test_labels)\n"
      ],
      "metadata": {
        "id": "KKyuvWtNBmoh"
      },
      "execution_count": 110,
      "outputs": []
    },
    {
      "cell_type": "code",
      "source": [],
      "metadata": {
        "id": "MA9YP-MJHteP"
      },
      "execution_count": 110,
      "outputs": []
    },
    {
      "cell_type": "code",
      "source": [
        "# Define batch size"
      ],
      "metadata": {
        "id": "7vKgA9WnHtkP"
      },
      "execution_count": 111,
      "outputs": []
    },
    {
      "cell_type": "code",
      "source": [
        "batch_size = 8"
      ],
      "metadata": {
        "id": "6RsDa2t8Htqa"
      },
      "execution_count": 112,
      "outputs": []
    },
    {
      "cell_type": "code",
      "source": [],
      "metadata": {
        "id": "VMXzTA0hHtxY"
      },
      "execution_count": 112,
      "outputs": []
    },
    {
      "cell_type": "code",
      "source": [
        "# Create DataLoaders"
      ],
      "metadata": {
        "id": "FAwyqbKDHt3f"
      },
      "execution_count": 113,
      "outputs": []
    },
    {
      "cell_type": "code",
      "source": [
        "train_loader = DataLoader(train_dataset, batch_size=batch_size, shuffle=True)"
      ],
      "metadata": {
        "id": "nJIKcHbIHt-Q"
      },
      "execution_count": 114,
      "outputs": []
    },
    {
      "cell_type": "code",
      "source": [
        "test_loader = DataLoader(test_dataset, batch_size=batch_size, shuffle=False)\n"
      ],
      "metadata": {
        "id": "FCML_ivMBmq8"
      },
      "execution_count": 115,
      "outputs": []
    },
    {
      "cell_type": "code",
      "source": [],
      "metadata": {
        "id": "KU_nhoSABmta"
      },
      "execution_count": 115,
      "outputs": []
    },
    {
      "cell_type": "code",
      "source": [
        "# Fetch one batch to verify"
      ],
      "metadata": {
        "id": "9J9oNfODGIx7"
      },
      "execution_count": 116,
      "outputs": []
    },
    {
      "cell_type": "code",
      "source": [
        "batch = next(iter(train_loader))"
      ],
      "metadata": {
        "id": "QakWrxchA8Fe"
      },
      "execution_count": 117,
      "outputs": []
    },
    {
      "cell_type": "code",
      "source": [],
      "metadata": {
        "id": "4_2IGuoKH6NC"
      },
      "execution_count": 117,
      "outputs": []
    },
    {
      "cell_type": "code",
      "source": [
        "# Print shapes of tensors in the batch"
      ],
      "metadata": {
        "id": "2b5Yas13H6UY"
      },
      "execution_count": 118,
      "outputs": []
    },
    {
      "cell_type": "code",
      "source": [
        "for tensor in batch:\n",
        "    print(tensor.shape)"
      ],
      "metadata": {
        "colab": {
          "base_uri": "https://localhost:8080/"
        },
        "id": "KID9HLHPH6aj",
        "outputId": "462b2496-7ee7-44a1-cebc-1e31f75ec9ed"
      },
      "execution_count": 119,
      "outputs": [
        {
          "output_type": "stream",
          "name": "stdout",
          "text": [
            "torch.Size([8, 239])\n",
            "torch.Size([8, 239])\n",
            "torch.Size([8])\n"
          ]
        }
      ]
    },
    {
      "cell_type": "markdown",
      "source": [
        "---\n",
        "---"
      ],
      "metadata": {
        "id": "EIf-HxmTH_wg"
      }
    },
    {
      "cell_type": "code",
      "source": [],
      "metadata": {
        "id": "GE4x9sQkPvlI"
      },
      "execution_count": null,
      "outputs": []
    },
    {
      "cell_type": "code",
      "source": [],
      "metadata": {
        "id": "qJMIyaTXPv2D"
      },
      "execution_count": null,
      "outputs": []
    },
    {
      "cell_type": "code",
      "source": [],
      "metadata": {
        "id": "_FdYkJrjPwDl"
      },
      "execution_count": null,
      "outputs": []
    },
    {
      "cell_type": "markdown",
      "source": [
        "---\n",
        "---"
      ],
      "metadata": {
        "id": "f_alzsWRPwS0"
      }
    },
    {
      "cell_type": "markdown",
      "source": [
        "# Fine-Tune BERT for Classification"
      ],
      "metadata": {
        "id": "SDj5t8ZhIA3n"
      }
    },
    {
      "cell_type": "code",
      "source": [
        "import torch.nn as nn"
      ],
      "metadata": {
        "id": "SN_OWhNCIA_Z"
      },
      "execution_count": 120,
      "outputs": []
    },
    {
      "cell_type": "code",
      "source": [
        "from torch.optim import AdamW"
      ],
      "metadata": {
        "id": "eg-yYRk6IBFz"
      },
      "execution_count": 121,
      "outputs": []
    },
    {
      "cell_type": "code",
      "source": [
        "from transformers import get_scheduler"
      ],
      "metadata": {
        "id": "imELmnthIBNf"
      },
      "execution_count": 122,
      "outputs": []
    },
    {
      "cell_type": "code",
      "source": [],
      "metadata": {
        "id": "uaHYC_7EIBTe"
      },
      "execution_count": 122,
      "outputs": []
    },
    {
      "cell_type": "code",
      "source": [
        "# Move model to GPU if available"
      ],
      "metadata": {
        "id": "f8HQiYNWH6kj"
      },
      "execution_count": 123,
      "outputs": []
    },
    {
      "cell_type": "code",
      "source": [
        "device = torch.device(\"cuda\" if torch.cuda.is_available() else \"cpu\")"
      ],
      "metadata": {
        "id": "rn3BbSaEIUgz"
      },
      "execution_count": 124,
      "outputs": []
    },
    {
      "cell_type": "code",
      "source": [
        "model.to(device)"
      ],
      "metadata": {
        "colab": {
          "base_uri": "https://localhost:8080/"
        },
        "id": "xcVK8aLKIUnm",
        "outputId": "b9a79202-d195-4b4a-c10a-15b049d6e76e"
      },
      "execution_count": 125,
      "outputs": [
        {
          "output_type": "execute_result",
          "data": {
            "text/plain": [
              "BertForSequenceClassification(\n",
              "  (bert): BertModel(\n",
              "    (embeddings): BertEmbeddings(\n",
              "      (word_embeddings): Embedding(30522, 768, padding_idx=0)\n",
              "      (position_embeddings): Embedding(512, 768)\n",
              "      (token_type_embeddings): Embedding(2, 768)\n",
              "      (LayerNorm): LayerNorm((768,), eps=1e-12, elementwise_affine=True)\n",
              "      (dropout): Dropout(p=0.1, inplace=False)\n",
              "    )\n",
              "    (encoder): BertEncoder(\n",
              "      (layer): ModuleList(\n",
              "        (0-11): 12 x BertLayer(\n",
              "          (attention): BertAttention(\n",
              "            (self): BertSdpaSelfAttention(\n",
              "              (query): Linear(in_features=768, out_features=768, bias=True)\n",
              "              (key): Linear(in_features=768, out_features=768, bias=True)\n",
              "              (value): Linear(in_features=768, out_features=768, bias=True)\n",
              "              (dropout): Dropout(p=0.1, inplace=False)\n",
              "            )\n",
              "            (output): BertSelfOutput(\n",
              "              (dense): Linear(in_features=768, out_features=768, bias=True)\n",
              "              (LayerNorm): LayerNorm((768,), eps=1e-12, elementwise_affine=True)\n",
              "              (dropout): Dropout(p=0.1, inplace=False)\n",
              "            )\n",
              "          )\n",
              "          (intermediate): BertIntermediate(\n",
              "            (dense): Linear(in_features=768, out_features=3072, bias=True)\n",
              "            (intermediate_act_fn): GELUActivation()\n",
              "          )\n",
              "          (output): BertOutput(\n",
              "            (dense): Linear(in_features=3072, out_features=768, bias=True)\n",
              "            (LayerNorm): LayerNorm((768,), eps=1e-12, elementwise_affine=True)\n",
              "            (dropout): Dropout(p=0.1, inplace=False)\n",
              "          )\n",
              "        )\n",
              "      )\n",
              "    )\n",
              "    (pooler): BertPooler(\n",
              "      (dense): Linear(in_features=768, out_features=768, bias=True)\n",
              "      (activation): Tanh()\n",
              "    )\n",
              "  )\n",
              "  (dropout): Dropout(p=0.1, inplace=False)\n",
              "  (classifier): Linear(in_features=768, out_features=2, bias=True)\n",
              ")"
            ]
          },
          "metadata": {},
          "execution_count": 125
        }
      ]
    },
    {
      "cell_type": "code",
      "source": [],
      "metadata": {
        "id": "KCAdpJ_6IUtY"
      },
      "execution_count": 125,
      "outputs": []
    },
    {
      "cell_type": "code",
      "source": [
        "# Define loss function and optimizer"
      ],
      "metadata": {
        "id": "WBrI2c9hIUzJ"
      },
      "execution_count": 126,
      "outputs": []
    },
    {
      "cell_type": "code",
      "source": [
        "criterion = nn.CrossEntropyLoss()"
      ],
      "metadata": {
        "id": "DO17pbofIU5T"
      },
      "execution_count": 127,
      "outputs": []
    },
    {
      "cell_type": "code",
      "source": [
        "optimizer = AdamW(model.parameters(), lr=2e-5, eps=1e-8)"
      ],
      "metadata": {
        "id": "BcHxPDDaIU_Q"
      },
      "execution_count": 128,
      "outputs": []
    },
    {
      "cell_type": "code",
      "source": [],
      "metadata": {
        "id": "LZGZCnngIe4d"
      },
      "execution_count": 128,
      "outputs": []
    },
    {
      "cell_type": "code",
      "source": [
        "# Define learning rate scheduler"
      ],
      "metadata": {
        "id": "fykjWT_3Ie-u"
      },
      "execution_count": 129,
      "outputs": []
    },
    {
      "cell_type": "code",
      "source": [
        "num_training_steps = len(train_loader) * 3  # Assuming 3 epochs"
      ],
      "metadata": {
        "id": "WOpw9bBgIfE0"
      },
      "execution_count": 130,
      "outputs": []
    },
    {
      "cell_type": "code",
      "source": [
        "lr_scheduler = get_scheduler(\"linear\", optimizer=optimizer, num_warmup_steps=0, num_training_steps=num_training_steps)\n"
      ],
      "metadata": {
        "id": "7ddxJSsNIfL1"
      },
      "execution_count": 131,
      "outputs": []
    },
    {
      "cell_type": "code",
      "source": [],
      "metadata": {
        "id": "OJ5M7K4NIfTB"
      },
      "execution_count": 131,
      "outputs": []
    },
    {
      "cell_type": "code",
      "source": [
        "# Training loop"
      ],
      "metadata": {
        "id": "kM2K5XkwIfZk"
      },
      "execution_count": 132,
      "outputs": []
    },
    {
      "cell_type": "code",
      "source": [
        "num_epochs = 3"
      ],
      "metadata": {
        "id": "MQ-Fkh6RIVJh"
      },
      "execution_count": 133,
      "outputs": []
    },
    {
      "cell_type": "code",
      "source": [
        "for epoch in range(num_epochs):\n",
        "    model.train()\n",
        "    total_loss = 0\n",
        "\n",
        "    for batch in train_loader:\n",
        "        input_ids, attention_mask, labels = [t.to(device) for t in batch]\n",
        "\n",
        "        optimizer.zero_grad()\n",
        "        outputs = model(input_ids, attention_mask=attention_mask)\n",
        "        loss = criterion(outputs.logits, labels)\n",
        "        loss.backward()\n",
        "        optimizer.step()\n",
        "        lr_scheduler.step()\n",
        "\n",
        "        total_loss += loss.item()\n",
        "\n",
        "    avg_loss = total_loss / len(train_loader)\n",
        "    print(f\"Epoch {epoch+1}/{num_epochs}, Loss: {avg_loss:.4f}\")"
      ],
      "metadata": {
        "colab": {
          "base_uri": "https://localhost:8080/"
        },
        "id": "ylnSa7hoIVP8",
        "outputId": "c64b90b8-5f2a-4520-fbd0-6d5b470816c8"
      },
      "execution_count": 134,
      "outputs": [
        {
          "output_type": "stream",
          "name": "stdout",
          "text": [
            "Epoch 1/3, Loss: 0.8112\n",
            "Epoch 2/3, Loss: 0.6547\n",
            "Epoch 3/3, Loss: 0.5344\n"
          ]
        }
      ]
    },
    {
      "cell_type": "markdown",
      "source": [
        "---\n",
        "---"
      ],
      "metadata": {
        "id": "xMQ2D5RnIvJF"
      }
    },
    {
      "cell_type": "code",
      "source": [],
      "metadata": {
        "id": "9Dr701cTI6Xr"
      },
      "execution_count": 134,
      "outputs": []
    },
    {
      "cell_type": "code",
      "source": [],
      "metadata": {
        "id": "VsyJ7H0kI6ej"
      },
      "execution_count": 134,
      "outputs": []
    },
    {
      "cell_type": "code",
      "source": [],
      "metadata": {
        "id": "N9UKYKOdI7G-"
      },
      "execution_count": 134,
      "outputs": []
    },
    {
      "cell_type": "markdown",
      "source": [
        "---\n",
        "---"
      ],
      "metadata": {
        "id": "_ne9E_cMI7Qc"
      }
    },
    {
      "cell_type": "markdown",
      "source": [
        "# Evaluate the Model"
      ],
      "metadata": {
        "id": "uTT9rzVkI8bz"
      }
    },
    {
      "cell_type": "code",
      "source": [
        "from sklearn.metrics import accuracy_score"
      ],
      "metadata": {
        "id": "x7yfTqU_Ixit"
      },
      "execution_count": 135,
      "outputs": []
    },
    {
      "cell_type": "code",
      "source": [],
      "metadata": {
        "id": "ENDXp9YyItH4"
      },
      "execution_count": 135,
      "outputs": []
    },
    {
      "cell_type": "code",
      "source": [
        "# Switch model to evaluation mode"
      ],
      "metadata": {
        "id": "g1tHMGCcItOd"
      },
      "execution_count": 136,
      "outputs": []
    },
    {
      "cell_type": "code",
      "source": [
        "model.eval()"
      ],
      "metadata": {
        "colab": {
          "base_uri": "https://localhost:8080/"
        },
        "id": "8qceQuUYItVA",
        "outputId": "b4af67a8-a3c8-4b63-d6b8-3841b1ad4110"
      },
      "execution_count": 137,
      "outputs": [
        {
          "output_type": "execute_result",
          "data": {
            "text/plain": [
              "BertForSequenceClassification(\n",
              "  (bert): BertModel(\n",
              "    (embeddings): BertEmbeddings(\n",
              "      (word_embeddings): Embedding(30522, 768, padding_idx=0)\n",
              "      (position_embeddings): Embedding(512, 768)\n",
              "      (token_type_embeddings): Embedding(2, 768)\n",
              "      (LayerNorm): LayerNorm((768,), eps=1e-12, elementwise_affine=True)\n",
              "      (dropout): Dropout(p=0.1, inplace=False)\n",
              "    )\n",
              "    (encoder): BertEncoder(\n",
              "      (layer): ModuleList(\n",
              "        (0-11): 12 x BertLayer(\n",
              "          (attention): BertAttention(\n",
              "            (self): BertSdpaSelfAttention(\n",
              "              (query): Linear(in_features=768, out_features=768, bias=True)\n",
              "              (key): Linear(in_features=768, out_features=768, bias=True)\n",
              "              (value): Linear(in_features=768, out_features=768, bias=True)\n",
              "              (dropout): Dropout(p=0.1, inplace=False)\n",
              "            )\n",
              "            (output): BertSelfOutput(\n",
              "              (dense): Linear(in_features=768, out_features=768, bias=True)\n",
              "              (LayerNorm): LayerNorm((768,), eps=1e-12, elementwise_affine=True)\n",
              "              (dropout): Dropout(p=0.1, inplace=False)\n",
              "            )\n",
              "          )\n",
              "          (intermediate): BertIntermediate(\n",
              "            (dense): Linear(in_features=768, out_features=3072, bias=True)\n",
              "            (intermediate_act_fn): GELUActivation()\n",
              "          )\n",
              "          (output): BertOutput(\n",
              "            (dense): Linear(in_features=3072, out_features=768, bias=True)\n",
              "            (LayerNorm): LayerNorm((768,), eps=1e-12, elementwise_affine=True)\n",
              "            (dropout): Dropout(p=0.1, inplace=False)\n",
              "          )\n",
              "        )\n",
              "      )\n",
              "    )\n",
              "    (pooler): BertPooler(\n",
              "      (dense): Linear(in_features=768, out_features=768, bias=True)\n",
              "      (activation): Tanh()\n",
              "    )\n",
              "  )\n",
              "  (dropout): Dropout(p=0.1, inplace=False)\n",
              "  (classifier): Linear(in_features=768, out_features=2, bias=True)\n",
              ")"
            ]
          },
          "metadata": {},
          "execution_count": 137
        }
      ]
    },
    {
      "cell_type": "code",
      "source": [],
      "metadata": {
        "id": "0Hj-b3IuItcu"
      },
      "execution_count": 137,
      "outputs": []
    },
    {
      "cell_type": "code",
      "source": [
        "all_preds, all_labels = [], []"
      ],
      "metadata": {
        "id": "7XSX6vd4ItkY"
      },
      "execution_count": 138,
      "outputs": []
    },
    {
      "cell_type": "code",
      "source": [
        "with torch.no_grad():\n",
        "    for batch in test_loader:\n",
        "        input_ids, attention_mask, labels = [t.to(device) for t in batch]\n",
        "\n",
        "        outputs = model(input_ids, attention_mask=attention_mask)\n",
        "        preds = torch.argmax(outputs.logits, dim=1)\n",
        "\n",
        "        all_preds.extend(preds.cpu().numpy())\n",
        "        all_labels.extend(labels.cpu().numpy())\n"
      ],
      "metadata": {
        "id": "F-M5j3LFIVXF"
      },
      "execution_count": 139,
      "outputs": []
    },
    {
      "cell_type": "code",
      "source": [],
      "metadata": {
        "id": "arZKTur2JEFz"
      },
      "execution_count": 139,
      "outputs": []
    },
    {
      "cell_type": "code",
      "source": [
        "# Compute accuracy"
      ],
      "metadata": {
        "id": "d7v7OBETJEMZ"
      },
      "execution_count": 140,
      "outputs": []
    },
    {
      "cell_type": "code",
      "source": [
        "accuracy = accuracy_score(all_labels, all_preds)"
      ],
      "metadata": {
        "id": "qiHC6JC9JESy"
      },
      "execution_count": 141,
      "outputs": []
    },
    {
      "cell_type": "code",
      "source": [
        "print(f\"Model Accuracy: {accuracy:.4f}\")"
      ],
      "metadata": {
        "colab": {
          "base_uri": "https://localhost:8080/"
        },
        "id": "iX22BB21JEaW",
        "outputId": "e4d18b6f-9abe-45b6-bb6a-b08ea28979c8"
      },
      "execution_count": 142,
      "outputs": [
        {
          "output_type": "stream",
          "name": "stdout",
          "text": [
            "Model Accuracy: 1.0000\n"
          ]
        }
      ]
    },
    {
      "cell_type": "markdown",
      "source": [
        "---\n",
        "---"
      ],
      "metadata": {
        "id": "-jGdXT3mJOX6"
      }
    },
    {
      "cell_type": "code",
      "source": [],
      "metadata": {
        "id": "n_3IYb-OJPnJ"
      },
      "execution_count": 142,
      "outputs": []
    },
    {
      "cell_type": "code",
      "source": [],
      "metadata": {
        "id": "GWWdfJm1JP9G"
      },
      "execution_count": 142,
      "outputs": []
    },
    {
      "cell_type": "code",
      "source": [],
      "metadata": {
        "id": "HKqBX4evJQEh"
      },
      "execution_count": 142,
      "outputs": []
    },
    {
      "cell_type": "markdown",
      "source": [
        "---\n",
        "---"
      ],
      "metadata": {
        "id": "3tRPanAgJQR7"
      }
    },
    {
      "cell_type": "markdown",
      "source": [
        "# Load spaCy for Advanced NLP Tasks"
      ],
      "metadata": {
        "id": "fBBExZmGJRR2"
      }
    },
    {
      "cell_type": "code",
      "source": [
        "import spacy"
      ],
      "metadata": {
        "id": "nF-KOGOWJUWG"
      },
      "execution_count": 143,
      "outputs": []
    },
    {
      "cell_type": "code",
      "source": [],
      "metadata": {
        "id": "yvrdQ0viJUek"
      },
      "execution_count": 143,
      "outputs": []
    },
    {
      "cell_type": "code",
      "source": [
        "# Load the English language model"
      ],
      "metadata": {
        "id": "KsYXIx59JUlc"
      },
      "execution_count": 144,
      "outputs": []
    },
    {
      "cell_type": "code",
      "source": [
        "nlp = spacy.load(\"en_core_web_sm\")"
      ],
      "metadata": {
        "id": "UHzdVB-DJUsD"
      },
      "execution_count": 145,
      "outputs": []
    },
    {
      "cell_type": "markdown",
      "source": [
        "---\n",
        "---"
      ],
      "metadata": {
        "id": "rrCHB7GxJbMf"
      }
    },
    {
      "cell_type": "markdown",
      "source": [
        "# Extract Key Information from Pape"
      ],
      "metadata": {
        "id": "5fQisAyVJcSX"
      }
    },
    {
      "cell_type": "code",
      "source": [
        "def extract_key_info(text):\n",
        "    doc = nlp(text)\n",
        "\n",
        "    # Extract main topics using noun chunks\n",
        "    topics = [chunk.text for chunk in doc.noun_chunks]\n",
        "\n",
        "    # Identify methodology using verb phrases and keywords\n",
        "    methodology_keywords = {\"propose\", \"introduce\", \"develop\", \"implement\", \"apply\", \"train\"}\n",
        "    methodology = [sent.text for sent in doc.sents if any(word.lemma_ in methodology_keywords for word in sent)]\n",
        "\n",
        "    # Extract results by detecting relevant sentences\n",
        "    result_keywords = {\"result\", \"outcome\", \"finding\", \"demonstrate\", \"show\"}\n",
        "    results = [sent.text for sent in doc.sents if any(word.lemma_ in result_keywords for word in sent)]\n",
        "\n",
        "    # Identify conclusions based on predefined keywords\n",
        "    conclusion_keywords = {\"conclude\", \"summary\", \"suggest\", \"recommend\", \"future work\"}\n",
        "    conclusions = [sent.text for sent in doc.sents if any(word.lemma_ in conclusion_keywords for word in sent)]\n",
        "\n",
        "    return {\n",
        "        \"Topics\": topics,\n",
        "        \"Methodology\": methodology,\n",
        "        \"Results\": results,\n",
        "        \"Conclusions\": conclusions\n",
        "    }"
      ],
      "metadata": {
        "id": "JUU1WgIxJfa9"
      },
      "execution_count": 146,
      "outputs": []
    },
    {
      "cell_type": "code",
      "source": [],
      "metadata": {
        "id": "EoLL-zJ7JU1K"
      },
      "execution_count": 146,
      "outputs": []
    },
    {
      "cell_type": "code",
      "source": [
        "# Apply the function to the dataset"
      ],
      "metadata": {
        "id": "HoNBqcO2JKLd"
      },
      "execution_count": 147,
      "outputs": []
    },
    {
      "cell_type": "code",
      "source": [
        "sample_abstract = df[\"Abstract\"].iloc[0]  # Extract from the first paper as an example\n"
      ],
      "metadata": {
        "id": "2imL0U89Jm-Y"
      },
      "execution_count": 148,
      "outputs": []
    },
    {
      "cell_type": "code",
      "source": [
        "key_info = extract_key_info(sample_abstract)"
      ],
      "metadata": {
        "id": "0LhrgKuhJnGQ"
      },
      "execution_count": 149,
      "outputs": []
    },
    {
      "cell_type": "code",
      "source": [],
      "metadata": {
        "id": "h3Ap-4inJnON"
      },
      "execution_count": 149,
      "outputs": []
    },
    {
      "cell_type": "code",
      "source": [
        "# Print extracted information"
      ],
      "metadata": {
        "id": "9ZgaOdqLJnVW"
      },
      "execution_count": 150,
      "outputs": []
    },
    {
      "cell_type": "code",
      "source": [
        "for key, value in key_info.items():\n",
        "    print(f\"🔹 {key}:\")\n",
        "    for v in value:\n",
        "        print(f\"  - {v}\")\n",
        "    print()"
      ],
      "metadata": {
        "colab": {
          "base_uri": "https://localhost:8080/"
        },
        "id": "PrsZUB2VJKSE",
        "outputId": "e27f5a07-7a2e-4fcb-aee2-fffbe90782b7"
      },
      "execution_count": 151,
      "outputs": [
        {
          "output_type": "stream",
          "name": "stdout",
          "text": [
            "🔹 Topics:\n",
            "  - Lecture\n",
            "  - optimization\n",
            "  - machine learning\n",
            "  - a course\n",
            "  - Princeton University\n",
            "  - tutorials\n",
            "  - MLSS\n",
            "  - Berkeley\n",
            "\n",
            "🔹 Methodology:\n",
            "\n",
            "🔹 Results:\n",
            "\n",
            "🔹 Conclusions:\n",
            "\n"
          ]
        }
      ]
    },
    {
      "cell_type": "markdown",
      "source": [
        "---\n",
        "---"
      ],
      "metadata": {
        "id": "Hdxhn6RUJvVf"
      }
    },
    {
      "cell_type": "code",
      "source": [],
      "metadata": {
        "id": "n19bFPivJwes"
      },
      "execution_count": 151,
      "outputs": []
    },
    {
      "cell_type": "code",
      "source": [],
      "metadata": {
        "id": "kWBHeVDsJwpL"
      },
      "execution_count": 151,
      "outputs": []
    },
    {
      "cell_type": "code",
      "source": [],
      "metadata": {
        "id": "2EKvbXXqJwxZ"
      },
      "execution_count": 151,
      "outputs": []
    },
    {
      "cell_type": "markdown",
      "source": [
        "---\n",
        "---"
      ],
      "metadata": {
        "id": "c_6Ocae7Jw5K"
      }
    },
    {
      "cell_type": "markdown",
      "source": [
        "# Initialize T5 Model for Summarization"
      ],
      "metadata": {
        "id": "JqsOk-dWJykR"
      }
    },
    {
      "cell_type": "code",
      "source": [
        "from transformers import T5Tokenizer, T5ForConditionalGeneration"
      ],
      "metadata": {
        "id": "uy1D6h0FJ3Mr"
      },
      "execution_count": 152,
      "outputs": []
    },
    {
      "cell_type": "code",
      "source": [],
      "metadata": {
        "id": "fLV_1Ag_J3VF"
      },
      "execution_count": 152,
      "outputs": []
    },
    {
      "cell_type": "code",
      "source": [
        "# Load T5 tokenizer and model"
      ],
      "metadata": {
        "id": "un0vEMoyJ68a"
      },
      "execution_count": 153,
      "outputs": []
    },
    {
      "cell_type": "code",
      "source": [
        "t5_tokenizer = T5Tokenizer.from_pretrained(\"t5-base\")"
      ],
      "metadata": {
        "colab": {
          "base_uri": "https://localhost:8080/",
          "height": 150,
          "referenced_widgets": [
            "fb0311cc8a7b44e38abf1ab4e4be2cc8",
            "c0b485847e5d466fb3efe9584e1116cf",
            "07c956e326eb45888ca974563bebdd43",
            "824f9ad8bfad4f158c2aa63c0b867596",
            "45f2ccf2a4a241948f5c5a794674749b",
            "0c91a38e61f64f369d2d764acd387118",
            "4ccd7652ed9f4e34978293e5fd35a479",
            "675fc6ad1d6f4ca384181d33e3c632d8",
            "7c4fe65fc98e42e4a18a0c41d1c233e2",
            "ea119b7df9e44ad887b2970d378f46be",
            "4d290f0624a640199bd6cef4e493f115",
            "0ba71bc65ca44680971b903af81e117f",
            "03b864eff7084479a9bc19c6f63a56a0",
            "6a82a0ccd77c49bdbea8bc703bacd28c",
            "d1cfab33998a4d89988b4404d3075108",
            "7854c5ca5e324885bfc3d7bc2fe9e52f",
            "bdf88481625d419bbd6154dd9aedf82c",
            "95b7bc04809f4dab82036c2d69ca828f",
            "107eb7f88488430aabee757736723b74",
            "e8441ac8e6a64a7f9c5526911857ee5f",
            "6e13ca6099f04ac58005b7f57ad9474d",
            "0c4e38744fdb42609bdbdf3efbcf8263",
            "a1752a4f88ef4e04b18d92a38a45c547",
            "a65007de45d54ac6ac9a0d405eff5c1c",
            "2a86992fd1cc485b87fec5b49c1bc629",
            "257411f65c5846f9bae81da6cd1b30ea",
            "197196db219f439583b3708204d1a59b",
            "a6d8472740644f5ca506bd57108d9b09",
            "5cc3477fe98d498e8f9165b986b157d4",
            "e00c0224b5ec4abf8d7490f59eeac965",
            "824aa4e19ce845698dd8d8fd33098cea",
            "7d6d4677358e415b8b9a002ff6c77609",
            "ad27d4d8df3e46bfa1f1559ff1317241"
          ]
        },
        "id": "RpOleUROJ3dY",
        "outputId": "b3ada8a7-cfe0-4a8c-ed7a-0c772027ec83"
      },
      "execution_count": 154,
      "outputs": [
        {
          "output_type": "display_data",
          "data": {
            "text/plain": [
              "spiece.model:   0%|          | 0.00/792k [00:00<?, ?B/s]"
            ],
            "application/vnd.jupyter.widget-view+json": {
              "version_major": 2,
              "version_minor": 0,
              "model_id": "fb0311cc8a7b44e38abf1ab4e4be2cc8"
            }
          },
          "metadata": {}
        },
        {
          "output_type": "display_data",
          "data": {
            "text/plain": [
              "tokenizer.json:   0%|          | 0.00/1.39M [00:00<?, ?B/s]"
            ],
            "application/vnd.jupyter.widget-view+json": {
              "version_major": 2,
              "version_minor": 0,
              "model_id": "0ba71bc65ca44680971b903af81e117f"
            }
          },
          "metadata": {}
        },
        {
          "output_type": "display_data",
          "data": {
            "text/plain": [
              "config.json:   0%|          | 0.00/1.21k [00:00<?, ?B/s]"
            ],
            "application/vnd.jupyter.widget-view+json": {
              "version_major": 2,
              "version_minor": 0,
              "model_id": "a1752a4f88ef4e04b18d92a38a45c547"
            }
          },
          "metadata": {}
        },
        {
          "output_type": "stream",
          "name": "stderr",
          "text": [
            "You are using the default legacy behaviour of the <class 'transformers.models.t5.tokenization_t5.T5Tokenizer'>. This is expected, and simply means that the `legacy` (previous) behavior will be used so nothing changes for you. If you want to use the new behaviour, set `legacy=False`. This should only be set if you understand what it means, and thoroughly read the reason why this was added as explained in https://github.com/huggingface/transformers/pull/24565\n"
          ]
        }
      ]
    },
    {
      "cell_type": "code",
      "source": [
        "t5_model = T5ForConditionalGeneration.from_pretrained(\"t5-base\")"
      ],
      "metadata": {
        "colab": {
          "base_uri": "https://localhost:8080/",
          "height": 81,
          "referenced_widgets": [
            "fdf93acdb8ea436aba446ffd09813568",
            "e50832ac6ec54ea8bd81ccb9ec651645",
            "06e7026c10774c89befc4e55f05fed18",
            "1539944e24ae4aa88c45ccfd2d478c6f",
            "23121b916197490096b893e27b44a47c",
            "d176f172786e48fe9a9095de2cf6806d",
            "d317f0133aa84985b77ec5db73eb5ed0",
            "711d5b1e2156467eb5e577c4b04c4bb8",
            "06a0ec5406d247c5a2a34bb85e0824ce",
            "ca77dfdfcd5e46c7933a5bedc5cef737",
            "d6e9a9f5314a49b194164819842b3fbf",
            "6f9aa9d54c3f4adc87e3196e6ae1bfb7",
            "d67199e1daa64be1882cbe0f6c9c7b16",
            "9493deeab4e24fe4aef365cdf458faef",
            "09afe8adf08d4f7d837085654df66303",
            "2672abb62560401181bd9ddaf337ef7c",
            "e3baffff72cf4465b80543cf3fe581f9",
            "7a33cbdf1f3c497f93748db0a16dce5f",
            "042cc3caec574ddc857bccfc1cf83a64",
            "e5cca145b76f4026af36447650f1354e",
            "f2f46c700e0041c4b81dc8d2148eba34",
            "a630a4b5348c44a58d5686f40c6cf3cd"
          ]
        },
        "id": "1ZMSb50zJKY-",
        "outputId": "fa870076-cecc-4d90-8e4d-6cc4e5481c1a"
      },
      "execution_count": 155,
      "outputs": [
        {
          "output_type": "display_data",
          "data": {
            "text/plain": [
              "model.safetensors:   0%|          | 0.00/892M [00:00<?, ?B/s]"
            ],
            "application/vnd.jupyter.widget-view+json": {
              "version_major": 2,
              "version_minor": 0,
              "model_id": "fdf93acdb8ea436aba446ffd09813568"
            }
          },
          "metadata": {}
        },
        {
          "output_type": "display_data",
          "data": {
            "text/plain": [
              "generation_config.json:   0%|          | 0.00/147 [00:00<?, ?B/s]"
            ],
            "application/vnd.jupyter.widget-view+json": {
              "version_major": 2,
              "version_minor": 0,
              "model_id": "6f9aa9d54c3f4adc87e3196e6ae1bfb7"
            }
          },
          "metadata": {}
        }
      ]
    },
    {
      "cell_type": "code",
      "source": [],
      "metadata": {
        "id": "g0I1_9bgJKgm"
      },
      "execution_count": 155,
      "outputs": []
    },
    {
      "cell_type": "code",
      "source": [
        "# Move model to GPU if available"
      ],
      "metadata": {
        "id": "17xe3KQ7JKnk"
      },
      "execution_count": 156,
      "outputs": []
    },
    {
      "cell_type": "code",
      "source": [
        "device = torch.device(\"cuda\" if torch.cuda.is_available() else \"cpu\")"
      ],
      "metadata": {
        "id": "QE2Es7wOKBPR"
      },
      "execution_count": 157,
      "outputs": []
    },
    {
      "cell_type": "code",
      "source": [
        "t5_model.to(device)"
      ],
      "metadata": {
        "colab": {
          "base_uri": "https://localhost:8080/"
        },
        "id": "HNv5Bo24KBY6",
        "outputId": "990ff87a-7eb5-4c10-b171-60b3078625a7"
      },
      "execution_count": 158,
      "outputs": [
        {
          "output_type": "execute_result",
          "data": {
            "text/plain": [
              "T5ForConditionalGeneration(\n",
              "  (shared): Embedding(32128, 768)\n",
              "  (encoder): T5Stack(\n",
              "    (embed_tokens): Embedding(32128, 768)\n",
              "    (block): ModuleList(\n",
              "      (0): T5Block(\n",
              "        (layer): ModuleList(\n",
              "          (0): T5LayerSelfAttention(\n",
              "            (SelfAttention): T5Attention(\n",
              "              (q): Linear(in_features=768, out_features=768, bias=False)\n",
              "              (k): Linear(in_features=768, out_features=768, bias=False)\n",
              "              (v): Linear(in_features=768, out_features=768, bias=False)\n",
              "              (o): Linear(in_features=768, out_features=768, bias=False)\n",
              "              (relative_attention_bias): Embedding(32, 12)\n",
              "            )\n",
              "            (layer_norm): T5LayerNorm()\n",
              "            (dropout): Dropout(p=0.1, inplace=False)\n",
              "          )\n",
              "          (1): T5LayerFF(\n",
              "            (DenseReluDense): T5DenseActDense(\n",
              "              (wi): Linear(in_features=768, out_features=3072, bias=False)\n",
              "              (wo): Linear(in_features=3072, out_features=768, bias=False)\n",
              "              (dropout): Dropout(p=0.1, inplace=False)\n",
              "              (act): ReLU()\n",
              "            )\n",
              "            (layer_norm): T5LayerNorm()\n",
              "            (dropout): Dropout(p=0.1, inplace=False)\n",
              "          )\n",
              "        )\n",
              "      )\n",
              "      (1-11): 11 x T5Block(\n",
              "        (layer): ModuleList(\n",
              "          (0): T5LayerSelfAttention(\n",
              "            (SelfAttention): T5Attention(\n",
              "              (q): Linear(in_features=768, out_features=768, bias=False)\n",
              "              (k): Linear(in_features=768, out_features=768, bias=False)\n",
              "              (v): Linear(in_features=768, out_features=768, bias=False)\n",
              "              (o): Linear(in_features=768, out_features=768, bias=False)\n",
              "            )\n",
              "            (layer_norm): T5LayerNorm()\n",
              "            (dropout): Dropout(p=0.1, inplace=False)\n",
              "          )\n",
              "          (1): T5LayerFF(\n",
              "            (DenseReluDense): T5DenseActDense(\n",
              "              (wi): Linear(in_features=768, out_features=3072, bias=False)\n",
              "              (wo): Linear(in_features=3072, out_features=768, bias=False)\n",
              "              (dropout): Dropout(p=0.1, inplace=False)\n",
              "              (act): ReLU()\n",
              "            )\n",
              "            (layer_norm): T5LayerNorm()\n",
              "            (dropout): Dropout(p=0.1, inplace=False)\n",
              "          )\n",
              "        )\n",
              "      )\n",
              "    )\n",
              "    (final_layer_norm): T5LayerNorm()\n",
              "    (dropout): Dropout(p=0.1, inplace=False)\n",
              "  )\n",
              "  (decoder): T5Stack(\n",
              "    (embed_tokens): Embedding(32128, 768)\n",
              "    (block): ModuleList(\n",
              "      (0): T5Block(\n",
              "        (layer): ModuleList(\n",
              "          (0): T5LayerSelfAttention(\n",
              "            (SelfAttention): T5Attention(\n",
              "              (q): Linear(in_features=768, out_features=768, bias=False)\n",
              "              (k): Linear(in_features=768, out_features=768, bias=False)\n",
              "              (v): Linear(in_features=768, out_features=768, bias=False)\n",
              "              (o): Linear(in_features=768, out_features=768, bias=False)\n",
              "              (relative_attention_bias): Embedding(32, 12)\n",
              "            )\n",
              "            (layer_norm): T5LayerNorm()\n",
              "            (dropout): Dropout(p=0.1, inplace=False)\n",
              "          )\n",
              "          (1): T5LayerCrossAttention(\n",
              "            (EncDecAttention): T5Attention(\n",
              "              (q): Linear(in_features=768, out_features=768, bias=False)\n",
              "              (k): Linear(in_features=768, out_features=768, bias=False)\n",
              "              (v): Linear(in_features=768, out_features=768, bias=False)\n",
              "              (o): Linear(in_features=768, out_features=768, bias=False)\n",
              "            )\n",
              "            (layer_norm): T5LayerNorm()\n",
              "            (dropout): Dropout(p=0.1, inplace=False)\n",
              "          )\n",
              "          (2): T5LayerFF(\n",
              "            (DenseReluDense): T5DenseActDense(\n",
              "              (wi): Linear(in_features=768, out_features=3072, bias=False)\n",
              "              (wo): Linear(in_features=3072, out_features=768, bias=False)\n",
              "              (dropout): Dropout(p=0.1, inplace=False)\n",
              "              (act): ReLU()\n",
              "            )\n",
              "            (layer_norm): T5LayerNorm()\n",
              "            (dropout): Dropout(p=0.1, inplace=False)\n",
              "          )\n",
              "        )\n",
              "      )\n",
              "      (1-11): 11 x T5Block(\n",
              "        (layer): ModuleList(\n",
              "          (0): T5LayerSelfAttention(\n",
              "            (SelfAttention): T5Attention(\n",
              "              (q): Linear(in_features=768, out_features=768, bias=False)\n",
              "              (k): Linear(in_features=768, out_features=768, bias=False)\n",
              "              (v): Linear(in_features=768, out_features=768, bias=False)\n",
              "              (o): Linear(in_features=768, out_features=768, bias=False)\n",
              "            )\n",
              "            (layer_norm): T5LayerNorm()\n",
              "            (dropout): Dropout(p=0.1, inplace=False)\n",
              "          )\n",
              "          (1): T5LayerCrossAttention(\n",
              "            (EncDecAttention): T5Attention(\n",
              "              (q): Linear(in_features=768, out_features=768, bias=False)\n",
              "              (k): Linear(in_features=768, out_features=768, bias=False)\n",
              "              (v): Linear(in_features=768, out_features=768, bias=False)\n",
              "              (o): Linear(in_features=768, out_features=768, bias=False)\n",
              "            )\n",
              "            (layer_norm): T5LayerNorm()\n",
              "            (dropout): Dropout(p=0.1, inplace=False)\n",
              "          )\n",
              "          (2): T5LayerFF(\n",
              "            (DenseReluDense): T5DenseActDense(\n",
              "              (wi): Linear(in_features=768, out_features=3072, bias=False)\n",
              "              (wo): Linear(in_features=3072, out_features=768, bias=False)\n",
              "              (dropout): Dropout(p=0.1, inplace=False)\n",
              "              (act): ReLU()\n",
              "            )\n",
              "            (layer_norm): T5LayerNorm()\n",
              "            (dropout): Dropout(p=0.1, inplace=False)\n",
              "          )\n",
              "        )\n",
              "      )\n",
              "    )\n",
              "    (final_layer_norm): T5LayerNorm()\n",
              "    (dropout): Dropout(p=0.1, inplace=False)\n",
              "  )\n",
              "  (lm_head): Linear(in_features=768, out_features=32128, bias=False)\n",
              ")"
            ]
          },
          "metadata": {},
          "execution_count": 158
        }
      ]
    },
    {
      "cell_type": "markdown",
      "source": [
        "---\n",
        "---"
      ],
      "metadata": {
        "id": "5pimkUDxKFJE"
      }
    },
    {
      "cell_type": "code",
      "source": [],
      "metadata": {
        "id": "DXkBKpvEKG2e"
      },
      "execution_count": 158,
      "outputs": []
    },
    {
      "cell_type": "code",
      "source": [],
      "metadata": {
        "id": "1CKU-8k6KHBL"
      },
      "execution_count": 158,
      "outputs": []
    },
    {
      "cell_type": "code",
      "source": [],
      "metadata": {
        "id": "WhdvvzFpKHI5"
      },
      "execution_count": 158,
      "outputs": []
    },
    {
      "cell_type": "markdown",
      "source": [
        "---\n",
        "---"
      ],
      "metadata": {
        "id": "5jFF2kwZKHg6"
      }
    },
    {
      "cell_type": "markdown",
      "source": [
        "# Generate Summaries Using T5"
      ],
      "metadata": {
        "id": "vAmgyrlfKKJ1"
      }
    },
    {
      "cell_type": "code",
      "source": [
        "def summarize_text(text, max_length=150):\n",
        "    input_text = \"summarize: \" + text\n",
        "    input_ids = t5_tokenizer.encode(input_text, return_tensors=\"pt\", truncation=True).to(device)\n",
        "\n",
        "    summary_ids = t5_model.generate(\n",
        "        input_ids,\n",
        "        max_length=max_length,\n",
        "        num_beams=4,\n",
        "        early_stopping=True\n",
        "    )\n",
        "\n",
        "    summary = t5_tokenizer.decode(summary_ids[0], skip_special_tokens=True)\n",
        "    return summary"
      ],
      "metadata": {
        "id": "tbIDTy_UKN1X"
      },
      "execution_count": 159,
      "outputs": []
    },
    {
      "cell_type": "code",
      "source": [],
      "metadata": {
        "id": "sCiQ14FvKBg0"
      },
      "execution_count": 159,
      "outputs": []
    },
    {
      "cell_type": "code",
      "source": [
        "# Example: Generate summaries for extracted abstracts"
      ],
      "metadata": {
        "id": "_F9_1MmeKBom"
      },
      "execution_count": 160,
      "outputs": []
    },
    {
      "cell_type": "code",
      "source": [
        "sample_abstract = \" \".join(train_df[\"Abstract\"].tolist()[:3])  # Using first 3 abstracts as an example\n"
      ],
      "metadata": {
        "id": "7rD9WMJ1KBwO"
      },
      "execution_count": 161,
      "outputs": []
    },
    {
      "cell_type": "code",
      "source": [
        "summary = summarize_text(sample_abstract)"
      ],
      "metadata": {
        "colab": {
          "base_uri": "https://localhost:8080/"
        },
        "id": "jJ1ROjntKB3l",
        "outputId": "a7164b17-b718-4094-ce63-8f8ea724161b"
      },
      "execution_count": 162,
      "outputs": [
        {
          "output_type": "stream",
          "name": "stderr",
          "text": [
            "Asking to truncate to max_length but no maximum length is provided and the model has no predefined maximum length. Default to no truncation.\n"
          ]
        }
      ]
    },
    {
      "cell_type": "code",
      "source": [
        "print(\"🔹 Generated Summary:\\n\", summary)"
      ],
      "metadata": {
        "colab": {
          "base_uri": "https://localhost:8080/"
        },
        "id": "fj9_G64ZKV8v",
        "outputId": "6bca6bea-38eb-4414-86c9-b6a9814275d6"
      },
      "execution_count": 163,
      "outputs": [
        {
          "output_type": "stream",
          "name": "stdout",
          "text": [
            "🔹 Generated Summary:\n",
            " recent use of machine learning in meteorology has increased greatly . lack of formal instruction has contributed to perception that methods are 'black boxes' paper provides a survey of some of the most common machine learning methods .\n"
          ]
        }
      ]
    },
    {
      "cell_type": "markdown",
      "source": [
        "---\n",
        "---"
      ],
      "metadata": {
        "id": "iVdaw_qhKb6n"
      }
    },
    {
      "cell_type": "code",
      "source": [],
      "metadata": {
        "id": "ES7v5amVKcvc"
      },
      "execution_count": 163,
      "outputs": []
    },
    {
      "cell_type": "code",
      "source": [],
      "metadata": {
        "id": "FbrAl8iuKc57"
      },
      "execution_count": 163,
      "outputs": []
    },
    {
      "cell_type": "code",
      "source": [],
      "metadata": {
        "id": "i04odNnoKdCb"
      },
      "execution_count": 163,
      "outputs": []
    },
    {
      "cell_type": "markdown",
      "source": [
        "---\n",
        "---"
      ],
      "metadata": {
        "id": "Hze91OAGKdPb"
      }
    },
    {
      "cell_type": "markdown",
      "source": [
        "# \"Fetch Papers Based on a Query"
      ],
      "metadata": {
        "id": "RRlhMMgVKWFK"
      }
    },
    {
      "cell_type": "code",
      "source": [
        "from bs4 import BeautifulSoup"
      ],
      "metadata": {
        "id": "q0ShL6fmKWNs"
      },
      "execution_count": 164,
      "outputs": []
    },
    {
      "cell_type": "code",
      "source": [],
      "metadata": {
        "id": "2UR_VePvKWWb"
      },
      "execution_count": 164,
      "outputs": []
    },
    {
      "cell_type": "code",
      "source": [
        "def fetch_arxiv_papers(query, max_results=5):\n",
        "    base_url = \"http://export.arxiv.org/api/query?\"\n",
        "    search_query = f\"search_query=all:{query}&start=0&max_results={max_results}\"\n",
        "    response = requests.get(base_url + search_query)\n",
        "\n",
        "    if response.status_code == 200:\n",
        "        soup = BeautifulSoup(response.text, \"xml\")\n",
        "        entries = soup.find_all(\"entry\")\n",
        "\n",
        "        papers = []\n",
        "        for entry in entries:\n",
        "            paper = {\n",
        "                \"title\": entry.title.text.strip(),\n",
        "                \"abstract\": entry.summary.text.strip(),\n",
        "                \"authors\": [author.text for author in entry.find_all(\"author\")],\n",
        "                \"link\": entry.id.text.strip()\n",
        "            }\n",
        "            papers.append(paper)\n",
        "\n",
        "        return papers\n",
        "    else:\n",
        "        print(\"Failed to fetch papers from arXiv.\")\n",
        "        return []\n"
      ],
      "metadata": {
        "id": "_Pzz0md5KWeX"
      },
      "execution_count": 165,
      "outputs": []
    },
    {
      "cell_type": "code",
      "source": [],
      "metadata": {
        "id": "F15Cvf-HKn3R"
      },
      "execution_count": 165,
      "outputs": []
    },
    {
      "cell_type": "code",
      "source": [
        "# Example: Fetch papers related to 'machine learning'"
      ],
      "metadata": {
        "id": "4zH5ki_2Kn_o"
      },
      "execution_count": 166,
      "outputs": []
    },
    {
      "cell_type": "code",
      "source": [
        "papers = fetch_arxiv_papers(\"machine learning\")"
      ],
      "metadata": {
        "id": "mYa7lVwVKoIt"
      },
      "execution_count": 167,
      "outputs": []
    },
    {
      "cell_type": "code",
      "source": [
        "for i, paper in enumerate(papers):\n",
        "    print(f\"\\n🔹 Paper {i+1}: {paper['title']}\\n🔹 Authors: {', '.join(paper['authors'])}\\n🔹 Link: {paper['link']}\\n🔹 Abstract: {paper['abstract'][:300]}...\")\n"
      ],
      "metadata": {
        "colab": {
          "base_uri": "https://localhost:8080/"
        },
        "id": "bWbDxpmoKoRd",
        "outputId": "7088103b-61d4-4a3e-a6c8-bed5ae2ea05e"
      },
      "execution_count": 168,
      "outputs": [
        {
          "output_type": "stream",
          "name": "stdout",
          "text": [
            "\n",
            "🔹 Paper 1: Lecture Notes: Optimization for Machine Learning\n",
            "🔹 Authors: \n",
            "Elad Hazan\n",
            "\n",
            "🔹 Link: http://arxiv.org/abs/1909.03550v1\n",
            "🔹 Abstract: Lecture notes on optimization for machine learning, derived from a course at\n",
            "Princeton University and tutorials given in MLSS, Buenos Aires, as well as\n",
            "Simons Foundation, Berkeley....\n",
            "\n",
            "🔹 Paper 2: An Optimal Control View of Adversarial Machine Learning\n",
            "🔹 Authors: \n",
            "Xiaojin Zhu\n",
            "\n",
            "🔹 Link: http://arxiv.org/abs/1811.04422v1\n",
            "🔹 Abstract: I describe an optimal control view of adversarial machine learning, where the\n",
            "dynamical system is the machine learner, the input are adversarial actions, and\n",
            "the control costs are defined by the adversary's goals to do harm and be hard\n",
            "to detect. This view encompasses many types of adversarial machi...\n",
            "\n",
            "🔹 Paper 3: Minimax deviation strategies for machine learning and recognition with\n",
            "  short learning samples\n",
            "🔹 Authors: \n",
            "Michail Schlesinger\n",
            ", \n",
            "Evgeniy Vodolazskiy\n",
            "\n",
            "🔹 Link: http://arxiv.org/abs/1707.04849v1\n",
            "🔹 Abstract: The article is devoted to the problem of small learning samples in machine\n",
            "learning. The flaws of maximum likelihood learning and minimax learning are\n",
            "looked into and the concept of minimax deviation learning is introduced that is\n",
            "free of those flaws....\n",
            "\n",
            "🔹 Paper 4: Machine Learning for Clinical Predictive Analytics\n",
            "🔹 Authors: \n",
            "Wei-Hung Weng\n",
            "\n",
            "🔹 Link: http://arxiv.org/abs/1909.09246v1\n",
            "🔹 Abstract: In this chapter, we provide a brief overview of applying machine learning\n",
            "techniques for clinical prediction tasks. We begin with a quick introduction to\n",
            "the concepts of machine learning and outline some of the most common machine\n",
            "learning algorithms. Next, we demonstrate how to apply the algorithms...\n",
            "\n",
            "🔹 Paper 5: Towards Modular Machine Learning Solution Development: Benefits and\n",
            "  Trade-offs\n",
            "🔹 Authors: \n",
            "Samiyuru Menik\n",
            ", \n",
            "Lakshmish Ramaswamy\n",
            "\n",
            "🔹 Link: http://arxiv.org/abs/2301.09753v1\n",
            "🔹 Abstract: Machine learning technologies have demonstrated immense capabilities in\n",
            "various domains. They play a key role in the success of modern businesses.\n",
            "However, adoption of machine learning technologies has a lot of untouched\n",
            "potential. Cost of developing custom machine learning solutions that solve\n",
            "uniq...\n"
          ]
        }
      ]
    },
    {
      "cell_type": "markdown",
      "source": [
        "---\n",
        "---"
      ],
      "metadata": {
        "id": "q6cqPuXFKyLO"
      }
    },
    {
      "cell_type": "code",
      "source": [],
      "metadata": {
        "id": "vtIowTI4KzHv"
      },
      "execution_count": 168,
      "outputs": []
    },
    {
      "cell_type": "code",
      "source": [],
      "metadata": {
        "id": "zgmJ0jfCKzTM"
      },
      "execution_count": 168,
      "outputs": []
    },
    {
      "cell_type": "code",
      "source": [],
      "metadata": {
        "id": "XrPQ2b_fKzhY"
      },
      "execution_count": 168,
      "outputs": []
    },
    {
      "cell_type": "markdown",
      "source": [
        "---\n",
        "---"
      ],
      "metadata": {
        "id": "GhCK7hk8KzwP"
      }
    },
    {
      "cell_type": "markdown",
      "source": [
        "# Create a Citation Network"
      ],
      "metadata": {
        "id": "ndNPnlY3K1ab"
      }
    },
    {
      "cell_type": "code",
      "source": [
        "import networkx as nx"
      ],
      "metadata": {
        "id": "t1Gbkq91K2Wc"
      },
      "execution_count": 169,
      "outputs": []
    },
    {
      "cell_type": "code",
      "source": [
        "from sklearn.feature_extraction.text import TfidfVectorizer"
      ],
      "metadata": {
        "id": "vNEJnoYrK2hX"
      },
      "execution_count": 170,
      "outputs": []
    },
    {
      "cell_type": "code",
      "source": [
        "from sklearn.metrics.pairwise import cosine_similarity"
      ],
      "metadata": {
        "id": "ApgdGcyFK2rv"
      },
      "execution_count": 171,
      "outputs": []
    },
    {
      "cell_type": "code",
      "source": [],
      "metadata": {
        "id": "pu8ILi9iK23j"
      },
      "execution_count": 171,
      "outputs": []
    },
    {
      "cell_type": "code",
      "source": [
        "# Initialize the citation network graph"
      ],
      "metadata": {
        "id": "2M-GG4aGK3Ap"
      },
      "execution_count": 172,
      "outputs": []
    },
    {
      "cell_type": "code",
      "source": [
        "G = nx.Graph()"
      ],
      "metadata": {
        "id": "FgmSTYqOK3Mv"
      },
      "execution_count": 173,
      "outputs": []
    },
    {
      "cell_type": "code",
      "source": [],
      "metadata": {
        "id": "hy9mdPH2LAov"
      },
      "execution_count": 173,
      "outputs": []
    },
    {
      "cell_type": "code",
      "source": [
        "# Add papers as nodes"
      ],
      "metadata": {
        "id": "P-WIh-sMLAzd"
      },
      "execution_count": 174,
      "outputs": []
    },
    {
      "cell_type": "code",
      "source": [
        "for paper in papers:\n",
        "    G.add_node(paper[\"title\"], abstract=paper[\"abstract\"], link=paper[\"link\"])\n"
      ],
      "metadata": {
        "id": "CdeV4vCWLA-U"
      },
      "execution_count": 175,
      "outputs": []
    },
    {
      "cell_type": "code",
      "source": [],
      "metadata": {
        "id": "uHSz151oLBIe"
      },
      "execution_count": 175,
      "outputs": []
    },
    {
      "cell_type": "code",
      "source": [
        "# Compute TF-IDF similarity between abstracts"
      ],
      "metadata": {
        "id": "dGxBuBU8LBTA"
      },
      "execution_count": 176,
      "outputs": []
    },
    {
      "cell_type": "code",
      "source": [
        "abstracts = [paper[\"abstract\"] for paper in papers]"
      ],
      "metadata": {
        "id": "QoYk-1BgK0r-"
      },
      "execution_count": 177,
      "outputs": []
    },
    {
      "cell_type": "code",
      "source": [
        "vectorizer = TfidfVectorizer(stop_words=\"english\")"
      ],
      "metadata": {
        "id": "aHFipjDGLInz"
      },
      "execution_count": 178,
      "outputs": []
    },
    {
      "cell_type": "code",
      "source": [
        "tfidf_matrix = vectorizer.fit_transform(abstracts)"
      ],
      "metadata": {
        "id": "9G5iKluNLIx1"
      },
      "execution_count": 179,
      "outputs": []
    },
    {
      "cell_type": "code",
      "source": [
        "similarity_matrix = cosine_similarity(tfidf_matrix)"
      ],
      "metadata": {
        "id": "gzrlO8EJLI8P"
      },
      "execution_count": 180,
      "outputs": []
    },
    {
      "cell_type": "code",
      "source": [],
      "metadata": {
        "id": "LU7FgUbaLJF_"
      },
      "execution_count": 180,
      "outputs": []
    },
    {
      "cell_type": "code",
      "source": [],
      "metadata": {
        "id": "WHdQ817qLJRR"
      },
      "execution_count": 180,
      "outputs": []
    },
    {
      "cell_type": "code",
      "source": [
        "# Add edges based on similarity threshold"
      ],
      "metadata": {
        "id": "MBJIG8dXLJcX"
      },
      "execution_count": 181,
      "outputs": []
    },
    {
      "cell_type": "code",
      "source": [
        "threshold = 0.2  # Adjust based on required similarity strength"
      ],
      "metadata": {
        "id": "Lk5KtSQsLJlx"
      },
      "execution_count": 182,
      "outputs": []
    },
    {
      "cell_type": "code",
      "source": [
        "for i in range(len(papers)):\n",
        "    for j in range(i + 1, len(papers)):\n",
        "        if similarity_matrix[i, j] > threshold:\n",
        "            G.add_edge(papers[i][\"title\"], papers[j][\"title\"], weight=similarity_matrix[i, j])\n"
      ],
      "metadata": {
        "id": "qacGIsylLJv2"
      },
      "execution_count": 183,
      "outputs": []
    },
    {
      "cell_type": "code",
      "source": [],
      "metadata": {
        "id": "eCd0YqHhLUgy"
      },
      "execution_count": 183,
      "outputs": []
    },
    {
      "cell_type": "code",
      "source": [
        "print(f\"✅ Citation network created with {G.number_of_nodes()} nodes and {G.number_of_edges()} edges.\")\n"
      ],
      "metadata": {
        "colab": {
          "base_uri": "https://localhost:8080/"
        },
        "id": "uxH8iCwfLUrh",
        "outputId": "688079d8-e52c-414d-de34-dedb056edd19"
      },
      "execution_count": 184,
      "outputs": [
        {
          "output_type": "stream",
          "name": "stdout",
          "text": [
            "✅ Citation network created with 5 nodes and 2 edges.\n"
          ]
        }
      ]
    },
    {
      "cell_type": "markdown",
      "source": [
        "---\n",
        "---"
      ],
      "metadata": {
        "id": "dL9OEbskLXYh"
      }
    },
    {
      "cell_type": "code",
      "source": [],
      "metadata": {
        "id": "Djm036n8La_h"
      },
      "execution_count": 184,
      "outputs": []
    },
    {
      "cell_type": "code",
      "source": [],
      "metadata": {
        "id": "W1mADJUILbMG"
      },
      "execution_count": 184,
      "outputs": []
    },
    {
      "cell_type": "code",
      "source": [],
      "metadata": {
        "id": "ob8hRqivLbWf"
      },
      "execution_count": 184,
      "outputs": []
    },
    {
      "cell_type": "markdown",
      "source": [
        "---\n",
        "---"
      ],
      "metadata": {
        "id": "T56QZrZVLbgK"
      }
    },
    {
      "cell_type": "markdown",
      "source": [
        "# Visualize the Citation Network"
      ],
      "metadata": {
        "id": "hyaE7ZwVLd0w"
      }
    },
    {
      "cell_type": "code",
      "source": [
        "plt.figure(figsize=(10, 6)) # Set plot size\n",
        "pos = nx.spring_layout(G, seed=42) # Apply a spring layout\n",
        "nx.draw(G, pos, with_labels=True, node_size=3000, node_color=\"lightblue\", edge_color=\"gray\", font_size=8, font_weight=\"bold\", alpha=0.7) # Draw the network\n",
        "plt.title(\"Citation Network Visualization\")\n",
        "plt.show()"
      ],
      "metadata": {
        "colab": {
          "base_uri": "https://localhost:8080/",
          "height": 413
        },
        "id": "EatZdmDELfPT",
        "outputId": "daebf197-f5f9-4c08-afc8-530c1e403111"
      },
      "execution_count": 185,
      "outputs": [
        {
          "output_type": "display_data",
          "data": {
            "text/plain": [
              "<Figure size 1000x600 with 1 Axes>"
            ],
            "image/png": "[encoded data removed]"
          },
          "metadata": {}
        }
      ]
    },
    {
      "cell_type": "markdown",
      "source": [
        "---\n",
        "---"
      ],
      "metadata": {
        "id": "9Tt84Ta0L1x0"
      }
    },
    {
      "cell_type": "code",
      "source": [],
      "metadata": {
        "id": "Jl9umyLHL61e"
      },
      "execution_count": 185,
      "outputs": []
    },
    {
      "cell_type": "code",
      "source": [],
      "metadata": {
        "id": "4mLL5gaVL7C2"
      },
      "execution_count": 185,
      "outputs": []
    },
    {
      "cell_type": "code",
      "source": [],
      "metadata": {
        "id": "h7Dc3zvaL7M0"
      },
      "execution_count": 185,
      "outputs": []
    },
    {
      "cell_type": "markdown",
      "source": [
        "---\n",
        "---"
      ],
      "metadata": {
        "id": "vZbbE-MEL7YJ"
      }
    },
    {
      "cell_type": "markdown",
      "source": [
        "# Create a User Interface"
      ],
      "metadata": {
        "id": "zZvPHSm7L9RD"
      }
    },
    {
      "cell_type": "code",
      "source": [
        "import ipywidgets as widgets"
      ],
      "metadata": {
        "id": "PI2jpScaL-Qa"
      },
      "execution_count": 186,
      "outputs": []
    },
    {
      "cell_type": "code",
      "source": [
        "from IPython.display import display, clear_output"
      ],
      "metadata": {
        "id": "pQZxgiLPLfZf"
      },
      "execution_count": 187,
      "outputs": []
    },
    {
      "cell_type": "code",
      "source": [],
      "metadata": {
        "id": "A_r6sy7VMEwu"
      },
      "execution_count": 187,
      "outputs": []
    },
    {
      "cell_type": "code",
      "source": [
        "# Create input widget"
      ],
      "metadata": {
        "id": "PO-gpOD9ME9q"
      },
      "execution_count": 188,
      "outputs": []
    },
    {
      "cell_type": "code",
      "source": [
        "query_input = widgets.Text(\n",
        "    placeholder=\"Enter search query...\",\n",
        "    description=\"Query:\",\n",
        "    layout=widgets.Layout(width=\"50%\")\n",
        ")"
      ],
      "metadata": {
        "id": "mL6VNwXvMFJB"
      },
      "execution_count": 189,
      "outputs": []
    },
    {
      "cell_type": "code",
      "source": [],
      "metadata": {
        "id": "jsJsT6wqMFUK"
      },
      "execution_count": 189,
      "outputs": []
    },
    {
      "cell_type": "code",
      "source": [
        "# Create output widget"
      ],
      "metadata": {
        "id": "o6CYNpZIMFfQ"
      },
      "execution_count": 190,
      "outputs": []
    },
    {
      "cell_type": "code",
      "source": [
        "output = widgets.Output()"
      ],
      "metadata": {
        "id": "yNFI2Mz6MFpM"
      },
      "execution_count": 191,
      "outputs": []
    },
    {
      "cell_type": "code",
      "source": [],
      "metadata": {
        "id": "S2mbgvToMF0s"
      },
      "execution_count": 191,
      "outputs": []
    },
    {
      "cell_type": "code",
      "source": [
        "# Function to update search results"
      ],
      "metadata": {
        "id": "3rKqszJsMGEg"
      },
      "execution_count": 192,
      "outputs": []
    },
    {
      "cell_type": "code",
      "source": [
        "def search_papers(query):\n",
        "    with output:\n",
        "        clear_output(wait=True)\n",
        "        print(f\"🔍 Searching for: {query}\")\n",
        "\n",
        "        # Fetch papers from arXiv (assuming fetch_papers function is defined)\n",
        "        papers = fetch_papers(query, max_results=5)  # Adjust max_results as needed\n",
        "\n",
        "        if not papers:  # Handle empty response\n",
        "            print(\"⚠️ No papers found. Try a different query.\")\n",
        "            return\n",
        "\n",
        "        for i, paper in enumerate(papers, 1):\n",
        "            # Handle missing keys gracefully\n",
        "            title = paper.get('title', 'Title not available')\n",
        "            authors = ', '.join(paper.get('authors', ['Unknown']))\n",
        "            link = paper.get('link', 'No link available')\n",
        "            abstract = paper.get('abstract', 'No abstract available')[:300]\n",
        "\n",
        "            print(f\"\\n🔹 Paper {i}: {title}\\n🔹 Authors: {authors}\\n🔹 Link: {link}\\n🔹 Abstract: {abstract}...\")\n"
      ],
      "metadata": {
        "id": "TlRAyLYqMGQE"
      },
      "execution_count": 193,
      "outputs": []
    },
    {
      "cell_type": "code",
      "source": [],
      "metadata": {
        "id": "Q_LkajdBKobp"
      },
      "execution_count": 193,
      "outputs": []
    },
    {
      "cell_type": "code",
      "source": [
        "# Function to visualize the citation network"
      ],
      "metadata": {
        "id": "lSbZh9TPJEhZ"
      },
      "execution_count": 194,
      "outputs": []
    },
    {
      "cell_type": "code",
      "source": [
        "def visualize_network(_):\n",
        "    with output:\n",
        "        clear_output(wait=True)\n",
        "\n",
        "        if G.number_of_nodes() == 0:\n",
        "            print(\"⚠️ No citation network data available. Run a search first.\")\n",
        "            return\n",
        "\n",
        "        plt.figure(figsize=(10, 6))\n",
        "        pos = nx.spring_layout(G, seed=42)\n",
        "        nx.draw(G, pos, with_labels=True, node_size=3000, node_color=\"lightblue\", edge_color=\"gray\",\n",
        "                font_size=8, font_weight=\"bold\", alpha=0.7)\n",
        "        plt.title(\"Citation Network Visualization\")\n",
        "        plt.show()\n"
      ],
      "metadata": {
        "id": "zEVUgAvJMUMk"
      },
      "execution_count": 195,
      "outputs": []
    },
    {
      "cell_type": "code",
      "source": [],
      "metadata": {
        "id": "-tuIb39RMXQC"
      },
      "execution_count": 195,
      "outputs": []
    },
    {
      "cell_type": "code",
      "source": [
        "# Create buttons"
      ],
      "metadata": {
        "id": "ywSxOM5-MXfI"
      },
      "execution_count": 196,
      "outputs": []
    },
    {
      "cell_type": "code",
      "source": [
        "search_button = widgets.Button(description=\"Search\")"
      ],
      "metadata": {
        "id": "UxZlntQ8MXso"
      },
      "execution_count": 197,
      "outputs": []
    },
    {
      "cell_type": "code",
      "source": [
        "search_button.on_click(lambda _: search_papers(query_input.value))"
      ],
      "metadata": {
        "id": "4jDW2XFSMUXi"
      },
      "execution_count": 198,
      "outputs": []
    },
    {
      "cell_type": "code",
      "source": [],
      "metadata": {
        "id": "wlCJ25s9MdP1"
      },
      "execution_count": 198,
      "outputs": []
    },
    {
      "cell_type": "code",
      "source": [
        "visualize_button = widgets.Button(description=\"Visualize Network\")"
      ],
      "metadata": {
        "id": "NKCdZB6LMdbO"
      },
      "execution_count": 199,
      "outputs": []
    },
    {
      "cell_type": "code",
      "source": [
        "visualize_button.on_click(visualize_network)"
      ],
      "metadata": {
        "id": "RuWNHGHeMdlQ"
      },
      "execution_count": 200,
      "outputs": []
    },
    {
      "cell_type": "code",
      "source": [],
      "metadata": {
        "id": "eidGFUpLMd29"
      },
      "execution_count": 200,
      "outputs": []
    },
    {
      "cell_type": "code",
      "source": [
        "# Display UI"
      ],
      "metadata": {
        "id": "p2Gt0XazMUjl"
      },
      "execution_count": 201,
      "outputs": []
    },
    {
      "cell_type": "code",
      "source": [
        "display(query_input, search_button, visualize_button, output)"
      ],
      "metadata": {
        "colab": {
          "base_uri": "https://localhost:8080/",
          "height": 775,
          "referenced_widgets": [
            "476fb726ec8448f8afdc94aaa386d136",
            "d90af83d52fc4b649230ed870fd88412",
            "4ce9174ecc514fa1b01e0288dd031ea5",
            "a7c42ee8d21f42aa933e835d56edf87e",
            "f3645d812310468fb740be229e71d3cf",
            "e57e80cf20784c0c8dd198985b2d5a83",
            "e4aa5e131efe446481ffb20e038a0682",
            "0dd81261cd7f4a39987a3a094bf98b70",
            "fef883846ff54b4c8bf1b434144286b0",
            "ed39e0af82e54ffc8dc9d0fe20226565",
            "2e30f8692c0b422baa8077305db25c26"
          ]
        },
        "id": "JV6Db_E1IVdk",
        "outputId": "a7a10172-c7e4-4f95-b9c6-aad0d1f23078"
      },
      "execution_count": 202,
      "outputs": [
        {
          "output_type": "display_data",
          "data": {
            "text/plain": [
              "Text(value='', description='Query:', layout=Layout(width='50%'), placeholder='Enter search query...')"
            ],
            "application/vnd.jupyter.widget-view+json": {
              "version_major": 2,
              "version_minor": 0,
              "model_id": "476fb726ec8448f8afdc94aaa386d136"
            }
          },
          "metadata": {}
        },
        {
          "output_type": "display_data",
          "data": {
            "text/plain": [
              "Button(description='Search', style=ButtonStyle())"
            ],
            "application/vnd.jupyter.widget-view+json": {
              "version_major": 2,
              "version_minor": 0,
              "model_id": "a7c42ee8d21f42aa933e835d56edf87e"
            }
          },
          "metadata": {}
        },
        {
          "output_type": "display_data",
          "data": {
            "text/plain": [
              "Button(description='Visualize Network', style=ButtonStyle())"
            ],
            "application/vnd.jupyter.widget-view+json": {
              "version_major": 2,
              "version_minor": 0,
              "model_id": "e4aa5e131efe446481ffb20e038a0682"
            }
          },
          "metadata": {}
        },
        {
          "output_type": "display_data",
          "data": {
            "text/plain": [
              "Output()"
            ],
            "application/vnd.jupyter.widget-view+json": {
              "version_major": 2,
              "version_minor": 0,
              "model_id": "ed39e0af82e54ffc8dc9d0fe20226565"
            }
          },
          "metadata": {}
        }
      ]
    },
    {
      "cell_type": "code",
      "source": [],
      "metadata": {
        "id": "J9686IBGQFs-"
      },
      "execution_count": 205,
      "outputs": []
    }
  ]
}