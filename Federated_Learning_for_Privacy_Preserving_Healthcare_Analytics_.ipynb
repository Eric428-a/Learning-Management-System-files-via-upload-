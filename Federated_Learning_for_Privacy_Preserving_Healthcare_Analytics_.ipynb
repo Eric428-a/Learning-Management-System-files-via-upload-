{
  "nbformat": 4,
  "nbformat_minor": 0,
  "metadata": {
    "colab": {
      "provenance": [],
      "gpuType": "T4"
    },
    "kernelspec": {
      "name": "python3",
      "display_name": "Python 3"
    },
    "language_info": {
      "name": "python"
    },
    "accelerator": "GPU"
  },
  "cells": [
    {
      "cell_type": "markdown",
      "source": [
        "----\n",
        "----"
      ],
      "metadata": {
        "id": "sosgf6YGKEzN"
      }
    },
    {
      "cell_type": "code",
      "source": [
        "import warnings"
      ],
      "metadata": {
        "id": "0LViYpcQ_GHL"
      },
      "execution_count": 50,
      "outputs": []
    },
    {
      "cell_type": "code",
      "source": [
        "warnings.filterwarnings(\"ignore\")"
      ],
      "metadata": {
        "id": "M-TWj1BU_GNL"
      },
      "execution_count": 51,
      "outputs": []
    },
    {
      "cell_type": "code",
      "source": [],
      "metadata": {
        "id": "Yqr10Axa_GP8"
      },
      "execution_count": 51,
      "outputs": []
    },
    {
      "cell_type": "code",
      "source": [
        "import numpy as np"
      ],
      "metadata": {
        "id": "jivcj4RF_GSk"
      },
      "execution_count": 52,
      "outputs": []
    },
    {
      "cell_type": "code",
      "source": [
        "import torch"
      ],
      "metadata": {
        "id": "Jwlu4gwE_GVn"
      },
      "execution_count": 53,
      "outputs": []
    },
    {
      "cell_type": "code",
      "source": [
        "import torch.nn as nn"
      ],
      "metadata": {
        "id": "hmZAM-Uj_RMK"
      },
      "execution_count": 54,
      "outputs": []
    },
    {
      "cell_type": "code",
      "source": [
        "import torch.optim as optim"
      ],
      "metadata": {
        "id": "drWFX7TN_RPO"
      },
      "execution_count": 55,
      "outputs": []
    },
    {
      "cell_type": "code",
      "source": [
        "from torch.utils.data import DataLoader, TensorDataset"
      ],
      "metadata": {
        "id": "2Wp5MYqs_RRr"
      },
      "execution_count": 56,
      "outputs": []
    },
    {
      "cell_type": "code",
      "source": [
        "from sklearn.metrics import roc_auc_score, accuracy_score"
      ],
      "metadata": {
        "id": "IYoC9slY_RUe"
      },
      "execution_count": 57,
      "outputs": []
    },
    {
      "cell_type": "code",
      "source": [
        "from typing import List"
      ],
      "metadata": {
        "id": "GijMOJ_t_RXT"
      },
      "execution_count": 58,
      "outputs": []
    },
    {
      "cell_type": "code",
      "source": [
        "from cryptography.hazmat.primitives.asymmetric import rsa, padding"
      ],
      "metadata": {
        "id": "LH-qmrAq_RZ0"
      },
      "execution_count": 59,
      "outputs": []
    },
    {
      "cell_type": "code",
      "source": [
        "from cryptography.hazmat.primitives import hashes"
      ],
      "metadata": {
        "id": "EXsJLTPi_exD"
      },
      "execution_count": 60,
      "outputs": []
    },
    {
      "cell_type": "code",
      "source": [
        "import matplotlib.pyplot as plt"
      ],
      "metadata": {
        "id": "tRgQLBhB_e0E"
      },
      "execution_count": 61,
      "outputs": []
    },
    {
      "cell_type": "code",
      "source": [
        "import seaborn as sns"
      ],
      "metadata": {
        "id": "_SgXUZg6_e28"
      },
      "execution_count": 62,
      "outputs": []
    },
    {
      "cell_type": "code",
      "source": [
        "import pandas as pd"
      ],
      "metadata": {
        "id": "T2xqCEGM_e5k"
      },
      "execution_count": 63,
      "outputs": []
    },
    {
      "cell_type": "code",
      "source": [
        "import asyncio"
      ],
      "metadata": {
        "id": "zcwI5YFB_e8V"
      },
      "execution_count": 64,
      "outputs": []
    },
    {
      "cell_type": "code",
      "source": [
        "import random"
      ],
      "metadata": {
        "id": "I1dQNEcZ_nv7"
      },
      "execution_count": 65,
      "outputs": []
    },
    {
      "cell_type": "code",
      "source": [
        "import hashlib"
      ],
      "metadata": {
        "id": "meJLQNDc_ny7"
      },
      "execution_count": 66,
      "outputs": []
    },
    {
      "cell_type": "markdown",
      "source": [
        "---\n",
        "---"
      ],
      "metadata": {
        "id": "iUOIuBJXKI9u"
      }
    },
    {
      "cell_type": "code",
      "source": [],
      "metadata": {
        "id": "DBOuV-hT_n1z"
      },
      "execution_count": 66,
      "outputs": []
    },
    {
      "cell_type": "code",
      "source": [],
      "metadata": {
        "id": "PBECWS7r_n7q"
      },
      "execution_count": 66,
      "outputs": []
    },
    {
      "cell_type": "markdown",
      "source": [
        "---\n",
        "---"
      ],
      "metadata": {
        "id": "C9ItnZRbKLB2"
      }
    },
    {
      "cell_type": "code",
      "source": [
        "# Simulate MIMIC III dataset"
      ],
      "metadata": {
        "id": "ufyvaDgF_n-8"
      },
      "execution_count": 67,
      "outputs": []
    },
    {
      "cell_type": "code",
      "source": [
        "def load_mimic_dataset():\n",
        "    print(\"Loading and preprocessing MIMIC III dataset\")\n",
        "    n_samples = 40000\n",
        "    n_features = 100\n",
        "    X = np.random.randn(n_samples, n_features).astype(np.float32)\n",
        "    y = np.random.randint(0, 2, n_samples).astype(np.float32)\n",
        "    return X, y"
      ],
      "metadata": {
        "id": "bCbvjdpq_oBj"
      },
      "execution_count": 68,
      "outputs": []
    },
    {
      "cell_type": "code",
      "source": [],
      "metadata": {
        "id": "lR6hhp-wCdDc"
      },
      "execution_count": 68,
      "outputs": []
    },
    {
      "cell_type": "code",
      "source": [
        "X, y = load_mimic_dataset()"
      ],
      "metadata": {
        "colab": {
          "base_uri": "https://localhost:8080/"
        },
        "id": "e0juml--_oEb",
        "outputId": "48226b0f-42b6-4a10-cef1-e7ed39ac36d8"
      },
      "execution_count": 69,
      "outputs": [
        {
          "output_type": "stream",
          "name": "stdout",
          "text": [
            "Loading and preprocessing MIMIC III dataset\n"
          ]
        }
      ]
    },
    {
      "cell_type": "code",
      "source": [],
      "metadata": {
        "id": "XsvOypC2_oHT"
      },
      "execution_count": 69,
      "outputs": []
    },
    {
      "cell_type": "code",
      "source": [],
      "metadata": {
        "id": "u1FKQRrq_oKL"
      },
      "execution_count": 69,
      "outputs": []
    },
    {
      "cell_type": "code",
      "source": [
        "# Convert to DataFrame for easier EDA"
      ],
      "metadata": {
        "id": "vLhZlrrQ_e_M"
      },
      "execution_count": 70,
      "outputs": []
    },
    {
      "cell_type": "code",
      "source": [
        "feature_names = [f\"feat_{i}\" for i in range(X.shape[1])]"
      ],
      "metadata": {
        "id": "PaS5-0Iy_fCi"
      },
      "execution_count": 71,
      "outputs": []
    },
    {
      "cell_type": "code",
      "source": [
        "df = pd.DataFrame(X, columns=feature_names)"
      ],
      "metadata": {
        "id": "KO40S0Rv_RcL"
      },
      "execution_count": 72,
      "outputs": []
    },
    {
      "cell_type": "code",
      "source": [
        "df['label'] = y"
      ],
      "metadata": {
        "id": "3smEW-ay_RfP"
      },
      "execution_count": 73,
      "outputs": []
    },
    {
      "cell_type": "markdown",
      "source": [
        "---\n",
        "---"
      ],
      "metadata": {
        "id": "pvYPqsRQCpvU"
      }
    },
    {
      "cell_type": "code",
      "source": [],
      "metadata": {
        "id": "gMsjZUoBCuFs"
      },
      "execution_count": 73,
      "outputs": []
    },
    {
      "cell_type": "code",
      "source": [],
      "metadata": {
        "id": "6kHgLumZCuJc"
      },
      "execution_count": 73,
      "outputs": []
    },
    {
      "cell_type": "markdown",
      "source": [
        "---\n",
        "---"
      ],
      "metadata": {
        "id": "C3Nh4Q4ICudl"
      }
    },
    {
      "cell_type": "code",
      "source": [
        "#  Exploratory Data Analysis (EDA)"
      ],
      "metadata": {
        "id": "I5uhT8ZZCr80"
      },
      "execution_count": 74,
      "outputs": []
    },
    {
      "cell_type": "code",
      "source": [
        "def perform_eda(df):\n",
        "    print(\"\\n=== Exploratory Data Analysis (EDA) ===\")\n",
        "    print(f\"Dataset shape: {df.shape}\")\n",
        "    print(\"\\nDataset info:\")\n",
        "    print(df.info())\n",
        "    print(\"\\nDataset head:\")\n",
        "    print(df.head())\n",
        "    print(\"\\nLabel distribution:\")\n",
        "    print(df['label'].value_counts())\n",
        "    print(\"\\nFeature summary statistics (first 5 features):\")\n",
        "    print(df[feature_names[:5]].describe().T)\n",
        "\n",
        "    # Plot label distribution\n",
        "    plt.figure(figsize=(6, 4))\n",
        "    sns.countplot(x='label', data=df)\n",
        "    plt.title(\"Label Distribution\")\n",
        "    plt.show()\n",
        "\n",
        "    # KDE plots for first 5 features by class\n",
        "    plt.figure(figsize=(15, 10))\n",
        "    for i in range(5):\n",
        "        plt.subplot(3, 2, i + 1)\n",
        "        sns.kdeplot(df[df['label'] == 0][feature_names[i]], label='Class 0', fill=True)\n",
        "        sns.kdeplot(df[df['label'] == 1][feature_names[i]], label='Class 1', fill=True)\n",
        "        plt.title(f\"Distribution of {feature_names[i]} by Class\")\n",
        "        plt.legend()\n",
        "    plt.tight_layout()\n",
        "    plt.show()\n",
        "\n",
        "    # Correlation heatmap of first 10 features\n",
        "    plt.figure(figsize=(10, 8))\n",
        "    sns.heatmap(df[feature_names[:10]].corr(), annot=True, fmt=\".2f\", cmap='coolwarm')\n",
        "    plt.title(\"Feature Correlation Heatmap (first 10 features)\")\n",
        "    plt.show()\n",
        "\n",
        "perform_eda(df)"
      ],
      "metadata": {
        "colab": {
          "base_uri": "https://localhost:8080/",
          "height": 1000
        },
        "id": "YSPF9fYkCm1M",
        "outputId": "82ee4d6d-4f70-428a-922a-6526a675665a"
      },
      "execution_count": 75,
      "outputs": [
        {
          "output_type": "stream",
          "name": "stdout",
          "text": [
            "\n",
            "=== Exploratory Data Analysis (EDA) ===\n",
            "Dataset shape: (40000, 101)\n",
            "\n",
            "Dataset info:\n",
            "<class 'pandas.core.frame.DataFrame'>\n",
            "RangeIndex: 40000 entries, 0 to 39999\n",
            "Columns: 101 entries, feat_0 to label\n",
            "dtypes: float32(101)\n",
            "memory usage: 15.4 MB\n",
            "None\n",
            "\n",
            "Dataset head:\n",
            "     feat_0    feat_1    feat_2    feat_3    feat_4    feat_5    feat_6  \\\n",
            "0  0.582027 -2.068376  0.089395 -0.442589  0.007728  0.945312 -0.552569   \n",
            "1  0.615164  0.709411 -0.140553 -0.631241  0.599451  0.385711 -0.809890   \n",
            "2 -0.361724 -0.062894 -0.447878  0.658143 -0.395284  1.592964  1.465211   \n",
            "3 -0.284626 -1.972089  0.288028 -1.443925  0.444854  0.411566 -0.941403   \n",
            "4  2.254038 -0.202339 -0.183245 -1.441910  0.945930  0.953176  0.789075   \n",
            "\n",
            "     feat_7    feat_8    feat_9  ...   feat_91   feat_92   feat_93   feat_94  \\\n",
            "0 -1.873006  2.044482 -0.997228  ...  1.542736  0.243475 -0.404157  0.001795   \n",
            "1  1.419036  0.293352  0.729819  ... -0.193610  0.744586  0.641947 -0.270268   \n",
            "2 -0.891544  0.069704 -0.650657  ...  0.608267  1.345935 -0.174648  1.360168   \n",
            "3  1.120967  0.805575  0.975823  ... -0.414916  1.501953  1.411357  0.785346   \n",
            "4 -0.629221 -0.706707 -1.293122  ... -0.273007  0.585021  0.281192  1.832561   \n",
            "\n",
            "    feat_95   feat_96   feat_97   feat_98   feat_99  label  \n",
            "0  0.117707 -1.671761  2.710332  0.519871  0.210008    1.0  \n",
            "1  0.217718 -0.824650  0.703492 -0.077821 -0.275951    0.0  \n",
            "2 -0.189693  0.849585 -2.218570  2.418778  1.495458    0.0  \n",
            "3 -0.326614  1.985380 -1.553035 -1.403559 -0.083783    1.0  \n",
            "4 -1.530279 -0.122436 -0.908503  0.604107 -1.617172    0.0  \n",
            "\n",
            "[5 rows x 101 columns]\n",
            "\n",
            "Label distribution:\n",
            "label\n",
            "0.0    20058\n",
            "1.0    19942\n",
            "Name: count, dtype: int64\n",
            "\n",
            "Feature summary statistics (first 5 features):\n",
            "          count      mean       std       min       25%       50%       75%  \\\n",
            "feat_0  40000.0  0.003421  0.999824 -3.843103 -0.671221  0.006504  0.675297   \n",
            "feat_1  40000.0 -0.002258  1.010599 -4.369352 -0.682945  0.003167  0.684436   \n",
            "feat_2  40000.0  0.006311  0.993173 -4.465604 -0.657303  0.002619  0.668304   \n",
            "feat_3  40000.0 -0.009326  1.004257 -4.312973 -0.691566 -0.009617  0.673415   \n",
            "feat_4  40000.0  0.003006  1.001667 -4.513469 -0.675583  0.005148  0.674687   \n",
            "\n",
            "             max  \n",
            "feat_0  4.228305  \n",
            "feat_1  4.073768  \n",
            "feat_2  4.616384  \n",
            "feat_3  4.217366  \n",
            "feat_4  4.748345  \n"
          ]
        },
        {
          "output_type": "display_data",
          "data": {
            "text/plain": [
              "<Figure size 600x400 with 1 Axes>"
            ],
            "image/png": "[encoded data removed]"
          },
          "metadata": {}
        },
        {
          "output_type": "display_data",
          "data": {
            "text/plain": [
              "<Figure size 1500x1000 with 5 Axes>"
            ],
            "image/png": "[encoded data removed]"
          },
          "metadata": {}
        },
        {
          "output_type": "display_data",
          "data": {
            "text/plain": [
              "<Figure size 1000x800 with 2 Axes>"
            ],
            "image/png": "[encoded data removed]"
          },
          "metadata": {}
        }
      ]
    },
    {
      "cell_type": "markdown",
      "source": [
        "----\n",
        "---"
      ],
      "metadata": {
        "id": "g5zrqwb3C0An"
      }
    },
    {
      "cell_type": "code",
      "source": [],
      "metadata": {
        "id": "W3ME4y32C1Wk"
      },
      "execution_count": 75,
      "outputs": []
    },
    {
      "cell_type": "code",
      "source": [],
      "metadata": {
        "id": "LeLIpUUhC1aE"
      },
      "execution_count": 75,
      "outputs": []
    },
    {
      "cell_type": "markdown",
      "source": [
        "----\n",
        "----"
      ],
      "metadata": {
        "id": "mRJ58BPhC1uV"
      }
    },
    {
      "cell_type": "code",
      "source": [
        "# Partition dataset to simulate multiple institutions"
      ],
      "metadata": {
        "id": "xmlHJh9lC3NE"
      },
      "execution_count": 76,
      "outputs": []
    },
    {
      "cell_type": "code",
      "source": [
        "def partition_dataset(df: pd.DataFrame, n_institutions: int) -> List[pd.DataFrame]:\n",
        "    print(f\"\\nPartitioning dataset into {n_institutions} institutions\")\n",
        "    df_shuffled = df.sample(frac=1, random_state=42).reset_index(drop=True)\n",
        "    size = len(df) // n_institutions\n",
        "    institution_data = []\n",
        "    for i in range(n_institutions):\n",
        "        start_idx = i * size\n",
        "        end_idx = (i + 1) * size if i != n_institutions - 1 else len(df)\n",
        "        inst_df = df_shuffled.iloc[start_idx:end_idx].copy()\n",
        "        # Add institution-specific feature bias to simulate heterogeneity\n",
        "        inst_df.loc[:, feature_names] += np.random.randn(*inst_df[feature_names].shape).astype(np.float32) * 0.1 * i\n",
        "        institution_data.append(inst_df)\n",
        "    return institution_data"
      ],
      "metadata": {
        "id": "6WgakZ8LC6K0"
      },
      "execution_count": 77,
      "outputs": []
    },
    {
      "cell_type": "code",
      "source": [],
      "metadata": {
        "id": "Vj5JfldGCm4f"
      },
      "execution_count": 77,
      "outputs": []
    },
    {
      "cell_type": "code",
      "source": [
        "n_institutions = 5"
      ],
      "metadata": {
        "id": "93vDW-jJCm7X"
      },
      "execution_count": 78,
      "outputs": []
    },
    {
      "cell_type": "code",
      "source": [
        "institution_data = partition_dataset(df, n_institutions)"
      ],
      "metadata": {
        "colab": {
          "base_uri": "https://localhost:8080/"
        },
        "id": "XV72A9Q7Cm-U",
        "outputId": "1bac9540-10fc-4411-df45-503738204879"
      },
      "execution_count": 79,
      "outputs": [
        {
          "output_type": "stream",
          "name": "stdout",
          "text": [
            "\n",
            "Partitioning dataset into 5 institutions\n"
          ]
        }
      ]
    },
    {
      "cell_type": "markdown",
      "source": [
        "---\n",
        "---"
      ],
      "metadata": {
        "id": "ehvaJDUPDYrF"
      }
    },
    {
      "cell_type": "code",
      "source": [],
      "metadata": {
        "id": "oD1sk_YEDZ91"
      },
      "execution_count": 79,
      "outputs": []
    },
    {
      "cell_type": "code",
      "source": [],
      "metadata": {
        "id": "-t1CLyOCDaBN"
      },
      "execution_count": 79,
      "outputs": []
    },
    {
      "cell_type": "markdown",
      "source": [
        "---\n",
        "---"
      ],
      "metadata": {
        "id": "sawvA398DaL5"
      }
    },
    {
      "cell_type": "code",
      "source": [
        "# Differential Privacy: Laplacian noise addition"
      ],
      "metadata": {
        "id": "i3c0du_lDbbE"
      },
      "execution_count": 80,
      "outputs": []
    },
    {
      "cell_type": "code",
      "source": [
        "class DifferentialPrivacy:\n",
        "    def __init__(self, epsilon: float, delta: float):\n",
        "        self.epsilon = epsilon\n",
        "        self.delta = delta\n",
        "\n",
        "    def add_noise(self, data: np.ndarray) -> np.ndarray:\n",
        "        sensitivity = 1.0\n",
        "        noise_scale = sensitivity / self.epsilon\n",
        "        noise = np.random.laplace(0, noise_scale, data.shape).astype(np.float32)\n",
        "        return data + noise"
      ],
      "metadata": {
        "id": "W4U2MV8jDbel"
      },
      "execution_count": 81,
      "outputs": []
    },
    {
      "cell_type": "code",
      "source": [],
      "metadata": {
        "id": "cJvmFWIeDbhS"
      },
      "execution_count": 81,
      "outputs": []
    },
    {
      "cell_type": "code",
      "source": [
        "dp = DifferentialPrivacy(epsilon=0.1, delta=1e-5)"
      ],
      "metadata": {
        "id": "sMlTksFBDbkF"
      },
      "execution_count": 82,
      "outputs": []
    },
    {
      "cell_type": "markdown",
      "source": [
        "---\n",
        "---"
      ],
      "metadata": {
        "id": "UpKTWEl1DkJV"
      }
    },
    {
      "cell_type": "code",
      "source": [],
      "metadata": {
        "id": "4tvVzHqfDbnW"
      },
      "execution_count": 82,
      "outputs": []
    },
    {
      "cell_type": "code",
      "source": [],
      "metadata": {
        "id": "mJzRJ-VjCnBH"
      },
      "execution_count": 82,
      "outputs": []
    },
    {
      "cell_type": "markdown",
      "source": [
        "---\n",
        "---"
      ],
      "metadata": {
        "id": "_HLi8OV6DmSh"
      }
    },
    {
      "cell_type": "code",
      "source": [
        "# Neural Network Model"
      ],
      "metadata": {
        "id": "DZJV22wmDoxu"
      },
      "execution_count": 83,
      "outputs": []
    },
    {
      "cell_type": "code",
      "source": [
        "class NeuralNetwork(nn.Module):\n",
        "    def __init__(self, input_size: int, hidden_size: int, output_size: int):\n",
        "        super().__init__()\n",
        "        self.fc1 = nn.Linear(input_size, hidden_size)\n",
        "        self.relu = nn.ReLU()\n",
        "        self.fc2 = nn.Linear(hidden_size, output_size)\n",
        "        self.sigmoid = nn.Sigmoid()\n",
        "\n",
        "    def forward(self, x):\n",
        "        x = self.fc1(x)\n",
        "        x = self.relu(x)\n",
        "        x = self.fc2(x)\n",
        "        return self.sigmoid(x)"
      ],
      "metadata": {
        "id": "GgfYvsfRDo1O"
      },
      "execution_count": 84,
      "outputs": []
    },
    {
      "cell_type": "code",
      "source": [],
      "metadata": {
        "id": "DAmMN7n4Do58"
      },
      "execution_count": 84,
      "outputs": []
    },
    {
      "cell_type": "code",
      "source": [
        "input_size = X.shape[1]"
      ],
      "metadata": {
        "id": "EkI2DnpgCnEJ"
      },
      "execution_count": 85,
      "outputs": []
    },
    {
      "cell_type": "code",
      "source": [
        "hidden_size = 64"
      ],
      "metadata": {
        "id": "eDQ-xQjbCnHc"
      },
      "execution_count": 86,
      "outputs": []
    },
    {
      "cell_type": "code",
      "source": [
        "output_size = 1"
      ],
      "metadata": {
        "id": "J79BLsKx8AVJ"
      },
      "execution_count": 87,
      "outputs": []
    },
    {
      "cell_type": "markdown",
      "source": [
        "----\n",
        "---"
      ],
      "metadata": {
        "id": "VBX4U5PoDzkt"
      }
    },
    {
      "cell_type": "code",
      "source": [
        "# Federated Averaging class"
      ],
      "metadata": {
        "id": "CEdPvYT4D08l"
      },
      "execution_count": 88,
      "outputs": []
    },
    {
      "cell_type": "code",
      "source": [
        "class FederatedAveraging:\n",
        "    def __init__(self, model: nn.Module, n_institutions: int):\n",
        "        self.model = model\n",
        "        self.n_institutions = n_institutions\n",
        "\n",
        "    def client_update(self, model: nn.Module, X: np.ndarray, y: np.ndarray, n_epochs: int) -> nn.Module:\n",
        "        model.train()\n",
        "        criterion = nn.BCELoss()\n",
        "        optimizer = optim.Adam(model.parameters())\n",
        "        X_tensor = torch.from_numpy(X)\n",
        "        y_tensor = torch.from_numpy(y).unsqueeze(1)\n",
        "        dataset = TensorDataset(X_tensor, y_tensor)\n",
        "        dataloader = DataLoader(dataset, batch_size=32, shuffle=True)\n",
        "\n",
        "        for _ in range(n_epochs):\n",
        "            for batch_X, batch_y in dataloader:\n",
        "                optimizer.zero_grad()\n",
        "                outputs = model(batch_X)\n",
        "                loss = criterion(outputs, batch_y)\n",
        "                loss.backward()\n",
        "                optimizer.step()\n",
        "        return model\n",
        "\n",
        "    def aggregate_models(self, models: List[nn.Module]) -> nn.Module:\n",
        "        global_model = NeuralNetwork(input_size, hidden_size, output_size)\n",
        "        global_dict = global_model.state_dict()\n",
        "\n",
        "        for k in global_dict.keys():\n",
        "            global_dict[k] = torch.stack([m.state_dict()[k] for m in models], dim=0).mean(dim=0)\n",
        "\n",
        "        global_model.load_state_dict(global_dict)\n",
        "        return global_model"
      ],
      "metadata": {
        "id": "wHXVhp7LD19l"
      },
      "execution_count": 89,
      "outputs": []
    },
    {
      "cell_type": "code",
      "source": [],
      "metadata": {
        "id": "N3q2mJ_D68Yg"
      },
      "execution_count": 89,
      "outputs": []
    },
    {
      "cell_type": "code",
      "source": [
        "fedavg = FederatedAveraging(NeuralNetwork(input_size, hidden_size, output_size), n_institutions)"
      ],
      "metadata": {
        "id": "JdyL9ExD68bT"
      },
      "execution_count": 90,
      "outputs": []
    },
    {
      "cell_type": "markdown",
      "source": [
        "---\n",
        "---"
      ],
      "metadata": {
        "id": "kJDHm7HRD8IF"
      }
    },
    {
      "cell_type": "code",
      "source": [],
      "metadata": {
        "id": "wpPiovy9D9WF"
      },
      "execution_count": 90,
      "outputs": []
    },
    {
      "cell_type": "code",
      "source": [],
      "metadata": {
        "id": "Q3jytVUHD919"
      },
      "execution_count": 90,
      "outputs": []
    },
    {
      "cell_type": "markdown",
      "source": [
        "---\n",
        "---"
      ],
      "metadata": {
        "id": "MYwaiE6wD9-F"
      }
    },
    {
      "cell_type": "code",
      "source": [
        "# Secure Aggregation with RSA encryption simulation"
      ],
      "metadata": {
        "id": "uCSEoh8n68dw"
      },
      "execution_count": 91,
      "outputs": []
    },
    {
      "cell_type": "code",
      "source": [
        "class SecureAggregation:\n",
        "    def __init__(self):\n",
        "        self.private_key = rsa.generate_private_key(\n",
        "            public_exponent=65537,\n",
        "            key_size=2048\n",
        "        )\n",
        "        self.public_key = self.private_key.public_key()\n",
        "\n",
        "    def encrypt(self, data: bytes) -> bytes:\n",
        "        chunk_size = 190\n",
        "        encrypted_chunks = []\n",
        "        for i in range(0, len(data), chunk_size):\n",
        "            chunk = data[i:i+chunk_size]\n",
        "            encrypted_chunk = self.public_key.encrypt(\n",
        "                chunk,\n",
        "                padding.OAEP(\n",
        "                    mgf=padding.MGF1(algorithm=hashes.SHA256()),\n",
        "                    algorithm=hashes.SHA256(),\n",
        "                    label=None\n",
        "                )\n",
        "            )\n",
        "            encrypted_chunks.append(encrypted_chunk)\n",
        "        return b\"\".join(encrypted_chunks)\n",
        "\n",
        "    def decrypt(self, encrypted_data: bytes) -> bytes:\n",
        "        # Simulation placeholder: returns data as-is\n",
        "        return encrypted_data"
      ],
      "metadata": {
        "id": "tjL4hMIeECbd"
      },
      "execution_count": 92,
      "outputs": []
    },
    {
      "cell_type": "code",
      "source": [],
      "metadata": {
        "id": "tbjn8MCs68gr"
      },
      "execution_count": 92,
      "outputs": []
    },
    {
      "cell_type": "code",
      "source": [
        "secure_agg = SecureAggregation()"
      ],
      "metadata": {
        "id": "e7uN7TeY68jL"
      },
      "execution_count": 93,
      "outputs": []
    },
    {
      "cell_type": "markdown",
      "source": [
        "----\n",
        "---"
      ],
      "metadata": {
        "id": "c2gypvm3EKz1"
      }
    },
    {
      "cell_type": "code",
      "source": [],
      "metadata": {
        "id": "FtQDj2YdEMAN"
      },
      "execution_count": 93,
      "outputs": []
    },
    {
      "cell_type": "code",
      "source": [],
      "metadata": {
        "id": "VqQfNFRGEMDl"
      },
      "execution_count": 93,
      "outputs": []
    },
    {
      "cell_type": "markdown",
      "source": [
        "----\n",
        "----"
      ],
      "metadata": {
        "id": "juSV1OkvEMP3"
      }
    },
    {
      "cell_type": "code",
      "source": [
        "# Model compression by random pruning (masking)"
      ],
      "metadata": {
        "id": "YtTmClOqENSP"
      },
      "execution_count": 94,
      "outputs": []
    },
    {
      "cell_type": "code",
      "source": [
        "def compress_model(model: nn.Module, compression_ratio: float) -> nn.Module:\n",
        "    compressed_model = NeuralNetwork(input_size, hidden_size, output_size)\n",
        "    compressed_dict = compressed_model.state_dict()\n",
        "    for k, v in model.state_dict().items():\n",
        "        mask = (torch.rand_like(v) < compression_ratio).float()\n",
        "        compressed_dict[k] = v * mask\n",
        "    compressed_model.load_state_dict(compressed_dict)\n",
        "    return compressed_model"
      ],
      "metadata": {
        "id": "BJgqoAQdEOG9"
      },
      "execution_count": 95,
      "outputs": []
    },
    {
      "cell_type": "markdown",
      "source": [
        "---\n",
        "---"
      ],
      "metadata": {
        "id": "x1X1h2iEEQf9"
      }
    },
    {
      "cell_type": "code",
      "source": [],
      "metadata": {
        "id": "_Co_Dn8YERnw"
      },
      "execution_count": 95,
      "outputs": []
    },
    {
      "cell_type": "code",
      "source": [],
      "metadata": {
        "id": "njhM6ROdERrd"
      },
      "execution_count": 95,
      "outputs": []
    },
    {
      "cell_type": "markdown",
      "source": [
        "---\n",
        "---"
      ],
      "metadata": {
        "id": "z0Sd1ocFER4F"
      }
    },
    {
      "cell_type": "code",
      "source": [
        "# Federated learning process"
      ],
      "metadata": {
        "id": "PYlmwZCz68mE"
      },
      "execution_count": 96,
      "outputs": []
    },
    {
      "cell_type": "code",
      "source": [
        "def federated_learning(institution_data: List[pd.DataFrame], n_rounds: int, n_epochs: int) -> nn.Module:\n",
        "    global_model = NeuralNetwork(input_size, hidden_size, output_size)\n",
        "\n",
        "    for round_idx in range(n_rounds):\n",
        "        print(f\"--- Federated Learning Round {round_idx + 1} / {n_rounds} ---\")\n",
        "        client_models = []\n",
        "\n",
        "        for i, inst_df in enumerate(institution_data):\n",
        "            print(f\"Training on Institution {i + 1} / {n_institutions} with data size {len(inst_df)}\")\n",
        "            client_model = NeuralNetwork(input_size, hidden_size, output_size)\n",
        "            client_model.load_state_dict(global_model.state_dict())\n",
        "\n",
        "            X_inst = inst_df[feature_names].values.astype(np.float32)\n",
        "            y_inst = inst_df['label'].values.astype(np.float32)\n",
        "\n",
        "            # Client local training\n",
        "            client_model = fedavg.client_update(client_model, X_inst, y_inst, n_epochs)\n",
        "\n",
        "            # Add differential privacy noise to model parameters\n",
        "            with torch.no_grad():\n",
        "                for param in client_model.parameters():\n",
        "                    noisy = dp.add_noise(param.data.cpu().numpy())\n",
        "                    param.data = torch.tensor(noisy, dtype=torch.float32)\n",
        "\n",
        "            # Compress model\n",
        "            compressed_client_model = compress_model(client_model, compression_ratio=0.8)\n",
        "\n",
        "            # Simulate encryption (serialize state_dict, encrypt bytes)\n",
        "            state_bytes = b\"\".join([v.cpu().numpy().tobytes() for v in compressed_client_model.state_dict().values()])\n",
        "            encrypted_state = secure_agg.encrypt(state_bytes)\n",
        "\n",
        "            # Simulate decryption\n",
        "            decrypted_state = secure_agg.decrypt(encrypted_state)\n",
        "\n",
        "            # For demo, skip actual decryption and just add compressed_client_model\n",
        "            client_models.append(compressed_client_model)\n",
        "\n",
        "        # Aggregate models\n",
        "        global_model = fedavg.aggregate_models(client_models)\n",
        "\n",
        "    return global_model\n"
      ],
      "metadata": {
        "id": "2mz_Vau-69lI"
      },
      "execution_count": 97,
      "outputs": []
    },
    {
      "cell_type": "code",
      "source": [],
      "metadata": {
        "id": "iV-0h4hn69oA"
      },
      "execution_count": 97,
      "outputs": []
    },
    {
      "cell_type": "code",
      "source": [
        "n_rounds = 3"
      ],
      "metadata": {
        "id": "Ns7c_WUS69qy"
      },
      "execution_count": 98,
      "outputs": []
    },
    {
      "cell_type": "code",
      "source": [
        "n_epochs = 2"
      ],
      "metadata": {
        "id": "ds1OBwPU69tR"
      },
      "execution_count": 99,
      "outputs": []
    },
    {
      "cell_type": "code",
      "source": [
        "final_model = federated_learning(institution_data, n_rounds, n_epochs)"
      ],
      "metadata": {
        "colab": {
          "base_uri": "https://localhost:8080/"
        },
        "id": "xAJEIXDX69vs",
        "outputId": "d7c544a8-50d3-4180-c2d9-a061f5f1ab2f"
      },
      "execution_count": 100,
      "outputs": [
        {
          "output_type": "stream",
          "name": "stdout",
          "text": [
            "--- Federated Learning Round 1 / 3 ---\n",
            "Training on Institution 1 / 5 with data size 8000\n",
            "Training on Institution 2 / 5 with data size 8000\n",
            "Training on Institution 3 / 5 with data size 8000\n",
            "Training on Institution 4 / 5 with data size 8000\n",
            "Training on Institution 5 / 5 with data size 8000\n",
            "--- Federated Learning Round 2 / 3 ---\n",
            "Training on Institution 1 / 5 with data size 8000\n",
            "Training on Institution 2 / 5 with data size 8000\n",
            "Training on Institution 3 / 5 with data size 8000\n",
            "Training on Institution 4 / 5 with data size 8000\n",
            "Training on Institution 5 / 5 with data size 8000\n",
            "--- Federated Learning Round 3 / 3 ---\n",
            "Training on Institution 1 / 5 with data size 8000\n",
            "Training on Institution 2 / 5 with data size 8000\n",
            "Training on Institution 3 / 5 with data size 8000\n",
            "Training on Institution 4 / 5 with data size 8000\n",
            "Training on Institution 5 / 5 with data size 8000\n"
          ]
        }
      ]
    },
    {
      "cell_type": "markdown",
      "source": [
        "---\n",
        "---"
      ],
      "metadata": {
        "id": "m3oNfXxMEi1-"
      }
    },
    {
      "cell_type": "code",
      "source": [],
      "metadata": {
        "id": "QnxfKn6kEk7t"
      },
      "execution_count": 100,
      "outputs": []
    },
    {
      "cell_type": "code",
      "source": [],
      "metadata": {
        "id": "bORouoLgEk_O"
      },
      "execution_count": 100,
      "outputs": []
    },
    {
      "cell_type": "markdown",
      "source": [
        "---\n",
        "---"
      ],
      "metadata": {
        "id": "64f6zydDElS-"
      }
    },
    {
      "cell_type": "code",
      "source": [
        "# Evaluate the final model on combined test data"
      ],
      "metadata": {
        "id": "6RiTVlalEmfF"
      },
      "execution_count": 101,
      "outputs": []
    },
    {
      "cell_type": "code",
      "source": [
        "def evaluate_model(model: nn.Module, df: pd.DataFrame):\n",
        "    model.eval()\n",
        "    X_eval = torch.from_numpy(df[feature_names].values.astype(np.float32))\n",
        "    y_eval = df['label'].values.astype(np.float32)\n",
        "\n",
        "    with torch.no_grad():\n",
        "        outputs = model(X_eval).squeeze().numpy()\n",
        "\n",
        "    preds = (outputs > 0.5).astype(int)\n",
        "\n",
        "    acc = accuracy_score(y_eval, preds)\n",
        "    auc = roc_auc_score(y_eval, outputs)\n",
        "\n",
        "    print(f\"\\nFinal model accuracy: {acc:.4f}\")\n",
        "    print(f\"Final model AUC: {auc:.4f}\")"
      ],
      "metadata": {
        "id": "QWfwpjWe69yS"
      },
      "execution_count": 102,
      "outputs": []
    },
    {
      "cell_type": "code",
      "source": [],
      "metadata": {
        "id": "-XVLdh0O691A"
      },
      "execution_count": 102,
      "outputs": []
    },
    {
      "cell_type": "code",
      "source": [
        "evaluate_model(final_model, df)"
      ],
      "metadata": {
        "colab": {
          "base_uri": "https://localhost:8080/"
        },
        "id": "lnMPr3Tm693j",
        "outputId": "af897e30-ad2d-4d9d-f783-983e4b87f7ee"
      },
      "execution_count": 103,
      "outputs": [
        {
          "output_type": "stream",
          "name": "stdout",
          "text": [
            "\n",
            "Final model accuracy: 0.5044\n",
            "Final model AUC: 0.5053\n"
          ]
        }
      ]
    },
    {
      "cell_type": "markdown",
      "source": [
        "---\n",
        "---"
      ],
      "metadata": {
        "id": "vN-UItUbExjd"
      }
    },
    {
      "cell_type": "code",
      "source": [],
      "metadata": {
        "id": "YVbNMqC4F59O"
      },
      "execution_count": 103,
      "outputs": []
    },
    {
      "cell_type": "code",
      "source": [],
      "metadata": {
        "id": "22u5CIMlEywx"
      },
      "execution_count": 103,
      "outputs": []
    },
    {
      "cell_type": "markdown",
      "source": [
        "---\n",
        "---"
      ],
      "metadata": {
        "id": "RYp33fnTEy6A"
      }
    },
    {
      "cell_type": "code",
      "source": [
        "# Save the final model"
      ],
      "metadata": {
        "id": "esr5TRGc696b"
      },
      "execution_count": 104,
      "outputs": []
    },
    {
      "cell_type": "code",
      "source": [
        "model_path = \"federated_model.pth\""
      ],
      "metadata": {
        "id": "bJh5g2ZY699J"
      },
      "execution_count": 105,
      "outputs": []
    },
    {
      "cell_type": "code",
      "source": [
        "torch.save(final_model.state_dict(), model_path)"
      ],
      "metadata": {
        "id": "XOxe3slN6-AA"
      },
      "execution_count": 106,
      "outputs": []
    },
    {
      "cell_type": "code",
      "source": [
        "print(f\"\\nModel saved successfully to {model_path}\")"
      ],
      "metadata": {
        "colab": {
          "base_uri": "https://localhost:8080/"
        },
        "id": "ZOODk63u6-Co",
        "outputId": "ad322d31-4ba1-4899-9f0b-e77bd13b563c"
      },
      "execution_count": 107,
      "outputs": [
        {
          "output_type": "stream",
          "name": "stdout",
          "text": [
            "\n",
            "Model saved successfully to federated_model.pth\n"
          ]
        }
      ]
    },
    {
      "cell_type": "markdown",
      "source": [
        "---\n",
        "---"
      ],
      "metadata": {
        "id": "aEsBMpdrGHbW"
      }
    },
    {
      "cell_type": "code",
      "source": [],
      "metadata": {
        "id": "APXLn1p-GImW"
      },
      "execution_count": 107,
      "outputs": []
    },
    {
      "cell_type": "code",
      "source": [],
      "metadata": {
        "id": "tlMVMliZ6-Hz"
      },
      "execution_count": 107,
      "outputs": []
    },
    {
      "cell_type": "markdown",
      "source": [
        "---\n",
        "---"
      ],
      "metadata": {
        "id": "BOUrfXLOGNrx"
      }
    },
    {
      "cell_type": "code",
      "source": [
        "# Take aways"
      ],
      "metadata": {
        "id": "0O96jzz26-M6"
      },
      "execution_count": 108,
      "outputs": []
    },
    {
      "cell_type": "code",
      "source": [
        "\"\"\"\n",
        "Asynchronous Federated Learning with Personalization in PyTorch\n",
        "\n",
        "- Defines a simple neural network model for binary classification\n",
        "- Simulates multiple clients training locally with asynchronous updates\n",
        "- Aggregates client models using FedAvg algorithm\n",
        "- Personalizes the global model per client with fine-tuning\n",
        "- Evaluates and compares global vs personalized model accuracy per client\n",
        "- Fully runnable in Jupyter/Colab using asyncio without blocking the event loop\n",
        "\"\"\"\n"
      ],
      "metadata": {
        "colab": {
          "base_uri": "https://localhost:8080/",
          "height": 87
        },
        "id": "MhGCtQAJJyng",
        "outputId": "eeb74170-848a-4299-b830-a2b38e9147d2"
      },
      "execution_count": 109,
      "outputs": [
        {
          "output_type": "execute_result",
          "data": {
            "text/plain": [
              "'\\nAsynchronous Federated Learning with Personalization in PyTorch\\n\\n- Defines a simple neural network model for binary classification\\n- Simulates multiple clients training locally with asynchronous updates\\n- Aggregates client models using FedAvg algorithm\\n- Personalizes the global model per client with fine-tuning\\n- Evaluates and compares global vs personalized model accuracy per client\\n- Fully runnable in Jupyter/Colab using asyncio without blocking the event loop\\n'"
            ],
            "application/vnd.google.colaboratory.intrinsic+json": {
              "type": "string"
            }
          },
          "metadata": {},
          "execution_count": 109
        }
      ]
    },
    {
      "cell_type": "code",
      "source": [
        "import torch, torch.nn as nn, torch.optim as optim, torch.nn.functional as F"
      ],
      "metadata": {
        "id": "qeGPHtsd6-Py"
      },
      "execution_count": 110,
      "outputs": []
    },
    {
      "cell_type": "code",
      "source": [
        "import numpy as np, random, asyncio, time"
      ],
      "metadata": {
        "id": "NdvdXVIE6-VI"
      },
      "execution_count": 111,
      "outputs": []
    },
    {
      "cell_type": "code",
      "source": [],
      "metadata": {
        "id": "a_Hzpf_Z6-Yl"
      },
      "execution_count": 111,
      "outputs": []
    },
    {
      "cell_type": "code",
      "source": [
        "class SimpleGlobalModel(nn.Module):\n",
        "    def __init__(self, input_size, hidden_size=8, output_size=1):\n",
        "        super(SimpleGlobalModel, self).__init__()\n",
        "        self.fc1 = nn.Linear(input_size, hidden_size)\n",
        "        self.fc2 = nn.Linear(hidden_size, output_size)\n",
        "    def forward(self, x):\n",
        "        x = F.relu(self.fc1(x))\n",
        "        return torch.sigmoid(self.fc2(x))"
      ],
      "metadata": {
        "id": "Ch7WbQeC6-a4"
      },
      "execution_count": 112,
      "outputs": []
    },
    {
      "cell_type": "code",
      "source": [],
      "metadata": {
        "id": "IsptAIiQ6-dN"
      },
      "execution_count": 112,
      "outputs": []
    },
    {
      "cell_type": "code",
      "source": [
        "async def async_client_update(model, data, epochs=1):\n",
        "    await asyncio.sleep(random.uniform(0, 0.05))\n",
        "    X, y = data\n",
        "    local_model = SimpleGlobalModel(input_size=X.shape[1])\n",
        "    local_model.load_state_dict(model.state_dict())\n",
        "    optimizer = optim.Adam(local_model.parameters(), lr=0.01)\n",
        "    loss_fn = nn.BCELoss()\n",
        "    X_tensor = torch.tensor(X, dtype=torch.float32)\n",
        "    y_tensor = torch.tensor(y.reshape(-1, 1), dtype=torch.float32)\n",
        "    loader = torch.utils.data.DataLoader(torch.utils.data.TensorDataset(X_tensor, y_tensor), batch_size=16, shuffle=True)\n",
        "    local_model.train()\n",
        "    for _ in range(epochs):\n",
        "        for xb, yb in loader:\n",
        "            optimizer.zero_grad()\n",
        "            pred = local_model(xb)\n",
        "            loss = loss_fn(pred, yb)\n",
        "            loss.backward()\n",
        "            optimizer.step()\n",
        "    return local_model.state_dict()"
      ],
      "metadata": {
        "id": "Lg1Idlgo6C3i"
      },
      "execution_count": 113,
      "outputs": []
    },
    {
      "cell_type": "code",
      "source": [],
      "metadata": {
        "id": "CX1NJslm6C6A"
      },
      "execution_count": 113,
      "outputs": []
    },
    {
      "cell_type": "code",
      "source": [
        "def average_weights(w_list):\n",
        "    return {k: sum(w[k] for w in w_list) / len(w_list) for k in w_list[0]}"
      ],
      "metadata": {
        "id": "iEQjiaKv6C8V"
      },
      "execution_count": 114,
      "outputs": []
    },
    {
      "cell_type": "code",
      "source": [],
      "metadata": {
        "id": "kD98J62M6C-5"
      },
      "execution_count": 114,
      "outputs": []
    },
    {
      "cell_type": "code",
      "source": [
        "async def async_federated_learning(clients_data, n_rounds=2, n_epochs=1):\n",
        "    input_size = clients_data[0][0].shape[1]\n",
        "    global_model = SimpleGlobalModel(input_size)\n",
        "    for rnd in range(n_rounds):\n",
        "        print(f\"\\n--- Round {rnd + 1} ---\")\n",
        "        tasks = [async_client_update(global_model, data, n_epochs) for data in clients_data]\n",
        "        results = await asyncio.gather(*tasks)\n",
        "        avg_weights = average_weights(results)\n",
        "        global_model.load_state_dict(avg_weights)\n",
        "    return global_model"
      ],
      "metadata": {
        "id": "jQnN-G4K6DBZ"
      },
      "execution_count": 115,
      "outputs": []
    },
    {
      "cell_type": "code",
      "source": [],
      "metadata": {
        "id": "n7AKCcAS6DEA"
      },
      "execution_count": 115,
      "outputs": []
    },
    {
      "cell_type": "code",
      "source": [
        "def personalize_model(global_model, data, epochs=1):\n",
        "    X, y = data\n",
        "    model = SimpleGlobalModel(input_size=X.shape[1])\n",
        "    model.load_state_dict(global_model.state_dict())\n",
        "    optimizer = optim.Adam(model.parameters(), lr=0.005)\n",
        "    loss_fn = nn.BCELoss()\n",
        "    X_tensor = torch.tensor(X, dtype=torch.float32)\n",
        "    y_tensor = torch.tensor(y.reshape(-1, 1), dtype=torch.float32)\n",
        "    loader = torch.utils.data.DataLoader(torch.utils.data.TensorDataset(X_tensor, y_tensor), batch_size=16, shuffle=True)\n",
        "    model.train()\n",
        "    for _ in range(epochs):\n",
        "        for xb, yb in loader:\n",
        "            optimizer.zero_grad()\n",
        "            pred = model(xb)\n",
        "            loss = loss_fn(pred, yb)\n",
        "            loss.backward()\n",
        "            optimizer.step()\n",
        "    return model"
      ],
      "metadata": {
        "id": "scJc0XSn6DGg"
      },
      "execution_count": 116,
      "outputs": []
    },
    {
      "cell_type": "code",
      "source": [],
      "metadata": {
        "id": "Im7mYYC-6DJD"
      },
      "execution_count": 116,
      "outputs": []
    },
    {
      "cell_type": "code",
      "source": [
        "def generate_final_report(global_model, client_models, client_data):\n",
        "    global_model.eval()\n",
        "    print(\"\\n--- Final Report ---\")\n",
        "    for idx, (client_model, (X, y)) in enumerate(zip(client_models, client_data)):\n",
        "        X_tensor = torch.tensor(X, dtype=torch.float32)\n",
        "        y_tensor = torch.tensor(y.reshape(-1, 1), dtype=torch.float32)\n",
        "        with torch.no_grad():\n",
        "            global_pred = global_model(X_tensor).round()\n",
        "            personalized_pred = client_model(X_tensor).round()\n",
        "        global_acc = (global_pred == y_tensor).float().mean().item()\n",
        "        personalized_acc = (personalized_pred == y_tensor).float().mean().item()\n",
        "        print(f\"Client {idx + 1}: Global Acc = {global_acc:.4f}, Personalized Acc = {personalized_acc:.4f}\")\n"
      ],
      "metadata": {
        "id": "wMSYH1mX6DLr"
      },
      "execution_count": 117,
      "outputs": []
    },
    {
      "cell_type": "markdown",
      "source": [
        "----"
      ],
      "metadata": {
        "id": "NQ0JPjD5JX4o"
      }
    },
    {
      "cell_type": "code",
      "source": [],
      "metadata": {
        "id": "I0DEBmi3JYpv"
      },
      "execution_count": 117,
      "outputs": []
    },
    {
      "cell_type": "code",
      "source": [],
      "metadata": {
        "id": "jsXYnLW3JaBY"
      },
      "execution_count": 117,
      "outputs": []
    },
    {
      "cell_type": "markdown",
      "source": [
        "----"
      ],
      "metadata": {
        "id": "LqwvW2uWJajY"
      }
    },
    {
      "cell_type": "code",
      "source": [
        "# Run block (Notebook-safe version)"
      ],
      "metadata": {
        "id": "wbBPBFgC6DOH"
      },
      "execution_count": 118,
      "outputs": []
    },
    {
      "cell_type": "code",
      "source": [
        "async def run_async_federated():\n",
        "    n_clients = 3\n",
        "    n_features = 10\n",
        "    samples_per_client = 100\n",
        "    clients_data = [(np.random.rand(samples_per_client, n_features), np.random.randint(0, 2, samples_per_client)) for _ in range(n_clients)]\n",
        "    start = time.time()\n",
        "    global_model = await async_federated_learning(clients_data, n_rounds=2, n_epochs=1)\n",
        "    personalized_models = [personalize_model(global_model, data, epochs=1) for data in clients_data]\n",
        "    generate_final_report(global_model, personalized_models, clients_data)\n",
        "    print(f\"\\nTotal Runtime: {time.time() - start:.2f} seconds\")#"
      ],
      "metadata": {
        "id": "3evqCDZq6DQ4"
      },
      "execution_count": 119,
      "outputs": []
    },
    {
      "cell_type": "code",
      "source": [],
      "metadata": {
        "id": "MGGbjTFJ6DT0"
      },
      "execution_count": 119,
      "outputs": []
    },
    {
      "cell_type": "code",
      "source": [
        "await run_async_federated()  # Works in Colab / Jupyter"
      ],
      "metadata": {
        "colab": {
          "base_uri": "https://localhost:8080/"
        },
        "id": "OTgv2qjp6DWw",
        "outputId": "f688bb06-c937-4b13-e075-83cdcdb21e72"
      },
      "execution_count": 120,
      "outputs": [
        {
          "output_type": "stream",
          "name": "stdout",
          "text": [
            "\n",
            "--- Round 1 ---\n",
            "\n",
            "--- Round 2 ---\n",
            "\n",
            "--- Final Report ---\n",
            "Client 1: Global Acc = 0.5000, Personalized Acc = 0.4900\n",
            "Client 2: Global Acc = 0.4700, Personalized Acc = 0.5200\n",
            "Client 3: Global Acc = 0.5700, Personalized Acc = 0.5800\n",
            "\n",
            "Total Runtime: 0.13 seconds\n"
          ]
        }
      ]
    },
    {
      "cell_type": "markdown",
      "source": [
        "---\n",
        "---"
      ],
      "metadata": {
        "id": "p2YUe3sKJjGP"
      }
    }
  ]
}