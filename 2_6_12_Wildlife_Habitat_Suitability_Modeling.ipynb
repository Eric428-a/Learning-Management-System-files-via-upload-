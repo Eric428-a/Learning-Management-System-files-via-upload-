{
  "nbformat": 4,
  "nbformat_minor": 0,
  "metadata": {
    "colab": {
      "provenance": [],
      "gpuType": "T4"
    },
    "kernelspec": {
      "name": "python3",
      "display_name": "Python 3"
    },
    "language_info": {
      "name": "python"
    },
    "accelerator": "GPU"
  },
  "cells": [
    {
      "cell_type": "markdown",
      "source": [
        "# 🌍 **Wildlife Habitat Suitability Modeling Overview** 🌍\n",
        "\n",
        "This project combines **Environmental Engineering** and **Data Science** to predict the suitability of habitats for different wildlife species using real-world data. The goal is to create a model that can determine the most suitable regions for specific species based on various environmental factors like elevation, precipitation, and vegetation index.\n",
        "\n",
        "### 🛠 **Key Steps in the Project** 🛠\n",
        "\n",
        "---\n",
        "\n",
        "### 1. **Data Collection and Preprocessing** 📚\n",
        "   - The dataset is loaded from a **.txt file** containing information about different regions and their environmental descriptions.\n",
        "   - **Data cleaning** steps include:\n",
        "     - Filtering rows with more or less than three columns.\n",
        "     - Encoding categorical columns like **Region** and **Description** using **Label Encoding** to make them suitable for machine learning models.\n",
        "\n",
        "**Important Notes**:\n",
        "   - The dataset needs to be cleaned and preprocessed to ensure it is ready for analysis.\n",
        "   - Proper **encoding** of categorical data is crucial to making predictions with algorithms.\n",
        "\n",
        "---\n",
        "\n",
        "### 2. **Map Visualization** 🗺️\n",
        "   - We use **Folium** to create an interactive map to visualize the habitat suitability across different regions.\n",
        "   - **Marker Clustering** is applied to group regions with similar characteristics, making it easier to interpret spatial patterns.\n",
        "\n",
        "**Important Notes**:\n",
        "   - Visualization tools like **Folium** and **Plotly** help us understand the geographical patterns in the data.\n",
        "   - Use **geospatial data** (e.g., latitude and longitude) to map locations accurately.\n",
        "\n",
        "---\n",
        "\n",
        "### 3. **Data Analysis and Correlation** 🔍\n",
        "   - **Correlation analysis** helps us understand relationships between numeric features.\n",
        "   - A **heatmap** is generated to visualize the correlation between environmental factors and habitat suitability.\n",
        "\n",
        "**Important Notes**:\n",
        "   - Analyzing correlations is crucial to understanding which factors influence habitat suitability.\n",
        "   - The **correlation heatmap** provides insights into how features interact with each other.\n",
        "\n",
        "---\n",
        "\n",
        "### 4. **Balancing the Dataset with SMOTE** ⚖️\n",
        "   - **SMOTE (Synthetic Minority Over-sampling Technique)** is applied to balance the dataset and prevent bias in the model caused by imbalanced classes.\n",
        "   - This ensures that the model learns to predict all classes (regions) effectively.\n",
        "\n",
        "**Important Notes**:\n",
        "   - Imbalanced datasets can lead to skewed predictions, so balancing them is essential for accurate results.\n",
        "   - **SMOTE** helps generate synthetic data points for underrepresented classes.\n",
        "\n",
        "---\n",
        "\n",
        "### 5. **Model Training and Evaluation** 🧠\n",
        "   - **Logistic Regression** (as a Maxent-like model) is used to train the habitat suitability model.\n",
        "   - The model is evaluated using **accuracy scores** and **classification reports** to determine how well it predicts suitable habitats.\n",
        "\n",
        "**Important Notes**:\n",
        "   - Choosing the right machine learning model is critical for accurate predictions.\n",
        "   - Model evaluation metrics, such as **accuracy** and **classification reports**, help assess the performance of the model.\n",
        "\n",
        "---\n",
        "\n",
        "### 6. **Dash Dashboard for Model Insights** 📊\n",
        "   - A **Dash** application is built to display the model's predictions and feature importance.\n",
        "   - The dashboard includes:\n",
        "     - A **bar chart** showing the importance of each feature in the model.\n",
        "     - A **data table** displaying the model predictions for different regions.\n",
        "\n",
        "**Important Notes**:\n",
        "   - Dash is a powerful tool for building interactive dashboards that allow users to visualize model results in real-time.\n",
        "   - The **feature importance** chart helps us understand which environmental factors are most influential in determining habitat suitability.\n",
        "\n",
        "---\n",
        "\n",
        "### 💡 **Key Learnings for Environmental Engineers & Data Scientists** 💡\n",
        "\n",
        "- **Data Science**: Data preprocessing, feature encoding, model training, and evaluation are all fundamental skills for data scientists working in **environmental domains**.\n",
        "- **Environmental Engineering**: Understanding the **geospatial patterns** and **environmental factors** influencing wildlife habitat suitability is crucial for engineers working in conservation and land management.\n",
        "- **Machine Learning**: The ability to apply **SMOTE** for balancing datasets, train models like **Logistic Regression**, and visualize insights using **Dash** is essential for creating effective predictive models.\n",
        "\n",
        "---\n",
        "\n",
        "### 🚀 **Next Steps** 🚀\n",
        "   - Enhance the model by experimenting with more advanced algorithms like **Random Forest** or **XGBoost**.\n",
        "   - Expand the dataset with additional environmental factors and more regions to improve prediction accuracy.\n",
        "   - Integrate real-time data into the **Dash dashboard** for dynamic habitat suitability predictions.\n",
        "\n",
        "---\n",
        "\n",
        "### 🌿 **Final Thought** 🌿\n",
        "\n",
        "This project demonstrates how data science can be applied to solve **environmental engineering** problems. By combining **machine learning** with environmental data, we can make informed decisions to protect wildlife and manage ecosystems more effectively. 🌎✨"
      ],
      "metadata": {
        "id": "-TXPngbXo3BB"
      }
    },
    {
      "cell_type": "code",
      "source": [],
      "metadata": {
        "id": "NUmaxQsho8RR"
      },
      "execution_count": null,
      "outputs": []
    },
    {
      "cell_type": "code",
      "source": [],
      "metadata": {
        "id": "JwSxqi9Qo8v-"
      },
      "execution_count": null,
      "outputs": []
    },
    {
      "cell_type": "code",
      "source": [],
      "metadata": {
        "id": "ZXfR92Hvo9L5"
      },
      "execution_count": null,
      "outputs": []
    },
    {
      "cell_type": "markdown",
      "source": [
        "# 📦 **Importing Libraries** 📦\n",
        "\n",
        "In this step, we load the necessary Python libraries required for data manipulation, visualization, and modeling. Below is a brief overview of the most important libraries:\n",
        "\n",
        "- **Pandas**: For data manipulation and cleaning.\n",
        "- **NumPy**: For numerical computations.\n",
        "- **Matplotlib and Seaborn**: For data visualization.\n",
        "- **Folium**: For map visualization.\n",
        "- **SMOTE**: For balancing the dataset.\n",
        "- **Scikit-learn**: For machine learning algorithms and tools like encoding, splitting data, and model evaluation.\n",
        "- **Dash**: For building interactive dashboards.\n",
        "\n",
        "Remember to install these libraries in your environment if they are not already available."
      ],
      "metadata": {
        "id": "RwxtcCfqo9-C"
      }
    },
    {
      "cell_type": "code",
      "source": [
        "import warnings"
      ],
      "metadata": {
        "id": "EmqCQT8DfRo-"
      },
      "execution_count": 49,
      "outputs": []
    },
    {
      "cell_type": "code",
      "source": [
        "warnings.filterwarnings('ignore')"
      ],
      "metadata": {
        "id": "imJVmyOufgSM"
      },
      "execution_count": 50,
      "outputs": []
    },
    {
      "cell_type": "code",
      "source": [],
      "metadata": {
        "id": "0t_Ol4UhfR1P"
      },
      "execution_count": null,
      "outputs": []
    },
    {
      "cell_type": "code",
      "source": [
        "pip install dash plotly"
      ],
      "metadata": {
        "colab": {
          "base_uri": "https://localhost:8080/"
        },
        "id": "rknfViBVmQ_Q",
        "outputId": "64458652-eb97-4baa-f40a-726c908b0daa"
      },
      "execution_count": 169,
      "outputs": [
        {
          "output_type": "stream",
          "name": "stdout",
          "text": [
            "Requirement already satisfied: dash in /usr/local/lib/python3.11/dist-packages (2.18.2)\n",
            "Requirement already satisfied: plotly in /usr/local/lib/python3.11/dist-packages (5.24.1)\n",
            "Requirement already satisfied: Flask<3.1,>=1.0.4 in /usr/local/lib/python3.11/dist-packages (from dash) (3.0.3)\n",
            "Requirement already satisfied: Werkzeug<3.1 in /usr/local/lib/python3.11/dist-packages (from dash) (3.0.6)\n",
            "Requirement already satisfied: dash-html-components==2.0.0 in /usr/local/lib/python3.11/dist-packages (from dash) (2.0.0)\n",
            "Requirement already satisfied: dash-core-components==2.0.0 in /usr/local/lib/python3.11/dist-packages (from dash) (2.0.0)\n",
            "Requirement already satisfied: dash-table==5.0.0 in /usr/local/lib/python3.11/dist-packages (from dash) (5.0.0)\n",
            "Requirement already satisfied: importlib-metadata in /usr/local/lib/python3.11/dist-packages (from dash) (8.5.0)\n",
            "Requirement already satisfied: typing-extensions>=4.1.1 in /usr/local/lib/python3.11/dist-packages (from dash) (4.12.2)\n",
            "Requirement already satisfied: requests in /usr/local/lib/python3.11/dist-packages (from dash) (2.32.3)\n",
            "Requirement already satisfied: retrying in /usr/local/lib/python3.11/dist-packages (from dash) (1.3.4)\n",
            "Requirement already satisfied: nest-asyncio in /usr/local/lib/python3.11/dist-packages (from dash) (1.6.0)\n",
            "Requirement already satisfied: setuptools in /usr/local/lib/python3.11/dist-packages (from dash) (75.1.0)\n",
            "Requirement already satisfied: tenacity>=6.2.0 in /usr/local/lib/python3.11/dist-packages (from plotly) (9.0.0)\n",
            "Requirement already satisfied: packaging in /usr/local/lib/python3.11/dist-packages (from plotly) (24.2)\n",
            "Requirement already satisfied: Jinja2>=3.1.2 in /usr/local/lib/python3.11/dist-packages (from Flask<3.1,>=1.0.4->dash) (3.1.5)\n",
            "Requirement already satisfied: itsdangerous>=2.1.2 in /usr/local/lib/python3.11/dist-packages (from Flask<3.1,>=1.0.4->dash) (2.2.0)\n",
            "Requirement already satisfied: click>=8.1.3 in /usr/local/lib/python3.11/dist-packages (from Flask<3.1,>=1.0.4->dash) (8.1.8)\n",
            "Requirement already satisfied: blinker>=1.6.2 in /usr/local/lib/python3.11/dist-packages (from Flask<3.1,>=1.0.4->dash) (1.9.0)\n",
            "Requirement already satisfied: MarkupSafe>=2.1.1 in /usr/local/lib/python3.11/dist-packages (from Werkzeug<3.1->dash) (3.0.2)\n",
            "Requirement already satisfied: zipp>=3.20 in /usr/local/lib/python3.11/dist-packages (from importlib-metadata->dash) (3.21.0)\n",
            "Requirement already satisfied: charset-normalizer<4,>=2 in /usr/local/lib/python3.11/dist-packages (from requests->dash) (3.4.1)\n",
            "Requirement already satisfied: idna<4,>=2.5 in /usr/local/lib/python3.11/dist-packages (from requests->dash) (3.10)\n",
            "Requirement already satisfied: urllib3<3,>=1.21.1 in /usr/local/lib/python3.11/dist-packages (from requests->dash) (2.3.0)\n",
            "Requirement already satisfied: certifi>=2017.4.17 in /usr/local/lib/python3.11/dist-packages (from requests->dash) (2024.12.14)\n",
            "Requirement already satisfied: six>=1.7.0 in /usr/local/lib/python3.11/dist-packages (from retrying->dash) (1.17.0)\n"
          ]
        }
      ]
    },
    {
      "cell_type": "code",
      "source": [],
      "metadata": {
        "id": "WgWMPiyWmYTn"
      },
      "execution_count": null,
      "outputs": []
    },
    {
      "cell_type": "code",
      "source": [],
      "metadata": {
        "id": "GjqUI7KImRXl"
      },
      "execution_count": null,
      "outputs": []
    },
    {
      "cell_type": "code",
      "source": [
        "import pandas as pd"
      ],
      "metadata": {
        "id": "4We3Iu0YaURu"
      },
      "execution_count": 51,
      "outputs": []
    },
    {
      "cell_type": "code",
      "source": [
        "import folium"
      ],
      "metadata": {
        "id": "EUo0lBEYaUVh"
      },
      "execution_count": 52,
      "outputs": []
    },
    {
      "cell_type": "code",
      "source": [
        "from folium.plugins import MarkerCluster"
      ],
      "metadata": {
        "id": "5Zug2SgRaUYU"
      },
      "execution_count": 53,
      "outputs": []
    },
    {
      "cell_type": "code",
      "source": [
        "import matplotlib.pyplot as plt"
      ],
      "metadata": {
        "id": "a8_C5BPuaUbT"
      },
      "execution_count": 54,
      "outputs": []
    },
    {
      "cell_type": "code",
      "source": [
        "import seaborn as sns"
      ],
      "metadata": {
        "id": "hWaDxTv2aUo5"
      },
      "execution_count": 55,
      "outputs": []
    },
    {
      "cell_type": "code",
      "source": [
        "import dash"
      ],
      "metadata": {
        "id": "Wl42OIfkmeTy"
      },
      "execution_count": 170,
      "outputs": []
    },
    {
      "cell_type": "code",
      "source": [
        "import plotly.graph_objs as go"
      ],
      "metadata": {
        "id": "yEszi_CNmehh"
      },
      "execution_count": 171,
      "outputs": []
    },
    {
      "cell_type": "code",
      "source": [
        "from sklearn.preprocessing import LabelEncoder"
      ],
      "metadata": {
        "id": "Gr2ox1IDaUwq"
      },
      "execution_count": 56,
      "outputs": []
    },
    {
      "cell_type": "code",
      "source": [
        "from imblearn.over_sampling import SMOTE"
      ],
      "metadata": {
        "id": "xKi9tCPoaU7t"
      },
      "execution_count": 57,
      "outputs": []
    },
    {
      "cell_type": "code",
      "source": [
        "from sklearn.linear_model import LogisticRegression"
      ],
      "metadata": {
        "id": "QpifNfCCaVGC"
      },
      "execution_count": 58,
      "outputs": []
    },
    {
      "cell_type": "code",
      "source": [
        "from sklearn.metrics import classification_report, accuracy_score"
      ],
      "metadata": {
        "id": "MaiUSKv3aTJi"
      },
      "execution_count": 59,
      "outputs": []
    },
    {
      "cell_type": "code",
      "source": [
        "from dash import dcc, html"
      ],
      "metadata": {
        "id": "GoByltLCmnNI"
      },
      "execution_count": 172,
      "outputs": []
    },
    {
      "cell_type": "code",
      "source": [
        "from dash.dash_table import DataTable"
      ],
      "metadata": {
        "id": "747EicfimnYN"
      },
      "execution_count": 173,
      "outputs": []
    },
    {
      "cell_type": "code",
      "source": [
        "from dash import Input, Output"
      ],
      "metadata": {
        "id": "k4gDwsMLmrym"
      },
      "execution_count": 174,
      "outputs": []
    },
    {
      "cell_type": "code",
      "source": [],
      "metadata": {
        "id": "uOdw5iRImvGc"
      },
      "execution_count": null,
      "outputs": []
    },
    {
      "cell_type": "code",
      "source": [],
      "metadata": {
        "id": "u9RGP6_qaTM3"
      },
      "execution_count": null,
      "outputs": []
    },
    {
      "cell_type": "code",
      "source": [],
      "metadata": {
        "id": "KHqH7HLKaTP0"
      },
      "execution_count": null,
      "outputs": []
    },
    {
      "cell_type": "markdown",
      "source": [
        "# 📚 **Data Loading and Preprocessing** 📚\n",
        "\n",
        "In this step, we load the dataset and perform some key preprocessing tasks:\n",
        "\n",
        "1. **Loading the Data**:\n",
        "   - Use Pandas to load the data from the `.txt` file.\n",
        "   - Ensure the data is in a format that can be processed (i.e., DataFrame).\n",
        "   \n",
        "2. **Data Cleaning**:\n",
        "   - Filter out rows that contain fewer or more than three columns.\n",
        "   - Drop any irrelevant columns that may not contribute to our model.\n",
        "   \n",
        "3. **Handling Missing Values**:\n",
        "   - Check for missing data and apply appropriate imputation or removal strategies.\n",
        "\n",
        "4. **Label Encoding**:\n",
        "   - For categorical columns, apply **Label Encoding** to convert them into numerical format so that machine learning models can process them.\n",
        "   \n",
        "5. **Feature Scaling**:\n",
        "   - If necessary, scale numerical features to ensure consistent ranges for the model."
      ],
      "metadata": {
        "id": "ireMgAg1pGid"
      }
    },
    {
      "cell_type": "code",
      "source": [
        "# Load the dataset from the .txt file"
      ],
      "metadata": {
        "id": "mkthlU54aTSR"
      },
      "execution_count": 60,
      "outputs": []
    },
    {
      "cell_type": "code",
      "source": [
        "file_path = '/content/distribution.txt'"
      ],
      "metadata": {
        "id": "BEd8Xq0MaTUs"
      },
      "execution_count": 61,
      "outputs": []
    },
    {
      "cell_type": "code",
      "source": [
        "with open(file_path, 'r') as file:\n",
        "    data = file.readlines()"
      ],
      "metadata": {
        "id": "9y3wuLhOaJcM"
      },
      "execution_count": 62,
      "outputs": []
    },
    {
      "cell_type": "code",
      "source": [],
      "metadata": {
        "id": "JGsjwUWaa3_T"
      },
      "execution_count": null,
      "outputs": []
    },
    {
      "cell_type": "code",
      "source": [],
      "metadata": {
        "id": "a0ZQocgUa4CK"
      },
      "execution_count": null,
      "outputs": []
    },
    {
      "cell_type": "code",
      "source": [
        "# Display the first few lines to understand the structure"
      ],
      "metadata": {
        "id": "2wXeGQPha4KH"
      },
      "execution_count": null,
      "outputs": []
    },
    {
      "cell_type": "code",
      "source": [
        "print(\"First few lines of the dataset:\")\n",
        "for line in data[:10]:  # Adjust 10 to inspect more or fewer lines\n",
        "    print(line)"
      ],
      "metadata": {
        "id": "BTO9Az_2a4Ny"
      },
      "execution_count": null,
      "outputs": []
    },
    {
      "cell_type": "code",
      "source": [],
      "metadata": {
        "id": "1XiXtaHla4SY"
      },
      "execution_count": null,
      "outputs": []
    },
    {
      "cell_type": "code",
      "source": [],
      "metadata": {
        "id": "06lyi3PGa4at"
      },
      "execution_count": 62,
      "outputs": []
    },
    {
      "cell_type": "code",
      "source": [
        "# Filter out rows that have more or less than 3 columns (based on inspection)\n"
      ],
      "metadata": {
        "id": "kaW1pLtKa4fI"
      },
      "execution_count": 63,
      "outputs": []
    },
    {
      "cell_type": "code",
      "source": [
        "filtered_data = []"
      ],
      "metadata": {
        "id": "Sdei0RZRa4iC"
      },
      "execution_count": 64,
      "outputs": []
    },
    {
      "cell_type": "code",
      "source": [
        "for line in data:\n",
        "    columns = line.split()\n",
        "    if len(columns) == 3:  # Only keep rows with exactly 3 columns\n",
        "        filtered_data.append(columns)"
      ],
      "metadata": {
        "id": "-IPPVDeVbTaZ"
      },
      "execution_count": 65,
      "outputs": []
    },
    {
      "cell_type": "code",
      "source": [],
      "metadata": {
        "id": "zQ7DlQenbTdP"
      },
      "execution_count": null,
      "outputs": []
    },
    {
      "cell_type": "code",
      "source": [
        "# Convert the filtered data into a DataFrame"
      ],
      "metadata": {
        "id": "birL5L-fbThd"
      },
      "execution_count": 66,
      "outputs": []
    },
    {
      "cell_type": "code",
      "source": [
        "df = pd.DataFrame(filtered_data, columns=['ID', 'Region', 'Description'])"
      ],
      "metadata": {
        "id": "JgsPMA7vbTlI"
      },
      "execution_count": 67,
      "outputs": []
    },
    {
      "cell_type": "code",
      "source": [],
      "metadata": {
        "id": "_gjXY8skbTp1"
      },
      "execution_count": null,
      "outputs": []
    },
    {
      "cell_type": "code",
      "source": [
        "# Display the first few rows to inspect the dataset"
      ],
      "metadata": {
        "id": "cg-YMI5NbTuH"
      },
      "execution_count": 68,
      "outputs": []
    },
    {
      "cell_type": "code",
      "source": [
        "df.head()"
      ],
      "metadata": {
        "colab": {
          "base_uri": "https://localhost:8080/",
          "height": 206
        },
        "id": "Jorbp6gWbTzv",
        "outputId": "14ef90d2-eefe-4902-cb56-f0b7e8e03d40"
      },
      "execution_count": 69,
      "outputs": [
        {
          "output_type": "execute_result",
          "data": {
            "text/plain": [
              "     ID Region Description\n",
              "0  1805   East     Pacific\n",
              "1  2305  North     America\n",
              "2  2315  North     America\n",
              "3  2316  North     America\n",
              "4  2317  North     America"
            ],
            "text/html": [
              "\n",
              "  <div id=\"df-e0b54371-7afd-473e-b418-dccf91bfa127\" class=\"colab-df-container\">\n",
              "    <div>\n",
              "<style scoped>\n",
              "    .dataframe tbody tr th:only-of-type {\n",
              "        vertical-align: middle;\n",
              "    }\n",
              "\n",
              "    .dataframe tbody tr th {\n",
              "        vertical-align: top;\n",
              "    }\n",
              "\n",
              "    .dataframe thead th {\n",
              "        text-align: right;\n",
              "    }\n",
              "</style>\n",
              "<table border=\"1\" class=\"dataframe\">\n",
              "  <thead>\n",
              "    <tr style=\"text-align: right;\">\n",
              "      <th></th>\n",
              "      <th>ID</th>\n",
              "      <th>Region</th>\n",
              "      <th>Description</th>\n",
              "    </tr>\n",
              "  </thead>\n",
              "  <tbody>\n",
              "    <tr>\n",
              "      <th>0</th>\n",
              "      <td>1805</td>\n",
              "      <td>East</td>\n",
              "      <td>Pacific</td>\n",
              "    </tr>\n",
              "    <tr>\n",
              "      <th>1</th>\n",
              "      <td>2305</td>\n",
              "      <td>North</td>\n",
              "      <td>America</td>\n",
              "    </tr>\n",
              "    <tr>\n",
              "      <th>2</th>\n",
              "      <td>2315</td>\n",
              "      <td>North</td>\n",
              "      <td>America</td>\n",
              "    </tr>\n",
              "    <tr>\n",
              "      <th>3</th>\n",
              "      <td>2316</td>\n",
              "      <td>North</td>\n",
              "      <td>America</td>\n",
              "    </tr>\n",
              "    <tr>\n",
              "      <th>4</th>\n",
              "      <td>2317</td>\n",
              "      <td>North</td>\n",
              "      <td>America</td>\n",
              "    </tr>\n",
              "  </tbody>\n",
              "</table>\n",
              "</div>\n",
              "    <div class=\"colab-df-buttons\">\n",
              "\n",
              "  <div class=\"colab-df-container\">\n",
              "    <button class=\"colab-df-convert\" onclick=\"convertToInteractive('df-e0b54371-7afd-473e-b418-dccf91bfa127')\"\n",
              "            title=\"Convert this dataframe to an interactive table.\"\n",
              "            style=\"display:none;\">\n",
              "\n",
              "  <svg xmlns=\"http://www.w3.org/2000/svg\" height=\"24px\" viewBox=\"0 -960 960 960\">\n",
              "    <path d=\"M120-120v-720h720v720H120Zm60-500h600v-160H180v160Zm220 220h160v-160H400v160Zm0 220h160v-160H400v160ZM180-400h160v-160H180v160Zm440 0h160v-160H620v160ZM180-180h160v-160H180v160Zm440 0h160v-160H620v160Z\"/>\n",
              "  </svg>\n",
              "    </button>\n",
              "\n",
              "  <style>\n",
              "    .colab-df-container {\n",
              "      display:flex;\n",
              "      gap: 12px;\n",
              "    }\n",
              "\n",
              "    .colab-df-convert {\n",
              "      background-color: #E8F0FE;\n",
              "      border: none;\n",
              "      border-radius: 50%;\n",
              "      cursor: pointer;\n",
              "      display: none;\n",
              "      fill: #1967D2;\n",
              "      height: 32px;\n",
              "      padding: 0 0 0 0;\n",
              "      width: 32px;\n",
              "    }\n",
              "\n",
              "    .colab-df-convert:hover {\n",
              "      background-color: #E2EBFA;\n",
              "      box-shadow: 0px 1px 2px rgba(60, 64, 67, 0.3), 0px 1px 3px 1px rgba(60, 64, 67, 0.15);\n",
              "      fill: #174EA6;\n",
              "    }\n",
              "\n",
              "    .colab-df-buttons div {\n",
              "      margin-bottom: 4px;\n",
              "    }\n",
              "\n",
              "    [theme=dark] .colab-df-convert {\n",
              "      background-color: #3B4455;\n",
              "      fill: #D2E3FC;\n",
              "    }\n",
              "\n",
              "    [theme=dark] .colab-df-convert:hover {\n",
              "      background-color: #434B5C;\n",
              "      box-shadow: 0px 1px 3px 1px rgba(0, 0, 0, 0.15);\n",
              "      filter: drop-shadow(0px 1px 2px rgba(0, 0, 0, 0.3));\n",
              "      fill: #FFFFFF;\n",
              "    }\n",
              "  </style>\n",
              "\n",
              "    <script>\n",
              "      const buttonEl =\n",
              "        document.querySelector('#df-e0b54371-7afd-473e-b418-dccf91bfa127 button.colab-df-convert');\n",
              "      buttonEl.style.display =\n",
              "        google.colab.kernel.accessAllowed ? 'block' : 'none';\n",
              "\n",
              "      async function convertToInteractive(key) {\n",
              "        const element = document.querySelector('#df-e0b54371-7afd-473e-b418-dccf91bfa127');\n",
              "        const dataTable =\n",
              "          await google.colab.kernel.invokeFunction('convertToInteractive',\n",
              "                                                    [key], {});\n",
              "        if (!dataTable) return;\n",
              "\n",
              "        const docLinkHtml = 'Like what you see? Visit the ' +\n",
              "          '<a target=\"_blank\" href=https://colab.research.google.com/notebooks/data_table.ipynb>data table notebook</a>'\n",
              "          + ' to learn more about interactive tables.';\n",
              "        element.innerHTML = '';\n",
              "        dataTable['output_type'] = 'display_data';\n",
              "        await google.colab.output.renderOutput(dataTable, element);\n",
              "        const docLink = document.createElement('div');\n",
              "        docLink.innerHTML = docLinkHtml;\n",
              "        element.appendChild(docLink);\n",
              "      }\n",
              "    </script>\n",
              "  </div>\n",
              "\n",
              "\n",
              "<div id=\"df-d64745e1-c4ed-40de-bea4-8098a7dd53c6\">\n",
              "  <button class=\"colab-df-quickchart\" onclick=\"quickchart('df-d64745e1-c4ed-40de-bea4-8098a7dd53c6')\"\n",
              "            title=\"Suggest charts\"\n",
              "            style=\"display:none;\">\n",
              "\n",
              "<svg xmlns=\"http://www.w3.org/2000/svg\" height=\"24px\"viewBox=\"0 0 24 24\"\n",
              "     width=\"24px\">\n",
              "    <g>\n",
              "        <path d=\"M19 3H5c-1.1 0-2 .9-2 2v14c0 1.1.9 2 2 2h14c1.1 0 2-.9 2-2V5c0-1.1-.9-2-2-2zM9 17H7v-7h2v7zm4 0h-2V7h2v10zm4 0h-2v-4h2v4z\"/>\n",
              "    </g>\n",
              "</svg>\n",
              "  </button>\n",
              "\n",
              "<style>\n",
              "  .colab-df-quickchart {\n",
              "      --bg-color: #E8F0FE;\n",
              "      --fill-color: #1967D2;\n",
              "      --hover-bg-color: #E2EBFA;\n",
              "      --hover-fill-color: #174EA6;\n",
              "      --disabled-fill-color: #AAA;\n",
              "      --disabled-bg-color: #DDD;\n",
              "  }\n",
              "\n",
              "  [theme=dark] .colab-df-quickchart {\n",
              "      --bg-color: #3B4455;\n",
              "      --fill-color: #D2E3FC;\n",
              "      --hover-bg-color: #434B5C;\n",
              "      --hover-fill-color: #FFFFFF;\n",
              "      --disabled-bg-color: #3B4455;\n",
              "      --disabled-fill-color: #666;\n",
              "  }\n",
              "\n",
              "  .colab-df-quickchart {\n",
              "    background-color: var(--bg-color);\n",
              "    border: none;\n",
              "    border-radius: 50%;\n",
              "    cursor: pointer;\n",
              "    display: none;\n",
              "    fill: var(--fill-color);\n",
              "    height: 32px;\n",
              "    padding: 0;\n",
              "    width: 32px;\n",
              "  }\n",
              "\n",
              "  .colab-df-quickchart:hover {\n",
              "    background-color: var(--hover-bg-color);\n",
              "    box-shadow: 0 1px 2px rgba(60, 64, 67, 0.3), 0 1px 3px 1px rgba(60, 64, 67, 0.15);\n",
              "    fill: var(--button-hover-fill-color);\n",
              "  }\n",
              "\n",
              "  .colab-df-quickchart-complete:disabled,\n",
              "  .colab-df-quickchart-complete:disabled:hover {\n",
              "    background-color: var(--disabled-bg-color);\n",
              "    fill: var(--disabled-fill-color);\n",
              "    box-shadow: none;\n",
              "  }\n",
              "\n",
              "  .colab-df-spinner {\n",
              "    border: 2px solid var(--fill-color);\n",
              "    border-color: transparent;\n",
              "    border-bottom-color: var(--fill-color);\n",
              "    animation:\n",
              "      spin 1s steps(1) infinite;\n",
              "  }\n",
              "\n",
              "  @keyframes spin {\n",
              "    0% {\n",
              "      border-color: transparent;\n",
              "      border-bottom-color: var(--fill-color);\n",
              "      border-left-color: var(--fill-color);\n",
              "    }\n",
              "    20% {\n",
              "      border-color: transparent;\n",
              "      border-left-color: var(--fill-color);\n",
              "      border-top-color: var(--fill-color);\n",
              "    }\n",
              "    30% {\n",
              "      border-color: transparent;\n",
              "      border-left-color: var(--fill-color);\n",
              "      border-top-color: var(--fill-color);\n",
              "      border-right-color: var(--fill-color);\n",
              "    }\n",
              "    40% {\n",
              "      border-color: transparent;\n",
              "      border-right-color: var(--fill-color);\n",
              "      border-top-color: var(--fill-color);\n",
              "    }\n",
              "    60% {\n",
              "      border-color: transparent;\n",
              "      border-right-color: var(--fill-color);\n",
              "    }\n",
              "    80% {\n",
              "      border-color: transparent;\n",
              "      border-right-color: var(--fill-color);\n",
              "      border-bottom-color: var(--fill-color);\n",
              "    }\n",
              "    90% {\n",
              "      border-color: transparent;\n",
              "      border-bottom-color: var(--fill-color);\n",
              "    }\n",
              "  }\n",
              "</style>\n",
              "\n",
              "  <script>\n",
              "    async function quickchart(key) {\n",
              "      const quickchartButtonEl =\n",
              "        document.querySelector('#' + key + ' button');\n",
              "      quickchartButtonEl.disabled = true;  // To prevent multiple clicks.\n",
              "      quickchartButtonEl.classList.add('colab-df-spinner');\n",
              "      try {\n",
              "        const charts = await google.colab.kernel.invokeFunction(\n",
              "            'suggestCharts', [key], {});\n",
              "      } catch (error) {\n",
              "        console.error('Error during call to suggestCharts:', error);\n",
              "      }\n",
              "      quickchartButtonEl.classList.remove('colab-df-spinner');\n",
              "      quickchartButtonEl.classList.add('colab-df-quickchart-complete');\n",
              "    }\n",
              "    (() => {\n",
              "      let quickchartButtonEl =\n",
              "        document.querySelector('#df-d64745e1-c4ed-40de-bea4-8098a7dd53c6 button');\n",
              "      quickchartButtonEl.style.display =\n",
              "        google.colab.kernel.accessAllowed ? 'block' : 'none';\n",
              "    })();\n",
              "  </script>\n",
              "</div>\n",
              "\n",
              "    </div>\n",
              "  </div>\n"
            ],
            "application/vnd.google.colaboratory.intrinsic+json": {
              "type": "dataframe",
              "variable_name": "df"
            }
          },
          "metadata": {},
          "execution_count": 69
        }
      ]
    },
    {
      "cell_type": "code",
      "source": [],
      "metadata": {
        "id": "BhTaEu3dbdX3"
      },
      "execution_count": null,
      "outputs": []
    },
    {
      "cell_type": "code",
      "source": [],
      "metadata": {
        "id": "JNLdsvKSfzMZ"
      },
      "execution_count": null,
      "outputs": []
    },
    {
      "cell_type": "code",
      "source": [
        "# Optionally, save the cleaned dataset as a CSV file"
      ],
      "metadata": {
        "id": "5X2C9A-Vbdb9"
      },
      "execution_count": 70,
      "outputs": []
    },
    {
      "cell_type": "code",
      "source": [
        "df.to_csv('/content/distribution_cleaned.csv', index=False)"
      ],
      "metadata": {
        "id": "rFDeaDdnbdgE"
      },
      "execution_count": 71,
      "outputs": []
    },
    {
      "cell_type": "code",
      "source": [],
      "metadata": {
        "id": "1KgXBLTubdjM"
      },
      "execution_count": null,
      "outputs": []
    },
    {
      "cell_type": "code",
      "source": [
        "# Load the cleaned CSV file"
      ],
      "metadata": {
        "id": "p33NVfxBbdxE"
      },
      "execution_count": 72,
      "outputs": []
    },
    {
      "cell_type": "code",
      "source": [
        "csv_path = '/content/distribution_cleaned.csv'"
      ],
      "metadata": {
        "id": "Heg3REJjbd1y"
      },
      "execution_count": 73,
      "outputs": []
    },
    {
      "cell_type": "code",
      "source": [
        "df = pd.read_csv(csv_path)"
      ],
      "metadata": {
        "id": "MLcV7gMkbT3z"
      },
      "execution_count": 74,
      "outputs": []
    },
    {
      "cell_type": "code",
      "source": [],
      "metadata": {
        "id": "9tswDQFmbtz_"
      },
      "execution_count": null,
      "outputs": []
    },
    {
      "cell_type": "code",
      "source": [],
      "metadata": {
        "id": "oj2RPcQwbt4k"
      },
      "execution_count": null,
      "outputs": []
    },
    {
      "cell_type": "code",
      "source": [
        "# Display the first few rows of the dataset"
      ],
      "metadata": {
        "id": "CfRmedwGbt9o"
      },
      "execution_count": 75,
      "outputs": []
    },
    {
      "cell_type": "code",
      "source": [
        "print(\"Head of the dataset:\")\n",
        "print(df.head())"
      ],
      "metadata": {
        "colab": {
          "base_uri": "https://localhost:8080/"
        },
        "id": "RGvqau0dbuBv",
        "outputId": "9e3acc0d-630b-4351-972b-4dfc00f7df25"
      },
      "execution_count": 76,
      "outputs": [
        {
          "output_type": "stream",
          "name": "stdout",
          "text": [
            "Head of the dataset:\n",
            "     ID Region Description\n",
            "0  1805   East     Pacific\n",
            "1  2305  North     America\n",
            "2  2315  North     America\n",
            "3  2316  North     America\n",
            "4  2317  North     America\n"
          ]
        }
      ]
    },
    {
      "cell_type": "code",
      "source": [],
      "metadata": {
        "id": "bulLdWx3buGQ"
      },
      "execution_count": null,
      "outputs": []
    },
    {
      "cell_type": "code",
      "source": [],
      "metadata": {
        "id": "U7rzoBfwb08I"
      },
      "execution_count": null,
      "outputs": []
    },
    {
      "cell_type": "code",
      "source": [
        "# Get general information about the dataset (e.g., column data types, non-null counts)\n"
      ],
      "metadata": {
        "id": "c02vhcnjb1BA"
      },
      "execution_count": 83,
      "outputs": []
    },
    {
      "cell_type": "code",
      "source": [
        "print(\"\\nDataset Information:\")\n",
        "print(df.info())"
      ],
      "metadata": {
        "colab": {
          "base_uri": "https://localhost:8080/"
        },
        "id": "jh4ZRtY3b1RZ",
        "outputId": "5280e8ff-c2ef-4d9c-cdbe-dba99b44e2fd"
      },
      "execution_count": 84,
      "outputs": [
        {
          "output_type": "stream",
          "name": "stdout",
          "text": [
            "\n",
            "Dataset Information:\n",
            "<class 'pandas.core.frame.DataFrame'>\n",
            "RangeIndex: 282811 entries, 0 to 282810\n",
            "Data columns (total 3 columns):\n",
            " #   Column       Non-Null Count   Dtype \n",
            "---  ------       --------------   ----- \n",
            " 0   ID           282811 non-null  int64 \n",
            " 1   Region       282811 non-null  object\n",
            " 2   Description  282811 non-null  object\n",
            "dtypes: int64(1), object(2)\n",
            "memory usage: 6.5+ MB\n",
            "None\n"
          ]
        }
      ]
    },
    {
      "cell_type": "code",
      "source": [],
      "metadata": {
        "id": "Y4x8kyzJb6Ae"
      },
      "execution_count": null,
      "outputs": []
    },
    {
      "cell_type": "code",
      "source": [],
      "metadata": {
        "id": "asydwLuhb6ET"
      },
      "execution_count": null,
      "outputs": []
    },
    {
      "cell_type": "code",
      "source": [
        "# Get statistical summary of the dataset (if applicable)"
      ],
      "metadata": {
        "id": "SABs_giBb6H8"
      },
      "execution_count": 77,
      "outputs": []
    },
    {
      "cell_type": "code",
      "source": [
        "print(\"\\nDataset Description:\")\n",
        "print(df.describe())"
      ],
      "metadata": {
        "colab": {
          "base_uri": "https://localhost:8080/"
        },
        "id": "uF7LV-07b6MA",
        "outputId": "33942640-de1b-44f3-da01-56af8a69f303"
      },
      "execution_count": 78,
      "outputs": [
        {
          "output_type": "stream",
          "name": "stdout",
          "text": [
            "\n",
            "Dataset Description:\n",
            "                 ID\n",
            "count  2.828110e+05\n",
            "mean   7.240906e+05\n",
            "std    3.646744e+05\n",
            "min    1.805000e+03\n",
            "25%    5.651555e+05\n",
            "50%    7.772630e+05\n",
            "75%    1.014439e+06\n",
            "max    1.245851e+06\n"
          ]
        }
      ]
    },
    {
      "cell_type": "code",
      "source": [],
      "metadata": {
        "id": "4xej1nfnb6P1"
      },
      "execution_count": null,
      "outputs": []
    },
    {
      "cell_type": "code",
      "source": [],
      "metadata": {
        "id": "Fm-_jsx7b6T2"
      },
      "execution_count": null,
      "outputs": []
    },
    {
      "cell_type": "code",
      "source": [
        "# Check for missing values"
      ],
      "metadata": {
        "id": "AyhJqxF3b1Vr"
      },
      "execution_count": 80,
      "outputs": []
    },
    {
      "cell_type": "code",
      "source": [
        "print(\"\\nMissing Values:\")\n",
        "print(df.isnull().sum())"
      ],
      "metadata": {
        "colab": {
          "base_uri": "https://localhost:8080/"
        },
        "id": "-lUFHa5scDtd",
        "outputId": "4fa341e9-111e-41ab-91d5-04a7cf0ccdca"
      },
      "execution_count": 79,
      "outputs": [
        {
          "output_type": "stream",
          "name": "stdout",
          "text": [
            "\n",
            "Missing Values:\n",
            "ID             0\n",
            "Region         0\n",
            "Description    0\n",
            "dtype: int64\n"
          ]
        }
      ]
    },
    {
      "cell_type": "code",
      "source": [],
      "metadata": {
        "id": "PmEL93RTcDxF"
      },
      "execution_count": null,
      "outputs": []
    },
    {
      "cell_type": "code",
      "source": [],
      "metadata": {
        "id": "ek6mgvo7cD2D"
      },
      "execution_count": null,
      "outputs": []
    },
    {
      "cell_type": "code",
      "source": [
        "# Check for duplicates"
      ],
      "metadata": {
        "id": "AgbaP45EcD6Q"
      },
      "execution_count": 81,
      "outputs": []
    },
    {
      "cell_type": "code",
      "source": [
        "print(\"\\nDuplicate Rows:\")\n",
        "print(df.duplicated().sum())"
      ],
      "metadata": {
        "colab": {
          "base_uri": "https://localhost:8080/"
        },
        "id": "9R11_cOscD-J",
        "outputId": "309b115c-32c1-4e1b-aabf-e34aa365e71d"
      },
      "execution_count": 82,
      "outputs": [
        {
          "output_type": "stream",
          "name": "stdout",
          "text": [
            "\n",
            "Duplicate Rows:\n",
            "0\n"
          ]
        }
      ]
    },
    {
      "cell_type": "code",
      "source": [],
      "metadata": {
        "id": "vU-TOzz-cO2i"
      },
      "execution_count": null,
      "outputs": []
    },
    {
      "cell_type": "code",
      "source": [],
      "metadata": {
        "id": "0p4gbK9wcO8O"
      },
      "execution_count": null,
      "outputs": []
    },
    {
      "cell_type": "code",
      "source": [
        "# Encoding 'Region' and 'Description' using LabelEncoder"
      ],
      "metadata": {
        "id": "pBrCb1kWcPAM"
      },
      "execution_count": 85,
      "outputs": []
    },
    {
      "cell_type": "code",
      "source": [
        "encoder_region = LabelEncoder()"
      ],
      "metadata": {
        "id": "p_PvVA1ycPFH"
      },
      "execution_count": 86,
      "outputs": []
    },
    {
      "cell_type": "code",
      "source": [
        "encoder_description = LabelEncoder()"
      ],
      "metadata": {
        "id": "yVl_ZzSZcPT4"
      },
      "execution_count": 87,
      "outputs": []
    },
    {
      "cell_type": "code",
      "source": [],
      "metadata": {
        "id": "FyHZFd9wcPYD"
      },
      "execution_count": null,
      "outputs": []
    },
    {
      "cell_type": "code",
      "source": [],
      "metadata": {
        "id": "fump0MwkcPb_"
      },
      "execution_count": null,
      "outputs": []
    },
    {
      "cell_type": "code",
      "source": [
        "# Apply the encoding"
      ],
      "metadata": {
        "id": "Wx_iHxuvcECT"
      },
      "execution_count": 88,
      "outputs": []
    },
    {
      "cell_type": "code",
      "source": [
        "df['Region_encoded'] = encoder_region.fit_transform(df['Region'])"
      ],
      "metadata": {
        "id": "QMX4wrAQcEGc"
      },
      "execution_count": 89,
      "outputs": []
    },
    {
      "cell_type": "code",
      "source": [
        "df['Description_encoded'] = encoder_description.fit_transform(df['Description'])\n"
      ],
      "metadata": {
        "id": "6h1F0HeRcbAb"
      },
      "execution_count": 90,
      "outputs": []
    },
    {
      "cell_type": "code",
      "source": [],
      "metadata": {
        "id": "5MfY9qnqcbE8"
      },
      "execution_count": null,
      "outputs": []
    },
    {
      "cell_type": "code",
      "source": [
        "# Inspect the first few rows after encoding"
      ],
      "metadata": {
        "id": "gIMo3eejcbOM"
      },
      "execution_count": 91,
      "outputs": []
    },
    {
      "cell_type": "code",
      "source": [
        "print(\"First few rows after encoding:\")\n",
        "print(df.head())"
      ],
      "metadata": {
        "colab": {
          "base_uri": "https://localhost:8080/"
        },
        "id": "D0hZRIU0cbZa",
        "outputId": "2f2f6be8-a439-420d-e59c-3b069341d77c"
      },
      "execution_count": 92,
      "outputs": [
        {
          "output_type": "stream",
          "name": "stdout",
          "text": [
            "First few rows after encoding:\n",
            "     ID Region Description  Region_encoded  Description_encoded\n",
            "0  1805   East     Pacific               1                    3\n",
            "1  2305  North     America               4                    0\n",
            "2  2315  North     America               4                    0\n",
            "3  2316  North     America               4                    0\n",
            "4  2317  North     America               4                    0\n"
          ]
        }
      ]
    },
    {
      "cell_type": "code",
      "source": [],
      "metadata": {
        "id": "HTLqbv4Ucl2W"
      },
      "execution_count": null,
      "outputs": []
    },
    {
      "cell_type": "code",
      "source": [],
      "metadata": {
        "id": "i7u3S3N8cl7e"
      },
      "execution_count": null,
      "outputs": []
    },
    {
      "cell_type": "code",
      "source": [
        "# Optional: Save the preprocessed data to a new CSV file"
      ],
      "metadata": {
        "id": "cknWJ6ibcmE5"
      },
      "execution_count": 93,
      "outputs": []
    },
    {
      "cell_type": "code",
      "source": [
        "df.to_csv('/content/distribution_encoded.csv', index=False)"
      ],
      "metadata": {
        "id": "dPtjkGidcmO6"
      },
      "execution_count": 94,
      "outputs": []
    },
    {
      "cell_type": "code",
      "source": [],
      "metadata": {
        "id": "LhmKcBykcmZe"
      },
      "execution_count": null,
      "outputs": []
    },
    {
      "cell_type": "code",
      "source": [],
      "metadata": {
        "id": "bhUgZ2J8pPVv"
      },
      "execution_count": null,
      "outputs": []
    },
    {
      "cell_type": "code",
      "source": [],
      "metadata": {
        "id": "sksE-jlYpPnO"
      },
      "execution_count": null,
      "outputs": []
    },
    {
      "cell_type": "markdown",
      "source": [
        "# 🗺️ **Map Visualization Using Folium** 🗺️\n",
        "\n",
        "In this step, we create an interactive map to visualize the spatial distribution of habitat suitability.\n",
        "\n",
        "1. **Initialize the Map**:\n",
        "   - Use **Folium** to create a map centered around a central geographic location (e.g., the average coordinates of the regions).\n",
        "   \n",
        "2. **Plotting Points**:\n",
        "   - For each region in the dataset, plot a point on the map based on its **latitude** and **longitude**.\n",
        "   \n",
        "3. **Marker Clustering**:\n",
        "   - To group regions with similar characteristics, use **Marker Cluster** to make the map easier to interpret and prevent clutter.\n",
        "   \n",
        "4. **Customization**:\n",
        "   - Customize the map with pop-ups and tooltips to display additional information when a user clicks on a marker (e.g., region details and suitability score)."
      ],
      "metadata": {
        "id": "FSw4PpZlpP7T"
      }
    },
    {
      "cell_type": "code",
      "source": [
        "# Load dataset for map visualization"
      ],
      "metadata": {
        "id": "8cg3JTA1cmd5"
      },
      "execution_count": 95,
      "outputs": []
    },
    {
      "cell_type": "code",
      "source": [
        "df = pd.read_csv('/content/distribution_cleaned.csv')"
      ],
      "metadata": {
        "id": "5FGtA8SGcm8J"
      },
      "execution_count": 96,
      "outputs": []
    },
    {
      "cell_type": "code",
      "source": [],
      "metadata": {
        "id": "L05ClKxlcvzP"
      },
      "execution_count": null,
      "outputs": []
    },
    {
      "cell_type": "code",
      "source": [
        "# Example coordinates (You'll need actual lat/long in your dataset)"
      ],
      "metadata": {
        "id": "givXE7mScv2Q"
      },
      "execution_count": 97,
      "outputs": []
    },
    {
      "cell_type": "code",
      "source": [
        "region_coords = {\n",
        "    'East': [34.0522, -118.2437],  # Example coordinates (latitude, longitude)\n",
        "    'North': [40.7128, -74.0060],\n",
        "    'South': [-33.8688, 151.2093],\n",
        "    # Add more regions and their coordinates here\n",
        "}"
      ],
      "metadata": {
        "id": "vAqZzuCQcv5X"
      },
      "execution_count": 98,
      "outputs": []
    },
    {
      "cell_type": "code",
      "source": [],
      "metadata": {
        "id": "O23P8G4ec4iR"
      },
      "execution_count": null,
      "outputs": []
    },
    {
      "cell_type": "code",
      "source": [
        "# Sample a subset of data (e.g., 100 rows)"
      ],
      "metadata": {
        "id": "0d11fdEic4nE"
      },
      "execution_count": 99,
      "outputs": []
    },
    {
      "cell_type": "code",
      "source": [
        "sample_df = df.sample(n=100)"
      ],
      "metadata": {
        "id": "q5PnSMf_c4sP"
      },
      "execution_count": 100,
      "outputs": []
    },
    {
      "cell_type": "code",
      "source": [],
      "metadata": {
        "id": "aOpKXChbc4xS"
      },
      "execution_count": null,
      "outputs": []
    },
    {
      "cell_type": "code",
      "source": [
        "for idx, row in sample_df.iterrows():\n",
        "    region = row['Region']\n",
        "    if region in region_coords:\n",
        "        folium.CircleMarker(\n",
        "            location=region_coords[region],\n",
        "            radius=5,\n",
        "            color='blue',\n",
        "            fill=True,\n",
        "            fill_color='blue',\n",
        "            fill_opacity=0.6,\n",
        "            popup=f\"ID: {row['ID']}<br>Region: {row['Region']}\"\n",
        "        ).add_to(m)"
      ],
      "metadata": {
        "id": "UURz2NW5cwAk"
      },
      "execution_count": 101,
      "outputs": []
    },
    {
      "cell_type": "code",
      "source": [],
      "metadata": {
        "id": "_qX9lRredG9v"
      },
      "execution_count": null,
      "outputs": []
    },
    {
      "cell_type": "code",
      "source": [
        "# Create a folium map with MarkerCluster"
      ],
      "metadata": {
        "id": "MAmWAePRdHCi"
      },
      "execution_count": 102,
      "outputs": []
    },
    {
      "cell_type": "code",
      "source": [
        "m = folium.Map(location=[20.0, 0.0], zoom_start=2)"
      ],
      "metadata": {
        "id": "Dtgue6v6dHHx"
      },
      "execution_count": 103,
      "outputs": []
    },
    {
      "cell_type": "code",
      "source": [
        "marker_cluster = MarkerCluster().add_to(m)"
      ],
      "metadata": {
        "id": "ZlxWcMyCdHLs"
      },
      "execution_count": 104,
      "outputs": []
    },
    {
      "cell_type": "code",
      "source": [],
      "metadata": {
        "id": "TWH9lkR-dHP3"
      },
      "execution_count": null,
      "outputs": []
    },
    {
      "cell_type": "code",
      "source": [
        "# Add markers to the cluster"
      ],
      "metadata": {
        "id": "rZWP1u5PdHYO"
      },
      "execution_count": 105,
      "outputs": []
    },
    {
      "cell_type": "code",
      "source": [
        "for idx, row in df.iterrows():\n",
        "    region = row['Region']\n",
        "    if region in region_coords:\n",
        "        folium.CircleMarker(\n",
        "            location=region_coords[region],\n",
        "            radius=5,\n",
        "            color='blue',\n",
        "            fill=True,\n",
        "            fill_color='blue',\n",
        "            fill_opacity=0.6,\n",
        "            popup=f\"ID: {row['ID']}<br>Region: {row['Region']}\"\n",
        "        ).add_to(marker_cluster)"
      ],
      "metadata": {
        "id": "6b-Iq-L3dHfg"
      },
      "execution_count": 106,
      "outputs": []
    },
    {
      "cell_type": "code",
      "source": [],
      "metadata": {
        "id": "1TsH7aC6dHlK"
      },
      "execution_count": null,
      "outputs": []
    },
    {
      "cell_type": "code",
      "source": [
        "# Save to HTML"
      ],
      "metadata": {
        "id": "Z6C6J-YLcwF_"
      },
      "execution_count": 107,
      "outputs": []
    },
    {
      "cell_type": "code",
      "source": [
        "m.save(\"/content/habitat_suitability_map_clustered.html\")"
      ],
      "metadata": {
        "id": "Q8uwXtH9cnAa"
      },
      "execution_count": 108,
      "outputs": []
    },
    {
      "cell_type": "code",
      "source": [],
      "metadata": {
        "id": "5V2I1I4qdeT1"
      },
      "execution_count": null,
      "outputs": []
    },
    {
      "cell_type": "code",
      "source": [],
      "metadata": {
        "id": "p3SPCakkh7jr"
      },
      "execution_count": null,
      "outputs": []
    },
    {
      "cell_type": "code",
      "source": [],
      "metadata": {
        "id": "zgq4GsNrdeYm"
      },
      "execution_count": null,
      "outputs": []
    },
    {
      "cell_type": "markdown",
      "source": [
        "# 🔍 **Data Analysis and Correlation** 🔍\n",
        "\n",
        "In this step, we perform an in-depth analysis of the dataset, focusing on the relationship between features and the habitat suitability.\n",
        "\n",
        "1. **Correlation Analysis**:\n",
        "   - Calculate the correlation between different environmental factors (e.g., **elevation**, **precipitation**) and habitat suitability.\n",
        "   \n",
        "2. **Correlation Matrix**:\n",
        "   - Use **Pandas** to create a correlation matrix and visualize it with a **heatmap** using **Seaborn**.\n",
        "   - This helps in understanding which features are most strongly related to habitat suitability and should be given more weight in the model.\n",
        "   \n",
        "3. **Visualize the Data**:\n",
        "   - Create plots to show how different features influence the suitability of habitats.\n",
        "   - Use **scatter plots** or **line graphs** to visualize the relationship between key features and target variables."
      ],
      "metadata": {
        "id": "pDwPwJDzpXS1"
      }
    },
    {
      "cell_type": "code",
      "source": [
        "# Select only numeric columns for correlation analysis"
      ],
      "metadata": {
        "id": "uxWNlKD-deeS"
      },
      "execution_count": 109,
      "outputs": []
    },
    {
      "cell_type": "code",
      "source": [
        "numeric_cols = df.select_dtypes(include=['number']).columns"
      ],
      "metadata": {
        "id": "G5N28Rr-dej8"
      },
      "execution_count": 110,
      "outputs": []
    },
    {
      "cell_type": "code",
      "source": [
        "corr_matrix = df[numeric_cols].corr()"
      ],
      "metadata": {
        "id": "7kq8KBHIdeng"
      },
      "execution_count": 111,
      "outputs": []
    },
    {
      "cell_type": "code",
      "source": [
        "print(\"Correlation Matrix:\")\n",
        "print(corr_matrix)"
      ],
      "metadata": {
        "colab": {
          "base_uri": "https://localhost:8080/"
        },
        "id": "-8iCHdZ6desS",
        "outputId": "04e0253a-3816-462e-e53c-52df8ec33b31"
      },
      "execution_count": 112,
      "outputs": [
        {
          "output_type": "stream",
          "name": "stdout",
          "text": [
            "Correlation Matrix:\n",
            "     ID\n",
            "ID  1.0\n"
          ]
        }
      ]
    },
    {
      "cell_type": "code",
      "source": [],
      "metadata": {
        "id": "OMzaM38XkU00"
      },
      "execution_count": null,
      "outputs": []
    },
    {
      "cell_type": "code",
      "source": [],
      "metadata": {
        "id": "5kYFttVbkdap"
      },
      "execution_count": null,
      "outputs": []
    },
    {
      "cell_type": "code",
      "source": [
        "# Plot histograms for each feature"
      ],
      "metadata": {
        "id": "O6DGPDhEkdiE"
      },
      "execution_count": 153,
      "outputs": []
    },
    {
      "cell_type": "code",
      "source": [
        "features = ['Region_encoded']  # Use actual feature names from your dataset\n"
      ],
      "metadata": {
        "id": "3sTqYfjyke9j"
      },
      "execution_count": 154,
      "outputs": []
    },
    {
      "cell_type": "code",
      "source": [
        "plt.figure(figsize=(12, 8))\n",
        "for i, feature in enumerate(features):\n",
        "    plt.subplot(2, 2, i + 1)\n",
        "    df[feature].hist(bins=30, color='skyblue', edgecolor='black')\n",
        "    plt.title(f'Distribution of {feature}')\n",
        "    plt.xlabel(feature)\n",
        "    plt.ylabel('Frequency')\n",
        "\n",
        "plt.tight_layout()\n",
        "plt.show()"
      ],
      "metadata": {
        "colab": {
          "base_uri": "https://localhost:8080/",
          "height": 440
        },
        "id": "nQ2v74fjkhyH",
        "outputId": "5ebd9d04-e0bd-481d-c1af-8af48739c557"
      },
      "execution_count": 155,
      "outputs": [
        {
          "output_type": "display_data",
          "data": {
            "text/plain": [
              "<Figure size 1200x800 with 1 Axes>"
            ],
            "image/png": "[encoded data removed]"
          },
          "metadata": {}
        }
      ]
    },
    {
      "cell_type": "code",
      "source": [],
      "metadata": {
        "id": "M51ZkUfDkX03"
      },
      "execution_count": 155,
      "outputs": []
    },
    {
      "cell_type": "code",
      "source": [],
      "metadata": {
        "id": "faCRvYAfkVAB"
      },
      "execution_count": null,
      "outputs": []
    },
    {
      "cell_type": "code",
      "source": [
        "# Plotting the correlation heatmap"
      ],
      "metadata": {
        "id": "NLFCf2FGhkP4"
      },
      "execution_count": 113,
      "outputs": []
    },
    {
      "cell_type": "code",
      "source": [
        "plt.figure(figsize=(10, 8))\n",
        "sns.heatmap(corr_matrix, annot=True, cmap='coolwarm', fmt='.2f')\n",
        "plt.title('Correlation Heatmap')\n",
        "plt.show()"
      ],
      "metadata": {
        "colab": {
          "base_uri": "https://localhost:8080/",
          "height": 565
        },
        "id": "4fkUpQXdhhlx",
        "outputId": "17f77daf-0dee-415a-88d7-e07b9bc6880c"
      },
      "execution_count": 156,
      "outputs": [
        {
          "output_type": "display_data",
          "data": {
            "text/plain": [
              "<Figure size 1000x800 with 2 Axes>"
            ],
            "image/png": "[encoded data removed]"
          },
          "metadata": {}
        }
      ]
    },
    {
      "cell_type": "code",
      "source": [],
      "metadata": {
        "id": "kIt_zzS3drOK"
      },
      "execution_count": null,
      "outputs": []
    },
    {
      "cell_type": "code",
      "source": [],
      "metadata": {
        "id": "3FKY1bPudrTY"
      },
      "execution_count": null,
      "outputs": []
    },
    {
      "cell_type": "code",
      "source": [],
      "metadata": {
        "id": "33Ssc2gtdrl1"
      },
      "execution_count": null,
      "outputs": []
    },
    {
      "cell_type": "code",
      "source": [
        "# Encode the 'Region' column"
      ],
      "metadata": {
        "id": "D7ZHw3cPdexC"
      },
      "execution_count": 119,
      "outputs": []
    },
    {
      "cell_type": "code",
      "source": [
        "label_encoder = LabelEncoder()"
      ],
      "metadata": {
        "id": "YM5cWn8nde2h"
      },
      "execution_count": 120,
      "outputs": []
    },
    {
      "cell_type": "code",
      "source": [
        "df['Region_encoded'] = label_encoder.fit_transform(df['Region'])"
      ],
      "metadata": {
        "id": "lSCfQxKicnHQ"
      },
      "execution_count": 121,
      "outputs": []
    },
    {
      "cell_type": "code",
      "source": [],
      "metadata": {
        "id": "xjxXS0jsd5HV"
      },
      "execution_count": null,
      "outputs": []
    },
    {
      "cell_type": "code",
      "source": [],
      "metadata": {
        "id": "SQ3k1hL9d5M7"
      },
      "execution_count": null,
      "outputs": []
    },
    {
      "cell_type": "code",
      "source": [
        "# Insight 1: Regional Suitability"
      ],
      "metadata": {
        "id": "nk77NTuhd5Vk"
      },
      "execution_count": 122,
      "outputs": []
    },
    {
      "cell_type": "code",
      "source": [
        "avg_suitability = df.groupby('Region')['Region_encoded'].mean()"
      ],
      "metadata": {
        "id": "BVSc0Qr7d5eD"
      },
      "execution_count": 123,
      "outputs": []
    },
    {
      "cell_type": "code",
      "source": [
        "avg_suitability = avg_suitability.sort_values(ascending=False)"
      ],
      "metadata": {
        "id": "OvB1TxzKd5id"
      },
      "execution_count": 124,
      "outputs": []
    },
    {
      "cell_type": "code",
      "source": [
        "print(\"Regional Suitability Ranking:\")\n",
        "print(avg_suitability)"
      ],
      "metadata": {
        "colab": {
          "base_uri": "https://localhost:8080/"
        },
        "id": "AfS2s26Qd5nK",
        "outputId": "7e2e1f99-9a01-4a11-d26c-e0ff717fa270"
      },
      "execution_count": 125,
      "outputs": [
        {
          "output_type": "stream",
          "name": "stdout",
          "text": [
            "Regional Suitability Ranking:\n",
            "Region\n",
            "Southern               6.0\n",
            "South                  5.0\n",
            "North                  4.0\n",
            "Middle                 3.0\n",
            "Indo-West              2.0\n",
            "East                   1.0\n",
            "Antarctica/Southern    0.0\n",
            "Name: Region_encoded, dtype: float64\n"
          ]
        }
      ]
    },
    {
      "cell_type": "code",
      "source": [],
      "metadata": {
        "id": "LmZH6aateEkR"
      },
      "execution_count": null,
      "outputs": []
    },
    {
      "cell_type": "code",
      "source": [],
      "metadata": {
        "id": "8hYcwNdzeEqD"
      },
      "execution_count": null,
      "outputs": []
    },
    {
      "cell_type": "code",
      "source": [
        "# Feature importance from a trained model (example with RandomForest)"
      ],
      "metadata": {
        "id": "zEz1DPVceEwM"
      },
      "execution_count": 126,
      "outputs": []
    },
    {
      "cell_type": "code",
      "source": [
        "importances = model.feature_importances_"
      ],
      "metadata": {
        "id": "p84Bui3meE2I"
      },
      "execution_count": 127,
      "outputs": []
    },
    {
      "cell_type": "code",
      "source": [],
      "metadata": {
        "id": "t7_gNQLXeFPa"
      },
      "execution_count": null,
      "outputs": []
    },
    {
      "cell_type": "code",
      "source": [
        "# Plotting feature importance"
      ],
      "metadata": {
        "id": "LhidkSLaeFU6"
      },
      "execution_count": 128,
      "outputs": []
    },
    {
      "cell_type": "code",
      "source": [
        "features = ['Elevation', 'Precipitation', 'Vegetation Index']  # Update based on actual feature names\n",
        "plt.barh(features, importances)\n",
        "plt.xlabel('Importance')\n",
        "plt.title('Feature Importance')\n",
        "plt.show()"
      ],
      "metadata": {
        "colab": {
          "base_uri": "https://localhost:8080/",
          "height": 461
        },
        "id": "UzGFF1qneO7o",
        "outputId": "05954d17-e44e-44de-bd9e-0f58187260e0"
      },
      "execution_count": 129,
      "outputs": [
        {
          "output_type": "display_data",
          "data": {
            "text/plain": [
              "<Figure size 640x480 with 1 Axes>"
            ],
            "image/png": "[encoded data removed]"
          },
          "metadata": {}
        }
      ]
    },
    {
      "cell_type": "code",
      "source": [],
      "metadata": {
        "id": "c--zI-FgePCV"
      },
      "execution_count": null,
      "outputs": []
    },
    {
      "cell_type": "code",
      "source": [],
      "metadata": {
        "id": "oRwzTrmkePHl"
      },
      "execution_count": null,
      "outputs": []
    },
    {
      "cell_type": "code",
      "source": [],
      "metadata": {
        "id": "2jmuEZD-i9sF"
      },
      "execution_count": null,
      "outputs": []
    },
    {
      "cell_type": "markdown",
      "source": [
        "# ⚖️ **Balancing the Dataset with SMOTE** ⚖️\n",
        "\n",
        "In this step, we address the issue of imbalanced classes using the **SMOTE** technique.\n",
        "\n",
        "1. **Understanding SMOTE**:\n",
        "   - **SMOTE** (Synthetic Minority Over-sampling Technique) generates synthetic examples for the underrepresented classes in the dataset.\n",
        "   \n",
        "2. **Apply SMOTE**:\n",
        "   - Using **imblearn's SMOTE** implementation, apply this technique to balance the classes.\n",
        "   - This helps the model to not be biased toward the majority class and improves overall performance.\n",
        "   \n",
        "3. **Impact of Balancing**:\n",
        "   - Evaluate how the class balance affects the distribution of data and performance of the model."
      ],
      "metadata": {
        "id": "e2OpLXqjpdzE"
      }
    },
    {
      "cell_type": "code",
      "source": [
        "# SMOTE for balancing dataset and training with Maxent (Logistic Regression)\n"
      ],
      "metadata": {
        "id": "7caCsA3dePZs"
      },
      "execution_count": 130,
      "outputs": []
    },
    {
      "cell_type": "code",
      "source": [
        "smote = SMOTE(random_state=42)"
      ],
      "metadata": {
        "id": "xrwdD4SVePma"
      },
      "execution_count": 131,
      "outputs": []
    },
    {
      "cell_type": "code",
      "source": [
        "X_train_smote, y_train_smote = smote.fit_resample(X_train, y_train)"
      ],
      "metadata": {
        "id": "QqxLA4FWePvI"
      },
      "execution_count": 132,
      "outputs": []
    },
    {
      "cell_type": "code",
      "source": [],
      "metadata": {
        "id": "ujWVfgzbeP3u"
      },
      "execution_count": null,
      "outputs": []
    },
    {
      "cell_type": "code",
      "source": [],
      "metadata": {
        "id": "l00PdSffd5r3"
      },
      "execution_count": null,
      "outputs": []
    },
    {
      "cell_type": "code",
      "source": [
        "# Check class distribution after SMOTE"
      ],
      "metadata": {
        "id": "_rBpCKgWcbes"
      },
      "execution_count": 133,
      "outputs": []
    },
    {
      "cell_type": "code",
      "source": [
        "print(\"Class distribution after SMOTE:\")\n",
        "print(pd.Series(y_train_smote).value_counts())"
      ],
      "metadata": {
        "colab": {
          "base_uri": "https://localhost:8080/"
        },
        "id": "kZCCyVQLcELj",
        "outputId": "6adf4478-338a-45c5-a8fc-5135b40ef797"
      },
      "execution_count": 134,
      "outputs": [
        {
          "output_type": "stream",
          "name": "stdout",
          "text": [
            "Class distribution after SMOTE:\n",
            "Region_encoded\n",
            "5    85858\n",
            "3    85858\n",
            "4    85858\n",
            "6    85858\n",
            "2    85858\n",
            "1    85858\n",
            "0    85858\n",
            "Name: count, dtype: int64\n"
          ]
        }
      ]
    },
    {
      "cell_type": "code",
      "source": [],
      "metadata": {
        "id": "DeHrcdsWeem7"
      },
      "execution_count": null,
      "outputs": []
    },
    {
      "cell_type": "code",
      "source": [],
      "metadata": {
        "id": "Yxlykz5ieet2"
      },
      "execution_count": null,
      "outputs": []
    },
    {
      "cell_type": "code",
      "source": [],
      "metadata": {
        "id": "qO0VHm1EprYk"
      },
      "execution_count": null,
      "outputs": []
    },
    {
      "cell_type": "markdown",
      "source": [
        "# 🧠 **Model Training and Evaluation** 🧠\n",
        "\n",
        "In this step, we train a machine learning model to predict habitat suitability using the preprocessed data.\n",
        "\n",
        "1. **Choosing the Model**:\n",
        "   - We use **Logistic Regression** for this project, which works well for classification tasks similar to habitat suitability prediction (similar to the **Maxent** model).\n",
        "   \n",
        "2. **Model Training**:\n",
        "   - Split the data into **training** and **test** sets.\n",
        "   - Train the **Logistic Regression** model on the training data.\n",
        "\n",
        "3. **Model Evaluation**:\n",
        "   - After training, evaluate the model's performance using various metrics like **accuracy**, **precision**, **recall**, and **F1-score**.\n",
        "   - Use **classification reports** from Scikit-learn to summarize the performance of the model."
      ],
      "metadata": {
        "id": "U2dgpaoeprpX"
      }
    },
    {
      "cell_type": "code",
      "source": [
        "# Train the Maxent (Logistic Regression) model on the balanced dataset"
      ],
      "metadata": {
        "id": "T0yZcRjJeez4"
      },
      "execution_count": 135,
      "outputs": []
    },
    {
      "cell_type": "code",
      "source": [
        "maxent_smote = LogisticRegression(multi_class='multinomial', solver='lbfgs', max_iter=1000, random_state=42)\n"
      ],
      "metadata": {
        "id": "noCW--gQee49"
      },
      "execution_count": 136,
      "outputs": []
    },
    {
      "cell_type": "code",
      "source": [
        "maxent_smote.fit(X_train_smote, y_train_smote)"
      ],
      "metadata": {
        "colab": {
          "base_uri": "https://localhost:8080/",
          "height": 80
        },
        "id": "vupyI6SWee_Q",
        "outputId": "99d49e5b-af57-46e4-9a3c-38a868fe95d8"
      },
      "execution_count": 137,
      "outputs": [
        {
          "output_type": "execute_result",
          "data": {
            "text/plain": [
              "LogisticRegression(max_iter=1000, multi_class='multinomial', random_state=42)"
            ],
            "text/html": [
              "<style>#sk-container-id-1 {\n",
              "  /* Definition of color scheme common for light and dark mode */\n",
              "  --sklearn-color-text: #000;\n",
              "  --sklearn-color-text-muted: #666;\n",
              "  --sklearn-color-line: gray;\n",
              "  /* Definition of color scheme for unfitted estimators */\n",
              "  --sklearn-color-unfitted-level-0: #fff5e6;\n",
              "  --sklearn-color-unfitted-level-1: #f6e4d2;\n",
              "  --sklearn-color-unfitted-level-2: #ffe0b3;\n",
              "  --sklearn-color-unfitted-level-3: chocolate;\n",
              "  /* Definition of color scheme for fitted estimators */\n",
              "  --sklearn-color-fitted-level-0: #f0f8ff;\n",
              "  --sklearn-color-fitted-level-1: #d4ebff;\n",
              "  --sklearn-color-fitted-level-2: #b3dbfd;\n",
              "  --sklearn-color-fitted-level-3: cornflowerblue;\n",
              "\n",
              "  /* Specific color for light theme */\n",
              "  --sklearn-color-text-on-default-background: var(--sg-text-color, var(--theme-code-foreground, var(--jp-content-font-color1, black)));\n",
              "  --sklearn-color-background: var(--sg-background-color, var(--theme-background, var(--jp-layout-color0, white)));\n",
              "  --sklearn-color-border-box: var(--sg-text-color, var(--theme-code-foreground, var(--jp-content-font-color1, black)));\n",
              "  --sklearn-color-icon: #696969;\n",
              "\n",
              "  @media (prefers-color-scheme: dark) {\n",
              "    /* Redefinition of color scheme for dark theme */\n",
              "    --sklearn-color-text-on-default-background: var(--sg-text-color, var(--theme-code-foreground, var(--jp-content-font-color1, white)));\n",
              "    --sklearn-color-background: var(--sg-background-color, var(--theme-background, var(--jp-layout-color0, #111)));\n",
              "    --sklearn-color-border-box: var(--sg-text-color, var(--theme-code-foreground, var(--jp-content-font-color1, white)));\n",
              "    --sklearn-color-icon: #878787;\n",
              "  }\n",
              "}\n",
              "\n",
              "#sk-container-id-1 {\n",
              "  color: var(--sklearn-color-text);\n",
              "}\n",
              "\n",
              "#sk-container-id-1 pre {\n",
              "  padding: 0;\n",
              "}\n",
              "\n",
              "#sk-container-id-1 input.sk-hidden--visually {\n",
              "  border: 0;\n",
              "  clip: rect(1px 1px 1px 1px);\n",
              "  clip: rect(1px, 1px, 1px, 1px);\n",
              "  height: 1px;\n",
              "  margin: -1px;\n",
              "  overflow: hidden;\n",
              "  padding: 0;\n",
              "  position: absolute;\n",
              "  width: 1px;\n",
              "}\n",
              "\n",
              "#sk-container-id-1 div.sk-dashed-wrapped {\n",
              "  border: 1px dashed var(--sklearn-color-line);\n",
              "  margin: 0 0.4em 0.5em 0.4em;\n",
              "  box-sizing: border-box;\n",
              "  padding-bottom: 0.4em;\n",
              "  background-color: var(--sklearn-color-background);\n",
              "}\n",
              "\n",
              "#sk-container-id-1 div.sk-container {\n",
              "  /* jupyter's `normalize.less` sets `[hidden] { display: none; }`\n",
              "     but bootstrap.min.css set `[hidden] { display: none !important; }`\n",
              "     so we also need the `!important` here to be able to override the\n",
              "     default hidden behavior on the sphinx rendered scikit-learn.org.\n",
              "     See: https://github.com/scikit-learn/scikit-learn/issues/21755 */\n",
              "  display: inline-block !important;\n",
              "  position: relative;\n",
              "}\n",
              "\n",
              "#sk-container-id-1 div.sk-text-repr-fallback {\n",
              "  display: none;\n",
              "}\n",
              "\n",
              "div.sk-parallel-item,\n",
              "div.sk-serial,\n",
              "div.sk-item {\n",
              "  /* draw centered vertical line to link estimators */\n",
              "  background-image: linear-gradient(var(--sklearn-color-text-on-default-background), var(--sklearn-color-text-on-default-background));\n",
              "  background-size: 2px 100%;\n",
              "  background-repeat: no-repeat;\n",
              "  background-position: center center;\n",
              "}\n",
              "\n",
              "/* Parallel-specific style estimator block */\n",
              "\n",
              "#sk-container-id-1 div.sk-parallel-item::after {\n",
              "  content: \"\";\n",
              "  width: 100%;\n",
              "  border-bottom: 2px solid var(--sklearn-color-text-on-default-background);\n",
              "  flex-grow: 1;\n",
              "}\n",
              "\n",
              "#sk-container-id-1 div.sk-parallel {\n",
              "  display: flex;\n",
              "  align-items: stretch;\n",
              "  justify-content: center;\n",
              "  background-color: var(--sklearn-color-background);\n",
              "  position: relative;\n",
              "}\n",
              "\n",
              "#sk-container-id-1 div.sk-parallel-item {\n",
              "  display: flex;\n",
              "  flex-direction: column;\n",
              "}\n",
              "\n",
              "#sk-container-id-1 div.sk-parallel-item:first-child::after {\n",
              "  align-self: flex-end;\n",
              "  width: 50%;\n",
              "}\n",
              "\n",
              "#sk-container-id-1 div.sk-parallel-item:last-child::after {\n",
              "  align-self: flex-start;\n",
              "  width: 50%;\n",
              "}\n",
              "\n",
              "#sk-container-id-1 div.sk-parallel-item:only-child::after {\n",
              "  width: 0;\n",
              "}\n",
              "\n",
              "/* Serial-specific style estimator block */\n",
              "\n",
              "#sk-container-id-1 div.sk-serial {\n",
              "  display: flex;\n",
              "  flex-direction: column;\n",
              "  align-items: center;\n",
              "  background-color: var(--sklearn-color-background);\n",
              "  padding-right: 1em;\n",
              "  padding-left: 1em;\n",
              "}\n",
              "\n",
              "\n",
              "/* Toggleable style: style used for estimator/Pipeline/ColumnTransformer box that is\n",
              "clickable and can be expanded/collapsed.\n",
              "- Pipeline and ColumnTransformer use this feature and define the default style\n",
              "- Estimators will overwrite some part of the style using the `sk-estimator` class\n",
              "*/\n",
              "\n",
              "/* Pipeline and ColumnTransformer style (default) */\n",
              "\n",
              "#sk-container-id-1 div.sk-toggleable {\n",
              "  /* Default theme specific background. It is overwritten whether we have a\n",
              "  specific estimator or a Pipeline/ColumnTransformer */\n",
              "  background-color: var(--sklearn-color-background);\n",
              "}\n",
              "\n",
              "/* Toggleable label */\n",
              "#sk-container-id-1 label.sk-toggleable__label {\n",
              "  cursor: pointer;\n",
              "  display: flex;\n",
              "  width: 100%;\n",
              "  margin-bottom: 0;\n",
              "  padding: 0.5em;\n",
              "  box-sizing: border-box;\n",
              "  text-align: center;\n",
              "  align-items: start;\n",
              "  justify-content: space-between;\n",
              "  gap: 0.5em;\n",
              "}\n",
              "\n",
              "#sk-container-id-1 label.sk-toggleable__label .caption {\n",
              "  font-size: 0.6rem;\n",
              "  font-weight: lighter;\n",
              "  color: var(--sklearn-color-text-muted);\n",
              "}\n",
              "\n",
              "#sk-container-id-1 label.sk-toggleable__label-arrow:before {\n",
              "  /* Arrow on the left of the label */\n",
              "  content: \"▸\";\n",
              "  float: left;\n",
              "  margin-right: 0.25em;\n",
              "  color: var(--sklearn-color-icon);\n",
              "}\n",
              "\n",
              "#sk-container-id-1 label.sk-toggleable__label-arrow:hover:before {\n",
              "  color: var(--sklearn-color-text);\n",
              "}\n",
              "\n",
              "/* Toggleable content - dropdown */\n",
              "\n",
              "#sk-container-id-1 div.sk-toggleable__content {\n",
              "  max-height: 0;\n",
              "  max-width: 0;\n",
              "  overflow: hidden;\n",
              "  text-align: left;\n",
              "  /* unfitted */\n",
              "  background-color: var(--sklearn-color-unfitted-level-0);\n",
              "}\n",
              "\n",
              "#sk-container-id-1 div.sk-toggleable__content.fitted {\n",
              "  /* fitted */\n",
              "  background-color: var(--sklearn-color-fitted-level-0);\n",
              "}\n",
              "\n",
              "#sk-container-id-1 div.sk-toggleable__content pre {\n",
              "  margin: 0.2em;\n",
              "  border-radius: 0.25em;\n",
              "  color: var(--sklearn-color-text);\n",
              "  /* unfitted */\n",
              "  background-color: var(--sklearn-color-unfitted-level-0);\n",
              "}\n",
              "\n",
              "#sk-container-id-1 div.sk-toggleable__content.fitted pre {\n",
              "  /* unfitted */\n",
              "  background-color: var(--sklearn-color-fitted-level-0);\n",
              "}\n",
              "\n",
              "#sk-container-id-1 input.sk-toggleable__control:checked~div.sk-toggleable__content {\n",
              "  /* Expand drop-down */\n",
              "  max-height: 200px;\n",
              "  max-width: 100%;\n",
              "  overflow: auto;\n",
              "}\n",
              "\n",
              "#sk-container-id-1 input.sk-toggleable__control:checked~label.sk-toggleable__label-arrow:before {\n",
              "  content: \"▾\";\n",
              "}\n",
              "\n",
              "/* Pipeline/ColumnTransformer-specific style */\n",
              "\n",
              "#sk-container-id-1 div.sk-label input.sk-toggleable__control:checked~label.sk-toggleable__label {\n",
              "  color: var(--sklearn-color-text);\n",
              "  background-color: var(--sklearn-color-unfitted-level-2);\n",
              "}\n",
              "\n",
              "#sk-container-id-1 div.sk-label.fitted input.sk-toggleable__control:checked~label.sk-toggleable__label {\n",
              "  background-color: var(--sklearn-color-fitted-level-2);\n",
              "}\n",
              "\n",
              "/* Estimator-specific style */\n",
              "\n",
              "/* Colorize estimator box */\n",
              "#sk-container-id-1 div.sk-estimator input.sk-toggleable__control:checked~label.sk-toggleable__label {\n",
              "  /* unfitted */\n",
              "  background-color: var(--sklearn-color-unfitted-level-2);\n",
              "}\n",
              "\n",
              "#sk-container-id-1 div.sk-estimator.fitted input.sk-toggleable__control:checked~label.sk-toggleable__label {\n",
              "  /* fitted */\n",
              "  background-color: var(--sklearn-color-fitted-level-2);\n",
              "}\n",
              "\n",
              "#sk-container-id-1 div.sk-label label.sk-toggleable__label,\n",
              "#sk-container-id-1 div.sk-label label {\n",
              "  /* The background is the default theme color */\n",
              "  color: var(--sklearn-color-text-on-default-background);\n",
              "}\n",
              "\n",
              "/* On hover, darken the color of the background */\n",
              "#sk-container-id-1 div.sk-label:hover label.sk-toggleable__label {\n",
              "  color: var(--sklearn-color-text);\n",
              "  background-color: var(--sklearn-color-unfitted-level-2);\n",
              "}\n",
              "\n",
              "/* Label box, darken color on hover, fitted */\n",
              "#sk-container-id-1 div.sk-label.fitted:hover label.sk-toggleable__label.fitted {\n",
              "  color: var(--sklearn-color-text);\n",
              "  background-color: var(--sklearn-color-fitted-level-2);\n",
              "}\n",
              "\n",
              "/* Estimator label */\n",
              "\n",
              "#sk-container-id-1 div.sk-label label {\n",
              "  font-family: monospace;\n",
              "  font-weight: bold;\n",
              "  display: inline-block;\n",
              "  line-height: 1.2em;\n",
              "}\n",
              "\n",
              "#sk-container-id-1 div.sk-label-container {\n",
              "  text-align: center;\n",
              "}\n",
              "\n",
              "/* Estimator-specific */\n",
              "#sk-container-id-1 div.sk-estimator {\n",
              "  font-family: monospace;\n",
              "  border: 1px dotted var(--sklearn-color-border-box);\n",
              "  border-radius: 0.25em;\n",
              "  box-sizing: border-box;\n",
              "  margin-bottom: 0.5em;\n",
              "  /* unfitted */\n",
              "  background-color: var(--sklearn-color-unfitted-level-0);\n",
              "}\n",
              "\n",
              "#sk-container-id-1 div.sk-estimator.fitted {\n",
              "  /* fitted */\n",
              "  background-color: var(--sklearn-color-fitted-level-0);\n",
              "}\n",
              "\n",
              "/* on hover */\n",
              "#sk-container-id-1 div.sk-estimator:hover {\n",
              "  /* unfitted */\n",
              "  background-color: var(--sklearn-color-unfitted-level-2);\n",
              "}\n",
              "\n",
              "#sk-container-id-1 div.sk-estimator.fitted:hover {\n",
              "  /* fitted */\n",
              "  background-color: var(--sklearn-color-fitted-level-2);\n",
              "}\n",
              "\n",
              "/* Specification for estimator info (e.g. \"i\" and \"?\") */\n",
              "\n",
              "/* Common style for \"i\" and \"?\" */\n",
              "\n",
              ".sk-estimator-doc-link,\n",
              "a:link.sk-estimator-doc-link,\n",
              "a:visited.sk-estimator-doc-link {\n",
              "  float: right;\n",
              "  font-size: smaller;\n",
              "  line-height: 1em;\n",
              "  font-family: monospace;\n",
              "  background-color: var(--sklearn-color-background);\n",
              "  border-radius: 1em;\n",
              "  height: 1em;\n",
              "  width: 1em;\n",
              "  text-decoration: none !important;\n",
              "  margin-left: 0.5em;\n",
              "  text-align: center;\n",
              "  /* unfitted */\n",
              "  border: var(--sklearn-color-unfitted-level-1) 1pt solid;\n",
              "  color: var(--sklearn-color-unfitted-level-1);\n",
              "}\n",
              "\n",
              ".sk-estimator-doc-link.fitted,\n",
              "a:link.sk-estimator-doc-link.fitted,\n",
              "a:visited.sk-estimator-doc-link.fitted {\n",
              "  /* fitted */\n",
              "  border: var(--sklearn-color-fitted-level-1) 1pt solid;\n",
              "  color: var(--sklearn-color-fitted-level-1);\n",
              "}\n",
              "\n",
              "/* On hover */\n",
              "div.sk-estimator:hover .sk-estimator-doc-link:hover,\n",
              ".sk-estimator-doc-link:hover,\n",
              "div.sk-label-container:hover .sk-estimator-doc-link:hover,\n",
              ".sk-estimator-doc-link:hover {\n",
              "  /* unfitted */\n",
              "  background-color: var(--sklearn-color-unfitted-level-3);\n",
              "  color: var(--sklearn-color-background);\n",
              "  text-decoration: none;\n",
              "}\n",
              "\n",
              "div.sk-estimator.fitted:hover .sk-estimator-doc-link.fitted:hover,\n",
              ".sk-estimator-doc-link.fitted:hover,\n",
              "div.sk-label-container:hover .sk-estimator-doc-link.fitted:hover,\n",
              ".sk-estimator-doc-link.fitted:hover {\n",
              "  /* fitted */\n",
              "  background-color: var(--sklearn-color-fitted-level-3);\n",
              "  color: var(--sklearn-color-background);\n",
              "  text-decoration: none;\n",
              "}\n",
              "\n",
              "/* Span, style for the box shown on hovering the info icon */\n",
              ".sk-estimator-doc-link span {\n",
              "  display: none;\n",
              "  z-index: 9999;\n",
              "  position: relative;\n",
              "  font-weight: normal;\n",
              "  right: .2ex;\n",
              "  padding: .5ex;\n",
              "  margin: .5ex;\n",
              "  width: min-content;\n",
              "  min-width: 20ex;\n",
              "  max-width: 50ex;\n",
              "  color: var(--sklearn-color-text);\n",
              "  box-shadow: 2pt 2pt 4pt #999;\n",
              "  /* unfitted */\n",
              "  background: var(--sklearn-color-unfitted-level-0);\n",
              "  border: .5pt solid var(--sklearn-color-unfitted-level-3);\n",
              "}\n",
              "\n",
              ".sk-estimator-doc-link.fitted span {\n",
              "  /* fitted */\n",
              "  background: var(--sklearn-color-fitted-level-0);\n",
              "  border: var(--sklearn-color-fitted-level-3);\n",
              "}\n",
              "\n",
              ".sk-estimator-doc-link:hover span {\n",
              "  display: block;\n",
              "}\n",
              "\n",
              "/* \"?\"-specific style due to the `<a>` HTML tag */\n",
              "\n",
              "#sk-container-id-1 a.estimator_doc_link {\n",
              "  float: right;\n",
              "  font-size: 1rem;\n",
              "  line-height: 1em;\n",
              "  font-family: monospace;\n",
              "  background-color: var(--sklearn-color-background);\n",
              "  border-radius: 1rem;\n",
              "  height: 1rem;\n",
              "  width: 1rem;\n",
              "  text-decoration: none;\n",
              "  /* unfitted */\n",
              "  color: var(--sklearn-color-unfitted-level-1);\n",
              "  border: var(--sklearn-color-unfitted-level-1) 1pt solid;\n",
              "}\n",
              "\n",
              "#sk-container-id-1 a.estimator_doc_link.fitted {\n",
              "  /* fitted */\n",
              "  border: var(--sklearn-color-fitted-level-1) 1pt solid;\n",
              "  color: var(--sklearn-color-fitted-level-1);\n",
              "}\n",
              "\n",
              "/* On hover */\n",
              "#sk-container-id-1 a.estimator_doc_link:hover {\n",
              "  /* unfitted */\n",
              "  background-color: var(--sklearn-color-unfitted-level-3);\n",
              "  color: var(--sklearn-color-background);\n",
              "  text-decoration: none;\n",
              "}\n",
              "\n",
              "#sk-container-id-1 a.estimator_doc_link.fitted:hover {\n",
              "  /* fitted */\n",
              "  background-color: var(--sklearn-color-fitted-level-3);\n",
              "}\n",
              "</style><div id=\"sk-container-id-1\" class=\"sk-top-container\"><div class=\"sk-text-repr-fallback\"><pre>LogisticRegression(max_iter=1000, multi_class=&#x27;multinomial&#x27;, random_state=42)</pre><b>In a Jupyter environment, please rerun this cell to show the HTML representation or trust the notebook. <br />On GitHub, the HTML representation is unable to render, please try loading this page with nbviewer.org.</b></div><div class=\"sk-container\" hidden><div class=\"sk-item\"><div class=\"sk-estimator fitted sk-toggleable\"><input class=\"sk-toggleable__control sk-hidden--visually\" id=\"sk-estimator-id-1\" type=\"checkbox\" checked><label for=\"sk-estimator-id-1\" class=\"sk-toggleable__label fitted sk-toggleable__label-arrow\"><div><div>LogisticRegression</div></div><div><a class=\"sk-estimator-doc-link fitted\" rel=\"noreferrer\" target=\"_blank\" href=\"https://scikit-learn.org/1.6/modules/generated/sklearn.linear_model.LogisticRegression.html\">?<span>Documentation for LogisticRegression</span></a><span class=\"sk-estimator-doc-link fitted\">i<span>Fitted</span></span></div></label><div class=\"sk-toggleable__content fitted\"><pre>LogisticRegression(max_iter=1000, multi_class=&#x27;multinomial&#x27;, random_state=42)</pre></div> </div></div></div></div>"
            ]
          },
          "metadata": {},
          "execution_count": 137
        }
      ]
    },
    {
      "cell_type": "code",
      "source": [],
      "metadata": {
        "id": "q3cL45OFen2p"
      },
      "execution_count": null,
      "outputs": []
    },
    {
      "cell_type": "code",
      "source": [],
      "metadata": {
        "id": "sZtOGx6Ben76"
      },
      "execution_count": null,
      "outputs": []
    },
    {
      "cell_type": "code",
      "source": [
        "# Evaluate the model on the test set"
      ],
      "metadata": {
        "id": "YJFW-kNQeoA8"
      },
      "execution_count": 138,
      "outputs": []
    },
    {
      "cell_type": "code",
      "source": [
        "y_pred_smote = maxent_smote.predict(X_test)"
      ],
      "metadata": {
        "id": "EMRWP4QceoFu"
      },
      "execution_count": 139,
      "outputs": []
    },
    {
      "cell_type": "code",
      "source": [
        "accuracy_smote = accuracy_score(y_test, y_pred_smote)"
      ],
      "metadata": {
        "id": "rOLo4aiUeoLv"
      },
      "execution_count": 140,
      "outputs": []
    },
    {
      "cell_type": "code",
      "source": [
        "print(f\"Accuracy after SMOTE with Maxent: {accuracy_smote:.4f}\")"
      ],
      "metadata": {
        "colab": {
          "base_uri": "https://localhost:8080/"
        },
        "id": "ODTFidIgefcL",
        "outputId": "0a6e1d66-77e8-42c4-9210-86cc81ab50f0"
      },
      "execution_count": 141,
      "outputs": [
        {
          "output_type": "stream",
          "name": "stdout",
          "text": [
            "Accuracy after SMOTE with Maxent: 0.6616\n"
          ]
        }
      ]
    },
    {
      "cell_type": "code",
      "source": [],
      "metadata": {
        "id": "OFjpDqlEezWj"
      },
      "execution_count": null,
      "outputs": []
    },
    {
      "cell_type": "code",
      "source": [],
      "metadata": {
        "id": "4wVQf2Tnezck"
      },
      "execution_count": null,
      "outputs": []
    },
    {
      "cell_type": "code",
      "source": [
        "# Classification report"
      ],
      "metadata": {
        "id": "jHPw6LojezjW"
      },
      "execution_count": 142,
      "outputs": []
    },
    {
      "cell_type": "code",
      "source": [
        "print(\"Classification Report after SMOTE with Maxent:\")\n",
        "print(classification_report(y_test, y_pred_smote))"
      ],
      "metadata": {
        "colab": {
          "base_uri": "https://localhost:8080/"
        },
        "id": "rgUiGGFqe0zo",
        "outputId": "3e56561f-3478-4199-f6a3-5ab6ad8e31b2"
      },
      "execution_count": 143,
      "outputs": [
        {
          "output_type": "stream",
          "name": "stdout",
          "text": [
            "Classification Report after SMOTE with Maxent:\n",
            "              precision    recall  f1-score   support\n",
            "\n",
            "           0       1.00      1.00      1.00       190\n",
            "           1       0.00      0.00      0.00      1047\n",
            "           2       0.70      1.00      0.82      2405\n",
            "           3       0.00      0.00      0.00      7062\n",
            "           4       0.54      1.00      0.70     21373\n",
            "           5       0.00      0.00      0.00     11034\n",
            "           6       1.00      1.00      1.00     13452\n",
            "\n",
            "    accuracy                           0.66     56563\n",
            "   macro avg       0.46      0.57      0.50     56563\n",
            "weighted avg       0.48      0.66      0.54     56563\n",
            "\n"
          ]
        }
      ]
    },
    {
      "cell_type": "code",
      "source": [],
      "metadata": {
        "id": "M9KcMorme06g"
      },
      "execution_count": null,
      "outputs": []
    },
    {
      "cell_type": "code",
      "source": [
        "# Save predictions to CSV"
      ],
      "metadata": {
        "id": "TisTatGLe0_v"
      },
      "execution_count": 147,
      "outputs": []
    },
    {
      "cell_type": "code",
      "source": [
        "model_predictions = model.predict(X_test)  # Replace with your model's prediction step\n"
      ],
      "metadata": {
        "id": "YgcSvrO-jUcK"
      },
      "execution_count": 148,
      "outputs": []
    },
    {
      "cell_type": "code",
      "source": [
        "predictions_df = pd.DataFrame(model_predictions, columns=['Prediction'])"
      ],
      "metadata": {
        "id": "p7nujLV7jUjC"
      },
      "execution_count": 149,
      "outputs": []
    },
    {
      "cell_type": "code",
      "source": [
        "predictions_df.to_csv('/content/model_predictions.csv', index=False)"
      ],
      "metadata": {
        "id": "xPs5J4ZhjUqz"
      },
      "execution_count": 150,
      "outputs": []
    },
    {
      "cell_type": "code",
      "source": [],
      "metadata": {
        "id": "tfl90KJ0lDme"
      },
      "execution_count": null,
      "outputs": []
    },
    {
      "cell_type": "code",
      "source": [],
      "metadata": {
        "id": "C-cZnFr7lPYN"
      },
      "execution_count": null,
      "outputs": []
    },
    {
      "cell_type": "code",
      "source": [],
      "metadata": {
        "id": "AFjlSyjllWVl"
      },
      "execution_count": null,
      "outputs": []
    },
    {
      "cell_type": "markdown",
      "source": [
        "# 📊 **Dash Dashboard for Model Insights** 📊\n",
        "\n",
        "In this step, we build a **Dash** application to display the model's predictions and feature importance interactively.\n",
        "\n",
        "1. **Setting Up Dash**:\n",
        "   - Install and set up **Dash** to create an interactive dashboard.\n",
        "   - This allows users to interact with the model's outputs in real-time.\n",
        "\n",
        "2. **Display Predictions**:\n",
        "   - Create a table or list to display the predicted habitat suitability scores for various regions.\n",
        "   \n",
        "3. **Feature Importance**:\n",
        "   - Add a **bar chart** to display the importance of each feature in the model's predictions.\n",
        "   \n",
        "4. **User Interaction**:\n",
        "   - Add interactive elements like **dropdowns** or **sliders** to allow users to filter and visualize data based on different parameters.\n",
        "   \n",
        "5. **Deploy the Dashboard**:\n",
        "   - Once complete, the dashboard can be deployed for easy access to stakeholders or other team members."
      ],
      "metadata": {
        "id": "0_cY02qTpvoS"
      }
    },
    {
      "cell_type": "code",
      "source": [
        "# Initialize Dash app"
      ],
      "metadata": {
        "id": "p0JdJ2I3lWeY"
      },
      "execution_count": 159,
      "outputs": []
    },
    {
      "cell_type": "code",
      "source": [
        "app = dash.Dash(__name__)"
      ],
      "metadata": {
        "id": "92lXgVgaljPp"
      },
      "execution_count": 160,
      "outputs": []
    },
    {
      "cell_type": "code",
      "source": [],
      "metadata": {
        "id": "98TPiRBVljXh"
      },
      "execution_count": null,
      "outputs": []
    },
    {
      "cell_type": "code",
      "source": [
        "# Load model predictions and feature importance (this is a placeholder; use your actual data)\n"
      ],
      "metadata": {
        "id": "fdFHkrabljh-"
      },
      "execution_count": 161,
      "outputs": []
    },
    {
      "cell_type": "code",
      "source": [
        "model_predictions = [1, 0, 1]  # Replace with actual predictions"
      ],
      "metadata": {
        "id": "QAHS2gjZljrx"
      },
      "execution_count": 162,
      "outputs": []
    },
    {
      "cell_type": "code",
      "source": [
        "features = ['Elevation', 'Precipitation', 'Vegetation Index']"
      ],
      "metadata": {
        "id": "0ywNv77_lEg4"
      },
      "execution_count": 163,
      "outputs": []
    },
    {
      "cell_type": "code",
      "source": [
        "importances = [0.4, 0.3, 0.3]  # Replace with actual feature importance"
      ],
      "metadata": {
        "id": "yqxb9IPulEob"
      },
      "execution_count": 164,
      "outputs": []
    },
    {
      "cell_type": "code",
      "source": [],
      "metadata": {
        "id": "tXK8wJvslyde"
      },
      "execution_count": null,
      "outputs": []
    },
    {
      "cell_type": "code",
      "source": [
        "# Build Dashboard Layout"
      ],
      "metadata": {
        "id": "xGBqielQlyls"
      },
      "execution_count": 165,
      "outputs": []
    },
    {
      "cell_type": "code",
      "source": [
        "app.layout = html.Div([\n",
        "    html.H1(\"Habitat Suitability Modeling Dashboard\"),\n",
        "\n",
        "    html.Div([\n",
        "        html.H2(\"Feature Importance\"),\n",
        "        dcc.Graph(\n",
        "            figure=go.Figure(\n",
        "                data=[go.Bar(x=features, y=importances)],\n",
        "                layout=go.Layout(title=\"Feature Importance\")\n",
        "            )\n",
        "        )\n",
        "    ]),\n",
        "\n",
        "    html.Div([\n",
        "        html.H2(\"Model Predictions\"),\n",
        "        DataTable(\n",
        "            id='prediction-table',\n",
        "            columns=[{\"name\": \"ID\", \"id\": \"ID\"}, {\"name\": \"Prediction\", \"id\": \"Prediction\"}],\n",
        "            data=[{\"ID\": i + 1, \"Prediction\": pred} for i, pred in enumerate(model_predictions)]\n",
        "        )\n",
        "    ])\n",
        "])"
      ],
      "metadata": {
        "id": "6ESDow3plytH"
      },
      "execution_count": 166,
      "outputs": []
    },
    {
      "cell_type": "code",
      "source": [],
      "metadata": {
        "id": "yOGdWwIvl5Jj"
      },
      "execution_count": null,
      "outputs": []
    },
    {
      "cell_type": "code",
      "source": [
        "# Run the app"
      ],
      "metadata": {
        "id": "t_q_OY__l5QX"
      },
      "execution_count": 167,
      "outputs": []
    },
    {
      "cell_type": "code",
      "source": [
        "if __name__ == '__main__':\n",
        "    app.run_server(debug=True)"
      ],
      "metadata": {
        "colab": {
          "base_uri": "https://localhost:8080/",
          "height": 671
        },
        "id": "YjZOEMK_l7kH",
        "outputId": "0ef1c019-4552-4506-b57f-4324d711ce05"
      },
      "execution_count": 168,
      "outputs": [
        {
          "output_type": "display_data",
          "data": {
            "text/plain": [
              "<IPython.core.display.Javascript object>"
            ],
            "application/javascript": [
              "(async (port, path, width, height, cache, element) => {\n",
              "    if (!google.colab.kernel.accessAllowed && !cache) {\n",
              "      return;\n",
              "    }\n",
              "    element.appendChild(document.createTextNode(''));\n",
              "    const url = await google.colab.kernel.proxyPort(port, {cache});\n",
              "    const iframe = document.createElement('iframe');\n",
              "    iframe.src = new URL(path, url).toString();\n",
              "    iframe.height = height;\n",
              "    iframe.width = width;\n",
              "    iframe.style.border = 0;\n",
              "    iframe.allow = [\n",
              "        'accelerometer',\n",
              "        'autoplay',\n",
              "        'camera',\n",
              "        'clipboard-read',\n",
              "        'clipboard-write',\n",
              "        'gyroscope',\n",
              "        'magnetometer',\n",
              "        'microphone',\n",
              "        'serial',\n",
              "        'usb',\n",
              "        'xr-spatial-tracking',\n",
              "    ].join('; ');\n",
              "    element.appendChild(iframe);\n",
              "  })(8050, \"/\", \"100%\", 650, false, window.element)"
            ]
          },
          "metadata": {}
        }
      ]
    },
    {
      "cell_type": "code",
      "source": [],
      "metadata": {
        "id": "aZhUc9npp6d8"
      },
      "execution_count": null,
      "outputs": []
    },
    {
      "cell_type": "code",
      "source": [],
      "metadata": {
        "id": "f0pGic0Ep6jv"
      },
      "execution_count": 174,
      "outputs": []
    },
    {
      "cell_type": "code",
      "source": [],
      "metadata": {
        "id": "uKVRwnSNp6qP"
      },
      "execution_count": 174,
      "outputs": []
    },
    {
      "cell_type": "markdown",
      "source": [
        "# 🚀 **Future Enhancements and Conclusion** 🚀\n",
        "\n",
        "In this final step, we explore opportunities for improving the project:\n",
        "\n",
        "1. **Enhance the Model**:\n",
        "   - Experiment with more advanced algorithms like **Random Forest** or **XGBoost** for better prediction accuracy.\n",
        "   \n",
        "2. **Expand the Dataset**:\n",
        "   - Incorporate more environmental features or additional regions to improve the model’s performance.\n",
        "   \n",
        "3. **Real-time Predictions**:\n",
        "   - Integrate **real-time data** into the **Dash dashboard** to provide dynamic predictions based on updated environmental factors.\n",
        "\n",
        "4. **Conclusion**:\n",
        "   - By combining data science and environmental engineering, this project showcases how predictive models can help in decision-making for wildlife conservation and habitat management."
      ],
      "metadata": {
        "id": "-bdMRJfbp67b"
      }
    }
  ]
}