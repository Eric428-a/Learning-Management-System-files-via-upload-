{
  "nbformat": 4,
  "nbformat_minor": 0,
  "metadata": {
    "colab": {
      "provenance": [],
      "gpuType": "T4"
    },
    "kernelspec": {
      "name": "python3",
      "display_name": "Python 3"
    },
    "language_info": {
      "name": "python"
    },
    "accelerator": "GPU"
  },
  "cells": [
    {
      "cell_type": "code",
      "source": [
        "!apt-get install tesseract-ocr"
      ],
      "metadata": {
        "colab": {
          "base_uri": "https://localhost:8080/"
        },
        "id": "cvuf9-EEiKiC",
        "outputId": "85a8fd68-3e74-45f5-936f-21e3a5212b7d"
      },
      "execution_count": 5,
      "outputs": [
        {
          "output_type": "stream",
          "name": "stdout",
          "text": [
            "Reading package lists... Done\n",
            "Building dependency tree... Done\n",
            "Reading state information... Done\n",
            "tesseract-ocr is already the newest version (4.1.1-2.1build1).\n",
            "0 upgraded, 0 newly installed, 0 to remove and 49 not upgraded.\n"
          ]
        }
      ]
    },
    {
      "cell_type": "code",
      "source": [],
      "metadata": {
        "id": "Phmj5EvQiKfb"
      },
      "execution_count": null,
      "outputs": []
    },
    {
      "cell_type": "code",
      "source": [
        "!pip install pytesseract opencv-python-headless"
      ],
      "metadata": {
        "colab": {
          "base_uri": "https://localhost:8080/"
        },
        "id": "V2ffgz0fiKcF",
        "outputId": "a39eaf20-bcbd-478d-9c4e-994518fc7db0"
      },
      "execution_count": 6,
      "outputs": [
        {
          "output_type": "stream",
          "name": "stdout",
          "text": [
            "Requirement already satisfied: pytesseract in /usr/local/lib/python3.10/dist-packages (0.3.13)\n",
            "Requirement already satisfied: opencv-python-headless in /usr/local/lib/python3.10/dist-packages (4.10.0.84)\n",
            "Requirement already satisfied: packaging>=21.3 in /usr/local/lib/python3.10/dist-packages (from pytesseract) (24.2)\n",
            "Requirement already satisfied: Pillow>=8.0.0 in /usr/local/lib/python3.10/dist-packages (from pytesseract) (11.0.0)\n",
            "Requirement already satisfied: numpy>=1.21.2 in /usr/local/lib/python3.10/dist-packages (from opencv-python-headless) (1.26.4)\n"
          ]
        }
      ]
    },
    {
      "cell_type": "code",
      "source": [],
      "metadata": {
        "id": "ksQMZcg5iKZD"
      },
      "execution_count": null,
      "outputs": []
    },
    {
      "cell_type": "code",
      "source": [],
      "metadata": {
        "id": "1-oOR5L3iTGB"
      },
      "execution_count": null,
      "outputs": []
    },
    {
      "cell_type": "code",
      "source": [
        "import cv2  # Import OpenCV for image processing"
      ],
      "metadata": {
        "id": "ein9bdaRjW9e"
      },
      "execution_count": 19,
      "outputs": []
    },
    {
      "cell_type": "code",
      "source": [
        "import pytesseract  # Import pytesseract for OCR (Optical Character Recognition)"
      ],
      "metadata": {
        "id": "LyRQlJIajXAr"
      },
      "execution_count": 20,
      "outputs": []
    },
    {
      "cell_type": "code",
      "source": [
        "from google.colab.patches import cv2_imshow  # This is for displaying images in Colab"
      ],
      "metadata": {
        "id": "rJblyfGxjXCy"
      },
      "execution_count": 21,
      "outputs": []
    },
    {
      "cell_type": "code",
      "source": [],
      "metadata": {
        "id": "8-3FWX9XkXav"
      },
      "execution_count": null,
      "outputs": []
    },
    {
      "cell_type": "code",
      "source": [],
      "metadata": {
        "id": "3YSjONTqkXew"
      },
      "execution_count": null,
      "outputs": []
    },
    {
      "cell_type": "code",
      "source": [
        "# Load the image"
      ],
      "metadata": {
        "id": "yC_Bb522kXht"
      },
      "execution_count": 14,
      "outputs": []
    },
    {
      "cell_type": "code",
      "source": [
        "image_path = '/content/Chart.png'  # Specify the path to the image"
      ],
      "metadata": {
        "id": "kiIF9AK3kXkl"
      },
      "execution_count": 22,
      "outputs": []
    },
    {
      "cell_type": "code",
      "source": [
        "img = cv2.imread(image_path)  # Read the image from the path"
      ],
      "metadata": {
        "id": "M7Nx1s7DjXGD"
      },
      "execution_count": 23,
      "outputs": []
    },
    {
      "cell_type": "code",
      "source": [],
      "metadata": {
        "id": "7mrh883jjXIU"
      },
      "execution_count": null,
      "outputs": []
    },
    {
      "cell_type": "code",
      "source": [],
      "metadata": {
        "id": "hmwboYomjXLf"
      },
      "execution_count": null,
      "outputs": []
    },
    {
      "cell_type": "code",
      "source": [
        "# Convert the image to grayscale for better text recognition"
      ],
      "metadata": {
        "id": "hSA4zl1HjXOx"
      },
      "execution_count": 17,
      "outputs": []
    },
    {
      "cell_type": "code",
      "source": [
        "gray = cv2.cvtColor(img, cv2.COLOR_BGR2GRAY)  # Convert image to grayscale to improve OCR performance\n"
      ],
      "metadata": {
        "id": "C8M-CKuejXRL"
      },
      "execution_count": 24,
      "outputs": []
    },
    {
      "cell_type": "code",
      "source": [],
      "metadata": {
        "id": "lyXpMF0qjOcv"
      },
      "execution_count": null,
      "outputs": []
    },
    {
      "cell_type": "code",
      "source": [
        "# Perform OCR to extract text"
      ],
      "metadata": {
        "id": "b50aOm3YjC6b"
      },
      "execution_count": 25,
      "outputs": []
    },
    {
      "cell_type": "code",
      "source": [
        "extracted_text = pytesseract.image_to_string(gray)  # Use pytesseract to extract text from the grayscale image\n"
      ],
      "metadata": {
        "id": "_u0jN-mjjAGd"
      },
      "execution_count": 26,
      "outputs": []
    },
    {
      "cell_type": "code",
      "source": [],
      "metadata": {
        "id": "hC7Y9HJVlBX9"
      },
      "execution_count": null,
      "outputs": []
    },
    {
      "cell_type": "code",
      "source": [],
      "metadata": {
        "id": "fm_10ppelBbm"
      },
      "execution_count": null,
      "outputs": []
    },
    {
      "cell_type": "code",
      "source": [
        "# Print the raw extracted text"
      ],
      "metadata": {
        "id": "3zYGjAEalBgG"
      },
      "execution_count": 27,
      "outputs": []
    },
    {
      "cell_type": "code",
      "source": [
        "print(\"Raw Extracted Text:\")  # Label for raw extracted text output\n",
        "print(extracted_text)  # Print the raw text extracted from the image"
      ],
      "metadata": {
        "colab": {
          "base_uri": "https://localhost:8080/"
        },
        "id": "0PLIIdWNlBiq",
        "outputId": "ed28044a-8c20-4e25-f48a-a98f18bf6619"
      },
      "execution_count": 28,
      "outputs": [
        {
          "output_type": "stream",
          "name": "stdout",
          "text": [
            "Raw Extracted Text:\n",
            " \n",
            "\n",
            " \n",
            "\n",
            "Performance - Price Comparison aN\n",
            "1,600\n",
            "1,400\n",
            "1,200\n",
            "4,000\n",
            "\n",
            " \n",
            "\n",
            "score\n",
            "\n",
            "Price\n",
            "\n",
            " \n",
            "\n",
            " \n",
            "\n",
            "Model1  Model2- Model3.-- Model4.— Model’5\n",
            "\n",
            " \n",
            "\n",
            " \n",
            "\f\n"
          ]
        }
      ]
    },
    {
      "cell_type": "code",
      "source": [],
      "metadata": {
        "id": "gvtN3_WBlH1x"
      },
      "execution_count": null,
      "outputs": []
    },
    {
      "cell_type": "code",
      "source": [],
      "metadata": {
        "id": "eh5D8ma6lH5B"
      },
      "execution_count": null,
      "outputs": []
    },
    {
      "cell_type": "code",
      "source": [
        "# Organizing the extracted text into a more structured format"
      ],
      "metadata": {
        "id": "23SqKq-LlH8v"
      },
      "execution_count": 29,
      "outputs": []
    },
    {
      "cell_type": "code",
      "source": [
        "title = extracted_text.split('\\n')[0]  # First line as the title"
      ],
      "metadata": {
        "id": "utFZJDYolIAT"
      },
      "execution_count": 35,
      "outputs": []
    },
    {
      "cell_type": "code",
      "source": [
        "data_lines = extracted_text.split('\\n')[1:]  # Remaining lines as raw data"
      ],
      "metadata": {
        "id": "WOvBuy-xlIDD"
      },
      "execution_count": 36,
      "outputs": []
    },
    {
      "cell_type": "code",
      "source": [],
      "metadata": {
        "id": "25HxWLSGlPd1"
      },
      "execution_count": null,
      "outputs": []
    },
    {
      "cell_type": "code",
      "source": [],
      "metadata": {
        "id": "maszQMLzlPgx"
      },
      "execution_count": null,
      "outputs": []
    },
    {
      "cell_type": "code",
      "source": [
        "# Display organized details from the graph"
      ],
      "metadata": {
        "id": "bBxNg0DElPj7"
      },
      "execution_count": 37,
      "outputs": []
    },
    {
      "cell_type": "code",
      "source": [
        "print(f\"Title: {title}\")  # Display the extracted title\n",
        "print(\"Data Points and Labels:\")  # Label for data points and labels section\n",
        "for line in data_lines:  # Loop through each line of extracted data\n",
        "    line = line.strip()  # Remove leading and trailing whitespace from each line\n",
        "    if line:  # Only print non-empty lines\n",
        "        print(f\"  - {line}\")  # Print each non-empty line as a data point or label\n"
      ],
      "metadata": {
        "colab": {
          "base_uri": "https://localhost:8080/"
        },
        "id": "A3_fhHHXlPoL",
        "outputId": "0fae91bb-7b59-431c-a15b-a0bdb2f56d44"
      },
      "execution_count": 38,
      "outputs": [
        {
          "output_type": "stream",
          "name": "stdout",
          "text": [
            "Title:  \n",
            "Data Points and Labels:\n",
            "  - Performance - Price Comparison aN\n",
            "  - 1,600\n",
            "  - 1,400\n",
            "  - 1,200\n",
            "  - 4,000\n",
            "  - score\n",
            "  - Price\n",
            "  - Model1  Model2- Model3.-- Model4.— Model’5\n"
          ]
        }
      ]
    },
    {
      "cell_type": "code",
      "source": [],
      "metadata": {
        "id": "v7Y6tB4vlVo1"
      },
      "execution_count": null,
      "outputs": []
    },
    {
      "cell_type": "code",
      "source": [],
      "metadata": {
        "id": "AdDdjjS2lVrs"
      },
      "execution_count": null,
      "outputs": []
    },
    {
      "cell_type": "code",
      "source": [
        "# Additional analysis of graph elements like axis labels and gridlines\n",
        "# Assuming OCR has returned labels and values for axes, you can search for those in the text\n"
      ],
      "metadata": {
        "id": "mU_g5akhlVvm"
      },
      "execution_count": 39,
      "outputs": []
    },
    {
      "cell_type": "code",
      "source": [
        "# You may need to adjust based on the structure of the OCR text"
      ],
      "metadata": {
        "id": "CVMbgWE-lVzF"
      },
      "execution_count": 40,
      "outputs": []
    },
    {
      "cell_type": "code",
      "source": [
        "x_axis_label = \"X-Axis\"  # Placeholder for X-axis label"
      ],
      "metadata": {
        "id": "SyF0gqvIlV10"
      },
      "execution_count": 41,
      "outputs": []
    },
    {
      "cell_type": "code",
      "source": [
        "y_axis_label = \"Y-Axis\"  # Placeholder for Y-axis label"
      ],
      "metadata": {
        "id": "XzYGxpdFlrGi"
      },
      "execution_count": 42,
      "outputs": []
    },
    {
      "cell_type": "code",
      "source": [
        "data_points = []  # Initialize an empty list to collect data points"
      ],
      "metadata": {
        "id": "COz1cXi7lrKJ"
      },
      "execution_count": 43,
      "outputs": []
    },
    {
      "cell_type": "code",
      "source": [
        "model_names = []  # Initialize an empty list to collect model names"
      ],
      "metadata": {
        "id": "Kcirc4_olrOf"
      },
      "execution_count": 44,
      "outputs": []
    },
    {
      "cell_type": "code",
      "source": [],
      "metadata": {
        "id": "-pS2dQeRl0x3"
      },
      "execution_count": null,
      "outputs": []
    },
    {
      "cell_type": "code",
      "source": [],
      "metadata": {
        "id": "qv3aCJIOl02n"
      },
      "execution_count": null,
      "outputs": []
    },
    {
      "cell_type": "code",
      "source": [
        "# For now, manually input data points based on what you can see in the OCR output\n",
        "# This should be updated with actual values from the OCR result or identified visually"
      ],
      "metadata": {
        "id": "Tb5p5Elql06a"
      },
      "execution_count": 45,
      "outputs": []
    },
    {
      "cell_type": "code",
      "source": [
        "data_points = [1600, 1400, 1200, 4000]  # Example data points from the graph"
      ],
      "metadata": {
        "id": "vx_QceLNlrRl"
      },
      "execution_count": 46,
      "outputs": []
    },
    {
      "cell_type": "code",
      "source": [
        "model_names = [\"Model1\", \"Model2\", \"Model3\", \"Model4\", \"Model5\"]  # Example model names from the graph\n"
      ],
      "metadata": {
        "id": "Ay7spFCslrU3"
      },
      "execution_count": 47,
      "outputs": []
    },
    {
      "cell_type": "code",
      "source": [],
      "metadata": {
        "id": "ikcU0SN1l81p"
      },
      "execution_count": null,
      "outputs": []
    },
    {
      "cell_type": "code",
      "source": [],
      "metadata": {
        "id": "-cYhuTXkl84c"
      },
      "execution_count": null,
      "outputs": []
    },
    {
      "cell_type": "code",
      "source": [
        "# Now extract trends or patterns from the data points"
      ],
      "metadata": {
        "id": "tKikp61nl87i"
      },
      "execution_count": 48,
      "outputs": []
    },
    {
      "cell_type": "code",
      "source": [
        "def identify_trends(data_points):  # Function to identify the trend in the data points\n",
        "    if data_points == sorted(data_points):  # Check if data points are sorted in increasing order\n",
        "        return \"Increasing\"  # If sorted in increasing order, return \"Increasing\"\n",
        "    elif data_points == sorted(data_points, reverse=True):  # Check if data points are sorted in decreasing order\n",
        "        return \"Decreasing\"  # If sorted in decreasing order, return \"Decreasing\"\n",
        "    else:  # If data points are not sorted in any clear order\n",
        "        return \"No Clear Trend\"  # Return \"No Clear Trend\" if no clear trend is identified\n"
      ],
      "metadata": {
        "id": "QlIDiPNBl8-x"
      },
      "execution_count": 49,
      "outputs": []
    },
    {
      "cell_type": "code",
      "source": [],
      "metadata": {
        "id": "U3zkssVRl9CQ"
      },
      "execution_count": null,
      "outputs": []
    },
    {
      "cell_type": "code",
      "source": [
        "trend = identify_trends(data_points)  # Call the function to identify the trend based on data points\n"
      ],
      "metadata": {
        "id": "7e4DuEhqi7sf"
      },
      "execution_count": 50,
      "outputs": []
    },
    {
      "cell_type": "code",
      "source": [],
      "metadata": {
        "id": "-dIb2aQ9mD3F"
      },
      "execution_count": null,
      "outputs": []
    },
    {
      "cell_type": "code",
      "source": [],
      "metadata": {
        "id": "RX8--GgJmD6N"
      },
      "execution_count": null,
      "outputs": []
    },
    {
      "cell_type": "code",
      "source": [
        "# Print detailed graph information"
      ],
      "metadata": {
        "id": "EsMQgatNmD-C"
      },
      "execution_count": 51,
      "outputs": []
    },
    {
      "cell_type": "code",
      "source": [
        "print(\"\\nDetailed Graph Information:\")  # Label for detailed graph information section\n",
        "print(f\"Title: {title}\")  # Print the graph title\n",
        "print(f\"X-Axis Label: {x_axis_label}\")  # Print the X-axis label\n",
        "print(f\"Y-Axis Label: {y_axis_label}\")  # Print the Y-axis label\n",
        "print(f\"Models: {', '.join(model_names)}\")  # Print the model names in a comma-separated format\n",
        "print(f\"Data Points: {data_points}\")  # Print the data points list\n",
        "print(f\"Trend Analysis: {trend}\")  # Print the identified trend"
      ],
      "metadata": {
        "colab": {
          "base_uri": "https://localhost:8080/"
        },
        "id": "aSyUqQZCmEBJ",
        "outputId": "4b26fb9b-c18e-4d34-eaf1-7a2f9418555f"
      },
      "execution_count": 52,
      "outputs": [
        {
          "output_type": "stream",
          "name": "stdout",
          "text": [
            "\n",
            "Detailed Graph Information:\n",
            "Title:  \n",
            "X-Axis Label: X-Axis\n",
            "Y-Axis Label: Y-Axis\n",
            "Models: Model1, Model2, Model3, Model4, Model5\n",
            "Data Points: [1600, 1400, 1200, 4000]\n",
            "Trend Analysis: No Clear Trend\n"
          ]
        }
      ]
    },
    {
      "cell_type": "code",
      "source": [],
      "metadata": {
        "id": "pFbAgkPRmKKI"
      },
      "execution_count": null,
      "outputs": []
    },
    {
      "cell_type": "code",
      "source": [],
      "metadata": {
        "id": "-JPsdIazmLB3"
      },
      "execution_count": null,
      "outputs": []
    },
    {
      "cell_type": "code",
      "source": [],
      "metadata": {
        "id": "WJVj7v6lmLLA"
      },
      "execution_count": null,
      "outputs": []
    },
    {
      "cell_type": "code",
      "source": [
        "# Optional: Edge detection and gridline detection using Canny (for further image analysis)\n"
      ],
      "metadata": {
        "id": "iLjp6fsvmLZc"
      },
      "execution_count": 53,
      "outputs": []
    },
    {
      "cell_type": "code",
      "source": [
        "edges = cv2.Canny(gray, 100, 200)  # Perform Canny edge detection to find edges in the image\n"
      ],
      "metadata": {
        "id": "1SuVlMhImWBY"
      },
      "execution_count": 54,
      "outputs": []
    },
    {
      "cell_type": "code",
      "source": [],
      "metadata": {
        "id": "VZZje0VhmWEy"
      },
      "execution_count": null,
      "outputs": []
    },
    {
      "cell_type": "code",
      "source": [
        "# Use cv2_imshow to display the edges in the image"
      ],
      "metadata": {
        "id": "VwcOCU2DmadA"
      },
      "execution_count": 55,
      "outputs": []
    },
    {
      "cell_type": "code",
      "source": [
        "cv2_imshow(edges)  # Display the edges in the image (visual aid for edge detection)"
      ],
      "metadata": {
        "colab": {
          "base_uri": "https://localhost:8080/",
          "height": 333
        },
        "id": "2t58XedpmWKK",
        "outputId": "e2263c30-12b0-45ff-9eea-7bcacda609db"
      },
      "execution_count": 56,
      "outputs": [
        {
          "output_type": "display_data",
          "data": {
            "text/plain": [
              "<PIL.Image.Image image mode=L size=508x316>"
            ],
            "image/png": "[encoded data removed]",
            "image/jpeg": "[encoded data removed]"
          },
          "metadata": {}
        }
      ]
    },
    {
      "cell_type": "code",
      "source": [],
      "metadata": {
        "id": "OrvrM1I4me-A"
      },
      "execution_count": null,
      "outputs": []
    },
    {
      "cell_type": "code",
      "source": [],
      "metadata": {
        "id": "J9LWwWp5mfBQ"
      },
      "execution_count": null,
      "outputs": []
    },
    {
      "cell_type": "code",
      "source": [
        "# Alternatively, use contour detection to find the gridlines and data points"
      ],
      "metadata": {
        "id": "AOQZsegemfNu"
      },
      "execution_count": 57,
      "outputs": []
    },
    {
      "cell_type": "code",
      "source": [
        "contours, _ = cv2.findContours(edges, cv2.RETR_EXTERNAL, cv2.CHAIN_APPROX_SIMPLE)  # Find contours in the edges\n"
      ],
      "metadata": {
        "id": "3ju7ZXoamWOV"
      },
      "execution_count": 58,
      "outputs": []
    },
    {
      "cell_type": "code",
      "source": [
        "for contour in contours:  # Loop through each detected contour\n",
        "    cv2.drawContours(img, [contour], -1, (0, 255, 0), 2)  # Draw each contour on the image in green\n"
      ],
      "metadata": {
        "id": "I3RYCe7ZmWSK"
      },
      "execution_count": 59,
      "outputs": []
    },
    {
      "cell_type": "code",
      "source": [],
      "metadata": {
        "id": "KHMlWb_bml1w"
      },
      "execution_count": null,
      "outputs": []
    },
    {
      "cell_type": "code",
      "source": [],
      "metadata": {
        "id": "KkOU6eSHml65"
      },
      "execution_count": null,
      "outputs": []
    },
    {
      "cell_type": "code",
      "source": [
        "# Use cv2_imshow to display the contours in the image"
      ],
      "metadata": {
        "id": "Z_FX4mgemmHo"
      },
      "execution_count": 60,
      "outputs": []
    },
    {
      "cell_type": "code",
      "source": [
        "cv2_imshow(img)  # Display the contours overlaid on the image (visual aid for contour detection)\n"
      ],
      "metadata": {
        "colab": {
          "base_uri": "https://localhost:8080/",
          "height": 333
        },
        "id": "wYdbWyejmojI",
        "outputId": "9c8b6215-df77-4c5c-fd81-5670e4268846"
      },
      "execution_count": 61,
      "outputs": [
        {
          "output_type": "display_data",
          "data": {
            "text/plain": [
              "<PIL.Image.Image image mode=RGB size=508x316>"
            ],
            "image/png": "[encoded data removed]",
            "image/jpeg": "[encoded data removed]"
          },
          "metadata": {}
        }
      ]
    },
    {
      "cell_type": "code",
      "source": [],
      "metadata": {
        "id": "YvM1RxbTmoms"
      },
      "execution_count": 66,
      "outputs": []
    }
  ]
}