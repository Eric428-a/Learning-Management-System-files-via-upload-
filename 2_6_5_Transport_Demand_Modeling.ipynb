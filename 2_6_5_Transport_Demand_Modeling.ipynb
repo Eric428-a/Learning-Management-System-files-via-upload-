{
  "nbformat": 4,
  "nbformat_minor": 0,
  "metadata": {
    "colab": {
      "provenance": [],
      "gpuType": "T4"
    },
    "kernelspec": {
      "name": "python3",
      "display_name": "Python 3"
    },
    "language_info": {
      "name": "python"
    },
    "accelerator": "GPU"
  },
  "cells": [
    {
      "cell_type": "markdown",
      "source": [
        "# 🚗 **Transport Demand Modeling Project Overview** 🌍\n",
        "\n",
        "## 📚 **Project Objective:**\n",
        "The goal of this project is to estimate the demand for public transport based on geospatial data using **Neural Networks**. We'll analyze transport stations data and predict the geographic coordinates of stations using machine learning.\n",
        "\n",
        "## ⚙️ **Steps Involved:**\n",
        "\n",
        "### 1. **Data Loading and Preprocessing** 🧹\n",
        "   - **Dataset**: The dataset used is about transport stations in London, including coordinates and categorical attributes like networks, zones, and night tube information.\n",
        "   - **Missing Values**: Categorical columns are filled with the mode (most frequent value), and numerical columns are filled with the mean. This ensures that we have complete data for analysis and modeling.\n",
        "   - **Duplicates**: We check for and remove any duplicate rows to ensure the data is unique and doesn't bias the model.\n",
        "\n",
        "### 2. **Data Exploration** 🔍\n",
        "   - **Descriptive Statistics**: We explore the dataset using functions like `.describe()` to summarize the data and gain insights.\n",
        "   - **Visualization**: We create a **map** of the stations using **Folium** and display **correlation heatmaps** and **histograms** to visualize the relationships between the features.\n",
        "\n",
        "### 3. **Feature Engineering** 🔧\n",
        "   - **Categorical Encoding**: We use **LabelEncoder** to convert categorical variables (like 'Network' and 'Zone') into numerical form.\n",
        "   - **Scaling**: The numerical features are scaled using **StandardScaler** to ensure they are on the same scale for training the model.\n",
        "\n",
        "### 4. **Neural Network Model** 🧠\n",
        "   - We define a **Sequential neural network** with layers:\n",
        "     - **64 neurons** in the first layer, **32 neurons** in the second layer, and **2 output neurons** to predict the coordinates ('x' and 'y').\n",
        "   - **Activation Function**: **ReLU** is used for hidden layers to add non-linearity, and **Mean Squared Error** is used as the loss function for regression.\n",
        "   - **Training**: The model is trained for **50 epochs** on the training data, and performance is evaluated on the test data.\n",
        "\n",
        "### 5. **Saving the Model** 💾\n",
        "   - After training, we save the model, training history, and **scaler** to use later for predictions and scaling new data.\n",
        "\n",
        "### 6. **Creating a Dash Web Application** 🌐\n",
        "   - We build an **interactive dashboard** using **Dash** and **Plotly** to visualize transport station locations on a map.\n",
        "   - The dashboard allows users to filter the transport demand by **Zone** using a dropdown and displays a **histogram** of transport demand for the selected zone.\n",
        "\n",
        "## 🛠 **Key Tools and Libraries Used:**\n",
        "- **Pandas**: Data manipulation and analysis.\n",
        "- **Matplotlib & Seaborn**: Visualization of data (plots, heatmaps).\n",
        "- **Scikit-learn**: For machine learning tasks like splitting data, scaling, and encoding.\n",
        "- **Keras**: For building and training the neural network.\n",
        "- **Dash**: For creating the interactive web application.\n",
        "\n",
        "## 🔑 **Key Concepts:**\n",
        "- **Neural Networks**: Machine learning models inspired by the brain, useful for predicting continuous values like coordinates.\n",
        "- **Data Scaling**: Standardizing features to improve the performance of machine learning models.\n",
        "- **Categorical Encoding**: Converting non-numerical data into numbers so that the machine learning model can process it.\n",
        "\n",
        "## 🚀 **Project Impact:**\n",
        "By completing this project, you'll understand how to handle real-world data, preprocess it, build and train a neural network, and deploy your model in an interactive web application. This knowledge can be applied to many fields, including urban planning, transport logistics, and more.\n",
        "\n",
        "---\n",
        "\n",
        "### 🌟 **Keep Experimenting!**\n",
        "The beauty of machine learning lies in experimentation. Try tweaking the model, exploring different datasets, or even improving the Dash app with additional features. The possibilities are endless! 🚀"
      ],
      "metadata": {
        "id": "YSBGUAp8bAij"
      }
    },
    {
      "cell_type": "code",
      "source": [],
      "metadata": {
        "id": "DsSWNz9AbEF-"
      },
      "execution_count": 317,
      "outputs": []
    },
    {
      "cell_type": "code",
      "source": [],
      "metadata": {
        "id": "xHtlE8_LbENr"
      },
      "execution_count": 317,
      "outputs": []
    },
    {
      "cell_type": "code",
      "source": [],
      "metadata": {
        "id": "jsbfAWRYbFyP"
      },
      "execution_count": 317,
      "outputs": []
    },
    {
      "cell_type": "markdown",
      "source": [
        "## 📚 **Importing Libraries**\n",
        "Before we start building the project, we need to import all the necessary libraries. These libraries provide the functions and tools we need for data analysis, machine learning, and building the web application.\n",
        "\n",
        "- **Pandas**: For data manipulation and handling CSV files.\n",
        "- **Folium**: For creating interactive maps of transport stations.\n",
        "- **Matplotlib & Seaborn**: For data visualization, including heatmaps, histograms, and scatter plots.\n",
        "- **Scikit-learn**: For machine learning tasks like splitting the data, encoding categorical variables, and scaling features.\n",
        "- **Keras**: For building the neural network model to predict coordinates.\n",
        "- **Dash & Plotly**: For creating an interactive dashboard that visualizes transport station locations and demand."
      ],
      "metadata": {
        "id": "BTXJr2mYbcdM"
      }
    },
    {
      "cell_type": "code",
      "source": [
        "import warnings"
      ],
      "metadata": {
        "id": "d_OJC7osSyng"
      },
      "execution_count": 318,
      "outputs": []
    },
    {
      "cell_type": "code",
      "source": [
        "warnings.filterwarnings('ignore')"
      ],
      "metadata": {
        "id": "BIY-rqZSYN4I"
      },
      "execution_count": 319,
      "outputs": []
    },
    {
      "cell_type": "code",
      "source": [],
      "metadata": {
        "id": "UNpC49nPSyqd"
      },
      "execution_count": 319,
      "outputs": []
    },
    {
      "cell_type": "code",
      "source": [
        "# Install required packages"
      ],
      "metadata": {
        "id": "0QllRIQgSkY1"
      },
      "execution_count": 320,
      "outputs": []
    },
    {
      "cell_type": "code",
      "source": [
        "pip install dash pandas plotly scikit-learn"
      ],
      "metadata": {
        "colab": {
          "base_uri": "https://localhost:8080/"
        },
        "id": "0FpIJDEASkfi",
        "outputId": "9051e548-1fd1-418d-d3d3-ca0ae0dabdd3"
      },
      "execution_count": 321,
      "outputs": [
        {
          "output_type": "stream",
          "name": "stdout",
          "text": [
            "Requirement already satisfied: dash in /usr/local/lib/python3.11/dist-packages (2.18.2)\n",
            "Requirement already satisfied: pandas in /usr/local/lib/python3.11/dist-packages (2.2.2)\n",
            "Requirement already satisfied: plotly in /usr/local/lib/python3.11/dist-packages (5.24.1)\n",
            "Requirement already satisfied: scikit-learn in /usr/local/lib/python3.11/dist-packages (1.6.0)\n",
            "Requirement already satisfied: Flask<3.1,>=1.0.4 in /usr/local/lib/python3.11/dist-packages (from dash) (3.0.3)\n",
            "Requirement already satisfied: Werkzeug<3.1 in /usr/local/lib/python3.11/dist-packages (from dash) (3.0.6)\n",
            "Requirement already satisfied: dash-html-components==2.0.0 in /usr/local/lib/python3.11/dist-packages (from dash) (2.0.0)\n",
            "Requirement already satisfied: dash-core-components==2.0.0 in /usr/local/lib/python3.11/dist-packages (from dash) (2.0.0)\n",
            "Requirement already satisfied: dash-table==5.0.0 in /usr/local/lib/python3.11/dist-packages (from dash) (5.0.0)\n",
            "Requirement already satisfied: importlib-metadata in /usr/local/lib/python3.11/dist-packages (from dash) (8.5.0)\n",
            "Requirement already satisfied: typing-extensions>=4.1.1 in /usr/local/lib/python3.11/dist-packages (from dash) (4.12.2)\n",
            "Requirement already satisfied: requests in /usr/local/lib/python3.11/dist-packages (from dash) (2.32.3)\n",
            "Requirement already satisfied: retrying in /usr/local/lib/python3.11/dist-packages (from dash) (1.3.4)\n",
            "Requirement already satisfied: nest-asyncio in /usr/local/lib/python3.11/dist-packages (from dash) (1.6.0)\n",
            "Requirement already satisfied: setuptools in /usr/local/lib/python3.11/dist-packages (from dash) (75.1.0)\n",
            "Requirement already satisfied: numpy>=1.23.2 in /usr/local/lib/python3.11/dist-packages (from pandas) (1.26.4)\n",
            "Requirement already satisfied: python-dateutil>=2.8.2 in /usr/local/lib/python3.11/dist-packages (from pandas) (2.8.2)\n",
            "Requirement already satisfied: pytz>=2020.1 in /usr/local/lib/python3.11/dist-packages (from pandas) (2024.2)\n",
            "Requirement already satisfied: tzdata>=2022.7 in /usr/local/lib/python3.11/dist-packages (from pandas) (2024.2)\n",
            "Requirement already satisfied: tenacity>=6.2.0 in /usr/local/lib/python3.11/dist-packages (from plotly) (9.0.0)\n",
            "Requirement already satisfied: packaging in /usr/local/lib/python3.11/dist-packages (from plotly) (24.2)\n",
            "Requirement already satisfied: scipy>=1.6.0 in /usr/local/lib/python3.11/dist-packages (from scikit-learn) (1.13.1)\n",
            "Requirement already satisfied: joblib>=1.2.0 in /usr/local/lib/python3.11/dist-packages (from scikit-learn) (1.4.2)\n",
            "Requirement already satisfied: threadpoolctl>=3.1.0 in /usr/local/lib/python3.11/dist-packages (from scikit-learn) (3.5.0)\n",
            "Requirement already satisfied: Jinja2>=3.1.2 in /usr/local/lib/python3.11/dist-packages (from Flask<3.1,>=1.0.4->dash) (3.1.5)\n",
            "Requirement already satisfied: itsdangerous>=2.1.2 in /usr/local/lib/python3.11/dist-packages (from Flask<3.1,>=1.0.4->dash) (2.2.0)\n",
            "Requirement already satisfied: click>=8.1.3 in /usr/local/lib/python3.11/dist-packages (from Flask<3.1,>=1.0.4->dash) (8.1.8)\n",
            "Requirement already satisfied: blinker>=1.6.2 in /usr/local/lib/python3.11/dist-packages (from Flask<3.1,>=1.0.4->dash) (1.9.0)\n",
            "Requirement already satisfied: six>=1.5 in /usr/local/lib/python3.11/dist-packages (from python-dateutil>=2.8.2->pandas) (1.17.0)\n",
            "Requirement already satisfied: MarkupSafe>=2.1.1 in /usr/local/lib/python3.11/dist-packages (from Werkzeug<3.1->dash) (3.0.2)\n",
            "Requirement already satisfied: zipp>=3.20 in /usr/local/lib/python3.11/dist-packages (from importlib-metadata->dash) (3.21.0)\n",
            "Requirement already satisfied: charset-normalizer<4,>=2 in /usr/local/lib/python3.11/dist-packages (from requests->dash) (3.4.1)\n",
            "Requirement already satisfied: idna<4,>=2.5 in /usr/local/lib/python3.11/dist-packages (from requests->dash) (3.10)\n",
            "Requirement already satisfied: urllib3<3,>=1.21.1 in /usr/local/lib/python3.11/dist-packages (from requests->dash) (2.3.0)\n",
            "Requirement already satisfied: certifi>=2017.4.17 in /usr/local/lib/python3.11/dist-packages (from requests->dash) (2024.12.14)\n"
          ]
        }
      ]
    },
    {
      "cell_type": "code",
      "source": [],
      "metadata": {
        "id": "gY4fGK_VSkid"
      },
      "execution_count": 321,
      "outputs": []
    },
    {
      "cell_type": "code",
      "source": [
        "!pip install dash-bootstrap-components"
      ],
      "metadata": {
        "colab": {
          "base_uri": "https://localhost:8080/"
        },
        "id": "6exwO9-dSujg",
        "outputId": "3111856f-fae4-4f5f-cf32-b28933c690b0"
      },
      "execution_count": 322,
      "outputs": [
        {
          "output_type": "stream",
          "name": "stdout",
          "text": [
            "Requirement already satisfied: dash-bootstrap-components in /usr/local/lib/python3.11/dist-packages (1.7.1)\n",
            "Requirement already satisfied: dash>=2.0.0 in /usr/local/lib/python3.11/dist-packages (from dash-bootstrap-components) (2.18.2)\n",
            "Requirement already satisfied: Flask<3.1,>=1.0.4 in /usr/local/lib/python3.11/dist-packages (from dash>=2.0.0->dash-bootstrap-components) (3.0.3)\n",
            "Requirement already satisfied: Werkzeug<3.1 in /usr/local/lib/python3.11/dist-packages (from dash>=2.0.0->dash-bootstrap-components) (3.0.6)\n",
            "Requirement already satisfied: plotly>=5.0.0 in /usr/local/lib/python3.11/dist-packages (from dash>=2.0.0->dash-bootstrap-components) (5.24.1)\n",
            "Requirement already satisfied: dash-html-components==2.0.0 in /usr/local/lib/python3.11/dist-packages (from dash>=2.0.0->dash-bootstrap-components) (2.0.0)\n",
            "Requirement already satisfied: dash-core-components==2.0.0 in /usr/local/lib/python3.11/dist-packages (from dash>=2.0.0->dash-bootstrap-components) (2.0.0)\n",
            "Requirement already satisfied: dash-table==5.0.0 in /usr/local/lib/python3.11/dist-packages (from dash>=2.0.0->dash-bootstrap-components) (5.0.0)\n",
            "Requirement already satisfied: importlib-metadata in /usr/local/lib/python3.11/dist-packages (from dash>=2.0.0->dash-bootstrap-components) (8.5.0)\n",
            "Requirement already satisfied: typing-extensions>=4.1.1 in /usr/local/lib/python3.11/dist-packages (from dash>=2.0.0->dash-bootstrap-components) (4.12.2)\n",
            "Requirement already satisfied: requests in /usr/local/lib/python3.11/dist-packages (from dash>=2.0.0->dash-bootstrap-components) (2.32.3)\n",
            "Requirement already satisfied: retrying in /usr/local/lib/python3.11/dist-packages (from dash>=2.0.0->dash-bootstrap-components) (1.3.4)\n",
            "Requirement already satisfied: nest-asyncio in /usr/local/lib/python3.11/dist-packages (from dash>=2.0.0->dash-bootstrap-components) (1.6.0)\n",
            "Requirement already satisfied: setuptools in /usr/local/lib/python3.11/dist-packages (from dash>=2.0.0->dash-bootstrap-components) (75.1.0)\n",
            "Requirement already satisfied: Jinja2>=3.1.2 in /usr/local/lib/python3.11/dist-packages (from Flask<3.1,>=1.0.4->dash>=2.0.0->dash-bootstrap-components) (3.1.5)\n",
            "Requirement already satisfied: itsdangerous>=2.1.2 in /usr/local/lib/python3.11/dist-packages (from Flask<3.1,>=1.0.4->dash>=2.0.0->dash-bootstrap-components) (2.2.0)\n",
            "Requirement already satisfied: click>=8.1.3 in /usr/local/lib/python3.11/dist-packages (from Flask<3.1,>=1.0.4->dash>=2.0.0->dash-bootstrap-components) (8.1.8)\n",
            "Requirement already satisfied: blinker>=1.6.2 in /usr/local/lib/python3.11/dist-packages (from Flask<3.1,>=1.0.4->dash>=2.0.0->dash-bootstrap-components) (1.9.0)\n",
            "Requirement already satisfied: tenacity>=6.2.0 in /usr/local/lib/python3.11/dist-packages (from plotly>=5.0.0->dash>=2.0.0->dash-bootstrap-components) (9.0.0)\n",
            "Requirement already satisfied: packaging in /usr/local/lib/python3.11/dist-packages (from plotly>=5.0.0->dash>=2.0.0->dash-bootstrap-components) (24.2)\n",
            "Requirement already satisfied: MarkupSafe>=2.1.1 in /usr/local/lib/python3.11/dist-packages (from Werkzeug<3.1->dash>=2.0.0->dash-bootstrap-components) (3.0.2)\n",
            "Requirement already satisfied: zipp>=3.20 in /usr/local/lib/python3.11/dist-packages (from importlib-metadata->dash>=2.0.0->dash-bootstrap-components) (3.21.0)\n",
            "Requirement already satisfied: charset-normalizer<4,>=2 in /usr/local/lib/python3.11/dist-packages (from requests->dash>=2.0.0->dash-bootstrap-components) (3.4.1)\n",
            "Requirement already satisfied: idna<4,>=2.5 in /usr/local/lib/python3.11/dist-packages (from requests->dash>=2.0.0->dash-bootstrap-components) (3.10)\n",
            "Requirement already satisfied: urllib3<3,>=1.21.1 in /usr/local/lib/python3.11/dist-packages (from requests->dash>=2.0.0->dash-bootstrap-components) (2.3.0)\n",
            "Requirement already satisfied: certifi>=2017.4.17 in /usr/local/lib/python3.11/dist-packages (from requests->dash>=2.0.0->dash-bootstrap-components) (2024.12.14)\n",
            "Requirement already satisfied: six>=1.7.0 in /usr/local/lib/python3.11/dist-packages (from retrying->dash>=2.0.0->dash-bootstrap-components) (1.17.0)\n"
          ]
        }
      ]
    },
    {
      "cell_type": "code",
      "source": [],
      "metadata": {
        "id": "eyWj6r6eSumU"
      },
      "execution_count": 322,
      "outputs": []
    },
    {
      "cell_type": "code",
      "source": [],
      "metadata": {
        "id": "ZWWcthHeSzfn"
      },
      "execution_count": 322,
      "outputs": []
    },
    {
      "cell_type": "code",
      "source": [
        "# Importing required libraries"
      ],
      "metadata": {
        "id": "2FjVUOy-Szip"
      },
      "execution_count": 323,
      "outputs": []
    },
    {
      "cell_type": "code",
      "source": [
        "import pandas as pd"
      ],
      "metadata": {
        "id": "AXTVZFqDSzlx"
      },
      "execution_count": 324,
      "outputs": []
    },
    {
      "cell_type": "code",
      "source": [
        "import folium"
      ],
      "metadata": {
        "id": "u2dFm0exSupY"
      },
      "execution_count": 325,
      "outputs": []
    },
    {
      "cell_type": "code",
      "source": [
        "import seaborn as sns"
      ],
      "metadata": {
        "id": "wJ1KhaBhS7k4"
      },
      "execution_count": 326,
      "outputs": []
    },
    {
      "cell_type": "code",
      "source": [
        "import matplotlib.pyplot as plt"
      ],
      "metadata": {
        "id": "R8YSJGf1S7oU"
      },
      "execution_count": 327,
      "outputs": []
    },
    {
      "cell_type": "code",
      "source": [
        "from sklearn.model_selection import train_test_split"
      ],
      "metadata": {
        "id": "wATrRAXUS7ri"
      },
      "execution_count": 328,
      "outputs": []
    },
    {
      "cell_type": "code",
      "source": [
        "from sklearn.preprocessing import StandardScaler, LabelEncoder"
      ],
      "metadata": {
        "id": "E3JqgtKGS7ur"
      },
      "execution_count": 329,
      "outputs": []
    },
    {
      "cell_type": "code",
      "source": [
        "from keras.models import Sequential"
      ],
      "metadata": {
        "id": "mLrbWfbbSusm"
      },
      "execution_count": 330,
      "outputs": []
    },
    {
      "cell_type": "code",
      "source": [
        "from keras.layers import Dense"
      ],
      "metadata": {
        "id": "HFXpSFJITJ2j"
      },
      "execution_count": 331,
      "outputs": []
    },
    {
      "cell_type": "code",
      "source": [
        "import joblib"
      ],
      "metadata": {
        "id": "b4EgkmxYTJ7G"
      },
      "execution_count": 332,
      "outputs": []
    },
    {
      "cell_type": "code",
      "source": [
        "import dash"
      ],
      "metadata": {
        "id": "wVbOaObkTJ-v"
      },
      "execution_count": 333,
      "outputs": []
    },
    {
      "cell_type": "code",
      "source": [
        "from dash import dcc, html"
      ],
      "metadata": {
        "id": "g16kJfW9TKCA"
      },
      "execution_count": 334,
      "outputs": []
    },
    {
      "cell_type": "code",
      "source": [
        "import plotly.express as px"
      ],
      "metadata": {
        "id": "rvKcLM9OTKHJ"
      },
      "execution_count": 335,
      "outputs": []
    },
    {
      "cell_type": "code",
      "source": [
        "import dash_bootstrap_components as dbc"
      ],
      "metadata": {
        "id": "0WtXGD5GTKLT"
      },
      "execution_count": 336,
      "outputs": []
    },
    {
      "cell_type": "code",
      "source": [
        "from dash.dependencies import Input, Output"
      ],
      "metadata": {
        "id": "GX6gqLrwTKOq"
      },
      "execution_count": 337,
      "outputs": []
    },
    {
      "cell_type": "code",
      "source": [],
      "metadata": {
        "id": "Je6_ebCQTbNm"
      },
      "execution_count": 337,
      "outputs": []
    },
    {
      "cell_type": "code",
      "source": [],
      "metadata": {
        "id": "H_PNsvhxTbRp"
      },
      "execution_count": 337,
      "outputs": []
    },
    {
      "cell_type": "code",
      "source": [],
      "metadata": {
        "id": "MX2VSTssb6VM"
      },
      "execution_count": 337,
      "outputs": []
    },
    {
      "cell_type": "markdown",
      "source": [
        "## 🧹 **Loading and Preprocessing the Dataset**\n",
        "We start by loading the dataset using `pandas.read_csv`. This allows us to load data from the CSV file into a DataFrame.\n",
        "\n",
        "**Key steps in preprocessing**:\n",
        "- **Checking for Missing Values**: We check for missing values using `isnull().sum()` and handle them by filling missing values in categorical columns with the most frequent value (mode), and in numerical columns with the mean.\n",
        "- **Removing Duplicates**: We check for duplicate rows using the `duplicated()` method and ensure that there are no repeated records.\n",
        "- **Imputation**: Imputation fills missing data with calculated values, ensuring that the dataset is complete and ready for machine learning modeling."
      ],
      "metadata": {
        "id": "3FNjkEF8b6jk"
      }
    },
    {
      "cell_type": "code",
      "source": [
        "# Load the dataset"
      ],
      "metadata": {
        "id": "LtpMZgRNTbVu"
      },
      "execution_count": 338,
      "outputs": []
    },
    {
      "cell_type": "code",
      "source": [
        "file_path = '/content/Stations_20220221.csv'"
      ],
      "metadata": {
        "id": "O7raosqcTbZW"
      },
      "execution_count": 339,
      "outputs": []
    },
    {
      "cell_type": "code",
      "source": [
        "df = pd.read_csv(file_path)"
      ],
      "metadata": {
        "id": "KRqOlWDvTbdp"
      },
      "execution_count": 340,
      "outputs": []
    },
    {
      "cell_type": "code",
      "source": [],
      "metadata": {
        "id": "DV0PEbUzTbhM"
      },
      "execution_count": 340,
      "outputs": []
    },
    {
      "cell_type": "code",
      "source": [],
      "metadata": {
        "id": "ZC-fiq-nSuvm"
      },
      "execution_count": 340,
      "outputs": []
    },
    {
      "cell_type": "code",
      "source": [
        "# Display the first few rows of the dataset"
      ],
      "metadata": {
        "id": "rHugSI34SklV"
      },
      "execution_count": 341,
      "outputs": []
    },
    {
      "cell_type": "code",
      "source": [
        "print(\"Head of the dataset:\")\n",
        "print(df.head())"
      ],
      "metadata": {
        "colab": {
          "base_uri": "https://localhost:8080/"
        },
        "id": "HOdnpk-PSkoL",
        "outputId": "f8382096-bc0c-447e-f918-bc6d7b23e6e0"
      },
      "execution_count": 342,
      "outputs": [
        {
          "output_type": "stream",
          "name": "stdout",
          "text": [
            "Head of the dataset:\n",
            "   NLC                         NAME  EASTING  NORTHING  \\\n",
            "0  500                   Acton Town   519478    179592   \n",
            "1  501                     Barbican   532004    181856   \n",
            "2  502                      Aldgate   533613    181262   \n",
            "3  503                 Aldgate East   533936    181375   \n",
            "4  504  Stratford International DLR   538128    184761   \n",
            "\n",
            "                                      LINES             NETWORK  \\\n",
            "0                      District, Piccadilly  London Underground   \n",
            "1  Circle, Hammersmith & City, Metropolitan  London Underground   \n",
            "2                      Circle, Metropolitan  London Underground   \n",
            "3              District, Hammersmith & City  London Underground   \n",
            "4                                       DLR                 NaN   \n",
            "\n",
            "  London Underground Elizabeth Line London Overground  DLR Zone         x  \\\n",
            "0                Yes            NaN               NaN  NaN    3 -0.278433   \n",
            "1                Yes            NaN               NaN  NaN    1 -0.097190   \n",
            "2                Yes            NaN               NaN  NaN    1 -0.074236   \n",
            "3                Yes            NaN               NaN  NaN    1 -0.069540   \n",
            "4                NaN            NaN               NaN  Yes  2,3 -0.007832   \n",
            "\n",
            "           y Night Tube?  \n",
            "0  51.502137         Yes  \n",
            "1  51.519699          No  \n",
            "2  51.513982          No  \n",
            "3  51.514917          No  \n",
            "4  51.544339          No  \n"
          ]
        }
      ]
    },
    {
      "cell_type": "code",
      "source": [],
      "metadata": {
        "id": "i495K58UTo4E"
      },
      "execution_count": 342,
      "outputs": []
    },
    {
      "cell_type": "code",
      "source": [],
      "metadata": {
        "id": "-_m0CU07To8w"
      },
      "execution_count": 342,
      "outputs": []
    },
    {
      "cell_type": "code",
      "source": [
        "# Display descriptive statistics"
      ],
      "metadata": {
        "id": "jMKVuUjkTpA2"
      },
      "execution_count": 343,
      "outputs": []
    },
    {
      "cell_type": "code",
      "source": [
        "print(\"\\nDescription of the dataset:\")\n",
        "print(df.describe())"
      ],
      "metadata": {
        "colab": {
          "base_uri": "https://localhost:8080/"
        },
        "id": "U_Ml4hbKTpFM",
        "outputId": "1b5b2910-7d97-44e3-f9c1-fdc549390444"
      },
      "execution_count": 344,
      "outputs": [
        {
          "output_type": "stream",
          "name": "stdout",
          "text": [
            "\n",
            "Description of the dataset:\n",
            "               NLC        EASTING       NORTHING           x           y\n",
            "count   471.000000     471.000000     471.000000  471.000000  471.000000\n",
            "mean   2456.942675  528978.840764  182058.785563   -0.141021   51.522177\n",
            "std    3029.113960   11494.482354    7388.183452    0.165456    0.066437\n",
            "min     500.000000  471527.000000  162244.000000   -0.971878   51.341957\n",
            "25%     618.500000  524046.000000  178815.500000   -0.210827   51.494068\n",
            "50%     747.000000  530196.000000  181837.000000   -0.123168   51.519961\n",
            "75%    3175.000000  536031.500000  186374.500000   -0.040401   51.560653\n",
            "max    9846.000000  561361.000000  202316.000000    0.331671   51.704742\n"
          ]
        }
      ]
    },
    {
      "cell_type": "code",
      "source": [],
      "metadata": {
        "id": "x7ZQKPorTpI6"
      },
      "execution_count": 344,
      "outputs": []
    },
    {
      "cell_type": "code",
      "source": [],
      "metadata": {
        "id": "N4nhFM1wTpMr"
      },
      "execution_count": 344,
      "outputs": []
    },
    {
      "cell_type": "code",
      "source": [
        "# Display info about the dataset (datatypes and non-null counts)"
      ],
      "metadata": {
        "id": "EyWXALleSkqx"
      },
      "execution_count": 345,
      "outputs": []
    },
    {
      "cell_type": "code",
      "source": [
        "print(\"\\nInfo about the dataset:\")\n",
        "print(df.info())"
      ],
      "metadata": {
        "colab": {
          "base_uri": "https://localhost:8080/"
        },
        "id": "B2FAg2VvSktk",
        "outputId": "29a2bed7-0a14-43ae-eb19-5afd3041d1ca"
      },
      "execution_count": 346,
      "outputs": [
        {
          "output_type": "stream",
          "name": "stdout",
          "text": [
            "\n",
            "Info about the dataset:\n",
            "<class 'pandas.core.frame.DataFrame'>\n",
            "RangeIndex: 471 entries, 0 to 470\n",
            "Data columns (total 14 columns):\n",
            " #   Column              Non-Null Count  Dtype  \n",
            "---  ------              --------------  -----  \n",
            " 0   NLC                 471 non-null    int64  \n",
            " 1   NAME                471 non-null    object \n",
            " 2   EASTING             471 non-null    int64  \n",
            " 3   NORTHING            471 non-null    int64  \n",
            " 4   LINES               471 non-null    object \n",
            " 5   NETWORK             309 non-null    object \n",
            " 6   London Underground  270 non-null    object \n",
            " 7   Elizabeth Line      41 non-null     object \n",
            " 8   London Overground   113 non-null    object \n",
            " 9   DLR                 45 non-null     object \n",
            " 10  Zone                471 non-null    object \n",
            " 11  x                   471 non-null    float64\n",
            " 12  y                   471 non-null    float64\n",
            " 13  Night Tube?         471 non-null    object \n",
            "dtypes: float64(2), int64(3), object(9)\n",
            "memory usage: 51.6+ KB\n",
            "None\n"
          ]
        }
      ]
    },
    {
      "cell_type": "code",
      "source": [],
      "metadata": {
        "id": "T95d3IYQMyyr"
      },
      "execution_count": 346,
      "outputs": []
    },
    {
      "cell_type": "code",
      "source": [],
      "metadata": {
        "id": "jqFdLzc_TyLT"
      },
      "execution_count": 346,
      "outputs": []
    },
    {
      "cell_type": "code",
      "source": [
        "# Check for missing values"
      ],
      "metadata": {
        "id": "rv674Tg3TyPS"
      },
      "execution_count": 347,
      "outputs": []
    },
    {
      "cell_type": "code",
      "source": [
        "print(\"\\nMissing values in each column:\")\n",
        "print(df.isnull().sum())"
      ],
      "metadata": {
        "colab": {
          "base_uri": "https://localhost:8080/"
        },
        "id": "BcWi26geTyS6",
        "outputId": "59d102ec-9291-46fa-a889-3820baa61c56"
      },
      "execution_count": 348,
      "outputs": [
        {
          "output_type": "stream",
          "name": "stdout",
          "text": [
            "\n",
            "Missing values in each column:\n",
            "NLC                     0\n",
            "NAME                    0\n",
            "EASTING                 0\n",
            "NORTHING                0\n",
            "LINES                   0\n",
            "NETWORK               162\n",
            "London Underground    201\n",
            "Elizabeth Line        430\n",
            "London Overground     358\n",
            "DLR                   426\n",
            "Zone                    0\n",
            "x                       0\n",
            "y                       0\n",
            "Night Tube?             0\n",
            "dtype: int64\n"
          ]
        }
      ]
    },
    {
      "cell_type": "code",
      "source": [],
      "metadata": {
        "id": "lt4mHqezTyWN"
      },
      "execution_count": 348,
      "outputs": []
    },
    {
      "cell_type": "code",
      "source": [],
      "metadata": {
        "id": "m6J8T7mkTyZU"
      },
      "execution_count": 348,
      "outputs": []
    },
    {
      "cell_type": "code",
      "source": [
        "# Check for duplicate rows"
      ],
      "metadata": {
        "id": "FNMJtY9YTycb"
      },
      "execution_count": 349,
      "outputs": []
    },
    {
      "cell_type": "code",
      "source": [
        "print(\"\\nNumber of duplicate rows:\")\n",
        "print(df.duplicated().sum())"
      ],
      "metadata": {
        "colab": {
          "base_uri": "https://localhost:8080/"
        },
        "id": "FXlFZU_wTygQ",
        "outputId": "acc91a7b-8dd0-4b4c-ecd4-3273e8009d04"
      },
      "execution_count": 350,
      "outputs": [
        {
          "output_type": "stream",
          "name": "stdout",
          "text": [
            "\n",
            "Number of duplicate rows:\n",
            "0\n"
          ]
        }
      ]
    },
    {
      "cell_type": "code",
      "source": [],
      "metadata": {
        "id": "9r2kb94GT8qV"
      },
      "execution_count": 350,
      "outputs": []
    },
    {
      "cell_type": "code",
      "source": [],
      "metadata": {
        "id": "Pr6n9S4sT8uE"
      },
      "execution_count": 350,
      "outputs": []
    },
    {
      "cell_type": "code",
      "source": [
        "# Fill missing values in categorical columns with the mode (most frequent value)\n"
      ],
      "metadata": {
        "id": "u5Cer02fT8xm"
      },
      "execution_count": 351,
      "outputs": []
    },
    {
      "cell_type": "code",
      "source": [
        "categorical_cols = ['NETWORK', 'Night Tube?', 'Zone', 'London Underground', 'Elizabeth Line']\n"
      ],
      "metadata": {
        "id": "w_-g5TFsT81H"
      },
      "execution_count": 352,
      "outputs": []
    },
    {
      "cell_type": "code",
      "source": [
        "numerical_cols = ['EASTING', 'NORTHING', 'x', 'y']"
      ],
      "metadata": {
        "id": "Qb7XDBYDT85V"
      },
      "execution_count": 353,
      "outputs": []
    },
    {
      "cell_type": "code",
      "source": [],
      "metadata": {
        "id": "1ZzOgszrT889"
      },
      "execution_count": 353,
      "outputs": []
    },
    {
      "cell_type": "code",
      "source": [
        "for col in categorical_cols:\n",
        "    df[col] = df[col].fillna(df[col].mode()[0])"
      ],
      "metadata": {
        "id": "Y3uJXESAT9Ag"
      },
      "execution_count": 354,
      "outputs": []
    },
    {
      "cell_type": "code",
      "source": [],
      "metadata": {
        "id": "lXMX8zdAUJXG"
      },
      "execution_count": 354,
      "outputs": []
    },
    {
      "cell_type": "code",
      "source": [],
      "metadata": {
        "id": "n2pcZQQfUJbj"
      },
      "execution_count": 354,
      "outputs": []
    },
    {
      "cell_type": "code",
      "source": [
        "# Fill missing values in numerical columns with the mean"
      ],
      "metadata": {
        "id": "hicOyd5iUJic"
      },
      "execution_count": 355,
      "outputs": []
    },
    {
      "cell_type": "code",
      "source": [
        "for col in numerical_cols:\n",
        "    df[col] = df[col].fillna(df[col].mean())"
      ],
      "metadata": {
        "id": "tX93ximbUJme"
      },
      "execution_count": 356,
      "outputs": []
    },
    {
      "cell_type": "code",
      "source": [],
      "metadata": {
        "id": "Ga_sbDm_UJtf"
      },
      "execution_count": 356,
      "outputs": []
    },
    {
      "cell_type": "code",
      "source": [],
      "metadata": {
        "id": "NPO7B4R-UJx8"
      },
      "execution_count": 356,
      "outputs": []
    },
    {
      "cell_type": "code",
      "source": [
        "# Verify if there are still any missing values"
      ],
      "metadata": {
        "id": "bok2lJfIUJ11"
      },
      "execution_count": 357,
      "outputs": []
    },
    {
      "cell_type": "code",
      "source": [
        "print(\"\\nMissing values after imputation:\")\n",
        "print(df.isnull().sum())"
      ],
      "metadata": {
        "colab": {
          "base_uri": "https://localhost:8080/"
        },
        "id": "gv06C-krUJ5q",
        "outputId": "e4619dc9-1ba2-4fa5-ab77-e505c9becce0"
      },
      "execution_count": 358,
      "outputs": [
        {
          "output_type": "stream",
          "name": "stdout",
          "text": [
            "\n",
            "Missing values after imputation:\n",
            "NLC                     0\n",
            "NAME                    0\n",
            "EASTING                 0\n",
            "NORTHING                0\n",
            "LINES                   0\n",
            "NETWORK                 0\n",
            "London Underground      0\n",
            "Elizabeth Line          0\n",
            "London Overground     358\n",
            "DLR                   426\n",
            "Zone                    0\n",
            "x                       0\n",
            "y                       0\n",
            "Night Tube?             0\n",
            "dtype: int64\n"
          ]
        }
      ]
    },
    {
      "cell_type": "code",
      "source": [],
      "metadata": {
        "id": "V1RRsIfnUVcJ"
      },
      "execution_count": 358,
      "outputs": []
    },
    {
      "cell_type": "code",
      "source": [],
      "metadata": {
        "id": "Nb7J7uFxUVgn"
      },
      "execution_count": 358,
      "outputs": []
    },
    {
      "cell_type": "code",
      "source": [],
      "metadata": {
        "id": "WjcYRyq8eSnn"
      },
      "execution_count": null,
      "outputs": []
    },
    {
      "cell_type": "markdown",
      "source": [
        "## 🔍 **Data Exploration and Visualization**\n",
        "Before training the model, we explore the dataset to understand the data better and look for any patterns or correlations.\n",
        "\n",
        "**Key Steps**:\n",
        "- **Descriptive Statistics**: We use `describe()` to generate summary statistics (e.g., mean, standard deviation) for numerical columns, helping us understand the distribution of data.\n",
        "- **Correlation Heatmap**: We calculate the correlation between numerical features using `corr()`. This gives insight into how strongly features are related to each other, helping with feature selection.\n",
        "- **Histograms**: Histograms are created to visualize the distribution of numerical variables, providing insight into the data’s spread.\n",
        "- **Scatter Plots**: Scatter plots of the geographical coordinates help us visualize the clustering of transport stations by different networks."
      ],
      "metadata": {
        "id": "I6wKBwokeSyD"
      }
    },
    {
      "cell_type": "code",
      "source": [
        "# Create a map centered around the median latitude and longitude of the stations\n"
      ],
      "metadata": {
        "id": "-ekidX79UVmm"
      },
      "execution_count": 359,
      "outputs": []
    },
    {
      "cell_type": "code",
      "source": [
        "map_center = [df['y'].median(), df['x'].median()]"
      ],
      "metadata": {
        "id": "XggtwiN5UVtc"
      },
      "execution_count": 360,
      "outputs": []
    },
    {
      "cell_type": "code",
      "source": [
        "m = folium.Map(location=map_center, zoom_start=12)"
      ],
      "metadata": {
        "id": "cP51TJQiUVx-"
      },
      "execution_count": 361,
      "outputs": []
    },
    {
      "cell_type": "code",
      "source": [],
      "metadata": {
        "id": "hrDWQ5r5UV2b"
      },
      "execution_count": 361,
      "outputs": []
    },
    {
      "cell_type": "code",
      "source": [
        "# Add markers for each station"
      ],
      "metadata": {
        "id": "KzxOBvNpUV6a"
      },
      "execution_count": 362,
      "outputs": []
    },
    {
      "cell_type": "code",
      "source": [
        "for index, row in df.iterrows():\n",
        "    folium.Marker(location=[row['y'], row['x']], popup=row['NAME']).add_to(m)\n"
      ],
      "metadata": {
        "id": "e7Hlr-fLUJ-R"
      },
      "execution_count": 363,
      "outputs": []
    },
    {
      "cell_type": "code",
      "source": [],
      "metadata": {
        "id": "CzqC4sFsUikM"
      },
      "execution_count": 363,
      "outputs": []
    },
    {
      "cell_type": "code",
      "source": [
        "# Display the map"
      ],
      "metadata": {
        "id": "EBxJ5MiaUin9"
      },
      "execution_count": 364,
      "outputs": []
    },
    {
      "cell_type": "code",
      "source": [
        "m.save('/content/stations_map.html')"
      ],
      "metadata": {
        "id": "IrvmyO0YUisX"
      },
      "execution_count": 365,
      "outputs": []
    },
    {
      "cell_type": "code",
      "source": [],
      "metadata": {
        "id": "qCJ5M4ZcUnlg"
      },
      "execution_count": 365,
      "outputs": []
    },
    {
      "cell_type": "code",
      "source": [],
      "metadata": {
        "id": "8_dt7bVMUnp0"
      },
      "execution_count": 365,
      "outputs": []
    },
    {
      "cell_type": "code",
      "source": [
        "# Data visualization"
      ],
      "metadata": {
        "id": "Unloh6pMUnvB"
      },
      "execution_count": 366,
      "outputs": []
    },
    {
      "cell_type": "code",
      "source": [
        "# Correlation Heatmap"
      ],
      "metadata": {
        "id": "CWEkVvzCUiy9"
      },
      "execution_count": 367,
      "outputs": []
    },
    {
      "cell_type": "code",
      "source": [
        "numerical_df = df[['EASTING', 'NORTHING', 'x', 'y']]"
      ],
      "metadata": {
        "id": "CFt2Be5XUi3P"
      },
      "execution_count": 368,
      "outputs": []
    },
    {
      "cell_type": "code",
      "source": [
        "corr = numerical_df.corr()"
      ],
      "metadata": {
        "id": "3ZQy41SVTykO"
      },
      "execution_count": 369,
      "outputs": []
    },
    {
      "cell_type": "code",
      "source": [],
      "metadata": {
        "id": "YKg2-35LUxoJ"
      },
      "execution_count": 369,
      "outputs": []
    },
    {
      "cell_type": "code",
      "source": [
        "plt.figure(figsize=(8, 6))\n",
        "sns.heatmap(corr, annot=True, cmap='coolwarm', fmt='.2f', linewidths=0.5)\n",
        "plt.title('Correlation Heatmap')\n",
        "plt.show()"
      ],
      "metadata": {
        "colab": {
          "base_uri": "https://localhost:8080/"
        },
        "id": "bwgzimj0Uxsp",
        "outputId": "e6523541-c0c2-4b89-d562-4725ba042ed9"
      },
      "execution_count": 370,
      "outputs": [
        {
          "output_type": "display_data",
          "data": {
            "text/plain": [
              "<Figure size 800x600 with 2 Axes>"
            ],
            "image/png": "[encoded data removed]"
          },
          "metadata": {}
        }
      ]
    },
    {
      "cell_type": "code",
      "source": [],
      "metadata": {
        "id": "JCjsf4Q9Ux1S"
      },
      "execution_count": 370,
      "outputs": []
    },
    {
      "cell_type": "code",
      "source": [],
      "metadata": {
        "id": "l5hlZ1pnUx57"
      },
      "execution_count": 370,
      "outputs": []
    },
    {
      "cell_type": "code",
      "source": [
        "# Histograms of numerical variables"
      ],
      "metadata": {
        "id": "b6v_ZNOfUyED"
      },
      "execution_count": 371,
      "outputs": []
    },
    {
      "cell_type": "code",
      "source": [
        "numerical_df.hist(figsize=(10, 8), bins=20, color='lightblue', edgecolor='black')\n",
        "plt.suptitle('Histograms of Numerical Variables')\n",
        "plt.tight_layout()\n",
        "plt.show()"
      ],
      "metadata": {
        "colab": {
          "base_uri": "https://localhost:8080/"
        },
        "id": "gQiVM7QmUyIq",
        "outputId": "2cb1c745-c607-401b-e8e9-9e1d3c3c067c"
      },
      "execution_count": 372,
      "outputs": [
        {
          "output_type": "display_data",
          "data": {
            "text/plain": [
              "<Figure size 1000x800 with 4 Axes>"
            ],
            "image/png": "[encoded data removed]"
          },
          "metadata": {}
        }
      ]
    },
    {
      "cell_type": "code",
      "source": [],
      "metadata": {
        "id": "KJ7Mxe3cU6m7"
      },
      "execution_count": 372,
      "outputs": []
    },
    {
      "cell_type": "code",
      "source": [],
      "metadata": {
        "id": "CN1fUwEUU6sD"
      },
      "execution_count": 372,
      "outputs": []
    },
    {
      "cell_type": "code",
      "source": [
        "# Average coordinates by network"
      ],
      "metadata": {
        "id": "xBFw4bUYU6yL"
      },
      "execution_count": 373,
      "outputs": []
    },
    {
      "cell_type": "code",
      "source": [
        "network_groups = df.groupby('NETWORK').agg({'x': 'mean', 'y': 'mean'}).reset_index()\n"
      ],
      "metadata": {
        "id": "MqB7YLNJU627"
      },
      "execution_count": 374,
      "outputs": []
    },
    {
      "cell_type": "code",
      "source": [],
      "metadata": {
        "id": "qQlOhGnmU69I"
      },
      "execution_count": 374,
      "outputs": []
    },
    {
      "cell_type": "code",
      "source": [
        "plt.figure(figsize=(10, 6))\n",
        "sns.scatterplot(data=network_groups, x='x', y='y', hue='NETWORK', palette='Set1', s=100)\n",
        "plt.title('Average Coordinates for Different Networks')\n",
        "plt.xlabel('Longitude (x)')\n",
        "plt.ylabel('Latitude (y)')\n",
        "plt.legend(title='Network')\n",
        "plt.show()"
      ],
      "metadata": {
        "colab": {
          "base_uri": "https://localhost:8080/"
        },
        "id": "yWWM1UMFU7CA",
        "outputId": "ee653b36-2693-45c9-e998-8db9de13aa12"
      },
      "execution_count": 375,
      "outputs": [
        {
          "output_type": "display_data",
          "data": {
            "text/plain": [
              "<Figure size 1000x600 with 1 Axes>"
            ],
            "image/png": "[encoded data removed]"
          },
          "metadata": {}
        }
      ]
    },
    {
      "cell_type": "code",
      "source": [],
      "metadata": {
        "id": "bXSYpBDlVDio"
      },
      "execution_count": 375,
      "outputs": []
    },
    {
      "cell_type": "code",
      "source": [],
      "metadata": {
        "id": "zyFeVSQvVDoB"
      },
      "execution_count": 375,
      "outputs": []
    },
    {
      "cell_type": "code",
      "source": [],
      "metadata": {
        "id": "vNZr4EsqeYs5"
      },
      "execution_count": null,
      "outputs": []
    },
    {
      "cell_type": "markdown",
      "source": [
        "## 🔧 **Feature Engineering**\n",
        "In this step, we prepare the data for training by performing the following tasks:\n",
        "  \n",
        "**Key Steps**:\n",
        "- **Categorical Encoding**: Categorical columns, such as 'Network' and 'Zone', are converted into numerical values using **LabelEncoder**. This makes the data suitable for machine learning algorithms that require numerical input.\n",
        "- **Scaling**: Numerical features like 'EASTING', 'NORTHING', 'x', and 'y' are scaled using **StandardScaler** to normalize the data. This step ensures that the features are on the same scale, which helps with model convergence and accuracy.\n",
        "- **Splitting the Data**: We split the data into training and testing sets using `train_test_split()`. The training set is used to train the model, and the testing set is used to evaluate the model’s performance."
      ],
      "metadata": {
        "id": "2fsU0xR2eY8J"
      }
    },
    {
      "cell_type": "code",
      "source": [
        "# Machine Learning Model"
      ],
      "metadata": {
        "id": "D-EXGmuaVDsf"
      },
      "execution_count": 376,
      "outputs": []
    },
    {
      "cell_type": "code",
      "source": [
        "# Encode categorical variables using LabelEncoder"
      ],
      "metadata": {
        "id": "K2f-kYE9VD4u"
      },
      "execution_count": 377,
      "outputs": []
    },
    {
      "cell_type": "code",
      "source": [
        "label_cols = ['NETWORK', 'Night Tube?', 'Zone']"
      ],
      "metadata": {
        "id": "nGw6CvSlVD-G"
      },
      "execution_count": 378,
      "outputs": []
    },
    {
      "cell_type": "code",
      "source": [
        "encoder = LabelEncoder()"
      ],
      "metadata": {
        "id": "EFN2AFMzUyNL"
      },
      "execution_count": 379,
      "outputs": []
    },
    {
      "cell_type": "code",
      "source": [],
      "metadata": {
        "id": "vV-1TUmjVOHx"
      },
      "execution_count": 379,
      "outputs": []
    },
    {
      "cell_type": "code",
      "source": [
        "for col in label_cols:\n",
        "    df[col] = encoder.fit_transform(df[col])"
      ],
      "metadata": {
        "id": "BQKQp9D7VONS"
      },
      "execution_count": 380,
      "outputs": []
    },
    {
      "cell_type": "code",
      "source": [],
      "metadata": {
        "id": "HGW1rRSVVOSE"
      },
      "execution_count": 380,
      "outputs": []
    },
    {
      "cell_type": "code",
      "source": [],
      "metadata": {
        "id": "_SkZylF5VObb"
      },
      "execution_count": 380,
      "outputs": []
    },
    {
      "cell_type": "code",
      "source": [
        "# Select features and target"
      ],
      "metadata": {
        "id": "1XCh2I1NVOhX"
      },
      "execution_count": 381,
      "outputs": []
    },
    {
      "cell_type": "code",
      "source": [
        "X = df[['EASTING', 'NORTHING', 'x', 'y', 'Night Tube?', 'NETWORK', 'Zone']]\n"
      ],
      "metadata": {
        "id": "Qus4zDFvUySf"
      },
      "execution_count": 382,
      "outputs": []
    },
    {
      "cell_type": "code",
      "source": [
        "y = df[['x', 'y']]  # Target variable (predicting the 'x' and 'y' coordinates)\n"
      ],
      "metadata": {
        "id": "dNFNXyCiUyYr"
      },
      "execution_count": 383,
      "outputs": []
    },
    {
      "cell_type": "code",
      "source": [],
      "metadata": {
        "id": "S4oH_IiBVZ4O"
      },
      "execution_count": 383,
      "outputs": []
    },
    {
      "cell_type": "code",
      "source": [],
      "metadata": {
        "id": "XccU499YVZ_L"
      },
      "execution_count": 383,
      "outputs": []
    },
    {
      "cell_type": "code",
      "source": [
        "# Scale numerical features"
      ],
      "metadata": {
        "id": "xkyJyMzoVaEA"
      },
      "execution_count": 384,
      "outputs": []
    },
    {
      "cell_type": "code",
      "source": [
        "scaler = StandardScaler()"
      ],
      "metadata": {
        "id": "f8Tk--iFVaKW"
      },
      "execution_count": 385,
      "outputs": []
    },
    {
      "cell_type": "code",
      "source": [
        "X[['EASTING', 'NORTHING', 'x', 'y']] = scaler.fit_transform(X[['EASTING', 'NORTHING', 'x', 'y']])\n"
      ],
      "metadata": {
        "id": "geMRmQZqVaQT"
      },
      "execution_count": 386,
      "outputs": []
    },
    {
      "cell_type": "code",
      "source": [],
      "metadata": {
        "id": "GOVURPjeVaX5"
      },
      "execution_count": 386,
      "outputs": []
    },
    {
      "cell_type": "code",
      "source": [],
      "metadata": {
        "id": "EI8sHWkYVafv"
      },
      "execution_count": 386,
      "outputs": []
    },
    {
      "cell_type": "code",
      "source": [
        "# Split the dataset into training and testing sets"
      ],
      "metadata": {
        "id": "6q0etluTUydx"
      },
      "execution_count": 387,
      "outputs": []
    },
    {
      "cell_type": "code",
      "source": [
        "X_train, X_test, y_train, y_test = train_test_split(X, y, test_size=0.2, random_state=42)\n"
      ],
      "metadata": {
        "id": "p9_pwHH3Vlmk"
      },
      "execution_count": 388,
      "outputs": []
    },
    {
      "cell_type": "code",
      "source": [],
      "metadata": {
        "id": "-A-grCoSVlwA"
      },
      "execution_count": 388,
      "outputs": []
    },
    {
      "cell_type": "code",
      "source": [],
      "metadata": {
        "id": "QTrwSw27Vl1W"
      },
      "execution_count": 388,
      "outputs": []
    },
    {
      "cell_type": "code",
      "source": [],
      "metadata": {
        "id": "VBzO-Eytef5f"
      },
      "execution_count": null,
      "outputs": []
    },
    {
      "cell_type": "markdown",
      "source": [
        "## 🧠 **Building and Training the Neural Network**\n",
        "In this step, we build a neural network model using **Keras**. The model will predict the geographical coordinates of transport stations based on other features.\n",
        "\n",
        "**Key Steps**:\n",
        "- **Model Architecture**: We define a **Sequential model** with two hidden layers. The first layer has 64 neurons, the second layer has 32 neurons, and the output layer has 2 neurons (one for predicting 'x' and one for 'y' coordinates).\n",
        "- **Activation Function**: We use the **ReLU** activation function for the hidden layers to introduce non-linearity. This helps the network learn more complex patterns.\n",
        "- **Loss Function**: We use **Mean Squared Error (MSE)** as the loss function, as this is a regression problem where we predict continuous values (coordinates).\n",
        "- **Training the Model**: The model is trained for 50 epochs using the **Adam optimizer**. During training, we monitor the validation loss to prevent overfitting."
      ],
      "metadata": {
        "id": "9j8VEorHehG4"
      }
    },
    {
      "cell_type": "code",
      "source": [
        "# Define and train the neural network model"
      ],
      "metadata": {
        "id": "a8Dc7uSpVl6j"
      },
      "execution_count": 389,
      "outputs": []
    },
    {
      "cell_type": "code",
      "source": [
        "model = Sequential([\n",
        "    Dense(64, input_dim=X_train.shape[1], activation='relu'),\n",
        "    Dense(32, activation='relu'),\n",
        "    Dense(2)  # Output layer for predicting 'x' and 'y'\n",
        "])"
      ],
      "metadata": {
        "id": "uk7rIsQqVmAS"
      },
      "execution_count": 390,
      "outputs": []
    },
    {
      "cell_type": "code",
      "source": [],
      "metadata": {
        "id": "80f48BkcVmFn"
      },
      "execution_count": 390,
      "outputs": []
    },
    {
      "cell_type": "code",
      "source": [],
      "metadata": {
        "id": "EsIHwXLWVmLr"
      },
      "execution_count": 390,
      "outputs": []
    },
    {
      "cell_type": "code",
      "source": [
        "model.compile(optimizer='adam', loss='mean_squared_error')"
      ],
      "metadata": {
        "id": "avQLflBMVmR6"
      },
      "execution_count": 391,
      "outputs": []
    },
    {
      "cell_type": "code",
      "source": [
        "history = model.fit(X_train, y_train, epochs=50, batch_size=32, validation_data=(X_test, y_test))\n"
      ],
      "metadata": {
        "colab": {
          "base_uri": "https://localhost:8080/"
        },
        "id": "ofvXveDEVmXc",
        "outputId": "5aeaa7b9-a20e-408f-f102-7998e5f9a161"
      },
      "execution_count": 392,
      "outputs": [
        {
          "output_type": "stream",
          "name": "stdout",
          "text": [
            "Epoch 1/50\n",
            "\u001b[1m12/12\u001b[0m \u001b[32m━━━━━━━━━━━━━━━━━━━━\u001b[0m\u001b[37m\u001b[0m \u001b[1m5s\u001b[0m 197ms/step - loss: 1322.1948 - val_loss: 1261.1133\n",
            "Epoch 2/50\n",
            "\u001b[1m12/12\u001b[0m \u001b[32m━━━━━━━━━━━━━━━━━━━━\u001b[0m\u001b[37m\u001b[0m \u001b[1m2s\u001b[0m 8ms/step - loss: 1254.6438 - val_loss: 1186.7797\n",
            "Epoch 3/50\n",
            "\u001b[1m12/12\u001b[0m \u001b[32m━━━━━━━━━━━━━━━━━━━━\u001b[0m\u001b[37m\u001b[0m \u001b[1m0s\u001b[0m 7ms/step - loss: 1187.7721 - val_loss: 1102.2844\n",
            "Epoch 4/50\n",
            "\u001b[1m12/12\u001b[0m \u001b[32m━━━━━━━━━━━━━━━━━━━━\u001b[0m\u001b[37m\u001b[0m \u001b[1m0s\u001b[0m 19ms/step - loss: 1116.7910 - val_loss: 1001.4995\n",
            "Epoch 5/50\n",
            "\u001b[1m12/12\u001b[0m \u001b[32m━━━━━━━━━━━━━━━━━━━━\u001b[0m\u001b[37m\u001b[0m \u001b[1m0s\u001b[0m 20ms/step - loss: 1012.8696 - val_loss: 878.8127\n",
            "Epoch 6/50\n",
            "\u001b[1m12/12\u001b[0m \u001b[32m━━━━━━━━━━━━━━━━━━━━\u001b[0m\u001b[37m\u001b[0m \u001b[1m0s\u001b[0m 7ms/step - loss: 908.2861 - val_loss: 738.4572\n",
            "Epoch 7/50\n",
            "\u001b[1m12/12\u001b[0m \u001b[32m━━━━━━━━━━━━━━━━━━━━\u001b[0m\u001b[37m\u001b[0m \u001b[1m0s\u001b[0m 6ms/step - loss: 789.3563 - val_loss: 587.3267\n",
            "Epoch 8/50\n",
            "\u001b[1m12/12\u001b[0m \u001b[32m━━━━━━━━━━━━━━━━━━━━\u001b[0m\u001b[37m\u001b[0m \u001b[1m0s\u001b[0m 13ms/step - loss: 600.9791 - val_loss: 437.5762\n",
            "Epoch 9/50\n",
            "\u001b[1m12/12\u001b[0m \u001b[32m━━━━━━━━━━━━━━━━━━━━\u001b[0m\u001b[37m\u001b[0m \u001b[1m0s\u001b[0m 8ms/step - loss: 478.7317 - val_loss: 313.8560\n",
            "Epoch 10/50\n",
            "\u001b[1m12/12\u001b[0m \u001b[32m━━━━━━━━━━━━━━━━━━━━\u001b[0m\u001b[37m\u001b[0m \u001b[1m0s\u001b[0m 6ms/step - loss: 391.0231 - val_loss: 234.5345\n",
            "Epoch 11/50\n",
            "\u001b[1m12/12\u001b[0m \u001b[32m━━━━━━━━━━━━━━━━━━━━\u001b[0m\u001b[37m\u001b[0m \u001b[1m0s\u001b[0m 12ms/step - loss: 288.3835 - val_loss: 203.2729\n",
            "Epoch 12/50\n",
            "\u001b[1m12/12\u001b[0m \u001b[32m━━━━━━━━━━━━━━━━━━━━\u001b[0m\u001b[37m\u001b[0m \u001b[1m0s\u001b[0m 15ms/step - loss: 241.9834 - val_loss: 200.2929\n",
            "Epoch 13/50\n",
            "\u001b[1m12/12\u001b[0m \u001b[32m━━━━━━━━━━━━━━━━━━━━\u001b[0m\u001b[37m\u001b[0m \u001b[1m0s\u001b[0m 12ms/step - loss: 234.9045 - val_loss: 197.3555\n",
            "Epoch 14/50\n",
            "\u001b[1m12/12\u001b[0m \u001b[32m━━━━━━━━━━━━━━━━━━━━\u001b[0m\u001b[37m\u001b[0m \u001b[1m0s\u001b[0m 9ms/step - loss: 214.5939 - val_loss: 189.9398\n",
            "Epoch 15/50\n",
            "\u001b[1m12/12\u001b[0m \u001b[32m━━━━━━━━━━━━━━━━━━━━\u001b[0m\u001b[37m\u001b[0m \u001b[1m0s\u001b[0m 10ms/step - loss: 203.6667 - val_loss: 178.4435\n",
            "Epoch 16/50\n",
            "\u001b[1m12/12\u001b[0m \u001b[32m━━━━━━━━━━━━━━━━━━━━\u001b[0m\u001b[37m\u001b[0m \u001b[1m0s\u001b[0m 8ms/step - loss: 193.2540 - val_loss: 167.1019\n",
            "Epoch 17/50\n",
            "\u001b[1m12/12\u001b[0m \u001b[32m━━━━━━━━━━━━━━━━━━━━\u001b[0m\u001b[37m\u001b[0m \u001b[1m0s\u001b[0m 7ms/step - loss: 200.1106 - val_loss: 159.4890\n",
            "Epoch 18/50\n",
            "\u001b[1m12/12\u001b[0m \u001b[32m━━━━━━━━━━━━━━━━━━━━\u001b[0m\u001b[37m\u001b[0m \u001b[1m0s\u001b[0m 7ms/step - loss: 186.8384 - val_loss: 150.5539\n",
            "Epoch 19/50\n",
            "\u001b[1m12/12\u001b[0m \u001b[32m━━━━━━━━━━━━━━━━━━━━\u001b[0m\u001b[37m\u001b[0m \u001b[1m0s\u001b[0m 10ms/step - loss: 152.4311 - val_loss: 139.7533\n",
            "Epoch 20/50\n",
            "\u001b[1m12/12\u001b[0m \u001b[32m━━━━━━━━━━━━━━━━━━━━\u001b[0m\u001b[37m\u001b[0m \u001b[1m0s\u001b[0m 11ms/step - loss: 170.7482 - val_loss: 129.2470\n",
            "Epoch 21/50\n",
            "\u001b[1m12/12\u001b[0m \u001b[32m━━━━━━━━━━━━━━━━━━━━\u001b[0m\u001b[37m\u001b[0m \u001b[1m0s\u001b[0m 12ms/step - loss: 152.8230 - val_loss: 117.9536\n",
            "Epoch 22/50\n",
            "\u001b[1m12/12\u001b[0m \u001b[32m━━━━━━━━━━━━━━━━━━━━\u001b[0m\u001b[37m\u001b[0m \u001b[1m0s\u001b[0m 8ms/step - loss: 147.2605 - val_loss: 110.8140\n",
            "Epoch 23/50\n",
            "\u001b[1m12/12\u001b[0m \u001b[32m━━━━━━━━━━━━━━━━━━━━\u001b[0m\u001b[37m\u001b[0m \u001b[1m0s\u001b[0m 6ms/step - loss: 134.9668 - val_loss: 101.8500\n",
            "Epoch 24/50\n",
            "\u001b[1m12/12\u001b[0m \u001b[32m━━━━━━━━━━━━━━━━━━━━\u001b[0m\u001b[37m\u001b[0m \u001b[1m0s\u001b[0m 15ms/step - loss: 109.5126 - val_loss: 93.1041\n",
            "Epoch 25/50\n",
            "\u001b[1m12/12\u001b[0m \u001b[32m━━━━━━━━━━━━━━━━━━━━\u001b[0m\u001b[37m\u001b[0m \u001b[1m0s\u001b[0m 22ms/step - loss: 112.1902 - val_loss: 86.1665\n",
            "Epoch 26/50\n",
            "\u001b[1m12/12\u001b[0m \u001b[32m━━━━━━━━━━━━━━━━━━━━\u001b[0m\u001b[37m\u001b[0m \u001b[1m0s\u001b[0m 7ms/step - loss: 97.3271 - val_loss: 78.1556\n",
            "Epoch 27/50\n",
            "\u001b[1m12/12\u001b[0m \u001b[32m━━━━━━━━━━━━━━━━━━━━\u001b[0m\u001b[37m\u001b[0m \u001b[1m0s\u001b[0m 8ms/step - loss: 91.3400 - val_loss: 71.0499\n",
            "Epoch 28/50\n",
            "\u001b[1m12/12\u001b[0m \u001b[32m━━━━━━━━━━━━━━━━━━━━\u001b[0m\u001b[37m\u001b[0m \u001b[1m0s\u001b[0m 10ms/step - loss: 80.7374 - val_loss: 64.2108\n",
            "Epoch 29/50\n",
            "\u001b[1m12/12\u001b[0m \u001b[32m━━━━━━━━━━━━━━━━━━━━\u001b[0m\u001b[37m\u001b[0m \u001b[1m0s\u001b[0m 8ms/step - loss: 80.7205 - val_loss: 58.6318\n",
            "Epoch 30/50\n",
            "\u001b[1m12/12\u001b[0m \u001b[32m━━━━━━━━━━━━━━━━━━━━\u001b[0m\u001b[37m\u001b[0m \u001b[1m0s\u001b[0m 23ms/step - loss: 66.9624 - val_loss: 53.3073\n",
            "Epoch 31/50\n",
            "\u001b[1m12/12\u001b[0m \u001b[32m━━━━━━━━━━━━━━━━━━━━\u001b[0m\u001b[37m\u001b[0m \u001b[1m0s\u001b[0m 22ms/step - loss: 68.3370 - val_loss: 49.4839\n",
            "Epoch 32/50\n",
            "\u001b[1m12/12\u001b[0m \u001b[32m━━━━━━━━━━━━━━━━━━━━\u001b[0m\u001b[37m\u001b[0m \u001b[1m0s\u001b[0m 14ms/step - loss: 50.7912 - val_loss: 44.4585\n",
            "Epoch 33/50\n",
            "\u001b[1m12/12\u001b[0m \u001b[32m━━━━━━━━━━━━━━━━━━━━\u001b[0m\u001b[37m\u001b[0m \u001b[1m0s\u001b[0m 15ms/step - loss: 52.0449 - val_loss: 41.1426\n",
            "Epoch 34/50\n",
            "\u001b[1m12/12\u001b[0m \u001b[32m━━━━━━━━━━━━━━━━━━━━\u001b[0m\u001b[37m\u001b[0m \u001b[1m0s\u001b[0m 12ms/step - loss: 50.7571 - val_loss: 37.3464\n",
            "Epoch 35/50\n",
            "\u001b[1m12/12\u001b[0m \u001b[32m━━━━━━━━━━━━━━━━━━━━\u001b[0m\u001b[37m\u001b[0m \u001b[1m0s\u001b[0m 13ms/step - loss: 43.1243 - val_loss: 33.5639\n",
            "Epoch 36/50\n",
            "\u001b[1m12/12\u001b[0m \u001b[32m━━━━━━━━━━━━━━━━━━━━\u001b[0m\u001b[37m\u001b[0m \u001b[1m0s\u001b[0m 26ms/step - loss: 40.9405 - val_loss: 29.8502\n",
            "Epoch 37/50\n",
            "\u001b[1m12/12\u001b[0m \u001b[32m━━━━━━━━━━━━━━━━━━━━\u001b[0m\u001b[37m\u001b[0m \u001b[1m1s\u001b[0m 27ms/step - loss: 32.7291 - val_loss: 27.3002\n",
            "Epoch 38/50\n",
            "\u001b[1m12/12\u001b[0m \u001b[32m━━━━━━━━━━━━━━━━━━━━\u001b[0m\u001b[37m\u001b[0m \u001b[1m1s\u001b[0m 27ms/step - loss: 29.3111 - val_loss: 23.8578\n",
            "Epoch 39/50\n",
            "\u001b[1m12/12\u001b[0m \u001b[32m━━━━━━━━━━━━━━━━━━━━\u001b[0m\u001b[37m\u001b[0m \u001b[1m0s\u001b[0m 7ms/step - loss: 28.7070 - val_loss: 20.6164\n",
            "Epoch 40/50\n",
            "\u001b[1m12/12\u001b[0m \u001b[32m━━━━━━━━━━━━━━━━━━━━\u001b[0m\u001b[37m\u001b[0m \u001b[1m0s\u001b[0m 7ms/step - loss: 22.7352 - val_loss: 18.1472\n",
            "Epoch 41/50\n",
            "\u001b[1m12/12\u001b[0m \u001b[32m━━━━━━━━━━━━━━━━━━━━\u001b[0m\u001b[37m\u001b[0m \u001b[1m0s\u001b[0m 6ms/step - loss: 19.8026 - val_loss: 15.8523\n",
            "Epoch 42/50\n",
            "\u001b[1m12/12\u001b[0m \u001b[32m━━━━━━━━━━━━━━━━━━━━\u001b[0m\u001b[37m\u001b[0m \u001b[1m0s\u001b[0m 9ms/step - loss: 16.9703 - val_loss: 13.6783\n",
            "Epoch 43/50\n",
            "\u001b[1m12/12\u001b[0m \u001b[32m━━━━━━━━━━━━━━━━━━━━\u001b[0m\u001b[37m\u001b[0m \u001b[1m0s\u001b[0m 7ms/step - loss: 14.4436 - val_loss: 11.5214\n",
            "Epoch 44/50\n",
            "\u001b[1m12/12\u001b[0m \u001b[32m━━━━━━━━━━━━━━━━━━━━\u001b[0m\u001b[37m\u001b[0m \u001b[1m0s\u001b[0m 15ms/step - loss: 11.6928 - val_loss: 9.8323\n",
            "Epoch 45/50\n",
            "\u001b[1m12/12\u001b[0m \u001b[32m━━━━━━━━━━━━━━━━━━━━\u001b[0m\u001b[37m\u001b[0m \u001b[1m0s\u001b[0m 7ms/step - loss: 10.0706 - val_loss: 8.4133\n",
            "Epoch 46/50\n",
            "\u001b[1m12/12\u001b[0m \u001b[32m━━━━━━━━━━━━━━━━━━━━\u001b[0m\u001b[37m\u001b[0m \u001b[1m0s\u001b[0m 8ms/step - loss: 7.9167 - val_loss: 7.0546\n",
            "Epoch 47/50\n",
            "\u001b[1m12/12\u001b[0m \u001b[32m━━━━━━━━━━━━━━━━━━━━\u001b[0m\u001b[37m\u001b[0m \u001b[1m0s\u001b[0m 6ms/step - loss: 6.4652 - val_loss: 5.7533\n",
            "Epoch 48/50\n",
            "\u001b[1m12/12\u001b[0m \u001b[32m━━━━━━━━━━━━━━━━━━━━\u001b[0m\u001b[37m\u001b[0m \u001b[1m0s\u001b[0m 8ms/step - loss: 6.4169 - val_loss: 5.2355\n",
            "Epoch 49/50\n",
            "\u001b[1m12/12\u001b[0m \u001b[32m━━━━━━━━━━━━━━━━━━━━\u001b[0m\u001b[37m\u001b[0m \u001b[1m0s\u001b[0m 21ms/step - loss: 4.8268 - val_loss: 4.4621\n",
            "Epoch 50/50\n",
            "\u001b[1m12/12\u001b[0m \u001b[32m━━━━━━━━━━━━━━━━━━━━\u001b[0m\u001b[37m\u001b[0m \u001b[1m0s\u001b[0m 9ms/step - loss: 4.2036 - val_loss: 3.6528\n"
          ]
        }
      ]
    },
    {
      "cell_type": "code",
      "source": [],
      "metadata": {
        "id": "iUdwcJ9MVmcr"
      },
      "execution_count": 392,
      "outputs": []
    },
    {
      "cell_type": "code",
      "source": [],
      "metadata": {
        "id": "yD3KbQdeVmiT"
      },
      "execution_count": 392,
      "outputs": []
    },
    {
      "cell_type": "code",
      "source": [],
      "metadata": {
        "id": "b-U0G60Uenys"
      },
      "execution_count": null,
      "outputs": []
    },
    {
      "cell_type": "markdown",
      "source": [
        "## 🧪 **Evaluating the Model**\n",
        "After training the model, we evaluate its performance using the testing data. This step helps us understand how well the model generalizes to new, unseen data.\n",
        "\n",
        "**Key Steps**:\n",
        "- **Test Loss**: We use the `evaluate()` method to calculate the test loss, which indicates how well the model predicts the coordinates ('x' and 'y') on the testing data. A lower loss indicates better performance.\n",
        "- **Interpretation**: If the test loss is high, we may need to tune the model, adjust the features, or perform further preprocessing to improve the results."
      ],
      "metadata": {
        "id": "7KRvDcqneoET"
      }
    },
    {
      "cell_type": "code",
      "source": [
        "# Evaluate the model"
      ],
      "metadata": {
        "id": "pY8SY4ypV0rt"
      },
      "execution_count": 393,
      "outputs": []
    },
    {
      "cell_type": "code",
      "source": [
        "test_loss = model.evaluate(X_test, y_test)"
      ],
      "metadata": {
        "colab": {
          "base_uri": "https://localhost:8080/"
        },
        "id": "DZCQTj_OV0xg",
        "outputId": "7207a193-0533-457f-e68c-620d98064476"
      },
      "execution_count": 394,
      "outputs": [
        {
          "output_type": "stream",
          "name": "stdout",
          "text": [
            "\u001b[1m3/3\u001b[0m \u001b[32m━━━━━━━━━━━━━━━━━━━━\u001b[0m\u001b[37m\u001b[0m \u001b[1m0s\u001b[0m 4ms/step - loss: 2.7476 \n"
          ]
        }
      ]
    },
    {
      "cell_type": "code",
      "source": [
        "print(f'Test Loss: {test_loss}')"
      ],
      "metadata": {
        "colab": {
          "base_uri": "https://localhost:8080/"
        },
        "id": "RrXi3fiSV03I",
        "outputId": "48918f5b-b7fa-4afb-f7a3-f314e19959b9"
      },
      "execution_count": 395,
      "outputs": [
        {
          "output_type": "stream",
          "name": "stdout",
          "text": [
            "Test Loss: 3.652839183807373\n"
          ]
        }
      ]
    },
    {
      "cell_type": "code",
      "source": [],
      "metadata": {
        "id": "Wo0C4uVaV089"
      },
      "execution_count": 395,
      "outputs": []
    },
    {
      "cell_type": "code",
      "source": [],
      "metadata": {
        "id": "MnnE1W7CV1Ck"
      },
      "execution_count": 395,
      "outputs": []
    },
    {
      "cell_type": "code",
      "source": [],
      "metadata": {
        "id": "iN_OV9hverzy"
      },
      "execution_count": null,
      "outputs": []
    },
    {
      "cell_type": "markdown",
      "source": [
        "## 💾 **Saving the Model and Artifacts**\n",
        "Once the model is trained and evaluated, we save the trained model and important components like the scaler and training history for future use.\n",
        "\n",
        "**Key Steps**:\n",
        "- **Saving the Model**: The trained model is saved using `model.save()`. This allows us to load the model later and use it for making predictions on new data.\n",
        "- **Saving the Scaler**: The **StandardScaler** used to scale the features is saved using `joblib.dump()`. This ensures that we can scale new data consistently when making predictions in the future.\n",
        "- **Saving the Training History**: The model’s training history, including loss and accuracy for each epoch, is saved in a CSV file to analyze the training process and monitor model performance over time."
      ],
      "metadata": {
        "id": "soWdmLnnesH8"
      }
    },
    {
      "cell_type": "code",
      "source": [
        "# Save the model, training history, and scaler"
      ],
      "metadata": {
        "id": "sL5Ok6q9V1IL"
      },
      "execution_count": 396,
      "outputs": []
    },
    {
      "cell_type": "code",
      "source": [
        "model.save('/content/transport_demand_model.h5')"
      ],
      "metadata": {
        "colab": {
          "base_uri": "https://localhost:8080/"
        },
        "id": "6ZYASxyFVmnz",
        "outputId": "86d1004a-aa6a-40c8-ea6d-771bac79dadf"
      },
      "execution_count": 397,
      "outputs": [
        {
          "output_type": "stream",
          "name": "stderr",
          "text": [
            "WARNING:absl:You are saving your model as an HDF5 file via `model.save()` or `keras.saving.save_model(model)`. This file format is considered legacy. We recommend using instead the native Keras format, e.g. `model.save('my_model.keras')` or `keras.saving.save_model(model, 'my_model.keras')`. \n"
          ]
        }
      ]
    },
    {
      "cell_type": "code",
      "source": [
        "history_df = pd.DataFrame(history.history)"
      ],
      "metadata": {
        "id": "IwXU6zkiWAms"
      },
      "execution_count": 398,
      "outputs": []
    },
    {
      "cell_type": "code",
      "source": [
        "history_df.to_csv('/content/transport_demand_training_history.csv', index=False)\n"
      ],
      "metadata": {
        "id": "jl7Vi25-WArz"
      },
      "execution_count": 399,
      "outputs": []
    },
    {
      "cell_type": "code",
      "source": [
        "joblib.dump(scaler, '/content/scaler.pkl')"
      ],
      "metadata": {
        "colab": {
          "base_uri": "https://localhost:8080/"
        },
        "id": "94zW0vbIWAw-",
        "outputId": "564b4869-401e-4753-fb75-95dca581f85b"
      },
      "execution_count": 400,
      "outputs": [
        {
          "output_type": "execute_result",
          "data": {
            "text/plain": [
              "['/content/scaler.pkl']"
            ]
          },
          "metadata": {},
          "execution_count": 400
        }
      ]
    },
    {
      "cell_type": "code",
      "source": [],
      "metadata": {
        "id": "JKxgiwC-WA2O"
      },
      "execution_count": 400,
      "outputs": []
    },
    {
      "cell_type": "code",
      "source": [],
      "metadata": {
        "id": "svRlKbxbWA9P"
      },
      "execution_count": 400,
      "outputs": []
    },
    {
      "cell_type": "code",
      "source": [],
      "metadata": {
        "id": "BZEOvRpnWBKX"
      },
      "execution_count": 400,
      "outputs": []
    },
    {
      "cell_type": "markdown",
      "source": [
        "## 🌐 **Building the Dash Web Application**\n",
        "The final step is to create an interactive web application using **Dash** that allows users to visualize the transport station data and demand.\n",
        "\n",
        "**Key Steps**:\n",
        "- **Map Visualization**: We create an interactive map using **Plotly** and **Dash**, displaying the geographic locations of transport stations.\n",
        "- **Dropdown for Zones**: The app includes a dropdown menu for users to select a transport zone, which dynamically updates a histogram showing the transport demand for that zone.\n",
        "- **Layout and Callback**: We define the layout of the web app, including the map and the demand graph. A callback function updates the demand graph based on the selected zone, making the app interactive and engaging."
      ],
      "metadata": {
        "id": "v2s5OkJ_ewME"
      }
    },
    {
      "cell_type": "code",
      "source": [
        "# Dash Web Application"
      ],
      "metadata": {
        "id": "tUk4HmPZWQM9"
      },
      "execution_count": 401,
      "outputs": []
    },
    {
      "cell_type": "code",
      "source": [
        "# Initialize the Dash app"
      ],
      "metadata": {
        "id": "vds3LteWWQUr"
      },
      "execution_count": 402,
      "outputs": []
    },
    {
      "cell_type": "code",
      "source": [
        "app = dash.Dash(__name__, external_stylesheets=[dbc.themes.BOOTSTRAP])"
      ],
      "metadata": {
        "id": "f5XjzrQVWQc5"
      },
      "execution_count": 403,
      "outputs": []
    },
    {
      "cell_type": "code",
      "source": [],
      "metadata": {
        "id": "rR66hUD6WYFI"
      },
      "execution_count": 403,
      "outputs": []
    },
    {
      "cell_type": "code",
      "source": [],
      "metadata": {
        "id": "LNJVVXBvZI5A"
      },
      "execution_count": 403,
      "outputs": []
    },
    {
      "cell_type": "code",
      "source": [
        "# Clean numeric columns by removing commas and converting to float"
      ],
      "metadata": {
        "id": "ceRzih26W72z"
      },
      "execution_count": 404,
      "outputs": []
    },
    {
      "cell_type": "code",
      "source": [
        "numeric_columns = ['EASTING', 'NORTHING', 'x', 'y']"
      ],
      "metadata": {
        "id": "3sr4KbkYW79f"
      },
      "execution_count": 405,
      "outputs": []
    },
    {
      "cell_type": "code",
      "source": [
        "for col in numeric_columns:\n",
        "    df[col] = df[col].replace({',': ''}, regex=True).astype(float)"
      ],
      "metadata": {
        "id": "loRa2EBbW8Du"
      },
      "execution_count": 406,
      "outputs": []
    },
    {
      "cell_type": "code",
      "source": [],
      "metadata": {
        "id": "PMhgsJ4VXGvt"
      },
      "execution_count": 406,
      "outputs": []
    },
    {
      "cell_type": "code",
      "source": [],
      "metadata": {
        "id": "-gW1_mEjXG0y"
      },
      "execution_count": 406,
      "outputs": []
    },
    {
      "cell_type": "code",
      "source": [
        "# Encode categorical columns as numeric (0 or 1)"
      ],
      "metadata": {
        "id": "6umTPmV_XG7B"
      },
      "execution_count": 407,
      "outputs": []
    },
    {
      "cell_type": "code",
      "source": [
        "df['London Underground'] = df['London Underground'].map({'Yes': 1, 'No': 0})\n"
      ],
      "metadata": {
        "id": "CICIPuAZXHCZ"
      },
      "execution_count": 408,
      "outputs": []
    },
    {
      "cell_type": "code",
      "source": [
        "df['Elizabeth Line'] = df['Elizabeth Line'].map({'Yes': 1, 'No': 0})"
      ],
      "metadata": {
        "id": "4s541_4gXHIp"
      },
      "execution_count": 409,
      "outputs": []
    },
    {
      "cell_type": "code",
      "source": [
        "df['Night Tube?'] = df['Night Tube?'].map({'Yes': 1, 'No': 0})"
      ],
      "metadata": {
        "id": "EZLp2_fuXOU5"
      },
      "execution_count": 410,
      "outputs": []
    },
    {
      "cell_type": "code",
      "source": [],
      "metadata": {
        "id": "sJD6Uch2XOam"
      },
      "execution_count": 410,
      "outputs": []
    },
    {
      "cell_type": "code",
      "source": [],
      "metadata": {
        "id": "t7uSCKMCW8Qg"
      },
      "execution_count": 410,
      "outputs": []
    },
    {
      "cell_type": "code",
      "source": [],
      "metadata": {
        "id": "_jAoEG17ZI_d"
      },
      "execution_count": 410,
      "outputs": []
    },
    {
      "cell_type": "code",
      "source": [
        "# Prepare a scatter plot for stations"
      ],
      "metadata": {
        "id": "jmjo5BuLWYKn"
      },
      "execution_count": 411,
      "outputs": []
    },
    {
      "cell_type": "code",
      "source": [
        "map_fig = px.scatter_geo(df, lat='y', lon='x', hover_name='NLC', title='Transport Stations')\n"
      ],
      "metadata": {
        "id": "DtMRKfFCWs_1"
      },
      "execution_count": 412,
      "outputs": []
    },
    {
      "cell_type": "code",
      "source": [],
      "metadata": {
        "id": "RFrupTHqXeD0"
      },
      "execution_count": 412,
      "outputs": []
    },
    {
      "cell_type": "code",
      "source": [
        "# Dashboard layout"
      ],
      "metadata": {
        "id": "tWdVt2l0XeK_"
      },
      "execution_count": 413,
      "outputs": []
    },
    {
      "cell_type": "code",
      "source": [
        "app.layout = html.Div([\n",
        "    dbc.Row([dbc.Col(html.H1(\"Interactive Transport Demand Dashboard\"), width=12)]),\n",
        "    dbc.Row([dbc.Col(dcc.Graph(figure=map_fig), width=12)]),\n",
        "    dbc.Row([dbc.Col(\n",
        "        html.Div([\n",
        "            html.H4(\"Transport Demand by Zone\"),\n",
        "            dcc.Dropdown(\n",
        "                id='zone-dropdown',\n",
        "                options=[{'label': zone, 'value': zone} for zone in df['Zone'].unique()],\n",
        "                value=df['Zone'].unique()[0]\n",
        "            ),\n",
        "            dcc.Graph(id='zone-demand-graph')\n",
        "        ]), width=12\n",
        "    )])\n",
        "])"
      ],
      "metadata": {
        "id": "HPtI6ujbWtGq"
      },
      "execution_count": 414,
      "outputs": []
    },
    {
      "cell_type": "code",
      "source": [],
      "metadata": {
        "id": "gtuQ7WTJXleX"
      },
      "execution_count": 414,
      "outputs": []
    },
    {
      "cell_type": "code",
      "source": [
        "# Define callback to update the demand graph based on the selected zone"
      ],
      "metadata": {
        "id": "KaYdinkXXlkW"
      },
      "execution_count": 415,
      "outputs": []
    },
    {
      "cell_type": "code",
      "source": [
        "@app.callback(\n",
        "    Output('zone-demand-graph', 'figure'),\n",
        "    Input('zone-dropdown', 'value')\n",
        ")\n",
        "def update_graph(selected_zone):\n",
        "    filtered_df = df[df['Zone'] == selected_zone]\n",
        "    demand_fig = px.histogram(filtered_df, x='London Underground', title=f\"Transport Demand for Zone {selected_zone}\")\n",
        "    return demand_fig"
      ],
      "metadata": {
        "id": "5cUz6rLNXnlU"
      },
      "execution_count": 416,
      "outputs": []
    },
    {
      "cell_type": "code",
      "source": [],
      "metadata": {
        "id": "yzlzWIEvXnsf"
      },
      "execution_count": 416,
      "outputs": []
    },
    {
      "cell_type": "code",
      "source": [
        "# Run the app"
      ],
      "metadata": {
        "id": "5VfrhimsWtMy"
      },
      "execution_count": 417,
      "outputs": []
    },
    {
      "cell_type": "code",
      "source": [
        "app.run_server(debug=True, use_reloader=False)"
      ],
      "metadata": {
        "colab": {
          "base_uri": "https://localhost:8080/"
        },
        "id": "7E3SUyIQWtTG",
        "outputId": "3d8e7b78-5b3f-47f8-f163-8f834f12ef40"
      },
      "execution_count": 418,
      "outputs": [
        {
          "output_type": "display_data",
          "data": {
            "text/plain": [
              "<IPython.core.display.Javascript object>"
            ],
            "application/javascript": [
              "(async (port, path, width, height, cache, element) => {\n",
              "    if (!google.colab.kernel.accessAllowed && !cache) {\n",
              "      return;\n",
              "    }\n",
              "    element.appendChild(document.createTextNode(''));\n",
              "    const url = await google.colab.kernel.proxyPort(port, {cache});\n",
              "    const iframe = document.createElement('iframe');\n",
              "    iframe.src = new URL(path, url).toString();\n",
              "    iframe.height = height;\n",
              "    iframe.width = width;\n",
              "    iframe.style.border = 0;\n",
              "    iframe.allow = [\n",
              "        'accelerometer',\n",
              "        'autoplay',\n",
              "        'camera',\n",
              "        'clipboard-read',\n",
              "        'clipboard-write',\n",
              "        'gyroscope',\n",
              "        'magnetometer',\n",
              "        'microphone',\n",
              "        'serial',\n",
              "        'usb',\n",
              "        'xr-spatial-tracking',\n",
              "    ].join('; ');\n",
              "    element.appendChild(iframe);\n",
              "  })(8050, \"/\", \"100%\", 650, false, window.element)"
            ]
          },
          "metadata": {}
        }
      ]
    },
    {
      "cell_type": "code",
      "source": [],
      "metadata": {
        "id": "mOj5cqfDe1kS"
      },
      "execution_count": null,
      "outputs": []
    },
    {
      "cell_type": "code",
      "source": [],
      "metadata": {
        "id": "PkkkhTHxfQpj"
      },
      "execution_count": null,
      "outputs": []
    },
    {
      "cell_type": "markdown",
      "source": [
        "## 🎉 **Conclusion**\n",
        "This project demonstrates how machine learning can be used for transport demand modeling and geospatial analysis. By using neural networks, we were able to predict the geographical coordinates of transport stations based on various features.\n",
        "\n",
        "In summary, the key takeaways are:\n",
        "- **Data Preprocessing**: Proper handling of missing values, encoding of categorical features, and scaling of numerical values are crucial for building a successful model.\n",
        "- **Modeling**: We built and trained a neural network to predict continuous variables (coordinates) and evaluated its performance using Mean Squared Error (MSE).\n",
        "- **Visualization**: The interactive **Dash** web application provided an engaging way to visualize the transport stations and demand across different zones.\n",
        "- **Deployment**: By saving the model, scaler, and training artifacts, we ensured that the model can be reused for future predictions without retraining.\n",
        "\n",
        "This project provides a foundation for future work in transportation systems optimization and demand forecasting. By extending the model and incorporating more features, we can further improve predictions and build even more advanced applications in urban planning and transportation management. 🚀"
      ],
      "metadata": {
        "id": "7qxVl9Gke1_c"
      }
    }
  ]
}