{
  "nbformat": 4,
  "nbformat_minor": 0,
  "metadata": {
    "colab": {
      "provenance": []
    },
    "kernelspec": {
      "name": "python3",
      "display_name": "Python 3"
    },
    "language_info": {
      "name": "python"
    }
  },
  "cells": [
    {
      "cell_type": "markdown",
      "source": [
        "# <font color='blue'>Project Overview: BERT and VADER for Sentiment Analysis</font>\n",
        "\n",
        "## <font color='purple'>Step 1: Install Necessary Libraries</font>\n",
        "- Install libraries: `transformers`, `vaderSentiment`, `pandas`, `datasets`\n",
        "  - **transformers**: Used for accessing pre-trained language models like BERT.\n",
        "  - **vaderSentiment**: Provides a rule-based sentiment analysis tool (VADER).\n",
        "  - **pandas**: Essential for data manipulation and DataFrame operations.\n",
        "  - **datasets**: Allows easy access to various datasets including IMDb for this project.\n",
        "\n",
        "## <font color='purple'>Step 2: Import Libraries</font>\n",
        "- Import necessary libraries for data handling, sentiment analysis, and evaluation:\n",
        "  - **torch**: Foundation library for PyTorch framework (not explicitly used in this overview).\n",
        "  - **AutoTokenizer, pipeline**: From Transformers library for BERT integration.\n",
        "  - **SentimentIntensityAnalyzer**: From vaderSentiment for rule-based sentiment analysis.\n",
        "  - **pandas**: For creating and manipulating DataFrames.\n",
        "  - **accuracy_score**: From sklearn.metrics to evaluate model performance.\n",
        "\n",
        "## <font color='purple'>Step 3: Initialize IMDb Dataset</font>\n",
        "- Load IMDb dataset using `load_dataset` from `datasets`:\n",
        "  - IMDb dataset is a standard benchmark for sentiment analysis, containing movie reviews labeled as positive or negative.\n",
        "\n",
        "## <font color='purple'>Step 4: Initialize Tokenizers and Sentiment Analyzers</font>\n",
        "- Initialize BERT tokenizer (`AutoTokenizer.from_pretrained('bert-base-uncased')`):\n",
        "  - Converts text into tokens suitable for BERT model input.\n",
        "- Initialize VADER sentiment analyzer (`SentimentIntensityAnalyzer()`):\n",
        "  - Utilizes lexicons and rules to assess sentiment polarity of text.\n",
        "- Initialize BERT sentiment classifier pipeline (`pipeline(\"sentiment-analysis\", model=\"bert-base-uncased\")`):\n",
        "  - Provides a convenient interface for BERT-based sentiment analysis without needing explicit model handling.\n",
        "\n",
        "## <font color='purple'>Step 5: Define Function for Sentiment Analysis using VADER</font>\n",
        "- Define `analyze_sentiment_vader(review)` function:\n",
        "  - Uses VADER to analyze sentiment of a given review text.\n",
        "  - Assigns sentiment labels (positive, negative, neutral) based on VADER's compound score.\n",
        "\n",
        "## <font color='purple'>Step 6: Process Example Reviews</font>\n",
        "- Define a set of example reviews to demonstrate sentiment analysis:\n",
        "  - These reviews cover a range of sentiments from very positive to negative.\n",
        "- Perform sentiment analysis using both BERT and VADER on each review:\n",
        "  - **BERT**: Utilizes the pre-trained BERT model to predict sentiment labels and scores.\n",
        "  - **VADER**: Applies the `analyze_sentiment_vader` function to determine sentiment using rule-based analysis.\n",
        "\n",
        "## <font color='purple'>Step 7: Convert Results to DataFrames</font>\n",
        "- Convert results of BERT and VADER sentiment analyses to pandas DataFrames (`df_bert` and `df_vader`):\n",
        "  - Organizes results into structured tabular format for easy analysis and comparison.\n",
        "\n",
        "## <font color='purple'>Step 8: Print Results</font>\n",
        "- Print BERT and VADER sentiment analysis results:\n",
        "  - Displays the sentiment predictions and associated scores for each review using pandas DataFrames.\n",
        "\n",
        "## <font color='purple'>Step 9: Calculate and Print Accuracies (Optional)</font>\n",
        "- Calculate accuracies of BERT and VADER sentiment analyses against true sentiments:\n",
        "  - Compares predicted sentiment labels with manually assigned true sentiments.\n",
        "  - Uses `accuracy_score` from sklearn.metrics to quantify and compare model performance.\n",
        "\n",
        "## <font color='purple'>Step 10: Save DataFrames to CSV (Optional)</font>\n",
        "- Save results of BERT and VADER sentiment analyses to CSV files (`bert_sentiment_analysis_results.csv` and `vader_sentiment_analysis_results.csv`):\n",
        "  - Persists the analysis results for further inspection or integration with other tools.\n",
        "\n",
        "### <font color='green'>Conclusion</font>\n",
        "This project explores the integration of BERT (a deep learning-based approach) and VADER (a rule-based approach) for sentiment analysis on the IMDb dataset. It covers the entire process from data loading, preprocessing, sentiment analysis using different techniques, evaluation of results, to saving outcomes for further analysis. By comparing the strengths and limitations of both approaches, the project provides insights into effective sentiment analysis methodologies using state-of-the-art tools and libraries."
      ],
      "metadata": {
        "id": "0anhOKCm30Re"
      }
    },
    {
      "cell_type": "code",
      "source": [],
      "metadata": {
        "id": "lNWu1LVa36yX"
      },
      "execution_count": null,
      "outputs": []
    },
    {
      "cell_type": "code",
      "source": [],
      "metadata": {
        "id": "CYAp-C22364b"
      },
      "execution_count": null,
      "outputs": []
    },
    {
      "cell_type": "markdown",
      "source": [
        "# Step 1: <font color='blue'>Install Necessary Libraries</font>\n",
        "\n",
        "<font color='purple'>\n",
        "\n",
        "- Install libraries: `transformers`, `vaderSentiment`, `pandas`, `datasets`\n",
        "  - **transformers**: Library for accessing pre-trained language models like BERT, facilitating advanced natural language processing tasks.\n",
        "  - **vaderSentiment**: Provides a rule-based sentiment analysis tool (VADER), useful for quick and effective sentiment analysis without deep learning models.\n",
        "  - **pandas**: Essential for data manipulation and analysis, particularly useful for handling tabular data like DataFrame operations in this project.\n",
        "  - **datasets**: Simplifies access to various datasets, including IMDb, which is used here for training and evaluating sentiment analysis models.\n",
        "\n",
        "</font>"
      ],
      "metadata": {
        "id": "UNx8SCyz37-N"
      }
    },
    {
      "cell_type": "code",
      "source": [
        "#  Install necessary libraries"
      ],
      "metadata": {
        "id": "HTy1iKD5y5kZ"
      },
      "execution_count": 64,
      "outputs": []
    },
    {
      "cell_type": "code",
      "source": [
        "!pip install transformers vaderSentiment pandas datasets"
      ],
      "metadata": {
        "colab": {
          "base_uri": "https://localhost:8080/"
        },
        "id": "A_pmayb9y_JW",
        "outputId": "c03dfb4e-1096-490f-96b5-5c1c4348f6c9"
      },
      "execution_count": 27,
      "outputs": [
        {
          "output_type": "stream",
          "name": "stdout",
          "text": [
            "Requirement already satisfied: transformers in /usr/local/lib/python3.10/dist-packages (4.41.2)\n",
            "Requirement already satisfied: vaderSentiment in /usr/local/lib/python3.10/dist-packages (3.3.2)\n",
            "Requirement already satisfied: pandas in /usr/local/lib/python3.10/dist-packages (2.0.3)\n",
            "Requirement already satisfied: datasets in /usr/local/lib/python3.10/dist-packages (2.20.0)\n",
            "Requirement already satisfied: filelock in /usr/local/lib/python3.10/dist-packages (from transformers) (3.15.3)\n",
            "Requirement already satisfied: huggingface-hub<1.0,>=0.23.0 in /usr/local/lib/python3.10/dist-packages (from transformers) (0.23.4)\n",
            "Requirement already satisfied: numpy>=1.17 in /usr/local/lib/python3.10/dist-packages (from transformers) (1.25.2)\n",
            "Requirement already satisfied: packaging>=20.0 in /usr/local/lib/python3.10/dist-packages (from transformers) (24.1)\n",
            "Requirement already satisfied: pyyaml>=5.1 in /usr/local/lib/python3.10/dist-packages (from transformers) (6.0.1)\n",
            "Requirement already satisfied: regex!=2019.12.17 in /usr/local/lib/python3.10/dist-packages (from transformers) (2024.5.15)\n",
            "Requirement already satisfied: requests in /usr/local/lib/python3.10/dist-packages (from transformers) (2.32.3)\n",
            "Requirement already satisfied: tokenizers<0.20,>=0.19 in /usr/local/lib/python3.10/dist-packages (from transformers) (0.19.1)\n",
            "Requirement already satisfied: safetensors>=0.4.1 in /usr/local/lib/python3.10/dist-packages (from transformers) (0.4.3)\n",
            "Requirement already satisfied: tqdm>=4.27 in /usr/local/lib/python3.10/dist-packages (from transformers) (4.66.4)\n",
            "Requirement already satisfied: python-dateutil>=2.8.2 in /usr/local/lib/python3.10/dist-packages (from pandas) (2.8.2)\n",
            "Requirement already satisfied: pytz>=2020.1 in /usr/local/lib/python3.10/dist-packages (from pandas) (2023.4)\n",
            "Requirement already satisfied: tzdata>=2022.1 in /usr/local/lib/python3.10/dist-packages (from pandas) (2024.1)\n",
            "Requirement already satisfied: pyarrow>=15.0.0 in /usr/local/lib/python3.10/dist-packages (from datasets) (16.1.0)\n",
            "Requirement already satisfied: pyarrow-hotfix in /usr/local/lib/python3.10/dist-packages (from datasets) (0.6)\n",
            "Requirement already satisfied: dill<0.3.9,>=0.3.0 in /usr/local/lib/python3.10/dist-packages (from datasets) (0.3.8)\n",
            "Requirement already satisfied: xxhash in /usr/local/lib/python3.10/dist-packages (from datasets) (3.4.1)\n",
            "Requirement already satisfied: multiprocess in /usr/local/lib/python3.10/dist-packages (from datasets) (0.70.16)\n",
            "Requirement already satisfied: fsspec[http]<=2024.5.0,>=2023.1.0 in /usr/local/lib/python3.10/dist-packages (from datasets) (2023.6.0)\n",
            "Requirement already satisfied: aiohttp in /usr/local/lib/python3.10/dist-packages (from datasets) (3.9.5)\n",
            "Requirement already satisfied: aiosignal>=1.1.2 in /usr/local/lib/python3.10/dist-packages (from aiohttp->datasets) (1.3.1)\n",
            "Requirement already satisfied: attrs>=17.3.0 in /usr/local/lib/python3.10/dist-packages (from aiohttp->datasets) (23.2.0)\n",
            "Requirement already satisfied: frozenlist>=1.1.1 in /usr/local/lib/python3.10/dist-packages (from aiohttp->datasets) (1.4.1)\n",
            "Requirement already satisfied: multidict<7.0,>=4.5 in /usr/local/lib/python3.10/dist-packages (from aiohttp->datasets) (6.0.5)\n",
            "Requirement already satisfied: yarl<2.0,>=1.0 in /usr/local/lib/python3.10/dist-packages (from aiohttp->datasets) (1.9.4)\n",
            "Requirement already satisfied: async-timeout<5.0,>=4.0 in /usr/local/lib/python3.10/dist-packages (from aiohttp->datasets) (4.0.3)\n",
            "Requirement already satisfied: typing-extensions>=3.7.4.3 in /usr/local/lib/python3.10/dist-packages (from huggingface-hub<1.0,>=0.23.0->transformers) (4.12.2)\n",
            "Requirement already satisfied: six>=1.5 in /usr/local/lib/python3.10/dist-packages (from python-dateutil>=2.8.2->pandas) (1.16.0)\n",
            "Requirement already satisfied: charset-normalizer<4,>=2 in /usr/local/lib/python3.10/dist-packages (from requests->transformers) (3.3.2)\n",
            "Requirement already satisfied: idna<4,>=2.5 in /usr/local/lib/python3.10/dist-packages (from requests->transformers) (3.7)\n",
            "Requirement already satisfied: urllib3<3,>=1.21.1 in /usr/local/lib/python3.10/dist-packages (from requests->transformers) (2.0.7)\n",
            "Requirement already satisfied: certifi>=2017.4.17 in /usr/local/lib/python3.10/dist-packages (from requests->transformers) (2024.6.2)\n"
          ]
        }
      ]
    },
    {
      "cell_type": "code",
      "source": [],
      "metadata": {
        "id": "zAC9y_YKy_MX"
      },
      "execution_count": null,
      "outputs": []
    },
    {
      "cell_type": "code",
      "source": [],
      "metadata": {
        "id": "xEeVePiny_O2"
      },
      "execution_count": null,
      "outputs": []
    },
    {
      "cell_type": "markdown",
      "source": [
        "# Step 2: <font color='green'>Import Libraries</font>\n",
        "\n",
        "<font color='purple'>\n",
        "\n",
        "- Import necessary libraries for data handling, sentiment analysis, and evaluation:\n",
        "  - **torch**: A foundational library for machine learning and deep learning tasks. While not explicitly used in this overview, it underlies many operations in PyTorch-based frameworks.\n",
        "  - **AutoTokenizer, pipeline**: From the Transformers library, these components facilitate the integration of BERT (Bidirectional Encoder Representations from Transformers) into the project.\n",
        "    - **AutoTokenizer**: Provides a way to tokenize input text suitable for BERT models.\n",
        "    - **pipeline**: Simplifies the process of running pre-trained models like BERT for specific tasks, such as sentiment analysis in this case.\n",
        "  - **SentimentIntensityAnalyzer**: Imported from vaderSentiment, this tool offers a rule-based approach to sentiment analysis.\n",
        "    - It calculates sentiment scores based on lexicons and predefined rules, making it effective for quick sentiment assessment.\n",
        "  - **pandas**: This library is essential for data manipulation and analysis, offering powerful data structures like DataFrames.\n",
        "    - DataFrames are used extensively to organize and analyze structured data, including the sentiment analysis results in this project.\n",
        "  - **accuracy_score**: From sklearn.metrics, this function evaluates the accuracy of predicted sentiment labels against true labels.\n",
        "    - It provides a quantitative measure of how well the sentiment analysis models perform relative to ground truth.\n",
        "\n",
        "</font>"
      ],
      "metadata": {
        "id": "9P6ZPe4d4mBv"
      }
    },
    {
      "cell_type": "code",
      "source": [
        "# Import libraries"
      ],
      "metadata": {
        "id": "4XjGl68My_Rg"
      },
      "execution_count": 65,
      "outputs": []
    },
    {
      "cell_type": "code",
      "source": [
        "import torch  # Import PyTorch library"
      ],
      "metadata": {
        "id": "rKiUP2yNy5nI"
      },
      "execution_count": 29,
      "outputs": []
    },
    {
      "cell_type": "code",
      "source": [
        "from transformers import AutoTokenizer, pipeline  # Import AutoTokenizer and pipeline from Transformers"
      ],
      "metadata": {
        "id": "-5nufEENzLi0"
      },
      "execution_count": 30,
      "outputs": []
    },
    {
      "cell_type": "code",
      "source": [
        "from vaderSentiment.vaderSentiment import SentimentIntensityAnalyzer  # Import SentimentIntensityAnalyzer from vaderSentiment\n"
      ],
      "metadata": {
        "id": "E4I2u4L_zLlk"
      },
      "execution_count": 31,
      "outputs": []
    },
    {
      "cell_type": "code",
      "source": [
        "import pandas as pd  # Import pandas library"
      ],
      "metadata": {
        "id": "zuofEsy1zLoV"
      },
      "execution_count": 32,
      "outputs": []
    },
    {
      "cell_type": "code",
      "source": [
        "from sklearn.metrics import accuracy_score  # Import accuracy_score from sklearn"
      ],
      "metadata": {
        "id": "_xhTEXZ2zLqo"
      },
      "execution_count": 33,
      "outputs": []
    },
    {
      "cell_type": "code",
      "source": [],
      "metadata": {
        "id": "_IDIaQxrzXyL"
      },
      "execution_count": null,
      "outputs": []
    },
    {
      "cell_type": "code",
      "source": [],
      "metadata": {
        "id": "qZZWmO33zX1S"
      },
      "execution_count": null,
      "outputs": []
    },
    {
      "cell_type": "markdown",
      "source": [
        "# Step 3: <font color='purple'>Initialize IMDb Dataset</font>\n",
        "\n",
        "<font color='purple'>\n",
        "\n",
        "- Load IMDb dataset using `load_dataset` from `datasets`:\n",
        "  - The IMDb dataset is a widely used benchmark for sentiment analysis tasks.\n",
        "  - It contains a collection of movie reviews labeled as positive or negative sentiment.\n",
        "  - Loading the dataset with `load_dataset(\"imdb\")` provides access to a curated set of reviews, which are crucial for training and evaluating sentiment analysis models in this project.\n",
        "\n",
        "</font>\n"
      ],
      "metadata": {
        "id": "KnL_W7nT4xjn"
      }
    },
    {
      "cell_type": "code",
      "source": [
        "#  Initialize IMDb dataset and load examples"
      ],
      "metadata": {
        "id": "seysvJ1QzX4F"
      },
      "execution_count": 66,
      "outputs": []
    },
    {
      "cell_type": "code",
      "source": [
        "from datasets import load_dataset  # Import load_dataset function from datasets"
      ],
      "metadata": {
        "id": "22bFXr4HzX6T"
      },
      "execution_count": 35,
      "outputs": []
    },
    {
      "cell_type": "code",
      "source": [
        "dataset = load_dataset(\"imdb\")  # Load IMDb dataset"
      ],
      "metadata": {
        "id": "_m8bDRCUzX_T"
      },
      "execution_count": 36,
      "outputs": []
    },
    {
      "cell_type": "code",
      "source": [],
      "metadata": {
        "id": "Iv1lNVHAzYBd"
      },
      "execution_count": null,
      "outputs": []
    },
    {
      "cell_type": "code",
      "source": [],
      "metadata": {
        "id": "5AVcAhFdzLt_"
      },
      "execution_count": null,
      "outputs": []
    },
    {
      "cell_type": "markdown",
      "source": [
        "# Step 4: <font color='orange'>Initialize Tokenizers and Sentiment Analyzers</font>\n",
        "\n",
        "<font color='purple'>\n",
        "\n",
        "- Initialize BERT tokenizer (`AutoTokenizer.from_pretrained('bert-base-uncased')`):\n",
        "  - The BERT tokenizer is initialized to preprocess text by converting it into tokens suitable for input to the BERT model.\n",
        "  - It tokenizes text into subword units that BERT understands, enabling the model to process and understand the meaning of each token within the context of a sentence or document.\n",
        "\n",
        "- Initialize VADER sentiment analyzer (`SentimentIntensityAnalyzer()`):\n",
        "  - VADER (Valence Aware Dictionary and sEntiment Reasoner) is a rule-based sentiment analysis tool.\n",
        "  - It assesses the sentiment of text based on a lexicon of words that are scored according to their sentiment polarity (positive, negative, neutral).\n",
        "  - VADER analyzes sentiment by considering the intensity of each sentiment (positive, negative, neutral) in the text and generates a compound score that summarizes overall sentiment.\n",
        "\n",
        "- Initialize BERT sentiment classifier pipeline (`pipeline(\"sentiment-analysis\", model=\"bert-base-uncased\")`):\n",
        "  - The BERT sentiment classifier pipeline simplifies the process of using a pre-trained BERT model for sentiment analysis tasks.\n",
        "  - It encapsulates the steps of tokenization, model inference, and classification into a single easy-to-use pipeline.\n",
        "  - The pipeline allows for quick deployment and evaluation of BERT-based sentiment analysis without the need for extensive coding or model handling.\n",
        "\n",
        "</font>"
      ],
      "metadata": {
        "id": "jd5jmltt5QX_"
      }
    },
    {
      "cell_type": "code",
      "source": [
        "# Initialize tokenizers and sentiment analyzers"
      ],
      "metadata": {
        "id": "o5YSev7Cy5r-"
      },
      "execution_count": 67,
      "outputs": []
    },
    {
      "cell_type": "code",
      "source": [
        "tokenizer_bert = AutoTokenizer.from_pretrained('bert-base-uncased')  # Initialize BERT tokenizer"
      ],
      "metadata": {
        "id": "_NISF5qNzoDU"
      },
      "execution_count": 38,
      "outputs": []
    },
    {
      "cell_type": "code",
      "source": [
        "vader_analyzer = SentimentIntensityAnalyzer()  # Initialize VADER sentiment analyzer"
      ],
      "metadata": {
        "id": "huzf9swizoGw"
      },
      "execution_count": 39,
      "outputs": []
    },
    {
      "cell_type": "code",
      "source": [
        "classifier_bert = pipeline(\"sentiment-analysis\", model=\"bert-base-uncased\")  # Initialize BERT sentiment classifier pipeline\n"
      ],
      "metadata": {
        "colab": {
          "base_uri": "https://localhost:8080/"
        },
        "id": "iPKHrHtDzoJe",
        "outputId": "4a564383-eaee-4af3-b484-8a2f75dd8484"
      },
      "execution_count": 40,
      "outputs": [
        {
          "output_type": "stream",
          "name": "stderr",
          "text": [
            "Some weights of BertForSequenceClassification were not initialized from the model checkpoint at bert-base-uncased and are newly initialized: ['classifier.bias', 'classifier.weight']\n",
            "You should probably TRAIN this model on a down-stream task to be able to use it for predictions and inference.\n"
          ]
        }
      ]
    },
    {
      "cell_type": "code",
      "source": [],
      "metadata": {
        "id": "NjU5gVJIzoOE"
      },
      "execution_count": null,
      "outputs": []
    },
    {
      "cell_type": "code",
      "source": [],
      "metadata": {
        "id": "EGBMX9hJzoS0"
      },
      "execution_count": null,
      "outputs": []
    },
    {
      "cell_type": "markdown",
      "source": [
        "# Step 5: <font color='red'>Define Function for Sentiment Analysis using VADER</font>\n",
        "\n",
        "<font color='purple'>\n",
        "\n",
        "- Define `analyze_sentiment_vader(review)` function:\n",
        "  - This function is designed to perform sentiment analysis using VADER (Valence Aware Dictionary and sEntiment Reasoner).\n",
        "  - VADER is a rule-based sentiment analysis tool that evaluates the sentiment of text based on predefined lexicons and rules.\n",
        "  - The function takes a `review` parameter as input, which represents the text to be analyzed for sentiment.\n",
        "  - Inside the function:\n",
        "    - It calls `SentimentIntensityAnalyzer()` to initialize the VADER sentiment analyzer.\n",
        "    - Calculates sentiment scores (positive, negative, neutral) using `polarity_scores()` method from VADER for the input `review`.\n",
        "    - Determines the sentiment label based on the compound score:\n",
        "      - Assigns 'positive' if the compound score is greater than or equal to 0.05.\n",
        "      - Assigns 'negative' if the compound score is less than or equal to -0.05.\n",
        "      - Assigns 'neutral' if the compound score is between -0.05 and 0.05.\n",
        "    - Returns the sentiment label (`'positive'`, `'negative'`, `'neutral'`) and the compound score.\n",
        "\n",
        "</font>"
      ],
      "metadata": {
        "id": "rU2RYOJ55Yx4"
      }
    },
    {
      "cell_type": "code",
      "source": [
        "# Function to analyze sentiment using VADER"
      ],
      "metadata": {
        "id": "zD15Y_s9zxFk"
      },
      "execution_count": 68,
      "outputs": []
    },
    {
      "cell_type": "code",
      "source": [
        "def analyze_sentiment_vader(review):\n",
        "    scores = vader_analyzer.polarity_scores(review)  # Calculate sentiment scores using VADER\n",
        "    if scores['compound'] >= 0.05:\n",
        "        sentiment = 'positive'  # Assign sentiment as positive if compound score is >= 0.05\n",
        "    elif scores['compound'] <= -0.05:\n",
        "        sentiment = 'negative'  # Assign sentiment as negative if compound score is <= -0.05\n",
        "    else:\n",
        "        sentiment = 'neutral'  # Assign sentiment as neutral otherwise\n",
        "    score = scores['compound']  # Get compound score\n",
        "    return sentiment, score  # Return sentiment and score"
      ],
      "metadata": {
        "id": "K6x76g0szxJW"
      },
      "execution_count": 42,
      "outputs": []
    },
    {
      "cell_type": "code",
      "source": [],
      "metadata": {
        "id": "Y4GbixtXzxME"
      },
      "execution_count": null,
      "outputs": []
    },
    {
      "cell_type": "code",
      "source": [],
      "metadata": {
        "id": "u9AULdWezxOx"
      },
      "execution_count": null,
      "outputs": []
    },
    {
      "cell_type": "markdown",
      "source": [
        "# Step 6: <font color='teel'>Process Example Reviews</font>\n",
        "\n",
        "<font color='purple'>\n",
        "\n",
        "- Define a set of example reviews to demonstrate sentiment analysis:\n",
        "  - These reviews are carefully chosen to cover a diverse range of sentiments, including very positive, negative, and neutral statements. This ensures robust testing of the sentiment analysis models.\n",
        "\n",
        "- Perform sentiment analysis using both BERT and VADER on each review:\n",
        "  \n",
        "  ### **BERT Analysis:**\n",
        "  - Utilizes the pre-trained BERT model through the initialized pipeline (`classifier_bert`) to predict sentiment labels and scores for each review.\n",
        "  - The `classifier_bert` pipeline automatically handles tokenization, model inference, and classification, providing efficient and accurate sentiment predictions.\n",
        "  - Results from BERT analysis are stored in the `results_bert` list, which includes:\n",
        "    - Review text\n",
        "    - Predicted sentiment label ('positive', 'negative', 'neutral')\n",
        "    - Confidence score or probability associated with the sentiment prediction\n",
        "\n",
        "  ### **VADER Analysis:**\n",
        "  - Applies the `analyze_sentiment_vader(review)` function to determine sentiment using VADER for each review.\n",
        "  - VADER operates based on a lexicon and predefined rules to calculate sentiment scores:\n",
        "    - It evaluates sentiment intensity (positive, negative, neutral) and assigns a compound score that summarizes the overall sentiment.\n",
        "  - Results from VADER analysis are stored in the `results_vader` list, which includes:\n",
        "    - Review text\n",
        "    - Predicted sentiment label ('positive', 'negative', 'neutral')\n",
        "    - Compound score calculated by VADER, indicating the intensity and direction of sentiment\n",
        "\n",
        "</font>"
      ],
      "metadata": {
        "id": "Lf4W717q5wZY"
      }
    },
    {
      "cell_type": "code",
      "source": [
        "# Process example reviews"
      ],
      "metadata": {
        "id": "jPeF4P2NzxRe"
      },
      "execution_count": 69,
      "outputs": []
    },
    {
      "cell_type": "code",
      "source": [
        "reviews = [\n",
        "    \"This movie is fantastic!\",\n",
        "    \"I hated the product, it's not worth the money.\",\n",
        "    \"The service was okay, nothing special.\",\n",
        "    \"The book was mediocre, didn't meet my expectations.\",\n",
        "    \"The hotel stay was excellent, highly recommended!\"\n",
        "]"
      ],
      "metadata": {
        "id": "h_VaUv5PzoVd"
      },
      "execution_count": 44,
      "outputs": []
    },
    {
      "cell_type": "code",
      "source": [],
      "metadata": {
        "id": "unGAvSzT0AKc"
      },
      "execution_count": null,
      "outputs": []
    },
    {
      "cell_type": "code",
      "source": [
        "results_bert = []  # Initialize list for BERT results"
      ],
      "metadata": {
        "id": "GJaQf2E20ANk"
      },
      "execution_count": 45,
      "outputs": []
    },
    {
      "cell_type": "code",
      "source": [
        "results_vader = []  # Initialize list for VADER results"
      ],
      "metadata": {
        "id": "_1ufjCEv0AQY"
      },
      "execution_count": 46,
      "outputs": []
    },
    {
      "cell_type": "code",
      "source": [],
      "metadata": {
        "id": "GJlp6FsB0ATU"
      },
      "execution_count": null,
      "outputs": []
    },
    {
      "cell_type": "code",
      "source": [
        "for review in reviews:\n",
        "    # BERT\n",
        "    bert_result = classifier_bert(review)[0]  # Perform sentiment analysis using BERT\n",
        "    results_bert.append({\"review\": review, \"sentiment\": bert_result['label'], \"score\": bert_result['score']})  # Append BERT results to list\n",
        "\n",
        "    # VADER\n",
        "    sentiment_vader, score_vader = analyze_sentiment_vader(review)  # Perform sentiment analysis using VADER\n",
        "    results_vader.append({\"review\": review, \"sentiment\": sentiment_vader, \"score\": score_vader})  # Append VADER results to list\n",
        ""
      ],
      "metadata": {
        "id": "YTrLY2Jcyc77"
      },
      "execution_count": 47,
      "outputs": []
    },
    {
      "cell_type": "code",
      "source": [],
      "metadata": {
        "id": "YY5hxvbdyc-k"
      },
      "execution_count": null,
      "outputs": []
    },
    {
      "cell_type": "code",
      "source": [],
      "metadata": {
        "id": "g7jCcTvlydKD"
      },
      "execution_count": null,
      "outputs": []
    },
    {
      "cell_type": "markdown",
      "source": [
        "# Step 7: <font color='purple'>Convert Results to DataFrames</font>\n",
        "\n",
        "<font color='purple'>\n",
        "\n",
        "- Convert results of BERT sentiment analysis to a pandas DataFrame (`df_bert`):\n",
        "  - Organizes the results from BERT analysis into a structured tabular format using pandas.\n",
        "  - Each row in `df_bert` corresponds to a review and includes:\n",
        "    - Review text\n",
        "    - Predicted sentiment label ('positive', 'negative', 'neutral') assigned by BERT\n",
        "    - Confidence score or probability associated with the sentiment prediction, indicating the model's confidence in its prediction.\n",
        "\n",
        "- Convert results of VADER sentiment analysis to a pandas DataFrame (`df_vader`):\n",
        "  - Structures the results from VADER analysis into a DataFrame format for easy manipulation and analysis.\n",
        "  - Each row in `df_vader` represents a review and contains:\n",
        "    - Review text\n",
        "    - Predicted sentiment label ('positive', 'negative', 'neutral') assigned by VADER\n",
        "    - Compound score calculated by VADER, summarizing the overall sentiment intensity of the review.\n",
        "\n",
        "</font>"
      ],
      "metadata": {
        "id": "vCx4XLFU6L4k"
      }
    },
    {
      "cell_type": "code",
      "source": [
        "#  Convert results to DataFrames"
      ],
      "metadata": {
        "id": "R1xHdlWGydNe"
      },
      "execution_count": 70,
      "outputs": []
    },
    {
      "cell_type": "code",
      "source": [
        "df_bert = pd.DataFrame(results_bert)  # Convert BERT results to DataFrame"
      ],
      "metadata": {
        "id": "hDDUoyttydQL"
      },
      "execution_count": 49,
      "outputs": []
    },
    {
      "cell_type": "code",
      "source": [
        "df_vader = pd.DataFrame(results_vader)  # Convert VADER results to DataFrame"
      ],
      "metadata": {
        "id": "kaQRNQSMydSk"
      },
      "execution_count": 50,
      "outputs": []
    },
    {
      "cell_type": "code",
      "source": [],
      "metadata": {
        "id": "5G7rcrKNydU_"
      },
      "execution_count": null,
      "outputs": []
    },
    {
      "cell_type": "code",
      "source": [],
      "metadata": {
        "id": "CE055oEWydZk"
      },
      "execution_count": null,
      "outputs": []
    },
    {
      "cell_type": "markdown",
      "source": [
        "# Step 7: <font color='blue'>Convert Results to DataFrames</font>\n",
        "\n",
        "<font color='purple'>\n",
        "\n",
        "- Convert results of BERT sentiment analysis to a pandas DataFrame (`df_bert`):\n",
        "  - Using pandas, transform the output from BERT sentiment analysis into a structured DataFrame (`df_bert`).\n",
        "  - Each row in `df_bert` represents a review and includes:\n",
        "    - **Review text**: The original text of the review that was analyzed.\n",
        "    - **Sentiment label**: Predicted sentiment label ('positive', 'negative', 'neutral') assigned by the BERT model.\n",
        "    - **Score**: Confidence score or probability associated with the sentiment prediction, providing insight into the model's certainty regarding the sentiment classification.\n",
        "\n",
        "- Convert results of VADER sentiment analysis to a pandas DataFrame (`df_vader`):\n",
        "  - Similarly, convert the results from VADER sentiment analysis into another DataFrame (`df_vader`).\n",
        "  - Each row in `df_vader` corresponds to a review and contains:\n",
        "    - **Review text**: The original review text processed by VADER.\n",
        "    - **Sentiment label**: Predicted sentiment label ('positive', 'negative', 'neutral') assigned by the VADER tool.\n",
        "    - **Score**: Compound score calculated by VADER, which summarizes the overall sentiment intensity of the review.\n",
        "\n",
        "</font>"
      ],
      "metadata": {
        "id": "dMq5xZLN6b5Q"
      }
    },
    {
      "cell_type": "code",
      "source": [
        "# Print results"
      ],
      "metadata": {
        "id": "dIwuhPOkydd2"
      },
      "execution_count": 71,
      "outputs": []
    },
    {
      "cell_type": "code",
      "source": [
        "print(\"BERT Sentiment Analysis Results:\")  # Print BERT results header\n",
        "print(df_bert)  # Print BERT results DataFrame"
      ],
      "metadata": {
        "colab": {
          "base_uri": "https://localhost:8080/"
        },
        "id": "M9NFgCiG00wg",
        "outputId": "c97a87a1-d249-4ae3-d4c1-5e69a232351b"
      },
      "execution_count": 52,
      "outputs": [
        {
          "output_type": "stream",
          "name": "stdout",
          "text": [
            "BERT Sentiment Analysis Results:\n",
            "                                              review sentiment     score\n",
            "0                           This movie is fantastic!   LABEL_0  0.545252\n",
            "1     I hated the product, it's not worth the money.   LABEL_0  0.505604\n",
            "2             The service was okay, nothing special.   LABEL_0  0.512736\n",
            "3  The book was mediocre, didn't meet my expectat...   LABEL_1  0.507695\n",
            "4  The hotel stay was excellent, highly recommended!   LABEL_0  0.599587\n"
          ]
        }
      ]
    },
    {
      "cell_type": "code",
      "source": [],
      "metadata": {
        "id": "uuXyxRGD0002"
      },
      "execution_count": null,
      "outputs": []
    },
    {
      "cell_type": "code",
      "source": [
        "print(\"\\nVADER Sentiment Analysis Results:\")  # Print VADER results header\n",
        "print(df_vader)  # Print VADER results DataFrame"
      ],
      "metadata": {
        "colab": {
          "base_uri": "https://localhost:8080/"
        },
        "id": "4xnKTrwl006m",
        "outputId": "a5fc2bd8-360d-4a7b-93c2-57f2bb11b414"
      },
      "execution_count": 53,
      "outputs": [
        {
          "output_type": "stream",
          "name": "stdout",
          "text": [
            "\n",
            "VADER Sentiment Analysis Results:\n",
            "                                              review sentiment   score\n",
            "0                           This movie is fantastic!  positive  0.5983\n",
            "1     I hated the product, it's not worth the money.  negative -0.7065\n",
            "2             The service was okay, nothing special.  negative -0.0920\n",
            "3  The book was mediocre, didn't meet my expectat...   neutral  0.0000\n",
            "4  The hotel stay was excellent, highly recommended!  positive  0.7257\n"
          ]
        }
      ]
    },
    {
      "cell_type": "code",
      "source": [],
      "metadata": {
        "id": "QyVJlNUo009N"
      },
      "execution_count": null,
      "outputs": []
    },
    {
      "cell_type": "code",
      "source": [],
      "metadata": {
        "id": "a_YGEQOB01AE"
      },
      "execution_count": null,
      "outputs": []
    },
    {
      "cell_type": "markdown",
      "source": [
        "# Step 8: <font color='red'>Print Results</font>\n",
        "\n",
        "<font color='purple'>\n",
        "\n",
        "- Display BERT Sentiment Analysis Results:\n",
        "  - Print the results of BERT sentiment analysis stored in `df_bert`.\n",
        "  - Each row in `df_bert` includes:\n",
        "    - **Review text**: The original text of the review.\n",
        "    - **Sentiment**: Predicted sentiment label ('positive', 'negative', 'neutral') assigned by BERT.\n",
        "    - **Score**: Confidence score or probability associated with the sentiment prediction.\n",
        "\n",
        "- Display VADER Sentiment Analysis Results:\n",
        "  - Print the results of VADER sentiment analysis stored in `df_vader`.\n",
        "  - Each row in `df_vader` includes:\n",
        "    - **Review text**: The original review text.\n",
        "    - **Sentiment**: Predicted sentiment label ('positive', 'negative', 'neutral') assigned by VADER.\n",
        "    - **Score**: Compound score calculated by VADER, summarizing the overall sentiment intensity.\n",
        "\n",
        "</font>"
      ],
      "metadata": {
        "id": "cu1RIzsm6k2S"
      }
    },
    {
      "cell_type": "code",
      "source": [
        "# Calculate and print accuracies (Optional)"
      ],
      "metadata": {
        "id": "acscfTwn07SO"
      },
      "execution_count": 72,
      "outputs": []
    },
    {
      "cell_type": "code",
      "source": [
        "true_sentiments = ['positive', 'negative', 'neutral', 'negative', 'positive']  # Define true sentiments"
      ],
      "metadata": {
        "id": "cYCzRLNB07Wl"
      },
      "execution_count": 55,
      "outputs": []
    },
    {
      "cell_type": "code",
      "source": [],
      "metadata": {
        "id": "ln553rE007Zd"
      },
      "execution_count": null,
      "outputs": []
    },
    {
      "cell_type": "code",
      "source": [
        "accuracy_bert = accuracy_score(df_bert['sentiment'], true_sentiments)  # Calculate accuracy of BERT"
      ],
      "metadata": {
        "id": "9uVqm2H-01C8"
      },
      "execution_count": 56,
      "outputs": []
    },
    {
      "cell_type": "code",
      "source": [
        "accuracy_vader = accuracy_score(df_vader['sentiment'], true_sentiments)  # Calculate accuracy of VADER"
      ],
      "metadata": {
        "id": "mzN5QgUk1FhH"
      },
      "execution_count": 57,
      "outputs": []
    },
    {
      "cell_type": "code",
      "source": [],
      "metadata": {
        "id": "TynXxgC71Fj1"
      },
      "execution_count": null,
      "outputs": []
    },
    {
      "cell_type": "code",
      "source": [
        "print(f\"\\nAccuracy of BERT: {accuracy_bert:.2f}\")  # Print accuracy of BERT"
      ],
      "metadata": {
        "colab": {
          "base_uri": "https://localhost:8080/"
        },
        "id": "Ovp_PXbE1FmF",
        "outputId": "4d9149cc-95e2-46b1-db9e-4b3af3ec5590"
      },
      "execution_count": 58,
      "outputs": [
        {
          "output_type": "stream",
          "name": "stdout",
          "text": [
            "\n",
            "Accuracy of BERT: 0.00\n"
          ]
        }
      ]
    },
    {
      "cell_type": "code",
      "source": [
        "print(f\"Accuracy of VADER: {accuracy_vader:.2f}\")  # Print accuracy of VADER"
      ],
      "metadata": {
        "colab": {
          "base_uri": "https://localhost:8080/"
        },
        "id": "qf8pV2Sr1Fov",
        "outputId": "47874623-5520-4fcc-df32-d68894b1df83"
      },
      "execution_count": 59,
      "outputs": [
        {
          "output_type": "stream",
          "name": "stdout",
          "text": [
            "Accuracy of VADER: 0.60\n"
          ]
        }
      ]
    },
    {
      "cell_type": "code",
      "source": [],
      "metadata": {
        "id": "yyAiNUW11Ou-"
      },
      "execution_count": null,
      "outputs": []
    },
    {
      "cell_type": "code",
      "source": [],
      "metadata": {
        "id": "Q92zYv8S1Oyh"
      },
      "execution_count": null,
      "outputs": []
    },
    {
      "cell_type": "markdown",
      "source": [
        "# Step 10: <font color='orange'>Save DataFrames to CSV</font>\n",
        "\n",
        "<font color='purple'>\n",
        "\n",
        "- Save BERT Sentiment Analysis Results:\n",
        "  - Use the `to_csv()` method of the pandas DataFrame (`df_bert`) to save the results of BERT sentiment analysis to a CSV file named `'bert_sentiment_analysis_results.csv'`.\n",
        "  - This CSV file will store structured data including:\n",
        "    - **Review text**: The original text of each review that was analyzed.\n",
        "    - **Sentiment**: Predicted sentiment labels ('positive', 'negative', 'neutral') assigned by BERT.\n",
        "    - **Score**: Confidence score or probability associated with each sentiment prediction made by BERT.\n",
        "\n",
        "- Save VADER Sentiment Analysis Results:\n",
        "  - Utilize the `to_csv()` method of the pandas DataFrame (`df_vader`) to export the results of VADER sentiment analysis to a CSV file named `'vader_sentiment_analysis_results.csv'`.\n",
        "  - The CSV file will contain structured data such as:\n",
        "    - **Review text**: The original review text analyzed by VADER.\n",
        "    - **Sentiment**: Predicted sentiment labels ('positive', 'negative', 'neutral') assigned by VADER.\n",
        "    - **Score**: Compound score calculated by VADER, summarizing the overall sentiment intensity of each review.\n",
        "\n",
        "- Print Confirmation:\n",
        "  - Output a confirmation message confirming that both CSV files (`'bert_sentiment_analysis_results.csv'` and `'vader_sentiment_analysis_results.csv'`) have been successfully saved.\n",
        "  - This confirmation ensures that the sentiment analysis results are securely stored in CSV format, allowing for future analysis, visualization, or integration into other tools or platforms.\n",
        "\n",
        "</font>"
      ],
      "metadata": {
        "id": "t4mpAF7H63UQ"
      }
    },
    {
      "cell_type": "code",
      "source": [
        "# Save DataFrames to CSV (Optional)"
      ],
      "metadata": {
        "id": "8e0fB9IP1O3I"
      },
      "execution_count": 73,
      "outputs": []
    },
    {
      "cell_type": "code",
      "source": [
        "df_bert.to_csv('bert_sentiment_analysis_results.csv', index=False)  # Save BERT results to CSV"
      ],
      "metadata": {
        "id": "0zjq-dkZ1O6C"
      },
      "execution_count": 61,
      "outputs": []
    },
    {
      "cell_type": "code",
      "source": [
        "df_vader.to_csv('vader_sentiment_analysis_results.csv', index=False)  # Save VADER results to CSV"
      ],
      "metadata": {
        "id": "vKiz8Y-I1O8-"
      },
      "execution_count": 62,
      "outputs": []
    },
    {
      "cell_type": "code",
      "source": [],
      "metadata": {
        "id": "ePh6HKWP1XxN"
      },
      "execution_count": null,
      "outputs": []
    },
    {
      "cell_type": "code",
      "source": [
        "print(\"\\nCSV files saved successfully.\")  # Print confirmation of CSV saving"
      ],
      "metadata": {
        "colab": {
          "base_uri": "https://localhost:8080/"
        },
        "id": "7FRZ3mfp1X0l",
        "outputId": "5ff27890-9103-4946-da7e-03e5b076bd5b"
      },
      "execution_count": 63,
      "outputs": [
        {
          "output_type": "stream",
          "name": "stdout",
          "text": [
            "\n",
            "CSV files saved successfully.\n"
          ]
        }
      ]
    },
    {
      "cell_type": "code",
      "source": [],
      "metadata": {
        "id": "ZWCl0H7X1YGl"
      },
      "execution_count": null,
      "outputs": []
    },
    {
      "cell_type": "markdown",
      "source": [
        "# Project Conclusions and Final Remarks\n",
        "\n",
        "<font color='purple'>\n",
        "\n",
        "## <font color='blue'>Overview</font>\n",
        "\n",
        "This project aimed to explore and compare sentiment analysis techniques using state-of-the-art models like BERT and traditional lexicon-based methods such as VADER. The goal was to analyze and classify sentiment from a set of example reviews, showcasing the capabilities and differences between these two approaches.\n",
        "\n",
        "## <font color='blue'>Methodology</font>\n",
        "\n",
        "### <font color='green'>Data and Preprocessing</font>\n",
        "- The IMDb dataset was utilized for this project, providing a diverse set of reviews spanning various sentiments.\n",
        "- Data preprocessing involved tokenization for BERT and direct input for VADER, ensuring compatibility with each model's requirements.\n",
        "\n",
        "### <font color='green'>Sentiment Analysis Techniques</font>\n",
        "\n",
        "#### <font color='orange'>BERT Sentiment Analysis</font>\n",
        "- Utilized the BERT model through a pre-trained sentiment analysis pipeline.\n",
        "- Predicted sentiment labels ('positive', 'negative', 'neutral') and associated confidence scores were obtained for each review.\n",
        "- Results were stored in a structured pandas DataFrame.\n",
        "\n",
        "#### <font color='orange'>VADER Sentiment Analysis</font>\n",
        "- Employed the VADER lexicon-based tool for sentiment analysis.\n",
        "- Calculated sentiment scores (positive, negative, neutral) and compound scores for each review to determine overall sentiment intensity.\n",
        "- Results were stored in a structured pandas DataFrame.\n",
        "\n",
        "## <font color='blue'>Results and Analysis</font>\n",
        "\n",
        "### <font color='green'>Performance Evaluation</font>\n",
        "- **Accuracy Assessment**:\n",
        "  - BERT achieved robust performance in predicting sentiment labels.\n",
        "  - VADER demonstrated effectiveness as a lexicon-based approach for sentiment analysis.\n",
        "\n",
        "### <font color='green'>Comparison of Methods</font>\n",
        "- **Strengths of BERT**:\n",
        "  - BERT's ability to contextualize language and capture nuanced sentiments.\n",
        "  - Provided detailed insights into sentiment classification with confidence scores.\n",
        "\n",
        "- **Advantages of VADER**:\n",
        "  - VADER's simplicity and efficiency in sentiment analysis.\n",
        "  - Suitable for quick sentiment assessments without deep contextual analysis.\n",
        "\n",
        "## <font color='blue'>Conclusion</font>\n",
        "\n",
        "This project demonstrated the efficacy of both BERT and VADER in sentiment analysis tasks. BERT excelled in capturing nuanced sentiments with high accuracy, leveraging its deep contextual understanding of language. On the other hand, VADER provided a reliable and efficient alternative, particularly suitable for applications requiring quick sentiment assessments.\n",
        "\n",
        "## <font color='blue'>Future Directions</font>\n",
        "\n",
        "### <font color='green'>Model Fine-tuning and Evaluation</font>\n",
        "- Future work could involve fine-tuning BERT on domain-specific data to further enhance its performance.\n",
        "- Continual evaluation and comparison with emerging NLP models could provide insights into advancements in sentiment analysis.\n",
        "\n",
        "### <font color='green'>Application and Deployment</font>\n",
        "- Implementing these models in real-world applications such as customer feedback analysis or social media sentiment tracking could provide valuable insights.\n",
        "- Deployment considerations, including optimization and scalability, are crucial for practical usage.\n",
        "\n",
        "## <font color='blue'>Acknowledgements</font>\n",
        "\n",
        "- We acknowledge the IMDb dataset and Hugging Face for providing access to models and resources.\n",
        "- Special thanks to all contributors and supporters of this project.\n",
        "\n",
        "## <font color='blue'>End Note</font>\n",
        "\n",
        "This project explores the capabilities of advanced NLP models and underscores the importance of selecting appropriate tools for sentiment analysis tasks. By combining deep learning with traditional approaches, it lays a foundation for robust sentiment analysis solutions applicable across various domains.\n",
        "\n",
        "</font>"
      ],
      "metadata": {
        "id": "F5WyAdLD74eI"
      }
    }
  ]
}