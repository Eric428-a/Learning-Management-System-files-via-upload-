{
  "nbformat": 4,
  "nbformat_minor": 0,
  "metadata": {
    "colab": {
      "provenance": []
    },
    "kernelspec": {
      "name": "python3",
      "display_name": "Python 3"
    },
    "language_info": {
      "name": "python"
    }
  },
  "cells": [
    {
      "cell_type": "markdown",
      "source": [
        "# 🔍 Crime Data Clustering Project Overview\n",
        "\n",
        "## 📖 Project Description\n",
        "This project aims to analyze crime data using K-Means clustering to identify crime hotspots based on geographical coordinates (latitude and longitude). The dataset is pre-processed, explored, and visualized to gain insights into crime patterns.\n",
        "\n",
        "## 📊 Steps Overview\n",
        "\n",
        "### 1. 📥 Data Loading\n",
        "- Load the crime dataset from the specified path into a DataFrame for manipulation and analysis.\n",
        "\n",
        "### 2. 🔍 Data Exploration\n",
        "- Display the first five rows, dataset information, summary statistics, and check for missing values.\n",
        "- Visualize the correlation between numeric features using a heatmap.\n",
        "- Generate histograms for all numeric features to understand their distributions.\n",
        "- Create scatter plots to visualize the geographical distribution of crimes.\n",
        "\n",
        "### 3. ⚙️ Data Preparation\n",
        "- Select relevant features (latitude and longitude).\n",
        "- Scale the features using `StandardScaler`.\n",
        "- Perform dimensionality reduction using PCA for better clustering performance.\n",
        "\n",
        "### 4. 🔑 K-Means Clustering\n",
        "- Evaluate different numbers of clusters (2-10) and calculate silhouette scores for each.\n",
        "- Identify the optimal number of clusters based on the highest silhouette score.\n",
        "- Conduct final K-Means clustering and assign cluster labels to the original dataset.\n",
        "\n",
        "### 5. 📈 Visualization of Results\n",
        "- Visualize the clustering results on a scatter plot showing crime hotspots based on the identified clusters.\n",
        "\n",
        "### 6. 💾 Save Clustered Data\n",
        "- Save the clustered data along with the assigned cluster labels to a CSV file for future reference.\n",
        "\n",
        "### 7. 🛠 Model Deployment (Optional)\n",
        "- Save the trained K-Means model for deployment and future predictions.\n",
        "\n",
        "## 📁 Outputs\n",
        "- Data exploration results saved as a CSV file.\n",
        "- Clustered data exported for further analysis.\n",
        "- Visualization plots saved as PDF files.\n",
        "- Trained K-Means model saved for potential deployment.\n",
        "\n",
        "## 📅 Conclusion\n",
        "The project successfully clusters crime data, revealing significant patterns and potential hotspots that can inform law enforcement strategies and resource allocation."
      ],
      "metadata": {
        "id": "qwll-iKLuoRm"
      }
    },
    {
      "cell_type": "code",
      "source": [],
      "metadata": {
        "id": "N0DWS_6rurvv"
      },
      "execution_count": 4,
      "outputs": []
    },
    {
      "cell_type": "code",
      "source": [],
      "metadata": {
        "id": "HoU6qM7Turz5"
      },
      "execution_count": 4,
      "outputs": []
    },
    {
      "cell_type": "code",
      "source": [],
      "metadata": {
        "id": "qenwsu1Wur66"
      },
      "execution_count": 4,
      "outputs": []
    },
    {
      "cell_type": "markdown",
      "source": [
        "# 📚 Step 1: Import Libraries\n",
        "\n",
        "In this initial step, we import all the necessary libraries for data analysis and clustering. The libraries include:\n",
        "\n",
        "- **Pandas**: For data manipulation and analysis.\n",
        "- **NumPy**: For numerical computations.\n",
        "- **Matplotlib**: For creating visualizations.\n",
        "- **Seaborn**: For statistical data visualization.\n",
        "- **Scikit-learn**: For implementing machine learning algorithms, including K-Means clustering.\n",
        "- **PCA**: To reduce dimensionality and enhance the clustering process.\n",
        "\n",
        "Ensuring that all libraries are correctly imported is crucial for the seamless execution of the subsequent steps."
      ],
      "metadata": {
        "id": "KDfVuwcgvv9U"
      }
    },
    {
      "cell_type": "code",
      "source": [
        "# Import the required libraries"
      ],
      "metadata": {
        "id": "R-Ec-zf1ukcp"
      },
      "execution_count": 5,
      "outputs": []
    },
    {
      "cell_type": "code",
      "source": [
        "import pandas as pd  # Import pandas library for data manipulation"
      ],
      "metadata": {
        "id": "heLsAcf1pfnc"
      },
      "execution_count": 6,
      "outputs": []
    },
    {
      "cell_type": "code",
      "source": [
        "import numpy as np  # Import numpy for numerical operations"
      ],
      "metadata": {
        "id": "T0FPkRLeqAfm"
      },
      "execution_count": 7,
      "outputs": []
    },
    {
      "cell_type": "code",
      "source": [
        "import matplotlib.pyplot as plt  # Import matplotlib for plotting"
      ],
      "metadata": {
        "id": "knbKbLcCqAid"
      },
      "execution_count": 8,
      "outputs": []
    },
    {
      "cell_type": "code",
      "source": [
        "import seaborn as sns  # Import seaborn for advanced visualizations"
      ],
      "metadata": {
        "id": "_QztcRxjqAlE"
      },
      "execution_count": 9,
      "outputs": []
    },
    {
      "cell_type": "code",
      "source": [
        "from sklearn.preprocessing import StandardScaler  # Import StandardScaler for feature scaling"
      ],
      "metadata": {
        "id": "AbhhZP4bqAp-"
      },
      "execution_count": 10,
      "outputs": []
    },
    {
      "cell_type": "code",
      "source": [
        "from sklearn.decomposition import PCA  # Import PCA for dimensionality reduction"
      ],
      "metadata": {
        "id": "CUbvLPo2qAwc"
      },
      "execution_count": 11,
      "outputs": []
    },
    {
      "cell_type": "code",
      "source": [
        "from sklearn.cluster import KMeans  # Import KMeans for clustering"
      ],
      "metadata": {
        "id": "mQgcBteXqAzK"
      },
      "execution_count": 12,
      "outputs": []
    },
    {
      "cell_type": "code",
      "source": [
        "from sklearn.metrics import silhouette_score  # Import silhouette_score for evaluating clustering"
      ],
      "metadata": {
        "id": "6o0nq2emqkm1"
      },
      "execution_count": 13,
      "outputs": []
    },
    {
      "cell_type": "code",
      "source": [
        "import joblib  # Import joblib for saving models"
      ],
      "metadata": {
        "id": "5cGT3OJTqkp-"
      },
      "execution_count": 14,
      "outputs": []
    },
    {
      "cell_type": "code",
      "source": [],
      "metadata": {
        "id": "CvLY1WRSqkst"
      },
      "execution_count": 14,
      "outputs": []
    },
    {
      "cell_type": "code",
      "source": [],
      "metadata": {
        "id": "pdswOK1oqkxh"
      },
      "execution_count": 14,
      "outputs": []
    },
    {
      "cell_type": "code",
      "source": [],
      "metadata": {
        "id": "WW6_9yrtqk0z"
      },
      "execution_count": 14,
      "outputs": []
    },
    {
      "cell_type": "markdown",
      "source": [
        "# 📥 Step 2: Load the Dataset\n",
        "\n",
        "This step involves loading the crime dataset from the specified file path into a Pandas DataFrame. The following actions are performed:\n",
        "\n",
        "- **Read the Data**: Utilize `pd.read_csv()` to read the CSV file into a DataFrame.\n",
        "- **Inspect the Data**: Display the first few rows of the dataset using `head()` to understand its structure and the nature of the data.\n",
        "\n",
        "Confirming the successful loading of the dataset is essential for proceeding with data exploration and analysis."
      ],
      "metadata": {
        "id": "ewpFTTgeuxco"
      }
    },
    {
      "cell_type": "code",
      "source": [
        "#  Load the dataset"
      ],
      "metadata": {
        "id": "xbQbFp3Dqk3n"
      },
      "execution_count": 15,
      "outputs": []
    },
    {
      "cell_type": "code",
      "source": [
        "dataset_path = \"/content/small_crime_subset.csv\"  # Path to the crime dataset"
      ],
      "metadata": {
        "id": "XUa8VhAlqk6y"
      },
      "execution_count": 16,
      "outputs": []
    },
    {
      "cell_type": "code",
      "source": [
        "crime_data = pd.read_csv(dataset_path)  # Load the dataset into a DataFrame"
      ],
      "metadata": {
        "id": "PReMZrvhqA06"
      },
      "execution_count": 17,
      "outputs": []
    },
    {
      "cell_type": "code",
      "source": [],
      "metadata": {
        "id": "4ytygn77qA5Y"
      },
      "execution_count": 17,
      "outputs": []
    },
    {
      "cell_type": "code",
      "source": [],
      "metadata": {
        "id": "7m4ikDr2qA7x"
      },
      "execution_count": 17,
      "outputs": []
    },
    {
      "cell_type": "code",
      "source": [],
      "metadata": {
        "id": "c388AxWCqBAl"
      },
      "execution_count": 17,
      "outputs": []
    },
    {
      "cell_type": "markdown",
      "source": [
        "# 🔍 Step 3: Explore the Data\n",
        "\n",
        "Data exploration is conducted to gain insights into the dataset's structure and content. Key activities include:\n",
        "\n",
        "- **Dataset Information**: Use `info()` to check the data types and non-null counts of each column.\n",
        "- **Summary Statistics**: Generate descriptive statistics with `describe()` to understand the distribution of numeric features.\n",
        "- **Missing Values**: Identify any missing values in the dataset to ensure data integrity.\n",
        "- **Visual Correlation**: Create a heatmap to visualize correlations among numeric features, aiding in identifying significant relationships.\n",
        "- **Distributions**: Generate histograms for numeric features to analyze their distributions.\n",
        "- **Geographical Distribution**: Use scatter plots to visualize the geographical distribution of crimes based on latitude and longitude.\n",
        "\n",
        "These exploratory steps are vital for understanding the dataset before performing any clustering."
      ],
      "metadata": {
        "id": "XfxJ1lK7u0Tv"
      }
    },
    {
      "cell_type": "code",
      "source": [
        "#  Data Exploration"
      ],
      "metadata": {
        "id": "OMDZOutEqBDT"
      },
      "execution_count": 18,
      "outputs": []
    },
    {
      "cell_type": "code",
      "source": [
        "print(\"First 5 rows of the dataset:\")  # Print a message indicating the following output\n",
        "print(crime_data.head())  # Display the first 5 rows of the dataset"
      ],
      "metadata": {
        "colab": {
          "base_uri": "https://localhost:8080/"
        },
        "id": "5igCGbCEqBHd",
        "outputId": "b6062c6d-63c3-4754-9c57-7f6d97046828"
      },
      "execution_count": 19,
      "outputs": [
        {
          "output_type": "stream",
          "name": "stdout",
          "text": [
            "First 5 rows of the dataset:\n",
            "      CASE#     DATE  OF OCCURRENCE                  BLOCK  IUCR  \\\n",
            "0  JH180578  03/07/2024 06:38:00 PM  021XX S PRINCETON AVE  1320   \n",
            "1  JH179103  03/07/2024 02:10:00 PM   059XX N GLENWOOD AVE  0460   \n",
            "2  JH178557  03/07/2024 04:45:00 AM   026XX W ARMITAGE AVE  041A   \n",
            "3  JH179833  03/07/2024 07:00:00 PM        007XX W 74TH ST  0810   \n",
            "4  JH178450  03/07/2024 12:08:00 AM   022XX S TRUMBULL AVE  502P   \n",
            "\n",
            "   PRIMARY DESCRIPTION         SECONDARY DESCRIPTION  \\\n",
            "0      CRIMINAL DAMAGE                    TO VEHICLE   \n",
            "1              BATTERY                        SIMPLE   \n",
            "2              BATTERY          AGGRAVATED - HANDGUN   \n",
            "3                THEFT                     OVER $500   \n",
            "4        OTHER OFFENSE  FALSE / STOLEN / ALTERED TRP   \n",
            "\n",
            "        LOCATION DESCRIPTION ARREST DOMESTIC  BEAT  WARD FBI CD  X COORDINATE  \\\n",
            "0  NURSING / RETIREMENT HOME      N        N   914    11     14     1174265.0   \n",
            "1   SCHOOL - PUBLIC BUILDING      Y        N  2013    48    08B     1165910.0   \n",
            "2                     STREET      N        N  1421     1    04B     1158387.0   \n",
            "3                     STREET      N        N   732    17     06     1172767.0   \n",
            "4                     STREET      N        N  1024    22     26     1153715.0   \n",
            "\n",
            "   Y COORDINATE   LATITUDE  LONGITUDE                       LOCATION  \n",
            "0     1890173.0  41.854037 -87.635861  (41.854037308, -87.635861095)  \n",
            "1     1939379.0  41.989244 -87.665120  (41.989243623, -87.665119726)  \n",
            "2     1913184.0  41.917521 -87.693510  (41.917520732, -87.693509757)  \n",
            "3     1855810.0  41.759775 -87.642373  (41.759775035, -87.642373275)  \n",
            "4     1888947.0  41.851106 -87.711320  (41.851106306, -87.711320316)  \n"
          ]
        }
      ]
    },
    {
      "cell_type": "code",
      "source": [],
      "metadata": {
        "id": "GT4X60eyq5d8"
      },
      "execution_count": 19,
      "outputs": []
    },
    {
      "cell_type": "code",
      "source": [],
      "metadata": {
        "id": "3KrXGBWkq5h0"
      },
      "execution_count": 19,
      "outputs": []
    },
    {
      "cell_type": "code",
      "source": [
        "print(\"\\nDataset info:\")  # Print a message indicating the following output\n",
        "print(crime_data.info())  # Display information about the dataset, including data types and non-null counts\n"
      ],
      "metadata": {
        "colab": {
          "base_uri": "https://localhost:8080/"
        },
        "id": "9eILVGu5q5lM",
        "outputId": "e09e647a-471f-4fe0-d707-8f837c76285a"
      },
      "execution_count": 20,
      "outputs": [
        {
          "output_type": "stream",
          "name": "stdout",
          "text": [
            "\n",
            "Dataset info:\n",
            "<class 'pandas.core.frame.DataFrame'>\n",
            "RangeIndex: 50 entries, 0 to 49\n",
            "Data columns (total 17 columns):\n",
            " #   Column                  Non-Null Count  Dtype  \n",
            "---  ------                  --------------  -----  \n",
            " 0   CASE#                   50 non-null     object \n",
            " 1   DATE  OF OCCURRENCE     50 non-null     object \n",
            " 2   BLOCK                   50 non-null     object \n",
            " 3    IUCR                   50 non-null     object \n",
            " 4    PRIMARY DESCRIPTION    50 non-null     object \n",
            " 5    SECONDARY DESCRIPTION  50 non-null     object \n",
            " 6    LOCATION DESCRIPTION   50 non-null     object \n",
            " 7   ARREST                  50 non-null     object \n",
            " 8   DOMESTIC                50 non-null     object \n",
            " 9   BEAT                    50 non-null     int64  \n",
            " 10  WARD                    50 non-null     int64  \n",
            " 11  FBI CD                  50 non-null     object \n",
            " 12  X COORDINATE            50 non-null     float64\n",
            " 13  Y COORDINATE            50 non-null     float64\n",
            " 14  LATITUDE                50 non-null     float64\n",
            " 15  LONGITUDE               50 non-null     float64\n",
            " 16  LOCATION                50 non-null     object \n",
            "dtypes: float64(4), int64(2), object(11)\n",
            "memory usage: 6.8+ KB\n",
            "None\n"
          ]
        }
      ]
    },
    {
      "cell_type": "code",
      "source": [],
      "metadata": {
        "id": "ni7e3jGxq5uV"
      },
      "execution_count": 20,
      "outputs": []
    },
    {
      "cell_type": "code",
      "source": [],
      "metadata": {
        "id": "GilUH5r7q5ys"
      },
      "execution_count": 20,
      "outputs": []
    },
    {
      "cell_type": "code",
      "source": [
        "print(\"\\nSummary statistics:\")  # Print a message indicating the following output\n",
        "print(crime_data.describe())  # Display summary statistics of numerical columns"
      ],
      "metadata": {
        "colab": {
          "base_uri": "https://localhost:8080/"
        },
        "id": "iazgYWx7q6Hs",
        "outputId": "2f029d30-7eca-4939-ce7d-4393f19a8fd5"
      },
      "execution_count": 21,
      "outputs": [
        {
          "output_type": "stream",
          "name": "stdout",
          "text": [
            "\n",
            "Summary statistics:\n",
            "              BEAT       WARD  X COORDINATE  Y COORDINATE   LATITUDE  \\\n",
            "count    50.000000  50.000000  5.000000e+01  5.000000e+01  50.000000   \n",
            "mean   1178.960000  22.040000  1.161428e+06  1.884564e+06  41.838908   \n",
            "std     611.673648  12.970862  1.597171e+04  3.077191e+04   0.084554   \n",
            "min     225.000000   1.000000  1.128612e+06  1.818023e+06  41.655821   \n",
            "25%     812.500000  13.250000  1.150716e+06  1.861276e+06  41.775016   \n",
            "50%    1018.000000  20.000000  1.162902e+06  1.889560e+06  41.852572   \n",
            "75%    1499.000000  34.500000  1.172751e+06  1.908327e+06  41.904146   \n",
            "max    2534.000000  48.000000  1.192969e+06  1.940820e+06  41.993158   \n",
            "\n",
            "       LONGITUDE  \n",
            "count  50.000000  \n",
            "mean  -87.683158  \n",
            "std     0.058320  \n",
            "min   -87.802452  \n",
            "25%   -87.722237  \n",
            "50%   -87.677696  \n",
            "75%   -87.642116  \n",
            "max   -87.568219  \n"
          ]
        }
      ]
    },
    {
      "cell_type": "code",
      "source": [],
      "metadata": {
        "id": "xF_tewYKrhLE"
      },
      "execution_count": 21,
      "outputs": []
    },
    {
      "cell_type": "code",
      "source": [],
      "metadata": {
        "id": "e5BAzEGNrhPE"
      },
      "execution_count": 21,
      "outputs": []
    },
    {
      "cell_type": "code",
      "source": [
        "print(\"\\nMissing values in each column:\")  # Print a message indicating the following output\n",
        "print(crime_data.isnull().sum())  # Display the count of missing values in each column"
      ],
      "metadata": {
        "colab": {
          "base_uri": "https://localhost:8080/"
        },
        "id": "dnT40YbNrhTu",
        "outputId": "3f49bb89-164d-4e77-b280-d4282d462364"
      },
      "execution_count": 22,
      "outputs": [
        {
          "output_type": "stream",
          "name": "stdout",
          "text": [
            "\n",
            "Missing values in each column:\n",
            "CASE#                     0\n",
            "DATE  OF OCCURRENCE       0\n",
            "BLOCK                     0\n",
            " IUCR                     0\n",
            " PRIMARY DESCRIPTION      0\n",
            " SECONDARY DESCRIPTION    0\n",
            " LOCATION DESCRIPTION     0\n",
            "ARREST                    0\n",
            "DOMESTIC                  0\n",
            "BEAT                      0\n",
            "WARD                      0\n",
            "FBI CD                    0\n",
            "X COORDINATE              0\n",
            "Y COORDINATE              0\n",
            "LATITUDE                  0\n",
            "LONGITUDE                 0\n",
            "LOCATION                  0\n",
            "dtype: int64\n"
          ]
        }
      ]
    },
    {
      "cell_type": "code",
      "source": [],
      "metadata": {
        "id": "tS2B0NIPqBKM"
      },
      "execution_count": 22,
      "outputs": []
    },
    {
      "cell_type": "code",
      "source": [],
      "metadata": {
        "id": "NNRxPn98qBMv"
      },
      "execution_count": 22,
      "outputs": []
    },
    {
      "cell_type": "code",
      "source": [],
      "metadata": {
        "id": "6K-S6xqZqBOe"
      },
      "execution_count": 22,
      "outputs": []
    },
    {
      "cell_type": "code",
      "source": [
        "# Visualization: Correlation Heatmap"
      ],
      "metadata": {
        "id": "k8x_YeiRqBTj"
      },
      "execution_count": 23,
      "outputs": []
    },
    {
      "cell_type": "code",
      "source": [
        "# Select only numeric columns from the DataFrame"
      ],
      "metadata": {
        "id": "J66LtdW-qBXr"
      },
      "execution_count": 24,
      "outputs": []
    },
    {
      "cell_type": "code",
      "source": [
        "numeric_data = crime_data.select_dtypes(include=[np.number])"
      ],
      "metadata": {
        "id": "o-KphkOiqBbz"
      },
      "execution_count": 25,
      "outputs": []
    },
    {
      "cell_type": "code",
      "source": [],
      "metadata": {
        "id": "KCVc_6vWqBef"
      },
      "execution_count": 25,
      "outputs": []
    },
    {
      "cell_type": "code",
      "source": [
        "plt.figure(figsize=(12, 8))  # Create a new figure for the heatmap\n",
        "sns.heatmap(numeric_data.corr(), annot=True, fmt=\".2f\", cmap='coolwarm')  # Plot the correlation heatmap\n",
        "plt.title('Correlation Heatmap')  # Set the title of the heatmap\n",
        "plt.savefig('/content/correlation_heatmap.pdf')  # Save the heatmap as a PDF file\n",
        "plt.show()  # Display the heatmap"
      ],
      "metadata": {
        "colab": {
          "base_uri": "https://localhost:8080/",
          "height": 575
        },
        "id": "WVm8GmG7qBgt",
        "outputId": "cc7fcd21-8beb-4087-c1e7-fafc6570304e"
      },
      "execution_count": 26,
      "outputs": [
        {
          "output_type": "display_data",
          "data": {
            "text/plain": [
              "<Figure size 1200x800 with 2 Axes>"
            ],
            "image/png": "[encoded data removed]"
          },
          "metadata": {}
        }
      ]
    },
    {
      "cell_type": "code",
      "source": [],
      "metadata": {
        "id": "-rhNynrZqBk1"
      },
      "execution_count": 26,
      "outputs": []
    },
    {
      "cell_type": "code",
      "source": [],
      "metadata": {
        "id": "Kb_r9bDvqBnY"
      },
      "execution_count": 26,
      "outputs": []
    },
    {
      "cell_type": "code",
      "source": [
        "# Visualization: Histograms"
      ],
      "metadata": {
        "id": "8PDX8HC4qBrl"
      },
      "execution_count": 27,
      "outputs": []
    },
    {
      "cell_type": "code",
      "source": [
        "crime_data.hist(bins=30, figsize=(15, 10))  # Create histograms for all numeric features\n",
        "plt.suptitle('Histograms of Crime Data Features')  # Set the title for the histograms\n",
        "plt.savefig('/content/histograms.pdf')  # Save histograms as a PDF file\n",
        "plt.show()  # Display the histograms"
      ],
      "metadata": {
        "colab": {
          "base_uri": "https://localhost:8080/",
          "height": 631
        },
        "id": "RF1i6kpeqBx7",
        "outputId": "140ac7c4-aa44-43df-e123-e4c1d1e1b667"
      },
      "execution_count": 28,
      "outputs": [
        {
          "output_type": "display_data",
          "data": {
            "text/plain": [
              "<Figure size 1500x1000 with 6 Axes>"
            ],
            "image/png": "[encoded data removed]"
          },
          "metadata": {}
        }
      ]
    },
    {
      "cell_type": "code",
      "source": [],
      "metadata": {
        "id": "OSvAYIDZqB0S"
      },
      "execution_count": 28,
      "outputs": []
    },
    {
      "cell_type": "code",
      "source": [],
      "metadata": {
        "id": "HvyRymdqqB2Q"
      },
      "execution_count": 28,
      "outputs": []
    },
    {
      "cell_type": "code",
      "source": [
        "# Visualization: Scatter Plots for Latitude and Longitude"
      ],
      "metadata": {
        "id": "FGIpXI7xqB4o"
      },
      "execution_count": 29,
      "outputs": []
    },
    {
      "cell_type": "code",
      "source": [
        "plt.figure(figsize=(10, 6))  # Create a new figure for the scatter plot\n",
        "plt.scatter(crime_data['LONGITUDE'], crime_data['LATITUDE'], alpha=0.5)  # Plot latitude vs longitude\n",
        "plt.title('Scatter Plot of Crime Locations')  # Set the title of the scatter plot\n",
        "plt.xlabel('Longitude')  # Label the x-axis\n",
        "plt.ylabel('Latitude')  # Label the y-axis\n",
        "plt.savefig('/content/scatter_plot_crime_locations.pdf')  # Save the scatter plot as a PDF file\n",
        "plt.show()  # Display the scatter plot"
      ],
      "metadata": {
        "colab": {
          "base_uri": "https://localhost:8080/",
          "height": 535
        },
        "id": "3G9XkCZ4qB68",
        "outputId": "6dcb0b06-6bb2-4099-bf76-28fa1e1594db"
      },
      "execution_count": 30,
      "outputs": [
        {
          "output_type": "display_data",
          "data": {
            "text/plain": [
              "<Figure size 1000x600 with 1 Axes>"
            ],
            "image/png": "[encoded data removed]"
          },
          "metadata": {}
        }
      ]
    },
    {
      "cell_type": "code",
      "source": [],
      "metadata": {
        "id": "DrgPYWGOsvHX"
      },
      "execution_count": 30,
      "outputs": []
    },
    {
      "cell_type": "code",
      "source": [],
      "metadata": {
        "id": "svB1osLdsvKp"
      },
      "execution_count": 30,
      "outputs": []
    },
    {
      "cell_type": "code",
      "source": [
        "# Save data exploration results as CSV"
      ],
      "metadata": {
        "id": "wgLTTANrsvNk"
      },
      "execution_count": 31,
      "outputs": []
    },
    {
      "cell_type": "code",
      "source": [
        "data_exploration_path = \"/content/crime_data_exploration.csv\"  # Path to save exploration results"
      ],
      "metadata": {
        "id": "7HxRP3W2svQk"
      },
      "execution_count": 32,
      "outputs": []
    },
    {
      "cell_type": "code",
      "source": [
        "crime_data.describe().to_csv(data_exploration_path)  # Save summary statistics to a CSV file"
      ],
      "metadata": {
        "id": "naQrfdffsvTw"
      },
      "execution_count": 33,
      "outputs": []
    },
    {
      "cell_type": "code",
      "source": [],
      "metadata": {
        "id": "OPZLSTBus2m9"
      },
      "execution_count": 33,
      "outputs": []
    },
    {
      "cell_type": "code",
      "source": [],
      "metadata": {
        "id": "2R4hexWKs2qR"
      },
      "execution_count": 33,
      "outputs": []
    },
    {
      "cell_type": "code",
      "source": [],
      "metadata": {
        "id": "bVB8dY9_s2ua"
      },
      "execution_count": 33,
      "outputs": []
    },
    {
      "cell_type": "markdown",
      "source": [
        "# ⚙️ Step 4: Data Preparation\n",
        "\n",
        "In this step, we prepare the data for clustering by performing the following actions:\n",
        "\n",
        "- **Feature Selection**: Choose relevant features (latitude and longitude) that will be used for clustering.\n",
        "- **Feature Scaling**: Normalize the selected features using `StandardScaler` to ensure that all features contribute equally to the distance calculations in clustering.\n",
        "- **Dimensionality Reduction**: Apply Principal Component Analysis (PCA) to reduce the number of features while preserving variance, enhancing clustering performance.\n",
        "\n",
        "Proper data preparation is critical for effective clustering and achieving meaningful results."
      ],
      "metadata": {
        "id": "ihrS7R4iu49X"
      }
    },
    {
      "cell_type": "code",
      "source": [
        "# Data Preparation"
      ],
      "metadata": {
        "id": "BgZEINfss2xk"
      },
      "execution_count": 34,
      "outputs": []
    },
    {
      "cell_type": "code",
      "source": [
        "# Selecting the relevant features (latitude and longitude)"
      ],
      "metadata": {
        "id": "M5dFir5ns21A"
      },
      "execution_count": 35,
      "outputs": []
    },
    {
      "cell_type": "code",
      "source": [
        "coordinates = crime_data[['LATITUDE', 'LONGITUDE']]  # Extract latitude and longitude columns for clustering\n"
      ],
      "metadata": {
        "id": "nRnDQI4FsvXB"
      },
      "execution_count": 36,
      "outputs": []
    },
    {
      "cell_type": "code",
      "source": [],
      "metadata": {
        "id": "kgIqCaVjsvZ3"
      },
      "execution_count": 36,
      "outputs": []
    },
    {
      "cell_type": "code",
      "source": [
        "# Feature scaling"
      ],
      "metadata": {
        "id": "ByW3ExuRqB9X"
      },
      "execution_count": 37,
      "outputs": []
    },
    {
      "cell_type": "code",
      "source": [
        "scaler = StandardScaler()  # Initialize StandardScaler"
      ],
      "metadata": {
        "id": "S3cVbn4TqB_R"
      },
      "execution_count": 38,
      "outputs": []
    },
    {
      "cell_type": "code",
      "source": [
        "scaled_coordinates = scaler.fit_transform(coordinates)  # Scale the coordinates to have mean 0 and variance 1\n"
      ],
      "metadata": {
        "id": "HfpAnF2XqCBt"
      },
      "execution_count": 39,
      "outputs": []
    },
    {
      "cell_type": "code",
      "source": [],
      "metadata": {
        "id": "cjgNOpTnqCDl"
      },
      "execution_count": 39,
      "outputs": []
    },
    {
      "cell_type": "code",
      "source": [
        "# Dimensionality reduction using PCA"
      ],
      "metadata": {
        "id": "fVRQdC7PqCF8"
      },
      "execution_count": 40,
      "outputs": []
    },
    {
      "cell_type": "code",
      "source": [
        "pca = PCA(n_components=2)  # Initialize PCA to reduce to 2 components"
      ],
      "metadata": {
        "id": "Rpz_b24nqCIT"
      },
      "execution_count": 41,
      "outputs": []
    },
    {
      "cell_type": "code",
      "source": [
        "reduced_features = pca.fit_transform(scaled_coordinates)  # Apply PCA on the scaled coordinates"
      ],
      "metadata": {
        "id": "udaDs7yGqCMr"
      },
      "execution_count": 42,
      "outputs": []
    },
    {
      "cell_type": "code",
      "source": [],
      "metadata": {
        "id": "X-AZ1eVumEce"
      },
      "execution_count": 42,
      "outputs": []
    },
    {
      "cell_type": "code",
      "source": [],
      "metadata": {
        "id": "hB94cbGBmEe7"
      },
      "execution_count": 42,
      "outputs": []
    },
    {
      "cell_type": "code",
      "source": [],
      "metadata": {
        "id": "G0tHyvf-mEhk"
      },
      "execution_count": 42,
      "outputs": []
    },
    {
      "cell_type": "markdown",
      "source": [
        "# 🔑 Step 5: K-Means Clustering\n",
        "\n",
        "This step focuses on applying the K-Means clustering algorithm to the prepared data. Key components include:\n",
        "\n",
        "- **Evaluating Clusters**: Test different numbers of clusters (e.g., from 2 to 10) and calculate silhouette scores for each to assess the quality of the clusters.\n",
        "- **Optimal Clusters**: Identify the optimal number of clusters based on the silhouette scores, which indicates how well-separated the clusters are.\n",
        "- **Final Clustering**: Execute K-Means clustering using the optimal number of clusters and assign cluster labels to each data point.\n",
        "\n",
        "Clustering analysis helps in understanding crime patterns and identifying hotspots effectively."
      ],
      "metadata": {
        "id": "bI7odsZTvNz9"
      }
    },
    {
      "cell_type": "code",
      "source": [
        "# K-Means Clustering"
      ],
      "metadata": {
        "id": "NlQ-sOQrmElb"
      },
      "execution_count": 43,
      "outputs": []
    },
    {
      "cell_type": "code",
      "source": [
        "# Try different numbers of clusters"
      ],
      "metadata": {
        "id": "_Bit-tEXmEpj"
      },
      "execution_count": 44,
      "outputs": []
    },
    {
      "cell_type": "code",
      "source": [
        "silhouette_scores = []  # Initialize a list to hold silhouette scores"
      ],
      "metadata": {
        "id": "7QNoRRVDlAaD"
      },
      "execution_count": 45,
      "outputs": []
    },
    {
      "cell_type": "code",
      "source": [
        "n_clusters_range = range(2, 11)  # Define the range of clusters to try from 2 to 10"
      ],
      "metadata": {
        "id": "o6NXGxoilAc0"
      },
      "execution_count": 46,
      "outputs": []
    },
    {
      "cell_type": "code",
      "source": [],
      "metadata": {
        "id": "izncB8nYtY1f"
      },
      "execution_count": 46,
      "outputs": []
    },
    {
      "cell_type": "code",
      "source": [
        "for n_clusters in n_clusters_range:  # Loop through the range of clusters\n",
        "    kmeans = KMeans(n_clusters=n_clusters, random_state=42)  # Initialize KMeans with the current number of clusters\n",
        "    cluster_labels = kmeans.fit_predict(reduced_features)  # Fit the model and predict cluster labels\n",
        "    silhouette_avg = silhouette_score(reduced_features, cluster_labels)  # Calculate the average silhouette score\n",
        "    silhouette_scores.append(silhouette_avg)  # Append the score to the list\n",
        "    print(f\"Number of clusters: {n_clusters}, Silhouette Score: {silhouette_avg:.4f}\")  # Print the number of clusters and score\n",
        ""
      ],
      "metadata": {
        "colab": {
          "base_uri": "https://localhost:8080/"
        },
        "id": "8IrJUp6LtY5I",
        "outputId": "d013e9a0-95f2-4122-e744-4fcf95d16d88"
      },
      "execution_count": 47,
      "outputs": [
        {
          "output_type": "stream",
          "name": "stdout",
          "text": [
            "Number of clusters: 2, Silhouette Score: 0.3758\n",
            "Number of clusters: 3, Silhouette Score: 0.4031\n",
            "Number of clusters: 4, Silhouette Score: 0.3902\n",
            "Number of clusters: 5, Silhouette Score: 0.4271\n",
            "Number of clusters: 6, Silhouette Score: 0.4460\n",
            "Number of clusters: 7, Silhouette Score: 0.5028\n",
            "Number of clusters: 8, Silhouette Score: 0.4452\n",
            "Number of clusters: 9, Silhouette Score: 0.4579\n",
            "Number of clusters: 10, Silhouette Score: 0.4737\n"
          ]
        }
      ]
    },
    {
      "cell_type": "code",
      "source": [],
      "metadata": {
        "id": "hcNf8BcttY8J"
      },
      "execution_count": 47,
      "outputs": []
    },
    {
      "cell_type": "code",
      "source": [],
      "metadata": {
        "id": "2vKmgP_dtY-2"
      },
      "execution_count": 47,
      "outputs": []
    },
    {
      "cell_type": "code",
      "source": [
        "# Plot Silhouette Scores"
      ],
      "metadata": {
        "id": "ke51p14stZCG"
      },
      "execution_count": 48,
      "outputs": []
    },
    {
      "cell_type": "code",
      "source": [
        "plt.figure(figsize=(10, 6))  # Create a new figure for the plot\n",
        "plt.plot(n_clusters_range, silhouette_scores, marker='o')  # Plot the silhouette scores against the number of clusters\n",
        "plt.title('Silhouette Scores for Different Numbers of Clusters')  # Set the title of the plot\n",
        "plt.xlabel('Number of Clusters')  # Label the x-axis\n",
        "plt.ylabel('Silhouette Score')  # Label the y-axis\n",
        "plt.xticks(n_clusters_range)  # Set x-ticks to the range of clusters\n",
        "plt.grid()  # Enable the grid on the plot\n",
        "plt.savefig('/content/silhouette_scores.pdf')  # Save the plot as a PDF file\n",
        "plt.show()  # Display the plot"
      ],
      "metadata": {
        "colab": {
          "base_uri": "https://localhost:8080/",
          "height": 540
        },
        "id": "7Zcfu0EBtZFj",
        "outputId": "5c7fed14-422d-4d71-839a-633286cd100e"
      },
      "execution_count": 49,
      "outputs": [
        {
          "output_type": "display_data",
          "data": {
            "text/plain": [
              "<Figure size 1000x600 with 1 Axes>"
            ],
            "image/png": "[encoded data removed]"
          },
          "metadata": {}
        }
      ]
    },
    {
      "cell_type": "code",
      "source": [],
      "metadata": {
        "id": "o7kAet2KtZHp"
      },
      "execution_count": 49,
      "outputs": []
    },
    {
      "cell_type": "code",
      "source": [],
      "metadata": {
        "id": "bu5BWjp-tZTO"
      },
      "execution_count": 49,
      "outputs": []
    },
    {
      "cell_type": "code",
      "source": [
        "# Choose the best number of clusters (the one with the highest silhouette score)"
      ],
      "metadata": {
        "id": "FLG5u4bClAfd"
      },
      "execution_count": 50,
      "outputs": []
    },
    {
      "cell_type": "code",
      "source": [
        "best_n_clusters = n_clusters_range[np.argmax(silhouette_scores)]  # Identify the best number of clusters\n"
      ],
      "metadata": {
        "id": "Z6EpciW7lAkK"
      },
      "execution_count": 51,
      "outputs": []
    },
    {
      "cell_type": "code",
      "source": [
        "print(f\"Best number of clusters: {best_n_clusters}\")  # Print the best number of clusters"
      ],
      "metadata": {
        "colab": {
          "base_uri": "https://localhost:8080/"
        },
        "id": "4usyqMltlAnc",
        "outputId": "364cd7fa-705b-47cb-f292-229720d6f620"
      },
      "execution_count": 52,
      "outputs": [
        {
          "output_type": "stream",
          "name": "stdout",
          "text": [
            "Best number of clusters: 7\n"
          ]
        }
      ]
    },
    {
      "cell_type": "code",
      "source": [],
      "metadata": {
        "id": "WTva6R4atr5Q"
      },
      "execution_count": 52,
      "outputs": []
    },
    {
      "cell_type": "code",
      "source": [],
      "metadata": {
        "id": "Ph4EUclFtr9V"
      },
      "execution_count": 52,
      "outputs": []
    },
    {
      "cell_type": "code",
      "source": [
        "# Final KMeans clustering"
      ],
      "metadata": {
        "id": "iQ0mR2xrtsAs"
      },
      "execution_count": 53,
      "outputs": []
    },
    {
      "cell_type": "code",
      "source": [
        "final_kmeans = KMeans(n_clusters=best_n_clusters, random_state=42)  # Initialize KMeans with the best number of clusters\n"
      ],
      "metadata": {
        "id": "3s7CGuY8tsEy"
      },
      "execution_count": 54,
      "outputs": []
    },
    {
      "cell_type": "code",
      "source": [
        "crime_data['Cluster'] = final_kmeans.fit_predict(reduced_features)  # Assign cluster labels to the original DataFrame\n"
      ],
      "metadata": {
        "id": "wHc3vblXtsHR"
      },
      "execution_count": 55,
      "outputs": []
    },
    {
      "cell_type": "code",
      "source": [],
      "metadata": {
        "id": "X4Vl-E5BtsLC"
      },
      "execution_count": 55,
      "outputs": []
    },
    {
      "cell_type": "code",
      "source": [
        "# Calculate final silhouette score"
      ],
      "metadata": {
        "id": "8sbbzsWFtsQW"
      },
      "execution_count": 56,
      "outputs": []
    },
    {
      "cell_type": "code",
      "source": [
        "final_silhouette_score = silhouette_score(reduced_features, crime_data['Cluster'])  # Calculate silhouette score for the final clusters\n"
      ],
      "metadata": {
        "id": "UhhnhgEAt10u"
      },
      "execution_count": 57,
      "outputs": []
    },
    {
      "cell_type": "code",
      "source": [
        "print(f\"Final Silhouette Score: {final_silhouette_score:.4f}\")  # Print the final silhouette score"
      ],
      "metadata": {
        "colab": {
          "base_uri": "https://localhost:8080/"
        },
        "id": "YI4R6Bdwt138",
        "outputId": "55c2b3f1-b0e5-4ee3-8179-e66d00fcd302"
      },
      "execution_count": 58,
      "outputs": [
        {
          "output_type": "stream",
          "name": "stdout",
          "text": [
            "Final Silhouette Score: 0.5028\n"
          ]
        }
      ]
    },
    {
      "cell_type": "code",
      "source": [],
      "metadata": {
        "id": "kZ5Z8zCft17Q"
      },
      "execution_count": 58,
      "outputs": []
    },
    {
      "cell_type": "code",
      "source": [],
      "metadata": {
        "id": "Ok7IX-b2t1-Z"
      },
      "execution_count": 58,
      "outputs": []
    },
    {
      "cell_type": "code",
      "source": [],
      "metadata": {
        "id": "yrYRDjw9t2Av"
      },
      "execution_count": 58,
      "outputs": []
    },
    {
      "cell_type": "markdown",
      "source": [
        "# 📈 Step 6: Visualize Results\n",
        "\n",
        "In this step, we visualize the results of the K-Means clustering to interpret the findings. Key activities include:\n",
        "\n",
        "- **Scatter Plot**: Create a scatter plot to represent the clustered data, highlighting different clusters to reveal crime hotspots visually.\n",
        "- **Cluster Characteristics**: Analyze the characteristics of each cluster to understand the factors contributing to crime patterns in various regions.\n",
        "\n",
        "Visualization aids in communicating insights derived from the clustering process effectively."
      ],
      "metadata": {
        "id": "iVd8qC0TvVPo"
      }
    },
    {
      "cell_type": "code",
      "source": [
        "# Visualization"
      ],
      "metadata": {
        "id": "M3exYYjyt9xu"
      },
      "execution_count": 59,
      "outputs": []
    },
    {
      "cell_type": "code",
      "source": [
        "plt.figure(figsize=(10, 6))  # Create a new figure for the scatter plot\n",
        "plt.scatter(crime_data['LONGITUDE'], crime_data['LATITUDE'], c=crime_data['Cluster'], cmap='viridis', marker='o', edgecolor='k', alpha=0.7)  # Plot the clusters\n",
        "plt.title('Crime Hotspots')  # Set the title of the scatter plot\n",
        "plt.xlabel('Longitude')  # Label the x-axis\n",
        "plt.ylabel('Latitude')  # Label the y-axis\n",
        "plt.colorbar(label='Cluster ID')  # Add a colorbar indicating cluster IDs\n",
        "plt.savefig('/content/crime_hotspots.pdf')  # Save the plot as a PDF file\n",
        "plt.show()  # Display the plot\n"
      ],
      "metadata": {
        "colab": {
          "base_uri": "https://localhost:8080/",
          "height": 564
        },
        "id": "lAJWKB60t92_",
        "outputId": "d2df3049-98d3-4355-c684-d5a16c24d642"
      },
      "execution_count": 60,
      "outputs": [
        {
          "output_type": "display_data",
          "data": {
            "text/plain": [
              "<Figure size 1000x600 with 2 Axes>"
            ],
            "image/png": "[encoded data removed]"
          },
          "metadata": {}
        }
      ]
    },
    {
      "cell_type": "code",
      "source": [],
      "metadata": {
        "id": "5FvC1wQeuGWX"
      },
      "execution_count": 60,
      "outputs": []
    },
    {
      "cell_type": "code",
      "source": [],
      "metadata": {
        "id": "hB0WsotnuIPZ"
      },
      "execution_count": 60,
      "outputs": []
    },
    {
      "cell_type": "code",
      "source": [],
      "metadata": {
        "id": "yO3cO_rAuITA"
      },
      "execution_count": 60,
      "outputs": []
    },
    {
      "cell_type": "markdown",
      "source": [
        "# 💾 Step 7: Save Results\n",
        "\n",
        "The final step involves saving the clustered data and relevant results for future reference. Actions taken include:\n",
        "\n",
        "- **Export Clustered Data**: Save the DataFrame containing original data along with assigned cluster labels to a CSV file for later analysis.\n",
        "- **Save Visualizations**: Export visualizations (e.g., scatter plots) as PDF files for presentation or reporting.\n",
        "- **Model Persistence**: Optionally, save the trained K-Means model to facilitate future predictions without retraining.\n",
        "\n",
        "Properly saving results ensures accessibility for further analysis and application."
      ],
      "metadata": {
        "id": "E_X0u2gNvYtf"
      }
    },
    {
      "cell_type": "code",
      "source": [
        "# Save the clustered data to a CSV file"
      ],
      "metadata": {
        "id": "XvYHXsVSuIiG"
      },
      "execution_count": 61,
      "outputs": []
    },
    {
      "cell_type": "code",
      "source": [
        "clustered_data_path = \"/content/clustered_crime_data.csv\"  # Path to save clustered data"
      ],
      "metadata": {
        "id": "ZIQQTZ9mt96V"
      },
      "execution_count": 62,
      "outputs": []
    },
    {
      "cell_type": "code",
      "source": [
        "crime_data.to_csv(clustered_data_path, index=False)  # Save the clustered DataFrame to a CSV file"
      ],
      "metadata": {
        "id": "Mbo-LoAtt992"
      },
      "execution_count": 63,
      "outputs": []
    },
    {
      "cell_type": "code",
      "source": [],
      "metadata": {
        "id": "1bQ5L9IJuPoO"
      },
      "execution_count": 63,
      "outputs": []
    },
    {
      "cell_type": "code",
      "source": [],
      "metadata": {
        "id": "SpMys1wSuPtI"
      },
      "execution_count": 63,
      "outputs": []
    },
    {
      "cell_type": "code",
      "source": [],
      "metadata": {
        "id": "OtAkzzTMuPye"
      },
      "execution_count": 63,
      "outputs": []
    },
    {
      "cell_type": "markdown",
      "source": [
        "# 🚀 Model Deployment Notes\n",
        "\n",
        "In this step, we focus on saving the trained K-Means model for future use. This process is essential for applying the model to new data without the need to retrain.\n",
        "\n",
        "- **Model Persistence**: Using the `joblib` library, we can efficiently serialize the K-Means model, ensuring that it retains its state and parameters.\n",
        "- **File Format**: The model is saved in a `.joblib` format, which is suitable for storing large numpy arrays, making it ideal for machine learning models.\n",
        "- **Deployment**: Once saved, the model can be easily loaded for making predictions on new datasets, facilitating real-time application in crime analysis.\n",
        "\n",
        "This deployment step enhances the project's usability and scalability, allowing stakeholders to leverage the insights generated by the clustering model."
      ],
      "metadata": {
        "id": "z2ltiSDovm81"
      }
    },
    {
      "cell_type": "code",
      "source": [
        "# Model Deployment (optional)"
      ],
      "metadata": {
        "id": "RZulO57BuP82"
      },
      "execution_count": 64,
      "outputs": []
    },
    {
      "cell_type": "code",
      "source": [
        "# Save the KMeans model for deployment"
      ],
      "metadata": {
        "id": "K5Up7_gHuQBO"
      },
      "execution_count": 65,
      "outputs": []
    },
    {
      "cell_type": "code",
      "source": [
        "model_path = '/content/kmeans_model.joblib'  # Path to save the KMeans model"
      ],
      "metadata": {
        "id": "0tDMzffCuThn"
      },
      "execution_count": 66,
      "outputs": []
    },
    {
      "cell_type": "code",
      "source": [
        "joblib.dump(final_kmeans, model_path)  # Save the KMeans model to a file"
      ],
      "metadata": {
        "colab": {
          "base_uri": "https://localhost:8080/"
        },
        "id": "faap3AQKuTkw",
        "outputId": "cc6de4db-e01b-4592-a909-3dbcb6f5de61"
      },
      "execution_count": 67,
      "outputs": [
        {
          "output_type": "execute_result",
          "data": {
            "text/plain": [
              "['/content/kmeans_model.joblib']"
            ]
          },
          "metadata": {},
          "execution_count": 67
        }
      ]
    },
    {
      "cell_type": "code",
      "source": [],
      "metadata": {
        "id": "K4aXEHKIugHO"
      },
      "execution_count": 67,
      "outputs": []
    },
    {
      "cell_type": "code",
      "source": [],
      "metadata": {
        "id": "s9PCi8VzuhMP"
      },
      "execution_count": 67,
      "outputs": []
    },
    {
      "cell_type": "code",
      "source": [
        "print(\"Project completed successfully!\")  # Print a success message\n",
        "print(f\"Data exploration saved at: {data_exploration_path}\")  # Print the path of saved exploration results\n",
        "print(f\"Clustered data saved at: {clustered_data_path}\")  # Print the path of saved clustered data\n",
        "print(f\"Hotspot plot saved at: /content/crime_hotspots.pdf\")  # Print the path of saved hotspot plot\n",
        "print(f\"K-Means model saved at: {model_path}\")  # Print the path of saved KMeans model"
      ],
      "metadata": {
        "colab": {
          "base_uri": "https://localhost:8080/"
        },
        "id": "NN7oxDmtuhuO",
        "outputId": "cbab1e15-3ce9-4c88-943f-9f2b46bbc6a5"
      },
      "execution_count": 68,
      "outputs": [
        {
          "output_type": "stream",
          "name": "stdout",
          "text": [
            "Project completed successfully!\n",
            "Data exploration saved at: /content/crime_data_exploration.csv\n",
            "Clustered data saved at: /content/clustered_crime_data.csv\n",
            "Hotspot plot saved at: /content/crime_hotspots.pdf\n",
            "K-Means model saved at: /content/kmeans_model.joblib\n"
          ]
        }
      ]
    },
    {
      "cell_type": "code",
      "source": [],
      "metadata": {
        "id": "yKPjGMFxuToA"
      },
      "execution_count": 68,
      "outputs": []
    },
    {
      "cell_type": "code",
      "source": [],
      "metadata": {
        "id": "ucKeLshPuQES"
      },
      "execution_count": 68,
      "outputs": []
    },
    {
      "cell_type": "code",
      "source": [],
      "metadata": {
        "id": "X6g9Y-yxvfJB"
      },
      "execution_count": 68,
      "outputs": []
    },
    {
      "cell_type": "markdown",
      "source": [
        "# 📝 Conclusion\n",
        "\n",
        "In this project, we successfully performed K-Means clustering on the crime dataset to identify patterns and hotspots of criminal activity. The following key points summarize the outcomes:\n",
        "\n",
        "- **Data Exploration**: Initial exploration provided valuable insights into the dataset's structure and distribution of features.\n",
        "- **Clustering Insights**: K-Means clustering revealed distinct clusters, allowing us to identify areas with high crime rates and understand their characteristics.\n",
        "- **Actionable Insights**: The findings can guide law enforcement and policymakers in allocating resources and developing targeted crime prevention strategies.\n",
        "\n",
        "Future work may include refining the clustering approach, incorporating additional features, or applying different clustering algorithms to enhance insights further."
      ],
      "metadata": {
        "id": "P_0mNX32vfT5"
      }
    }
  ]
}