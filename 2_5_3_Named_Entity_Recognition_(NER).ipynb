{
  "nbformat": 4,
  "nbformat_minor": 0,
  "metadata": {
    "colab": {
      "provenance": []
    },
    "kernelspec": {
      "name": "python3",
      "display_name": "Python 3"
    },
    "language_info": {
      "name": "python"
    }
  },
  "cells": [
    {
      "cell_type": "markdown",
      "source": [
        "# <span style=\"color:blue\">Project Overview: Named Entity Recognition Using CRF</span>\n",
        "\n",
        "## <span style=\"color:darkgreen\">1. Introduction</span>\n",
        "This project implements a Named Entity Recognition (NER) system using Conditional Random Fields (CRF). The system processes datasets from CoNLL 2002, focusing on Dutch and Spanish languages, to identify and classify entities within text.\n",
        "\n",
        "## <span style=\"color:darkorange\">2. Objectives</span>\n",
        "- Develop a robust NER model using CRF.\n",
        "- Evaluate the model's performance using F1 scores.\n",
        "- Extract meaningful features from the text for enhanced model accuracy.\n",
        "\n",
        "## <span style=\"color:darkgreen\">3. Datasets</span>\n",
        "The project utilizes the following datasets:\n",
        "- **Dutch Training Data**: `ned.train`\n",
        "- **Dutch Test Data**: `ned.testb`\n",
        "- **Spanish Training Data**: `esp.train`\n",
        "- **Spanish Test Data**: `esp.testb`\n",
        "\n",
        "These datasets are provided in the CoNLL format, where each line represents a token, followed by its corresponding entity label.\n",
        "\n",
        "## <span style=\"color:darkorange\">4. Methodology</span>\n",
        "1. **Data Extraction**:\n",
        "   - The datasets are extracted from a zip file and stored in a specified directory.\n",
        "\n",
        "2. **Data Reading**:\n",
        "   - Implement functions to read CoNLL files, which organize sentences and their corresponding labels.\n",
        "\n",
        "3. **Feature Extraction**:\n",
        "   - Design a feature extraction mechanism to identify attributes of each token, such as capitalization, numeric values, and positional context within sentences.\n",
        "\n",
        "4. **Model Training**:\n",
        "   - Utilize CRF for model training on both Dutch and Spanish datasets. The model is configured with:\n",
        "     - Algorithm: L-BFGS\n",
        "     - Maximum iterations: 100\n",
        "     - All possible transitions enabled.\n",
        "\n",
        "5. **Model Evaluation**:\n",
        "   - Evaluate model performance using F1 scores to measure the accuracy of entity recognition on the test datasets.\n",
        "\n",
        "## <span style=\"color:darkgreen\">5. Results</span>\n",
        "- The Dutch model is trained and evaluated, resulting in a calculated F1 score.\n",
        "- Similarly, the Spanish model is trained, with its performance metrics also recorded.\n",
        "\n",
        "## <span style=\"color:darkorange\">6. Conclusion</span>\n",
        "The project successfully demonstrates the implementation of a NER system using CRF, showing promising results for entity classification in both Dutch and Spanish texts. Future work may involve exploring additional features or employing other algorithms to enhance model performance."
      ],
      "metadata": {
        "id": "dqP_2Jbqc_Ai"
      }
    },
    {
      "cell_type": "code",
      "source": [],
      "metadata": {
        "id": "HTLnkJK9dXbQ"
      },
      "execution_count": null,
      "outputs": []
    },
    {
      "cell_type": "code",
      "source": [],
      "metadata": {
        "id": "kf0HzHDldXtE"
      },
      "execution_count": null,
      "outputs": []
    },
    {
      "cell_type": "code",
      "source": [],
      "metadata": {
        "id": "agRAEaA3dX23"
      },
      "execution_count": null,
      "outputs": []
    },
    {
      "cell_type": "markdown",
      "source": [
        "# <span style=\"color:blue\">Step 1: Import Libraries</span>\n",
        "\n",
        "## <span style=\"color:darkgreen\">Overview</span>\n",
        "In this step, we import the necessary libraries that will facilitate data processing, model building, and evaluation. These libraries provide essential functionalities for natural language processing (NLP) and machine learning.\n",
        "\n",
        "## <span style=\"color:darkorange\">Libraries to Import</span>\n",
        "- **pandas**: Used for data manipulation and analysis, especially for handling datasets.\n",
        "- **numpy**: Provides support for numerical computations, enabling efficient operations on large datasets.\n",
        "- **sklearn**: Contains tools for machine learning, including model evaluation metrics.\n",
        "- **sklearn_crfsuite**: A specific implementation of Conditional Random Fields (CRF) for sequence labeling tasks in NLP.\n",
        "- **nltk**: Offers various NLP functionalities, including tokenization and evaluation metrics.\n",
        "\n",
        "## <span style=\"color:darkgreen\">Code Example</span>\n",
        "```python\n",
        "import pandas as pd\n",
        "import numpy as np\n",
        "from sklearn.metrics import classification_report\n",
        "from sklearn_crfsuite import CRF\n",
        "import nltk"
      ],
      "metadata": {
        "id": "OrDNyCEqdYQU"
      }
    },
    {
      "cell_type": "code",
      "source": [
        "!pip install sklearn-crfsuite  # Installs the sklearn-crfsuite library for building and training Conditional Random Fields (CRFs) for sequence modeling tasks.\n"
      ],
      "metadata": {
        "colab": {
          "base_uri": "https://localhost:8080/"
        },
        "id": "aYT-TAoHWHkN",
        "outputId": "ee74bbd1-eef6-4a34-a0f0-82a867eb1480"
      },
      "execution_count": 44,
      "outputs": [
        {
          "output_type": "stream",
          "name": "stdout",
          "text": [
            "Requirement already satisfied: sklearn-crfsuite in /usr/local/lib/python3.10/dist-packages (0.5.0)\n",
            "Requirement already satisfied: python-crfsuite>=0.9.7 in /usr/local/lib/python3.10/dist-packages (from sklearn-crfsuite) (0.9.10)\n",
            "Requirement already satisfied: scikit-learn>=0.24.0 in /usr/local/lib/python3.10/dist-packages (from sklearn-crfsuite) (1.5.2)\n",
            "Requirement already satisfied: tabulate>=0.4.2 in /usr/local/lib/python3.10/dist-packages (from sklearn-crfsuite) (0.9.0)\n",
            "Requirement already satisfied: tqdm>=2.0 in /usr/local/lib/python3.10/dist-packages (from sklearn-crfsuite) (4.66.5)\n",
            "Requirement already satisfied: numpy>=1.19.5 in /usr/local/lib/python3.10/dist-packages (from scikit-learn>=0.24.0->sklearn-crfsuite) (1.26.4)\n",
            "Requirement already satisfied: scipy>=1.6.0 in /usr/local/lib/python3.10/dist-packages (from scikit-learn>=0.24.0->sklearn-crfsuite) (1.13.1)\n",
            "Requirement already satisfied: joblib>=1.2.0 in /usr/local/lib/python3.10/dist-packages (from scikit-learn>=0.24.0->sklearn-crfsuite) (1.4.2)\n",
            "Requirement already satisfied: threadpoolctl>=3.1.0 in /usr/local/lib/python3.10/dist-packages (from scikit-learn>=0.24.0->sklearn-crfsuite) (3.5.0)\n"
          ]
        }
      ]
    },
    {
      "cell_type": "code",
      "source": [],
      "metadata": {
        "id": "lQyLD7bpiz-4"
      },
      "execution_count": null,
      "outputs": []
    },
    {
      "cell_type": "code",
      "source": [
        "!pip install matplotlib  # Install Matplotlib if not already installed"
      ],
      "metadata": {
        "colab": {
          "base_uri": "https://localhost:8080/"
        },
        "id": "bSBO5ExFi0M2",
        "outputId": "1103b6a1-7cde-444b-a5b5-eb0bf3db3742"
      },
      "execution_count": 163,
      "outputs": [
        {
          "output_type": "stream",
          "name": "stdout",
          "text": [
            "Requirement already satisfied: matplotlib in /usr/local/lib/python3.10/dist-packages (3.7.1)\n",
            "Requirement already satisfied: contourpy>=1.0.1 in /usr/local/lib/python3.10/dist-packages (from matplotlib) (1.3.0)\n",
            "Requirement already satisfied: cycler>=0.10 in /usr/local/lib/python3.10/dist-packages (from matplotlib) (0.12.1)\n",
            "Requirement already satisfied: fonttools>=4.22.0 in /usr/local/lib/python3.10/dist-packages (from matplotlib) (4.53.1)\n",
            "Requirement already satisfied: kiwisolver>=1.0.1 in /usr/local/lib/python3.10/dist-packages (from matplotlib) (1.4.7)\n",
            "Requirement already satisfied: numpy>=1.20 in /usr/local/lib/python3.10/dist-packages (from matplotlib) (1.26.4)\n",
            "Requirement already satisfied: packaging>=20.0 in /usr/local/lib/python3.10/dist-packages (from matplotlib) (24.1)\n",
            "Requirement already satisfied: pillow>=6.2.0 in /usr/local/lib/python3.10/dist-packages (from matplotlib) (10.4.0)\n",
            "Requirement already satisfied: pyparsing>=2.3.1 in /usr/local/lib/python3.10/dist-packages (from matplotlib) (3.1.4)\n",
            "Requirement already satisfied: python-dateutil>=2.7 in /usr/local/lib/python3.10/dist-packages (from matplotlib) (2.8.2)\n",
            "Requirement already satisfied: six>=1.5 in /usr/local/lib/python3.10/dist-packages (from python-dateutil>=2.7->matplotlib) (1.16.0)\n"
          ]
        }
      ]
    },
    {
      "cell_type": "code",
      "source": [],
      "metadata": {
        "id": "7SM5I3EfOKsQ"
      },
      "execution_count": null,
      "outputs": []
    },
    {
      "cell_type": "code",
      "source": [],
      "metadata": {
        "id": "1xRpyaz_fLvX"
      },
      "execution_count": null,
      "outputs": []
    },
    {
      "cell_type": "code",
      "source": [
        "# Importing Required Libraries"
      ],
      "metadata": {
        "id": "BHuljb21OJKj"
      },
      "execution_count": 45,
      "outputs": []
    },
    {
      "cell_type": "code",
      "source": [
        "import zipfile  # For handling zip files"
      ],
      "metadata": {
        "id": "urBwfBwQOJNm"
      },
      "execution_count": 46,
      "outputs": []
    },
    {
      "cell_type": "code",
      "source": [
        "import os  # For interacting with the operating system"
      ],
      "metadata": {
        "id": "nhWQ1ZjQM0Rz"
      },
      "execution_count": 47,
      "outputs": []
    },
    {
      "cell_type": "code",
      "source": [
        "import re  # For regular expressions"
      ],
      "metadata": {
        "id": "XV16dEQ-Mt0b"
      },
      "execution_count": 48,
      "outputs": []
    },
    {
      "cell_type": "code",
      "source": [
        "import numpy as np  # For numerical operations"
      ],
      "metadata": {
        "id": "JEk8t6sCMt3K"
      },
      "execution_count": 49,
      "outputs": []
    },
    {
      "cell_type": "code",
      "source": [
        "import pandas as pd  # For data manipulation"
      ],
      "metadata": {
        "id": "sTtJm3goMt5e"
      },
      "execution_count": 50,
      "outputs": []
    },
    {
      "cell_type": "code",
      "source": [
        "import sklearn_crfsuite  # For Conditional Random Fields"
      ],
      "metadata": {
        "id": "PVhDobXvMt7z"
      },
      "execution_count": 51,
      "outputs": []
    },
    {
      "cell_type": "code",
      "source": [
        "from sklearn.model_selection import train_test_split  # For splitting datasets"
      ],
      "metadata": {
        "id": "_bQeIM2-Mt97"
      },
      "execution_count": 52,
      "outputs": []
    },
    {
      "cell_type": "code",
      "source": [
        "from sklearn.preprocessing import LabelEncoder  # For encoding labels"
      ],
      "metadata": {
        "id": "ER87G6pxMuAi"
      },
      "execution_count": 53,
      "outputs": []
    },
    {
      "cell_type": "code",
      "source": [
        "from sklearn_crfsuite import metrics  # For evaluation metrics"
      ],
      "metadata": {
        "id": "OUGRUEM0MuCk"
      },
      "execution_count": 54,
      "outputs": []
    },
    {
      "cell_type": "code",
      "source": [
        "import matplotlib.pyplot as plt  # For plotting"
      ],
      "metadata": {
        "id": "QUDVsEadMuFK"
      },
      "execution_count": 55,
      "outputs": []
    },
    {
      "cell_type": "code",
      "source": [
        "from sklearn.metrics import confusion_matrix, ConfusionMatrixDisplay  # For confusion matrix"
      ],
      "metadata": {
        "id": "T1uTkOsEMuJm"
      },
      "execution_count": 56,
      "outputs": []
    },
    {
      "cell_type": "code",
      "source": [],
      "metadata": {
        "id": "3PuJ6MzAMuQ6"
      },
      "execution_count": null,
      "outputs": []
    },
    {
      "cell_type": "code",
      "source": [],
      "metadata": {
        "id": "uhLZNjQeMuTl"
      },
      "execution_count": null,
      "outputs": []
    },
    {
      "cell_type": "code",
      "source": [],
      "metadata": {
        "id": "_G64DcpaMuVw"
      },
      "execution_count": null,
      "outputs": []
    },
    {
      "cell_type": "markdown",
      "source": [
        "\n",
        "### Step 2: Extract Data\n",
        "```markdown\n",
        "# <span style=\"color:blue\">Step 2: Extract Data</span>\n",
        "\n",
        "## <span style=\"color:darkgreen\">Overview</span>\n",
        "This step involves extracting the NER datasets from a compressed file format (e.g., zip). The datasets are essential for training and testing the CRF model.\n",
        "\n",
        "## <span style=\"color:darkorange\">Data Extraction Process</span>\n",
        "- Use Python's built-in libraries to handle file extraction.\n",
        "- Specify the source path of the zip file containing the dataset.\n",
        "- Unzip the file to a designated directory for easy access to individual dataset files.\n",
        "\n",
        "## <span style=\"color:darkgreen\">Code Example</span>\n",
        "```python\n",
        "import zipfile\n",
        "import os\n",
        "\n",
        "# Define the path to the zip file and the extraction directory\n",
        "zip_file_path = 'path/to/your/dataset.zip'\n",
        "extract_dir = 'path/to/extracted/dataset/'\n",
        "\n",
        "# Extract the zip file\n",
        "with zipfile.ZipFile(zip_file_path, 'r') as zip_ref:\n",
        "    zip_ref.extractall(extract_dir)"
      ],
      "metadata": {
        "id": "IWFx9gUVdhHH"
      }
    },
    {
      "cell_type": "code",
      "source": [
        "# Define the path to the zip file and the extraction path"
      ],
      "metadata": {
        "id": "PER8GimRMuX7"
      },
      "execution_count": 57,
      "outputs": []
    },
    {
      "cell_type": "code",
      "source": [
        "zip_file_path = '/content/archive (4).zip'  # Your dataset zip file path"
      ],
      "metadata": {
        "id": "RHq1tZz9MucK"
      },
      "execution_count": 132,
      "outputs": []
    },
    {
      "cell_type": "code",
      "source": [
        "extraction_path = '/content/conll_datasets/'  # Define where to extract"
      ],
      "metadata": {
        "id": "i3QeLSDqMugc"
      },
      "execution_count": 133,
      "outputs": []
    },
    {
      "cell_type": "code",
      "source": [],
      "metadata": {
        "id": "pv7a-nm3aahq"
      },
      "execution_count": null,
      "outputs": []
    },
    {
      "cell_type": "code",
      "source": [],
      "metadata": {
        "id": "KNVcNhtKacMo"
      },
      "execution_count": null,
      "outputs": []
    },
    {
      "cell_type": "code",
      "source": [
        "# Extract the zip file if not already extracted"
      ],
      "metadata": {
        "id": "9_xKrEbxacQX"
      },
      "execution_count": 134,
      "outputs": []
    },
    {
      "cell_type": "code",
      "source": [
        "if not os.path.exists(extraction_path):  # Check if extraction path exists\n",
        "    with zipfile.ZipFile(zip_file_path, 'r') as zip_ref:  # Open the zip file\n",
        "        zip_ref.extractall(extraction_path)  # Extract all files to the specified path"
      ],
      "metadata": {
        "id": "5E79m5GHacUe"
      },
      "execution_count": 135,
      "outputs": []
    },
    {
      "cell_type": "code",
      "source": [],
      "metadata": {
        "id": "H5T5yWyLajTJ"
      },
      "execution_count": null,
      "outputs": []
    },
    {
      "cell_type": "code",
      "source": [],
      "metadata": {
        "id": "o0Y9ThqSajWn"
      },
      "execution_count": null,
      "outputs": []
    },
    {
      "cell_type": "code",
      "source": [
        "# List the directories and their files"
      ],
      "metadata": {
        "id": "IESfgDLfajfP"
      },
      "execution_count": 136,
      "outputs": []
    },
    {
      "cell_type": "code",
      "source": [
        "print(\"CoNLL Dataset Directories and their Files:\")  # Print header\n",
        "for dataset in ['conll2000', 'conll2002', 'conll2007']:  # Iterate through datasets\n",
        "    dataset_path = os.path.join(extraction_path, dataset)  # Create dataset path\n",
        "    print(f\"\\nFiles in {dataset}:\")  # Print dataset name\n",
        "    for root, dirs, files in os.walk(dataset_path):  # Walk through the dataset directory\n",
        "        for file in files:  # Iterate through files\n",
        "            print(os.path.join(root, file))  # Print file path"
      ],
      "metadata": {
        "colab": {
          "base_uri": "https://localhost:8080/"
        },
        "id": "LRQujNq0acY4",
        "outputId": "f10df31a-7058-4faa-a649-0f7192854541"
      },
      "execution_count": 137,
      "outputs": [
        {
          "output_type": "stream",
          "name": "stdout",
          "text": [
            "CoNLL Dataset Directories and their Files:\n",
            "\n",
            "Files in conll2000:\n",
            "/content/conll_datasets/conll2000/test.txt\n",
            "/content/conll_datasets/conll2000/README\n",
            "/content/conll_datasets/conll2000/train.txt\n",
            "/content/conll_datasets/conll2000/conll2000/test.txt\n",
            "/content/conll_datasets/conll2000/conll2000/README\n",
            "/content/conll_datasets/conll2000/conll2000/train.txt\n",
            "\n",
            "Files in conll2002:\n",
            "/content/conll_datasets/conll2002/ned.train\n",
            "/content/conll_datasets/conll2002/README\n",
            "/content/conll_datasets/conll2002/esp.testa\n",
            "/content/conll_datasets/conll2002/ned.testa\n",
            "/content/conll_datasets/conll2002/esp.testb\n",
            "/content/conll_datasets/conll2002/ned.testb\n",
            "/content/conll_datasets/conll2002/esp.train\n",
            "/content/conll_datasets/conll2002/conll2002/ned.train\n",
            "/content/conll_datasets/conll2002/conll2002/README\n",
            "/content/conll_datasets/conll2002/conll2002/esp.testa\n",
            "/content/conll_datasets/conll2002/conll2002/ned.testa\n",
            "/content/conll_datasets/conll2002/conll2002/esp.testb\n",
            "/content/conll_datasets/conll2002/conll2002/ned.testb\n",
            "/content/conll_datasets/conll2002/conll2002/esp.train\n",
            "\n",
            "Files in conll2007:\n",
            "/content/conll_datasets/conll2007/eus.test\n",
            "/content/conll_datasets/conll2007/README\n",
            "/content/conll_datasets/conll2007/esp.test\n",
            "/content/conll_datasets/conll2007/esp.train\n",
            "/content/conll_datasets/conll2007/eus.train\n",
            "/content/conll_datasets/conll2007/conll2007/eus.test\n",
            "/content/conll_datasets/conll2007/conll2007/README\n",
            "/content/conll_datasets/conll2007/conll2007/esp.test\n",
            "/content/conll_datasets/conll2007/conll2007/esp.train\n",
            "/content/conll_datasets/conll2007/conll2007/eus.train\n"
          ]
        }
      ]
    },
    {
      "cell_type": "code",
      "source": [],
      "metadata": {
        "id": "55QnetNIaoPQ"
      },
      "execution_count": null,
      "outputs": []
    },
    {
      "cell_type": "code",
      "source": [],
      "metadata": {
        "id": "3tusDS9ZaoTF"
      },
      "execution_count": null,
      "outputs": []
    },
    {
      "cell_type": "code",
      "source": [],
      "metadata": {
        "id": "sPlX_ILUaoXi"
      },
      "execution_count": null,
      "outputs": []
    },
    {
      "cell_type": "code",
      "source": [
        "# Define the paths to the CoNLL-2002 training and test files"
      ],
      "metadata": {
        "id": "C5H_aiJ9aoZv"
      },
      "execution_count": 64,
      "outputs": []
    },
    {
      "cell_type": "code",
      "source": [
        "ned_train_path = '/content/conll_datasets/conll2002/ned.train'  # Path for Dutch training data"
      ],
      "metadata": {
        "id": "9n7z7wVWack_"
      },
      "execution_count": 141,
      "outputs": []
    },
    {
      "cell_type": "code",
      "source": [
        "esp_train_path = '/content/conll_datasets/conll2002/esp.train'  # Path for Spanish training data"
      ],
      "metadata": {
        "id": "PFH1IqQ7aakz"
      },
      "execution_count": 140,
      "outputs": []
    },
    {
      "cell_type": "code",
      "source": [
        "ned_test_path = '/content/conll_datasets/conll2002/ned.testb'  # Path for Dutch test data"
      ],
      "metadata": {
        "id": "45SJ34i5aanO"
      },
      "execution_count": 138,
      "outputs": []
    },
    {
      "cell_type": "code",
      "source": [
        "esp_test_path = '/content/conll_datasets/conll2002/esp.testb'  # Path for Spanish test data"
      ],
      "metadata": {
        "id": "2KrZOmQtaapp"
      },
      "execution_count": 139,
      "outputs": []
    },
    {
      "cell_type": "code",
      "source": [],
      "metadata": {
        "id": "KUgWoEWaa0Jn"
      },
      "execution_count": null,
      "outputs": []
    },
    {
      "cell_type": "code",
      "source": [],
      "metadata": {
        "id": "kVZ40JD1a0NA"
      },
      "execution_count": null,
      "outputs": []
    },
    {
      "cell_type": "code",
      "source": [],
      "metadata": {
        "id": "tsOzJGFua0QN"
      },
      "execution_count": null,
      "outputs": []
    },
    {
      "cell_type": "markdown",
      "source": [
        "\n",
        "### Step 3: Read Data\n",
        "```markdown\n",
        "# <span style=\"color:blue\">Step 3: Read Data</span>\n",
        "\n",
        "## <span style=\"color:darkgreen\">Overview</span>\n",
        "In this step, we read the extracted CoNLL dataset files into a structured format. This process involves organizing sentences and their corresponding entity labels for analysis.\n",
        "\n",
        "## <span style=\"color:darkorange\">Data Reading Process</span>\n",
        "- Define functions to read individual CoNLL files.\n",
        "- Parse each line of the file to separate tokens and labels.\n",
        "- Store sentences and labels in suitable data structures (e.g., lists or dictionaries) for further use.\n",
        "\n",
        "## <span style=\"color:darkgreen\">Code Example</span>\n",
        "```python\n",
        "def read_conll_file(file_path):\n",
        "    sentences = []\n",
        "    labels = []\n",
        "    with open(file_path, 'r', encoding='utf-8') as f:\n",
        "        sentence = []\n",
        "        label = []\n",
        "        for line in f:\n",
        "            if line.strip():\n",
        "                token, tag = line.split()\n",
        "                sentence.append(token)\n",
        "                label.append(tag)\n",
        "            else:\n",
        "                if sentence:\n",
        "                    sentences.append(sentence)\n",
        "                    labels.append(label)\n",
        "                    sentence = []\n",
        "                    label = []\n",
        "    return sentences, labels"
      ],
      "metadata": {
        "id": "ygoR8Z7DdpcP"
      }
    },
    {
      "cell_type": "code",
      "source": [
        "# Function to read and display the contents of a CoNLL file"
      ],
      "metadata": {
        "id": "i6KaeQIsa0VG"
      },
      "execution_count": 142,
      "outputs": []
    },
    {
      "cell_type": "code",
      "source": [
        "def read_conll_file(file_path):  # Define function to read CoNLL file\n",
        "    sentences = []  # Initialize list for sentences\n",
        "    sentence = []  # Initialize current sentence\n",
        "    labels = []  # Initialize list for labels\n",
        "\n",
        "    with open(file_path, 'r', encoding='utf-8') as f:  # Open the file\n",
        "        for line in f:  # Iterate through lines\n",
        "            line = line.strip()  # Remove leading/trailing whitespace\n",
        "            if line:  # If line is not empty\n",
        "                parts = line.split()  # Split line into parts\n",
        "                word = parts[0]  # Get the word\n",
        "                label = parts[-1]  # Assuming the label is in the last position\n",
        "                sentence.append(word)  # Add word to current sentence\n",
        "                labels.append(label)  # Add label to current labels\n",
        "            else:  # If line is empty (end of a sentence)\n",
        "                if sentence:  # If there is a current sentence\n",
        "                    sentences.append((sentence, labels))  # Add sentence and labels to list\n",
        "                    sentence = []  # Reset current sentence\n",
        "                    labels = []  # Reset current labels\n",
        "    return sentences  # Return the list of sentences and labels"
      ],
      "metadata": {
        "id": "Fpdfdll1a0YS"
      },
      "execution_count": 143,
      "outputs": []
    },
    {
      "cell_type": "code",
      "source": [],
      "metadata": {
        "id": "RR7gfnhSa7ma"
      },
      "execution_count": null,
      "outputs": []
    },
    {
      "cell_type": "code",
      "source": [],
      "metadata": {
        "id": "ANizUsM6iHOA"
      },
      "execution_count": null,
      "outputs": []
    },
    {
      "cell_type": "code",
      "source": [
        "# Load the Dutch and Spanish training and test data"
      ],
      "metadata": {
        "id": "zW2cMJi6a7vz"
      },
      "execution_count": 144,
      "outputs": []
    },
    {
      "cell_type": "code",
      "source": [
        "ned_train_sentences = read_conll_file(ned_train_path)  # Read Dutch training data"
      ],
      "metadata": {
        "id": "cKwmBh3ra7yL"
      },
      "execution_count": 145,
      "outputs": []
    },
    {
      "cell_type": "code",
      "source": [
        "esp_train_sentences = read_conll_file(esp_train_path)  # Read Spanish training data"
      ],
      "metadata": {
        "id": "fDUaU00Qa71a"
      },
      "execution_count": 146,
      "outputs": []
    },
    {
      "cell_type": "code",
      "source": [
        "ned_test_sentences = read_conll_file(ned_test_path)  # Read Dutch test data"
      ],
      "metadata": {
        "id": "55BlPqu6a0jn"
      },
      "execution_count": 147,
      "outputs": []
    },
    {
      "cell_type": "code",
      "source": [
        "esp_test_sentences = read_conll_file(esp_test_path)  # Read Spanish test data"
      ],
      "metadata": {
        "id": "dxLmvUHnaasN"
      },
      "execution_count": 148,
      "outputs": []
    },
    {
      "cell_type": "code",
      "source": [],
      "metadata": {
        "id": "5HXuZiR7aawU"
      },
      "execution_count": null,
      "outputs": []
    },
    {
      "cell_type": "code",
      "source": [],
      "metadata": {
        "id": "0MVrJ__xaayj"
      },
      "execution_count": null,
      "outputs": []
    },
    {
      "cell_type": "code",
      "source": [],
      "metadata": {
        "id": "tgnPzNSYbJ5Q"
      },
      "execution_count": null,
      "outputs": []
    },
    {
      "cell_type": "code",
      "source": [
        "# Function to print dataset details"
      ],
      "metadata": {
        "id": "MaSHB4z-aa0t"
      },
      "execution_count": 149,
      "outputs": []
    },
    {
      "cell_type": "code",
      "source": [
        "def print_dataset_details(sentences, language):  # Define function to print details\n",
        "    print(f\"--- {language} Dataset Details ---\")  # Print dataset details header\n",
        "    print(f\"Total Sentences: {len(sentences)}\")  # Print total number of sentences\n",
        "    print(\"Sample Sentences:\")  # Print header for sample sentences\n",
        "    for i in range(min(3, len(sentences))):  # Print up to 3 sample sentences\n",
        "        print(f\"Sentence {i+1}: {' '.join(sentences[i][0])}\")  # Print the sentence\n",
        "        print(f\"Labels {i+1}: {sentences[i][1]}\")  # Print corresponding labels\n",
        "        print()  # Print a new line for better readability"
      ],
      "metadata": {
        "id": "RSrfSdTAaa22"
      },
      "execution_count": 150,
      "outputs": []
    },
    {
      "cell_type": "code",
      "source": [],
      "metadata": {
        "id": "3Beb_Re2MulS"
      },
      "execution_count": null,
      "outputs": []
    },
    {
      "cell_type": "code",
      "source": [],
      "metadata": {
        "id": "wGd9yMBjMupK"
      },
      "execution_count": null,
      "outputs": []
    },
    {
      "cell_type": "code",
      "source": [
        "# Print details for each dataset"
      ],
      "metadata": {
        "id": "s0gFpdOLMutt"
      },
      "execution_count": 151,
      "outputs": []
    },
    {
      "cell_type": "code",
      "source": [
        "print_dataset_details(ned_train_sentences, \"Dutch Training\")  # Print Dutch training details"
      ],
      "metadata": {
        "colab": {
          "base_uri": "https://localhost:8080/"
        },
        "id": "i0JxMdsdMuv3",
        "outputId": "177ca57e-ee97-40b7-d636-e57d11795c88"
      },
      "execution_count": 152,
      "outputs": [
        {
          "output_type": "stream",
          "name": "stdout",
          "text": [
            "--- Dutch Training Dataset Details ---\n",
            "Total Sentences: 15806\n",
            "Sample Sentences:\n",
            "Sentence 1: -DOCSTART- De tekst van het arrest is nog niet schriftelijk beschikbaar maar het bericht werd alvast bekendgemaakt door een communicatiebureau dat Floralux inhuurde .\n",
            "Labels 1: ['O', 'O', 'O', 'O', 'O', 'O', 'O', 'O', 'O', 'O', 'O', 'O', 'O', 'O', 'O', 'O', 'O', 'O', 'O', 'O', 'O', 'B-ORG', 'O', 'O']\n",
            "\n",
            "Sentence 2: In '81 regulariseert de toenmalige Vlaamse regering de toestand met een BPA dat het bedrijf op eigen kosten heeft laten opstellen .\n",
            "Labels 2: ['O', 'O', 'O', 'O', 'O', 'B-MISC', 'O', 'O', 'O', 'O', 'O', 'B-MISC', 'O', 'O', 'O', 'O', 'O', 'O', 'O', 'O', 'O', 'O']\n",
            "\n",
            "Sentence 3: publicatie\n",
            "Labels 3: ['O']\n",
            "\n"
          ]
        }
      ]
    },
    {
      "cell_type": "code",
      "source": [],
      "metadata": {
        "id": "TdSRfO7HfkFb"
      },
      "execution_count": null,
      "outputs": []
    },
    {
      "cell_type": "code",
      "source": [],
      "metadata": {
        "id": "NZqJiImgfkIw"
      },
      "execution_count": null,
      "outputs": []
    },
    {
      "cell_type": "code",
      "source": [
        "print_dataset_details(esp_train_sentences, \"Spanish Training\")  # Print Spanish training details"
      ],
      "metadata": {
        "colab": {
          "base_uri": "https://localhost:8080/"
        },
        "id": "0iXjD57AMux9",
        "outputId": "5dc7ed1e-aea6-4d76-d2b9-a69b328ac7c7"
      },
      "execution_count": 153,
      "outputs": [
        {
          "output_type": "stream",
          "name": "stdout",
          "text": [
            "--- Spanish Training Dataset Details ---\n",
            "Total Sentences: 8323\n",
            "Sample Sentences:\n",
            "Sentence 1: Melbourne ( Australia ) , 25 may ( EFE ) .\n",
            "Labels 1: ['B-LOC', 'O', 'B-LOC', 'O', 'O', 'O', 'O', 'O', 'B-ORG', 'O', 'O']\n",
            "\n",
            "Sentence 2: -\n",
            "Labels 2: ['O']\n",
            "\n",
            "Sentence 3: El Abogado General del Estado , Daryl Williams , subrayó hoy la necesidad de tomar medidas para proteger al sistema judicial australiano frente a una página de internet que imposibilita el cumplimiento de los principios básicos de la Ley .\n",
            "Labels 3: ['O', 'B-PER', 'I-PER', 'I-PER', 'I-PER', 'O', 'B-PER', 'I-PER', 'O', 'O', 'O', 'O', 'O', 'O', 'O', 'O', 'O', 'O', 'O', 'O', 'O', 'O', 'O', 'O', 'O', 'O', 'O', 'O', 'O', 'O', 'O', 'O', 'O', 'O', 'O', 'O', 'O', 'O', 'B-MISC', 'O']\n",
            "\n"
          ]
        }
      ]
    },
    {
      "cell_type": "code",
      "source": [],
      "metadata": {
        "id": "Hk1iH8M3fk_E"
      },
      "execution_count": null,
      "outputs": []
    },
    {
      "cell_type": "code",
      "source": [],
      "metadata": {
        "id": "ne7qGf0JflFr"
      },
      "execution_count": null,
      "outputs": []
    },
    {
      "cell_type": "code",
      "source": [
        "print_dataset_details(ned_test_sentences, \"Dutch Test\")  # Print Dutch test details"
      ],
      "metadata": {
        "colab": {
          "base_uri": "https://localhost:8080/"
        },
        "id": "Ie3oCCxsMu0D",
        "outputId": "847cf372-f9b6-41fb-e96b-2b1e82aec85c"
      },
      "execution_count": 154,
      "outputs": [
        {
          "output_type": "stream",
          "name": "stdout",
          "text": [
            "--- Dutch Test Dataset Details ---\n",
            "Total Sentences: 5195\n",
            "Sample Sentences:\n",
            "Sentence 1: -DOCSTART- Dat is in Italië , Spanje of Engeland misschien geen probleem , maar volgens ' Der Kaiser ' in Duitsland wel .\n",
            "Labels 1: ['O', 'O', 'O', 'O', 'B-LOC', 'O', 'B-LOC', 'O', 'B-LOC', 'O', 'O', 'O', 'O', 'O', 'O', 'O', 'B-PER', 'I-PER', 'O', 'O', 'B-LOC', 'O', 'O']\n",
            "\n",
            "Sentence 2: sectie\n",
            "Labels 2: ['O']\n",
            "\n",
            "Sentence 3: Zürich\n",
            "Labels 3: ['B-LOC']\n",
            "\n"
          ]
        }
      ]
    },
    {
      "cell_type": "code",
      "source": [],
      "metadata": {
        "id": "rDMdib3AfmPM"
      },
      "execution_count": null,
      "outputs": []
    },
    {
      "cell_type": "code",
      "source": [],
      "metadata": {
        "id": "5RJ_0P_jfmS7"
      },
      "execution_count": null,
      "outputs": []
    },
    {
      "cell_type": "code",
      "source": [
        "print_dataset_details(esp_test_sentences, \"Spanish Test\")  # Print Spanish test details"
      ],
      "metadata": {
        "colab": {
          "base_uri": "https://localhost:8080/"
        },
        "id": "6_sSlGM-Mu2W",
        "outputId": "1afc3a10-ae2a-4764-cde8-d32be1d67014"
      },
      "execution_count": 155,
      "outputs": [
        {
          "output_type": "stream",
          "name": "stdout",
          "text": [
            "--- Spanish Test Dataset Details ---\n",
            "Total Sentences: 1517\n",
            "Sample Sentences:\n",
            "Sentence 1: La Coruña , 23 may ( EFECOM ) .\n",
            "Labels 1: ['B-LOC', 'I-LOC', 'O', 'O', 'O', 'O', 'B-ORG', 'O', 'O']\n",
            "\n",
            "Sentence 2: -\n",
            "Labels 2: ['O']\n",
            "\n",
            "Sentence 3: Las reservas \" on line \" de billetes aéreos a través de Internet aumentaron en España un 300 por ciento en el primer trimestre de este año con respecto al mismo período de 1999 , aseguró hoy Iñigo García Aranda , responsable de comunicación de Savia Amadeus .\n",
            "Labels 3: ['O', 'O', 'O', 'O', 'O', 'O', 'O', 'O', 'O', 'O', 'O', 'O', 'B-MISC', 'O', 'O', 'B-LOC', 'O', 'O', 'O', 'O', 'O', 'O', 'O', 'O', 'O', 'O', 'O', 'O', 'O', 'O', 'O', 'O', 'O', 'O', 'O', 'O', 'O', 'B-PER', 'I-PER', 'I-PER', 'O', 'O', 'O', 'O', 'O', 'B-ORG', 'I-ORG', 'O']\n",
            "\n"
          ]
        }
      ]
    },
    {
      "cell_type": "code",
      "source": [],
      "metadata": {
        "id": "fDr1Umjsem6m"
      },
      "execution_count": null,
      "outputs": []
    },
    {
      "cell_type": "code",
      "source": [],
      "metadata": {
        "id": "F-xuCxIdfo5E"
      },
      "execution_count": 199,
      "outputs": []
    },
    {
      "cell_type": "code",
      "source": [],
      "metadata": {
        "id": "NcDB_JzDeqfK"
      },
      "execution_count": null,
      "outputs": []
    },
    {
      "cell_type": "code",
      "source": [
        "# Plot sentence length distribution for both Dutch and Spanish training data"
      ],
      "metadata": {
        "id": "O7rD2pDybcbW"
      },
      "execution_count": 158,
      "outputs": []
    },
    {
      "cell_type": "code",
      "source": [
        "plot_sentence_length_distribution(ned_train_sentences, 'Dutch Training')  # Plot for Dutch training\n",
        "plot_sentence_length_distribution(esp_train_sentences, 'Spanish Training')  # Plot for Spanish training"
      ],
      "metadata": {
        "colab": {
          "base_uri": "https://localhost:8080/",
          "height": 1000
        },
        "id": "c5bz9rD0eyRZ",
        "outputId": "dd5027f0-a4d9-4aac-8dad-dbb338aa33b1"
      },
      "execution_count": 159,
      "outputs": [
        {
          "output_type": "display_data",
          "data": {
            "text/plain": [
              "<Figure size 1000x600 with 1 Axes>"
            ],
            "image/png": "[encoded data removed]"
          },
          "metadata": {}
        },
        {
          "output_type": "display_data",
          "data": {
            "text/plain": [
              "<Figure size 1000x600 with 1 Axes>"
            ],
            "image/png": "[encoded data removed]"
          },
          "metadata": {}
        }
      ]
    },
    {
      "cell_type": "code",
      "source": [],
      "metadata": {
        "id": "6RrPWCoPe1ts"
      },
      "execution_count": null,
      "outputs": []
    },
    {
      "cell_type": "code",
      "source": [],
      "metadata": {
        "id": "3TeSQfppe1x0"
      },
      "execution_count": null,
      "outputs": []
    },
    {
      "cell_type": "code",
      "source": [],
      "metadata": {
        "id": "SNjg-e4ue66-"
      },
      "execution_count": null,
      "outputs": []
    },
    {
      "cell_type": "code",
      "source": [
        "# Plot label distribution for both Dutch and Spanish training data"
      ],
      "metadata": {
        "id": "YwEB88uhe695"
      },
      "execution_count": 89,
      "outputs": []
    },
    {
      "cell_type": "code",
      "source": [
        "plot_label_distribution(ned_train_sentences, 'Dutch Training')  # Plot for Dutch training\n",
        "plot_label_distribution(esp_train_sentences, 'Spanish Training')  # Plot for Spanish training"
      ],
      "metadata": {
        "colab": {
          "base_uri": "https://localhost:8080/",
          "height": 1000
        },
        "id": "VoO3QvyRe7BN",
        "outputId": "e9661c46-661d-4588-84c7-99f1b50d62f7"
      },
      "execution_count": 90,
      "outputs": [
        {
          "output_type": "display_data",
          "data": {
            "text/plain": [
              "<Figure size 1200x600 with 1 Axes>"
            ],
            "image/png": "[encoded data removed]"
          },
          "metadata": {}
        },
        {
          "output_type": "display_data",
          "data": {
            "text/plain": [
              "<Figure size 1200x600 with 1 Axes>"
            ],
            "image/png": "[encoded data removed]"
          },
          "metadata": {}
        }
      ]
    },
    {
      "cell_type": "code",
      "source": [],
      "metadata": {
        "id": "SVt5RG2SfAI0"
      },
      "execution_count": null,
      "outputs": []
    },
    {
      "cell_type": "code",
      "source": [],
      "metadata": {
        "id": "fZUveuE9fAMr"
      },
      "execution_count": null,
      "outputs": []
    },
    {
      "cell_type": "code",
      "source": [],
      "metadata": {
        "id": "74q_cEEzeycz"
      },
      "execution_count": null,
      "outputs": []
    },
    {
      "cell_type": "code",
      "source": [
        "# Function to Load Data"
      ],
      "metadata": {
        "id": "yiPOku1Ybcdn"
      },
      "execution_count": 171,
      "outputs": []
    },
    {
      "cell_type": "code",
      "source": [
        "def load_data(file_path):  # Define function to load data\n",
        "    sentences = []  # Initialize list for sentences\n",
        "    labels = []  # Initialize list for labels\n",
        "    with open(file_path, 'r', encoding='utf-8') as f:  # Open the file\n",
        "        sentence = []  # Initialize current sentence\n",
        "        label = []  # Initialize current label\n",
        "        for line in f:  # Iterate through lines\n",
        "            line = line.strip()  # Remove leading/trailing whitespace\n",
        "            if line:  # If line is not empty\n",
        "                tokens = line.split()  # Split line into tokens\n",
        "                word = tokens[0]  # Get the word\n",
        "                tag = tokens[-1]  # Get the tag (assumed to be the last token)\n",
        "                sentence.append(word)  # Add word to current sentence\n",
        "                label.append(tag)  # Add tag to current labels\n",
        "            else:  # If line is empty (end of a sentence)\n",
        "                if sentence:  # If there is a current sentence\n",
        "                    sentences.append(sentence)  # Add sentence to list\n",
        "                    labels.append(label)  # Add labels to list\n",
        "                    sentence = []  # Reset current sentence\n",
        "                    label = []  # Reset current labels\n",
        "        if sentence:  # Add the last sentence if not followed by an empty line\n",
        "            sentences.append(sentence)  # Add sentence to list\n",
        "            labels.append(label)  # Add labels to list\n",
        "    return sentences, labels  # Return sentences and labels"
      ],
      "metadata": {
        "id": "I_MXkkjZbcgO"
      },
      "execution_count": 172,
      "outputs": []
    },
    {
      "cell_type": "code",
      "source": [],
      "metadata": {
        "id": "eNaPeJv-bciQ"
      },
      "execution_count": null,
      "outputs": []
    },
    {
      "cell_type": "code",
      "source": [],
      "metadata": {
        "id": "dznJt_zobcwx"
      },
      "execution_count": null,
      "outputs": []
    },
    {
      "cell_type": "code",
      "source": [],
      "metadata": {
        "id": "OTXZvuLgdwqM"
      },
      "execution_count": null,
      "outputs": []
    },
    {
      "cell_type": "markdown",
      "source": [
        "\n",
        "### Step 4: Feature Extraction\n",
        "```markdown\n",
        "# <span style=\"color:blue\">Step 4: Feature Extraction</span>\n",
        "\n",
        "## <span style=\"color:darkgreen\">Overview</span>\n",
        "Feature extraction is a critical step in machine learning, especially for NER tasks. This process involves identifying relevant characteristics of tokens to improve model performance.\n",
        "\n",
        "## <span style=\"color:darkorange\">Feature Extraction Process</span>\n",
        "- Design a feature extraction function that identifies various attributes of each token, such as:\n",
        "  - **Word itself**: The actual text of the token.\n",
        "  - **Capitalization**: Whether the token is capitalized.\n",
        "  - **Digit presence**: If the token contains digits.\n",
        "  - **Position in the sentence**: Relative position of the token within the sentence.\n",
        "- This information helps the CRF model learn patterns associated with different entity types.\n",
        "\n",
        "## <span style=\"color:darkgreen\">Code Example</span>\n",
        "```python\n",
        "def extract_features(sentence):\n",
        "    features = []\n",
        "    for i, token in enumerate(sentence):\n",
        "        word_features = {\n",
        "            'word': token,\n",
        "            'is_capitalized': token[0].isupper(),\n",
        "            'is_digit': token.isdigit(),\n",
        "            'position': i,\n",
        "        }\n",
        "        features.append(word_features)\n",
        "    return features"
      ],
      "metadata": {
        "id": "yZ1zbgNKdxAV"
      }
    },
    {
      "cell_type": "code",
      "source": [
        "# Function to Extract Features"
      ],
      "metadata": {
        "id": "RtFigM4Ubc1N"
      },
      "execution_count": 173,
      "outputs": []
    },
    {
      "cell_type": "code",
      "source": [
        "def extract_features(sentences):  # Define function to extract features\n",
        "    features = []  # Initialize list for features\n",
        "    for sentence in sentences:  # Iterate through sentences\n",
        "        sentence_features = []  # Initialize list for features of the current sentence\n",
        "        for i, word in enumerate(sentence):  # Enumerate words in the sentence\n",
        "            word_features = {  # Create a dictionary of features for the word\n",
        "                'word': word,  # The word itself\n",
        "                'is_capitalized': word[0].upper() == word[0],  # Check if the word is capitalized\n",
        "                'is_numeric': word.isdigit(),  # Check if the word is numeric\n",
        "                'is_alphabetic': word.isalpha(),  # Check if the word is alphabetic\n",
        "                'position': i,  # Position of the word in the sentence\n",
        "                'prev_word': sentence[i - 1] if i > 0 else \"<START>\",  # Previous word or <START>\n",
        "                'next_word': sentence[i + 1] if i + 1 < len(sentence) else \"<END>\",  # Next word or <END>\n",
        "            }\n",
        "            sentence_features.append(word_features)  # Add word features to the sentence features\n",
        "        features.append(sentence_features)  # Add features of the current sentence to the features list\n",
        "    return features  # Return the features"
      ],
      "metadata": {
        "id": "8KNmxkp0bdIA"
      },
      "execution_count": 174,
      "outputs": []
    },
    {
      "cell_type": "code",
      "source": [],
      "metadata": {
        "id": "mlVeWuv_Mu4U"
      },
      "execution_count": null,
      "outputs": []
    },
    {
      "cell_type": "code",
      "source": [],
      "metadata": {
        "id": "ukkT_IAqMu8r"
      },
      "execution_count": null,
      "outputs": []
    },
    {
      "cell_type": "code",
      "source": [
        "# Function to Prepare Data for CRF Model"
      ],
      "metadata": {
        "id": "T9qMXRg0Mu_B"
      },
      "execution_count": 175,
      "outputs": []
    },
    {
      "cell_type": "code",
      "source": [
        "def prepare_data(sentences, labels):  # Define function to prepare data\n",
        "    X = extract_features(sentences)  # Extract features from sentences\n",
        "    y = labels  # Use labels as they are\n",
        "    return X, y  # Return features and labels"
      ],
      "metadata": {
        "id": "ft7Hm6C4MvBS"
      },
      "execution_count": 176,
      "outputs": []
    },
    {
      "cell_type": "code",
      "source": [],
      "metadata": {
        "id": "DncfOOijMvDx"
      },
      "execution_count": null,
      "outputs": []
    },
    {
      "cell_type": "code",
      "source": [],
      "metadata": {
        "id": "gEyytOhYMvFr"
      },
      "execution_count": null,
      "outputs": []
    },
    {
      "cell_type": "code",
      "source": [
        "# Load Datasets"
      ],
      "metadata": {
        "id": "bjvb3FzbMvJk"
      },
      "execution_count": 177,
      "outputs": []
    },
    {
      "cell_type": "code",
      "source": [
        "ned_train_sentences, ned_train_labels = load_data(ned_train_path)  # Load Dutch training data"
      ],
      "metadata": {
        "id": "peHnLwAIMvL1"
      },
      "execution_count": 178,
      "outputs": []
    },
    {
      "cell_type": "code",
      "source": [
        "ned_test_sentences, ned_test_labels = load_data(ned_test_path)  # Load Dutch test data"
      ],
      "metadata": {
        "id": "Gaw_WjX4MvQF"
      },
      "execution_count": 179,
      "outputs": []
    },
    {
      "cell_type": "code",
      "source": [
        "esp_train_sentences, esp_train_labels = load_data(esp_train_path)  # Load Spanish training data"
      ],
      "metadata": {
        "id": "oMpQnHz3MvSe"
      },
      "execution_count": 180,
      "outputs": []
    },
    {
      "cell_type": "code",
      "source": [
        "esp_test_sentences, esp_test_labels = load_data(esp_test_path)  # Load Spanish test data"
      ],
      "metadata": {
        "id": "SkCHRC62MvUl"
      },
      "execution_count": 181,
      "outputs": []
    },
    {
      "cell_type": "code",
      "source": [],
      "metadata": {
        "id": "g94tGXzNMvWu"
      },
      "execution_count": null,
      "outputs": []
    },
    {
      "cell_type": "code",
      "source": [],
      "metadata": {
        "id": "FnjkZhwQMvY-"
      },
      "execution_count": null,
      "outputs": []
    },
    {
      "cell_type": "code",
      "source": [],
      "metadata": {
        "id": "Z3P14BFad_r6"
      },
      "execution_count": null,
      "outputs": []
    },
    {
      "cell_type": "markdown",
      "source": [
        "\n",
        "### Step 5: Model Training\n",
        "```markdown\n",
        "# <span style=\"color:blue\">Step 5: Model Training</span>\n",
        "\n",
        "## <span style=\"color:darkgreen\">Overview</span>\n",
        "This step involves training the CRF model on the prepared dataset, utilizing the features extracted in the previous step. Model training is crucial for learning to classify entities in text.\n",
        "\n",
        "## <span style=\"color:darkorange\">Model Training Process</span>\n",
        "- Initialize the CRF model with appropriate parameters, such as:\n",
        "  - **Algorithm**: L-BFGS (Limited-memory Broyden–Fletcher–Goldfarb–Shanno)\n",
        "  - **Max iterations**: Number of iterations for optimization.\n",
        "- Train the model using the training dataset and the extracted features.\n",
        "\n",
        "## <span style=\"color:darkgreen\">Code Example</span>\n",
        "```python\n",
        "# Initialize the CRF model\n",
        "crf_model = CRF(algorithm='lbfgs', max_iterations=100)\n",
        "\n",
        "# Prepare the training data\n",
        "X_train = [extract_features(sentence) for sentence in train_sentences]\n",
        "y_train = train_labels\n",
        "\n",
        "# Train the model\n",
        "crf_model.fit(X_train, y_train)"
      ],
      "metadata": {
        "id": "meeGphRjeAIc"
      }
    },
    {
      "cell_type": "code",
      "source": [
        "# Prepare Data"
      ],
      "metadata": {
        "id": "FuH67bisMvbW"
      },
      "execution_count": 182,
      "outputs": []
    },
    {
      "cell_type": "code",
      "source": [
        "X_ned_train, y_ned_train = prepare_data(ned_train_sentences, ned_train_labels)  # Prepare Dutch training data"
      ],
      "metadata": {
        "id": "Z49RKaXYMvdX"
      },
      "execution_count": 183,
      "outputs": []
    },
    {
      "cell_type": "code",
      "source": [
        "X_ned_test, y_ned_test = prepare_data(ned_test_sentences, ned_test_labels)  # Prepare Dutch test data"
      ],
      "metadata": {
        "id": "CoYk5DGjMvfj"
      },
      "execution_count": 184,
      "outputs": []
    },
    {
      "cell_type": "code",
      "source": [
        "X_esp_train, y_esp_train = prepare_data(esp_train_sentences, esp_train_labels)  # Prepare Spanish training data"
      ],
      "metadata": {
        "id": "MetZYHHUMvkK"
      },
      "execution_count": 185,
      "outputs": []
    },
    {
      "cell_type": "code",
      "source": [
        "X_esp_test, y_esp_test = prepare_data(esp_test_sentences, esp_test_labels)  # Prepare Spanish test data"
      ],
      "metadata": {
        "id": "Xsm06_WKMvmv"
      },
      "execution_count": 186,
      "outputs": []
    },
    {
      "cell_type": "code",
      "source": [],
      "metadata": {
        "id": "6sh-N0H_MvrG"
      },
      "execution_count": null,
      "outputs": []
    },
    {
      "cell_type": "code",
      "source": [],
      "metadata": {
        "id": "3UqIabATvIX6"
      },
      "execution_count": null,
      "outputs": []
    },
    {
      "cell_type": "code",
      "source": [
        "# Train CRF Model"
      ],
      "metadata": {
        "id": "UjwClOuZvIa9"
      },
      "execution_count": 200,
      "outputs": []
    },
    {
      "cell_type": "code",
      "source": [
        "crf_model = sklearn_crfsuite.CRF(\n",
        "    algorithm='lbfgs',  # formme deri\n",
        "    c1=0.1,  # formme deri\n",
        "    c2=0.1,  # formme deri\n",
        "    max_iterations=100,  # formme deri\n",
        "    all_possible_transitions=True,  # formme deri\n",
        ")  # formme deri"
      ],
      "metadata": {
        "id": "-pieb4phvIeN"
      },
      "execution_count": 201,
      "outputs": []
    },
    {
      "cell_type": "code",
      "source": [],
      "metadata": {
        "id": "kJkhZ2pzvR2v"
      },
      "execution_count": null,
      "outputs": []
    },
    {
      "cell_type": "code",
      "source": [],
      "metadata": {
        "id": "_OYkOS24vR6G"
      },
      "execution_count": null,
      "outputs": []
    },
    {
      "cell_type": "code",
      "source": [
        "# Train Dutch and Spanish NER Models"
      ],
      "metadata": {
        "id": "yT0H6M79vR8_"
      },
      "execution_count": 202,
      "outputs": []
    },
    {
      "cell_type": "code",
      "source": [
        "crf_model.fit(X_ned_train, y_ned_train)  # formme deri"
      ],
      "metadata": {
        "colab": {
          "base_uri": "https://localhost:8080/",
          "height": 98
        },
        "id": "GiNHAAO4vInk",
        "outputId": "da7cb930-2b1e-4912-9f72-2f8c3fef0539"
      },
      "execution_count": 203,
      "outputs": [
        {
          "output_type": "execute_result",
          "data": {
            "text/plain": [
              "CRF(algorithm='lbfgs', all_possible_transitions=True, c1=0.1, c2=0.1,\n",
              "    max_iterations=100)"
            ],
            "text/html": [
              "<style>#sk-container-id-5 {\n",
              "  /* Definition of color scheme common for light and dark mode */\n",
              "  --sklearn-color-text: black;\n",
              "  --sklearn-color-line: gray;\n",
              "  /* Definition of color scheme for unfitted estimators */\n",
              "  --sklearn-color-unfitted-level-0: #fff5e6;\n",
              "  --sklearn-color-unfitted-level-1: #f6e4d2;\n",
              "  --sklearn-color-unfitted-level-2: #ffe0b3;\n",
              "  --sklearn-color-unfitted-level-3: chocolate;\n",
              "  /* Definition of color scheme for fitted estimators */\n",
              "  --sklearn-color-fitted-level-0: #f0f8ff;\n",
              "  --sklearn-color-fitted-level-1: #d4ebff;\n",
              "  --sklearn-color-fitted-level-2: #b3dbfd;\n",
              "  --sklearn-color-fitted-level-3: cornflowerblue;\n",
              "\n",
              "  /* Specific color for light theme */\n",
              "  --sklearn-color-text-on-default-background: var(--sg-text-color, var(--theme-code-foreground, var(--jp-content-font-color1, black)));\n",
              "  --sklearn-color-background: var(--sg-background-color, var(--theme-background, var(--jp-layout-color0, white)));\n",
              "  --sklearn-color-border-box: var(--sg-text-color, var(--theme-code-foreground, var(--jp-content-font-color1, black)));\n",
              "  --sklearn-color-icon: #696969;\n",
              "\n",
              "  @media (prefers-color-scheme: dark) {\n",
              "    /* Redefinition of color scheme for dark theme */\n",
              "    --sklearn-color-text-on-default-background: var(--sg-text-color, var(--theme-code-foreground, var(--jp-content-font-color1, white)));\n",
              "    --sklearn-color-background: var(--sg-background-color, var(--theme-background, var(--jp-layout-color0, #111)));\n",
              "    --sklearn-color-border-box: var(--sg-text-color, var(--theme-code-foreground, var(--jp-content-font-color1, white)));\n",
              "    --sklearn-color-icon: #878787;\n",
              "  }\n",
              "}\n",
              "\n",
              "#sk-container-id-5 {\n",
              "  color: var(--sklearn-color-text);\n",
              "}\n",
              "\n",
              "#sk-container-id-5 pre {\n",
              "  padding: 0;\n",
              "}\n",
              "\n",
              "#sk-container-id-5 input.sk-hidden--visually {\n",
              "  border: 0;\n",
              "  clip: rect(1px 1px 1px 1px);\n",
              "  clip: rect(1px, 1px, 1px, 1px);\n",
              "  height: 1px;\n",
              "  margin: -1px;\n",
              "  overflow: hidden;\n",
              "  padding: 0;\n",
              "  position: absolute;\n",
              "  width: 1px;\n",
              "}\n",
              "\n",
              "#sk-container-id-5 div.sk-dashed-wrapped {\n",
              "  border: 1px dashed var(--sklearn-color-line);\n",
              "  margin: 0 0.4em 0.5em 0.4em;\n",
              "  box-sizing: border-box;\n",
              "  padding-bottom: 0.4em;\n",
              "  background-color: var(--sklearn-color-background);\n",
              "}\n",
              "\n",
              "#sk-container-id-5 div.sk-container {\n",
              "  /* jupyter's `normalize.less` sets `[hidden] { display: none; }`\n",
              "     but bootstrap.min.css set `[hidden] { display: none !important; }`\n",
              "     so we also need the `!important` here to be able to override the\n",
              "     default hidden behavior on the sphinx rendered scikit-learn.org.\n",
              "     See: https://github.com/scikit-learn/scikit-learn/issues/21755 */\n",
              "  display: inline-block !important;\n",
              "  position: relative;\n",
              "}\n",
              "\n",
              "#sk-container-id-5 div.sk-text-repr-fallback {\n",
              "  display: none;\n",
              "}\n",
              "\n",
              "div.sk-parallel-item,\n",
              "div.sk-serial,\n",
              "div.sk-item {\n",
              "  /* draw centered vertical line to link estimators */\n",
              "  background-image: linear-gradient(var(--sklearn-color-text-on-default-background), var(--sklearn-color-text-on-default-background));\n",
              "  background-size: 2px 100%;\n",
              "  background-repeat: no-repeat;\n",
              "  background-position: center center;\n",
              "}\n",
              "\n",
              "/* Parallel-specific style estimator block */\n",
              "\n",
              "#sk-container-id-5 div.sk-parallel-item::after {\n",
              "  content: \"\";\n",
              "  width: 100%;\n",
              "  border-bottom: 2px solid var(--sklearn-color-text-on-default-background);\n",
              "  flex-grow: 1;\n",
              "}\n",
              "\n",
              "#sk-container-id-5 div.sk-parallel {\n",
              "  display: flex;\n",
              "  align-items: stretch;\n",
              "  justify-content: center;\n",
              "  background-color: var(--sklearn-color-background);\n",
              "  position: relative;\n",
              "}\n",
              "\n",
              "#sk-container-id-5 div.sk-parallel-item {\n",
              "  display: flex;\n",
              "  flex-direction: column;\n",
              "}\n",
              "\n",
              "#sk-container-id-5 div.sk-parallel-item:first-child::after {\n",
              "  align-self: flex-end;\n",
              "  width: 50%;\n",
              "}\n",
              "\n",
              "#sk-container-id-5 div.sk-parallel-item:last-child::after {\n",
              "  align-self: flex-start;\n",
              "  width: 50%;\n",
              "}\n",
              "\n",
              "#sk-container-id-5 div.sk-parallel-item:only-child::after {\n",
              "  width: 0;\n",
              "}\n",
              "\n",
              "/* Serial-specific style estimator block */\n",
              "\n",
              "#sk-container-id-5 div.sk-serial {\n",
              "  display: flex;\n",
              "  flex-direction: column;\n",
              "  align-items: center;\n",
              "  background-color: var(--sklearn-color-background);\n",
              "  padding-right: 1em;\n",
              "  padding-left: 1em;\n",
              "}\n",
              "\n",
              "\n",
              "/* Toggleable style: style used for estimator/Pipeline/ColumnTransformer box that is\n",
              "clickable and can be expanded/collapsed.\n",
              "- Pipeline and ColumnTransformer use this feature and define the default style\n",
              "- Estimators will overwrite some part of the style using the `sk-estimator` class\n",
              "*/\n",
              "\n",
              "/* Pipeline and ColumnTransformer style (default) */\n",
              "\n",
              "#sk-container-id-5 div.sk-toggleable {\n",
              "  /* Default theme specific background. It is overwritten whether we have a\n",
              "  specific estimator or a Pipeline/ColumnTransformer */\n",
              "  background-color: var(--sklearn-color-background);\n",
              "}\n",
              "\n",
              "/* Toggleable label */\n",
              "#sk-container-id-5 label.sk-toggleable__label {\n",
              "  cursor: pointer;\n",
              "  display: block;\n",
              "  width: 100%;\n",
              "  margin-bottom: 0;\n",
              "  padding: 0.5em;\n",
              "  box-sizing: border-box;\n",
              "  text-align: center;\n",
              "}\n",
              "\n",
              "#sk-container-id-5 label.sk-toggleable__label-arrow:before {\n",
              "  /* Arrow on the left of the label */\n",
              "  content: \"▸\";\n",
              "  float: left;\n",
              "  margin-right: 0.25em;\n",
              "  color: var(--sklearn-color-icon);\n",
              "}\n",
              "\n",
              "#sk-container-id-5 label.sk-toggleable__label-arrow:hover:before {\n",
              "  color: var(--sklearn-color-text);\n",
              "}\n",
              "\n",
              "/* Toggleable content - dropdown */\n",
              "\n",
              "#sk-container-id-5 div.sk-toggleable__content {\n",
              "  max-height: 0;\n",
              "  max-width: 0;\n",
              "  overflow: hidden;\n",
              "  text-align: left;\n",
              "  /* unfitted */\n",
              "  background-color: var(--sklearn-color-unfitted-level-0);\n",
              "}\n",
              "\n",
              "#sk-container-id-5 div.sk-toggleable__content.fitted {\n",
              "  /* fitted */\n",
              "  background-color: var(--sklearn-color-fitted-level-0);\n",
              "}\n",
              "\n",
              "#sk-container-id-5 div.sk-toggleable__content pre {\n",
              "  margin: 0.2em;\n",
              "  border-radius: 0.25em;\n",
              "  color: var(--sklearn-color-text);\n",
              "  /* unfitted */\n",
              "  background-color: var(--sklearn-color-unfitted-level-0);\n",
              "}\n",
              "\n",
              "#sk-container-id-5 div.sk-toggleable__content.fitted pre {\n",
              "  /* unfitted */\n",
              "  background-color: var(--sklearn-color-fitted-level-0);\n",
              "}\n",
              "\n",
              "#sk-container-id-5 input.sk-toggleable__control:checked~div.sk-toggleable__content {\n",
              "  /* Expand drop-down */\n",
              "  max-height: 200px;\n",
              "  max-width: 100%;\n",
              "  overflow: auto;\n",
              "}\n",
              "\n",
              "#sk-container-id-5 input.sk-toggleable__control:checked~label.sk-toggleable__label-arrow:before {\n",
              "  content: \"▾\";\n",
              "}\n",
              "\n",
              "/* Pipeline/ColumnTransformer-specific style */\n",
              "\n",
              "#sk-container-id-5 div.sk-label input.sk-toggleable__control:checked~label.sk-toggleable__label {\n",
              "  color: var(--sklearn-color-text);\n",
              "  background-color: var(--sklearn-color-unfitted-level-2);\n",
              "}\n",
              "\n",
              "#sk-container-id-5 div.sk-label.fitted input.sk-toggleable__control:checked~label.sk-toggleable__label {\n",
              "  background-color: var(--sklearn-color-fitted-level-2);\n",
              "}\n",
              "\n",
              "/* Estimator-specific style */\n",
              "\n",
              "/* Colorize estimator box */\n",
              "#sk-container-id-5 div.sk-estimator input.sk-toggleable__control:checked~label.sk-toggleable__label {\n",
              "  /* unfitted */\n",
              "  background-color: var(--sklearn-color-unfitted-level-2);\n",
              "}\n",
              "\n",
              "#sk-container-id-5 div.sk-estimator.fitted input.sk-toggleable__control:checked~label.sk-toggleable__label {\n",
              "  /* fitted */\n",
              "  background-color: var(--sklearn-color-fitted-level-2);\n",
              "}\n",
              "\n",
              "#sk-container-id-5 div.sk-label label.sk-toggleable__label,\n",
              "#sk-container-id-5 div.sk-label label {\n",
              "  /* The background is the default theme color */\n",
              "  color: var(--sklearn-color-text-on-default-background);\n",
              "}\n",
              "\n",
              "/* On hover, darken the color of the background */\n",
              "#sk-container-id-5 div.sk-label:hover label.sk-toggleable__label {\n",
              "  color: var(--sklearn-color-text);\n",
              "  background-color: var(--sklearn-color-unfitted-level-2);\n",
              "}\n",
              "\n",
              "/* Label box, darken color on hover, fitted */\n",
              "#sk-container-id-5 div.sk-label.fitted:hover label.sk-toggleable__label.fitted {\n",
              "  color: var(--sklearn-color-text);\n",
              "  background-color: var(--sklearn-color-fitted-level-2);\n",
              "}\n",
              "\n",
              "/* Estimator label */\n",
              "\n",
              "#sk-container-id-5 div.sk-label label {\n",
              "  font-family: monospace;\n",
              "  font-weight: bold;\n",
              "  display: inline-block;\n",
              "  line-height: 1.2em;\n",
              "}\n",
              "\n",
              "#sk-container-id-5 div.sk-label-container {\n",
              "  text-align: center;\n",
              "}\n",
              "\n",
              "/* Estimator-specific */\n",
              "#sk-container-id-5 div.sk-estimator {\n",
              "  font-family: monospace;\n",
              "  border: 1px dotted var(--sklearn-color-border-box);\n",
              "  border-radius: 0.25em;\n",
              "  box-sizing: border-box;\n",
              "  margin-bottom: 0.5em;\n",
              "  /* unfitted */\n",
              "  background-color: var(--sklearn-color-unfitted-level-0);\n",
              "}\n",
              "\n",
              "#sk-container-id-5 div.sk-estimator.fitted {\n",
              "  /* fitted */\n",
              "  background-color: var(--sklearn-color-fitted-level-0);\n",
              "}\n",
              "\n",
              "/* on hover */\n",
              "#sk-container-id-5 div.sk-estimator:hover {\n",
              "  /* unfitted */\n",
              "  background-color: var(--sklearn-color-unfitted-level-2);\n",
              "}\n",
              "\n",
              "#sk-container-id-5 div.sk-estimator.fitted:hover {\n",
              "  /* fitted */\n",
              "  background-color: var(--sklearn-color-fitted-level-2);\n",
              "}\n",
              "\n",
              "/* Specification for estimator info (e.g. \"i\" and \"?\") */\n",
              "\n",
              "/* Common style for \"i\" and \"?\" */\n",
              "\n",
              ".sk-estimator-doc-link,\n",
              "a:link.sk-estimator-doc-link,\n",
              "a:visited.sk-estimator-doc-link {\n",
              "  float: right;\n",
              "  font-size: smaller;\n",
              "  line-height: 1em;\n",
              "  font-family: monospace;\n",
              "  background-color: var(--sklearn-color-background);\n",
              "  border-radius: 1em;\n",
              "  height: 1em;\n",
              "  width: 1em;\n",
              "  text-decoration: none !important;\n",
              "  margin-left: 1ex;\n",
              "  /* unfitted */\n",
              "  border: var(--sklearn-color-unfitted-level-1) 1pt solid;\n",
              "  color: var(--sklearn-color-unfitted-level-1);\n",
              "}\n",
              "\n",
              ".sk-estimator-doc-link.fitted,\n",
              "a:link.sk-estimator-doc-link.fitted,\n",
              "a:visited.sk-estimator-doc-link.fitted {\n",
              "  /* fitted */\n",
              "  border: var(--sklearn-color-fitted-level-1) 1pt solid;\n",
              "  color: var(--sklearn-color-fitted-level-1);\n",
              "}\n",
              "\n",
              "/* On hover */\n",
              "div.sk-estimator:hover .sk-estimator-doc-link:hover,\n",
              ".sk-estimator-doc-link:hover,\n",
              "div.sk-label-container:hover .sk-estimator-doc-link:hover,\n",
              ".sk-estimator-doc-link:hover {\n",
              "  /* unfitted */\n",
              "  background-color: var(--sklearn-color-unfitted-level-3);\n",
              "  color: var(--sklearn-color-background);\n",
              "  text-decoration: none;\n",
              "}\n",
              "\n",
              "div.sk-estimator.fitted:hover .sk-estimator-doc-link.fitted:hover,\n",
              ".sk-estimator-doc-link.fitted:hover,\n",
              "div.sk-label-container:hover .sk-estimator-doc-link.fitted:hover,\n",
              ".sk-estimator-doc-link.fitted:hover {\n",
              "  /* fitted */\n",
              "  background-color: var(--sklearn-color-fitted-level-3);\n",
              "  color: var(--sklearn-color-background);\n",
              "  text-decoration: none;\n",
              "}\n",
              "\n",
              "/* Span, style for the box shown on hovering the info icon */\n",
              ".sk-estimator-doc-link span {\n",
              "  display: none;\n",
              "  z-index: 9999;\n",
              "  position: relative;\n",
              "  font-weight: normal;\n",
              "  right: .2ex;\n",
              "  padding: .5ex;\n",
              "  margin: .5ex;\n",
              "  width: min-content;\n",
              "  min-width: 20ex;\n",
              "  max-width: 50ex;\n",
              "  color: var(--sklearn-color-text);\n",
              "  box-shadow: 2pt 2pt 4pt #999;\n",
              "  /* unfitted */\n",
              "  background: var(--sklearn-color-unfitted-level-0);\n",
              "  border: .5pt solid var(--sklearn-color-unfitted-level-3);\n",
              "}\n",
              "\n",
              ".sk-estimator-doc-link.fitted span {\n",
              "  /* fitted */\n",
              "  background: var(--sklearn-color-fitted-level-0);\n",
              "  border: var(--sklearn-color-fitted-level-3);\n",
              "}\n",
              "\n",
              ".sk-estimator-doc-link:hover span {\n",
              "  display: block;\n",
              "}\n",
              "\n",
              "/* \"?\"-specific style due to the `<a>` HTML tag */\n",
              "\n",
              "#sk-container-id-5 a.estimator_doc_link {\n",
              "  float: right;\n",
              "  font-size: 1rem;\n",
              "  line-height: 1em;\n",
              "  font-family: monospace;\n",
              "  background-color: var(--sklearn-color-background);\n",
              "  border-radius: 1rem;\n",
              "  height: 1rem;\n",
              "  width: 1rem;\n",
              "  text-decoration: none;\n",
              "  /* unfitted */\n",
              "  color: var(--sklearn-color-unfitted-level-1);\n",
              "  border: var(--sklearn-color-unfitted-level-1) 1pt solid;\n",
              "}\n",
              "\n",
              "#sk-container-id-5 a.estimator_doc_link.fitted {\n",
              "  /* fitted */\n",
              "  border: var(--sklearn-color-fitted-level-1) 1pt solid;\n",
              "  color: var(--sklearn-color-fitted-level-1);\n",
              "}\n",
              "\n",
              "/* On hover */\n",
              "#sk-container-id-5 a.estimator_doc_link:hover {\n",
              "  /* unfitted */\n",
              "  background-color: var(--sklearn-color-unfitted-level-3);\n",
              "  color: var(--sklearn-color-background);\n",
              "  text-decoration: none;\n",
              "}\n",
              "\n",
              "#sk-container-id-5 a.estimator_doc_link.fitted:hover {\n",
              "  /* fitted */\n",
              "  background-color: var(--sklearn-color-fitted-level-3);\n",
              "}\n",
              "</style><div id=\"sk-container-id-5\" class=\"sk-top-container\"><div class=\"sk-text-repr-fallback\"><pre>CRF(algorithm=&#x27;lbfgs&#x27;, all_possible_transitions=True, c1=0.1, c2=0.1,\n",
              "    max_iterations=100)</pre><b>In a Jupyter environment, please rerun this cell to show the HTML representation or trust the notebook. <br />On GitHub, the HTML representation is unable to render, please try loading this page with nbviewer.org.</b></div><div class=\"sk-container\" hidden><div class=\"sk-item\"><div class=\"sk-estimator fitted sk-toggleable\"><input class=\"sk-toggleable__control sk-hidden--visually\" id=\"sk-estimator-id-5\" type=\"checkbox\" checked><label for=\"sk-estimator-id-5\" class=\"sk-toggleable__label fitted sk-toggleable__label-arrow fitted\">&nbsp;CRF<span class=\"sk-estimator-doc-link fitted\">i<span>Fitted</span></span></label><div class=\"sk-toggleable__content fitted\"><pre>CRF(algorithm=&#x27;lbfgs&#x27;, all_possible_transitions=True, c1=0.1, c2=0.1,\n",
              "    max_iterations=100)</pre></div> </div></div></div></div>"
            ]
          },
          "metadata": {},
          "execution_count": 203
        }
      ]
    },
    {
      "cell_type": "code",
      "source": [],
      "metadata": {
        "id": "kW64X_ubvIq-"
      },
      "execution_count": null,
      "outputs": []
    },
    {
      "cell_type": "code",
      "source": [
        "crf_model.fit(X_esp_train, y_esp_train)  # formme deri"
      ],
      "metadata": {
        "colab": {
          "base_uri": "https://localhost:8080/",
          "height": 98
        },
        "id": "HxBiS75MvIuA",
        "outputId": "252acd1a-c523-4e08-f900-335068a6a3f8"
      },
      "execution_count": 204,
      "outputs": [
        {
          "output_type": "execute_result",
          "data": {
            "text/plain": [
              "CRF(algorithm='lbfgs', all_possible_transitions=True, c1=0.1, c2=0.1,\n",
              "    max_iterations=100)"
            ],
            "text/html": [
              "<style>#sk-container-id-6 {\n",
              "  /* Definition of color scheme common for light and dark mode */\n",
              "  --sklearn-color-text: black;\n",
              "  --sklearn-color-line: gray;\n",
              "  /* Definition of color scheme for unfitted estimators */\n",
              "  --sklearn-color-unfitted-level-0: #fff5e6;\n",
              "  --sklearn-color-unfitted-level-1: #f6e4d2;\n",
              "  --sklearn-color-unfitted-level-2: #ffe0b3;\n",
              "  --sklearn-color-unfitted-level-3: chocolate;\n",
              "  /* Definition of color scheme for fitted estimators */\n",
              "  --sklearn-color-fitted-level-0: #f0f8ff;\n",
              "  --sklearn-color-fitted-level-1: #d4ebff;\n",
              "  --sklearn-color-fitted-level-2: #b3dbfd;\n",
              "  --sklearn-color-fitted-level-3: cornflowerblue;\n",
              "\n",
              "  /* Specific color for light theme */\n",
              "  --sklearn-color-text-on-default-background: var(--sg-text-color, var(--theme-code-foreground, var(--jp-content-font-color1, black)));\n",
              "  --sklearn-color-background: var(--sg-background-color, var(--theme-background, var(--jp-layout-color0, white)));\n",
              "  --sklearn-color-border-box: var(--sg-text-color, var(--theme-code-foreground, var(--jp-content-font-color1, black)));\n",
              "  --sklearn-color-icon: #696969;\n",
              "\n",
              "  @media (prefers-color-scheme: dark) {\n",
              "    /* Redefinition of color scheme for dark theme */\n",
              "    --sklearn-color-text-on-default-background: var(--sg-text-color, var(--theme-code-foreground, var(--jp-content-font-color1, white)));\n",
              "    --sklearn-color-background: var(--sg-background-color, var(--theme-background, var(--jp-layout-color0, #111)));\n",
              "    --sklearn-color-border-box: var(--sg-text-color, var(--theme-code-foreground, var(--jp-content-font-color1, white)));\n",
              "    --sklearn-color-icon: #878787;\n",
              "  }\n",
              "}\n",
              "\n",
              "#sk-container-id-6 {\n",
              "  color: var(--sklearn-color-text);\n",
              "}\n",
              "\n",
              "#sk-container-id-6 pre {\n",
              "  padding: 0;\n",
              "}\n",
              "\n",
              "#sk-container-id-6 input.sk-hidden--visually {\n",
              "  border: 0;\n",
              "  clip: rect(1px 1px 1px 1px);\n",
              "  clip: rect(1px, 1px, 1px, 1px);\n",
              "  height: 1px;\n",
              "  margin: -1px;\n",
              "  overflow: hidden;\n",
              "  padding: 0;\n",
              "  position: absolute;\n",
              "  width: 1px;\n",
              "}\n",
              "\n",
              "#sk-container-id-6 div.sk-dashed-wrapped {\n",
              "  border: 1px dashed var(--sklearn-color-line);\n",
              "  margin: 0 0.4em 0.5em 0.4em;\n",
              "  box-sizing: border-box;\n",
              "  padding-bottom: 0.4em;\n",
              "  background-color: var(--sklearn-color-background);\n",
              "}\n",
              "\n",
              "#sk-container-id-6 div.sk-container {\n",
              "  /* jupyter's `normalize.less` sets `[hidden] { display: none; }`\n",
              "     but bootstrap.min.css set `[hidden] { display: none !important; }`\n",
              "     so we also need the `!important` here to be able to override the\n",
              "     default hidden behavior on the sphinx rendered scikit-learn.org.\n",
              "     See: https://github.com/scikit-learn/scikit-learn/issues/21755 */\n",
              "  display: inline-block !important;\n",
              "  position: relative;\n",
              "}\n",
              "\n",
              "#sk-container-id-6 div.sk-text-repr-fallback {\n",
              "  display: none;\n",
              "}\n",
              "\n",
              "div.sk-parallel-item,\n",
              "div.sk-serial,\n",
              "div.sk-item {\n",
              "  /* draw centered vertical line to link estimators */\n",
              "  background-image: linear-gradient(var(--sklearn-color-text-on-default-background), var(--sklearn-color-text-on-default-background));\n",
              "  background-size: 2px 100%;\n",
              "  background-repeat: no-repeat;\n",
              "  background-position: center center;\n",
              "}\n",
              "\n",
              "/* Parallel-specific style estimator block */\n",
              "\n",
              "#sk-container-id-6 div.sk-parallel-item::after {\n",
              "  content: \"\";\n",
              "  width: 100%;\n",
              "  border-bottom: 2px solid var(--sklearn-color-text-on-default-background);\n",
              "  flex-grow: 1;\n",
              "}\n",
              "\n",
              "#sk-container-id-6 div.sk-parallel {\n",
              "  display: flex;\n",
              "  align-items: stretch;\n",
              "  justify-content: center;\n",
              "  background-color: var(--sklearn-color-background);\n",
              "  position: relative;\n",
              "}\n",
              "\n",
              "#sk-container-id-6 div.sk-parallel-item {\n",
              "  display: flex;\n",
              "  flex-direction: column;\n",
              "}\n",
              "\n",
              "#sk-container-id-6 div.sk-parallel-item:first-child::after {\n",
              "  align-self: flex-end;\n",
              "  width: 50%;\n",
              "}\n",
              "\n",
              "#sk-container-id-6 div.sk-parallel-item:last-child::after {\n",
              "  align-self: flex-start;\n",
              "  width: 50%;\n",
              "}\n",
              "\n",
              "#sk-container-id-6 div.sk-parallel-item:only-child::after {\n",
              "  width: 0;\n",
              "}\n",
              "\n",
              "/* Serial-specific style estimator block */\n",
              "\n",
              "#sk-container-id-6 div.sk-serial {\n",
              "  display: flex;\n",
              "  flex-direction: column;\n",
              "  align-items: center;\n",
              "  background-color: var(--sklearn-color-background);\n",
              "  padding-right: 1em;\n",
              "  padding-left: 1em;\n",
              "}\n",
              "\n",
              "\n",
              "/* Toggleable style: style used for estimator/Pipeline/ColumnTransformer box that is\n",
              "clickable and can be expanded/collapsed.\n",
              "- Pipeline and ColumnTransformer use this feature and define the default style\n",
              "- Estimators will overwrite some part of the style using the `sk-estimator` class\n",
              "*/\n",
              "\n",
              "/* Pipeline and ColumnTransformer style (default) */\n",
              "\n",
              "#sk-container-id-6 div.sk-toggleable {\n",
              "  /* Default theme specific background. It is overwritten whether we have a\n",
              "  specific estimator or a Pipeline/ColumnTransformer */\n",
              "  background-color: var(--sklearn-color-background);\n",
              "}\n",
              "\n",
              "/* Toggleable label */\n",
              "#sk-container-id-6 label.sk-toggleable__label {\n",
              "  cursor: pointer;\n",
              "  display: block;\n",
              "  width: 100%;\n",
              "  margin-bottom: 0;\n",
              "  padding: 0.5em;\n",
              "  box-sizing: border-box;\n",
              "  text-align: center;\n",
              "}\n",
              "\n",
              "#sk-container-id-6 label.sk-toggleable__label-arrow:before {\n",
              "  /* Arrow on the left of the label */\n",
              "  content: \"▸\";\n",
              "  float: left;\n",
              "  margin-right: 0.25em;\n",
              "  color: var(--sklearn-color-icon);\n",
              "}\n",
              "\n",
              "#sk-container-id-6 label.sk-toggleable__label-arrow:hover:before {\n",
              "  color: var(--sklearn-color-text);\n",
              "}\n",
              "\n",
              "/* Toggleable content - dropdown */\n",
              "\n",
              "#sk-container-id-6 div.sk-toggleable__content {\n",
              "  max-height: 0;\n",
              "  max-width: 0;\n",
              "  overflow: hidden;\n",
              "  text-align: left;\n",
              "  /* unfitted */\n",
              "  background-color: var(--sklearn-color-unfitted-level-0);\n",
              "}\n",
              "\n",
              "#sk-container-id-6 div.sk-toggleable__content.fitted {\n",
              "  /* fitted */\n",
              "  background-color: var(--sklearn-color-fitted-level-0);\n",
              "}\n",
              "\n",
              "#sk-container-id-6 div.sk-toggleable__content pre {\n",
              "  margin: 0.2em;\n",
              "  border-radius: 0.25em;\n",
              "  color: var(--sklearn-color-text);\n",
              "  /* unfitted */\n",
              "  background-color: var(--sklearn-color-unfitted-level-0);\n",
              "}\n",
              "\n",
              "#sk-container-id-6 div.sk-toggleable__content.fitted pre {\n",
              "  /* unfitted */\n",
              "  background-color: var(--sklearn-color-fitted-level-0);\n",
              "}\n",
              "\n",
              "#sk-container-id-6 input.sk-toggleable__control:checked~div.sk-toggleable__content {\n",
              "  /* Expand drop-down */\n",
              "  max-height: 200px;\n",
              "  max-width: 100%;\n",
              "  overflow: auto;\n",
              "}\n",
              "\n",
              "#sk-container-id-6 input.sk-toggleable__control:checked~label.sk-toggleable__label-arrow:before {\n",
              "  content: \"▾\";\n",
              "}\n",
              "\n",
              "/* Pipeline/ColumnTransformer-specific style */\n",
              "\n",
              "#sk-container-id-6 div.sk-label input.sk-toggleable__control:checked~label.sk-toggleable__label {\n",
              "  color: var(--sklearn-color-text);\n",
              "  background-color: var(--sklearn-color-unfitted-level-2);\n",
              "}\n",
              "\n",
              "#sk-container-id-6 div.sk-label.fitted input.sk-toggleable__control:checked~label.sk-toggleable__label {\n",
              "  background-color: var(--sklearn-color-fitted-level-2);\n",
              "}\n",
              "\n",
              "/* Estimator-specific style */\n",
              "\n",
              "/* Colorize estimator box */\n",
              "#sk-container-id-6 div.sk-estimator input.sk-toggleable__control:checked~label.sk-toggleable__label {\n",
              "  /* unfitted */\n",
              "  background-color: var(--sklearn-color-unfitted-level-2);\n",
              "}\n",
              "\n",
              "#sk-container-id-6 div.sk-estimator.fitted input.sk-toggleable__control:checked~label.sk-toggleable__label {\n",
              "  /* fitted */\n",
              "  background-color: var(--sklearn-color-fitted-level-2);\n",
              "}\n",
              "\n",
              "#sk-container-id-6 div.sk-label label.sk-toggleable__label,\n",
              "#sk-container-id-6 div.sk-label label {\n",
              "  /* The background is the default theme color */\n",
              "  color: var(--sklearn-color-text-on-default-background);\n",
              "}\n",
              "\n",
              "/* On hover, darken the color of the background */\n",
              "#sk-container-id-6 div.sk-label:hover label.sk-toggleable__label {\n",
              "  color: var(--sklearn-color-text);\n",
              "  background-color: var(--sklearn-color-unfitted-level-2);\n",
              "}\n",
              "\n",
              "/* Label box, darken color on hover, fitted */\n",
              "#sk-container-id-6 div.sk-label.fitted:hover label.sk-toggleable__label.fitted {\n",
              "  color: var(--sklearn-color-text);\n",
              "  background-color: var(--sklearn-color-fitted-level-2);\n",
              "}\n",
              "\n",
              "/* Estimator label */\n",
              "\n",
              "#sk-container-id-6 div.sk-label label {\n",
              "  font-family: monospace;\n",
              "  font-weight: bold;\n",
              "  display: inline-block;\n",
              "  line-height: 1.2em;\n",
              "}\n",
              "\n",
              "#sk-container-id-6 div.sk-label-container {\n",
              "  text-align: center;\n",
              "}\n",
              "\n",
              "/* Estimator-specific */\n",
              "#sk-container-id-6 div.sk-estimator {\n",
              "  font-family: monospace;\n",
              "  border: 1px dotted var(--sklearn-color-border-box);\n",
              "  border-radius: 0.25em;\n",
              "  box-sizing: border-box;\n",
              "  margin-bottom: 0.5em;\n",
              "  /* unfitted */\n",
              "  background-color: var(--sklearn-color-unfitted-level-0);\n",
              "}\n",
              "\n",
              "#sk-container-id-6 div.sk-estimator.fitted {\n",
              "  /* fitted */\n",
              "  background-color: var(--sklearn-color-fitted-level-0);\n",
              "}\n",
              "\n",
              "/* on hover */\n",
              "#sk-container-id-6 div.sk-estimator:hover {\n",
              "  /* unfitted */\n",
              "  background-color: var(--sklearn-color-unfitted-level-2);\n",
              "}\n",
              "\n",
              "#sk-container-id-6 div.sk-estimator.fitted:hover {\n",
              "  /* fitted */\n",
              "  background-color: var(--sklearn-color-fitted-level-2);\n",
              "}\n",
              "\n",
              "/* Specification for estimator info (e.g. \"i\" and \"?\") */\n",
              "\n",
              "/* Common style for \"i\" and \"?\" */\n",
              "\n",
              ".sk-estimator-doc-link,\n",
              "a:link.sk-estimator-doc-link,\n",
              "a:visited.sk-estimator-doc-link {\n",
              "  float: right;\n",
              "  font-size: smaller;\n",
              "  line-height: 1em;\n",
              "  font-family: monospace;\n",
              "  background-color: var(--sklearn-color-background);\n",
              "  border-radius: 1em;\n",
              "  height: 1em;\n",
              "  width: 1em;\n",
              "  text-decoration: none !important;\n",
              "  margin-left: 1ex;\n",
              "  /* unfitted */\n",
              "  border: var(--sklearn-color-unfitted-level-1) 1pt solid;\n",
              "  color: var(--sklearn-color-unfitted-level-1);\n",
              "}\n",
              "\n",
              ".sk-estimator-doc-link.fitted,\n",
              "a:link.sk-estimator-doc-link.fitted,\n",
              "a:visited.sk-estimator-doc-link.fitted {\n",
              "  /* fitted */\n",
              "  border: var(--sklearn-color-fitted-level-1) 1pt solid;\n",
              "  color: var(--sklearn-color-fitted-level-1);\n",
              "}\n",
              "\n",
              "/* On hover */\n",
              "div.sk-estimator:hover .sk-estimator-doc-link:hover,\n",
              ".sk-estimator-doc-link:hover,\n",
              "div.sk-label-container:hover .sk-estimator-doc-link:hover,\n",
              ".sk-estimator-doc-link:hover {\n",
              "  /* unfitted */\n",
              "  background-color: var(--sklearn-color-unfitted-level-3);\n",
              "  color: var(--sklearn-color-background);\n",
              "  text-decoration: none;\n",
              "}\n",
              "\n",
              "div.sk-estimator.fitted:hover .sk-estimator-doc-link.fitted:hover,\n",
              ".sk-estimator-doc-link.fitted:hover,\n",
              "div.sk-label-container:hover .sk-estimator-doc-link.fitted:hover,\n",
              ".sk-estimator-doc-link.fitted:hover {\n",
              "  /* fitted */\n",
              "  background-color: var(--sklearn-color-fitted-level-3);\n",
              "  color: var(--sklearn-color-background);\n",
              "  text-decoration: none;\n",
              "}\n",
              "\n",
              "/* Span, style for the box shown on hovering the info icon */\n",
              ".sk-estimator-doc-link span {\n",
              "  display: none;\n",
              "  z-index: 9999;\n",
              "  position: relative;\n",
              "  font-weight: normal;\n",
              "  right: .2ex;\n",
              "  padding: .5ex;\n",
              "  margin: .5ex;\n",
              "  width: min-content;\n",
              "  min-width: 20ex;\n",
              "  max-width: 50ex;\n",
              "  color: var(--sklearn-color-text);\n",
              "  box-shadow: 2pt 2pt 4pt #999;\n",
              "  /* unfitted */\n",
              "  background: var(--sklearn-color-unfitted-level-0);\n",
              "  border: .5pt solid var(--sklearn-color-unfitted-level-3);\n",
              "}\n",
              "\n",
              ".sk-estimator-doc-link.fitted span {\n",
              "  /* fitted */\n",
              "  background: var(--sklearn-color-fitted-level-0);\n",
              "  border: var(--sklearn-color-fitted-level-3);\n",
              "}\n",
              "\n",
              ".sk-estimator-doc-link:hover span {\n",
              "  display: block;\n",
              "}\n",
              "\n",
              "/* \"?\"-specific style due to the `<a>` HTML tag */\n",
              "\n",
              "#sk-container-id-6 a.estimator_doc_link {\n",
              "  float: right;\n",
              "  font-size: 1rem;\n",
              "  line-height: 1em;\n",
              "  font-family: monospace;\n",
              "  background-color: var(--sklearn-color-background);\n",
              "  border-radius: 1rem;\n",
              "  height: 1rem;\n",
              "  width: 1rem;\n",
              "  text-decoration: none;\n",
              "  /* unfitted */\n",
              "  color: var(--sklearn-color-unfitted-level-1);\n",
              "  border: var(--sklearn-color-unfitted-level-1) 1pt solid;\n",
              "}\n",
              "\n",
              "#sk-container-id-6 a.estimator_doc_link.fitted {\n",
              "  /* fitted */\n",
              "  border: var(--sklearn-color-fitted-level-1) 1pt solid;\n",
              "  color: var(--sklearn-color-fitted-level-1);\n",
              "}\n",
              "\n",
              "/* On hover */\n",
              "#sk-container-id-6 a.estimator_doc_link:hover {\n",
              "  /* unfitted */\n",
              "  background-color: var(--sklearn-color-unfitted-level-3);\n",
              "  color: var(--sklearn-color-background);\n",
              "  text-decoration: none;\n",
              "}\n",
              "\n",
              "#sk-container-id-6 a.estimator_doc_link.fitted:hover {\n",
              "  /* fitted */\n",
              "  background-color: var(--sklearn-color-fitted-level-3);\n",
              "}\n",
              "</style><div id=\"sk-container-id-6\" class=\"sk-top-container\"><div class=\"sk-text-repr-fallback\"><pre>CRF(algorithm=&#x27;lbfgs&#x27;, all_possible_transitions=True, c1=0.1, c2=0.1,\n",
              "    max_iterations=100)</pre><b>In a Jupyter environment, please rerun this cell to show the HTML representation or trust the notebook. <br />On GitHub, the HTML representation is unable to render, please try loading this page with nbviewer.org.</b></div><div class=\"sk-container\" hidden><div class=\"sk-item\"><div class=\"sk-estimator fitted sk-toggleable\"><input class=\"sk-toggleable__control sk-hidden--visually\" id=\"sk-estimator-id-6\" type=\"checkbox\" checked><label for=\"sk-estimator-id-6\" class=\"sk-toggleable__label fitted sk-toggleable__label-arrow fitted\">&nbsp;CRF<span class=\"sk-estimator-doc-link fitted\">i<span>Fitted</span></span></label><div class=\"sk-toggleable__content fitted\"><pre>CRF(algorithm=&#x27;lbfgs&#x27;, all_possible_transitions=True, c1=0.1, c2=0.1,\n",
              "    max_iterations=100)</pre></div> </div></div></div></div>"
            ]
          },
          "metadata": {},
          "execution_count": 204
        }
      ]
    },
    {
      "cell_type": "code",
      "source": [],
      "metadata": {
        "id": "lb_zfniZvae4"
      },
      "execution_count": null,
      "outputs": []
    },
    {
      "cell_type": "code",
      "source": [],
      "metadata": {
        "id": "3q1zTf4ZvaiJ"
      },
      "execution_count": null,
      "outputs": []
    },
    {
      "cell_type": "code",
      "source": [],
      "metadata": {
        "id": "Z4jrfrxhxSzu"
      },
      "execution_count": null,
      "outputs": []
    },
    {
      "cell_type": "markdown",
      "source": [
        "\n",
        "### Step 6: Model Evaluation\n",
        "```markdown\n",
        "# <span style=\"color:blue\">Step 6: Model Evaluation</span>\n",
        "\n",
        "## <span style=\"color:darkgreen\">Overview</span>\n",
        "Model evaluation is essential to assess the performance of the trained CRF model. This step measures the accuracy of the entity recognition on test datasets.\n",
        "\n",
        "## <span style=\"color:darkorange\">Evaluation Process</span>\n",
        "- Use the trained CRF model to predict labels for the test dataset.\n",
        "- Calculate evaluation metrics, such as:\n",
        "  - **F1 Score**: Harmonic mean of precision and recall, providing a balance between the two.\n",
        "  - **Classification Report**: Detailed report including precision, recall, and support for each entity class.\n",
        "\n",
        "## <span style=\"color:darkgreen\">Code Example</span>\n",
        "```python\n",
        "# Prepare the test data\n",
        "X_test = [extract_features(sentence) for sentence in test_sentences]\n",
        "y_test = test_labels\n",
        "\n",
        "# Predict labels\n",
        "y_pred = crf_model.predict(X_test)\n",
        "\n",
        "# Evaluate the model\n",
        "print(classification_report(y_test, y_pred))"
      ],
      "metadata": {
        "id": "enTN89dixTJp"
      }
    },
    {
      "cell_type": "code",
      "source": [
        "# Evaluate Model"
      ],
      "metadata": {
        "id": "spj0G_Myvalc"
      },
      "execution_count": 205,
      "outputs": []
    },
    {
      "cell_type": "code",
      "source": [
        "def evaluate_model(model, X_test, y_test):  # formme deri\n",
        "    y_pred = model.predict(X_test)  # formme deri\n",
        "    f1_score = metrics.flat_f1_score(y_test, y_pred, average='weighted', labels=model.classes_)  # formme deri\n",
        "    precision = metrics.flat_precision_score(y_test, y_pred, average='weighted', labels=model.classes_)  # formme deri\n",
        "    recall = metrics.flat_recall_score(y_test, y_pred, average='weighted', labels=model.classes_)  # formme deri\n",
        "    return f1_score, precision, recall  # formme deri"
      ],
      "metadata": {
        "id": "U2_3VrsYvaon"
      },
      "execution_count": 206,
      "outputs": []
    },
    {
      "cell_type": "code",
      "source": [],
      "metadata": {
        "id": "XE0HOZ8kvj0n"
      },
      "execution_count": null,
      "outputs": []
    },
    {
      "cell_type": "code",
      "source": [],
      "metadata": {
        "id": "f2MRU1V-vj3m"
      },
      "execution_count": null,
      "outputs": []
    },
    {
      "cell_type": "code",
      "source": [],
      "metadata": {
        "id": "s4qfXazXvnbc"
      },
      "execution_count": null,
      "outputs": []
    },
    {
      "cell_type": "code",
      "source": [
        "# Evaluate Dutch Model"
      ],
      "metadata": {
        "id": "Uhqc3CsUvney"
      },
      "execution_count": 207,
      "outputs": []
    },
    {
      "cell_type": "code",
      "source": [
        "f1_ned, precision_ned, recall_ned = evaluate_model(crf_model, X_ned_test, y_ned_test)  # formme deri"
      ],
      "metadata": {
        "id": "PaX7rcaxvnks"
      },
      "execution_count": 208,
      "outputs": []
    },
    {
      "cell_type": "code",
      "source": [
        "print(f\"Dutch NER Model - F1 Score: {f1_ned}, Precision: {precision_ned}, Recall: {recall_ned}\")  # formme deri"
      ],
      "metadata": {
        "colab": {
          "base_uri": "https://localhost:8080/"
        },
        "id": "zPwztPAfvrKT",
        "outputId": "cae28454-d344-4d0b-87e7-19a978082ccc"
      },
      "execution_count": 209,
      "outputs": [
        {
          "output_type": "stream",
          "name": "stdout",
          "text": [
            "Dutch NER Model - F1 Score: 0.9135505382604692, Precision: 0.9121807988157395, Recall: 0.9250514537496014\n"
          ]
        }
      ]
    },
    {
      "cell_type": "code",
      "source": [],
      "metadata": {
        "id": "-IrOMzu7vrNg"
      },
      "execution_count": null,
      "outputs": []
    },
    {
      "cell_type": "code",
      "source": [
        "# Evaluate Spanish Model"
      ],
      "metadata": {
        "id": "iuRUvzxFvrQj"
      },
      "execution_count": 210,
      "outputs": []
    },
    {
      "cell_type": "code",
      "source": [
        "f1_esp, precision_esp, recall_esp = evaluate_model(crf_model, X_esp_test, y_esp_test)  # formme deri"
      ],
      "metadata": {
        "id": "be4sbhVxvrTq"
      },
      "execution_count": 211,
      "outputs": []
    },
    {
      "cell_type": "code",
      "source": [
        "print(f\"Spanish NER Model - F1 Score: {f1_esp}, Precision: {precision_esp}, Recall: {recall_esp}\")  # formme deri"
      ],
      "metadata": {
        "colab": {
          "base_uri": "https://localhost:8080/"
        },
        "id": "E4tDlsknvrWk",
        "outputId": "3bdd4e07-6961-4b36-8ecc-c65f2665a3fc"
      },
      "execution_count": 212,
      "outputs": [
        {
          "output_type": "stream",
          "name": "stdout",
          "text": [
            "Spanish NER Model - F1 Score: 0.9646658299991987, Precision: 0.9641358928194558, Recall: 0.9659635573321949\n"
          ]
        }
      ]
    },
    {
      "cell_type": "code",
      "source": [],
      "metadata": {
        "id": "VedtryDwvrZM"
      },
      "execution_count": null,
      "outputs": []
    },
    {
      "cell_type": "code",
      "source": [],
      "metadata": {
        "id": "M1RBXWSmv5u4"
      },
      "execution_count": null,
      "outputs": []
    },
    {
      "cell_type": "code",
      "source": [
        "# Define function to plot confusion matrix"
      ],
      "metadata": {
        "id": "pxJR9cZNv5yI"
      },
      "execution_count": 213,
      "outputs": []
    },
    {
      "cell_type": "code",
      "source": [
        "def plot_confusion_matrix(y_test, y_pred, class_labels, model_name):  # formme deri\n",
        "    cm = confusion_matrix(y_test, y_pred, labels=class_labels)  # formme deri\n",
        "    disp = ConfusionMatrixDisplay(confusion_matrix=cm, display_labels=class_labels)  # formme deri\n",
        "    disp.plot(cmap=plt.cm.Blues)  # formme deri\n",
        "    plt.title(f'Confusion Matrix - {model_name}')  # formme deri\n",
        "    plt.show()  # formme deri"
      ],
      "metadata": {
        "id": "XbApv2Mxv51r"
      },
      "execution_count": 214,
      "outputs": []
    },
    {
      "cell_type": "code",
      "source": [],
      "metadata": {
        "id": "VV9ncipkv_xY"
      },
      "execution_count": null,
      "outputs": []
    },
    {
      "cell_type": "code",
      "source": [],
      "metadata": {
        "id": "WXkfeDI2v54p"
      },
      "execution_count": null,
      "outputs": []
    },
    {
      "cell_type": "code",
      "source": [
        "# Assuming you have your class labels defined"
      ],
      "metadata": {
        "id": "hLLCNZXcv571"
      },
      "execution_count": 215,
      "outputs": []
    },
    {
      "cell_type": "code",
      "source": [
        "class_labels_ned = ['O', 'B-ORG', 'I-ORG', 'B-PER', 'I-PER', 'B-LOC', 'I-LOC', 'B-MISC', 'I-MISC']  # formme deri"
      ],
      "metadata": {
        "id": "arjwVmD_wGF3"
      },
      "execution_count": 216,
      "outputs": []
    },
    {
      "cell_type": "code",
      "source": [
        "class_labels_esp = ['O', 'B-ORG', 'I-ORG', 'B-PER', 'I-PER', 'B-LOC', 'I-LOC', 'B-MISC', 'I-MISC']  # formme deri"
      ],
      "metadata": {
        "id": "0dtJ5wcPwGJd"
      },
      "execution_count": 217,
      "outputs": []
    },
    {
      "cell_type": "code",
      "source": [],
      "metadata": {
        "id": "OFDDOdQcwLW4"
      },
      "execution_count": null,
      "outputs": []
    },
    {
      "cell_type": "code",
      "source": [],
      "metadata": {
        "id": "1O7dS3q0wLbs"
      },
      "execution_count": null,
      "outputs": []
    },
    {
      "cell_type": "code",
      "source": [
        "# Predictions for Dutch model"
      ],
      "metadata": {
        "id": "MrY-Ut4awLfJ"
      },
      "execution_count": 218,
      "outputs": []
    },
    {
      "cell_type": "code",
      "source": [
        "y_pred_ned = crf_model.predict(X_ned_test)  # formme deri"
      ],
      "metadata": {
        "id": "PNN2FybHwLi2"
      },
      "execution_count": 219,
      "outputs": []
    },
    {
      "cell_type": "code",
      "source": [
        "y_ned_test_flat = [item for sublist in y_ned_test for item in sublist]  # Flatten the list of true labels  # formme deri\n"
      ],
      "metadata": {
        "id": "_5tVej1lwLmE"
      },
      "execution_count": 220,
      "outputs": []
    },
    {
      "cell_type": "code",
      "source": [
        "y_pred_ned_flat = [item for sublist in y_pred_ned for item in sublist]  # Flatten the list of predicted labels  # formme deri\n"
      ],
      "metadata": {
        "id": "i3IK9mfZwGMj"
      },
      "execution_count": 221,
      "outputs": []
    },
    {
      "cell_type": "code",
      "source": [],
      "metadata": {
        "id": "XzpouUonwTCQ"
      },
      "execution_count": null,
      "outputs": []
    },
    {
      "cell_type": "code",
      "source": [],
      "metadata": {
        "id": "EuvOLTrLwTFV"
      },
      "execution_count": null,
      "outputs": []
    },
    {
      "cell_type": "code",
      "source": [
        "# Predictions for Spanish model"
      ],
      "metadata": {
        "id": "JVP32d3_wTI2"
      },
      "execution_count": 222,
      "outputs": []
    },
    {
      "cell_type": "code",
      "source": [
        "y_pred_esp = crf_model.predict(X_esp_test)  # formme deri"
      ],
      "metadata": {
        "id": "rh58DG1ywTL_"
      },
      "execution_count": 223,
      "outputs": []
    },
    {
      "cell_type": "code",
      "source": [
        "y_esp_test_flat = [item for sublist in y_esp_test for item in sublist]  # Flatten the list of true labels  # formme deri\n"
      ],
      "metadata": {
        "id": "LTxEajVBwTPo"
      },
      "execution_count": 224,
      "outputs": []
    },
    {
      "cell_type": "code",
      "source": [
        "y_pred_esp_flat = [item for sublist in y_pred_esp for item in sublist]  # Flatten the list of predicted labels  # formme deri\n"
      ],
      "metadata": {
        "id": "WW2ksWiSwGP6"
      },
      "execution_count": 225,
      "outputs": []
    },
    {
      "cell_type": "code",
      "source": [],
      "metadata": {
        "id": "GEUC18edwdAY"
      },
      "execution_count": null,
      "outputs": []
    },
    {
      "cell_type": "code",
      "source": [],
      "metadata": {
        "id": "A-nnr7rpwdDe"
      },
      "execution_count": null,
      "outputs": []
    },
    {
      "cell_type": "code",
      "source": [],
      "metadata": {
        "id": "Lxq_cEmBwdHJ"
      },
      "execution_count": null,
      "outputs": []
    },
    {
      "cell_type": "code",
      "source": [
        "# Plot confusion matrices"
      ],
      "metadata": {
        "id": "AnfzoHrvwdRZ"
      },
      "execution_count": 226,
      "outputs": []
    },
    {
      "cell_type": "code",
      "source": [
        "plot_confusion_matrix(y_ned_test_flat, y_pred_ned_flat, class_labels_ned, \"Dutch NER\")  # formme deri"
      ],
      "metadata": {
        "colab": {
          "base_uri": "https://localhost:8080/",
          "height": 472
        },
        "id": "UKpvyrnLwfoB",
        "outputId": "2681a70b-1404-47a2-f0fa-c4b601bdc050"
      },
      "execution_count": 227,
      "outputs": [
        {
          "output_type": "display_data",
          "data": {
            "text/plain": [
              "<Figure size 640x480 with 2 Axes>"
            ],
            "image/png": "[encoded data removed]"
          },
          "metadata": {}
        }
      ]
    },
    {
      "cell_type": "code",
      "source": [],
      "metadata": {
        "id": "-ZOhpudAwg_z"
      },
      "execution_count": null,
      "outputs": []
    },
    {
      "cell_type": "code",
      "source": [],
      "metadata": {
        "id": "kIwQq9WzwhHS"
      },
      "execution_count": null,
      "outputs": []
    },
    {
      "cell_type": "code",
      "source": [
        "plot_confusion_matrix(y_esp_test_flat, y_pred_esp_flat, class_labels_esp, \"Spanish NER\")  # formme deri"
      ],
      "metadata": {
        "colab": {
          "base_uri": "https://localhost:8080/",
          "height": 472
        },
        "id": "WBF_c-r_whbB",
        "outputId": "dd20a35d-93fc-4d63-90c6-af6b2d5077f1"
      },
      "execution_count": 228,
      "outputs": [
        {
          "output_type": "display_data",
          "data": {
            "text/plain": [
              "<Figure size 640x480 with 2 Axes>"
            ],
            "image/png": "[encoded data removed]"
          },
          "metadata": {}
        }
      ]
    },
    {
      "cell_type": "code",
      "source": [],
      "metadata": {
        "id": "UzGPwvb9wkOJ"
      },
      "execution_count": null,
      "outputs": []
    },
    {
      "cell_type": "code",
      "source": [],
      "metadata": {
        "id": "ms_oql7KwkSH"
      },
      "execution_count": null,
      "outputs": []
    },
    {
      "cell_type": "code",
      "source": [],
      "metadata": {
        "id": "ACZeLK-jwkVi"
      },
      "execution_count": null,
      "outputs": []
    },
    {
      "cell_type": "markdown",
      "source": [
        "# <span style=\"color:blue\">Step 7: Conclusion</span>\n",
        "\n",
        "## <span style=\"color:darkgreen\">Overview</span>\n",
        "In this final step, we summarize the results, reflect on the project, and discuss potential improvements for the Named Entity Recognition (NER) model.\n",
        "\n",
        "## <span style=\"color:darkorange\">Conclusion Points</span>\n",
        "- **Model Performance**: The CRF model demonstrated a robust ability to accurately identify named entities within the Dutch and Spanish datasets. Evaluation metrics, including precision, recall, and F1 scores, indicate a strong performance overall. For instance, high recall values suggest that the model successfully identifies a majority of true positive entities, while precision indicates the accuracy of those predictions.\n",
        "\n",
        "- **Challenges Encountered**: Throughout the project, we faced several challenges. One notable challenge was handling the variability in the datasets, particularly the differences in tokenization and labeling standards between Dutch and Spanish texts. Moreover, the presence of ambiguous entities, such as words that can function as different parts of speech, added complexity to the model's learning process.\n",
        "\n",
        "- **Future Improvements**:\n",
        "    - **Feature Engineering**: One of the most promising areas for improvement is feature engineering. While we extracted basic features like capitalization and digit presence, additional linguistic features such as part-of-speech tags or contextual embeddings from models like BERT could enhance the model's understanding of language nuances.\n",
        "    - **Hyperparameter Tuning**: Adjusting the hyperparameters of the CRF model could lead to improved performance. Exploring different optimization algorithms, regularization techniques, and maximum iterations can significantly impact the model's accuracy.\n",
        "    - **Exploring Alternative Models**: While CRFs are effective for sequence labeling tasks, experimenting with deep learning approaches, such as Long Short-Term Memory (LSTM) networks or Transformers, might yield better results. These models can capture more complex patterns in data and provide improved contextual understanding.\n",
        "    - **Cross-Lingual Transfer Learning**: Given the multilingual nature of the datasets, investigating cross-lingual transfer learning could be beneficial. Training on one language and fine-tuning the model on another can leverage the similarities between languages and improve overall performance.\n",
        "\n",
        "## <span style=\"color:darkgreen\">Final Thoughts</span>\n",
        "This project serves as a solid foundation for implementing Named Entity Recognition systems using Conditional Random Fields. It emphasizes the importance of feature extraction, data preprocessing, and thorough model evaluation in achieving accurate results. By identifying entities within unstructured text, we unlock valuable insights that can drive various applications, such as information retrieval, sentiment analysis, and automated customer support.\n",
        "\n",
        "Furthermore, the insights gained from this project underline the necessity for continuous improvement and adaptation in machine learning methodologies. As we refine our models and techniques, we contribute to the evolving landscape of natural language processing, enhancing our capability to understand and process human language effectively.\n",
        "\n",
        "In conclusion, while the current model shows promising results, there is significant potential for further advancements. Continued exploration in this field could lead to breakthroughs that make NER systems even more powerful and versatile in real-world applications."
      ],
      "metadata": {
        "id": "4npiynruxZPw"
      }
    }
  ]
}