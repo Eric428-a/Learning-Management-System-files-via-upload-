{
  "nbformat": 4,
  "nbformat_minor": 0,
  "metadata": {
    "colab": {
      "provenance": []
    },
    "kernelspec": {
      "name": "python3",
      "display_name": "Python 3"
    },
    "language_info": {
      "name": "python"
    }
  },
  "cells": [
    {
      "cell_type": "markdown",
      "source": [
        "**EXPLANATORY DATA ANALYSIS AND SOME POSSILE TASKS FROM THE BEAUTY.CSV DATASET**"
      ],
      "metadata": {
        "id": "lSXjjAOl0tWO"
      }
    },
    {
      "cell_type": "markdown",
      "source": [
        "# <font color=\"#4CAF50\"><b>Project Title: Beauty_csv EDA and Some Possible Tasks</b></font>\n",
        "\n",
        "---\n",
        "\n",
        "## <font color=\"#2196F3\"><b>Overview</b></font>\n",
        "\n",
        "The project aims to explore the Beauty dataset (`beauty.csv`) by conducting **Exploratory Data Analysis (EDA)** and performing **Predictive Modeling** and **Clustering Analysis** as potential tasks. EDA is carried out to clean the dataset, handle missing and duplicate values, check for outliers, and visualize data distributions. Following this, predictive tasks such as wage prediction using **Linear Regression** and union membership prediction using **Logistic Regression** are considered. Finally, a **K-Means Clustering** analysis explores demographic and socio-economic patterns.\n",
        "\n",
        "---\n",
        "\n",
        "## <font color=\"#FF5722\"><b>1. Data Exploration and Cleaning</b></font>\n",
        "\n",
        "### <font color=\"#FFC107\"><b>1.1 Data Inspection</b></font>\n",
        "- The dataset is first loaded and inspected using functions like `.head()`, `.info()`, and `.describe()` to get an overview of its structure, data types, and summary statistics.\n",
        "\n",
        "### <font color=\"#FFC107\"><b>1.2 Handling Missing Values</b></font>\n",
        "- Missing values in the dataset are filled using the mean of the respective columns. This ensures completeness for further analysis without significantly altering data distributions.\n",
        "\n",
        "### <font color=\"#FFC107\"><b>1.3 Removing Duplicates</b></font>\n",
        "- Duplicate entries in the dataset are checked and removed to prevent biases in analysis and modeling.\n",
        "\n",
        "---\n",
        "\n",
        "## <font color=\"#FF5722\"><b>2. Data Visualization</b></font>\n",
        "\n",
        "### <font color=\"#FFC107\"><b>2.1 Histogram Plots</b></font>\n",
        "- Histograms for each numerical column are generated to visualize data distributions. Kernel Density Estimation (KDE) is used to observe trends in the underlying data.\n",
        "- A summary histogram of all numerical features is also produced to further explore their distributions.\n",
        "\n",
        "### <font color=\"#FFC107\"><b>2.2 Correlation Heatmap</b></font>\n",
        "- A correlation heatmap is used to visualize pairwise relationships between numerical variables. This helps to understand which features might have strong linear relationships with each other.\n",
        "\n",
        "---\n",
        "\n",
        "## <font color=\"#FF5722\"><b>3. Data Preprocessing</b></font>\n",
        "\n",
        "### <font color=\"#FFC107\"><b>3.1 Categorical Variables</b></font>\n",
        "- Categorical variables are converted into dummy variables using `pd.get_dummies()` to facilitate machine learning modeling.\n",
        "\n",
        "### <font color=\"#FFC107\"><b>3.2 Outlier Detection</b></font>\n",
        "- Outliers are detected using the **Interquartile Range (IQR)** method, but this process is currently commented out for demonstration purposes.\n",
        "\n",
        "### <font color=\"#FFC107\"><b>3.3 Feature Scaling</b></font>\n",
        "- **StandardScaler** is applied to standardize features, ensuring that all variables have a mean of 0 and a standard deviation of 1, which is essential for many machine learning algorithms.\n",
        "\n",
        "---\n",
        "\n",
        "## <font color=\"#FF5722\"><b>4. Predictive Modeling: Wage Prediction</b></font>\n",
        "\n",
        "### <font color=\"#FFC107\"><b>4.1 Linear Regression</b></font>\n",
        "- **Objective:** Predict wage levels based on various independent variables.\n",
        "- The dataset is split into training and testing sets, with **Linear Regression** applied to predict wages. The model is evaluated using **Mean Squared Error (MSE)** as the primary metric.\n",
        "\n",
        "---\n",
        "\n",
        "## <font color=\"#FF5722\"><b>5. Predicting Union Membership</b></font>\n",
        "\n",
        "### <font color=\"#FFC107\"><b>5.1 Logistic Regression</b></font>\n",
        "- **Objective:** Predict whether an individual is a member of a union (binary classification task).\n",
        "- A **Logistic Regression** model is applied to predict union membership, and the model's performance is evaluated using **accuracy**, **classification report**, and **confusion matrix**. This allows for the assessment of how well the model performs in terms of precision, recall, and overall accuracy.\n",
        "\n",
        "---\n",
        "\n",
        "## <font color=\"#FF5722\"><b>6. Clustering Analysis: Socio-Economic Patterns</b></font>\n",
        "\n",
        "### <font color=\"#FFC107\"><b>6.1 K-Means Clustering</b></font>\n",
        "- **Objective:** Cluster individuals into groups based on socio-economic features (excluding wage).\n",
        "- The **Elbow Method** is used to determine the optimal number of clusters by plotting the inertia for a range of values for **K**. The optimal number of clusters is selected based on the elbow point in the plot.\n",
        "- The selected number of clusters is used to perform **K-Means Clustering**, and cluster labels are added to the dataset for further analysis.\n",
        "- The mean values for each cluster are calculated to analyze and interpret the cluster characteristics.\n",
        "\n",
        "---\n",
        "\n",
        "## <font color=\"#2196F3\"><b>Conclusion</b></font>\n",
        "The project successfully explored and cleaned the Beauty dataset through **EDA**, followed by two main predictive tasks:\n",
        "- **Linear Regression** to predict wage levels\n",
        "- **Logistic Regression** to predict union membership\n",
        "\n",
        "Additionally, a **K-Means Clustering** analysis was performed to explore socio-economic patterns among individuals in the dataset.\n",
        "\n",
        "This project serves as a solid foundation for further predictive modeling and clustering tasks that could be performed with this dataset.\n",
        "\n",
        "---\n",
        "\n",
        "**<font color=\"#D32F2F\">Note:</font>**\n",
        "- Ensure that **StandardScaler** is applied only after splitting the dataset into training and testing sets to avoid data leakage.\n",
        "- While filling missing values with the mean is a common approach, alternative imputation techniques, such as **K-Nearest Neighbors** or **Regression Imputation**, could be explored for better results.\n",
        "- Model tuning, such as hyperparameter optimization, can be conducted in the future to further improve performance.\n",
        "\n",
        "---\n",
        "\n",
        "**References**:\n",
        "- Documentation from [Pandas](https://pandas.pydata.org/), [Seaborn](https://seaborn.pydata.org/), and [Scikit-learn](https://scikit-learn.org/stable/) were used for data manipulation, visualization, and machine learning tasks."
      ],
      "metadata": {
        "id": "BB3CuXiOcJ1Z"
      }
    },
    {
      "cell_type": "code",
      "source": [],
      "metadata": {
        "id": "-st6ujpgcVxX"
      },
      "execution_count": null,
      "outputs": []
    },
    {
      "cell_type": "code",
      "source": [],
      "metadata": {
        "id": "yPr1KxDBcV6H"
      },
      "execution_count": null,
      "outputs": []
    },
    {
      "cell_type": "code",
      "source": [],
      "metadata": {
        "id": "T6wSLvo3cW9h"
      },
      "execution_count": null,
      "outputs": []
    },
    {
      "cell_type": "markdown",
      "source": [
        "# <font color=\"#4CAF50\"><b>Importing the Libraries</b></font>\n",
        "\n",
        "## <font color=\"#2196F3\"><b>Essential Libraries</b></font>\n",
        "- **Note:** In this step, we import the necessary libraries required for data exploration, visualization, and modeling. Some of the key libraries include:\n",
        "  - **Pandas:** For data manipulation and analysis.\n",
        "  - **NumPy:** For numerical operations and handling arrays.\n",
        "  - **Matplotlib/Seaborn:** For data visualization to generate plots, graphs, and heatmaps.\n",
        "  - **Scikit-learn:** For machine learning tasks like data preprocessing, model building, and evaluation.\n",
        "  - **Other Libraries:** Depending on the specific tasks ahead, additional libraries such as `statsmodels`, `scipy`, or `xgboost` may be required later.\n",
        "\n",
        "## <font color=\"#2196F3\"><b>Version Checking (Optional)</b></font>\n",
        "- **Note:** Checking the version of each library ensures compatibility and allows you to maintain consistency across different development environments. It's especially useful if you encounter any unexpected behavior or need to debug issues related to library updates."
      ],
      "metadata": {
        "id": "b7cKOhVpcXbv"
      }
    },
    {
      "cell_type": "code",
      "source": [
        "# Import Necessary Libraries"
      ],
      "metadata": {
        "id": "DKepzOXvg74c"
      },
      "execution_count": null,
      "outputs": []
    },
    {
      "cell_type": "code",
      "source": [
        "import pandas as pd  # Importing pandas library for data manipulation"
      ],
      "metadata": {
        "id": "s4PgsH-Q0a7r"
      },
      "execution_count": null,
      "outputs": []
    },
    {
      "cell_type": "code",
      "source": [
        "import numpy as np  # Importing numpy library for numerical operations"
      ],
      "metadata": {
        "id": "DYol5fHPhBAd"
      },
      "execution_count": null,
      "outputs": []
    },
    {
      "cell_type": "code",
      "source": [
        "import matplotlib.pyplot as plt  # Importing matplotlib library for data visualization"
      ],
      "metadata": {
        "id": "6t2S7_PJhBEC"
      },
      "execution_count": null,
      "outputs": []
    },
    {
      "cell_type": "code",
      "source": [
        "import seaborn as sns  # Importing seaborn library for enhanced data visualization"
      ],
      "metadata": {
        "id": "PEvQgt5ohGO0"
      },
      "execution_count": null,
      "outputs": []
    },
    {
      "cell_type": "code",
      "source": [],
      "metadata": {
        "id": "_t04zjushGR3"
      },
      "execution_count": null,
      "outputs": []
    },
    {
      "cell_type": "code",
      "source": [],
      "metadata": {
        "id": "tx5tsVRBciNP"
      },
      "execution_count": null,
      "outputs": []
    },
    {
      "cell_type": "code",
      "source": [],
      "metadata": {
        "id": "nlaNIxuOciRJ"
      },
      "execution_count": null,
      "outputs": []
    },
    {
      "cell_type": "markdown",
      "source": [
        "# <font color=\"#4CAF50\"><b>Step 1: Data Exploration and Cleaning</b></font>\n",
        "\n",
        "## <font color=\"#2196F3\"><b>1.1 Data Inspection</b></font>\n",
        "- **Note:** The dataset should first be inspected to understand its structure, data types, and potential issues. This helps to identify missing values, incorrect data types, and provides a general overview of how the dataset looks before diving into any specific analysis.\n",
        "\n",
        "## <font color=\"#2196F3\"><b>1.2 Handling Missing Values</b></font>\n",
        "- **Note:** Missing values can distort the results of analyses and machine learning models. In this step, mean imputation is used to handle missing numerical values, ensuring no data points are dropped unnecessarily. Consider using more advanced imputation techniques like KNN or regression imputation for better results in future iterations.\n",
        "\n",
        "## <font color=\"#2196F3\"><b>1.3 Removing Duplicates</b></font>\n",
        "- **Note:** Duplicates can skew analysis results by over-representing some data points. Therefore, removing duplicates is critical in preparing the dataset for accurate analysis. Check the dataset for identical rows and remove them to maintain the integrity of the dataset."
      ],
      "metadata": {
        "id": "M9845le9cl7H"
      }
    },
    {
      "cell_type": "code",
      "source": [
        "# Load the Data"
      ],
      "metadata": {
        "id": "iC-X5JKQ0a9_"
      },
      "execution_count": null,
      "outputs": []
    },
    {
      "cell_type": "code",
      "source": [
        "df = pd.read_csv('/content/beauty.csv')  # Loading the dataset from the provided file path"
      ],
      "metadata": {
        "id": "7cPKB_Y50bCR"
      },
      "execution_count": null,
      "outputs": []
    },
    {
      "cell_type": "code",
      "source": [],
      "metadata": {
        "id": "c7y1JkWnhane"
      },
      "execution_count": null,
      "outputs": []
    },
    {
      "cell_type": "code",
      "source": [
        "# Inspect the Data"
      ],
      "metadata": {
        "id": "VF_vxHkwha1Q"
      },
      "execution_count": null,
      "outputs": []
    },
    {
      "cell_type": "code",
      "source": [
        "df.head()  # Displaying the first few rows of the dataset to understand its structure and contents"
      ],
      "metadata": {
        "id": "eTuYxU1h0bGW",
        "colab": {
          "base_uri": "https://localhost:8080/",
          "height": 206
        },
        "outputId": "5df13657-81c1-4a59-da6c-3260a898476b"
      },
      "execution_count": null,
      "outputs": [
        {
          "output_type": "execute_result",
          "data": {
            "text/plain": [
              "    wage  exper  union  goodhlth  black  female  married  service  educ  looks\n",
              "0   5.73     30      0         1      0       1        1        1    14      4\n",
              "1   4.28     28      0         1      0       1        1        0    12      3\n",
              "2   7.96     35      0         1      0       1        0        0    10      4\n",
              "3  11.57     38      0         1      0       0        1        1    16      3\n",
              "4  11.42     27      0         1      0       0        1        0    16      3"
            ],
            "text/html": [
              "\n",
              "  <div id=\"df-04b9315d-fe8e-46d0-8311-ec5ba13adf24\" class=\"colab-df-container\">\n",
              "    <div>\n",
              "<style scoped>\n",
              "    .dataframe tbody tr th:only-of-type {\n",
              "        vertical-align: middle;\n",
              "    }\n",
              "\n",
              "    .dataframe tbody tr th {\n",
              "        vertical-align: top;\n",
              "    }\n",
              "\n",
              "    .dataframe thead th {\n",
              "        text-align: right;\n",
              "    }\n",
              "</style>\n",
              "<table border=\"1\" class=\"dataframe\">\n",
              "  <thead>\n",
              "    <tr style=\"text-align: right;\">\n",
              "      <th></th>\n",
              "      <th>wage</th>\n",
              "      <th>exper</th>\n",
              "      <th>union</th>\n",
              "      <th>goodhlth</th>\n",
              "      <th>black</th>\n",
              "      <th>female</th>\n",
              "      <th>married</th>\n",
              "      <th>service</th>\n",
              "      <th>educ</th>\n",
              "      <th>looks</th>\n",
              "    </tr>\n",
              "  </thead>\n",
              "  <tbody>\n",
              "    <tr>\n",
              "      <th>0</th>\n",
              "      <td>5.73</td>\n",
              "      <td>30</td>\n",
              "      <td>0</td>\n",
              "      <td>1</td>\n",
              "      <td>0</td>\n",
              "      <td>1</td>\n",
              "      <td>1</td>\n",
              "      <td>1</td>\n",
              "      <td>14</td>\n",
              "      <td>4</td>\n",
              "    </tr>\n",
              "    <tr>\n",
              "      <th>1</th>\n",
              "      <td>4.28</td>\n",
              "      <td>28</td>\n",
              "      <td>0</td>\n",
              "      <td>1</td>\n",
              "      <td>0</td>\n",
              "      <td>1</td>\n",
              "      <td>1</td>\n",
              "      <td>0</td>\n",
              "      <td>12</td>\n",
              "      <td>3</td>\n",
              "    </tr>\n",
              "    <tr>\n",
              "      <th>2</th>\n",
              "      <td>7.96</td>\n",
              "      <td>35</td>\n",
              "      <td>0</td>\n",
              "      <td>1</td>\n",
              "      <td>0</td>\n",
              "      <td>1</td>\n",
              "      <td>0</td>\n",
              "      <td>0</td>\n",
              "      <td>10</td>\n",
              "      <td>4</td>\n",
              "    </tr>\n",
              "    <tr>\n",
              "      <th>3</th>\n",
              "      <td>11.57</td>\n",
              "      <td>38</td>\n",
              "      <td>0</td>\n",
              "      <td>1</td>\n",
              "      <td>0</td>\n",
              "      <td>0</td>\n",
              "      <td>1</td>\n",
              "      <td>1</td>\n",
              "      <td>16</td>\n",
              "      <td>3</td>\n",
              "    </tr>\n",
              "    <tr>\n",
              "      <th>4</th>\n",
              "      <td>11.42</td>\n",
              "      <td>27</td>\n",
              "      <td>0</td>\n",
              "      <td>1</td>\n",
              "      <td>0</td>\n",
              "      <td>0</td>\n",
              "      <td>1</td>\n",
              "      <td>0</td>\n",
              "      <td>16</td>\n",
              "      <td>3</td>\n",
              "    </tr>\n",
              "  </tbody>\n",
              "</table>\n",
              "</div>\n",
              "    <div class=\"colab-df-buttons\">\n",
              "\n",
              "  <div class=\"colab-df-container\">\n",
              "    <button class=\"colab-df-convert\" onclick=\"convertToInteractive('df-04b9315d-fe8e-46d0-8311-ec5ba13adf24')\"\n",
              "            title=\"Convert this dataframe to an interactive table.\"\n",
              "            style=\"display:none;\">\n",
              "\n",
              "  <svg xmlns=\"http://www.w3.org/2000/svg\" height=\"24px\" viewBox=\"0 -960 960 960\">\n",
              "    <path d=\"M120-120v-720h720v720H120Zm60-500h600v-160H180v160Zm220 220h160v-160H400v160Zm0 220h160v-160H400v160ZM180-400h160v-160H180v160Zm440 0h160v-160H620v160ZM180-180h160v-160H180v160Zm440 0h160v-160H620v160Z\"/>\n",
              "  </svg>\n",
              "    </button>\n",
              "\n",
              "  <style>\n",
              "    .colab-df-container {\n",
              "      display:flex;\n",
              "      gap: 12px;\n",
              "    }\n",
              "\n",
              "    .colab-df-convert {\n",
              "      background-color: #E8F0FE;\n",
              "      border: none;\n",
              "      border-radius: 50%;\n",
              "      cursor: pointer;\n",
              "      display: none;\n",
              "      fill: #1967D2;\n",
              "      height: 32px;\n",
              "      padding: 0 0 0 0;\n",
              "      width: 32px;\n",
              "    }\n",
              "\n",
              "    .colab-df-convert:hover {\n",
              "      background-color: #E2EBFA;\n",
              "      box-shadow: 0px 1px 2px rgba(60, 64, 67, 0.3), 0px 1px 3px 1px rgba(60, 64, 67, 0.15);\n",
              "      fill: #174EA6;\n",
              "    }\n",
              "\n",
              "    .colab-df-buttons div {\n",
              "      margin-bottom: 4px;\n",
              "    }\n",
              "\n",
              "    [theme=dark] .colab-df-convert {\n",
              "      background-color: #3B4455;\n",
              "      fill: #D2E3FC;\n",
              "    }\n",
              "\n",
              "    [theme=dark] .colab-df-convert:hover {\n",
              "      background-color: #434B5C;\n",
              "      box-shadow: 0px 1px 3px 1px rgba(0, 0, 0, 0.15);\n",
              "      filter: drop-shadow(0px 1px 2px rgba(0, 0, 0, 0.3));\n",
              "      fill: #FFFFFF;\n",
              "    }\n",
              "  </style>\n",
              "\n",
              "    <script>\n",
              "      const buttonEl =\n",
              "        document.querySelector('#df-04b9315d-fe8e-46d0-8311-ec5ba13adf24 button.colab-df-convert');\n",
              "      buttonEl.style.display =\n",
              "        google.colab.kernel.accessAllowed ? 'block' : 'none';\n",
              "\n",
              "      async function convertToInteractive(key) {\n",
              "        const element = document.querySelector('#df-04b9315d-fe8e-46d0-8311-ec5ba13adf24');\n",
              "        const dataTable =\n",
              "          await google.colab.kernel.invokeFunction('convertToInteractive',\n",
              "                                                    [key], {});\n",
              "        if (!dataTable) return;\n",
              "\n",
              "        const docLinkHtml = 'Like what you see? Visit the ' +\n",
              "          '<a target=\"_blank\" href=https://colab.research.google.com/notebooks/data_table.ipynb>data table notebook</a>'\n",
              "          + ' to learn more about interactive tables.';\n",
              "        element.innerHTML = '';\n",
              "        dataTable['output_type'] = 'display_data';\n",
              "        await google.colab.output.renderOutput(dataTable, element);\n",
              "        const docLink = document.createElement('div');\n",
              "        docLink.innerHTML = docLinkHtml;\n",
              "        element.appendChild(docLink);\n",
              "      }\n",
              "    </script>\n",
              "  </div>\n",
              "\n",
              "\n",
              "<div id=\"df-d7712b75-eb64-4ee9-9161-3e25d589d8d2\">\n",
              "  <button class=\"colab-df-quickchart\" onclick=\"quickchart('df-d7712b75-eb64-4ee9-9161-3e25d589d8d2')\"\n",
              "            title=\"Suggest charts\"\n",
              "            style=\"display:none;\">\n",
              "\n",
              "<svg xmlns=\"http://www.w3.org/2000/svg\" height=\"24px\"viewBox=\"0 0 24 24\"\n",
              "     width=\"24px\">\n",
              "    <g>\n",
              "        <path d=\"M19 3H5c-1.1 0-2 .9-2 2v14c0 1.1.9 2 2 2h14c1.1 0 2-.9 2-2V5c0-1.1-.9-2-2-2zM9 17H7v-7h2v7zm4 0h-2V7h2v10zm4 0h-2v-4h2v4z\"/>\n",
              "    </g>\n",
              "</svg>\n",
              "  </button>\n",
              "\n",
              "<style>\n",
              "  .colab-df-quickchart {\n",
              "      --bg-color: #E8F0FE;\n",
              "      --fill-color: #1967D2;\n",
              "      --hover-bg-color: #E2EBFA;\n",
              "      --hover-fill-color: #174EA6;\n",
              "      --disabled-fill-color: #AAA;\n",
              "      --disabled-bg-color: #DDD;\n",
              "  }\n",
              "\n",
              "  [theme=dark] .colab-df-quickchart {\n",
              "      --bg-color: #3B4455;\n",
              "      --fill-color: #D2E3FC;\n",
              "      --hover-bg-color: #434B5C;\n",
              "      --hover-fill-color: #FFFFFF;\n",
              "      --disabled-bg-color: #3B4455;\n",
              "      --disabled-fill-color: #666;\n",
              "  }\n",
              "\n",
              "  .colab-df-quickchart {\n",
              "    background-color: var(--bg-color);\n",
              "    border: none;\n",
              "    border-radius: 50%;\n",
              "    cursor: pointer;\n",
              "    display: none;\n",
              "    fill: var(--fill-color);\n",
              "    height: 32px;\n",
              "    padding: 0;\n",
              "    width: 32px;\n",
              "  }\n",
              "\n",
              "  .colab-df-quickchart:hover {\n",
              "    background-color: var(--hover-bg-color);\n",
              "    box-shadow: 0 1px 2px rgba(60, 64, 67, 0.3), 0 1px 3px 1px rgba(60, 64, 67, 0.15);\n",
              "    fill: var(--button-hover-fill-color);\n",
              "  }\n",
              "\n",
              "  .colab-df-quickchart-complete:disabled,\n",
              "  .colab-df-quickchart-complete:disabled:hover {\n",
              "    background-color: var(--disabled-bg-color);\n",
              "    fill: var(--disabled-fill-color);\n",
              "    box-shadow: none;\n",
              "  }\n",
              "\n",
              "  .colab-df-spinner {\n",
              "    border: 2px solid var(--fill-color);\n",
              "    border-color: transparent;\n",
              "    border-bottom-color: var(--fill-color);\n",
              "    animation:\n",
              "      spin 1s steps(1) infinite;\n",
              "  }\n",
              "\n",
              "  @keyframes spin {\n",
              "    0% {\n",
              "      border-color: transparent;\n",
              "      border-bottom-color: var(--fill-color);\n",
              "      border-left-color: var(--fill-color);\n",
              "    }\n",
              "    20% {\n",
              "      border-color: transparent;\n",
              "      border-left-color: var(--fill-color);\n",
              "      border-top-color: var(--fill-color);\n",
              "    }\n",
              "    30% {\n",
              "      border-color: transparent;\n",
              "      border-left-color: var(--fill-color);\n",
              "      border-top-color: var(--fill-color);\n",
              "      border-right-color: var(--fill-color);\n",
              "    }\n",
              "    40% {\n",
              "      border-color: transparent;\n",
              "      border-right-color: var(--fill-color);\n",
              "      border-top-color: var(--fill-color);\n",
              "    }\n",
              "    60% {\n",
              "      border-color: transparent;\n",
              "      border-right-color: var(--fill-color);\n",
              "    }\n",
              "    80% {\n",
              "      border-color: transparent;\n",
              "      border-right-color: var(--fill-color);\n",
              "      border-bottom-color: var(--fill-color);\n",
              "    }\n",
              "    90% {\n",
              "      border-color: transparent;\n",
              "      border-bottom-color: var(--fill-color);\n",
              "    }\n",
              "  }\n",
              "</style>\n",
              "\n",
              "  <script>\n",
              "    async function quickchart(key) {\n",
              "      const quickchartButtonEl =\n",
              "        document.querySelector('#' + key + ' button');\n",
              "      quickchartButtonEl.disabled = true;  // To prevent multiple clicks.\n",
              "      quickchartButtonEl.classList.add('colab-df-spinner');\n",
              "      try {\n",
              "        const charts = await google.colab.kernel.invokeFunction(\n",
              "            'suggestCharts', [key], {});\n",
              "      } catch (error) {\n",
              "        console.error('Error during call to suggestCharts:', error);\n",
              "      }\n",
              "      quickchartButtonEl.classList.remove('colab-df-spinner');\n",
              "      quickchartButtonEl.classList.add('colab-df-quickchart-complete');\n",
              "    }\n",
              "    (() => {\n",
              "      let quickchartButtonEl =\n",
              "        document.querySelector('#df-d7712b75-eb64-4ee9-9161-3e25d589d8d2 button');\n",
              "      quickchartButtonEl.style.display =\n",
              "        google.colab.kernel.accessAllowed ? 'block' : 'none';\n",
              "    })();\n",
              "  </script>\n",
              "</div>\n",
              "\n",
              "    </div>\n",
              "  </div>\n"
            ],
            "application/vnd.google.colaboratory.intrinsic+json": {
              "type": "dataframe",
              "variable_name": "df",
              "summary": "{\n  \"name\": \"df\",\n  \"rows\": 1260,\n  \"fields\": [\n    {\n      \"column\": \"wage\",\n      \"properties\": {\n        \"dtype\": \"number\",\n        \"std\": 4.660639037142856,\n        \"min\": 1.02,\n        \"max\": 77.72,\n        \"num_unique_values\": 520,\n        \"samples\": [\n          7.63,\n          3.37,\n          8.76\n        ],\n        \"semantic_type\": \"\",\n        \"description\": \"\"\n      }\n    },\n    {\n      \"column\": \"exper\",\n      \"properties\": {\n        \"dtype\": \"number\",\n        \"std\": 11,\n        \"min\": 0,\n        \"max\": 48,\n        \"num_unique_values\": 49,\n        \"samples\": [\n          7,\n          45,\n          47\n        ],\n        \"semantic_type\": \"\",\n        \"description\": \"\"\n      }\n    },\n    {\n      \"column\": \"union\",\n      \"properties\": {\n        \"dtype\": \"number\",\n        \"std\": 0,\n        \"min\": 0,\n        \"max\": 1,\n        \"num_unique_values\": 2,\n        \"samples\": [\n          1,\n          0\n        ],\n        \"semantic_type\": \"\",\n        \"description\": \"\"\n      }\n    },\n    {\n      \"column\": \"goodhlth\",\n      \"properties\": {\n        \"dtype\": \"number\",\n        \"std\": 0,\n        \"min\": 0,\n        \"max\": 1,\n        \"num_unique_values\": 2,\n        \"samples\": [\n          0,\n          1\n        ],\n        \"semantic_type\": \"\",\n        \"description\": \"\"\n      }\n    },\n    {\n      \"column\": \"black\",\n      \"properties\": {\n        \"dtype\": \"number\",\n        \"std\": 0,\n        \"min\": 0,\n        \"max\": 1,\n        \"num_unique_values\": 2,\n        \"samples\": [\n          1,\n          0\n        ],\n        \"semantic_type\": \"\",\n        \"description\": \"\"\n      }\n    },\n    {\n      \"column\": \"female\",\n      \"properties\": {\n        \"dtype\": \"number\",\n        \"std\": 0,\n        \"min\": 0,\n        \"max\": 1,\n        \"num_unique_values\": 2,\n        \"samples\": [\n          0,\n          1\n        ],\n        \"semantic_type\": \"\",\n        \"description\": \"\"\n      }\n    },\n    {\n      \"column\": \"married\",\n      \"properties\": {\n        \"dtype\": \"number\",\n        \"std\": 0,\n        \"min\": 0,\n        \"max\": 1,\n        \"num_unique_values\": 2,\n        \"samples\": [\n          0,\n          1\n        ],\n        \"semantic_type\": \"\",\n        \"description\": \"\"\n      }\n    },\n    {\n      \"column\": \"service\",\n      \"properties\": {\n        \"dtype\": \"number\",\n        \"std\": 0,\n        \"min\": 0,\n        \"max\": 1,\n        \"num_unique_values\": 2,\n        \"samples\": [\n          0,\n          1\n        ],\n        \"semantic_type\": \"\",\n        \"description\": \"\"\n      }\n    },\n    {\n      \"column\": \"educ\",\n      \"properties\": {\n        \"dtype\": \"number\",\n        \"std\": 2,\n        \"min\": 5,\n        \"max\": 17,\n        \"num_unique_values\": 8,\n        \"samples\": [\n          12,\n          13\n        ],\n        \"semantic_type\": \"\",\n        \"description\": \"\"\n      }\n    },\n    {\n      \"column\": \"looks\",\n      \"properties\": {\n        \"dtype\": \"number\",\n        \"std\": 0,\n        \"min\": 1,\n        \"max\": 5,\n        \"num_unique_values\": 5,\n        \"samples\": [\n          3,\n          1\n        ],\n        \"semantic_type\": \"\",\n        \"description\": \"\"\n      }\n    }\n  ]\n}"
            }
          },
          "metadata": {},
          "execution_count": 10
        }
      ]
    },
    {
      "cell_type": "code",
      "source": [],
      "metadata": {
        "id": "pFrPzp3Vhi1x"
      },
      "execution_count": null,
      "outputs": []
    },
    {
      "cell_type": "code",
      "source": [],
      "metadata": {
        "id": "JvHpW79Ghi4_"
      },
      "execution_count": null,
      "outputs": []
    },
    {
      "cell_type": "code",
      "source": [
        "\n",
        "df.info()  # Providing an overview of the dataset including column names, data types, and non-null counts"
      ],
      "metadata": {
        "colab": {
          "base_uri": "https://localhost:8080/"
        },
        "id": "iZE0phFDhkA0",
        "outputId": "a71e60c8-8c0b-46df-f4b8-9af4efc15dc0"
      },
      "execution_count": null,
      "outputs": [
        {
          "output_type": "stream",
          "name": "stdout",
          "text": [
            "<class 'pandas.core.frame.DataFrame'>\n",
            "RangeIndex: 1260 entries, 0 to 1259\n",
            "Data columns (total 10 columns):\n",
            " #   Column    Non-Null Count  Dtype  \n",
            "---  ------    --------------  -----  \n",
            " 0   wage      1260 non-null   float64\n",
            " 1   exper     1260 non-null   int64  \n",
            " 2   union     1260 non-null   int64  \n",
            " 3   goodhlth  1260 non-null   int64  \n",
            " 4   black     1260 non-null   int64  \n",
            " 5   female    1260 non-null   int64  \n",
            " 6   married   1260 non-null   int64  \n",
            " 7   service   1260 non-null   int64  \n",
            " 8   educ      1260 non-null   int64  \n",
            " 9   looks     1260 non-null   int64  \n",
            "dtypes: float64(1), int64(9)\n",
            "memory usage: 98.6 KB\n"
          ]
        }
      ]
    },
    {
      "cell_type": "code",
      "source": [],
      "metadata": {
        "id": "WmcKwtvYhn2-"
      },
      "execution_count": null,
      "outputs": []
    },
    {
      "cell_type": "code",
      "source": [],
      "metadata": {
        "id": "9s4H2jNFhn6G"
      },
      "execution_count": null,
      "outputs": []
    },
    {
      "cell_type": "code",
      "source": [
        "df.describe()  # Generating summary statistics of numerical columns to gain insights into data distribution and potential outliers"
      ],
      "metadata": {
        "colab": {
          "base_uri": "https://localhost:8080/",
          "height": 300
        },
        "id": "rss3CtJc0bN4",
        "outputId": "5ed7ae96-32d9-44fe-e57b-8c8b541b6388"
      },
      "execution_count": null,
      "outputs": [
        {
          "output_type": "execute_result",
          "data": {
            "text/plain": [
              "              wage        exper        union     goodhlth        black  \\\n",
              "count  1260.000000  1260.000000  1260.000000  1260.000000  1260.000000   \n",
              "mean      6.306690    18.206349     0.272222     0.933333     0.073810   \n",
              "std       4.660639    11.963485     0.445280     0.249543     0.261564   \n",
              "min       1.020000     0.000000     0.000000     0.000000     0.000000   \n",
              "25%       3.707500     8.000000     0.000000     1.000000     0.000000   \n",
              "50%       5.300000    15.000000     0.000000     1.000000     0.000000   \n",
              "75%       7.695000    27.000000     1.000000     1.000000     0.000000   \n",
              "max      77.720000    48.000000     1.000000     1.000000     1.000000   \n",
              "\n",
              "            female      married      service         educ        looks  \n",
              "count  1260.000000  1260.000000  1260.000000  1260.000000  1260.000000  \n",
              "mean      0.346032     0.691270     0.273810    12.563492     3.185714  \n",
              "std       0.475892     0.462153     0.446089     2.624489     0.684877  \n",
              "min       0.000000     0.000000     0.000000     5.000000     1.000000  \n",
              "25%       0.000000     0.000000     0.000000    12.000000     3.000000  \n",
              "50%       0.000000     1.000000     0.000000    12.000000     3.000000  \n",
              "75%       1.000000     1.000000     1.000000    13.000000     4.000000  \n",
              "max       1.000000     1.000000     1.000000    17.000000     5.000000  "
            ],
            "text/html": [
              "\n",
              "  <div id=\"df-1e582313-e215-4971-8143-d3360f7df2a7\" class=\"colab-df-container\">\n",
              "    <div>\n",
              "<style scoped>\n",
              "    .dataframe tbody tr th:only-of-type {\n",
              "        vertical-align: middle;\n",
              "    }\n",
              "\n",
              "    .dataframe tbody tr th {\n",
              "        vertical-align: top;\n",
              "    }\n",
              "\n",
              "    .dataframe thead th {\n",
              "        text-align: right;\n",
              "    }\n",
              "</style>\n",
              "<table border=\"1\" class=\"dataframe\">\n",
              "  <thead>\n",
              "    <tr style=\"text-align: right;\">\n",
              "      <th></th>\n",
              "      <th>wage</th>\n",
              "      <th>exper</th>\n",
              "      <th>union</th>\n",
              "      <th>goodhlth</th>\n",
              "      <th>black</th>\n",
              "      <th>female</th>\n",
              "      <th>married</th>\n",
              "      <th>service</th>\n",
              "      <th>educ</th>\n",
              "      <th>looks</th>\n",
              "    </tr>\n",
              "  </thead>\n",
              "  <tbody>\n",
              "    <tr>\n",
              "      <th>count</th>\n",
              "      <td>1260.000000</td>\n",
              "      <td>1260.000000</td>\n",
              "      <td>1260.000000</td>\n",
              "      <td>1260.000000</td>\n",
              "      <td>1260.000000</td>\n",
              "      <td>1260.000000</td>\n",
              "      <td>1260.000000</td>\n",
              "      <td>1260.000000</td>\n",
              "      <td>1260.000000</td>\n",
              "      <td>1260.000000</td>\n",
              "    </tr>\n",
              "    <tr>\n",
              "      <th>mean</th>\n",
              "      <td>6.306690</td>\n",
              "      <td>18.206349</td>\n",
              "      <td>0.272222</td>\n",
              "      <td>0.933333</td>\n",
              "      <td>0.073810</td>\n",
              "      <td>0.346032</td>\n",
              "      <td>0.691270</td>\n",
              "      <td>0.273810</td>\n",
              "      <td>12.563492</td>\n",
              "      <td>3.185714</td>\n",
              "    </tr>\n",
              "    <tr>\n",
              "      <th>std</th>\n",
              "      <td>4.660639</td>\n",
              "      <td>11.963485</td>\n",
              "      <td>0.445280</td>\n",
              "      <td>0.249543</td>\n",
              "      <td>0.261564</td>\n",
              "      <td>0.475892</td>\n",
              "      <td>0.462153</td>\n",
              "      <td>0.446089</td>\n",
              "      <td>2.624489</td>\n",
              "      <td>0.684877</td>\n",
              "    </tr>\n",
              "    <tr>\n",
              "      <th>min</th>\n",
              "      <td>1.020000</td>\n",
              "      <td>0.000000</td>\n",
              "      <td>0.000000</td>\n",
              "      <td>0.000000</td>\n",
              "      <td>0.000000</td>\n",
              "      <td>0.000000</td>\n",
              "      <td>0.000000</td>\n",
              "      <td>0.000000</td>\n",
              "      <td>5.000000</td>\n",
              "      <td>1.000000</td>\n",
              "    </tr>\n",
              "    <tr>\n",
              "      <th>25%</th>\n",
              "      <td>3.707500</td>\n",
              "      <td>8.000000</td>\n",
              "      <td>0.000000</td>\n",
              "      <td>1.000000</td>\n",
              "      <td>0.000000</td>\n",
              "      <td>0.000000</td>\n",
              "      <td>0.000000</td>\n",
              "      <td>0.000000</td>\n",
              "      <td>12.000000</td>\n",
              "      <td>3.000000</td>\n",
              "    </tr>\n",
              "    <tr>\n",
              "      <th>50%</th>\n",
              "      <td>5.300000</td>\n",
              "      <td>15.000000</td>\n",
              "      <td>0.000000</td>\n",
              "      <td>1.000000</td>\n",
              "      <td>0.000000</td>\n",
              "      <td>0.000000</td>\n",
              "      <td>1.000000</td>\n",
              "      <td>0.000000</td>\n",
              "      <td>12.000000</td>\n",
              "      <td>3.000000</td>\n",
              "    </tr>\n",
              "    <tr>\n",
              "      <th>75%</th>\n",
              "      <td>7.695000</td>\n",
              "      <td>27.000000</td>\n",
              "      <td>1.000000</td>\n",
              "      <td>1.000000</td>\n",
              "      <td>0.000000</td>\n",
              "      <td>1.000000</td>\n",
              "      <td>1.000000</td>\n",
              "      <td>1.000000</td>\n",
              "      <td>13.000000</td>\n",
              "      <td>4.000000</td>\n",
              "    </tr>\n",
              "    <tr>\n",
              "      <th>max</th>\n",
              "      <td>77.720000</td>\n",
              "      <td>48.000000</td>\n",
              "      <td>1.000000</td>\n",
              "      <td>1.000000</td>\n",
              "      <td>1.000000</td>\n",
              "      <td>1.000000</td>\n",
              "      <td>1.000000</td>\n",
              "      <td>1.000000</td>\n",
              "      <td>17.000000</td>\n",
              "      <td>5.000000</td>\n",
              "    </tr>\n",
              "  </tbody>\n",
              "</table>\n",
              "</div>\n",
              "    <div class=\"colab-df-buttons\">\n",
              "\n",
              "  <div class=\"colab-df-container\">\n",
              "    <button class=\"colab-df-convert\" onclick=\"convertToInteractive('df-1e582313-e215-4971-8143-d3360f7df2a7')\"\n",
              "            title=\"Convert this dataframe to an interactive table.\"\n",
              "            style=\"display:none;\">\n",
              "\n",
              "  <svg xmlns=\"http://www.w3.org/2000/svg\" height=\"24px\" viewBox=\"0 -960 960 960\">\n",
              "    <path d=\"M120-120v-720h720v720H120Zm60-500h600v-160H180v160Zm220 220h160v-160H400v160Zm0 220h160v-160H400v160ZM180-400h160v-160H180v160Zm440 0h160v-160H620v160ZM180-180h160v-160H180v160Zm440 0h160v-160H620v160Z\"/>\n",
              "  </svg>\n",
              "    </button>\n",
              "\n",
              "  <style>\n",
              "    .colab-df-container {\n",
              "      display:flex;\n",
              "      gap: 12px;\n",
              "    }\n",
              "\n",
              "    .colab-df-convert {\n",
              "      background-color: #E8F0FE;\n",
              "      border: none;\n",
              "      border-radius: 50%;\n",
              "      cursor: pointer;\n",
              "      display: none;\n",
              "      fill: #1967D2;\n",
              "      height: 32px;\n",
              "      padding: 0 0 0 0;\n",
              "      width: 32px;\n",
              "    }\n",
              "\n",
              "    .colab-df-convert:hover {\n",
              "      background-color: #E2EBFA;\n",
              "      box-shadow: 0px 1px 2px rgba(60, 64, 67, 0.3), 0px 1px 3px 1px rgba(60, 64, 67, 0.15);\n",
              "      fill: #174EA6;\n",
              "    }\n",
              "\n",
              "    .colab-df-buttons div {\n",
              "      margin-bottom: 4px;\n",
              "    }\n",
              "\n",
              "    [theme=dark] .colab-df-convert {\n",
              "      background-color: #3B4455;\n",
              "      fill: #D2E3FC;\n",
              "    }\n",
              "\n",
              "    [theme=dark] .colab-df-convert:hover {\n",
              "      background-color: #434B5C;\n",
              "      box-shadow: 0px 1px 3px 1px rgba(0, 0, 0, 0.15);\n",
              "      filter: drop-shadow(0px 1px 2px rgba(0, 0, 0, 0.3));\n",
              "      fill: #FFFFFF;\n",
              "    }\n",
              "  </style>\n",
              "\n",
              "    <script>\n",
              "      const buttonEl =\n",
              "        document.querySelector('#df-1e582313-e215-4971-8143-d3360f7df2a7 button.colab-df-convert');\n",
              "      buttonEl.style.display =\n",
              "        google.colab.kernel.accessAllowed ? 'block' : 'none';\n",
              "\n",
              "      async function convertToInteractive(key) {\n",
              "        const element = document.querySelector('#df-1e582313-e215-4971-8143-d3360f7df2a7');\n",
              "        const dataTable =\n",
              "          await google.colab.kernel.invokeFunction('convertToInteractive',\n",
              "                                                    [key], {});\n",
              "        if (!dataTable) return;\n",
              "\n",
              "        const docLinkHtml = 'Like what you see? Visit the ' +\n",
              "          '<a target=\"_blank\" href=https://colab.research.google.com/notebooks/data_table.ipynb>data table notebook</a>'\n",
              "          + ' to learn more about interactive tables.';\n",
              "        element.innerHTML = '';\n",
              "        dataTable['output_type'] = 'display_data';\n",
              "        await google.colab.output.renderOutput(dataTable, element);\n",
              "        const docLink = document.createElement('div');\n",
              "        docLink.innerHTML = docLinkHtml;\n",
              "        element.appendChild(docLink);\n",
              "      }\n",
              "    </script>\n",
              "  </div>\n",
              "\n",
              "\n",
              "<div id=\"df-25e409a7-8097-4927-9fb7-ffac8ac78898\">\n",
              "  <button class=\"colab-df-quickchart\" onclick=\"quickchart('df-25e409a7-8097-4927-9fb7-ffac8ac78898')\"\n",
              "            title=\"Suggest charts\"\n",
              "            style=\"display:none;\">\n",
              "\n",
              "<svg xmlns=\"http://www.w3.org/2000/svg\" height=\"24px\"viewBox=\"0 0 24 24\"\n",
              "     width=\"24px\">\n",
              "    <g>\n",
              "        <path d=\"M19 3H5c-1.1 0-2 .9-2 2v14c0 1.1.9 2 2 2h14c1.1 0 2-.9 2-2V5c0-1.1-.9-2-2-2zM9 17H7v-7h2v7zm4 0h-2V7h2v10zm4 0h-2v-4h2v4z\"/>\n",
              "    </g>\n",
              "</svg>\n",
              "  </button>\n",
              "\n",
              "<style>\n",
              "  .colab-df-quickchart {\n",
              "      --bg-color: #E8F0FE;\n",
              "      --fill-color: #1967D2;\n",
              "      --hover-bg-color: #E2EBFA;\n",
              "      --hover-fill-color: #174EA6;\n",
              "      --disabled-fill-color: #AAA;\n",
              "      --disabled-bg-color: #DDD;\n",
              "  }\n",
              "\n",
              "  [theme=dark] .colab-df-quickchart {\n",
              "      --bg-color: #3B4455;\n",
              "      --fill-color: #D2E3FC;\n",
              "      --hover-bg-color: #434B5C;\n",
              "      --hover-fill-color: #FFFFFF;\n",
              "      --disabled-bg-color: #3B4455;\n",
              "      --disabled-fill-color: #666;\n",
              "  }\n",
              "\n",
              "  .colab-df-quickchart {\n",
              "    background-color: var(--bg-color);\n",
              "    border: none;\n",
              "    border-radius: 50%;\n",
              "    cursor: pointer;\n",
              "    display: none;\n",
              "    fill: var(--fill-color);\n",
              "    height: 32px;\n",
              "    padding: 0;\n",
              "    width: 32px;\n",
              "  }\n",
              "\n",
              "  .colab-df-quickchart:hover {\n",
              "    background-color: var(--hover-bg-color);\n",
              "    box-shadow: 0 1px 2px rgba(60, 64, 67, 0.3), 0 1px 3px 1px rgba(60, 64, 67, 0.15);\n",
              "    fill: var(--button-hover-fill-color);\n",
              "  }\n",
              "\n",
              "  .colab-df-quickchart-complete:disabled,\n",
              "  .colab-df-quickchart-complete:disabled:hover {\n",
              "    background-color: var(--disabled-bg-color);\n",
              "    fill: var(--disabled-fill-color);\n",
              "    box-shadow: none;\n",
              "  }\n",
              "\n",
              "  .colab-df-spinner {\n",
              "    border: 2px solid var(--fill-color);\n",
              "    border-color: transparent;\n",
              "    border-bottom-color: var(--fill-color);\n",
              "    animation:\n",
              "      spin 1s steps(1) infinite;\n",
              "  }\n",
              "\n",
              "  @keyframes spin {\n",
              "    0% {\n",
              "      border-color: transparent;\n",
              "      border-bottom-color: var(--fill-color);\n",
              "      border-left-color: var(--fill-color);\n",
              "    }\n",
              "    20% {\n",
              "      border-color: transparent;\n",
              "      border-left-color: var(--fill-color);\n",
              "      border-top-color: var(--fill-color);\n",
              "    }\n",
              "    30% {\n",
              "      border-color: transparent;\n",
              "      border-left-color: var(--fill-color);\n",
              "      border-top-color: var(--fill-color);\n",
              "      border-right-color: var(--fill-color);\n",
              "    }\n",
              "    40% {\n",
              "      border-color: transparent;\n",
              "      border-right-color: var(--fill-color);\n",
              "      border-top-color: var(--fill-color);\n",
              "    }\n",
              "    60% {\n",
              "      border-color: transparent;\n",
              "      border-right-color: var(--fill-color);\n",
              "    }\n",
              "    80% {\n",
              "      border-color: transparent;\n",
              "      border-right-color: var(--fill-color);\n",
              "      border-bottom-color: var(--fill-color);\n",
              "    }\n",
              "    90% {\n",
              "      border-color: transparent;\n",
              "      border-bottom-color: var(--fill-color);\n",
              "    }\n",
              "  }\n",
              "</style>\n",
              "\n",
              "  <script>\n",
              "    async function quickchart(key) {\n",
              "      const quickchartButtonEl =\n",
              "        document.querySelector('#' + key + ' button');\n",
              "      quickchartButtonEl.disabled = true;  // To prevent multiple clicks.\n",
              "      quickchartButtonEl.classList.add('colab-df-spinner');\n",
              "      try {\n",
              "        const charts = await google.colab.kernel.invokeFunction(\n",
              "            'suggestCharts', [key], {});\n",
              "      } catch (error) {\n",
              "        console.error('Error during call to suggestCharts:', error);\n",
              "      }\n",
              "      quickchartButtonEl.classList.remove('colab-df-spinner');\n",
              "      quickchartButtonEl.classList.add('colab-df-quickchart-complete');\n",
              "    }\n",
              "    (() => {\n",
              "      let quickchartButtonEl =\n",
              "        document.querySelector('#df-25e409a7-8097-4927-9fb7-ffac8ac78898 button');\n",
              "      quickchartButtonEl.style.display =\n",
              "        google.colab.kernel.accessAllowed ? 'block' : 'none';\n",
              "    })();\n",
              "  </script>\n",
              "</div>\n",
              "\n",
              "    </div>\n",
              "  </div>\n"
            ],
            "application/vnd.google.colaboratory.intrinsic+json": {
              "type": "dataframe",
              "summary": "{\n  \"name\": \"df\",\n  \"rows\": 8,\n  \"fields\": [\n    {\n      \"column\": \"wage\",\n      \"properties\": {\n        \"dtype\": \"number\",\n        \"std\": 440.84650803205784,\n        \"min\": 1.02,\n        \"max\": 1260.0,\n        \"num_unique_values\": 8,\n        \"samples\": [\n          6.306690476190475,\n          5.3,\n          1260.0\n        ],\n        \"semantic_type\": \"\",\n        \"description\": \"\"\n      }\n    },\n    {\n      \"column\": \"exper\",\n      \"properties\": {\n        \"dtype\": \"number\",\n        \"std\": 439.23954739436124,\n        \"min\": 0.0,\n        \"max\": 1260.0,\n        \"num_unique_values\": 8,\n        \"samples\": [\n          18.206349206349206,\n          15.0,\n          1260.0\n        ],\n        \"semantic_type\": \"\",\n        \"description\": \"\"\n      }\n    },\n    {\n      \"column\": \"union\",\n      \"properties\": {\n        \"dtype\": \"number\",\n        \"std\": 445.3402127984242,\n        \"min\": 0.0,\n        \"max\": 1260.0,\n        \"num_unique_values\": 5,\n        \"samples\": [\n          0.2722222222222222,\n          1.0,\n          0.44528041140365426\n        ],\n        \"semantic_type\": \"\",\n        \"description\": \"\"\n      }\n    },\n    {\n      \"column\": \"goodhlth\",\n      \"properties\": {\n        \"dtype\": \"number\",\n        \"std\": 445.2156731939613,\n        \"min\": 0.0,\n        \"max\": 1260.0,\n        \"num_unique_values\": 5,\n        \"samples\": [\n          0.9333333333333333,\n          1.0,\n          0.24954287038910442\n        ],\n        \"semantic_type\": \"\",\n        \"description\": \"\"\n      }\n    },\n    {\n      \"column\": \"black\",\n      \"properties\": {\n        \"dtype\": \"number\",\n        \"std\": 445.40995693376004,\n        \"min\": 0.0,\n        \"max\": 1260.0,\n        \"num_unique_values\": 5,\n        \"samples\": [\n          0.07380952380952381,\n          1.0,\n          0.26156447847233044\n        ],\n        \"semantic_type\": \"\",\n        \"description\": \"\"\n      }\n    },\n    {\n      \"column\": \"female\",\n      \"properties\": {\n        \"dtype\": \"number\",\n        \"std\": 445.3349373093052,\n        \"min\": 0.0,\n        \"max\": 1260.0,\n        \"num_unique_values\": 5,\n        \"samples\": [\n          0.346031746031746,\n          1.0,\n          0.4758923383045756\n        ],\n        \"semantic_type\": \"\",\n        \"description\": \"\"\n      }\n    },\n    {\n      \"column\": \"married\",\n      \"properties\": {\n        \"dtype\": \"number\",\n        \"std\": 445.26768945229446,\n        \"min\": 0.0,\n        \"max\": 1260.0,\n        \"num_unique_values\": 5,\n        \"samples\": [\n          0.6912698412698413,\n          1.0,\n          0.4621529617032598\n        ],\n        \"semantic_type\": \"\",\n        \"description\": \"\"\n      }\n    },\n    {\n      \"column\": \"service\",\n      \"properties\": {\n        \"dtype\": \"number\",\n        \"std\": 445.3400917209065,\n        \"min\": 0.0,\n        \"max\": 1260.0,\n        \"num_unique_values\": 5,\n        \"samples\": [\n          0.27380952380952384,\n          1.0,\n          0.44608945476960515\n        ],\n        \"semantic_type\": \"\",\n        \"description\": \"\"\n      }\n    },\n    {\n      \"column\": \"educ\",\n      \"properties\": {\n        \"dtype\": \"number\",\n        \"std\": 441.75438119311934,\n        \"min\": 2.6244891533517283,\n        \"max\": 1260.0,\n        \"num_unique_values\": 7,\n        \"samples\": [\n          1260.0,\n          12.563492063492063,\n          13.0\n        ],\n        \"semantic_type\": \"\",\n        \"description\": \"\"\n      }\n    },\n    {\n      \"column\": \"looks\",\n      \"properties\": {\n        \"dtype\": \"number\",\n        \"std\": 444.4759396340116,\n        \"min\": 0.6848774158752056,\n        \"max\": 1260.0,\n        \"num_unique_values\": 7,\n        \"samples\": [\n          1260.0,\n          3.1857142857142855,\n          4.0\n        ],\n        \"semantic_type\": \"\",\n        \"description\": \"\"\n      }\n    }\n  ]\n}"
            }
          },
          "metadata": {},
          "execution_count": 13
        }
      ]
    },
    {
      "cell_type": "code",
      "source": [],
      "metadata": {
        "id": "635QosQDhtpZ"
      },
      "execution_count": null,
      "outputs": []
    },
    {
      "cell_type": "code",
      "source": [],
      "metadata": {
        "id": "_kQ8oz3rhts0"
      },
      "execution_count": null,
      "outputs": []
    },
    {
      "cell_type": "code",
      "source": [
        "# Check for Missing Values"
      ],
      "metadata": {
        "id": "0UA9VknB0bQe"
      },
      "execution_count": null,
      "outputs": []
    },
    {
      "cell_type": "code",
      "source": [
        "df.isnull().sum()  # Checking for missing values in each column of the dataset"
      ],
      "metadata": {
        "colab": {
          "base_uri": "https://localhost:8080/"
        },
        "id": "FSDbhrC-0-Jo",
        "outputId": "6e6fee75-b262-4f86-dcac-691494a019b3"
      },
      "execution_count": null,
      "outputs": [
        {
          "output_type": "execute_result",
          "data": {
            "text/plain": [
              "wage        0\n",
              "exper       0\n",
              "union       0\n",
              "goodhlth    0\n",
              "black       0\n",
              "female      0\n",
              "married     0\n",
              "service     0\n",
              "educ        0\n",
              "looks       0\n",
              "dtype: int64"
            ]
          },
          "metadata": {},
          "execution_count": 15
        }
      ]
    },
    {
      "cell_type": "code",
      "source": [],
      "metadata": {
        "id": "vVnagbGJh0qI"
      },
      "execution_count": null,
      "outputs": []
    },
    {
      "cell_type": "code",
      "source": [
        "# Handle Missing Values"
      ],
      "metadata": {
        "id": "cFQGlZfn0-bo"
      },
      "execution_count": null,
      "outputs": []
    },
    {
      "cell_type": "code",
      "source": [
        "df.fillna(df.mean(), inplace=True)  # Filling missing values with the mean of each column to ensure completeness of the dataset"
      ],
      "metadata": {
        "id": "6n94Omhf0-ef"
      },
      "execution_count": null,
      "outputs": []
    },
    {
      "cell_type": "code",
      "source": [],
      "metadata": {
        "id": "w8dpL7-51FFa"
      },
      "execution_count": null,
      "outputs": []
    },
    {
      "cell_type": "code",
      "source": [
        "# Check for Duplicate Values"
      ],
      "metadata": {
        "id": "461ZgQS11FLD"
      },
      "execution_count": null,
      "outputs": []
    },
    {
      "cell_type": "code",
      "source": [
        "duplicate_entries = df.duplicated().sum()  # Counting duplicate rows in the dataset"
      ],
      "metadata": {
        "id": "_89CbzAM1FPn"
      },
      "execution_count": null,
      "outputs": []
    },
    {
      "cell_type": "code",
      "source": [
        "print(\"Number of duplicate entries:\", duplicate_entries)  # Displaying the number of duplicate entries found"
      ],
      "metadata": {
        "colab": {
          "base_uri": "https://localhost:8080/"
        },
        "id": "Sl-68ErCiDJm",
        "outputId": "e194f9ae-c961-4887-ab75-5baa8c45d72a"
      },
      "execution_count": null,
      "outputs": [
        {
          "output_type": "stream",
          "name": "stdout",
          "text": [
            "Number of duplicate entries: 3\n"
          ]
        }
      ]
    },
    {
      "cell_type": "code",
      "source": [],
      "metadata": {
        "id": "Qe5MnEyMiDMv"
      },
      "execution_count": null,
      "outputs": []
    },
    {
      "cell_type": "code",
      "source": [
        "# Remove Duplicate Values"
      ],
      "metadata": {
        "id": "MTI14q_F2TYJ"
      },
      "execution_count": null,
      "outputs": []
    },
    {
      "cell_type": "code",
      "source": [
        "df.drop_duplicates(inplace=True)  # Removing duplicate rows from the dataset to avoid bias in analysis"
      ],
      "metadata": {
        "id": "vag35BeL2Tba"
      },
      "execution_count": null,
      "outputs": []
    },
    {
      "cell_type": "code",
      "source": [],
      "metadata": {
        "id": "fFLI96kviMVv"
      },
      "execution_count": null,
      "outputs": []
    },
    {
      "cell_type": "code",
      "source": [],
      "metadata": {
        "id": "pA7-amzhcscw"
      },
      "execution_count": null,
      "outputs": []
    },
    {
      "cell_type": "code",
      "source": [],
      "metadata": {
        "id": "2iDQJC9Jcsgy"
      },
      "execution_count": null,
      "outputs": []
    },
    {
      "cell_type": "markdown",
      "source": [
        "# <font color=\"#FF5722\"><b>Step 2: Data Visualization</b></font>\n",
        "\n",
        "## <font color=\"#FFC107\"><b>2.1 Histogram Plots</b></font>\n",
        "- **Note:** Histograms help visualize the distribution of numerical variables, providing insight into their spread, central tendency, and any potential skewness. Pay attention to any variables that exhibit extreme skewness, as these may require transformation or normalization before further analysis.\n",
        "\n",
        "## <font color=\"#FFC107\"><b>2.2 Correlation Heatmap</b></font>\n",
        "- **Note:** The correlation heatmap reveals the pairwise relationships between numerical variables. Variables with strong correlations should be noted as potential candidates for feature engineering or selection in predictive modeling. However, be cautious about multicollinearity when applying regression-based models."
      ],
      "metadata": {
        "id": "7C5Cnbzics7Y"
      }
    },
    {
      "cell_type": "code",
      "source": [
        "# Visualize the Data"
      ],
      "metadata": {
        "id": "0mgr551X2Tei"
      },
      "execution_count": null,
      "outputs": []
    },
    {
      "cell_type": "code",
      "source": [
        "for column in df.columns:\n",
        "    sns.histplot(df[column], kde=True)  # Generating histogram plots for each numerical variable with kernel density estimation\n",
        "    plt.title(f'Histogram of {column}')  # Adding title to each plot for clarity\n",
        "    plt.xlabel(column)  # Adding x-axis label\n",
        "    plt.ylabel('Frequency')  # Adding y-axis label\n",
        "    plt.show()  # Displaying the plot for each variable"
      ],
      "metadata": {
        "id": "QubpddfD2Tho",
        "colab": {
          "base_uri": "https://localhost:8080/",
          "height": 1000
        },
        "outputId": "4b8da74a-8087-4cd7-c1ab-024f5ffd2dd7"
      },
      "execution_count": null,
      "outputs": [
        {
          "output_type": "display_data",
          "data": {
            "text/plain": [
              "<Figure size 640x480 with 1 Axes>"
            ],
            "image/png": "[encoded data removed]"
          },
          "metadata": {}
        },
        {
          "output_type": "display_data",
          "data": {
            "text/plain": [
              "<Figure size 640x480 with 1 Axes>"
            ],
            "image/png": "[encoded data removed]"
          },
          "metadata": {}
        },
        {
          "output_type": "display_data",
          "data": {
            "text/plain": [
              "<Figure size 640x480 with 1 Axes>"
            ],
            "image/png": "[encoded data removed]"
          },
          "metadata": {}
        },
        {
          "output_type": "display_data",
          "data": {
            "text/plain": [
              "<Figure size 640x480 with 1 Axes>"
            ],
            "image/png": "[encoded data removed]"
          },
          "metadata": {}
        },
        {
          "output_type": "display_data",
          "data": {
            "text/plain": [
              "<Figure size 640x480 with 1 Axes>"
            ],
            "image/png": "[encoded data removed]"
          },
          "metadata": {}
        },
        {
          "output_type": "display_data",
          "data": {
            "text/plain": [
              "<Figure size 640x480 with 1 Axes>"
            ],
            "image/png": "[encoded data removed]"
          },
          "metadata": {}
        },
        {
          "output_type": "display_data",
          "data": {
            "text/plain": [
              "<Figure size 640x480 with 1 Axes>"
            ],
            "image/png": "[encoded data removed]"
          },
          "metadata": {}
        },
        {
          "output_type": "display_data",
          "data": {
            "text/plain": [
              "<Figure size 640x480 with 1 Axes>"
            ],
            "image/png": "[encoded data removed]"
          },
          "metadata": {}
        },
        {
          "output_type": "display_data",
          "data": {
            "text/plain": [
              "<Figure size 640x480 with 1 Axes>"
            ],
            "image/png": "[encoded data removed]"
          },
          "metadata": {}
        },
        {
          "output_type": "display_data",
          "data": {
            "text/plain": [
              "<Figure size 640x480 with 1 Axes>"
            ],
            "image/png": "[encoded data removed]"
          },
          "metadata": {}
        }
      ]
    },
    {
      "cell_type": "code",
      "source": [],
      "metadata": {
        "id": "pum_i7Mj2Tl8"
      },
      "execution_count": null,
      "outputs": []
    },
    {
      "cell_type": "code",
      "source": [],
      "metadata": {
        "id": "nIKKtdPYiWQY"
      },
      "execution_count": null,
      "outputs": []
    },
    {
      "cell_type": "code",
      "source": [
        "# Check Data Distribution"
      ],
      "metadata": {
        "id": "rqwuJTBgiWg6"
      },
      "execution_count": null,
      "outputs": []
    },
    {
      "cell_type": "code",
      "source": [
        "df.hist(bins=30, figsize=(20,15), density=True)  # Generating histograms for all numerical variables to visualize their distributions\n",
        "plt.show()  # Displaying the histograms"
      ],
      "metadata": {
        "colab": {
          "base_uri": "https://localhost:8080/",
          "height": 847
        },
        "id": "yhmNILFH2TrZ",
        "outputId": "26630959-5090-43d5-a23d-e02832205ade"
      },
      "execution_count": null,
      "outputs": [
        {
          "output_type": "display_data",
          "data": {
            "text/plain": [
              "<Figure size 2000x1500 with 12 Axes>"
            ],
            "image/png": "[encoded data removed]"
          },
          "metadata": {}
        }
      ]
    },
    {
      "cell_type": "code",
      "source": [],
      "metadata": {
        "id": "Xy4UrtrGidG_"
      },
      "execution_count": null,
      "outputs": []
    },
    {
      "cell_type": "code",
      "source": [],
      "metadata": {
        "id": "jy--GbgyidKI"
      },
      "execution_count": null,
      "outputs": []
    },
    {
      "cell_type": "code",
      "source": [
        "# Check Correlations"
      ],
      "metadata": {
        "id": "9CpX8wXr2Tt5"
      },
      "execution_count": null,
      "outputs": []
    },
    {
      "cell_type": "code",
      "source": [
        "sns.heatmap(df.corr(), annot=True)  # Generating a heatmap to visualize pairwise correlations between numerical variables\n",
        "plt.title('Correlation Heatmap')  # Adding title to the heatmap\n",
        "plt.show()  # Displaying the heatmap"
      ],
      "metadata": {
        "colab": {
          "base_uri": "https://localhost:8080/",
          "height": 500
        },
        "id": "eJl-_muL2TwE",
        "outputId": "81809e81-966d-4b5c-cd78-7382816a2ce7"
      },
      "execution_count": null,
      "outputs": [
        {
          "output_type": "display_data",
          "data": {
            "text/plain": [
              "<Figure size 640x480 with 2 Axes>"
            ],
            "image/png": "[encoded data removed]"
          },
          "metadata": {}
        }
      ]
    },
    {
      "cell_type": "code",
      "source": [],
      "metadata": {
        "id": "wqjOGryEik5U"
      },
      "execution_count": null,
      "outputs": []
    },
    {
      "cell_type": "code",
      "source": [],
      "metadata": {
        "id": "apHMOHnTilQ6"
      },
      "execution_count": null,
      "outputs": []
    },
    {
      "cell_type": "code",
      "source": [],
      "metadata": {
        "id": "hfUiwp74c0X3"
      },
      "execution_count": null,
      "outputs": []
    },
    {
      "cell_type": "markdown",
      "source": [
        "# <font color=\"#FF5722\"><b>Step 3: Data Preprocessing</b></font>\n",
        "\n",
        "## <font color=\"#FFC107\"><b>3.1 Categorical Variables</b></font>\n",
        "- **Note:** Categorical variables should be converted into numerical form using encoding techniques like one-hot encoding to ensure compatibility with machine learning models. Ensure that the encoding process does not introduce unnecessary dimensionality, which may lead to overfitting in models.\n",
        "\n",
        "## <font color=\"#FFC107\"><b>3.2 Outlier Detection</b></font>\n",
        "- **Note:** Outliers can have a disproportionate effect on statistical analyses and machine learning models. Use techniques like IQR or Z-score methods to detect and potentially remove or transform outliers, depending on the model requirements. Outlier removal should be justified and not performed arbitrarily.\n",
        "\n",
        "## <font color=\"#FFC107\"><b>3.3 Feature Scaling</b></font>\n",
        "- **Note:** Standardizing numerical features is critical for models that rely on distance calculations (e.g., K-Means, SVM, Logistic Regression). StandardScaler ensures that all variables have the same scale, preventing features with larger ranges from dominating the analysis."
      ],
      "metadata": {
        "id": "SqSjeghcc2B_"
      }
    },
    {
      "cell_type": "code",
      "source": [
        "# Handle Categorical Variables"
      ],
      "metadata": {
        "id": "2FX-yla-22Z2"
      },
      "execution_count": null,
      "outputs": []
    },
    {
      "cell_type": "code",
      "source": [
        "df = pd.get_dummies(df, drop_first=True)  # Converting categorical variables into dummy/indicator variables for analysis"
      ],
      "metadata": {
        "id": "NSc7ia0U22cU"
      },
      "execution_count": null,
      "outputs": []
    },
    {
      "cell_type": "code",
      "source": [],
      "metadata": {
        "id": "1q1k2PL122fA"
      },
      "execution_count": null,
      "outputs": []
    },
    {
      "cell_type": "code",
      "source": [
        "# Outlier Detection"
      ],
      "metadata": {
        "id": "feTxp2DT22h2"
      },
      "execution_count": null,
      "outputs": []
    },
    {
      "cell_type": "code",
      "source": [
        "# Q1 = df.quantile(0.25)"
      ],
      "metadata": {
        "id": "uohTcHce22kX"
      },
      "execution_count": null,
      "outputs": []
    },
    {
      "cell_type": "code",
      "source": [
        "# Q3 = df.quantile(0.75)"
      ],
      "metadata": {
        "id": "yfHFBuddiywA"
      },
      "execution_count": null,
      "outputs": []
    },
    {
      "cell_type": "code",
      "source": [
        "# IQR = Q3 - Q1"
      ],
      "metadata": {
        "id": "hOvi-Z5_iyzq"
      },
      "execution_count": null,
      "outputs": []
    },
    {
      "cell_type": "code",
      "source": [
        "# df = df[~((df < (Q1 - 1.5 * IQR)) | (df > (Q3 + 1.5 * IQR))).any(axis=1)]"
      ],
      "metadata": {
        "id": "WQJDw3yWiy4B"
      },
      "execution_count": null,
      "outputs": []
    },
    {
      "cell_type": "code",
      "source": [],
      "metadata": {
        "id": "9559JNYCi3Mn"
      },
      "execution_count": null,
      "outputs": []
    },
    {
      "cell_type": "code",
      "source": [
        "# Feature Scaling"
      ],
      "metadata": {
        "id": "spKz05hk3D9p"
      },
      "execution_count": null,
      "outputs": []
    },
    {
      "cell_type": "code",
      "source": [
        "from sklearn.preprocessing import StandardScaler  # Importing StandardScaler for feature scaling"
      ],
      "metadata": {
        "id": "et3Llo703EBv"
      },
      "execution_count": null,
      "outputs": []
    },
    {
      "cell_type": "code",
      "source": [
        "scaler = StandardScaler()  # Initializing StandardScaler object"
      ],
      "metadata": {
        "id": "8zQ1i5Yd3EEL"
      },
      "execution_count": null,
      "outputs": []
    },
    {
      "cell_type": "code",
      "source": [
        "df = pd.DataFrame(scaler.fit_transform(df), columns=df.columns)  # Standardizing features to have mean of 0 and standard deviation of 1"
      ],
      "metadata": {
        "id": "GxHHaOD-3tNG"
      },
      "execution_count": null,
      "outputs": []
    },
    {
      "cell_type": "code",
      "source": [],
      "metadata": {
        "id": "ZJ1JFjy6jjyV"
      },
      "execution_count": null,
      "outputs": []
    },
    {
      "cell_type": "code",
      "source": [
        "# Save the Processed Data"
      ],
      "metadata": {
        "id": "s5iGd5Rt3tPb"
      },
      "execution_count": null,
      "outputs": []
    },
    {
      "cell_type": "code",
      "source": [
        "df.to_csv('processed_data.csv', index=False)  # Saving the processed data to a CSV file for future use"
      ],
      "metadata": {
        "id": "PPzne62J3tR9"
      },
      "execution_count": null,
      "outputs": []
    },
    {
      "cell_type": "code",
      "source": [],
      "metadata": {
        "id": "F5mSB05t4Fex"
      },
      "execution_count": null,
      "outputs": []
    },
    {
      "cell_type": "code",
      "source": [],
      "metadata": {
        "id": "cJtJeqUC4Fh2"
      },
      "execution_count": null,
      "outputs": []
    },
    {
      "cell_type": "code",
      "source": [],
      "metadata": {
        "id": "FEvWRiLAc4u4"
      },
      "execution_count": null,
      "outputs": []
    },
    {
      "cell_type": "markdown",
      "source": [
        "# POSSIBLE TASKS FROM THE DATASET"
      ],
      "metadata": {
        "id": "elOa6oOV4LSw"
      }
    },
    {
      "cell_type": "code",
      "source": [],
      "metadata": {
        "id": "e2oM7khVdgaP"
      },
      "execution_count": null,
      "outputs": []
    },
    {
      "cell_type": "code",
      "source": [],
      "metadata": {
        "id": "j7s1eufndhIK"
      },
      "execution_count": null,
      "outputs": []
    },
    {
      "cell_type": "markdown",
      "source": [
        "# <font color=\"#FF5722\"><b>Step 4: Predictive Modeling - Wage Prediction</b></font>\n",
        "\n",
        "## <font color=\"#FFC107\"><b>4.1 Linear Regression</b></font>\n",
        "- **Note:** Linear regression is used to model the relationship between the dependent variable (wage) and one or more independent variables. After splitting the dataset into training and test sets, the model's performance is evaluated using the Mean Squared Error (MSE), which quantifies the difference between predicted and actual wage values. Consider adding regularization techniques (Lasso or Ridge) if overfitting is observed."
      ],
      "metadata": {
        "id": "waFKwbIudhWK"
      }
    },
    {
      "cell_type": "markdown",
      "source": [
        "# PREDICTIVE MODELING (LINEAR REGRESSION TO PREDICT WAGES)"
      ],
      "metadata": {
        "id": "FRyF8GCK4P4I"
      }
    },
    {
      "cell_type": "code",
      "source": [
        "# Import Necessary Libraries"
      ],
      "metadata": {
        "id": "focLTQM8j0SB"
      },
      "execution_count": null,
      "outputs": []
    },
    {
      "cell_type": "code",
      "source": [
        "import pandas as pd  # Re-importing pandas for data manipulation"
      ],
      "metadata": {
        "id": "KkEZq8xY4Fj5"
      },
      "execution_count": null,
      "outputs": []
    },
    {
      "cell_type": "code",
      "source": [
        "from sklearn.model_selection import train_test_split  # Importing train_test_split for data splitting"
      ],
      "metadata": {
        "id": "fv7JXKyXj5K-"
      },
      "execution_count": null,
      "outputs": []
    },
    {
      "cell_type": "code",
      "source": [
        "from sklearn.linear_model import LinearRegression  # Importing LinearRegression for modeling"
      ],
      "metadata": {
        "id": "o_sDdD7Tj8Py"
      },
      "execution_count": null,
      "outputs": []
    },
    {
      "cell_type": "code",
      "source": [
        "from sklearn.metrics import mean_squared_error  # Importing mean_squared_error for model evaluation"
      ],
      "metadata": {
        "id": "VoBuxC8Zj8TE"
      },
      "execution_count": null,
      "outputs": []
    },
    {
      "cell_type": "code",
      "source": [],
      "metadata": {
        "id": "BhiEYxFIj5PZ"
      },
      "execution_count": null,
      "outputs": []
    },
    {
      "cell_type": "code",
      "source": [
        "# Load the Data"
      ],
      "metadata": {
        "id": "kIz6qwIFkLw-"
      },
      "execution_count": null,
      "outputs": []
    },
    {
      "cell_type": "code",
      "source": [
        "df = pd.read_csv('processed_data.csv')  #loading the processed dataset"
      ],
      "metadata": {
        "id": "_XJALDKY4Fmb"
      },
      "execution_count": null,
      "outputs": []
    },
    {
      "cell_type": "code",
      "source": [],
      "metadata": {
        "id": "M9L3xBA7kM4K"
      },
      "execution_count": null,
      "outputs": []
    },
    {
      "cell_type": "code",
      "source": [
        "# Prepare the Data"
      ],
      "metadata": {
        "id": "811qBmnMkM7S"
      },
      "execution_count": null,
      "outputs": []
    },
    {
      "cell_type": "code",
      "source": [
        "X = df.drop(columns=['wage'])  # Extracting features by removing the target variable 'wage'"
      ],
      "metadata": {
        "id": "84zBU7Mx4FpF"
      },
      "execution_count": null,
      "outputs": []
    },
    {
      "cell_type": "code",
      "source": [
        "y = df['wage']  # Extracting the target variable 'wage'"
      ],
      "metadata": {
        "id": "snHR5QdK4FrI"
      },
      "execution_count": null,
      "outputs": []
    },
    {
      "cell_type": "code",
      "source": [],
      "metadata": {
        "id": "sDOBQyzNkUrO"
      },
      "execution_count": null,
      "outputs": []
    },
    {
      "cell_type": "code",
      "source": [
        "# Split the Data into Training and Testing Sets"
      ],
      "metadata": {
        "id": "7SvZ7AknkUuz"
      },
      "execution_count": null,
      "outputs": []
    },
    {
      "cell_type": "code",
      "source": [
        "X_train, X_test, y_train, y_test = train_test_split(X, y, test_size=0.2, random_state=42)  # Splitting the data into training and testing sets\n"
      ],
      "metadata": {
        "id": "JFlKU6IM4FtQ"
      },
      "execution_count": null,
      "outputs": []
    },
    {
      "cell_type": "code",
      "source": [],
      "metadata": {
        "id": "aK9XO0WjkblN"
      },
      "execution_count": null,
      "outputs": []
    },
    {
      "cell_type": "code",
      "source": [
        "# Train the Model"
      ],
      "metadata": {
        "id": "aWFJJJHmkboj"
      },
      "execution_count": null,
      "outputs": []
    },
    {
      "cell_type": "code",
      "source": [
        "model = LinearRegression()  # Initializing Linear Regression model"
      ],
      "metadata": {
        "id": "hCGRiMiB4FwF"
      },
      "execution_count": null,
      "outputs": []
    },
    {
      "cell_type": "code",
      "source": [
        "model.fit(X_train, y_train)  # Fitting the model on the training data"
      ],
      "metadata": {
        "id": "9kezkTih4y7i",
        "colab": {
          "base_uri": "https://localhost:8080/",
          "height": 75
        },
        "outputId": "b78000db-c8cf-455d-f251-d58cf7f0fb2a"
      },
      "execution_count": null,
      "outputs": [
        {
          "output_type": "execute_result",
          "data": {
            "text/plain": [
              "LinearRegression()"
            ],
            "text/html": [
              "<style>#sk-container-id-1 {color: black;background-color: white;}#sk-container-id-1 pre{padding: 0;}#sk-container-id-1 div.sk-toggleable {background-color: white;}#sk-container-id-1 label.sk-toggleable__label {cursor: pointer;display: block;width: 100%;margin-bottom: 0;padding: 0.3em;box-sizing: border-box;text-align: center;}#sk-container-id-1 label.sk-toggleable__label-arrow:before {content: \"▸\";float: left;margin-right: 0.25em;color: #696969;}#sk-container-id-1 label.sk-toggleable__label-arrow:hover:before {color: black;}#sk-container-id-1 div.sk-estimator:hover label.sk-toggleable__label-arrow:before {color: black;}#sk-container-id-1 div.sk-toggleable__content {max-height: 0;max-width: 0;overflow: hidden;text-align: left;background-color: #f0f8ff;}#sk-container-id-1 div.sk-toggleable__content pre {margin: 0.2em;color: black;border-radius: 0.25em;background-color: #f0f8ff;}#sk-container-id-1 input.sk-toggleable__control:checked~div.sk-toggleable__content {max-height: 200px;max-width: 100%;overflow: auto;}#sk-container-id-1 input.sk-toggleable__control:checked~label.sk-toggleable__label-arrow:before {content: \"▾\";}#sk-container-id-1 div.sk-estimator input.sk-toggleable__control:checked~label.sk-toggleable__label {background-color: #d4ebff;}#sk-container-id-1 div.sk-label input.sk-toggleable__control:checked~label.sk-toggleable__label {background-color: #d4ebff;}#sk-container-id-1 input.sk-hidden--visually {border: 0;clip: rect(1px 1px 1px 1px);clip: rect(1px, 1px, 1px, 1px);height: 1px;margin: -1px;overflow: hidden;padding: 0;position: absolute;width: 1px;}#sk-container-id-1 div.sk-estimator {font-family: monospace;background-color: #f0f8ff;border: 1px dotted black;border-radius: 0.25em;box-sizing: border-box;margin-bottom: 0.5em;}#sk-container-id-1 div.sk-estimator:hover {background-color: #d4ebff;}#sk-container-id-1 div.sk-parallel-item::after {content: \"\";width: 100%;border-bottom: 1px solid gray;flex-grow: 1;}#sk-container-id-1 div.sk-label:hover label.sk-toggleable__label {background-color: #d4ebff;}#sk-container-id-1 div.sk-serial::before {content: \"\";position: absolute;border-left: 1px solid gray;box-sizing: border-box;top: 0;bottom: 0;left: 50%;z-index: 0;}#sk-container-id-1 div.sk-serial {display: flex;flex-direction: column;align-items: center;background-color: white;padding-right: 0.2em;padding-left: 0.2em;position: relative;}#sk-container-id-1 div.sk-item {position: relative;z-index: 1;}#sk-container-id-1 div.sk-parallel {display: flex;align-items: stretch;justify-content: center;background-color: white;position: relative;}#sk-container-id-1 div.sk-item::before, #sk-container-id-1 div.sk-parallel-item::before {content: \"\";position: absolute;border-left: 1px solid gray;box-sizing: border-box;top: 0;bottom: 0;left: 50%;z-index: -1;}#sk-container-id-1 div.sk-parallel-item {display: flex;flex-direction: column;z-index: 1;position: relative;background-color: white;}#sk-container-id-1 div.sk-parallel-item:first-child::after {align-self: flex-end;width: 50%;}#sk-container-id-1 div.sk-parallel-item:last-child::after {align-self: flex-start;width: 50%;}#sk-container-id-1 div.sk-parallel-item:only-child::after {width: 0;}#sk-container-id-1 div.sk-dashed-wrapped {border: 1px dashed gray;margin: 0 0.4em 0.5em 0.4em;box-sizing: border-box;padding-bottom: 0.4em;background-color: white;}#sk-container-id-1 div.sk-label label {font-family: monospace;font-weight: bold;display: inline-block;line-height: 1.2em;}#sk-container-id-1 div.sk-label-container {text-align: center;}#sk-container-id-1 div.sk-container {/* jupyter's `normalize.less` sets `[hidden] { display: none; }` but bootstrap.min.css set `[hidden] { display: none !important; }` so we also need the `!important` here to be able to override the default hidden behavior on the sphinx rendered scikit-learn.org. See: https://github.com/scikit-learn/scikit-learn/issues/21755 */display: inline-block !important;position: relative;}#sk-container-id-1 div.sk-text-repr-fallback {display: none;}</style><div id=\"sk-container-id-1\" class=\"sk-top-container\"><div class=\"sk-text-repr-fallback\"><pre>LinearRegression()</pre><b>In a Jupyter environment, please rerun this cell to show the HTML representation or trust the notebook. <br />On GitHub, the HTML representation is unable to render, please try loading this page with nbviewer.org.</b></div><div class=\"sk-container\" hidden><div class=\"sk-item\"><div class=\"sk-estimator sk-toggleable\"><input class=\"sk-toggleable__control sk-hidden--visually\" id=\"sk-estimator-id-1\" type=\"checkbox\" checked><label for=\"sk-estimator-id-1\" class=\"sk-toggleable__label sk-toggleable__label-arrow\">LinearRegression</label><div class=\"sk-toggleable__content\"><pre>LinearRegression()</pre></div></div></div></div></div>"
            ]
          },
          "metadata": {},
          "execution_count": 53
        }
      ]
    },
    {
      "cell_type": "code",
      "source": [],
      "metadata": {
        "id": "qRVdMcyXkjyp"
      },
      "execution_count": null,
      "outputs": []
    },
    {
      "cell_type": "code",
      "source": [
        "# Make Predictions"
      ],
      "metadata": {
        "id": "RsxiQjyckj2K"
      },
      "execution_count": null,
      "outputs": []
    },
    {
      "cell_type": "code",
      "source": [
        "y_pred = model.predict(X_test)  # Making predictions on the test data"
      ],
      "metadata": {
        "id": "PBFQRrLe4y-h"
      },
      "execution_count": null,
      "outputs": []
    },
    {
      "cell_type": "code",
      "source": [],
      "metadata": {
        "id": "vo7-XFShkpCW"
      },
      "execution_count": null,
      "outputs": []
    },
    {
      "cell_type": "code",
      "source": [
        "# Evaluate the Model"
      ],
      "metadata": {
        "id": "cFae9E4EkpFX"
      },
      "execution_count": null,
      "outputs": []
    },
    {
      "cell_type": "code",
      "source": [
        "mse = mean_squared_error(y_test, y_pred)  # Calculating mean squared error"
      ],
      "metadata": {
        "id": "7L20H0mt4zBV"
      },
      "execution_count": null,
      "outputs": []
    },
    {
      "cell_type": "code",
      "source": [
        "print(\"Mean Squared Error:\", mse)  # Displaying the mean squared error as a measure of model performance"
      ],
      "metadata": {
        "id": "1l8JN1hl4zDy",
        "colab": {
          "base_uri": "https://localhost:8080/"
        },
        "outputId": "9560e5c9-f7e6-4751-ca54-664dd90ee4b2"
      },
      "execution_count": null,
      "outputs": [
        {
          "output_type": "stream",
          "name": "stdout",
          "text": [
            "Mean Squared Error: 1.4749727922570892\n"
          ]
        }
      ]
    },
    {
      "cell_type": "code",
      "source": [],
      "metadata": {
        "id": "yYxtBvSqkwlF"
      },
      "execution_count": null,
      "outputs": []
    },
    {
      "cell_type": "code",
      "source": [],
      "metadata": {
        "id": "Dj9tKPPs5Hs5"
      },
      "execution_count": null,
      "outputs": []
    },
    {
      "cell_type": "markdown",
      "source": [
        "# DESCRIPTIVE ANALYSIS"
      ],
      "metadata": {
        "id": "VtXg8oxq5KmI"
      }
    },
    {
      "cell_type": "code",
      "source": [
        "# Load the Data"
      ],
      "metadata": {
        "id": "cniO4zKQk8PZ"
      },
      "execution_count": null,
      "outputs": []
    },
    {
      "cell_type": "code",
      "source": [
        "df = pd.read_csv('processed_data.csv')  # Re-loading the processed dataset"
      ],
      "metadata": {
        "id": "UJvsHz9B5HvL"
      },
      "execution_count": null,
      "outputs": []
    },
    {
      "cell_type": "code",
      "source": [],
      "metadata": {
        "id": "fXtbIPS25Hyr"
      },
      "execution_count": null,
      "outputs": []
    },
    {
      "cell_type": "code",
      "source": [
        "# Display Summary Statistics"
      ],
      "metadata": {
        "id": "53xaDlM5lA4W"
      },
      "execution_count": null,
      "outputs": []
    },
    {
      "cell_type": "code",
      "source": [
        "print(df.describe())  # Printing summary statistics of the dataset to understand central tendency and dispersion of numerical variables"
      ],
      "metadata": {
        "colab": {
          "base_uri": "https://localhost:8080/"
        },
        "id": "NeIFquWj5H2Z",
        "outputId": "92ac70b4-e0a8-41ea-ea5b-c13f6567db39"
      },
      "execution_count": null,
      "outputs": [
        {
          "output_type": "stream",
          "name": "stdout",
          "text": [
            "               wage         exper         union      goodhlth         black  \\\n",
            "count  1.257000e+03  1.257000e+03  1.257000e+03  1.257000e+03  1.257000e+03   \n",
            "mean   1.582752e-16 -1.257723e-16 -2.261075e-17  2.063231e-16  7.913762e-17   \n",
            "std    1.000398e+00  1.000398e+00  1.000398e+00  1.000398e+00  1.000398e+00   \n",
            "min   -1.133464e+00 -1.523590e+00 -6.101399e-01 -3.736882e+00 -2.826604e-01   \n",
            "25%   -5.586881e-01 -8.549204e-01 -6.101399e-01  2.676028e-01 -2.826604e-01   \n",
            "50%   -2.176830e-01 -2.698349e-01 -6.101399e-01  2.676028e-01 -2.826604e-01   \n",
            "75%    2.970415e-01  7.331689e-01  1.638968e+00  2.676028e-01 -2.826604e-01   \n",
            "max    1.531628e+01  2.488425e+00  1.638968e+00  2.676028e-01  3.537814e+00   \n",
            "\n",
            "             female       married       service          educ         looks  \n",
            "count  1.257000e+03  1.257000e+03  1.257000e+03  1.257000e+03  1.257000e+03  \n",
            "mean  -6.783224e-17 -1.130537e-16 -2.261075e-17  2.713290e-16  2.487182e-16  \n",
            "std    1.000398e+00  1.000398e+00  1.000398e+00  1.000398e+00  1.000398e+00  \n",
            "min   -7.274593e-01 -1.493775e+00 -6.150524e-01 -2.879947e+00 -3.190867e+00  \n",
            "25%   -7.274593e-01 -1.493775e+00 -6.150524e-01 -2.147542e-01 -2.695853e-01  \n",
            "50%   -7.274593e-01  6.694451e-01 -6.150524e-01 -2.147542e-01 -2.695853e-01  \n",
            "75%    1.374647e+00  6.694451e-01  1.625878e+00  1.659877e-01  1.191056e+00  \n",
            "max    1.374647e+00  6.694451e-01  1.625878e+00  1.688955e+00  2.651696e+00  \n"
          ]
        }
      ]
    },
    {
      "cell_type": "code",
      "source": [],
      "metadata": {
        "id": "XYoYGxJv5H48"
      },
      "execution_count": null,
      "outputs": []
    },
    {
      "cell_type": "code",
      "source": [],
      "metadata": {
        "id": "1d7LwHvq5H68"
      },
      "execution_count": null,
      "outputs": []
    },
    {
      "cell_type": "code",
      "source": [],
      "metadata": {
        "id": "1Nyw0k2I5H8l"
      },
      "execution_count": null,
      "outputs": []
    },
    {
      "cell_type": "markdown",
      "source": [
        "# DATA VISUALIZATION(HISTOGRAM OF WAGES)"
      ],
      "metadata": {
        "id": "M4ohMNp15TDk"
      }
    },
    {
      "cell_type": "code",
      "source": [
        "# Load the Data"
      ],
      "metadata": {
        "id": "EZYa7vsB5bAy"
      },
      "execution_count": null,
      "outputs": []
    },
    {
      "cell_type": "code",
      "source": [
        "df = pd.read_csv('processed_data.csv')  # Re-loading the processed dataset"
      ],
      "metadata": {
        "id": "QUoQlIql5bD5"
      },
      "execution_count": null,
      "outputs": []
    },
    {
      "cell_type": "code",
      "source": [],
      "metadata": {
        "id": "VmmpcG845bGk"
      },
      "execution_count": null,
      "outputs": []
    },
    {
      "cell_type": "code",
      "source": [
        "# Plot Histogram of Wages"
      ],
      "metadata": {
        "id": "s7u6aDsdlT1a"
      },
      "execution_count": null,
      "outputs": []
    },
    {
      "cell_type": "code",
      "source": [
        "plt.figure(figsize=(10, 6))  # Setting the figure size\n",
        "plt.hist(df['wage'], bins=30, color='blue', alpha=0.7)  # Generating histogram of 'wage' variable with specified bins and color\n",
        "plt.title('Histogram of Wages')  # Adding title to the plot\n",
        "plt.xlabel('Wage')  # Adding x-axis label\n",
        "plt.ylabel('Frequency')  # Adding y-axis label\n",
        "plt.grid(True)  # Adding grid lines for better visualization\n",
        "plt.show()  # Displaying the histogram"
      ],
      "metadata": {
        "colab": {
          "base_uri": "https://localhost:8080/",
          "height": 564
        },
        "id": "fcqvAUst5bJa",
        "outputId": "21717f74-c5e4-4450-d70f-b0d85af6e76d"
      },
      "execution_count": null,
      "outputs": [
        {
          "output_type": "display_data",
          "data": {
            "text/plain": [
              "<Figure size 1000x600 with 1 Axes>"
            ],
            "image/png": "[encoded data removed]"
          },
          "metadata": {}
        }
      ]
    },
    {
      "cell_type": "code",
      "source": [],
      "metadata": {
        "id": "hEO690pw5bMj"
      },
      "execution_count": null,
      "outputs": []
    },
    {
      "cell_type": "code",
      "source": [],
      "metadata": {
        "id": "_72nIJQo5bPk"
      },
      "execution_count": null,
      "outputs": []
    },
    {
      "cell_type": "code",
      "source": [],
      "metadata": {
        "id": "vr9uwbzh5bTE"
      },
      "execution_count": null,
      "outputs": []
    },
    {
      "cell_type": "markdown",
      "source": [
        "# <font color=\"#FF5722\"><b>Step 5: Predicting Union Membership</b></font>\n",
        "\n",
        "## <font color=\"#FFC107\"><b>5.1 Logistic Regression</b></font>\n",
        "- **Note:** Logistic regression is a classification algorithm used to predict binary outcomes, such as union membership. The dataset is split into training and test sets, and the model's performance is measured using accuracy, confusion matrix, and classification report metrics. These metrics provide insights into how well the model distinguishes between union members and non-members. For further model tuning, try using techniques like cross-validation or hyperparameter optimization."
      ],
      "metadata": {
        "id": "pTDkFCUodVu5"
      }
    },
    {
      "cell_type": "markdown",
      "source": [
        "# PREDICTING UNION MEMBERSHIP: A LOGISTIC REGRESSION APPROACH"
      ],
      "metadata": {
        "id": "wWjbhd2n5kGG"
      }
    },
    {
      "cell_type": "code",
      "source": [
        "# Import Necessary Libraries (Note: Already imported earlier)"
      ],
      "metadata": {
        "id": "Hxfz9L5Jleru"
      },
      "execution_count": null,
      "outputs": []
    },
    {
      "cell_type": "code",
      "source": [
        "from sklearn.model_selection import train_test_split  # Re-importing train_test_split for data splitting"
      ],
      "metadata": {
        "id": "VxaQEIIg59YV"
      },
      "execution_count": null,
      "outputs": []
    },
    {
      "cell_type": "code",
      "source": [
        "from sklearn.linear_model import LogisticRegression  # Importing LogisticRegression for modeling"
      ],
      "metadata": {
        "id": "JEZhYAXuli9W"
      },
      "execution_count": null,
      "outputs": []
    },
    {
      "cell_type": "code",
      "source": [
        "from sklearn.metrics import accuracy_score, classification_report, confusion_matrix  # Importing evaluation metrics"
      ],
      "metadata": {
        "id": "cZGdiLlaljAu"
      },
      "execution_count": null,
      "outputs": []
    },
    {
      "cell_type": "code",
      "source": [],
      "metadata": {
        "id": "IAwM9X1t59jc"
      },
      "execution_count": null,
      "outputs": []
    },
    {
      "cell_type": "code",
      "source": [
        "# Load the Data"
      ],
      "metadata": {
        "id": "KdZwh8FjnFvR"
      },
      "execution_count": null,
      "outputs": []
    },
    {
      "cell_type": "code",
      "source": [
        "df = pd.read_csv('processed_data.csv')"
      ],
      "metadata": {
        "id": "5lusgkND59me"
      },
      "execution_count": null,
      "outputs": []
    },
    {
      "cell_type": "code",
      "source": [],
      "metadata": {
        "id": "ox6fQZL059o-"
      },
      "execution_count": null,
      "outputs": []
    },
    {
      "cell_type": "code",
      "source": [
        "# Assuming 'union' column contains continuous values and we want to binarize it based on a threshold"
      ],
      "metadata": {
        "id": "44rAg-KunOqt"
      },
      "execution_count": null,
      "outputs": []
    },
    {
      "cell_type": "code",
      "source": [
        "threshold = 0.5  # Define the threshold for binarization"
      ],
      "metadata": {
        "id": "CfFdAB2FnQDw"
      },
      "execution_count": null,
      "outputs": []
    },
    {
      "cell_type": "code",
      "source": [
        "df['union'] = (df['union'] > threshold).astype(int)  # Binarize 'union' column based on the threshold"
      ],
      "metadata": {
        "id": "xU27SUP2nOuE"
      },
      "execution_count": null,
      "outputs": []
    },
    {
      "cell_type": "code",
      "source": [],
      "metadata": {
        "id": "gzJhbpA1niga"
      },
      "execution_count": null,
      "outputs": []
    },
    {
      "cell_type": "code",
      "source": [
        "# Prepare the Data"
      ],
      "metadata": {
        "id": "zXqXic0PnijJ"
      },
      "execution_count": null,
      "outputs": []
    },
    {
      "cell_type": "code",
      "source": [
        "X = df.drop(columns=['union'])  # Features"
      ],
      "metadata": {
        "id": "pj5fv0Lfl7jB"
      },
      "execution_count": null,
      "outputs": []
    },
    {
      "cell_type": "code",
      "source": [
        "y = df['union']  # Target variable"
      ],
      "metadata": {
        "id": "mbkEbWy16cau"
      },
      "execution_count": null,
      "outputs": []
    },
    {
      "cell_type": "code",
      "source": [],
      "metadata": {
        "id": "gVs6TrEuntSZ"
      },
      "execution_count": null,
      "outputs": []
    },
    {
      "cell_type": "code",
      "source": [
        "# Split the Data into Training and Testing Sets"
      ],
      "metadata": {
        "id": "xGIl6WobntVl"
      },
      "execution_count": null,
      "outputs": []
    },
    {
      "cell_type": "code",
      "source": [
        "X_train, X_test, y_train, y_test = train_test_split(X, y, test_size=0.2, random_state=42)"
      ],
      "metadata": {
        "id": "Hr-aHnfsmAHI"
      },
      "execution_count": null,
      "outputs": []
    },
    {
      "cell_type": "code",
      "source": [],
      "metadata": {
        "id": "8K431V3vnzHj"
      },
      "execution_count": null,
      "outputs": []
    },
    {
      "cell_type": "code",
      "source": [
        "# Train the Model"
      ],
      "metadata": {
        "id": "fgX69nUOnzKo"
      },
      "execution_count": null,
      "outputs": []
    },
    {
      "cell_type": "code",
      "source": [
        "model = LogisticRegression()"
      ],
      "metadata": {
        "id": "1Hkeezn6mAK1"
      },
      "execution_count": null,
      "outputs": []
    },
    {
      "cell_type": "code",
      "source": [
        "model.fit(X_train, y_train)"
      ],
      "metadata": {
        "id": "jzd_o_Qd6cpY",
        "colab": {
          "base_uri": "https://localhost:8080/",
          "height": 75
        },
        "outputId": "ba2d7ef8-99b3-44dc-8641-55df82ffe974"
      },
      "execution_count": null,
      "outputs": [
        {
          "output_type": "execute_result",
          "data": {
            "text/plain": [
              "LogisticRegression()"
            ],
            "text/html": [
              "<style>#sk-container-id-2 {color: black;background-color: white;}#sk-container-id-2 pre{padding: 0;}#sk-container-id-2 div.sk-toggleable {background-color: white;}#sk-container-id-2 label.sk-toggleable__label {cursor: pointer;display: block;width: 100%;margin-bottom: 0;padding: 0.3em;box-sizing: border-box;text-align: center;}#sk-container-id-2 label.sk-toggleable__label-arrow:before {content: \"▸\";float: left;margin-right: 0.25em;color: #696969;}#sk-container-id-2 label.sk-toggleable__label-arrow:hover:before {color: black;}#sk-container-id-2 div.sk-estimator:hover label.sk-toggleable__label-arrow:before {color: black;}#sk-container-id-2 div.sk-toggleable__content {max-height: 0;max-width: 0;overflow: hidden;text-align: left;background-color: #f0f8ff;}#sk-container-id-2 div.sk-toggleable__content pre {margin: 0.2em;color: black;border-radius: 0.25em;background-color: #f0f8ff;}#sk-container-id-2 input.sk-toggleable__control:checked~div.sk-toggleable__content {max-height: 200px;max-width: 100%;overflow: auto;}#sk-container-id-2 input.sk-toggleable__control:checked~label.sk-toggleable__label-arrow:before {content: \"▾\";}#sk-container-id-2 div.sk-estimator input.sk-toggleable__control:checked~label.sk-toggleable__label {background-color: #d4ebff;}#sk-container-id-2 div.sk-label input.sk-toggleable__control:checked~label.sk-toggleable__label {background-color: #d4ebff;}#sk-container-id-2 input.sk-hidden--visually {border: 0;clip: rect(1px 1px 1px 1px);clip: rect(1px, 1px, 1px, 1px);height: 1px;margin: -1px;overflow: hidden;padding: 0;position: absolute;width: 1px;}#sk-container-id-2 div.sk-estimator {font-family: monospace;background-color: #f0f8ff;border: 1px dotted black;border-radius: 0.25em;box-sizing: border-box;margin-bottom: 0.5em;}#sk-container-id-2 div.sk-estimator:hover {background-color: #d4ebff;}#sk-container-id-2 div.sk-parallel-item::after {content: \"\";width: 100%;border-bottom: 1px solid gray;flex-grow: 1;}#sk-container-id-2 div.sk-label:hover label.sk-toggleable__label {background-color: #d4ebff;}#sk-container-id-2 div.sk-serial::before {content: \"\";position: absolute;border-left: 1px solid gray;box-sizing: border-box;top: 0;bottom: 0;left: 50%;z-index: 0;}#sk-container-id-2 div.sk-serial {display: flex;flex-direction: column;align-items: center;background-color: white;padding-right: 0.2em;padding-left: 0.2em;position: relative;}#sk-container-id-2 div.sk-item {position: relative;z-index: 1;}#sk-container-id-2 div.sk-parallel {display: flex;align-items: stretch;justify-content: center;background-color: white;position: relative;}#sk-container-id-2 div.sk-item::before, #sk-container-id-2 div.sk-parallel-item::before {content: \"\";position: absolute;border-left: 1px solid gray;box-sizing: border-box;top: 0;bottom: 0;left: 50%;z-index: -1;}#sk-container-id-2 div.sk-parallel-item {display: flex;flex-direction: column;z-index: 1;position: relative;background-color: white;}#sk-container-id-2 div.sk-parallel-item:first-child::after {align-self: flex-end;width: 50%;}#sk-container-id-2 div.sk-parallel-item:last-child::after {align-self: flex-start;width: 50%;}#sk-container-id-2 div.sk-parallel-item:only-child::after {width: 0;}#sk-container-id-2 div.sk-dashed-wrapped {border: 1px dashed gray;margin: 0 0.4em 0.5em 0.4em;box-sizing: border-box;padding-bottom: 0.4em;background-color: white;}#sk-container-id-2 div.sk-label label {font-family: monospace;font-weight: bold;display: inline-block;line-height: 1.2em;}#sk-container-id-2 div.sk-label-container {text-align: center;}#sk-container-id-2 div.sk-container {/* jupyter's `normalize.less` sets `[hidden] { display: none; }` but bootstrap.min.css set `[hidden] { display: none !important; }` so we also need the `!important` here to be able to override the default hidden behavior on the sphinx rendered scikit-learn.org. See: https://github.com/scikit-learn/scikit-learn/issues/21755 */display: inline-block !important;position: relative;}#sk-container-id-2 div.sk-text-repr-fallback {display: none;}</style><div id=\"sk-container-id-2\" class=\"sk-top-container\"><div class=\"sk-text-repr-fallback\"><pre>LogisticRegression()</pre><b>In a Jupyter environment, please rerun this cell to show the HTML representation or trust the notebook. <br />On GitHub, the HTML representation is unable to render, please try loading this page with nbviewer.org.</b></div><div class=\"sk-container\" hidden><div class=\"sk-item\"><div class=\"sk-estimator sk-toggleable\"><input class=\"sk-toggleable__control sk-hidden--visually\" id=\"sk-estimator-id-2\" type=\"checkbox\" checked><label for=\"sk-estimator-id-2\" class=\"sk-toggleable__label sk-toggleable__label-arrow\">LogisticRegression</label><div class=\"sk-toggleable__content\"><pre>LogisticRegression()</pre></div></div></div></div></div>"
            ]
          },
          "metadata": {},
          "execution_count": 102
        }
      ]
    },
    {
      "cell_type": "code",
      "source": [],
      "metadata": {
        "id": "CJegPItAn8PB"
      },
      "execution_count": null,
      "outputs": []
    },
    {
      "cell_type": "code",
      "source": [
        "# Make Predictions"
      ],
      "metadata": {
        "id": "OqheQlZBn8SO"
      },
      "execution_count": null,
      "outputs": []
    },
    {
      "cell_type": "code",
      "source": [
        "y_pred = model.predict(X_test) # Making predictions on the test data"
      ],
      "metadata": {
        "id": "cVn1me2S59tL"
      },
      "execution_count": null,
      "outputs": []
    },
    {
      "cell_type": "code",
      "source": [],
      "metadata": {
        "id": "sNknARPuoBqJ"
      },
      "execution_count": null,
      "outputs": []
    },
    {
      "cell_type": "code",
      "source": [
        "# Evaluate the Model"
      ],
      "metadata": {
        "id": "w6Y8ngE759xM"
      },
      "execution_count": null,
      "outputs": []
    },
    {
      "cell_type": "code",
      "source": [
        "accuracy = accuracy_score(y_test, y_pred)  # Calculating accuracy of the model"
      ],
      "metadata": {
        "id": "AESAerTe59zn"
      },
      "execution_count": null,
      "outputs": []
    },
    {
      "cell_type": "code",
      "source": [
        "print(\"Accuracy:\", accuracy)  # Displaying the accuracy of the model"
      ],
      "metadata": {
        "colab": {
          "base_uri": "https://localhost:8080/"
        },
        "id": "rJ3euOvxolZx",
        "outputId": "f158e808-79a8-4257-b3d4-24854019ae5e"
      },
      "execution_count": null,
      "outputs": [
        {
          "output_type": "stream",
          "name": "stdout",
          "text": [
            "Accuracy: 0.7142857142857143\n"
          ]
        }
      ]
    },
    {
      "cell_type": "code",
      "source": [],
      "metadata": {
        "id": "m3h-gG1QoldB"
      },
      "execution_count": null,
      "outputs": []
    },
    {
      "cell_type": "code",
      "source": [
        "# Classification Report"
      ],
      "metadata": {
        "id": "carBoa2mmPAX"
      },
      "execution_count": null,
      "outputs": []
    },
    {
      "cell_type": "code",
      "source": [
        "print(\"Classification Report:\")  # Displaying the classification report for detailed evaluation"
      ],
      "metadata": {
        "id": "DazIDLfF591Y",
        "colab": {
          "base_uri": "https://localhost:8080/"
        },
        "outputId": "6b242961-163d-4437-c6c7-1be7dd711045"
      },
      "execution_count": null,
      "outputs": [
        {
          "output_type": "stream",
          "name": "stdout",
          "text": [
            "Classification Report:\n"
          ]
        }
      ]
    },
    {
      "cell_type": "code",
      "source": [
        "print(classification_report(y_test, y_pred))  # Printing the classification report"
      ],
      "metadata": {
        "id": "fXXuZ9Zw593W",
        "colab": {
          "base_uri": "https://localhost:8080/"
        },
        "outputId": "510deeba-af98-4c61-8bbf-4c4b3531010f"
      },
      "execution_count": null,
      "outputs": [
        {
          "output_type": "stream",
          "name": "stdout",
          "text": [
            "              precision    recall  f1-score   support\n",
            "\n",
            "           0       0.72      0.99      0.83       181\n",
            "           1       0.33      0.01      0.03        71\n",
            "\n",
            "    accuracy                           0.71       252\n",
            "   macro avg       0.53      0.50      0.43       252\n",
            "weighted avg       0.61      0.71      0.61       252\n",
            "\n"
          ]
        }
      ]
    },
    {
      "cell_type": "code",
      "source": [],
      "metadata": {
        "id": "TDtw3Lajoxe_"
      },
      "execution_count": null,
      "outputs": []
    },
    {
      "cell_type": "code",
      "source": [
        "# Confusion Matrix"
      ],
      "metadata": {
        "id": "s9fzctENoxiV"
      },
      "execution_count": null,
      "outputs": []
    },
    {
      "cell_type": "code",
      "source": [
        "print(\"Confusion Matrix:\")  # Displaying the confusion matrix for evaluating prediction performance"
      ],
      "metadata": {
        "colab": {
          "base_uri": "https://localhost:8080/"
        },
        "id": "9SxYg78VmTvQ",
        "outputId": "6bb49b75-6fa1-47fa-cf06-fd174f1069fa"
      },
      "execution_count": null,
      "outputs": [
        {
          "output_type": "stream",
          "name": "stdout",
          "text": [
            "Confusion Matrix:\n"
          ]
        }
      ]
    },
    {
      "cell_type": "code",
      "source": [
        "print(confusion_matrix(y_test, y_pred))  # Printing the confusion matrix"
      ],
      "metadata": {
        "id": "J390a5sL594-",
        "colab": {
          "base_uri": "https://localhost:8080/"
        },
        "outputId": "ca5c28b7-e549-4504-f02e-e9085817186e"
      },
      "execution_count": null,
      "outputs": [
        {
          "output_type": "stream",
          "name": "stdout",
          "text": [
            "[[179   2]\n",
            " [ 70   1]]\n"
          ]
        }
      ]
    },
    {
      "cell_type": "code",
      "source": [],
      "metadata": {
        "id": "8wG48qNO9Kz6"
      },
      "execution_count": null,
      "outputs": []
    },
    {
      "cell_type": "code",
      "source": [],
      "metadata": {
        "id": "rOcxF70g9K9u"
      },
      "execution_count": null,
      "outputs": []
    },
    {
      "cell_type": "code",
      "source": [],
      "metadata": {
        "id": "Q2o9j_xO9LBy"
      },
      "execution_count": null,
      "outputs": []
    },
    {
      "cell_type": "markdown",
      "source": [
        "# <font color=\"#FF5722\"><b>Step 6: Clustering Analysis - Socio-Economic Patterns</b></font>\n",
        "\n",
        "## <font color=\"#FFC107\"><b>6.1 K-Means Clustering</b></font>\n",
        "- **Note:** K-Means is an unsupervised learning algorithm used to cluster individuals based on socio-economic features. The Elbow Method helps determine the optimal number of clusters by plotting the inertia across different values of K. Once the optimal K is chosen, cluster centroids are analyzed to identify the distinct characteristics of each group. This clustering technique can uncover hidden patterns within the data, but be sure to standardize the data before applying K-Means to ensure accurate clustering."
      ],
      "metadata": {
        "id": "ktA86J1PdN5Z"
      }
    },
    {
      "cell_type": "markdown",
      "source": [
        "# EXPLORING DEMOGRAPHIC AND SOCIAL ECONOMIC PATTERNS: CLUSTERING ANALYSIS OF INDIVIDUALS"
      ],
      "metadata": {
        "id": "1krUsJju9MPX"
      }
    },
    {
      "cell_type": "code",
      "source": [
        "# Import Necessary Libraries"
      ],
      "metadata": {
        "id": "UWSGVeo2pHHE"
      },
      "execution_count": null,
      "outputs": []
    },
    {
      "cell_type": "code",
      "source": [
        "import pandas as pd  # Importing pandas for data manipulation"
      ],
      "metadata": {
        "id": "AagXdSfm9LFm"
      },
      "execution_count": null,
      "outputs": []
    },
    {
      "cell_type": "code",
      "source": [
        "from sklearn.cluster import KMeans  # Importing KMeans for clustering analysis"
      ],
      "metadata": {
        "id": "KLp3rOhgpKeO"
      },
      "execution_count": null,
      "outputs": []
    },
    {
      "cell_type": "code",
      "source": [
        "from sklearn.preprocessing import StandardScaler  # Importing StandardScaler for feature scaling"
      ],
      "metadata": {
        "id": "hF55hPmXpKhf"
      },
      "execution_count": null,
      "outputs": []
    },
    {
      "cell_type": "code",
      "source": [
        "import matplotlib.pyplot as plt  # Importing matplotlib for data visualization"
      ],
      "metadata": {
        "id": "yHjduYfbpKlb"
      },
      "execution_count": null,
      "outputs": []
    },
    {
      "cell_type": "code",
      "source": [],
      "metadata": {
        "id": "Gy416-nkpR8X"
      },
      "execution_count": null,
      "outputs": []
    },
    {
      "cell_type": "code",
      "source": [
        "# Load the Data"
      ],
      "metadata": {
        "id": "rcvZVeC8pR_z"
      },
      "execution_count": null,
      "outputs": []
    },
    {
      "cell_type": "code",
      "source": [
        "df = pd.read_csv('processed_data.csv')  # Loading the processed dataset"
      ],
      "metadata": {
        "id": "BK32nV7CpSDF"
      },
      "execution_count": null,
      "outputs": []
    },
    {
      "cell_type": "code",
      "source": [],
      "metadata": {
        "id": "tRQNkSKYpWrJ"
      },
      "execution_count": null,
      "outputs": []
    },
    {
      "cell_type": "code",
      "source": [
        "# Select Features for Clustering"
      ],
      "metadata": {
        "id": "tdBqsNoLpWuK"
      },
      "execution_count": null,
      "outputs": []
    },
    {
      "cell_type": "code",
      "source": [
        "X = df.drop(columns=['wage'])  # Selecting features for clustering by excluding the target variable 'wage'"
      ],
      "metadata": {
        "id": "rXnpjWbe9LKz"
      },
      "execution_count": null,
      "outputs": []
    },
    {
      "cell_type": "code",
      "source": [],
      "metadata": {
        "id": "Boq7y_jMpdCf"
      },
      "execution_count": null,
      "outputs": []
    },
    {
      "cell_type": "code",
      "source": [
        "# Standardize Features"
      ],
      "metadata": {
        "id": "27Pha9CzpdGG"
      },
      "execution_count": null,
      "outputs": []
    },
    {
      "cell_type": "code",
      "source": [
        "scaler = StandardScaler()  # Initializing StandardScaler object"
      ],
      "metadata": {
        "id": "7ZlaAr6f9LNy"
      },
      "execution_count": null,
      "outputs": []
    },
    {
      "cell_type": "code",
      "source": [
        "X_scaled = scaler.fit_transform(X)  # Standardizing features to have mean of 0 and standard deviation of 1"
      ],
      "metadata": {
        "id": "O63BFa3spmpT"
      },
      "execution_count": null,
      "outputs": []
    },
    {
      "cell_type": "code",
      "source": [],
      "metadata": {
        "id": "9rXNJVUZ9LQC"
      },
      "execution_count": null,
      "outputs": []
    },
    {
      "cell_type": "code",
      "source": [
        "# Determine Optimal Number of Clusters (K) using the Elbow Method"
      ],
      "metadata": {
        "id": "rnfKHP3e9LSc"
      },
      "execution_count": null,
      "outputs": []
    },
    {
      "cell_type": "code",
      "source": [
        "inertia = []  # Initializing list to store inertia values"
      ],
      "metadata": {
        "id": "07ZNO6A89LUe"
      },
      "execution_count": null,
      "outputs": []
    },
    {
      "cell_type": "code",
      "source": [
        "for k in range(1, 11):  # Iterating through different values of K\n",
        "    kmeans = KMeans(n_clusters=k, random_state=42)  # Initializing KMeans object with current K value\n",
        "    kmeans.fit(X_scaled)  # Fitting KMeans model to the scaled data\n",
        "    inertia.append(kmeans.inertia_)  # Appending inertia value to the list"
      ],
      "metadata": {
        "id": "UErVPLu49tg_",
        "colab": {
          "base_uri": "https://localhost:8080/"
        },
        "outputId": "eeb7ab98-f2a1-42d7-af17-ba239084c278"
      },
      "execution_count": null,
      "outputs": [
        {
          "output_type": "stream",
          "name": "stderr",
          "text": [
            "/usr/local/lib/python3.10/dist-packages/sklearn/cluster/_kmeans.py:870: FutureWarning: The default value of `n_init` will change from 10 to 'auto' in 1.4. Set the value of `n_init` explicitly to suppress the warning\n",
            "  warnings.warn(\n",
            "/usr/local/lib/python3.10/dist-packages/sklearn/cluster/_kmeans.py:870: FutureWarning: The default value of `n_init` will change from 10 to 'auto' in 1.4. Set the value of `n_init` explicitly to suppress the warning\n",
            "  warnings.warn(\n",
            "/usr/local/lib/python3.10/dist-packages/sklearn/cluster/_kmeans.py:870: FutureWarning: The default value of `n_init` will change from 10 to 'auto' in 1.4. Set the value of `n_init` explicitly to suppress the warning\n",
            "  warnings.warn(\n",
            "/usr/local/lib/python3.10/dist-packages/sklearn/cluster/_kmeans.py:870: FutureWarning: The default value of `n_init` will change from 10 to 'auto' in 1.4. Set the value of `n_init` explicitly to suppress the warning\n",
            "  warnings.warn(\n",
            "/usr/local/lib/python3.10/dist-packages/sklearn/cluster/_kmeans.py:870: FutureWarning: The default value of `n_init` will change from 10 to 'auto' in 1.4. Set the value of `n_init` explicitly to suppress the warning\n",
            "  warnings.warn(\n",
            "/usr/local/lib/python3.10/dist-packages/sklearn/cluster/_kmeans.py:870: FutureWarning: The default value of `n_init` will change from 10 to 'auto' in 1.4. Set the value of `n_init` explicitly to suppress the warning\n",
            "  warnings.warn(\n",
            "/usr/local/lib/python3.10/dist-packages/sklearn/cluster/_kmeans.py:870: FutureWarning: The default value of `n_init` will change from 10 to 'auto' in 1.4. Set the value of `n_init` explicitly to suppress the warning\n",
            "  warnings.warn(\n",
            "/usr/local/lib/python3.10/dist-packages/sklearn/cluster/_kmeans.py:870: FutureWarning: The default value of `n_init` will change from 10 to 'auto' in 1.4. Set the value of `n_init` explicitly to suppress the warning\n",
            "  warnings.warn(\n",
            "/usr/local/lib/python3.10/dist-packages/sklearn/cluster/_kmeans.py:870: FutureWarning: The default value of `n_init` will change from 10 to 'auto' in 1.4. Set the value of `n_init` explicitly to suppress the warning\n",
            "  warnings.warn(\n",
            "/usr/local/lib/python3.10/dist-packages/sklearn/cluster/_kmeans.py:870: FutureWarning: The default value of `n_init` will change from 10 to 'auto' in 1.4. Set the value of `n_init` explicitly to suppress the warning\n",
            "  warnings.warn(\n"
          ]
        }
      ]
    },
    {
      "cell_type": "code",
      "source": [],
      "metadata": {
        "id": "hov6tKdVpyxB"
      },
      "execution_count": null,
      "outputs": []
    },
    {
      "cell_type": "code",
      "source": [],
      "metadata": {
        "id": "JYot_tsfp2DS"
      },
      "execution_count": null,
      "outputs": []
    },
    {
      "cell_type": "code",
      "source": [
        "# Plot the Elbow Method"
      ],
      "metadata": {
        "id": "JTFYpeWppy0I"
      },
      "execution_count": null,
      "outputs": []
    },
    {
      "cell_type": "code",
      "source": [
        "plt.figure(figsize=(10, 6))  # Setting the figure size\n",
        "plt.plot(range(1, 11), inertia, marker='o', linestyle='--')  # Plotting inertia values against number of clusters\n",
        "plt.xlabel('Number of Clusters (K)')  # Adding label to x-axis\n",
        "plt.ylabel('Inertia')  # Adding label to y-axis\n",
        "plt.title('Elbow Method')  # Adding title to the plot\n",
        "plt.xticks(range(1, 11))  # Setting x-axis ticks\n",
        "plt.grid(True)  # Adding grid lines\n",
        "plt.show()  # Displaying the plot"
      ],
      "metadata": {
        "id": "PjZFD0p19tkj",
        "colab": {
          "base_uri": "https://localhost:8080/",
          "height": 564
        },
        "outputId": "81fb3cf4-ed6d-4744-a1c8-237eb7262871"
      },
      "execution_count": null,
      "outputs": [
        {
          "output_type": "display_data",
          "data": {
            "text/plain": [
              "<Figure size 1000x600 with 1 Axes>"
            ],
            "image/png": "[encoded data removed]"
          },
          "metadata": {}
        }
      ]
    },
    {
      "cell_type": "code",
      "source": [],
      "metadata": {
        "id": "TbG3B9NDp6Tr"
      },
      "execution_count": null,
      "outputs": []
    },
    {
      "cell_type": "code",
      "source": [],
      "metadata": {
        "id": "syNMjKdpp6Ww"
      },
      "execution_count": null,
      "outputs": []
    },
    {
      "cell_type": "code",
      "source": [
        "# Based on the Elbow Method, choose the optimal number of clusters (K)\n",
        "# Let's assume K=3 for demonstration purposes"
      ],
      "metadata": {
        "id": "qdqUdn_d9tn3"
      },
      "execution_count": null,
      "outputs": []
    },
    {
      "cell_type": "code",
      "source": [
        "# Perform K-means Clustering with K=3"
      ],
      "metadata": {
        "id": "jwU-_W8C9trS"
      },
      "execution_count": null,
      "outputs": []
    },
    {
      "cell_type": "code",
      "source": [
        "kmeans = KMeans(n_clusters=3, random_state=42, n_init=10)  # Initializing KMeans object with chosen number of clusters"
      ],
      "metadata": {
        "id": "LrGBGUgv917c"
      },
      "execution_count": null,
      "outputs": []
    },
    {
      "cell_type": "code",
      "source": [
        "clusters = kmeans.fit_predict(X_scaled)  # Performing K-means clustering and assigning cluster labels"
      ],
      "metadata": {
        "id": "QVIRye2r922F"
      },
      "execution_count": null,
      "outputs": []
    },
    {
      "cell_type": "code",
      "source": [],
      "metadata": {
        "id": "TlwloILQ96w5"
      },
      "execution_count": null,
      "outputs": []
    },
    {
      "cell_type": "code",
      "source": [
        "# Add Cluster Labels to the DataFrame"
      ],
      "metadata": {
        "id": "BUdCfMW9960U"
      },
      "execution_count": null,
      "outputs": []
    },
    {
      "cell_type": "code",
      "source": [
        "df['cluster'] = clusters  # Adding cluster labels as a new column in the dataset"
      ],
      "metadata": {
        "id": "KnA7kApm963Y"
      },
      "execution_count": null,
      "outputs": []
    },
    {
      "cell_type": "code",
      "source": [],
      "metadata": {
        "id": "07Du2jkkqMjV"
      },
      "execution_count": null,
      "outputs": []
    },
    {
      "cell_type": "code",
      "source": [
        "# Analyze Cluster Characteristics"
      ],
      "metadata": {
        "id": "ACNrEwhtqMm-"
      },
      "execution_count": null,
      "outputs": []
    },
    {
      "cell_type": "code",
      "source": [
        "cluster_means = df.groupby('cluster').mean()  # Calculating mean values of each feature for each cluster"
      ],
      "metadata": {
        "id": "bCEx7bW8-6bL"
      },
      "execution_count": null,
      "outputs": []
    },
    {
      "cell_type": "code",
      "source": [
        "print(cluster_means)  # Displaying the mean values for each cluster"
      ],
      "metadata": {
        "id": "i8sVrYHy96-a",
        "colab": {
          "base_uri": "https://localhost:8080/"
        },
        "outputId": "3866ef66-c869-4475-de88-e078c4d549c4"
      },
      "execution_count": null,
      "outputs": [
        {
          "output_type": "stream",
          "name": "stdout",
          "text": [
            "             wage     exper     union  goodhlth     black    female   married  \\\n",
            "cluster                                                                         \n",
            "0       -0.336848 -0.533894 -0.129748  0.267603  0.162443  0.835855 -0.746099   \n",
            "1        0.266820  0.355264  0.090570  0.267603 -0.143312 -0.673150  0.577393   \n",
            "2       -0.024891  0.490378  0.086013 -3.736882  0.126676  0.148418  0.051382   \n",
            "\n",
            "          service      educ     looks  \n",
            "cluster                                \n",
            "0        0.290022  0.121629  0.079267  \n",
            "1       -0.202966 -0.044057 -0.034284  \n",
            "2       -0.188209 -0.400592 -0.217420  \n"
          ]
        }
      ]
    },
    {
      "cell_type": "code",
      "source": [],
      "metadata": {
        "id": "5IM2NbM2qW6U"
      },
      "execution_count": null,
      "outputs": []
    },
    {
      "cell_type": "code",
      "source": [],
      "metadata": {
        "id": "sIXOPEsVqW9g"
      },
      "execution_count": null,
      "outputs": []
    },
    {
      "cell_type": "code",
      "source": [
        "# Save the Elbow Method Graph for Printing"
      ],
      "metadata": {
        "id": "-Xe82PT1qXdD"
      },
      "execution_count": null,
      "outputs": []
    },
    {
      "cell_type": "code",
      "source": [
        "# Plot the Elbow Method"
      ],
      "metadata": {
        "id": "a4-mslz2-Fjp"
      },
      "execution_count": null,
      "outputs": []
    },
    {
      "cell_type": "code",
      "source": [
        "plt.figure(figsize=(10, 6))  # Setting the figure size\n",
        "plt.plot(range(1, 11), inertia, marker='o', linestyle='--')  # Plotting inertia values against number of clusters\n",
        "plt.xlabel('Number of Clusters (K)')  # Adding label to x-axis\n",
        "plt.ylabel('Inertia')  # Adding label to y-axis\n",
        "plt.title('Elbow Method')  # Adding title to the plot\n",
        "plt.xticks(range(1, 11))  # Setting x-axis ticks\n",
        "plt.grid(True)  # Adding grid lines"
      ],
      "metadata": {
        "id": "4AE6KM-t-Fmc",
        "colab": {
          "base_uri": "https://localhost:8080/",
          "height": 564
        },
        "outputId": "611eec5d-7752-4ac4-9808-4287e8ecc51a"
      },
      "execution_count": null,
      "outputs": [
        {
          "output_type": "display_data",
          "data": {
            "text/plain": [
              "<Figure size 1000x600 with 1 Axes>"
            ],
            "image/png": "[encoded data removed]"
          },
          "metadata": {}
        }
      ]
    },
    {
      "cell_type": "code",
      "source": [],
      "metadata": {
        "id": "Px1qhrXWqeWH"
      },
      "execution_count": null,
      "outputs": []
    },
    {
      "cell_type": "code",
      "source": [],
      "metadata": {
        "id": "XTZ050ScqeZp"
      },
      "execution_count": null,
      "outputs": []
    },
    {
      "cell_type": "code",
      "source": [
        "\n",
        "# Save the graph as an image file (e.g., PNG or PDF)"
      ],
      "metadata": {
        "id": "EJipKjL1qedF"
      },
      "execution_count": null,
      "outputs": []
    },
    {
      "cell_type": "code",
      "source": [
        "plt.savefig('elbow_method_graph.png')  # Saving the plot as PNG image"
      ],
      "metadata": {
        "id": "wtR5CXhO-Fpv",
        "colab": {
          "base_uri": "https://localhost:8080/",
          "height": 35
        },
        "outputId": "cf6b7a6b-8816-408b-937b-1a94540921cc"
      },
      "execution_count": null,
      "outputs": [
        {
          "output_type": "display_data",
          "data": {
            "text/plain": [
              "<Figure size 640x480 with 0 Axes>"
            ]
          },
          "metadata": {}
        }
      ]
    },
    {
      "cell_type": "code",
      "source": [
        "plt.savefig('elbow_method_graph.pdf', format='pdf')  # Saving the plot as PDF file"
      ],
      "metadata": {
        "colab": {
          "base_uri": "https://localhost:8080/",
          "height": 35
        },
        "id": "3TPyfQ9U-L43",
        "outputId": "ab4bdce6-676a-40c1-fbd5-d7c1dd3c53a5"
      },
      "execution_count": null,
      "outputs": [
        {
          "output_type": "display_data",
          "data": {
            "text/plain": [
              "<Figure size 640x480 with 0 Axes>"
            ]
          },
          "metadata": {}
        }
      ]
    },
    {
      "cell_type": "code",
      "source": [],
      "metadata": {
        "id": "rhuS9zQeqnSC"
      },
      "execution_count": null,
      "outputs": []
    },
    {
      "cell_type": "code",
      "source": [
        "# Display the graph"
      ],
      "metadata": {
        "id": "U2OntPipqnVk"
      },
      "execution_count": null,
      "outputs": []
    },
    {
      "cell_type": "code",
      "source": [
        "plt.show()  # Displaying the plot"
      ],
      "metadata": {
        "id": "We55FKvQ_ssR"
      },
      "execution_count": null,
      "outputs": []
    },
    {
      "cell_type": "code",
      "source": [],
      "metadata": {
        "id": "yeojncyfqstd"
      },
      "execution_count": null,
      "outputs": []
    },
    {
      "cell_type": "code",
      "source": [
        "# Save the graph as a PNG image file"
      ],
      "metadata": {
        "id": "0zGbkIfUqswm"
      },
      "execution_count": null,
      "outputs": []
    },
    {
      "cell_type": "code",
      "source": [
        "plt.savefig('elbow_method_graph.png')  # Saving the plot as PNG image"
      ],
      "metadata": {
        "id": "00vhOuW1_svX",
        "colab": {
          "base_uri": "https://localhost:8080/",
          "height": 35
        },
        "outputId": "b5005f8b-be81-4dab-9e52-75ccfe158ec7"
      },
      "execution_count": null,
      "outputs": [
        {
          "output_type": "display_data",
          "data": {
            "text/plain": [
              "<Figure size 640x480 with 0 Axes>"
            ]
          },
          "metadata": {}
        }
      ]
    },
    {
      "cell_type": "code",
      "source": [],
      "metadata": {
        "id": "4XB_vRB1q9m4"
      },
      "execution_count": null,
      "outputs": []
    },
    {
      "cell_type": "code",
      "source": [
        "# Display the saved image"
      ],
      "metadata": {
        "id": "zsZt26oEq9qR"
      },
      "execution_count": null,
      "outputs": []
    },
    {
      "cell_type": "code",
      "source": [
        "from IPython.display import Image  # Importing Image module for displaying images"
      ],
      "metadata": {
        "id": "jnutUSFG_sxx"
      },
      "execution_count": null,
      "outputs": []
    },
    {
      "cell_type": "code",
      "source": [
        "Image('elbow_method_graph.png')  # Displaying the saved PNG image"
      ],
      "metadata": {
        "id": "9zrahK0M_x1E",
        "colab": {
          "base_uri": "https://localhost:8080/",
          "height": 497
        },
        "outputId": "723b4dde-d138-4cbd-f3a7-31e2faa5b54d",
        "collapsed": true
      },
      "execution_count": null,
      "outputs": [
        {
          "output_type": "execute_result",
          "data": {
            "image/png": "[encoded data removed]",
            "text/plain": [
              "<IPython.core.display.Image object>"
            ]
          },
          "metadata": {},
          "execution_count": 154
        }
      ]
    },
    {
      "cell_type": "code",
      "source": [],
      "metadata": {
        "id": "tMQAYSkIdpGy"
      },
      "execution_count": null,
      "outputs": []
    },
    {
      "cell_type": "code",
      "source": [],
      "metadata": {
        "id": "jqG2d2EcdpKH"
      },
      "execution_count": null,
      "outputs": []
    },
    {
      "cell_type": "code",
      "source": [],
      "metadata": {
        "id": "psbya3Nmdpgh"
      },
      "execution_count": null,
      "outputs": []
    },
    {
      "cell_type": "markdown",
      "source": [
        "# <font color=\"#4CAF50\"><b>Conclusion</b></font>\n",
        "\n",
        "## <font color=\"#2196F3\"><b>Summary of Insights</b></font>\n",
        "- **Note:** In this project, we conducted a comprehensive **Exploratory Data Analysis (EDA)** on the `Beauty_csv` dataset, identifying key patterns and trends.\n",
        "  - We explored the **distribution of variables** and detected missing values, providing a foundation for further data cleaning and preprocessing.\n",
        "  - **Visualizations** helped in identifying relationships between different variables, giving insights into the structure of the data.\n",
        "  - Potential tasks were outlined, such as **predictive modeling** and **customer segmentation**, that can be further pursued for business insights.\n",
        "\n",
        "## <font color=\"#2196F3\"><b>Recommendations for Future Work</b></font>\n",
        "- **Note:** Based on our EDA, the following tasks could be considered for deeper analysis:\n",
        "  - **Predictive Modeling:** Use machine learning algorithms to predict beauty product sales, customer preferences, or product success rates.\n",
        "  - **Customer Segmentation:** Leverage clustering techniques to identify distinct customer segments and tailor marketing strategies accordingly.\n",
        "  - **Sentiment Analysis:** Apply NLP techniques to analyze customer reviews, identifying key themes and trends in customer feedback.\n",
        "\n",
        "## <font color=\"#2196F3\"><b>Final Thoughts</b></font>\n",
        "- **Note:** This EDA has laid a strong foundation for more advanced analysis and machine learning tasks. Future efforts can build on this groundwork to extract actionable insights, optimize business strategies, and enhance decision-making processes within the beauty industry."
      ],
      "metadata": {
        "id": "s2xei8Pcdp2J"
      }
    }
  ]
}