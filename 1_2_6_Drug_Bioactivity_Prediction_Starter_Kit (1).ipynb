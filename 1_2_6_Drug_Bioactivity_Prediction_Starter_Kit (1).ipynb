{
  "nbformat": 4,
  "nbformat_minor": 0,
  "metadata": {
    "colab": {
      "provenance": []
    },
    "kernelspec": {
      "name": "python3",
      "display_name": "Python 3"
    },
    "language_info": {
      "name": "python"
    }
  },
  "cells": [
    {
      "cell_type": "markdown",
      "source": [
        "# <span style=\"color: #2E86C1;\">Project Overview: 1.2.6.  Drug Bioactivity Prediction - Starter Kit</span>\n",
        "\n",
        "## <span style=\"color: #5D6D7E;\">1. Introduction</span>\n",
        "This project involves analyzing a bioactivity dataset to understand the relationships between various chemical compounds and their biological activities. The goal is to predict the bioactivity of compounds based on their chemical structure and properties.\n",
        "\n",
        "## <span style=\"color: #5D6D7E;\">2. Objectives</span>\n",
        "- To explore the dataset and identify key patterns and relationships.\n",
        "- To preprocess the data for modeling.\n",
        "- To develop a predictive model using machine learning techniques.\n",
        "- To evaluate the performance of the model and fine-tune parameters for optimal results.\n",
        "\n",
        "## <span style=\"color: #5D6D7E;\">3. Dataset Description</span>\n",
        "The dataset consists of 100 entries with the following columns:\n",
        "- **assay_chembl_id**: Unique identifier for the assay.\n",
        "- **molecule_chembl_id**: Unique identifier for the molecule.\n",
        "- **standard_value**: The measured biological activity.\n",
        "- **type**: Type of bioactivity (e.g., IC50).\n",
        "- **value**: Numerical value of the bioactivity.\n",
        "\n",
        "## <span style=\"color: #5D6D7E;\">4. Methodology</span>\n",
        "\n",
        "### <span style=\"color: #3498DB;\">4.1 Data Exploration</span>\n",
        "- Visualize distributions of numerical features.\n",
        "- Examine correlations among different variables.\n",
        "- Analyze categorical variables through count plots.\n",
        "\n",
        "### <span style=\"color: #3498DB;\">4.2 Data Preprocessing</span>\n",
        "- Handle missing values by filling them with appropriate statistics.\n",
        "- Encode categorical variables using label encoding.\n",
        "- Apply log transformations to reduce skewness in data distributions.\n",
        "\n",
        "### <span style=\"color: #3498DB;\">4.3 Model Development</span>\n",
        "- Split the dataset into training and testing sets.\n",
        "- Utilize a Random Forest Regressor for predictions.\n",
        "- Conduct hyperparameter tuning using GridSearchCV for optimal model configuration.\n",
        "\n",
        "### <span style=\"color: #3498DB;\">4.4 Model Evaluation</span>\n",
        "- Assess model performance using metrics such as Mean Absolute Error (MAE), Mean Squared Error (MSE), and R-squared values.\n",
        "- Analyze cross-validated R-squared scores to ensure robustness of the model.\n",
        "\n",
        "## <span style=\"color: #5D6D7E;\">5. Conclusion</span>\n",
        "The analysis aims to yield valuable insights into the bioactivity of compounds, contributing to the field of cheminformatics and drug discovery. The outcomes will assist researchers in identifying promising candidates for further investigation.\n",
        "\n",
        "## <span style=\"color: #5D6D7E;\">6. Future Work</span>\n",
        "- Explore advanced modeling techniques such as neural networks.\n",
        "- Expand the dataset with additional features or larger samples for better accuracy.\n",
        "- Implement real-time bioactivity prediction systems for practical applications.\n",
        "\n",
        "---\n",
        "\n",
        "This project overview provides a comprehensive understanding of the objectives, methodology, and expected outcomes. It serves as a foundation for the detailed implementation and analysis performed in the associated code."
      ],
      "metadata": {
        "id": "niFGNYyNd88z"
      }
    },
    {
      "cell_type": "code",
      "source": [],
      "metadata": {
        "id": "ZZ4kmokUeJBr"
      },
      "execution_count": null,
      "outputs": []
    },
    {
      "cell_type": "code",
      "source": [],
      "metadata": {
        "id": "7oiHwMjPeJF8"
      },
      "execution_count": null,
      "outputs": []
    },
    {
      "cell_type": "code",
      "source": [
        "!pip install chembl_webresource_client  # Install the ChEMBL web resource client to access and interact with ChEMBL's chemical and biological data.\n"
      ],
      "metadata": {
        "colab": {
          "base_uri": "https://localhost:8080/"
        },
        "id": "hFjnWIvceJJE",
        "outputId": "801c5a28-155c-47ca-baff-9ddf99edd3ae"
      },
      "execution_count": 27,
      "outputs": [
        {
          "output_type": "stream",
          "name": "stdout",
          "text": [
            "Requirement already satisfied: chembl_webresource_client in /usr/local/lib/python3.10/dist-packages (0.10.9)\n",
            "Requirement already satisfied: urllib3 in /usr/local/lib/python3.10/dist-packages (from chembl_webresource_client) (2.0.7)\n",
            "Requirement already satisfied: requests>=2.18.4 in /usr/local/lib/python3.10/dist-packages (from chembl_webresource_client) (2.32.3)\n",
            "Requirement already satisfied: requests-cache~=1.2 in /usr/local/lib/python3.10/dist-packages (from chembl_webresource_client) (1.2.1)\n",
            "Requirement already satisfied: easydict in /usr/local/lib/python3.10/dist-packages (from chembl_webresource_client) (1.13)\n",
            "Requirement already satisfied: charset-normalizer<4,>=2 in /usr/local/lib/python3.10/dist-packages (from requests>=2.18.4->chembl_webresource_client) (3.3.2)\n",
            "Requirement already satisfied: idna<4,>=2.5 in /usr/local/lib/python3.10/dist-packages (from requests>=2.18.4->chembl_webresource_client) (3.10)\n",
            "Requirement already satisfied: certifi>=2017.4.17 in /usr/local/lib/python3.10/dist-packages (from requests>=2.18.4->chembl_webresource_client) (2024.8.30)\n",
            "Requirement already satisfied: attrs>=21.2 in /usr/local/lib/python3.10/dist-packages (from requests-cache~=1.2->chembl_webresource_client) (24.2.0)\n",
            "Requirement already satisfied: cattrs>=22.2 in /usr/local/lib/python3.10/dist-packages (from requests-cache~=1.2->chembl_webresource_client) (24.1.1)\n",
            "Requirement already satisfied: platformdirs>=2.5 in /usr/local/lib/python3.10/dist-packages (from requests-cache~=1.2->chembl_webresource_client) (4.3.4)\n",
            "Requirement already satisfied: url-normalize>=1.4 in /usr/local/lib/python3.10/dist-packages (from requests-cache~=1.2->chembl_webresource_client) (1.4.3)\n",
            "Requirement already satisfied: exceptiongroup>=1.1.1 in /usr/local/lib/python3.10/dist-packages (from cattrs>=22.2->requests-cache~=1.2->chembl_webresource_client) (1.2.2)\n",
            "Requirement already satisfied: typing-extensions!=4.6.3,>=4.1.0 in /usr/local/lib/python3.10/dist-packages (from cattrs>=22.2->requests-cache~=1.2->chembl_webresource_client) (4.12.2)\n",
            "Requirement already satisfied: six in /usr/local/lib/python3.10/dist-packages (from url-normalize>=1.4->requests-cache~=1.2->chembl_webresource_client) (1.16.0)\n"
          ]
        }
      ]
    },
    {
      "cell_type": "code",
      "source": [],
      "metadata": {
        "id": "sjAN6P9ffpJ9"
      },
      "execution_count": null,
      "outputs": []
    },
    {
      "cell_type": "code",
      "source": [],
      "metadata": {
        "id": "tvaCMC9ffpNg"
      },
      "execution_count": null,
      "outputs": []
    },
    {
      "cell_type": "markdown",
      "source": [
        "# <span style=\"color: #2E86C1;\">Step 1: Importing Libraries</span>\n",
        "\n",
        "In this step, we import the necessary libraries to facilitate data manipulation, analysis, and modeling. The primary libraries include:\n",
        "- **Pandas**: For data manipulation and analysis.\n",
        "- **NumPy**: For numerical operations.\n",
        "- **Scikit-learn**: For machine learning algorithms and utilities.\n",
        "- **Matplotlib** and **Seaborn**: For data visualization.\n",
        "- **Warnings**: To suppress any warnings that may arise during the execution."
      ],
      "metadata": {
        "id": "Z6H07m-zeKFd"
      }
    },
    {
      "cell_type": "code",
      "source": [
        "# Load the necessary libraries\n"
      ],
      "metadata": {
        "id": "PLCo9IilUuNu"
      },
      "execution_count": 28,
      "outputs": []
    },
    {
      "cell_type": "code",
      "source": [
        "import pandas as pd  # For data manipulation and analysis"
      ],
      "metadata": {
        "id": "Cec-1hJ7YzKm"
      },
      "execution_count": 29,
      "outputs": []
    },
    {
      "cell_type": "code",
      "source": [
        "import numpy as np  # For numerical operations"
      ],
      "metadata": {
        "id": "MLHIAPZoYzN9"
      },
      "execution_count": 30,
      "outputs": []
    },
    {
      "cell_type": "code",
      "source": [
        "import matplotlib.pyplot as plt  # For plotting graphs"
      ],
      "metadata": {
        "id": "QxtLs6mHYzQX"
      },
      "execution_count": 31,
      "outputs": []
    },
    {
      "cell_type": "code",
      "source": [
        "import seaborn as sns  # For statistical data visualization"
      ],
      "metadata": {
        "id": "pK97FaG7YzSd"
      },
      "execution_count": 32,
      "outputs": []
    },
    {
      "cell_type": "code",
      "source": [
        "from sklearn.model_selection import train_test_split, GridSearchCV  # For splitting the dataset and hyperparameter tuning\n"
      ],
      "metadata": {
        "id": "Q6OIlNQWYzUf"
      },
      "execution_count": 37,
      "outputs": []
    },
    {
      "cell_type": "code",
      "source": [
        "from sklearn.ensemble import RandomForestRegressor  # For regression modeling"
      ],
      "metadata": {
        "id": "dthMm9h4YzW3"
      },
      "execution_count": 34,
      "outputs": []
    },
    {
      "cell_type": "code",
      "source": [
        "from sklearn.preprocessing import StandardScaler, LabelEncoder  # For feature scaling and encoding"
      ],
      "metadata": {
        "id": "fi9gsDGaYzZB"
      },
      "execution_count": 35,
      "outputs": []
    },
    {
      "cell_type": "code",
      "source": [
        "from sklearn.metrics import mean_absolute_error, mean_squared_error, r2_score  # For model evaluation metrics"
      ],
      "metadata": {
        "id": "q5uU1lRDYzgm"
      },
      "execution_count": 36,
      "outputs": []
    },
    {
      "cell_type": "code",
      "source": [
        "import warnings  # Import warnings to manage warnings"
      ],
      "metadata": {
        "id": "FiBsCKzRYzlO"
      },
      "execution_count": 125,
      "outputs": []
    },
    {
      "cell_type": "code",
      "source": [
        "warnings.filterwarnings('ignore')  # Ignore warnings for cleaner output"
      ],
      "metadata": {
        "id": "rhn6chDYkBQ7"
      },
      "execution_count": 126,
      "outputs": []
    },
    {
      "cell_type": "code",
      "source": [],
      "metadata": {
        "id": "HZoFbTDjkBUy"
      },
      "execution_count": null,
      "outputs": []
    },
    {
      "cell_type": "code",
      "source": [],
      "metadata": {
        "id": "6lyKZdOZaBUZ"
      },
      "execution_count": 36,
      "outputs": []
    },
    {
      "cell_type": "code",
      "source": [],
      "metadata": {
        "id": "ahtaj6xPeOoV"
      },
      "execution_count": null,
      "outputs": []
    },
    {
      "cell_type": "markdown",
      "source": [
        "# <span style=\"color: #2E86C1;\">Step 2: Loading the Dataset</span>\n",
        "\n",
        "Here, we load the bioactivity dataset from a specified file path. This dataset will be used for analysis and modeling. We can utilize **pandas** to read the dataset and inspect its initial structure to ensure it loaded correctly."
      ],
      "metadata": {
        "id": "NGVnekWZeO2F"
      }
    },
    {
      "cell_type": "code",
      "source": [
        "# Load the dataset"
      ],
      "metadata": {
        "id": "VkWNmnFzaBXn"
      },
      "execution_count": 38,
      "outputs": []
    },
    {
      "cell_type": "code",
      "source": [
        "df = pd.read_csv('bioactivity_data.csv')  # Read the dataset from a CSV file"
      ],
      "metadata": {
        "id": "kvgkO3SRaBa5"
      },
      "execution_count": 39,
      "outputs": []
    },
    {
      "cell_type": "code",
      "source": [],
      "metadata": {
        "id": "jL_vWiHAaBeh"
      },
      "execution_count": null,
      "outputs": []
    },
    {
      "cell_type": "code",
      "source": [],
      "metadata": {
        "id": "8jlGn1oIaBg8"
      },
      "execution_count": null,
      "outputs": []
    },
    {
      "cell_type": "code",
      "source": [],
      "metadata": {
        "id": "pxupXhFiYzru"
      },
      "execution_count": null,
      "outputs": []
    },
    {
      "cell_type": "markdown",
      "source": [
        "# <span style=\"color: #2E86C1;\">Step 3: Exploring the Dataset</span>\n",
        "\n",
        "In this step, we perform an exploratory analysis of the dataset. This includes:\n",
        "- Viewing the first few rows to understand its structure.\n",
        "- Checking for missing values and non-null counts in each column.\n",
        "- Generating summary statistics to gather insights into the data distribution."
      ],
      "metadata": {
        "id": "13jdrx-keVWz"
      }
    },
    {
      "cell_type": "code",
      "source": [
        "# Display the first few rows of the dataset"
      ],
      "metadata": {
        "id": "KS3xTkV6YzwC"
      },
      "execution_count": 40,
      "outputs": []
    },
    {
      "cell_type": "code",
      "source": [
        "print(\"First 5 rows of the dataset:\")  # Print a message\n",
        "print(df.head())  # Display the first 5 rows of the DataFrame"
      ],
      "metadata": {
        "colab": {
          "base_uri": "https://localhost:8080/"
        },
        "id": "tUouJSXsYzyR",
        "outputId": "67e82b1e-287a-48b8-a290-4f3bec3c4b2a"
      },
      "execution_count": 41,
      "outputs": [
        {
          "output_type": "stream",
          "name": "stdout",
          "text": [
            "First 5 rows of the dataset:\n",
            "  assay_chembl_id molecule_chembl_id  standard_value  type  value\n",
            "0    CHEMBL674637        CHEMBL68920            41.0  IC50  0.041\n",
            "1    CHEMBL621151        CHEMBL68920           300.0  IC50  0.300\n",
            "2    CHEMBL615325        CHEMBL68920          7820.0  IC50  7.820\n",
            "3    CHEMBL674637        CHEMBL69960           170.0  IC50  0.170\n",
            "4    CHEMBL621151        CHEMBL69960            40.0  IC50  0.040\n"
          ]
        }
      ]
    },
    {
      "cell_type": "code",
      "source": [],
      "metadata": {
        "id": "-UHHzCaXYz0r"
      },
      "execution_count": null,
      "outputs": []
    },
    {
      "cell_type": "code",
      "source": [],
      "metadata": {
        "id": "mlE9zMpOYz24"
      },
      "execution_count": null,
      "outputs": []
    },
    {
      "cell_type": "code",
      "source": [
        "# Display information about the dataset (column names, non-null counts, and data types)"
      ],
      "metadata": {
        "id": "RDTmZiJGYz4_"
      },
      "execution_count": 42,
      "outputs": []
    },
    {
      "cell_type": "code",
      "source": [
        "print(\"\\nDataset Information:\")  # Print a message\n",
        "print(df.info())  # Display information about the DataFrame"
      ],
      "metadata": {
        "colab": {
          "base_uri": "https://localhost:8080/"
        },
        "id": "XfoEsNKxYz7Z",
        "outputId": "1e3b6943-9d5c-4d5e-d5c7-d8e41a738537"
      },
      "execution_count": 43,
      "outputs": [
        {
          "output_type": "stream",
          "name": "stdout",
          "text": [
            "\n",
            "Dataset Information:\n",
            "<class 'pandas.core.frame.DataFrame'>\n",
            "RangeIndex: 100 entries, 0 to 99\n",
            "Data columns (total 5 columns):\n",
            " #   Column              Non-Null Count  Dtype  \n",
            "---  ------              --------------  -----  \n",
            " 0   assay_chembl_id     100 non-null    object \n",
            " 1   molecule_chembl_id  100 non-null    object \n",
            " 2   standard_value      87 non-null     float64\n",
            " 3   type                100 non-null    object \n",
            " 4   value               87 non-null     float64\n",
            "dtypes: float64(2), object(3)\n",
            "memory usage: 4.0+ KB\n",
            "None\n"
          ]
        }
      ]
    },
    {
      "cell_type": "code",
      "source": [],
      "metadata": {
        "id": "ocT2snweaV_p"
      },
      "execution_count": null,
      "outputs": []
    },
    {
      "cell_type": "code",
      "source": [],
      "metadata": {
        "id": "QWvz4PB8aWCx"
      },
      "execution_count": null,
      "outputs": []
    },
    {
      "cell_type": "code",
      "source": [
        "# Summary statistics of the dataset"
      ],
      "metadata": {
        "id": "H2K5IHR5aWFs"
      },
      "execution_count": 44,
      "outputs": []
    },
    {
      "cell_type": "code",
      "source": [
        "print(\"\\nSummary statistics:\")  # Print a message\n",
        "print(df.describe())  # Display summary statistics for numerical columns"
      ],
      "metadata": {
        "colab": {
          "base_uri": "https://localhost:8080/"
        },
        "id": "Ws5M-rWoaWJR",
        "outputId": "49c18c30-7a09-4cce-d7ac-4322a88553af"
      },
      "execution_count": 45,
      "outputs": [
        {
          "output_type": "stream",
          "name": "stdout",
          "text": [
            "\n",
            "Summary statistics:\n",
            "       standard_value        value\n",
            "count    8.700000e+01    87.000000\n",
            "mean     4.224033e+05   422.403258\n",
            "std      8.619040e+05   861.904027\n",
            "min      4.500000e-01     0.000450\n",
            "25%      1.730000e+03     1.730000\n",
            "50%      6.000000e+04    60.000000\n",
            "75%      4.750000e+05   475.000000\n",
            "max      6.500000e+06  6500.000000\n"
          ]
        }
      ]
    },
    {
      "cell_type": "code",
      "source": [],
      "metadata": {
        "id": "bRxPEpKWacTT"
      },
      "execution_count": null,
      "outputs": []
    },
    {
      "cell_type": "code",
      "source": [],
      "metadata": {
        "id": "Lq5nnSr7iKsg"
      },
      "execution_count": null,
      "outputs": []
    },
    {
      "cell_type": "code",
      "source": [
        "# Display unique values in categorical columns"
      ],
      "metadata": {
        "id": "CT3gIXYwiKwu"
      },
      "execution_count": 105,
      "outputs": []
    },
    {
      "cell_type": "code",
      "source": [
        "unique_assay_ids = df['assay_chembl_id'].unique()  # Get unique assay IDs"
      ],
      "metadata": {
        "id": "pDx5d8xhiMCA"
      },
      "execution_count": 106,
      "outputs": []
    },
    {
      "cell_type": "code",
      "source": [
        "unique_molecule_ids = df['molecule_chembl_id'].unique()  # Get unique molecule IDs"
      ],
      "metadata": {
        "id": "hN_KMW7wiPSI"
      },
      "execution_count": 107,
      "outputs": []
    },
    {
      "cell_type": "code",
      "source": [
        "unique_types = df['type'].unique()  # Get unique types"
      ],
      "metadata": {
        "id": "nsgyGRshiPVm"
      },
      "execution_count": 108,
      "outputs": []
    },
    {
      "cell_type": "code",
      "source": [],
      "metadata": {
        "id": "iR6c_Ke2iWfB"
      },
      "execution_count": null,
      "outputs": []
    },
    {
      "cell_type": "code",
      "source": [
        "print(\"Unique assay_chembl_id:\", unique_assay_ids)  # Print unique assay IDs"
      ],
      "metadata": {
        "colab": {
          "base_uri": "https://localhost:8080/"
        },
        "id": "kIig3WRbiWiZ",
        "outputId": "95521d50-3290-4539-b385-d49c28cdcdf4"
      },
      "execution_count": 109,
      "outputs": [
        {
          "output_type": "stream",
          "name": "stdout",
          "text": [
            "Unique assay_chembl_id: ['CHEMBL674637' 'CHEMBL621151' 'CHEMBL615325' 'CHEMBL677833'\n",
            " 'CHEMBL674643' 'CHEMBL675639' 'CHEMBL675636' 'CHEMBL675637'\n",
            " 'CHEMBL676063' 'CHEMBL675640' 'CHEMBL674645' 'CHEMBL675638'\n",
            " 'CHEMBL674646' 'CHEMBL676065' 'CHEMBL615490' 'CHEMBL679675'\n",
            " 'CHEMBL675641']\n"
          ]
        }
      ]
    },
    {
      "cell_type": "code",
      "source": [],
      "metadata": {
        "id": "L-AKoAeGicRC"
      },
      "execution_count": null,
      "outputs": []
    },
    {
      "cell_type": "code",
      "source": [
        "print(\"Unique molecule_chembl_id:\", unique_molecule_ids)  # Print unique molecule IDs"
      ],
      "metadata": {
        "colab": {
          "base_uri": "https://localhost:8080/"
        },
        "id": "iyHo6w4GicUZ",
        "outputId": "3d117bbd-ce2c-4bcc-bbd4-cd1e4238f2cc"
      },
      "execution_count": 110,
      "outputs": [
        {
          "output_type": "stream",
          "name": "stdout",
          "text": [
            "Unique molecule_chembl_id: ['CHEMBL68920' 'CHEMBL69960' 'CHEMBL137635' 'CHEMBL306988' 'CHEMBL66879'\n",
            " 'CHEMBL77085' 'CHEMBL443268' 'CHEMBL76979' 'CHEMBL76589' 'CHEMBL77724'\n",
            " 'CHEMBL420385' 'CHEMBL76904' 'CHEMBL1009' 'CHEMBL304271' 'CHEMBL296407'\n",
            " 'CHEMBL309625' 'CHEMBL77825' 'CHEMBL421877' 'CHEMBL77278' 'CHEMBL310798'\n",
            " 'CHEMBL135592' 'CHEMBL309866' 'CHEMBL77381' 'CHEMBL76602' 'CHEMBL77737'\n",
            " 'CHEMBL76983' 'CHEMBL308134' 'CHEMBL136491' 'CHEMBL77280' 'CHEMBL42423'\n",
            " 'CHEMBL76557' 'CHEMBL336113' 'CHEMBL133024' 'CHEMBL344652' 'CHEMBL77814'\n",
            " 'CHEMBL47986' 'CHEMBL441343' 'CHEMBL138125' 'CHEMBL137364' 'CHEMBL308339'\n",
            " 'CHEMBL78174' 'CHEMBL302552' 'CHEMBL309598' 'CHEMBL78302' 'CHEMBL67057'\n",
            " 'CHEMBL332096' 'CHEMBL77387' 'CHEMBL432903' 'CHEMBL69964' 'CHEMBL65848'\n",
            " 'CHEMBL69129' 'CHEMBL78184' 'CHEMBL76985' 'CHEMBL145' 'CHEMBL69629'\n",
            " 'CHEMBL136492' 'CHEMBL77197' 'CHEMBL305695' 'CHEMBL68258' 'CHEMBL76587']\n"
          ]
        }
      ]
    },
    {
      "cell_type": "code",
      "source": [],
      "metadata": {
        "id": "tsJ2VVEYigJ2"
      },
      "execution_count": null,
      "outputs": []
    },
    {
      "cell_type": "code",
      "source": [
        "print(\"Unique types:\", unique_types)  # Print unique types"
      ],
      "metadata": {
        "colab": {
          "base_uri": "https://localhost:8080/"
        },
        "id": "UIDpEJkpigNj",
        "outputId": "8a7312fb-c89f-426a-bcad-f65f7cf92e4e"
      },
      "execution_count": 111,
      "outputs": [
        {
          "output_type": "stream",
          "name": "stdout",
          "text": [
            "Unique types: ['IC50' 'Ki']\n"
          ]
        }
      ]
    },
    {
      "cell_type": "code",
      "source": [],
      "metadata": {
        "id": "PbOUyUqyijGl"
      },
      "execution_count": null,
      "outputs": []
    },
    {
      "cell_type": "code",
      "source": [],
      "metadata": {
        "id": "2Hud2iOrimNE"
      },
      "execution_count": null,
      "outputs": []
    },
    {
      "cell_type": "code",
      "source": [
        "# Check for duplicates"
      ],
      "metadata": {
        "id": "v1_31IhCistu"
      },
      "execution_count": 113,
      "outputs": []
    },
    {
      "cell_type": "code",
      "source": [
        "duplicates = df.duplicated().sum()  # Count number of duplicate rows"
      ],
      "metadata": {
        "id": "tlPlU24Fit2L"
      },
      "execution_count": 114,
      "outputs": []
    },
    {
      "cell_type": "code",
      "source": [
        "print(f\"Number of duplicate rows: {duplicates}\")  # Print the number of duplicates"
      ],
      "metadata": {
        "colab": {
          "base_uri": "https://localhost:8080/"
        },
        "id": "DpA_JXFKit56",
        "outputId": "b6cdddaf-0cc3-44cd-fdba-c58eb19ad4f7"
      },
      "execution_count": 115,
      "outputs": [
        {
          "output_type": "stream",
          "name": "stdout",
          "text": [
            "Number of duplicate rows: 0\n"
          ]
        }
      ]
    },
    {
      "cell_type": "code",
      "source": [],
      "metadata": {
        "id": "W_gr_ggVican"
      },
      "execution_count": null,
      "outputs": []
    },
    {
      "cell_type": "code",
      "source": [],
      "metadata": {
        "id": "_j-I3TsxiPYp"
      },
      "execution_count": null,
      "outputs": []
    },
    {
      "cell_type": "code",
      "source": [],
      "metadata": {
        "id": "qR9PLN_WacWQ"
      },
      "execution_count": null,
      "outputs": []
    },
    {
      "cell_type": "markdown",
      "source": [
        "# <span style=\"color:blue;\">📊 Exploratory Data Analysis (EDA) Notes</span>\n",
        "\n",
        "## <span style=\"color:green;\"> Displaying Unique Values and Duplicates</span>\n",
        "- **Purpose**: Assess the uniqueness and cleanliness of the dataset.\n",
        "- **Methods**:\n",
        "  - Use `.unique()` to find unique values for categorical variables like `assay_chembl_id`, `molecule_chembl_id`, and `type`.\n",
        "  - Count duplicates using `.duplicated().sum()` to determine data quality.\n",
        "\n",
        "---\n",
        "\n",
        "## <span style=\"color:green;\"> Summary Statistics</span>\n",
        "- **Purpose**: Obtain a quick overview of the numerical features in the dataset.\n",
        "- **Methods**: Utilize `.describe()` to generate summary statistics, including count, mean, standard deviation, min, max, and quartiles for `standard_value` and `value`.\n",
        "\n",
        "---\n",
        "\n",
        "## <span style=\"color:green;\"> Pie Chart for Distribution of Types</span>\n",
        "- **Purpose**: Visually represent the distribution of different types in the dataset.\n",
        "- **Methods**:\n",
        "  - Calculate the value counts of the `type` column using `.value_counts()`.\n",
        "  - Create a pie chart with `plt.pie()` to display proportions of each type, including percentage labels for clarity.\n",
        "\n",
        "---\n",
        "\n",
        "## <span style=\"color:green;\"> Line Plot of Standard Value</span>\n",
        "- **Purpose**: Identify trends or patterns in the `standard_value` across the dataset.\n",
        "- **Methods**:\n",
        "  - Plot the `standard_value` against the index using `plt.plot()`, adding markers to highlight individual data points.\n",
        "\n",
        "---\n",
        "\n",
        "## <span style=\"color:green;\"> Violin Plot of Value Distribution by Type</span>\n",
        "- **Purpose**: Show the distribution of `value` across different `type` categories, highlighting data spread and potential outliers.\n",
        "- **Methods**: Use `sns.violinplot()` to visualize the `value` distribution segmented by `type`, allowing for comparison across categories.\n",
        "\n",
        "---\n",
        "\n",
        "## <span style=\"color:green;\"> Correlation Matrix</span>\n",
        "- **Purpose**: Assess the relationships between numerical features in the dataset.\n",
        "- **Methods**:\n",
        "  - Compute the correlation matrix using `.corr()`.\n",
        "  - Visualize the correlation matrix with a heatmap using `sns.heatmap()`, providing insights into linear relationships between variables.\n",
        "\n",
        "---\n",
        "\n",
        "## <span style=\"color:green;\"> Box Plot for Standard Value by Type</span>\n",
        "- **Purpose**: Identify outliers and understand the distribution of `standard_value` across different `type` categories.\n",
        "- **Methods**: Use `sns.boxplot()` to create a box plot, displaying the median, quartiles, and outliers for `standard_value` segmented by `type`.\n",
        "\n",
        "---\n",
        "\n",
        "## <span style=\"color:green;\"> Distribution Plots</span>\n",
        "- **Purpose**: Visualize the distribution of numerical features, identifying skewness and potential outliers.\n",
        "- **Methods**: Employ `sns.histplot()` or `sns.kdeplot()` for the `standard_value` and `value` columns, allowing for assessment of normality and spread.\n",
        "\n",
        "---"
      ],
      "metadata": {
        "id": "1U9eif5ijYkx"
      }
    },
    {
      "cell_type": "code",
      "source": [
        "#  Exploratory Data Analysis (EDA)"
      ],
      "metadata": {
        "id": "EH1IWOUOacZM"
      },
      "execution_count": 46,
      "outputs": []
    },
    {
      "cell_type": "code",
      "source": [
        "# Create a box plot for 'standard_value' segmented by 'type'"
      ],
      "metadata": {
        "id": "WcDJkF6-jx5C"
      },
      "execution_count": 124,
      "outputs": []
    },
    {
      "cell_type": "code",
      "source": [
        "plt.figure(figsize=(12, 6))  # Set the figure size\n",
        "sns.boxplot(x='type', y='standard_value', data=df)  # Draw box plot\n",
        "plt.title('Box Plot of Standard Value by Type')  # Set the title\n",
        "plt.xlabel('Type')  # Set x-axis label\n",
        "plt.ylabel('Standard Value')  # Set y-axis label\n",
        "plt.xticks(rotation=45)  # Rotate x-axis labels for better visibility\n",
        "plt.grid(True)  # Add a grid for easier interpretation\n",
        "plt.show()  # Display the plot"
      ],
      "metadata": {
        "colab": {
          "base_uri": "https://localhost:8080/",
          "height": 555
        },
        "id": "lDgpv2V5jqyS",
        "outputId": "91424fde-5ecb-4bc1-f558-a368e700771e"
      },
      "execution_count": 122,
      "outputs": [
        {
          "output_type": "display_data",
          "data": {
            "text/plain": [
              "<Figure size 1200x600 with 1 Axes>"
            ],
            "image/png": "[encoded data removed]"
          },
          "metadata": {}
        }
      ]
    },
    {
      "cell_type": "code",
      "source": [],
      "metadata": {
        "id": "1HludICujq11"
      },
      "execution_count": null,
      "outputs": []
    },
    {
      "cell_type": "code",
      "source": [],
      "metadata": {
        "id": "mvo7jdZqjrED"
      },
      "execution_count": null,
      "outputs": []
    },
    {
      "cell_type": "code",
      "source": [
        "## Distribution of 'standard_value'"
      ],
      "metadata": {
        "id": "cXch5KF4acb9"
      },
      "execution_count": 47,
      "outputs": []
    },
    {
      "cell_type": "code",
      "source": [
        "plt.figure(figsize=(10, 6))  # Set the figure size\n",
        "sns.histplot(df['standard_value'], kde=True)  # Plot histogram with KDE for 'standard_value'\n",
        "plt.title('Distribution of Standard Value')  # Set the title of the plot\n",
        "plt.xlabel('Standard Value')  # Set the x-axis label\n",
        "plt.ylabel('Frequency')  # Set the y-axis label\n",
        "plt.show()  # Display the plot"
      ],
      "metadata": {
        "colab": {
          "base_uri": "https://localhost:8080/",
          "height": 564
        },
        "id": "Uv-BDDWKaWMq",
        "outputId": "d38b6d50-e38f-4d71-cb8e-70e997938911"
      },
      "execution_count": 48,
      "outputs": [
        {
          "output_type": "display_data",
          "data": {
            "text/plain": [
              "<Figure size 1000x600 with 1 Axes>"
            ],
            "image/png": "[encoded data removed]"
          },
          "metadata": {}
        }
      ]
    },
    {
      "cell_type": "code",
      "source": [],
      "metadata": {
        "id": "RhvjEMPQaWPz"
      },
      "execution_count": null,
      "outputs": []
    },
    {
      "cell_type": "code",
      "source": [],
      "metadata": {
        "id": "nlKhs3lJY0D3"
      },
      "execution_count": null,
      "outputs": []
    },
    {
      "cell_type": "code",
      "source": [
        "##  Distribution of 'value'"
      ],
      "metadata": {
        "id": "qqTq8iZ6Y0H6"
      },
      "execution_count": 49,
      "outputs": []
    },
    {
      "cell_type": "code",
      "source": [
        "plt.figure(figsize=(10, 6))  # Set the figure size\n",
        "sns.histplot(df['value'], kde=True)  # Plot histogram with KDE for 'value'\n",
        "plt.title('Distribution of Value')  # Set the title of the plot\n",
        "plt.xlabel('Value')  # Set the x-axis label\n",
        "plt.ylabel('Frequency')  # Set the y-axis label\n",
        "plt.show()  # Display the plot"
      ],
      "metadata": {
        "colab": {
          "base_uri": "https://localhost:8080/",
          "height": 564
        },
        "id": "KkSr7e69UuRi",
        "outputId": "9d28ceb0-05da-4d39-d470-398b6f15c672"
      },
      "execution_count": 50,
      "outputs": [
        {
          "output_type": "display_data",
          "data": {
            "text/plain": [
              "<Figure size 1000x600 with 1 Axes>"
            ],
            "image/png": "[encoded data removed]"
          },
          "metadata": {}
        }
      ]
    },
    {
      "cell_type": "code",
      "source": [],
      "metadata": {
        "id": "_IF1QExtUK3X"
      },
      "execution_count": null,
      "outputs": []
    },
    {
      "cell_type": "code",
      "source": [],
      "metadata": {
        "id": "P22syXGfUK6f"
      },
      "execution_count": null,
      "outputs": []
    },
    {
      "cell_type": "code",
      "source": [
        "##  Countplot of Categorical Variables"
      ],
      "metadata": {
        "id": "I9vRqU9_UK9g"
      },
      "execution_count": 51,
      "outputs": []
    },
    {
      "cell_type": "code",
      "source": [
        "plt.figure(figsize=(14, 6))  # Set the figure size\n",
        "sns.countplot(data=df, x='type')  # Create a countplot for 'type'\n",
        "plt.title('Countplot of Type')  # Set the title of the plot\n",
        "plt.xlabel('Type')  # Set the x-axis label\n",
        "plt.ylabel('Count')  # Set the y-axis label\n",
        "plt.show()  # Display the plot"
      ],
      "metadata": {
        "colab": {
          "base_uri": "https://localhost:8080/",
          "height": 464
        },
        "id": "CKkGh7CYUK_6",
        "outputId": "fd409523-9410-4594-c5f8-f1f952e06abb"
      },
      "execution_count": 52,
      "outputs": [
        {
          "output_type": "display_data",
          "data": {
            "text/plain": [
              "<Figure size 1400x600 with 1 Axes>"
            ],
            "image/png": "[encoded data removed]"
          },
          "metadata": {}
        }
      ]
    },
    {
      "cell_type": "code",
      "source": [],
      "metadata": {
        "id": "3FjhIFECULEx"
      },
      "execution_count": null,
      "outputs": []
    },
    {
      "cell_type": "code",
      "source": [],
      "metadata": {
        "id": "oeE3rpp9ULHs"
      },
      "execution_count": null,
      "outputs": []
    },
    {
      "cell_type": "code",
      "source": [
        "plt.figure(figsize=(14, 6))  # Set the figure size\n",
        "sns.countplot(data=df, x='assay_chembl_id')  # Create a countplot for 'assay_chembl_id'\n",
        "plt.title('Countplot of Assay CHEMBL ID')  # Set the title of the plot\n",
        "plt.xlabel('Assay CHEMBL ID')  # Set the x-axis label\n",
        "plt.ylabel('Count')  # Set the y-axis label\n",
        "plt.xticks(rotation=90)  # Rotate x-axis labels for better readability\n",
        "plt.show()  # Display the plot"
      ],
      "metadata": {
        "colab": {
          "base_uri": "https://localhost:8080/",
          "height": 544
        },
        "id": "NG4BauBXULLF",
        "outputId": "f3b6acd5-0fba-48c9-b6cc-d086935262b0"
      },
      "execution_count": 53,
      "outputs": [
        {
          "output_type": "display_data",
          "data": {
            "text/plain": [
              "<Figure size 1400x600 with 1 Axes>"
            ],
            "image/png": "[encoded data removed]"
          },
          "metadata": {}
        }
      ]
    },
    {
      "cell_type": "code",
      "source": [],
      "metadata": {
        "id": "ku-awbrSULNe"
      },
      "execution_count": null,
      "outputs": []
    },
    {
      "cell_type": "code",
      "source": [],
      "metadata": {
        "id": "WJsKoBXZULP6"
      },
      "execution_count": null,
      "outputs": []
    },
    {
      "cell_type": "code",
      "source": [
        "plt.figure(figsize=(14, 6))  # Set the figure size\n",
        "sns.countplot(data=df, x='molecule_chembl_id')  # Create a countplot for 'molecule_chembl_id'\n",
        "plt.title('Countplot of Molecule CHEMBL ID')  # Set the title of the plot\n",
        "plt.xlabel('Molecule CHEMBL ID')  # Set the x-axis label\n",
        "plt.ylabel('Count')  # Set the y-axis label\n",
        "plt.xticks(rotation=90)  # Rotate x-axis labels for better readability\n",
        "plt.show()  # Display the plot"
      ],
      "metadata": {
        "colab": {
          "base_uri": "https://localhost:8080/",
          "height": 541
        },
        "id": "axY39fRAULSa",
        "outputId": "6b0c1369-ce75-46fc-c93a-ef03169de33f"
      },
      "execution_count": 54,
      "outputs": [
        {
          "output_type": "display_data",
          "data": {
            "text/plain": [
              "<Figure size 1400x600 with 1 Axes>"
            ],
            "image/png": "[encoded data removed]"
          },
          "metadata": {}
        }
      ]
    },
    {
      "cell_type": "code",
      "source": [],
      "metadata": {
        "id": "s69nwc_qULU3"
      },
      "execution_count": null,
      "outputs": []
    },
    {
      "cell_type": "code",
      "source": [],
      "metadata": {
        "id": "Z13sfmQqULW2"
      },
      "execution_count": null,
      "outputs": []
    },
    {
      "cell_type": "code",
      "source": [
        "## Correlation Heatmap"
      ],
      "metadata": {
        "id": "ZgKldG3ZbODi"
      },
      "execution_count": 55,
      "outputs": []
    },
    {
      "cell_type": "code",
      "source": [
        "plt.figure(figsize=(10, 6))  # Set the figure size\n",
        "numeric_cols = df.select_dtypes(include=[np.number])  # Select only numeric columns for correlation\n",
        "sns.heatmap(numeric_cols.corr(), annot=True, cmap='coolwarm', fmt='.2f')  # Plot heatmap of the correlation matrix\n",
        "plt.title('Correlation Heatmap')  # Set the title of the plot\n",
        "plt.show()  # Show the plot"
      ],
      "metadata": {
        "colab": {
          "base_uri": "https://localhost:8080/",
          "height": 545
        },
        "id": "xiGUQ83aULZI",
        "outputId": "87104d2b-2a1a-43df-8968-12dcab69e5ea"
      },
      "execution_count": 57,
      "outputs": [
        {
          "output_type": "display_data",
          "data": {
            "text/plain": [
              "<Figure size 1000x600 with 2 Axes>"
            ],
            "image/png": "[encoded data removed]"
          },
          "metadata": {}
        }
      ]
    },
    {
      "cell_type": "code",
      "source": [],
      "metadata": {
        "id": "Kzr9FUIgULdy"
      },
      "execution_count": null,
      "outputs": []
    },
    {
      "cell_type": "code",
      "source": [],
      "metadata": {
        "id": "hqx0B_JHi26Z"
      },
      "execution_count": null,
      "outputs": []
    },
    {
      "cell_type": "code",
      "source": [
        "# Pie chart for the distribution of types"
      ],
      "metadata": {
        "id": "dH4VVncSi8j-"
      },
      "execution_count": 116,
      "outputs": []
    },
    {
      "cell_type": "code",
      "source": [
        "type_counts = df['type'].value_counts()  # Count occurrences of each type\n",
        "plt.figure(figsize=(8, 8))  # Set figure size for the pie chart\n",
        "plt.pie(type_counts, labels=type_counts.index, autopct='%1.1f%%', startangle=90)  # Create pie chart with labels and percentage\n",
        "plt.title('Distribution of Types')  # Set title for the pie chart\n",
        "plt.axis('equal')  # Equal aspect ratio ensures that pie is drawn as a circle\n",
        "plt.show()  # Display the pie chart"
      ],
      "metadata": {
        "colab": {
          "base_uri": "https://localhost:8080/",
          "height": 675
        },
        "id": "agoAnyzyi2-D",
        "outputId": "b50b552d-49a8-42bf-f001-f48d25ab400d"
      },
      "execution_count": 117,
      "outputs": [
        {
          "output_type": "display_data",
          "data": {
            "text/plain": [
              "<Figure size 800x800 with 1 Axes>"
            ],
            "image/png": "[encoded data removed]"
          },
          "metadata": {}
        }
      ]
    },
    {
      "cell_type": "code",
      "source": [],
      "metadata": {
        "id": "rV8uSaEZi-p3"
      },
      "execution_count": null,
      "outputs": []
    },
    {
      "cell_type": "code",
      "source": [],
      "metadata": {
        "id": "BC1Tyl3ai-2P"
      },
      "execution_count": null,
      "outputs": []
    },
    {
      "cell_type": "code",
      "source": [
        "# Line plot of standard_value over index"
      ],
      "metadata": {
        "id": "GEzHJKiZjFHP"
      },
      "execution_count": 118,
      "outputs": []
    },
    {
      "cell_type": "code",
      "source": [
        "plt.figure(figsize=(12, 6))  # Set figure size for the line plot\n",
        "plt.plot(df.index, df['standard_value'], marker='o', linestyle='-', color='blue')  # Create line plot with markers\n",
        "plt.title('Line Plot of Standard Value')  # Set title for the line plot\n",
        "plt.xlabel('Index')  # Set x-axis label\n",
        "plt.ylabel('Standard Value')  # Set y-axis label\n",
        "plt.grid()  # Enable grid on the plot\n",
        "plt.show()  # Display the line plot"
      ],
      "metadata": {
        "colab": {
          "base_uri": "https://localhost:8080/",
          "height": 538
        },
        "id": "roG9vcYpi_OY",
        "outputId": "d19b45df-d832-41c8-942a-de9105774d06"
      },
      "execution_count": 119,
      "outputs": [
        {
          "output_type": "display_data",
          "data": {
            "text/plain": [
              "<Figure size 1200x600 with 1 Axes>"
            ],
            "image/png": "[encoded data removed]"
          },
          "metadata": {}
        }
      ]
    },
    {
      "cell_type": "code",
      "source": [],
      "metadata": {
        "id": "3Gm6ek5OjGrH"
      },
      "execution_count": null,
      "outputs": []
    },
    {
      "cell_type": "code",
      "source": [],
      "metadata": {
        "id": "Z2SrlUdljGvc"
      },
      "execution_count": null,
      "outputs": []
    },
    {
      "cell_type": "code",
      "source": [
        "# Violin plot of value distribution by type"
      ],
      "metadata": {
        "id": "EF4dQGo7jL9H"
      },
      "execution_count": 120,
      "outputs": []
    },
    {
      "cell_type": "code",
      "source": [
        "plt.figure(figsize=(12, 6))  # Set figure size for the violin plot\n",
        "sns.violinplot(x='type', y='value', data=df, palette='muted')  # Create violin plot for value distribution by type\n",
        "plt.title('Violin Plot of Value Distribution by Type')  # Set title for the violin plot\n",
        "plt.xlabel('Type')  # Set x-axis label\n",
        "plt.ylabel('Value')  # Set y-axis label\n",
        "plt.grid()  # Enable grid on the plot\n",
        "plt.show()  # Display the violin plot"
      ],
      "metadata": {
        "colab": {
          "base_uri": "https://localhost:8080/",
          "height": 519
        },
        "id": "URGel10fjHA3",
        "outputId": "5df6a847-21af-429a-c97f-433c3de508eb"
      },
      "execution_count": 127,
      "outputs": [
        {
          "output_type": "display_data",
          "data": {
            "text/plain": [
              "<Figure size 1200x600 with 1 Axes>"
            ],
            "image/png": "[encoded data removed]"
          },
          "metadata": {}
        }
      ]
    },
    {
      "cell_type": "code",
      "source": [],
      "metadata": {
        "id": "9tFkZrPjULgB"
      },
      "execution_count": null,
      "outputs": []
    },
    {
      "cell_type": "code",
      "source": [],
      "metadata": {
        "id": "VmWr3UVejOin"
      },
      "execution_count": null,
      "outputs": []
    },
    {
      "cell_type": "code",
      "source": [],
      "metadata": {
        "id": "4FVzotyTef69"
      },
      "execution_count": null,
      "outputs": []
    },
    {
      "cell_type": "markdown",
      "source": [
        "# <span style=\"color: #2E86C1;\">Step 4: Data Preprocessing</span>\n",
        "\n",
        "Data preprocessing is essential to prepare the dataset for modeling. This step involves:\n",
        "- Handling missing values: We can fill or drop missing entries as needed.\n",
        "- Encoding categorical variables: Convert categorical data into numerical format using techniques like label encoding.\n",
        "- Log transformations: Apply log transformations to skewed numerical features to improve normality."
      ],
      "metadata": {
        "id": "nf1aOCDJegLU"
      }
    },
    {
      "cell_type": "code",
      "source": [
        "#  Data Preprocessing"
      ],
      "metadata": {
        "id": "rYiRUlPgULiL"
      },
      "execution_count": 58,
      "outputs": []
    },
    {
      "cell_type": "code",
      "source": [
        "## Fill missing values"
      ],
      "metadata": {
        "id": "H9Gpo7aLULmD"
      },
      "execution_count": 59,
      "outputs": []
    },
    {
      "cell_type": "code",
      "source": [
        "df['standard_value'].fillna(df['standard_value'].mean(), inplace=True)  # Fill NaN values in 'standard_value' with the mean\n"
      ],
      "metadata": {
        "id": "6BvQwnP5ULqX"
      },
      "execution_count": 60,
      "outputs": []
    },
    {
      "cell_type": "code",
      "source": [
        "df['value'].fillna(df['value'].mean(), inplace=True)  # Fill NaN values in 'value' with the mean"
      ],
      "metadata": {
        "id": "wtvHmvVlULsu"
      },
      "execution_count": 61,
      "outputs": []
    },
    {
      "cell_type": "code",
      "source": [],
      "metadata": {
        "id": "WF3lxhgQULxo"
      },
      "execution_count": null,
      "outputs": []
    },
    {
      "cell_type": "code",
      "source": [],
      "metadata": {
        "id": "BbPo206OUL5B"
      },
      "execution_count": null,
      "outputs": []
    },
    {
      "cell_type": "code",
      "source": [
        "## Encode categorical features"
      ],
      "metadata": {
        "id": "nlU4CFCqUL7w"
      },
      "execution_count": 62,
      "outputs": []
    },
    {
      "cell_type": "code",
      "source": [
        "le_assay = LabelEncoder()  # Initialize label encoder for 'assay_chembl_id'"
      ],
      "metadata": {
        "id": "2HxwA5L2UL-W"
      },
      "execution_count": 63,
      "outputs": []
    },
    {
      "cell_type": "code",
      "source": [
        "df['assay_chembl_id_encoded'] = le_assay.fit_transform(df['assay_chembl_id'])  # Encode 'assay_chembl_id'"
      ],
      "metadata": {
        "id": "A_SPWza4UMAp"
      },
      "execution_count": 64,
      "outputs": []
    },
    {
      "cell_type": "code",
      "source": [],
      "metadata": {
        "id": "D-AFHwLHUMJA"
      },
      "execution_count": null,
      "outputs": []
    },
    {
      "cell_type": "code",
      "source": [
        "le_molecule = LabelEncoder()  # Initialize label encoder for 'molecule_chembl_id'"
      ],
      "metadata": {
        "id": "prVb-O4xUMLq"
      },
      "execution_count": 65,
      "outputs": []
    },
    {
      "cell_type": "code",
      "source": [
        "df['molecule_chembl_id_encoded'] = le_molecule.fit_transform(df['molecule_chembl_id'])  # Encode 'molecule_chembl_id'\n"
      ],
      "metadata": {
        "id": "2bF5XdOiUMN8"
      },
      "execution_count": 66,
      "outputs": []
    },
    {
      "cell_type": "code",
      "source": [],
      "metadata": {
        "id": "ipoY3jbxUMQX"
      },
      "execution_count": null,
      "outputs": []
    },
    {
      "cell_type": "code",
      "source": [
        "le_type = LabelEncoder()  # Initialize label encoder for 'type'"
      ],
      "metadata": {
        "id": "BpforSlpUMSp"
      },
      "execution_count": 67,
      "outputs": []
    },
    {
      "cell_type": "code",
      "source": [
        "df['type_encoded'] = le_type.fit_transform(df['type'])  # Encode 'type'"
      ],
      "metadata": {
        "id": "5Wb0ajdCUMYI"
      },
      "execution_count": 68,
      "outputs": []
    },
    {
      "cell_type": "code",
      "source": [],
      "metadata": {
        "id": "X7UrDhpoUMbB"
      },
      "execution_count": null,
      "outputs": []
    },
    {
      "cell_type": "code",
      "source": [],
      "metadata": {
        "id": "yG1T6_bHb3ZV"
      },
      "execution_count": null,
      "outputs": []
    },
    {
      "cell_type": "code",
      "source": [
        "## Feature Engineering: Log transformation to reduce skewness"
      ],
      "metadata": {
        "id": "RywaoCsLUMeD"
      },
      "execution_count": 69,
      "outputs": []
    },
    {
      "cell_type": "code",
      "source": [
        "df['standard_value_log'] = np.log1p(df['standard_value'])  # Log transform 'standard_value'"
      ],
      "metadata": {
        "id": "aZZYGbsWUMgs"
      },
      "execution_count": 70,
      "outputs": []
    },
    {
      "cell_type": "code",
      "source": [
        "df['value_log'] = np.log1p(df['value'])  # Log transform 'value'"
      ],
      "metadata": {
        "id": "iBfd9Y2SUMjb"
      },
      "execution_count": 71,
      "outputs": []
    },
    {
      "cell_type": "code",
      "source": [],
      "metadata": {
        "id": "kfONtL_wUMmN"
      },
      "execution_count": null,
      "outputs": []
    },
    {
      "cell_type": "code",
      "source": [],
      "metadata": {
        "id": "ovJHqqHiUMov"
      },
      "execution_count": null,
      "outputs": []
    },
    {
      "cell_type": "code",
      "source": [
        "# Display dataset after preprocessing"
      ],
      "metadata": {
        "id": "ESvgogSBUMtg"
      },
      "execution_count": 72,
      "outputs": []
    },
    {
      "cell_type": "code",
      "source": [
        "print(\"\\nDataset after preprocessing:\")  # Print a message\n",
        "print(df.head())  # Display the first 5 rows of the preprocessed DataFrame"
      ],
      "metadata": {
        "colab": {
          "base_uri": "https://localhost:8080/"
        },
        "id": "4rLsWdCAUMvy",
        "outputId": "5e91c898-3b09-45b9-d7d3-bb57a13cdd65"
      },
      "execution_count": 73,
      "outputs": [
        {
          "output_type": "stream",
          "name": "stdout",
          "text": [
            "\n",
            "Dataset after preprocessing:\n",
            "  assay_chembl_id molecule_chembl_id  standard_value  type  value  \\\n",
            "0    CHEMBL674637        CHEMBL68920            41.0  IC50  0.041   \n",
            "1    CHEMBL621151        CHEMBL68920           300.0  IC50  0.300   \n",
            "2    CHEMBL615325        CHEMBL68920          7820.0  IC50  7.820   \n",
            "3    CHEMBL674637        CHEMBL69960           170.0  IC50  0.170   \n",
            "4    CHEMBL621151        CHEMBL69960            40.0  IC50  0.040   \n",
            "\n",
            "   assay_chembl_id_encoded  molecule_chembl_id_encoded  type_encoded  \\\n",
            "0                        3                          34             0   \n",
            "1                        2                          34             0   \n",
            "2                        0                          34             0   \n",
            "3                        3                          37             0   \n",
            "4                        2                          37             0   \n",
            "\n",
            "   standard_value_log  value_log  \n",
            "0            3.737670   0.040182  \n",
            "1            5.707110   0.262364  \n",
            "2            8.964568   2.177022  \n",
            "3            5.141664   0.157004  \n",
            "4            3.713572   0.039221  \n"
          ]
        }
      ]
    },
    {
      "cell_type": "code",
      "source": [],
      "metadata": {
        "id": "FtIS_QcIUMyJ"
      },
      "execution_count": null,
      "outputs": []
    },
    {
      "cell_type": "code",
      "source": [],
      "metadata": {
        "id": "pExy2N4UUM2h"
      },
      "execution_count": null,
      "outputs": []
    },
    {
      "cell_type": "code",
      "source": [
        "# Prepare feature set and target variable"
      ],
      "metadata": {
        "id": "wD5HhlKGUM40"
      },
      "execution_count": 74,
      "outputs": []
    },
    {
      "cell_type": "code",
      "source": [
        "X = df[['assay_chembl_id_encoded', 'molecule_chembl_id_encoded', 'type_encoded',\n",
        "         'standard_value_log', 'value_log']]  # Define feature set"
      ],
      "metadata": {
        "id": "y2dG1AL8UM7H"
      },
      "execution_count": 75,
      "outputs": []
    },
    {
      "cell_type": "code",
      "source": [
        "y = df['standard_value']  # Define target variable"
      ],
      "metadata": {
        "id": "z6RztA6MUM9c"
      },
      "execution_count": 76,
      "outputs": []
    },
    {
      "cell_type": "code",
      "source": [],
      "metadata": {
        "id": "HoVuztacUM_s"
      },
      "execution_count": null,
      "outputs": []
    },
    {
      "cell_type": "code",
      "source": [
        "# Scaling the features"
      ],
      "metadata": {
        "id": "JzUuE7hZUNCA"
      },
      "execution_count": 77,
      "outputs": []
    },
    {
      "cell_type": "code",
      "source": [
        "scaler = StandardScaler()  # Initialize the scaler"
      ],
      "metadata": {
        "id": "z9Qwou70UNEC"
      },
      "execution_count": 78,
      "outputs": []
    },
    {
      "cell_type": "code",
      "source": [
        "X_scaled = scaler.fit_transform(X)  # Scale the feature set"
      ],
      "metadata": {
        "id": "Yb5pT46wUNGN"
      },
      "execution_count": 79,
      "outputs": []
    },
    {
      "cell_type": "code",
      "source": [],
      "metadata": {
        "id": "_5oRxbo4UNIk"
      },
      "execution_count": null,
      "outputs": []
    },
    {
      "cell_type": "code",
      "source": [],
      "metadata": {
        "id": "ma9APyXcesnU"
      },
      "execution_count": null,
      "outputs": []
    },
    {
      "cell_type": "code",
      "source": [],
      "metadata": {
        "id": "DyoWKXV2esqn"
      },
      "execution_count": null,
      "outputs": []
    },
    {
      "cell_type": "markdown",
      "source": [
        "# <span style=\"color: #2E86C1;\">Step 5: Splitting the Dataset</span>\n",
        "\n",
        "In this step, we split the dataset into training and testing sets. This is crucial for evaluating model performance. A common practice is to use an 80-20 split, where 80% of the data is used for training and 20% for testing."
      ],
      "metadata": {
        "id": "ba7z653AetJg"
      }
    },
    {
      "cell_type": "code",
      "source": [
        "# Train-Test Split"
      ],
      "metadata": {
        "id": "t0LS7AMFUNLA"
      },
      "execution_count": 80,
      "outputs": []
    },
    {
      "cell_type": "code",
      "source": [
        "X_train, X_test, y_train, y_test = train_test_split(X_scaled, y, test_size=0.2, random_state=42)  # Split data into train and test sets\n"
      ],
      "metadata": {
        "id": "oLRUak8SUNPF"
      },
      "execution_count": 81,
      "outputs": []
    },
    {
      "cell_type": "code",
      "source": [],
      "metadata": {
        "id": "yyTGYHdbUNRc"
      },
      "execution_count": null,
      "outputs": []
    },
    {
      "cell_type": "code",
      "source": [],
      "metadata": {
        "id": "Jn5CxxNGUNVp"
      },
      "execution_count": null,
      "outputs": []
    },
    {
      "cell_type": "code",
      "source": [],
      "metadata": {
        "id": "M91oy3G_UNYA"
      },
      "execution_count": null,
      "outputs": []
    },
    {
      "cell_type": "markdown",
      "source": [
        "# <span style=\"color: #2E86C1;\">Step 6: Model Development</span>\n",
        "\n",
        "We proceed to develop a predictive model using a machine learning algorithm. Here, we use a **Random Forest Regressor** due to its robustness and ability to handle complex datasets. We configure the model and prepare it for training using the training dataset."
      ],
      "metadata": {
        "id": "8Uqd18jAe06s"
      }
    },
    {
      "cell_type": "code",
      "source": [
        "# Model Training"
      ],
      "metadata": {
        "id": "RyB7HMojUNZ2"
      },
      "execution_count": 82,
      "outputs": []
    },
    {
      "cell_type": "code",
      "source": [
        "## RandomForestRegressor model"
      ],
      "metadata": {
        "id": "0npElIiCUNdy"
      },
      "execution_count": 83,
      "outputs": []
    },
    {
      "cell_type": "code",
      "source": [
        "rf = RandomForestRegressor(random_state=42)  # Initialize the Random Forest model"
      ],
      "metadata": {
        "id": "9IlbwxTFUNga"
      },
      "execution_count": 84,
      "outputs": []
    },
    {
      "cell_type": "code",
      "source": [],
      "metadata": {
        "id": "g9tkvi7kUNj3"
      },
      "execution_count": null,
      "outputs": []
    },
    {
      "cell_type": "code",
      "source": [],
      "metadata": {
        "id": "ni7IjVige9cF"
      },
      "execution_count": null,
      "outputs": []
    },
    {
      "cell_type": "code",
      "source": [],
      "metadata": {
        "id": "ktLDIXQUe9gh"
      },
      "execution_count": null,
      "outputs": []
    },
    {
      "cell_type": "markdown",
      "source": [
        "# <span style=\"color: #2E86C1;\">Step 7: Hyperparameter Tuning</span>\n",
        "\n",
        "To optimize the model's performance, we conduct hyperparameter tuning. This involves using **GridSearchCV** to explore different combinations of parameters, such as:\n",
        "- `max_depth`\n",
        "- `min_samples_split`\n",
        "- `n_estimators`\n",
        "This step helps in finding the best model configuration for our dataset."
      ],
      "metadata": {
        "id": "lb-unno1e90c"
      }
    },
    {
      "cell_type": "code",
      "source": [
        "## Parameter tuning"
      ],
      "metadata": {
        "id": "NvIPwa_gUE8Z"
      },
      "execution_count": 85,
      "outputs": []
    },
    {
      "cell_type": "code",
      "source": [
        "param_grid = {  # Define the parameter grid for tuning\n",
        "    'n_estimators': [50, 100],  # Number of trees in the forest\n",
        "    'max_depth': [3, 5],  # Maximum depth of the tree\n",
        "    'min_samples_split': [2, 5]  # Minimum number of samples required to split an internal node\n",
        "}"
      ],
      "metadata": {
        "id": "48DCOIo8T8po"
      },
      "execution_count": 86,
      "outputs": []
    },
    {
      "cell_type": "code",
      "source": [],
      "metadata": {
        "id": "LmbBRdTTSbrR"
      },
      "execution_count": null,
      "outputs": []
    },
    {
      "cell_type": "code",
      "source": [
        "grid_search = GridSearchCV(rf, param_grid, cv=2, scoring='r2', n_jobs=-1, verbose=2)  # Initialize grid search"
      ],
      "metadata": {
        "id": "vwyT95tvRjUM"
      },
      "execution_count": 87,
      "outputs": []
    },
    {
      "cell_type": "code",
      "source": [
        "grid_search.fit(X_train, y_train)  # Fit the model using grid search"
      ],
      "metadata": {
        "colab": {
          "base_uri": "https://localhost:8080/",
          "height": 135
        },
        "id": "kW7PegFLQo19",
        "outputId": "2e402b73-d043-43a8-fd46-7a7bab73b1fc"
      },
      "execution_count": 88,
      "outputs": [
        {
          "output_type": "stream",
          "name": "stdout",
          "text": [
            "Fitting 2 folds for each of 8 candidates, totalling 16 fits\n"
          ]
        },
        {
          "output_type": "execute_result",
          "data": {
            "text/plain": [
              "GridSearchCV(cv=2, estimator=RandomForestRegressor(random_state=42), n_jobs=-1,\n",
              "             param_grid={'max_depth': [3, 5], 'min_samples_split': [2, 5],\n",
              "                         'n_estimators': [50, 100]},\n",
              "             scoring='r2', verbose=2)"
            ],
            "text/html": [
              "<style>#sk-container-id-1 {color: black;}#sk-container-id-1 pre{padding: 0;}#sk-container-id-1 div.sk-toggleable {background-color: white;}#sk-container-id-1 label.sk-toggleable__label {cursor: pointer;display: block;width: 100%;margin-bottom: 0;padding: 0.3em;box-sizing: border-box;text-align: center;}#sk-container-id-1 label.sk-toggleable__label-arrow:before {content: \"▸\";float: left;margin-right: 0.25em;color: #696969;}#sk-container-id-1 label.sk-toggleable__label-arrow:hover:before {color: black;}#sk-container-id-1 div.sk-estimator:hover label.sk-toggleable__label-arrow:before {color: black;}#sk-container-id-1 div.sk-toggleable__content {max-height: 0;max-width: 0;overflow: hidden;text-align: left;background-color: #f0f8ff;}#sk-container-id-1 div.sk-toggleable__content pre {margin: 0.2em;color: black;border-radius: 0.25em;background-color: #f0f8ff;}#sk-container-id-1 input.sk-toggleable__control:checked~div.sk-toggleable__content {max-height: 200px;max-width: 100%;overflow: auto;}#sk-container-id-1 input.sk-toggleable__control:checked~label.sk-toggleable__label-arrow:before {content: \"▾\";}#sk-container-id-1 div.sk-estimator input.sk-toggleable__control:checked~label.sk-toggleable__label {background-color: #d4ebff;}#sk-container-id-1 div.sk-label input.sk-toggleable__control:checked~label.sk-toggleable__label {background-color: #d4ebff;}#sk-container-id-1 input.sk-hidden--visually {border: 0;clip: rect(1px 1px 1px 1px);clip: rect(1px, 1px, 1px, 1px);height: 1px;margin: -1px;overflow: hidden;padding: 0;position: absolute;width: 1px;}#sk-container-id-1 div.sk-estimator {font-family: monospace;background-color: #f0f8ff;border: 1px dotted black;border-radius: 0.25em;box-sizing: border-box;margin-bottom: 0.5em;}#sk-container-id-1 div.sk-estimator:hover {background-color: #d4ebff;}#sk-container-id-1 div.sk-parallel-item::after {content: \"\";width: 100%;border-bottom: 1px solid gray;flex-grow: 1;}#sk-container-id-1 div.sk-label:hover label.sk-toggleable__label {background-color: #d4ebff;}#sk-container-id-1 div.sk-serial::before {content: \"\";position: absolute;border-left: 1px solid gray;box-sizing: border-box;top: 0;bottom: 0;left: 50%;z-index: 0;}#sk-container-id-1 div.sk-serial {display: flex;flex-direction: column;align-items: center;background-color: white;padding-right: 0.2em;padding-left: 0.2em;position: relative;}#sk-container-id-1 div.sk-item {position: relative;z-index: 1;}#sk-container-id-1 div.sk-parallel {display: flex;align-items: stretch;justify-content: center;background-color: white;position: relative;}#sk-container-id-1 div.sk-item::before, #sk-container-id-1 div.sk-parallel-item::before {content: \"\";position: absolute;border-left: 1px solid gray;box-sizing: border-box;top: 0;bottom: 0;left: 50%;z-index: -1;}#sk-container-id-1 div.sk-parallel-item {display: flex;flex-direction: column;z-index: 1;position: relative;background-color: white;}#sk-container-id-1 div.sk-parallel-item:first-child::after {align-self: flex-end;width: 50%;}#sk-container-id-1 div.sk-parallel-item:last-child::after {align-self: flex-start;width: 50%;}#sk-container-id-1 div.sk-parallel-item:only-child::after {width: 0;}#sk-container-id-1 div.sk-dashed-wrapped {border: 1px dashed gray;margin: 0 0.4em 0.5em 0.4em;box-sizing: border-box;padding-bottom: 0.4em;background-color: white;}#sk-container-id-1 div.sk-label label {font-family: monospace;font-weight: bold;display: inline-block;line-height: 1.2em;}#sk-container-id-1 div.sk-label-container {text-align: center;}#sk-container-id-1 div.sk-container {/* jupyter's `normalize.less` sets `[hidden] { display: none; }` but bootstrap.min.css set `[hidden] { display: none !important; }` so we also need the `!important` here to be able to override the default hidden behavior on the sphinx rendered scikit-learn.org. See: https://github.com/scikit-learn/scikit-learn/issues/21755 */display: inline-block !important;position: relative;}#sk-container-id-1 div.sk-text-repr-fallback {display: none;}</style><div id=\"sk-container-id-1\" class=\"sk-top-container\"><div class=\"sk-text-repr-fallback\"><pre>GridSearchCV(cv=2, estimator=RandomForestRegressor(random_state=42), n_jobs=-1,\n",
              "             param_grid={&#x27;max_depth&#x27;: [3, 5], &#x27;min_samples_split&#x27;: [2, 5],\n",
              "                         &#x27;n_estimators&#x27;: [50, 100]},\n",
              "             scoring=&#x27;r2&#x27;, verbose=2)</pre><b>In a Jupyter environment, please rerun this cell to show the HTML representation or trust the notebook. <br />On GitHub, the HTML representation is unable to render, please try loading this page with nbviewer.org.</b></div><div class=\"sk-container\" hidden><div class=\"sk-item sk-dashed-wrapped\"><div class=\"sk-label-container\"><div class=\"sk-label sk-toggleable\"><input class=\"sk-toggleable__control sk-hidden--visually\" id=\"sk-estimator-id-1\" type=\"checkbox\" ><label for=\"sk-estimator-id-1\" class=\"sk-toggleable__label sk-toggleable__label-arrow\">GridSearchCV</label><div class=\"sk-toggleable__content\"><pre>GridSearchCV(cv=2, estimator=RandomForestRegressor(random_state=42), n_jobs=-1,\n",
              "             param_grid={&#x27;max_depth&#x27;: [3, 5], &#x27;min_samples_split&#x27;: [2, 5],\n",
              "                         &#x27;n_estimators&#x27;: [50, 100]},\n",
              "             scoring=&#x27;r2&#x27;, verbose=2)</pre></div></div></div><div class=\"sk-parallel\"><div class=\"sk-parallel-item\"><div class=\"sk-item\"><div class=\"sk-label-container\"><div class=\"sk-label sk-toggleable\"><input class=\"sk-toggleable__control sk-hidden--visually\" id=\"sk-estimator-id-2\" type=\"checkbox\" ><label for=\"sk-estimator-id-2\" class=\"sk-toggleable__label sk-toggleable__label-arrow\">estimator: RandomForestRegressor</label><div class=\"sk-toggleable__content\"><pre>RandomForestRegressor(random_state=42)</pre></div></div></div><div class=\"sk-serial\"><div class=\"sk-item\"><div class=\"sk-estimator sk-toggleable\"><input class=\"sk-toggleable__control sk-hidden--visually\" id=\"sk-estimator-id-3\" type=\"checkbox\" ><label for=\"sk-estimator-id-3\" class=\"sk-toggleable__label sk-toggleable__label-arrow\">RandomForestRegressor</label><div class=\"sk-toggleable__content\"><pre>RandomForestRegressor(random_state=42)</pre></div></div></div></div></div></div></div></div></div></div>"
            ]
          },
          "metadata": {},
          "execution_count": 88
        }
      ]
    },
    {
      "cell_type": "code",
      "source": [],
      "metadata": {
        "id": "lG-ozopDO7Ke"
      },
      "execution_count": null,
      "outputs": []
    },
    {
      "cell_type": "code",
      "source": [],
      "metadata": {
        "id": "6VM1g0zqfGcU"
      },
      "execution_count": 88,
      "outputs": []
    },
    {
      "cell_type": "code",
      "source": [
        "# Best parameters and model"
      ],
      "metadata": {
        "id": "n9OCzYckMxhZ"
      },
      "execution_count": 89,
      "outputs": []
    },
    {
      "cell_type": "code",
      "source": [
        "best_params = grid_search.best_params_  # Get the best parameters from grid search"
      ],
      "metadata": {
        "id": "diy-yHCpMb5L"
      },
      "execution_count": 90,
      "outputs": []
    },
    {
      "cell_type": "code",
      "source": [
        "print(f\"\\nBest parameters: {best_params}\")  # Print best parameters"
      ],
      "metadata": {
        "colab": {
          "base_uri": "https://localhost:8080/"
        },
        "id": "DpCHSiAOMDh6",
        "outputId": "eb35627b-2b5a-4558-9a1f-5c149ed6c62d"
      },
      "execution_count": 91,
      "outputs": [
        {
          "output_type": "stream",
          "name": "stdout",
          "text": [
            "\n",
            "Best parameters: {'max_depth': 5, 'min_samples_split': 2, 'n_estimators': 100}\n"
          ]
        }
      ]
    },
    {
      "cell_type": "code",
      "source": [],
      "metadata": {
        "id": "HN1_knqsMDk6"
      },
      "execution_count": 91,
      "outputs": []
    },
    {
      "cell_type": "code",
      "source": [
        "best_model = grid_search.best_estimator_  # Get the best estimator from grid search"
      ],
      "metadata": {
        "id": "ZyeIf8UmMDwr"
      },
      "execution_count": 92,
      "outputs": []
    },
    {
      "cell_type": "code",
      "source": [],
      "metadata": {
        "id": "3EcVs2tBMD0E"
      },
      "execution_count": null,
      "outputs": []
    },
    {
      "cell_type": "code",
      "source": [],
      "metadata": {
        "id": "CatIpsfnMD2x"
      },
      "execution_count": null,
      "outputs": []
    },
    {
      "cell_type": "code",
      "source": [],
      "metadata": {
        "id": "dLLo7o6LMD5p"
      },
      "execution_count": null,
      "outputs": []
    },
    {
      "cell_type": "markdown",
      "source": [
        "# <span style=\"color: #2E86C1;\">Step 8: Model Evaluation</span>\n",
        "\n",
        "After training the model, we evaluate its performance using various metrics, including:\n",
        "- **Mean Absolute Error (MAE)**: Measures average error between predictions and actual values.\n",
        "- **Mean Squared Error (MSE)**: Measures the average squared difference between predictions and actual values.\n",
        "- **R-squared**: Indicates the proportion of variance explained by the model.\n",
        "Additionally, we perform cross-validation to ensure the model's robustness."
      ],
      "metadata": {
        "id": "6U_3cC5YfOPK"
      }
    },
    {
      "cell_type": "code",
      "source": [
        "# Evaluation"
      ],
      "metadata": {
        "id": "goGtnPMeMD_p"
      },
      "execution_count": 93,
      "outputs": []
    },
    {
      "cell_type": "code",
      "source": [
        "y_pred = best_model.predict(X_test)  # Predict the target variable for the test set"
      ],
      "metadata": {
        "id": "d0z_H69HMECu"
      },
      "execution_count": 94,
      "outputs": []
    },
    {
      "cell_type": "code",
      "source": [
        "mae = mean_absolute_error(y_test, y_pred)  # Calculate Mean Absolute Error"
      ],
      "metadata": {
        "id": "tCyBikjBMEIy"
      },
      "execution_count": 95,
      "outputs": []
    },
    {
      "cell_type": "code",
      "source": [
        "mse = mean_squared_error(y_test, y_pred)  # Calculate Mean Squared Error"
      ],
      "metadata": {
        "id": "AgL42jkSMELZ"
      },
      "execution_count": 96,
      "outputs": []
    },
    {
      "cell_type": "code",
      "source": [
        "r2 = r2_score(y_test, y_pred)  # Calculate R-squared score"
      ],
      "metadata": {
        "id": "L4tHIp3fL0WC"
      },
      "execution_count": 97,
      "outputs": []
    },
    {
      "cell_type": "code",
      "source": [
        "print(f\"\\nMAE: {mae}, MSE: {mse}, R-squared: {r2}\")  # Print evaluation metrics"
      ],
      "metadata": {
        "colab": {
          "base_uri": "https://localhost:8080/"
        },
        "id": "0RLIc4GOLuT7",
        "outputId": "c7d4218b-06d5-4c9a-8528-434ef7c8901a"
      },
      "execution_count": 98,
      "outputs": [
        {
          "output_type": "stream",
          "name": "stdout",
          "text": [
            "\n",
            "MAE: 18711.360415646443, MSE: 1505193718.5208628, R-squared: 0.9927047589592068\n"
          ]
        }
      ]
    },
    {
      "cell_type": "code",
      "source": [],
      "metadata": {
        "id": "qvrg4YDZLuWj"
      },
      "execution_count": null,
      "outputs": []
    },
    {
      "cell_type": "code",
      "source": [],
      "metadata": {
        "id": "_5JWP6F2LuZb"
      },
      "execution_count": null,
      "outputs": []
    },
    {
      "cell_type": "code",
      "source": [
        "# Cross-validated R-squared scores"
      ],
      "metadata": {
        "id": "DnTKAwN7LucD"
      },
      "execution_count": 99,
      "outputs": []
    },
    {
      "cell_type": "code",
      "source": [
        "cv_results = grid_search.cv_results_  # Get cross-validated results from grid search"
      ],
      "metadata": {
        "id": "QfoRFWPqLugb"
      },
      "execution_count": 100,
      "outputs": []
    },
    {
      "cell_type": "code",
      "source": [
        "cv_scores = cv_results['mean_test_score']  # Extract mean test scores"
      ],
      "metadata": {
        "id": "4DLgFW52LujK"
      },
      "execution_count": 101,
      "outputs": []
    },
    {
      "cell_type": "code",
      "source": [
        "print(f\"\\nCross-validated R-squared scores: {cv_scores}\")  # Print cross-validated scores"
      ],
      "metadata": {
        "colab": {
          "base_uri": "https://localhost:8080/"
        },
        "id": "sF0LxWlrLukJ",
        "outputId": "e95c74b7-9ec6-4ffe-9c46-e302a70cd1a3"
      },
      "execution_count": 102,
      "outputs": [
        {
          "output_type": "stream",
          "name": "stdout",
          "text": [
            "\n",
            "Cross-validated R-squared scores: [0.78885831 0.802187   0.74711839 0.76032178 0.79710239 0.80810639\n",
            " 0.74646369 0.75967955]\n"
          ]
        }
      ]
    },
    {
      "cell_type": "code",
      "source": [],
      "metadata": {
        "id": "BCRd3-awLumu"
      },
      "execution_count": null,
      "outputs": []
    },
    {
      "cell_type": "code",
      "source": [],
      "metadata": {
        "id": "6GKD5kPOfXgY"
      },
      "execution_count": null,
      "outputs": []
    },
    {
      "cell_type": "code",
      "source": [],
      "metadata": {
        "id": "QS3XYbY0fXju"
      },
      "execution_count": null,
      "outputs": []
    },
    {
      "cell_type": "markdown",
      "source": [
        "# <span style=\"color: #2E86C1;\">Step 9: Results Summary</span>\n",
        "\n",
        "Finally, we summarize the results, including:\n",
        "- The best hyperparameters found during tuning.\n",
        "- Evaluation metrics to assess model performance.\n",
        "- Any insights gained from the analysis that could inform future research or applications."
      ],
      "metadata": {
        "id": "DsiZNxQhfYNa"
      }
    },
    {
      "cell_type": "code",
      "source": [
        "mean_cv_score = np.mean(cv_scores)  # Calculate mean cross-validated score"
      ],
      "metadata": {
        "id": "uPZEC9ecLurK"
      },
      "execution_count": 103,
      "outputs": []
    },
    {
      "cell_type": "code",
      "source": [
        "print(f\"\\nMean R-squared score: {mean_cv_score}\")  # Print mean R-squared score"
      ],
      "metadata": {
        "colab": {
          "base_uri": "https://localhost:8080/"
        },
        "id": "2VSLCdefLuva",
        "outputId": "90e44869-840e-450c-bb5a-a529c95023c9"
      },
      "execution_count": 104,
      "outputs": [
        {
          "output_type": "stream",
          "name": "stdout",
          "text": [
            "\n",
            "Mean R-squared score: 0.7762296867332859\n"
          ]
        }
      ]
    },
    {
      "cell_type": "code",
      "source": [],
      "metadata": {
        "id": "fqXuJar0fZ9B"
      },
      "execution_count": null,
      "outputs": []
    },
    {
      "cell_type": "code",
      "source": [],
      "metadata": {
        "id": "QjHYCEnIfaPS"
      },
      "execution_count": null,
      "outputs": []
    },
    {
      "cell_type": "code",
      "source": [],
      "metadata": {
        "id": "Q-iZEjDKfb7S"
      },
      "execution_count": null,
      "outputs": []
    },
    {
      "cell_type": "markdown",
      "source": [
        "# <span style=\"color:blue;\">Conclusion</span>\n",
        "\n",
        "## <span style=\"color:darkorange;\">1. Objective Recap</span>\n",
        "- The project aimed to analyze the dataset focusing on `standard_value` and `value` across different chemical compounds, utilizing various exploratory data analysis (EDA) techniques.\n",
        "\n",
        "## <span style=\"color:darkorange;\">2. Dataset Overview</span>\n",
        "- The dataset contained 100 entries with 5 columns: `assay_chembl_id`, `molecule_chembl_id`, `standard_value`, `type`, and `value`.\n",
        "- Notable observations included missing values in `standard_value` and `value`, which were addressed during preprocessing.\n",
        "\n",
        "## <span style=\"color:darkorange;\">3. Preprocessing Steps</span>\n",
        "- Missing values were handled appropriately to ensure a robust analysis.\n",
        "- Categorical variables were encoded for machine learning applications.\n",
        "- Log transformation was applied to `standard_value` and `value` to stabilize variance.\n",
        "\n",
        "## <span style=\"color:darkorange;\">4. Exploratory Data Analysis (EDA)</span>\n",
        "- Unique values and duplicate entries were analyzed to ensure data quality.\n",
        "- Visualizations included pie charts, line plots, violin plots, and box plots to explore distributions and relationships within the data.\n",
        "\n",
        "## <span style=\"color:darkorange;\">5. Model Performance</span>\n",
        "- A machine learning model was trained to predict `standard_value`, yielding an R-squared score of approximately 0.99, indicating a strong fit.\n",
        "- Cross-validation results showed consistent performance across different folds.\n",
        "\n",
        "## <span style=\"color:darkorange;\">6. Final Remarks</span>\n",
        "- The findings demonstrated significant insights into the chemical compounds and their effects, which could inform future research or practical applications in drug development.\n",
        "- Further analysis with larger datasets or additional features could enhance the predictive capabilities and generalizability of the model."
      ],
      "metadata": {
        "id": "eOC_FFgSfcZZ"
      }
    }
  ]
}