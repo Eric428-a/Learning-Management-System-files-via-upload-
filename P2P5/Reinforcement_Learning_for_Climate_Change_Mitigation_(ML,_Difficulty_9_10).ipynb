{
  "nbformat": 4,
  "nbformat_minor": 0,
  "metadata": {
    "colab": {
      "provenance": [],
      "gpuType": "T4"
    },
    "kernelspec": {
      "name": "python3",
      "display_name": "Python 3"
    },
    "language_info": {
      "name": "python"
    },
    "accelerator": "GPU"
  },
  "cells": [
    {
      "cell_type": "code",
      "source": [
        "# Step 1: Import necessary libraries"
      ],
      "metadata": {
        "id": "v-YklqiUGKI9"
      },
      "execution_count": 172,
      "outputs": []
    },
    {
      "cell_type": "code",
      "source": [
        "import warnings"
      ],
      "metadata": {
        "id": "v5VYmFrGKaet"
      },
      "execution_count": 223,
      "outputs": []
    },
    {
      "cell_type": "code",
      "source": [
        "warnings.filterwarnings('ignore')"
      ],
      "metadata": {
        "id": "VPQeKDhfKId3"
      },
      "execution_count": 225,
      "outputs": []
    },
    {
      "cell_type": "code",
      "source": [],
      "metadata": {
        "id": "NDV7KB67KysZ"
      },
      "execution_count": null,
      "outputs": []
    },
    {
      "cell_type": "code",
      "source": [
        "pip install dash plotly"
      ],
      "metadata": {
        "colab": {
          "base_uri": "https://localhost:8080/"
        },
        "id": "TzYciWLbKy3R",
        "outputId": "03a18d5c-e6df-4430-ad62-be65fd5caa68"
      },
      "execution_count": 226,
      "outputs": [
        {
          "output_type": "stream",
          "name": "stdout",
          "text": [
            "Requirement already satisfied: dash in /usr/local/lib/python3.11/dist-packages (2.18.2)\n",
            "Requirement already satisfied: plotly in /usr/local/lib/python3.11/dist-packages (5.24.1)\n",
            "Requirement already satisfied: Flask<3.1,>=1.0.4 in /usr/local/lib/python3.11/dist-packages (from dash) (3.0.3)\n",
            "Requirement already satisfied: Werkzeug<3.1 in /usr/local/lib/python3.11/dist-packages (from dash) (3.0.6)\n",
            "Requirement already satisfied: dash-html-components==2.0.0 in /usr/local/lib/python3.11/dist-packages (from dash) (2.0.0)\n",
            "Requirement already satisfied: dash-core-components==2.0.0 in /usr/local/lib/python3.11/dist-packages (from dash) (2.0.0)\n",
            "Requirement already satisfied: dash-table==5.0.0 in /usr/local/lib/python3.11/dist-packages (from dash) (5.0.0)\n",
            "Requirement already satisfied: importlib-metadata in /usr/local/lib/python3.11/dist-packages (from dash) (8.6.1)\n",
            "Requirement already satisfied: typing-extensions>=4.1.1 in /usr/local/lib/python3.11/dist-packages (from dash) (4.12.2)\n",
            "Requirement already satisfied: requests in /usr/local/lib/python3.11/dist-packages (from dash) (2.32.3)\n",
            "Requirement already satisfied: retrying in /usr/local/lib/python3.11/dist-packages (from dash) (1.3.4)\n",
            "Requirement already satisfied: nest-asyncio in /usr/local/lib/python3.11/dist-packages (from dash) (1.6.0)\n",
            "Requirement already satisfied: setuptools in /usr/local/lib/python3.11/dist-packages (from dash) (75.1.0)\n",
            "Requirement already satisfied: tenacity>=6.2.0 in /usr/local/lib/python3.11/dist-packages (from plotly) (9.0.0)\n",
            "Requirement already satisfied: packaging in /usr/local/lib/python3.11/dist-packages (from plotly) (24.2)\n",
            "Requirement already satisfied: Jinja2>=3.1.2 in /usr/local/lib/python3.11/dist-packages (from Flask<3.1,>=1.0.4->dash) (3.1.5)\n",
            "Requirement already satisfied: itsdangerous>=2.1.2 in /usr/local/lib/python3.11/dist-packages (from Flask<3.1,>=1.0.4->dash) (2.2.0)\n",
            "Requirement already satisfied: click>=8.1.3 in /usr/local/lib/python3.11/dist-packages (from Flask<3.1,>=1.0.4->dash) (8.1.8)\n",
            "Requirement already satisfied: blinker>=1.6.2 in /usr/local/lib/python3.11/dist-packages (from Flask<3.1,>=1.0.4->dash) (1.9.0)\n",
            "Requirement already satisfied: MarkupSafe>=2.1.1 in /usr/local/lib/python3.11/dist-packages (from Werkzeug<3.1->dash) (3.0.2)\n",
            "Requirement already satisfied: zipp>=3.20 in /usr/local/lib/python3.11/dist-packages (from importlib-metadata->dash) (3.21.0)\n",
            "Requirement already satisfied: charset-normalizer<4,>=2 in /usr/local/lib/python3.11/dist-packages (from requests->dash) (3.4.1)\n",
            "Requirement already satisfied: idna<4,>=2.5 in /usr/local/lib/python3.11/dist-packages (from requests->dash) (3.10)\n",
            "Requirement already satisfied: urllib3<3,>=1.21.1 in /usr/local/lib/python3.11/dist-packages (from requests->dash) (2.3.0)\n",
            "Requirement already satisfied: certifi>=2017.4.17 in /usr/local/lib/python3.11/dist-packages (from requests->dash) (2024.12.14)\n",
            "Requirement already satisfied: six>=1.7.0 in /usr/local/lib/python3.11/dist-packages (from retrying->dash) (1.17.0)\n"
          ]
        }
      ]
    },
    {
      "cell_type": "code",
      "source": [],
      "metadata": {
        "id": "EDln6FH9KDOm"
      },
      "execution_count": null,
      "outputs": []
    },
    {
      "cell_type": "code",
      "source": [],
      "metadata": {
        "id": "gEUibdTlKDar"
      },
      "execution_count": null,
      "outputs": []
    },
    {
      "cell_type": "code",
      "source": [
        "import dash"
      ],
      "metadata": {
        "id": "5L4_Bx_rK0Rg"
      },
      "execution_count": 227,
      "outputs": []
    },
    {
      "cell_type": "code",
      "source": [
        "from dash import dcc, html"
      ],
      "metadata": {
        "id": "-I9oZUlEK0WU"
      },
      "execution_count": 228,
      "outputs": []
    },
    {
      "cell_type": "code",
      "source": [
        "from dash.dependencies import Input, Output"
      ],
      "metadata": {
        "id": "yfZZSKHOK4xY"
      },
      "execution_count": 229,
      "outputs": []
    },
    {
      "cell_type": "code",
      "source": [
        "import plotly.graph_objs as go"
      ],
      "metadata": {
        "id": "jAWtmxaYK41e"
      },
      "execution_count": 230,
      "outputs": []
    },
    {
      "cell_type": "code",
      "source": [
        "import numpy as np"
      ],
      "metadata": {
        "id": "a2CzbztmGKN9"
      },
      "execution_count": 173,
      "outputs": []
    },
    {
      "cell_type": "code",
      "source": [
        "import pandas as pd"
      ],
      "metadata": {
        "id": "Isf-hLATGKSu"
      },
      "execution_count": 174,
      "outputs": []
    },
    {
      "cell_type": "code",
      "source": [
        "import matplotlib.pyplot as plt"
      ],
      "metadata": {
        "id": "cJKcwa1LGKXE"
      },
      "execution_count": 175,
      "outputs": []
    },
    {
      "cell_type": "code",
      "source": [
        "import random"
      ],
      "metadata": {
        "id": "JB5w2mnQGKb7"
      },
      "execution_count": 177,
      "outputs": []
    },
    {
      "cell_type": "code",
      "source": [
        "from collections import deque"
      ],
      "metadata": {
        "id": "y7yXwaJ3GZKy"
      },
      "execution_count": 178,
      "outputs": []
    },
    {
      "cell_type": "code",
      "source": [
        "from tensorflow.keras.models import Model"
      ],
      "metadata": {
        "id": "J8hJmaPYGZRd"
      },
      "execution_count": 179,
      "outputs": []
    },
    {
      "cell_type": "code",
      "source": [
        "from tensorflow.keras.layers import Input, Dense, Add, Lambda"
      ],
      "metadata": {
        "id": "oihuu3pnGZWP"
      },
      "execution_count": 180,
      "outputs": []
    },
    {
      "cell_type": "code",
      "source": [
        "from tensorflow.keras.optimizers import Adam"
      ],
      "metadata": {
        "id": "x3_NPLOxGZbL"
      },
      "execution_count": 181,
      "outputs": []
    },
    {
      "cell_type": "code",
      "source": [
        "import tensorflow.keras.backend as K"
      ],
      "metadata": {
        "id": "7AYJmPoSGZrF"
      },
      "execution_count": 182,
      "outputs": []
    },
    {
      "cell_type": "code",
      "source": [],
      "metadata": {
        "id": "MszBKnr9GiPp"
      },
      "execution_count": null,
      "outputs": []
    },
    {
      "cell_type": "code",
      "source": [],
      "metadata": {
        "id": "U05IumUgGiT6"
      },
      "execution_count": null,
      "outputs": []
    },
    {
      "cell_type": "code",
      "source": [],
      "metadata": {
        "id": "2K-tnG3XGiYZ"
      },
      "execution_count": null,
      "outputs": []
    },
    {
      "cell_type": "code",
      "source": [
        "# Step 2: Define the simulation environment class"
      ],
      "metadata": {
        "id": "a7PPUP9-Gidk"
      },
      "execution_count": 183,
      "outputs": []
    },
    {
      "cell_type": "code",
      "source": [
        "class ClimateSimulationEnvironment:\n",
        "    \"\"\"\n",
        "    Simulates interactions between economic activity, energy consumption,\n",
        "    and greenhouse gas emissions in a climate model.\n",
        "    \"\"\"\n",
        "    def __init__(self):\n",
        "        # Initialize environment parameters\n",
        "        self.economic_activity = 1.0  # Economic activity level (normalized)\n",
        "        self.energy_consumption = 1.0  # Energy consumption level (normalized)\n",
        "        self.greenhouse_gas_emissions = 1.0  # GHG emissions level (normalized)\n",
        "        self.state = self.get_state()\n",
        "        self.time_step = 0  # Track the number of steps in an episode\n",
        "\n",
        "    def get_state(self):\n",
        "        \"\"\"\n",
        "        Returns the current state as a vector of [economic activity, energy consumption, GHG emissions].\n",
        "        \"\"\"\n",
        "        return np.array([self.economic_activity, self.energy_consumption, self.greenhouse_gas_emissions])\n",
        "\n",
        "    def step(self, action):\n",
        "        \"\"\"\n",
        "        Updates the environment based on the agent's action.\n",
        "\n",
        "        Parameters:\n",
        "            action (array): A vector representing changes in [economic activity, energy consumption].\n",
        "\n",
        "        Returns:\n",
        "            next_state (array): The updated state after applying the action.\n",
        "            reward (float): The reward for the current step.\n",
        "            done (bool): Whether the episode has ended.\n",
        "        \"\"\"\n",
        "        # Apply action to update state variables\n",
        "        self.economic_activity += action[0]\n",
        "        self.energy_consumption += action[1]\n",
        "\n",
        "        # Update GHG emissions based on energy consumption and economic activity\n",
        "        self.greenhouse_gas_emissions += (\n",
        "            0.7 * self.energy_consumption - 0.3 * self.economic_activity\n",
        "        )\n",
        "\n",
        "        # Calculate reward: balance between reducing emissions and maintaining economic growth\n",
        "        reward = -self.greenhouse_gas_emissions + 0.5 * self.economic_activity\n",
        "\n",
        "        # Check if episode is done (e.g., emissions below threshold or max steps reached)\n",
        "        done = self.greenhouse_gas_emissions <= 0 or self.time_step >= 200\n",
        "\n",
        "        # Increment time step and return results\n",
        "        self.time_step += 1\n",
        "        return self.get_state(), reward, done\n",
        "\n",
        "    def reset(self):\n",
        "        \"\"\"\n",
        "        Resets the environment to its initial state.\n",
        "\n",
        "        Returns:\n",
        "            state (array): The initial state of the environment.\n",
        "        \"\"\"\n",
        "        self.economic_activity = 1.0\n",
        "        self.energy_consumption = 1.0\n",
        "        self.greenhouse_gas_emissions = 1.0\n",
        "        self.time_step = 0\n",
        "        return self.get_state()\n"
      ],
      "metadata": {
        "id": "zgBBRLnEGilu"
      },
      "execution_count": 184,
      "outputs": []
    },
    {
      "cell_type": "code",
      "source": [],
      "metadata": {
        "id": "3TxAtqnDGoUz"
      },
      "execution_count": null,
      "outputs": []
    },
    {
      "cell_type": "code",
      "source": [],
      "metadata": {
        "id": "bbo2j6APGoZA"
      },
      "execution_count": null,
      "outputs": []
    },
    {
      "cell_type": "code",
      "source": [],
      "metadata": {
        "id": "OuaZ8Ea0GodR"
      },
      "execution_count": null,
      "outputs": []
    },
    {
      "cell_type": "code",
      "source": [
        "# Step 3: Define the DQN agent with prioritized experience replay"
      ],
      "metadata": {
        "id": "sTknzxwTGoh4"
      },
      "execution_count": 185,
      "outputs": []
    },
    {
      "cell_type": "code",
      "source": [
        "class DQNAgent:\n",
        "    def __init__(self, state_size, action_size):\n",
        "        \"\"\"\n",
        "        Initializes the DQN agent with parameters for training and exploration.\n",
        "\n",
        "        Parameters:\n",
        "            state_size (int): Dimension of the state space.\n",
        "            action_size (int): Dimension of the action space.\n",
        "        \"\"\"\n",
        "        self.state_size = state_size\n",
        "        self.action_size = action_size\n",
        "        self.memory = deque(maxlen=2000)  # Experience replay memory size\n",
        "        self.gamma = 0.95  # Discount factor for future rewards\n",
        "        self.epsilon = 1.0  # Exploration rate (initially high for exploration)\n",
        "        self.epsilon_decay = 0.995  # Decay rate for epsilon over time\n",
        "        self.epsilon_min = 0.01  # Minimum epsilon value for exploitation\n",
        "        self.learning_rate = 0.001\n",
        "\n",
        "        # Build main and target networks with dueling architecture\n",
        "        self.model = self.build_model()\n",
        "\n",
        "    def build_model(self):\n",
        "        \"\"\"\n",
        "        Builds a dueling DQN model to estimate Q-values.\n",
        "\n",
        "        Returns:\n",
        "            model (Keras Model): The compiled neural network model.\n",
        "        \"\"\"\n",
        "        input_layer = Input(shape=(self.state_size,))\n",
        "        hidden = Dense(32, activation='relu')(input_layer)\n",
        "        value_branch = Dense(32, activation='relu')(hidden)\n",
        "        advantage_branch = Dense(32, activation='relu')(hidden)\n",
        "\n",
        "        value = Dense(1)(value_branch)\n",
        "        advantage = Dense(self.action_size)(advantage_branch)\n",
        "\n",
        "        # Dueling network output\n",
        "        q_values = Add()([value, Lambda(lambda x: x - K.mean(x, axis=1, keepdims=True))(advantage)])\n",
        "\n",
        "        model = Model(inputs=input_layer, outputs=q_values)\n",
        "        model.compile(loss='mse', optimizer=Adam(learning_rate=self.learning_rate))\n",
        "        return model\n",
        "\n",
        "    def act(self, state):\n",
        "        \"\"\"\n",
        "        Selects an action using epsilon-greedy policy.\n",
        "\n",
        "        Parameters:\n",
        "            state (array): The current state of the environment.\n",
        "\n",
        "        Returns:\n",
        "            action (array): The selected action, which is a 2-value tuple.\n",
        "        \"\"\"\n",
        "        if np.random.rand() <= self.epsilon:\n",
        "            # Return a 2-value action (change in economic activity, change in energy consumption)\n",
        "            return np.random.uniform(-0.1, 0.1, size=2)  # Random action in the range [-0.1, 0.1]\n",
        "        q_values = self.model.predict(state[np.newaxis, :])\n",
        "        # Take the action that corresponds to the highest Q-value\n",
        "        return q_values[0]  # For continuous actions, we directly return the predicted Q-values\n",
        "\n",
        "    def replay(self, batch_size):\n",
        "        \"\"\"\n",
        "        Updates the model by replaying experiences from memory.\n",
        "\n",
        "        Parameters:\n",
        "            batch_size (int): The size of the batch for replay.\n",
        "        \"\"\"\n",
        "        if len(self.memory) < batch_size:\n",
        "            return\n",
        "\n",
        "        samples = random.sample(self.memory, batch_size)\n",
        "        states, actions, rewards, next_states, dones = zip(*samples)\n",
        "\n",
        "        states = np.array(states)\n",
        "        next_states = np.array(next_states)\n",
        "\n",
        "        targets = self.model.predict(states)\n",
        "        next_q_values = self.model.predict(next_states)\n",
        "\n",
        "        for i in range(batch_size):\n",
        "            if dones[i]:\n",
        "                targets[i] = rewards[i]\n",
        "            else:\n",
        "                targets[i] = rewards[i] + self.gamma * next_q_values[i]\n",
        "\n",
        "        self.model.fit(states, targets, epochs=1, verbose=0)\n",
        "\n",
        "        if self.epsilon > self.epsilon_min:\n",
        "            self.epsilon *= self.epsilon_decay\n"
      ],
      "metadata": {
        "id": "Kr-L8vHWGiu3"
      },
      "execution_count": 186,
      "outputs": []
    },
    {
      "cell_type": "code",
      "source": [],
      "metadata": {
        "id": "-dbXHKB8GwcF"
      },
      "execution_count": null,
      "outputs": []
    },
    {
      "cell_type": "code",
      "source": [],
      "metadata": {
        "id": "LtR6ZciyGwgQ"
      },
      "execution_count": null,
      "outputs": []
    },
    {
      "cell_type": "code",
      "source": [],
      "metadata": {
        "id": "qDfS1ZoHGwk2"
      },
      "execution_count": null,
      "outputs": []
    },
    {
      "cell_type": "code",
      "source": [
        "# Step 4: Implement Prioritized Experience Replay"
      ],
      "metadata": {
        "id": "p0mAtoV_Gw2i"
      },
      "execution_count": 187,
      "outputs": []
    },
    {
      "cell_type": "code",
      "source": [
        "class PrioritizedReplayBuffer:\n",
        "    def __init__(self, capacity):\n",
        "        self.capacity = capacity\n",
        "        self.buffer = []\n",
        "        self.priorities = np.zeros(capacity, dtype=np.float32)\n",
        "        self.position = 0\n",
        "\n",
        "    def add(self, state, action, reward, next_state, done):\n",
        "        experience = (state, action, reward, next_state, done)\n",
        "        max_priority = np.max(self.priorities) if self.buffer else 1.0\n",
        "\n",
        "        if len(self.buffer) < self.capacity:\n",
        "            self.buffer.append(experience)\n",
        "        else:\n",
        "            self.buffer[self.position] = experience\n",
        "\n",
        "        self.priorities[self.position] = max_priority\n",
        "        self.position = (self.position + 1) % self.capacity\n",
        "\n",
        "    def sample(self, batch_size, alpha=0.6, beta=0.4):\n",
        "        if len(self.buffer) == self.capacity:\n",
        "            priorities = self.priorities\n",
        "        else:\n",
        "            priorities = self.priorities[:self.position]\n",
        "\n",
        "        probabilities = priorities ** alpha\n",
        "        probabilities /= probabilities.sum()\n",
        "\n",
        "        indices = np.random.choice(len(self.buffer), batch_size, p=probabilities)\n",
        "        samples = [self.buffer[idx] for idx in indices]\n",
        "\n",
        "        weights = (len(self.buffer) * probabilities[indices]) ** (-beta)\n",
        "        weights /= weights.max()\n",
        "\n",
        "        return samples, indices, weights\n",
        "\n",
        "    def update_priorities(self, indices, priorities):\n",
        "        for idx, priority in zip(indices, priorities):\n",
        "            self.priorities[idx] = priority"
      ],
      "metadata": {
        "id": "nuZ06cuVGi1G"
      },
      "execution_count": 188,
      "outputs": []
    },
    {
      "cell_type": "code",
      "source": [],
      "metadata": {
        "id": "XEZYlCC8G2we"
      },
      "execution_count": null,
      "outputs": []
    },
    {
      "cell_type": "code",
      "source": [],
      "metadata": {
        "id": "t-ngE95pG21J"
      },
      "execution_count": null,
      "outputs": []
    },
    {
      "cell_type": "code",
      "source": [],
      "metadata": {
        "id": "25qOrHesG4c9"
      },
      "execution_count": null,
      "outputs": []
    },
    {
      "cell_type": "code",
      "source": [
        "# Step 5: Main Training Loop"
      ],
      "metadata": {
        "id": "NRfmLB9BG4h6"
      },
      "execution_count": 189,
      "outputs": []
    },
    {
      "cell_type": "code",
      "source": [
        "def train_agent(agent, env, episodes, steps_per_episode):\n",
        "    for episode in range(episodes):\n",
        "        state = env.reset()\n",
        "        total_reward = 0\n",
        "\n",
        "        for step in range(steps_per_episode):\n",
        "            action = agent.act(state)\n",
        "            next_state, reward, done = env.step(action)\n",
        "            agent.memory.append((state, action, reward, next_state, done))\n",
        "\n",
        "            state = next_state\n",
        "            total_reward += reward\n",
        "\n",
        "            if done:\n",
        "                break\n",
        "\n",
        "        agent.replay(64)  # Batch size of 64\n",
        "\n",
        "        print(f\"Episode: {episode + 1}, Total Reward: {total_reward}, Epsilon: {agent.epsilon:.2f}\")\n"
      ],
      "metadata": {
        "id": "730AKKuSGKg5"
      },
      "execution_count": 190,
      "outputs": []
    },
    {
      "cell_type": "code",
      "source": [],
      "metadata": {
        "id": "A3yetqIkG8nf"
      },
      "execution_count": null,
      "outputs": []
    },
    {
      "cell_type": "code",
      "source": [],
      "metadata": {
        "id": "0KGZwgWvG8rr"
      },
      "execution_count": null,
      "outputs": []
    },
    {
      "cell_type": "code",
      "source": [
        "# Initialize components"
      ],
      "metadata": {
        "id": "uaKE61fwG-Hz"
      },
      "execution_count": 191,
      "outputs": []
    },
    {
      "cell_type": "code",
      "source": [
        "state_size = 3  # [economic_activity, energy_consumption, greenhouse_gas_emissions]"
      ],
      "metadata": {
        "id": "qyndDzTPG-MH"
      },
      "execution_count": 192,
      "outputs": []
    },
    {
      "cell_type": "code",
      "source": [
        "action_size = 2  # [change in economic activity, change in energy consumption]\n"
      ],
      "metadata": {
        "id": "reSYkfTNGKl1"
      },
      "execution_count": 193,
      "outputs": []
    },
    {
      "cell_type": "code",
      "source": [],
      "metadata": {
        "id": "9uKbXj5tHD67"
      },
      "execution_count": null,
      "outputs": []
    },
    {
      "cell_type": "code",
      "source": [
        "env = ClimateSimulationEnvironment()"
      ],
      "metadata": {
        "id": "DwQPKu_qHD_o"
      },
      "execution_count": 194,
      "outputs": []
    },
    {
      "cell_type": "code",
      "source": [
        "agent = DQNAgent(state_size, action_size)"
      ],
      "metadata": {
        "id": "5U9PIrnPHEEa"
      },
      "execution_count": 195,
      "outputs": []
    },
    {
      "cell_type": "code",
      "source": [],
      "metadata": {
        "id": "Xcl9YtsSHIZ2"
      },
      "execution_count": null,
      "outputs": []
    },
    {
      "cell_type": "code",
      "source": [
        "# Start training with a maximum of 3 episodes for faster execution"
      ],
      "metadata": {
        "id": "pVX7RJM9HIeG"
      },
      "execution_count": 196,
      "outputs": []
    },
    {
      "cell_type": "code",
      "source": [
        "train_agent(agent, env, episodes=3, steps_per_episode=200)"
      ],
      "metadata": {
        "colab": {
          "base_uri": "https://localhost:8080/"
        },
        "id": "UcYmD68tHIjL",
        "outputId": "a2a3cdfc-4b20-4510-90be-6a520617d0bb"
      },
      "execution_count": 197,
      "outputs": [
        {
          "output_type": "stream",
          "name": "stdout",
          "text": [
            "\u001b[1m2/2\u001b[0m \u001b[32m━━━━━━━━━━━━━━━━━━━━\u001b[0m\u001b[37m\u001b[0m \u001b[1m0s\u001b[0m 4ms/step  \n",
            "\u001b[1m2/2\u001b[0m \u001b[32m━━━━━━━━━━━━━━━━━━━━\u001b[0m\u001b[37m\u001b[0m \u001b[1m0s\u001b[0m 2ms/step \n",
            "Episode: 1, Total Reward: -14593.956205164486, Epsilon: 0.99\n",
            "\u001b[1m1/1\u001b[0m \u001b[32m━━━━━━━━━━━━━━━━━━━━\u001b[0m\u001b[37m\u001b[0m \u001b[1m0s\u001b[0m 335ms/step\n",
            "\u001b[1m1/1\u001b[0m \u001b[32m━━━━━━━━━━━━━━━━━━━━\u001b[0m\u001b[37m\u001b[0m \u001b[1m0s\u001b[0m 63ms/step\n",
            "\u001b[1m2/2\u001b[0m \u001b[32m━━━━━━━━━━━━━━━━━━━━\u001b[0m\u001b[37m\u001b[0m \u001b[1m0s\u001b[0m 3ms/step \n",
            "\u001b[1m2/2\u001b[0m \u001b[32m━━━━━━━━━━━━━━━━━━━━\u001b[0m\u001b[37m\u001b[0m \u001b[1m0s\u001b[0m 3ms/step \n",
            "Episode: 2, Total Reward: -819.5129701357283, Epsilon: 0.99\n",
            "\u001b[1m1/1\u001b[0m \u001b[32m━━━━━━━━━━━━━━━━━━━━\u001b[0m\u001b[37m\u001b[0m \u001b[1m0s\u001b[0m 15ms/step\n",
            "\u001b[1m1/1\u001b[0m \u001b[32m━━━━━━━━━━━━━━━━━━━━\u001b[0m\u001b[37m\u001b[0m \u001b[1m0s\u001b[0m 15ms/step\n",
            "\u001b[1m2/2\u001b[0m \u001b[32m━━━━━━━━━━━━━━━━━━━━\u001b[0m\u001b[37m\u001b[0m \u001b[1m0s\u001b[0m 4ms/step \n",
            "\u001b[1m2/2\u001b[0m \u001b[32m━━━━━━━━━━━━━━━━━━━━\u001b[0m\u001b[37m\u001b[0m \u001b[1m0s\u001b[0m 6ms/step \n",
            "Episode: 3, Total Reward: -2085.038109705713, Epsilon: 0.99\n"
          ]
        }
      ]
    },
    {
      "cell_type": "code",
      "source": [],
      "metadata": {
        "id": "uYMmgCNpGKq1"
      },
      "execution_count": null,
      "outputs": []
    },
    {
      "cell_type": "code",
      "source": [],
      "metadata": {
        "id": "xPM74U25HafQ"
      },
      "execution_count": null,
      "outputs": []
    },
    {
      "cell_type": "markdown",
      "source": [
        "# **ELSE**"
      ],
      "metadata": {
        "id": "hb66cVp5HbCp"
      }
    },
    {
      "cell_type": "code",
      "source": [],
      "metadata": {
        "id": "lX3QkcQhHeCX"
      },
      "execution_count": null,
      "outputs": []
    },
    {
      "cell_type": "code",
      "source": [
        "# Modify the training loop to track rewards and epsilon values for evaluation\n"
      ],
      "metadata": {
        "id": "hjt5og9fHeTr"
      },
      "execution_count": 198,
      "outputs": []
    },
    {
      "cell_type": "code",
      "source": [
        "def train_agent(agent, env, episodes, steps_per_episode):\n",
        "    episode_rewards = []  # To store rewards for each episode\n",
        "    epsilon_values = []   # To store epsilon values at each episode\n",
        "\n",
        "    for episode in range(episodes):\n",
        "        state = env.reset()\n",
        "        total_reward = 0\n",
        "\n",
        "        for step in range(steps_per_episode):\n",
        "            action = agent.act(state)\n",
        "            next_state, reward, done = env.step(action)\n",
        "            agent.memory.append((state, action, reward, next_state, done))\n",
        "\n",
        "            state = next_state\n",
        "            total_reward += reward\n",
        "\n",
        "            if done:\n",
        "                break\n",
        "\n",
        "        agent.replay(64)  # Batch size of 64\n",
        "\n",
        "        episode_rewards.append(total_reward)\n",
        "        epsilon_values.append(agent.epsilon)\n",
        "\n",
        "        print(f\"Episode: {episode + 1}, Total Reward: {total_reward}, Epsilon: {agent.epsilon:.2f}\")\n",
        "\n",
        "    # After training, plot total rewards and epsilon values over episodes for evaluation\n",
        "    plt.figure(figsize=(12, 6))\n",
        "\n",
        "    # Plot total rewards per episode\n",
        "    plt.subplot(1, 2, 1)\n",
        "    plt.plot(episode_rewards)\n",
        "    plt.xlabel('Episode')\n",
        "    plt.ylabel('Total Reward')\n",
        "    plt.title('Total Reward per Episode')\n",
        "\n",
        "    # Plot epsilon values per episode\n",
        "    plt.subplot(1, 2, 2)\n",
        "    plt.plot(epsilon_values)\n",
        "    plt.xlabel('Episode')\n",
        "    plt.ylabel('Epsilon Value')\n",
        "    plt.title('Epsilon Decay per Episode')\n",
        "\n",
        "    plt.tight_layout()\n",
        "    plt.show()\n"
      ],
      "metadata": {
        "id": "xvUi9cQMHjLS"
      },
      "execution_count": 199,
      "outputs": []
    },
    {
      "cell_type": "code",
      "source": [
        "# Start the evaluation with training for 3 episodes"
      ],
      "metadata": {
        "id": "d8b0TBa1GKvv"
      },
      "execution_count": 201,
      "outputs": []
    },
    {
      "cell_type": "code",
      "source": [
        "train_agent(agent, env, episodes=3, steps_per_episode=200)"
      ],
      "metadata": {
        "colab": {
          "base_uri": "https://localhost:8080/",
          "height": 853
        },
        "id": "e97CBBTZHuDl",
        "outputId": "af715bd3-5f46-465e-f80f-ada9c1ffade6"
      },
      "execution_count": 202,
      "outputs": [
        {
          "output_type": "stream",
          "name": "stdout",
          "text": [
            "\u001b[1m1/1\u001b[0m \u001b[32m━━━━━━━━━━━━━━━━━━━━\u001b[0m\u001b[37m\u001b[0m \u001b[1m0s\u001b[0m 17ms/step\n",
            "\u001b[1m2/2\u001b[0m \u001b[32m━━━━━━━━━━━━━━━━━━━━\u001b[0m\u001b[37m\u001b[0m \u001b[1m0s\u001b[0m 3ms/step \n",
            "\u001b[1m2/2\u001b[0m \u001b[32m━━━━━━━━━━━━━━━━━━━━\u001b[0m\u001b[37m\u001b[0m \u001b[1m0s\u001b[0m 3ms/step \n",
            "Episode: 1, Total Reward: -808.0352438532492, Epsilon: 0.97\n",
            "\u001b[1m1/1\u001b[0m \u001b[32m━━━━━━━━━━━━━━━━━━━━\u001b[0m\u001b[37m\u001b[0m \u001b[1m0s\u001b[0m 18ms/step\n",
            "\u001b[1m1/1\u001b[0m \u001b[32m━━━━━━━━━━━━━━━━━━━━\u001b[0m\u001b[37m\u001b[0m \u001b[1m0s\u001b[0m 16ms/step\n",
            "\u001b[1m2/2\u001b[0m \u001b[32m━━━━━━━━━━━━━━━━━━━━\u001b[0m\u001b[37m\u001b[0m \u001b[1m0s\u001b[0m 3ms/step \n",
            "\u001b[1m2/2\u001b[0m \u001b[32m━━━━━━━━━━━━━━━━━━━━\u001b[0m\u001b[37m\u001b[0m \u001b[1m0s\u001b[0m 3ms/step \n",
            "Episode: 2, Total Reward: -234.7327447338876, Epsilon: 0.96\n",
            "\u001b[1m1/1\u001b[0m \u001b[32m━━━━━━━━━━━━━━━━━━━━\u001b[0m\u001b[37m\u001b[0m \u001b[1m0s\u001b[0m 15ms/step\n",
            "\u001b[1m2/2\u001b[0m \u001b[32m━━━━━━━━━━━━━━━━━━━━\u001b[0m\u001b[37m\u001b[0m \u001b[1m0s\u001b[0m 3ms/step \n",
            "\u001b[1m2/2\u001b[0m \u001b[32m━━━━━━━━━━━━━━━━━━━━\u001b[0m\u001b[37m\u001b[0m \u001b[1m0s\u001b[0m 3ms/step \n",
            "Episode: 3, Total Reward: -312.5292719460425, Epsilon: 0.96\n"
          ]
        },
        {
          "output_type": "display_data",
          "data": {
            "text/plain": [
              "<Figure size 1200x600 with 2 Axes>"
            ],
            "image/png": "[encoded data removed]"
          },
          "metadata": {}
        }
      ]
    },
    {
      "cell_type": "code",
      "source": [],
      "metadata": {
        "id": "_N52bCcCIlC8"
      },
      "execution_count": null,
      "outputs": []
    },
    {
      "cell_type": "code",
      "source": [],
      "metadata": {
        "id": "ltRNFIQWIlJz"
      },
      "execution_count": null,
      "outputs": []
    },
    {
      "cell_type": "code",
      "source": [],
      "metadata": {
        "id": "V63dmP_rIxfH"
      },
      "execution_count": null,
      "outputs": []
    },
    {
      "cell_type": "markdown",
      "source": [
        "# **CREATING AN INTERACTIVE DASHBOARD**"
      ],
      "metadata": {
        "id": "8jSr7w5TLIN8"
      }
    },
    {
      "cell_type": "code",
      "source": [
        "# Initialize Dash app"
      ],
      "metadata": {
        "id": "YLLf_0E-Ixk4"
      },
      "execution_count": 206,
      "outputs": []
    },
    {
      "cell_type": "code",
      "source": [
        "app = dash.Dash(__name__)"
      ],
      "metadata": {
        "id": "Lb_KSO6AIxqI"
      },
      "execution_count": 207,
      "outputs": []
    },
    {
      "cell_type": "code",
      "source": [],
      "metadata": {
        "id": "zw6fulvjI_eP"
      },
      "execution_count": null,
      "outputs": []
    },
    {
      "cell_type": "code",
      "source": [],
      "metadata": {
        "id": "LYk9ko70I_lJ"
      },
      "execution_count": null,
      "outputs": []
    },
    {
      "cell_type": "code",
      "source": [
        "# Set up initial data for the plot"
      ],
      "metadata": {
        "id": "5SWfsVvRI_sa"
      },
      "execution_count": 208,
      "outputs": []
    },
    {
      "cell_type": "code",
      "source": [
        "episode_rewards = []  # To store rewards for each episode"
      ],
      "metadata": {
        "id": "VIV-CXotI_yf"
      },
      "execution_count": 209,
      "outputs": []
    },
    {
      "cell_type": "code",
      "source": [
        "epsilon_values = []   # To store epsilon values at each episode"
      ],
      "metadata": {
        "id": "ycDEZYl9I_4l"
      },
      "execution_count": 210,
      "outputs": []
    },
    {
      "cell_type": "code",
      "source": [],
      "metadata": {
        "id": "qO3vtgmSJH_j"
      },
      "execution_count": null,
      "outputs": []
    },
    {
      "cell_type": "code",
      "source": [],
      "metadata": {
        "id": "lPxPiPmsJIFU"
      },
      "execution_count": null,
      "outputs": []
    },
    {
      "cell_type": "code",
      "source": [
        "# Dummy function for simulation (you can replace with your model)"
      ],
      "metadata": {
        "id": "1vTGo00-JILb"
      },
      "execution_count": 211,
      "outputs": []
    },
    {
      "cell_type": "code",
      "source": [
        "def simulate_episode(agent, env, episodes=3, steps_per_episode=200):\n",
        "    global episode_rewards, epsilon_values\n",
        "    for episode in range(episodes):\n",
        "        state = env.reset()\n",
        "        total_reward = 0\n",
        "        for step in range(steps_per_episode):\n",
        "            action = agent.act(state)\n",
        "            next_state, reward, done = env.step(action)\n",
        "            agent.memory.append((state, action, reward, next_state, done))\n",
        "            state = next_state\n",
        "            total_reward += reward\n",
        "            if done:\n",
        "                break\n",
        "        agent.replay(64)\n",
        "        episode_rewards.append(total_reward)\n",
        "        epsilon_values.append(agent.epsilon)"
      ],
      "metadata": {
        "id": "0vcXrRwfJISv"
      },
      "execution_count": 212,
      "outputs": []
    },
    {
      "cell_type": "code",
      "source": [],
      "metadata": {
        "id": "J1S7i2JdJOKm"
      },
      "execution_count": null,
      "outputs": []
    },
    {
      "cell_type": "code",
      "source": [],
      "metadata": {
        "id": "OTaezFGVJOP-"
      },
      "execution_count": null,
      "outputs": []
    },
    {
      "cell_type": "code",
      "source": [
        "# Layout of the dashboard"
      ],
      "metadata": {
        "id": "yCcajseiJOVm"
      },
      "execution_count": 213,
      "outputs": []
    },
    {
      "cell_type": "code",
      "source": [
        "app.layout = html.Div([\n",
        "    html.H1(\"Climate Simulation and Agent Training Dashboard\"),\n",
        "\n",
        "    # Dropdown for selecting the number of episodes\n",
        "    html.Label(\"Select Number of Episodes:\"),\n",
        "    dcc.Dropdown(\n",
        "        id='episodes-dropdown',\n",
        "        options=[{'label': str(i), 'value': i} for i in range(1, 11)],\n",
        "        value=3,\n",
        "    ),\n",
        "\n",
        "    # Graph for total rewards per episode\n",
        "    dcc.Graph(id='reward-graph'),\n",
        "\n",
        "    # Graph for epsilon decay per episode\n",
        "    dcc.Graph(id='epsilon-graph'),\n",
        "\n",
        "    # Button to trigger the simulation\n",
        "    html.Button('Start Simulation', id='start-button', n_clicks=0),\n",
        "])\n",
        "\n",
        "# Update graphs based on the selected number of episodes\n",
        "@app.callback(\n",
        "    [Output('reward-graph', 'figure'),\n",
        "     Output('epsilon-graph', 'figure')],\n",
        "    [Input('start-button', 'n_clicks'),\n",
        "     Input('episodes-dropdown', 'value')]\n",
        ")\n",
        "def update_dashboard(n_clicks, num_episodes):\n",
        "    if n_clicks > 0:\n",
        "        # Simulate with the specified number of episodes\n",
        "        # Replace 'agent' and 'env' with your actual agent and environment\n",
        "        simulate_episode(agent, env, episodes=num_episodes, steps_per_episode=200)\n",
        "\n",
        "        # Create the total reward graph\n",
        "        reward_fig = {\n",
        "            'data': [go.Scatter(x=np.arange(len(episode_rewards)), y=episode_rewards, mode='lines+markers')],\n",
        "            'layout': go.Layout(title='Total Reward per Episode',\n",
        "                                xaxis={'title': 'Episode'},\n",
        "                                yaxis={'title': 'Total Reward'})\n",
        "        }\n",
        "\n",
        "        # Create the epsilon graph\n",
        "        epsilon_fig = {\n",
        "            'data': [go.Scatter(x=np.arange(len(epsilon_values)), y=epsilon_values, mode='lines+markers')],\n",
        "            'layout': go.Layout(title='Epsilon Decay per Episode',\n",
        "                                xaxis={'title': 'Episode'},\n",
        "                                yaxis={'title': 'Epsilon Value'})\n",
        "        }\n",
        "\n",
        "        return reward_fig, epsilon_fig\n",
        "    else:\n",
        "        # Return empty graphs when simulation is not started\n",
        "        return {}, {}"
      ],
      "metadata": {
        "id": "DEQ5rWb2I__Y"
      },
      "execution_count": 214,
      "outputs": []
    },
    {
      "cell_type": "code",
      "source": [],
      "metadata": {
        "id": "IPL8seCVJY3B"
      },
      "execution_count": null,
      "outputs": []
    },
    {
      "cell_type": "code",
      "source": [],
      "metadata": {
        "id": "q7CtGPykJY-p"
      },
      "execution_count": 230,
      "outputs": []
    },
    {
      "cell_type": "code",
      "source": [
        "# Run the Dash app"
      ],
      "metadata": {
        "id": "oqXzCRdTJZE8"
      },
      "execution_count": 215,
      "outputs": []
    },
    {
      "cell_type": "code",
      "source": [
        "if __name__ == '__main__':\n",
        "    app.run_server(debug=True)"
      ],
      "metadata": {
        "colab": {
          "base_uri": "https://localhost:8080/",
          "height": 671
        },
        "id": "pslkVH37JAGK",
        "outputId": "ae08e6cb-00d5-4d69-acb8-38c7849fd235"
      },
      "execution_count": 217,
      "outputs": [
        {
          "output_type": "display_data",
          "data": {
            "text/plain": [
              "<IPython.core.display.Javascript object>"
            ],
            "application/javascript": [
              "(async (port, path, width, height, cache, element) => {\n",
              "    if (!google.colab.kernel.accessAllowed && !cache) {\n",
              "      return;\n",
              "    }\n",
              "    element.appendChild(document.createTextNode(''));\n",
              "    const url = await google.colab.kernel.proxyPort(port, {cache});\n",
              "    const iframe = document.createElement('iframe');\n",
              "    iframe.src = new URL(path, url).toString();\n",
              "    iframe.height = height;\n",
              "    iframe.width = width;\n",
              "    iframe.style.border = 0;\n",
              "    iframe.allow = [\n",
              "        'accelerometer',\n",
              "        'autoplay',\n",
              "        'camera',\n",
              "        'clipboard-read',\n",
              "        'clipboard-write',\n",
              "        'gyroscope',\n",
              "        'magnetometer',\n",
              "        'microphone',\n",
              "        'serial',\n",
              "        'usb',\n",
              "        'xr-spatial-tracking',\n",
              "    ].join('; ');\n",
              "    element.appendChild(iframe);\n",
              "  })(8050, \"/\", \"100%\", 650, false, window.element)"
            ]
          },
          "metadata": {}
        }
      ]
    }
  ]
}