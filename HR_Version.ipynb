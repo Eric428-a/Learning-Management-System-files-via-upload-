{
  "nbformat": 4,
  "nbformat_minor": 0,
  "metadata": {
    "colab": {
      "provenance": [],
      "gpuType": "T4"
    },
    "kernelspec": {
      "name": "python3",
      "display_name": "Python 3"
    },
    "language_info": {
      "name": "python"
    },
    "accelerator": "GPU"
  },
  "cells": [
    {
      "cell_type": "code",
      "source": [
        "!pip install pdfplumber\n"
      ],
      "metadata": {
        "colab": {
          "base_uri": "https://localhost:8080/"
        },
        "collapsed": true,
        "id": "RGjWjp80q2Qj",
        "outputId": "df203171-e55d-49ee-a165-63725b9baace"
      },
      "execution_count": 140,
      "outputs": [
        {
          "output_type": "stream",
          "name": "stdout",
          "text": [
            "Requirement already satisfied: pdfplumber in /usr/local/lib/python3.10/dist-packages (0.11.5)\n",
            "Requirement already satisfied: pdfminer.six==20231228 in /usr/local/lib/python3.10/dist-packages (from pdfplumber) (20231228)\n",
            "Requirement already satisfied: Pillow>=9.1 in /usr/local/lib/python3.10/dist-packages (from pdfplumber) (11.0.0)\n",
            "Requirement already satisfied: pypdfium2>=4.18.0 in /usr/local/lib/python3.10/dist-packages (from pdfplumber) (4.30.1)\n",
            "Requirement already satisfied: charset-normalizer>=2.0.0 in /usr/local/lib/python3.10/dist-packages (from pdfminer.six==20231228->pdfplumber) (3.4.0)\n",
            "Requirement already satisfied: cryptography>=36.0.0 in /usr/local/lib/python3.10/dist-packages (from pdfminer.six==20231228->pdfplumber) (43.0.3)\n",
            "Requirement already satisfied: cffi>=1.12 in /usr/local/lib/python3.10/dist-packages (from cryptography>=36.0.0->pdfminer.six==20231228->pdfplumber) (1.17.1)\n",
            "Requirement already satisfied: pycparser in /usr/local/lib/python3.10/dist-packages (from cffi>=1.12->cryptography>=36.0.0->pdfminer.six==20231228->pdfplumber) (2.22)\n"
          ]
        }
      ]
    },
    {
      "cell_type": "code",
      "source": [],
      "metadata": {
        "id": "hhUev_Qo-D9y"
      },
      "execution_count": 140,
      "outputs": []
    },
    {
      "cell_type": "code",
      "source": [
        "!pip install fpdf\n"
      ],
      "metadata": {
        "colab": {
          "base_uri": "https://localhost:8080/"
        },
        "collapsed": true,
        "id": "aUuo1EyOq46T",
        "outputId": "db07b19c-9ac9-4ec2-86da-b29361a6e942"
      },
      "execution_count": 141,
      "outputs": [
        {
          "output_type": "stream",
          "name": "stdout",
          "text": [
            "Requirement already satisfied: fpdf in /usr/local/lib/python3.10/dist-packages (1.7.2)\n"
          ]
        }
      ]
    },
    {
      "cell_type": "code",
      "source": [],
      "metadata": {
        "id": "woO_iCHr3Uxp"
      },
      "execution_count": 141,
      "outputs": []
    },
    {
      "cell_type": "code",
      "source": [],
      "metadata": {
        "id": "tpXD_0HE6q3J"
      },
      "execution_count": 141,
      "outputs": []
    },
    {
      "cell_type": "code",
      "source": [],
      "metadata": {
        "id": "5Z2x1nhJ3Uz5"
      },
      "execution_count": 141,
      "outputs": []
    },
    {
      "cell_type": "markdown",
      "source": [
        "----\n",
        "----"
      ],
      "metadata": {
        "id": "0mTU_mPU9kyM"
      }
    },
    {
      "cell_type": "markdown",
      "source": [
        "# SYNTHETIC DATASET GENERATION"
      ],
      "metadata": {
        "id": "pl2zzW74AydU"
      }
    },
    {
      "cell_type": "code",
      "source": [
        "import os\n",
        "from fpdf import FPDF\n",
        "from email.message import EmailMessage\n",
        "\n",
        "# Create directory structure\n",
        "directories = [\"data/resumes\", \"data/emails\", \"data/videos\", \"data/audios\"]\n",
        "for d in directories:\n",
        "    os.makedirs(d, exist_ok=True)\n",
        "\n",
        "# Define synthetic resume texts for five candidates.\n",
        "resume_texts = [\n",
        "    \"John Doe has 5 years of experience in machine learning. Proficient in Python, NLP, and deep learning. Graduated from MIT.\",\n",
        "    \"Jane Smith has 3 years of experience in data science. Proficient in Python, R, and SQL. Graduated from Stanford University.\",\n",
        "    \"David Lee has 7 years of experience in software engineering, specializing in machine learning and AI. Proficient in Python and TensorFlow. Graduated from Harvard.\",\n",
        "    \"Emily Carter has 4 years of experience in natural language processing. Proficient in Python, NLP, and deep learning. Graduated from Berkeley.\",\n",
        "    \"Michael Brown has 6 years of experience in data analytics. Proficient in Python, data visualization, and machine learning. Graduated from Oxford.\"\n",
        "]\n",
        "\n",
        "# Generate synthetic PDF resumes.\n",
        "for i, text in enumerate(resume_texts):\n",
        "    pdf = FPDF()\n",
        "    pdf.add_page()\n",
        "    pdf.set_font(\"Arial\", size=12)\n",
        "    pdf.multi_cell(0, 10, text)\n",
        "    resume_path = os.path.join(\"data\", \"resumes\", f\"resume_{i}.pdf\")\n",
        "    pdf.output(resume_path)\n",
        "    print(f\"Created {resume_path}\")\n",
        "\n",
        "# Generate synthetic email files.\n",
        "for i in range(len(resume_texts)):\n",
        "    msg = EmailMessage()\n",
        "    msg[\"Subject\"] = \"Application for Software Engineer Role\"\n",
        "    msg[\"From\"] = \"candidate@example.com\"\n",
        "    msg[\"To\"] = \"hr@company.com\"\n",
        "    # Slightly vary the email body for each candidate.\n",
        "    body_text = f\"Dear HR,\\n\\nI am excited to apply for the software engineer role. My background includes extensive relevant experience. Regards, Candidate {i}\"\n",
        "    msg.set_content(body_text)\n",
        "    email_path = os.path.join(\"data\", \"emails\", f\"email_{i}.eml\")\n",
        "    with open(email_path, \"wb\") as f:\n",
        "        f.write(msg.as_bytes())\n",
        "    print(f\"Created {email_path}\")\n"
      ],
      "metadata": {
        "colab": {
          "base_uri": "https://localhost:8080/"
        },
        "id": "DPII_m619m2D",
        "outputId": "4bc141cd-5c9e-448e-981a-713664a8e141"
      },
      "execution_count": 142,
      "outputs": [
        {
          "output_type": "stream",
          "name": "stdout",
          "text": [
            "Created data/resumes/resume_0.pdf\n",
            "Created data/resumes/resume_1.pdf\n",
            "Created data/resumes/resume_2.pdf\n",
            "Created data/resumes/resume_3.pdf\n",
            "Created data/resumes/resume_4.pdf\n",
            "Created data/emails/email_0.eml\n",
            "Created data/emails/email_1.eml\n",
            "Created data/emails/email_2.eml\n",
            "Created data/emails/email_3.eml\n",
            "Created data/emails/email_4.eml\n"
          ]
        }
      ]
    },
    {
      "cell_type": "markdown",
      "source": [
        "-----\n",
        "-----"
      ],
      "metadata": {
        "id": "hcmuC3kJ6rfT"
      }
    },
    {
      "cell_type": "code",
      "source": [
        "import re"
      ],
      "metadata": {
        "id": "nnIn9Dyz3U3f"
      },
      "execution_count": 143,
      "outputs": []
    },
    {
      "cell_type": "code",
      "source": [
        "import os"
      ],
      "metadata": {
        "id": "B_eUS05b3U6K"
      },
      "execution_count": 144,
      "outputs": []
    },
    {
      "cell_type": "code",
      "source": [
        "import spacy"
      ],
      "metadata": {
        "id": "miJxo5vr3U8t"
      },
      "execution_count": 145,
      "outputs": []
    },
    {
      "cell_type": "code",
      "source": [
        "import pdfplumber"
      ],
      "metadata": {
        "id": "cF85FnOO3U-4"
      },
      "execution_count": 146,
      "outputs": []
    },
    {
      "cell_type": "code",
      "source": [
        "import torch"
      ],
      "metadata": {
        "id": "aoDaFpkw3VBS"
      },
      "execution_count": 147,
      "outputs": []
    },
    {
      "cell_type": "code",
      "source": [
        "import cv2"
      ],
      "metadata": {
        "id": "3x8Crlzl3f1z"
      },
      "execution_count": 148,
      "outputs": []
    },
    {
      "cell_type": "code",
      "source": [
        "import librosa"
      ],
      "metadata": {
        "id": "T6YBp0kF3f4Z"
      },
      "execution_count": 149,
      "outputs": []
    },
    {
      "cell_type": "code",
      "source": [
        "import numpy as np"
      ],
      "metadata": {
        "id": "zwJ9nDHz3f8H"
      },
      "execution_count": 150,
      "outputs": []
    },
    {
      "cell_type": "code",
      "source": [
        "import pandas as pd"
      ],
      "metadata": {
        "id": "x5ivZ_SB3f-1"
      },
      "execution_count": 151,
      "outputs": []
    },
    {
      "cell_type": "code",
      "source": [
        "from sentence_transformers import SentenceTransformer, util"
      ],
      "metadata": {
        "id": "IiWCzRBu3gBO"
      },
      "execution_count": 152,
      "outputs": []
    },
    {
      "cell_type": "code",
      "source": [
        "from email import policy"
      ],
      "metadata": {
        "id": "ETI9xdGB3gD6"
      },
      "execution_count": 153,
      "outputs": []
    },
    {
      "cell_type": "code",
      "source": [
        "from email.parser import BytesParser"
      ],
      "metadata": {
        "id": "T0AmBXfk3obd"
      },
      "execution_count": 154,
      "outputs": []
    },
    {
      "cell_type": "code",
      "source": [
        "from transformers import pipeline"
      ],
      "metadata": {
        "id": "eY-wKZZR3oeC"
      },
      "execution_count": 155,
      "outputs": []
    },
    {
      "cell_type": "code",
      "source": [
        "from sklearn.ensemble import RandomForestClassifier"
      ],
      "metadata": {
        "id": "YUUEONxF3ogq"
      },
      "execution_count": 156,
      "outputs": []
    },
    {
      "cell_type": "code",
      "source": [
        "from sklearn.preprocessing import StandardScaler"
      ],
      "metadata": {
        "id": "rKGTYA4h3ojE"
      },
      "execution_count": 157,
      "outputs": []
    },
    {
      "cell_type": "code",
      "source": [],
      "metadata": {
        "id": "SnVwFd-V3x8T"
      },
      "execution_count": 157,
      "outputs": []
    },
    {
      "cell_type": "code",
      "source": [],
      "metadata": {
        "id": "xx5i58Yp3yAv"
      },
      "execution_count": 157,
      "outputs": []
    },
    {
      "cell_type": "code",
      "source": [],
      "metadata": {
        "id": "C7e0JYSx3yDs"
      },
      "execution_count": 157,
      "outputs": []
    },
    {
      "cell_type": "markdown",
      "source": [
        "# Set up models and prefer GPU in Jupyter"
      ],
      "metadata": {
        "id": "hvcrpEQjBVnr"
      }
    },
    {
      "cell_type": "code",
      "source": [
        "spacy.prefer_gpu()"
      ],
      "metadata": {
        "colab": {
          "base_uri": "https://localhost:8080/"
        },
        "id": "BqPR80Gk3yJa",
        "outputId": "31cf8236-b492-40e3-d2ab-bd7e15c9b186"
      },
      "execution_count": 158,
      "outputs": [
        {
          "output_type": "execute_result",
          "data": {
            "text/plain": [
              "True"
            ]
          },
          "metadata": {},
          "execution_count": 158
        }
      ]
    },
    {
      "cell_type": "code",
      "source": [
        "nlp = spacy.load(\"en_core_web_sm\")"
      ],
      "metadata": {
        "colab": {
          "base_uri": "https://localhost:8080/"
        },
        "id": "NXZdlkCn3yMC",
        "outputId": "162056db-0774-4be9-d025-dfd141fda7c9"
      },
      "execution_count": 159,
      "outputs": [
        {
          "output_type": "stream",
          "name": "stderr",
          "text": [
            "/usr/local/lib/python3.10/dist-packages/spacy/util.py:1740: UserWarning: [W111] Jupyter notebook detected: if using `prefer_gpu()` or `require_gpu()`, include it in the same cell right before `spacy.load()` to ensure that the model is loaded on the correct device. More information: http://spacy.io/usage/v3#jupyter-notebook-gpu\n",
            "  warnings.warn(Warnings.W111)\n"
          ]
        }
      ]
    },
    {
      "cell_type": "code",
      "source": [],
      "metadata": {
        "id": "N9Y2q3Bb34EN"
      },
      "execution_count": 159,
      "outputs": []
    },
    {
      "cell_type": "code",
      "source": [
        "# Specify model and revision for production-grade sentiment analysis"
      ],
      "metadata": {
        "id": "D9-5WprH34Gw"
      },
      "execution_count": 160,
      "outputs": []
    },
    {
      "cell_type": "code",
      "source": [
        "sentiment_analyzer = pipeline(\n",
        "    \"sentiment-analysis\",\n",
        "    model=\"distilbert-base-uncased-finetuned-sst-2-english\",\n",
        "    revision=\"714eb0f\"\n",
        ")"
      ],
      "metadata": {
        "colab": {
          "base_uri": "https://localhost:8080/"
        },
        "id": "XLaCQeud34Ju",
        "outputId": "f4174603-08d3-4966-b9d7-837d31952431"
      },
      "execution_count": 161,
      "outputs": [
        {
          "output_type": "stream",
          "name": "stderr",
          "text": [
            "Device set to use cuda:0\n"
          ]
        }
      ]
    },
    {
      "cell_type": "code",
      "source": [],
      "metadata": {
        "id": "Jn3vG4hw3-N3"
      },
      "execution_count": 161,
      "outputs": []
    },
    {
      "cell_type": "code",
      "source": [
        "# Load a SentenceTransformer model for semantic (BERT) matching"
      ],
      "metadata": {
        "id": "OrxOB6GQ3-RV"
      },
      "execution_count": 162,
      "outputs": []
    },
    {
      "cell_type": "code",
      "source": [
        "bert_model = SentenceTransformer(\"all-MiniLM-L6-v2\")"
      ],
      "metadata": {
        "id": "Kzai5zf83-VO"
      },
      "execution_count": 163,
      "outputs": []
    },
    {
      "cell_type": "code",
      "source": [],
      "metadata": {
        "id": "yIQewIcv4CFz"
      },
      "execution_count": 163,
      "outputs": []
    },
    {
      "cell_type": "markdown",
      "source": [
        "# Define a domain-specific skill list#"
      ],
      "metadata": {
        "id": "E1YDneRy4KnT"
      }
    },
    {
      "cell_type": "code",
      "source": [
        "skill_list = {\"python\", \"machine learning\", \"nlp\", \"data science\", \"deep learning\", \"tensorflow\", \"pytorch\"}\n"
      ],
      "metadata": {
        "id": "iVBRAWaf4CLv"
      },
      "execution_count": 164,
      "outputs": []
    },
    {
      "cell_type": "code",
      "source": [],
      "metadata": {
        "id": "Z-EnBxzg4COb"
      },
      "execution_count": 164,
      "outputs": []
    },
    {
      "cell_type": "code",
      "source": [],
      "metadata": {
        "id": "Tb10bcfD4CRj"
      },
      "execution_count": 164,
      "outputs": []
    },
    {
      "cell_type": "code",
      "source": [],
      "metadata": {
        "id": "4wNr1vsN4CUT"
      },
      "execution_count": 164,
      "outputs": []
    },
    {
      "cell_type": "markdown",
      "source": [
        "# Helper Functions"
      ],
      "metadata": {
        "id": "NV9f4Ou6BQla"
      }
    },
    {
      "cell_type": "code",
      "source": [
        "# Extract text from PDF resumes. Returns None if file is missing or unreadable.\n"
      ],
      "metadata": {
        "id": "Z4aBZogf4CaJ"
      },
      "execution_count": 165,
      "outputs": []
    },
    {
      "cell_type": "code",
      "source": [
        "def extract_text_from_pdf(pdf_path):\n",
        "    if os.path.exists(pdf_path):\n",
        "        try:\n",
        "            with pdfplumber.open(pdf_path) as pdf:\n",
        "                texts = [page.extract_text() for page in pdf.pages if page.extract_text()]\n",
        "                return \" \".join(texts)\n",
        "        except Exception as e:\n",
        "            print(f\"Error reading {pdf_path}: {e}\")\n",
        "            return None\n",
        "    else:\n",
        "        print(f\"File {pdf_path} not found.\")\n",
        "        return None"
      ],
      "metadata": {
        "id": "P36PmaFy3-Y4"
      },
      "execution_count": 166,
      "outputs": []
    },
    {
      "cell_type": "code",
      "source": [],
      "metadata": {
        "id": "yw5_mla43-bt"
      },
      "execution_count": 166,
      "outputs": []
    },
    {
      "cell_type": "code",
      "source": [
        "# Returns resume text for a given candidate index from the real dataset."
      ],
      "metadata": {
        "id": "AOPeBjzf3-fP"
      },
      "execution_count": 167,
      "outputs": []
    },
    {
      "cell_type": "code",
      "source": [
        "def get_resume_text(index, folder=\"data/resumes\"):\n",
        "    file_path = os.path.join(folder, f\"resume_{index}.pdf\")\n",
        "    return extract_text_from_pdf(file_path)"
      ],
      "metadata": {
        "id": "ppgZFqb_34MY"
      },
      "execution_count": 168,
      "outputs": []
    },
    {
      "cell_type": "code",
      "source": [],
      "metadata": {
        "id": "d-0wa8CT4b2u"
      },
      "execution_count": 168,
      "outputs": []
    },
    {
      "cell_type": "code",
      "source": [
        "# Use spaCy to extract candidate details from resume text."
      ],
      "metadata": {
        "id": "ytxWqmiU4b6G"
      },
      "execution_count": 169,
      "outputs": []
    },
    {
      "cell_type": "code",
      "source": [
        "def extract_details(text):\n",
        "    doc = nlp(text)\n",
        "    details = {\n",
        "        \"name\": next((ent.text for ent in doc.ents if ent.label_ == \"PERSON\"), \"Unknown\"),\n",
        "        \"email\": re.findall(r\"[a-zA-Z0-9+_.-]+@[a-zA-Z0-9.-]+\", text),\n",
        "        \"phone\": re.findall(r\"\\+?\\d[\\d -]{8,}\\d\", text),\n",
        "        \"skills\": [token.text.lower() for token in doc if token.text.lower() in skill_list],\n",
        "        \"education\": [ent.text for ent in doc.ents if ent.label_ == \"ORG\" and \"university\" in ent.text.lower()],\n",
        "        \"experience\": re.findall(r\"\\b\\d+\\s+years?\\b\", text),\n",
        "        \"projects\": re.findall(r\"project[s]?: (.+)\", text, re.IGNORECASE),\n",
        "        \"certifications\": re.findall(r\"certified in (.+)\", text, re.IGNORECASE)\n",
        "    }\n",
        "    return details"
      ],
      "metadata": {
        "id": "v_DC915y4b-H"
      },
      "execution_count": 170,
      "outputs": []
    },
    {
      "cell_type": "code",
      "source": [],
      "metadata": {
        "id": "bI3f8KlQ4cBu"
      },
      "execution_count": 170,
      "outputs": []
    },
    {
      "cell_type": "code",
      "source": [
        "# Parse email details from a file in the dataset."
      ],
      "metadata": {
        "id": "fU31Nbb94cFg"
      },
      "execution_count": 171,
      "outputs": []
    },
    {
      "cell_type": "code",
      "source": [
        "def get_email_data(index, folder=\"data/emails\"):\n",
        "    file_path = os.path.join(folder, f\"email_{index}.eml\")\n",
        "    if os.path.exists(file_path):\n",
        "        try:\n",
        "            with open(file_path, \"rb\") as f:\n",
        "                raw_email = f.read()\n",
        "            email_data = BytesParser(policy=policy.default).parsebytes(raw_email)\n",
        "            body = email_data.get_payload()\n",
        "            return {\n",
        "                \"subject\": email_data[\"subject\"],\n",
        "                \"sender\": email_data[\"from\"],\n",
        "                \"recipient\": email_data[\"to\"],\n",
        "                \"body\": body,\n",
        "                \"sentiment\": sentiment_analyzer(body[:512])[0]['label'] if body else \"Neutral\"\n",
        "            }\n",
        "        except Exception as e:\n",
        "            print(f\"Error processing {file_path}: {e}\")\n",
        "            return None\n",
        "    else:\n",
        "        print(f\"Email file {file_path} not found.\")\n",
        "        return None"
      ],
      "metadata": {
        "id": "a4VTpues4cJB"
      },
      "execution_count": 172,
      "outputs": []
    },
    {
      "cell_type": "code",
      "source": [],
      "metadata": {
        "id": "pbD3huHT34QV"
      },
      "execution_count": 172,
      "outputs": []
    },
    {
      "cell_type": "code",
      "source": [
        "# Use BERT embeddings to compute cosine similarity between job description and each resume.\n"
      ],
      "metadata": {
        "id": "LSM3Zp_53yP0"
      },
      "execution_count": 173,
      "outputs": []
    },
    {
      "cell_type": "code",
      "source": [
        "def match_resume_to_job(resume_texts, job_desc):\n",
        "    job_embedding = bert_model.encode(job_desc, convert_to_tensor=True)\n",
        "    resume_embeddings = bert_model.encode(resume_texts, convert_to_tensor=True)\n",
        "    similarity_scores = util.pytorch_cos_sim(job_embedding, resume_embeddings).squeeze().tolist()\n",
        "    return similarity_scores"
      ],
      "metadata": {
        "id": "7Ass7JqX3yS1"
      },
      "execution_count": 174,
      "outputs": []
    },
    {
      "cell_type": "code",
      "source": [],
      "metadata": {
        "id": "mterGE6V3ol8"
      },
      "execution_count": 174,
      "outputs": []
    },
    {
      "cell_type": "code",
      "source": [
        "# AI-driven adaptive testing (placeholder returning a random score)"
      ],
      "metadata": {
        "id": "VkarF7Iw3oob"
      },
      "execution_count": 175,
      "outputs": []
    },
    {
      "cell_type": "code",
      "source": [
        "def adaptive_test_performance():\n",
        "    return np.random.randint(70, 100)"
      ],
      "metadata": {
        "id": "FOn4TkEe3orG"
      },
      "execution_count": 176,
      "outputs": []
    },
    {
      "cell_type": "code",
      "source": [],
      "metadata": {
        "id": "Zs4n9wjm4wiZ"
      },
      "execution_count": 176,
      "outputs": []
    },
    {
      "cell_type": "code",
      "source": [
        "# Video analysis placeholder."
      ],
      "metadata": {
        "id": "R5-0p9zJ4wmP"
      },
      "execution_count": 177,
      "outputs": []
    },
    {
      "cell_type": "code",
      "source": [
        "def analyze_video(index):\n",
        "    video_path = os.path.join(\"data\", \"videos\", f\"video_{index}.mp4\")\n",
        "    if os.path.exists(video_path):\n",
        "        # Insert actual video analysis code here.\n",
        "        return {\"emotion\": \"neutral\", \"face_detected\": True}\n",
        "    else:\n",
        "        # Log and return a default result.\n",
        "        print(f\"Video file {video_path} not found.\")\n",
        "        return {\"emotion\": \"neutral\", \"face_detected\": True}"
      ],
      "metadata": {
        "id": "EpZ0b4fq4wrr"
      },
      "execution_count": 178,
      "outputs": []
    },
    {
      "cell_type": "code",
      "source": [],
      "metadata": {
        "id": "Z3cG126E4wvE"
      },
      "execution_count": 178,
      "outputs": []
    },
    {
      "cell_type": "code",
      "source": [
        "# Speech analysis placeholder."
      ],
      "metadata": {
        "id": "kkz6Sgby4wzB"
      },
      "execution_count": 179,
      "outputs": []
    },
    {
      "cell_type": "code",
      "source": [
        "def analyze_speech(index):\n",
        "    audio_path = os.path.join(\"data\", \"audios\", f\"audio_{index}.wav\")\n",
        "    if os.path.exists(audio_path):\n",
        "        try:\n",
        "            y, sr = librosa.load(audio_path)\n",
        "            return {\"pitch_mean\": np.mean(y), \"speech_rate\": len(y) / sr}\n",
        "        except Exception as e:\n",
        "            print(f\"Error processing {audio_path}: {e}\")\n",
        "            return {\"pitch_mean\": None, \"speech_rate\": None}\n",
        "    else:\n",
        "        print(f\"Audio file {audio_path} not found.\")\n",
        "        return {\"pitch_mean\": np.random.uniform(0.5, 1.5), \"speech_rate\": np.random.uniform(3, 6)}\n"
      ],
      "metadata": {
        "id": "2IZYdkeY4w3b"
      },
      "execution_count": 180,
      "outputs": []
    },
    {
      "cell_type": "code",
      "source": [],
      "metadata": {
        "id": "FYW97Rwv47IC"
      },
      "execution_count": 180,
      "outputs": []
    },
    {
      "cell_type": "code",
      "source": [
        "# Synthetic personality assessment placeholder."
      ],
      "metadata": {
        "id": "SHvqq3PX47Ll"
      },
      "execution_count": 181,
      "outputs": []
    },
    {
      "cell_type": "code",
      "source": [
        "def assess_personality():\n",
        "    return {\"extroversion\": np.random.uniform(0, 1), \"openness\": np.random.uniform(0, 1)}\n"
      ],
      "metadata": {
        "id": "0hJBLmES47PR"
      },
      "execution_count": 182,
      "outputs": []
    },
    {
      "cell_type": "code",
      "source": [],
      "metadata": {
        "id": "ompraydZ47Te"
      },
      "execution_count": 182,
      "outputs": []
    },
    {
      "cell_type": "code",
      "source": [],
      "metadata": {
        "id": "4Ir5Pkbh5CuK"
      },
      "execution_count": 182,
      "outputs": []
    },
    {
      "cell_type": "code",
      "source": [],
      "metadata": {
        "id": "JdnrSR0p5Cx-"
      },
      "execution_count": 182,
      "outputs": []
    },
    {
      "cell_type": "markdown",
      "source": [
        "# Hiring Prediction Model (Synthetic Training)"
      ],
      "metadata": {
        "id": "DnInUn2CBLIG"
      }
    },
    {
      "cell_type": "code",
      "source": [
        "hiring_model = RandomForestClassifier()"
      ],
      "metadata": {
        "id": "LtVhBxYM3gI0"
      },
      "execution_count": 183,
      "outputs": []
    },
    {
      "cell_type": "code",
      "source": [
        "scaler = StandardScaler()"
      ],
      "metadata": {
        "id": "JHbMKoNE3gL_"
      },
      "execution_count": 184,
      "outputs": []
    },
    {
      "cell_type": "code",
      "source": [
        "X_train = np.random.rand(20, 4)"
      ],
      "metadata": {
        "id": "1HXyt5NP3gO6"
      },
      "execution_count": 185,
      "outputs": []
    },
    {
      "cell_type": "code",
      "source": [
        "y_train = np.random.randint(0, 2, 20)"
      ],
      "metadata": {
        "id": "e8jV2Ujw5OIM"
      },
      "execution_count": 186,
      "outputs": []
    },
    {
      "cell_type": "code",
      "source": [
        "hiring_model.fit(X_train, y_train)"
      ],
      "metadata": {
        "colab": {
          "base_uri": "https://localhost:8080/",
          "height": 80
        },
        "id": "XhHIcY8W5OL6",
        "outputId": "0f024aab-a65c-4297-9a5b-45670dae0827"
      },
      "execution_count": 187,
      "outputs": [
        {
          "output_type": "execute_result",
          "data": {
            "text/plain": [
              "RandomForestClassifier()"
            ],
            "text/html": [
              "<style>#sk-container-id-3 {\n",
              "  /* Definition of color scheme common for light and dark mode */\n",
              "  --sklearn-color-text: #000;\n",
              "  --sklearn-color-text-muted: #666;\n",
              "  --sklearn-color-line: gray;\n",
              "  /* Definition of color scheme for unfitted estimators */\n",
              "  --sklearn-color-unfitted-level-0: #fff5e6;\n",
              "  --sklearn-color-unfitted-level-1: #f6e4d2;\n",
              "  --sklearn-color-unfitted-level-2: #ffe0b3;\n",
              "  --sklearn-color-unfitted-level-3: chocolate;\n",
              "  /* Definition of color scheme for fitted estimators */\n",
              "  --sklearn-color-fitted-level-0: #f0f8ff;\n",
              "  --sklearn-color-fitted-level-1: #d4ebff;\n",
              "  --sklearn-color-fitted-level-2: #b3dbfd;\n",
              "  --sklearn-color-fitted-level-3: cornflowerblue;\n",
              "\n",
              "  /* Specific color for light theme */\n",
              "  --sklearn-color-text-on-default-background: var(--sg-text-color, var(--theme-code-foreground, var(--jp-content-font-color1, black)));\n",
              "  --sklearn-color-background: var(--sg-background-color, var(--theme-background, var(--jp-layout-color0, white)));\n",
              "  --sklearn-color-border-box: var(--sg-text-color, var(--theme-code-foreground, var(--jp-content-font-color1, black)));\n",
              "  --sklearn-color-icon: #696969;\n",
              "\n",
              "  @media (prefers-color-scheme: dark) {\n",
              "    /* Redefinition of color scheme for dark theme */\n",
              "    --sklearn-color-text-on-default-background: var(--sg-text-color, var(--theme-code-foreground, var(--jp-content-font-color1, white)));\n",
              "    --sklearn-color-background: var(--sg-background-color, var(--theme-background, var(--jp-layout-color0, #111)));\n",
              "    --sklearn-color-border-box: var(--sg-text-color, var(--theme-code-foreground, var(--jp-content-font-color1, white)));\n",
              "    --sklearn-color-icon: #878787;\n",
              "  }\n",
              "}\n",
              "\n",
              "#sk-container-id-3 {\n",
              "  color: var(--sklearn-color-text);\n",
              "}\n",
              "\n",
              "#sk-container-id-3 pre {\n",
              "  padding: 0;\n",
              "}\n",
              "\n",
              "#sk-container-id-3 input.sk-hidden--visually {\n",
              "  border: 0;\n",
              "  clip: rect(1px 1px 1px 1px);\n",
              "  clip: rect(1px, 1px, 1px, 1px);\n",
              "  height: 1px;\n",
              "  margin: -1px;\n",
              "  overflow: hidden;\n",
              "  padding: 0;\n",
              "  position: absolute;\n",
              "  width: 1px;\n",
              "}\n",
              "\n",
              "#sk-container-id-3 div.sk-dashed-wrapped {\n",
              "  border: 1px dashed var(--sklearn-color-line);\n",
              "  margin: 0 0.4em 0.5em 0.4em;\n",
              "  box-sizing: border-box;\n",
              "  padding-bottom: 0.4em;\n",
              "  background-color: var(--sklearn-color-background);\n",
              "}\n",
              "\n",
              "#sk-container-id-3 div.sk-container {\n",
              "  /* jupyter's `normalize.less` sets `[hidden] { display: none; }`\n",
              "     but bootstrap.min.css set `[hidden] { display: none !important; }`\n",
              "     so we also need the `!important` here to be able to override the\n",
              "     default hidden behavior on the sphinx rendered scikit-learn.org.\n",
              "     See: https://github.com/scikit-learn/scikit-learn/issues/21755 */\n",
              "  display: inline-block !important;\n",
              "  position: relative;\n",
              "}\n",
              "\n",
              "#sk-container-id-3 div.sk-text-repr-fallback {\n",
              "  display: none;\n",
              "}\n",
              "\n",
              "div.sk-parallel-item,\n",
              "div.sk-serial,\n",
              "div.sk-item {\n",
              "  /* draw centered vertical line to link estimators */\n",
              "  background-image: linear-gradient(var(--sklearn-color-text-on-default-background), var(--sklearn-color-text-on-default-background));\n",
              "  background-size: 2px 100%;\n",
              "  background-repeat: no-repeat;\n",
              "  background-position: center center;\n",
              "}\n",
              "\n",
              "/* Parallel-specific style estimator block */\n",
              "\n",
              "#sk-container-id-3 div.sk-parallel-item::after {\n",
              "  content: \"\";\n",
              "  width: 100%;\n",
              "  border-bottom: 2px solid var(--sklearn-color-text-on-default-background);\n",
              "  flex-grow: 1;\n",
              "}\n",
              "\n",
              "#sk-container-id-3 div.sk-parallel {\n",
              "  display: flex;\n",
              "  align-items: stretch;\n",
              "  justify-content: center;\n",
              "  background-color: var(--sklearn-color-background);\n",
              "  position: relative;\n",
              "}\n",
              "\n",
              "#sk-container-id-3 div.sk-parallel-item {\n",
              "  display: flex;\n",
              "  flex-direction: column;\n",
              "}\n",
              "\n",
              "#sk-container-id-3 div.sk-parallel-item:first-child::after {\n",
              "  align-self: flex-end;\n",
              "  width: 50%;\n",
              "}\n",
              "\n",
              "#sk-container-id-3 div.sk-parallel-item:last-child::after {\n",
              "  align-self: flex-start;\n",
              "  width: 50%;\n",
              "}\n",
              "\n",
              "#sk-container-id-3 div.sk-parallel-item:only-child::after {\n",
              "  width: 0;\n",
              "}\n",
              "\n",
              "/* Serial-specific style estimator block */\n",
              "\n",
              "#sk-container-id-3 div.sk-serial {\n",
              "  display: flex;\n",
              "  flex-direction: column;\n",
              "  align-items: center;\n",
              "  background-color: var(--sklearn-color-background);\n",
              "  padding-right: 1em;\n",
              "  padding-left: 1em;\n",
              "}\n",
              "\n",
              "\n",
              "/* Toggleable style: style used for estimator/Pipeline/ColumnTransformer box that is\n",
              "clickable and can be expanded/collapsed.\n",
              "- Pipeline and ColumnTransformer use this feature and define the default style\n",
              "- Estimators will overwrite some part of the style using the `sk-estimator` class\n",
              "*/\n",
              "\n",
              "/* Pipeline and ColumnTransformer style (default) */\n",
              "\n",
              "#sk-container-id-3 div.sk-toggleable {\n",
              "  /* Default theme specific background. It is overwritten whether we have a\n",
              "  specific estimator or a Pipeline/ColumnTransformer */\n",
              "  background-color: var(--sklearn-color-background);\n",
              "}\n",
              "\n",
              "/* Toggleable label */\n",
              "#sk-container-id-3 label.sk-toggleable__label {\n",
              "  cursor: pointer;\n",
              "  display: flex;\n",
              "  width: 100%;\n",
              "  margin-bottom: 0;\n",
              "  padding: 0.5em;\n",
              "  box-sizing: border-box;\n",
              "  text-align: center;\n",
              "  align-items: start;\n",
              "  justify-content: space-between;\n",
              "  gap: 0.5em;\n",
              "}\n",
              "\n",
              "#sk-container-id-3 label.sk-toggleable__label .caption {\n",
              "  font-size: 0.6rem;\n",
              "  font-weight: lighter;\n",
              "  color: var(--sklearn-color-text-muted);\n",
              "}\n",
              "\n",
              "#sk-container-id-3 label.sk-toggleable__label-arrow:before {\n",
              "  /* Arrow on the left of the label */\n",
              "  content: \"▸\";\n",
              "  float: left;\n",
              "  margin-right: 0.25em;\n",
              "  color: var(--sklearn-color-icon);\n",
              "}\n",
              "\n",
              "#sk-container-id-3 label.sk-toggleable__label-arrow:hover:before {\n",
              "  color: var(--sklearn-color-text);\n",
              "}\n",
              "\n",
              "/* Toggleable content - dropdown */\n",
              "\n",
              "#sk-container-id-3 div.sk-toggleable__content {\n",
              "  max-height: 0;\n",
              "  max-width: 0;\n",
              "  overflow: hidden;\n",
              "  text-align: left;\n",
              "  /* unfitted */\n",
              "  background-color: var(--sklearn-color-unfitted-level-0);\n",
              "}\n",
              "\n",
              "#sk-container-id-3 div.sk-toggleable__content.fitted {\n",
              "  /* fitted */\n",
              "  background-color: var(--sklearn-color-fitted-level-0);\n",
              "}\n",
              "\n",
              "#sk-container-id-3 div.sk-toggleable__content pre {\n",
              "  margin: 0.2em;\n",
              "  border-radius: 0.25em;\n",
              "  color: var(--sklearn-color-text);\n",
              "  /* unfitted */\n",
              "  background-color: var(--sklearn-color-unfitted-level-0);\n",
              "}\n",
              "\n",
              "#sk-container-id-3 div.sk-toggleable__content.fitted pre {\n",
              "  /* unfitted */\n",
              "  background-color: var(--sklearn-color-fitted-level-0);\n",
              "}\n",
              "\n",
              "#sk-container-id-3 input.sk-toggleable__control:checked~div.sk-toggleable__content {\n",
              "  /* Expand drop-down */\n",
              "  max-height: 200px;\n",
              "  max-width: 100%;\n",
              "  overflow: auto;\n",
              "}\n",
              "\n",
              "#sk-container-id-3 input.sk-toggleable__control:checked~label.sk-toggleable__label-arrow:before {\n",
              "  content: \"▾\";\n",
              "}\n",
              "\n",
              "/* Pipeline/ColumnTransformer-specific style */\n",
              "\n",
              "#sk-container-id-3 div.sk-label input.sk-toggleable__control:checked~label.sk-toggleable__label {\n",
              "  color: var(--sklearn-color-text);\n",
              "  background-color: var(--sklearn-color-unfitted-level-2);\n",
              "}\n",
              "\n",
              "#sk-container-id-3 div.sk-label.fitted input.sk-toggleable__control:checked~label.sk-toggleable__label {\n",
              "  background-color: var(--sklearn-color-fitted-level-2);\n",
              "}\n",
              "\n",
              "/* Estimator-specific style */\n",
              "\n",
              "/* Colorize estimator box */\n",
              "#sk-container-id-3 div.sk-estimator input.sk-toggleable__control:checked~label.sk-toggleable__label {\n",
              "  /* unfitted */\n",
              "  background-color: var(--sklearn-color-unfitted-level-2);\n",
              "}\n",
              "\n",
              "#sk-container-id-3 div.sk-estimator.fitted input.sk-toggleable__control:checked~label.sk-toggleable__label {\n",
              "  /* fitted */\n",
              "  background-color: var(--sklearn-color-fitted-level-2);\n",
              "}\n",
              "\n",
              "#sk-container-id-3 div.sk-label label.sk-toggleable__label,\n",
              "#sk-container-id-3 div.sk-label label {\n",
              "  /* The background is the default theme color */\n",
              "  color: var(--sklearn-color-text-on-default-background);\n",
              "}\n",
              "\n",
              "/* On hover, darken the color of the background */\n",
              "#sk-container-id-3 div.sk-label:hover label.sk-toggleable__label {\n",
              "  color: var(--sklearn-color-text);\n",
              "  background-color: var(--sklearn-color-unfitted-level-2);\n",
              "}\n",
              "\n",
              "/* Label box, darken color on hover, fitted */\n",
              "#sk-container-id-3 div.sk-label.fitted:hover label.sk-toggleable__label.fitted {\n",
              "  color: var(--sklearn-color-text);\n",
              "  background-color: var(--sklearn-color-fitted-level-2);\n",
              "}\n",
              "\n",
              "/* Estimator label */\n",
              "\n",
              "#sk-container-id-3 div.sk-label label {\n",
              "  font-family: monospace;\n",
              "  font-weight: bold;\n",
              "  display: inline-block;\n",
              "  line-height: 1.2em;\n",
              "}\n",
              "\n",
              "#sk-container-id-3 div.sk-label-container {\n",
              "  text-align: center;\n",
              "}\n",
              "\n",
              "/* Estimator-specific */\n",
              "#sk-container-id-3 div.sk-estimator {\n",
              "  font-family: monospace;\n",
              "  border: 1px dotted var(--sklearn-color-border-box);\n",
              "  border-radius: 0.25em;\n",
              "  box-sizing: border-box;\n",
              "  margin-bottom: 0.5em;\n",
              "  /* unfitted */\n",
              "  background-color: var(--sklearn-color-unfitted-level-0);\n",
              "}\n",
              "\n",
              "#sk-container-id-3 div.sk-estimator.fitted {\n",
              "  /* fitted */\n",
              "  background-color: var(--sklearn-color-fitted-level-0);\n",
              "}\n",
              "\n",
              "/* on hover */\n",
              "#sk-container-id-3 div.sk-estimator:hover {\n",
              "  /* unfitted */\n",
              "  background-color: var(--sklearn-color-unfitted-level-2);\n",
              "}\n",
              "\n",
              "#sk-container-id-3 div.sk-estimator.fitted:hover {\n",
              "  /* fitted */\n",
              "  background-color: var(--sklearn-color-fitted-level-2);\n",
              "}\n",
              "\n",
              "/* Specification for estimator info (e.g. \"i\" and \"?\") */\n",
              "\n",
              "/* Common style for \"i\" and \"?\" */\n",
              "\n",
              ".sk-estimator-doc-link,\n",
              "a:link.sk-estimator-doc-link,\n",
              "a:visited.sk-estimator-doc-link {\n",
              "  float: right;\n",
              "  font-size: smaller;\n",
              "  line-height: 1em;\n",
              "  font-family: monospace;\n",
              "  background-color: var(--sklearn-color-background);\n",
              "  border-radius: 1em;\n",
              "  height: 1em;\n",
              "  width: 1em;\n",
              "  text-decoration: none !important;\n",
              "  margin-left: 0.5em;\n",
              "  text-align: center;\n",
              "  /* unfitted */\n",
              "  border: var(--sklearn-color-unfitted-level-1) 1pt solid;\n",
              "  color: var(--sklearn-color-unfitted-level-1);\n",
              "}\n",
              "\n",
              ".sk-estimator-doc-link.fitted,\n",
              "a:link.sk-estimator-doc-link.fitted,\n",
              "a:visited.sk-estimator-doc-link.fitted {\n",
              "  /* fitted */\n",
              "  border: var(--sklearn-color-fitted-level-1) 1pt solid;\n",
              "  color: var(--sklearn-color-fitted-level-1);\n",
              "}\n",
              "\n",
              "/* On hover */\n",
              "div.sk-estimator:hover .sk-estimator-doc-link:hover,\n",
              ".sk-estimator-doc-link:hover,\n",
              "div.sk-label-container:hover .sk-estimator-doc-link:hover,\n",
              ".sk-estimator-doc-link:hover {\n",
              "  /* unfitted */\n",
              "  background-color: var(--sklearn-color-unfitted-level-3);\n",
              "  color: var(--sklearn-color-background);\n",
              "  text-decoration: none;\n",
              "}\n",
              "\n",
              "div.sk-estimator.fitted:hover .sk-estimator-doc-link.fitted:hover,\n",
              ".sk-estimator-doc-link.fitted:hover,\n",
              "div.sk-label-container:hover .sk-estimator-doc-link.fitted:hover,\n",
              ".sk-estimator-doc-link.fitted:hover {\n",
              "  /* fitted */\n",
              "  background-color: var(--sklearn-color-fitted-level-3);\n",
              "  color: var(--sklearn-color-background);\n",
              "  text-decoration: none;\n",
              "}\n",
              "\n",
              "/* Span, style for the box shown on hovering the info icon */\n",
              ".sk-estimator-doc-link span {\n",
              "  display: none;\n",
              "  z-index: 9999;\n",
              "  position: relative;\n",
              "  font-weight: normal;\n",
              "  right: .2ex;\n",
              "  padding: .5ex;\n",
              "  margin: .5ex;\n",
              "  width: min-content;\n",
              "  min-width: 20ex;\n",
              "  max-width: 50ex;\n",
              "  color: var(--sklearn-color-text);\n",
              "  box-shadow: 2pt 2pt 4pt #999;\n",
              "  /* unfitted */\n",
              "  background: var(--sklearn-color-unfitted-level-0);\n",
              "  border: .5pt solid var(--sklearn-color-unfitted-level-3);\n",
              "}\n",
              "\n",
              ".sk-estimator-doc-link.fitted span {\n",
              "  /* fitted */\n",
              "  background: var(--sklearn-color-fitted-level-0);\n",
              "  border: var(--sklearn-color-fitted-level-3);\n",
              "}\n",
              "\n",
              ".sk-estimator-doc-link:hover span {\n",
              "  display: block;\n",
              "}\n",
              "\n",
              "/* \"?\"-specific style due to the `<a>` HTML tag */\n",
              "\n",
              "#sk-container-id-3 a.estimator_doc_link {\n",
              "  float: right;\n",
              "  font-size: 1rem;\n",
              "  line-height: 1em;\n",
              "  font-family: monospace;\n",
              "  background-color: var(--sklearn-color-background);\n",
              "  border-radius: 1rem;\n",
              "  height: 1rem;\n",
              "  width: 1rem;\n",
              "  text-decoration: none;\n",
              "  /* unfitted */\n",
              "  color: var(--sklearn-color-unfitted-level-1);\n",
              "  border: var(--sklearn-color-unfitted-level-1) 1pt solid;\n",
              "}\n",
              "\n",
              "#sk-container-id-3 a.estimator_doc_link.fitted {\n",
              "  /* fitted */\n",
              "  border: var(--sklearn-color-fitted-level-1) 1pt solid;\n",
              "  color: var(--sklearn-color-fitted-level-1);\n",
              "}\n",
              "\n",
              "/* On hover */\n",
              "#sk-container-id-3 a.estimator_doc_link:hover {\n",
              "  /* unfitted */\n",
              "  background-color: var(--sklearn-color-unfitted-level-3);\n",
              "  color: var(--sklearn-color-background);\n",
              "  text-decoration: none;\n",
              "}\n",
              "\n",
              "#sk-container-id-3 a.estimator_doc_link.fitted:hover {\n",
              "  /* fitted */\n",
              "  background-color: var(--sklearn-color-fitted-level-3);\n",
              "}\n",
              "</style><div id=\"sk-container-id-3\" class=\"sk-top-container\"><div class=\"sk-text-repr-fallback\"><pre>RandomForestClassifier()</pre><b>In a Jupyter environment, please rerun this cell to show the HTML representation or trust the notebook. <br />On GitHub, the HTML representation is unable to render, please try loading this page with nbviewer.org.</b></div><div class=\"sk-container\" hidden><div class=\"sk-item\"><div class=\"sk-estimator fitted sk-toggleable\"><input class=\"sk-toggleable__control sk-hidden--visually\" id=\"sk-estimator-id-3\" type=\"checkbox\" checked><label for=\"sk-estimator-id-3\" class=\"sk-toggleable__label fitted sk-toggleable__label-arrow\"><div><div>RandomForestClassifier</div></div><div><a class=\"sk-estimator-doc-link fitted\" rel=\"noreferrer\" target=\"_blank\" href=\"https://scikit-learn.org/1.6/modules/generated/sklearn.ensemble.RandomForestClassifier.html\">?<span>Documentation for RandomForestClassifier</span></a><span class=\"sk-estimator-doc-link fitted\">i<span>Fitted</span></span></div></label><div class=\"sk-toggleable__content fitted\"><pre>RandomForestClassifier()</pre></div> </div></div></div></div>"
            ]
          },
          "metadata": {},
          "execution_count": 187
        }
      ]
    },
    {
      "cell_type": "code",
      "source": [],
      "metadata": {
        "id": "itqNJXMd5OPv"
      },
      "execution_count": 187,
      "outputs": []
    },
    {
      "cell_type": "code",
      "source": [
        "def compute_candidate_score(details, similarity_score, email):\n",
        "    score = (len(details[\"skills\"]) * 2) + (len(details[\"education\"]) * 3) + (len(details[\"experience\"]) * 3)\n",
        "    if email and any(word in email[\"subject\"].lower() for word in [\"education\", \"startup\", \"teaching\"]):\n",
        "        score += 5\n",
        "    score += similarity_score * 10  # Scale similarity to a 10-point range.\n",
        "    if email and email[\"sentiment\"] == \"POSITIVE\":\n",
        "        score += 5\n",
        "    return score"
      ],
      "metadata": {
        "id": "z71wCwNk5OT_"
      },
      "execution_count": 188,
      "outputs": []
    },
    {
      "cell_type": "code",
      "source": [],
      "metadata": {
        "id": "wTKQFPfo5OX-"
      },
      "execution_count": 188,
      "outputs": []
    },
    {
      "cell_type": "code",
      "source": [
        "def predict_hiring_outcome(candidate_features):\n",
        "    candidate_features_scaled = scaler.fit_transform(np.array(candidate_features).reshape(1, -1))\n",
        "    return hiring_model.predict(candidate_features_scaled)[0]\n"
      ],
      "metadata": {
        "id": "vzjMxjoQ5OcM"
      },
      "execution_count": 189,
      "outputs": []
    },
    {
      "cell_type": "code",
      "source": [],
      "metadata": {
        "id": "z3PIteES5W3p"
      },
      "execution_count": 189,
      "outputs": []
    },
    {
      "cell_type": "code",
      "source": [],
      "metadata": {
        "id": "sGX_2ZsS5W77"
      },
      "execution_count": 189,
      "outputs": []
    },
    {
      "cell_type": "code",
      "source": [],
      "metadata": {
        "id": "NgJqouhw5XAD"
      },
      "execution_count": 189,
      "outputs": []
    },
    {
      "cell_type": "markdown",
      "source": [
        "# Main Pipeline"
      ],
      "metadata": {
        "id": "3jpZ0IPsBGvt"
      }
    },
    {
      "cell_type": "code",
      "source": [
        "# Determine the number of candidates based on the number of resume files."
      ],
      "metadata": {
        "id": "ksvlW4ib5aIq"
      },
      "execution_count": 190,
      "outputs": []
    },
    {
      "cell_type": "code",
      "source": [
        "from glob import glob"
      ],
      "metadata": {
        "id": "spOTz_EA5XI1"
      },
      "execution_count": 191,
      "outputs": []
    },
    {
      "cell_type": "code",
      "source": [
        "resume_files = glob(os.path.join(\"data\", \"resumes\", \"*.pdf\"))"
      ],
      "metadata": {
        "id": "YsjIUI4E5fRO"
      },
      "execution_count": 192,
      "outputs": []
    },
    {
      "cell_type": "code",
      "source": [
        "num_candidates = len(resume_files)"
      ],
      "metadata": {
        "id": "aYbnAn9v5fVF"
      },
      "execution_count": 193,
      "outputs": []
    },
    {
      "cell_type": "code",
      "source": [],
      "metadata": {
        "id": "AnzmJoj85faB"
      },
      "execution_count": 193,
      "outputs": []
    },
    {
      "cell_type": "code",
      "source": [
        "# Retrieve resumes from the dataset."
      ],
      "metadata": {
        "id": "hPjLfLXs5fec"
      },
      "execution_count": 194,
      "outputs": []
    },
    {
      "cell_type": "code",
      "source": [
        "resumes = []\n",
        "for i in range(num_candidates):\n",
        "    text = get_resume_text(i)\n",
        "    if text:\n",
        "        resumes.append(text)\n",
        "    else:\n",
        "        print(f\"Skipping candidate {i} due to missing resume.\")\n"
      ],
      "metadata": {
        "id": "H80I101h5fil"
      },
      "execution_count": 195,
      "outputs": []
    },
    {
      "cell_type": "code",
      "source": [],
      "metadata": {
        "id": "iR6KXoeQ5fm-"
      },
      "execution_count": 195,
      "outputs": []
    },
    {
      "cell_type": "markdown",
      "source": [
        "# job_description"
      ],
      "metadata": {
        "id": "NxPHReRr5o8q"
      }
    },
    {
      "cell_type": "code",
      "source": [
        "job_description = \"Looking for a software engineer with Python and NLP experience.\"\n"
      ],
      "metadata": {
        "id": "zDfIwq0k5scU"
      },
      "execution_count": 196,
      "outputs": []
    },
    {
      "cell_type": "code",
      "source": [],
      "metadata": {
        "id": "Nz-SNAaX5vhg"
      },
      "execution_count": 196,
      "outputs": []
    },
    {
      "cell_type": "code",
      "source": [
        "# Extract candidate details and compute semantic similarity scores."
      ],
      "metadata": {
        "id": "i3rcP6Iu5vlm"
      },
      "execution_count": 197,
      "outputs": []
    },
    {
      "cell_type": "code",
      "source": [
        "candidate_details = [extract_details(text) for text in resumes]"
      ],
      "metadata": {
        "id": "h_x2qttq5vps"
      },
      "execution_count": 198,
      "outputs": []
    },
    {
      "cell_type": "code",
      "source": [
        "similarity_scores = match_resume_to_job(resumes, job_description)"
      ],
      "metadata": {
        "id": "DLQxaLgP5vtd"
      },
      "execution_count": 199,
      "outputs": []
    },
    {
      "cell_type": "code",
      "source": [],
      "metadata": {
        "id": "SSV1FG5a5vyS"
      },
      "execution_count": 199,
      "outputs": []
    },
    {
      "cell_type": "code",
      "source": [
        "final_candidates = []\n",
        "for i, details in enumerate(candidate_details):\n",
        "    email_data = get_email_data(i)\n",
        "    if email_data is None:\n",
        "        print(f\"Skipping candidate {i} due to missing email data.\")\n",
        "        continue\n",
        "    score = compute_candidate_score(details, similarity_scores[i], email_data)\n",
        "    adaptive_test = adaptive_test_performance()\n",
        "    video_analysis = analyze_video(i)\n",
        "    speech_analysis = analyze_speech(i)\n",
        "    personality = assess_personality()\n",
        "    prediction = predict_hiring_outcome([score, adaptive_test, personality[\"extroversion\"], personality[\"openness\"]])\n",
        "\n",
        "    final_candidates.append({\n",
        "        \"name\": details[\"name\"],\n",
        "        \"score\": score,\n",
        "        \"adaptive_test\": adaptive_test,\n",
        "        \"video_analysis\": video_analysis[\"emotion\"],\n",
        "        \"speech_analysis\": speech_analysis[\"pitch_mean\"],\n",
        "        \"personality\": personality,\n",
        "        \"prediction\": \"Hired\" if prediction == 1 else \"Not Hired\"\n",
        "    })\n"
      ],
      "metadata": {
        "colab": {
          "base_uri": "https://localhost:8080/"
        },
        "collapsed": true,
        "id": "ywA1QP3V5v4b",
        "outputId": "b0bbb9b4-03ac-4817-d74a-9ba336d1cb2f"
      },
      "execution_count": 200,
      "outputs": [
        {
          "output_type": "stream",
          "name": "stdout",
          "text": [
            "Video file data/videos/video_0.mp4 not found.\n",
            "Audio file data/audios/audio_0.wav not found.\n",
            "Video file data/videos/video_1.mp4 not found.\n",
            "Audio file data/audios/audio_1.wav not found.\n",
            "Video file data/videos/video_2.mp4 not found.\n",
            "Audio file data/audios/audio_2.wav not found.\n",
            "Video file data/videos/video_3.mp4 not found.\n",
            "Audio file data/audios/audio_3.wav not found.\n",
            "Video file data/videos/video_4.mp4 not found.\n",
            "Audio file data/audios/audio_4.wav not found.\n"
          ]
        }
      ]
    },
    {
      "cell_type": "code",
      "source": [],
      "metadata": {
        "id": "nv4N7ttU5fsx"
      },
      "execution_count": 200,
      "outputs": []
    },
    {
      "cell_type": "code",
      "source": [
        "# Rank all candidates from best to worst based on their score."
      ],
      "metadata": {
        "id": "qWPYJIVL5fyG"
      },
      "execution_count": 201,
      "outputs": []
    },
    {
      "cell_type": "code",
      "source": [
        "ranking_df = pd.DataFrame(final_candidates)"
      ],
      "metadata": {
        "id": "ODAO6cm35XM2"
      },
      "execution_count": 202,
      "outputs": []
    },
    {
      "cell_type": "code",
      "source": [
        "ranking_df.sort_values(by=\"score\", ascending=False, inplace=True)"
      ],
      "metadata": {
        "id": "q4FLC6dr58-s"
      },
      "execution_count": 203,
      "outputs": []
    },
    {
      "cell_type": "code",
      "source": [],
      "metadata": {
        "id": "T1AJevsu59C7"
      },
      "execution_count": 203,
      "outputs": []
    },
    {
      "cell_type": "code",
      "source": [
        "# Export the full ranking to a CSV file."
      ],
      "metadata": {
        "id": "HArkTirl59HS"
      },
      "execution_count": 204,
      "outputs": []
    },
    {
      "cell_type": "code",
      "source": [
        "ranking_df.to_csv(\"all_candidates_ranked.csv\", index=False)"
      ],
      "metadata": {
        "id": "gb4PNS7J59Mc"
      },
      "execution_count": 205,
      "outputs": []
    },
    {
      "cell_type": "code",
      "source": [],
      "metadata": {
        "id": "b_nR2msO59Rr"
      },
      "execution_count": 205,
      "outputs": []
    },
    {
      "cell_type": "code",
      "source": [
        "print(\"All Candidates Ranked (Best to Worst):\")\n",
        "print(ranking_df)"
      ],
      "metadata": {
        "colab": {
          "base_uri": "https://localhost:8080/"
        },
        "id": "E9XndTL759Ys",
        "outputId": "9c80a7c0-167c-432b-eebd-ae60aa812e6d"
      },
      "execution_count": 206,
      "outputs": [
        {
          "output_type": "stream",
          "name": "stdout",
          "text": [
            "All Candidates Ranked (Best to Worst):\n",
            "            name      score  adaptive_test video_analysis  speech_analysis  \\\n",
            "1     Jane Smith  17.940599             96        neutral         1.096318   \n",
            "0       John Doe  17.511751             92        neutral         1.391802   \n",
            "2      David Lee  17.503206             90        neutral         1.310140   \n",
            "3         Carter  17.426757             71        neutral         1.424451   \n",
            "4  Michael Brown  14.316690             96        neutral         0.746340   \n",
            "\n",
            "                                         personality prediction  \n",
            "1  {'extroversion': 0.06978081483291709, 'opennes...      Hired  \n",
            "0  {'extroversion': 0.9406700032229598, 'openness...      Hired  \n",
            "2  {'extroversion': 0.8666597333223305, 'openness...      Hired  \n",
            "3  {'extroversion': 0.05908215874732614, 'opennes...      Hired  \n",
            "4  {'extroversion': 0.7268602688700576, 'openness...      Hired  \n"
          ]
        }
      ]
    },
    {
      "cell_type": "code",
      "source": [],
      "metadata": {
        "id": "zj2aFlH26IVc"
      },
      "execution_count": 206,
      "outputs": []
    },
    {
      "cell_type": "code",
      "source": [],
      "metadata": {
        "id": "CPhPWrM16Llm"
      },
      "execution_count": 206,
      "outputs": []
    },
    {
      "cell_type": "code",
      "source": [
        "# The best candidate is at the top of the ranking."
      ],
      "metadata": {
        "id": "MC3iKM-H6IZ_"
      },
      "execution_count": 207,
      "outputs": []
    },
    {
      "cell_type": "code",
      "source": [
        "best_candidate = ranking_df.iloc[0]"
      ],
      "metadata": {
        "id": "yPqLYagV6Ies"
      },
      "execution_count": 208,
      "outputs": []
    },
    {
      "cell_type": "code",
      "source": [
        "print(\"\\nThe best candidate selected based on your job standards is:\")\n",
        "print(best_candidate)"
      ],
      "metadata": {
        "colab": {
          "base_uri": "https://localhost:8080/"
        },
        "id": "tmyxlXrg5XQk",
        "outputId": "ee65bec6-b452-404d-aecf-b2f2e7975f98"
      },
      "execution_count": 209,
      "outputs": [
        {
          "output_type": "stream",
          "name": "stdout",
          "text": [
            "\n",
            "The best candidate selected based on your job standards is:\n",
            "name                                                      Jane Smith\n",
            "score                                                      17.940599\n",
            "adaptive_test                                                     96\n",
            "video_analysis                                               neutral\n",
            "speech_analysis                                             1.096318\n",
            "personality        {'extroversion': 0.06978081483291709, 'opennes...\n",
            "prediction                                                     Hired\n",
            "Name: 1, dtype: object\n"
          ]
        }
      ]
    }
  ]
}