{
 "cells": [
  {
   "cell_type": "code",
   "execution_count": 1,
   "id": "aa38c36f-069d-4d2b-b29c-b0fbb47ef935",
   "metadata": {},
   "outputs": [],
   "source": [
    "import pandas as pd\n",
    "import numpy as np\n",
    "import matplotlib.pyplot as plt\n",
    "import seaborn as sns\n",
    "from sklearn.model_selection import train_test_split\n",
    "from sklearn.linear_model import LogisticRegression\n",
    "from sklearn.metrics import accuracy_score, confusion_matrix, classification_report\n"
   ]
  },
  {
   "cell_type": "code",
   "execution_count": 2,
   "id": "cf00a41f-f37a-4617-ab62-01f212ec4dba",
   "metadata": {},
   "outputs": [],
   "source": [
    "data = pd.read_csv('german.data', delimiter=' ', header=None)"
   ]
  },
  {
   "cell_type": "code",
   "execution_count": 3,
   "id": "3ae2bcde-1c14-43c8-9ea7-ff511c69a600",
   "metadata": {},
   "outputs": [
    {
     "name": "stdout",
     "output_type": "stream",
     "text": [
      "    0   1    2    3     4    5    6   7    8     9   ...    11  12    13  \\\n",
      "0  A11   6  A34  A43  1169  A65  A75   4  A93  A101  ...  A121  67  A143   \n",
      "1  A12  48  A32  A43  5951  A61  A73   2  A92  A101  ...  A121  22  A143   \n",
      "2  A14  12  A34  A46  2096  A61  A74   2  A93  A101  ...  A121  49  A143   \n",
      "3  A11  42  A32  A42  7882  A61  A74   2  A93  A103  ...  A122  45  A143   \n",
      "4  A11  24  A33  A40  4870  A61  A73   3  A93  A101  ...  A124  53  A143   \n",
      "\n",
      "     14 15    16 17    18    19 20  \n",
      "0  A152  2  A173  1  A192  A201  1  \n",
      "1  A152  1  A173  1  A191  A201  2  \n",
      "2  A152  1  A172  2  A191  A201  1  \n",
      "3  A153  1  A173  2  A191  A201  1  \n",
      "4  A153  2  A173  2  A191  A201  2  \n",
      "\n",
      "[5 rows x 21 columns]\n"
     ]
    }
   ],
   "source": [
    "print(data.head())"
   ]
  },
  {
   "cell_type": "code",
   "execution_count": 4,
   "id": "7fc3c3cb-71ce-453a-a2c4-e050a329d568",
   "metadata": {},
   "outputs": [
    {
     "name": "stdout",
     "output_type": "stream",
     "text": [
      "                1             4            7            10           12  \\\n",
      "count  1000.000000   1000.000000  1000.000000  1000.000000  1000.000000   \n",
      "mean     20.903000   3271.258000     2.973000     2.845000    35.546000   \n",
      "std      12.058814   2822.736876     1.118715     1.103718    11.375469   \n",
      "min       4.000000    250.000000     1.000000     1.000000    19.000000   \n",
      "25%      12.000000   1365.500000     2.000000     2.000000    27.000000   \n",
      "50%      18.000000   2319.500000     3.000000     3.000000    33.000000   \n",
      "75%      24.000000   3972.250000     4.000000     4.000000    42.000000   \n",
      "max      72.000000  18424.000000     4.000000     4.000000    75.000000   \n",
      "\n",
      "                15           17           20  \n",
      "count  1000.000000  1000.000000  1000.000000  \n",
      "mean      1.407000     1.155000     1.300000  \n",
      "std       0.577654     0.362086     0.458487  \n",
      "min       1.000000     1.000000     1.000000  \n",
      "25%       1.000000     1.000000     1.000000  \n",
      "50%       1.000000     1.000000     1.000000  \n",
      "75%       2.000000     1.000000     2.000000  \n",
      "max       4.000000     2.000000     2.000000  \n"
     ]
    }
   ],
   "source": [
    "print(data.describe())"
   ]
  },
  {
   "cell_type": "code",
   "execution_count": 5,
   "id": "6a427792-3765-4983-812e-19f952b1213a",
   "metadata": {},
   "outputs": [
    {
     "name": "stdout",
     "output_type": "stream",
     "text": [
      "0     0\n",
      "1     0\n",
      "2     0\n",
      "3     0\n",
      "4     0\n",
      "5     0\n",
      "6     0\n",
      "7     0\n",
      "8     0\n",
      "9     0\n",
      "10    0\n",
      "11    0\n",
      "12    0\n",
      "13    0\n",
      "14    0\n",
      "15    0\n",
      "16    0\n",
      "17    0\n",
      "18    0\n",
      "19    0\n",
      "20    0\n",
      "dtype: int64\n"
     ]
    }
   ],
   "source": [
    "print(data.isnull().sum())"
   ]
  },
  {
   "cell_type": "code",
   "execution_count": 6,
   "id": "afc46e4f-d7a6-41a1-86a4-00a42ca3f332",
   "metadata": {},
   "outputs": [
    {
     "data": {
      "image/png": "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",
      "text/plain": [
       "<Figure size 640x480 with 1 Axes>"
      ]
     },
     "metadata": {},
     "output_type": "display_data"
    }
   ],
   "source": [
    "sns.countplot(x=data[20])\n",
    "plt.show()\n"
   ]
  },
  {
   "cell_type": "code",
   "execution_count": 7,
   "id": "c5a3dd47-f053-498e-9168-5a1b4a3e825b",
   "metadata": {},
   "outputs": [],
   "source": [
    "data = pd.get_dummies(data, columns=[0, 2, 3, 5, 6, 8, 9, 11, 13, 14, 16, 18, 19])\n",
    "X = data.drop(20, axis=1)\n",
    "y = data[20]\n"
   ]
  },
  {
   "cell_type": "code",
   "execution_count": 8,
   "id": "78726008-d287-4304-9c1c-25190db2e486",
   "metadata": {},
   "outputs": [
    {
     "name": "stderr",
     "output_type": "stream",
     "text": [
      "C:\\Users\\kulde\\AppData\\Local\\Programs\\Python\\Python310\\lib\\site-packages\\sklearn\\utils\\validation.py:1858: FutureWarning: Feature names only support names that are all strings. Got feature names with dtypes: ['int', 'str']. An error will be raised in 1.2.\n",
      "  warnings.warn(\n",
      "C:\\Users\\kulde\\AppData\\Local\\Programs\\Python\\Python310\\lib\\site-packages\\sklearn\\utils\\validation.py:1858: FutureWarning: Feature names only support names that are all strings. Got feature names with dtypes: ['int', 'str']. An error will be raised in 1.2.\n",
      "  warnings.warn(\n"
     ]
    }
   ],
   "source": [
    "from sklearn.preprocessing import StandardScaler\n",
    "scaler = StandardScaler()\n",
    "X = scaler.fit_transform(X)\n"
   ]
  },
  {
   "cell_type": "code",
   "execution_count": 9,
   "id": "1b0674d7-96cc-4e85-8d69-04e4da4fc2cc",
   "metadata": {},
   "outputs": [],
   "source": [
    "X_train, X_test, y_train, y_test = train_test_split(X, y, test_size=0.2, random_state=42)"
   ]
  },
  {
   "cell_type": "code",
   "execution_count": 10,
   "id": "8577eb0d-4935-43df-9084-331e57631271",
   "metadata": {},
   "outputs": [
    {
     "data": {
      "text/html": [
       "<style>#sk-container-id-1 {color: black;background-color: white;}#sk-container-id-1 pre{padding: 0;}#sk-container-id-1 div.sk-toggleable {background-color: white;}#sk-container-id-1 label.sk-toggleable__label {cursor: pointer;display: block;width: 100%;margin-bottom: 0;padding: 0.3em;box-sizing: border-box;text-align: center;}#sk-container-id-1 label.sk-toggleable__label-arrow:before {content: \"▸\";float: left;margin-right: 0.25em;color: #696969;}#sk-container-id-1 label.sk-toggleable__label-arrow:hover:before {color: black;}#sk-container-id-1 div.sk-estimator:hover label.sk-toggleable__label-arrow:before {color: black;}#sk-container-id-1 div.sk-toggleable__content {max-height: 0;max-width: 0;overflow: hidden;text-align: left;background-color: #f0f8ff;}#sk-container-id-1 div.sk-toggleable__content pre {margin: 0.2em;color: black;border-radius: 0.25em;background-color: #f0f8ff;}#sk-container-id-1 input.sk-toggleable__control:checked~div.sk-toggleable__content {max-height: 200px;max-width: 100%;overflow: auto;}#sk-container-id-1 input.sk-toggleable__control:checked~label.sk-toggleable__label-arrow:before {content: \"▾\";}#sk-container-id-1 div.sk-estimator input.sk-toggleable__control:checked~label.sk-toggleable__label {background-color: #d4ebff;}#sk-container-id-1 div.sk-label input.sk-toggleable__control:checked~label.sk-toggleable__label {background-color: #d4ebff;}#sk-container-id-1 input.sk-hidden--visually {border: 0;clip: rect(1px 1px 1px 1px);clip: rect(1px, 1px, 1px, 1px);height: 1px;margin: -1px;overflow: hidden;padding: 0;position: absolute;width: 1px;}#sk-container-id-1 div.sk-estimator {font-family: monospace;background-color: #f0f8ff;border: 1px dotted black;border-radius: 0.25em;box-sizing: border-box;margin-bottom: 0.5em;}#sk-container-id-1 div.sk-estimator:hover {background-color: #d4ebff;}#sk-container-id-1 div.sk-parallel-item::after {content: \"\";width: 100%;border-bottom: 1px solid gray;flex-grow: 1;}#sk-container-id-1 div.sk-label:hover label.sk-toggleable__label {background-color: #d4ebff;}#sk-container-id-1 div.sk-serial::before {content: \"\";position: absolute;border-left: 1px solid gray;box-sizing: border-box;top: 0;bottom: 0;left: 50%;z-index: 0;}#sk-container-id-1 div.sk-serial {display: flex;flex-direction: column;align-items: center;background-color: white;padding-right: 0.2em;padding-left: 0.2em;position: relative;}#sk-container-id-1 div.sk-item {position: relative;z-index: 1;}#sk-container-id-1 div.sk-parallel {display: flex;align-items: stretch;justify-content: center;background-color: white;position: relative;}#sk-container-id-1 div.sk-item::before, #sk-container-id-1 div.sk-parallel-item::before {content: \"\";position: absolute;border-left: 1px solid gray;box-sizing: border-box;top: 0;bottom: 0;left: 50%;z-index: -1;}#sk-container-id-1 div.sk-parallel-item {display: flex;flex-direction: column;z-index: 1;position: relative;background-color: white;}#sk-container-id-1 div.sk-parallel-item:first-child::after {align-self: flex-end;width: 50%;}#sk-container-id-1 div.sk-parallel-item:last-child::after {align-self: flex-start;width: 50%;}#sk-container-id-1 div.sk-parallel-item:only-child::after {width: 0;}#sk-container-id-1 div.sk-dashed-wrapped {border: 1px dashed gray;margin: 0 0.4em 0.5em 0.4em;box-sizing: border-box;padding-bottom: 0.4em;background-color: white;}#sk-container-id-1 div.sk-label label {font-family: monospace;font-weight: bold;display: inline-block;line-height: 1.2em;}#sk-container-id-1 div.sk-label-container {text-align: center;}#sk-container-id-1 div.sk-container {/* jupyter's `normalize.less` sets `[hidden] { display: none; }` but bootstrap.min.css set `[hidden] { display: none !important; }` so we also need the `!important` here to be able to override the default hidden behavior on the sphinx rendered scikit-learn.org. See: https://github.com/scikit-learn/scikit-learn/issues/21755 */display: inline-block !important;position: relative;}#sk-container-id-1 div.sk-text-repr-fallback {display: none;}</style><div id=\"sk-container-id-1\" class=\"sk-top-container\"><div class=\"sk-text-repr-fallback\"><pre>LogisticRegression()</pre><b>In a Jupyter environment, please rerun this cell to show the HTML representation or trust the notebook. <br />On GitHub, the HTML representation is unable to render, please try loading this page with nbviewer.org.</b></div><div class=\"sk-container\" hidden><div class=\"sk-item\"><div class=\"sk-estimator sk-toggleable\"><input class=\"sk-toggleable__control sk-hidden--visually\" id=\"sk-estimator-id-1\" type=\"checkbox\" checked><label for=\"sk-estimator-id-1\" class=\"sk-toggleable__label sk-toggleable__label-arrow\">LogisticRegression</label><div class=\"sk-toggleable__content\"><pre>LogisticRegression()</pre></div></div></div></div></div>"
      ],
      "text/plain": [
       "LogisticRegression()"
      ]
     },
     "execution_count": 10,
     "metadata": {},
     "output_type": "execute_result"
    }
   ],
   "source": [
    "model = LogisticRegression()\n",
    "model.fit(X_train, y_train)\n"
   ]
  },
  {
   "cell_type": "code",
   "execution_count": 11,
   "id": "6d3c57aa-69f5-470e-91a8-6baa7a3af59c",
   "metadata": {},
   "outputs": [
    {
     "name": "stdout",
     "output_type": "stream",
     "text": [
      "Accuracy: 0.8\n",
      "Confusion Matrix:\n",
      "[[125  16]\n",
      " [ 24  35]]\n",
      "Classification Report:\n",
      "              precision    recall  f1-score   support\n",
      "\n",
      "           1       0.84      0.89      0.86       141\n",
      "           2       0.69      0.59      0.64        59\n",
      "\n",
      "    accuracy                           0.80       200\n",
      "   macro avg       0.76      0.74      0.75       200\n",
      "weighted avg       0.79      0.80      0.80       200\n",
      "\n"
     ]
    }
   ],
   "source": [
    "y_pred = model.predict(X_test)\n",
    "\n",
    "accuracy = accuracy_score(y_test, y_pred)\n",
    "print(f'Accuracy: {accuracy}')\n",
    "\n",
    "conf_matrix = confusion_matrix(y_test, y_pred)\n",
    "print(f'Confusion Matrix:\\n{conf_matrix}')\n",
    " \n",
    "class_report = classification_report(y_test, y_pred)\n",
    "print(f'Classification Report:\\n{class_report}')\n"
   ]
  },
  {
   "cell_type": "code",
   "execution_count": 12,
   "id": "a67c2dcb-78cc-4f33-88c5-ccc823c8069a",
   "metadata": {},
   "outputs": [
    {
     "name": "stdout",
     "output_type": "stream",
     "text": [
      "Accuracy: 0.805\n"
     ]
    }
   ],
   "source": [
    "model = LogisticRegression(C=0.5)\n",
    "model.fit(X_train, y_train)\n",
    "y_pred = model.predict(X_test)\n",
    "print(f'Accuracy: {accuracy_score(y_test, y_pred)}')\n"
   ]
  },
  {
   "cell_type": "code",
   "execution_count": 13,
   "id": "8122b69a-d486-405a-b558-da182d132de9",
   "metadata": {},
   "outputs": [
    {
     "name": "stdout",
     "output_type": "stream",
     "text": [
      "Prediction: [1]\n"
     ]
    }
   ],
   "source": [
    "new_data = np.array([X_test[0]])  \n",
    "prediction = model.predict(new_data)\n",
    "print(f'Prediction: {prediction}')\n"
   ]
  },
  {
   "cell_type": "code",
   "execution_count": null,
   "id": "4a047c47-ed7b-4edc-a54e-19f076f6815c",
   "metadata": {},
   "outputs": [],
   "source": []
  },
  {
   "cell_type": "code",
   "execution_count": null,
   "id": "99c7d1b6-7d6a-45dc-b5bb-e47c74fa8afd",
   "metadata": {},
   "outputs": [],
   "source": []
  }
 ],
 "metadata": {
  "kernelspec": {
   "display_name": "Python 3 (ipykernel)",
   "language": "python",
   "name": "python3"
  },
  "language_info": {
   "codemirror_mode": {
    "name": "ipython",
    "version": 3
   },
   "file_extension": ".py",
   "mimetype": "text/x-python",
   "name": "python",
   "nbconvert_exporter": "python",
   "pygments_lexer": "ipython3",
   "version": "3.10.6"
  }
 },
 "nbformat": 4,
 "nbformat_minor": 5
}
"stdout",
     "output_type": "stream",
     "text": [
      "Prediction: [1]\n"
     ]
    }
   ],
   "source": [
    "new_data = np.array([X_test[0]])  \n",
    "prediction = model.predict(new_data)\n",
    "print(f'Prediction: {prediction}')\n"
   ]