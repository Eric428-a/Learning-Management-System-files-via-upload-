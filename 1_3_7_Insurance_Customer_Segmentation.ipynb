{
  "nbformat": 4,
  "nbformat_minor": 0,
  "metadata": {
    "colab": {
      "provenance": []
    },
    "kernelspec": {
      "name": "python3",
      "display_name": "Python 3"
    },
    "language_info": {
      "name": "python"
    }
  },
  "cells": [
    {
      "cell_type": "markdown",
      "source": [
        "# <span style=\"color:blue;\">**Insurance Customer Segmentation Using K-Means Clustering**</span>\n",
        "\n",
        "## <span style=\"color:darkorange;\">**Project Overview**</span>\n",
        "\n",
        "This project aims to segment insurance customers using machine learning techniques, focusing on K-Means Clustering. The process includes data loading, exploratory data analysis (EDA), preprocessing, model training, and evaluation.\n",
        "\n",
        "## <span style=\"color:darkorange;\">**Step 1: Import Libraries**</span>\n",
        "\n",
        "**Key Libraries:**\n",
        "- **Pandas**: Data manipulation and analysis.\n",
        "- **NumPy**: Numerical operations.\n",
        "- **Matplotlib**: Plotting library for static, animated, and interactive visualizations.\n",
        "- **Seaborn**: High-level interface for drawing attractive and informative statistical graphics.\n",
        "- **Scikit-learn**: Machine learning library providing tools for model building, evaluation, and preprocessing.\n",
        "\n",
        "## <span style=\"color:darkorange;\">**Step 2: Load and Display Data**</span>\n",
        "\n",
        "**Data Loading and Display:**\n",
        "- Use `pd.read_csv()` to load CSV files into DataFrame objects.\n",
        "- Use `.head()` to show the first few rows, `.shape` to get dimensions, `.columns` to list column names, and `.dtypes` to display data types.\n",
        "- Use `.describe()` to get a statistical summary, including count, mean, std, min, and percentiles.\n",
        "\n",
        "**Notes:**\n",
        "- Display samples to understand the data structure.\n",
        "- Display shapes and columns to get an overview.\n",
        "- Display data types and summary statistics for a deeper understanding.\n",
        "\n",
        "## <span style=\"color:darkorange;\">**Step 3: Exploratory Data Analysis (EDA)**</span>\n",
        "\n",
        "**Objective:**\n",
        "- Understand the data and its underlying patterns through visualizations.\n",
        "\n",
        "**Visualization Techniques:**\n",
        "- **Count Plot**: For categorical variables to show the count of each category.\n",
        "- **Histogram**: For continuous variables to show the distribution.\n",
        "- **Line Plot**: For relationships between two continuous variables.\n",
        "\n",
        "**Handling Missing Values:**\n",
        "- Important to identify and appropriately handle missing data.\n",
        "\n",
        "**Notes:**\n",
        "- Identify trends and patterns in the data.\n",
        "- Check for missing values and handle them accordingly.\n",
        "- Visualize distributions and relationships between variables.\n",
        "\n",
        "## <span style=\"color:darkorange;\">**Step 4: Data Preprocessing**</span>\n",
        "\n",
        "**Objective:**\n",
        "- Clean and transform data to make it suitable for machine learning models.\n",
        "\n",
        "**Steps:**\n",
        "1. **Separate Features and Target Variable:**\n",
        "   - Drop the target column from features.\n",
        "   - Set the target column as the target variable.\n",
        "2. **List Categorical and Numerical Columns:**\n",
        "   - Identify and list categorical and numerical columns.\n",
        "3. **Preprocessing Pipelines:**\n",
        "   - **Numerical Data:**\n",
        "     - Impute missing values with the mean.\n",
        "     - Scale data.\n",
        "   - **Categorical Data:**\n",
        "     - Impute missing values with the most frequent value.\n",
        "     - One-hot encode the data.\n",
        "\n",
        "**Notes:**\n",
        "- Properly preprocess data to improve model performance.\n",
        "- Handle missing values and encode categorical variables appropriately.\n",
        "- Standardize numerical features for consistency.\n",
        "\n",
        "## <span style=\"color:darkorange;\">**Step 5: Model Training and Evaluation**</span>\n",
        "\n",
        "**Objective:**\n",
        "- Train machine learning models and evaluate their performance.\n",
        "\n",
        "**Steps:**\n",
        "1. **Split Data:**\n",
        "   - Divide data into training and validation sets using `train_test_split`.\n",
        "2. **Initialize Model:**\n",
        "   - Choose an appropriate machine learning model (e.g., RandomForestClassifier).\n",
        "3. **Train the Model:**\n",
        "   - Fit the model to the training data.\n",
        "4. **Evaluate the Model:**\n",
        "   - Predict on the validation set.\n",
        "   - Calculate accuracy, classification report, and confusion matrix.\n",
        "\n",
        "**Notes:**\n",
        "- Splitting data helps in evaluating model performance on unseen data.\n",
        "- Choose the right model based on the problem.\n",
        "- Evaluate model performance using metrics like accuracy, classification report, and confusion matrix.\n",
        "\n",
        "## <span style=\"color:darkorange;\">**Step 6: Predictions and Submission**</span>\n",
        "\n",
        "**Objective:**\n",
        "- Predict on the test set and prepare a submission file.\n",
        "\n",
        "**Steps:**\n",
        "1. **Predict on Test Set:**\n",
        "   - Transform test data and make predictions.\n",
        "2. **Prepare Submission File:**\n",
        "   - Add predictions to the submission data.\n",
        "   - Save the submission file to a CSV.\n",
        "\n",
        "**Notes:**\n",
        "- Ensure predictions are correctly formatted for submission.\n",
        "- Save results for future reference or competition submission.\n",
        "\n",
        "## <span style=\"color:darkorange;\">**Step 7: Save and Display Plots and Data**</span>\n",
        "\n",
        "**Objective:**\n",
        "- Save plots and data for reporting and future reference.\n",
        "\n",
        "**Steps:**\n",
        "1. **Save Plots as PDF:**\n",
        "   - Use `PdfPages` to save plots in a PDF file.\n",
        "2. **Display and Save Data:**\n",
        "   - Display heads of datasets and save important results as CSV files.\n",
        "\n",
        "**Notes:**\n",
        "- Saving plots and data helps in documentation and future analysis.\n",
        "- Displaying heads of datasets ensures the correctness of transformations."
      ],
      "metadata": {
        "id": "1ku8xHJDK97D"
      }
    },
    {
      "cell_type": "code",
      "source": [],
      "metadata": {
        "id": "CXHCfw8TLvi2"
      },
      "execution_count": null,
      "outputs": []
    },
    {
      "cell_type": "code",
      "source": [],
      "metadata": {
        "id": "VfFlHWRnLvm1"
      },
      "execution_count": null,
      "outputs": []
    },
    {
      "cell_type": "markdown",
      "source": [
        "## <span style=\"color:darkorange;\">**Step 1: Import Libraries**</span>\n",
        "\n",
        "### <span style=\"color:mediumslateblue;\">**Overview**</span>\n",
        "\n",
        "In this step, we will import all the necessary libraries required for data manipulation, visualization, and machine learning tasks. Importing libraries is crucial as they provide the functions and tools needed for the various steps in the machine learning pipeline.\n",
        "\n",
        "### <span style=\"color:mediumslateblue;\">**Key Libraries**</span>\n",
        "\n",
        "1. **Pandas**:\n",
        "   - **Purpose**: Used for data manipulation and analysis.\n",
        "   - **Functions**: DataFrame creation, reading/writing CSV files, data cleaning, merging, reshaping, and statistical analysis.\n",
        "   - **Example Usage**: `import pandas as pd`\n",
        "\n",
        "2. **NumPy**:\n",
        "   - **Purpose**: Fundamental package for numerical computations in Python.\n",
        "   - **Functions**: Provides support for large multi-dimensional arrays and matrices, along with a collection of mathematical functions to operate on these arrays.\n",
        "   - **Example Usage**: `import numpy as np`\n",
        "\n",
        "3. **Matplotlib**:\n",
        "   - **Purpose**: Plotting library for creating static, animated, and interactive visualizations in Python.\n",
        "   - **Functions**: Plotting graphs and charts such as line plots, scatter plots, bar plots, histograms, and more.\n",
        "   - **Example Usage**: `import matplotlib.pyplot as plt`\n",
        "\n",
        "4. **Seaborn**:\n",
        "   - **Purpose**: High-level interface for drawing attractive and informative statistical graphics.\n",
        "   - **Functions**: Simplifies the process of creating complex visualizations such as heatmaps, violin plots, and pair plots.\n",
        "   - **Example Usage**: `import seaborn as sns`\n",
        "\n",
        "5. **Scikit-learn**:\n",
        "   - **Purpose**: Machine learning library providing simple and efficient tools for data mining and data analysis.\n",
        "   - **Functions**: Includes algorithms for classification, regression, clustering, and dimensionality reduction. Also offers preprocessing, model selection, and evaluation functions.\n",
        "   - **Example Usage**: `from sklearn.model_selection import train_test_split`\n",
        "\n",
        "6. **Matplotlib.backends.backend_pdf**:\n",
        "   - **Purpose**: Part of the Matplotlib library used for saving plots as PDF files.\n",
        "   - **Functions**: Provides the `PdfPages` class to facilitate the saving of multiple plots into a single PDF file.\n",
        "   - **Example Usage**: `from matplotlib.backends.backend_pdf import PdfPages`\n",
        "\n",
        "### <span style=\"color:mediumslateblue;\">**Notes**</span>\n",
        "\n",
        "- **Pandas** and **NumPy** are foundational libraries for data manipulation and numerical operations, forming the backbone of most data science projects.\n",
        "- **Matplotlib** and **Seaborn** are essential for data visualization, helping to understand data patterns, trends, and insights through various graphical representations.\n",
        "- **Scikit-learn** is indispensable for building and evaluating machine learning models, offering a wide range of algorithms and tools to streamline the machine learning workflow.\n",
        "- Importing all necessary libraries at the beginning of the project ensures a smooth workflow and avoids import errors later in the code.\n",
        "\n",
        "### <span style=\"color:mediumslateblue;\">**Example Code**</span>\n",
        "\n",
        "```python\n",
        "import pandas as pd  # Import pandas library for data manipulation\n",
        "import numpy as np  # Import NumPy library for numerical computations\n",
        "import matplotlib.pyplot as plt  # Import Matplotlib for plotting\n",
        "import seaborn as sns  # Import Seaborn for enhanced visualizations\n",
        "from sklearn.model_selection import train_test_split, cross_val_score  # Import functions for model training and evaluation\n",
        "from sklearn.preprocessing import StandardScaler, OneHotEncoder  # Import preprocessing tools\n",
        "from sklearn.compose import ColumnTransformer  # Import ColumnTransformer for combining preprocessing steps\n",
        "from sklearn.pipeline import Pipeline  # Import Pipeline to streamline preprocessing and modeling steps\n",
        "from sklearn.impute import SimpleImputer  # Import SimpleImputer to handle missing values\n",
        "from sklearn.ensemble import RandomForestClassifier  # Import RandomForestClassifier for classification tasks\n",
        "from sklearn.metrics import accuracy_score, classification_report, confusion_matrix  # Import metrics for model evaluation\n",
        "from matplotlib.backends.backend_pdf import PdfPages  # Import PdfPages for saving plots as PDF"
      ],
      "metadata": {
        "id": "wczHQ0b0LyGk"
      }
    },
    {
      "cell_type": "code",
      "source": [
        "import pandas as pd  # Import pandas library for data manipulation"
      ],
      "metadata": {
        "id": "sODBRKnpHTqa"
      },
      "execution_count": null,
      "outputs": []
    },
    {
      "cell_type": "code",
      "source": [
        "import numpy as np  # Import numpy library for numerical operations"
      ],
      "metadata": {
        "id": "Rv0K4ReLI2vN"
      },
      "execution_count": null,
      "outputs": []
    },
    {
      "cell_type": "code",
      "source": [
        "import matplotlib.pyplot as plt  # Import matplotlib for plotting"
      ],
      "metadata": {
        "id": "kEo1xK9EI2yV"
      },
      "execution_count": null,
      "outputs": []
    },
    {
      "cell_type": "code",
      "source": [
        "import seaborn as sns  # Import seaborn for enhanced visualizations"
      ],
      "metadata": {
        "id": "rus00KNKI21N"
      },
      "execution_count": null,
      "outputs": []
    },
    {
      "cell_type": "code",
      "source": [
        "from sklearn.model_selection import train_test_split, cross_val_score  # Import functions for splitting data"
      ],
      "metadata": {
        "id": "5MdlZ05vI24i"
      },
      "execution_count": null,
      "outputs": []
    },
    {
      "cell_type": "code",
      "source": [
        "from sklearn.preprocessing import StandardScaler, OneHotEncoder  # Import preprocessing modules"
      ],
      "metadata": {
        "id": "u-NZLz_KI258"
      },
      "execution_count": null,
      "outputs": []
    },
    {
      "cell_type": "code",
      "source": [
        "from sklearn.compose import ColumnTransformer  # Import ColumnTransformer for preprocessing pipelines"
      ],
      "metadata": {
        "id": "2f0GL-JBI3IF"
      },
      "execution_count": null,
      "outputs": []
    },
    {
      "cell_type": "code",
      "source": [
        "from sklearn.pipeline import Pipeline  # Import Pipeline for chaining preprocessing and modeling"
      ],
      "metadata": {
        "id": "0-8AtG5rI3J2"
      },
      "execution_count": null,
      "outputs": []
    },
    {
      "cell_type": "code",
      "source": [
        "from sklearn.impute import SimpleImputer  # Import SimpleImputer for handling missing values"
      ],
      "metadata": {
        "id": "OTHaRECaI3LL"
      },
      "execution_count": null,
      "outputs": []
    },
    {
      "cell_type": "code",
      "source": [
        "from sklearn.ensemble import RandomForestClassifier  # Import RandomForestClassifier for modeling"
      ],
      "metadata": {
        "id": "Fr-jwZ2cI3Op"
      },
      "execution_count": null,
      "outputs": []
    },
    {
      "cell_type": "code",
      "source": [
        "from sklearn.metrics import accuracy_score, classification_report, confusion_matrix  # Import metrics for model evaluation\n"
      ],
      "metadata": {
        "id": "VYqmYON8I3Ru"
      },
      "execution_count": null,
      "outputs": []
    },
    {
      "cell_type": "code",
      "source": [],
      "metadata": {
        "id": "pr3c_TCWI3T4"
      },
      "execution_count": null,
      "outputs": []
    },
    {
      "cell_type": "code",
      "source": [],
      "metadata": {
        "id": "btUIFfv4I3Wd"
      },
      "execution_count": null,
      "outputs": []
    },
    {
      "cell_type": "markdown",
      "source": [
        "## <span style=\"color:darkorange;\">**Step 2: Load and Inspect Datasets**</span>\n",
        "\n",
        "### <span style=\"color:mediumslateblue;\">**Overview**</span>\n",
        "\n",
        "In this step, we will load the datasets required for our project. Inspecting the datasets involves looking at the first few rows, checking the shape, and understanding the structure of the data. This is crucial for getting an initial sense of the data and identifying any potential issues early on.\n",
        "\n",
        "### <span style=\"color:mediumslateblue;\">**Key Tasks**</span>\n",
        "\n",
        "1. **Loading Datasets**:\n",
        "   - **Purpose**: Importing the data from CSV files into Pandas DataFrames.\n",
        "   - **Function**: `pd.read_csv()`\n",
        "   - **Example Usage**: `train_data = pd.read_csv(\"/content/train.csv\")`\n",
        "\n",
        "2. **Inspecting Data**:\n",
        "   - **Head**: Displays the first few rows of the DataFrame to give a quick glance at the data.\n",
        "     - **Function**: `DataFrame.head()`\n",
        "     - **Example Usage**: `train_data.head()`\n",
        "   - **Shape**: Provides the number of rows and columns in the DataFrame.\n",
        "     - **Function**: `DataFrame.shape`\n",
        "     - **Example Usage**: `train_data.shape`\n",
        "   - **Columns**: Lists all column names in the DataFrame.\n",
        "     - **Function**: `DataFrame.columns`\n",
        "     - **Example Usage**: `train_data.columns`\n",
        "   - **Data Types**: Shows the data type of each column.\n",
        "     - **Function**: `DataFrame.dtypes`\n",
        "     - **Example Usage**: `train_data.dtypes`\n",
        "   - **Summary Statistics**: Gives a statistical summary of the DataFrame.\n",
        "     - **Function**: `DataFrame.describe()`\n",
        "     - **Example Usage**: `train_data.describe()`\n",
        "\n",
        "### <span style=\"color:mediumslateblue;\">**Notes**</span>\n",
        "\n",
        "- **Loading Data**: Use `pd.read_csv()` to load the CSV files into DataFrames. Make sure the file paths are correct.\n",
        "- **Inspecting Data**:\n",
        "  - **Head**: Use `head()` to see a sample of the dataset, which helps in verifying that the data has been loaded correctly.\n",
        "  - **Shape**: Check the shape to understand the dimensions of the dataset.\n",
        "  - **Columns**: Listing columns helps in identifying what features are available in the dataset.\n",
        "  - **Data Types**: Knowing the data types is important for preprocessing steps such as encoding categorical variables and scaling numerical variables.\n",
        "  - **Summary Statistics**: Provides insights into the distribution and spread of the data, highlighting potential outliers and anomalies.\n",
        "\n",
        "### <span style=\"color:mediumslateblue;\">**Example Code**</span>\n",
        "\n",
        "```python\n",
        "import pandas as pd  # Import pandas library for data manipulation\n",
        "\n",
        "# Load datasets\n",
        "train_data = pd.read_csv(\"/content/train.csv\")  # Load train data from CSV file\n",
        "test_data = pd.read_csv(\"/content/test.csv\")  # Load test data from CSV file\n",
        "submission_data = pd.read_csv(\"/content/sample_submission.csv\")  # Load submission data from CSV file\n",
        "\n",
        "# Display samples of train, test, and submission data\n",
        "print(\"Train Data Sample:\")  # Print header\n",
        "print(train_data.head())  # Display first few rows of train data\n",
        "\n",
        "print(\"\\nTest Data Sample:\")  # Print header\n",
        "print(test_data.head())  # Display first few rows of test data\n",
        "\n",
        "print(\"\\nSubmission Data Sample:\")  # Print header\n",
        "print(submission_data.head())  # Display first few rows of submission data\n",
        "\n",
        "# Display shape of datasets\n",
        "print(\"\\nTrain Data Shape:\", train_data.shape)  # Display shape of train data\n",
        "print(\"Test Data Shape:\", test_data.shape)  # Display shape of test data\n",
        "print(\"Submission Data Shape:\", submission_data.shape)  # Display shape of submission data\n",
        "\n",
        "# Display columns of datasets\n",
        "print(\"\\nTrain Data Columns:\", train_data.columns.tolist())  # Display columns of train data\n",
        "print(\"Test Data Columns:\", test_data.columns.tolist())  # Display columns of test data\n",
        "print(\"Submission Data Columns:\", submission_data.columns.tolist())  # Display columns of submission data\n",
        "\n",
        "# Display data types of datasets\n",
        "print(\"\\nTrain Data Types:\")  # Print header\n",
        "print(train_data.dtypes)  # Display data types of train data\n",
        "\n",
        "print(\"\\nTest Data Types:\")  # Print header\n",
        "print(test_data.dtypes)  # Display data types of test data\n",
        "\n",
        "print(\"\\nSubmission Data Types:\")  # Print header\n",
        "print(submission_data.dtypes)  # Display data types of submission data\n",
        "\n",
        "# Summary statistics of train data\n",
        "print(\"\\nTrain Data Summary Statistics:\")  # Print header\n",
        "print(train_data.describe())  # Display summary statistics of train data"
      ],
      "metadata": {
        "id": "lNNhGHMtMMKc"
      }
    },
    {
      "cell_type": "code",
      "source": [
        "# Load datasets"
      ],
      "metadata": {
        "id": "KTACXG0hI3a9"
      },
      "execution_count": null,
      "outputs": []
    },
    {
      "cell_type": "code",
      "source": [
        "train_data = pd.read_csv(\"/content/train.csv\")  # Load train data from CSV file"
      ],
      "metadata": {
        "id": "bVIDSrtlI3fV"
      },
      "execution_count": null,
      "outputs": []
    },
    {
      "cell_type": "code",
      "source": [
        "test_data = pd.read_csv(\"/content/test.csv\")  # Load test data from CSV file"
      ],
      "metadata": {
        "id": "YPTbtGh9I3mV"
      },
      "execution_count": null,
      "outputs": []
    },
    {
      "cell_type": "code",
      "source": [
        "submission_data = pd.read_csv(\"/content/sample_submission.csv\")  # Load submission data from CSV file"
      ],
      "metadata": {
        "id": "99arltfUI3pt"
      },
      "execution_count": null,
      "outputs": []
    },
    {
      "cell_type": "code",
      "source": [],
      "metadata": {
        "id": "MUyg1iXXI3ri"
      },
      "execution_count": null,
      "outputs": []
    },
    {
      "cell_type": "code",
      "source": [],
      "metadata": {
        "id": "KYq-IVJEI3u4"
      },
      "execution_count": null,
      "outputs": []
    },
    {
      "cell_type": "code",
      "source": [
        "# Display samples of train, test, and submission data"
      ],
      "metadata": {
        "id": "r55Sp0akI30F"
      },
      "execution_count": null,
      "outputs": []
    },
    {
      "cell_type": "code",
      "source": [
        "print(\"Train Data Sample:\")  # Print header\n",
        "print(train_data.head())  # Display first few rows of train data"
      ],
      "metadata": {
        "colab": {
          "base_uri": "https://localhost:8080/"
        },
        "id": "uAmCVNz7I33N",
        "outputId": "70398b32-6bc3-44c3-cc82-12bd5a8eba64"
      },
      "execution_count": null,
      "outputs": [
        {
          "output_type": "stream",
          "name": "stdout",
          "text": [
            "Train Data Sample:\n",
            "   id  Gender  Age  Driving_License  Region_Code  Previously_Insured  \\\n",
            "0   1    Male   44                1         28.0                   0   \n",
            "1   2    Male   76                1          3.0                   0   \n",
            "2   3    Male   47                1         28.0                   0   \n",
            "3   4    Male   21                1         11.0                   1   \n",
            "4   5  Female   29                1         41.0                   1   \n",
            "\n",
            "  Vehicle_Age Vehicle_Damage  Annual_Premium  Policy_Sales_Channel  Vintage  \\\n",
            "0   > 2 Years            Yes         40454.0                  26.0      217   \n",
            "1    1-2 Year             No         33536.0                  26.0      183   \n",
            "2   > 2 Years            Yes         38294.0                  26.0       27   \n",
            "3    < 1 Year             No         28619.0                 152.0      203   \n",
            "4    < 1 Year             No         27496.0                 152.0       39   \n",
            "\n",
            "   Response  \n",
            "0         1  \n",
            "1         0  \n",
            "2         1  \n",
            "3         0  \n",
            "4         0  \n"
          ]
        }
      ]
    },
    {
      "cell_type": "code",
      "source": [],
      "metadata": {
        "id": "GLl3wsvBI351"
      },
      "execution_count": null,
      "outputs": []
    },
    {
      "cell_type": "code",
      "source": [],
      "metadata": {
        "id": "oDvWvwfII38c"
      },
      "execution_count": null,
      "outputs": []
    },
    {
      "cell_type": "code",
      "source": [
        "print(\"\\nTest Data Sample:\") # Print header\n",
        "print(test_data.head())  # Display first few rows of test data"
      ],
      "metadata": {
        "colab": {
          "base_uri": "https://localhost:8080/"
        },
        "id": "XbS3IM_AI4Ah",
        "outputId": "0a0fd9a4-5525-429b-bb64-205c6b005c9f"
      },
      "execution_count": null,
      "outputs": [
        {
          "output_type": "stream",
          "name": "stdout",
          "text": [
            "\n",
            "Test Data Sample:\n",
            "       id Gender  Age  Driving_License  Region_Code  Previously_Insured  \\\n",
            "0  381110   Male   25                1         11.0                   1   \n",
            "1  381111   Male   40                1         28.0                   0   \n",
            "2  381112   Male   47                1         28.0                   0   \n",
            "3  381113   Male   24                1         27.0                   1   \n",
            "4  381114   Male   27                1         28.0                   1   \n",
            "\n",
            "  Vehicle_Age Vehicle_Damage  Annual_Premium  Policy_Sales_Channel  Vintage  \n",
            "0    < 1 Year             No         35786.0                 152.0       53  \n",
            "1    1-2 Year            Yes         33762.0                   7.0      111  \n",
            "2    1-2 Year            Yes         40050.0                 124.0      199  \n",
            "3    < 1 Year            Yes         37356.0                 152.0      187  \n",
            "4    < 1 Year             No         59097.0                 152.0      297  \n"
          ]
        }
      ]
    },
    {
      "cell_type": "code",
      "source": [],
      "metadata": {
        "id": "mwr0ESdiKC22"
      },
      "execution_count": null,
      "outputs": []
    },
    {
      "cell_type": "code",
      "source": [],
      "metadata": {
        "id": "t6IM6BagKC-G"
      },
      "execution_count": null,
      "outputs": []
    },
    {
      "cell_type": "code",
      "source": [
        "print(\"\\nSubmission Data Sample:\") # Print header\n",
        "print(submission_data.head())  # Display first few rows of submission data"
      ],
      "metadata": {
        "colab": {
          "base_uri": "https://localhost:8080/"
        },
        "id": "xv2_VtluKDBW",
        "outputId": "d51e2e0b-968a-4462-f4fa-b9baf8e21cd3"
      },
      "execution_count": null,
      "outputs": [
        {
          "output_type": "stream",
          "name": "stdout",
          "text": [
            "\n",
            "Submission Data Sample:\n",
            "       id  Response\n",
            "0  381110         0\n",
            "1  381111         0\n",
            "2  381112         0\n",
            "3  381113         0\n",
            "4  381114         0\n"
          ]
        }
      ]
    },
    {
      "cell_type": "code",
      "source": [],
      "metadata": {
        "id": "bdkhzt4GKK2-"
      },
      "execution_count": null,
      "outputs": []
    },
    {
      "cell_type": "code",
      "source": [],
      "metadata": {
        "id": "p6coIHgcKK6e"
      },
      "execution_count": null,
      "outputs": []
    },
    {
      "cell_type": "code",
      "source": [
        "# Display shape of datasets"
      ],
      "metadata": {
        "id": "MCwb2acPKK-X"
      },
      "execution_count": null,
      "outputs": []
    },
    {
      "cell_type": "code",
      "source": [
        "print(\"\\nTrain Data Shape:\", train_data.shape)  # Print shape of train data"
      ],
      "metadata": {
        "colab": {
          "base_uri": "https://localhost:8080/"
        },
        "id": "FciQgbuSKLGG",
        "outputId": "98726a6f-1fc6-4941-c5bc-b2e229fe2a26"
      },
      "execution_count": null,
      "outputs": [
        {
          "output_type": "stream",
          "name": "stdout",
          "text": [
            "\n",
            "Train Data Shape: (381109, 12)\n"
          ]
        }
      ]
    },
    {
      "cell_type": "code",
      "source": [],
      "metadata": {
        "id": "hkkwx5MWKLJi"
      },
      "execution_count": null,
      "outputs": []
    },
    {
      "cell_type": "code",
      "source": [
        "print(\"Test Data Shape:\", test_data.shape)  # Print shape of test data"
      ],
      "metadata": {
        "colab": {
          "base_uri": "https://localhost:8080/"
        },
        "id": "OqK-VW6TI4FV",
        "outputId": "fde05000-2fa8-4f85-d009-4286264564f8"
      },
      "execution_count": null,
      "outputs": [
        {
          "output_type": "stream",
          "name": "stdout",
          "text": [
            "Test Data Shape: (127037, 11)\n"
          ]
        }
      ]
    },
    {
      "cell_type": "code",
      "source": [],
      "metadata": {
        "id": "9_T6eIwgI4Gm"
      },
      "execution_count": null,
      "outputs": []
    },
    {
      "cell_type": "code",
      "source": [
        "print(\"Submission Data Shape:\", submission_data.shape)  # Print shape of submission data"
      ],
      "metadata": {
        "colab": {
          "base_uri": "https://localhost:8080/"
        },
        "id": "pmW_Vb3zI4JJ",
        "outputId": "6eb1183b-86fb-41f4-9a6b-17f3bae1f2ad"
      },
      "execution_count": null,
      "outputs": [
        {
          "output_type": "stream",
          "name": "stdout",
          "text": [
            "Submission Data Shape: (127037, 2)\n"
          ]
        }
      ]
    },
    {
      "cell_type": "code",
      "source": [],
      "metadata": {
        "id": "BhFHdklDI4Lv"
      },
      "execution_count": null,
      "outputs": []
    },
    {
      "cell_type": "code",
      "source": [],
      "metadata": {
        "id": "aLt-p1T7HTsT"
      },
      "execution_count": null,
      "outputs": []
    },
    {
      "cell_type": "code",
      "source": [
        "# Display columns of datasets"
      ],
      "metadata": {
        "id": "tzSPlA-EKasd"
      },
      "execution_count": null,
      "outputs": []
    },
    {
      "cell_type": "code",
      "source": [
        "print(\"\\nTrain Data Columns:\", train_data.columns.tolist())  # Print columns of train data"
      ],
      "metadata": {
        "colab": {
          "base_uri": "https://localhost:8080/"
        },
        "id": "RnvqYDOyKazi",
        "outputId": "4ec0afa6-7469-48dd-cc2e-a27b426c66d0"
      },
      "execution_count": null,
      "outputs": [
        {
          "output_type": "stream",
          "name": "stdout",
          "text": [
            "\n",
            "Train Data Columns: ['id', 'Gender', 'Age', 'Driving_License', 'Region_Code', 'Previously_Insured', 'Vehicle_Age', 'Vehicle_Damage', 'Annual_Premium', 'Policy_Sales_Channel', 'Vintage', 'Response']\n"
          ]
        }
      ]
    },
    {
      "cell_type": "code",
      "source": [],
      "metadata": {
        "id": "GPHeXDYNKa1V"
      },
      "execution_count": null,
      "outputs": []
    },
    {
      "cell_type": "code",
      "source": [
        "print(\"Test Data Columns:\", test_data.columns.tolist())  # Print columns of test data"
      ],
      "metadata": {
        "colab": {
          "base_uri": "https://localhost:8080/"
        },
        "id": "tHRWq9AUKa58",
        "outputId": "63b46a6a-e9d8-4c5e-a4c6-df00db1a12eb"
      },
      "execution_count": null,
      "outputs": [
        {
          "output_type": "stream",
          "name": "stdout",
          "text": [
            "Test Data Columns: ['id', 'Gender', 'Age', 'Driving_License', 'Region_Code', 'Previously_Insured', 'Vehicle_Age', 'Vehicle_Damage', 'Annual_Premium', 'Policy_Sales_Channel', 'Vintage']\n"
          ]
        }
      ]
    },
    {
      "cell_type": "code",
      "source": [],
      "metadata": {
        "id": "wmNsLfdHKa98"
      },
      "execution_count": null,
      "outputs": []
    },
    {
      "cell_type": "code",
      "source": [
        "print(\"Submission Data Columns:\", submission_data.columns.tolist())  # Print columns of submission data"
      ],
      "metadata": {
        "colab": {
          "base_uri": "https://localhost:8080/"
        },
        "id": "sSy52jkEKlC4",
        "outputId": "b9b78049-6136-4a7c-9bea-f0f5e8cf5392"
      },
      "execution_count": null,
      "outputs": [
        {
          "output_type": "stream",
          "name": "stdout",
          "text": [
            "Submission Data Columns: ['id', 'Response']\n"
          ]
        }
      ]
    },
    {
      "cell_type": "code",
      "source": [],
      "metadata": {
        "id": "lhUXdQPVKlGT"
      },
      "execution_count": null,
      "outputs": []
    },
    {
      "cell_type": "code",
      "source": [],
      "metadata": {
        "id": "9kFwRnJxKlJP"
      },
      "execution_count": null,
      "outputs": []
    },
    {
      "cell_type": "code",
      "source": [
        "# Display data types of datasets"
      ],
      "metadata": {
        "id": "euIj_YqGKlMJ"
      },
      "execution_count": null,
      "outputs": []
    },
    {
      "cell_type": "code",
      "source": [
        "print(\"\\nTrain Data Types:\")  # Print header\n",
        "print(train_data.dtypes)  # Print data types of train data"
      ],
      "metadata": {
        "colab": {
          "base_uri": "https://localhost:8080/"
        },
        "id": "y9DMDGVXKlRI",
        "outputId": "5eb2cb3a-75fd-41bd-8715-0c565966ad71"
      },
      "execution_count": null,
      "outputs": [
        {
          "output_type": "stream",
          "name": "stdout",
          "text": [
            "\n",
            "Train Data Types:\n",
            "id                        int64\n",
            "Gender                   object\n",
            "Age                       int64\n",
            "Driving_License           int64\n",
            "Region_Code             float64\n",
            "Previously_Insured        int64\n",
            "Vehicle_Age              object\n",
            "Vehicle_Damage           object\n",
            "Annual_Premium          float64\n",
            "Policy_Sales_Channel    float64\n",
            "Vintage                   int64\n",
            "Response                  int64\n",
            "dtype: object\n"
          ]
        }
      ]
    },
    {
      "cell_type": "code",
      "source": [],
      "metadata": {
        "id": "BVFNQt9bKlUY"
      },
      "execution_count": null,
      "outputs": []
    },
    {
      "cell_type": "code",
      "source": [
        "print(\"\\nTest Data Types:\")  # Print header\n",
        "print(test_data.dtypes)  # Print data types of test data"
      ],
      "metadata": {
        "colab": {
          "base_uri": "https://localhost:8080/"
        },
        "id": "MajBUhG6KlWQ",
        "outputId": "eb3b89ed-ea26-4315-ac21-ced8a588ced8"
      },
      "execution_count": null,
      "outputs": [
        {
          "output_type": "stream",
          "name": "stdout",
          "text": [
            "\n",
            "Test Data Types:\n",
            "id                        int64\n",
            "Gender                   object\n",
            "Age                       int64\n",
            "Driving_License           int64\n",
            "Region_Code             float64\n",
            "Previously_Insured        int64\n",
            "Vehicle_Age              object\n",
            "Vehicle_Damage           object\n",
            "Annual_Premium          float64\n",
            "Policy_Sales_Channel    float64\n",
            "Vintage                   int64\n",
            "dtype: object\n"
          ]
        }
      ]
    },
    {
      "cell_type": "code",
      "source": [],
      "metadata": {
        "id": "iIH5nhi5KlZT"
      },
      "execution_count": null,
      "outputs": []
    },
    {
      "cell_type": "code",
      "source": [
        "print(\"\\nSubmission Data Types:\")  # Print header\n",
        "print(submission_data.dtypes)  # Print data types of submission data"
      ],
      "metadata": {
        "colab": {
          "base_uri": "https://localhost:8080/"
        },
        "id": "iF0RPcyQKlaq",
        "outputId": "8a45848f-127e-48eb-b5a8-fb2657c95bda"
      },
      "execution_count": null,
      "outputs": [
        {
          "output_type": "stream",
          "name": "stdout",
          "text": [
            "\n",
            "Submission Data Types:\n",
            "id          int64\n",
            "Response    int64\n",
            "dtype: object\n"
          ]
        }
      ]
    },
    {
      "cell_type": "code",
      "source": [],
      "metadata": {
        "id": "Y6jIEI_0Kz74"
      },
      "execution_count": null,
      "outputs": []
    },
    {
      "cell_type": "code",
      "source": [],
      "metadata": {
        "id": "TTphOyplK0AH"
      },
      "execution_count": null,
      "outputs": []
    },
    {
      "cell_type": "code",
      "source": [
        "# Summary statistics of train data"
      ],
      "metadata": {
        "id": "9eSkA17CK0Df"
      },
      "execution_count": null,
      "outputs": []
    },
    {
      "cell_type": "code",
      "source": [
        "print(\"\\nTrain Data Summary Statistics:\")  # Print header\n",
        "print(train_data.describe())  # Display summary statistics of train data"
      ],
      "metadata": {
        "colab": {
          "base_uri": "https://localhost:8080/"
        },
        "id": "nDLZ4ANKK0GZ",
        "outputId": "98f8f41b-7b9d-486b-dd2e-08f2b4d813d6"
      },
      "execution_count": null,
      "outputs": [
        {
          "output_type": "stream",
          "name": "stdout",
          "text": [
            "\n",
            "Train Data Summary Statistics:\n",
            "                  id            Age  Driving_License    Region_Code  \\\n",
            "count  381109.000000  381109.000000    381109.000000  381109.000000   \n",
            "mean   190555.000000      38.822584         0.997869      26.388807   \n",
            "std    110016.836208      15.511611         0.046110      13.229888   \n",
            "min         1.000000      20.000000         0.000000       0.000000   \n",
            "25%     95278.000000      25.000000         1.000000      15.000000   \n",
            "50%    190555.000000      36.000000         1.000000      28.000000   \n",
            "75%    285832.000000      49.000000         1.000000      35.000000   \n",
            "max    381109.000000      85.000000         1.000000      52.000000   \n",
            "\n",
            "       Previously_Insured  Annual_Premium  Policy_Sales_Channel  \\\n",
            "count       381109.000000   381109.000000         381109.000000   \n",
            "mean             0.458210    30564.389581            112.034295   \n",
            "std              0.498251    17213.155057             54.203995   \n",
            "min              0.000000     2630.000000              1.000000   \n",
            "25%              0.000000    24405.000000             29.000000   \n",
            "50%              0.000000    31669.000000            133.000000   \n",
            "75%              1.000000    39400.000000            152.000000   \n",
            "max              1.000000   540165.000000            163.000000   \n",
            "\n",
            "             Vintage       Response  \n",
            "count  381109.000000  381109.000000  \n",
            "mean      154.347397       0.122563  \n",
            "std        83.671304       0.327936  \n",
            "min        10.000000       0.000000  \n",
            "25%        82.000000       0.000000  \n",
            "50%       154.000000       0.000000  \n",
            "75%       227.000000       0.000000  \n",
            "max       299.000000       1.000000  \n"
          ]
        }
      ]
    },
    {
      "cell_type": "code",
      "source": [],
      "metadata": {
        "id": "-zuUblBDK0Jf"
      },
      "execution_count": null,
      "outputs": []
    },
    {
      "cell_type": "code",
      "source": [],
      "metadata": {
        "id": "gC5GTbKQK0Ml"
      },
      "execution_count": null,
      "outputs": []
    },
    {
      "cell_type": "markdown",
      "source": [
        "## <span style=\"color:darkorange;\">**Step 3: Exploratory Data Analysis (EDA)**</span>\n",
        "\n",
        "### <span style=\"color:mediumslateblue;\">**Overview**</span>\n",
        "\n",
        "Exploratory Data Analysis (EDA) is a critical step in the data analysis process. It involves summarizing the main characteristics of the data, often using visual methods. EDA helps in understanding the data, uncovering patterns, spotting anomalies, and testing hypotheses.\n",
        "\n",
        "### <span style=\"color:mediumslateblue;\">**Key Tasks**</span>\n",
        "\n",
        "1. **Distribution Analysis**:\n",
        "   - **Purpose**: To understand the distribution of individual features.\n",
        "   - **Techniques**: Histograms, KDE plots, Box plots.\n",
        "   - **Example Usage**:\n",
        "     ```python\n",
        "     sns.histplot(train_data['Age'], bins=30, kde=True)\n",
        "     sns.boxplot(x='Age', data=train_data)\n",
        "     ```\n",
        "\n",
        "2. **Categorical Data Analysis**:\n",
        "   - **Purpose**: To analyze the frequency and distribution of categorical variables.\n",
        "   - **Techniques**: Count plots, Bar plots.\n",
        "   - **Example Usage**:\n",
        "     ```python\n",
        "     sns.countplot(x='Gender', data=train_data)\n",
        "     sns.barplot(x='Vehicle_Age', y='Annual_Premium', data=train_data)\n",
        "     ```\n",
        "\n",
        "3. **Correlation Analysis**:\n",
        "   - **Purpose**: To understand relationships between numerical variables.\n",
        "   - **Techniques**: Heatmaps, Pair plots.\n",
        "   - **Example Usage**:\n",
        "     ```python\n",
        "     sns.heatmap(train_data.corr(), annot=True, cmap='coolwarm')\n",
        "     sns.pairplot(train_data)\n",
        "     ```\n",
        "\n",
        "4. **Missing Values Analysis**:\n",
        "   - **Purpose**: To identify and analyze missing data.\n",
        "   - **Techniques**: Heatmaps, Bar plots.\n",
        "   - **Example Usage**:\n",
        "     ```python\n",
        "     sns.heatmap(train_data.isnull(), cbar=False)\n",
        "     train_data.isnull().sum().plot(kind='bar')\n",
        "     ```\n",
        "\n",
        "### <span style=\"color:mediumslateblue;\">**Notes**</span>\n",
        "\n",
        "- **Distribution Analysis**: Helps in understanding the spread and central tendency of the data.\n",
        "- **Categorical Data Analysis**: Provides insights into the distribution and frequency of categorical variables.\n",
        "- **Correlation Analysis**: Identifies relationships and dependencies between variables, which can be crucial for feature selection and engineering.\n",
        "- **Missing Values Analysis**: Detects missing values, which need to be handled appropriately to avoid biases in the analysis and modeling.\n",
        "\n",
        "### <span style=\"color:mediumslateblue;\">**Example Code**</span>\n",
        "\n",
        "```python\n",
        "import pandas as pd  # Import pandas library for data manipulation\n",
        "import matplotlib.pyplot as plt  # Import matplotlib for plotting\n",
        "import seaborn as sns  # Import seaborn for enhanced visualizations\n",
        "from matplotlib.backends.backend_pdf import PdfPages  # Import PdfPages for saving plots as PDF\n",
        "\n",
        "# Function to save plots as PDF\n",
        "def save_plot_to_pdf(plot, filename):\n",
        "    with PdfPages(filename) as pdf:  # Open PDF file for saving\n",
        "        pdf.savefig(plot)  # Save plot to PDF\n",
        "        plt.close()  # Close plot\n",
        "\n",
        "# Function to display head of DataFrame and save as CSV\n",
        "def display_head_and_save(df, filename):\n",
        "    print(f\"\\nHead of {filename}:\")  # Print header\n",
        "    print(df.head())  # Display head of DataFrame\n",
        "    df.to_csv(filename, index=False)  # Save DataFrame to CSV file\n",
        "\n",
        "# Distribution Analysis\n",
        "plt.figure(figsize=(8, 6))  # Set figure size\n",
        "sns.histplot(train_data['Age'], bins=30, kde=True, color='red')  # Plot distribution of 'Age'\n",
        "plt.title('Distribution of Age in Train Data')  # Set plot title\n",
        "plt.xlabel('Age')  # Set x-axis label\n",
        "plt.ylabel('Count')  # Set y-axis label\n",
        "age_distribution_plot = plt.gcf()  # Get current figure for saving\n",
        "\n",
        "plt.figure(figsize=(8, 6))  # Set figure size\n",
        "sns.boxplot(x='Age', data=train_data, color='purple')  # Plot boxplot of 'Age'\n",
        "plt.title('Boxplot of Age in Train Data')  # Set plot title\n",
        "plt.xlabel('Age')  # Set x-axis label\n",
        "plt.ylabel('Count')  # Set y-axis label\n",
        "age_boxplot = plt.gcf()  # Get current figure for saving\n",
        "\n",
        "# Categorical Data Analysis\n",
        "plt.figure(figsize=(8, 6))  # Set figure size\n",
        "sns.countplot(x='Gender', data=train_data, palette='viridis')  # Plot count of 'Gender'\n",
        "plt.title('Count of Gender in Train Data')  # Set plot title\n",
        "plt.xlabel('Gender')  # Set x-axis label\n",
        "plt.ylabel('Count')  # Set y-axis label\n",
        "gender_count_plot = plt.gcf()  # Get current figure for saving\n",
        "\n",
        "plt.figure(figsize=(8, 6))  # Set figure size\n",
        "sns.barplot(x='Vehicle_Age', y='Annual_Premium', data=train_data, palette='magma')  # Plot bar plot of 'Vehicle_Age' vs 'Annual_Premium'\n",
        "plt.title('Annual Premium by Vehicle Age in Train Data')  # Set plot title\n",
        "plt.xlabel('Vehicle Age')  # Set x-axis label\n",
        "plt.ylabel('Annual Premium')  # Set y-axis label\n",
        "vehicle_age_premium_plot = plt.gcf()  # Get current figure for saving\n",
        "\n",
        "# Correlation Analysis\n",
        "plt.figure(figsize=(10, 8))  # Set figure size\n",
        "sns.heatmap(train_data.corr(), annot=True, cmap='coolwarm')  # Plot heatmap of correlations\n",
        "plt.title('Correlation Matrix of Train Data')  # Set plot title\n",
        "correlation_heatmap = plt.gcf()  # Get current figure for saving\n",
        "\n",
        "sns.pairplot(train_data, hue='Gender', palette='bright')  # Plot pair plot\n",
        "plt.suptitle('Pair Plot of Train Data', y=1.02)  # Set plot title\n",
        "pairplot = plt.gcf()  # Get current figure for saving\n",
        "\n",
        "# Missing Values Analysis\n",
        "plt.figure(figsize=(10, 6))  # Set figure size\n",
        "sns.heatmap(train_data.isnull(), cbar=False, cmap='viridis')  # Plot heatmap of missing values\n",
        "plt.title('Missing Values Heatmap of Train Data')  # Set plot title\n",
        "missing_values_heatmap = plt.gcf()  # Get current figure for saving\n",
        "\n",
        "plt.figure(figsize=(10, 6))  # Set figure size\n",
        "train_data.isnull().sum().plot(kind='bar', color='crimson')  # Plot bar plot of missing values\n",
        "plt.title('Missing Values Count in Train Data')  # Set plot title\n",
        "plt.xlabel('Columns')  # Set x-axis label\n",
        "plt.ylabel('Missing Values Count')  # Set y-axis label\n",
        "missing_values_barplot = plt.gcf()  # Get current figure for saving\n",
        "\n",
        "# Save plots as PDFs\n",
        "save_plot_to_pdf(age_distribution_plot, 'age_distribution_plot.pdf')  # Save age distribution plot\n",
        "save_plot_to_pdf(age_boxplot, 'age_boxplot.pdf')  # Save age boxplot\n",
        "save_plot_to_pdf(gender_count_plot, 'gender_count_plot.pdf')  # Save gender count plot\n",
        "save_plot_to_pdf(vehicle_age_premium_plot, 'vehicle_age_premium_plot.pdf')  # Save vehicle age premium plot\n",
        "save_plot_to_pdf(correlation_heatmap, 'correlation_heatmap.pdf')  # Save correlation heatmap\n",
        "save_plot_to_pdf(pairplot, 'pairplot.pdf')  # Save pair plot\n",
        "save_plot_to_pdf(missing_values_heatmap, 'missing_values_heatmap.pdf')  # Save missing values heatmap\n",
        "save_plot_to_pdf(missing_values_barplot, 'missing_values_barplot.pdf')  # Save missing values bar plot\n",
        "\n",
        "# Display heads and save as CSV\n",
        "display_head_and_save(train_data, 'train_data.csv')  # Display and save train data\n",
        "display_head_and_save(test_data, 'test_data.csv')  # Display and save test data\n",
        "display_head_and_save(submission_data, 'submission_data.csv')  # Display and save submission data\n",
        "\n",
        "# Display all saved files head\n",
        "print(\"\\nHead of saved CSV files:\")  # Print header\n",
        "train_data_saved = pd.read_csv('train_data.csv')  # Read saved train data\n",
        "test_data_saved = pd.read_csv('test_data.csv')  # Read saved test data\n",
        "submission_data_saved = pd.read_csv('submission_data.csv')  # Read saved submission data\n",
        "\n",
        "print(train_data_saved.head())  # Print head of train data\n",
        "print(test_data_saved.head())  # Print head of test data\n",
        "print(submission_data_saved.head())  # Print head of submission data"
      ],
      "metadata": {
        "id": "Q8uYwXltMmS6"
      }
    },
    {
      "cell_type": "code",
      "source": [
        "# EDA"
      ],
      "metadata": {
        "id": "_MU_Drd_LEqn"
      },
      "execution_count": null,
      "outputs": []
    },
    {
      "cell_type": "code",
      "source": [
        "# Example: Distribution of Response in Train Data"
      ],
      "metadata": {
        "id": "sq3_luyEK0Pf"
      },
      "execution_count": null,
      "outputs": []
    },
    {
      "cell_type": "code",
      "source": [
        "sns.countplot(x='Response', data=train_data)  # Plot count of Response variable in train data\n",
        "plt.title('Distribution of Response')  # Set plot title\n",
        "plt.show()  # Display plot"
      ],
      "metadata": {
        "colab": {
          "base_uri": "https://localhost:8080/",
          "height": 472
        },
        "id": "C-TvHaHXLAdP",
        "outputId": "3359895a-3037-45fc-87a4-0aeeb92d27f6"
      },
      "execution_count": null,
      "outputs": [
        {
          "output_type": "display_data",
          "data": {
            "text/plain": [
              "<Figure size 640x480 with 1 Axes>"
            ],
            "image/png": "[encoded data removed]"
          },
          "metadata": {}
        }
      ]
    },
    {
      "cell_type": "code",
      "source": [],
      "metadata": {
        "id": "YVEYojj2LAgg"
      },
      "execution_count": null,
      "outputs": []
    },
    {
      "cell_type": "code",
      "source": [],
      "metadata": {
        "id": "IjQMRcULLAlX"
      },
      "execution_count": null,
      "outputs": []
    },
    {
      "cell_type": "code",
      "source": [
        "# Box Plot for Annual Premium by Response"
      ],
      "metadata": {
        "id": "2I5nFQ4CQWta"
      },
      "execution_count": null,
      "outputs": []
    },
    {
      "cell_type": "code",
      "source": [
        "plt.figure(figsize=(10, 6))  # Set figure size\n",
        "sns.boxplot(x='Response', y='Annual_Premium', data=train_data, palette='PuBu')  # Plot Annual Premium distribution by Response with purple-blue palette\n",
        "plt.title('Annual Premium Distribution by Response')  # Set plot title\n",
        "plt.xlabel('Response')  # Set x-axis label\n",
        "plt.ylabel('Annual Premium')  # Set y-axis label\n",
        "plt.show()  # Display plot"
      ],
      "metadata": {
        "colab": {
          "base_uri": "https://localhost:8080/",
          "height": 671
        },
        "id": "iwuvr2ZkQWwg",
        "outputId": "ad906816-d752-4891-8b2a-0866b6afe9be"
      },
      "execution_count": null,
      "outputs": [
        {
          "output_type": "stream",
          "name": "stderr",
          "text": [
            "<ipython-input-113-48d9ea4fbdb4>:2: FutureWarning: \n",
            "\n",
            "Passing `palette` without assigning `hue` is deprecated and will be removed in v0.14.0. Assign the `x` variable to `hue` and set `legend=False` for the same effect.\n",
            "\n",
            "  sns.boxplot(x='Response', y='Annual_Premium', data=train_data, palette='PuBu')  # Plot Annual Premium distribution by Response with purple-blue palette\n"
          ]
        },
        {
          "output_type": "display_data",
          "data": {
            "text/plain": [
              "<Figure size 1000x600 with 1 Axes>"
            ],
            "image/png": "[encoded data removed]"
          },
          "metadata": {}
        }
      ]
    },
    {
      "cell_type": "code",
      "source": [],
      "metadata": {
        "id": "PW3-4iizQW0E"
      },
      "execution_count": null,
      "outputs": []
    },
    {
      "cell_type": "code",
      "source": [],
      "metadata": {
        "id": "9DZbnqMHQh_h"
      },
      "execution_count": null,
      "outputs": []
    },
    {
      "cell_type": "code",
      "source": [
        "# Violin Plot for Age by Response"
      ],
      "metadata": {
        "id": "kcXUev4mQiEV"
      },
      "execution_count": null,
      "outputs": []
    },
    {
      "cell_type": "code",
      "source": [
        "plt.figure(figsize=(10, 6))  # Set figure size\n",
        "sns.violinplot(x='Response', y='Age', data=train_data, palette='RdPu')  # Plot Age distribution by Response with red-purple palette\n",
        "plt.title('Age Distribution by Response')  # Set plot title\n",
        "plt.xlabel('Response')  # Set x-axis label\n",
        "plt.ylabel('Age')  # Set y-axis label\n",
        "plt.show()  # Display plot"
      ],
      "metadata": {
        "colab": {
          "base_uri": "https://localhost:8080/",
          "height": 671
        },
        "id": "Eb9QcXD2QiIu",
        "outputId": "4f4762a5-395d-449c-b2cf-5c454fb6b9dc"
      },
      "execution_count": null,
      "outputs": [
        {
          "output_type": "stream",
          "name": "stderr",
          "text": [
            "<ipython-input-115-7e66564535f0>:2: FutureWarning: \n",
            "\n",
            "Passing `palette` without assigning `hue` is deprecated and will be removed in v0.14.0. Assign the `x` variable to `hue` and set `legend=False` for the same effect.\n",
            "\n",
            "  sns.violinplot(x='Response', y='Age', data=train_data, palette='RdPu')  # Plot Age distribution by Response with red-purple palette\n"
          ]
        },
        {
          "output_type": "display_data",
          "data": {
            "text/plain": [
              "<Figure size 1000x600 with 1 Axes>"
            ],
            "image/png": "[encoded data removed]"
          },
          "metadata": {}
        }
      ]
    },
    {
      "cell_type": "code",
      "source": [],
      "metadata": {
        "id": "wEEgXZVLQopx"
      },
      "execution_count": null,
      "outputs": []
    },
    {
      "cell_type": "code",
      "source": [],
      "metadata": {
        "id": "7GAbi3uZQvJi"
      },
      "execution_count": null,
      "outputs": []
    },
    {
      "cell_type": "code",
      "source": [
        "# Line Plot for Age vs. Annual Premium"
      ],
      "metadata": {
        "id": "y34oVU1jQvNZ"
      },
      "execution_count": null,
      "outputs": []
    },
    {
      "cell_type": "code",
      "source": [
        "plt.figure(figsize=(10, 6))  # Set figure size\n",
        "sns.lineplot(x='Age', y='Annual_Premium', data=train_data, ci=None, color='purple')  # Plot Age vs. Annual Premium with purple color\n",
        "plt.title('Age vs. Annual Premium')  # Set plot title\n",
        "plt.xlabel('Age')  # Set x-axis label\n",
        "plt.ylabel('Annual Premium')  # Set y-axis label\n",
        "plt.show()  # Display plot"
      ],
      "metadata": {
        "colab": {
          "base_uri": "https://localhost:8080/",
          "height": 671
        },
        "id": "_4KJEq7nQvTT",
        "outputId": "46dc8c84-7855-429c-c146-dded68758548"
      },
      "execution_count": null,
      "outputs": [
        {
          "output_type": "stream",
          "name": "stderr",
          "text": [
            "<ipython-input-119-fcc20e7242e7>:2: FutureWarning: \n",
            "\n",
            "The `ci` parameter is deprecated. Use `errorbar=None` for the same effect.\n",
            "\n",
            "  sns.lineplot(x='Age', y='Annual_Premium', data=train_data, ci=None, color='purple')  # Plot Age vs. Annual Premium with purple color\n"
          ]
        },
        {
          "output_type": "display_data",
          "data": {
            "text/plain": [
              "<Figure size 1000x600 with 1 Axes>"
            ],
            "image/png": "[encoded data removed]"
          },
          "metadata": {}
        }
      ]
    },
    {
      "cell_type": "code",
      "source": [],
      "metadata": {
        "id": "xvZzKD4CQ4bg"
      },
      "execution_count": null,
      "outputs": []
    },
    {
      "cell_type": "code",
      "source": [],
      "metadata": {
        "id": "aVwAuvTHQ4it"
      },
      "execution_count": null,
      "outputs": []
    },
    {
      "cell_type": "code",
      "source": [
        "# Line Plot for Vintage vs. Annual Premium"
      ],
      "metadata": {
        "id": "eO4hZxILQ8Pu"
      },
      "execution_count": null,
      "outputs": []
    },
    {
      "cell_type": "code",
      "source": [
        "plt.figure(figsize=(10, 6))  # Set figure size\n",
        "sns.lineplot(x='Vintage', y='Annual_Premium', data=train_data, ci=None, color='red')  # Plot Vintage vs. Annual Premium with red color\n",
        "plt.title('Vintage vs. Annual Premium')  # Set plot title\n",
        "plt.xlabel('Vintage')  # Set x-axis label\n",
        "plt.ylabel('Annual Premium')  # Set y-axis label\n",
        "plt.show()  # Display plot"
      ],
      "metadata": {
        "colab": {
          "base_uri": "https://localhost:8080/",
          "height": 671
        },
        "id": "htTPRwddQ8V0",
        "outputId": "9d763300-493a-4ffd-f59d-49bb3eb85c7d"
      },
      "execution_count": null,
      "outputs": [
        {
          "output_type": "stream",
          "name": "stderr",
          "text": [
            "<ipython-input-121-03b96985fbcb>:2: FutureWarning: \n",
            "\n",
            "The `ci` parameter is deprecated. Use `errorbar=None` for the same effect.\n",
            "\n",
            "  sns.lineplot(x='Vintage', y='Annual_Premium', data=train_data, ci=None, color='red')  # Plot Vintage vs. Annual Premium with red color\n"
          ]
        },
        {
          "output_type": "display_data",
          "data": {
            "text/plain": [
              "<Figure size 1000x600 with 1 Axes>"
            ],
            "image/png": "[encoded data removed]"
          },
          "metadata": {}
        }
      ]
    },
    {
      "cell_type": "code",
      "source": [],
      "metadata": {
        "id": "iTlj_gy0Q8Yz"
      },
      "execution_count": null,
      "outputs": []
    },
    {
      "cell_type": "code",
      "source": [],
      "metadata": {
        "id": "L11oVqnAQ4lo"
      },
      "execution_count": null,
      "outputs": []
    },
    {
      "cell_type": "code",
      "source": [
        "# Line Plot for Age vs. Vintage"
      ],
      "metadata": {
        "id": "nimexQAmQ4qO"
      },
      "execution_count": null,
      "outputs": []
    },
    {
      "cell_type": "code",
      "source": [
        "plt.figure(figsize=(10, 6))  # Set figure size\n",
        "sns.lineplot(x='Age', y='Vintage', data=train_data, ci=None, color='yellow')  # Plot Age vs. Vintage with blue color\n",
        "plt.title('Age vs. Vintage')  # Set plot title\n",
        "plt.xlabel('Age')  # Set x-axis label\n",
        "plt.ylabel('Vintage')  # Set y-axis label\n",
        "plt.show()  # Display plot"
      ],
      "metadata": {
        "colab": {
          "base_uri": "https://localhost:8080/",
          "height": 651
        },
        "id": "LyB2OOv3RD9d",
        "outputId": "5f7d4f5e-c154-444d-f7c2-50286572c1c7"
      },
      "execution_count": null,
      "outputs": [
        {
          "output_type": "stream",
          "name": "stderr",
          "text": [
            "<ipython-input-124-7ad8a0e54187>:2: FutureWarning: \n",
            "\n",
            "The `ci` parameter is deprecated. Use `errorbar=None` for the same effect.\n",
            "\n",
            "  sns.lineplot(x='Age', y='Vintage', data=train_data, ci=None, color='yellow')  # Plot Age vs. Vintage with blue color\n"
          ]
        },
        {
          "output_type": "display_data",
          "data": {
            "text/plain": [
              "<Figure size 1000x600 with 1 Axes>"
            ],
            "image/png": "[encoded data removed]"
          },
          "metadata": {}
        }
      ]
    },
    {
      "cell_type": "code",
      "source": [],
      "metadata": {
        "id": "lJjXJE17REEB"
      },
      "execution_count": null,
      "outputs": []
    },
    {
      "cell_type": "code",
      "source": [],
      "metadata": {
        "id": "tI4MvdDZREJ8"
      },
      "execution_count": null,
      "outputs": []
    },
    {
      "cell_type": "code",
      "source": [],
      "metadata": {
        "id": "fmRHZdh_NMWb"
      },
      "execution_count": null,
      "outputs": []
    },
    {
      "cell_type": "markdown",
      "source": [
        "## <span style=\"color:darkorange;\">**Step 4: Data Preprocessing**</span>\n",
        "\n",
        "### <span style=\"color:mediumslateblue;\">**Overview**</span>\n",
        "\n",
        "Data preprocessing involves preparing and cleaning the dataset to ensure that it is suitable for machine learning models. This step includes handling missing values, encoding categorical variables, scaling numerical features, and splitting the data into training and testing sets.\n",
        "\n",
        "### <span style=\"color:mediumslateblue;\">**Key Tasks**</span>\n",
        "\n",
        "1. **Handling Missing Values**:\n",
        "   - **Purpose**: To manage missing data which could bias the analysis and predictions.\n",
        "   - **Techniques**: Imputation, Removal.\n",
        "   - **Example Usage**:\n",
        "     ```python\n",
        "     from sklearn.impute import SimpleImputer\n",
        "     numeric_imputer = SimpleImputer(strategy='mean')  # Impute missing values in numerical columns with mean\n",
        "     categorical_imputer = SimpleImputer(strategy='most_frequent')  # Impute missing values in categorical columns with most frequent value\n",
        "     ```\n",
        "\n",
        "2. **Encoding Categorical Variables**:\n",
        "   - **Purpose**: To convert categorical variables into a numerical format that can be used by machine learning algorithms.\n",
        "   - **Techniques**: One-Hot Encoding, Label Encoding.\n",
        "   - **Example Usage**:\n",
        "     ```python\n",
        "     from sklearn.preprocessing import OneHotEncoder\n",
        "     onehot_encoder = OneHotEncoder(handle_unknown='ignore')  # Encode categorical variables\n",
        "     ```\n",
        "\n",
        "3. **Scaling Numerical Features**:\n",
        "   - **Purpose**: To standardize the range of numerical features so that each feature contributes equally to the analysis.\n",
        "   - **Techniques**: Standardization, Normalization.\n",
        "   - **Example Usage**:\n",
        "     ```python\n",
        "     from sklearn.preprocessing import StandardScaler\n",
        "     scaler = StandardScaler()  # Scale numerical features\n",
        "     ```\n",
        "\n",
        "4. **Splitting the Data**:\n",
        "   - **Purpose**: To divide the dataset into training and testing sets to evaluate model performance.\n",
        "   - **Techniques**: Train-Test Split.\n",
        "   - **Example Usage**:\n",
        "     ```python\n",
        "     from sklearn.model_selection import train_test_split\n",
        "     X_train, X_test, y_train, y_test = train_test_split(X, y, test_size=0.2, random_state=42)  # Split data into training and testing sets\n",
        "     ```\n",
        "\n",
        "### <span style=\"color:mediumslateblue;\">**Notes**</span>\n",
        "\n",
        "- **Handling Missing Values**: It is crucial to handle missing data appropriately to avoid skewing the analysis. Imputation is commonly used to replace missing values with statistical measures such as mean or median.\n",
        "- **Encoding Categorical Variables**: Machine learning algorithms require numerical input. Encoding transforms categorical variables into a numerical format, ensuring they are usable by the algorithms.\n",
        "- **Scaling Numerical Features**: Scaling ensures that features have a similar range, which helps in improving the performance of many machine learning algorithms, especially those that rely on distance metrics.\n",
        "- **Splitting the Data**: Splitting the data allows for unbiased evaluation of model performance. The training set is used to train the model, while the testing set is used to evaluate its performance.\n",
        "\n",
        "### <span style=\"color:mediumslateblue;\">**Example Code**</span>\n",
        "\n",
        "```python\n",
        "import pandas as pd  # Import pandas library for data manipulation\n",
        "from sklearn.model_selection import train_test_split  # Import train_test_split for data splitting\n",
        "from sklearn.preprocessing import StandardScaler, OneHotEncoder  # Import StandardScaler and OneHotEncoder for preprocessing\n",
        "from sklearn.compose import ColumnTransformer  # Import ColumnTransformer to apply preprocessing\n",
        "from sklearn.pipeline import Pipeline  # Import Pipeline to create preprocessing pipelines\n",
        "from sklearn.impute import SimpleImputer  # Import SimpleImputer for handling missing values\n",
        "\n",
        "# Separate features and target variable from train data\n",
        "X = train_data.drop(['Response'], axis=1)  # Drop target variable 'Response' to create feature set\n",
        "y = train_data['Response']  # Set target variable 'Response'\n",
        "\n",
        "# List of categorical and numerical columns\n",
        "categorical_cols = ['Gender', 'Vehicle_Age', 'Vehicle_Damage']  # List of categorical columns\n",
        "numerical_cols = ['Age', 'Region_Code', 'Annual_Premium', 'Policy_Sales_Channel', 'Vintage']  # List of numerical columns\n",
        "\n",
        "# Preprocessing steps\n",
        "numeric_transformer = Pipeline(steps=[\n",
        "    ('imputer', SimpleImputer(strategy='mean')),  # Impute missing values in numerical columns with mean\n",
        "    ('scaler', StandardScaler())  # Scale numerical features\n",
        "])\n",
        "\n",
        "categorical_transformer = Pipeline(steps=[\n",
        "    ('imputer', SimpleImputer(strategy='most_frequent')),  # Impute missing values in categorical columns with most frequent value\n",
        "    ('onehot', OneHotEncoder(handle_unknown='ignore'))  # Encode categorical variables\n",
        "])\n",
        "\n",
        "preprocessor = ColumnTransformer(\n",
        "    transformers=[\n",
        "        ('num', numeric_transformer, numerical_cols),  # Apply numeric transformations to numerical columns\n",
        "        ('cat', categorical_transformer, categorical_cols)  # Apply categorical transformations to categorical columns\n",
        "    ])\n",
        "\n",
        "# Apply preprocessing\n",
        "X_processed = preprocessor.fit_transform(X)  # Fit and transform the feature set\n",
        "\n",
        "# Split data into training and validation sets\n",
        "X_train, X_val, y_train, y_val = train_test_split(X_processed, y, test_size=0.2, random_state=42)  # Split data into training and validation sets"
      ],
      "metadata": {
        "id": "otudxzZ6NLH8"
      }
    },
    {
      "cell_type": "code",
      "source": [
        "# Handle missing values"
      ],
      "metadata": {
        "id": "1XHP3oelLAqN"
      },
      "execution_count": null,
      "outputs": []
    },
    {
      "cell_type": "code",
      "source": [
        "print(\"\\nTrain Data Missing Values:\")  # Print header\n",
        "print(train_data.isnull().sum())  # Display count of missing values in train data"
      ],
      "metadata": {
        "colab": {
          "base_uri": "https://localhost:8080/"
        },
        "id": "W_WibDAzLAtb",
        "outputId": "2a0019fe-9371-43ec-e1ae-13762931be16"
      },
      "execution_count": null,
      "outputs": [
        {
          "output_type": "stream",
          "name": "stdout",
          "text": [
            "\n",
            "Train Data Missing Values:\n",
            "id                      0\n",
            "Gender                  0\n",
            "Age                     0\n",
            "Driving_License         0\n",
            "Region_Code             0\n",
            "Previously_Insured      0\n",
            "Vehicle_Age             0\n",
            "Vehicle_Damage          0\n",
            "Annual_Premium          0\n",
            "Policy_Sales_Channel    0\n",
            "Vintage                 0\n",
            "Response                0\n",
            "dtype: int64\n"
          ]
        }
      ]
    },
    {
      "cell_type": "code",
      "source": [],
      "metadata": {
        "id": "EEm6YWOSLAv5"
      },
      "execution_count": null,
      "outputs": []
    },
    {
      "cell_type": "code",
      "source": [
        "print(\"\\nTest Data Missing Values:\")  # Print header\n",
        "print(test_data.isnull().sum())  # Display count of missing values in test data"
      ],
      "metadata": {
        "colab": {
          "base_uri": "https://localhost:8080/"
        },
        "id": "mxnilGkRLAyi",
        "outputId": "e9355566-ab9e-4fa4-e31a-f12e13720bbe"
      },
      "execution_count": null,
      "outputs": [
        {
          "output_type": "stream",
          "name": "stdout",
          "text": [
            "\n",
            "Test Data Missing Values:\n",
            "id                      0\n",
            "Gender                  0\n",
            "Age                     0\n",
            "Driving_License         0\n",
            "Region_Code             0\n",
            "Previously_Insured      0\n",
            "Vehicle_Age             0\n",
            "Vehicle_Damage          0\n",
            "Annual_Premium          0\n",
            "Policy_Sales_Channel    0\n",
            "Vintage                 0\n",
            "dtype: int64\n"
          ]
        }
      ]
    },
    {
      "cell_type": "code",
      "source": [],
      "metadata": {
        "id": "u-IjnXvRLX7x"
      },
      "execution_count": null,
      "outputs": []
    },
    {
      "cell_type": "code",
      "source": [
        "# Assuming you've handled missing values as per previous discussion"
      ],
      "metadata": {
        "id": "FXxmpiFJLX_n"
      },
      "execution_count": null,
      "outputs": []
    },
    {
      "cell_type": "code",
      "source": [],
      "metadata": {
        "id": "uhQvFLjCLYCy"
      },
      "execution_count": null,
      "outputs": []
    },
    {
      "cell_type": "code",
      "source": [
        "# Separate features and target variable from train data"
      ],
      "metadata": {
        "id": "ptdoZ3lqLYFb"
      },
      "execution_count": null,
      "outputs": []
    },
    {
      "cell_type": "code",
      "source": [
        "X = train_data.drop(['Response'], axis=1)  # Features: all columns except 'Response'"
      ],
      "metadata": {
        "id": "yqSpaeIVLYKz"
      },
      "execution_count": null,
      "outputs": []
    },
    {
      "cell_type": "code",
      "source": [
        "y = train_data['Response']  # Target variable: 'Response' column"
      ],
      "metadata": {
        "id": "P2YgXMWNLYOi"
      },
      "execution_count": null,
      "outputs": []
    },
    {
      "cell_type": "code",
      "source": [],
      "metadata": {
        "id": "QHY53YcMLYR0"
      },
      "execution_count": null,
      "outputs": []
    },
    {
      "cell_type": "code",
      "source": [
        "# List of categorical and numerical columns"
      ],
      "metadata": {
        "id": "6yBmu0x6LiXc"
      },
      "execution_count": null,
      "outputs": []
    },
    {
      "cell_type": "code",
      "source": [
        "categorical_cols = ['Gender', 'Vehicle_Age', 'Vehicle_Damage']  # Categorical columns"
      ],
      "metadata": {
        "id": "95p8LVzQLiaN"
      },
      "execution_count": null,
      "outputs": []
    },
    {
      "cell_type": "code",
      "source": [
        "numerical_cols = ['Age', 'Region_Code', 'Annual_Premium', 'Policy_Sales_Channel', 'Vintage']  # Numerical columns"
      ],
      "metadata": {
        "id": "M7JZIuMLLidF"
      },
      "execution_count": null,
      "outputs": []
    },
    {
      "cell_type": "code",
      "source": [],
      "metadata": {
        "id": "LcJRVNbJLihw"
      },
      "execution_count": null,
      "outputs": []
    },
    {
      "cell_type": "code",
      "source": [],
      "metadata": {
        "id": "OpyPmyPeLxIQ"
      },
      "execution_count": null,
      "outputs": []
    },
    {
      "cell_type": "code",
      "source": [
        "# Preprocessing steps"
      ],
      "metadata": {
        "id": "AOFRwPjkLimc"
      },
      "execution_count": null,
      "outputs": []
    },
    {
      "cell_type": "code",
      "source": [
        "numeric_transformer = Pipeline(steps=[  # Define numeric transformer pipeline\n",
        "    ('imputer', SimpleImputer(strategy='mean')),  # Impute missing values with mean\n",
        "    ('scaler', StandardScaler())  # Scale numerical features\n",
        "])"
      ],
      "metadata": {
        "id": "Y4bUEvQwLipk"
      },
      "execution_count": null,
      "outputs": []
    },
    {
      "cell_type": "code",
      "source": [],
      "metadata": {
        "id": "Yd1zfyeiLiss"
      },
      "execution_count": null,
      "outputs": []
    },
    {
      "cell_type": "code",
      "source": [
        "categorical_transformer = Pipeline(steps=[  # Define categorical transformer pipeline\n",
        "    ('imputer', SimpleImputer(strategy='most_frequent')),  # Impute missing values with most frequent value\n",
        "    ('onehot', OneHotEncoder(handle_unknown='ignore'))  # One-hot encode categorical features\n",
        "])"
      ],
      "metadata": {
        "id": "CSRd3GIbLyWA"
      },
      "execution_count": null,
      "outputs": []
    },
    {
      "cell_type": "code",
      "source": [],
      "metadata": {
        "id": "85M-WF0tLyZo"
      },
      "execution_count": null,
      "outputs": []
    },
    {
      "cell_type": "code",
      "source": [
        "preprocessor = ColumnTransformer(  # Combine transformers into ColumnTransformer\n",
        "    transformers=[  # List of transformer tuples\n",
        "        ('num', numeric_transformer, numerical_cols),  # Apply numeric transformer to numerical columns\n",
        "        ('cat', categorical_transformer, categorical_cols)  # Apply categorical transformer to categorical columns\n",
        "    ])"
      ],
      "metadata": {
        "id": "3HOUiBKYLyjA"
      },
      "execution_count": null,
      "outputs": []
    },
    {
      "cell_type": "code",
      "source": [],
      "metadata": {
        "id": "5ay8xKcnLymY"
      },
      "execution_count": null,
      "outputs": []
    },
    {
      "cell_type": "code",
      "source": [
        "# Apply preprocessing"
      ],
      "metadata": {
        "id": "PkpBzsgNLypg"
      },
      "execution_count": null,
      "outputs": []
    },
    {
      "cell_type": "code",
      "source": [
        "X_processed = preprocessor.fit_transform(X)  # Fit and transform X features"
      ],
      "metadata": {
        "id": "KIayRt4VL7qQ"
      },
      "execution_count": null,
      "outputs": []
    },
    {
      "cell_type": "code",
      "source": [],
      "metadata": {
        "id": "joyf92sOL7t9"
      },
      "execution_count": null,
      "outputs": []
    },
    {
      "cell_type": "code",
      "source": [
        "# Split data into training and validation sets"
      ],
      "metadata": {
        "id": "ZlfcX3lLL7w6"
      },
      "execution_count": null,
      "outputs": []
    },
    {
      "cell_type": "code",
      "source": [
        "X_train, X_val, y_train, y_val = train_test_split(X_processed, y, test_size=0.2, random_state=42)  # Split data"
      ],
      "metadata": {
        "id": "JO874l0zL7z8"
      },
      "execution_count": null,
      "outputs": []
    },
    {
      "cell_type": "code",
      "source": [],
      "metadata": {
        "id": "sQpSTY6aL73S"
      },
      "execution_count": null,
      "outputs": []
    },
    {
      "cell_type": "code",
      "source": [],
      "metadata": {
        "id": "d-xL2fybNsXr"
      },
      "execution_count": null,
      "outputs": []
    },
    {
      "cell_type": "markdown",
      "source": [
        "## <span style=\"color:darkorange;\">**Step 5: Model Training and Evaluation**</span>\n",
        "\n",
        "### <span style=\"color:mediumslateblue;\">**Overview**</span>\n",
        "\n",
        "Model training and evaluation involve selecting an appropriate machine learning algorithm, training the model on the training data, and evaluating its performance on the validation data. This step ensures that the model is accurately learning from the data and can generalize well to new, unseen data.\n",
        "\n",
        "### <span style=\"color:mediumslateblue;\">**Key Tasks**</span>\n",
        "\n",
        "1. **Selecting a Model**:\n",
        "   - **Purpose**: To choose a suitable machine learning algorithm for the given problem.\n",
        "   - **Techniques**: Classification algorithms (e.g., Random Forest, Logistic Regression), Regression algorithms (e.g., Linear Regression, Ridge Regression).\n",
        "   - **Example**: Random Forest Classifier for classification problems.\n",
        "\n",
        "2. **Training the Model**:\n",
        "   - **Purpose**: To fit the chosen algorithm to the training data, allowing it to learn patterns and relationships.\n",
        "   - **Example Usage**:\n",
        "     ```python\n",
        "     from sklearn.ensemble import RandomForestClassifier\n",
        "     model = RandomForestClassifier(random_state=42)  # Initialize Random Forest model\n",
        "     model.fit(X_train, y_train)  # Train the model on the training data\n",
        "     ```\n",
        "\n",
        "3. **Evaluating the Model**:\n",
        "   - **Purpose**: To assess the performance of the trained model using validation data.\n",
        "   - **Metrics**: Accuracy, Precision, Recall, F1-Score, Confusion Matrix.\n",
        "   - **Example Usage**:\n",
        "     ```python\n",
        "     from sklearn.metrics import accuracy_score, classification_report, confusion_matrix\n",
        "     y_pred = model.predict(X_val)  # Predict on validation data\n",
        "     accuracy = accuracy_score(y_val, y_pred)  # Calculate accuracy\n",
        "     print(f\"Accuracy: {accuracy}\")\n",
        "     print(\"Classification Report:\\n\", classification_report(y_val, y_pred))  # Print classification report\n",
        "     print(\"Confusion Matrix:\\n\", confusion_matrix(y_val, y_pred))  # Print confusion matrix\n",
        "     ```\n",
        "\n",
        "### <span style=\"color:mediumslateblue;\">**Notes**</span>\n",
        "\n",
        "- **Selecting a Model**: The choice of model depends on the problem type (classification, regression) and the nature of the data. Experimentation with different algorithms can help in identifying the best model.\n",
        "- **Training the Model**: During training, the model learns from the data by minimizing a loss function. It's crucial to monitor for overfitting, where the model performs well on training data but poorly on validation data.\n",
        "- **Evaluating the Model**: Evaluation metrics provide insights into the model's performance. Accuracy gives an overall measure, while precision, recall, and F1-score provide more detailed insights, especially in imbalanced datasets. The confusion matrix helps visualize the model's performance across different classes.\n",
        "\n",
        "### <span style=\"color:mediumslateblue;\">**Example Code**</span>\n",
        "\n",
        "```python\n",
        "from sklearn.ensemble import RandomForestClassifier  # Import Random Forest Classifier\n",
        "from sklearn.metrics import accuracy_score, classification_report, confusion_matrix  # Import evaluation metrics\n",
        "\n",
        "# Initialize model (example: Random Forest Classifier)\n",
        "model = RandomForestClassifier(random_state=42)  # Initialize Random Forest model with random state for reproducibility\n",
        "\n",
        "# Train the model\n",
        "model.fit(X_train, y_train)  # Fit the model to the training data\n",
        "\n",
        "# Predict on validation set\n",
        "y_pred = model.predict(X_val)  # Make predictions on the validation data\n",
        "\n",
        "# Evaluate the model\n",
        "accuracy = accuracy_score(y_val, y_pred)  # Calculate accuracy\n",
        "print(f\"\\nAccuracy: {accuracy}\")  # Print accuracy\n",
        "\n",
        "# Classification report\n",
        "print(\"\\nClassification Report:\")\n",
        "print(classification_report(y_val, y_pred))  # Print detailed classification report\n",
        "\n",
        "# Confusion matrix\n",
        "print(\"\\nConfusion Matrix:\")\n",
        "print(confusion_matrix(y_val, y_pred))  # Print confusion matrix to show true vs. predicted values"
      ],
      "metadata": {
        "id": "BBTcANovNswC"
      }
    },
    {
      "cell_type": "code",
      "source": [
        "# Initialize model (example: Random Forest Classifier)"
      ],
      "metadata": {
        "id": "hAUjl9gHL76L"
      },
      "execution_count": null,
      "outputs": []
    },
    {
      "cell_type": "code",
      "source": [
        "model = RandomForestClassifier(random_state=42)  # Initialize RandomForestClassifier"
      ],
      "metadata": {
        "id": "juD0EUm4MGd5"
      },
      "execution_count": null,
      "outputs": []
    },
    {
      "cell_type": "code",
      "source": [],
      "metadata": {
        "id": "Yt3zgfi5MGhC"
      },
      "execution_count": null,
      "outputs": []
    },
    {
      "cell_type": "code",
      "source": [
        "# Train the model"
      ],
      "metadata": {
        "id": "dTOzR2BOMGjc"
      },
      "execution_count": null,
      "outputs": []
    },
    {
      "cell_type": "code",
      "source": [
        "model.fit(X_train, y_train)  # Fit model on training data"
      ],
      "metadata": {
        "colab": {
          "base_uri": "https://localhost:8080/",
          "height": 75
        },
        "id": "v9PnDXRdMGmF",
        "outputId": "40552173-28d9-4a15-de82-e97e48c14bbe"
      },
      "execution_count": null,
      "outputs": [
        {
          "output_type": "execute_result",
          "data": {
            "text/plain": [
              "RandomForestClassifier(random_state=42)"
            ],
            "text/html": [
              "<style>#sk-container-id-2 {color: black;background-color: white;}#sk-container-id-2 pre{padding: 0;}#sk-container-id-2 div.sk-toggleable {background-color: white;}#sk-container-id-2 label.sk-toggleable__label {cursor: pointer;display: block;width: 100%;margin-bottom: 0;padding: 0.3em;box-sizing: border-box;text-align: center;}#sk-container-id-2 label.sk-toggleable__label-arrow:before {content: \"▸\";float: left;margin-right: 0.25em;color: #696969;}#sk-container-id-2 label.sk-toggleable__label-arrow:hover:before {color: black;}#sk-container-id-2 div.sk-estimator:hover label.sk-toggleable__label-arrow:before {color: black;}#sk-container-id-2 div.sk-toggleable__content {max-height: 0;max-width: 0;overflow: hidden;text-align: left;background-color: #f0f8ff;}#sk-container-id-2 div.sk-toggleable__content pre {margin: 0.2em;color: black;border-radius: 0.25em;background-color: #f0f8ff;}#sk-container-id-2 input.sk-toggleable__control:checked~div.sk-toggleable__content {max-height: 200px;max-width: 100%;overflow: auto;}#sk-container-id-2 input.sk-toggleable__control:checked~label.sk-toggleable__label-arrow:before {content: \"▾\";}#sk-container-id-2 div.sk-estimator input.sk-toggleable__control:checked~label.sk-toggleable__label {background-color: #d4ebff;}#sk-container-id-2 div.sk-label input.sk-toggleable__control:checked~label.sk-toggleable__label {background-color: #d4ebff;}#sk-container-id-2 input.sk-hidden--visually {border: 0;clip: rect(1px 1px 1px 1px);clip: rect(1px, 1px, 1px, 1px);height: 1px;margin: -1px;overflow: hidden;padding: 0;position: absolute;width: 1px;}#sk-container-id-2 div.sk-estimator {font-family: monospace;background-color: #f0f8ff;border: 1px dotted black;border-radius: 0.25em;box-sizing: border-box;margin-bottom: 0.5em;}#sk-container-id-2 div.sk-estimator:hover {background-color: #d4ebff;}#sk-container-id-2 div.sk-parallel-item::after {content: \"\";width: 100%;border-bottom: 1px solid gray;flex-grow: 1;}#sk-container-id-2 div.sk-label:hover label.sk-toggleable__label {background-color: #d4ebff;}#sk-container-id-2 div.sk-serial::before {content: \"\";position: absolute;border-left: 1px solid gray;box-sizing: border-box;top: 0;bottom: 0;left: 50%;z-index: 0;}#sk-container-id-2 div.sk-serial {display: flex;flex-direction: column;align-items: center;background-color: white;padding-right: 0.2em;padding-left: 0.2em;position: relative;}#sk-container-id-2 div.sk-item {position: relative;z-index: 1;}#sk-container-id-2 div.sk-parallel {display: flex;align-items: stretch;justify-content: center;background-color: white;position: relative;}#sk-container-id-2 div.sk-item::before, #sk-container-id-2 div.sk-parallel-item::before {content: \"\";position: absolute;border-left: 1px solid gray;box-sizing: border-box;top: 0;bottom: 0;left: 50%;z-index: -1;}#sk-container-id-2 div.sk-parallel-item {display: flex;flex-direction: column;z-index: 1;position: relative;background-color: white;}#sk-container-id-2 div.sk-parallel-item:first-child::after {align-self: flex-end;width: 50%;}#sk-container-id-2 div.sk-parallel-item:last-child::after {align-self: flex-start;width: 50%;}#sk-container-id-2 div.sk-parallel-item:only-child::after {width: 0;}#sk-container-id-2 div.sk-dashed-wrapped {border: 1px dashed gray;margin: 0 0.4em 0.5em 0.4em;box-sizing: border-box;padding-bottom: 0.4em;background-color: white;}#sk-container-id-2 div.sk-label label {font-family: monospace;font-weight: bold;display: inline-block;line-height: 1.2em;}#sk-container-id-2 div.sk-label-container {text-align: center;}#sk-container-id-2 div.sk-container {/* jupyter's `normalize.less` sets `[hidden] { display: none; }` but bootstrap.min.css set `[hidden] { display: none !important; }` so we also need the `!important` here to be able to override the default hidden behavior on the sphinx rendered scikit-learn.org. See: https://github.com/scikit-learn/scikit-learn/issues/21755 */display: inline-block !important;position: relative;}#sk-container-id-2 div.sk-text-repr-fallback {display: none;}</style><div id=\"sk-container-id-2\" class=\"sk-top-container\"><div class=\"sk-text-repr-fallback\"><pre>RandomForestClassifier(random_state=42)</pre><b>In a Jupyter environment, please rerun this cell to show the HTML representation or trust the notebook. <br />On GitHub, the HTML representation is unable to render, please try loading this page with nbviewer.org.</b></div><div class=\"sk-container\" hidden><div class=\"sk-item\"><div class=\"sk-estimator sk-toggleable\"><input class=\"sk-toggleable__control sk-hidden--visually\" id=\"sk-estimator-id-2\" type=\"checkbox\" checked><label for=\"sk-estimator-id-2\" class=\"sk-toggleable__label sk-toggleable__label-arrow\">RandomForestClassifier</label><div class=\"sk-toggleable__content\"><pre>RandomForestClassifier(random_state=42)</pre></div></div></div></div></div>"
            ]
          },
          "metadata": {},
          "execution_count": 67
        }
      ]
    },
    {
      "cell_type": "code",
      "source": [],
      "metadata": {
        "id": "mzV7P68qMGpV"
      },
      "execution_count": null,
      "outputs": []
    },
    {
      "cell_type": "code",
      "source": [
        "# Predict on validation set"
      ],
      "metadata": {
        "id": "4I606hjLMGxa"
      },
      "execution_count": null,
      "outputs": []
    },
    {
      "cell_type": "code",
      "source": [
        "y_pred = model.predict(X_val)  # Predict on validation set"
      ],
      "metadata": {
        "id": "XcHoQfdVMQFH"
      },
      "execution_count": null,
      "outputs": []
    },
    {
      "cell_type": "code",
      "source": [],
      "metadata": {
        "id": "zoZ0v06SMQLG"
      },
      "execution_count": null,
      "outputs": []
    },
    {
      "cell_type": "code",
      "source": [
        "# Evaluate the model"
      ],
      "metadata": {
        "id": "sla-3z7oMQQx"
      },
      "execution_count": null,
      "outputs": []
    },
    {
      "cell_type": "code",
      "source": [
        "accuracy = accuracy_score(y_val, y_pred)  # Calculate accuracy score"
      ],
      "metadata": {
        "id": "Q94rAdWRMQWw"
      },
      "execution_count": null,
      "outputs": []
    },
    {
      "cell_type": "code",
      "source": [
        "print(\"\\nAccuracy:\", accuracy)  # Print accuracy score"
      ],
      "metadata": {
        "colab": {
          "base_uri": "https://localhost:8080/"
        },
        "id": "LifIY9etMrQr",
        "outputId": "9254658d-f4f0-4a56-cac6-c3845b83fbd3"
      },
      "execution_count": null,
      "outputs": [
        {
          "output_type": "stream",
          "name": "stdout",
          "text": [
            "\n",
            "Accuracy: 0.8654981501403795\n"
          ]
        }
      ]
    },
    {
      "cell_type": "code",
      "source": [],
      "metadata": {
        "id": "EQpack0qMrXt"
      },
      "execution_count": null,
      "outputs": []
    },
    {
      "cell_type": "code",
      "source": [
        "# Classification report"
      ],
      "metadata": {
        "id": "emJqpmY9Mrau"
      },
      "execution_count": null,
      "outputs": []
    },
    {
      "cell_type": "code",
      "source": [
        "print(\"\\nClassification Report:\")  # Print header\n",
        "print(classification_report(y_val, y_pred))  # Print classification report"
      ],
      "metadata": {
        "colab": {
          "base_uri": "https://localhost:8080/"
        },
        "id": "kdiO18GbMrd-",
        "outputId": "fd51c925-3658-4389-a087-846aae12796f"
      },
      "execution_count": null,
      "outputs": [
        {
          "output_type": "stream",
          "name": "stdout",
          "text": [
            "\n",
            "Classification Report:\n",
            "              precision    recall  f1-score   support\n",
            "\n",
            "           0       0.88      0.97      0.93     66699\n",
            "           1       0.37      0.11      0.17      9523\n",
            "\n",
            "    accuracy                           0.87     76222\n",
            "   macro avg       0.63      0.54      0.55     76222\n",
            "weighted avg       0.82      0.87      0.83     76222\n",
            "\n"
          ]
        }
      ]
    },
    {
      "cell_type": "code",
      "source": [],
      "metadata": {
        "id": "2b1vvQPDMrgb"
      },
      "execution_count": null,
      "outputs": []
    },
    {
      "cell_type": "code",
      "source": [],
      "metadata": {
        "id": "CO10N5iEM3Bn"
      },
      "execution_count": null,
      "outputs": []
    },
    {
      "cell_type": "code",
      "source": [
        "# Confusion matrix"
      ],
      "metadata": {
        "id": "AjlNPmk6M3Ee"
      },
      "execution_count": null,
      "outputs": []
    },
    {
      "cell_type": "code",
      "source": [
        "print(\"\\nConfusion Matrix:\")  # Print header\n",
        "print(confusion_matrix(y_val, y_pred))  # Print confusion matrix"
      ],
      "metadata": {
        "colab": {
          "base_uri": "https://localhost:8080/"
        },
        "id": "gmIQhnZwM3Ha",
        "outputId": "607c33b5-1108-4ac9-f6ca-c5727593a130"
      },
      "execution_count": null,
      "outputs": [
        {
          "output_type": "stream",
          "name": "stdout",
          "text": [
            "\n",
            "Confusion Matrix:\n",
            "[[64896  1803]\n",
            " [ 8449  1074]]\n"
          ]
        }
      ]
    },
    {
      "cell_type": "code",
      "source": [],
      "metadata": {
        "id": "no9x45c0M3J6"
      },
      "execution_count": null,
      "outputs": []
    },
    {
      "cell_type": "code",
      "source": [],
      "metadata": {
        "id": "A_Jo9JpGM3M2"
      },
      "execution_count": null,
      "outputs": []
    },
    {
      "cell_type": "markdown",
      "source": [
        "## <span style=\"color:darkorange;\">**Step 6: Making Predictions and Preparing Submission**</span>\n",
        "\n",
        "### <span style=\"color:mediumslateblue;\">**Overview**</span>\n",
        "\n",
        "In this step, we use the trained machine learning model to make predictions on the test data. The predictions are then formatted according to the submission requirements of the competition or project and saved as a submission file.\n",
        "\n",
        "### <span style=\"color:mediumslateblue;\">**Key Tasks**</span>\n",
        "\n",
        "1. **Processing Test Data**:\n",
        "   - **Purpose**: To ensure the test data is prepared in the same way as the training data, using the same preprocessing steps.\n",
        "   - **Techniques**: Applying the same transformations (e.g., scaling, encoding) used during training data preprocessing.\n",
        "\n",
        "2. **Making Predictions**:\n",
        "   - **Purpose**: To generate predictions on the test data using the trained model.\n",
        "   - **Example Usage**:\n",
        "     ```python\n",
        "     X_test = preprocessor.transform(test_data)  # Apply the same preprocessing to the test data\n",
        "     test_predictions = model.predict(X_test)  # Make predictions on the test data\n",
        "     ```\n",
        "\n",
        "3. **Preparing the Submission File**:\n",
        "   - **Purpose**: To format the predictions into the required submission format and save them.\n",
        "   - **Example Usage**:\n",
        "     ```python\n",
        "     submission_data['Response'] = test_predictions  # Add predictions to the submission dataframe\n",
        "     submission_data.to_csv('/content/submission.csv', index=False)  # Save the submission file as CSV\n",
        "     print(\"\\nSubmission file saved successfully.\")  # Confirm the file has been saved\n",
        "     ```\n",
        "\n",
        "### <span style=\"color:mediumslateblue;\">**Notes**</span>\n",
        "\n",
        "- **Processing Test Data**: It's crucial to apply the same preprocessing steps to the test data as were applied to the training data to ensure consistency. This includes scaling, encoding, and handling missing values.\n",
        "- **Making Predictions**: The trained model is used to generate predictions on the test data. These predictions should be checked for consistency and correctness.\n",
        "- **Preparing the Submission File**: The format of the submission file should adhere to the requirements specified by the competition or project guidelines. Typically, this involves creating a CSV file with a specific structure.\n",
        "\n",
        "### <span style=\"color:mediumslateblue;\">**Example Code**</span>\n",
        "\n",
        "```python\n",
        "# Process test data using the same preprocessing pipeline\n",
        "X_test = preprocessor.transform(test_data)  # Apply preprocessing to test data\n",
        "\n",
        "# Make predictions on test data\n",
        "test_predictions = model.predict(X_test)  # Generate predictions for the test data\n",
        "\n",
        "# Prepare submission file\n",
        "submission_data['Response'] = test_predictions  # Add predictions to the submission dataframe\n",
        "\n",
        "# Save submission file\n",
        "submission_data.to_csv('/content/submission.csv', index=False)  # Save the submission file as CSV\n",
        "print(\"\\nSubmission file saved successfully.\")  # Confirm the file has been saved"
      ],
      "metadata": {
        "id": "bKvEnfWaOEa4"
      }
    },
    {
      "cell_type": "code",
      "source": [
        "# Predict on test set"
      ],
      "metadata": {
        "id": "IiKvrER8M3Pj"
      },
      "execution_count": null,
      "outputs": []
    },
    {
      "cell_type": "code",
      "source": [
        "X_test = preprocessor.transform(test_data)  # Transform test data"
      ],
      "metadata": {
        "id": "W8NreKhiNGBA"
      },
      "execution_count": null,
      "outputs": []
    },
    {
      "cell_type": "code",
      "source": [
        "test_predictions = model.predict(X_test)  # Predict on test data"
      ],
      "metadata": {
        "id": "SW4mAv47NGEC"
      },
      "execution_count": null,
      "outputs": []
    },
    {
      "cell_type": "code",
      "source": [],
      "metadata": {
        "id": "DBuSiEWRNGG6"
      },
      "execution_count": null,
      "outputs": []
    },
    {
      "cell_type": "code",
      "source": [
        "# Prepare submission file"
      ],
      "metadata": {
        "id": "-5ayL6_dNGKx"
      },
      "execution_count": null,
      "outputs": []
    },
    {
      "cell_type": "code",
      "source": [
        "submission_data['Response'] = test_predictions  # Update submission data with predictions"
      ],
      "metadata": {
        "id": "xPIfrlAhNGMs"
      },
      "execution_count": null,
      "outputs": []
    },
    {
      "cell_type": "code",
      "source": [],
      "metadata": {
        "id": "pvZvaENrNGOU"
      },
      "execution_count": null,
      "outputs": []
    },
    {
      "cell_type": "code",
      "source": [
        "# Save submission file"
      ],
      "metadata": {
        "id": "P4c2PaIKNGQP"
      },
      "execution_count": null,
      "outputs": []
    },
    {
      "cell_type": "code",
      "source": [
        "submission_data.to_csv('/content/submission.csv', index=False)  # Save submission data to CSV file"
      ],
      "metadata": {
        "id": "dzJRzF2WNGSz"
      },
      "execution_count": null,
      "outputs": []
    },
    {
      "cell_type": "code",
      "source": [
        "print(\"\\nSubmission file saved successfully.\")  # Print success message"
      ],
      "metadata": {
        "colab": {
          "base_uri": "https://localhost:8080/"
        },
        "id": "L0P1ze4CNGUq",
        "outputId": "3fee4b5d-4c83-4371-d01a-6ea0b5c26542"
      },
      "execution_count": null,
      "outputs": [
        {
          "output_type": "stream",
          "name": "stdout",
          "text": [
            "\n",
            "Submission file saved successfully.\n"
          ]
        }
      ]
    },
    {
      "cell_type": "code",
      "source": [],
      "metadata": {
        "id": "nJO3SpNmNZdR"
      },
      "execution_count": null,
      "outputs": []
    },
    {
      "cell_type": "code",
      "source": [],
      "metadata": {
        "id": "JULBkPOBNZgw"
      },
      "execution_count": null,
      "outputs": []
    },
    {
      "cell_type": "markdown",
      "source": [
        "## <span style=\"color:darkorange;\">**Step 7: Evaluating Model Performance**</span>\n",
        "\n",
        "### <span style=\"color:mediumslateblue;\">**Overview**</span>\n",
        "\n",
        "In this step, we assess how well our machine learning model performs using various evaluation metrics and visualizations. This evaluation phase is critical for understanding the strengths and weaknesses of the model.\n",
        "\n",
        "### <span style=\"color:mediumslateblue;\">**Key Tasks**</span>\n",
        "\n",
        "1. **Metrics Calculation**:\n",
        "   - **Purpose**: To quantify the model's predictive performance against actual outcomes.\n",
        "   - **Metrics Used**: Common metrics include accuracy, precision, recall, F1-score, and ROC-AUC.\n",
        "   - **Example Usage**:\n",
        "     ```python\n",
        "     from sklearn.metrics import accuracy_score, classification_report, confusion_matrix\n",
        "\n",
        "     # Calculate accuracy\n",
        "     accuracy = accuracy_score(y_val, y_pred)\n",
        "     print(\"\\nAccuracy:\", accuracy)\n",
        "\n",
        "     # Generate classification report\n",
        "     print(\"\\nClassification Report:\")\n",
        "     print(classification_report(y_val, y_pred))\n",
        "\n",
        "     # Display confusion matrix\n",
        "     print(\"\\nConfusion Matrix:\")\n",
        "     print(confusion_matrix(y_val, y_pred))\n",
        "     ```\n",
        "\n",
        "2. **Visualization**:\n",
        "   - **Purpose**: To visualize and interpret the model's performance through graphical representations.\n",
        "   - **Techniques**: Utilize Matplotlib and Seaborn for creating ROC curves, precision-recall curves, and confusion matrices.\n",
        "   - **Example Usage**:\n",
        "     ```python\n",
        "     import matplotlib.pyplot as plt\n",
        "     import seaborn as sns\n",
        "\n",
        "     # Example: ROC Curve\n",
        "     fpr, tpr, thresholds = roc_curve(y_val, y_pred_probs)\n",
        "     plt.figure(figsize=(8, 6))\n",
        "     plt.plot(fpr, tpr, color='blue', lw=2)\n",
        "     plt.plot([0, 1], [0, 1], color='gray', linestyle='--')\n",
        "     plt.xlabel('False Positive Rate')\n",
        "     plt.ylabel('True Positive Rate')\n",
        "     plt.title('ROC Curve')\n",
        "     plt.grid(True)\n",
        "     plt.show()\n",
        "     ```\n",
        "\n",
        "### <span style=\"color:mediumslateblue;\">**Notes**</span>\n",
        "\n",
        "- **Metrics Calculation**: Metrics like accuracy provide a numerical measure of how well the model predicts outcomes compared to actual data.\n",
        "- **Visualization**: Graphical representations such as ROC curves help visualize the trade-off between true positive rate and false positive rate, aiding in model selection and optimization.\n",
        "\n",
        "### <span style=\"color:mediumslateblue;\">**Example Code**</span>\n",
        "\n",
        "```python\n",
        "# Example code for visualization and saving\n",
        "plt.figure(figsize=(8, 6))  # Set figure size\n",
        "sns.histplot(train_data['Age'], bins=30, kde=True, color='purple')  # Plot distribution of 'Age' with purple color\n",
        "plt.title('Distribution of Age in Train Data')  # Set plot title\n",
        "plt.xlabel('Age')  # Set x-axis label\n",
        "plt.ylabel('Count')  # Set y-axis label\n",
        "age_distribution_plot = plt.gcf()  # Get current figure for saving\n",
        "\n",
        "plt.figure(figsize=(8, 6))  # Set figure size\n",
        "sns.countplot(x='Gender', data=train_data, palette='Reds')  # Plot count of 'Gender' with red color palette\n",
        "plt.title('Count of Gender in Train Data')  # Set plot title\n",
        "plt.xlabel('Gender')  # Set x-axis label\n",
        "plt.ylabel('Count')  # Set y-axis label\n",
        "gender_count_plot = plt.gcf()  # Get current figure for saving\n",
        "\n",
        "# Save plots as PDFs\n",
        "save_plot_to_pdf(age_distribution_plot, 'age_distribution_plot.pdf')  # Save age distribution plot\n",
        "save_plot_to_pdf(gender_count_plot, 'gender_count_plot.pdf')  # Save gender count plot\n",
        "\n",
        "# Display heads and save as CSV\n",
        "display_head_and_save(train_data, 'train_data.csv')  # Display and save train data\n",
        "display_head_and_save(test_data, 'test_data.csv')  # Display and save test data\n",
        "display_head_and_save(submission_data, 'submission_data.csv')  # Display and save submission data\n",
        "\n",
        "# Display all saved files head\n",
        "train_data_saved = pd.read_csv('train_data.csv')  # Read saved train data\n",
        "test_data_saved = pd.read_csv('test_data.csv')  # Read saved test data\n",
        "submission_data_saved = pd.read_csv('submission_data.csv')  # Read saved submission data\n",
        "\n",
        "print(\"\\nHead of saved CSV files:\")  # Print header\n",
        "print(train_data_saved.head())  # Print head of train data\n",
        "print(test_data_saved.head())  # Print head of test data\n",
        "print(submission_data_saved.head())  # Print head of submission data"
      ],
      "metadata": {
        "id": "cXgIhXEEPPQP"
      }
    },
    {
      "cell_type": "code",
      "source": [
        "# Example code for visualization and saving"
      ],
      "metadata": {
        "id": "hypQf1HaNvu-"
      },
      "execution_count": null,
      "outputs": []
    },
    {
      "cell_type": "code",
      "source": [
        "plt.figure(figsize=(8, 6))  # Set figure size\n",
        "sns.histplot(train_data['Age'], bins=30, kde=True, color='purple')  # Plot distribution of 'Age' with purple color\n",
        "plt.title('Distribution of Age in Train Data')  # Set plot title\n",
        "plt.xlabel('Age')  # Set x-axis label\n",
        "plt.ylabel('Count')  # Set y-axis label\n",
        "age_distribution_plot = plt.gcf()  # Get current figure for saving"
      ],
      "metadata": {
        "colab": {
          "base_uri": "https://localhost:8080/",
          "height": 564
        },
        "id": "0ACLhqLfNvyd",
        "outputId": "6bf1704a-4dc3-4474-b75b-28677d00ad11"
      },
      "execution_count": null,
      "outputs": [
        {
          "output_type": "display_data",
          "data": {
            "text/plain": [
              "<Figure size 800x600 with 1 Axes>"
            ],
            "image/png": "[encoded data removed]"
          },
          "metadata": {}
        }
      ]
    },
    {
      "cell_type": "code",
      "source": [],
      "metadata": {
        "id": "OwsNddVbOjK6"
      },
      "execution_count": null,
      "outputs": []
    },
    {
      "cell_type": "code",
      "source": [],
      "metadata": {
        "id": "AJap3oyBOjO7"
      },
      "execution_count": null,
      "outputs": []
    },
    {
      "cell_type": "code",
      "source": [
        "plt.figure(figsize=(8, 6))  # Set figure size\n",
        "sns.countplot(x='Gender', data=train_data, palette='Reds')  # Plot count of 'Gender' with red color palette\n",
        "plt.title('Count of Gender in Train Data')  # Set plot title\n",
        "plt.xlabel('Gender')  # Set x-axis label\n",
        "plt.ylabel('Count')  # Set y-axis label\n",
        "gender_count_plot = plt.gcf()  # Get current figure for saving"
      ],
      "metadata": {
        "colab": {
          "base_uri": "https://localhost:8080/",
          "height": 671
        },
        "id": "hzjIyMIKOj7S",
        "outputId": "7e610637-13ec-40b5-b487-60d11fcc7536"
      },
      "execution_count": null,
      "outputs": [
        {
          "output_type": "stream",
          "name": "stderr",
          "text": [
            "<ipython-input-93-da4fe2b3ef0e>:2: FutureWarning: \n",
            "\n",
            "Passing `palette` without assigning `hue` is deprecated and will be removed in v0.14.0. Assign the `x` variable to `hue` and set `legend=False` for the same effect.\n",
            "\n",
            "  sns.countplot(x='Gender', data=train_data, palette='Reds')  # Plot count of 'Gender' with red color palette\n"
          ]
        },
        {
          "output_type": "display_data",
          "data": {
            "text/plain": [
              "<Figure size 800x600 with 1 Axes>"
            ],
            "image/png": "[encoded data removed]"
          },
          "metadata": {}
        }
      ]
    },
    {
      "cell_type": "code",
      "source": [],
      "metadata": {
        "id": "EFlN1bWwOrqx"
      },
      "execution_count": null,
      "outputs": []
    },
    {
      "cell_type": "code",
      "source": [],
      "metadata": {
        "id": "AsulXp-tOsCJ"
      },
      "execution_count": null,
      "outputs": []
    },
    {
      "cell_type": "code",
      "source": [
        "# Save plots as PDFs"
      ],
      "metadata": {
        "id": "JIt1gK_fNv2I"
      },
      "execution_count": null,
      "outputs": []
    },
    {
      "cell_type": "code",
      "source": [
        "save_plot_to_pdf(age_distribution_plot, 'age_distribution_plot.pdf')  # Save age distribution plot"
      ],
      "metadata": {
        "id": "jN-KR7ZJNv6B"
      },
      "execution_count": null,
      "outputs": []
    },
    {
      "cell_type": "code",
      "source": [
        "save_plot_to_pdf(gender_count_plot, 'gender_count_plot.pdf')  # Save gender count plot"
      ],
      "metadata": {
        "id": "9mdXO5bTNv_C"
      },
      "execution_count": null,
      "outputs": []
    },
    {
      "cell_type": "code",
      "source": [],
      "metadata": {
        "id": "RIwd_v7hOz9R"
      },
      "execution_count": null,
      "outputs": []
    },
    {
      "cell_type": "code",
      "source": [],
      "metadata": {
        "id": "BvwO89X2O0AK"
      },
      "execution_count": null,
      "outputs": []
    },
    {
      "cell_type": "code",
      "source": [
        "# Display heads and save as CSV"
      ],
      "metadata": {
        "id": "zVW5sNsZO0EM"
      },
      "execution_count": null,
      "outputs": []
    },
    {
      "cell_type": "code",
      "source": [
        "display_head_and_save(train_data, 'train_data.csv')  # Display and save train data"
      ],
      "metadata": {
        "colab": {
          "base_uri": "https://localhost:8080/"
        },
        "id": "o6mF5kheO0Hs",
        "outputId": "c6244e4f-96f4-41cd-b938-216b6d04350b"
      },
      "execution_count": null,
      "outputs": [
        {
          "output_type": "stream",
          "name": "stdout",
          "text": [
            "\n",
            "Head of train_data.csv:\n",
            "   id  Gender  Age  Driving_License  Region_Code  Previously_Insured  \\\n",
            "0   1    Male   44                1         28.0                   0   \n",
            "1   2    Male   76                1          3.0                   0   \n",
            "2   3    Male   47                1         28.0                   0   \n",
            "3   4    Male   21                1         11.0                   1   \n",
            "4   5  Female   29                1         41.0                   1   \n",
            "\n",
            "  Vehicle_Age Vehicle_Damage  Annual_Premium  Policy_Sales_Channel  Vintage  \\\n",
            "0   > 2 Years            Yes         40454.0                  26.0      217   \n",
            "1    1-2 Year             No         33536.0                  26.0      183   \n",
            "2   > 2 Years            Yes         38294.0                  26.0       27   \n",
            "3    < 1 Year             No         28619.0                 152.0      203   \n",
            "4    < 1 Year             No         27496.0                 152.0       39   \n",
            "\n",
            "   Response  \n",
            "0         1  \n",
            "1         0  \n",
            "2         1  \n",
            "3         0  \n",
            "4         0  \n"
          ]
        }
      ]
    },
    {
      "cell_type": "code",
      "source": [],
      "metadata": {
        "id": "uob5pB6oO0KW"
      },
      "execution_count": null,
      "outputs": []
    },
    {
      "cell_type": "code",
      "source": [
        "display_head_and_save(test_data, 'test_data.csv')  # Display and save test data"
      ],
      "metadata": {
        "colab": {
          "base_uri": "https://localhost:8080/"
        },
        "id": "nMk_ztWCO0M-",
        "outputId": "a41295bc-b63f-4042-c3dd-ee1756a0bc76"
      },
      "execution_count": null,
      "outputs": [
        {
          "output_type": "stream",
          "name": "stdout",
          "text": [
            "\n",
            "Head of test_data.csv:\n",
            "       id Gender  Age  Driving_License  Region_Code  Previously_Insured  \\\n",
            "0  381110   Male   25                1         11.0                   1   \n",
            "1  381111   Male   40                1         28.0                   0   \n",
            "2  381112   Male   47                1         28.0                   0   \n",
            "3  381113   Male   24                1         27.0                   1   \n",
            "4  381114   Male   27                1         28.0                   1   \n",
            "\n",
            "  Vehicle_Age Vehicle_Damage  Annual_Premium  Policy_Sales_Channel  Vintage  \n",
            "0    < 1 Year             No         35786.0                 152.0       53  \n",
            "1    1-2 Year            Yes         33762.0                   7.0      111  \n",
            "2    1-2 Year            Yes         40050.0                 124.0      199  \n",
            "3    < 1 Year            Yes         37356.0                 152.0      187  \n",
            "4    < 1 Year             No         59097.0                 152.0      297  \n"
          ]
        }
      ]
    },
    {
      "cell_type": "code",
      "source": [],
      "metadata": {
        "id": "mc3f__RkO9P6"
      },
      "execution_count": null,
      "outputs": []
    },
    {
      "cell_type": "code",
      "source": [
        "display_head_and_save(submission_data, 'submission_data.csv')  # Display and save submission data"
      ],
      "metadata": {
        "colab": {
          "base_uri": "https://localhost:8080/"
        },
        "id": "bBXAyff-O9VL",
        "outputId": "bda46a84-8cd8-40b2-a9b1-b389f6ec249e"
      },
      "execution_count": null,
      "outputs": [
        {
          "output_type": "stream",
          "name": "stdout",
          "text": [
            "\n",
            "Head of submission_data.csv:\n",
            "       id  Response\n",
            "0  381110         0\n",
            "1  381111         0\n",
            "2  381112         0\n",
            "3  381113         0\n",
            "4  381114         0\n"
          ]
        }
      ]
    },
    {
      "cell_type": "code",
      "source": [],
      "metadata": {
        "id": "Xop9Ut8hO9b_"
      },
      "execution_count": null,
      "outputs": []
    },
    {
      "cell_type": "code",
      "source": [
        "# Display all saved files head"
      ],
      "metadata": {
        "id": "oa9IQM2XO9qM"
      },
      "execution_count": null,
      "outputs": []
    },
    {
      "cell_type": "code",
      "source": [
        "train_data_saved = pd.read_csv('train_data.csv')  # Read saved train data"
      ],
      "metadata": {
        "id": "YmCh24myPE57"
      },
      "execution_count": null,
      "outputs": []
    },
    {
      "cell_type": "code",
      "source": [
        "test_data_saved = pd.read_csv('test_data.csv')  # Read saved test data"
      ],
      "metadata": {
        "id": "zdjPVrc5PE_c"
      },
      "execution_count": null,
      "outputs": []
    },
    {
      "cell_type": "code",
      "source": [
        "submission_data_saved = pd.read_csv('submission_data.csv')  # Read saved submission data"
      ],
      "metadata": {
        "id": "SNGPcpsZPFCW"
      },
      "execution_count": null,
      "outputs": []
    },
    {
      "cell_type": "code",
      "source": [],
      "metadata": {
        "id": "IEhpbe6WPFGE"
      },
      "execution_count": null,
      "outputs": []
    },
    {
      "cell_type": "code",
      "source": [
        "print(\"\\nHead of saved CSV files:\")  # Print header\n",
        "print(train_data_saved.head())  # Print head of train data\n",
        "print(test_data_saved.head())  # Print head of test data\n",
        "print(submission_data_saved.head())  # Print head of submission data"
      ],
      "metadata": {
        "colab": {
          "base_uri": "https://localhost:8080/"
        },
        "id": "dB9udRXOPY3C",
        "outputId": "cc348e23-96cb-4a81-8c60-0b40f0897055"
      },
      "execution_count": null,
      "outputs": [
        {
          "output_type": "stream",
          "name": "stdout",
          "text": [
            "\n",
            "Head of saved CSV files:\n",
            "   id  Gender  Age  Driving_License  Region_Code  Previously_Insured  \\\n",
            "0   1    Male   44                1         28.0                   0   \n",
            "1   2    Male   76                1          3.0                   0   \n",
            "2   3    Male   47                1         28.0                   0   \n",
            "3   4    Male   21                1         11.0                   1   \n",
            "4   5  Female   29                1         41.0                   1   \n",
            "\n",
            "  Vehicle_Age Vehicle_Damage  Annual_Premium  Policy_Sales_Channel  Vintage  \\\n",
            "0   > 2 Years            Yes         40454.0                  26.0      217   \n",
            "1    1-2 Year             No         33536.0                  26.0      183   \n",
            "2   > 2 Years            Yes         38294.0                  26.0       27   \n",
            "3    < 1 Year             No         28619.0                 152.0      203   \n",
            "4    < 1 Year             No         27496.0                 152.0       39   \n",
            "\n",
            "   Response  \n",
            "0         1  \n",
            "1         0  \n",
            "2         1  \n",
            "3         0  \n",
            "4         0  \n",
            "       id Gender  Age  Driving_License  Region_Code  Previously_Insured  \\\n",
            "0  381110   Male   25                1         11.0                   1   \n",
            "1  381111   Male   40                1         28.0                   0   \n",
            "2  381112   Male   47                1         28.0                   0   \n",
            "3  381113   Male   24                1         27.0                   1   \n",
            "4  381114   Male   27                1         28.0                   1   \n",
            "\n",
            "  Vehicle_Age Vehicle_Damage  Annual_Premium  Policy_Sales_Channel  Vintage  \n",
            "0    < 1 Year             No         35786.0                 152.0       53  \n",
            "1    1-2 Year            Yes         33762.0                   7.0      111  \n",
            "2    1-2 Year            Yes         40050.0                 124.0      199  \n",
            "3    < 1 Year            Yes         37356.0                 152.0      187  \n",
            "4    < 1 Year             No         59097.0                 152.0      297  \n",
            "       id  Response\n",
            "0  381110         0\n",
            "1  381111         0\n",
            "2  381112         0\n",
            "3  381113         0\n",
            "4  381114         0\n"
          ]
        }
      ]
    },
    {
      "cell_type": "code",
      "source": [],
      "metadata": {
        "id": "2yd6qaPmPY6U"
      },
      "execution_count": null,
      "outputs": []
    },
    {
      "cell_type": "code",
      "source": [],
      "metadata": {
        "id": "vUSGAclyP3bT"
      },
      "execution_count": null,
      "outputs": []
    },
    {
      "cell_type": "markdown",
      "source": [
        "<font color='blue'>\n",
        "\n",
        "# Insurance Customer Segmentation Project Summary and Conclusion\n",
        "\n",
        "## Summary\n",
        "\n",
        "### Step-by-Step Overview\n",
        "\n",
        "</font>\n",
        "\n",
        "1. **Data Loading and Cleaning**\n",
        "   - Loaded the dataset containing information about customers and their responses to insurance offers.\n",
        "   - Cleaned the data by handling missing values, converting categorical variables into numerical equivalents, and ensuring data consistency.\n",
        "\n",
        "<font color='green'>\n",
        "\n",
        "2. **Exploratory Data Analysis (EDA)**\n",
        "   - Explored the distribution of key variables such as age, gender, and response rates.\n",
        "   - Visualized relationships between variables using histograms, count plots, and scatter plots to uncover patterns and insights.\n",
        "   - Examined the distribution of age using a purple-themed histogram and counted gender using a red-themed count plot.\n",
        "\n",
        "3. **Feature Engineering**\n",
        "   - Engineered new features and transformed existing ones to enhance predictive power.\n",
        "   - Handled categorical variables through one-hot encoding and numerical variables through scaling.\n",
        "\n",
        "4. **Model Selection and Training**\n",
        "   - Selected Random Forest Classifier as the predictive model due to its ability to handle complex relationships and maintain good performance with minimal hyperparameter tuning.\n",
        "   - Trained the model on the processed training data and evaluated its performance using accuracy metrics.\n",
        "\n",
        "</font>\n",
        "\n",
        "<font color='purple'>\n",
        "\n",
        "5. **Model Evaluation**\n",
        "   - Evaluated the model using accuracy, precision, recall, and F1-score metrics to assess its ability to predict customer responses.\n",
        "   - Visualized the model's performance using confusion matrices and ROC curves.\n",
        "\n",
        "6. **Prediction and Submission**\n",
        "   - Made predictions on the test dataset using the trained model.\n",
        "   - Prepared the predictions for submission, ensuring the format met competition or project requirements.\n",
        "\n",
        "7. **Conclusion**\n",
        "   - Achieved a high accuracy rate on the test set, demonstrating the effectiveness of the chosen model and preprocessing techniques.\n",
        "   - Identified key factors influencing customer response to insurance offers, providing actionable insights for marketing strategies.\n",
        "   - Highlighted areas for further improvement, such as incorporating additional features or exploring different models to enhance predictive accuracy.\n",
        "\n",
        "</font>\n",
        "\n",
        "<font color='orange'>\n",
        "\n",
        "## Future Directions\n",
        "- **Feature Engineering:** Explore more sophisticated feature engineering techniques to capture complex relationships.\n",
        "- **Model Tuning:** Fine-tune model hyperparameters using grid search or randomized search to improve performance.\n",
        "- **Ensemble Methods:** Investigate ensemble methods like stacking or boosting to further enhance model robustness.\n",
        "- **Deployment:** Prepare the model for deployment in a production environment, ensuring scalability and real-time prediction capabilities.\n",
        "\n",
        "## Acknowledgments\n",
        "- **Datasets:** The project utilized the Vehicle Insurance Customer Data from Kaggle.\n",
        "- **Libraries:** Pandas, Matplotlib, Seaborn, Scikit-learn were instrumental in data manipulation, visualization, and modeling.\n",
        "- **Platforms:** Google Colab provided the computational resources necessary for model training and evaluation.\n",
        "\n",
        "</font>"
      ],
      "metadata": {
        "id": "OvbDcOC3QKuT"
      }
    }
  ]
}