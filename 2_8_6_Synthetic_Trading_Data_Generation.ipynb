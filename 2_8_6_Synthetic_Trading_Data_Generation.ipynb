{
  "nbformat": 4,
  "nbformat_minor": 0,
  "metadata": {
    "colab": {
      "provenance": [],
      "gpuType": "T4"
    },
    "kernelspec": {
      "name": "python3",
      "display_name": "Python 3"
    },
    "language_info": {
      "name": "python"
    },
    "accelerator": "GPU"
  },
  "cells": [
    {
      "cell_type": "markdown",
      "source": [
        "<hr style=\"border: 3px solid purple;\">\n",
        "<hr style=\"border: 3px solid purple;\">"
      ],
      "metadata": {
        "id": "KB6Ozy7gOhjZ"
      }
    },
    {
      "cell_type": "markdown",
      "source": [
        "# 🧑‍🏫 **Project Overview: Synthetic Forex Data Generation Using GANs**\n",
        "\n",
        "### 📚 **Project Objective**\n",
        "The objective of this project is to generate synthetic Forex data using Generative Adversarial Networks (GANs). The synthetic data can be used for backtesting trading strategies, portfolio optimization, or any other financial application requiring realistic yet privacy-preserving data.\n",
        "\n",
        "### 📊 **Dataset Overview**\n",
        "- **Dataset**: Forex data (EUR/USD) with 1-minute intervals.\n",
        "- **Features**: Date, time, open, high, low, close, volume, etc.\n",
        "- **File Path**: `\"/content/DAT_MT_EURUSD_M1_202409.csv\"`\n",
        "\n",
        "---\n",
        "\n",
        "### 🔧 **Data Preprocessing Steps**\n",
        "\n",
        "1. **Loading the Data**\n",
        "    - The dataset is loaded using pandas with the `pd.read_csv()` function.\n",
        "\n",
        "2. **Initial Exploration**\n",
        "    - **Head of the Dataset**: Display the first few rows to understand the data structure.\n",
        "    - **Info**: Provides basic info about the dataset including column types and non-null counts.\n",
        "    - **Summary Statistics**: Describes the statistical properties of numerical columns.\n",
        "    - **Missing Values**: Checks for missing data and how to handle them.\n",
        "    - **Duplicate Rows**: Identifies and removes duplicate rows.\n",
        "\n",
        "3. **Data Visualization**\n",
        "    - **Histograms**: Plots the distribution of numeric columns using seaborn.\n",
        "    - **Correlation Heatmap**: Visualizes the correlation between numeric columns to identify relationships.\n",
        "    - **Scatter Plots**: Plots scatter plots to visually analyze the relationships between the first numeric column and others.\n",
        "\n",
        "4. **Data Cleaning**\n",
        "    - **Removing Duplicates**: Ensures the dataset does not contain duplicate rows.\n",
        "    - **Handling Missing Values**: Drops rows with missing data.\n",
        "    - **Outlier Detection**: Uses the IQR method to identify and remove outliers in the data.\n",
        "    - **Scaling**: Scales the numeric columns using StandardScaler to normalize the data between 0 and 1.\n",
        "\n",
        "5. **Saving Processed Data**\n",
        "    - The cleaned and scaled dataset is saved to a new CSV file: `processed_forex_data.csv`.\n",
        "\n",
        "---\n",
        "\n",
        "### 🤖 **Building the GAN Model**\n",
        "\n",
        "1. **Data Preparation for GAN**\n",
        "    - **Drop Date/Time Columns**: Removes unnecessary columns (`\"2024.09.23\"`, `\"00:00\"`) before training the GAN.\n",
        "    - **Normalization**: Scales the data to a range of [-1, 1] to improve GAN performance.\n",
        "    - **Data Type**: Ensures that the data is of type `float32` for compatibility with TensorFlow.\n",
        "\n",
        "2. **Model Architecture**\n",
        "    - **Generator Model**: A Sequential neural network with layers:\n",
        "        - Dense layers with LeakyReLU activations.\n",
        "        - Outputs the same shape as the input data using the `tanh` activation function.\n",
        "    - **Discriminator Model**: A binary classifier that distinguishes between real and fake data.\n",
        "        - Uses Dense layers with LeakyReLU activations.\n",
        "        - Final output is a single neuron with sigmoid activation (real vs fake).\n",
        "    - **GAN Model**: Combines the generator and discriminator in a Sequential model, with the generator creating fake data and the discriminator classifying it.\n",
        "\n",
        "3. **Model Compilation**\n",
        "    - **Discriminator**: Compiled with binary cross-entropy loss and Adam optimizer.\n",
        "    - **GAN**: Compiled with the generator and the discriminator (discriminator is frozen during training).\n",
        "\n",
        "4. **Training the GAN**\n",
        "    - **Epochs**: The model is trained for 10 epochs.\n",
        "    - **Batch Size**: A batch size of 64 is used, with half the batch for real data and the other half for fake data.\n",
        "    - **Training Loop**:\n",
        "        - The discriminator is trained on both real and fake data.\n",
        "        - The generator is trained to produce data that the discriminator classifies as real.\n",
        "\n",
        "---\n",
        "\n",
        "### 📉 **Loss Plotting**\n",
        "\n",
        "- During training, the losses of the discriminator (D) and generator (G) are tracked and plotted for each epoch. This helps monitor the training progress and model stability.\n",
        "\n",
        "---\n",
        "\n",
        "### 🎯 **Results and Evaluation**\n",
        "\n",
        "1. **Loss Curves**\n",
        "    - A graph showing the discriminator and generator losses over epochs to visualize the learning process.\n",
        "\n",
        "2. **Generated Data Comparison**\n",
        "    - A plot comparing the first instance of synthetic data generated by the GAN and the original data for visual evaluation of the model's output.\n",
        "\n",
        "---\n",
        "\n",
        "### 📥 **Conclusion**\n",
        "- The project demonstrates the use of GANs for generating synthetic Forex data.\n",
        "- The resulting synthetic data can be used for various financial applications such as testing trading strategies.\n",
        "- Further improvements could be made by fine-tuning the model, adding more layers, or experimenting with different GAN architectures like Wasserstein GANs (WGAN).\n",
        "\n",
        "---\n",
        "\n",
        "### 💡 **Key Takeaways**\n",
        "- **Data Preprocessing**: Ensuring data quality is crucial for training successful machine learning models, especially for time-series data like Forex.\n",
        "- **GANs**: Powerful tool for generating synthetic data, which is particularly useful in domains like finance where real data might be scarce or sensitive.\n",
        "- **Loss Monitoring**: Tracking the losses during training helps in adjusting hyperparameters to improve the model's performance.\n",
        "\n",
        "---\n",
        "\n",
        "### 🛠 **Next Steps**\n",
        "- You can experiment with different GAN architectures, hyperparameters, or data sources to further explore synthetic data generation."
      ],
      "metadata": {
        "id": "Fnn9Dh8sMrwX"
      }
    },
    {
      "cell_type": "markdown",
      "source": [
        "<hr style=\"border: 1px solid purple;\">"
      ],
      "metadata": {
        "id": "NyZ0QG81O2_S"
      }
    },
    {
      "cell_type": "code",
      "source": [],
      "metadata": {
        "id": "x5hMY-1YMzVu"
      },
      "execution_count": null,
      "outputs": []
    },
    {
      "cell_type": "code",
      "source": [],
      "metadata": {
        "id": "VKqco3B8Mzp4"
      },
      "execution_count": 299,
      "outputs": []
    },
    {
      "cell_type": "code",
      "source": [],
      "metadata": {
        "id": "MJMUTI4jM0of"
      },
      "execution_count": null,
      "outputs": []
    },
    {
      "cell_type": "markdown",
      "source": [
        "<hr style=\"border: 1px solid purple;\">"
      ],
      "metadata": {
        "id": "X7KZvCd_O48H"
      }
    },
    {
      "cell_type": "code",
      "source": [
        "# Suppress all warnings"
      ],
      "metadata": {
        "id": "EmJayL-pFFQh"
      },
      "execution_count": 197,
      "outputs": []
    },
    {
      "cell_type": "code",
      "source": [
        "import warnings"
      ],
      "metadata": {
        "id": "ZezrYQA6FFT2"
      },
      "execution_count": 198,
      "outputs": []
    },
    {
      "cell_type": "code",
      "source": [
        "warnings.filterwarnings(\"ignore\")"
      ],
      "metadata": {
        "id": "dET9qWzzFFXD"
      },
      "execution_count": 199,
      "outputs": []
    },
    {
      "cell_type": "markdown",
      "source": [
        "<hr style=\"border: 1px solid purple;\">"
      ],
      "metadata": {
        "id": "xb_0hF42O6sb"
      }
    },
    {
      "cell_type": "code",
      "source": [],
      "metadata": {
        "id": "3kcPCwO1FFZ-"
      },
      "execution_count": 199,
      "outputs": []
    },
    {
      "cell_type": "code",
      "source": [],
      "metadata": {
        "id": "zfYSsU_QFtaK"
      },
      "execution_count": 199,
      "outputs": []
    },
    {
      "cell_type": "code",
      "source": [],
      "metadata": {
        "id": "Fl6E3ZocM1uS"
      },
      "execution_count": null,
      "outputs": []
    },
    {
      "cell_type": "markdown",
      "source": [
        "<hr style=\"border: 1px solid purple;\">"
      ],
      "metadata": {
        "id": "EKakYqTNM19e"
      }
    },
    {
      "cell_type": "markdown",
      "source": [],
      "metadata": {
        "id": "3U-3nZDBPCc_"
      }
    },
    {
      "cell_type": "code",
      "source": [
        "import pandas as pd"
      ],
      "metadata": {
        "id": "mtadqnb-FtdS"
      },
      "execution_count": 200,
      "outputs": []
    },
    {
      "cell_type": "code",
      "source": [
        "import numpy as np"
      ],
      "metadata": {
        "id": "oKdWKJ44Ftgs"
      },
      "execution_count": 201,
      "outputs": []
    },
    {
      "cell_type": "code",
      "source": [
        "import matplotlib.pyplot as plt"
      ],
      "metadata": {
        "id": "KrvX11rlFtjm"
      },
      "execution_count": 202,
      "outputs": []
    },
    {
      "cell_type": "code",
      "source": [
        "import seaborn as sns"
      ],
      "metadata": {
        "id": "3vE89q7jFtoK"
      },
      "execution_count": 203,
      "outputs": []
    },
    {
      "cell_type": "code",
      "source": [
        "from sklearn.preprocessing import StandardScaler"
      ],
      "metadata": {
        "id": "erW0MynFFtr2"
      },
      "execution_count": 204,
      "outputs": []
    },
    {
      "cell_type": "code",
      "source": [
        "from tensorflow.keras.models import Sequential"
      ],
      "metadata": {
        "id": "mCvRBzt7Ftus"
      },
      "execution_count": 205,
      "outputs": []
    },
    {
      "cell_type": "code",
      "source": [
        "from tensorflow.keras.layers import Dense, LeakyReLU"
      ],
      "metadata": {
        "id": "9Zx5XhvxFtxQ"
      },
      "execution_count": 206,
      "outputs": []
    },
    {
      "cell_type": "code",
      "source": [
        "from tensorflow.keras.optimizers import Adam"
      ],
      "metadata": {
        "id": "AtxeYlrDFt0P"
      },
      "execution_count": 207,
      "outputs": []
    },
    {
      "cell_type": "code",
      "source": [
        "from tensorflow.keras import initializers"
      ],
      "metadata": {
        "id": "rCXmxEplFt3w"
      },
      "execution_count": 208,
      "outputs": []
    },
    {
      "cell_type": "markdown",
      "source": [
        "<hr style=\"border: 1px solid purple;\">"
      ],
      "metadata": {
        "id": "1grYkhccPF92"
      }
    },
    {
      "cell_type": "code",
      "source": [],
      "metadata": {
        "id": "vmYa9uxxGLnr"
      },
      "execution_count": 208,
      "outputs": []
    },
    {
      "cell_type": "code",
      "source": [],
      "metadata": {
        "id": "mfumjeKhGLqw"
      },
      "execution_count": 208,
      "outputs": []
    },
    {
      "cell_type": "code",
      "source": [],
      "metadata": {
        "id": "mmbXw9OvM-eT"
      },
      "execution_count": null,
      "outputs": []
    },
    {
      "cell_type": "markdown",
      "source": [
        "<hr style=\"border: 1px solid purple;\">"
      ],
      "metadata": {
        "id": "vbOxxYahPIRd"
      }
    },
    {
      "cell_type": "markdown",
      "source": [
        "# 📂 **Step 1: Loading the Dataset**\n",
        "\n",
        "In this step, we load the Forex data into a pandas DataFrame for exploration. This helps us ensure that the data is available and correctly formatted for analysis.\n",
        "\n",
        "- **Objective**: Load the dataset from the specified path.\n",
        "- **What We Achieve**: Read the raw CSV file into a DataFrame."
      ],
      "metadata": {
        "id": "2a8Ylw5zM-vo"
      }
    },
    {
      "cell_type": "code",
      "source": [
        "# File path"
      ],
      "metadata": {
        "id": "MNbPQBCJGLtq"
      },
      "execution_count": 209,
      "outputs": []
    },
    {
      "cell_type": "code",
      "source": [
        "file_path = \"/content/DAT_MT_EURUSD_M1_202409.csv\""
      ],
      "metadata": {
        "id": "2ClIJ5ytGLxC"
      },
      "execution_count": 210,
      "outputs": []
    },
    {
      "cell_type": "code",
      "source": [],
      "metadata": {
        "id": "LnIm3soFGL0h"
      },
      "execution_count": 210,
      "outputs": []
    },
    {
      "cell_type": "code",
      "source": [
        "# Load the dataset"
      ],
      "metadata": {
        "id": "DLaVnLSkGL40"
      },
      "execution_count": 211,
      "outputs": []
    },
    {
      "cell_type": "code",
      "source": [
        "data = pd.read_csv(file_path)"
      ],
      "metadata": {
        "id": "dJUVKnF2Ft6g"
      },
      "execution_count": 212,
      "outputs": []
    },
    {
      "cell_type": "markdown",
      "source": [
        "<hr style=\"border: 1px solid purple;\">"
      ],
      "metadata": {
        "id": "fia-3oFWPKs0"
      }
    },
    {
      "cell_type": "code",
      "source": [],
      "metadata": {
        "id": "wL1eLWxNFt9b"
      },
      "execution_count": 212,
      "outputs": []
    },
    {
      "cell_type": "code",
      "source": [],
      "metadata": {
        "id": "QbC779xXFuAK"
      },
      "execution_count": 212,
      "outputs": []
    },
    {
      "cell_type": "code",
      "source": [],
      "metadata": {
        "id": "V_PyDWZrNCzT"
      },
      "execution_count": null,
      "outputs": []
    },
    {
      "cell_type": "markdown",
      "source": [
        "<hr style=\"border: 1px solid purple;\">"
      ],
      "metadata": {
        "id": "7a6AsxXyPMTu"
      }
    },
    {
      "cell_type": "markdown",
      "source": [
        "# 🔍 **Step 2: Initial Exploration of the Data**\n",
        "\n",
        "Before any analysis or modeling, we need to understand the dataset. This involves checking the basic structure, summary statistics, missing values, and duplicate records.\n",
        "\n",
        "- **Objective**: Inspect data structure, summary statistics, and check for missing or duplicate values.\n",
        "- **What We Achieve**:\n",
        "  - Understand data types, column names, and presence of any issues (e.g., missing values, duplicates).\n",
        "  - Identify trends, distributions, and initial data quality issues."
      ],
      "metadata": {
        "id": "9IDpXbqBNDG4"
      }
    },
    {
      "cell_type": "code",
      "source": [
        "# Display the first few rows"
      ],
      "metadata": {
        "id": "2LJ4iE52FFdz"
      },
      "execution_count": 213,
      "outputs": []
    },
    {
      "cell_type": "code",
      "source": [
        "print(\"Head of the dataset:\")\n",
        "print(data.head(), \"\\n\")"
      ],
      "metadata": {
        "colab": {
          "base_uri": "https://localhost:8080/",
          "height": 0
        },
        "id": "q9o6i2kUFFgJ",
        "outputId": "5643cdc7-c653-4a06-f9bd-7398fdb21f64"
      },
      "execution_count": 214,
      "outputs": [
        {
          "output_type": "stream",
          "name": "stdout",
          "text": [
            "Head of the dataset:\n",
            "   2024.09.23  00:00  1.116150  1.116150.1  1.116090  1.116100  0\n",
            "0  2024.09.23  00:01   1.11609     1.11610   1.11600   1.11610  0\n",
            "1  2024.09.23  00:02   1.11610     1.11615   1.11610   1.11615  0\n",
            "2  2024.09.23  00:03   1.11616     1.11616   1.11614   1.11614  0\n",
            "3  2024.09.23  00:04   1.11613     1.11614   1.11612   1.11614  0\n",
            "4  2024.09.23  00:05   1.11615     1.11615   1.11614   1.11615  0 \n",
            "\n"
          ]
        }
      ]
    },
    {
      "cell_type": "code",
      "source": [],
      "metadata": {
        "id": "jWHJG4jOGl9d"
      },
      "execution_count": 214,
      "outputs": []
    },
    {
      "cell_type": "code",
      "source": [],
      "metadata": {
        "id": "bH-5sYJJGmB0"
      },
      "execution_count": 214,
      "outputs": []
    },
    {
      "cell_type": "code",
      "source": [
        "# Display information about the dataset"
      ],
      "metadata": {
        "id": "2acICx06GmFF"
      },
      "execution_count": 215,
      "outputs": []
    },
    {
      "cell_type": "code",
      "source": [
        "print(\"\\nDataset Info:\")\n",
        "data.info()"
      ],
      "metadata": {
        "colab": {
          "base_uri": "https://localhost:8080/",
          "height": 0
        },
        "id": "VuXGz-5wGmIw",
        "outputId": "94c149ec-aa4a-4fa3-ee78-8b6425b7db10"
      },
      "execution_count": 216,
      "outputs": [
        {
          "output_type": "stream",
          "name": "stdout",
          "text": [
            "\n",
            "Dataset Info:\n",
            "<class 'pandas.core.frame.DataFrame'>\n",
            "RangeIndex: 30486 entries, 0 to 30485\n",
            "Data columns (total 7 columns):\n",
            " #   Column      Non-Null Count  Dtype  \n",
            "---  ------      --------------  -----  \n",
            " 0   2024.09.23  30486 non-null  object \n",
            " 1   00:00       30486 non-null  object \n",
            " 2   1.116150    30486 non-null  float64\n",
            " 3   1.116150.1  30486 non-null  float64\n",
            " 4   1.116090    30486 non-null  float64\n",
            " 5   1.116100    30486 non-null  float64\n",
            " 6   0           30486 non-null  int64  \n",
            "dtypes: float64(4), int64(1), object(2)\n",
            "memory usage: 1.6+ MB\n"
          ]
        }
      ]
    },
    {
      "cell_type": "code",
      "source": [],
      "metadata": {
        "id": "WmJ53ZHEGmL7"
      },
      "execution_count": 216,
      "outputs": []
    },
    {
      "cell_type": "code",
      "source": [],
      "metadata": {
        "id": "4_egjm2oGmO_"
      },
      "execution_count": 216,
      "outputs": []
    },
    {
      "cell_type": "code",
      "source": [
        "# Display summary statistics"
      ],
      "metadata": {
        "id": "D5m-aijuGmTj"
      },
      "execution_count": 217,
      "outputs": []
    },
    {
      "cell_type": "code",
      "source": [
        "print(\"\\nSummary Statistics:\")\n",
        "print(data.describe(), \"\\n\")"
      ],
      "metadata": {
        "colab": {
          "base_uri": "https://localhost:8080/",
          "height": 0
        },
        "id": "F5o9AyVSGmX8",
        "outputId": "2a738d9a-d385-4168-9783-b1a8675320d5"
      },
      "execution_count": 218,
      "outputs": [
        {
          "output_type": "stream",
          "name": "stdout",
          "text": [
            "\n",
            "Summary Statistics:\n",
            "           1.116150    1.116150.1      1.116090      1.116100        0\n",
            "count  30486.000000  30486.000000  30486.000000  30486.000000  30486.0\n",
            "mean       1.110449      1.110508      1.110389      1.110448      0.0\n",
            "std        0.005014      0.005020      0.005008      0.005014      0.0\n",
            "min        1.100210      1.100420      1.100190      1.100210      0.0\n",
            "25%        1.106060      1.106120      1.105990      1.106050      0.0\n",
            "50%        1.111190      1.111230      1.111150      1.111190      0.0\n",
            "75%        1.114330      1.114450      1.114250      1.114330      0.0\n",
            "max        1.121220      1.121400      1.121070      1.121220      0.0 \n",
            "\n"
          ]
        }
      ]
    },
    {
      "cell_type": "code",
      "source": [],
      "metadata": {
        "id": "rx20-jaaFFkV"
      },
      "execution_count": 218,
      "outputs": []
    },
    {
      "cell_type": "code",
      "source": [],
      "metadata": {
        "id": "YAcJx0RHFFnB"
      },
      "execution_count": 218,
      "outputs": []
    },
    {
      "cell_type": "code",
      "source": [
        "# Check for missing values"
      ],
      "metadata": {
        "id": "6OBWuPlTFFp2"
      },
      "execution_count": 219,
      "outputs": []
    },
    {
      "cell_type": "code",
      "source": [
        "print(\"\\nMissing Values:\")\n",
        "print(data.isnull().sum(), \"\\n\")"
      ],
      "metadata": {
        "colab": {
          "base_uri": "https://localhost:8080/",
          "height": 0
        },
        "id": "0H1lpGnfFFtR",
        "outputId": "47ccb8b9-df5f-4043-ec5e-e356f5ef9219"
      },
      "execution_count": 220,
      "outputs": [
        {
          "output_type": "stream",
          "name": "stdout",
          "text": [
            "\n",
            "Missing Values:\n",
            "2024.09.23    0\n",
            "00:00         0\n",
            "1.116150      0\n",
            "1.116150.1    0\n",
            "1.116090      0\n",
            "1.116100      0\n",
            "0             0\n",
            "dtype: int64 \n",
            "\n"
          ]
        }
      ]
    },
    {
      "cell_type": "code",
      "source": [],
      "metadata": {
        "id": "-IHWUmPVFFv3"
      },
      "execution_count": 220,
      "outputs": []
    },
    {
      "cell_type": "code",
      "source": [],
      "metadata": {
        "id": "ZmZqI_1IFFyv"
      },
      "execution_count": 220,
      "outputs": []
    },
    {
      "cell_type": "code",
      "source": [
        "# Check for duplicate rows"
      ],
      "metadata": {
        "id": "P4Kh5-pd-wm_"
      },
      "execution_count": 221,
      "outputs": []
    },
    {
      "cell_type": "code",
      "source": [
        "print(\"\\nDuplicate Rows:\")\n",
        "print(data.duplicated().sum(), \"\\n\")"
      ],
      "metadata": {
        "colab": {
          "base_uri": "https://localhost:8080/",
          "height": 0
        },
        "id": "LM1Cs7By-wpw",
        "outputId": "b7836728-cc8b-4d57-91ab-36cbe91612a8"
      },
      "execution_count": 222,
      "outputs": [
        {
          "output_type": "stream",
          "name": "stdout",
          "text": [
            "\n",
            "Duplicate Rows:\n",
            "0 \n",
            "\n"
          ]
        }
      ]
    },
    {
      "cell_type": "markdown",
      "source": [
        "<hr style=\"border: 1px solid purple;\">"
      ],
      "metadata": {
        "id": "MTwkBG8YPP-e"
      }
    },
    {
      "cell_type": "code",
      "source": [],
      "metadata": {
        "id": "Q-0cdUKTG8X5"
      },
      "execution_count": 222,
      "outputs": []
    },
    {
      "cell_type": "code",
      "source": [],
      "metadata": {
        "id": "Hot9JX1BG8eh"
      },
      "execution_count": 222,
      "outputs": []
    },
    {
      "cell_type": "code",
      "source": [],
      "metadata": {
        "id": "sK6hrog9NIAh"
      },
      "execution_count": null,
      "outputs": []
    },
    {
      "cell_type": "markdown",
      "source": [
        "<hr style=\"border: 1px solid purple;\">"
      ],
      "metadata": {
        "id": "bFuOOstUPT6k"
      }
    },
    {
      "cell_type": "markdown",
      "source": [
        "# 📊 **Step 3: Data Visualization**\n",
        "\n",
        "Visualization helps reveal patterns and relationships in the data. Here, we use histograms to inspect distributions, heatmaps to visualize correlations, and scatter plots to check for relationships between variables.\n",
        "\n",
        "- **Objective**: Visualize distributions, correlations, and relationships.\n",
        "- **What We Achieve**:\n",
        "  - Identify skewness, distributions, and relationships between variables.\n",
        "  - Use heatmaps to understand how different features are correlated."
      ],
      "metadata": {
        "id": "vjlKe9VANIQ_"
      }
    },
    {
      "cell_type": "code",
      "source": [
        "# Plot histograms for numeric columns"
      ],
      "metadata": {
        "id": "K8Lhv3q5G8hy"
      },
      "execution_count": 223,
      "outputs": []
    },
    {
      "cell_type": "code",
      "source": [
        "numeric_columns = data.select_dtypes(include=['float64', 'int64']).columns"
      ],
      "metadata": {
        "id": "cjQ0tbNmG8qM"
      },
      "execution_count": 224,
      "outputs": []
    },
    {
      "cell_type": "code",
      "source": [
        "for col in numeric_columns:\n",
        "    plt.figure()\n",
        "    sns.histplot(data[col], bins=30, kde=True)\n",
        "    plt.title(f'Histogram of {col}')\n",
        "    plt.show()"
      ],
      "metadata": {
        "colab": {
          "base_uri": "https://localhost:8080/",
          "height": 2292
        },
        "id": "Yb9S0zePG8t6",
        "outputId": "1b791d91-c6da-4572-a829-6692c805ed20"
      },
      "execution_count": 225,
      "outputs": [
        {
          "output_type": "display_data",
          "data": {
            "text/plain": [
              "<Figure size 640x480 with 1 Axes>"
            ],
            "image/png": "[encoded data removed]"
          },
          "metadata": {}
        },
        {
          "output_type": "display_data",
          "data": {
            "text/plain": [
              "<Figure size 640x480 with 1 Axes>"
            ],
            "image/png": "[encoded data removed]"
          },
          "metadata": {}
        },
        {
          "output_type": "display_data",
          "data": {
            "text/plain": [
              "<Figure size 640x480 with 1 Axes>"
            ],
            "image/png": "[encoded data removed]"
          },
          "metadata": {}
        },
        {
          "output_type": "display_data",
          "data": {
            "text/plain": [
              "<Figure size 640x480 with 1 Axes>"
            ],
            "image/png": "[encoded data removed]"
          },
          "metadata": {}
        },
        {
          "output_type": "display_data",
          "data": {
            "text/plain": [
              "<Figure size 640x480 with 1 Axes>"
            ],
            "image/png": "[encoded data removed]"
          },
          "metadata": {}
        }
      ]
    },
    {
      "cell_type": "code",
      "source": [],
      "metadata": {
        "id": "97fAM2bKG82u"
      },
      "execution_count": 225,
      "outputs": []
    },
    {
      "cell_type": "code",
      "source": [],
      "metadata": {
        "id": "MA1bmxZm-wsZ"
      },
      "execution_count": 225,
      "outputs": []
    },
    {
      "cell_type": "code",
      "source": [
        "# Plot correlation heatmap (exclude non-numeric columns)"
      ],
      "metadata": {
        "id": "85mKLmSC-vup"
      },
      "execution_count": 226,
      "outputs": []
    },
    {
      "cell_type": "code",
      "source": [
        "numeric_data = data.select_dtypes(include=['float64', 'int64'])"
      ],
      "metadata": {
        "id": "GOyZK4ta-v0O"
      },
      "execution_count": 227,
      "outputs": []
    },
    {
      "cell_type": "code",
      "source": [
        "if not numeric_data.empty:\n",
        "    correlation = numeric_data.corr()\n",
        "    plt.figure(figsize=(10, 8))\n",
        "    sns.heatmap(correlation, annot=True, cmap='coolwarm')\n",
        "    plt.title(\"Correlation Heatmap\")\n",
        "    plt.show()\n",
        "else:\n",
        "    print(\"No numeric columns available for correlation.\")"
      ],
      "metadata": {
        "colab": {
          "base_uri": "https://localhost:8080/",
          "height": 552
        },
        "id": "RNMzvkAX-v2j",
        "outputId": "ebcd41d3-9173-425c-b9a2-59c5a7652e22"
      },
      "execution_count": 228,
      "outputs": [
        {
          "output_type": "display_data",
          "data": {
            "text/plain": [
              "<Figure size 1000x800 with 2 Axes>"
            ],
            "image/png": "[encoded data removed]"
          },
          "metadata": {}
        }
      ]
    },
    {
      "cell_type": "code",
      "source": [],
      "metadata": {
        "id": "rrCxiwVWHQJJ"
      },
      "execution_count": 228,
      "outputs": []
    },
    {
      "cell_type": "code",
      "source": [],
      "metadata": {
        "id": "f5EOs1vFHQNR"
      },
      "execution_count": 228,
      "outputs": []
    },
    {
      "cell_type": "code",
      "source": [
        "# Plot scatter plots between the first numeric column and others"
      ],
      "metadata": {
        "id": "zMsd3vAiHQQj"
      },
      "execution_count": 229,
      "outputs": []
    },
    {
      "cell_type": "code",
      "source": [
        "for col in numeric_columns:\n",
        "    if col != numeric_columns[0]:  # Avoid plotting the same column against itself\n",
        "        plt.figure()\n",
        "        sns.scatterplot(x=data[numeric_columns[0]], y=data[col])\n",
        "        plt.title(f\"Scatter Plot: {numeric_columns[0]} vs {col}\")\n",
        "        plt.show()"
      ],
      "metadata": {
        "colab": {
          "base_uri": "https://localhost:8080/",
          "height": 1837
        },
        "id": "D4T2LnVpHQTp",
        "outputId": "0ebefb6e-9e4c-4823-838f-85ae41a009eb"
      },
      "execution_count": 230,
      "outputs": [
        {
          "output_type": "display_data",
          "data": {
            "text/plain": [
              "<Figure size 640x480 with 1 Axes>"
            ],
            "image/png": "[encoded data removed]"
          },
          "metadata": {}
        },
        {
          "output_type": "display_data",
          "data": {
            "text/plain": [
              "<Figure size 640x480 with 1 Axes>"
            ],
            "image/png": "[encoded data removed]"
          },
          "metadata": {}
        },
        {
          "output_type": "display_data",
          "data": {
            "text/plain": [
              "<Figure size 640x480 with 1 Axes>"
            ],
            "image/png": "[encoded data removed]"
          },
          "metadata": {}
        },
        {
          "output_type": "display_data",
          "data": {
            "text/plain": [
              "<Figure size 640x480 with 1 Axes>"
            ],
            "image/png": "[encoded data removed]"
          },
          "metadata": {}
        }
      ]
    },
    {
      "cell_type": "markdown",
      "source": [
        "<hr style=\"border: 1px solid purple;\">"
      ],
      "metadata": {
        "id": "0uC80FrvPX3O"
      }
    },
    {
      "cell_type": "code",
      "source": [],
      "metadata": {
        "id": "lDOMeGfgHQWe"
      },
      "execution_count": 230,
      "outputs": []
    },
    {
      "cell_type": "code",
      "source": [],
      "metadata": {
        "id": "aCbSaBT4HQZc"
      },
      "execution_count": 230,
      "outputs": []
    },
    {
      "cell_type": "code",
      "source": [],
      "metadata": {
        "id": "v62dUhOGNROB"
      },
      "execution_count": null,
      "outputs": []
    },
    {
      "cell_type": "markdown",
      "source": [
        "<hr style=\"border: 1px solid purple;\">"
      ],
      "metadata": {
        "id": "uXnUpdhzPZzz"
      }
    },
    {
      "cell_type": "markdown",
      "source": [
        "# 🧹 **Step 4: Data Cleaning**\n",
        "\n",
        "Data cleaning involves removing duplicate entries, handling missing values, and addressing outliers to ensure the dataset is ready for modeling.\n",
        "\n",
        "- **Objective**: Clean the data by handling missing values, duplicates, and outliers.\n",
        "- **What We Achieve**:\n",
        "  - Cleaned dataset with no missing values or duplicates.\n",
        "  - Outliers are removed to ensure that extreme values don't skew model training."
      ],
      "metadata": {
        "id": "_IZ1zKmGNReS"
      }
    },
    {
      "cell_type": "code",
      "source": [
        "# Remove duplicates"
      ],
      "metadata": {
        "id": "5x53loPXHQcm"
      },
      "execution_count": 231,
      "outputs": []
    },
    {
      "cell_type": "code",
      "source": [
        "data = data.drop_duplicates()"
      ],
      "metadata": {
        "id": "l7_LukFQ-v5S"
      },
      "execution_count": 232,
      "outputs": []
    },
    {
      "cell_type": "code",
      "source": [
        "print(\"\\nDuplicate Rows after removal:\")\n",
        "print(data.duplicated().sum(), \"\\n\")"
      ],
      "metadata": {
        "colab": {
          "base_uri": "https://localhost:8080/",
          "height": 0
        },
        "id": "5M-waLdaHaX_",
        "outputId": "c654931a-2ade-4072-e12c-884e99247de2"
      },
      "execution_count": 233,
      "outputs": [
        {
          "output_type": "stream",
          "name": "stdout",
          "text": [
            "\n",
            "Duplicate Rows after removal:\n",
            "0 \n",
            "\n"
          ]
        }
      ]
    },
    {
      "cell_type": "code",
      "source": [],
      "metadata": {
        "id": "BL2GmRJ-HabO"
      },
      "execution_count": 233,
      "outputs": []
    },
    {
      "cell_type": "code",
      "source": [
        "# We check the dataset info after removing the duplicates"
      ],
      "metadata": {
        "id": "yeIXRZwsHagD"
      },
      "execution_count": 234,
      "outputs": []
    },
    {
      "cell_type": "code",
      "source": [
        "data.info()"
      ],
      "metadata": {
        "colab": {
          "base_uri": "https://localhost:8080/",
          "height": 0
        },
        "id": "xdnX4xEPHakt",
        "outputId": "d110ce1f-7ffd-468e-ece2-c051f54e3170"
      },
      "execution_count": 235,
      "outputs": [
        {
          "output_type": "stream",
          "name": "stdout",
          "text": [
            "<class 'pandas.core.frame.DataFrame'>\n",
            "RangeIndex: 30486 entries, 0 to 30485\n",
            "Data columns (total 7 columns):\n",
            " #   Column      Non-Null Count  Dtype  \n",
            "---  ------      --------------  -----  \n",
            " 0   2024.09.23  30486 non-null  object \n",
            " 1   00:00       30486 non-null  object \n",
            " 2   1.116150    30486 non-null  float64\n",
            " 3   1.116150.1  30486 non-null  float64\n",
            " 4   1.116090    30486 non-null  float64\n",
            " 5   1.116100    30486 non-null  float64\n",
            " 6   0           30486 non-null  int64  \n",
            "dtypes: float64(4), int64(1), object(2)\n",
            "memory usage: 1.6+ MB\n"
          ]
        }
      ]
    },
    {
      "cell_type": "code",
      "source": [],
      "metadata": {
        "id": "LDZVT0fmHtm1"
      },
      "execution_count": 235,
      "outputs": []
    },
    {
      "cell_type": "code",
      "source": [],
      "metadata": {
        "id": "h2YH8eATHtsX"
      },
      "execution_count": 235,
      "outputs": []
    },
    {
      "cell_type": "code",
      "source": [
        "# Handle missing values (if any, here just dropping for simplicity)"
      ],
      "metadata": {
        "id": "ExevVFxkHtwq"
      },
      "execution_count": 236,
      "outputs": []
    },
    {
      "cell_type": "code",
      "source": [
        "data = data.dropna()"
      ],
      "metadata": {
        "id": "gnNytXwXHt0_"
      },
      "execution_count": 237,
      "outputs": []
    },
    {
      "cell_type": "code",
      "source": [
        "print(\"\\nMissing Values after removal:\")\n",
        "print(data.isnull().sum(), \"\\n\")"
      ],
      "metadata": {
        "colab": {
          "base_uri": "https://localhost:8080/",
          "height": 0
        },
        "id": "ZlMp8yYrHt4V",
        "outputId": "14061678-fb5a-48a0-eeb2-57f415a5e832"
      },
      "execution_count": 238,
      "outputs": [
        {
          "output_type": "stream",
          "name": "stdout",
          "text": [
            "\n",
            "Missing Values after removal:\n",
            "2024.09.23    0\n",
            "00:00         0\n",
            "1.116150      0\n",
            "1.116150.1    0\n",
            "1.116090      0\n",
            "1.116100      0\n",
            "0             0\n",
            "dtype: int64 \n",
            "\n"
          ]
        }
      ]
    },
    {
      "cell_type": "code",
      "source": [],
      "metadata": {
        "id": "4pbXyeOKH3W2"
      },
      "execution_count": 238,
      "outputs": []
    },
    {
      "cell_type": "code",
      "source": [
        "# We check the dataset info after solving for the missing values"
      ],
      "metadata": {
        "id": "3DxgZJwlH3uI"
      },
      "execution_count": 239,
      "outputs": []
    },
    {
      "cell_type": "code",
      "source": [
        "data.info()"
      ],
      "metadata": {
        "colab": {
          "base_uri": "https://localhost:8080/",
          "height": 0
        },
        "id": "_j9Q1IWNH31S",
        "outputId": "e9bdab32-10c9-41cd-be9e-200ac8ef2f45"
      },
      "execution_count": 240,
      "outputs": [
        {
          "output_type": "stream",
          "name": "stdout",
          "text": [
            "<class 'pandas.core.frame.DataFrame'>\n",
            "RangeIndex: 30486 entries, 0 to 30485\n",
            "Data columns (total 7 columns):\n",
            " #   Column      Non-Null Count  Dtype  \n",
            "---  ------      --------------  -----  \n",
            " 0   2024.09.23  30486 non-null  object \n",
            " 1   00:00       30486 non-null  object \n",
            " 2   1.116150    30486 non-null  float64\n",
            " 3   1.116150.1  30486 non-null  float64\n",
            " 4   1.116090    30486 non-null  float64\n",
            " 5   1.116100    30486 non-null  float64\n",
            " 6   0           30486 non-null  int64  \n",
            "dtypes: float64(4), int64(1), object(2)\n",
            "memory usage: 1.6+ MB\n"
          ]
        }
      ]
    },
    {
      "cell_type": "code",
      "source": [],
      "metadata": {
        "id": "kM8VuyTBID-g"
      },
      "execution_count": 240,
      "outputs": []
    },
    {
      "cell_type": "code",
      "source": [],
      "metadata": {
        "id": "J-66ghtNIECo"
      },
      "execution_count": 240,
      "outputs": []
    },
    {
      "cell_type": "code",
      "source": [
        "# Outlier detection and removal (using IQR method)"
      ],
      "metadata": {
        "id": "B3fSMgvyIEJy"
      },
      "execution_count": 241,
      "outputs": []
    },
    {
      "cell_type": "code",
      "source": [
        "for col in numeric_columns:\n",
        "    Q1 = data[col].quantile(0.25)\n",
        "    Q3 = data[col].quantile(0.75)\n",
        "    IQR = Q3 - Q1\n",
        "    lower_bound = Q1 - 1.5 * IQR\n",
        "    upper_bound = Q3 + 1.5 * IQR\n",
        "    data = data[(data[col] >= lower_bound) & (data[col] <= upper_bound)]"
      ],
      "metadata": {
        "id": "LJVgzZmtIEPl"
      },
      "execution_count": 242,
      "outputs": []
    },
    {
      "cell_type": "code",
      "source": [
        "print(\"\\nData shape after outlier removal:\", data.shape)"
      ],
      "metadata": {
        "colab": {
          "base_uri": "https://localhost:8080/",
          "height": 0
        },
        "id": "d_ro4kMcH35x",
        "outputId": "f6eaffe3-e956-4b6c-e2c9-5ae7239525d3"
      },
      "execution_count": 243,
      "outputs": [
        {
          "output_type": "stream",
          "name": "stdout",
          "text": [
            "\n",
            "Data shape after outlier removal: (30486, 7)\n"
          ]
        }
      ]
    },
    {
      "cell_type": "code",
      "source": [],
      "metadata": {
        "id": "76ruAlOvH3-p"
      },
      "execution_count": 243,
      "outputs": []
    },
    {
      "cell_type": "code",
      "source": [
        "# Inspect the dataset at this step"
      ],
      "metadata": {
        "id": "P6B3zRPSHt79"
      },
      "execution_count": 244,
      "outputs": []
    },
    {
      "cell_type": "code",
      "source": [
        "data.info()"
      ],
      "metadata": {
        "colab": {
          "base_uri": "https://localhost:8080/",
          "height": 0
        },
        "id": "psWuVs4XHapl",
        "outputId": "d5edd904-6663-4081-9286-9400da95bfa2"
      },
      "execution_count": 245,
      "outputs": [
        {
          "output_type": "stream",
          "name": "stdout",
          "text": [
            "<class 'pandas.core.frame.DataFrame'>\n",
            "RangeIndex: 30486 entries, 0 to 30485\n",
            "Data columns (total 7 columns):\n",
            " #   Column      Non-Null Count  Dtype  \n",
            "---  ------      --------------  -----  \n",
            " 0   2024.09.23  30486 non-null  object \n",
            " 1   00:00       30486 non-null  object \n",
            " 2   1.116150    30486 non-null  float64\n",
            " 3   1.116150.1  30486 non-null  float64\n",
            " 4   1.116090    30486 non-null  float64\n",
            " 5   1.116100    30486 non-null  float64\n",
            " 6   0           30486 non-null  int64  \n",
            "dtypes: float64(4), int64(1), object(2)\n",
            "memory usage: 1.6+ MB\n"
          ]
        }
      ]
    },
    {
      "cell_type": "markdown",
      "source": [
        "<hr style=\"border: 1px solid purple;\">"
      ],
      "metadata": {
        "id": "TPPuNcW_PdaM"
      }
    },
    {
      "cell_type": "code",
      "source": [],
      "metadata": {
        "id": "eR5JgprfIYre"
      },
      "execution_count": 245,
      "outputs": []
    },
    {
      "cell_type": "code",
      "source": [],
      "metadata": {
        "id": "VhhfgvHGIYv1"
      },
      "execution_count": 245,
      "outputs": []
    },
    {
      "cell_type": "code",
      "source": [],
      "metadata": {
        "id": "lCxRIqhtNWxD"
      },
      "execution_count": null,
      "outputs": []
    },
    {
      "cell_type": "markdown",
      "source": [
        "<hr style=\"border: 1px solid purple;\">"
      ],
      "metadata": {
        "id": "dOitK4qAPfJg"
      }
    },
    {
      "cell_type": "markdown",
      "source": [
        "# ⚙️ **Step 5: Data Scaling**\n",
        "\n",
        "Scaling ensures that all features have similar ranges, which improves model performance. Standard scaling is applied to normalize the dataset.\n",
        "\n",
        "- **Objective**: Scale numeric columns to have zero mean and unit variance.\n",
        "- **What We Achieve**:\n",
        "  - Ensured that all features are standardized to avoid models being affected by features with larger scales."
      ],
      "metadata": {
        "id": "MpAiRxEFNXCC"
      }
    },
    {
      "cell_type": "code",
      "source": [
        "# Scale the dataset"
      ],
      "metadata": {
        "id": "MXODOOnDIY06"
      },
      "execution_count": 246,
      "outputs": []
    },
    {
      "cell_type": "code",
      "source": [
        "scaler = StandardScaler()"
      ],
      "metadata": {
        "id": "gbFL2eQgIY5v"
      },
      "execution_count": 247,
      "outputs": []
    },
    {
      "cell_type": "code",
      "source": [
        "data[numeric_columns] = scaler.fit_transform(data[numeric_columns])"
      ],
      "metadata": {
        "id": "GORH5itiIY-X"
      },
      "execution_count": 248,
      "outputs": []
    },
    {
      "cell_type": "code",
      "source": [],
      "metadata": {
        "id": "1PweoZDSIZBz"
      },
      "execution_count": 248,
      "outputs": []
    },
    {
      "cell_type": "code",
      "source": [
        "# We inspect the dataset after scaling"
      ],
      "metadata": {
        "id": "xuS4A40iHask"
      },
      "execution_count": 249,
      "outputs": []
    },
    {
      "cell_type": "code",
      "source": [
        "data.head()"
      ],
      "metadata": {
        "colab": {
          "base_uri": "https://localhost:8080/",
          "height": 264
        },
        "id": "OU8chB4uIqwu",
        "outputId": "4fdfc191-8681-4243-fa66-2da122f62322"
      },
      "execution_count": 250,
      "outputs": [
        {
          "output_type": "execute_result",
          "data": {
            "text/plain": [
              "   2024.09.23  00:00  1.116150  1.116150.1  1.116090  1.116100    0\n",
              "0  2024.09.23  00:01  1.125176    1.114041  1.120519  1.127350  0.0\n",
              "1  2024.09.23  00:02  1.127171    1.124002  1.140488  1.137322  0.0\n",
              "2  2024.09.23  00:03  1.139138    1.125994  1.148476  1.135328  0.0\n",
              "3  2024.09.23  00:04  1.133155    1.122010  1.144482  1.135328  0.0\n",
              "4  2024.09.23  00:05  1.137144    1.124002  1.148476  1.137322  0.0"
            ],
            "text/html": [
              "\n",
              "  <div id=\"df-e334728e-e679-4d8a-9444-81457dbda60e\" class=\"colab-df-container\">\n",
              "    <div>\n",
              "<style scoped>\n",
              "    .dataframe tbody tr th:only-of-type {\n",
              "        vertical-align: middle;\n",
              "    }\n",
              "\n",
              "    .dataframe tbody tr th {\n",
              "        vertical-align: top;\n",
              "    }\n",
              "\n",
              "    .dataframe thead th {\n",
              "        text-align: right;\n",
              "    }\n",
              "</style>\n",
              "<table border=\"1\" class=\"dataframe\">\n",
              "  <thead>\n",
              "    <tr style=\"text-align: right;\">\n",
              "      <th></th>\n",
              "      <th>2024.09.23</th>\n",
              "      <th>00:00</th>\n",
              "      <th>1.116150</th>\n",
              "      <th>1.116150.1</th>\n",
              "      <th>1.116090</th>\n",
              "      <th>1.116100</th>\n",
              "      <th>0</th>\n",
              "    </tr>\n",
              "  </thead>\n",
              "  <tbody>\n",
              "    <tr>\n",
              "      <th>0</th>\n",
              "      <td>2024.09.23</td>\n",
              "      <td>00:01</td>\n",
              "      <td>1.125176</td>\n",
              "      <td>1.114041</td>\n",
              "      <td>1.120519</td>\n",
              "      <td>1.127350</td>\n",
              "      <td>0.0</td>\n",
              "    </tr>\n",
              "    <tr>\n",
              "      <th>1</th>\n",
              "      <td>2024.09.23</td>\n",
              "      <td>00:02</td>\n",
              "      <td>1.127171</td>\n",
              "      <td>1.124002</td>\n",
              "      <td>1.140488</td>\n",
              "      <td>1.137322</td>\n",
              "      <td>0.0</td>\n",
              "    </tr>\n",
              "    <tr>\n",
              "      <th>2</th>\n",
              "      <td>2024.09.23</td>\n",
              "      <td>00:03</td>\n",
              "      <td>1.139138</td>\n",
              "      <td>1.125994</td>\n",
              "      <td>1.148476</td>\n",
              "      <td>1.135328</td>\n",
              "      <td>0.0</td>\n",
              "    </tr>\n",
              "    <tr>\n",
              "      <th>3</th>\n",
              "      <td>2024.09.23</td>\n",
              "      <td>00:04</td>\n",
              "      <td>1.133155</td>\n",
              "      <td>1.122010</td>\n",
              "      <td>1.144482</td>\n",
              "      <td>1.135328</td>\n",
              "      <td>0.0</td>\n",
              "    </tr>\n",
              "    <tr>\n",
              "      <th>4</th>\n",
              "      <td>2024.09.23</td>\n",
              "      <td>00:05</td>\n",
              "      <td>1.137144</td>\n",
              "      <td>1.124002</td>\n",
              "      <td>1.148476</td>\n",
              "      <td>1.137322</td>\n",
              "      <td>0.0</td>\n",
              "    </tr>\n",
              "  </tbody>\n",
              "</table>\n",
              "</div>\n",
              "    <div class=\"colab-df-buttons\">\n",
              "\n",
              "  <div class=\"colab-df-container\">\n",
              "    <button class=\"colab-df-convert\" onclick=\"convertToInteractive('df-e334728e-e679-4d8a-9444-81457dbda60e')\"\n",
              "            title=\"Convert this dataframe to an interactive table.\"\n",
              "            style=\"display:none;\">\n",
              "\n",
              "  <svg xmlns=\"http://www.w3.org/2000/svg\" height=\"24px\" viewBox=\"0 -960 960 960\">\n",
              "    <path d=\"M120-120v-720h720v720H120Zm60-500h600v-160H180v160Zm220 220h160v-160H400v160Zm0 220h160v-160H400v160ZM180-400h160v-160H180v160Zm440 0h160v-160H620v160ZM180-180h160v-160H180v160Zm440 0h160v-160H620v160Z\"/>\n",
              "  </svg>\n",
              "    </button>\n",
              "\n",
              "  <style>\n",
              "    .colab-df-container {\n",
              "      display:flex;\n",
              "      gap: 12px;\n",
              "    }\n",
              "\n",
              "    .colab-df-convert {\n",
              "      background-color: #E8F0FE;\n",
              "      border: none;\n",
              "      border-radius: 50%;\n",
              "      cursor: pointer;\n",
              "      display: none;\n",
              "      fill: #1967D2;\n",
              "      height: 32px;\n",
              "      padding: 0 0 0 0;\n",
              "      width: 32px;\n",
              "    }\n",
              "\n",
              "    .colab-df-convert:hover {\n",
              "      background-color: #E2EBFA;\n",
              "      box-shadow: 0px 1px 2px rgba(60, 64, 67, 0.3), 0px 1px 3px 1px rgba(60, 64, 67, 0.15);\n",
              "      fill: #174EA6;\n",
              "    }\n",
              "\n",
              "    .colab-df-buttons div {\n",
              "      margin-bottom: 4px;\n",
              "    }\n",
              "\n",
              "    [theme=dark] .colab-df-convert {\n",
              "      background-color: #3B4455;\n",
              "      fill: #D2E3FC;\n",
              "    }\n",
              "\n",
              "    [theme=dark] .colab-df-convert:hover {\n",
              "      background-color: #434B5C;\n",
              "      box-shadow: 0px 1px 3px 1px rgba(0, 0, 0, 0.15);\n",
              "      filter: drop-shadow(0px 1px 2px rgba(0, 0, 0, 0.3));\n",
              "      fill: #FFFFFF;\n",
              "    }\n",
              "  </style>\n",
              "\n",
              "    <script>\n",
              "      const buttonEl =\n",
              "        document.querySelector('#df-e334728e-e679-4d8a-9444-81457dbda60e button.colab-df-convert');\n",
              "      buttonEl.style.display =\n",
              "        google.colab.kernel.accessAllowed ? 'block' : 'none';\n",
              "\n",
              "      async function convertToInteractive(key) {\n",
              "        const element = document.querySelector('#df-e334728e-e679-4d8a-9444-81457dbda60e');\n",
              "        const dataTable =\n",
              "          await google.colab.kernel.invokeFunction('convertToInteractive',\n",
              "                                                    [key], {});\n",
              "        if (!dataTable) return;\n",
              "\n",
              "        const docLinkHtml = 'Like what you see? Visit the ' +\n",
              "          '<a target=\"_blank\" href=https://colab.research.google.com/notebooks/data_table.ipynb>data table notebook</a>'\n",
              "          + ' to learn more about interactive tables.';\n",
              "        element.innerHTML = '';\n",
              "        dataTable['output_type'] = 'display_data';\n",
              "        await google.colab.output.renderOutput(dataTable, element);\n",
              "        const docLink = document.createElement('div');\n",
              "        docLink.innerHTML = docLinkHtml;\n",
              "        element.appendChild(docLink);\n",
              "      }\n",
              "    </script>\n",
              "  </div>\n",
              "\n",
              "\n",
              "<div id=\"df-221ae6bb-a5f8-46c7-8022-08602b792583\">\n",
              "  <button class=\"colab-df-quickchart\" onclick=\"quickchart('df-221ae6bb-a5f8-46c7-8022-08602b792583')\"\n",
              "            title=\"Suggest charts\"\n",
              "            style=\"display:none;\">\n",
              "\n",
              "<svg xmlns=\"http://www.w3.org/2000/svg\" height=\"24px\"viewBox=\"0 0 24 24\"\n",
              "     width=\"24px\">\n",
              "    <g>\n",
              "        <path d=\"M19 3H5c-1.1 0-2 .9-2 2v14c0 1.1.9 2 2 2h14c1.1 0 2-.9 2-2V5c0-1.1-.9-2-2-2zM9 17H7v-7h2v7zm4 0h-2V7h2v10zm4 0h-2v-4h2v4z\"/>\n",
              "    </g>\n",
              "</svg>\n",
              "  </button>\n",
              "\n",
              "<style>\n",
              "  .colab-df-quickchart {\n",
              "      --bg-color: #E8F0FE;\n",
              "      --fill-color: #1967D2;\n",
              "      --hover-bg-color: #E2EBFA;\n",
              "      --hover-fill-color: #174EA6;\n",
              "      --disabled-fill-color: #AAA;\n",
              "      --disabled-bg-color: #DDD;\n",
              "  }\n",
              "\n",
              "  [theme=dark] .colab-df-quickchart {\n",
              "      --bg-color: #3B4455;\n",
              "      --fill-color: #D2E3FC;\n",
              "      --hover-bg-color: #434B5C;\n",
              "      --hover-fill-color: #FFFFFF;\n",
              "      --disabled-bg-color: #3B4455;\n",
              "      --disabled-fill-color: #666;\n",
              "  }\n",
              "\n",
              "  .colab-df-quickchart {\n",
              "    background-color: var(--bg-color);\n",
              "    border: none;\n",
              "    border-radius: 50%;\n",
              "    cursor: pointer;\n",
              "    display: none;\n",
              "    fill: var(--fill-color);\n",
              "    height: 32px;\n",
              "    padding: 0;\n",
              "    width: 32px;\n",
              "  }\n",
              "\n",
              "  .colab-df-quickchart:hover {\n",
              "    background-color: var(--hover-bg-color);\n",
              "    box-shadow: 0 1px 2px rgba(60, 64, 67, 0.3), 0 1px 3px 1px rgba(60, 64, 67, 0.15);\n",
              "    fill: var(--button-hover-fill-color);\n",
              "  }\n",
              "\n",
              "  .colab-df-quickchart-complete:disabled,\n",
              "  .colab-df-quickchart-complete:disabled:hover {\n",
              "    background-color: var(--disabled-bg-color);\n",
              "    fill: var(--disabled-fill-color);\n",
              "    box-shadow: none;\n",
              "  }\n",
              "\n",
              "  .colab-df-spinner {\n",
              "    border: 2px solid var(--fill-color);\n",
              "    border-color: transparent;\n",
              "    border-bottom-color: var(--fill-color);\n",
              "    animation:\n",
              "      spin 1s steps(1) infinite;\n",
              "  }\n",
              "\n",
              "  @keyframes spin {\n",
              "    0% {\n",
              "      border-color: transparent;\n",
              "      border-bottom-color: var(--fill-color);\n",
              "      border-left-color: var(--fill-color);\n",
              "    }\n",
              "    20% {\n",
              "      border-color: transparent;\n",
              "      border-left-color: var(--fill-color);\n",
              "      border-top-color: var(--fill-color);\n",
              "    }\n",
              "    30% {\n",
              "      border-color: transparent;\n",
              "      border-left-color: var(--fill-color);\n",
              "      border-top-color: var(--fill-color);\n",
              "      border-right-color: var(--fill-color);\n",
              "    }\n",
              "    40% {\n",
              "      border-color: transparent;\n",
              "      border-right-color: var(--fill-color);\n",
              "      border-top-color: var(--fill-color);\n",
              "    }\n",
              "    60% {\n",
              "      border-color: transparent;\n",
              "      border-right-color: var(--fill-color);\n",
              "    }\n",
              "    80% {\n",
              "      border-color: transparent;\n",
              "      border-right-color: var(--fill-color);\n",
              "      border-bottom-color: var(--fill-color);\n",
              "    }\n",
              "    90% {\n",
              "      border-color: transparent;\n",
              "      border-bottom-color: var(--fill-color);\n",
              "    }\n",
              "  }\n",
              "</style>\n",
              "\n",
              "  <script>\n",
              "    async function quickchart(key) {\n",
              "      const quickchartButtonEl =\n",
              "        document.querySelector('#' + key + ' button');\n",
              "      quickchartButtonEl.disabled = true;  // To prevent multiple clicks.\n",
              "      quickchartButtonEl.classList.add('colab-df-spinner');\n",
              "      try {\n",
              "        const charts = await google.colab.kernel.invokeFunction(\n",
              "            'suggestCharts', [key], {});\n",
              "      } catch (error) {\n",
              "        console.error('Error during call to suggestCharts:', error);\n",
              "      }\n",
              "      quickchartButtonEl.classList.remove('colab-df-spinner');\n",
              "      quickchartButtonEl.classList.add('colab-df-quickchart-complete');\n",
              "    }\n",
              "    (() => {\n",
              "      let quickchartButtonEl =\n",
              "        document.querySelector('#df-221ae6bb-a5f8-46c7-8022-08602b792583 button');\n",
              "      quickchartButtonEl.style.display =\n",
              "        google.colab.kernel.accessAllowed ? 'block' : 'none';\n",
              "    })();\n",
              "  </script>\n",
              "</div>\n",
              "\n",
              "    </div>\n",
              "  </div>\n"
            ],
            "application/vnd.google.colaboratory.intrinsic+json": {
              "type": "dataframe",
              "variable_name": "data",
              "summary": "{\n  \"name\": \"data\",\n  \"rows\": 30486,\n  \"fields\": [\n    {\n      \"column\": \"2024.09.23\",\n      \"properties\": {\n        \"dtype\": \"object\",\n        \"num_unique_values\": 26,\n        \"samples\": [\n          \"2024.09.24\",\n          \"2024.09.01\",\n          \"2024.09.23\"\n        ],\n        \"semantic_type\": \"\",\n        \"description\": \"\"\n      }\n    },\n    {\n      \"column\": \"00:00\",\n      \"properties\": {\n        \"dtype\": \"object\",\n        \"num_unique_values\": 1440,\n        \"samples\": [\n          \"02:50\",\n          \"10:07\",\n          \"09:10\"\n        ],\n        \"semantic_type\": \"\",\n        \"description\": \"\"\n      }\n    },\n    {\n      \"column\": \"1.116150\",\n      \"properties\": {\n        \"dtype\": \"number\",\n        \"std\": 1.0000164013744433,\n        \"min\": -2.042176684901462,\n        \"max\": 2.1483829664683403,\n        \"num_unique_values\": 2004,\n        \"samples\": [\n          0.9935357327019574,\n          1.759444778930428,\n          -1.5535107569692306\n        ],\n        \"semantic_type\": \"\",\n        \"description\": \"\"\n      }\n    },\n    {\n      \"column\": \"1.116150.1\",\n      \"properties\": {\n        \"dtype\": \"number\",\n        \"std\": 1.0000164013744437,\n        \"min\": -2.0097426975430133,\n        \"max\": 2.1699119690896103,\n        \"num_unique_values\": 2001,\n        \"samples\": [\n          1.73162596972871,\n          0.6996616621425882,\n          1.6140856335364937\n        ],\n        \"semantic_type\": \"\",\n        \"description\": \"\"\n      }\n    },\n    {\n      \"column\": \"1.116090\",\n      \"properties\": {\n        \"dtype\": \"number\",\n        \"std\": 1.0000164013744326,\n        \"min\": -2.0366366192544407,\n        \"max\": 2.132965622902819,\n        \"num_unique_values\": 2006,\n        \"samples\": [\n          -1.6172800719110403,\n          1.4100748127203913,\n          0.39163748345782173\n        ],\n        \"semantic_type\": \"\",\n        \"description\": \"\"\n      }\n    },\n    {\n      \"column\": \"1.116100\",\n      \"properties\": {\n        \"dtype\": \"number\",\n        \"std\": 1.0000164013744506,\n        \"min\": -2.0420256730800994,\n        \"max\": 2.1485706112805403,\n        \"num_unique_values\": 2000,\n        \"samples\": [\n          -1.4795563003101289,\n          0.7084894512099285,\n          1.7017864286547513\n        ],\n        \"semantic_type\": \"\",\n        \"description\": \"\"\n      }\n    },\n    {\n      \"column\": \"0\",\n      \"properties\": {\n        \"dtype\": \"number\",\n        \"std\": 0.0,\n        \"min\": 0.0,\n        \"max\": 0.0,\n        \"num_unique_values\": 1,\n        \"samples\": [\n          0.0\n        ],\n        \"semantic_type\": \"\",\n        \"description\": \"\"\n      }\n    }\n  ]\n}"
            }
          },
          "metadata": {},
          "execution_count": 250
        }
      ]
    },
    {
      "cell_type": "code",
      "source": [],
      "metadata": {
        "id": "evmXYzkBIq3b"
      },
      "execution_count": 250,
      "outputs": []
    },
    {
      "cell_type": "code",
      "source": [],
      "metadata": {
        "id": "KDjlyqBIIq7H"
      },
      "execution_count": 250,
      "outputs": []
    },
    {
      "cell_type": "code",
      "source": [
        "# Save the processed dataset"
      ],
      "metadata": {
        "id": "5PSHQCH7Iq_U"
      },
      "execution_count": 251,
      "outputs": []
    },
    {
      "cell_type": "code",
      "source": [
        "data.to_csv(\"processed_forex_data.csv\", index=False)"
      ],
      "metadata": {
        "id": "d8om1VZUJUM5"
      },
      "execution_count": 252,
      "outputs": []
    },
    {
      "cell_type": "markdown",
      "source": [
        "<hr style=\"border: 1px solid purple;\">"
      ],
      "metadata": {
        "id": "GYs3lALjPiAN"
      }
    },
    {
      "cell_type": "code",
      "source": [],
      "metadata": {
        "id": "fHKQbp6TJURL"
      },
      "execution_count": 252,
      "outputs": []
    },
    {
      "cell_type": "code",
      "source": [],
      "metadata": {
        "id": "VX4WkV1VJUVt"
      },
      "execution_count": 252,
      "outputs": []
    },
    {
      "cell_type": "code",
      "source": [],
      "metadata": {
        "id": "uQdno5-6JUlC"
      },
      "execution_count": 252,
      "outputs": []
    },
    {
      "cell_type": "markdown",
      "source": [
        "<hr style=\"border: 1px solid purple;\">"
      ],
      "metadata": {
        "id": "exxb1NCkPkKb"
      }
    },
    {
      "cell_type": "markdown",
      "source": [
        "# 🤖 **Step 6: GAN Model Definition**\n",
        "\n",
        "The architecture of the GAN consists of two parts: the generator and the discriminator. The generator creates synthetic data, and the discriminator evaluates it. Both are neural networks with dense layers and LeakyReLU activation functions.\n",
        "\n",
        "- **Objective**: Define the architecture for the generator and discriminator.\n",
        "- **What We Achieve**:\n",
        "  - A generator that learns to produce synthetic data.\n",
        "  - A discriminator that learns to distinguish real data from fake data."
      ],
      "metadata": {
        "id": "yG3L0AdKNhJi"
      }
    },
    {
      "cell_type": "code",
      "source": [
        "# Load the preprocessed dataset"
      ],
      "metadata": {
        "id": "2z61ZTk7Irhz"
      },
      "execution_count": 253,
      "outputs": []
    },
    {
      "cell_type": "code",
      "source": [
        "processed_data = pd.read_csv(\"processed_forex_data.csv\")"
      ],
      "metadata": {
        "id": "bonuzAHFJcgg"
      },
      "execution_count": 254,
      "outputs": []
    },
    {
      "cell_type": "code",
      "source": [],
      "metadata": {
        "id": "Mo6fTUf3JcmK"
      },
      "execution_count": 254,
      "outputs": []
    },
    {
      "cell_type": "code",
      "source": [],
      "metadata": {
        "id": "1XeN6YfYJcqq"
      },
      "execution_count": 254,
      "outputs": []
    },
    {
      "cell_type": "code",
      "source": [
        "# Inspect the dataset"
      ],
      "metadata": {
        "id": "awIjuRd5JcxG"
      },
      "execution_count": 255,
      "outputs": []
    },
    {
      "cell_type": "code",
      "source": [
        "print(\"Head of the dataset:\")\n",
        "print(processed_data.head())"
      ],
      "metadata": {
        "colab": {
          "base_uri": "https://localhost:8080/",
          "height": 0
        },
        "id": "uJHZngN3Jc3a",
        "outputId": "973b5bc0-9eba-48c2-9491-bbc7b96badd3"
      },
      "execution_count": 256,
      "outputs": [
        {
          "output_type": "stream",
          "name": "stdout",
          "text": [
            "Head of the dataset:\n",
            "   2024.09.23  00:00  1.116150  1.116150.1  1.116090  1.116100    0\n",
            "0  2024.09.23  00:01  1.125176    1.114041  1.120519  1.127350  0.0\n",
            "1  2024.09.23  00:02  1.127171    1.124002  1.140488  1.137322  0.0\n",
            "2  2024.09.23  00:03  1.139138    1.125994  1.148476  1.135328  0.0\n",
            "3  2024.09.23  00:04  1.133155    1.122010  1.144482  1.135328  0.0\n",
            "4  2024.09.23  00:05  1.137144    1.124002  1.148476  1.137322  0.0\n"
          ]
        }
      ]
    },
    {
      "cell_type": "code",
      "source": [],
      "metadata": {
        "id": "NdRuapUXJoAe"
      },
      "execution_count": 256,
      "outputs": []
    },
    {
      "cell_type": "code",
      "source": [],
      "metadata": {
        "id": "SfSnLEcZJoJP"
      },
      "execution_count": 256,
      "outputs": []
    },
    {
      "cell_type": "code",
      "source": [
        "print(\"\\nInfo of the dataset:\")\n",
        "print(processed_data.info())"
      ],
      "metadata": {
        "colab": {
          "base_uri": "https://localhost:8080/",
          "height": 0
        },
        "id": "npjvQIbIJoN9",
        "outputId": "62c9fc99-c4eb-4f40-8de1-ad8bddaab335"
      },
      "execution_count": 257,
      "outputs": [
        {
          "output_type": "stream",
          "name": "stdout",
          "text": [
            "\n",
            "Info of the dataset:\n",
            "<class 'pandas.core.frame.DataFrame'>\n",
            "RangeIndex: 30486 entries, 0 to 30485\n",
            "Data columns (total 7 columns):\n",
            " #   Column      Non-Null Count  Dtype  \n",
            "---  ------      --------------  -----  \n",
            " 0   2024.09.23  30486 non-null  object \n",
            " 1   00:00       30486 non-null  object \n",
            " 2   1.116150    30486 non-null  float64\n",
            " 3   1.116150.1  30486 non-null  float64\n",
            " 4   1.116090    30486 non-null  float64\n",
            " 5   1.116100    30486 non-null  float64\n",
            " 6   0           30486 non-null  float64\n",
            "dtypes: float64(5), object(2)\n",
            "memory usage: 1.6+ MB\n",
            "None\n"
          ]
        }
      ]
    },
    {
      "cell_type": "code",
      "source": [],
      "metadata": {
        "id": "RTVEbO4UJoc3"
      },
      "execution_count": 257,
      "outputs": []
    },
    {
      "cell_type": "code",
      "source": [],
      "metadata": {
        "id": "pEWqcrEnJoiZ"
      },
      "execution_count": 257,
      "outputs": []
    },
    {
      "cell_type": "code",
      "source": [
        "print(\"\\nDescription of the dataset:\")\n",
        "print(processed_data.describe())"
      ],
      "metadata": {
        "colab": {
          "base_uri": "https://localhost:8080/",
          "height": 0
        },
        "id": "CYE82HPiJo2A",
        "outputId": "0ad4ab5d-e8d1-40dd-9480-b3aa1fe2839f"
      },
      "execution_count": 258,
      "outputs": [
        {
          "output_type": "stream",
          "name": "stdout",
          "text": [
            "\n",
            "Description of the dataset:\n",
            "           1.116150    1.116150.1      1.116090      1.116100        0\n",
            "count  3.048600e+04  3.048600e+04  3.048600e+04  3.048600e+04  30486.0\n",
            "mean  -5.742890e-15 -1.071012e-14  8.054962e-15  2.028657e-15      0.0\n",
            "std    1.000016e+00  1.000016e+00  1.000016e+00  1.000016e+00      0.0\n",
            "min   -2.042177e+00 -2.009743e+00 -2.036637e+00 -2.042026e+00      0.0\n",
            "25%   -8.753621e-01 -8.741835e-01 -8.784138e-01 -8.771955e-01      0.0\n",
            "50%    1.478445e-01  1.438353e-01  1.520052e-01  1.480147e-01      0.0\n",
            "75%    7.741347e-01  7.853267e-01  7.710553e-01  7.743103e-01      0.0\n",
            "max    2.148383e+00  2.169912e+00  2.132966e+00  2.148571e+00      0.0\n"
          ]
        }
      ]
    },
    {
      "cell_type": "code",
      "source": [],
      "metadata": {
        "id": "MLLgloY0JwGI"
      },
      "execution_count": 258,
      "outputs": []
    },
    {
      "cell_type": "code",
      "source": [],
      "metadata": {
        "id": "GHsj5cBGJwML"
      },
      "execution_count": 258,
      "outputs": []
    },
    {
      "cell_type": "code",
      "source": [],
      "metadata": {
        "id": "VXViJ3j0JwQ9"
      },
      "execution_count": 258,
      "outputs": []
    },
    {
      "cell_type": "code",
      "source": [
        "# Drop datetime columns as they are not needed for GAN training"
      ],
      "metadata": {
        "id": "zFtFiZaAJwUo"
      },
      "execution_count": 259,
      "outputs": []
    },
    {
      "cell_type": "code",
      "source": [
        "processed_data = processed_data.drop(columns=[\"2024.09.23\", \"00:00\"])"
      ],
      "metadata": {
        "id": "uBU1SE1FJdFn"
      },
      "execution_count": 260,
      "outputs": []
    },
    {
      "cell_type": "code",
      "source": [],
      "metadata": {
        "id": "PMvRdn3_J3h-"
      },
      "execution_count": 260,
      "outputs": []
    },
    {
      "cell_type": "code",
      "source": [
        "# Normalize the data to a range [-1, 1] for better GAN performance"
      ],
      "metadata": {
        "id": "42O6bqmuJ3mC"
      },
      "execution_count": 261,
      "outputs": []
    },
    {
      "cell_type": "code",
      "source": [
        "data = processed_data.values"
      ],
      "metadata": {
        "id": "nGDARKqkJ3qk"
      },
      "execution_count": 262,
      "outputs": []
    },
    {
      "cell_type": "code",
      "source": [
        "data = (data - np.min(data)) / (np.max(data) - np.min(data)) * 2 - 1  # Scaling to [-1, 1]\n"
      ],
      "metadata": {
        "id": "-wFs3soRJ3vz"
      },
      "execution_count": 263,
      "outputs": []
    },
    {
      "cell_type": "code",
      "source": [],
      "metadata": {
        "id": "wXch0bFHJ3z2"
      },
      "execution_count": 263,
      "outputs": []
    },
    {
      "cell_type": "code",
      "source": [
        "# Ensure the data is of type float32"
      ],
      "metadata": {
        "id": "WXOGtkLwJ34G"
      },
      "execution_count": 264,
      "outputs": []
    },
    {
      "cell_type": "code",
      "source": [
        "data = data.astype(np.float32)"
      ],
      "metadata": {
        "id": "NyLBfo2vJ3-_"
      },
      "execution_count": 265,
      "outputs": []
    },
    {
      "cell_type": "code",
      "source": [],
      "metadata": {
        "id": "HB_F1jKKJ4Eo"
      },
      "execution_count": 265,
      "outputs": []
    },
    {
      "cell_type": "code",
      "source": [],
      "metadata": {
        "id": "-fAIyjoNKGcK"
      },
      "execution_count": 265,
      "outputs": []
    },
    {
      "cell_type": "code",
      "source": [
        "# Define the generator model"
      ],
      "metadata": {
        "id": "WRWniVaTKGii"
      },
      "execution_count": 266,
      "outputs": []
    },
    {
      "cell_type": "code",
      "source": [
        "def build_generator():\n",
        "    model = Sequential()\n",
        "    model.add(Dense(128, input_dim=data.shape[1], kernel_initializer=initializers.RandomNormal(stddev=0.02)))\n",
        "    model.add(LeakyReLU(0.2))\n",
        "    model.add(Dense(256))\n",
        "    model.add(LeakyReLU(0.2))\n",
        "    model.add(Dense(512))\n",
        "    model.add(LeakyReLU(0.2))\n",
        "    model.add(Dense(data.shape[1], activation='tanh'))  # Output the same shape as the input data\n",
        "    return model"
      ],
      "metadata": {
        "id": "js2WM3abKGpA"
      },
      "execution_count": 267,
      "outputs": []
    },
    {
      "cell_type": "code",
      "source": [],
      "metadata": {
        "id": "b1C4n8VmKGt1"
      },
      "execution_count": 267,
      "outputs": []
    },
    {
      "cell_type": "code",
      "source": [],
      "metadata": {
        "id": "P-RT-8pVKGzS"
      },
      "execution_count": 267,
      "outputs": []
    },
    {
      "cell_type": "code",
      "source": [
        "# Define the discriminator model"
      ],
      "metadata": {
        "id": "8BwarFxYKG4A"
      },
      "execution_count": 268,
      "outputs": []
    },
    {
      "cell_type": "code",
      "source": [
        "def build_discriminator():\n",
        "    model = Sequential()\n",
        "    model.add(Dense(512, input_dim=data.shape[1], kernel_initializer=initializers.RandomNormal(stddev=0.02)))\n",
        "    model.add(LeakyReLU(0.2))\n",
        "    model.add(Dense(256))\n",
        "    model.add(LeakyReLU(0.2))\n",
        "    model.add(Dense(128))\n",
        "    model.add(LeakyReLU(0.2))\n",
        "    model.add(Dense(1, activation='sigmoid'))  # Output binary classification (real or fake)\n",
        "    return model"
      ],
      "metadata": {
        "id": "vhdBDC8-KG8j"
      },
      "execution_count": 269,
      "outputs": []
    },
    {
      "cell_type": "code",
      "source": [],
      "metadata": {
        "id": "LzUxWzh9KSdr"
      },
      "execution_count": 269,
      "outputs": []
    },
    {
      "cell_type": "code",
      "source": [],
      "metadata": {
        "id": "NQ3Ml1veKSjt"
      },
      "execution_count": 269,
      "outputs": []
    },
    {
      "cell_type": "code",
      "source": [
        "# Define the GAN model (combined generator and discriminator)"
      ],
      "metadata": {
        "id": "0F2d4tqvKSqj"
      },
      "execution_count": 270,
      "outputs": []
    },
    {
      "cell_type": "code",
      "source": [
        "def build_gan(generator, discriminator):\n",
        "    model = Sequential()\n",
        "    model.add(generator)\n",
        "    model.add(discriminator)\n",
        "    return model"
      ],
      "metadata": {
        "id": "V7Lebsz1KSvC"
      },
      "execution_count": 271,
      "outputs": []
    },
    {
      "cell_type": "markdown",
      "source": [
        "<hr style=\"border: 1px solid purple;\">"
      ],
      "metadata": {
        "id": "vyFs0bJsPrgn"
      }
    },
    {
      "cell_type": "code",
      "source": [],
      "metadata": {
        "id": "o7011YS7KSzl"
      },
      "execution_count": 271,
      "outputs": []
    },
    {
      "cell_type": "code",
      "source": [],
      "metadata": {
        "id": "r4daVTBBKS4K"
      },
      "execution_count": 271,
      "outputs": []
    },
    {
      "cell_type": "code",
      "source": [],
      "metadata": {
        "id": "eg83hB0yN5Td"
      },
      "execution_count": null,
      "outputs": []
    },
    {
      "cell_type": "markdown",
      "source": [
        "<hr style=\"border: 1px solid purple;\">"
      ],
      "metadata": {
        "id": "TF0APqFWPs_c"
      }
    },
    {
      "cell_type": "markdown",
      "source": [
        "# 🛠️ **Step 7: Compiling the Models**\n",
        "\n",
        "In this step, we compile both the discriminator and the combined GAN model. The discriminator is trained separately from the generator, but the combined model is used for training the generator.\n",
        "\n",
        "- **Objective**: Compile the models with appropriate loss functions and optimizers.\n",
        "- **What We Achieve**:\n",
        "  - The discriminator is compiled with a binary cross-entropy loss function and Adam optimizer.\n",
        "  - The combined GAN model is set up for training the generator while keeping the discriminator frozen."
      ],
      "metadata": {
        "id": "aDpc56g-N60q"
      }
    },
    {
      "cell_type": "code",
      "source": [
        "# Build and compile the models"
      ],
      "metadata": {
        "id": "2LvXeQN7Ha1E"
      },
      "execution_count": 272,
      "outputs": []
    },
    {
      "cell_type": "code",
      "source": [
        "generator = build_generator()"
      ],
      "metadata": {
        "id": "WTVv65uSKaOG"
      },
      "execution_count": 273,
      "outputs": []
    },
    {
      "cell_type": "code",
      "source": [
        "discriminator = build_discriminator()"
      ],
      "metadata": {
        "id": "yBcTKYm9KaTF"
      },
      "execution_count": 274,
      "outputs": []
    },
    {
      "cell_type": "code",
      "source": [],
      "metadata": {
        "id": "e6nnPwzaKaXZ"
      },
      "execution_count": 274,
      "outputs": []
    },
    {
      "cell_type": "code",
      "source": [
        "# Compile the discriminator"
      ],
      "metadata": {
        "id": "q2otmQR7KacQ"
      },
      "execution_count": 275,
      "outputs": []
    },
    {
      "cell_type": "code",
      "source": [
        "discriminator.compile(loss='binary_crossentropy', optimizer=Adam(learning_rate=0.0002, beta_1=0.5), metrics=['accuracy'])\n"
      ],
      "metadata": {
        "id": "P5HYcplVKao_"
      },
      "execution_count": 276,
      "outputs": []
    },
    {
      "cell_type": "code",
      "source": [],
      "metadata": {
        "id": "kwW4vnyDKl1k"
      },
      "execution_count": 276,
      "outputs": []
    },
    {
      "cell_type": "code",
      "source": [
        "# Compile the combined model (generator + discriminator)"
      ],
      "metadata": {
        "id": "uHl6h2gUKl7b"
      },
      "execution_count": 277,
      "outputs": []
    },
    {
      "cell_type": "code",
      "source": [
        "discriminator.trainable = False"
      ],
      "metadata": {
        "id": "C8jrkcRTKmAl"
      },
      "execution_count": 278,
      "outputs": []
    },
    {
      "cell_type": "code",
      "source": [
        "gan = build_gan(generator, discriminator)"
      ],
      "metadata": {
        "id": "0h8xQTKYKmGC"
      },
      "execution_count": 279,
      "outputs": []
    },
    {
      "cell_type": "code",
      "source": [
        "gan.compile(loss='binary_crossentropy', optimizer=Adam(learning_rate=0.0002, beta_1=0.5))\n"
      ],
      "metadata": {
        "id": "sBIpMDOKKmL9"
      },
      "execution_count": 280,
      "outputs": []
    },
    {
      "cell_type": "code",
      "source": [],
      "metadata": {
        "id": "uxBwhk3_KxMq"
      },
      "execution_count": 280,
      "outputs": []
    },
    {
      "cell_type": "code",
      "source": [],
      "metadata": {
        "id": "9iIBJ7CsKxTX"
      },
      "execution_count": 280,
      "outputs": []
    },
    {
      "cell_type": "code",
      "source": [
        "# Training parameters"
      ],
      "metadata": {
        "id": "BKGxLvvnKxXm"
      },
      "execution_count": 281,
      "outputs": []
    },
    {
      "cell_type": "code",
      "source": [
        "epochs = 10"
      ],
      "metadata": {
        "id": "9aqjqJ4SKmZl"
      },
      "execution_count": 282,
      "outputs": []
    },
    {
      "cell_type": "code",
      "source": [
        "batch_size = 64"
      ],
      "metadata": {
        "id": "jHdy1AS4KmeA"
      },
      "execution_count": 283,
      "outputs": []
    },
    {
      "cell_type": "code",
      "source": [
        "half_batch = batch_size // 2"
      ],
      "metadata": {
        "id": "-GrCZhjHKmiU"
      },
      "execution_count": 284,
      "outputs": []
    },
    {
      "cell_type": "code",
      "source": [],
      "metadata": {
        "id": "sk98jlCFK8l4"
      },
      "execution_count": 284,
      "outputs": []
    },
    {
      "cell_type": "code",
      "source": [
        "# Lists to store losses for plotting"
      ],
      "metadata": {
        "id": "Jl_Op3b2K8s9"
      },
      "execution_count": 285,
      "outputs": []
    },
    {
      "cell_type": "code",
      "source": [
        "d_losses = []"
      ],
      "metadata": {
        "id": "UeYcBtIfK82K"
      },
      "execution_count": 286,
      "outputs": []
    },
    {
      "cell_type": "code",
      "source": [
        "g_losses = []"
      ],
      "metadata": {
        "id": "asUs7fv6K87s"
      },
      "execution_count": 287,
      "outputs": []
    },
    {
      "cell_type": "markdown",
      "source": [
        "<hr style=\"border: 1px solid purple;\">"
      ],
      "metadata": {
        "id": "IEpG4FNcPxHY"
      }
    },
    {
      "cell_type": "code",
      "source": [],
      "metadata": {
        "id": "auHuPvHSKmn-"
      },
      "execution_count": 287,
      "outputs": []
    },
    {
      "cell_type": "code",
      "source": [],
      "metadata": {
        "id": "840W40lLKmub"
      },
      "execution_count": 287,
      "outputs": []
    },
    {
      "cell_type": "code",
      "source": [],
      "metadata": {
        "id": "f3-JFh8_OBMr"
      },
      "execution_count": null,
      "outputs": []
    },
    {
      "cell_type": "markdown",
      "source": [
        "<hr style=\"border: 1px solid purple;\">"
      ],
      "metadata": {
        "id": "qMEGAclrPypw"
      }
    },
    {
      "cell_type": "markdown",
      "source": [
        "# 🏋️‍♂️ **Step 8: Training the Models**\n",
        "\n",
        "Training a GAN involves an iterative process. The discriminator is trained on real and fake data, while the generator is trained through the combined model to improve its ability to generate realistic data.\n",
        "\n",
        "- **Objective**: Train the discriminator and generator models.\n",
        "- **What We Achieve**:\n",
        "  - The discriminator becomes better at distinguishing real data from fake data.\n",
        "  - The generator improves its ability to create more realistic synthetic data."
      ],
      "metadata": {
        "id": "fBsofExmOC67"
      }
    },
    {
      "cell_type": "code",
      "source": [
        "# Training loop"
      ],
      "metadata": {
        "id": "eMQl3cgLKmzo"
      },
      "execution_count": 288,
      "outputs": []
    },
    {
      "cell_type": "code",
      "source": [
        "for epoch in range(epochs):\n",
        "    # Train the discriminator with real and fake data\n",
        "    idx = np.random.randint(0, data.shape[0], half_batch)\n",
        "    real_data = data[idx]\n",
        "    fake_data = generator.predict(np.random.randn(half_batch, data.shape[1]))\n",
        "\n",
        "    # Train the discriminator (real: 1, fake: 0)\n",
        "    d_loss_real = discriminator.train_on_batch(real_data, np.ones((half_batch, 1)))\n",
        "    d_loss_fake = discriminator.train_on_batch(fake_data, np.zeros((half_batch, 1)))\n",
        "    d_loss = 0.5 * np.add(d_loss_real, d_loss_fake)\n",
        "\n",
        "    # Train the generator via the combined model (the discriminator is frozen)\n",
        "    noise = np.random.randn(batch_size, data.shape[1])\n",
        "    g_loss = gan.train_on_batch(noise, np.ones((batch_size, 1)))\n",
        "\n",
        "    # Print progress\n",
        "    print(f\"{epoch + 1}/{epochs} | D Loss: {d_loss[0]} | D Accuracy: {d_loss[1] * 100}% | G Loss: {g_loss}\")\n",
        "\n",
        "    # Store losses for plotting\n",
        "    d_losses.append(d_loss[0])\n",
        "    g_losses.append(g_loss)"
      ],
      "metadata": {
        "colab": {
          "base_uri": "https://localhost:8080/",
          "height": 0
        },
        "id": "SUxOpB7XKawC",
        "outputId": "76165e9c-76e6-46f1-a05e-14cf1d1b75a7"
      },
      "execution_count": 289,
      "outputs": [
        {
          "output_type": "stream",
          "name": "stdout",
          "text": [
            "\u001b[1m1/1\u001b[0m \u001b[32m━━━━━━━━━━━━━━━━━━━━\u001b[0m\u001b[37m\u001b[0m \u001b[1m0s\u001b[0m 157ms/step\n",
            "1/10 | D Loss: 0.6911392211914062 | D Accuracy: 85.15625% | G Loss: [array(0.69181937, dtype=float32), array(0.69181937, dtype=float32), array(0.703125, dtype=float32)]\n",
            "\u001b[1m1/1\u001b[0m \u001b[32m━━━━━━━━━━━━━━━━━━━━\u001b[0m\u001b[37m\u001b[0m \u001b[1m0s\u001b[0m 15ms/step\n",
            "2/10 | D Loss: 0.6915582418441772 | D Accuracy: 71.35416269302368% | G Loss: [array(0.69180167, dtype=float32), array(0.69180167, dtype=float32), array(0.625, dtype=float32)]\n",
            "\u001b[1m1/1\u001b[0m \u001b[32m━━━━━━━━━━━━━━━━━━━━\u001b[0m\u001b[37m\u001b[0m \u001b[1m0s\u001b[0m 14ms/step\n",
            "3/10 | D Loss: 0.6917415857315063 | D Accuracy: 64.68750238418579% | G Loss: [array(0.691891, dtype=float32), array(0.691891, dtype=float32), array(0.59375, dtype=float32)]\n",
            "\u001b[1m1/1\u001b[0m \u001b[32m━━━━━━━━━━━━━━━━━━━━\u001b[0m\u001b[37m\u001b[0m \u001b[1m0s\u001b[0m 15ms/step\n",
            "4/10 | D Loss: 0.6917704343795776 | D Accuracy: 61.10491156578064% | G Loss: [array(0.6918845, dtype=float32), array(0.6918845, dtype=float32), array(0.5703125, dtype=float32)]\n",
            "\u001b[1m1/1\u001b[0m \u001b[32m━━━━━━━━━━━━━━━━━━━━\u001b[0m\u001b[37m\u001b[0m \u001b[1m0s\u001b[0m 15ms/step\n",
            "5/10 | D Loss: 0.6917281746864319 | D Accuracy: 58.715277910232544% | G Loss: [array(0.6918291, dtype=float32), array(0.6918291, dtype=float32), array(0.55625, dtype=float32)]\n",
            "\u001b[1m1/1\u001b[0m \u001b[32m━━━━━━━━━━━━━━━━━━━━\u001b[0m\u001b[37m\u001b[0m \u001b[1m0s\u001b[0m 15ms/step\n",
            "6/10 | D Loss: 0.6917716264724731 | D Accuracy: 57.17329978942871% | G Loss: [array(0.6918607, dtype=float32), array(0.6918607, dtype=float32), array(0.546875, dtype=float32)]\n",
            "\u001b[1m1/1\u001b[0m \u001b[32m━━━━━━━━━━━━━━━━━━━━\u001b[0m\u001b[37m\u001b[0m \u001b[1m0s\u001b[0m 25ms/step\n",
            "7/10 | D Loss: 0.6919018030166626 | D Accuracy: 56.09546899795532% | G Loss: [array(0.69198066, dtype=float32), array(0.69198066, dtype=float32), array(0.5401786, dtype=float32)]\n",
            "\u001b[1m1/1\u001b[0m \u001b[32m━━━━━━━━━━━━━━━━━━━━\u001b[0m\u001b[37m\u001b[0m \u001b[1m0s\u001b[0m 28ms/step\n",
            "8/10 | D Loss: 0.6919774413108826 | D Accuracy: 55.29947876930237% | G Loss: [array(0.69204646, dtype=float32), array(0.69204646, dtype=float32), array(0.53515625, dtype=float32)]\n",
            "\u001b[1m1/1\u001b[0m \u001b[32m━━━━━━━━━━━━━━━━━━━━\u001b[0m\u001b[37m\u001b[0m \u001b[1m0s\u001b[0m 21ms/step\n",
            "9/10 | D Loss: 0.6920561790466309 | D Accuracy: 54.6875% | G Loss: [array(0.69212127, dtype=float32), array(0.69212127, dtype=float32), array(0.53125, dtype=float32)]\n",
            "\u001b[1m1/1\u001b[0m \u001b[32m━━━━━━━━━━━━━━━━━━━━\u001b[0m\u001b[37m\u001b[0m \u001b[1m0s\u001b[0m 26ms/step\n",
            "10/10 | D Loss: 0.69209223985672 | D Accuracy: 54.202306270599365% | G Loss: [array(0.6921533, dtype=float32), array(0.6921533, dtype=float32), array(0.528125, dtype=float32)]\n"
          ]
        }
      ]
    },
    {
      "cell_type": "markdown",
      "source": [
        "<hr style=\"border: 1px solid purple;\">"
      ],
      "metadata": {
        "id": "1rlm_qkyP05s"
      }
    },
    {
      "cell_type": "code",
      "source": [],
      "metadata": {
        "id": "CH6TlB5xLLuF"
      },
      "execution_count": 289,
      "outputs": []
    },
    {
      "cell_type": "code",
      "source": [],
      "metadata": {
        "id": "xA8QB9hsMXm6"
      },
      "execution_count": null,
      "outputs": []
    },
    {
      "cell_type": "code",
      "source": [],
      "metadata": {
        "id": "QJQEB-T4OLXq"
      },
      "execution_count": null,
      "outputs": []
    },
    {
      "cell_type": "markdown",
      "source": [
        "<hr style=\"border: 1px solid purple;\">"
      ],
      "metadata": {
        "id": "ipU9YchVP2iZ"
      }
    },
    {
      "cell_type": "markdown",
      "source": [
        "# 📈 **Step 9: Model Evaluation and Loss Plotting**\n",
        "\n",
        "During training, we monitor the losses of both the discriminator and the generator to assess model performance. We plot the losses for both models over epochs to ensure the training is progressing well.\n",
        "\n",
        "- **Objective**: Monitor and visualize the loss of both the discriminator and generator.\n",
        "- **What We Achieve**:\n",
        "  - Track how both models improve during training.\n",
        "  - Visualize if the GAN is converging or if there are issues during training."
      ],
      "metadata": {
        "id": "1IfSrw6GOLrS"
      }
    },
    {
      "cell_type": "code",
      "source": [
        "# Plot the losses"
      ],
      "metadata": {
        "id": "wFONLbzyLL72"
      },
      "execution_count": 290,
      "outputs": []
    },
    {
      "cell_type": "code",
      "source": [
        "plt.figure(figsize=(10, 6))\n",
        "plt.plot(d_losses, label=\"Discriminator Loss\")\n",
        "plt.plot(g_losses, label=\"Generator Loss\")\n",
        "plt.title(\"Discriminator and Generator Loss over Epochs\")\n",
        "plt.xlabel(\"Epochs\")\n",
        "plt.ylabel(\"Loss\")\n",
        "plt.legend()\n",
        "plt.show()"
      ],
      "metadata": {
        "colab": {
          "base_uri": "https://localhost:8080/",
          "height": 584
        },
        "id": "hjBGAvVYLMBC",
        "outputId": "6964126d-9db8-4ad6-a7e2-27959614d26b"
      },
      "execution_count": 291,
      "outputs": [
        {
          "output_type": "display_data",
          "data": {
            "text/plain": [
              "<Figure size 1000x600 with 1 Axes>"
            ],
            "image/png": "[encoded data removed]"
          },
          "metadata": {}
        }
      ]
    },
    {
      "cell_type": "markdown",
      "source": [
        "<hr style=\"border: 1px solid purple;\">"
      ],
      "metadata": {
        "id": "Z6_XekuYP6B1"
      }
    },
    {
      "cell_type": "code",
      "source": [],
      "metadata": {
        "id": "scnoIMPrLP_f"
      },
      "execution_count": 291,
      "outputs": []
    },
    {
      "cell_type": "code",
      "source": [],
      "metadata": {
        "id": "pf7pF0XULQEy"
      },
      "execution_count": 291,
      "outputs": []
    },
    {
      "cell_type": "code",
      "source": [],
      "metadata": {
        "id": "i9-XsvqNOP7T"
      },
      "execution_count": null,
      "outputs": []
    },
    {
      "cell_type": "markdown",
      "source": [
        "<hr style=\"border: 1px solid purple;\">"
      ],
      "metadata": {
        "id": "_KeCMaWqP72y"
      }
    },
    {
      "cell_type": "markdown",
      "source": [
        "# 📝 **Step 10: Generating Synthetic Data**\n",
        "\n",
        "After training the GAN, we use the generator to produce synthetic data that resembles the original dataset. This synthetic data can be used for further analysis or testing.\n",
        "\n",
        "- **Objective**: Generate synthetic data using the trained generator.\n",
        "- **What We Achieve**:\n",
        "  - Generated realistic synthetic data that mimics the real Forex data.\n",
        "  - This synthetic data can be used to augment the dataset or test trading strategies."
      ],
      "metadata": {
        "id": "jBRTl_iiOQNW"
      }
    },
    {
      "cell_type": "code",
      "source": [
        "# Generate new synthetic data"
      ],
      "metadata": {
        "id": "Bo373xIfLQKJ"
      },
      "execution_count": 292,
      "outputs": []
    },
    {
      "cell_type": "code",
      "source": [
        "synthetic_data = generator.predict(np.random.randn(1000, data.shape[1]))"
      ],
      "metadata": {
        "colab": {
          "base_uri": "https://localhost:8080/",
          "height": 0
        },
        "id": "SqyFyVKKLSrB",
        "outputId": "e86a87cd-4b2c-4309-86a6-e822c0aff919"
      },
      "execution_count": 293,
      "outputs": [
        {
          "output_type": "stream",
          "name": "stdout",
          "text": [
            "\u001b[1m32/32\u001b[0m \u001b[32m━━━━━━━━━━━━━━━━━━━━\u001b[0m\u001b[37m\u001b[0m \u001b[1m0s\u001b[0m 4ms/step\n"
          ]
        }
      ]
    },
    {
      "cell_type": "code",
      "source": [],
      "metadata": {
        "id": "rNwgEGKJLppc"
      },
      "execution_count": 293,
      "outputs": []
    },
    {
      "cell_type": "code",
      "source": [
        "# Save the generated synthetic data as a CSV file"
      ],
      "metadata": {
        "id": "xzAtCIYDLpwV"
      },
      "execution_count": 294,
      "outputs": []
    },
    {
      "cell_type": "code",
      "source": [
        "synthetic_data_df = pd.DataFrame(synthetic_data)  # Convert synthetic data to DataFrame\n"
      ],
      "metadata": {
        "id": "mCM4HoEiLupb"
      },
      "execution_count": 295,
      "outputs": []
    },
    {
      "cell_type": "code",
      "source": [
        "synthetic_data_df.to_csv(\"synthetic_forex_data.csv\", index=False)  # Save to CSV\n"
      ],
      "metadata": {
        "id": "Ay1daXNcLuwe"
      },
      "execution_count": 296,
      "outputs": []
    },
    {
      "cell_type": "markdown",
      "source": [
        "<hr style=\"border: 1px solid purple;\">"
      ],
      "metadata": {
        "id": "lW3R-NhpP-No"
      }
    },
    {
      "cell_type": "code",
      "source": [],
      "metadata": {
        "id": "fkkWws1BLSvy"
      },
      "execution_count": 296,
      "outputs": []
    },
    {
      "cell_type": "code",
      "source": [],
      "metadata": {
        "id": "cmPnnEsiLS18"
      },
      "execution_count": 296,
      "outputs": []
    },
    {
      "cell_type": "code",
      "source": [],
      "metadata": {
        "id": "nAZR_S5gOV46"
      },
      "execution_count": null,
      "outputs": []
    },
    {
      "cell_type": "markdown",
      "source": [
        "<hr style=\"border: 1px solid purple;\">"
      ],
      "metadata": {
        "id": "DxRdYbNTP_ks"
      }
    },
    {
      "cell_type": "markdown",
      "source": [
        "# 🔄 **Step 11: Comparing Original and Generated Data**\n",
        "\n",
        "To evaluate the quality of the generated data, we compare it visually with the original dataset. This helps determine how well the generator has learned to replicate the data distribution.\n",
        "\n",
        "- **Objective**: Compare synthetic data to original data.\n",
        "- **What We Achieve**:\n",
        "  - Visual confirmation of how closely the synthetic data matches the real data.\n",
        "  - Insights into how well the GAN has been trained and if further fine-tuning is needed."
      ],
      "metadata": {
        "id": "AQEeYkqBOWFG"
      }
    },
    {
      "cell_type": "code",
      "source": [
        "# Plot the generated data vs the original data (for comparison)"
      ],
      "metadata": {
        "id": "mpg_wVRILS7E"
      },
      "execution_count": 297,
      "outputs": []
    },
    {
      "cell_type": "code",
      "source": [
        "plt.figure(figsize=(10, 6))\n",
        "plt.plot(synthetic_data[0], label=\"Synthetic Data\")\n",
        "plt.plot(data[0], label=\"Original Data\", alpha=0.7)\n",
        "plt.legend()\n",
        "plt.title(\"Comparison of Original and Generated Data\")\n",
        "plt.show()"
      ],
      "metadata": {
        "colab": {
          "base_uri": "https://localhost:8080/",
          "height": 565
        },
        "id": "woJdPnyaLZLC",
        "outputId": "7134fac4-cbbf-4f27-862a-bde2b8b07bed"
      },
      "execution_count": 298,
      "outputs": [
        {
          "output_type": "display_data",
          "data": {
            "text/plain": [
              "<Figure size 1000x600 with 1 Axes>"
            ],
            "image/png": "[encoded data removed]"
          },
          "metadata": {}
        }
      ]
    },
    {
      "cell_type": "markdown",
      "source": [
        "<hr style=\"border: 1px solid purple;\">"
      ],
      "metadata": {
        "id": "NSkukHCRQBfe"
      }
    },
    {
      "cell_type": "code",
      "source": [],
      "metadata": {
        "id": "BB0MZ6VULZUV"
      },
      "execution_count": 298,
      "outputs": []
    },
    {
      "cell_type": "code",
      "source": [],
      "metadata": {
        "id": "Sjk3f-0-OZYa"
      },
      "execution_count": 299,
      "outputs": []
    },
    {
      "cell_type": "code",
      "source": [],
      "metadata": {
        "id": "_F80p0MeOaUG"
      },
      "execution_count": null,
      "outputs": []
    },
    {
      "cell_type": "markdown",
      "source": [
        "<hr style=\"border: 1px solid purple;\">"
      ],
      "metadata": {
        "id": "qe7IGnobQDwi"
      }
    },
    {
      "cell_type": "markdown",
      "source": [
        "# 🏁 **Conclusion**\n",
        "\n",
        "In this project, we implemented a Generative Adversarial Network (GAN) to generate synthetic Forex trading data, which can be used for backtesting trading strategies, augmenting existing datasets, or testing financial models. The key steps involved were:\n",
        "\n",
        "1. **Data Preprocessing**:\n",
        "   - Loaded the Forex data and conducted an initial exploration.\n",
        "   - Cleaned the data by removing duplicates, handling missing values, and addressing outliers.\n",
        "   - Scaled the data to prepare it for modeling.\n",
        "\n",
        "2. **GAN Architecture**:\n",
        "   - Defined a generator to create synthetic data and a discriminator to differentiate between real and fake data.\n",
        "   - Compiled both models with appropriate loss functions and optimizers for training.\n",
        "\n",
        "3. **Training the Models**:\n",
        "   - Trained the GAN iteratively, updating the discriminator and generator to improve the realism of the generated data.\n",
        "   - Monitored the training process using loss metrics.\n",
        "\n",
        "4. **Model Evaluation**:\n",
        "   - Evaluated the GAN's performance by comparing the original and generated data.\n",
        "   - Plotted losses to track model convergence.\n",
        "\n",
        "5. **Results**:\n",
        "   - Successfully generated synthetic Forex data that closely mimics the original data distribution.\n",
        "   - The synthetic data can now be used for various applications like augmenting trading datasets or testing trading strategies without exposing sensitive real data.\n",
        "\n",
        "### Key Takeaways:\n",
        "- **Data Augmentation**: GANs can be a powerful tool for generating synthetic data, especially in finance where real data might be scarce or sensitive.\n",
        "- **Model Evaluation**: Visual comparisons and loss tracking are essential for ensuring the GAN is training correctly and generating high-quality data.\n",
        "- **Applications**: The synthetic data can be used for backtesting strategies, training machine learning models, or enhancing financial data privacy.\n",
        "\n",
        "This project demonstrates how to effectively apply GANs to generate synthetic data for financial applications and how to evaluate the quality of the generated data to ensure its usefulness in real-world scenarios."
      ],
      "metadata": {
        "id": "rifU_fA9OadV"
      }
    },
    {
      "cell_type": "markdown",
      "source": [
        "<hr style=\"border: 3px solid purple;\">\n",
        "<hr style=\"border: 3px solid purple;\">"
      ],
      "metadata": {
        "id": "2o98j8y7QIEm"
      }
    }
  ]
}