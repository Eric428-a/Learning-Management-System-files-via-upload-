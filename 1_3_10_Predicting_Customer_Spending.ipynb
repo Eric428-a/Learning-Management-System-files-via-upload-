{
  "nbformat": 4,
  "nbformat_minor": 0,
  "metadata": {
    "colab": {
      "provenance": []
    },
    "kernelspec": {
      "name": "python3",
      "display_name": "Python 3"
    },
    "language_info": {
      "name": "python"
    }
  },
  "cells": [
    {
      "cell_type": "markdown",
      "source": [
        "# <span style=\"color:blue\">Predicting Customer Spending Using Linear Regression</span>\n",
        "\n",
        "## <span style=\"color:green\">Project Overview</span>\n",
        "\n",
        "This project aims to predict customer spending using Linear Regression on the **Online Retail dataset**. We will go through various steps including data loading, cleaning, exploratory data analysis (EDA), feature selection, and model training using different regression techniques. Each step is critical to understanding how machine learning models can be applied to real-world data.\n",
        "\n",
        "## <span style=\"color:green\">Step 1: Importing Libraries and Loading Data</span>\n",
        "\n",
        "### <span style=\"color:orange\">Objective:</span>\n",
        "- Import necessary libraries such as pandas, matplotlib, seaborn, and scikit-learn.\n",
        "- Load the dataset from a given URL and display its first few rows to understand its structure.\n",
        "\n",
        "### <span style=\"color:orange\">Key Points:</span>\n",
        "- Understanding the dataset structure helps in identifying the features and target variable for our prediction model.\n",
        "- Pandas is used for data manipulation and analysis.\n",
        "- Matplotlib and Seaborn are used for data visualization.\n",
        "\n",
        "## <span style=\"color:green\">Step 2: Data Cleaning and Preparation</span>\n",
        "\n",
        "### <span style=\"color:orange\">Objective:</span>\n",
        "- Clean the dataset by handling missing values and creating new features.\n",
        "- Calculate the total price for each transaction and extract date features like month and day of the week.\n",
        "\n",
        "### <span style=\"color:orange\">Key Points:</span>\n",
        "- Cleaning data ensures that our model is trained on accurate and relevant information.\n",
        "- New features derived from existing ones can provide additional insights for the model.\n",
        "\n",
        "## <span style=\"color:green\">Step 3: Exploratory Data Analysis (EDA)</span>\n",
        "\n",
        "### <span style=\"color:orange\">Objective:</span>\n",
        "- Visualize the data to understand the distribution and relationships between features.\n",
        "- Use histograms, line plots, box plots, and scatter plots for a comprehensive analysis.\n",
        "\n",
        "### <span style=\"color:orange\">Key Points:</span>\n",
        "- EDA helps in identifying patterns, trends, and outliers in the data.\n",
        "- Visualizations are crucial for communicating findings and justifying model choices.\n",
        "\n",
        "## <span style=\"color:green\">Step 4: Feature Selection and Data Splitting</span>\n",
        "\n",
        "### <span style=\"color:orange\">Objective:</span>\n",
        "- Select relevant features for the prediction model.\n",
        "- Split the data into training and testing sets to evaluate model performance.\n",
        "\n",
        "### <span style=\"color:orange\">Key Points:</span>\n",
        "- Feature selection is important for building a model that generalizes well to new data.\n",
        "- Data splitting helps in assessing the model's performance on unseen data.\n",
        "\n",
        "## <span style=\"color:green\">Step 5: Model Training and Evaluation - Linear Regression</span>\n",
        "\n",
        "### <span style=\"color:orange\">Objective:</span>\n",
        "- Train a Linear Regression model on the training data.\n",
        "- Evaluate the model using metrics like Mean Absolute Error (MAE), Mean Squared Error (MSE), and R² score.\n",
        "\n",
        "### <span style=\"color:orange\">Key Points:</span>\n",
        "- Linear Regression is a simple yet powerful algorithm for predicting continuous values.\n",
        "- Evaluation metrics help in quantifying the model's accuracy and performance.\n",
        "\n",
        "## <span style=\"color:green\">Step 6: Predictions on New Data</span>\n",
        "\n",
        "### <span style=\"color:orange\">Objective:</span>\n",
        "- Use the trained model to make predictions on new data.\n",
        "- Save the predictions for future reference and analysis.\n",
        "\n",
        "### <span style=\"color:orange\">Key Points:</span>\n",
        "- Making predictions on new data demonstrates the model's practical application.\n",
        "- Saving predictions ensures reproducibility and aids in further analysis.\n",
        "\n",
        "## <span style=\"color:green\">Step 7: Model Training and Evaluation - Ridge Regression</span>\n",
        "\n",
        "### <span style=\"color:orange\">Objective:</span>\n",
        "- Train a Ridge Regression model to handle multicollinearity and improve prediction accuracy.\n",
        "- Evaluate the model using the same metrics as before and compare with Linear Regression.\n",
        "\n",
        "### <span style=\"color:orange\">Key Points:</span>\n",
        "- Ridge Regression adds regularization to reduce overfitting and handle correlated features.\n",
        "- Comparison with Linear Regression helps in selecting the best model for the task.\n",
        "\n",
        "## <span style=\"color:green\">Step 8: Model Training and Evaluation - Polynomial Regression</span>\n",
        "\n",
        "### <span style=\"color:orange\">Objective:</span>\n",
        "- Train a Polynomial Regression model to capture non-linear relationships in the data.\n",
        "- Evaluate the model using the same metrics and compare with previous models.\n",
        "\n",
        "### <span style=\"color:orange\">Key Points:</span>\n",
        "- Polynomial Regression transforms features to a higher degree to model non-linear patterns.\n",
        "- Comparing different models provides insights into the best approach for the given problem.\n",
        "\n",
        "## <span style=\"color:green\">Step 9: Save Results and Plots</span>\n",
        "\n",
        "### <span style=\"color:orange\">Objective:</span>\n",
        "- Save evaluation metrics and predictions for each model in CSV format.\n",
        "- Save all plots as PDF files for documentation and presentation.\n",
        "\n",
        "### <span style=\"color:orange\">Key Points:</span>\n",
        "- Saving results ensures that your work is well-documented and can be easily shared.\n",
        "- Organized and well-documented projects are crucial for reproducibility and future reference.\n",
        "\n",
        "---\n",
        "\n",
        "By following these steps, you will gain a comprehensive understanding of how to build, train, and evaluate machine learning models for predicting customer spending. Each step builds upon the previous one, leading to a complete and practical machine learning project."
      ],
      "metadata": {
        "id": "F7oR3FHwuSTp"
      }
    },
    {
      "cell_type": "code",
      "source": [],
      "metadata": {
        "id": "YQHlqVyVu0HI"
      },
      "execution_count": null,
      "outputs": []
    },
    {
      "cell_type": "code",
      "source": [],
      "metadata": {
        "id": "O8Q6hs-6u0Ol"
      },
      "execution_count": null,
      "outputs": []
    },
    {
      "cell_type": "markdown",
      "source": [
        "# <span style=\"color:blue\">Step 1: Importing Libraries and Loading Data</span>\n",
        "\n",
        "## <span style=\"color:green\">Objective</span>\n",
        "- Import necessary libraries such as pandas, matplotlib, seaborn, and scikit-learn.\n",
        "- Load the dataset from a given URL and display its first few rows to understand its structure.\n",
        "\n",
        "## <span style=\"color:green\">Notes</span>\n",
        "\n",
        "### <span style=\"color:orange\">Understanding Libraries:</span>\n",
        "- **Pandas:** Used for data manipulation and analysis. It provides data structures and functions needed to manipulate structured data seamlessly.\n",
        "- **Matplotlib and Seaborn:** These are used for data visualization. Matplotlib provides low-level plotting capabilities while Seaborn provides a high-level interface for drawing attractive and informative statistical graphics.\n",
        "- **Scikit-learn:** A machine learning library in Python that provides simple and efficient tools for data mining and data analysis.\n",
        "\n",
        "### <span style=\"color:orange\">Loading Data:</span>\n",
        "- **Dataset URL:** The dataset is usually loaded from an online source or a local file path. In our case, we will use a URL to load the dataset directly into a pandas DataFrame.\n",
        "- **Initial Data Inspection:** Displaying the first few rows of the dataset helps in understanding the structure and types of data we are dealing with. This is done using the `head()` function in pandas.\n",
        "\n",
        "### <span style=\"color:orange\">Key Points:</span>\n",
        "- **DataFrame:** A two-dimensional, size-mutable, and potentially heterogeneous tabular data structure with labeled axes (rows and columns).\n",
        "- **Head Function:** The `head(n)` function returns the first `n` rows of the DataFrame. By default, it returns the first 5 rows.\n",
        "\n",
        "### <span style=\"color:orange\">Example Workflow:</span>\n",
        "1. **Import Libraries:**\n",
        "   - `import pandas as pd`\n",
        "   - `import matplotlib.pyplot as plt`\n",
        "   - `import seaborn as sns`\n",
        "   - `from sklearn.model_selection import train_test_split`\n",
        "   - `from sklearn.linear_model import LinearRegression`\n",
        "   - `from sklearn.metrics import mean_absolute_error, mean_squared_error, r2_score`\n",
        "2. **Load Dataset:**\n",
        "   - `url = \"your_dataset_url\"`\n",
        "   - `data = pd.read_csv(url)`\n",
        "3. **Display First Few Rows:**\n",
        "   - `data.head()`\n",
        "\n",
        "---\n",
        "\n",
        "By completing Step 1, you will have a clear understanding of the dataset's structure and the necessary libraries required for further data manipulation and analysis."
      ],
      "metadata": {
        "id": "_cWQpMqUu0rP"
      }
    },
    {
      "cell_type": "code",
      "source": [
        "import pandas as pd  # Import pandas for data manipulation and analysis"
      ],
      "metadata": {
        "id": "SyT2z13W-HyB"
      },
      "execution_count": null,
      "outputs": []
    },
    {
      "cell_type": "code",
      "source": [
        "import matplotlib.pyplot as plt  # Import matplotlib for plotting"
      ],
      "metadata": {
        "id": "rJjhYso_-4BK"
      },
      "execution_count": null,
      "outputs": []
    },
    {
      "cell_type": "code",
      "source": [
        "import seaborn as sns  # Import seaborn for statistical data visualization"
      ],
      "metadata": {
        "id": "D9q2hgd0-4Ee"
      },
      "execution_count": null,
      "outputs": []
    },
    {
      "cell_type": "code",
      "source": [
        "from sklearn.model_selection import train_test_split  # Import train_test_split for splitting data"
      ],
      "metadata": {
        "id": "VLaMAr1J-4HH"
      },
      "execution_count": null,
      "outputs": []
    },
    {
      "cell_type": "code",
      "source": [
        "from sklearn.linear_model import LinearRegression  # Import LinearRegression for building the regression model"
      ],
      "metadata": {
        "id": "LRTsFPqc-4IV"
      },
      "execution_count": null,
      "outputs": []
    },
    {
      "cell_type": "code",
      "source": [
        "from sklearn.metrics import mean_absolute_error, mean_squared_error, r2_score  # Import metrics for evaluating the model\n"
      ],
      "metadata": {
        "id": "l6szOoN_-4Sz"
      },
      "execution_count": null,
      "outputs": []
    },
    {
      "cell_type": "code",
      "source": [],
      "metadata": {
        "id": "m1pLc6EM-4Vk"
      },
      "execution_count": null,
      "outputs": []
    },
    {
      "cell_type": "code",
      "source": [
        "# Load the dataset"
      ],
      "metadata": {
        "id": "1mVOVcEc-4YS"
      },
      "execution_count": null,
      "outputs": []
    },
    {
      "cell_type": "code",
      "source": [
        "url = 'https://archive.ics.uci.edu/ml/machine-learning-databases/00352/Online%20Retail.xlsx'  # URL to dataset"
      ],
      "metadata": {
        "id": "ZANeJRfQ-4c7"
      },
      "execution_count": null,
      "outputs": []
    },
    {
      "cell_type": "code",
      "source": [
        "data = pd.read_excel(url)  # Load the dataset into a pandas DataFrame"
      ],
      "metadata": {
        "id": "cUK0VnEy-4g0"
      },
      "execution_count": null,
      "outputs": []
    },
    {
      "cell_type": "code",
      "source": [],
      "metadata": {
        "id": "wYWh4GHD-4l_"
      },
      "execution_count": null,
      "outputs": []
    },
    {
      "cell_type": "code",
      "source": [
        "# Display the first few rows of the dataset"
      ],
      "metadata": {
        "id": "3qvEv_3z-4oh"
      },
      "execution_count": null,
      "outputs": []
    },
    {
      "cell_type": "code",
      "source": [
        "print(\"First few rows of the dataset:\")  # Print statement\n",
        "print(data.head())  # Display the first few rows"
      ],
      "metadata": {
        "colab": {
          "base_uri": "https://localhost:8080/"
        },
        "id": "N4Iagkuw-4sV",
        "outputId": "728190bd-7022-434d-c6f7-68c51d702868"
      },
      "execution_count": null,
      "outputs": [
        {
          "output_type": "stream",
          "name": "stdout",
          "text": [
            "First few rows of the dataset:\n",
            "  InvoiceNo StockCode                          Description  Quantity  \\\n",
            "0    536365    85123A   WHITE HANGING HEART T-LIGHT HOLDER         6   \n",
            "1    536365     71053                  WHITE METAL LANTERN         6   \n",
            "2    536365    84406B       CREAM CUPID HEARTS COAT HANGER         8   \n",
            "3    536365    84029G  KNITTED UNION FLAG HOT WATER BOTTLE         6   \n",
            "4    536365    84029E       RED WOOLLY HOTTIE WHITE HEART.         6   \n",
            "\n",
            "          InvoiceDate  UnitPrice  CustomerID         Country  \n",
            "0 2010-12-01 08:26:00       2.55     17850.0  United Kingdom  \n",
            "1 2010-12-01 08:26:00       3.39     17850.0  United Kingdom  \n",
            "2 2010-12-01 08:26:00       2.75     17850.0  United Kingdom  \n",
            "3 2010-12-01 08:26:00       3.39     17850.0  United Kingdom  \n",
            "4 2010-12-01 08:26:00       3.39     17850.0  United Kingdom  \n"
          ]
        }
      ]
    },
    {
      "cell_type": "code",
      "source": [],
      "metadata": {
        "id": "GLmY1b9k8dGq"
      },
      "execution_count": null,
      "outputs": []
    },
    {
      "cell_type": "code",
      "source": [],
      "metadata": {
        "id": "jA_Oo9y18dMB"
      },
      "execution_count": null,
      "outputs": []
    },
    {
      "cell_type": "markdown",
      "source": [
        "# <span style=\"color:blue\">Step 2: Data Inspection and Cleaning</span>\n",
        "\n",
        "## <span style=\"color:green\">Objective</span>\n",
        "- Inspect the dataset for missing values and data types.\n",
        "- Clean the dataset by handling missing values and creating new features.\n",
        "\n",
        "## <span style=\"color:green\">Notes</span>\n",
        "\n",
        "### <span style=\"color:orange\">Data Inspection:</span>\n",
        "- **Missing Values:** It's crucial to identify and handle missing values to ensure data quality. The `isnull().sum()` function helps to find the total number of missing values in each column.\n",
        "- **Summary Statistics:** Provides a quick overview of the dataset using `describe()`, which includes count, mean, standard deviation, minimum, and maximum values.\n",
        "- **Data Types:** Checking data types using `dtypes` is essential for understanding what type of data each column holds (e.g., integer, float, object).\n",
        "\n",
        "### <span style=\"color:orange\">Data Cleaning:</span>\n",
        "- **Dropping Missing Values:** Rows with critical missing values in columns like 'CustomerID' and 'Description' are removed using the `dropna()` function.\n",
        "- **Creating New Features:**\n",
        "  - **TotalPrice:** Calculated by multiplying 'Quantity' and 'UnitPrice'.\n",
        "  - **Date Features:** Extract useful information from 'InvoiceDate' like the month and day of the week using the `pd.to_datetime()` function and its `.dt` accessor.\n",
        "\n",
        "### <span style=\"color:orange\">Key Points:</span>\n",
        "- **Handling Missing Values:** Dropping or filling missing values ensures that the dataset is ready for analysis and modeling.\n",
        "- **Feature Engineering:** Creating new features from existing data can provide additional insights and improve model performance.\n",
        "\n",
        "### <span style=\"color:orange\">Example Workflow:</span>\n",
        "1. **Check for Missing Values:**\n",
        "   - `data.isnull().sum()`\n",
        "2. **Summary Statistics:**\n",
        "   - `data.describe()`\n",
        "3. **Data Types:**\n",
        "   - `data.dtypes`\n",
        "4. **Drop Rows with Missing Values:**\n",
        "   - `data_cleaned = data.dropna(subset=['CustomerID', 'Description'])`\n",
        "5. **Calculate Total Price:**\n",
        "   - `data_cleaned['TotalPrice'] = data_cleaned['Quantity'] * data_cleaned['UnitPrice']`\n",
        "6. **Extract Date Features:**\n",
        "   - `data_cleaned['InvoiceDate'] = pd.to_datetime(data_cleaned['InvoiceDate'])`\n",
        "   - `data_cleaned['Month'] = data_cleaned['InvoiceDate'].dt.month`\n",
        "   - `data_cleaned['DayOfWeek'] = data_cleaned['InvoiceDate'].dt.dayofweek`\n",
        "\n",
        "---\n",
        "\n",
        "By completing Step 2, you will have a cleaned dataset with essential features ready for exploratory data analysis and further modeling."
      ],
      "metadata": {
        "id": "wDan5d0GvHV3"
      }
    },
    {
      "cell_type": "code",
      "source": [
        "# Check for missing values"
      ],
      "metadata": {
        "id": "18NNpxYg8dQr"
      },
      "execution_count": null,
      "outputs": []
    },
    {
      "cell_type": "code",
      "source": [
        "print(\"\\nMissing values in each column:\")  # Print statement\n",
        "print(data.isnull().sum())  # Display missing values"
      ],
      "metadata": {
        "colab": {
          "base_uri": "https://localhost:8080/"
        },
        "id": "nxeLjaNY8dT5",
        "outputId": "740ac95d-6d25-478d-80b7-69f09b7f4e40"
      },
      "execution_count": null,
      "outputs": [
        {
          "output_type": "stream",
          "name": "stdout",
          "text": [
            "\n",
            "Missing values in each column:\n",
            "InvoiceNo           0\n",
            "StockCode           0\n",
            "Description      1454\n",
            "Quantity            0\n",
            "InvoiceDate         0\n",
            "UnitPrice           0\n",
            "CustomerID     135080\n",
            "Country             0\n",
            "dtype: int64\n"
          ]
        }
      ]
    },
    {
      "cell_type": "code",
      "source": [],
      "metadata": {
        "id": "Ph5K8Vt78dWv"
      },
      "execution_count": null,
      "outputs": []
    },
    {
      "cell_type": "code",
      "source": [],
      "metadata": {
        "id": "nMwB3USW8p_T"
      },
      "execution_count": null,
      "outputs": []
    },
    {
      "cell_type": "code",
      "source": [
        "# Summary statistics of the dataset"
      ],
      "metadata": {
        "id": "RhHR8PZd6haR"
      },
      "execution_count": null,
      "outputs": []
    },
    {
      "cell_type": "code",
      "source": [
        "print(\"\\nSummary statistics of the dataset:\")  # Print statement\n",
        "print(data.describe())  # Display summary statistics"
      ],
      "metadata": {
        "id": "-0knJVzM6hdn",
        "colab": {
          "base_uri": "https://localhost:8080/"
        },
        "outputId": "3ba947f5-f808-4f86-ed20-52a0d9c9536e"
      },
      "execution_count": null,
      "outputs": [
        {
          "output_type": "stream",
          "name": "stdout",
          "text": [
            "\n",
            "Summary statistics of the dataset:\n",
            "            Quantity                    InvoiceDate      UnitPrice  \\\n",
            "count  541909.000000                         541909  541909.000000   \n",
            "mean        9.552250  2011-07-04 13:34:57.156386048       4.611114   \n",
            "min    -80995.000000            2010-12-01 08:26:00  -11062.060000   \n",
            "25%         1.000000            2011-03-28 11:34:00       1.250000   \n",
            "50%         3.000000            2011-07-19 17:17:00       2.080000   \n",
            "75%        10.000000            2011-10-19 11:27:00       4.130000   \n",
            "max     80995.000000            2011-12-09 12:50:00   38970.000000   \n",
            "std       218.081158                            NaN      96.759853   \n",
            "\n",
            "          CustomerID  \n",
            "count  406829.000000  \n",
            "mean    15287.690570  \n",
            "min     12346.000000  \n",
            "25%     13953.000000  \n",
            "50%     15152.000000  \n",
            "75%     16791.000000  \n",
            "max     18287.000000  \n",
            "std      1713.600303  \n"
          ]
        }
      ]
    },
    {
      "cell_type": "code",
      "source": [],
      "metadata": {
        "id": "usyvDkvj6hgg"
      },
      "execution_count": null,
      "outputs": []
    },
    {
      "cell_type": "code",
      "source": [],
      "metadata": {
        "id": "-r_TT4lK6hjY"
      },
      "execution_count": null,
      "outputs": []
    },
    {
      "cell_type": "code",
      "source": [
        "# Data types of each column"
      ],
      "metadata": {
        "id": "6X9qWaL-6hpB"
      },
      "execution_count": null,
      "outputs": []
    },
    {
      "cell_type": "code",
      "source": [
        "print(\"\\nData types of each column:\")  # Print statement\n",
        "print(data.dtypes)  # Display data types"
      ],
      "metadata": {
        "id": "jwxs_oxH6hsI",
        "colab": {
          "base_uri": "https://localhost:8080/"
        },
        "outputId": "37fc4e4f-e31c-4d26-86d5-d8846fe0c7f3"
      },
      "execution_count": null,
      "outputs": [
        {
          "output_type": "stream",
          "name": "stdout",
          "text": [
            "\n",
            "Data types of each column:\n",
            "InvoiceNo              object\n",
            "StockCode              object\n",
            "Description            object\n",
            "Quantity                int64\n",
            "InvoiceDate    datetime64[ns]\n",
            "UnitPrice             float64\n",
            "CustomerID            float64\n",
            "Country                object\n",
            "dtype: object\n"
          ]
        }
      ]
    },
    {
      "cell_type": "code",
      "source": [],
      "metadata": {
        "id": "CJz8mNr06hvB"
      },
      "execution_count": null,
      "outputs": []
    },
    {
      "cell_type": "code",
      "source": [],
      "metadata": {
        "id": "N3kC2stm6h0L"
      },
      "execution_count": null,
      "outputs": []
    },
    {
      "cell_type": "code",
      "source": [
        "# Shape of the dataset"
      ],
      "metadata": {
        "id": "XyhcBZHb6h1G"
      },
      "execution_count": null,
      "outputs": []
    },
    {
      "cell_type": "code",
      "source": [
        "print(\"\\nShape of the dataset:\")  # Print statement\n",
        "print(data.shape)  # Display the shape of the dataset"
      ],
      "metadata": {
        "id": "tIchAHdp6h3K",
        "colab": {
          "base_uri": "https://localhost:8080/"
        },
        "outputId": "381aa1a5-c83b-49e9-b02e-ec586bdb5181"
      },
      "execution_count": null,
      "outputs": [
        {
          "output_type": "stream",
          "name": "stdout",
          "text": [
            "\n",
            "Shape of the dataset:\n",
            "(541909, 8)\n"
          ]
        }
      ]
    },
    {
      "cell_type": "code",
      "source": [],
      "metadata": {
        "id": "rC12PDLh6RsR"
      },
      "execution_count": null,
      "outputs": []
    },
    {
      "cell_type": "code",
      "source": [],
      "metadata": {
        "id": "o4zl6MND6Rwp"
      },
      "execution_count": null,
      "outputs": []
    },
    {
      "cell_type": "code",
      "source": [
        "# Drop rows with missing CustomerID and Description"
      ],
      "metadata": {
        "id": "aQiJguTL6R0I"
      },
      "execution_count": null,
      "outputs": []
    },
    {
      "cell_type": "code",
      "source": [
        "data_cleaned = data.dropna(subset=['CustomerID', 'Description'])  # Drop rows with missing CustomerID and Description\n"
      ],
      "metadata": {
        "id": "Dmn8Ayjg6R2w"
      },
      "execution_count": null,
      "outputs": []
    },
    {
      "cell_type": "code",
      "source": [],
      "metadata": {
        "id": "9gYV2R-k6R5Q"
      },
      "execution_count": null,
      "outputs": []
    },
    {
      "cell_type": "code",
      "source": [
        "# Calculate total price for each transaction"
      ],
      "metadata": {
        "id": "uzsQ26yR6SB5"
      },
      "execution_count": null,
      "outputs": []
    },
    {
      "cell_type": "code",
      "source": [
        "data_cleaned['TotalPrice'] = data_cleaned['Quantity'] * data_cleaned['UnitPrice']  # Calculate total price"
      ],
      "metadata": {
        "id": "vPz0vg0H6SFB",
        "colab": {
          "base_uri": "https://localhost:8080/"
        },
        "outputId": "0ecc4360-c693-4779-bf9d-82956a8a3de0"
      },
      "execution_count": null,
      "outputs": [
        {
          "output_type": "stream",
          "name": "stderr",
          "text": [
            "<ipython-input-26-d517e9f9ea15>:1: SettingWithCopyWarning: \n",
            "A value is trying to be set on a copy of a slice from a DataFrame.\n",
            "Try using .loc[row_indexer,col_indexer] = value instead\n",
            "\n",
            "See the caveats in the documentation: https://pandas.pydata.org/pandas-docs/stable/user_guide/indexing.html#returning-a-view-versus-a-copy\n",
            "  data_cleaned['TotalPrice'] = data_cleaned['Quantity'] * data_cleaned['UnitPrice']  # Calculate total price\n"
          ]
        }
      ]
    },
    {
      "cell_type": "code",
      "source": [],
      "metadata": {
        "id": "St_iFfQg6SHy"
      },
      "execution_count": null,
      "outputs": []
    },
    {
      "cell_type": "code",
      "source": [
        "# Extract date features"
      ],
      "metadata": {
        "id": "HbSLb1r26SJY"
      },
      "execution_count": null,
      "outputs": []
    },
    {
      "cell_type": "code",
      "source": [
        "data_cleaned['InvoiceDate'] = pd.to_datetime(data_cleaned['InvoiceDate'])  # Convert InvoiceDate to datetime"
      ],
      "metadata": {
        "id": "kRpPUt786SKh",
        "colab": {
          "base_uri": "https://localhost:8080/"
        },
        "outputId": "76424215-f3c7-42e2-b3bb-46a04fc5a4bc"
      },
      "execution_count": null,
      "outputs": [
        {
          "output_type": "stream",
          "name": "stderr",
          "text": [
            "<ipython-input-28-cc65c2d8c5ef>:1: SettingWithCopyWarning: \n",
            "A value is trying to be set on a copy of a slice from a DataFrame.\n",
            "Try using .loc[row_indexer,col_indexer] = value instead\n",
            "\n",
            "See the caveats in the documentation: https://pandas.pydata.org/pandas-docs/stable/user_guide/indexing.html#returning-a-view-versus-a-copy\n",
            "  data_cleaned['InvoiceDate'] = pd.to_datetime(data_cleaned['InvoiceDate'])  # Convert InvoiceDate to datetime\n"
          ]
        }
      ]
    },
    {
      "cell_type": "code",
      "source": [
        "data_cleaned['Month'] = data_cleaned['InvoiceDate'].dt.month  # Extract month from InvoiceDate"
      ],
      "metadata": {
        "id": "uRbhJ-xJ6SOi",
        "colab": {
          "base_uri": "https://localhost:8080/"
        },
        "outputId": "dfdfb494-837b-4cc4-e189-239e2836c1e5"
      },
      "execution_count": null,
      "outputs": [
        {
          "output_type": "stream",
          "name": "stderr",
          "text": [
            "<ipython-input-29-1980ba999cf4>:1: SettingWithCopyWarning: \n",
            "A value is trying to be set on a copy of a slice from a DataFrame.\n",
            "Try using .loc[row_indexer,col_indexer] = value instead\n",
            "\n",
            "See the caveats in the documentation: https://pandas.pydata.org/pandas-docs/stable/user_guide/indexing.html#returning-a-view-versus-a-copy\n",
            "  data_cleaned['Month'] = data_cleaned['InvoiceDate'].dt.month  # Extract month from InvoiceDate\n"
          ]
        }
      ]
    },
    {
      "cell_type": "code",
      "source": [
        "data_cleaned['DayOfWeek'] = data_cleaned['InvoiceDate'].dt.dayofweek  # Extract day of the week from InvoiceDate"
      ],
      "metadata": {
        "id": "Li5iUqNu6SPp",
        "colab": {
          "base_uri": "https://localhost:8080/"
        },
        "outputId": "80b1c02c-8254-4a82-92ee-316a595c3842"
      },
      "execution_count": null,
      "outputs": [
        {
          "output_type": "stream",
          "name": "stderr",
          "text": [
            "<ipython-input-30-d31a79b071f4>:1: SettingWithCopyWarning: \n",
            "A value is trying to be set on a copy of a slice from a DataFrame.\n",
            "Try using .loc[row_indexer,col_indexer] = value instead\n",
            "\n",
            "See the caveats in the documentation: https://pandas.pydata.org/pandas-docs/stable/user_guide/indexing.html#returning-a-view-versus-a-copy\n",
            "  data_cleaned['DayOfWeek'] = data_cleaned['InvoiceDate'].dt.dayofweek  # Extract day of the week from InvoiceDate\n"
          ]
        }
      ]
    },
    {
      "cell_type": "code",
      "source": [],
      "metadata": {
        "id": "-EvhPhs-6ST6"
      },
      "execution_count": null,
      "outputs": []
    },
    {
      "cell_type": "code",
      "source": [],
      "metadata": {
        "id": "UNjf-zEI6SV_"
      },
      "execution_count": null,
      "outputs": []
    },
    {
      "cell_type": "code",
      "source": [
        "# Display the cleaned data"
      ],
      "metadata": {
        "id": "ji24qvMe6SXv"
      },
      "execution_count": null,
      "outputs": []
    },
    {
      "cell_type": "code",
      "source": [
        "print(\"\\nFirst few rows of the cleaned dataset:\")  # Print statement\n",
        "print(data_cleaned.head())  # Display the first few rows of the cleaned dataset"
      ],
      "metadata": {
        "id": "N5y7BQ4c6SYu",
        "colab": {
          "base_uri": "https://localhost:8080/"
        },
        "outputId": "afad91ca-a8e5-47b2-9731-763747d22250"
      },
      "execution_count": null,
      "outputs": [
        {
          "output_type": "stream",
          "name": "stdout",
          "text": [
            "\n",
            "First few rows of the cleaned dataset:\n",
            "  InvoiceNo StockCode                          Description  Quantity  \\\n",
            "0    536365    85123A   WHITE HANGING HEART T-LIGHT HOLDER         6   \n",
            "1    536365     71053                  WHITE METAL LANTERN         6   \n",
            "2    536365    84406B       CREAM CUPID HEARTS COAT HANGER         8   \n",
            "3    536365    84029G  KNITTED UNION FLAG HOT WATER BOTTLE         6   \n",
            "4    536365    84029E       RED WOOLLY HOTTIE WHITE HEART.         6   \n",
            "\n",
            "          InvoiceDate  UnitPrice  CustomerID         Country  TotalPrice  \\\n",
            "0 2010-12-01 08:26:00       2.55     17850.0  United Kingdom       15.30   \n",
            "1 2010-12-01 08:26:00       3.39     17850.0  United Kingdom       20.34   \n",
            "2 2010-12-01 08:26:00       2.75     17850.0  United Kingdom       22.00   \n",
            "3 2010-12-01 08:26:00       3.39     17850.0  United Kingdom       20.34   \n",
            "4 2010-12-01 08:26:00       3.39     17850.0  United Kingdom       20.34   \n",
            "\n",
            "   Month  DayOfWeek  \n",
            "0     12          2  \n",
            "1     12          2  \n",
            "2     12          2  \n",
            "3     12          2  \n",
            "4     12          2  \n"
          ]
        }
      ]
    },
    {
      "cell_type": "code",
      "source": [],
      "metadata": {
        "id": "PvBpag8s6Sbi"
      },
      "execution_count": null,
      "outputs": []
    },
    {
      "cell_type": "code",
      "source": [],
      "metadata": {
        "id": "XzeTiXJr6SeK"
      },
      "execution_count": null,
      "outputs": []
    },
    {
      "cell_type": "code",
      "source": [
        "# Shape of the cleaned dataset"
      ],
      "metadata": {
        "id": "MpIkRW0Z6Sgj"
      },
      "execution_count": null,
      "outputs": []
    },
    {
      "cell_type": "code",
      "source": [
        "print(\"\\nShape of the cleaned dataset:\")  # Print statement\n",
        "print(data_cleaned.shape)  # Display the shape of the cleaned dataset"
      ],
      "metadata": {
        "id": "7tdJrWRv6Skx",
        "colab": {
          "base_uri": "https://localhost:8080/"
        },
        "outputId": "9e4ffc78-f04a-467c-8955-56fe72b4fa9a"
      },
      "execution_count": null,
      "outputs": [
        {
          "output_type": "stream",
          "name": "stdout",
          "text": [
            "\n",
            "Shape of the cleaned dataset:\n",
            "(406829, 11)\n"
          ]
        }
      ]
    },
    {
      "cell_type": "code",
      "source": [],
      "metadata": {
        "id": "IHN_3-Qy6Sp5"
      },
      "execution_count": null,
      "outputs": []
    },
    {
      "cell_type": "code",
      "source": [],
      "metadata": {
        "id": "pO2R9wWf6Tpp"
      },
      "execution_count": null,
      "outputs": []
    },
    {
      "cell_type": "markdown",
      "source": [
        "# <span style=\"color:blue\">Step 3: Exploratory Data Analysis (EDA)</span>\n",
        "\n",
        "## <span style=\"color:green\">Objective</span>\n",
        "- Conduct EDA to understand the distribution and relationships within the data.\n",
        "- Visualize the data using various plots to identify patterns and insights.\n",
        "\n",
        "## <span style=\"color:green\">Notes</span>\n",
        "\n",
        "### <span style=\"color:orange\">Distribution of Total Price:</span>\n",
        "- **Histogram:** A histogram is used to display the distribution of a single numerical variable. It helps in understanding the frequency of different ranges of values within the data.\n",
        "- **Example:** Plotting the distribution of 'TotalPrice' can reveal if the data is skewed, has outliers, or follows a normal distribution.\n",
        "\n",
        "### <span style=\"color:orange\">Total Price Over Time:</span>\n",
        "- **Line Plot:** A line plot is useful for visualizing trends over time. It can help identify seasonal patterns, trends, and anomalies.\n",
        "- **Example:** Plotting 'TotalPrice' over 'InvoiceDate' can show sales trends over time.\n",
        "\n",
        "### <span style=\"color:orange\">Boxplots by Month and Day of the Week:</span>\n",
        "- **Boxplot:** A boxplot provides a summary of a set of data values, showing the median, quartiles, and potential outliers. It is useful for comparing distributions across different categories.\n",
        "- **Example:** Boxplots of 'TotalPrice' by 'Month' and 'DayOfWeek' can highlight how sales vary across different times.\n",
        "\n",
        "### <span style=\"color:orange\">Scatter Plot of Quantity vs. Total Price:</span>\n",
        "- **Scatter Plot:** A scatter plot displays values for typically two variables for a set of data. It helps in identifying correlations between the two variables.\n",
        "- **Example:** A scatter plot of 'Quantity' vs. 'TotalPrice' can reveal the relationship between the quantity of items purchased and the total price.\n",
        "\n",
        "### <span style=\"color:orange\">Total Price by Country:</span>\n",
        "- **Line Plot:** Summarizes and visualizes data across different categories, such as countries, to show the distribution and comparison of totals.\n",
        "- **Example:** A line plot of 'TotalPrice' by 'Country' can show which countries contribute most to sales.\n",
        "\n",
        "### <span style=\"color:orange\">Key Points:</span>\n",
        "- **Visualizing Data:** Helps in understanding the underlying patterns, trends, and relationships within the data.\n",
        "- **Identifying Outliers:** Visualizations can highlight outliers or anomalies in the data.\n",
        "- **Comparing Categories:** Boxplots and line plots are useful for comparing data across different categories.\n",
        "\n",
        "### <span style=\"color:orange\">Example Workflow:</span>\n",
        "1. **Distribution of Total Price:**\n",
        "   - Use a histogram to plot `data_cleaned['TotalPrice']`.\n",
        "2. **Total Price Over Time:**\n",
        "   - Use a line plot to plot total price over `InvoiceDate`.\n",
        "3. **Boxplot by Month:**\n",
        "   - Create a boxplot of `TotalPrice` by `Month`.\n",
        "4. **Boxplot by Day of the Week:**\n",
        "   - Create a boxplot of `TotalPrice` by `DayOfWeek`.\n",
        "5. **Scatter Plot of Quantity vs. Total Price:**\n",
        "   - Create a scatter plot of `Quantity` vs. `TotalPrice`.\n",
        "6. **Total Price by Country:**\n",
        "   - Use a line plot to visualize `TotalPrice` by `Country`.\n",
        "\n",
        "---\n",
        "\n",
        "By completing Step 3, you will have a better understanding of your data, including distributions, trends, and relationships, which are crucial for building an effective predictive model."
      ],
      "metadata": {
        "id": "_F22FtSBvN2g"
      }
    },
    {
      "cell_type": "code",
      "source": [
        "# Distribution of Total Price"
      ],
      "metadata": {
        "id": "naNmrDQC6TtC"
      },
      "execution_count": null,
      "outputs": []
    },
    {
      "cell_type": "code",
      "source": [
        "plt.figure(figsize=(10, 6))  # Set the figure size\n",
        "sns.histplot(data_cleaned['TotalPrice'], bins=50, color='skyblue')  # Plot the distribution with skyblue color\n",
        "plt.title('Distribution of Total Price')  # Set the title\n",
        "plt.xlabel('Total Price')  # Set the x-axis label\n",
        "plt.ylabel('Frequency')  # Set the y-axis label\n",
        "plt.savefig('/content/total_price_distribution.pdf')  # Save the figure as a PDF\n",
        "plt.show()  # Display the plot"
      ],
      "metadata": {
        "id": "Swe-T9WG6TzI",
        "colab": {
          "base_uri": "https://localhost:8080/",
          "height": 564
        },
        "outputId": "0743aeaf-9db5-4db3-c186-9e99601f4ff8"
      },
      "execution_count": null,
      "outputs": [
        {
          "output_type": "display_data",
          "data": {
            "text/plain": [
              "<Figure size 1000x600 with 1 Axes>"
            ],
            "image/png": "[encoded data removed]"
          },
          "metadata": {}
        }
      ]
    },
    {
      "cell_type": "code",
      "source": [],
      "metadata": {
        "id": "1uEnfOlU6T2Q"
      },
      "execution_count": null,
      "outputs": []
    },
    {
      "cell_type": "code",
      "source": [],
      "metadata": {
        "id": "wZQMblmg6T5A"
      },
      "execution_count": null,
      "outputs": []
    },
    {
      "cell_type": "code",
      "source": [
        "# Total Price over time"
      ],
      "metadata": {
        "id": "aExVOxC_6T-q"
      },
      "execution_count": null,
      "outputs": []
    },
    {
      "cell_type": "code",
      "source": [
        "plt.figure(figsize=(12, 6))  # Set the figure size\n",
        "data_cleaned.groupby('InvoiceDate')['TotalPrice'].sum().plot(color='green')  # Plot the total price over time with green color\n",
        "plt.title('Total Price Over Time')  # Set the title\n",
        "plt.xlabel('Date')  # Set the x-axis label\n",
        "plt.ylabel('Total Price')  # Set the y-axis label\n",
        "plt.savefig('/content/total_price_over_time.pdf')  # Save the figure as a PDF\n",
        "plt.show()  # Display the plot"
      ],
      "metadata": {
        "id": "U85BEOe36UBD",
        "colab": {
          "base_uri": "https://localhost:8080/",
          "height": 486
        },
        "outputId": "947e7f8d-b76a-454d-d27e-3c81822eeeb6"
      },
      "execution_count": null,
      "outputs": [
        {
          "output_type": "display_data",
          "data": {
            "text/plain": [
              "<Figure size 1200x600 with 1 Axes>"
            ],
            "image/png": "[encoded data removed]"
          },
          "metadata": {}
        }
      ]
    },
    {
      "cell_type": "code",
      "source": [],
      "metadata": {
        "id": "wMGg9scF6UI4"
      },
      "execution_count": null,
      "outputs": []
    },
    {
      "cell_type": "code",
      "source": [],
      "metadata": {
        "id": "jU7ZSblA6ULa"
      },
      "execution_count": null,
      "outputs": []
    },
    {
      "cell_type": "code",
      "source": [
        "# Boxplot of Total Price by Month"
      ],
      "metadata": {
        "id": "RxmnzbMF6UOY"
      },
      "execution_count": null,
      "outputs": []
    },
    {
      "cell_type": "code",
      "source": [
        "plt.figure(figsize=(10, 6))  # Set the figure size\n",
        "sns.boxplot(x='Month', y='TotalPrice', data=data_cleaned, palette='pastel')  # Plot the boxplot with pastel palette\n",
        "plt.title('Total Price by Month')  # Set the title\n",
        "plt.xlabel('Month')  # Set the x-axis label\n",
        "plt.ylabel('Total Price')  # Set the y-axis label\n",
        "plt.savefig('/content/total_price_by_month.pdf')  # Save the figure as a PDF\n",
        "plt.show()  # Display the plot"
      ],
      "metadata": {
        "id": "o3cvnrzJ6URR",
        "colab": {
          "base_uri": "https://localhost:8080/",
          "height": 671
        },
        "outputId": "2f11077c-a3ac-47da-8383-48b80325b2b2"
      },
      "execution_count": null,
      "outputs": [
        {
          "output_type": "stream",
          "name": "stderr",
          "text": [
            "<ipython-input-40-5a0b310790b0>:2: FutureWarning: \n",
            "\n",
            "Passing `palette` without assigning `hue` is deprecated and will be removed in v0.14.0. Assign the `x` variable to `hue` and set `legend=False` for the same effect.\n",
            "\n",
            "  sns.boxplot(x='Month', y='TotalPrice', data=data_cleaned, palette='pastel')  # Plot the boxplot with pastel palette\n"
          ]
        },
        {
          "output_type": "display_data",
          "data": {
            "text/plain": [
              "<Figure size 1000x600 with 1 Axes>"
            ],
            "image/png": "[encoded data removed]"
          },
          "metadata": {}
        }
      ]
    },
    {
      "cell_type": "code",
      "source": [],
      "metadata": {
        "id": "u5OAyril6UUD"
      },
      "execution_count": null,
      "outputs": []
    },
    {
      "cell_type": "code",
      "source": [],
      "metadata": {
        "id": "k9wR11m66UWg"
      },
      "execution_count": null,
      "outputs": []
    },
    {
      "cell_type": "code",
      "source": [
        "# Boxplot of Total Price by Day of the Week"
      ],
      "metadata": {
        "id": "a0KQ4nUOBCIG"
      },
      "execution_count": null,
      "outputs": []
    },
    {
      "cell_type": "code",
      "source": [
        "plt.figure(figsize=(10, 6))  # Set the figure size\n",
        "sns.boxplot(x='DayOfWeek', y='TotalPrice', data=data_cleaned, palette='muted')  # Plot the boxplot with muted palette\n",
        "plt.title('Total Price by Day of the Week')  # Set the title\n",
        "plt.xlabel('Day of the Week')  # Set the x-axis label\n",
        "plt.ylabel('Total Price')  # Set the y-axis label\n",
        "plt.savefig('/content/total_price_by_day_of_week.pdf')  # Save the figure as a PDF\n",
        "plt.show()  # Display the plot"
      ],
      "metadata": {
        "colab": {
          "base_uri": "https://localhost:8080/",
          "height": 671
        },
        "id": "qiF8tS23BCLB",
        "outputId": "e65cadff-cc8c-4e62-9c77-c5b30c351dac"
      },
      "execution_count": null,
      "outputs": [
        {
          "output_type": "stream",
          "name": "stderr",
          "text": [
            "<ipython-input-42-7dc2af63a934>:2: FutureWarning: \n",
            "\n",
            "Passing `palette` without assigning `hue` is deprecated and will be removed in v0.14.0. Assign the `x` variable to `hue` and set `legend=False` for the same effect.\n",
            "\n",
            "  sns.boxplot(x='DayOfWeek', y='TotalPrice', data=data_cleaned, palette='muted')  # Plot the boxplot with muted palette\n"
          ]
        },
        {
          "output_type": "display_data",
          "data": {
            "text/plain": [
              "<Figure size 1000x600 with 1 Axes>"
            ],
            "image/png": "[encoded data removed]"
          },
          "metadata": {}
        }
      ]
    },
    {
      "cell_type": "code",
      "source": [],
      "metadata": {
        "id": "iXFRxRm3BCMS"
      },
      "execution_count": null,
      "outputs": []
    },
    {
      "cell_type": "code",
      "source": [],
      "metadata": {
        "id": "thACZ_4HBCOs"
      },
      "execution_count": null,
      "outputs": []
    },
    {
      "cell_type": "code",
      "source": [
        "# Scatter plot of Quantity vs Total Price"
      ],
      "metadata": {
        "id": "7ohswESmBCSN"
      },
      "execution_count": null,
      "outputs": []
    },
    {
      "cell_type": "code",
      "source": [
        "plt.figure(figsize=(10, 6))  # Set the figure size\n",
        "sns.scatterplot(x='Quantity', y='TotalPrice', data=data_cleaned, color='red')  # Plot the scatter plot with red color\n",
        "plt.title('Quantity vs Total Price')  # Set the title\n",
        "plt.xlabel('Quantity')  # Set the x-axis label\n",
        "plt.ylabel('Total Price')  # Set the y-axis label\n",
        "plt.savefig('/content/quantity_vs_total_price.pdf')  # Save the figure as a PDF\n",
        "plt.show()  # Display the plot"
      ],
      "metadata": {
        "colab": {
          "base_uri": "https://localhost:8080/",
          "height": 564
        },
        "id": "y612jRshBCVq",
        "outputId": "1fd49ffe-daf4-46b5-94b1-440289b28a61"
      },
      "execution_count": null,
      "outputs": [
        {
          "output_type": "display_data",
          "data": {
            "text/plain": [
              "<Figure size 1000x600 with 1 Axes>"
            ],
            "image/png": "[encoded data removed]"
          },
          "metadata": {}
        }
      ]
    },
    {
      "cell_type": "code",
      "source": [],
      "metadata": {
        "id": "BQ0kaRkEBRsl"
      },
      "execution_count": null,
      "outputs": []
    },
    {
      "cell_type": "code",
      "source": [],
      "metadata": {
        "id": "AT_n0SyFBRv7"
      },
      "execution_count": null,
      "outputs": []
    },
    {
      "cell_type": "code",
      "source": [
        "# Line plot of Total Price by Country"
      ],
      "metadata": {
        "id": "iYPos_j9BRyy"
      },
      "execution_count": null,
      "outputs": []
    },
    {
      "cell_type": "code",
      "source": [
        "plt.figure(figsize=(12, 6))  # Set the figure size\n",
        "data_cleaned.groupby('Country')['TotalPrice'].sum().sort_values(ascending=False).plot(kind='line', color='purple')  # Plot the line plot with purple color\n",
        "plt.title('Total Price by Country')  # Set the title\n",
        "plt.xlabel('Country')  # Set the x-axis label\n",
        "plt.ylabel('Total Price')  # Set the y-axis label\n",
        "plt.xticks(rotation=90)  # Rotate x-axis labels for better readability\n",
        "plt.savefig('/content/total_price_by_country.pdf')  # Save the figure as a PDF\n",
        "plt.show()  # Display the plot"
      ],
      "metadata": {
        "colab": {
          "base_uri": "https://localhost:8080/",
          "height": 630
        },
        "id": "a73XZRcPBR1p",
        "outputId": "24b2a226-b151-4e3a-fece-71afacf56eea"
      },
      "execution_count": null,
      "outputs": [
        {
          "output_type": "display_data",
          "data": {
            "text/plain": [
              "<Figure size 1200x600 with 1 Axes>"
            ],
            "image/png": "[encoded data removed]"
          },
          "metadata": {}
        }
      ]
    },
    {
      "cell_type": "code",
      "source": [],
      "metadata": {
        "id": "5iww_Ps7BR4j"
      },
      "execution_count": null,
      "outputs": []
    },
    {
      "cell_type": "code",
      "source": [],
      "metadata": {
        "id": "gwM3hCvcBR7X"
      },
      "execution_count": null,
      "outputs": []
    },
    {
      "cell_type": "markdown",
      "source": [
        "# <span style=\"color:blue\">Step 4: Feature Selection and Data Splitting</span>\n",
        "\n",
        "## <span style=\"color:green\">Objective</span>\n",
        "- Select relevant features for the predictive model.\n",
        "- Split the data into training and testing sets to evaluate the model's performance.\n",
        "\n",
        "## <span style=\"color:green\">Notes</span>\n",
        "\n",
        "### <span style=\"color:orange\">Feature Selection:</span>\n",
        "- **Purpose:** To identify the most relevant variables (features) that will be used to predict the target variable.\n",
        "- **Example:** In this project, we selected `Month`, `DayOfWeek`, `Quantity`, and `UnitPrice` as the features (`X`) and `TotalPrice` as the target (`y`).\n",
        "\n",
        "### <span style=\"color:orange\">Data Splitting:</span>\n",
        "- **Purpose:** To divide the dataset into two parts:\n",
        "  - **Training Set:** Used to train the machine learning model.\n",
        "  - **Testing Set:** Used to evaluate the performance of the trained model.\n",
        "- **Ratio:** Typically, the data is split into 80% training and 20% testing, but this ratio can be adjusted based on the dataset size and specific requirements.\n",
        "\n",
        "### <span style=\"color:orange\">Key Points:</span>\n",
        "- **Preventing Overfitting:** By splitting the data, we ensure that the model is evaluated on unseen data, which helps in assessing its generalization capability.\n",
        "- **Evaluation Metrics:** Performance metrics calculated on the test set give an indication of how well the model is likely to perform on new data.\n",
        "\n",
        "### <span style=\"color:orange\">Example Workflow:</span>\n",
        "1. **Select Features and Target:**\n",
        "   - `X = data_cleaned[['Month', 'DayOfWeek', 'Quantity', 'UnitPrice']]`\n",
        "   - `y = data_cleaned['TotalPrice']`\n",
        "2. **Split the Data:**\n",
        "   - Use `train_test_split` from `sklearn.model_selection` to split `X` and `y` into training and testing sets.\n",
        "   - Example: `X_train, X_test, y_train, y_test = train_test_split(X, y, test_size=0.2, random_state=42)`\n",
        "\n",
        "---\n",
        "\n",
        "By completing Step 4, you will have your data properly prepared for training and evaluating your predictive model. This ensures that you can accurately assess the model's performance and make necessary adjustments."
      ],
      "metadata": {
        "id": "QTzpC47JvanR"
      }
    },
    {
      "cell_type": "code",
      "source": [
        "# Selecting features and target"
      ],
      "metadata": {
        "id": "oxi8gb9HBR-D"
      },
      "execution_count": null,
      "outputs": []
    },
    {
      "cell_type": "code",
      "source": [
        "X = data_cleaned[['Month', 'DayOfWeek', 'Quantity', 'UnitPrice']]  # Select features"
      ],
      "metadata": {
        "id": "r2HiWa9hBSBb"
      },
      "execution_count": null,
      "outputs": []
    },
    {
      "cell_type": "code",
      "source": [
        "y = data_cleaned['TotalPrice']  # Select target"
      ],
      "metadata": {
        "id": "OOajJZPBBfmr"
      },
      "execution_count": null,
      "outputs": []
    },
    {
      "cell_type": "code",
      "source": [],
      "metadata": {
        "id": "8BemocyQBfpl"
      },
      "execution_count": null,
      "outputs": []
    },
    {
      "cell_type": "code",
      "source": [
        "# Split the data into training and testing sets"
      ],
      "metadata": {
        "id": "wqKrV4WeBfvm"
      },
      "execution_count": null,
      "outputs": []
    },
    {
      "cell_type": "code",
      "source": [
        "X_train, X_test, y_train, y_test = train_test_split(X, y, test_size=0.2, random_state=42)  # Split the data"
      ],
      "metadata": {
        "id": "_yCH5BkYBfyD"
      },
      "execution_count": null,
      "outputs": []
    },
    {
      "cell_type": "code",
      "source": [],
      "metadata": {
        "id": "a9ikfN9TBf0Z"
      },
      "execution_count": null,
      "outputs": []
    },
    {
      "cell_type": "code",
      "source": [],
      "metadata": {
        "id": "6bIl9fOKvoH4"
      },
      "execution_count": null,
      "outputs": []
    },
    {
      "cell_type": "markdown",
      "source": [
        "# <span style=\"color:blue\">Step 5: Model Training and Evaluation</span>\n",
        "\n",
        "## <span style=\"color:green\">Objective</span>\n",
        "- Train a Linear Regression model on the training data.\n",
        "- Evaluate the model's performance using the testing data.\n",
        "\n",
        "## <span style=\"color:green\">Notes</span>\n",
        "\n",
        "### <span style=\"color:orange\">Model Training:</span>\n",
        "- **Purpose:** To create a machine learning model that can predict the target variable (`TotalPrice`) based on the selected features.\n",
        "- **Algorithm:** In this step, we use **Linear Regression**.\n",
        "  - **Linear Regression:** A simple yet powerful algorithm that models the relationship between a dependent variable and one or more independent variables by fitting a linear equation.\n",
        "\n",
        "### <span style=\"color:orange\">Model Evaluation:</span>\n",
        "- **Purpose:** To assess the performance of the trained model on unseen data (testing set).\n",
        "- **Metrics:**\n",
        "  - **Mean Absolute Error (MAE):** Measures the average magnitude of the errors in a set of predictions, without considering their direction.\n",
        "  - **Mean Squared Error (MSE):** Measures the average of the squares of the errors, giving higher weight to larger errors.\n",
        "  - **R-squared (R²):** Indicates the proportion of the variance in the dependent variable that is predictable from the independent variables.\n",
        "\n",
        "### <span style=\"color:orange\">Key Points:</span>\n",
        "- **Training the Model:**\n",
        "  - Use the `fit` method of the Linear Regression model to train it on the training data (`X_train` and `y_train`).\n",
        "  - Example: `model.fit(X_train, y_train)`\n",
        "- **Making Predictions:**\n",
        "  - Use the `predict` method to make predictions on the testing data (`X_test`).\n",
        "  - Example: `y_pred = model.predict(X_test)`\n",
        "- **Evaluating Performance:**\n",
        "  - Calculate MAE, MSE, and R² using the true values (`y_test`) and the predicted values (`y_pred`).\n",
        "  - Example:\n",
        "    - `mae = mean_absolute_error(y_test, y_pred)`\n",
        "    - `mse = mean_squared_error(y_test, y_pred)`\n",
        "    - `r2 = r2_score(y_test, y_pred)`\n",
        "\n",
        "### <span style=\"color:orange\">Example Workflow:</span>\n",
        "1. **Initialize the Model:**\n",
        "   - `model = LinearRegression()`\n",
        "2. **Train the Model:**\n",
        "   - `model.fit(X_train, y_train)`\n",
        "3. **Make Predictions:**\n",
        "   - `y_pred = model.predict(X_test)`\n",
        "4. **Evaluate the Model:**\n",
        "   - Calculate MAE, MSE, and R² using `mean_absolute_error`, `mean_squared_error`, and `r2_score`.\n",
        "\n",
        "---\n",
        "\n",
        "By completing Step 5, you will have a trained Linear Regression model and a clear understanding of its performance based on various evaluation metrics. This forms the foundation for further optimization and model comparison."
      ],
      "metadata": {
        "id": "DVWtXe2Kvoh4"
      }
    },
    {
      "cell_type": "code",
      "source": [
        "# Initialize the model"
      ],
      "metadata": {
        "id": "Mhz8QrHIBf3E"
      },
      "execution_count": null,
      "outputs": []
    },
    {
      "cell_type": "code",
      "source": [
        "model = LinearRegression()  # Initialize the Linear Regression model"
      ],
      "metadata": {
        "id": "Sk3BEYAnBf4W"
      },
      "execution_count": null,
      "outputs": []
    },
    {
      "cell_type": "code",
      "source": [],
      "metadata": {
        "id": "8yFT5QqWBtPV"
      },
      "execution_count": null,
      "outputs": []
    },
    {
      "cell_type": "code",
      "source": [
        "# Train the model"
      ],
      "metadata": {
        "id": "Kfx6Qq8pBtVs"
      },
      "execution_count": null,
      "outputs": []
    },
    {
      "cell_type": "code",
      "source": [
        "model.fit(X_train, y_train)  # Fit the model on the training data"
      ],
      "metadata": {
        "colab": {
          "base_uri": "https://localhost:8080/",
          "height": 75
        },
        "id": "S9tzZilABtYz",
        "outputId": "298440d2-cbbc-4261-a8f3-91bd40295002"
      },
      "execution_count": null,
      "outputs": [
        {
          "output_type": "execute_result",
          "data": {
            "text/plain": [
              "LinearRegression()"
            ],
            "text/html": [
              "<style>#sk-container-id-1 {color: black;background-color: white;}#sk-container-id-1 pre{padding: 0;}#sk-container-id-1 div.sk-toggleable {background-color: white;}#sk-container-id-1 label.sk-toggleable__label {cursor: pointer;display: block;width: 100%;margin-bottom: 0;padding: 0.3em;box-sizing: border-box;text-align: center;}#sk-container-id-1 label.sk-toggleable__label-arrow:before {content: \"▸\";float: left;margin-right: 0.25em;color: #696969;}#sk-container-id-1 label.sk-toggleable__label-arrow:hover:before {color: black;}#sk-container-id-1 div.sk-estimator:hover label.sk-toggleable__label-arrow:before {color: black;}#sk-container-id-1 div.sk-toggleable__content {max-height: 0;max-width: 0;overflow: hidden;text-align: left;background-color: #f0f8ff;}#sk-container-id-1 div.sk-toggleable__content pre {margin: 0.2em;color: black;border-radius: 0.25em;background-color: #f0f8ff;}#sk-container-id-1 input.sk-toggleable__control:checked~div.sk-toggleable__content {max-height: 200px;max-width: 100%;overflow: auto;}#sk-container-id-1 input.sk-toggleable__control:checked~label.sk-toggleable__label-arrow:before {content: \"▾\";}#sk-container-id-1 div.sk-estimator input.sk-toggleable__control:checked~label.sk-toggleable__label {background-color: #d4ebff;}#sk-container-id-1 div.sk-label input.sk-toggleable__control:checked~label.sk-toggleable__label {background-color: #d4ebff;}#sk-container-id-1 input.sk-hidden--visually {border: 0;clip: rect(1px 1px 1px 1px);clip: rect(1px, 1px, 1px, 1px);height: 1px;margin: -1px;overflow: hidden;padding: 0;position: absolute;width: 1px;}#sk-container-id-1 div.sk-estimator {font-family: monospace;background-color: #f0f8ff;border: 1px dotted black;border-radius: 0.25em;box-sizing: border-box;margin-bottom: 0.5em;}#sk-container-id-1 div.sk-estimator:hover {background-color: #d4ebff;}#sk-container-id-1 div.sk-parallel-item::after {content: \"\";width: 100%;border-bottom: 1px solid gray;flex-grow: 1;}#sk-container-id-1 div.sk-label:hover label.sk-toggleable__label {background-color: #d4ebff;}#sk-container-id-1 div.sk-serial::before {content: \"\";position: absolute;border-left: 1px solid gray;box-sizing: border-box;top: 0;bottom: 0;left: 50%;z-index: 0;}#sk-container-id-1 div.sk-serial {display: flex;flex-direction: column;align-items: center;background-color: white;padding-right: 0.2em;padding-left: 0.2em;position: relative;}#sk-container-id-1 div.sk-item {position: relative;z-index: 1;}#sk-container-id-1 div.sk-parallel {display: flex;align-items: stretch;justify-content: center;background-color: white;position: relative;}#sk-container-id-1 div.sk-item::before, #sk-container-id-1 div.sk-parallel-item::before {content: \"\";position: absolute;border-left: 1px solid gray;box-sizing: border-box;top: 0;bottom: 0;left: 50%;z-index: -1;}#sk-container-id-1 div.sk-parallel-item {display: flex;flex-direction: column;z-index: 1;position: relative;background-color: white;}#sk-container-id-1 div.sk-parallel-item:first-child::after {align-self: flex-end;width: 50%;}#sk-container-id-1 div.sk-parallel-item:last-child::after {align-self: flex-start;width: 50%;}#sk-container-id-1 div.sk-parallel-item:only-child::after {width: 0;}#sk-container-id-1 div.sk-dashed-wrapped {border: 1px dashed gray;margin: 0 0.4em 0.5em 0.4em;box-sizing: border-box;padding-bottom: 0.4em;background-color: white;}#sk-container-id-1 div.sk-label label {font-family: monospace;font-weight: bold;display: inline-block;line-height: 1.2em;}#sk-container-id-1 div.sk-label-container {text-align: center;}#sk-container-id-1 div.sk-container {/* jupyter's `normalize.less` sets `[hidden] { display: none; }` but bootstrap.min.css set `[hidden] { display: none !important; }` so we also need the `!important` here to be able to override the default hidden behavior on the sphinx rendered scikit-learn.org. See: https://github.com/scikit-learn/scikit-learn/issues/21755 */display: inline-block !important;position: relative;}#sk-container-id-1 div.sk-text-repr-fallback {display: none;}</style><div id=\"sk-container-id-1\" class=\"sk-top-container\"><div class=\"sk-text-repr-fallback\"><pre>LinearRegression()</pre><b>In a Jupyter environment, please rerun this cell to show the HTML representation or trust the notebook. <br />On GitHub, the HTML representation is unable to render, please try loading this page with nbviewer.org.</b></div><div class=\"sk-container\" hidden><div class=\"sk-item\"><div class=\"sk-estimator sk-toggleable\"><input class=\"sk-toggleable__control sk-hidden--visually\" id=\"sk-estimator-id-1\" type=\"checkbox\" checked><label for=\"sk-estimator-id-1\" class=\"sk-toggleable__label sk-toggleable__label-arrow\">LinearRegression</label><div class=\"sk-toggleable__content\"><pre>LinearRegression()</pre></div></div></div></div></div>"
            ]
          },
          "metadata": {},
          "execution_count": 55
        }
      ]
    },
    {
      "cell_type": "code",
      "source": [],
      "metadata": {
        "id": "mIJ4stK6BtfB"
      },
      "execution_count": null,
      "outputs": []
    },
    {
      "cell_type": "code",
      "source": [
        "# Make predictions"
      ],
      "metadata": {
        "id": "BMQj6mcKBtiY"
      },
      "execution_count": null,
      "outputs": []
    },
    {
      "cell_type": "code",
      "source": [
        "y_pred = model.predict(X_test)  # Predict on the test data"
      ],
      "metadata": {
        "id": "Feuyw3CFBtk-"
      },
      "execution_count": null,
      "outputs": []
    },
    {
      "cell_type": "code",
      "source": [],
      "metadata": {
        "id": "hipGQmFfBtn1"
      },
      "execution_count": null,
      "outputs": []
    },
    {
      "cell_type": "code",
      "source": [
        "# Evaluate the model"
      ],
      "metadata": {
        "id": "YAD4-jMVB6E8"
      },
      "execution_count": null,
      "outputs": []
    },
    {
      "cell_type": "code",
      "source": [
        "mae = mean_absolute_error(y_test, y_pred)  # Calculate Mean Absolute Error"
      ],
      "metadata": {
        "id": "GkadjD1oB6JL"
      },
      "execution_count": null,
      "outputs": []
    },
    {
      "cell_type": "code",
      "source": [
        "mse = mean_squared_error(y_test, y_pred)  # Calculate Mean Squared Error"
      ],
      "metadata": {
        "id": "-0N9xsGbB6L_"
      },
      "execution_count": null,
      "outputs": []
    },
    {
      "cell_type": "code",
      "source": [
        "r2 = r2_score(y_test, y_pred)  # Calculate R^2 Score"
      ],
      "metadata": {
        "id": "BPZkfOkaB6QF"
      },
      "execution_count": null,
      "outputs": []
    },
    {
      "cell_type": "code",
      "source": [],
      "metadata": {
        "id": "UFSAiB1QB6Td"
      },
      "execution_count": null,
      "outputs": []
    },
    {
      "cell_type": "code",
      "source": [
        "print(f\"Mean Absolute Error: {mae}\")  # Print Mean Absolute Error\n",
        "print(f\"Mean Squared Error: {mse}\")  # Print Mean Squared Error\n",
        "print(f\"R^2 Score: {r2}\")  # Print R^2 Score"
      ],
      "metadata": {
        "colab": {
          "base_uri": "https://localhost:8080/"
        },
        "id": "OxNZaUNOB6W4",
        "outputId": "0e6e8494-87ff-4158-ecb2-a1d047d27a08"
      },
      "execution_count": null,
      "outputs": [
        {
          "output_type": "stream",
          "name": "stdout",
          "text": [
            "Mean Absolute Error: 15.919036580640636\n",
            "Mean Squared Error: 6875.750154777151\n",
            "R^2 Score: -0.07706676196612916\n"
          ]
        }
      ]
    },
    {
      "cell_type": "code",
      "source": [],
      "metadata": {
        "id": "jUaLbGILCNhc"
      },
      "execution_count": null,
      "outputs": []
    },
    {
      "cell_type": "code",
      "source": [],
      "metadata": {
        "id": "4WrUiyLCvxDh"
      },
      "execution_count": null,
      "outputs": []
    },
    {
      "cell_type": "markdown",
      "source": [
        "# <span style=\"color:blue\">Step 6: Saving Evaluation Metrics and Predictions</span>\n",
        "\n",
        "## <span style=\"color:green\">Objective</span>\n",
        "- Save the evaluation metrics and predictions to CSV files for future reference and analysis.\n",
        "\n",
        "## <span style=\"color:green\">Notes</span>\n",
        "\n",
        "### <span style=\"color:orange\">Evaluation Metrics:</span>\n",
        "- **Purpose:** To store the evaluation metrics calculated in the previous step.\n",
        "- **Metrics:** We will save Mean Absolute Error (MAE), Mean Squared Error (MSE), and R-squared (R²) values.\n",
        "- **Method:** Use `pandas.DataFrame` to create a DataFrame of the metrics and then save it using the `to_csv` method.\n",
        "\n",
        "### <span style=\"color:orange\">Predictions:</span>\n",
        "- **Purpose:** To store the predictions made by the model on new data.\n",
        "- **Method:** Use `pandas.DataFrame` to create a DataFrame of the predictions and then save it using the `to_csv` method.\n",
        "\n",
        "### <span style=\"color:orange\">Key Points:</span>\n",
        "- **Creating DataFrames:**\n",
        "  - Convert the evaluation metrics and predictions into DataFrames.\n",
        "  - Example for evaluation metrics:\n",
        "    ```python\n",
        "    evaluation_metrics = pd.DataFrame({\n",
        "        'Metric': ['Mean Absolute Error', 'Mean Squared Error', 'R² Score'],\n",
        "        'Value': [mae, mse, r2]\n",
        "    })\n",
        "    ```\n",
        "  - Example for predictions:\n",
        "    ```python\n",
        "    predictions_df = pd.DataFrame(predictions, columns=['PredictedTotalPrice'])\n",
        "    ```\n",
        "- **Saving to CSV:**\n",
        "  - Use the `to_csv` method to save the DataFrames to CSV files.\n",
        "  - Example:\n",
        "    ```python\n",
        "    evaluation_metrics.to_csv('/content/evaluation_metrics.csv', index=False)\n",
        "    predictions_df.to_csv('/content/predicted_customer_spending.csv', index=False)\n",
        "    ```\n",
        "\n",
        "### <span style=\"color:orange\">Example Workflow:</span>\n",
        "1. **Create Evaluation Metrics DataFrame:**\n",
        "   - `evaluation_metrics = pd.DataFrame({'Metric': ['Mean Absolute Error', 'Mean Squared Error', 'R² Score'], 'Value': [mae, mse, r2]})`\n",
        "2. **Save Evaluation Metrics to CSV:**\n",
        "   - `evaluation_metrics.to_csv('/content/evaluation_metrics.csv', index=False)`\n",
        "3. **Create Predictions DataFrame:**\n",
        "   - `predictions_df = pd.DataFrame(predictions, columns=['PredictedTotalPrice'])`\n",
        "4. **Save Predictions to CSV:**\n",
        "   - `predictions_df.to_csv('/content/predicted_customer_spending.csv', index=False)`\n",
        "\n",
        "---\n",
        "\n",
        "By completing Step 6, you will have successfully saved the evaluation metrics and predictions, allowing for easy retrieval and analysis in the future. This step ensures that the results of your model are well-documented and accessible."
      ],
      "metadata": {
        "id": "LTxnMX9OvxSJ"
      }
    },
    {
      "cell_type": "code",
      "source": [
        "# Save evaluation metrics to CSV"
      ],
      "metadata": {
        "id": "NdDW3NCuCNlQ"
      },
      "execution_count": null,
      "outputs": []
    },
    {
      "cell_type": "code",
      "source": [
        "evaluation_metrics = pd.DataFrame({\n",
        "    'Metric': ['Mean Absolute Error', 'Mean Squared Error', 'R^2 Score'],  # Evaluation metrics\n",
        "    'Value': [mae, mse, r2]  # Corresponding values\n",
        "})"
      ],
      "metadata": {
        "id": "PYQkyRT9CNo6"
      },
      "execution_count": null,
      "outputs": []
    },
    {
      "cell_type": "code",
      "source": [],
      "metadata": {
        "id": "q4BOrO9KCNrz"
      },
      "execution_count": null,
      "outputs": []
    },
    {
      "cell_type": "code",
      "source": [
        "evaluation_metrics.to_csv('/content/evaluation_metrics.csv', index=False)  # Save the evaluation metrics as a CSV"
      ],
      "metadata": {
        "id": "fuoEz9AXCNvK"
      },
      "execution_count": null,
      "outputs": []
    },
    {
      "cell_type": "code",
      "source": [
        "print(\"\\nEvaluation metrics saved as CSV.\")  # Print statement"
      ],
      "metadata": {
        "colab": {
          "base_uri": "https://localhost:8080/"
        },
        "id": "IC6v7fLUCNzM",
        "outputId": "480459ae-6ef1-4605-83d1-5fff4a0c1f6f"
      },
      "execution_count": null,
      "outputs": [
        {
          "output_type": "stream",
          "name": "stdout",
          "text": [
            "\n",
            "Evaluation metrics saved as CSV.\n"
          ]
        }
      ]
    },
    {
      "cell_type": "code",
      "source": [],
      "metadata": {
        "id": "vrWBYNRACZTc"
      },
      "execution_count": null,
      "outputs": []
    },
    {
      "cell_type": "code",
      "source": [
        "# Predicting on new data (example)"
      ],
      "metadata": {
        "id": "stJN256kCZXV"
      },
      "execution_count": null,
      "outputs": []
    },
    {
      "cell_type": "code",
      "source": [
        "new_data = pd.DataFrame({\n",
        "    'Month': [7, 8],  # Example months\n",
        "    'DayOfWeek': [2, 3],  # Example days of the week\n",
        "    'Quantity': [10, 15],  # Example quantities\n",
        "    'UnitPrice': [2.5, 3.0]  # Example unit prices\n",
        "})"
      ],
      "metadata": {
        "id": "fsfAblfHCZbA"
      },
      "execution_count": null,
      "outputs": []
    },
    {
      "cell_type": "code",
      "source": [],
      "metadata": {
        "id": "iGpVd49OCZef"
      },
      "execution_count": null,
      "outputs": []
    },
    {
      "cell_type": "code",
      "source": [
        "predictions = model.predict(new_data)  # Predict on new data"
      ],
      "metadata": {
        "id": "Z_Y31vWwCZhd"
      },
      "execution_count": null,
      "outputs": []
    },
    {
      "cell_type": "code",
      "source": [],
      "metadata": {
        "id": "9GT330BCCiG8"
      },
      "execution_count": null,
      "outputs": []
    },
    {
      "cell_type": "code",
      "source": [
        "# Save predictions to CSV"
      ],
      "metadata": {
        "id": "1QGXhsuKCiKA"
      },
      "execution_count": null,
      "outputs": []
    },
    {
      "cell_type": "code",
      "source": [
        "predictions_df = pd.DataFrame(predictions, columns=['PredictedTotalPrice'])  # Create DataFrame for predictions"
      ],
      "metadata": {
        "id": "IScp7f9WCiNU"
      },
      "execution_count": null,
      "outputs": []
    },
    {
      "cell_type": "code",
      "source": [
        "predictions_df.to_csv('/content/predicted_customer_spending.csv', index=False)  # Save the predictions as a CSV"
      ],
      "metadata": {
        "id": "H3NdTUbDCiQM"
      },
      "execution_count": null,
      "outputs": []
    },
    {
      "cell_type": "code",
      "source": [
        "print(\"\\nPredictions saved as CSV.\")  # Print statement"
      ],
      "metadata": {
        "colab": {
          "base_uri": "https://localhost:8080/"
        },
        "id": "IgpWCPKACiSv",
        "outputId": "9e841992-e2ac-4486-b9da-e0dfc4bfed84"
      },
      "execution_count": null,
      "outputs": [
        {
          "output_type": "stream",
          "name": "stdout",
          "text": [
            "\n",
            "Predictions saved as CSV.\n"
          ]
        }
      ]
    },
    {
      "cell_type": "code",
      "source": [],
      "metadata": {
        "id": "G9ux4Ns4CiVF"
      },
      "execution_count": null,
      "outputs": []
    },
    {
      "cell_type": "code",
      "source": [
        "print(predictions_df.head())  # Display the first few rows of predictions"
      ],
      "metadata": {
        "colab": {
          "base_uri": "https://localhost:8080/"
        },
        "id": "A27eHbZaCibP",
        "outputId": "b35af7e0-4cc7-43fa-e445-20e362409d64"
      },
      "execution_count": null,
      "outputs": [
        {
          "output_type": "stream",
          "name": "stdout",
          "text": [
            "   PredictedTotalPrice\n",
            "0            18.126293\n",
            "1            25.384895\n"
          ]
        }
      ]
    },
    {
      "cell_type": "code",
      "source": [],
      "metadata": {
        "id": "UR340SD0Cid8"
      },
      "execution_count": null,
      "outputs": []
    },
    {
      "cell_type": "code",
      "source": [],
      "metadata": {
        "id": "Qw72jARfCZkd"
      },
      "execution_count": null,
      "outputs": []
    },
    {
      "cell_type": "markdown",
      "source": [
        "# <span style=\"color:blue\">Step 7: Feature Scaling with Standardization</span>\n",
        "\n",
        "## <span style=\"color:green\">Objective</span>\n",
        "- Standardize the numerical features to ensure they are on the same scale for better model performance.\n",
        "\n",
        "## <span style=\"color:green\">Notes</span>\n",
        "\n",
        "### <span style=\"color:orange\">Purpose of Feature Scaling:</span>\n",
        "- **Normalization:** Ensures that all features have the same scale (e.g., between 0 and 1).\n",
        "- **Standardization:** Transforms data to have a mean of 0 and a standard deviation of 1.\n",
        "\n",
        "### <span style=\"color:orange\">Method Used:</span>\n",
        "- **StandardScaler:** Standardizes features by removing the mean and scaling to unit variance.\n",
        "\n",
        "### <span style=\"color:orange\">Key Points:</span>\n",
        "- **Fit and Transform:** Fit the `StandardScaler` on the training data and then transform both training and testing data.\n",
        "  - Example:\n",
        "    ```python\n",
        "    scaler = StandardScaler()\n",
        "    X_train_scaled = scaler.fit_transform(X_train)\n",
        "    X_test_scaled = scaler.transform(X_test)\n",
        "    ```\n",
        "- **Benefits:** Helps models converge faster and can prevent features with larger ranges from dominating the prediction.\n",
        "\n",
        "### <span style=\"color:orange\">Example Workflow:</span>\n",
        "1. **Initialize the StandardScaler:**\n",
        "   - `scaler = StandardScaler()`\n",
        "2. **Fit and Transform Training Data:**\n",
        "   - `X_train_scaled = scaler.fit_transform(X_train)`\n",
        "3. **Transform Testing Data:**\n",
        "   - `X_test_scaled = scaler.transform(X_test)`\n",
        "\n",
        "---\n",
        "\n",
        "By completing Step 7, you will have standardized the numerical features in your dataset, preparing them for improved performance and stability in machine learning models like Linear Regression and Ridge Regression."
      ],
      "metadata": {
        "id": "sxzy3bFlv8sb"
      }
    },
    {
      "cell_type": "code",
      "source": [
        "from sklearn.preprocessing import StandardScaler  # Import StandardScaler from sklearn.preprocessing"
      ],
      "metadata": {
        "id": "sCV_JA3GFGEG"
      },
      "execution_count": null,
      "outputs": []
    },
    {
      "cell_type": "code",
      "source": [],
      "metadata": {
        "id": "gKf-8b4wFZCF"
      },
      "execution_count": null,
      "outputs": []
    },
    {
      "cell_type": "code",
      "source": [
        "# Initialize the scaler with description"
      ],
      "metadata": {
        "id": "lowoIcOuFZF0"
      },
      "execution_count": null,
      "outputs": []
    },
    {
      "cell_type": "code",
      "source": [
        "scaler = StandardScaler()  # Initialize the StandardScaler"
      ],
      "metadata": {
        "id": "kPcrFsWyFZIs"
      },
      "execution_count": null,
      "outputs": []
    },
    {
      "cell_type": "code",
      "source": [],
      "metadata": {
        "id": "ilmv2XmtFZME"
      },
      "execution_count": null,
      "outputs": []
    },
    {
      "cell_type": "code",
      "source": [
        "# Fit and transform the training data with description"
      ],
      "metadata": {
        "id": "bLNqcDZfFZPa"
      },
      "execution_count": null,
      "outputs": []
    },
    {
      "cell_type": "code",
      "source": [
        "X_train_scaled = scaler.fit_transform(X_train)  # Fit and transform the training data"
      ],
      "metadata": {
        "id": "cod4gVOpFZSV"
      },
      "execution_count": null,
      "outputs": []
    },
    {
      "cell_type": "code",
      "source": [],
      "metadata": {
        "id": "_SzyvgAWEtfU"
      },
      "execution_count": null,
      "outputs": []
    },
    {
      "cell_type": "code",
      "source": [
        "# Transform the test data with description"
      ],
      "metadata": {
        "id": "iNAWtCAZHOKV"
      },
      "execution_count": null,
      "outputs": []
    },
    {
      "cell_type": "code",
      "source": [
        "X_test_scaled = scaler.transform(X_test)  # Transform the test data"
      ],
      "metadata": {
        "id": "hzVRklWTHON3"
      },
      "execution_count": null,
      "outputs": []
    },
    {
      "cell_type": "code",
      "source": [],
      "metadata": {
        "id": "TXE4YfqDHOQ3"
      },
      "execution_count": null,
      "outputs": []
    },
    {
      "cell_type": "code",
      "source": [],
      "metadata": {
        "id": "2zh7VfjWHOTm"
      },
      "execution_count": null,
      "outputs": []
    },
    {
      "cell_type": "markdown",
      "source": [
        "### <span style=\"color:blue\">Step 8: Ridge Regression</span>\n",
        "\n",
        "#### <span style=\"color:green\">Ridge Regression</span>\n",
        "- **Model Description**: Ridge Regression is a linear regression technique that includes L2 regularization. It helps prevent overfitting by adding a penalty term to the loss function, which is proportional to the square of the coefficients.\n",
        "  \n",
        "- **Initialization**: Import `Ridge` from `sklearn.linear_model` and initialize the Ridge Regression model (`ridge_model`) with an alpha value of 0.1. Alpha controls the regularization strength; higher values increase regularization.\n",
        "  \n",
        "- **Training**: Fit the Ridge model using scaled training data (`X_train_scaled`, `y_train`). During training, the model adjusts its coefficients to minimize the loss function, balancing between data fitting and regularization.\n",
        "  \n",
        "- **Prediction**: Predict the target variable (`y_pred_ridge`) using the trained Ridge model on the scaled test data (`X_test_scaled`). These predictions estimate total prices based on learned coefficients and test data features.\n",
        "  \n",
        "- **Evaluation Metrics**:\n",
        "  - **Mean Absolute Error (MAE)**: Computes the average absolute difference between predicted and actual total prices.\n",
        "  - **Mean Squared Error (MSE)**: Calculates the average squared difference between predicted and actual total prices, giving more weight to larger errors.\n",
        "  - **R-squared (R²) Score**: Indicates the proportion of variance in total prices explained by the model. A higher R² score indicates better model fit.\n",
        "  \n",
        "- **Output**: Print the MAE, MSE, and R² score to evaluate the Ridge Regression model's performance."
      ],
      "metadata": {
        "id": "_oY4G-ywx-ah"
      }
    },
    {
      "cell_type": "code",
      "source": [
        "from sklearn.linear_model import Ridge  # Import Ridge from sklearn.linear_model"
      ],
      "metadata": {
        "id": "156xll3fHOV8"
      },
      "execution_count": null,
      "outputs": []
    },
    {
      "cell_type": "code",
      "source": [],
      "metadata": {
        "id": "-sfKlCZIHfdz"
      },
      "execution_count": null,
      "outputs": []
    },
    {
      "cell_type": "code",
      "source": [
        "# Initialize the Ridge Regression model with description"
      ],
      "metadata": {
        "id": "bBC_adN6HOY_"
      },
      "execution_count": null,
      "outputs": []
    },
    {
      "cell_type": "code",
      "source": [
        "ridge_model = Ridge(alpha=0.1)  # Initialize the Ridge Regression model with alpha regularization parameter (adjust alpha as needed)\n"
      ],
      "metadata": {
        "id": "I-D0GcwEHgMy"
      },
      "execution_count": null,
      "outputs": []
    },
    {
      "cell_type": "code",
      "source": [],
      "metadata": {
        "id": "7dZN5yL8HgSO"
      },
      "execution_count": null,
      "outputs": []
    },
    {
      "cell_type": "code",
      "source": [
        "# Train the Ridge model with description"
      ],
      "metadata": {
        "id": "ZUlVX8oQHgT3"
      },
      "execution_count": null,
      "outputs": []
    },
    {
      "cell_type": "code",
      "source": [
        "ridge_model.fit(X_train_scaled, y_train)  # Train the Ridge model"
      ],
      "metadata": {
        "colab": {
          "base_uri": "https://localhost:8080/",
          "height": 75
        },
        "id": "Gslj6OOVHgYw",
        "outputId": "b2525a8e-ca67-4eed-8ada-a2990f77c5a6"
      },
      "execution_count": null,
      "outputs": [
        {
          "output_type": "execute_result",
          "data": {
            "text/plain": [
              "Ridge(alpha=0.1)"
            ],
            "text/html": [
              "<style>#sk-container-id-2 {color: black;background-color: white;}#sk-container-id-2 pre{padding: 0;}#sk-container-id-2 div.sk-toggleable {background-color: white;}#sk-container-id-2 label.sk-toggleable__label {cursor: pointer;display: block;width: 100%;margin-bottom: 0;padding: 0.3em;box-sizing: border-box;text-align: center;}#sk-container-id-2 label.sk-toggleable__label-arrow:before {content: \"▸\";float: left;margin-right: 0.25em;color: #696969;}#sk-container-id-2 label.sk-toggleable__label-arrow:hover:before {color: black;}#sk-container-id-2 div.sk-estimator:hover label.sk-toggleable__label-arrow:before {color: black;}#sk-container-id-2 div.sk-toggleable__content {max-height: 0;max-width: 0;overflow: hidden;text-align: left;background-color: #f0f8ff;}#sk-container-id-2 div.sk-toggleable__content pre {margin: 0.2em;color: black;border-radius: 0.25em;background-color: #f0f8ff;}#sk-container-id-2 input.sk-toggleable__control:checked~div.sk-toggleable__content {max-height: 200px;max-width: 100%;overflow: auto;}#sk-container-id-2 input.sk-toggleable__control:checked~label.sk-toggleable__label-arrow:before {content: \"▾\";}#sk-container-id-2 div.sk-estimator input.sk-toggleable__control:checked~label.sk-toggleable__label {background-color: #d4ebff;}#sk-container-id-2 div.sk-label input.sk-toggleable__control:checked~label.sk-toggleable__label {background-color: #d4ebff;}#sk-container-id-2 input.sk-hidden--visually {border: 0;clip: rect(1px 1px 1px 1px);clip: rect(1px, 1px, 1px, 1px);height: 1px;margin: -1px;overflow: hidden;padding: 0;position: absolute;width: 1px;}#sk-container-id-2 div.sk-estimator {font-family: monospace;background-color: #f0f8ff;border: 1px dotted black;border-radius: 0.25em;box-sizing: border-box;margin-bottom: 0.5em;}#sk-container-id-2 div.sk-estimator:hover {background-color: #d4ebff;}#sk-container-id-2 div.sk-parallel-item::after {content: \"\";width: 100%;border-bottom: 1px solid gray;flex-grow: 1;}#sk-container-id-2 div.sk-label:hover label.sk-toggleable__label {background-color: #d4ebff;}#sk-container-id-2 div.sk-serial::before {content: \"\";position: absolute;border-left: 1px solid gray;box-sizing: border-box;top: 0;bottom: 0;left: 50%;z-index: 0;}#sk-container-id-2 div.sk-serial {display: flex;flex-direction: column;align-items: center;background-color: white;padding-right: 0.2em;padding-left: 0.2em;position: relative;}#sk-container-id-2 div.sk-item {position: relative;z-index: 1;}#sk-container-id-2 div.sk-parallel {display: flex;align-items: stretch;justify-content: center;background-color: white;position: relative;}#sk-container-id-2 div.sk-item::before, #sk-container-id-2 div.sk-parallel-item::before {content: \"\";position: absolute;border-left: 1px solid gray;box-sizing: border-box;top: 0;bottom: 0;left: 50%;z-index: -1;}#sk-container-id-2 div.sk-parallel-item {display: flex;flex-direction: column;z-index: 1;position: relative;background-color: white;}#sk-container-id-2 div.sk-parallel-item:first-child::after {align-self: flex-end;width: 50%;}#sk-container-id-2 div.sk-parallel-item:last-child::after {align-self: flex-start;width: 50%;}#sk-container-id-2 div.sk-parallel-item:only-child::after {width: 0;}#sk-container-id-2 div.sk-dashed-wrapped {border: 1px dashed gray;margin: 0 0.4em 0.5em 0.4em;box-sizing: border-box;padding-bottom: 0.4em;background-color: white;}#sk-container-id-2 div.sk-label label {font-family: monospace;font-weight: bold;display: inline-block;line-height: 1.2em;}#sk-container-id-2 div.sk-label-container {text-align: center;}#sk-container-id-2 div.sk-container {/* jupyter's `normalize.less` sets `[hidden] { display: none; }` but bootstrap.min.css set `[hidden] { display: none !important; }` so we also need the `!important` here to be able to override the default hidden behavior on the sphinx rendered scikit-learn.org. See: https://github.com/scikit-learn/scikit-learn/issues/21755 */display: inline-block !important;position: relative;}#sk-container-id-2 div.sk-text-repr-fallback {display: none;}</style><div id=\"sk-container-id-2\" class=\"sk-top-container\"><div class=\"sk-text-repr-fallback\"><pre>Ridge(alpha=0.1)</pre><b>In a Jupyter environment, please rerun this cell to show the HTML representation or trust the notebook. <br />On GitHub, the HTML representation is unable to render, please try loading this page with nbviewer.org.</b></div><div class=\"sk-container\" hidden><div class=\"sk-item\"><div class=\"sk-estimator sk-toggleable\"><input class=\"sk-toggleable__control sk-hidden--visually\" id=\"sk-estimator-id-2\" type=\"checkbox\" checked><label for=\"sk-estimator-id-2\" class=\"sk-toggleable__label sk-toggleable__label-arrow\">Ridge</label><div class=\"sk-toggleable__content\"><pre>Ridge(alpha=0.1)</pre></div></div></div></div></div>"
            ]
          },
          "metadata": {},
          "execution_count": 92
        }
      ]
    },
    {
      "cell_type": "code",
      "source": [],
      "metadata": {
        "id": "2qfI1i7tHgbX"
      },
      "execution_count": null,
      "outputs": []
    },
    {
      "cell_type": "code",
      "source": [
        "# Predict using the Ridge model with description"
      ],
      "metadata": {
        "id": "Zy6ynDSnHgc5"
      },
      "execution_count": null,
      "outputs": []
    },
    {
      "cell_type": "code",
      "source": [
        "y_pred_ridge = ridge_model.predict(X_test_scaled)  # Predict using the Ridge model"
      ],
      "metadata": {
        "id": "HNthiAv7Hghc"
      },
      "execution_count": null,
      "outputs": []
    },
    {
      "cell_type": "code",
      "source": [],
      "metadata": {
        "id": "PhXDr5aqHglE"
      },
      "execution_count": null,
      "outputs": []
    },
    {
      "cell_type": "code",
      "source": [
        "# Evaluate the Ridge model with description"
      ],
      "metadata": {
        "id": "fnrADG2zHtUk"
      },
      "execution_count": null,
      "outputs": []
    },
    {
      "cell_type": "code",
      "source": [
        "ridge_mae = mean_absolute_error(y_test, y_pred_ridge)  # Calculate Mean Absolute Error"
      ],
      "metadata": {
        "id": "yVHC5WCCHtW1"
      },
      "execution_count": null,
      "outputs": []
    },
    {
      "cell_type": "code",
      "source": [
        "ridge_mse = mean_squared_error(y_test, y_pred_ridge)  # Calculate Mean Squared Error"
      ],
      "metadata": {
        "id": "wLefepkCHtZd"
      },
      "execution_count": null,
      "outputs": []
    },
    {
      "cell_type": "code",
      "source": [
        "ridge_r2 = r2_score(y_test, y_pred_ridge)  # Calculate R^2 score"
      ],
      "metadata": {
        "id": "xk0daYwmHtcL"
      },
      "execution_count": null,
      "outputs": []
    },
    {
      "cell_type": "code",
      "source": [],
      "metadata": {
        "id": "I90Z6MYAHte8"
      },
      "execution_count": null,
      "outputs": []
    },
    {
      "cell_type": "code",
      "source": [
        "print(f\"Ridge Regression Mean Absolute Error: {ridge_mae}\")  # Print Mean Absolute Error\n",
        "print(f\"Ridge Regression Mean Squared Error: {ridge_mse}\")  # Print Mean Squared Error\n",
        "print(f\"Ridge Regression R^2 Score: {ridge_r2}\")  # Print R^2 score"
      ],
      "metadata": {
        "colab": {
          "base_uri": "https://localhost:8080/"
        },
        "id": "9vdqK9uLHtiP",
        "outputId": "f3be6d15-8e7a-4789-ca52-8df1d8227385"
      },
      "execution_count": null,
      "outputs": [
        {
          "output_type": "stream",
          "name": "stdout",
          "text": [
            "Ridge Regression Mean Absolute Error: 15.919034908475119\n",
            "Ridge Regression Mean Squared Error: 6875.748343765254\n",
            "Ridge Regression R^2 Score: -0.07706647827625157\n"
          ]
        }
      ]
    },
    {
      "cell_type": "code",
      "source": [],
      "metadata": {
        "id": "oQ8ea4S3H7CG"
      },
      "execution_count": null,
      "outputs": []
    },
    {
      "cell_type": "code",
      "source": [],
      "metadata": {
        "id": "BnekvX1uH7O_"
      },
      "execution_count": null,
      "outputs": []
    },
    {
      "cell_type": "markdown",
      "source": [
        "### <span style=\"color:blue\">Step 9: Polynomial Regression</span>\n",
        "\n",
        "#### <span style=\"color:green\">Polynomial Regression</span>\n",
        "- <span style=\"color:green\">**Model Description**</span>: Polynomial Regression extends linear regression by incorporating higher-degree polynomial features. It captures nonlinear relationships between features and the target variable.\n",
        "\n",
        "- <span style=\"color:green\">**Initialization**</span>: Import `PolynomialFeatures` from `sklearn.preprocessing` and initialize `poly` with a degree of 2. The degree determines the highest power of features to be used in the polynomial transformation.\n",
        "\n",
        "- <span style=\"color:green\">**Feature Transformation**</span>:\n",
        "  - <span style=\"color:green\">**Training Set**</span>: Use `poly.fit_transform(X_train_scaled)` to transform the scaled training features (`X_train_scaled`) into polynomial features (`X_train_poly`).\n",
        "  - <span style=\"color:green\">**Test Set**</span>: Use `poly.transform(X_test_scaled)` to transform the scaled test features (`X_test_scaled`) into the same polynomial features (`X_test_poly`). This ensures consistency in feature representation across training and test datasets.\n",
        "\n",
        "- <span style=\"color:green\">**Model Training**</span>: Initialize a new `LinearRegression` model (`poly_model`) and train it using the polynomial features (`X_train_poly`) and corresponding target values (`y_train`). The model learns coefficients that best fit the polynomial relationships.\n",
        "\n",
        "- <span style=\"color:green\">**Prediction**</span>: Use the trained polynomial model (`poly_model`) to predict the target variable (`y_pred_poly`) for the test set (`X_test_poly`). These predictions estimate total prices based on polynomial relationships learned during training.\n",
        "\n",
        "- <span style=\"color:green\">**Evaluation Metrics**</span>:\n",
        "  - <span style=\"color:green\">**Mean Absolute Error (MAE)**</span>: Measures the average absolute difference between predicted and actual total prices.\n",
        "  - <span style=\"color:green\">**Mean Squared Error (MSE)**</span>: Computes the average squared difference between predicted and actual total prices, giving higher weight to larger errors.\n",
        "  - <span style=\"color:green\">**R-squared (R²) Score**</span>: Indicates the proportion of variance in total prices explained by the polynomial model. Higher R² scores indicate better model fit to the data.\n",
        "\n",
        "- <span style=\"color:green\">**Output**</span>: Print the MAE, MSE, and R² score to evaluate the Polynomial Regression model's performance in capturing nonlinearities and improving prediction accuracy over simple linear models."
      ],
      "metadata": {
        "id": "NM0V1G8iyL8b"
      }
    },
    {
      "cell_type": "code",
      "source": [
        "from sklearn.preprocessing import PolynomialFeatures  # Import PolynomialFeatures from sklearn.preprocessing"
      ],
      "metadata": {
        "id": "eaW9BS9_H7Sg"
      },
      "execution_count": null,
      "outputs": []
    },
    {
      "cell_type": "code",
      "source": [],
      "metadata": {
        "id": "ArSfTS0-H7VZ"
      },
      "execution_count": null,
      "outputs": []
    },
    {
      "cell_type": "code",
      "source": [
        "# Initialize PolynomialFeatures with description"
      ],
      "metadata": {
        "id": "Sr-3QfLxH7Yg"
      },
      "execution_count": null,
      "outputs": []
    },
    {
      "cell_type": "code",
      "source": [
        "poly = PolynomialFeatures(degree=2)  # Initialize PolynomialFeatures with degree 2 (adjust degree as needed)"
      ],
      "metadata": {
        "id": "h57YpCTnH7an"
      },
      "execution_count": null,
      "outputs": []
    },
    {
      "cell_type": "code",
      "source": [],
      "metadata": {
        "id": "ZHTL9wa9H7ch"
      },
      "execution_count": null,
      "outputs": []
    },
    {
      "cell_type": "code",
      "source": [
        "# Transform features to higher degree with description"
      ],
      "metadata": {
        "id": "nn2D8oM9H7fG"
      },
      "execution_count": null,
      "outputs": []
    },
    {
      "cell_type": "code",
      "source": [
        "X_train_poly = poly.fit_transform(X_train_scaled)  # Transform training features to higher degree"
      ],
      "metadata": {
        "id": "AqrIxZx_IW4Z"
      },
      "execution_count": null,
      "outputs": []
    },
    {
      "cell_type": "code",
      "source": [
        "X_test_poly = poly.transform(X_test_scaled)  # Transform test features to higher degree"
      ],
      "metadata": {
        "id": "XqxCqp-cIW7X"
      },
      "execution_count": null,
      "outputs": []
    },
    {
      "cell_type": "code",
      "source": [],
      "metadata": {
        "id": "AnKmJr3lIW-L"
      },
      "execution_count": null,
      "outputs": []
    },
    {
      "cell_type": "code",
      "source": [
        "# Initialize a new Linear Regression model with description"
      ],
      "metadata": {
        "id": "yB_4fU2QIXA2"
      },
      "execution_count": null,
      "outputs": []
    },
    {
      "cell_type": "code",
      "source": [
        "poly_model = LinearRegression()  # Initialize a new Linear Regression model"
      ],
      "metadata": {
        "id": "mb4u_XrLIXGk"
      },
      "execution_count": null,
      "outputs": []
    },
    {
      "cell_type": "code",
      "source": [],
      "metadata": {
        "id": "ggDu7szKIXIl"
      },
      "execution_count": null,
      "outputs": []
    },
    {
      "cell_type": "code",
      "source": [
        "# Train the model with polynomial features with description"
      ],
      "metadata": {
        "id": "VvUzj3PDIXKZ"
      },
      "execution_count": null,
      "outputs": []
    },
    {
      "cell_type": "code",
      "source": [
        "poly_model.fit(X_train_poly, y_train)  # Train the model with polynomial features"
      ],
      "metadata": {
        "colab": {
          "base_uri": "https://localhost:8080/",
          "height": 75
        },
        "id": "-NDAd6Y8Ip3I",
        "outputId": "e5c93bf7-010b-4e4a-dadc-02e02d941dd4"
      },
      "execution_count": null,
      "outputs": [
        {
          "output_type": "execute_result",
          "data": {
            "text/plain": [
              "LinearRegression()"
            ],
            "text/html": [
              "<style>#sk-container-id-3 {color: black;background-color: white;}#sk-container-id-3 pre{padding: 0;}#sk-container-id-3 div.sk-toggleable {background-color: white;}#sk-container-id-3 label.sk-toggleable__label {cursor: pointer;display: block;width: 100%;margin-bottom: 0;padding: 0.3em;box-sizing: border-box;text-align: center;}#sk-container-id-3 label.sk-toggleable__label-arrow:before {content: \"▸\";float: left;margin-right: 0.25em;color: #696969;}#sk-container-id-3 label.sk-toggleable__label-arrow:hover:before {color: black;}#sk-container-id-3 div.sk-estimator:hover label.sk-toggleable__label-arrow:before {color: black;}#sk-container-id-3 div.sk-toggleable__content {max-height: 0;max-width: 0;overflow: hidden;text-align: left;background-color: #f0f8ff;}#sk-container-id-3 div.sk-toggleable__content pre {margin: 0.2em;color: black;border-radius: 0.25em;background-color: #f0f8ff;}#sk-container-id-3 input.sk-toggleable__control:checked~div.sk-toggleable__content {max-height: 200px;max-width: 100%;overflow: auto;}#sk-container-id-3 input.sk-toggleable__control:checked~label.sk-toggleable__label-arrow:before {content: \"▾\";}#sk-container-id-3 div.sk-estimator input.sk-toggleable__control:checked~label.sk-toggleable__label {background-color: #d4ebff;}#sk-container-id-3 div.sk-label input.sk-toggleable__control:checked~label.sk-toggleable__label {background-color: #d4ebff;}#sk-container-id-3 input.sk-hidden--visually {border: 0;clip: rect(1px 1px 1px 1px);clip: rect(1px, 1px, 1px, 1px);height: 1px;margin: -1px;overflow: hidden;padding: 0;position: absolute;width: 1px;}#sk-container-id-3 div.sk-estimator {font-family: monospace;background-color: #f0f8ff;border: 1px dotted black;border-radius: 0.25em;box-sizing: border-box;margin-bottom: 0.5em;}#sk-container-id-3 div.sk-estimator:hover {background-color: #d4ebff;}#sk-container-id-3 div.sk-parallel-item::after {content: \"\";width: 100%;border-bottom: 1px solid gray;flex-grow: 1;}#sk-container-id-3 div.sk-label:hover label.sk-toggleable__label {background-color: #d4ebff;}#sk-container-id-3 div.sk-serial::before {content: \"\";position: absolute;border-left: 1px solid gray;box-sizing: border-box;top: 0;bottom: 0;left: 50%;z-index: 0;}#sk-container-id-3 div.sk-serial {display: flex;flex-direction: column;align-items: center;background-color: white;padding-right: 0.2em;padding-left: 0.2em;position: relative;}#sk-container-id-3 div.sk-item {position: relative;z-index: 1;}#sk-container-id-3 div.sk-parallel {display: flex;align-items: stretch;justify-content: center;background-color: white;position: relative;}#sk-container-id-3 div.sk-item::before, #sk-container-id-3 div.sk-parallel-item::before {content: \"\";position: absolute;border-left: 1px solid gray;box-sizing: border-box;top: 0;bottom: 0;left: 50%;z-index: -1;}#sk-container-id-3 div.sk-parallel-item {display: flex;flex-direction: column;z-index: 1;position: relative;background-color: white;}#sk-container-id-3 div.sk-parallel-item:first-child::after {align-self: flex-end;width: 50%;}#sk-container-id-3 div.sk-parallel-item:last-child::after {align-self: flex-start;width: 50%;}#sk-container-id-3 div.sk-parallel-item:only-child::after {width: 0;}#sk-container-id-3 div.sk-dashed-wrapped {border: 1px dashed gray;margin: 0 0.4em 0.5em 0.4em;box-sizing: border-box;padding-bottom: 0.4em;background-color: white;}#sk-container-id-3 div.sk-label label {font-family: monospace;font-weight: bold;display: inline-block;line-height: 1.2em;}#sk-container-id-3 div.sk-label-container {text-align: center;}#sk-container-id-3 div.sk-container {/* jupyter's `normalize.less` sets `[hidden] { display: none; }` but bootstrap.min.css set `[hidden] { display: none !important; }` so we also need the `!important` here to be able to override the default hidden behavior on the sphinx rendered scikit-learn.org. See: https://github.com/scikit-learn/scikit-learn/issues/21755 */display: inline-block !important;position: relative;}#sk-container-id-3 div.sk-text-repr-fallback {display: none;}</style><div id=\"sk-container-id-3\" class=\"sk-top-container\"><div class=\"sk-text-repr-fallback\"><pre>LinearRegression()</pre><b>In a Jupyter environment, please rerun this cell to show the HTML representation or trust the notebook. <br />On GitHub, the HTML representation is unable to render, please try loading this page with nbviewer.org.</b></div><div class=\"sk-container\" hidden><div class=\"sk-item\"><div class=\"sk-estimator sk-toggleable\"><input class=\"sk-toggleable__control sk-hidden--visually\" id=\"sk-estimator-id-3\" type=\"checkbox\" checked><label for=\"sk-estimator-id-3\" class=\"sk-toggleable__label sk-toggleable__label-arrow\">LinearRegression</label><div class=\"sk-toggleable__content\"><pre>LinearRegression()</pre></div></div></div></div></div>"
            ]
          },
          "metadata": {},
          "execution_count": 109
        }
      ]
    },
    {
      "cell_type": "code",
      "source": [],
      "metadata": {
        "id": "Y1A7X1huIp6q"
      },
      "execution_count": null,
      "outputs": []
    },
    {
      "cell_type": "code",
      "source": [
        "# Predict using the polynomial model with description"
      ],
      "metadata": {
        "id": "NOsYNk-fIp-A"
      },
      "execution_count": null,
      "outputs": []
    },
    {
      "cell_type": "code",
      "source": [
        "y_pred_poly = poly_model.predict(X_test_poly)  # Predict using the polynomial model"
      ],
      "metadata": {
        "id": "QV3dre7BIqBY"
      },
      "execution_count": null,
      "outputs": []
    },
    {
      "cell_type": "code",
      "source": [],
      "metadata": {
        "id": "2B0qk1ZDIqDQ"
      },
      "execution_count": null,
      "outputs": []
    },
    {
      "cell_type": "code",
      "source": [
        "# Evaluate the polynomial model with description"
      ],
      "metadata": {
        "id": "Aau8J7ZoIqFa"
      },
      "execution_count": null,
      "outputs": []
    },
    {
      "cell_type": "code",
      "source": [
        "poly_mae = mean_absolute_error(y_test, y_pred_poly)  # Calculate Mean Absolute Error"
      ],
      "metadata": {
        "id": "gg8NVwSIIqHr"
      },
      "execution_count": null,
      "outputs": []
    },
    {
      "cell_type": "code",
      "source": [
        "poly_mse = mean_squared_error(y_test, y_pred_poly)  # Calculate Mean Squared Error"
      ],
      "metadata": {
        "id": "mVUSilQRIqLo"
      },
      "execution_count": null,
      "outputs": []
    },
    {
      "cell_type": "code",
      "source": [
        "poly_r2 = r2_score(y_test, y_pred_poly)  # Calculate R^2 score"
      ],
      "metadata": {
        "id": "IytMILJHIqNh"
      },
      "execution_count": null,
      "outputs": []
    },
    {
      "cell_type": "code",
      "source": [],
      "metadata": {
        "id": "6lcEti2SI--H"
      },
      "execution_count": null,
      "outputs": []
    },
    {
      "cell_type": "code",
      "source": [
        "print(f\"Polynomial Regression Mean Absolute Error: {poly_mae}\")  # Print Mean Absolute Error\n",
        "print(f\"Polynomial Regression Mean Squared Error: {poly_mse}\")  # Print Mean Squared Error\n",
        "print(f\"Polynomial Regression R^2 Score: {poly_r2}\")  # Print R^2 score"
      ],
      "metadata": {
        "colab": {
          "base_uri": "https://localhost:8080/"
        },
        "id": "4FMMbtGYI_Ay",
        "outputId": "0cd8ee07-2db2-411a-ce30-1e57e91d3756"
      },
      "execution_count": null,
      "outputs": [
        {
          "output_type": "stream",
          "name": "stdout",
          "text": [
            "Polynomial Regression Mean Absolute Error: 3.9951353448494925e-12\n",
            "Polynomial Regression Mean Squared Error: 3.7740219173621446e-23\n",
            "Polynomial Regression R^2 Score: 1.0\n"
          ]
        }
      ]
    },
    {
      "cell_type": "code",
      "source": [],
      "metadata": {
        "id": "fNvCcDNPI_C_"
      },
      "execution_count": null,
      "outputs": []
    },
    {
      "cell_type": "code",
      "source": [],
      "metadata": {
        "id": "BM64NuapI_G9"
      },
      "execution_count": null,
      "outputs": []
    },
    {
      "cell_type": "markdown",
      "source": [
        "### <span style=\"color:blue\">Step 10: Cross-Validation</span>\n",
        "\n",
        "#### <span style=\"color:green\">Cross-Validation Overview</span>\n",
        "- <span style=\"color:green\">**Cross-Validation Purpose**</span>: Cross-validation is a crucial technique in machine learning to evaluate the performance of a model and assess its ability to generalize to new data. It helps in detecting overfitting by simulating how the model would perform on unseen data.\n",
        "\n",
        "#### <span style=\"color:green\">Using Ridge Regression</span>\n",
        "- <span style=\"color:green\">**Ridge Regression Description**</span>: Ridge Regression is a linear regression technique that incorporates regularization using an L2 penalty term. This penalty helps in preventing overfitting by penalizing large coefficients.\n",
        "- <span style=\"color:green\">**Cross-Validation Setup**</span>:\n",
        "  - <span style=\"color:green\">**Importing Libraries**</span>:\n",
        "    - Import `cross_val_score` from `sklearn.model_selection` to perform cross-validation.\n",
        "  - <span style=\"color:green\">**Procedure**</span>:\n",
        "    - Initialize `ridge_model` with Ridge Regression and an alpha value (`alpha=0.1`).\n",
        "    - Use `cross_val_score` to perform 5-fold cross-validation (`cv=5`) on `X_train_scaled` and `y_train` with `ridge_model`.\n",
        "    - Specify `scoring='r2'` to evaluate using the R² score, which measures the proportion of variance in the dependent variable that is predictable from the independent variables.\n",
        "  - <span style=\"color:green\">**Evaluation**</span>:\n",
        "    - Print the cross-validated R² scores (`ridge_cv_scores`). These scores provide insights into how well the Ridge Regression model performs across different subsets of the training data.\n",
        "\n",
        "#### <span style=\"color:green\">Using Polynomial Regression</span>\n",
        "- <span style=\"color:green\">**Polynomial Regression Description**</span>: Polynomial Regression extends linear regression by adding polynomial terms to the model equation, allowing it to capture nonlinear relationships between the features and the target variable.\n",
        "- <span style=\"color:green\">**Cross-Validation Setup**</span>:\n",
        "  - <span style=\"color:green\">**Importing Libraries**</span>:\n",
        "    - Import `PolynomialFeatures` from `sklearn.preprocessing` to create polynomial features.\n",
        "  - <span style=\"color:green\">**Procedure**</span>:\n",
        "    - Initialize `poly` with `PolynomialFeatures` of degree 2 (`degree=2`) to transform `X_train_scaled` and `X_test_scaled` into polynomial features.\n",
        "    - Initialize `poly_model` with `LinearRegression` to fit a linear model on these polynomial features.\n",
        "    - Use `cross_val_score` to perform 5-fold cross-validation (`cv=5`) on `X_train_poly` (polynomial features) and `y_train` with `poly_model`.\n",
        "  - <span style=\"color:green\">**Evaluation**</span>:\n",
        "    - Print the cross-validated R² scores (`poly_cv_scores`). These scores indicate how well the Polynomial Regression model generalizes across different subsets of the training data.\n",
        "\n",
        "#### <span style=\"color:green\">Summary</span>\n",
        "- <span style=\"color:green\">**Insights**</span>: Cross-validation provides a robust method to estimate the model's performance and helps in comparing different regression techniques (Ridge vs. Polynomial) objectively. It ensures that the model's performance metrics are reliable and not overly optimistic due to overfitting to a particular subset of data."
      ],
      "metadata": {
        "id": "-LDqGqZzyuI7"
      }
    },
    {
      "cell_type": "code",
      "source": [
        "from sklearn.model_selection import cross_val_score  # Import cross_val_score from sklearn.model_selection"
      ],
      "metadata": {
        "id": "BhD3Xs78I_KX"
      },
      "execution_count": null,
      "outputs": []
    },
    {
      "cell_type": "code",
      "source": [],
      "metadata": {
        "id": "bWEA52BJI_ML"
      },
      "execution_count": null,
      "outputs": []
    },
    {
      "cell_type": "code",
      "source": [
        "# Perform cross-validation with Ridge Regression with description"
      ],
      "metadata": {
        "id": "dbmikns8JQLR"
      },
      "execution_count": null,
      "outputs": []
    },
    {
      "cell_type": "code",
      "source": [
        "ridge_cv_scores = cross_val_score(ridge_model, X_train_scaled, y_train, cv=5, scoring='r2')  # Perform cross-validation with Ridge Regression\n"
      ],
      "metadata": {
        "id": "UUxGdyoEJQR1"
      },
      "execution_count": null,
      "outputs": []
    },
    {
      "cell_type": "code",
      "source": [
        "print(f\"Cross-validated R^2 scores for Ridge Regression: {ridge_cv_scores}\")  # Print cross-validated R^2 scores for Ridge Regression\n"
      ],
      "metadata": {
        "colab": {
          "base_uri": "https://localhost:8080/"
        },
        "id": "YbjN_6YfJQVH",
        "outputId": "64fcf3d1-c9b7-418a-b263-83516c773f9c"
      },
      "execution_count": null,
      "outputs": [
        {
          "output_type": "stream",
          "name": "stdout",
          "text": [
            "Cross-validated R^2 scores for Ridge Regression: [ 0.42430267  0.88972508  0.85400434 -0.51122565  0.34873656]\n"
          ]
        }
      ]
    },
    {
      "cell_type": "code",
      "source": [],
      "metadata": {
        "id": "hq5P3fp7JQYY"
      },
      "execution_count": null,
      "outputs": []
    },
    {
      "cell_type": "code",
      "source": [
        "# Perform cross-validation with Polynomial Regression with description"
      ],
      "metadata": {
        "id": "wRg2PzgsJ9BW"
      },
      "execution_count": null,
      "outputs": []
    },
    {
      "cell_type": "code",
      "source": [
        "poly_cv_scores = cross_val_score(poly_model, X_train_poly, y_train, cv=5, scoring='r2')  # Perform cross-validation with Polynomial Regression\n"
      ],
      "metadata": {
        "id": "Qx1qF-IuJ9E-"
      },
      "execution_count": null,
      "outputs": []
    },
    {
      "cell_type": "code",
      "source": [
        "print(f\"Cross-validated R^2 scores for Polynomial Regression: {poly_cv_scores}\")  # Print cross-validated R^2 scores for Polynomial Regression\n"
      ],
      "metadata": {
        "colab": {
          "base_uri": "https://localhost:8080/"
        },
        "id": "92he2IxgJ9Ic",
        "outputId": "7385d53d-8ace-4f0e-f8d8-a4fe08c61387"
      },
      "execution_count": null,
      "outputs": [
        {
          "output_type": "stream",
          "name": "stdout",
          "text": [
            "Cross-validated R^2 scores for Polynomial Regression: [1. 1. 1. 1. 1.]\n"
          ]
        }
      ]
    },
    {
      "cell_type": "code",
      "source": [],
      "metadata": {
        "id": "CLf1Xh3wJ9K2"
      },
      "execution_count": null,
      "outputs": []
    },
    {
      "cell_type": "code",
      "source": [],
      "metadata": {
        "id": "qXpZXtWAJ9Mu"
      },
      "execution_count": null,
      "outputs": []
    },
    {
      "cell_type": "markdown",
      "source": [
        "### <span style=\"color:blue\">Step 11: Saving Predictions</span>\n",
        "\n",
        "#### <span style=\"color:green\">Saving Ridge Regression Predictions</span>\n",
        "- <span style=\"color:green\">**Description**</span>: After training and evaluating the Ridge Regression model, it's essential to save the predictions to a CSV file. This step ensures that the predicted values can be easily accessed for further analysis, visualization, and comparison with actual values. Saving predictions is crucial in machine learning projects for reporting model performance and sharing results with stakeholders.\n",
        "\n",
        "- <span style=\"color:green\">**Procedure**</span>:\n",
        "  - Create a DataFrame `predictions_ridge_df` to store the predicted total prices (`y_pred_ridge`). The DataFrame is structured with a column named `'PredictedTotalPrice_Ridge'` to clearly identify the predictions made by the Ridge Regression model.\n",
        "  - Use the `to_csv` method to export `predictions_ridge_df` to a CSV file located at `/content/predicted_customer_spending_ridge.csv`. The parameter `index=False` ensures that the CSV file does not include row indices, maintaining a clean structure suitable for direct analysis or integration with other tools.\n",
        "  - Print a confirmation message to indicate that the Ridge Regression predictions have been successfully saved as CSV, providing feedback to the user about the completion of this task.\n",
        "  - To verify the correctness and structure of the saved predictions, display the first few rows of `predictions_ridge_df` using the `head()` method, which shows a snapshot of the data.\n",
        "\n",
        "#### <span style=\"color:green\">Saving Polynomial Regression Predictions</span>\n",
        "- <span style=\"color:green\">**Description**</span>: Similarly, after training and evaluating the Polynomial Regression model, saving its predictions is critical for comprehensive analysis and reporting. This step ensures that the predicted values from the Polynomial Regression model are stored in a format that facilitates easy access, comparison, and visualization alongside actual data.\n",
        "\n",
        "- <span style=\"color:green\">**Procedure**</span>:\n",
        "  - Construct a DataFrame `predictions_poly_df` to encapsulate the predicted total prices (`y_pred_poly`) generated by the Polynomial Regression model. The DataFrame includes a column named `'PredictedTotalPrice_Polynomial'`, clearly identifying these predictions.\n",
        "  - Utilize the `to_csv` method to export `predictions_poly_df` to a CSV file located at `/content/predicted_customer_spending_poly.csv`. Ensuring `index=False` maintains the CSV file without including row indices, preserving a straightforward format suitable for direct analysis or integration into reporting tools.\n",
        "  - Print a confirmation message indicating the successful completion of saving Polynomial Regression predictions as CSV, providing feedback to the user on the status of this operation.\n",
        "  - To validate the integrity and content of the saved predictions, display the initial rows of `predictions_poly_df` using the `head()` method, offering a quick glimpse into the stored data.\n",
        "\n",
        "#### <span style=\"color:green\">Summary</span>\n",
        "- <span style=\"color:green\">**Purpose**</span>: The primary purpose of saving predictions is to preserve model outputs in a structured format that supports subsequent analysis and presentation. By exporting predictions from both Ridge and Polynomial Regression models to CSV files, this step ensures that stakeholders can easily access and interpret the model's performance metrics. Saved predictions facilitate comparisons with actual data, enable visualization of model accuracy, and support informed decision-making in business or research contexts."
      ],
      "metadata": {
        "id": "duXciQdazDpW"
      }
    },
    {
      "cell_type": "code",
      "source": [
        "# Save predictions from Ridge Regression as CSV with description"
      ],
      "metadata": {
        "id": "Xlzne7AzKM6P"
      },
      "execution_count": null,
      "outputs": []
    },
    {
      "cell_type": "code",
      "source": [
        "predictions_ridge_df = pd.DataFrame(y_pred_ridge, columns=['PredictedTotalPrice_Ridge'])  # Create DataFrame with Ridge Regression predictions\n"
      ],
      "metadata": {
        "id": "VdItz_ZgKM8N"
      },
      "execution_count": null,
      "outputs": []
    },
    {
      "cell_type": "code",
      "source": [
        "predictions_ridge_df.to_csv('/content/predicted_customer_spending_ridge.csv', index=False)  # Save predictions to CSV without index\n"
      ],
      "metadata": {
        "id": "5VncEo6PKM_P"
      },
      "execution_count": null,
      "outputs": []
    },
    {
      "cell_type": "code",
      "source": [
        "print(\"\\nRidge Regression predictions saved as CSV.\")  # Print message indicating Ridge Regression predictions saved\n"
      ],
      "metadata": {
        "colab": {
          "base_uri": "https://localhost:8080/"
        },
        "id": "CreluPdGKNDY",
        "outputId": "c4283260-058c-4bdd-a7db-1d515fcd870d"
      },
      "execution_count": null,
      "outputs": [
        {
          "output_type": "stream",
          "name": "stdout",
          "text": [
            "\n",
            "Ridge Regression predictions saved as CSV.\n"
          ]
        }
      ]
    },
    {
      "cell_type": "code",
      "source": [],
      "metadata": {
        "id": "nQks31v9KNGM"
      },
      "execution_count": null,
      "outputs": []
    },
    {
      "cell_type": "code",
      "source": [
        "print(predictions_ridge_df.head())  # Display the first few rows of Ridge Regression predictions DataFrame"
      ],
      "metadata": {
        "colab": {
          "base_uri": "https://localhost:8080/"
        },
        "id": "94NCgnbPKNI4",
        "outputId": "a21c463b-c282-4c24-8c95-7f1a1e6019c5"
      },
      "execution_count": null,
      "outputs": [
        {
          "output_type": "stream",
          "name": "stdout",
          "text": [
            "   PredictedTotalPrice_Ridge\n",
            "0                   0.341206\n",
            "1                   7.204538\n",
            "2                  -2.504209\n",
            "3                   8.653997\n",
            "4                  41.729637\n"
          ]
        }
      ]
    },
    {
      "cell_type": "code",
      "source": [],
      "metadata": {
        "id": "R_4XBshEKNLZ"
      },
      "execution_count": null,
      "outputs": []
    },
    {
      "cell_type": "code",
      "source": [],
      "metadata": {
        "id": "zcNr-xmMKNNS"
      },
      "execution_count": null,
      "outputs": []
    },
    {
      "cell_type": "code",
      "source": [
        "# Save predictions from Polynomial Regression as CSV with description"
      ],
      "metadata": {
        "id": "yilrOkv3J9P9"
      },
      "execution_count": null,
      "outputs": []
    },
    {
      "cell_type": "code",
      "source": [
        "predictions_poly_df = pd.DataFrame(y_pred_poly, columns=['PredictedTotalPrice_Polynomial'])  # Create DataFrame with Polynomial Regression predictions\n"
      ],
      "metadata": {
        "id": "ZPAlKbd3Kg5_"
      },
      "execution_count": null,
      "outputs": []
    },
    {
      "cell_type": "code",
      "source": [
        "predictions_poly_df.to_csv('/content/predicted_customer_spending_poly.csv', index=False)  # Save predictions to CSV without index\n"
      ],
      "metadata": {
        "id": "aEk9GIdZKg9L"
      },
      "execution_count": null,
      "outputs": []
    },
    {
      "cell_type": "code",
      "source": [
        "print(\"\\nPolynomial Regression predictions saved as CSV.\")  # Print message indicating Polynomial Regression predictions saved\n"
      ],
      "metadata": {
        "colab": {
          "base_uri": "https://localhost:8080/"
        },
        "id": "hqWMgL4wKhAs",
        "outputId": "c8962b1f-8b90-4c44-d4af-4848dd4ae099"
      },
      "execution_count": null,
      "outputs": [
        {
          "output_type": "stream",
          "name": "stdout",
          "text": [
            "\n",
            "Polynomial Regression predictions saved as CSV.\n"
          ]
        }
      ]
    },
    {
      "cell_type": "code",
      "source": [],
      "metadata": {
        "id": "h72mX7R2KhEj"
      },
      "execution_count": null,
      "outputs": []
    },
    {
      "cell_type": "code",
      "source": [
        "print(predictions_poly_df.head())  # Display the first few rows of Polynomial Regression predictions DataFrame"
      ],
      "metadata": {
        "colab": {
          "base_uri": "https://localhost:8080/"
        },
        "id": "5lw_2aEmKhGV",
        "outputId": "369b3692-1bd9-4419-f54d-660b6c2d3061"
      },
      "execution_count": null,
      "outputs": [
        {
          "output_type": "stream",
          "name": "stdout",
          "text": [
            "   PredictedTotalPrice_Polynomial\n",
            "0                            15.9\n",
            "1                            15.8\n",
            "2                            -3.4\n",
            "3                             6.6\n",
            "4                            13.2\n"
          ]
        }
      ]
    },
    {
      "cell_type": "code",
      "source": [],
      "metadata": {
        "id": "HrI99HB8KhIM"
      },
      "execution_count": null,
      "outputs": []
    },
    {
      "cell_type": "code",
      "source": [],
      "metadata": {
        "id": "6hTr6kHLKhKB"
      },
      "execution_count": null,
      "outputs": []
    },
    {
      "cell_type": "markdown",
      "source": [
        "### <span style=\"color:blue\">Step 12: Visualization of Predictions</span>\n",
        "\n",
        "#### <span style=\"color:green\">Visualizing Ridge Regression Predictions</span>\n",
        "- <span style=\"color:green\">**Description**</span>: Visualizing the predictions made by the Ridge Regression model provides insights into how well the model predicts actual total prices. This scatter plot juxtaposes the actual total prices (`y_test`) against the predicted values (`y_pred_ridge`), using blue dots to represent Ridge Regression predictions. Additionally, a dashed black line illustrates perfect predictions, where actual and predicted values align perfectly.\n",
        "\n",
        "- <span style=\"color:green\">**Procedure**</span>:\n",
        "  - Create a new figure with a size of 10x6 inches (`plt.figure(figsize=(10, 6))`) to accommodate the Ridge Regression visualization.\n",
        "  - Generate a scatter plot (`plt.scatter`) with `y_test` as the x-axis (actual total price) and `y_pred_ridge` as the y-axis (predicted total price). Use the color blue (`color='blue'`) to differentiate Ridge Regression predictions and label it as 'Predicted (Ridge)'.\n",
        "  - Plot a diagonal dashed line (`plt.plot`) across the range of `y_test` values (`[y_test.min(), y_test.max()]`) to visually represent perfect predictions. This line is plotted in black (`'k--'`) with a line width of 3 (`lw=3`) and is labeled as 'Actual'.\n",
        "  - Set the title of the plot (`plt.title`) to 'Ridge Regression: Actual vs Predicted Total Price' to clearly indicate the visualization's focus.\n",
        "  - Label the x-axis (`plt.xlabel`) as 'Actual Total Price' and the y-axis (`plt.ylabel`) as 'Predicted Total Price' for clarity.\n",
        "  - Display a legend (`plt.legend()`) to distinguish between actual and predicted values.\n",
        "  - Save the plot as a PDF file (`plt.savefig('/content/ridge_regression_predictions.pdf')`) for future reference and reporting purposes.\n",
        "  - Finally, display the plot (`plt.show()`) to visualize and interpret the Ridge Regression predictions.\n",
        "\n",
        "#### <span style=\"color:green\">Visualizing Polynomial Regression Predictions</span>\n",
        "- <span style=\"color:green\">**Description**</span>: Similarly, visualizing predictions from the Polynomial Regression model helps assess its accuracy in predicting actual total prices. This scatter plot contrasts actual total prices (`y_test`) with predicted values (`y_pred_poly`), represented by green dots for Polynomial Regression predictions. A dashed black line signifies perfect predictions, providing a benchmark for evaluating model performance.\n",
        "\n",
        "- <span style=\"color:green\">**Procedure**</span>:\n",
        "  - Create another figure with dimensions 10x6 inches (`plt.figure(figsize=(10, 6))`) to accommodate the Polynomial Regression visualization.\n",
        "  - Generate a scatter plot (`plt.scatter`) with `y_test` as the x-axis (actual total price) and `y_pred_poly` as the y-axis (predicted total price). Use the color green (`color='green'`) to distinguish Polynomial Regression predictions and label it as 'Predicted (Polynomial)'.\n",
        "  - Plot a diagonal dashed line (`plt.plot`) spanning the range of `y_test` values (`[y_test.min(), y_test.max()]`) to visually represent perfect predictions. This line is drawn in black (`'k--'`) with a line width of 3 (`lw=3`) and is labeled as 'Actual'.\n",
        "  - Set the plot title (`plt.title`) to 'Polynomial Regression: Actual vs Predicted Total Price' to clearly delineate the focus of the visualization.\n",
        "  - Label the x-axis (`plt.xlabel`) as 'Actual Total Price' and the y-axis (`plt.ylabel`) as 'Predicted Total Price' for clarity and interpretation.\n",
        "  - Display a legend (`plt.legend()`) to differentiate between actual and predicted values in the plot.\n",
        "  - Save the visualization as a PDF file (`plt.savefig('/content/polynomial_regression_predictions.pdf')`) for archival and reporting purposes.\n",
        "  - Finally, display the plot (`plt.show()`) to observe and interpret the Polynomial Regression predictions in relation to actual total prices."
      ],
      "metadata": {
        "id": "yvJFJjD7zZg1"
      }
    },
    {
      "cell_type": "code",
      "source": [
        "# Visualize predictions from Ridge Regression with description"
      ],
      "metadata": {
        "id": "LdblHYPgKhMQ"
      },
      "execution_count": null,
      "outputs": []
    },
    {
      "cell_type": "code",
      "source": [
        "plt.figure(figsize=(10, 6))  # Set figure size for Ridge Regression visualization\n",
        "plt.scatter(y_test, y_pred_ridge, color='blue', label='Predicted (Ridge)')  # Scatter plot of actual vs predicted values for Ridge Regression\n",
        "plt.plot([y_test.min(), y_test.max()], [y_test.min(), y_test.max()], 'k--', lw=3, label='Actual')  # Plotting the line of perfect predictions\n",
        "plt.title('Ridge Regression: Actual vs Predicted Total Price')  # Set title for the plot\n",
        "plt.xlabel('Actual Total Price')  # Set label for x-axis\n",
        "plt.ylabel('Predicted Total Price')  # Set label for y-axis\n",
        "plt.legend()  # Display legend\n",
        "plt.savefig('/content/ridge_regression_predictions.pdf')  # Save the plot as PDF\n",
        "plt.show()  # Display the plot"
      ],
      "metadata": {
        "colab": {
          "base_uri": "https://localhost:8080/",
          "height": 564
        },
        "id": "3STsawZ0K10a",
        "outputId": "4a4480a4-749f-4f0d-cae3-8c87c621a545"
      },
      "execution_count": null,
      "outputs": [
        {
          "output_type": "display_data",
          "data": {
            "text/plain": [
              "<Figure size 1000x600 with 1 Axes>"
            ],
            "image/png": "[encoded data removed]"
          },
          "metadata": {}
        }
      ]
    },
    {
      "cell_type": "code",
      "source": [],
      "metadata": {
        "id": "Il6pVkEYK12i"
      },
      "execution_count": null,
      "outputs": []
    },
    {
      "cell_type": "code",
      "source": [],
      "metadata": {
        "id": "EIsCOT6EK16x"
      },
      "execution_count": null,
      "outputs": []
    },
    {
      "cell_type": "code",
      "source": [
        "# Visualize predictions from Polynomial Regression with description"
      ],
      "metadata": {
        "id": "kfkkJPuqK19-"
      },
      "execution_count": null,
      "outputs": []
    },
    {
      "cell_type": "code",
      "source": [
        "plt.figure(figsize=(10, 6))  # Set figure size for Polynomial Regression visualization\n",
        "plt.scatter(y_test, y_pred_poly, color='green', label='Predicted (Polynomial)')  # Scatter plot of actual vs predicted values for Polynomial Regression\n",
        "plt.plot([y_test.min(), y_test.max()], [y_test.min(), y_test.max()], 'k--', lw=3, label='Actual')  # Plotting the line of perfect predictions\n",
        "plt.title('Polynomial Regression: Actual vs Predicted Total Price')  # Set title for the plot\n",
        "plt.xlabel('Actual Total Price')  # Set label for x-axis\n",
        "plt.ylabel('Predicted Total Price')  # Set label for y-axis\n",
        "plt.legend()  # Display legend\n",
        "plt.savefig('/content/polynomial_regression_predictions.pdf')  # Save the plot as PDF\n",
        "plt.show()  # Display the plot"
      ],
      "metadata": {
        "colab": {
          "base_uri": "https://localhost:8080/",
          "height": 564
        },
        "id": "BTwQsMqnK2Bc",
        "outputId": "8cf12d8f-9fb9-4241-e81f-ca26e8bb34e4"
      },
      "execution_count": null,
      "outputs": [
        {
          "output_type": "display_data",
          "data": {
            "text/plain": [
              "<Figure size 1000x600 with 1 Axes>"
            ],
            "image/png": "[encoded data removed]"
          },
          "metadata": {}
        }
      ]
    },
    {
      "cell_type": "code",
      "source": [],
      "metadata": {
        "id": "S4Tffhj8K2Dg"
      },
      "execution_count": null,
      "outputs": []
    },
    {
      "cell_type": "code",
      "source": [],
      "metadata": {
        "id": "2bwbOtKMzuxK"
      },
      "execution_count": null,
      "outputs": []
    },
    {
      "cell_type": "markdown",
      "source": [
        "### <span style=\"color:blue\">Conclusion and Final Notes</span>\n",
        "\n",
        "Congratulations on completing the project on predicting customer spending using Linear Regression, Ridge Regression, and Polynomial Regression models! Here's a summary and some final insights to wrap up your journey:\n",
        "\n",
        "#### <span style=\"color:green\">Summary of the Project</span>\n",
        "- This project aimed to predict customer spending based on various features using machine learning techniques.\n",
        "- The dataset provided valuable insights into customer behavior, allowing us to build models that predict total spending accurately.\n",
        "\n",
        "#### <span style=\"color:green\">Key Steps and Learnings</span>\n",
        "- **Data Preparation and Exploration**:\n",
        "  - We started by loading and cleaning the dataset, handling missing values, and ensuring data quality.\n",
        "  - Exploratory data analysis (EDA) provided insights into the distribution and relationships within the dataset.\n",
        "\n",
        "- **Feature Engineering**:\n",
        "  - Engineered features such as polynomial features helped capture non-linear relationships between variables, enhancing model performance.\n",
        "\n",
        "- **Model Building and Evaluation**:\n",
        "  - Utilized Linear Regression, Ridge Regression (with regularization), and Polynomial Regression models to predict total spending.\n",
        "  - Evaluated model performance using metrics like Mean Absolute Error (MAE), Mean Squared Error (MSE), and R-squared (R^2) score.\n",
        "  - Cross-validation ensured robustness of model performance across different subsets of data.\n",
        "\n",
        "- **Visualization and Interpretation**:\n",
        "  - Visualized model predictions using scatter plots to compare actual vs. predicted values, providing intuitive insights into model accuracy and performance.\n",
        "\n",
        "#### <span style=\"color:green\">Key Takeaways</span>\n",
        "- **Model Selection**: Choose the appropriate regression model based on your data characteristics and performance metrics.\n",
        "- **Feature Engineering**: Explore different techniques like polynomial features to capture complex relationships in your data.\n",
        "- **Evaluation**: Use multiple metrics and cross-validation to comprehensively evaluate model performance.\n",
        "- **Visualization**: Visualize predictions to understand how well your models predict actual outcomes.\n",
        "\n",
        "#### <span style=\"color:green\">Next Steps</span>\n",
        "- Further refine models by tuning hyperparameters or exploring different algorithms.\n",
        "- Explore advanced techniques like ensemble methods or deep learning for potentially improved accuracy.\n",
        "- Consider deploying the model in a production environment for real-time predictions and monitoring.\n",
        "\n",
        "### <span style=\"color:blue\">Final Thoughts</span>\n",
        "This project not only provided hands-on experience with machine learning techniques but also equipped you with valuable skills in data preprocessing, model building, and evaluation. Keep exploring and applying these skills in various domains to continue your journey in data science and machine learning.\n",
        "\n",
        "Enjoy your data science and machine learning adventure, and best of luck with your future projects!"
      ],
      "metadata": {
        "id": "Toy3JFSZzzNT"
      }
    },
    {
      "cell_type": "code",
      "source": [],
      "metadata": {
        "id": "LJukct83zwAC"
      },
      "execution_count": null,
      "outputs": []
    }
  ]
}