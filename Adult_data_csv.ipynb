{
  "nbformat": 4,
  "nbformat_minor": 0,
  "metadata": {
    "colab": {
      "provenance": []
    },
    "kernelspec": {
      "name": "python3",
      "display_name": "Python 3"
    },
    "language_info": {
      "name": "python"
    }
  },
  "cells": [
    {
      "cell_type": "markdown",
      "source": [
        "---\n",
        "---"
      ],
      "metadata": {
        "id": "_60W-ApiNmrK"
      }
    },
    {
      "cell_type": "markdown",
      "source": [
        "# 📊 **Exploratory Data Analysis (EDA) and Predictive Modeling Project**\n",
        "\n",
        "## 📌 **Project Overview**\n",
        "\n",
        "This project involves performing **Exploratory Data Analysis (EDA)** and predictive modeling on a dataset, which consists of demographic and employment information, to predict income levels and cluster individuals based on similarities in their characteristics. The project will guide through various stages, including data inspection, cleaning, visualization, and modeling.\n",
        "\n",
        "---\n",
        "\n",
        "## 🧩 **Objective**\n",
        "\n",
        "- Conduct **Exploratory Data Analysis (EDA)** to understand the dataset's structure and key patterns.\n",
        "- Handle missing values, duplicate entries, and outliers to prepare the data for analysis.\n",
        "- Implement predictive modeling to classify income levels using **Logistic Regression**.\n",
        "- Apply **K-Means Clustering** to group individuals based on their demographic and employment features.\n",
        "- Perform **Anomaly Detection** to identify and address any unusual data points.\n",
        "- **Feature Importance**: Evaluate which features contribute the most to the prediction task.\n",
        "- Apply **Natural Language Processing (NLP)** techniques for analyzing and processing textual data if applicable.\n",
        "\n",
        "---\n",
        "\n",
        "## 🛠 **Tools and Libraries Used**\n",
        "\n",
        "- **Pandas**: For data manipulation and analysis.\n",
        "- **NumPy**: For numerical operations on arrays and matrices.\n",
        "- **Matplotlib & Seaborn**: For data visualization (graphs, plots).\n",
        "- **Scikit-learn**: For machine learning (Logistic Regression, K-Means Clustering).\n",
        "- **SciPy**: For statistical operations (Z-Score calculation for outlier detection).\n",
        "- **XGBoost**: For advanced model evaluation and feature importance.\n",
        "- **NLTK / SpaCy**: For Natural Language Processing tasks (if applicable).\n",
        "\n",
        "---\n",
        "\n",
        "## ⚙ **Key Steps in the Project**\n",
        "\n",
        "### 📂 **1. Data Inspection and Cleaning**\n",
        "\n",
        "- **Data Loading**: Import the dataset for analysis.\n",
        "- **Missing Values**: Identify and handle missing values by filling with column means.\n",
        "- **Duplicate Values**: Detect and remove duplicate rows to ensure data integrity.\n",
        "- **Outlier Detection**: Use Z-score to identify and handle outliers.\n",
        "\n",
        "---\n",
        "\n",
        "### 📊 **2. Exploratory Data Analysis (EDA)**\n",
        "\n",
        "- **Visualizing Distributions**: Histograms with kernel density estimation (KDE) to visualize numerical features.\n",
        "- **Categorical Variable Analysis**: Bar charts for categorical variables.\n",
        "- **Correlation Analysis**: Heatmap to understand the relationships between numerical variables.\n",
        "\n",
        "---\n",
        "\n",
        "### 🧹 **3. Data Preprocessing**\n",
        "\n",
        "- **Feature Scaling**: Standardize numerical features using `StandardScaler` to normalize the data.\n",
        "- **One-Hot Encoding**: Transform categorical variables into numerical format for machine learning models.\n",
        "\n",
        "---\n",
        "\n",
        "### 🧠 **4. Predictive Modeling**\n",
        "\n",
        "- **Logistic Regression**: Implement logistic regression to predict income levels (binary classification).\n",
        "- **Model Evaluation**: Use accuracy, classification report, and confusion matrix to evaluate model performance.\n",
        "\n",
        "---\n",
        "\n",
        "### 🔢 **5. Clustering**\n",
        "\n",
        "- **K-Means Clustering**: Apply K-means clustering to group individuals based on their characteristics.\n",
        "- **Cluster Analysis**: Analyze and interpret the formed clusters.\n",
        "\n",
        "---\n",
        "\n",
        "### 🔍 **6. Anomaly Detection**\n",
        "\n",
        "- **Outlier Detection**: Use statistical techniques like Z-score or IQR to detect and remove outliers.\n",
        "- **Isolation Forest or DBSCAN**: Apply models like Isolation Forest or DBSCAN for anomaly detection in high-dimensional spaces.\n",
        "- **Visualizing Anomalies**: Use plots to highlight detected anomalies in the dataset.\n",
        "\n",
        "---\n",
        "\n",
        "### 📊 **7. Feature Importance**\n",
        "\n",
        "- **Model-Based Feature Importance**: Use models like XGBoost or Random Forest to calculate feature importance.\n",
        "- **SHAP Values**: Visualize the contribution of each feature using SHAP (Shapley Additive Explanations).\n",
        "- **Visual Representation**: Create bar plots to show the relative importance of different features.\n",
        "\n",
        "---\n",
        "\n",
        "### 🧠 **8. Natural Language Processing (NLP)**\n",
        "\n",
        "- **Text Preprocessing**: Tokenization, stemming, and lemmatization of text data if applicable.\n",
        "- **Sentiment Analysis**: Use NLP models like **BERT** or **DistilBERT** for sentiment analysis on any textual features.\n",
        "- **Text Classification**: Classify text data based on predefined categories using machine learning or deep learning methods.\n",
        "\n",
        "---\n",
        "\n",
        "## 📈 **Performance Evaluation**\n",
        "\n",
        "- **Accuracy Score**: Evaluate the model’s performance on the test set.\n",
        "- **Classification Report**: Detailed metrics (precision, recall, F1-score).\n",
        "- **Confusion Matrix**: Visualize the classification results.\n",
        "\n",
        "---\n",
        "\n",
        "## 💡 **Insights and Conclusions**\n",
        "\n",
        "- **Data Insights**: Interpret key patterns observed from the exploratory data analysis.\n",
        "- **Model Interpretation**: Discuss the logistic regression model’s results and its predictive accuracy.\n",
        "- **Clustering Insights**: Identify meaningful clusters and their implications.\n",
        "- **Anomaly Insights**: Discuss the impact of outliers and anomalies on model performance.\n",
        "- **Feature Importance Insights**: Identify the most important features for prediction and classification.\n",
        "\n",
        "---\n",
        "\n",
        "## 📚 **Learning Outcomes**\n",
        "\n",
        "- Gain hands-on experience with **Exploratory Data Analysis (EDA)** techniques.\n",
        "- Understand how to clean and preprocess data for machine learning.\n",
        "- Implement **Logistic Regression** and **K-Means Clustering** for predictive modeling and clustering tasks.\n",
        "- Apply **Anomaly Detection** techniques to identify and handle outliers.\n",
        "- Learn to compute and visualize **Feature Importance** to enhance model interpretability.\n",
        "- Apply **Natural Language Processing (NLP)** for analyzing textual data and extracting insights.\n",
        "- Evaluate model performance using various metrics and interpret results effectively.\n",
        "\n",
        "---\n",
        "\n",
        "## 📄 **Dataset Information**\n",
        "\n",
        "The dataset used in this project includes demographic and employment information such as age, education, marital status, and occupation, with the goal of predicting income levels (income >50K or <=50K). It also allows for clustering based on similarities in individual characteristics.\n",
        "\n",
        "---\n",
        "\n",
        "## 🚀 **Future Enhancements**\n",
        "\n",
        "- **Model Improvement**: Try other classification algorithms like Random Forest or SVM.\n",
        "- **Advanced Clustering**: Experiment with hierarchical clustering or DBSCAN for a different approach to grouping data.\n",
        "- **Hyperparameter Tuning**: Fine-tune model parameters using GridSearchCV for better performance.\n",
        "- **Deep Learning Models**: Experiment with deep learning models such as neural networks for better predictive accuracy.\n",
        "- **Advanced NLP**: Use more sophisticated NLP models like **GPT** or **BERT** for text-based prediction tasks.\n",
        "\n",
        "---"
      ],
      "metadata": {
        "id": "tdu6yQnLNosa"
      }
    },
    {
      "cell_type": "markdown",
      "source": [
        "---"
      ],
      "metadata": {
        "id": "enWmozO3RpUz"
      }
    },
    {
      "cell_type": "code",
      "source": [],
      "metadata": {
        "id": "XJ0mm96ARqmd"
      },
      "execution_count": null,
      "outputs": []
    },
    {
      "cell_type": "code",
      "source": [],
      "metadata": {
        "id": "_fz-HjeURqqH"
      },
      "execution_count": null,
      "outputs": []
    },
    {
      "cell_type": "code",
      "source": [],
      "metadata": {
        "id": "I-YSi4Qn6IQ5"
      },
      "execution_count": null,
      "outputs": []
    },
    {
      "cell_type": "markdown",
      "source": [
        "---"
      ],
      "metadata": {
        "id": "A5jAbZcrRsVz"
      }
    },
    {
      "cell_type": "code",
      "execution_count": null,
      "metadata": {
        "id": "f4OBLq-sz7Zq"
      },
      "outputs": [],
      "source": [
        "# Jupyter Notebook for Exploratory Data Analysis (EDA)"
      ]
    },
    {
      "cell_type": "code",
      "source": [
        "# Objective:\n",
        "# The purpose of this notebook is to explore and understand our dataset thoroughly."
      ],
      "metadata": {
        "id": "mEGHodIBz-rX"
      },
      "execution_count": null,
      "outputs": []
    },
    {
      "cell_type": "markdown",
      "source": [
        "---"
      ],
      "metadata": {
        "id": "6tjN48epRvhs"
      }
    },
    {
      "cell_type": "code",
      "source": [],
      "metadata": {
        "id": "Jq6RFrPDRwez"
      },
      "execution_count": null,
      "outputs": []
    },
    {
      "cell_type": "code",
      "source": [],
      "metadata": {
        "id": "ANYNAmSwRwih"
      },
      "execution_count": null,
      "outputs": []
    },
    {
      "cell_type": "code",
      "source": [],
      "metadata": {
        "id": "CnFUGoV9z-ub"
      },
      "execution_count": null,
      "outputs": []
    },
    {
      "cell_type": "markdown",
      "source": [
        "---"
      ],
      "metadata": {
        "id": "6UjqJ_jTRxk7"
      }
    },
    {
      "cell_type": "code",
      "source": [
        "# Step 1: Import Necessary Libraries\n",
        "# We start by bringing in the tools we need to work with data: pandas for data manipulation, numpy for numerical operations, and seaborn and matplotlib for data visualization.\n"
      ],
      "metadata": {
        "id": "q_4tcv1Pz-xm"
      },
      "execution_count": null,
      "outputs": []
    },
    {
      "cell_type": "code",
      "source": [
        "import pandas as pd  # This line imports the pandas library, which is used for data manipulation and analysis."
      ],
      "metadata": {
        "id": "xcfmadYYz-0r"
      },
      "execution_count": null,
      "outputs": []
    },
    {
      "cell_type": "code",
      "source": [
        "import numpy as np  # This line imports the numpy library, which provides support for numerical operations on arrays and matrices."
      ],
      "metadata": {
        "id": "3VH5XDTUz-3r"
      },
      "execution_count": null,
      "outputs": []
    },
    {
      "cell_type": "code",
      "source": [
        "import matplotlib.pyplot as plt  # This line imports the matplotlib library, which is used for creating visualizations."
      ],
      "metadata": {
        "id": "ApIixbDqz-6m"
      },
      "execution_count": null,
      "outputs": []
    },
    {
      "cell_type": "code",
      "source": [
        "import seaborn as sns  # This line imports the seaborn library, which is also used for data visualization with a focus on statistical graphics."
      ],
      "metadata": {
        "id": "SZMqLpscz-9p"
      },
      "execution_count": null,
      "outputs": []
    },
    {
      "cell_type": "markdown",
      "source": [
        "---"
      ],
      "metadata": {
        "id": "lkXnd978SJiE"
      }
    },
    {
      "cell_type": "code",
      "source": [],
      "metadata": {
        "id": "xlXQ7CHSSKeM"
      },
      "execution_count": null,
      "outputs": []
    },
    {
      "cell_type": "code",
      "source": [],
      "metadata": {
        "id": "5E5Ci1SqSKiS"
      },
      "execution_count": null,
      "outputs": []
    },
    {
      "cell_type": "code",
      "source": [],
      "metadata": {
        "id": "vF0C6RkAz_Ag"
      },
      "execution_count": null,
      "outputs": []
    },
    {
      "cell_type": "markdown",
      "source": [
        "---"
      ],
      "metadata": {
        "id": "fwvWwy_aSLOD"
      }
    },
    {
      "cell_type": "markdown",
      "source": [
        "# 📂 **1. Data Inspection and Cleaning**\n",
        "\n",
        "### **Objective:**\n",
        "Data inspection and cleaning are essential steps in the data science process. These steps ensure that the dataset is well-prepared for further analysis and modeling by addressing missing values, duplicates, and outliers.\n",
        "\n",
        "### **Key Activities:**\n",
        "\n",
        "- **Data Loading**: Import the dataset using Pandas to inspect its contents and structure. Ensure that the dataset is loaded properly with the correct data types.\n",
        "  \n",
        "- **Missing Values**: Identify columns with missing values and handle them by either:\n",
        "  - Filling missing numerical values with the mean or median.\n",
        "  - Imputing categorical variables with the most frequent value.\n",
        "  - Dropping rows with too many missing values if necessary.\n",
        "\n",
        "- **Duplicate Values**: Check for any duplicate entries that could distort the analysis. Remove duplicate rows to ensure the dataset reflects unique records only.\n",
        "\n",
        "- **Outlier Detection**: Use statistical methods like Z-score or IQR (Interquartile Range) to identify and handle outliers. Outliers can skew results and affect model performance."
      ],
      "metadata": {
        "id": "-28lxiBlSNIr"
      }
    },
    {
      "cell_type": "code",
      "source": [
        "# Step 2: Load the Data\n",
        "# Here, we load our dataset into the notebook. Think of it like bringing our data into our workspace so we can start working with it."
      ],
      "metadata": {
        "id": "brKuQfrr17Pm"
      },
      "execution_count": null,
      "outputs": []
    },
    {
      "cell_type": "code",
      "source": [
        "df = pd.read_csv('/content/adult.data.csv')  # This line reads our dataset from a CSV file named 'data.csv' and stores it in a pandas DataFrame called 'df'."
      ],
      "metadata": {
        "id": "NZaznDRZ17TK"
      },
      "execution_count": null,
      "outputs": []
    },
    {
      "cell_type": "code",
      "source": [],
      "metadata": {
        "id": "YcByBhem17V5"
      },
      "execution_count": null,
      "outputs": []
    },
    {
      "cell_type": "code",
      "source": [
        "# Step 3: Inspect the Data\n",
        "# Now that we have our data, let's take a look at it to understand its structure and contents."
      ],
      "metadata": {
        "id": "yO9tXG4q17Y7"
      },
      "execution_count": null,
      "outputs": []
    },
    {
      "cell_type": "code",
      "source": [
        "df.head()  # This command shows us the first few rows of our dataset, giving us an initial glimpse of what the data looks like."
      ],
      "metadata": {
        "colab": {
          "base_uri": "https://localhost:8080/",
          "height": 400
        },
        "id": "CM4viswL17b2",
        "outputId": "d8595ac4-e081-48de-e43e-a565861bb92e"
      },
      "execution_count": null,
      "outputs": [
        {
          "output_type": "execute_result",
          "data": {
            "text/plain": [
              "   age         workclass  fnlwgt  education  education-num  \\\n",
              "0   39         State-gov   77516  Bachelors             13   \n",
              "1   50  Self-emp-not-inc   83311  Bachelors             13   \n",
              "2   38           Private  215646    HS-grad              9   \n",
              "3   53           Private  234721       11th              7   \n",
              "4   28           Private  338409  Bachelors             13   \n",
              "\n",
              "       marital-status         occupation   relationship   race     sex  \\\n",
              "0       Never-married       Adm-clerical  Not-in-family  White    Male   \n",
              "1  Married-civ-spouse    Exec-managerial        Husband  White    Male   \n",
              "2            Divorced  Handlers-cleaners  Not-in-family  White    Male   \n",
              "3  Married-civ-spouse  Handlers-cleaners        Husband  Black    Male   \n",
              "4  Married-civ-spouse     Prof-specialty           Wife  Black  Female   \n",
              "\n",
              "   capital-gain  capital-loss  hours-per-week native-country salary  \n",
              "0          2174             0              40  United-States  <=50K  \n",
              "1             0             0              13  United-States  <=50K  \n",
              "2             0             0              40  United-States  <=50K  \n",
              "3             0             0              40  United-States  <=50K  \n",
              "4             0             0              40           Cuba  <=50K  "
            ],
            "text/html": [
              "\n",
              "  <div id=\"df-22572a33-54c4-4235-9b58-4502758f768e\" class=\"colab-df-container\">\n",
              "    <div>\n",
              "<style scoped>\n",
              "    .dataframe tbody tr th:only-of-type {\n",
              "        vertical-align: middle;\n",
              "    }\n",
              "\n",
              "    .dataframe tbody tr th {\n",
              "        vertical-align: top;\n",
              "    }\n",
              "\n",
              "    .dataframe thead th {\n",
              "        text-align: right;\n",
              "    }\n",
              "</style>\n",
              "<table border=\"1\" class=\"dataframe\">\n",
              "  <thead>\n",
              "    <tr style=\"text-align: right;\">\n",
              "      <th></th>\n",
              "      <th>age</th>\n",
              "      <th>workclass</th>\n",
              "      <th>fnlwgt</th>\n",
              "      <th>education</th>\n",
              "      <th>education-num</th>\n",
              "      <th>marital-status</th>\n",
              "      <th>occupation</th>\n",
              "      <th>relationship</th>\n",
              "      <th>race</th>\n",
              "      <th>sex</th>\n",
              "      <th>capital-gain</th>\n",
              "      <th>capital-loss</th>\n",
              "      <th>hours-per-week</th>\n",
              "      <th>native-country</th>\n",
              "      <th>salary</th>\n",
              "    </tr>\n",
              "  </thead>\n",
              "  <tbody>\n",
              "    <tr>\n",
              "      <th>0</th>\n",
              "      <td>39</td>\n",
              "      <td>State-gov</td>\n",
              "      <td>77516</td>\n",
              "      <td>Bachelors</td>\n",
              "      <td>13</td>\n",
              "      <td>Never-married</td>\n",
              "      <td>Adm-clerical</td>\n",
              "      <td>Not-in-family</td>\n",
              "      <td>White</td>\n",
              "      <td>Male</td>\n",
              "      <td>2174</td>\n",
              "      <td>0</td>\n",
              "      <td>40</td>\n",
              "      <td>United-States</td>\n",
              "      <td>&lt;=50K</td>\n",
              "    </tr>\n",
              "    <tr>\n",
              "      <th>1</th>\n",
              "      <td>50</td>\n",
              "      <td>Self-emp-not-inc</td>\n",
              "      <td>83311</td>\n",
              "      <td>Bachelors</td>\n",
              "      <td>13</td>\n",
              "      <td>Married-civ-spouse</td>\n",
              "      <td>Exec-managerial</td>\n",
              "      <td>Husband</td>\n",
              "      <td>White</td>\n",
              "      <td>Male</td>\n",
              "      <td>0</td>\n",
              "      <td>0</td>\n",
              "      <td>13</td>\n",
              "      <td>United-States</td>\n",
              "      <td>&lt;=50K</td>\n",
              "    </tr>\n",
              "    <tr>\n",
              "      <th>2</th>\n",
              "      <td>38</td>\n",
              "      <td>Private</td>\n",
              "      <td>215646</td>\n",
              "      <td>HS-grad</td>\n",
              "      <td>9</td>\n",
              "      <td>Divorced</td>\n",
              "      <td>Handlers-cleaners</td>\n",
              "      <td>Not-in-family</td>\n",
              "      <td>White</td>\n",
              "      <td>Male</td>\n",
              "      <td>0</td>\n",
              "      <td>0</td>\n",
              "      <td>40</td>\n",
              "      <td>United-States</td>\n",
              "      <td>&lt;=50K</td>\n",
              "    </tr>\n",
              "    <tr>\n",
              "      <th>3</th>\n",
              "      <td>53</td>\n",
              "      <td>Private</td>\n",
              "      <td>234721</td>\n",
              "      <td>11th</td>\n",
              "      <td>7</td>\n",
              "      <td>Married-civ-spouse</td>\n",
              "      <td>Handlers-cleaners</td>\n",
              "      <td>Husband</td>\n",
              "      <td>Black</td>\n",
              "      <td>Male</td>\n",
              "      <td>0</td>\n",
              "      <td>0</td>\n",
              "      <td>40</td>\n",
              "      <td>United-States</td>\n",
              "      <td>&lt;=50K</td>\n",
              "    </tr>\n",
              "    <tr>\n",
              "      <th>4</th>\n",
              "      <td>28</td>\n",
              "      <td>Private</td>\n",
              "      <td>338409</td>\n",
              "      <td>Bachelors</td>\n",
              "      <td>13</td>\n",
              "      <td>Married-civ-spouse</td>\n",
              "      <td>Prof-specialty</td>\n",
              "      <td>Wife</td>\n",
              "      <td>Black</td>\n",
              "      <td>Female</td>\n",
              "      <td>0</td>\n",
              "      <td>0</td>\n",
              "      <td>40</td>\n",
              "      <td>Cuba</td>\n",
              "      <td>&lt;=50K</td>\n",
              "    </tr>\n",
              "  </tbody>\n",
              "</table>\n",
              "</div>\n",
              "    <div class=\"colab-df-buttons\">\n",
              "\n",
              "  <div class=\"colab-df-container\">\n",
              "    <button class=\"colab-df-convert\" onclick=\"convertToInteractive('df-22572a33-54c4-4235-9b58-4502758f768e')\"\n",
              "            title=\"Convert this dataframe to an interactive table.\"\n",
              "            style=\"display:none;\">\n",
              "\n",
              "  <svg xmlns=\"http://www.w3.org/2000/svg\" height=\"24px\" viewBox=\"0 -960 960 960\">\n",
              "    <path d=\"M120-120v-720h720v720H120Zm60-500h600v-160H180v160Zm220 220h160v-160H400v160Zm0 220h160v-160H400v160ZM180-400h160v-160H180v160Zm440 0h160v-160H620v160ZM180-180h160v-160H180v160Zm440 0h160v-160H620v160Z\"/>\n",
              "  </svg>\n",
              "    </button>\n",
              "\n",
              "  <style>\n",
              "    .colab-df-container {\n",
              "      display:flex;\n",
              "      gap: 12px;\n",
              "    }\n",
              "\n",
              "    .colab-df-convert {\n",
              "      background-color: #E8F0FE;\n",
              "      border: none;\n",
              "      border-radius: 50%;\n",
              "      cursor: pointer;\n",
              "      display: none;\n",
              "      fill: #1967D2;\n",
              "      height: 32px;\n",
              "      padding: 0 0 0 0;\n",
              "      width: 32px;\n",
              "    }\n",
              "\n",
              "    .colab-df-convert:hover {\n",
              "      background-color: #E2EBFA;\n",
              "      box-shadow: 0px 1px 2px rgba(60, 64, 67, 0.3), 0px 1px 3px 1px rgba(60, 64, 67, 0.15);\n",
              "      fill: #174EA6;\n",
              "    }\n",
              "\n",
              "    .colab-df-buttons div {\n",
              "      margin-bottom: 4px;\n",
              "    }\n",
              "\n",
              "    [theme=dark] .colab-df-convert {\n",
              "      background-color: #3B4455;\n",
              "      fill: #D2E3FC;\n",
              "    }\n",
              "\n",
              "    [theme=dark] .colab-df-convert:hover {\n",
              "      background-color: #434B5C;\n",
              "      box-shadow: 0px 1px 3px 1px rgba(0, 0, 0, 0.15);\n",
              "      filter: drop-shadow(0px 1px 2px rgba(0, 0, 0, 0.3));\n",
              "      fill: #FFFFFF;\n",
              "    }\n",
              "  </style>\n",
              "\n",
              "    <script>\n",
              "      const buttonEl =\n",
              "        document.querySelector('#df-22572a33-54c4-4235-9b58-4502758f768e button.colab-df-convert');\n",
              "      buttonEl.style.display =\n",
              "        google.colab.kernel.accessAllowed ? 'block' : 'none';\n",
              "\n",
              "      async function convertToInteractive(key) {\n",
              "        const element = document.querySelector('#df-22572a33-54c4-4235-9b58-4502758f768e');\n",
              "        const dataTable =\n",
              "          await google.colab.kernel.invokeFunction('convertToInteractive',\n",
              "                                                    [key], {});\n",
              "        if (!dataTable) return;\n",
              "\n",
              "        const docLinkHtml = 'Like what you see? Visit the ' +\n",
              "          '<a target=\"_blank\" href=https://colab.research.google.com/notebooks/data_table.ipynb>data table notebook</a>'\n",
              "          + ' to learn more about interactive tables.';\n",
              "        element.innerHTML = '';\n",
              "        dataTable['output_type'] = 'display_data';\n",
              "        await google.colab.output.renderOutput(dataTable, element);\n",
              "        const docLink = document.createElement('div');\n",
              "        docLink.innerHTML = docLinkHtml;\n",
              "        element.appendChild(docLink);\n",
              "      }\n",
              "    </script>\n",
              "  </div>\n",
              "\n",
              "\n",
              "<div id=\"df-864054ab-4ca2-4aa9-b43b-291d85ca5ef0\">\n",
              "  <button class=\"colab-df-quickchart\" onclick=\"quickchart('df-864054ab-4ca2-4aa9-b43b-291d85ca5ef0')\"\n",
              "            title=\"Suggest charts\"\n",
              "            style=\"display:none;\">\n",
              "\n",
              "<svg xmlns=\"http://www.w3.org/2000/svg\" height=\"24px\"viewBox=\"0 0 24 24\"\n",
              "     width=\"24px\">\n",
              "    <g>\n",
              "        <path d=\"M19 3H5c-1.1 0-2 .9-2 2v14c0 1.1.9 2 2 2h14c1.1 0 2-.9 2-2V5c0-1.1-.9-2-2-2zM9 17H7v-7h2v7zm4 0h-2V7h2v10zm4 0h-2v-4h2v4z\"/>\n",
              "    </g>\n",
              "</svg>\n",
              "  </button>\n",
              "\n",
              "<style>\n",
              "  .colab-df-quickchart {\n",
              "      --bg-color: #E8F0FE;\n",
              "      --fill-color: #1967D2;\n",
              "      --hover-bg-color: #E2EBFA;\n",
              "      --hover-fill-color: #174EA6;\n",
              "      --disabled-fill-color: #AAA;\n",
              "      --disabled-bg-color: #DDD;\n",
              "  }\n",
              "\n",
              "  [theme=dark] .colab-df-quickchart {\n",
              "      --bg-color: #3B4455;\n",
              "      --fill-color: #D2E3FC;\n",
              "      --hover-bg-color: #434B5C;\n",
              "      --hover-fill-color: #FFFFFF;\n",
              "      --disabled-bg-color: #3B4455;\n",
              "      --disabled-fill-color: #666;\n",
              "  }\n",
              "\n",
              "  .colab-df-quickchart {\n",
              "    background-color: var(--bg-color);\n",
              "    border: none;\n",
              "    border-radius: 50%;\n",
              "    cursor: pointer;\n",
              "    display: none;\n",
              "    fill: var(--fill-color);\n",
              "    height: 32px;\n",
              "    padding: 0;\n",
              "    width: 32px;\n",
              "  }\n",
              "\n",
              "  .colab-df-quickchart:hover {\n",
              "    background-color: var(--hover-bg-color);\n",
              "    box-shadow: 0 1px 2px rgba(60, 64, 67, 0.3), 0 1px 3px 1px rgba(60, 64, 67, 0.15);\n",
              "    fill: var(--button-hover-fill-color);\n",
              "  }\n",
              "\n",
              "  .colab-df-quickchart-complete:disabled,\n",
              "  .colab-df-quickchart-complete:disabled:hover {\n",
              "    background-color: var(--disabled-bg-color);\n",
              "    fill: var(--disabled-fill-color);\n",
              "    box-shadow: none;\n",
              "  }\n",
              "\n",
              "  .colab-df-spinner {\n",
              "    border: 2px solid var(--fill-color);\n",
              "    border-color: transparent;\n",
              "    border-bottom-color: var(--fill-color);\n",
              "    animation:\n",
              "      spin 1s steps(1) infinite;\n",
              "  }\n",
              "\n",
              "  @keyframes spin {\n",
              "    0% {\n",
              "      border-color: transparent;\n",
              "      border-bottom-color: var(--fill-color);\n",
              "      border-left-color: var(--fill-color);\n",
              "    }\n",
              "    20% {\n",
              "      border-color: transparent;\n",
              "      border-left-color: var(--fill-color);\n",
              "      border-top-color: var(--fill-color);\n",
              "    }\n",
              "    30% {\n",
              "      border-color: transparent;\n",
              "      border-left-color: var(--fill-color);\n",
              "      border-top-color: var(--fill-color);\n",
              "      border-right-color: var(--fill-color);\n",
              "    }\n",
              "    40% {\n",
              "      border-color: transparent;\n",
              "      border-right-color: var(--fill-color);\n",
              "      border-top-color: var(--fill-color);\n",
              "    }\n",
              "    60% {\n",
              "      border-color: transparent;\n",
              "      border-right-color: var(--fill-color);\n",
              "    }\n",
              "    80% {\n",
              "      border-color: transparent;\n",
              "      border-right-color: var(--fill-color);\n",
              "      border-bottom-color: var(--fill-color);\n",
              "    }\n",
              "    90% {\n",
              "      border-color: transparent;\n",
              "      border-bottom-color: var(--fill-color);\n",
              "    }\n",
              "  }\n",
              "</style>\n",
              "\n",
              "  <script>\n",
              "    async function quickchart(key) {\n",
              "      const quickchartButtonEl =\n",
              "        document.querySelector('#' + key + ' button');\n",
              "      quickchartButtonEl.disabled = true;  // To prevent multiple clicks.\n",
              "      quickchartButtonEl.classList.add('colab-df-spinner');\n",
              "      try {\n",
              "        const charts = await google.colab.kernel.invokeFunction(\n",
              "            'suggestCharts', [key], {});\n",
              "      } catch (error) {\n",
              "        console.error('Error during call to suggestCharts:', error);\n",
              "      }\n",
              "      quickchartButtonEl.classList.remove('colab-df-spinner');\n",
              "      quickchartButtonEl.classList.add('colab-df-quickchart-complete');\n",
              "    }\n",
              "    (() => {\n",
              "      let quickchartButtonEl =\n",
              "        document.querySelector('#df-864054ab-4ca2-4aa9-b43b-291d85ca5ef0 button');\n",
              "      quickchartButtonEl.style.display =\n",
              "        google.colab.kernel.accessAllowed ? 'block' : 'none';\n",
              "    })();\n",
              "  </script>\n",
              "</div>\n",
              "\n",
              "    </div>\n",
              "  </div>\n"
            ],
            "application/vnd.google.colaboratory.intrinsic+json": {
              "type": "dataframe",
              "variable_name": "df",
              "summary": "{\n  \"name\": \"df\",\n  \"rows\": 32561,\n  \"fields\": [\n    {\n      \"column\": \"age\",\n      \"properties\": {\n        \"dtype\": \"number\",\n        \"std\": 13,\n        \"min\": 17,\n        \"max\": 90,\n        \"num_unique_values\": 73,\n        \"samples\": [\n          28,\n          73,\n          35\n        ],\n        \"semantic_type\": \"\",\n        \"description\": \"\"\n      }\n    },\n    {\n      \"column\": \"workclass\",\n      \"properties\": {\n        \"dtype\": \"category\",\n        \"num_unique_values\": 9,\n        \"samples\": [\n          \"Without-pay\",\n          \"Self-emp-not-inc\",\n          \"?\"\n        ],\n        \"semantic_type\": \"\",\n        \"description\": \"\"\n      }\n    },\n    {\n      \"column\": \"fnlwgt\",\n      \"properties\": {\n        \"dtype\": \"number\",\n        \"std\": 105549,\n        \"min\": 12285,\n        \"max\": 1484705,\n        \"num_unique_values\": 21648,\n        \"samples\": [\n          128485,\n          469907,\n          235951\n        ],\n        \"semantic_type\": \"\",\n        \"description\": \"\"\n      }\n    },\n    {\n      \"column\": \"education\",\n      \"properties\": {\n        \"dtype\": \"category\",\n        \"num_unique_values\": 16,\n        \"samples\": [\n          \"Bachelors\",\n          \"HS-grad\",\n          \"Some-college\"\n        ],\n        \"semantic_type\": \"\",\n        \"description\": \"\"\n      }\n    },\n    {\n      \"column\": \"education-num\",\n      \"properties\": {\n        \"dtype\": \"number\",\n        \"std\": 2,\n        \"min\": 1,\n        \"max\": 16,\n        \"num_unique_values\": 16,\n        \"samples\": [\n          13,\n          9,\n          10\n        ],\n        \"semantic_type\": \"\",\n        \"description\": \"\"\n      }\n    },\n    {\n      \"column\": \"marital-status\",\n      \"properties\": {\n        \"dtype\": \"category\",\n        \"num_unique_values\": 7,\n        \"samples\": [\n          \"Never-married\",\n          \"Married-civ-spouse\",\n          \"Married-AF-spouse\"\n        ],\n        \"semantic_type\": \"\",\n        \"description\": \"\"\n      }\n    },\n    {\n      \"column\": \"occupation\",\n      \"properties\": {\n        \"dtype\": \"category\",\n        \"num_unique_values\": 15,\n        \"samples\": [\n          \"Machine-op-inspct\",\n          \"?\",\n          \"Adm-clerical\"\n        ],\n        \"semantic_type\": \"\",\n        \"description\": \"\"\n      }\n    },\n    {\n      \"column\": \"relationship\",\n      \"properties\": {\n        \"dtype\": \"category\",\n        \"num_unique_values\": 6,\n        \"samples\": [\n          \"Not-in-family\",\n          \"Husband\",\n          \"Other-relative\"\n        ],\n        \"semantic_type\": \"\",\n        \"description\": \"\"\n      }\n    },\n    {\n      \"column\": \"race\",\n      \"properties\": {\n        \"dtype\": \"category\",\n        \"num_unique_values\": 5,\n        \"samples\": [\n          \"Black\",\n          \"Other\",\n          \"Asian-Pac-Islander\"\n        ],\n        \"semantic_type\": \"\",\n        \"description\": \"\"\n      }\n    },\n    {\n      \"column\": \"sex\",\n      \"properties\": {\n        \"dtype\": \"category\",\n        \"num_unique_values\": 2,\n        \"samples\": [\n          \"Female\",\n          \"Male\"\n        ],\n        \"semantic_type\": \"\",\n        \"description\": \"\"\n      }\n    },\n    {\n      \"column\": \"capital-gain\",\n      \"properties\": {\n        \"dtype\": \"number\",\n        \"std\": 7385,\n        \"min\": 0,\n        \"max\": 99999,\n        \"num_unique_values\": 119,\n        \"samples\": [\n          3781,\n          15831\n        ],\n        \"semantic_type\": \"\",\n        \"description\": \"\"\n      }\n    },\n    {\n      \"column\": \"capital-loss\",\n      \"properties\": {\n        \"dtype\": \"number\",\n        \"std\": 402,\n        \"min\": 0,\n        \"max\": 4356,\n        \"num_unique_values\": 92,\n        \"samples\": [\n          419,\n          2051\n        ],\n        \"semantic_type\": \"\",\n        \"description\": \"\"\n      }\n    },\n    {\n      \"column\": \"hours-per-week\",\n      \"properties\": {\n        \"dtype\": \"number\",\n        \"std\": 12,\n        \"min\": 1,\n        \"max\": 99,\n        \"num_unique_values\": 94,\n        \"samples\": [\n          6,\n          22\n        ],\n        \"semantic_type\": \"\",\n        \"description\": \"\"\n      }\n    },\n    {\n      \"column\": \"native-country\",\n      \"properties\": {\n        \"dtype\": \"category\",\n        \"num_unique_values\": 42,\n        \"samples\": [\n          \"El-Salvador\",\n          \"Philippines\"\n        ],\n        \"semantic_type\": \"\",\n        \"description\": \"\"\n      }\n    },\n    {\n      \"column\": \"salary\",\n      \"properties\": {\n        \"dtype\": \"category\",\n        \"num_unique_values\": 2,\n        \"samples\": [\n          \">50K\",\n          \"<=50K\"\n        ],\n        \"semantic_type\": \"\",\n        \"description\": \"\"\n      }\n    }\n  ]\n}"
            }
          },
          "metadata": {},
          "execution_count": 13
        }
      ]
    },
    {
      "cell_type": "code",
      "source": [
        "df.info()  # This command provides us with general information about our dataset, such as the number of entries and data types of each column.\n"
      ],
      "metadata": {
        "colab": {
          "base_uri": "https://localhost:8080/"
        },
        "id": "NHZPGXo117ea",
        "outputId": "38629e00-42b9-475e-b367-1d6c6c27cff6"
      },
      "execution_count": null,
      "outputs": [
        {
          "output_type": "stream",
          "name": "stdout",
          "text": [
            "<class 'pandas.core.frame.DataFrame'>\n",
            "RangeIndex: 32561 entries, 0 to 32560\n",
            "Data columns (total 15 columns):\n",
            " #   Column          Non-Null Count  Dtype \n",
            "---  ------          --------------  ----- \n",
            " 0   age             32561 non-null  int64 \n",
            " 1   workclass       32561 non-null  object\n",
            " 2   fnlwgt          32561 non-null  int64 \n",
            " 3   education       32561 non-null  object\n",
            " 4   education-num   32561 non-null  int64 \n",
            " 5   marital-status  32561 non-null  object\n",
            " 6   occupation      32561 non-null  object\n",
            " 7   relationship    32561 non-null  object\n",
            " 8   race            32561 non-null  object\n",
            " 9   sex             32561 non-null  object\n",
            " 10  capital-gain    32561 non-null  int64 \n",
            " 11  capital-loss    32561 non-null  int64 \n",
            " 12  hours-per-week  32561 non-null  int64 \n",
            " 13  native-country  32561 non-null  object\n",
            " 14  salary          32561 non-null  object\n",
            "dtypes: int64(6), object(9)\n",
            "memory usage: 3.7+ MB\n"
          ]
        }
      ]
    },
    {
      "cell_type": "code",
      "source": [
        "df.describe()  # This command generates summary statistics for numerical columns in our dataset, helping us understand the distribution and range of values."
      ],
      "metadata": {
        "colab": {
          "base_uri": "https://localhost:8080/",
          "height": 300
        },
        "id": "l06CosJq2Tuj",
        "outputId": "1165a00a-b7c6-469a-ea27-2e3e5f94cd9d"
      },
      "execution_count": null,
      "outputs": [
        {
          "output_type": "execute_result",
          "data": {
            "text/plain": [
              "                age        fnlwgt  education-num  capital-gain  capital-loss  \\\n",
              "count  32561.000000  3.256100e+04   32561.000000  32561.000000  32561.000000   \n",
              "mean      38.581647  1.897784e+05      10.080679   1077.648844     87.303830   \n",
              "std       13.640433  1.055500e+05       2.572720   7385.292085    402.960219   \n",
              "min       17.000000  1.228500e+04       1.000000      0.000000      0.000000   \n",
              "25%       28.000000  1.178270e+05       9.000000      0.000000      0.000000   \n",
              "50%       37.000000  1.783560e+05      10.000000      0.000000      0.000000   \n",
              "75%       48.000000  2.370510e+05      12.000000      0.000000      0.000000   \n",
              "max       90.000000  1.484705e+06      16.000000  99999.000000   4356.000000   \n",
              "\n",
              "       hours-per-week  \n",
              "count    32561.000000  \n",
              "mean        40.437456  \n",
              "std         12.347429  \n",
              "min          1.000000  \n",
              "25%         40.000000  \n",
              "50%         40.000000  \n",
              "75%         45.000000  \n",
              "max         99.000000  "
            ],
            "text/html": [
              "\n",
              "  <div id=\"df-a9c5350f-d060-4d6f-bd46-2d327f2d9a47\" class=\"colab-df-container\">\n",
              "    <div>\n",
              "<style scoped>\n",
              "    .dataframe tbody tr th:only-of-type {\n",
              "        vertical-align: middle;\n",
              "    }\n",
              "\n",
              "    .dataframe tbody tr th {\n",
              "        vertical-align: top;\n",
              "    }\n",
              "\n",
              "    .dataframe thead th {\n",
              "        text-align: right;\n",
              "    }\n",
              "</style>\n",
              "<table border=\"1\" class=\"dataframe\">\n",
              "  <thead>\n",
              "    <tr style=\"text-align: right;\">\n",
              "      <th></th>\n",
              "      <th>age</th>\n",
              "      <th>fnlwgt</th>\n",
              "      <th>education-num</th>\n",
              "      <th>capital-gain</th>\n",
              "      <th>capital-loss</th>\n",
              "      <th>hours-per-week</th>\n",
              "    </tr>\n",
              "  </thead>\n",
              "  <tbody>\n",
              "    <tr>\n",
              "      <th>count</th>\n",
              "      <td>32561.000000</td>\n",
              "      <td>3.256100e+04</td>\n",
              "      <td>32561.000000</td>\n",
              "      <td>32561.000000</td>\n",
              "      <td>32561.000000</td>\n",
              "      <td>32561.000000</td>\n",
              "    </tr>\n",
              "    <tr>\n",
              "      <th>mean</th>\n",
              "      <td>38.581647</td>\n",
              "      <td>1.897784e+05</td>\n",
              "      <td>10.080679</td>\n",
              "      <td>1077.648844</td>\n",
              "      <td>87.303830</td>\n",
              "      <td>40.437456</td>\n",
              "    </tr>\n",
              "    <tr>\n",
              "      <th>std</th>\n",
              "      <td>13.640433</td>\n",
              "      <td>1.055500e+05</td>\n",
              "      <td>2.572720</td>\n",
              "      <td>7385.292085</td>\n",
              "      <td>402.960219</td>\n",
              "      <td>12.347429</td>\n",
              "    </tr>\n",
              "    <tr>\n",
              "      <th>min</th>\n",
              "      <td>17.000000</td>\n",
              "      <td>1.228500e+04</td>\n",
              "      <td>1.000000</td>\n",
              "      <td>0.000000</td>\n",
              "      <td>0.000000</td>\n",
              "      <td>1.000000</td>\n",
              "    </tr>\n",
              "    <tr>\n",
              "      <th>25%</th>\n",
              "      <td>28.000000</td>\n",
              "      <td>1.178270e+05</td>\n",
              "      <td>9.000000</td>\n",
              "      <td>0.000000</td>\n",
              "      <td>0.000000</td>\n",
              "      <td>40.000000</td>\n",
              "    </tr>\n",
              "    <tr>\n",
              "      <th>50%</th>\n",
              "      <td>37.000000</td>\n",
              "      <td>1.783560e+05</td>\n",
              "      <td>10.000000</td>\n",
              "      <td>0.000000</td>\n",
              "      <td>0.000000</td>\n",
              "      <td>40.000000</td>\n",
              "    </tr>\n",
              "    <tr>\n",
              "      <th>75%</th>\n",
              "      <td>48.000000</td>\n",
              "      <td>2.370510e+05</td>\n",
              "      <td>12.000000</td>\n",
              "      <td>0.000000</td>\n",
              "      <td>0.000000</td>\n",
              "      <td>45.000000</td>\n",
              "    </tr>\n",
              "    <tr>\n",
              "      <th>max</th>\n",
              "      <td>90.000000</td>\n",
              "      <td>1.484705e+06</td>\n",
              "      <td>16.000000</td>\n",
              "      <td>99999.000000</td>\n",
              "      <td>4356.000000</td>\n",
              "      <td>99.000000</td>\n",
              "    </tr>\n",
              "  </tbody>\n",
              "</table>\n",
              "</div>\n",
              "    <div class=\"colab-df-buttons\">\n",
              "\n",
              "  <div class=\"colab-df-container\">\n",
              "    <button class=\"colab-df-convert\" onclick=\"convertToInteractive('df-a9c5350f-d060-4d6f-bd46-2d327f2d9a47')\"\n",
              "            title=\"Convert this dataframe to an interactive table.\"\n",
              "            style=\"display:none;\">\n",
              "\n",
              "  <svg xmlns=\"http://www.w3.org/2000/svg\" height=\"24px\" viewBox=\"0 -960 960 960\">\n",
              "    <path d=\"M120-120v-720h720v720H120Zm60-500h600v-160H180v160Zm220 220h160v-160H400v160Zm0 220h160v-160H400v160ZM180-400h160v-160H180v160Zm440 0h160v-160H620v160ZM180-180h160v-160H180v160Zm440 0h160v-160H620v160Z\"/>\n",
              "  </svg>\n",
              "    </button>\n",
              "\n",
              "  <style>\n",
              "    .colab-df-container {\n",
              "      display:flex;\n",
              "      gap: 12px;\n",
              "    }\n",
              "\n",
              "    .colab-df-convert {\n",
              "      background-color: #E8F0FE;\n",
              "      border: none;\n",
              "      border-radius: 50%;\n",
              "      cursor: pointer;\n",
              "      display: none;\n",
              "      fill: #1967D2;\n",
              "      height: 32px;\n",
              "      padding: 0 0 0 0;\n",
              "      width: 32px;\n",
              "    }\n",
              "\n",
              "    .colab-df-convert:hover {\n",
              "      background-color: #E2EBFA;\n",
              "      box-shadow: 0px 1px 2px rgba(60, 64, 67, 0.3), 0px 1px 3px 1px rgba(60, 64, 67, 0.15);\n",
              "      fill: #174EA6;\n",
              "    }\n",
              "\n",
              "    .colab-df-buttons div {\n",
              "      margin-bottom: 4px;\n",
              "    }\n",
              "\n",
              "    [theme=dark] .colab-df-convert {\n",
              "      background-color: #3B4455;\n",
              "      fill: #D2E3FC;\n",
              "    }\n",
              "\n",
              "    [theme=dark] .colab-df-convert:hover {\n",
              "      background-color: #434B5C;\n",
              "      box-shadow: 0px 1px 3px 1px rgba(0, 0, 0, 0.15);\n",
              "      filter: drop-shadow(0px 1px 2px rgba(0, 0, 0, 0.3));\n",
              "      fill: #FFFFFF;\n",
              "    }\n",
              "  </style>\n",
              "\n",
              "    <script>\n",
              "      const buttonEl =\n",
              "        document.querySelector('#df-a9c5350f-d060-4d6f-bd46-2d327f2d9a47 button.colab-df-convert');\n",
              "      buttonEl.style.display =\n",
              "        google.colab.kernel.accessAllowed ? 'block' : 'none';\n",
              "\n",
              "      async function convertToInteractive(key) {\n",
              "        const element = document.querySelector('#df-a9c5350f-d060-4d6f-bd46-2d327f2d9a47');\n",
              "        const dataTable =\n",
              "          await google.colab.kernel.invokeFunction('convertToInteractive',\n",
              "                                                    [key], {});\n",
              "        if (!dataTable) return;\n",
              "\n",
              "        const docLinkHtml = 'Like what you see? Visit the ' +\n",
              "          '<a target=\"_blank\" href=https://colab.research.google.com/notebooks/data_table.ipynb>data table notebook</a>'\n",
              "          + ' to learn more about interactive tables.';\n",
              "        element.innerHTML = '';\n",
              "        dataTable['output_type'] = 'display_data';\n",
              "        await google.colab.output.renderOutput(dataTable, element);\n",
              "        const docLink = document.createElement('div');\n",
              "        docLink.innerHTML = docLinkHtml;\n",
              "        element.appendChild(docLink);\n",
              "      }\n",
              "    </script>\n",
              "  </div>\n",
              "\n",
              "\n",
              "<div id=\"df-3adbad27-5f16-4839-ba91-76797e06fe10\">\n",
              "  <button class=\"colab-df-quickchart\" onclick=\"quickchart('df-3adbad27-5f16-4839-ba91-76797e06fe10')\"\n",
              "            title=\"Suggest charts\"\n",
              "            style=\"display:none;\">\n",
              "\n",
              "<svg xmlns=\"http://www.w3.org/2000/svg\" height=\"24px\"viewBox=\"0 0 24 24\"\n",
              "     width=\"24px\">\n",
              "    <g>\n",
              "        <path d=\"M19 3H5c-1.1 0-2 .9-2 2v14c0 1.1.9 2 2 2h14c1.1 0 2-.9 2-2V5c0-1.1-.9-2-2-2zM9 17H7v-7h2v7zm4 0h-2V7h2v10zm4 0h-2v-4h2v4z\"/>\n",
              "    </g>\n",
              "</svg>\n",
              "  </button>\n",
              "\n",
              "<style>\n",
              "  .colab-df-quickchart {\n",
              "      --bg-color: #E8F0FE;\n",
              "      --fill-color: #1967D2;\n",
              "      --hover-bg-color: #E2EBFA;\n",
              "      --hover-fill-color: #174EA6;\n",
              "      --disabled-fill-color: #AAA;\n",
              "      --disabled-bg-color: #DDD;\n",
              "  }\n",
              "\n",
              "  [theme=dark] .colab-df-quickchart {\n",
              "      --bg-color: #3B4455;\n",
              "      --fill-color: #D2E3FC;\n",
              "      --hover-bg-color: #434B5C;\n",
              "      --hover-fill-color: #FFFFFF;\n",
              "      --disabled-bg-color: #3B4455;\n",
              "      --disabled-fill-color: #666;\n",
              "  }\n",
              "\n",
              "  .colab-df-quickchart {\n",
              "    background-color: var(--bg-color);\n",
              "    border: none;\n",
              "    border-radius: 50%;\n",
              "    cursor: pointer;\n",
              "    display: none;\n",
              "    fill: var(--fill-color);\n",
              "    height: 32px;\n",
              "    padding: 0;\n",
              "    width: 32px;\n",
              "  }\n",
              "\n",
              "  .colab-df-quickchart:hover {\n",
              "    background-color: var(--hover-bg-color);\n",
              "    box-shadow: 0 1px 2px rgba(60, 64, 67, 0.3), 0 1px 3px 1px rgba(60, 64, 67, 0.15);\n",
              "    fill: var(--button-hover-fill-color);\n",
              "  }\n",
              "\n",
              "  .colab-df-quickchart-complete:disabled,\n",
              "  .colab-df-quickchart-complete:disabled:hover {\n",
              "    background-color: var(--disabled-bg-color);\n",
              "    fill: var(--disabled-fill-color);\n",
              "    box-shadow: none;\n",
              "  }\n",
              "\n",
              "  .colab-df-spinner {\n",
              "    border: 2px solid var(--fill-color);\n",
              "    border-color: transparent;\n",
              "    border-bottom-color: var(--fill-color);\n",
              "    animation:\n",
              "      spin 1s steps(1) infinite;\n",
              "  }\n",
              "\n",
              "  @keyframes spin {\n",
              "    0% {\n",
              "      border-color: transparent;\n",
              "      border-bottom-color: var(--fill-color);\n",
              "      border-left-color: var(--fill-color);\n",
              "    }\n",
              "    20% {\n",
              "      border-color: transparent;\n",
              "      border-left-color: var(--fill-color);\n",
              "      border-top-color: var(--fill-color);\n",
              "    }\n",
              "    30% {\n",
              "      border-color: transparent;\n",
              "      border-left-color: var(--fill-color);\n",
              "      border-top-color: var(--fill-color);\n",
              "      border-right-color: var(--fill-color);\n",
              "    }\n",
              "    40% {\n",
              "      border-color: transparent;\n",
              "      border-right-color: var(--fill-color);\n",
              "      border-top-color: var(--fill-color);\n",
              "    }\n",
              "    60% {\n",
              "      border-color: transparent;\n",
              "      border-right-color: var(--fill-color);\n",
              "    }\n",
              "    80% {\n",
              "      border-color: transparent;\n",
              "      border-right-color: var(--fill-color);\n",
              "      border-bottom-color: var(--fill-color);\n",
              "    }\n",
              "    90% {\n",
              "      border-color: transparent;\n",
              "      border-bottom-color: var(--fill-color);\n",
              "    }\n",
              "  }\n",
              "</style>\n",
              "\n",
              "  <script>\n",
              "    async function quickchart(key) {\n",
              "      const quickchartButtonEl =\n",
              "        document.querySelector('#' + key + ' button');\n",
              "      quickchartButtonEl.disabled = true;  // To prevent multiple clicks.\n",
              "      quickchartButtonEl.classList.add('colab-df-spinner');\n",
              "      try {\n",
              "        const charts = await google.colab.kernel.invokeFunction(\n",
              "            'suggestCharts', [key], {});\n",
              "      } catch (error) {\n",
              "        console.error('Error during call to suggestCharts:', error);\n",
              "      }\n",
              "      quickchartButtonEl.classList.remove('colab-df-spinner');\n",
              "      quickchartButtonEl.classList.add('colab-df-quickchart-complete');\n",
              "    }\n",
              "    (() => {\n",
              "      let quickchartButtonEl =\n",
              "        document.querySelector('#df-3adbad27-5f16-4839-ba91-76797e06fe10 button');\n",
              "      quickchartButtonEl.style.display =\n",
              "        google.colab.kernel.accessAllowed ? 'block' : 'none';\n",
              "    })();\n",
              "  </script>\n",
              "</div>\n",
              "\n",
              "    </div>\n",
              "  </div>\n"
            ],
            "application/vnd.google.colaboratory.intrinsic+json": {
              "type": "dataframe",
              "summary": "{\n  \"name\": \"df\",\n  \"rows\": 8,\n  \"fields\": [\n    {\n      \"column\": \"age\",\n      \"properties\": {\n        \"dtype\": \"number\",\n        \"std\": 11498.327099385337,\n        \"min\": 13.640432553581341,\n        \"max\": 32561.0,\n        \"num_unique_values\": 8,\n        \"samples\": [\n          38.58164675532078,\n          37.0,\n          32561.0\n        ],\n        \"semantic_type\": \"\",\n        \"description\": \"\"\n      }\n    },\n    {\n      \"column\": \"fnlwgt\",\n      \"properties\": {\n        \"dtype\": \"number\",\n        \"std\": 486902.252790567,\n        \"min\": 12285.0,\n        \"max\": 1484705.0,\n        \"num_unique_values\": 8,\n        \"samples\": [\n          189778.36651208502,\n          178356.0,\n          32561.0\n        ],\n        \"semantic_type\": \"\",\n        \"description\": \"\"\n      }\n    },\n    {\n      \"column\": \"education-num\",\n      \"properties\": {\n        \"dtype\": \"number\",\n        \"std\": 11508.98951393426,\n        \"min\": 1.0,\n        \"max\": 32561.0,\n        \"num_unique_values\": 8,\n        \"samples\": [\n          10.0806793403151,\n          10.0,\n          32561.0\n        ],\n        \"semantic_type\": \"\",\n        \"description\": \"\"\n      }\n    },\n    {\n      \"column\": \"capital-gain\",\n      \"properties\": {\n        \"dtype\": \"number\",\n        \"std\": 35111.63595222616,\n        \"min\": 0.0,\n        \"max\": 99999.0,\n        \"num_unique_values\": 5,\n        \"samples\": [\n          1077.6488437087312,\n          99999.0,\n          7385.292084840338\n        ],\n        \"semantic_type\": \"\",\n        \"description\": \"\"\n      }\n    },\n    {\n      \"column\": \"capital-loss\",\n      \"properties\": {\n        \"dtype\": \"number\",\n        \"std\": 11366.935322921165,\n        \"min\": 0.0,\n        \"max\": 32561.0,\n        \"num_unique_values\": 5,\n        \"samples\": [\n          87.303829734959,\n          4356.0,\n          402.9602186489998\n        ],\n        \"semantic_type\": \"\",\n        \"description\": \"\"\n      }\n    },\n    {\n      \"column\": \"hours-per-week\",\n      \"properties\": {\n        \"dtype\": \"number\",\n        \"std\": 11498.057671750134,\n        \"min\": 1.0,\n        \"max\": 32561.0,\n        \"num_unique_values\": 7,\n        \"samples\": [\n          32561.0,\n          40.437455852092995,\n          45.0\n        ],\n        \"semantic_type\": \"\",\n        \"description\": \"\"\n      }\n    }\n  ]\n}"
            }
          },
          "metadata": {},
          "execution_count": 15
        }
      ]
    },
    {
      "cell_type": "code",
      "source": [],
      "metadata": {
        "id": "OMcFsFkF2T7z"
      },
      "execution_count": null,
      "outputs": []
    },
    {
      "cell_type": "code",
      "source": [
        "# Explanation:\n",
        "# The dataset contains 32,561 entries and 15 columns.\n",
        "# The columns consist of both numerical (int64) and categorical (object) data types.\n",
        "# There are no missing values in any of the columns."
      ],
      "metadata": {
        "id": "ppVz8Jf42T_K"
      },
      "execution_count": null,
      "outputs": []
    },
    {
      "cell_type": "code",
      "source": [],
      "metadata": {
        "id": "cdfgx-eM2UB9"
      },
      "execution_count": null,
      "outputs": []
    },
    {
      "cell_type": "code",
      "source": [
        "# Step 4: Check for Missing Values\n",
        "# It's essential to ensure that our dataset does not contain any missing values, as they can affect the accuracy of our analysis."
      ],
      "metadata": {
        "id": "1PQqnpsG31Ws"
      },
      "execution_count": null,
      "outputs": []
    },
    {
      "cell_type": "code",
      "source": [
        "missing_values = df.isnull().sum()"
      ],
      "metadata": {
        "id": "D8LZGUKV31Zs"
      },
      "execution_count": null,
      "outputs": []
    },
    {
      "cell_type": "code",
      "source": [
        "print(\"Missing Values:\")"
      ],
      "metadata": {
        "colab": {
          "base_uri": "https://localhost:8080/"
        },
        "id": "4Ed5ar7h31cm",
        "outputId": "6f7757b5-303d-4fc7-e498-96bc10a4bde9"
      },
      "execution_count": null,
      "outputs": [
        {
          "output_type": "stream",
          "name": "stdout",
          "text": [
            "Missing Values:\n"
          ]
        }
      ]
    },
    {
      "cell_type": "code",
      "source": [
        "print(missing_values)"
      ],
      "metadata": {
        "colab": {
          "base_uri": "https://localhost:8080/"
        },
        "id": "B5Li8pBr3_DO",
        "outputId": "29f28814-363f-4f86-cdc6-fe161338dbf0"
      },
      "execution_count": null,
      "outputs": [
        {
          "output_type": "stream",
          "name": "stdout",
          "text": [
            "age               0\n",
            "workclass         0\n",
            "fnlwgt            0\n",
            "education         0\n",
            "education-num     0\n",
            "marital-status    0\n",
            "occupation        0\n",
            "relationship      0\n",
            "race              0\n",
            "sex               0\n",
            "capital-gain      0\n",
            "capital-loss      0\n",
            "hours-per-week    0\n",
            "native-country    0\n",
            "salary            0\n",
            "dtype: int64\n"
          ]
        }
      ]
    },
    {
      "cell_type": "code",
      "source": [],
      "metadata": {
        "id": "n8duNVgl3_HE"
      },
      "execution_count": null,
      "outputs": []
    },
    {
      "cell_type": "code",
      "source": [
        "# Step 5: Check for Duplicate Values\n",
        "# Duplicate rows can introduce bias into our analysis, so we need to identify and remove them."
      ],
      "metadata": {
        "id": "sH1y3KLR3_J-"
      },
      "execution_count": null,
      "outputs": []
    },
    {
      "cell_type": "code",
      "source": [
        "duplicate_rows = df.duplicated().sum()"
      ],
      "metadata": {
        "id": "_3MpEbX13_M4"
      },
      "execution_count": null,
      "outputs": []
    },
    {
      "cell_type": "code",
      "source": [
        "print(\"\\nDuplicate Rows:\")"
      ],
      "metadata": {
        "colab": {
          "base_uri": "https://localhost:8080/"
        },
        "id": "YMMc_N-O3_Pm",
        "outputId": "d643c029-aff5-40b0-9ede-91d1226abe9e"
      },
      "execution_count": null,
      "outputs": [
        {
          "output_type": "stream",
          "name": "stdout",
          "text": [
            "\n",
            "Duplicate Rows:\n"
          ]
        }
      ]
    },
    {
      "cell_type": "code",
      "source": [
        "print(duplicate_rows)"
      ],
      "metadata": {
        "colab": {
          "base_uri": "https://localhost:8080/"
        },
        "id": "CA8ncEQ431fw",
        "outputId": "a250f19d-9117-40a7-f102-589fdbc63e89"
      },
      "execution_count": null,
      "outputs": [
        {
          "output_type": "stream",
          "name": "stdout",
          "text": [
            "24\n"
          ]
        }
      ]
    },
    {
      "cell_type": "markdown",
      "source": [
        "----"
      ],
      "metadata": {
        "id": "3qKVtGxSSSR7"
      }
    },
    {
      "cell_type": "code",
      "source": [],
      "metadata": {
        "id": "jALQNOrvSTP8"
      },
      "execution_count": null,
      "outputs": []
    },
    {
      "cell_type": "code",
      "source": [],
      "metadata": {
        "id": "4M3n4pgd4Mt6"
      },
      "execution_count": null,
      "outputs": []
    },
    {
      "cell_type": "code",
      "source": [],
      "metadata": {
        "id": "zRJsYrFa4NDg"
      },
      "execution_count": null,
      "outputs": []
    },
    {
      "cell_type": "markdown",
      "source": [
        "----"
      ],
      "metadata": {
        "id": "LFa-jtk1SVxc"
      }
    },
    {
      "cell_type": "markdown",
      "source": [
        "# 📊 **2. Exploratory Data Analysis (EDA)**\n",
        "\n",
        "### **Objective:**\n",
        "Exploratory Data Analysis (EDA) involves summarizing the dataset’s key characteristics and visualizing data distributions. This helps in identifying patterns, trends, and potential issues with the dataset.\n",
        "\n",
        "### **Key Activities:**\n",
        "\n",
        "- **Visualizing Distributions**: Use histograms and kernel density estimation (KDE) plots to visualize the distribution of numerical features. This step helps in understanding the central tendency and spread of the data.\n",
        "  \n",
        "- **Categorical Variable Analysis**: Use bar charts to visualize the distribution of categorical features. This is crucial for understanding the frequency of each category and detecting imbalances in the data.\n",
        "\n",
        "- **Correlation Analysis**: Create a heatmap to examine the relationships between numerical variables. This helps in understanding potential dependencies and correlations, which is useful for feature engineering."
      ],
      "metadata": {
        "id": "M9qvbWDeSWxU"
      }
    },
    {
      "cell_type": "code",
      "source": [
        "# Step 6: Visualize Numerical Variables\n",
        "# We want to understand the distribution of numerical variables in our dataset by creating histograms with a kernel density estimation curve."
      ],
      "metadata": {
        "id": "lG5G7dUw3Jlv"
      },
      "execution_count": null,
      "outputs": []
    },
    {
      "cell_type": "code",
      "source": [
        "for column in df.select_dtypes(include=np.number).columns:\n",
        "    sns.histplot(df[column], kde=True)\n",
        "    plt.title(f'Distribution of {column}')\n",
        "    plt.xlabel(column)\n",
        "    plt.ylabel('Frequency')\n",
        "    plt.show()"
      ],
      "metadata": {
        "colab": {
          "base_uri": "https://localhost:8080/",
          "height": 1000
        },
        "id": "EvdMfzg63JoR",
        "outputId": "7126a00e-44a6-470f-a671-eb5dee2efa42"
      },
      "execution_count": null,
      "outputs": [
        {
          "output_type": "display_data",
          "data": {
            "text/plain": [
              "<Figure size 640x480 with 1 Axes>"
            ],
            "image/png": "[encoded data removed]"
          },
          "metadata": {}
        },
        {
          "output_type": "display_data",
          "data": {
            "text/plain": [
              "<Figure size 640x480 with 1 Axes>"
            ],
            "image/png": "[encoded data removed]"
          },
          "metadata": {}
        },
        {
          "output_type": "display_data",
          "data": {
            "text/plain": [
              "<Figure size 640x480 with 1 Axes>"
            ],
            "image/png": "[encoded data removed]"
          },
          "metadata": {}
        },
        {
          "output_type": "display_data",
          "data": {
            "text/plain": [
              "<Figure size 640x480 with 1 Axes>"
            ],
            "image/png": "[encoded data removed]"
          },
          "metadata": {}
        },
        {
          "output_type": "display_data",
          "data": {
            "text/plain": [
              "<Figure size 640x480 with 1 Axes>"
            ],
            "image/png": "[encoded data removed]"
          },
          "metadata": {}
        },
        {
          "output_type": "display_data",
          "data": {
            "text/plain": [
              "<Figure size 640x480 with 1 Axes>"
            ],
            "image/png": "[encoded data removed]"
          },
          "metadata": {}
        }
      ]
    },
    {
      "cell_type": "code",
      "source": [],
      "metadata": {
        "id": "K4s6a5jj3Jqx"
      },
      "execution_count": null,
      "outputs": []
    },
    {
      "cell_type": "code",
      "source": [],
      "metadata": {
        "id": "3HUQ5O8u3JyY"
      },
      "execution_count": null,
      "outputs": []
    },
    {
      "cell_type": "code",
      "source": [
        "# Step 7: Visualize Categorical Variables\n",
        "# Similarly, we visualize the levels of categorical variables using bar charts."
      ],
      "metadata": {
        "id": "cpjBM7fY3J1X"
      },
      "execution_count": null,
      "outputs": []
    },
    {
      "cell_type": "code",
      "source": [
        "for column in df.select_dtypes(include='object').columns:\n",
        "    sns.countplot(x=column, data=df)\n",
        "    plt.title(f'Counts of {column}')\n",
        "    plt.xlabel(column)\n",
        "    plt.ylabel('Count')\n",
        "    plt.xticks(rotation=45)\n",
        "    plt.show()"
      ],
      "metadata": {
        "colab": {
          "base_uri": "https://localhost:8080/",
          "height": 1000
        },
        "id": "wjIZUnzj3VVG",
        "outputId": "2b414d71-96aa-46cb-d35c-6af3c422ccdd"
      },
      "execution_count": null,
      "outputs": [
        {
          "output_type": "display_data",
          "data": {
            "text/plain": [
              "<Figure size 640x480 with 1 Axes>"
            ],
            "image/png": "[encoded data removed]"
          },
          "metadata": {}
        },
        {
          "output_type": "display_data",
          "data": {
            "text/plain": [
              "<Figure size 640x480 with 1 Axes>"
            ],
            "image/png": "[encoded data removed]"
          },
          "metadata": {}
        },
        {
          "output_type": "display_data",
          "data": {
            "text/plain": [
              "<Figure size 640x480 with 1 Axes>"
            ],
            "image/png": "[encoded data removed]"
          },
          "metadata": {}
        },
        {
          "output_type": "display_data",
          "data": {
            "text/plain": [
              "<Figure size 640x480 with 1 Axes>"
            ],
            "image/png": "[encoded data removed]"
          },
          "metadata": {}
        },
        {
          "output_type": "display_data",
          "data": {
            "text/plain": [
              "<Figure size 640x480 with 1 Axes>"
            ],
            "image/png": "[encoded data removed]"
          },
          "metadata": {}
        },
        {
          "output_type": "display_data",
          "data": {
            "text/plain": [
              "<Figure size 640x480 with 1 Axes>"
            ],
            "image/png": "[encoded data removed]"
          },
          "metadata": {}
        },
        {
          "output_type": "display_data",
          "data": {
            "text/plain": [
              "<Figure size 640x480 with 1 Axes>"
            ],
            "image/png": "[encoded data removed]"
          },
          "metadata": {}
        },
        {
          "output_type": "display_data",
          "data": {
            "text/plain": [
              "<Figure size 640x480 with 1 Axes>"
            ],
            "image/png": "[encoded data removed]"
          },
          "metadata": {}
        },
        {
          "output_type": "display_data",
          "data": {
            "text/plain": [
              "<Figure size 640x480 with 1 Axes>"
            ],
            "image/png": "[encoded data removed]"
          },
          "metadata": {}
        }
      ]
    },
    {
      "cell_type": "code",
      "source": [],
      "metadata": {
        "id": "pIVFpStp3VX6"
      },
      "execution_count": null,
      "outputs": []
    },
    {
      "cell_type": "code",
      "source": [],
      "metadata": {
        "id": "RIczyHuu3VaQ"
      },
      "execution_count": null,
      "outputs": []
    },
    {
      "cell_type": "code",
      "source": [
        "# Step 8: Check Correlations\n",
        "# Now, we want to see if there are any relationships between our numerical variables by creating a correlation matrix."
      ],
      "metadata": {
        "id": "gls-MLnv3Vc1"
      },
      "execution_count": null,
      "outputs": []
    },
    {
      "cell_type": "code",
      "source": [
        "correlation_matrix = df.corr()\n",
        "sns.heatmap(correlation_matrix, annot=True, cmap='coolwarm', linewidths=0.5)\n",
        "plt.title('Correlation Matrix')\n",
        "plt.show()"
      ],
      "metadata": {
        "colab": {
          "base_uri": "https://localhost:8080/",
          "height": 603
        },
        "id": "TG9rUAoe3VfK",
        "outputId": "dfc7351b-8d5f-459e-e81a-77a93cc1724a"
      },
      "execution_count": null,
      "outputs": [
        {
          "output_type": "stream",
          "name": "stderr",
          "text": [
            "<ipython-input-22-6175d103b930>:1: FutureWarning: The default value of numeric_only in DataFrame.corr is deprecated. In a future version, it will default to False. Select only valid columns or specify the value of numeric_only to silence this warning.\n",
            "  correlation_matrix = df.corr()\n"
          ]
        },
        {
          "output_type": "display_data",
          "data": {
            "text/plain": [
              "<Figure size 640x480 with 2 Axes>"
            ],
            "image/png": "[encoded data removed]"
          },
          "metadata": {}
        }
      ]
    },
    {
      "cell_type": "markdown",
      "source": [
        "----"
      ],
      "metadata": {
        "id": "NE-y7UyVSZdr"
      }
    },
    {
      "cell_type": "code",
      "source": [],
      "metadata": {
        "id": "Ish3mCsJ3Vhp"
      },
      "execution_count": null,
      "outputs": []
    },
    {
      "cell_type": "code",
      "source": [],
      "metadata": {
        "id": "tQfB_otj3VmT"
      },
      "execution_count": null,
      "outputs": []
    },
    {
      "cell_type": "code",
      "source": [],
      "metadata": {
        "id": "WDe6Sk7PSbiT"
      },
      "execution_count": null,
      "outputs": []
    },
    {
      "cell_type": "markdown",
      "source": [
        "---"
      ],
      "metadata": {
        "id": "9LxhV16DSgis"
      }
    },
    {
      "cell_type": "markdown",
      "source": [
        "# 🧹 **3. Data Preprocessing**\n",
        "\n",
        "### **Objective:**\n",
        "Data preprocessing ensures that the dataset is in a suitable format for machine learning models. This step involves scaling numerical features, encoding categorical variables, and transforming data into formats that models can work with.\n",
        "\n",
        "### **Key Activities:**\n",
        "\n",
        "- **Feature Scaling**: Standardize numerical features using `StandardScaler` to normalize the data. This ensures that features are on the same scale, preventing certain features from dominating the model.\n",
        "\n",
        "- **One-Hot Encoding**: Transform categorical variables into numerical format using one-hot encoding. This step is necessary for machine learning models, as most models require numerical input."
      ],
      "metadata": {
        "id": "W-z8tpiAShgc"
      }
    },
    {
      "cell_type": "code",
      "source": [
        "# Step 9: Handle Missing Values\n",
        "# We need to address any missing values in our dataset. Here, we choose to fill missing numerical values with the mean of each column."
      ],
      "metadata": {
        "id": "_Ttt35dJ3VpX"
      },
      "execution_count": null,
      "outputs": []
    },
    {
      "cell_type": "code",
      "source": [
        "df.fillna(df.mean(numeric_only=True), inplace=True)"
      ],
      "metadata": {
        "id": "_S4kwKrN4wQi"
      },
      "execution_count": null,
      "outputs": []
    },
    {
      "cell_type": "code",
      "source": [
        "# Explanation: Missing values can cause issues in our analysis, so we fill them with the mean of each numerical column. This ensures that our analysis isn't affected by missing data."
      ],
      "metadata": {
        "id": "IM1n-NCL4wat"
      },
      "execution_count": null,
      "outputs": []
    },
    {
      "cell_type": "code",
      "source": [],
      "metadata": {
        "id": "EHTsvVZu4wdn"
      },
      "execution_count": null,
      "outputs": []
    },
    {
      "cell_type": "code",
      "source": [
        "# Step 10: Handle Duplicate Values\n",
        "# We check for and remove any duplicate rows in our dataset to ensure data integrity and avoid bias in our analysis.\n"
      ],
      "metadata": {
        "id": "BmGWUA1q4wft"
      },
      "execution_count": null,
      "outputs": []
    },
    {
      "cell_type": "code",
      "source": [
        "df.drop_duplicates(inplace=True)"
      ],
      "metadata": {
        "id": "fX_np1VH4wii"
      },
      "execution_count": null,
      "outputs": []
    },
    {
      "cell_type": "code",
      "source": [
        "# Explanation: Duplicate rows can skew our analysis and lead to biased results. By removing duplicates, we ensure that each observation in our dataset is unique and representative.\n"
      ],
      "metadata": {
        "id": "V0CRUtPS4wlC"
      },
      "execution_count": null,
      "outputs": []
    },
    {
      "cell_type": "code",
      "source": [],
      "metadata": {
        "id": "NpShI02Q4wnr"
      },
      "execution_count": null,
      "outputs": []
    },
    {
      "cell_type": "code",
      "source": [
        "# Step 11: Handle Categorical Variables\n",
        "# We convert categorical variables into numerical form using one-hot encoding to make them suitable for analysis by machine learning algorithms.\n"
      ],
      "metadata": {
        "id": "LiDdntJt4wqG"
      },
      "execution_count": null,
      "outputs": []
    },
    {
      "cell_type": "code",
      "source": [
        "df = pd.get_dummies(df, drop_first=True)"
      ],
      "metadata": {
        "id": "aWVTBEwO5CMv"
      },
      "execution_count": null,
      "outputs": []
    },
    {
      "cell_type": "code",
      "source": [],
      "metadata": {
        "id": "UHZcX3KZ5CPp"
      },
      "execution_count": null,
      "outputs": []
    },
    {
      "cell_type": "code",
      "source": [
        "# Step 12: Handle Outliers\n",
        "# Outliers can skew our analysis, so we detect and handle them using the Interquartile Range (IQR) method."
      ],
      "metadata": {
        "id": "ipxJC8pG5CS5"
      },
      "execution_count": null,
      "outputs": []
    },
    {
      "cell_type": "code",
      "source": [
        "from scipy.stats import zscore"
      ],
      "metadata": {
        "id": "wL1jhbQt5CgW"
      },
      "execution_count": null,
      "outputs": []
    },
    {
      "cell_type": "code",
      "source": [
        "# Calculate Z-scores for numerical features"
      ],
      "metadata": {
        "id": "onb10-wn-t3t"
      },
      "execution_count": null,
      "outputs": []
    },
    {
      "cell_type": "code",
      "source": [
        "z_scores = X_train.apply(zscore)"
      ],
      "metadata": {
        "id": "BWm9qzaH-t6U"
      },
      "execution_count": null,
      "outputs": []
    },
    {
      "cell_type": "code",
      "source": [
        "# Set threshold for Z-score (e.g., 3 or -3)"
      ],
      "metadata": {
        "id": "LHdxNyVE-0m_"
      },
      "execution_count": null,
      "outputs": []
    },
    {
      "cell_type": "code",
      "source": [
        "threshold = 3"
      ],
      "metadata": {
        "id": "n0Ez1C3E-0ql"
      },
      "execution_count": null,
      "outputs": []
    },
    {
      "cell_type": "code",
      "source": [
        "# Identify outliers based on Z-score"
      ],
      "metadata": {
        "id": "wib-n9Xg-0tp"
      },
      "execution_count": null,
      "outputs": []
    },
    {
      "cell_type": "code",
      "source": [
        "outliers = (z_scores > threshold) | (z_scores < -threshold)"
      ],
      "metadata": {
        "id": "Xr0BSi24-t9Y"
      },
      "execution_count": null,
      "outputs": []
    },
    {
      "cell_type": "code",
      "source": [
        "# Flag outliers in the dataset"
      ],
      "metadata": {
        "id": "82FEwyqO_AWq"
      },
      "execution_count": null,
      "outputs": []
    },
    {
      "cell_type": "code",
      "source": [
        "X_train_outliers = X_train.copy()"
      ],
      "metadata": {
        "id": "J2aUUPkI_AZl"
      },
      "execution_count": null,
      "outputs": []
    },
    {
      "cell_type": "code",
      "source": [
        "X_train_outliers[outliers] = np.nan"
      ],
      "metadata": {
        "id": "mPOSwNqB_AdF"
      },
      "execution_count": null,
      "outputs": []
    },
    {
      "cell_type": "code",
      "source": [
        "# Display dataset with flagged outliers"
      ],
      "metadata": {
        "id": "aHy7h21b_AgF"
      },
      "execution_count": null,
      "outputs": []
    },
    {
      "cell_type": "code",
      "source": [
        "print(\"Data with flagged outliers:\")"
      ],
      "metadata": {
        "colab": {
          "base_uri": "https://localhost:8080/"
        },
        "id": "5shqKMC3_Lo9",
        "outputId": "c1eb8144-3be6-4df4-ba29-0e9247c4647b"
      },
      "execution_count": null,
      "outputs": [
        {
          "output_type": "stream",
          "name": "stdout",
          "text": [
            "Data with flagged outliers:\n"
          ]
        }
      ]
    },
    {
      "cell_type": "code",
      "source": [
        "print(X_train_outliers)"
      ],
      "metadata": {
        "colab": {
          "base_uri": "https://localhost:8080/"
        },
        "id": "hKShKnpx_LsY",
        "outputId": "404f73bf-b107-44a4-893d-3465a9ab5a47"
      },
      "execution_count": null,
      "outputs": [
        {
          "output_type": "stream",
          "name": "stdout",
          "text": [
            "            age    fnlwgt  education-num  capital-gain  capital-loss  \\\n",
            "25099 -1.687182 -1.387830       0.370810           0.0           0.0   \n",
            "5652   0.520999  0.046638       0.370810           0.0           0.0   \n",
            "25813  0.520999 -1.712215       0.370810           0.0           0.0   \n",
            "29737  0.910678 -0.452216      -2.696799           0.0           0.0   \n",
            "12334  0.910678 -0.446927       0.370810           0.0           0.0   \n",
            "...         ...       ...            ...           ...           ...   \n",
            "8636   1.105518 -0.816872       0.370810           0.0           0.0   \n",
            "24318 -0.648038 -0.712469       0.370810           0.0           0.0   \n",
            "27038 -1.687182  1.659335       0.370810           0.0           0.0   \n",
            "5529   0.910678  0.582920       0.370810           0.0           0.0   \n",
            "21039 -0.907824 -1.806788       0.370810           0.0           0.0   \n",
            "\n",
            "       hours-per-week  workclass_Federal-gov  workclass_Local-gov  \\\n",
            "25099       -0.027540                    0.0                  0.0   \n",
            "5652        -0.027540                    0.0                  0.0   \n",
            "25813       -0.027540                    0.0                  0.0   \n",
            "29737       -0.027540                    0.0                  0.0   \n",
            "12334       -0.027540                    0.0                  0.0   \n",
            "...               ...                    ...                  ...   \n",
            "8636        -0.027540                    0.0                  0.0   \n",
            "24318       -0.027540                    0.0                  0.0   \n",
            "27038        2.060891                    0.0                  0.0   \n",
            "5529              NaN                    0.0                  0.0   \n",
            "21039       -0.027540                    0.0                  0.0   \n",
            "\n",
            "       workclass_Never-worked  workclass_Private  ...  \\\n",
            "25099                     0.0                0.0  ...   \n",
            "5652                      0.0                0.0  ...   \n",
            "25813                     0.0                0.0  ...   \n",
            "29737                     0.0                0.0  ...   \n",
            "12334                     0.0                0.0  ...   \n",
            "...                       ...                ...  ...   \n",
            "8636                      0.0                0.0  ...   \n",
            "24318                     0.0                0.0  ...   \n",
            "27038                     0.0                0.0  ...   \n",
            "5529                      0.0                0.0  ...   \n",
            "21039                     0.0                0.0  ...   \n",
            "\n",
            "       native-country_Portugal  native-country_Puerto-Rico  \\\n",
            "25099                      0.0                         0.0   \n",
            "5652                       0.0                         0.0   \n",
            "25813                      0.0                         0.0   \n",
            "29737                      0.0                         0.0   \n",
            "12334                      0.0                         0.0   \n",
            "...                        ...                         ...   \n",
            "8636                       0.0                         0.0   \n",
            "24318                      0.0                         0.0   \n",
            "27038                      0.0                         0.0   \n",
            "5529                       0.0                         0.0   \n",
            "21039                      0.0                         0.0   \n",
            "\n",
            "       native-country_Scotland  native-country_South  native-country_Taiwan  \\\n",
            "25099                      0.0                   0.0                    0.0   \n",
            "5652                       0.0                   0.0                    0.0   \n",
            "25813                      0.0                   0.0                    0.0   \n",
            "29737                      0.0                   0.0                    0.0   \n",
            "12334                      0.0                   0.0                    0.0   \n",
            "...                        ...                   ...                    ...   \n",
            "8636                       0.0                   0.0                    0.0   \n",
            "24318                      0.0                   0.0                    0.0   \n",
            "27038                      0.0                   0.0                    0.0   \n",
            "5529                       0.0                   0.0                    0.0   \n",
            "21039                      0.0                   0.0                    0.0   \n",
            "\n",
            "       native-country_Thailand  native-country_Trinadad&Tobago  \\\n",
            "25099                      0.0                             0.0   \n",
            "5652                       0.0                             0.0   \n",
            "25813                      0.0                             0.0   \n",
            "29737                      0.0                             0.0   \n",
            "12334                      0.0                             0.0   \n",
            "...                        ...                             ...   \n",
            "8636                       0.0                             0.0   \n",
            "24318                      0.0                             0.0   \n",
            "27038                      0.0                             0.0   \n",
            "5529                       0.0                             0.0   \n",
            "21039                      0.0                             0.0   \n",
            "\n",
            "       native-country_United-States  native-country_Vietnam  \\\n",
            "25099                           0.0                     0.0   \n",
            "5652                            0.0                     0.0   \n",
            "25813                           0.0                     0.0   \n",
            "29737                           0.0                     0.0   \n",
            "12334                           0.0                     0.0   \n",
            "...                             ...                     ...   \n",
            "8636                            0.0                     0.0   \n",
            "24318                           0.0                     0.0   \n",
            "27038                           0.0                     0.0   \n",
            "5529                            0.0                     0.0   \n",
            "21039                           0.0                     0.0   \n",
            "\n",
            "       native-country_Yugoslavia  \n",
            "25099                        0.0  \n",
            "5652                         0.0  \n",
            "25813                        0.0  \n",
            "29737                        0.0  \n",
            "12334                        0.0  \n",
            "...                          ...  \n",
            "8636                         0.0  \n",
            "24318                        0.0  \n",
            "27038                        0.0  \n",
            "5529                         0.0  \n",
            "21039                        0.0  \n",
            "\n",
            "[72 rows x 100 columns]\n"
          ]
        }
      ]
    },
    {
      "cell_type": "code",
      "source": [],
      "metadata": {
        "id": "ZMihlJnT-uAT"
      },
      "execution_count": null,
      "outputs": []
    },
    {
      "cell_type": "code",
      "source": [
        "# Step 13: Feature Scaling\n",
        "# Finally, we scale our numerical features to a standard scale to ensure that they have a similar influence on our analysis."
      ],
      "metadata": {
        "id": "VKJZnCmI5Vg8"
      },
      "execution_count": null,
      "outputs": []
    },
    {
      "cell_type": "code",
      "source": [
        "from sklearn.preprocessing import StandardScaler"
      ],
      "metadata": {
        "id": "1S0FTpyW5VkO"
      },
      "execution_count": null,
      "outputs": []
    },
    {
      "cell_type": "code",
      "source": [
        "scaler = StandardScaler()"
      ],
      "metadata": {
        "id": "dMQEO4Ha5VnB"
      },
      "execution_count": null,
      "outputs": []
    },
    {
      "cell_type": "code",
      "source": [
        "scaled_df = df.copy()  # Create a copy of the DataFrame to store the scaled data"
      ],
      "metadata": {
        "id": "XV6I8xCU5Vt8"
      },
      "execution_count": null,
      "outputs": []
    },
    {
      "cell_type": "code",
      "source": [
        "scaled_df[df.select_dtypes(include=np.number).columns] = scaler.fit_transform(df.select_dtypes(include=np.number))"
      ],
      "metadata": {
        "id": "w6yXqrhS50p4"
      },
      "execution_count": null,
      "outputs": []
    },
    {
      "cell_type": "code",
      "source": [],
      "metadata": {
        "id": "2l2zPW4K50sx"
      },
      "execution_count": null,
      "outputs": []
    },
    {
      "cell_type": "code",
      "source": [
        "# Save the scaled data to a CSV file"
      ],
      "metadata": {
        "id": "TibsYOJG5Vv-"
      },
      "execution_count": null,
      "outputs": []
    },
    {
      "cell_type": "code",
      "source": [
        "scaled_df.to_csv('/content/scaled_data.csv', index=False)"
      ],
      "metadata": {
        "id": "WfIxs0iN5oZ-"
      },
      "execution_count": null,
      "outputs": []
    },
    {
      "cell_type": "code",
      "source": [],
      "metadata": {
        "id": "McQFasj_5oeK"
      },
      "execution_count": null,
      "outputs": []
    },
    {
      "cell_type": "code",
      "source": [
        "# Summary:\n",
        "# This notebook guides us through the process of exploring our dataset, from loading and inspecting the data to handling missing values, duplicates, outliers, and scaling features.\n",
        "# Each step is explained in simple terms to make it accessible to beginners."
      ],
      "metadata": {
        "id": "w8UDhOv35ohO"
      },
      "execution_count": null,
      "outputs": []
    },
    {
      "cell_type": "markdown",
      "source": [
        "---"
      ],
      "metadata": {
        "id": "v17NC3IrSs3M"
      }
    },
    {
      "cell_type": "code",
      "source": [],
      "metadata": {
        "id": "a_jlbbKs5ojt"
      },
      "execution_count": null,
      "outputs": []
    },
    {
      "cell_type": "code",
      "source": [],
      "metadata": {
        "id": "Cgepysfi6Rw7"
      },
      "execution_count": null,
      "outputs": []
    },
    {
      "cell_type": "code",
      "source": [],
      "metadata": {
        "id": "G5vXp4N76RzZ"
      },
      "execution_count": null,
      "outputs": []
    },
    {
      "cell_type": "markdown",
      "source": [
        "---"
      ],
      "metadata": {
        "id": "dSbwemVsSxTZ"
      }
    },
    {
      "cell_type": "markdown",
      "source": [
        "# *2. POSSIBLE TASKS*"
      ],
      "metadata": {
        "id": "6TKgOrmJ6S9J"
      }
    },
    {
      "cell_type": "markdown",
      "source": [
        "----"
      ],
      "metadata": {
        "id": "6GKxBWI6SygG"
      }
    },
    {
      "cell_type": "code",
      "source": [],
      "metadata": {
        "id": "GvF5MkWz6R1l"
      },
      "execution_count": null,
      "outputs": []
    },
    {
      "cell_type": "markdown",
      "source": [
        "---"
      ],
      "metadata": {
        "id": "lZ37ihIyS0jd"
      }
    },
    {
      "cell_type": "markdown",
      "source": [
        "# 🧠 **4. Predictive Modeling**\n",
        "\n",
        "### **Objective:**\n",
        "Predictive modeling is used to build a model that can predict the target variable (e.g., income level) based on input features. This step will involve training and evaluating a Logistic Regression model.\n",
        "\n",
        "### **Key Activities:**\n",
        "\n",
        "- **Logistic Regression**: Implement Logistic Regression to predict binary income levels (e.g., income >50K or <=50K). This model is suitable for classification tasks where the output is categorical.\n",
        "\n",
        "- **Model Evaluation**: Evaluate the performance of the Logistic Regression model using:\n",
        "  - **Accuracy**: The percentage of correctly classified instances.\n",
        "  - **Classification Report**: This provides detailed performance metrics like precision, recall, and F1-score.\n",
        "  - **Confusion Matrix**: A visual tool to show the number of true positives, false positives, true negatives, and false negatives."
      ],
      "metadata": {
        "id": "jje76PEVS3b1"
      }
    },
    {
      "cell_type": "markdown",
      "source": [
        "# * PREDICTING INCOME LEVEL*\n",
        "\n",
        "> Indented block\n",
        "\n"
      ],
      "metadata": {
        "id": "4EP_o72F70BC"
      }
    },
    {
      "cell_type": "code",
      "source": [
        "# Step 1: Import Necessary Libraries\n",
        "# We start by importing the required libraries for data manipulation, visualization, and machine learning."
      ],
      "metadata": {
        "id": "ZnDyHAHAAlbc"
      },
      "execution_count": null,
      "outputs": []
    },
    {
      "cell_type": "code",
      "source": [],
      "metadata": {
        "id": "8gLb8kZRAlon"
      },
      "execution_count": null,
      "outputs": []
    },
    {
      "cell_type": "code",
      "source": [
        "import pandas as pd  # This library is essential for data manipulation and analysis."
      ],
      "metadata": {
        "id": "3qPvFsVZAlsG"
      },
      "execution_count": null,
      "outputs": []
    },
    {
      "cell_type": "code",
      "source": [
        "from sklearn.model_selection import train_test_split  # This function is used to split the dataset into training and testing sets."
      ],
      "metadata": {
        "id": "qtfp5H-fAlvQ"
      },
      "execution_count": null,
      "outputs": []
    },
    {
      "cell_type": "code",
      "source": [
        "from sklearn.preprocessing import StandardScaler  # StandardScaler is used for feature scaling."
      ],
      "metadata": {
        "id": "jn-HJWsMAlyV"
      },
      "execution_count": null,
      "outputs": []
    },
    {
      "cell_type": "code",
      "source": [
        "from sklearn.linear_model import LogisticRegression  # LogisticRegression is a classification algorithm suitable for binary classification tasks."
      ],
      "metadata": {
        "id": "DcMIfyaWAl2S"
      },
      "execution_count": null,
      "outputs": []
    },
    {
      "cell_type": "code",
      "source": [
        "from sklearn.metrics import accuracy_score, classification_report, confusion_matrix  # These functions are used to evaluate the performance of the model."
      ],
      "metadata": {
        "id": "FErqcMW0Al5S"
      },
      "execution_count": null,
      "outputs": []
    },
    {
      "cell_type": "code",
      "source": [],
      "metadata": {
        "id": "FPJpWpaMAl9G"
      },
      "execution_count": null,
      "outputs": []
    },
    {
      "cell_type": "code",
      "source": [
        "# Step 2: Load the Data\n",
        "# Loading the dataset into a pandas DataFrame is crucial to begin our analysis."
      ],
      "metadata": {
        "id": "dwkPmbZoB5W_"
      },
      "execution_count": null,
      "outputs": []
    },
    {
      "cell_type": "code",
      "source": [
        "df = pd.read_csv('/content/adult.data.csv')  # We read the data from a CSV file and store it in a pandas DataFrame."
      ],
      "metadata": {
        "id": "Kj4N2S0DB5Z0"
      },
      "execution_count": null,
      "outputs": []
    },
    {
      "cell_type": "code",
      "source": [],
      "metadata": {
        "id": "OOiahWdxB5dA"
      },
      "execution_count": null,
      "outputs": []
    },
    {
      "cell_type": "code",
      "source": [
        "# step 3: Split the dataset into features (X) and the target variable (y)."
      ],
      "metadata": {
        "id": "BTHkci09B5hR"
      },
      "execution_count": null,
      "outputs": []
    },
    {
      "cell_type": "code",
      "source": [
        "X = df.drop('salary', axis=1)  # Features (independent variables) are all columns except 'salary'."
      ],
      "metadata": {
        "id": "KvAmWOsZB5mf"
      },
      "execution_count": null,
      "outputs": []
    },
    {
      "cell_type": "code",
      "source": [
        "y = df['salary']  # Target variable (dependent variable) is 'salary'."
      ],
      "metadata": {
        "id": "HB8Td3TMB5pI"
      },
      "execution_count": null,
      "outputs": []
    },
    {
      "cell_type": "code",
      "source": [],
      "metadata": {
        "id": "aOnqRA2iB5rK"
      },
      "execution_count": null,
      "outputs": []
    },
    {
      "cell_type": "code",
      "source": [
        "# Step 4: Split the Data\n",
        "# Splitting the dataset into training and testing sets allows us to train the model on one set and evaluate its performance on another, unseen set.\n"
      ],
      "metadata": {
        "id": "4T4PMnXpB5vb"
      },
      "execution_count": null,
      "outputs": []
    },
    {
      "cell_type": "code",
      "source": [
        "X_train, X_test, y_train, y_test = train_test_split(X, y, test_size=0.2, random_state=42)  # We split the data into 80% training and 20% testing sets."
      ],
      "metadata": {
        "id": "YkpF2Td-B5xo"
      },
      "execution_count": null,
      "outputs": []
    },
    {
      "cell_type": "code",
      "source": [],
      "metadata": {
        "id": "m2kzGOQfB5za"
      },
      "execution_count": null,
      "outputs": []
    },
    {
      "cell_type": "code",
      "source": [
        "# Step 5: Feature Scaling\n",
        "# Scaling numerical features ensures they have a similar scale, preventing features with larger magnitudes from dominating the model's learning process."
      ],
      "metadata": {
        "id": "ZK_Ft_jpCU5i"
      },
      "execution_count": null,
      "outputs": []
    },
    {
      "cell_type": "code",
      "source": [
        "# Identify numerical columns\n",
        "numerical_columns = X_train.select_dtypes(include=['int64', 'float64']).columns"
      ],
      "metadata": {
        "id": "_YUBxhUKCVDo"
      },
      "execution_count": null,
      "outputs": []
    },
    {
      "cell_type": "code",
      "source": [
        "# Initialize the StandardScaler.\n",
        "scaler = StandardScaler()"
      ],
      "metadata": {
        "id": "QvJvB2_vCVG8"
      },
      "execution_count": null,
      "outputs": []
    },
    {
      "cell_type": "code",
      "source": [],
      "metadata": {
        "id": "Uw0luYt8CVLa"
      },
      "execution_count": null,
      "outputs": []
    },
    {
      "cell_type": "code",
      "source": [
        "# Fit and transform the training features, scaling only the numerical columns."
      ],
      "metadata": {
        "id": "F-OnroXoCVNZ"
      },
      "execution_count": null,
      "outputs": []
    },
    {
      "cell_type": "code",
      "source": [
        "X_train_scaled = X_train.copy()"
      ],
      "metadata": {
        "id": "gR0wLcFQC5sE"
      },
      "execution_count": null,
      "outputs": []
    },
    {
      "cell_type": "code",
      "source": [
        "X_train_scaled[numerical_columns] = scaler.fit_transform(X_train_scaled[numerical_columns])"
      ],
      "metadata": {
        "id": "vo7HqTD0C5vI"
      },
      "execution_count": null,
      "outputs": []
    },
    {
      "cell_type": "code",
      "source": [],
      "metadata": {
        "id": "XlV65LLrC5y7"
      },
      "execution_count": null,
      "outputs": []
    },
    {
      "cell_type": "code",
      "source": [
        "# Transform the testing features using the same scaler, scaling only the numerical columns."
      ],
      "metadata": {
        "id": "OvL3R6pDC52Z"
      },
      "execution_count": null,
      "outputs": []
    },
    {
      "cell_type": "code",
      "source": [
        "X_test_scaled = X_test.copy()"
      ],
      "metadata": {
        "id": "RTdJj0RaC55q"
      },
      "execution_count": null,
      "outputs": []
    },
    {
      "cell_type": "code",
      "source": [
        "X_test_scaled[numerical_columns] = scaler.transform(X_test_scaled[numerical_columns])"
      ],
      "metadata": {
        "id": "Hz97xsoNC5-r"
      },
      "execution_count": null,
      "outputs": []
    },
    {
      "cell_type": "code",
      "source": [],
      "metadata": {
        "id": "0A93d6TuC6C9"
      },
      "execution_count": null,
      "outputs": []
    },
    {
      "cell_type": "code",
      "source": [
        "# Step 6: Encode Categorical Variables\n",
        "# Since logistic regression cannot handle categorical variables directly, we encode them using one-hot encoding."
      ],
      "metadata": {
        "id": "Gow8ERrLC6FC"
      },
      "execution_count": null,
      "outputs": []
    },
    {
      "cell_type": "code",
      "source": [
        "# Identify categorical columns\n",
        "categorical_columns = X_train.select_dtypes(include=['object']).columns"
      ],
      "metadata": {
        "id": "vcFyj9tRDOpr"
      },
      "execution_count": null,
      "outputs": []
    },
    {
      "cell_type": "code",
      "source": [],
      "metadata": {
        "id": "fUyjwfovDOtY"
      },
      "execution_count": null,
      "outputs": []
    },
    {
      "cell_type": "code",
      "source": [
        "# Apply one-hot encoding to categorical columns"
      ],
      "metadata": {
        "id": "5Nkx0eGUDOxQ"
      },
      "execution_count": null,
      "outputs": []
    },
    {
      "cell_type": "code",
      "source": [
        "X_train_encoded = pd.get_dummies(X_train_scaled, columns=categorical_columns, drop_first=True)"
      ],
      "metadata": {
        "id": "dQgPlZ3VDyd5"
      },
      "execution_count": null,
      "outputs": []
    },
    {
      "cell_type": "code",
      "source": [
        "X_test_encoded = pd.get_dummies(X_test_scaled, columns=categorical_columns, drop_first=True)"
      ],
      "metadata": {
        "id": "9mmOl4rmDyhJ"
      },
      "execution_count": null,
      "outputs": []
    },
    {
      "cell_type": "code",
      "source": [],
      "metadata": {
        "id": "vFy3AOhsDykK"
      },
      "execution_count": null,
      "outputs": []
    },
    {
      "cell_type": "code",
      "source": [
        "# Step 7: Model Selection and Training\n",
        "# We choose logistic regression as our classification algorithm and train it on the encoded training data."
      ],
      "metadata": {
        "id": "Vlhoo-UMD76c"
      },
      "execution_count": null,
      "outputs": []
    },
    {
      "cell_type": "code",
      "source": [
        "model = LogisticRegression()  # Initialize the logistic regression model."
      ],
      "metadata": {
        "id": "z6NMCEmOD79z"
      },
      "execution_count": null,
      "outputs": []
    },
    {
      "cell_type": "code",
      "source": [
        "model.fit(X_train_encoded, y_train)  # Train the model on the encoded training data."
      ],
      "metadata": {
        "colab": {
          "base_uri": "https://localhost:8080/",
          "height": 223
        },
        "id": "LmuPYv6WD8A-",
        "outputId": "c3fdfc8e-0863-44f5-9175-4ebefd2fbb61"
      },
      "execution_count": null,
      "outputs": [
        {
          "output_type": "stream",
          "name": "stderr",
          "text": [
            "/usr/local/lib/python3.10/dist-packages/sklearn/linear_model/_logistic.py:458: ConvergenceWarning: lbfgs failed to converge (status=1):\n",
            "STOP: TOTAL NO. of ITERATIONS REACHED LIMIT.\n",
            "\n",
            "Increase the number of iterations (max_iter) or scale the data as shown in:\n",
            "    https://scikit-learn.org/stable/modules/preprocessing.html\n",
            "Please also refer to the documentation for alternative solver options:\n",
            "    https://scikit-learn.org/stable/modules/linear_model.html#logistic-regression\n",
            "  n_iter_i = _check_optimize_result(\n"
          ]
        },
        {
          "output_type": "execute_result",
          "data": {
            "text/plain": [
              "LogisticRegression()"
            ],
            "text/html": [
              "<style>#sk-container-id-2 {color: black;background-color: white;}#sk-container-id-2 pre{padding: 0;}#sk-container-id-2 div.sk-toggleable {background-color: white;}#sk-container-id-2 label.sk-toggleable__label {cursor: pointer;display: block;width: 100%;margin-bottom: 0;padding: 0.3em;box-sizing: border-box;text-align: center;}#sk-container-id-2 label.sk-toggleable__label-arrow:before {content: \"▸\";float: left;margin-right: 0.25em;color: #696969;}#sk-container-id-2 label.sk-toggleable__label-arrow:hover:before {color: black;}#sk-container-id-2 div.sk-estimator:hover label.sk-toggleable__label-arrow:before {color: black;}#sk-container-id-2 div.sk-toggleable__content {max-height: 0;max-width: 0;overflow: hidden;text-align: left;background-color: #f0f8ff;}#sk-container-id-2 div.sk-toggleable__content pre {margin: 0.2em;color: black;border-radius: 0.25em;background-color: #f0f8ff;}#sk-container-id-2 input.sk-toggleable__control:checked~div.sk-toggleable__content {max-height: 200px;max-width: 100%;overflow: auto;}#sk-container-id-2 input.sk-toggleable__control:checked~label.sk-toggleable__label-arrow:before {content: \"▾\";}#sk-container-id-2 div.sk-estimator input.sk-toggleable__control:checked~label.sk-toggleable__label {background-color: #d4ebff;}#sk-container-id-2 div.sk-label input.sk-toggleable__control:checked~label.sk-toggleable__label {background-color: #d4ebff;}#sk-container-id-2 input.sk-hidden--visually {border: 0;clip: rect(1px 1px 1px 1px);clip: rect(1px, 1px, 1px, 1px);height: 1px;margin: -1px;overflow: hidden;padding: 0;position: absolute;width: 1px;}#sk-container-id-2 div.sk-estimator {font-family: monospace;background-color: #f0f8ff;border: 1px dotted black;border-radius: 0.25em;box-sizing: border-box;margin-bottom: 0.5em;}#sk-container-id-2 div.sk-estimator:hover {background-color: #d4ebff;}#sk-container-id-2 div.sk-parallel-item::after {content: \"\";width: 100%;border-bottom: 1px solid gray;flex-grow: 1;}#sk-container-id-2 div.sk-label:hover label.sk-toggleable__label {background-color: #d4ebff;}#sk-container-id-2 div.sk-serial::before {content: \"\";position: absolute;border-left: 1px solid gray;box-sizing: border-box;top: 0;bottom: 0;left: 50%;z-index: 0;}#sk-container-id-2 div.sk-serial {display: flex;flex-direction: column;align-items: center;background-color: white;padding-right: 0.2em;padding-left: 0.2em;position: relative;}#sk-container-id-2 div.sk-item {position: relative;z-index: 1;}#sk-container-id-2 div.sk-parallel {display: flex;align-items: stretch;justify-content: center;background-color: white;position: relative;}#sk-container-id-2 div.sk-item::before, #sk-container-id-2 div.sk-parallel-item::before {content: \"\";position: absolute;border-left: 1px solid gray;box-sizing: border-box;top: 0;bottom: 0;left: 50%;z-index: -1;}#sk-container-id-2 div.sk-parallel-item {display: flex;flex-direction: column;z-index: 1;position: relative;background-color: white;}#sk-container-id-2 div.sk-parallel-item:first-child::after {align-self: flex-end;width: 50%;}#sk-container-id-2 div.sk-parallel-item:last-child::after {align-self: flex-start;width: 50%;}#sk-container-id-2 div.sk-parallel-item:only-child::after {width: 0;}#sk-container-id-2 div.sk-dashed-wrapped {border: 1px dashed gray;margin: 0 0.4em 0.5em 0.4em;box-sizing: border-box;padding-bottom: 0.4em;background-color: white;}#sk-container-id-2 div.sk-label label {font-family: monospace;font-weight: bold;display: inline-block;line-height: 1.2em;}#sk-container-id-2 div.sk-label-container {text-align: center;}#sk-container-id-2 div.sk-container {/* jupyter's `normalize.less` sets `[hidden] { display: none; }` but bootstrap.min.css set `[hidden] { display: none !important; }` so we also need the `!important` here to be able to override the default hidden behavior on the sphinx rendered scikit-learn.org. See: https://github.com/scikit-learn/scikit-learn/issues/21755 */display: inline-block !important;position: relative;}#sk-container-id-2 div.sk-text-repr-fallback {display: none;}</style><div id=\"sk-container-id-2\" class=\"sk-top-container\"><div class=\"sk-text-repr-fallback\"><pre>LogisticRegression()</pre><b>In a Jupyter environment, please rerun this cell to show the HTML representation or trust the notebook. <br />On GitHub, the HTML representation is unable to render, please try loading this page with nbviewer.org.</b></div><div class=\"sk-container\" hidden><div class=\"sk-item\"><div class=\"sk-estimator sk-toggleable\"><input class=\"sk-toggleable__control sk-hidden--visually\" id=\"sk-estimator-id-2\" type=\"checkbox\" checked><label for=\"sk-estimator-id-2\" class=\"sk-toggleable__label sk-toggleable__label-arrow\">LogisticRegression</label><div class=\"sk-toggleable__content\"><pre>LogisticRegression()</pre></div></div></div></div></div>"
            ]
          },
          "metadata": {},
          "execution_count": 154
        }
      ]
    },
    {
      "cell_type": "code",
      "source": [],
      "metadata": {
        "id": "ebT_WyGeEYgE"
      },
      "execution_count": null,
      "outputs": []
    },
    {
      "cell_type": "code",
      "source": [
        "# Step 8: Predictions and Evaluation\n",
        "# We make predictions on the test set and evaluate the model's performance using various metrics."
      ],
      "metadata": {
        "id": "TZweBi6wEY3J"
      },
      "execution_count": null,
      "outputs": []
    },
    {
      "cell_type": "code",
      "source": [
        "# Apply one-hot encoding to the entire dataset (training + testing) to ensure consistency in feature names\n",
        "combined_data = pd.concat([X_train_scaled, X_test_scaled], axis=0)"
      ],
      "metadata": {
        "id": "zT_VsFr3D8KO"
      },
      "execution_count": null,
      "outputs": []
    },
    {
      "cell_type": "code",
      "source": [
        "combined_encoded = pd.get_dummies(combined_data, columns=categorical_columns, drop_first=True)"
      ],
      "metadata": {
        "id": "XV4HDPv9E8S_"
      },
      "execution_count": null,
      "outputs": []
    },
    {
      "cell_type": "code",
      "source": [],
      "metadata": {
        "id": "IlmK0ORtE8WM"
      },
      "execution_count": null,
      "outputs": []
    },
    {
      "cell_type": "code",
      "source": [
        "# Split the combined dataset back into training and testing sets\n",
        "X_train_encoded = combined_encoded.iloc[:len(X_train_scaled)]"
      ],
      "metadata": {
        "id": "iKsUnHocE8Zm"
      },
      "execution_count": null,
      "outputs": []
    },
    {
      "cell_type": "code",
      "source": [
        "X_test_encoded = combined_encoded.iloc[len(X_train_scaled):]"
      ],
      "metadata": {
        "id": "668eYybVE8cm"
      },
      "execution_count": null,
      "outputs": []
    },
    {
      "cell_type": "code",
      "source": [],
      "metadata": {
        "id": "msFBIi7bFH2i"
      },
      "execution_count": null,
      "outputs": []
    },
    {
      "cell_type": "code",
      "source": [
        "# Make predictions on the test set using the trained model\n",
        "y_pred = model.predict(X_test_encoded)"
      ],
      "metadata": {
        "id": "BGyj6raQFH5q"
      },
      "execution_count": null,
      "outputs": []
    },
    {
      "cell_type": "code",
      "source": [],
      "metadata": {
        "id": "inygS9YZE8gf"
      },
      "execution_count": null,
      "outputs": []
    },
    {
      "cell_type": "code",
      "source": [
        "# Calculate accuracy to measure the overall performance of the model."
      ],
      "metadata": {
        "id": "4Ak8QeuLFS5G"
      },
      "execution_count": null,
      "outputs": []
    },
    {
      "cell_type": "code",
      "source": [
        "accuracy = accuracy_score(y_test, y_pred)"
      ],
      "metadata": {
        "id": "q0IRqJJXFS8M"
      },
      "execution_count": null,
      "outputs": []
    },
    {
      "cell_type": "code",
      "source": [
        "print(\"Accuracy:\", accuracy)"
      ],
      "metadata": {
        "colab": {
          "base_uri": "https://localhost:8080/"
        },
        "id": "A3vd2H8xFS_H",
        "outputId": "813449da-dddb-4d95-d693-ed4587539ab5"
      },
      "execution_count": null,
      "outputs": [
        {
          "output_type": "stream",
          "name": "stdout",
          "text": [
            "Accuracy: 0.8581298940580377\n"
          ]
        }
      ]
    },
    {
      "cell_type": "code",
      "source": [],
      "metadata": {
        "id": "EB0nlK-2FTCg"
      },
      "execution_count": null,
      "outputs": []
    },
    {
      "cell_type": "code",
      "source": [
        "# Generate classification report to get a detailed summary of the model's performance."
      ],
      "metadata": {
        "id": "JVOIIFp2FTFG"
      },
      "execution_count": null,
      "outputs": []
    },
    {
      "cell_type": "code",
      "source": [
        "print(\"Classification Report:\")\n",
        "print(classification_report(y_test, y_pred))"
      ],
      "metadata": {
        "colab": {
          "base_uri": "https://localhost:8080/"
        },
        "id": "iUO11XBpFTIc",
        "outputId": "591c3ce8-d7f0-44d0-97d0-f62ebc776cb5"
      },
      "execution_count": null,
      "outputs": [
        {
          "output_type": "stream",
          "name": "stdout",
          "text": [
            "Classification Report:\n",
            "              precision    recall  f1-score   support\n",
            "\n",
            "       <=50K       0.88      0.94      0.91      4942\n",
            "        >50K       0.75      0.61      0.68      1571\n",
            "\n",
            "    accuracy                           0.86      6513\n",
            "   macro avg       0.82      0.77      0.79      6513\n",
            "weighted avg       0.85      0.86      0.85      6513\n",
            "\n"
          ]
        }
      ]
    },
    {
      "cell_type": "code",
      "source": [],
      "metadata": {
        "id": "YLwF3RmQFfUo"
      },
      "execution_count": null,
      "outputs": []
    },
    {
      "cell_type": "code",
      "source": [
        "# Generate confusion matrix to visualize the model's performance in predicting income levels."
      ],
      "metadata": {
        "id": "9KxD3aUjFgfV"
      },
      "execution_count": null,
      "outputs": []
    },
    {
      "cell_type": "code",
      "source": [
        "print(\"Confusion Matrix:\")\n",
        "print(confusion_matrix(y_test, y_pred))"
      ],
      "metadata": {
        "colab": {
          "base_uri": "https://localhost:8080/"
        },
        "id": "Fl1zDQqGFgin",
        "outputId": "fa2dca5a-eadb-4f55-f1fe-e4286585e714"
      },
      "execution_count": null,
      "outputs": [
        {
          "output_type": "stream",
          "name": "stdout",
          "text": [
            "Confusion Matrix:\n",
            "[[4624  318]\n",
            " [ 606  965]]\n"
          ]
        }
      ]
    },
    {
      "cell_type": "code",
      "source": [],
      "metadata": {
        "id": "1VW8-hvXFnM6"
      },
      "execution_count": null,
      "outputs": []
    },
    {
      "cell_type": "code",
      "source": [
        "# Step 9: Interpretation\n",
        "# Interpreting the results of model evaluation allows us to understand the model's strengths and weaknesses."
      ],
      "metadata": {
        "id": "JunyRlYeFnlI"
      },
      "execution_count": null,
      "outputs": []
    },
    {
      "cell_type": "code",
      "source": [
        "# By following these steps and incorporating the suggested visualizations, we ensure a comprehensive and informative analysis suitable for learning purposes."
      ],
      "metadata": {
        "id": "rThXxF8LFvvU"
      },
      "execution_count": null,
      "outputs": []
    },
    {
      "cell_type": "markdown",
      "source": [
        "----"
      ],
      "metadata": {
        "id": "daSoyg13S8tE"
      }
    },
    {
      "cell_type": "code",
      "source": [],
      "metadata": {
        "id": "s82KKXSjGgpR"
      },
      "execution_count": null,
      "outputs": []
    },
    {
      "cell_type": "code",
      "source": [],
      "metadata": {
        "id": "IYk8rmYoGgsb"
      },
      "execution_count": null,
      "outputs": []
    },
    {
      "cell_type": "code",
      "source": [],
      "metadata": {
        "id": "4J9_oFH7GgvI"
      },
      "execution_count": null,
      "outputs": []
    },
    {
      "cell_type": "markdown",
      "source": [
        "----"
      ],
      "metadata": {
        "id": "XqzH_LzCS-LL"
      }
    },
    {
      "cell_type": "markdown",
      "source": [
        "# 🔢 **5. Clustering**\n",
        "\n",
        "### **Objective:**\n",
        "Clustering is an unsupervised learning technique used to group individuals into clusters based on similarities in their features. K-Means is a popular clustering algorithm that will be used in this project.\n",
        "\n",
        "### **Key Activities:**\n",
        "\n",
        "- **K-Means Clustering**: Apply the K-Means clustering algorithm to group individuals based on their demographic and employment features. This will help identify similarities in the dataset and potentially uncover patterns.\n",
        "\n",
        "- **Cluster Analysis**: Analyze and interpret the formed clusters. Understanding the cluster composition can provide insights into the characteristics of individuals who share similar attributes."
      ],
      "metadata": {
        "id": "V_XtIBLrS--K"
      }
    },
    {
      "cell_type": "markdown",
      "source": [
        "# *CLUSTERING *"
      ],
      "metadata": {
        "id": "H2zm2vmDGiSJ"
      }
    },
    {
      "cell_type": "code",
      "source": [
        "# Clustering is like grouping similar things together. Here, we're trying to group individuals based on similarities in their demographic or employment characteristics.\n",
        "# We use a method called KMeans, which tries to find groups (clusters) in the data by iteratively assigning data points to the nearest cluster center."
      ],
      "metadata": {
        "id": "2CAq3DSEGg1R"
      },
      "execution_count": null,
      "outputs": []
    },
    {
      "cell_type": "code",
      "source": [
        "from sklearn.cluster import KMeans"
      ],
      "metadata": {
        "id": "D5QPkPbOGg5Q"
      },
      "execution_count": null,
      "outputs": []
    },
    {
      "cell_type": "code",
      "source": [],
      "metadata": {
        "id": "lKepOX_MGg9v"
      },
      "execution_count": null,
      "outputs": []
    },
    {
      "cell_type": "code",
      "source": [
        "# First, we initialize the KMeans model and specify the number of clusters we want to find."
      ],
      "metadata": {
        "id": "NstzuSKiGhBT"
      },
      "execution_count": null,
      "outputs": []
    },
    {
      "cell_type": "code",
      "source": [
        "kmeans = KMeans(n_clusters=3, random_state=42)"
      ],
      "metadata": {
        "id": "MfgGMyiVGhEX"
      },
      "execution_count": null,
      "outputs": []
    },
    {
      "cell_type": "code",
      "source": [],
      "metadata": {
        "id": "_karCevHGwlU"
      },
      "execution_count": null,
      "outputs": []
    },
    {
      "cell_type": "code",
      "source": [
        "# Then, we fit the model to our data, which means we let it learn from the patterns in the data."
      ],
      "metadata": {
        "id": "8hgWctxjGwoy"
      },
      "execution_count": null,
      "outputs": []
    },
    {
      "cell_type": "code",
      "source": [
        "kmeans.fit(df.select_dtypes(include=np.number))"
      ],
      "metadata": {
        "colab": {
          "base_uri": "https://localhost:8080/",
          "height": 132
        },
        "id": "BcJQbfhPGwsM",
        "outputId": "3a4a81c5-d93f-4a83-c4a0-f14404cca437"
      },
      "execution_count": null,
      "outputs": [
        {
          "output_type": "stream",
          "name": "stderr",
          "text": [
            "/usr/local/lib/python3.10/dist-packages/sklearn/cluster/_kmeans.py:870: FutureWarning: The default value of `n_init` will change from 10 to 'auto' in 1.4. Set the value of `n_init` explicitly to suppress the warning\n",
            "  warnings.warn(\n"
          ]
        },
        {
          "output_type": "execute_result",
          "data": {
            "text/plain": [
              "KMeans(n_clusters=3, random_state=42)"
            ],
            "text/html": [
              "<style>#sk-container-id-3 {color: black;background-color: white;}#sk-container-id-3 pre{padding: 0;}#sk-container-id-3 div.sk-toggleable {background-color: white;}#sk-container-id-3 label.sk-toggleable__label {cursor: pointer;display: block;width: 100%;margin-bottom: 0;padding: 0.3em;box-sizing: border-box;text-align: center;}#sk-container-id-3 label.sk-toggleable__label-arrow:before {content: \"▸\";float: left;margin-right: 0.25em;color: #696969;}#sk-container-id-3 label.sk-toggleable__label-arrow:hover:before {color: black;}#sk-container-id-3 div.sk-estimator:hover label.sk-toggleable__label-arrow:before {color: black;}#sk-container-id-3 div.sk-toggleable__content {max-height: 0;max-width: 0;overflow: hidden;text-align: left;background-color: #f0f8ff;}#sk-container-id-3 div.sk-toggleable__content pre {margin: 0.2em;color: black;border-radius: 0.25em;background-color: #f0f8ff;}#sk-container-id-3 input.sk-toggleable__control:checked~div.sk-toggleable__content {max-height: 200px;max-width: 100%;overflow: auto;}#sk-container-id-3 input.sk-toggleable__control:checked~label.sk-toggleable__label-arrow:before {content: \"▾\";}#sk-container-id-3 div.sk-estimator input.sk-toggleable__control:checked~label.sk-toggleable__label {background-color: #d4ebff;}#sk-container-id-3 div.sk-label input.sk-toggleable__control:checked~label.sk-toggleable__label {background-color: #d4ebff;}#sk-container-id-3 input.sk-hidden--visually {border: 0;clip: rect(1px 1px 1px 1px);clip: rect(1px, 1px, 1px, 1px);height: 1px;margin: -1px;overflow: hidden;padding: 0;position: absolute;width: 1px;}#sk-container-id-3 div.sk-estimator {font-family: monospace;background-color: #f0f8ff;border: 1px dotted black;border-radius: 0.25em;box-sizing: border-box;margin-bottom: 0.5em;}#sk-container-id-3 div.sk-estimator:hover {background-color: #d4ebff;}#sk-container-id-3 div.sk-parallel-item::after {content: \"\";width: 100%;border-bottom: 1px solid gray;flex-grow: 1;}#sk-container-id-3 div.sk-label:hover label.sk-toggleable__label {background-color: #d4ebff;}#sk-container-id-3 div.sk-serial::before {content: \"\";position: absolute;border-left: 1px solid gray;box-sizing: border-box;top: 0;bottom: 0;left: 50%;z-index: 0;}#sk-container-id-3 div.sk-serial {display: flex;flex-direction: column;align-items: center;background-color: white;padding-right: 0.2em;padding-left: 0.2em;position: relative;}#sk-container-id-3 div.sk-item {position: relative;z-index: 1;}#sk-container-id-3 div.sk-parallel {display: flex;align-items: stretch;justify-content: center;background-color: white;position: relative;}#sk-container-id-3 div.sk-item::before, #sk-container-id-3 div.sk-parallel-item::before {content: \"\";position: absolute;border-left: 1px solid gray;box-sizing: border-box;top: 0;bottom: 0;left: 50%;z-index: -1;}#sk-container-id-3 div.sk-parallel-item {display: flex;flex-direction: column;z-index: 1;position: relative;background-color: white;}#sk-container-id-3 div.sk-parallel-item:first-child::after {align-self: flex-end;width: 50%;}#sk-container-id-3 div.sk-parallel-item:last-child::after {align-self: flex-start;width: 50%;}#sk-container-id-3 div.sk-parallel-item:only-child::after {width: 0;}#sk-container-id-3 div.sk-dashed-wrapped {border: 1px dashed gray;margin: 0 0.4em 0.5em 0.4em;box-sizing: border-box;padding-bottom: 0.4em;background-color: white;}#sk-container-id-3 div.sk-label label {font-family: monospace;font-weight: bold;display: inline-block;line-height: 1.2em;}#sk-container-id-3 div.sk-label-container {text-align: center;}#sk-container-id-3 div.sk-container {/* jupyter's `normalize.less` sets `[hidden] { display: none; }` but bootstrap.min.css set `[hidden] { display: none !important; }` so we also need the `!important` here to be able to override the default hidden behavior on the sphinx rendered scikit-learn.org. See: https://github.com/scikit-learn/scikit-learn/issues/21755 */display: inline-block !important;position: relative;}#sk-container-id-3 div.sk-text-repr-fallback {display: none;}</style><div id=\"sk-container-id-3\" class=\"sk-top-container\"><div class=\"sk-text-repr-fallback\"><pre>KMeans(n_clusters=3, random_state=42)</pre><b>In a Jupyter environment, please rerun this cell to show the HTML representation or trust the notebook. <br />On GitHub, the HTML representation is unable to render, please try loading this page with nbviewer.org.</b></div><div class=\"sk-container\" hidden><div class=\"sk-item\"><div class=\"sk-estimator sk-toggleable\"><input class=\"sk-toggleable__control sk-hidden--visually\" id=\"sk-estimator-id-3\" type=\"checkbox\" checked><label for=\"sk-estimator-id-3\" class=\"sk-toggleable__label sk-toggleable__label-arrow\">KMeans</label><div class=\"sk-toggleable__content\"><pre>KMeans(n_clusters=3, random_state=42)</pre></div></div></div></div></div>"
            ]
          },
          "metadata": {},
          "execution_count": 179
        }
      ]
    },
    {
      "cell_type": "code",
      "source": [],
      "metadata": {
        "id": "BMIN0YpIGwv9"
      },
      "execution_count": null,
      "outputs": []
    },
    {
      "cell_type": "code",
      "source": [
        "# Finally, we get the labels assigned to each data point, indicating which cluster they belong to."
      ],
      "metadata": {
        "id": "3fO4_KKeGwy-"
      },
      "execution_count": null,
      "outputs": []
    },
    {
      "cell_type": "code",
      "source": [
        "cluster_labels = kmeans.labels_"
      ],
      "metadata": {
        "id": "rWLLC-hfGw1D"
      },
      "execution_count": null,
      "outputs": []
    },
    {
      "cell_type": "code",
      "source": [],
      "metadata": {
        "id": "w9lOkaysGw3j"
      },
      "execution_count": null,
      "outputs": []
    },
    {
      "cell_type": "code",
      "source": [
        "# View cluster labels"
      ],
      "metadata": {
        "id": "DRvkNdGKGw5r"
      },
      "execution_count": null,
      "outputs": []
    },
    {
      "cell_type": "code",
      "source": [
        "print(cluster_labels)"
      ],
      "metadata": {
        "colab": {
          "base_uri": "https://localhost:8080/"
        },
        "id": "ZWmDp4W_Gw8F",
        "outputId": "fab95081-ef67-4c62-9f01-be4fa68a3138"
      },
      "execution_count": null,
      "outputs": [
        {
          "output_type": "stream",
          "name": "stdout",
          "text": [
            "[0 0 2 ... 2 2 2]\n"
          ]
        }
      ]
    },
    {
      "cell_type": "markdown",
      "source": [
        "----"
      ],
      "metadata": {
        "id": "wBRW-Ks6TCNk"
      }
    },
    {
      "cell_type": "code",
      "source": [],
      "metadata": {
        "id": "cN2ZqBVeHAqD"
      },
      "execution_count": null,
      "outputs": []
    },
    {
      "cell_type": "code",
      "source": [],
      "metadata": {
        "id": "CDR7iu_WHA7W"
      },
      "execution_count": null,
      "outputs": []
    },
    {
      "cell_type": "code",
      "source": [],
      "metadata": {
        "id": "oOxcmMG7HA-v"
      },
      "execution_count": null,
      "outputs": []
    },
    {
      "cell_type": "markdown",
      "source": [
        "---"
      ],
      "metadata": {
        "id": "eLDyoJ1ITD10"
      }
    },
    {
      "cell_type": "markdown",
      "source": [
        "# 🔍 **6. Anomaly Detection**\n",
        "\n",
        "### **Objective:**\n",
        "Anomaly detection identifies data points that significantly differ from the majority of the data. These anomalies can be outliers or errors that need to be handled to improve model performance.\n",
        "\n",
        "### **Key Activities:**\n",
        "\n",
        "- **Outlier Detection**: Use statistical methods like Z-score or Interquartile Range (IQR) to detect outliers. Outliers may distort the results and negatively affect the model’s accuracy.\n",
        "\n",
        "- **Isolation Forest / DBSCAN**: Apply anomaly detection algorithms like Isolation Forest or DBSCAN for identifying outliers in high-dimensional datasets. These algorithms are effective at detecting unusual data points without labeled data.\n",
        "\n",
        "- **Visualizing Anomalies**: Visualize detected anomalies using scatter plots or other relevant charts. This helps in understanding the impact of outliers on the dataset."
      ],
      "metadata": {
        "id": "wNv6FIl8TEqk"
      }
    },
    {
      "cell_type": "markdown",
      "source": [
        "# *ANOMALY DETECTION *"
      ],
      "metadata": {
        "id": "mmV_ame8HCM7"
      }
    },
    {
      "cell_type": "code",
      "source": [
        "# Anomaly detection is about finding unusual patterns or outliers in the data that don't conform to normal behavior.\n",
        "# Here, we're using a method called Isolation Forest, which isolates anomalies in the data by randomly selecting a feature and then randomly selecting a split value between the maximum and minimum values of that feature.\n"
      ],
      "metadata": {
        "id": "oxZLuMCxHBCF"
      },
      "execution_count": null,
      "outputs": []
    },
    {
      "cell_type": "code",
      "source": [
        "from sklearn.ensemble import IsolationForest"
      ],
      "metadata": {
        "id": "8UNNrOQ1HBFo"
      },
      "execution_count": null,
      "outputs": []
    },
    {
      "cell_type": "code",
      "source": [],
      "metadata": {
        "id": "sm2DUuVOHBI5"
      },
      "execution_count": null,
      "outputs": []
    },
    {
      "cell_type": "code",
      "source": [
        "# We initialize the Isolation Forest model and fit it to our data, allowing it to learn what's normal and what's not."
      ],
      "metadata": {
        "id": "_hmqw1-CHBLl"
      },
      "execution_count": null,
      "outputs": []
    },
    {
      "cell_type": "code",
      "source": [
        "isolation_forest = IsolationForest(contamination=0.05, random_state=42)"
      ],
      "metadata": {
        "id": "wmhYLcAtHQ3g"
      },
      "execution_count": null,
      "outputs": []
    },
    {
      "cell_type": "code",
      "source": [
        "isolation_forest.fit(df.select_dtypes(include=np.number))"
      ],
      "metadata": {
        "colab": {
          "base_uri": "https://localhost:8080/",
          "height": 132
        },
        "id": "OpGHljtVHQ7C",
        "outputId": "654c2775-746e-4daa-b865-1ae2f188e7dd"
      },
      "execution_count": null,
      "outputs": [
        {
          "output_type": "stream",
          "name": "stderr",
          "text": [
            "/usr/local/lib/python3.10/dist-packages/sklearn/base.py:439: UserWarning: X does not have valid feature names, but IsolationForest was fitted with feature names\n",
            "  warnings.warn(\n"
          ]
        },
        {
          "output_type": "execute_result",
          "data": {
            "text/plain": [
              "IsolationForest(contamination=0.05, random_state=42)"
            ],
            "text/html": [
              "<style>#sk-container-id-4 {color: black;background-color: white;}#sk-container-id-4 pre{padding: 0;}#sk-container-id-4 div.sk-toggleable {background-color: white;}#sk-container-id-4 label.sk-toggleable__label {cursor: pointer;display: block;width: 100%;margin-bottom: 0;padding: 0.3em;box-sizing: border-box;text-align: center;}#sk-container-id-4 label.sk-toggleable__label-arrow:before {content: \"▸\";float: left;margin-right: 0.25em;color: #696969;}#sk-container-id-4 label.sk-toggleable__label-arrow:hover:before {color: black;}#sk-container-id-4 div.sk-estimator:hover label.sk-toggleable__label-arrow:before {color: black;}#sk-container-id-4 div.sk-toggleable__content {max-height: 0;max-width: 0;overflow: hidden;text-align: left;background-color: #f0f8ff;}#sk-container-id-4 div.sk-toggleable__content pre {margin: 0.2em;color: black;border-radius: 0.25em;background-color: #f0f8ff;}#sk-container-id-4 input.sk-toggleable__control:checked~div.sk-toggleable__content {max-height: 200px;max-width: 100%;overflow: auto;}#sk-container-id-4 input.sk-toggleable__control:checked~label.sk-toggleable__label-arrow:before {content: \"▾\";}#sk-container-id-4 div.sk-estimator input.sk-toggleable__control:checked~label.sk-toggleable__label {background-color: #d4ebff;}#sk-container-id-4 div.sk-label input.sk-toggleable__control:checked~label.sk-toggleable__label {background-color: #d4ebff;}#sk-container-id-4 input.sk-hidden--visually {border: 0;clip: rect(1px 1px 1px 1px);clip: rect(1px, 1px, 1px, 1px);height: 1px;margin: -1px;overflow: hidden;padding: 0;position: absolute;width: 1px;}#sk-container-id-4 div.sk-estimator {font-family: monospace;background-color: #f0f8ff;border: 1px dotted black;border-radius: 0.25em;box-sizing: border-box;margin-bottom: 0.5em;}#sk-container-id-4 div.sk-estimator:hover {background-color: #d4ebff;}#sk-container-id-4 div.sk-parallel-item::after {content: \"\";width: 100%;border-bottom: 1px solid gray;flex-grow: 1;}#sk-container-id-4 div.sk-label:hover label.sk-toggleable__label {background-color: #d4ebff;}#sk-container-id-4 div.sk-serial::before {content: \"\";position: absolute;border-left: 1px solid gray;box-sizing: border-box;top: 0;bottom: 0;left: 50%;z-index: 0;}#sk-container-id-4 div.sk-serial {display: flex;flex-direction: column;align-items: center;background-color: white;padding-right: 0.2em;padding-left: 0.2em;position: relative;}#sk-container-id-4 div.sk-item {position: relative;z-index: 1;}#sk-container-id-4 div.sk-parallel {display: flex;align-items: stretch;justify-content: center;background-color: white;position: relative;}#sk-container-id-4 div.sk-item::before, #sk-container-id-4 div.sk-parallel-item::before {content: \"\";position: absolute;border-left: 1px solid gray;box-sizing: border-box;top: 0;bottom: 0;left: 50%;z-index: -1;}#sk-container-id-4 div.sk-parallel-item {display: flex;flex-direction: column;z-index: 1;position: relative;background-color: white;}#sk-container-id-4 div.sk-parallel-item:first-child::after {align-self: flex-end;width: 50%;}#sk-container-id-4 div.sk-parallel-item:last-child::after {align-self: flex-start;width: 50%;}#sk-container-id-4 div.sk-parallel-item:only-child::after {width: 0;}#sk-container-id-4 div.sk-dashed-wrapped {border: 1px dashed gray;margin: 0 0.4em 0.5em 0.4em;box-sizing: border-box;padding-bottom: 0.4em;background-color: white;}#sk-container-id-4 div.sk-label label {font-family: monospace;font-weight: bold;display: inline-block;line-height: 1.2em;}#sk-container-id-4 div.sk-label-container {text-align: center;}#sk-container-id-4 div.sk-container {/* jupyter's `normalize.less` sets `[hidden] { display: none; }` but bootstrap.min.css set `[hidden] { display: none !important; }` so we also need the `!important` here to be able to override the default hidden behavior on the sphinx rendered scikit-learn.org. See: https://github.com/scikit-learn/scikit-learn/issues/21755 */display: inline-block !important;position: relative;}#sk-container-id-4 div.sk-text-repr-fallback {display: none;}</style><div id=\"sk-container-id-4\" class=\"sk-top-container\"><div class=\"sk-text-repr-fallback\"><pre>IsolationForest(contamination=0.05, random_state=42)</pre><b>In a Jupyter environment, please rerun this cell to show the HTML representation or trust the notebook. <br />On GitHub, the HTML representation is unable to render, please try loading this page with nbviewer.org.</b></div><div class=\"sk-container\" hidden><div class=\"sk-item\"><div class=\"sk-estimator sk-toggleable\"><input class=\"sk-toggleable__control sk-hidden--visually\" id=\"sk-estimator-id-4\" type=\"checkbox\" checked><label for=\"sk-estimator-id-4\" class=\"sk-toggleable__label sk-toggleable__label-arrow\">IsolationForest</label><div class=\"sk-toggleable__content\"><pre>IsolationForest(contamination=0.05, random_state=42)</pre></div></div></div></div></div>"
            ]
          },
          "metadata": {},
          "execution_count": 188
        }
      ]
    },
    {
      "cell_type": "code",
      "source": [],
      "metadata": {
        "id": "9NvfRTwqHQ-v"
      },
      "execution_count": null,
      "outputs": []
    },
    {
      "cell_type": "code",
      "source": [
        "# Then, we use the model to predict outliers in the data. Data points with a prediction of -1 are considered outliers."
      ],
      "metadata": {
        "id": "0cfkTD3VHRCz"
      },
      "execution_count": null,
      "outputs": []
    },
    {
      "cell_type": "code",
      "source": [
        "outlier_preds = isolation_forest.predict(df.select_dtypes(include=np.number))"
      ],
      "metadata": {
        "id": "fODDAKGoHRFt"
      },
      "execution_count": null,
      "outputs": []
    },
    {
      "cell_type": "code",
      "source": [],
      "metadata": {
        "id": "JNkSqR2xHRH7"
      },
      "execution_count": null,
      "outputs": []
    },
    {
      "cell_type": "code",
      "source": [
        "# View outlier predictions"
      ],
      "metadata": {
        "id": "h3QL-K57HRKd"
      },
      "execution_count": null,
      "outputs": []
    },
    {
      "cell_type": "code",
      "source": [
        "print(outlier_preds)"
      ],
      "metadata": {
        "colab": {
          "base_uri": "https://localhost:8080/"
        },
        "id": "M-zoVoFWHf_i",
        "outputId": "5bfd54e3-bbef-49ff-9d3d-e9272f10542a"
      },
      "execution_count": null,
      "outputs": [
        {
          "output_type": "stream",
          "name": "stdout",
          "text": [
            "[1 1 1 ... 1 1 1]\n"
          ]
        }
      ]
    },
    {
      "cell_type": "markdown",
      "source": [
        "---"
      ],
      "metadata": {
        "id": "3qUCdfCoTJ5L"
      }
    },
    {
      "cell_type": "code",
      "source": [],
      "metadata": {
        "id": "xYsh22MpHgC1"
      },
      "execution_count": null,
      "outputs": []
    },
    {
      "cell_type": "code",
      "source": [],
      "metadata": {
        "id": "krL6ykTvHgGz"
      },
      "execution_count": null,
      "outputs": []
    },
    {
      "cell_type": "code",
      "source": [],
      "metadata": {
        "id": "PfWcezGYHgKx"
      },
      "execution_count": null,
      "outputs": []
    },
    {
      "cell_type": "markdown",
      "source": [
        "----"
      ],
      "metadata": {
        "id": "KXLnXscHTLr1"
      }
    },
    {
      "cell_type": "markdown",
      "source": [
        "# 📊 **7. Feature Importance**\n",
        "\n",
        "### **Objective:**\n",
        "Feature importance identifies which features contribute the most to model predictions. Understanding feature importance helps improve model interpretability and informs feature selection.\n",
        "\n",
        "### **Key Activities:**\n",
        "\n",
        "- **Model-Based Feature Importance**: Use models like Random Forest or XGBoost to calculate feature importance scores. These models provide a ranking of features based on their contribution to the prediction task.\n",
        "\n",
        "- **SHAP Values**: Visualize the contribution of each feature using SHAP (Shapley Additive Explanations). SHAP values provide a deeper understanding of how individual features affect model predictions.\n",
        "\n",
        "- **Visual Representation**: Create bar plots to show the relative importance of different features. This allows stakeholders to interpret which features are most influential in predicting the target variable."
      ],
      "metadata": {
        "id": "G1zz9RAHTMiN"
      }
    },
    {
      "cell_type": "markdown",
      "source": [
        "# *FEATURE IMPORTANCE ANALYSIS*"
      ],
      "metadata": {
        "id": "sSP7tdizHkQ0"
      }
    },
    {
      "cell_type": "code",
      "source": [
        "# Feature importance analysis helps us understand which features (or characteristics) of the data are most important in predicting the outcome.\n",
        "# Here, we're using a method called RandomForestClassifier, which is a type of machine learning model that can tell us which features are most important in predicting a target variable.\n"
      ],
      "metadata": {
        "id": "9xNjEazdHgNp"
      },
      "execution_count": null,
      "outputs": []
    },
    {
      "cell_type": "code",
      "source": [
        "from sklearn.ensemble import RandomForestClassifier"
      ],
      "metadata": {
        "id": "nunbdx75HgSX"
      },
      "execution_count": null,
      "outputs": []
    },
    {
      "cell_type": "code",
      "source": [],
      "metadata": {
        "id": "5tunskHQHgVd"
      },
      "execution_count": null,
      "outputs": []
    },
    {
      "cell_type": "code",
      "source": [
        "# We fit the RandomForestClassifier to our data, allowing it to learn the relationships between features and the target variable."
      ],
      "metadata": {
        "id": "7HU89fI8HgXy"
      },
      "execution_count": null,
      "outputs": []
    },
    {
      "cell_type": "code",
      "source": [
        "rf_classifier = RandomForestClassifier(random_state=42)"
      ],
      "metadata": {
        "id": "RokS36kAHvt6"
      },
      "execution_count": null,
      "outputs": []
    },
    {
      "cell_type": "code",
      "source": [
        "rf_classifier.fit(X_train_encoded, y_train)"
      ],
      "metadata": {
        "colab": {
          "base_uri": "https://localhost:8080/",
          "height": 75
        },
        "id": "AVoNENIlHvxZ",
        "outputId": "e452cafa-40d3-44bc-90a6-eea61268e4aa"
      },
      "execution_count": null,
      "outputs": [
        {
          "output_type": "execute_result",
          "data": {
            "text/plain": [
              "RandomForestClassifier(random_state=42)"
            ],
            "text/html": [
              "<style>#sk-container-id-5 {color: black;background-color: white;}#sk-container-id-5 pre{padding: 0;}#sk-container-id-5 div.sk-toggleable {background-color: white;}#sk-container-id-5 label.sk-toggleable__label {cursor: pointer;display: block;width: 100%;margin-bottom: 0;padding: 0.3em;box-sizing: border-box;text-align: center;}#sk-container-id-5 label.sk-toggleable__label-arrow:before {content: \"▸\";float: left;margin-right: 0.25em;color: #696969;}#sk-container-id-5 label.sk-toggleable__label-arrow:hover:before {color: black;}#sk-container-id-5 div.sk-estimator:hover label.sk-toggleable__label-arrow:before {color: black;}#sk-container-id-5 div.sk-toggleable__content {max-height: 0;max-width: 0;overflow: hidden;text-align: left;background-color: #f0f8ff;}#sk-container-id-5 div.sk-toggleable__content pre {margin: 0.2em;color: black;border-radius: 0.25em;background-color: #f0f8ff;}#sk-container-id-5 input.sk-toggleable__control:checked~div.sk-toggleable__content {max-height: 200px;max-width: 100%;overflow: auto;}#sk-container-id-5 input.sk-toggleable__control:checked~label.sk-toggleable__label-arrow:before {content: \"▾\";}#sk-container-id-5 div.sk-estimator input.sk-toggleable__control:checked~label.sk-toggleable__label {background-color: #d4ebff;}#sk-container-id-5 div.sk-label input.sk-toggleable__control:checked~label.sk-toggleable__label {background-color: #d4ebff;}#sk-container-id-5 input.sk-hidden--visually {border: 0;clip: rect(1px 1px 1px 1px);clip: rect(1px, 1px, 1px, 1px);height: 1px;margin: -1px;overflow: hidden;padding: 0;position: absolute;width: 1px;}#sk-container-id-5 div.sk-estimator {font-family: monospace;background-color: #f0f8ff;border: 1px dotted black;border-radius: 0.25em;box-sizing: border-box;margin-bottom: 0.5em;}#sk-container-id-5 div.sk-estimator:hover {background-color: #d4ebff;}#sk-container-id-5 div.sk-parallel-item::after {content: \"\";width: 100%;border-bottom: 1px solid gray;flex-grow: 1;}#sk-container-id-5 div.sk-label:hover label.sk-toggleable__label {background-color: #d4ebff;}#sk-container-id-5 div.sk-serial::before {content: \"\";position: absolute;border-left: 1px solid gray;box-sizing: border-box;top: 0;bottom: 0;left: 50%;z-index: 0;}#sk-container-id-5 div.sk-serial {display: flex;flex-direction: column;align-items: center;background-color: white;padding-right: 0.2em;padding-left: 0.2em;position: relative;}#sk-container-id-5 div.sk-item {position: relative;z-index: 1;}#sk-container-id-5 div.sk-parallel {display: flex;align-items: stretch;justify-content: center;background-color: white;position: relative;}#sk-container-id-5 div.sk-item::before, #sk-container-id-5 div.sk-parallel-item::before {content: \"\";position: absolute;border-left: 1px solid gray;box-sizing: border-box;top: 0;bottom: 0;left: 50%;z-index: -1;}#sk-container-id-5 div.sk-parallel-item {display: flex;flex-direction: column;z-index: 1;position: relative;background-color: white;}#sk-container-id-5 div.sk-parallel-item:first-child::after {align-self: flex-end;width: 50%;}#sk-container-id-5 div.sk-parallel-item:last-child::after {align-self: flex-start;width: 50%;}#sk-container-id-5 div.sk-parallel-item:only-child::after {width: 0;}#sk-container-id-5 div.sk-dashed-wrapped {border: 1px dashed gray;margin: 0 0.4em 0.5em 0.4em;box-sizing: border-box;padding-bottom: 0.4em;background-color: white;}#sk-container-id-5 div.sk-label label {font-family: monospace;font-weight: bold;display: inline-block;line-height: 1.2em;}#sk-container-id-5 div.sk-label-container {text-align: center;}#sk-container-id-5 div.sk-container {/* jupyter's `normalize.less` sets `[hidden] { display: none; }` but bootstrap.min.css set `[hidden] { display: none !important; }` so we also need the `!important` here to be able to override the default hidden behavior on the sphinx rendered scikit-learn.org. See: https://github.com/scikit-learn/scikit-learn/issues/21755 */display: inline-block !important;position: relative;}#sk-container-id-5 div.sk-text-repr-fallback {display: none;}</style><div id=\"sk-container-id-5\" class=\"sk-top-container\"><div class=\"sk-text-repr-fallback\"><pre>RandomForestClassifier(random_state=42)</pre><b>In a Jupyter environment, please rerun this cell to show the HTML representation or trust the notebook. <br />On GitHub, the HTML representation is unable to render, please try loading this page with nbviewer.org.</b></div><div class=\"sk-container\" hidden><div class=\"sk-item\"><div class=\"sk-estimator sk-toggleable\"><input class=\"sk-toggleable__control sk-hidden--visually\" id=\"sk-estimator-id-5\" type=\"checkbox\" checked><label for=\"sk-estimator-id-5\" class=\"sk-toggleable__label sk-toggleable__label-arrow\">RandomForestClassifier</label><div class=\"sk-toggleable__content\"><pre>RandomForestClassifier(random_state=42)</pre></div></div></div></div></div>"
            ]
          },
          "metadata": {},
          "execution_count": 197
        }
      ]
    },
    {
      "cell_type": "code",
      "source": [],
      "metadata": {
        "id": "4fFtnzZsHv1J"
      },
      "execution_count": null,
      "outputs": []
    },
    {
      "cell_type": "code",
      "source": [
        "# Then, we can extract the feature importances, which tell us how much each feature contributes to predicting the outcome."
      ],
      "metadata": {
        "id": "KhZUQ0iEHv5X"
      },
      "execution_count": null,
      "outputs": []
    },
    {
      "cell_type": "code",
      "source": [
        "feature_importances = rf_classifier.feature_importances_"
      ],
      "metadata": {
        "id": "v_ty_9WkHv8r"
      },
      "execution_count": null,
      "outputs": []
    },
    {
      "cell_type": "code",
      "source": [],
      "metadata": {
        "id": "W6iHRp_RIAe0"
      },
      "execution_count": null,
      "outputs": []
    },
    {
      "cell_type": "code",
      "source": [
        "# View feature importances"
      ],
      "metadata": {
        "id": "u3iozzllHwBc"
      },
      "execution_count": null,
      "outputs": []
    },
    {
      "cell_type": "code",
      "source": [
        "print(feature_importances)"
      ],
      "metadata": {
        "colab": {
          "base_uri": "https://localhost:8080/"
        },
        "id": "Wkt0_kbGHwEl",
        "outputId": "09e335f1-f303-4f5b-9c90-21029c4a9cff"
      },
      "execution_count": null,
      "outputs": [
        {
          "output_type": "stream",
          "name": "stdout",
          "text": [
            "[1.51931600e-01 1.60328648e-01 6.41861615e-02 1.00275506e-01\n",
            " 3.04413876e-02 8.27767229e-02 5.59393594e-03 6.10120110e-03\n",
            " 1.66017701e-06 1.15331183e-02 6.79170831e-03 8.93528221e-03\n",
            " 4.49733941e-03 7.68862998e-05 1.77076579e-03 8.63830710e-04\n",
            " 2.49908801e-04 6.65832444e-04 1.98944528e-03 1.10946939e-03\n",
            " 2.47715690e-03 3.06263876e-03 1.25808493e-02 4.06903321e-03\n",
            " 7.42209934e-03 8.87379818e-03 5.67173670e-05 5.34797553e-03\n",
            " 5.45887123e-03 3.21522670e-04 7.68919053e-02 9.26037469e-04\n",
            " 3.11460690e-02 2.05557999e-03 1.94002585e-03 5.84751891e-03\n",
            " 3.77867422e-06 7.19837393e-03 1.92951853e-02 4.34657364e-03\n",
            " 2.82141232e-03 4.04649599e-03 6.48350342e-03 1.09390827e-04\n",
            " 1.46925187e-02 3.06937237e-03 7.46004854e-03 5.13319935e-03\n",
            " 4.78111690e-03 1.88157272e-02 2.30244193e-03 1.32303842e-02\n",
            " 9.26190484e-03 1.01134603e-02 3.00293478e-03 4.77419899e-03\n",
            " 8.19330298e-04 6.93622916e-03 1.98438070e-02 3.04728239e-04\n",
            " 1.05537421e-03 4.58299230e-04 2.74167268e-04 7.70359516e-04\n",
            " 2.07789987e-04 1.33869098e-04 2.14556825e-04 9.45392772e-04\n",
            " 3.89971509e-04 1.07699756e-03 3.24706959e-04 1.51110187e-04\n",
            " 1.98595676e-04 8.34004258e-06 3.54780386e-06 1.21818103e-04\n",
            " 7.29661616e-05 7.97854220e-04 3.03060592e-04 2.51360607e-04\n",
            " 7.33504602e-04 4.48602669e-04 5.26461448e-04 6.96120900e-05\n",
            " 1.79113674e-03 1.68617241e-04 3.53933566e-05 6.89811513e-05\n",
            " 9.26822575e-04 4.32479155e-04 2.12158027e-04 4.48158320e-04\n",
            " 4.91141369e-05 6.02493604e-04 3.71849690e-04 6.21419251e-05\n",
            " 1.00564319e-04 7.00086176e-03 3.99920923e-04 3.46661940e-04]\n"
          ]
        }
      ]
    },
    {
      "cell_type": "code",
      "source": [],
      "metadata": {
        "id": "rGLBn1FxHwJM"
      },
      "execution_count": null,
      "outputs": []
    },
    {
      "cell_type": "code",
      "source": [
        "# Save the feature importances to a file"
      ],
      "metadata": {
        "id": "BiHufBGyIMRZ"
      },
      "execution_count": null,
      "outputs": []
    },
    {
      "cell_type": "code",
      "source": [
        "np.savetxt('/content/feature_importances.txt', feature_importances)"
      ],
      "metadata": {
        "id": "Sui2lMwfIMVA"
      },
      "execution_count": null,
      "outputs": []
    },
    {
      "cell_type": "markdown",
      "source": [
        "----"
      ],
      "metadata": {
        "id": "pCXZ5C63TPYk"
      }
    },
    {
      "cell_type": "code",
      "source": [],
      "metadata": {
        "id": "mnRLooIXIMYZ"
      },
      "execution_count": null,
      "outputs": []
    },
    {
      "cell_type": "code",
      "source": [],
      "metadata": {
        "id": "pRRmD_yCIMdu"
      },
      "execution_count": null,
      "outputs": []
    },
    {
      "cell_type": "code",
      "source": [],
      "metadata": {
        "id": "Kpx6rHmzIMi2"
      },
      "execution_count": null,
      "outputs": []
    },
    {
      "cell_type": "markdown",
      "source": [
        "----"
      ],
      "metadata": {
        "id": "6JUJHnL0TSdE"
      }
    },
    {
      "cell_type": "markdown",
      "source": [
        "# 🧠 **8. Natural Language Processing (NLP)**\n",
        "\n",
        "### **Objective:**\n",
        "Natural Language Processing (NLP) techniques will be applied to any textual data available in the dataset, extracting meaningful insights and potentially improving the model's performance.\n",
        "\n",
        "### **Key Activities:**\n",
        "\n",
        "- **Text Preprocessing**: Tokenize, stem, and lemmatize the text data to prepare it for analysis. Preprocessing transforms raw text into a format suitable for further analysis.\n",
        "\n",
        "- **Sentiment Analysis**: Apply sentiment analysis to extract sentiment information from textual features. This can provide additional features that might help in predicting the target variable.\n",
        "\n",
        "- **Text Classification**: Classify text data into predefined categories based on the content. Techniques such as bag-of-words, TF-IDF, or more advanced NLP models like BERT can be used for this task."
      ],
      "metadata": {
        "id": "Jp8hCvo4TTNO"
      }
    },
    {
      "cell_type": "markdown",
      "source": [
        "# *NATURAL LANGUAGE PROCESSING *"
      ],
      "metadata": {
        "id": "w2oFNxcPIYMZ"
      }
    },
    {
      "cell_type": "code",
      "source": [
        "# Natural Language Processing (NLP) is a field of study focused on making computers understand and process human language.\n",
        "# Here, we're using a technique called TF-IDF (Term Frequency-Inverse Document Frequency) to analyze and extract insights from textual data.\n"
      ],
      "metadata": {
        "id": "PPiKN8_OIkcp"
      },
      "execution_count": null,
      "outputs": []
    },
    {
      "cell_type": "code",
      "source": [
        "from sklearn.feature_extraction.text import TfidfVectorizer"
      ],
      "metadata": {
        "id": "7qpk5RBNIkfW"
      },
      "execution_count": null,
      "outputs": []
    },
    {
      "cell_type": "code",
      "source": [],
      "metadata": {
        "id": "fPlFFHYyIkig"
      },
      "execution_count": null,
      "outputs": []
    },
    {
      "cell_type": "code",
      "source": [
        "# We initialize a TF-IDF vectorizer, which converts text data into numerical representations that machine learning models can understand.\n",
        "# Then, we fit the vectorizer to our text data, allowing it to learn the vocabulary and calculate the TF-IDF scores for each word.\n",
        "# Finally, we can view the feature names, which represent the unique words in our text data and their corresponding TF-IDF scores.\n"
      ],
      "metadata": {
        "id": "nayL2adYIkla"
      },
      "execution_count": null,
      "outputs": []
    },
    {
      "cell_type": "code",
      "source": [
        "tfidf_vectorizer = TfidfVectorizer()"
      ],
      "metadata": {
        "id": "-5MY5ouSJC-X"
      },
      "execution_count": null,
      "outputs": []
    },
    {
      "cell_type": "code",
      "source": [],
      "metadata": {
        "id": "ftCqVCH3JDOQ"
      },
      "execution_count": null,
      "outputs": []
    },
    {
      "cell_type": "code",
      "source": [
        "# Fit and transform the 'occupation' column to TF-IDF vectors\n",
        "# This step allows the vectorizer to learn the vocabulary and calculate the TF-IDF scores for each word."
      ],
      "metadata": {
        "id": "Zb9H_oVcJDQp"
      },
      "execution_count": null,
      "outputs": []
    },
    {
      "cell_type": "code",
      "source": [
        "text_data_tfidf = tfidf_vectorizer.fit_transform(df['occupation'])"
      ],
      "metadata": {
        "id": "jBQNjxnTJDTO"
      },
      "execution_count": null,
      "outputs": []
    },
    {
      "cell_type": "code",
      "source": [],
      "metadata": {
        "id": "WTf7kCOVJq8f"
      },
      "execution_count": null,
      "outputs": []
    },
    {
      "cell_type": "code",
      "source": [
        "# Get the feature names\n",
        "# Feature names represent the unique words in our text data and their corresponding TF-IDF scores.\n",
        "# We use get_feature_names_out() method to obtain the feature names."
      ],
      "metadata": {
        "id": "k7klIrEYJrEY"
      },
      "execution_count": null,
      "outputs": []
    },
    {
      "cell_type": "code",
      "source": [
        "feature_names = tfidf_vectorizer.get_feature_names_out()"
      ],
      "metadata": {
        "id": "ixFCg4kvJrId"
      },
      "execution_count": null,
      "outputs": []
    },
    {
      "cell_type": "code",
      "source": [],
      "metadata": {
        "id": "ir9g1rkkJrLU"
      },
      "execution_count": null,
      "outputs": []
    },
    {
      "cell_type": "code",
      "source": [
        "# Print the feature names"
      ],
      "metadata": {
        "id": "Q7caOCIdJrOI"
      },
      "execution_count": null,
      "outputs": []
    },
    {
      "cell_type": "code",
      "source": [
        "print(\"Feature Names (Words in 'occupation' Column and Their TF-IDF Scores):\")\n",
        "print(feature_names)"
      ],
      "metadata": {
        "colab": {
          "base_uri": "https://localhost:8080/"
        },
        "id": "fhlNXYgpKqAr",
        "outputId": "ea25b53f-7de0-4faf-c4ba-1c1a26712e46"
      },
      "execution_count": null,
      "outputs": [
        {
          "output_type": "stream",
          "name": "stdout",
          "text": [
            "Feature Names (Words in 'occupation' Column and Their TF-IDF Scores):\n",
            "['adm' 'armed' 'cleaners' 'clerical' 'craft' 'exec' 'farming' 'fishing'\n",
            " 'forces' 'handlers' 'house' 'inspct' 'machine' 'managerial' 'moving' 'op'\n",
            " 'other' 'priv' 'prof' 'protective' 'repair' 'sales' 'serv' 'service'\n",
            " 'specialty' 'support' 'tech' 'transport']\n"
          ]
        }
      ]
    },
    {
      "cell_type": "markdown",
      "source": [
        "----"
      ],
      "metadata": {
        "id": "NDmj54aWTWNM"
      }
    },
    {
      "cell_type": "code",
      "source": [],
      "metadata": {
        "id": "qwPAOWGxTXeM"
      },
      "execution_count": null,
      "outputs": []
    },
    {
      "cell_type": "code",
      "source": [],
      "metadata": {
        "id": "fMvmiou8TXij"
      },
      "execution_count": null,
      "outputs": []
    },
    {
      "cell_type": "markdown",
      "source": [
        "# 💡 **Insights and Conclusions**\n",
        "\n",
        "### **Objective:**\n",
        "This step involves interpreting the results of the EDA, predictive modeling, clustering, anomaly detection, and feature importance analysis. The goal is to summarize the key findings and insights.\n",
        "\n",
        "### **Key Activities:**\n",
        "\n",
        "- **Data Insights**: Summarize key patterns, trends, and potential issues identified during the exploratory data analysis.\n",
        "\n",
        "- **Model Interpretation**: Discuss the results of the Logistic Regression model and interpret its performance. Highlight areas where the model is performing well and where it might need improvement.\n",
        "\n",
        "- **Clustering Insights**: Analyze the formed clusters and draw conclusions about the similarities between individuals within each cluster.\n",
        "\n",
        "- **Anomaly Insights**: Interpret the impact of anomalies on the dataset and the overall analysis.\n",
        "\n",
        "- **Feature Importance Insights**: Identify which features are most important for predicting the target variable and discuss their implications for the analysis."
      ],
      "metadata": {
        "id": "OOpZRXI3TXzc"
      }
    },
    {
      "cell_type": "markdown",
      "source": [
        "----"
      ],
      "metadata": {
        "id": "8XBseNc3TeF-"
      }
    },
    {
      "cell_type": "code",
      "source": [],
      "metadata": {
        "id": "E_KWWJJvTe8G"
      },
      "execution_count": null,
      "outputs": []
    },
    {
      "cell_type": "code",
      "source": [],
      "metadata": {
        "id": "x58MJMT6TfA5"
      },
      "execution_count": null,
      "outputs": []
    },
    {
      "cell_type": "markdown",
      "source": [
        "---"
      ],
      "metadata": {
        "id": "_zjjgAYLTfWM"
      }
    },
    {
      "cell_type": "markdown",
      "source": [
        "# 🚀 **Future Enhancements**\n",
        "\n",
        "### **Objective:**\n",
        "Future enhancements focus on improving model performance, exploring new techniques, and refining the analysis process. These improvements can help in achieving better predictive accuracy and providing deeper insights.\n",
        "\n",
        "### **Key Activities:**\n",
        "\n",
        "- **Model Improvement**: Experiment with other classification algorithms such as Random Forest, SVM, or XGBoost to improve predictive accuracy.\n",
        "\n",
        "- **Advanced Clustering**: Try hierarchical clustering or DBSCAN for a different approach to clustering, especially when the data is not well-suited for K-Means.\n",
        "\n",
        "- **Hyperparameter Tuning**: Fine-tune model parameters using techniques like GridSearchCV to optimize model performance.\n",
        "\n",
        "- **Deep Learning Models**: Implement deep learning models such as neural networks for more complex tasks that might improve predictions.\n",
        "\n",
        "- **Advanced NLP**: Explore advanced NLP techniques like GPT or BERT for better handling of textual data and improving sentiment analysis."
      ],
      "metadata": {
        "id": "wNqiBjAPTgTc"
      }
    },
    {
      "cell_type": "markdown",
      "source": [
        "----\n",
        "----"
      ],
      "metadata": {
        "id": "78BfiUexTkFl"
      }
    }
  ]
}