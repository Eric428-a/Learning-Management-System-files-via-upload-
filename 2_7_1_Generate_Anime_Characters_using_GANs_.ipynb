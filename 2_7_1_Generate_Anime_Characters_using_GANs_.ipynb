{
  "nbformat": 4,
  "nbformat_minor": 0,
  "metadata": {
    "colab": {
      "provenance": [],
      "gpuType": "T4"
    },
    "kernelspec": {
      "name": "python3",
      "display_name": "Python 3"
    },
    "language_info": {
      "name": "python"
    },
    "accelerator": "GPU"
  },
  "cells": [
    {
      "cell_type": "markdown",
      "source": [
        "# 🚀 **CIFAR-10 Image Classification with GAN**\n",
        "\n",
        "This project demonstrates the process of image classification using the CIFAR-10 dataset along with Generative Adversarial Networks (GAN) to generate synthetic images. The dataset consists of 60,000 32x32 color images in 10 different classes, and the goal is to perform a variety of tasks including image classification, visualization, and generation of synthetic images through GANs.\n",
        "\n",
        "## 📚 **Project Overview**\n",
        "\n",
        "This project involves:\n",
        "1. **Loading and Preprocessing the CIFAR-10 dataset.**\n",
        "2. **Exploratory Data Analysis (EDA) and Visualization.**\n",
        "3. **Building and Training a Generative Adversarial Network (GAN):**\n",
        "   - **Generator Model**: Creates synthetic images.\n",
        "   - **Discriminator Model**: Distinguishes between real and fake images.\n",
        "\n",
        "---\n",
        "\n",
        "## 💻 **Key Steps in the Project**\n",
        "\n",
        "### 1. **Data Loading and Preprocessing**\n",
        "- The CIFAR-10 dataset is loaded and split into training and test sets.\n",
        "- Images are flattened into 1D arrays for easier analysis.\n",
        "- Labels are processed into DataFrames for better clarity and analysis.\n",
        "- Image pixel values are normalized to a range of [-1, 1] for compatibility with GANs.\n",
        "\n",
        "### 2. **Exploratory Data Analysis (EDA)**\n",
        "- The dataset is analyzed for missing values and statistical summary.\n",
        "- The distribution of the 10 classes in the dataset is displayed.\n",
        "- Sample images from each class are visualized to understand the image types and patterns.\n",
        "\n",
        "### 3. **Building the Generative Adversarial Network (GAN)**\n",
        "\n",
        "#### Generator Model:\n",
        "- A Sequential model with dense, reshape, batch normalization, and convolutional layers.\n",
        "- Uses `tanh` activation for generating images with pixel values between -1 and 1.\n",
        "\n",
        "#### Discriminator Model:\n",
        "- A Sequential model consisting of convolutional layers, LeakyReLU activations, dropout for regularization, and a dense layer with sigmoid activation for binary classification (real or fake).\n",
        "\n",
        "---\n",
        "\n",
        "## 🧑‍🏫 **Learning Objectives**\n",
        "- Gain an understanding of how GANs function and how to train them for generating images.\n",
        "- Learn how to process and manipulate image datasets for deep learning applications.\n",
        "- Build and evaluate both generator and discriminator models in a GAN setup.\n",
        "- Apply image normalization techniques for better model performance.\n",
        "\n",
        "---\n",
        "\n",
        "## 🔧 **Tools & Libraries Used**\n",
        "- **TensorFlow**: For building and training the deep learning models.\n",
        "- **Keras**: Used for creating the Sequential models.\n",
        "- **NumPy & Pandas**: For data manipulation and analysis.\n",
        "- **Matplotlib**: For visualizing data and displaying sample images.\n",
        "\n",
        "---\n",
        "\n",
        "## 📊 **Results and Future Directions**\n",
        "- After training the GAN, the generator model produces synthetic images that resemble those from the CIFAR-10 dataset.\n",
        "- Future improvements can include:\n",
        "  - Fine-tuning the GAN models for higher-quality images.\n",
        "  - Extending the project to use other types of neural networks for classification and image generation.\n",
        "  - Exploring advanced GAN architectures like Conditional GANs (cGANs) or DCGANs for improved results.\n",
        "\n",
        "---\n",
        "\n",
        "## 📅 **Conclusion**\n",
        "This project serves as an introductory exploration of GANs and image classification with the CIFAR-10 dataset. It provides hands-on experience with building neural networks and working with deep learning frameworks for image data.\n",
        "\n",
        "---\n",
        "\n",
        "## 📄 **References**\n",
        "- [CIFAR-10 Dataset](https://www.cs.toronto.edu/~kriz/cifar.html)\n",
        "- [TensorFlow GAN Tutorial](https://www.tensorflow.org/tutorials/generative/dcgan)"
      ],
      "metadata": {
        "id": "3YNuWs7HSOI6"
      }
    },
    {
      "cell_type": "code",
      "source": [],
      "metadata": {
        "id": "8qqKHpHUSWnh"
      },
      "execution_count": null,
      "outputs": []
    },
    {
      "cell_type": "code",
      "source": [],
      "metadata": {
        "id": "cKuyxqpdOPsl"
      },
      "execution_count": null,
      "outputs": []
    },
    {
      "cell_type": "code",
      "source": [],
      "metadata": {
        "id": "zjRFmIjpOQaC"
      },
      "execution_count": null,
      "outputs": []
    },
    {
      "cell_type": "markdown",
      "source": [
        "---"
      ],
      "metadata": {
        "id": "JNgBuOqHOBC1"
      }
    },
    {
      "cell_type": "code",
      "source": [
        "# Import libraries"
      ],
      "metadata": {
        "id": "AMdvY2TPN3mm"
      },
      "execution_count": 99,
      "outputs": []
    },
    {
      "cell_type": "code",
      "source": [
        "import numpy as np  # Import numpy for numerical operations"
      ],
      "metadata": {
        "id": "SvqSaYN1Jewf"
      },
      "execution_count": 42,
      "outputs": []
    },
    {
      "cell_type": "code",
      "source": [
        "import pandas as pd  # Import pandas for data manipulation"
      ],
      "metadata": {
        "id": "5En2RHJ0KZ4W"
      },
      "execution_count": 43,
      "outputs": []
    },
    {
      "cell_type": "code",
      "source": [
        "import matplotlib.pyplot as plt  # Import matplotlib for plotting graphs"
      ],
      "metadata": {
        "id": "Dgr4fmvWKZ6-"
      },
      "execution_count": 44,
      "outputs": []
    },
    {
      "cell_type": "code",
      "source": [
        "import tensorflow as tf  # Import tensorflow for machine learning models"
      ],
      "metadata": {
        "id": "UpHDImL7KZ82"
      },
      "execution_count": 45,
      "outputs": []
    },
    {
      "cell_type": "code",
      "source": [
        "from tensorflow.keras.datasets import cifar10  # Import CIFAR-10 dataset from Keras"
      ],
      "metadata": {
        "id": "TmFJEM2aKjNj"
      },
      "execution_count": 46,
      "outputs": []
    },
    {
      "cell_type": "code",
      "source": [
        "from tensorflow.keras.models import Sequential  # Import Sequential model for Keras neural networks"
      ],
      "metadata": {
        "id": "YUrflBxYKjRB"
      },
      "execution_count": 47,
      "outputs": []
    },
    {
      "cell_type": "code",
      "source": [
        "from tensorflow.keras import layers  # Import layers for adding layers to neural networks"
      ],
      "metadata": {
        "id": "JLLFem4bKjTq"
      },
      "execution_count": 48,
      "outputs": []
    },
    {
      "cell_type": "markdown",
      "source": [
        "---"
      ],
      "metadata": {
        "id": "lZX47JX7Ku5C"
      }
    },
    {
      "cell_type": "code",
      "source": [],
      "metadata": {
        "id": "LHV0xHC2Kv4i"
      },
      "execution_count": 48,
      "outputs": []
    },
    {
      "cell_type": "code",
      "source": [],
      "metadata": {
        "id": "Ixy3kBYOKv7a"
      },
      "execution_count": 48,
      "outputs": []
    },
    {
      "cell_type": "code",
      "source": [],
      "metadata": {
        "id": "n1VWyaIcKv-D"
      },
      "execution_count": 48,
      "outputs": []
    },
    {
      "cell_type": "markdown",
      "source": [
        "---"
      ],
      "metadata": {
        "id": "5Yq8IaM8Kwne"
      }
    },
    {
      "cell_type": "code",
      "source": [
        "# Load CIFAR-10 dataset"
      ],
      "metadata": {
        "id": "VSrkotiHKxxO"
      },
      "execution_count": 49,
      "outputs": []
    },
    {
      "cell_type": "code",
      "source": [
        "(x_train, y_train), (x_test, y_test) = cifar10.load_data()  # Load training and test data"
      ],
      "metadata": {
        "id": "IMDErkbKKjWj"
      },
      "execution_count": 50,
      "outputs": []
    },
    {
      "cell_type": "code",
      "source": [],
      "metadata": {
        "id": "2fEbVNY3KjY_"
      },
      "execution_count": 50,
      "outputs": []
    },
    {
      "cell_type": "code",
      "source": [],
      "metadata": {
        "id": "Vpriuiv_K22u"
      },
      "execution_count": 50,
      "outputs": []
    },
    {
      "cell_type": "code",
      "source": [
        "# Print dataset shapes"
      ],
      "metadata": {
        "id": "9995hVv7K26_"
      },
      "execution_count": 51,
      "outputs": []
    },
    {
      "cell_type": "code",
      "source": [
        "print(f\"x_train shape: {x_train.shape}\")  # Print the shape of the training images"
      ],
      "metadata": {
        "colab": {
          "base_uri": "https://localhost:8080/"
        },
        "id": "DijrwNxXK2-B",
        "outputId": "867691d9-a407-49c7-dc98-cb9fcaedd1ed"
      },
      "execution_count": 52,
      "outputs": [
        {
          "output_type": "stream",
          "name": "stdout",
          "text": [
            "x_train shape: (50000, 32, 32, 3)\n"
          ]
        }
      ]
    },
    {
      "cell_type": "code",
      "source": [],
      "metadata": {
        "id": "mQwwoe5QK9IH"
      },
      "execution_count": 52,
      "outputs": []
    },
    {
      "cell_type": "code",
      "source": [
        "print(f\"y_train shape: {y_train.shape}\")  # Print the shape of the training labels"
      ],
      "metadata": {
        "colab": {
          "base_uri": "https://localhost:8080/"
        },
        "id": "ai_zjXyhK9LW",
        "outputId": "94ff4917-ebae-4127-8916-f082dcedf7ba"
      },
      "execution_count": 53,
      "outputs": [
        {
          "output_type": "stream",
          "name": "stdout",
          "text": [
            "y_train shape: (50000, 1)\n"
          ]
        }
      ]
    },
    {
      "cell_type": "code",
      "source": [],
      "metadata": {
        "id": "QkwnzswzK9Ot"
      },
      "execution_count": 53,
      "outputs": []
    },
    {
      "cell_type": "code",
      "source": [
        "print(f\"x_test shape: {x_test.shape}\")  # Print the shape of the test images"
      ],
      "metadata": {
        "colab": {
          "base_uri": "https://localhost:8080/"
        },
        "id": "BfG16Cv8K9Ra",
        "outputId": "382ec58a-46bb-4ada-a36c-15a44cbc0020"
      },
      "execution_count": 54,
      "outputs": [
        {
          "output_type": "stream",
          "name": "stdout",
          "text": [
            "x_test shape: (10000, 32, 32, 3)\n"
          ]
        }
      ]
    },
    {
      "cell_type": "code",
      "source": [],
      "metadata": {
        "id": "a8UeHSQYK9Tu"
      },
      "execution_count": 54,
      "outputs": []
    },
    {
      "cell_type": "code",
      "source": [
        "print(f\"y_test shape: {y_test.shape}\")  # Print the shape of the test labels"
      ],
      "metadata": {
        "colab": {
          "base_uri": "https://localhost:8080/"
        },
        "id": "QPRKkkwLK9WQ",
        "outputId": "f2c65af1-2bc1-49cd-f112-a25a55ffc960"
      },
      "execution_count": 55,
      "outputs": [
        {
          "output_type": "stream",
          "name": "stdout",
          "text": [
            "y_test shape: (10000, 1)\n"
          ]
        }
      ]
    },
    {
      "cell_type": "code",
      "source": [],
      "metadata": {
        "id": "leXXxxW5LFaP"
      },
      "execution_count": 55,
      "outputs": []
    },
    {
      "cell_type": "code",
      "source": [],
      "metadata": {
        "id": "z1W8AcfQLFfp"
      },
      "execution_count": 55,
      "outputs": []
    },
    {
      "cell_type": "code",
      "source": [
        "# Convert to DataFrame for easy analysis (flattening images)"
      ],
      "metadata": {
        "id": "db1pvSV1LFlg"
      },
      "execution_count": 56,
      "outputs": []
    },
    {
      "cell_type": "code",
      "source": [
        "x_train_flat = x_train.reshape(x_train.shape[0], -1)  # Flatten training images into 1D arrays"
      ],
      "metadata": {
        "id": "uMRg26smLFqB"
      },
      "execution_count": 57,
      "outputs": []
    },
    {
      "cell_type": "code",
      "source": [
        "x_test_flat = x_test.reshape(x_test.shape[0], -1)  # Flatten test images into 1D arrays"
      ],
      "metadata": {
        "id": "tYcMo13DLFs6"
      },
      "execution_count": 58,
      "outputs": []
    },
    {
      "cell_type": "code",
      "source": [],
      "metadata": {
        "id": "tPm92vJ6LL-3"
      },
      "execution_count": 58,
      "outputs": []
    },
    {
      "cell_type": "code",
      "source": [],
      "metadata": {
        "id": "EzHy-gIILMET"
      },
      "execution_count": 58,
      "outputs": []
    },
    {
      "cell_type": "code",
      "source": [
        "# Create a DataFrame for the labels (y_train, y_test)"
      ],
      "metadata": {
        "id": "pXpPNd9gLMNv"
      },
      "execution_count": 59,
      "outputs": []
    },
    {
      "cell_type": "code",
      "source": [
        "y_train_df = pd.DataFrame(y_train, columns=[\"label\"])  # Convert training labels to DataFrame"
      ],
      "metadata": {
        "id": "s8CTV1AbLMQu"
      },
      "execution_count": 60,
      "outputs": []
    },
    {
      "cell_type": "code",
      "source": [
        "y_test_df = pd.DataFrame(y_test, columns=[\"label\"])  # Convert test labels to DataFrame"
      ],
      "metadata": {
        "id": "xljDs8DZLMTh"
      },
      "execution_count": 61,
      "outputs": []
    },
    {
      "cell_type": "code",
      "source": [],
      "metadata": {
        "id": "CiInC7BxLUQH"
      },
      "execution_count": 61,
      "outputs": []
    },
    {
      "cell_type": "code",
      "source": [],
      "metadata": {
        "id": "nCQKE1acLUTJ"
      },
      "execution_count": 61,
      "outputs": []
    },
    {
      "cell_type": "code",
      "source": [
        "# Show the first few records in the dataset"
      ],
      "metadata": {
        "id": "m-nZONo0LUV5"
      },
      "execution_count": 62,
      "outputs": []
    },
    {
      "cell_type": "code",
      "source": [
        "print(\"\\nFirst 5 records of x_train flattened:\")\n",
        "print(x_train_flat[:5])  # Display first 5 flattened training images"
      ],
      "metadata": {
        "colab": {
          "base_uri": "https://localhost:8080/"
        },
        "id": "1oGUkf0iLUYq",
        "outputId": "39895a01-d2e0-43be-cbac-440e21150fd9"
      },
      "execution_count": 63,
      "outputs": [
        {
          "output_type": "stream",
          "name": "stdout",
          "text": [
            "\n",
            "First 5 records of x_train flattened:\n",
            "[[ 59  62  63 ... 123  92  72]\n",
            " [154 177 187 ... 143 133 144]\n",
            " [255 255 255 ...  80  86  84]\n",
            " [ 28  25  10 ...  72  65  46]\n",
            " [170 180 198 ...  73  77  80]]\n"
          ]
        }
      ]
    },
    {
      "cell_type": "code",
      "source": [],
      "metadata": {
        "id": "YZr5GWYgLMVJ"
      },
      "execution_count": 63,
      "outputs": []
    },
    {
      "cell_type": "code",
      "source": [],
      "metadata": {
        "id": "SPTLLRyvLFvg"
      },
      "execution_count": 63,
      "outputs": []
    },
    {
      "cell_type": "code",
      "source": [
        "print(\"\\nFirst 5 records of y_train labels:\")\n",
        "print(y_train_df.head())  # Display first 5 labels from the training set"
      ],
      "metadata": {
        "colab": {
          "base_uri": "https://localhost:8080/"
        },
        "id": "a-WXQ-GILF5_",
        "outputId": "f48fdd44-46f7-43f7-8bc5-7097557436a9"
      },
      "execution_count": 64,
      "outputs": [
        {
          "output_type": "stream",
          "name": "stdout",
          "text": [
            "\n",
            "First 5 records of y_train labels:\n",
            "   label\n",
            "0      6\n",
            "1      9\n",
            "2      9\n",
            "3      4\n",
            "4      1\n"
          ]
        }
      ]
    },
    {
      "cell_type": "code",
      "source": [],
      "metadata": {
        "id": "EsyN5_2yLbVv"
      },
      "execution_count": 64,
      "outputs": []
    },
    {
      "cell_type": "code",
      "source": [],
      "metadata": {
        "id": "qNfGXUXHLbbB"
      },
      "execution_count": 64,
      "outputs": []
    },
    {
      "cell_type": "code",
      "source": [
        "# Show dataset info (memory usage, number of non-null entries)"
      ],
      "metadata": {
        "id": "rUDQ_9OuLbeR"
      },
      "execution_count": 65,
      "outputs": []
    },
    {
      "cell_type": "code",
      "source": [
        "x_train_df = pd.DataFrame(x_train_flat)  # Convert flattened images to DataFrame for summary"
      ],
      "metadata": {
        "id": "QidM1yB3K9ge"
      },
      "execution_count": 66,
      "outputs": []
    },
    {
      "cell_type": "code",
      "source": [
        "print(\"\\nSummary of x_train flattened:\")\n",
        "print(x_train_df.info())  # Display info about the training images (e.g., memory usage, non-null count)\n"
      ],
      "metadata": {
        "colab": {
          "base_uri": "https://localhost:8080/"
        },
        "id": "9LyMHclUKjb8",
        "outputId": "1482b821-cc21-4422-fe84-6986b40b726b"
      },
      "execution_count": 67,
      "outputs": [
        {
          "output_type": "stream",
          "name": "stdout",
          "text": [
            "\n",
            "Summary of x_train flattened:\n",
            "<class 'pandas.core.frame.DataFrame'>\n",
            "RangeIndex: 50000 entries, 0 to 49999\n",
            "Columns: 3072 entries, 0 to 3071\n",
            "dtypes: uint8(3072)\n",
            "memory usage: 146.5 MB\n",
            "None\n"
          ]
        }
      ]
    },
    {
      "cell_type": "code",
      "source": [],
      "metadata": {
        "id": "nrpwZDSQKZ_T"
      },
      "execution_count": 67,
      "outputs": []
    },
    {
      "cell_type": "code",
      "source": [],
      "metadata": {
        "id": "JH_RCltCKaBs"
      },
      "execution_count": 67,
      "outputs": []
    },
    {
      "cell_type": "code",
      "source": [
        "print(\"\\nSummary of y_train labels:\")\n",
        "print(y_train_df.info())  # Display info about the training labels"
      ],
      "metadata": {
        "colab": {
          "base_uri": "https://localhost:8080/"
        },
        "id": "tO39ruqSKaGP",
        "outputId": "92c40ba8-4e76-4e0f-a157-190a67685a3e"
      },
      "execution_count": 68,
      "outputs": [
        {
          "output_type": "stream",
          "name": "stdout",
          "text": [
            "\n",
            "Summary of y_train labels:\n",
            "<class 'pandas.core.frame.DataFrame'>\n",
            "RangeIndex: 50000 entries, 0 to 49999\n",
            "Data columns (total 1 columns):\n",
            " #   Column  Non-Null Count  Dtype\n",
            "---  ------  --------------  -----\n",
            " 0   label   50000 non-null  uint8\n",
            "dtypes: uint8(1)\n",
            "memory usage: 49.0 KB\n",
            "None\n"
          ]
        }
      ]
    },
    {
      "cell_type": "code",
      "source": [],
      "metadata": {
        "id": "K9nyzUKOKaM9"
      },
      "execution_count": 68,
      "outputs": []
    },
    {
      "cell_type": "code",
      "source": [],
      "metadata": {
        "id": "eZUB38eIKadW"
      },
      "execution_count": 68,
      "outputs": []
    },
    {
      "cell_type": "code",
      "source": [
        "# Show basic statistics (mean, min, max, std)"
      ],
      "metadata": {
        "id": "QBVY189KKagJ"
      },
      "execution_count": 69,
      "outputs": []
    },
    {
      "cell_type": "code",
      "source": [
        "print(\"\\nSummary statistics of x_train flattened:\")\n",
        "print(x_train_df.describe())  # Display descriptive statistics (mean, std, min, max) for training images\n"
      ],
      "metadata": {
        "colab": {
          "base_uri": "https://localhost:8080/"
        },
        "id": "HQKl9tBXKaiX",
        "outputId": "1c4eb185-f144-4841-c1d5-f591f3873f3b"
      },
      "execution_count": 70,
      "outputs": [
        {
          "output_type": "stream",
          "name": "stdout",
          "text": [
            "\n",
            "Summary statistics of x_train flattened:\n",
            "               0            1             2            3             4     \\\n",
            "count  50000.000000  50000.00000  50000.000000  50000.00000  50000.000000   \n",
            "mean     130.710740    136.05614    132.553800    130.14036    135.442380   \n",
            "std       73.412873     72.90798     80.449751     72.44259     71.901316   \n",
            "min        0.000000      0.00000      0.000000      0.00000      0.000000   \n",
            "25%       71.000000     77.00000     61.000000     71.00000     78.000000   \n",
            "50%      128.000000    135.00000    127.000000    127.00000    135.000000   \n",
            "75%      189.000000    195.00000    207.000000    188.00000    193.000000   \n",
            "max      255.000000    255.00000    255.000000    255.00000    255.000000   \n",
            "\n",
            "               5             6            7             8             9     \\\n",
            "count  50000.000000  50000.000000  50000.00000  50000.000000  50000.000000   \n",
            "mean     131.853580    131.050440    136.24616    132.581440    131.568860   \n",
            "std       79.598048     72.240546     71.67471     79.434675     72.016555   \n",
            "min        0.000000      0.000000      0.00000      0.000000      0.000000   \n",
            "25%       61.000000     73.000000     79.00000     62.000000     73.000000   \n",
            "50%      127.000000    129.000000    136.00000    128.000000    130.000000   \n",
            "75%      206.000000    188.000000    194.00000    206.000000    188.000000   \n",
            "max      255.000000    255.000000    255.00000    255.000000    255.000000   \n",
            "\n",
            "       ...          3062          3063          3064          3065  \\\n",
            "count  ...  50000.000000  50000.000000  50000.000000  50000.000000   \n",
            "mean   ...    113.877800    126.778360    125.697080    113.830580   \n",
            "std    ...     64.738943     63.954763     61.591233     64.894603   \n",
            "min    ...      0.000000      0.000000      0.000000      0.000000   \n",
            "25%    ...     64.000000     79.000000     81.000000     64.000000   \n",
            "50%    ...    106.000000    124.000000    123.000000    106.000000   \n",
            "75%    ...    157.000000    172.000000    167.000000    157.000000   \n",
            "max    ...    255.000000    255.000000    255.000000    255.000000   \n",
            "\n",
            "               3066          3067          3068          3069          3070  \\\n",
            "count  50000.000000  50000.000000  50000.000000  50000.000000  50000.000000   \n",
            "mean     126.564960    125.617420    113.906240    126.639080    125.850300   \n",
            "std       64.178427     61.831646     65.212671     64.926283     62.649286   \n",
            "min        0.000000      0.000000      0.000000      0.000000      0.000000   \n",
            "25%       79.000000     81.000000     64.000000     78.000000     80.000000   \n",
            "50%      124.000000    123.000000    106.000000    124.000000    123.000000   \n",
            "75%      172.000000    167.000000    157.000000    172.000000    168.000000   \n",
            "max      255.000000    255.000000    255.000000    255.000000    255.000000   \n",
            "\n",
            "               3071  \n",
            "count  50000.000000  \n",
            "mean     114.381860  \n",
            "std       66.077526  \n",
            "min        0.000000  \n",
            "25%       63.000000  \n",
            "50%      106.000000  \n",
            "75%      158.000000  \n",
            "max      255.000000  \n",
            "\n",
            "[8 rows x 3072 columns]\n"
          ]
        }
      ]
    },
    {
      "cell_type": "code",
      "source": [],
      "metadata": {
        "id": "yviJ9xqCLr03"
      },
      "execution_count": 70,
      "outputs": []
    },
    {
      "cell_type": "code",
      "source": [],
      "metadata": {
        "id": "Sb0YXl7zLr93"
      },
      "execution_count": 70,
      "outputs": []
    },
    {
      "cell_type": "code",
      "source": [
        "print(\"\\nSummary statistics of y_train labels:\")\n",
        "print(y_train_df.describe())  # Display descriptive statistics for training labels"
      ],
      "metadata": {
        "colab": {
          "base_uri": "https://localhost:8080/"
        },
        "id": "uHRiArKTLsEC",
        "outputId": "fdad7744-f923-4061-8cdb-3484dc9c24f4"
      },
      "execution_count": 71,
      "outputs": [
        {
          "output_type": "stream",
          "name": "stdout",
          "text": [
            "\n",
            "Summary statistics of y_train labels:\n",
            "             label\n",
            "count  50000.00000\n",
            "mean       4.50000\n",
            "std        2.87231\n",
            "min        0.00000\n",
            "25%        2.00000\n",
            "50%        4.50000\n",
            "75%        7.00000\n",
            "max        9.00000\n"
          ]
        }
      ]
    },
    {
      "cell_type": "code",
      "source": [],
      "metadata": {
        "id": "h22lts8LLsHb"
      },
      "execution_count": 71,
      "outputs": []
    },
    {
      "cell_type": "code",
      "source": [],
      "metadata": {
        "id": "NZ8VNKXpLsLN"
      },
      "execution_count": 71,
      "outputs": []
    },
    {
      "cell_type": "code",
      "source": [
        "# Check for missing values in x_train and y_train"
      ],
      "metadata": {
        "id": "j46z_XzWLsPz"
      },
      "execution_count": 72,
      "outputs": []
    },
    {
      "cell_type": "code",
      "source": [
        "missing_train_images = x_train_df.isnull().sum().sum()  # Check for missing values in training images\n"
      ],
      "metadata": {
        "id": "dN8W6XxJLsRa"
      },
      "execution_count": 73,
      "outputs": []
    },
    {
      "cell_type": "code",
      "source": [
        "missing_train_labels = y_train_df.isnull().sum().sum()  # Check for missing values in training labels\n"
      ],
      "metadata": {
        "id": "IXx-yc9yLsWP"
      },
      "execution_count": 74,
      "outputs": []
    },
    {
      "cell_type": "code",
      "source": [
        "print(f\"\\nMissing values in x_train: {missing_train_images}\")  # Print the number of missing values in images\n"
      ],
      "metadata": {
        "colab": {
          "base_uri": "https://localhost:8080/"
        },
        "id": "XDHZK3CXKakJ",
        "outputId": "5285abc4-f57c-47d7-c90f-ea08b48826bc"
      },
      "execution_count": 75,
      "outputs": [
        {
          "output_type": "stream",
          "name": "stdout",
          "text": [
            "\n",
            "Missing values in x_train: 0\n"
          ]
        }
      ]
    },
    {
      "cell_type": "code",
      "source": [],
      "metadata": {
        "id": "MIpyk7XPKama"
      },
      "execution_count": 75,
      "outputs": []
    },
    {
      "cell_type": "code",
      "source": [
        "print(f\"Missing values in y_train: {missing_train_labels}\")  # Print the number of missing values in labels\n"
      ],
      "metadata": {
        "colab": {
          "base_uri": "https://localhost:8080/"
        },
        "id": "dune1_WPJeze",
        "outputId": "b9e52c70-c4f3-4d2b-efd1-836729bed747"
      },
      "execution_count": 76,
      "outputs": [
        {
          "output_type": "stream",
          "name": "stdout",
          "text": [
            "Missing values in y_train: 0\n"
          ]
        }
      ]
    },
    {
      "cell_type": "code",
      "source": [],
      "metadata": {
        "id": "9D12oYRMJe2C"
      },
      "execution_count": 76,
      "outputs": []
    },
    {
      "cell_type": "code",
      "source": [],
      "metadata": {
        "id": "3W14XFbYJe4v"
      },
      "execution_count": 76,
      "outputs": []
    },
    {
      "cell_type": "code",
      "source": [
        "# Check class distribution"
      ],
      "metadata": {
        "id": "_MYj5RIDJe7b"
      },
      "execution_count": 77,
      "outputs": []
    },
    {
      "cell_type": "code",
      "source": [
        "unique_classes, counts = np.unique(y_train, return_counts=True)  # Get unique class labels and their counts\n"
      ],
      "metadata": {
        "id": "bmtVac56MGwf"
      },
      "execution_count": 78,
      "outputs": []
    },
    {
      "cell_type": "code",
      "source": [
        "print(\"\\nClass labels:\", unique_classes)  # Print unique class labels"
      ],
      "metadata": {
        "colab": {
          "base_uri": "https://localhost:8080/"
        },
        "id": "TqMnCGiqMGzb",
        "outputId": "88621e4a-7d82-47e6-e8fc-04c329a2a622"
      },
      "execution_count": 79,
      "outputs": [
        {
          "output_type": "stream",
          "name": "stdout",
          "text": [
            "\n",
            "Class labels: [0 1 2 3 4 5 6 7 8 9]\n"
          ]
        }
      ]
    },
    {
      "cell_type": "code",
      "source": [
        "print(\"Class distribution:\", dict(zip(unique_classes, counts)))  # Print the distribution of classes in the training set\n"
      ],
      "metadata": {
        "colab": {
          "base_uri": "https://localhost:8080/"
        },
        "id": "2c6G9iwaMG6e",
        "outputId": "01ceb9e9-1beb-4fb5-df5c-cd75b895e9ee"
      },
      "execution_count": 80,
      "outputs": [
        {
          "output_type": "stream",
          "name": "stdout",
          "text": [
            "Class distribution: {0: 5000, 1: 5000, 2: 5000, 3: 5000, 4: 5000, 5: 5000, 6: 5000, 7: 5000, 8: 5000, 9: 5000}\n"
          ]
        }
      ]
    },
    {
      "cell_type": "code",
      "source": [],
      "metadata": {
        "id": "11P2vDrtMHCI"
      },
      "execution_count": 80,
      "outputs": []
    },
    {
      "cell_type": "code",
      "source": [],
      "metadata": {
        "id": "RYqOybK1MHFh"
      },
      "execution_count": 80,
      "outputs": []
    },
    {
      "cell_type": "code",
      "source": [
        "# Display some sample images from each class"
      ],
      "metadata": {
        "id": "1kdeV_7yMHJE"
      },
      "execution_count": 81,
      "outputs": []
    },
    {
      "cell_type": "code",
      "source": [
        "class_names = ['airplane', 'automobile', 'bird', 'cat', 'deer',  # List of class names\n",
        "               'dog', 'frog', 'horse', 'ship', 'truck']  # List of class names\n"
      ],
      "metadata": {
        "id": "ACnDrqVPMHMi"
      },
      "execution_count": 82,
      "outputs": []
    },
    {
      "cell_type": "code",
      "source": [],
      "metadata": {
        "id": "OW2BOpmsMSgi"
      },
      "execution_count": 82,
      "outputs": []
    },
    {
      "cell_type": "code",
      "source": [
        "def plot_sample_images(x, y, class_names):  # Function to plot sample images from each class\n",
        "    plt.figure(figsize=(12, 12))  # Create a figure with a size of 12x12 inches\n",
        "    for i in range(10):  # Loop over 10 classes\n",
        "        idx = np.where(y == i)[0][0]  # Get the index of the first image in the class\n",
        "        plt.subplot(5, 5, i+1)  # Create a subplot for each image\n",
        "        plt.imshow(x[idx])  # Display the image at the given index\n",
        "        plt.title(class_names[i])  # Set the title of the subplot to the class name\n",
        "        plt.axis('off')  # Hide axes for cleaner visualization\n",
        "    plt.show()  # Display the plot"
      ],
      "metadata": {
        "id": "iqz-imTBMSjf"
      },
      "execution_count": 83,
      "outputs": []
    },
    {
      "cell_type": "code",
      "source": [],
      "metadata": {
        "id": "RZNhkXMQMYlo"
      },
      "execution_count": 83,
      "outputs": []
    },
    {
      "cell_type": "code",
      "source": [
        "print(\"\\nSample images from each class:\")\n",
        "plot_sample_images(x_train, y_train, class_names)  # Plot sample images from the training set"
      ],
      "metadata": {
        "colab": {
          "base_uri": "https://localhost:8080/",
          "height": 392
        },
        "id": "ZCcWMUYOMYpC",
        "outputId": "dd05c0db-f747-4d5e-b5ce-df39aeaf4a97"
      },
      "execution_count": 84,
      "outputs": [
        {
          "output_type": "stream",
          "name": "stdout",
          "text": [
            "\n",
            "Sample images from each class:\n"
          ]
        },
        {
          "output_type": "display_data",
          "data": {
            "text/plain": [
              "<Figure size 1200x1200 with 10 Axes>"
            ],
            "image/png": "[encoded data removed]"
          },
          "metadata": {}
        }
      ]
    },
    {
      "cell_type": "code",
      "source": [],
      "metadata": {
        "id": "FC_zGNgmMYr8"
      },
      "execution_count": 84,
      "outputs": []
    },
    {
      "cell_type": "code",
      "source": [],
      "metadata": {
        "id": "EjQ2CiubMYxp"
      },
      "execution_count": 84,
      "outputs": []
    },
    {
      "cell_type": "code",
      "source": [
        "# Summary statistics of pixel values"
      ],
      "metadata": {
        "id": "yiqRDOH4MY07"
      },
      "execution_count": 85,
      "outputs": []
    },
    {
      "cell_type": "code",
      "source": [
        "print(\"\\nSummary statistics of pixel values:\")\n",
        "print(f\"Data type: {x_train.dtype}\")  # Print the data type of the training images\n",
        "print(f\"Max pixel value in training set: {x_train.max()}\")  # Print the maximum pixel value in the training images\n",
        "print(f\"Min pixel value in training set: {x_train.min()}\")  # Print the minimum pixel value in the training images\n"
      ],
      "metadata": {
        "colab": {
          "base_uri": "https://localhost:8080/"
        },
        "id": "3ktvadWYMY4j",
        "outputId": "33c91036-7487-42fd-d2ac-0f7874d26fe8"
      },
      "execution_count": 86,
      "outputs": [
        {
          "output_type": "stream",
          "name": "stdout",
          "text": [
            "\n",
            "Summary statistics of pixel values:\n",
            "Data type: uint8\n",
            "Max pixel value in training set: 255\n",
            "Min pixel value in training set: 0\n"
          ]
        }
      ]
    },
    {
      "cell_type": "code",
      "source": [],
      "metadata": {
        "id": "-QpdMRuxMqU6"
      },
      "execution_count": 86,
      "outputs": []
    },
    {
      "cell_type": "code",
      "source": [],
      "metadata": {
        "id": "PS_wDklGMqYP"
      },
      "execution_count": 86,
      "outputs": []
    },
    {
      "cell_type": "code",
      "source": [
        "# Normalize the images to [-1, 1] for GAN"
      ],
      "metadata": {
        "id": "Zl4YiCDSMsRS"
      },
      "execution_count": 87,
      "outputs": []
    },
    {
      "cell_type": "code",
      "source": [
        "x_train = x_train / 127.5 - 1  # Normalize the pixel values of training images to the range [-1, 1]"
      ],
      "metadata": {
        "id": "3pClGpiNMqdl"
      },
      "execution_count": 88,
      "outputs": []
    },
    {
      "cell_type": "code",
      "source": [
        "x_test = x_test / 127.5 - 1  # Normalize the pixel values of test images to the range [-1, 1]"
      ],
      "metadata": {
        "id": "Mu2_skXhMZAC"
      },
      "execution_count": 89,
      "outputs": []
    },
    {
      "cell_type": "markdown",
      "source": [
        "---"
      ],
      "metadata": {
        "id": "32WNoXKVPjO0"
      }
    },
    {
      "cell_type": "code",
      "source": [],
      "metadata": {
        "id": "mAHDoMBnMSlR"
      },
      "execution_count": 89,
      "outputs": []
    },
    {
      "cell_type": "code",
      "source": [],
      "metadata": {
        "id": "6x1OuUiKMSqe"
      },
      "execution_count": 89,
      "outputs": []
    },
    {
      "cell_type": "code",
      "source": [],
      "metadata": {
        "id": "cikljOoGPoEk"
      },
      "execution_count": null,
      "outputs": []
    },
    {
      "cell_type": "markdown",
      "source": [
        "---"
      ],
      "metadata": {
        "id": "8NlrECnBPofp"
      }
    },
    {
      "cell_type": "code",
      "source": [
        "# Build Generator Model"
      ],
      "metadata": {
        "id": "uT222D5wMSs0"
      },
      "execution_count": 90,
      "outputs": []
    },
    {
      "cell_type": "code",
      "source": [
        "def build_generator():  # Function to build the generator model for the GAN\n",
        "    model = Sequential()  # Initialize a Sequential model\n",
        "    model.add(layers.Dense(8 * 8 * 256, activation=\"relu\", input_shape=(100,)))  # Add a dense layer with ReLU activation\n",
        "    model.add(layers.Reshape((8, 8, 256)))  # Reshape the output into a 3D tensor\n",
        "    model.add(layers.BatchNormalization())  # Add batch normalization for stabilizing training\n",
        "    model.add(layers.UpSampling2D())  # Upsample the image size\n",
        "    model.add(layers.Conv2D(128, kernel_size=3, padding=\"same\", activation=\"relu\"))  # Add convolutional layer\n",
        "    model.add(layers.BatchNormalization())  # Add batch normalization\n",
        "    model.add(layers.UpSampling2D())  # Upsample the image size again\n",
        "    model.add(layers.Conv2D(64, kernel_size=3, padding=\"same\", activation=\"relu\"))  # Add another convolutional layer\n",
        "    model.add(layers.BatchNormalization())  # Add batch normalization\n",
        "    model.add(layers.Conv2D(3, kernel_size=3, padding=\"same\", activation=\"tanh\"))  # Add final convolutional layer with tanh activation\n",
        "    return model  # Return the constructed generator model"
      ],
      "metadata": {
        "id": "90ZCeYWJMSxh"
      },
      "execution_count": 91,
      "outputs": []
    },
    {
      "cell_type": "code",
      "source": [],
      "metadata": {
        "id": "HtGBVc0WM20o"
      },
      "execution_count": 91,
      "outputs": []
    },
    {
      "cell_type": "code",
      "source": [
        "generator = build_generator()  # Build the generator model"
      ],
      "metadata": {
        "colab": {
          "base_uri": "https://localhost:8080/"
        },
        "id": "kpzDzMPUM23s",
        "outputId": "fea5f655-7cdd-431c-8408-9e2b0a334984"
      },
      "execution_count": 92,
      "outputs": [
        {
          "output_type": "stream",
          "name": "stderr",
          "text": [
            "/usr/local/lib/python3.10/dist-packages/keras/src/layers/core/dense.py:87: UserWarning: Do not pass an `input_shape`/`input_dim` argument to a layer. When using Sequential models, prefer using an `Input(shape)` object as the first layer in the model instead.\n",
            "  super().__init__(activity_regularizer=activity_regularizer, **kwargs)\n"
          ]
        }
      ]
    },
    {
      "cell_type": "code",
      "source": [
        "generator.summary()  # Print the summary of the generator model"
      ],
      "metadata": {
        "colab": {
          "base_uri": "https://localhost:8080/",
          "height": 508
        },
        "id": "6rBx0dxpM29e",
        "outputId": "1221fbf1-0850-436c-fd66-472a83bdca81"
      },
      "execution_count": 93,
      "outputs": [
        {
          "output_type": "display_data",
          "data": {
            "text/plain": [
              "\u001b[1mModel: \"sequential_48\"\u001b[0m\n"
            ],
            "text/html": [
              "<pre style=\"white-space:pre;overflow-x:auto;line-height:normal;font-family:Menlo,'DejaVu Sans Mono',consolas,'Courier New',monospace\"><span style=\"font-weight: bold\">Model: \"sequential_48\"</span>\n",
              "</pre>\n"
            ]
          },
          "metadata": {}
        },
        {
          "output_type": "display_data",
          "data": {
            "text/plain": [
              "┏━━━━━━━━━━━━━━━━━━━━━━━━━━━━━━━━━━━━━━┳━━━━━━━━━━━━━━━━━━━━━━━━━━━━━┳━━━━━━━━━━━━━━━━━┓\n",
              "┃\u001b[1m \u001b[0m\u001b[1mLayer (type)                        \u001b[0m\u001b[1m \u001b[0m┃\u001b[1m \u001b[0m\u001b[1mOutput Shape               \u001b[0m\u001b[1m \u001b[0m┃\u001b[1m \u001b[0m\u001b[1m        Param #\u001b[0m\u001b[1m \u001b[0m┃\n",
              "┡━━━━━━━━━━━━━━━━━━━━━━━━━━━━━━━━━━━━━━╇━━━━━━━━━━━━━━━━━━━━━━━━━━━━━╇━━━━━━━━━━━━━━━━━┩\n",
              "│ dense_38 (\u001b[38;5;33mDense\u001b[0m)                     │ (\u001b[38;5;45mNone\u001b[0m, \u001b[38;5;34m16384\u001b[0m)               │       \u001b[38;5;34m1,654,784\u001b[0m │\n",
              "├──────────────────────────────────────┼─────────────────────────────┼─────────────────┤\n",
              "│ reshape_21 (\u001b[38;5;33mReshape\u001b[0m)                 │ (\u001b[38;5;45mNone\u001b[0m, \u001b[38;5;34m8\u001b[0m, \u001b[38;5;34m8\u001b[0m, \u001b[38;5;34m256\u001b[0m)           │               \u001b[38;5;34m0\u001b[0m │\n",
              "├──────────────────────────────────────┼─────────────────────────────┼─────────────────┤\n",
              "│ batch_normalization_39               │ (\u001b[38;5;45mNone\u001b[0m, \u001b[38;5;34m8\u001b[0m, \u001b[38;5;34m8\u001b[0m, \u001b[38;5;34m256\u001b[0m)           │           \u001b[38;5;34m1,024\u001b[0m │\n",
              "│ (\u001b[38;5;33mBatchNormalization\u001b[0m)                 │                             │                 │\n",
              "├──────────────────────────────────────┼─────────────────────────────┼─────────────────┤\n",
              "│ up_sampling2d_27 (\u001b[38;5;33mUpSampling2D\u001b[0m)      │ (\u001b[38;5;45mNone\u001b[0m, \u001b[38;5;34m16\u001b[0m, \u001b[38;5;34m16\u001b[0m, \u001b[38;5;34m256\u001b[0m)         │               \u001b[38;5;34m0\u001b[0m │\n",
              "├──────────────────────────────────────┼─────────────────────────────┼─────────────────┤\n",
              "│ conv2d_83 (\u001b[38;5;33mConv2D\u001b[0m)                   │ (\u001b[38;5;45mNone\u001b[0m, \u001b[38;5;34m16\u001b[0m, \u001b[38;5;34m16\u001b[0m, \u001b[38;5;34m128\u001b[0m)         │         \u001b[38;5;34m295,040\u001b[0m │\n",
              "├──────────────────────────────────────┼─────────────────────────────┼─────────────────┤\n",
              "│ batch_normalization_40               │ (\u001b[38;5;45mNone\u001b[0m, \u001b[38;5;34m16\u001b[0m, \u001b[38;5;34m16\u001b[0m, \u001b[38;5;34m128\u001b[0m)         │             \u001b[38;5;34m512\u001b[0m │\n",
              "│ (\u001b[38;5;33mBatchNormalization\u001b[0m)                 │                             │                 │\n",
              "├──────────────────────────────────────┼─────────────────────────────┼─────────────────┤\n",
              "│ up_sampling2d_28 (\u001b[38;5;33mUpSampling2D\u001b[0m)      │ (\u001b[38;5;45mNone\u001b[0m, \u001b[38;5;34m32\u001b[0m, \u001b[38;5;34m32\u001b[0m, \u001b[38;5;34m128\u001b[0m)         │               \u001b[38;5;34m0\u001b[0m │\n",
              "├──────────────────────────────────────┼─────────────────────────────┼─────────────────┤\n",
              "│ conv2d_84 (\u001b[38;5;33mConv2D\u001b[0m)                   │ (\u001b[38;5;45mNone\u001b[0m, \u001b[38;5;34m32\u001b[0m, \u001b[38;5;34m32\u001b[0m, \u001b[38;5;34m64\u001b[0m)          │          \u001b[38;5;34m73,792\u001b[0m │\n",
              "├──────────────────────────────────────┼─────────────────────────────┼─────────────────┤\n",
              "│ batch_normalization_41               │ (\u001b[38;5;45mNone\u001b[0m, \u001b[38;5;34m32\u001b[0m, \u001b[38;5;34m32\u001b[0m, \u001b[38;5;34m64\u001b[0m)          │             \u001b[38;5;34m256\u001b[0m │\n",
              "│ (\u001b[38;5;33mBatchNormalization\u001b[0m)                 │                             │                 │\n",
              "├──────────────────────────────────────┼─────────────────────────────┼─────────────────┤\n",
              "│ conv2d_85 (\u001b[38;5;33mConv2D\u001b[0m)                   │ (\u001b[38;5;45mNone\u001b[0m, \u001b[38;5;34m32\u001b[0m, \u001b[38;5;34m32\u001b[0m, \u001b[38;5;34m3\u001b[0m)           │           \u001b[38;5;34m1,731\u001b[0m │\n",
              "└──────────────────────────────────────┴─────────────────────────────┴─────────────────┘\n"
            ],
            "text/html": [
              "<pre style=\"white-space:pre;overflow-x:auto;line-height:normal;font-family:Menlo,'DejaVu Sans Mono',consolas,'Courier New',monospace\">┏━━━━━━━━━━━━━━━━━━━━━━━━━━━━━━━━━━━━━━┳━━━━━━━━━━━━━━━━━━━━━━━━━━━━━┳━━━━━━━━━━━━━━━━━┓\n",
              "┃<span style=\"font-weight: bold\"> Layer (type)                         </span>┃<span style=\"font-weight: bold\"> Output Shape                </span>┃<span style=\"font-weight: bold\">         Param # </span>┃\n",
              "┡━━━━━━━━━━━━━━━━━━━━━━━━━━━━━━━━━━━━━━╇━━━━━━━━━━━━━━━━━━━━━━━━━━━━━╇━━━━━━━━━━━━━━━━━┩\n",
              "│ dense_38 (<span style=\"color: #0087ff; text-decoration-color: #0087ff\">Dense</span>)                     │ (<span style=\"color: #00d7ff; text-decoration-color: #00d7ff\">None</span>, <span style=\"color: #00af00; text-decoration-color: #00af00\">16384</span>)               │       <span style=\"color: #00af00; text-decoration-color: #00af00\">1,654,784</span> │\n",
              "├──────────────────────────────────────┼─────────────────────────────┼─────────────────┤\n",
              "│ reshape_21 (<span style=\"color: #0087ff; text-decoration-color: #0087ff\">Reshape</span>)                 │ (<span style=\"color: #00d7ff; text-decoration-color: #00d7ff\">None</span>, <span style=\"color: #00af00; text-decoration-color: #00af00\">8</span>, <span style=\"color: #00af00; text-decoration-color: #00af00\">8</span>, <span style=\"color: #00af00; text-decoration-color: #00af00\">256</span>)           │               <span style=\"color: #00af00; text-decoration-color: #00af00\">0</span> │\n",
              "├──────────────────────────────────────┼─────────────────────────────┼─────────────────┤\n",
              "│ batch_normalization_39               │ (<span style=\"color: #00d7ff; text-decoration-color: #00d7ff\">None</span>, <span style=\"color: #00af00; text-decoration-color: #00af00\">8</span>, <span style=\"color: #00af00; text-decoration-color: #00af00\">8</span>, <span style=\"color: #00af00; text-decoration-color: #00af00\">256</span>)           │           <span style=\"color: #00af00; text-decoration-color: #00af00\">1,024</span> │\n",
              "│ (<span style=\"color: #0087ff; text-decoration-color: #0087ff\">BatchNormalization</span>)                 │                             │                 │\n",
              "├──────────────────────────────────────┼─────────────────────────────┼─────────────────┤\n",
              "│ up_sampling2d_27 (<span style=\"color: #0087ff; text-decoration-color: #0087ff\">UpSampling2D</span>)      │ (<span style=\"color: #00d7ff; text-decoration-color: #00d7ff\">None</span>, <span style=\"color: #00af00; text-decoration-color: #00af00\">16</span>, <span style=\"color: #00af00; text-decoration-color: #00af00\">16</span>, <span style=\"color: #00af00; text-decoration-color: #00af00\">256</span>)         │               <span style=\"color: #00af00; text-decoration-color: #00af00\">0</span> │\n",
              "├──────────────────────────────────────┼─────────────────────────────┼─────────────────┤\n",
              "│ conv2d_83 (<span style=\"color: #0087ff; text-decoration-color: #0087ff\">Conv2D</span>)                   │ (<span style=\"color: #00d7ff; text-decoration-color: #00d7ff\">None</span>, <span style=\"color: #00af00; text-decoration-color: #00af00\">16</span>, <span style=\"color: #00af00; text-decoration-color: #00af00\">16</span>, <span style=\"color: #00af00; text-decoration-color: #00af00\">128</span>)         │         <span style=\"color: #00af00; text-decoration-color: #00af00\">295,040</span> │\n",
              "├──────────────────────────────────────┼─────────────────────────────┼─────────────────┤\n",
              "│ batch_normalization_40               │ (<span style=\"color: #00d7ff; text-decoration-color: #00d7ff\">None</span>, <span style=\"color: #00af00; text-decoration-color: #00af00\">16</span>, <span style=\"color: #00af00; text-decoration-color: #00af00\">16</span>, <span style=\"color: #00af00; text-decoration-color: #00af00\">128</span>)         │             <span style=\"color: #00af00; text-decoration-color: #00af00\">512</span> │\n",
              "│ (<span style=\"color: #0087ff; text-decoration-color: #0087ff\">BatchNormalization</span>)                 │                             │                 │\n",
              "├──────────────────────────────────────┼─────────────────────────────┼─────────────────┤\n",
              "│ up_sampling2d_28 (<span style=\"color: #0087ff; text-decoration-color: #0087ff\">UpSampling2D</span>)      │ (<span style=\"color: #00d7ff; text-decoration-color: #00d7ff\">None</span>, <span style=\"color: #00af00; text-decoration-color: #00af00\">32</span>, <span style=\"color: #00af00; text-decoration-color: #00af00\">32</span>, <span style=\"color: #00af00; text-decoration-color: #00af00\">128</span>)         │               <span style=\"color: #00af00; text-decoration-color: #00af00\">0</span> │\n",
              "├──────────────────────────────────────┼─────────────────────────────┼─────────────────┤\n",
              "│ conv2d_84 (<span style=\"color: #0087ff; text-decoration-color: #0087ff\">Conv2D</span>)                   │ (<span style=\"color: #00d7ff; text-decoration-color: #00d7ff\">None</span>, <span style=\"color: #00af00; text-decoration-color: #00af00\">32</span>, <span style=\"color: #00af00; text-decoration-color: #00af00\">32</span>, <span style=\"color: #00af00; text-decoration-color: #00af00\">64</span>)          │          <span style=\"color: #00af00; text-decoration-color: #00af00\">73,792</span> │\n",
              "├──────────────────────────────────────┼─────────────────────────────┼─────────────────┤\n",
              "│ batch_normalization_41               │ (<span style=\"color: #00d7ff; text-decoration-color: #00d7ff\">None</span>, <span style=\"color: #00af00; text-decoration-color: #00af00\">32</span>, <span style=\"color: #00af00; text-decoration-color: #00af00\">32</span>, <span style=\"color: #00af00; text-decoration-color: #00af00\">64</span>)          │             <span style=\"color: #00af00; text-decoration-color: #00af00\">256</span> │\n",
              "│ (<span style=\"color: #0087ff; text-decoration-color: #0087ff\">BatchNormalization</span>)                 │                             │                 │\n",
              "├──────────────────────────────────────┼─────────────────────────────┼─────────────────┤\n",
              "│ conv2d_85 (<span style=\"color: #0087ff; text-decoration-color: #0087ff\">Conv2D</span>)                   │ (<span style=\"color: #00d7ff; text-decoration-color: #00d7ff\">None</span>, <span style=\"color: #00af00; text-decoration-color: #00af00\">32</span>, <span style=\"color: #00af00; text-decoration-color: #00af00\">32</span>, <span style=\"color: #00af00; text-decoration-color: #00af00\">3</span>)           │           <span style=\"color: #00af00; text-decoration-color: #00af00\">1,731</span> │\n",
              "└──────────────────────────────────────┴─────────────────────────────┴─────────────────┘\n",
              "</pre>\n"
            ]
          },
          "metadata": {}
        },
        {
          "output_type": "display_data",
          "data": {
            "text/plain": [
              "\u001b[1m Total params: \u001b[0m\u001b[38;5;34m2,027,139\u001b[0m (7.73 MB)\n"
            ],
            "text/html": [
              "<pre style=\"white-space:pre;overflow-x:auto;line-height:normal;font-family:Menlo,'DejaVu Sans Mono',consolas,'Courier New',monospace\"><span style=\"font-weight: bold\"> Total params: </span><span style=\"color: #00af00; text-decoration-color: #00af00\">2,027,139</span> (7.73 MB)\n",
              "</pre>\n"
            ]
          },
          "metadata": {}
        },
        {
          "output_type": "display_data",
          "data": {
            "text/plain": [
              "\u001b[1m Trainable params: \u001b[0m\u001b[38;5;34m2,026,243\u001b[0m (7.73 MB)\n"
            ],
            "text/html": [
              "<pre style=\"white-space:pre;overflow-x:auto;line-height:normal;font-family:Menlo,'DejaVu Sans Mono',consolas,'Courier New',monospace\"><span style=\"font-weight: bold\"> Trainable params: </span><span style=\"color: #00af00; text-decoration-color: #00af00\">2,026,243</span> (7.73 MB)\n",
              "</pre>\n"
            ]
          },
          "metadata": {}
        },
        {
          "output_type": "display_data",
          "data": {
            "text/plain": [
              "\u001b[1m Non-trainable params: \u001b[0m\u001b[38;5;34m896\u001b[0m (3.50 KB)\n"
            ],
            "text/html": [
              "<pre style=\"white-space:pre;overflow-x:auto;line-height:normal;font-family:Menlo,'DejaVu Sans Mono',consolas,'Courier New',monospace\"><span style=\"font-weight: bold\"> Non-trainable params: </span><span style=\"color: #00af00; text-decoration-color: #00af00\">896</span> (3.50 KB)\n",
              "</pre>\n"
            ]
          },
          "metadata": {}
        }
      ]
    },
    {
      "cell_type": "markdown",
      "source": [
        "---"
      ],
      "metadata": {
        "id": "Yb80lFJJPwsD"
      }
    },
    {
      "cell_type": "code",
      "source": [],
      "metadata": {
        "id": "KDT8HjxFM3AX"
      },
      "execution_count": 93,
      "outputs": []
    },
    {
      "cell_type": "code",
      "source": [],
      "metadata": {
        "id": "qCHENtcHM3Gd"
      },
      "execution_count": 93,
      "outputs": []
    },
    {
      "cell_type": "code",
      "source": [],
      "metadata": {
        "id": "MvHZO390PvuC"
      },
      "execution_count": null,
      "outputs": []
    },
    {
      "cell_type": "markdown",
      "source": [
        "---"
      ],
      "metadata": {
        "id": "BhK9PGkDPyNi"
      }
    },
    {
      "cell_type": "code",
      "source": [
        "# Build Discriminator Model"
      ],
      "metadata": {
        "id": "385f4BHLM3R4"
      },
      "execution_count": 94,
      "outputs": []
    },
    {
      "cell_type": "code",
      "source": [
        "def build_discriminator():  # Function to build the discriminator model for the GAN\n",
        "    model = Sequential()  # Initialize a Sequential model\n",
        "    model.add(layers.Conv2D(64, kernel_size=3, strides=2, padding=\"same\", input_shape=(64, 64, 3)))  # Add convolutional layer\n",
        "    model.add(layers.LeakyReLU(alpha=0.2))  # Add LeakyReLU activation\n",
        "    model.add(layers.Dropout(0.3))  # Add dropout for regularization\n",
        "    model.add(layers.Conv2D(128, kernel_size=3, strides=2, padding=\"same\"))  # Add another convolutional layer\n",
        "    model.add(layers.LeakyReLU(alpha=0.2))  # Add another LeakyReLU activation\n",
        "    model.add(layers.Dropout(0.3))  # Add dropout for regularization\n",
        "    model.add(layers.Flatten())  # Flatten the output for the fully connected layer\n",
        "    model.add(layers.Dense(1, activation=\"sigmoid\"))  # Add a dense layer with sigmoid activation for binary classification\n",
        "    return model  # Return the constructed discriminator model"
      ],
      "metadata": {
        "id": "Hcyknrp1MS9v"
      },
      "execution_count": 95,
      "outputs": []
    },
    {
      "cell_type": "code",
      "source": [],
      "metadata": {
        "id": "Hxx9yiE4NBtY"
      },
      "execution_count": 95,
      "outputs": []
    },
    {
      "cell_type": "code",
      "source": [
        "discriminator = build_discriminator()  # Build the discriminator model"
      ],
      "metadata": {
        "colab": {
          "base_uri": "https://localhost:8080/"
        },
        "id": "CKDH1pi9NBxB",
        "outputId": "b55f823a-a56f-485c-cee9-f210395e4afb"
      },
      "execution_count": 96,
      "outputs": [
        {
          "output_type": "stream",
          "name": "stderr",
          "text": [
            "/usr/local/lib/python3.10/dist-packages/keras/src/layers/convolutional/base_conv.py:107: UserWarning: Do not pass an `input_shape`/`input_dim` argument to a layer. When using Sequential models, prefer using an `Input(shape)` object as the first layer in the model instead.\n",
            "  super().__init__(activity_regularizer=activity_regularizer, **kwargs)\n",
            "/usr/local/lib/python3.10/dist-packages/keras/src/layers/activations/leaky_relu.py:41: UserWarning: Argument `alpha` is deprecated. Use `negative_slope` instead.\n",
            "  warnings.warn(\n"
          ]
        }
      ]
    },
    {
      "cell_type": "code",
      "source": [
        "discriminator.summary()  # Print the summary of the discriminator model"
      ],
      "metadata": {
        "colab": {
          "base_uri": "https://localhost:8080/",
          "height": 393
        },
        "id": "6amCmgDYNB0M",
        "outputId": "1c2a6d41-7d2a-4a3c-e014-6bd94eec095d"
      },
      "execution_count": 97,
      "outputs": [
        {
          "output_type": "display_data",
          "data": {
            "text/plain": [
              "\u001b[1mModel: \"sequential_49\"\u001b[0m\n"
            ],
            "text/html": [
              "<pre style=\"white-space:pre;overflow-x:auto;line-height:normal;font-family:Menlo,'DejaVu Sans Mono',consolas,'Courier New',monospace\"><span style=\"font-weight: bold\">Model: \"sequential_49\"</span>\n",
              "</pre>\n"
            ]
          },
          "metadata": {}
        },
        {
          "output_type": "display_data",
          "data": {
            "text/plain": [
              "┏━━━━━━━━━━━━━━━━━━━━━━━━━━━━━━━━━━━━━━┳━━━━━━━━━━━━━━━━━━━━━━━━━━━━━┳━━━━━━━━━━━━━━━━━┓\n",
              "┃\u001b[1m \u001b[0m\u001b[1mLayer (type)                        \u001b[0m\u001b[1m \u001b[0m┃\u001b[1m \u001b[0m\u001b[1mOutput Shape               \u001b[0m\u001b[1m \u001b[0m┃\u001b[1m \u001b[0m\u001b[1m        Param #\u001b[0m\u001b[1m \u001b[0m┃\n",
              "┡━━━━━━━━━━━━━━━━━━━━━━━━━━━━━━━━━━━━━━╇━━━━━━━━━━━━━━━━━━━━━━━━━━━━━╇━━━━━━━━━━━━━━━━━┩\n",
              "│ conv2d_86 (\u001b[38;5;33mConv2D\u001b[0m)                   │ (\u001b[38;5;45mNone\u001b[0m, \u001b[38;5;34m32\u001b[0m, \u001b[38;5;34m32\u001b[0m, \u001b[38;5;34m64\u001b[0m)          │           \u001b[38;5;34m1,792\u001b[0m │\n",
              "├──────────────────────────────────────┼─────────────────────────────┼─────────────────┤\n",
              "│ leaky_re_lu_91 (\u001b[38;5;33mLeakyReLU\u001b[0m)           │ (\u001b[38;5;45mNone\u001b[0m, \u001b[38;5;34m32\u001b[0m, \u001b[38;5;34m32\u001b[0m, \u001b[38;5;34m64\u001b[0m)          │               \u001b[38;5;34m0\u001b[0m │\n",
              "├──────────────────────────────────────┼─────────────────────────────┼─────────────────┤\n",
              "│ dropout_39 (\u001b[38;5;33mDropout\u001b[0m)                 │ (\u001b[38;5;45mNone\u001b[0m, \u001b[38;5;34m32\u001b[0m, \u001b[38;5;34m32\u001b[0m, \u001b[38;5;34m64\u001b[0m)          │               \u001b[38;5;34m0\u001b[0m │\n",
              "├──────────────────────────────────────┼─────────────────────────────┼─────────────────┤\n",
              "│ conv2d_87 (\u001b[38;5;33mConv2D\u001b[0m)                   │ (\u001b[38;5;45mNone\u001b[0m, \u001b[38;5;34m16\u001b[0m, \u001b[38;5;34m16\u001b[0m, \u001b[38;5;34m128\u001b[0m)         │          \u001b[38;5;34m73,856\u001b[0m │\n",
              "├──────────────────────────────────────┼─────────────────────────────┼─────────────────┤\n",
              "│ leaky_re_lu_92 (\u001b[38;5;33mLeakyReLU\u001b[0m)           │ (\u001b[38;5;45mNone\u001b[0m, \u001b[38;5;34m16\u001b[0m, \u001b[38;5;34m16\u001b[0m, \u001b[38;5;34m128\u001b[0m)         │               \u001b[38;5;34m0\u001b[0m │\n",
              "├──────────────────────────────────────┼─────────────────────────────┼─────────────────┤\n",
              "│ dropout_40 (\u001b[38;5;33mDropout\u001b[0m)                 │ (\u001b[38;5;45mNone\u001b[0m, \u001b[38;5;34m16\u001b[0m, \u001b[38;5;34m16\u001b[0m, \u001b[38;5;34m128\u001b[0m)         │               \u001b[38;5;34m0\u001b[0m │\n",
              "├──────────────────────────────────────┼─────────────────────────────┼─────────────────┤\n",
              "│ flatten_16 (\u001b[38;5;33mFlatten\u001b[0m)                 │ (\u001b[38;5;45mNone\u001b[0m, \u001b[38;5;34m32768\u001b[0m)               │               \u001b[38;5;34m0\u001b[0m │\n",
              "├──────────────────────────────────────┼─────────────────────────────┼─────────────────┤\n",
              "│ dense_39 (\u001b[38;5;33mDense\u001b[0m)                     │ (\u001b[38;5;45mNone\u001b[0m, \u001b[38;5;34m1\u001b[0m)                   │          \u001b[38;5;34m32,769\u001b[0m │\n",
              "└──────────────────────────────────────┴─────────────────────────────┴─────────────────┘\n"
            ],
            "text/html": [
              "<pre style=\"white-space:pre;overflow-x:auto;line-height:normal;font-family:Menlo,'DejaVu Sans Mono',consolas,'Courier New',monospace\">┏━━━━━━━━━━━━━━━━━━━━━━━━━━━━━━━━━━━━━━┳━━━━━━━━━━━━━━━━━━━━━━━━━━━━━┳━━━━━━━━━━━━━━━━━┓\n",
              "┃<span style=\"font-weight: bold\"> Layer (type)                         </span>┃<span style=\"font-weight: bold\"> Output Shape                </span>┃<span style=\"font-weight: bold\">         Param # </span>┃\n",
              "┡━━━━━━━━━━━━━━━━━━━━━━━━━━━━━━━━━━━━━━╇━━━━━━━━━━━━━━━━━━━━━━━━━━━━━╇━━━━━━━━━━━━━━━━━┩\n",
              "│ conv2d_86 (<span style=\"color: #0087ff; text-decoration-color: #0087ff\">Conv2D</span>)                   │ (<span style=\"color: #00d7ff; text-decoration-color: #00d7ff\">None</span>, <span style=\"color: #00af00; text-decoration-color: #00af00\">32</span>, <span style=\"color: #00af00; text-decoration-color: #00af00\">32</span>, <span style=\"color: #00af00; text-decoration-color: #00af00\">64</span>)          │           <span style=\"color: #00af00; text-decoration-color: #00af00\">1,792</span> │\n",
              "├──────────────────────────────────────┼─────────────────────────────┼─────────────────┤\n",
              "│ leaky_re_lu_91 (<span style=\"color: #0087ff; text-decoration-color: #0087ff\">LeakyReLU</span>)           │ (<span style=\"color: #00d7ff; text-decoration-color: #00d7ff\">None</span>, <span style=\"color: #00af00; text-decoration-color: #00af00\">32</span>, <span style=\"color: #00af00; text-decoration-color: #00af00\">32</span>, <span style=\"color: #00af00; text-decoration-color: #00af00\">64</span>)          │               <span style=\"color: #00af00; text-decoration-color: #00af00\">0</span> │\n",
              "├──────────────────────────────────────┼─────────────────────────────┼─────────────────┤\n",
              "│ dropout_39 (<span style=\"color: #0087ff; text-decoration-color: #0087ff\">Dropout</span>)                 │ (<span style=\"color: #00d7ff; text-decoration-color: #00d7ff\">None</span>, <span style=\"color: #00af00; text-decoration-color: #00af00\">32</span>, <span style=\"color: #00af00; text-decoration-color: #00af00\">32</span>, <span style=\"color: #00af00; text-decoration-color: #00af00\">64</span>)          │               <span style=\"color: #00af00; text-decoration-color: #00af00\">0</span> │\n",
              "├──────────────────────────────────────┼─────────────────────────────┼─────────────────┤\n",
              "│ conv2d_87 (<span style=\"color: #0087ff; text-decoration-color: #0087ff\">Conv2D</span>)                   │ (<span style=\"color: #00d7ff; text-decoration-color: #00d7ff\">None</span>, <span style=\"color: #00af00; text-decoration-color: #00af00\">16</span>, <span style=\"color: #00af00; text-decoration-color: #00af00\">16</span>, <span style=\"color: #00af00; text-decoration-color: #00af00\">128</span>)         │          <span style=\"color: #00af00; text-decoration-color: #00af00\">73,856</span> │\n",
              "├──────────────────────────────────────┼─────────────────────────────┼─────────────────┤\n",
              "│ leaky_re_lu_92 (<span style=\"color: #0087ff; text-decoration-color: #0087ff\">LeakyReLU</span>)           │ (<span style=\"color: #00d7ff; text-decoration-color: #00d7ff\">None</span>, <span style=\"color: #00af00; text-decoration-color: #00af00\">16</span>, <span style=\"color: #00af00; text-decoration-color: #00af00\">16</span>, <span style=\"color: #00af00; text-decoration-color: #00af00\">128</span>)         │               <span style=\"color: #00af00; text-decoration-color: #00af00\">0</span> │\n",
              "├──────────────────────────────────────┼─────────────────────────────┼─────────────────┤\n",
              "│ dropout_40 (<span style=\"color: #0087ff; text-decoration-color: #0087ff\">Dropout</span>)                 │ (<span style=\"color: #00d7ff; text-decoration-color: #00d7ff\">None</span>, <span style=\"color: #00af00; text-decoration-color: #00af00\">16</span>, <span style=\"color: #00af00; text-decoration-color: #00af00\">16</span>, <span style=\"color: #00af00; text-decoration-color: #00af00\">128</span>)         │               <span style=\"color: #00af00; text-decoration-color: #00af00\">0</span> │\n",
              "├──────────────────────────────────────┼─────────────────────────────┼─────────────────┤\n",
              "│ flatten_16 (<span style=\"color: #0087ff; text-decoration-color: #0087ff\">Flatten</span>)                 │ (<span style=\"color: #00d7ff; text-decoration-color: #00d7ff\">None</span>, <span style=\"color: #00af00; text-decoration-color: #00af00\">32768</span>)               │               <span style=\"color: #00af00; text-decoration-color: #00af00\">0</span> │\n",
              "├──────────────────────────────────────┼─────────────────────────────┼─────────────────┤\n",
              "│ dense_39 (<span style=\"color: #0087ff; text-decoration-color: #0087ff\">Dense</span>)                     │ (<span style=\"color: #00d7ff; text-decoration-color: #00d7ff\">None</span>, <span style=\"color: #00af00; text-decoration-color: #00af00\">1</span>)                   │          <span style=\"color: #00af00; text-decoration-color: #00af00\">32,769</span> │\n",
              "└──────────────────────────────────────┴─────────────────────────────┴─────────────────┘\n",
              "</pre>\n"
            ]
          },
          "metadata": {}
        },
        {
          "output_type": "display_data",
          "data": {
            "text/plain": [
              "\u001b[1m Total params: \u001b[0m\u001b[38;5;34m108,417\u001b[0m (423.50 KB)\n"
            ],
            "text/html": [
              "<pre style=\"white-space:pre;overflow-x:auto;line-height:normal;font-family:Menlo,'DejaVu Sans Mono',consolas,'Courier New',monospace\"><span style=\"font-weight: bold\"> Total params: </span><span style=\"color: #00af00; text-decoration-color: #00af00\">108,417</span> (423.50 KB)\n",
              "</pre>\n"
            ]
          },
          "metadata": {}
        },
        {
          "output_type": "display_data",
          "data": {
            "text/plain": [
              "\u001b[1m Trainable params: \u001b[0m\u001b[38;5;34m108,417\u001b[0m (423.50 KB)\n"
            ],
            "text/html": [
              "<pre style=\"white-space:pre;overflow-x:auto;line-height:normal;font-family:Menlo,'DejaVu Sans Mono',consolas,'Courier New',monospace\"><span style=\"font-weight: bold\"> Trainable params: </span><span style=\"color: #00af00; text-decoration-color: #00af00\">108,417</span> (423.50 KB)\n",
              "</pre>\n"
            ]
          },
          "metadata": {}
        },
        {
          "output_type": "display_data",
          "data": {
            "text/plain": [
              "\u001b[1m Non-trainable params: \u001b[0m\u001b[38;5;34m0\u001b[0m (0.00 B)\n"
            ],
            "text/html": [
              "<pre style=\"white-space:pre;overflow-x:auto;line-height:normal;font-family:Menlo,'DejaVu Sans Mono',consolas,'Courier New',monospace\"><span style=\"font-weight: bold\"> Non-trainable params: </span><span style=\"color: #00af00; text-decoration-color: #00af00\">0</span> (0.00 B)\n",
              "</pre>\n"
            ]
          },
          "metadata": {}
        }
      ]
    },
    {
      "cell_type": "markdown",
      "source": [
        "---"
      ],
      "metadata": {
        "id": "6De0B4pdNw6g"
      }
    },
    {
      "cell_type": "code",
      "source": [],
      "metadata": {
        "id": "UuXdfoPGNB5i"
      },
      "execution_count": 97,
      "outputs": []
    },
    {
      "cell_type": "code",
      "source": [],
      "metadata": {
        "id": "9xDfw10lNB81"
      },
      "execution_count": 104,
      "outputs": []
    },
    {
      "cell_type": "markdown",
      "source": [
        "### 📅 **Conclusion**\n",
        "\n",
        "In this project, we successfully developed and trained a Generative Adversarial Network (GAN) to generate images resembling the CIFAR-10 dataset. The GAN consists of two primary components: the **generator** and the **discriminator**.\n",
        "\n",
        "- The **generator** is a neural network that learns to create synthetic images from random noise. Initially, the images are random, but through the adversarial training process, the generator improves its output to resemble real images from the CIFAR-10 dataset.\n",
        "  \n",
        "- The **discriminator** is a classifier that distinguishes between real images (from the dataset) and fake images (produced by the generator). It provides feedback to the generator to guide its learning.\n",
        "\n",
        "Through iterative training, both models improve: the generator becomes better at creating realistic images, and the discriminator becomes better at detecting fake ones. This **adversarial process** helps the generator produce increasingly convincing images that closely resemble the CIFAR-10 classes.\n",
        "\n",
        "The **training process** involves optimizing both models simultaneously, using the **binary cross-entropy loss** to measure how well the discriminator is distinguishing between real and fake images, and the generator’s success in fooling the discriminator. We also incorporated techniques such as **batch normalization** and **upsampling** to stabilize and improve the model’s learning process.\n",
        "\n",
        "Ultimately, the GAN framework demonstrated its potential for image generation tasks, and we observed the gradual improvement in the quality of generated images over time. The project highlights the power of GANs in producing high-fidelity images from random noise and emphasizes their practical applications in fields like computer vision, art generation, and synthetic data creation.\n",
        "\n",
        "This experiment also underlines the importance of both model architectures, the interplay between the generator and discriminator, and the overall adversarial learning approach in achieving realistic image generation. Future improvements can include experimenting with more complex architectures, increasing the training data, or fine-tuning the models further to generate higher-resolution images."
      ],
      "metadata": {
        "id": "DjNYU3meSapy"
      }
    }
  ]
}