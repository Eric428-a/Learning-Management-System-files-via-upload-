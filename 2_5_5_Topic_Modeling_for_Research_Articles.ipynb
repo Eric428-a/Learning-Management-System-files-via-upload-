{
  "nbformat": 4,
  "nbformat_minor": 0,
  "metadata": {
    "colab": {
      "provenance": []
    },
    "kernelspec": {
      "name": "python3",
      "display_name": "Python 3"
    },
    "language_info": {
      "name": "python"
    }
  },
  "cells": [
    {
      "cell_type": "markdown",
      "source": [
        "# <span style=\"color:blue;\">**Project Overview: Topic Modeling for Research Articles**</span>\n",
        "\n",
        "## <span style=\"color:darkblue;\">**Objective**</span>\n",
        "Discover the abstract topics that occur in a collection of research articles using Latent Dirichlet Allocation (LDA).\n",
        "\n",
        "## <span style=\"color:darkblue;\">**Key Libraries Used**</span>\n",
        "- **Pandas**: For data manipulation.\n",
        "- **NumPy**: For numerical operations.\n",
        "- **NLTK**: For natural language processing tasks.\n",
        "- **Gensim**: For implementing LDA modeling.\n",
        "- **pyLDAvis**: For visualizing the results of the LDA model.\n",
        "- **Flask**: For creating a web application.\n",
        "- **Matplotlib & Seaborn**: For data visualization.\n",
        "\n",
        "## <span style=\"color:darkblue;\">**Project Steps**</span>\n",
        "\n",
        "### <span style=\"color:green;\">**1. Environment Setup**</span>\n",
        "- Install necessary libraries using pip.\n",
        "\n",
        "### <span style=\"color:green;\">**2. Data Loading and Inspection**</span>\n",
        "- Load the dataset into a DataFrame.\n",
        "- Inspect the first few rows, dataset information, summary statistics, and check for missing values.\n",
        "\n",
        "### <span style=\"color:green;\">**3. Data Visualization**</span>\n",
        "- Visualize missing values using a heatmap.\n",
        "- Create plots to analyze the distribution of papers by year and the length of abstracts.\n",
        "\n",
        "### <span style=\"color:green;\">**4. Text Preprocessing**</span>\n",
        "- Tokenize abstracts and remove stop words and non-alphabetic tokens.\n",
        "\n",
        "### <span style=\"color:green;\">**5. LDA Model Training**</span>\n",
        "- Prepare data for LDA and train the model.\n",
        "- Display and visualize the identified topics.\n",
        "\n",
        "### <span style=\"color:green;\">**6. Model Evaluation**</span>\n",
        "- Evaluate the model using perplexity and coherence scores.\n",
        "\n",
        "### <span style=\"color:green;\">**7. Model Persistence**</span>\n",
        "- Save the trained LDA model and dictionary for future use.\n",
        "\n",
        "### <span style=\"color:green;\">**8. Inference Function**</span>\n",
        "- Create a function to infer topics from new abstracts using the trained model.\n",
        "\n",
        "### <span style=\"color:green;\">**9. Web Application**</span>\n",
        "- Develop a Flask app to expose the topic inference functionality via an API endpoint.\n",
        "\n",
        "## <span style=\"color:darkblue;\">**Conclusion**</span>\n",
        "This project demonstrates the application of LDA for topic modeling in research articles, enabling the discovery of underlying themes in a collection of documents."
      ],
      "metadata": {
        "id": "M01BeBONiI60"
      }
    },
    {
      "cell_type": "code",
      "source": [],
      "metadata": {
        "id": "NdieNHVfiMVM"
      },
      "execution_count": null,
      "outputs": []
    },
    {
      "cell_type": "code",
      "source": [],
      "metadata": {
        "id": "8mLHr2WEiMYV"
      },
      "execution_count": null,
      "outputs": []
    },
    {
      "cell_type": "code",
      "source": [],
      "metadata": {
        "id": "cXImxsfgiMq7"
      },
      "execution_count": null,
      "outputs": []
    },
    {
      "cell_type": "code",
      "source": [
        "import warnings  # Import the warnings library to manage warning messages"
      ],
      "metadata": {
        "id": "Ly7U_y1OjMxf"
      },
      "execution_count": 24,
      "outputs": []
    },
    {
      "cell_type": "code",
      "source": [
        "warnings.filterwarnings('ignore')  # Suppress all warning messages"
      ],
      "metadata": {
        "id": "eVkxtWuMjM1E"
      },
      "execution_count": 25,
      "outputs": []
    },
    {
      "cell_type": "code",
      "source": [],
      "metadata": {
        "id": "KlfIw_ymjYyp"
      },
      "execution_count": null,
      "outputs": []
    },
    {
      "cell_type": "code",
      "source": [
        "# Install Required Libraries"
      ],
      "metadata": {
        "id": "rC5VNjJHd-go"
      },
      "execution_count": 22,
      "outputs": []
    },
    {
      "cell_type": "code",
      "source": [
        "!nohup python script.py &  # Run the Python script in the background and ignore hangups"
      ],
      "metadata": {
        "colab": {
          "base_uri": "https://localhost:8080/"
        },
        "id": "wObOFpYCd-jf",
        "outputId": "e6045870-4249-4b1d-9bd3-2369c3f58cb4"
      },
      "execution_count": 23,
      "outputs": [
        {
          "output_type": "stream",
          "name": "stdout",
          "text": [
            "nohup: appending output to 'nohup.out'\n"
          ]
        }
      ]
    },
    {
      "cell_type": "code",
      "source": [],
      "metadata": {
        "id": "aSKVq3U-d-mQ"
      },
      "execution_count": null,
      "outputs": []
    },
    {
      "cell_type": "code",
      "source": [
        "!pip install pandas numpy nltk gensim pyLDAvis Flask  # Install necessary libraries for data manipulation, NLP, topic modeling, and web application\n"
      ],
      "metadata": {
        "colab": {
          "base_uri": "https://localhost:8080/"
        },
        "id": "90nbZOi3d-v6",
        "outputId": "21c9d2e6-258c-49a7-eb48-80cc617ee2fc"
      },
      "execution_count": 26,
      "outputs": [
        {
          "output_type": "stream",
          "name": "stdout",
          "text": [
            "Requirement already satisfied: pandas in /usr/local/lib/python3.10/dist-packages (2.2.2)\n",
            "Requirement already satisfied: numpy in /usr/local/lib/python3.10/dist-packages (1.26.4)\n",
            "Requirement already satisfied: nltk in /usr/local/lib/python3.10/dist-packages (3.8.1)\n",
            "Requirement already satisfied: gensim in /usr/local/lib/python3.10/dist-packages (4.3.3)\n",
            "Requirement already satisfied: pyLDAvis in /usr/local/lib/python3.10/dist-packages (3.4.1)\n",
            "Requirement already satisfied: Flask in /usr/local/lib/python3.10/dist-packages (2.2.5)\n",
            "Requirement already satisfied: python-dateutil>=2.8.2 in /usr/local/lib/python3.10/dist-packages (from pandas) (2.8.2)\n",
            "Requirement already satisfied: pytz>=2020.1 in /usr/local/lib/python3.10/dist-packages (from pandas) (2024.2)\n",
            "Requirement already satisfied: tzdata>=2022.7 in /usr/local/lib/python3.10/dist-packages (from pandas) (2024.2)\n",
            "Requirement already satisfied: click in /usr/local/lib/python3.10/dist-packages (from nltk) (8.1.7)\n",
            "Requirement already satisfied: joblib in /usr/local/lib/python3.10/dist-packages (from nltk) (1.4.2)\n",
            "Requirement already satisfied: regex>=2021.8.3 in /usr/local/lib/python3.10/dist-packages (from nltk) (2024.9.11)\n",
            "Requirement already satisfied: tqdm in /usr/local/lib/python3.10/dist-packages (from nltk) (4.66.5)\n",
            "Requirement already satisfied: scipy<1.14.0,>=1.7.0 in /usr/local/lib/python3.10/dist-packages (from gensim) (1.13.1)\n",
            "Requirement already satisfied: smart-open>=1.8.1 in /usr/local/lib/python3.10/dist-packages (from gensim) (7.0.4)\n",
            "Requirement already satisfied: jinja2 in /usr/local/lib/python3.10/dist-packages (from pyLDAvis) (3.1.4)\n",
            "Requirement already satisfied: numexpr in /usr/local/lib/python3.10/dist-packages (from pyLDAvis) (2.10.1)\n",
            "Requirement already satisfied: funcy in /usr/local/lib/python3.10/dist-packages (from pyLDAvis) (2.0)\n",
            "Requirement already satisfied: scikit-learn>=1.0.0 in /usr/local/lib/python3.10/dist-packages (from pyLDAvis) (1.5.2)\n",
            "Requirement already satisfied: setuptools in /usr/local/lib/python3.10/dist-packages (from pyLDAvis) (71.0.4)\n",
            "Requirement already satisfied: Werkzeug>=2.2.2 in /usr/local/lib/python3.10/dist-packages (from Flask) (3.0.4)\n",
            "Requirement already satisfied: itsdangerous>=2.0 in /usr/local/lib/python3.10/dist-packages (from Flask) (2.2.0)\n",
            "Requirement already satisfied: MarkupSafe>=2.0 in /usr/local/lib/python3.10/dist-packages (from jinja2->pyLDAvis) (2.1.5)\n",
            "Requirement already satisfied: six>=1.5 in /usr/local/lib/python3.10/dist-packages (from python-dateutil>=2.8.2->pandas) (1.16.0)\n",
            "Requirement already satisfied: threadpoolctl>=3.1.0 in /usr/local/lib/python3.10/dist-packages (from scikit-learn>=1.0.0->pyLDAvis) (3.5.0)\n",
            "Requirement already satisfied: wrapt in /usr/local/lib/python3.10/dist-packages (from smart-open>=1.8.1->gensim) (1.16.0)\n"
          ]
        }
      ]
    },
    {
      "cell_type": "code",
      "source": [],
      "metadata": {
        "id": "jYC02_jbd-0p"
      },
      "execution_count": null,
      "outputs": []
    },
    {
      "cell_type": "code",
      "source": [],
      "metadata": {
        "id": "TwJIlMlod-5n"
      },
      "execution_count": null,
      "outputs": []
    },
    {
      "cell_type": "code",
      "source": [],
      "metadata": {
        "id": "U-7OR28zd-7_"
      },
      "execution_count": null,
      "outputs": []
    },
    {
      "cell_type": "markdown",
      "source": [
        "# <span style=\"color:blue;\">**Step 1: Import Libraries**</span>\n",
        "\n",
        "## <span style=\"color:darkblue;\">**Overview**</span>\n",
        "In this step, we import the necessary libraries required for data manipulation, natural language processing (NLP), topic modeling, visualization, and web application development.\n",
        "\n",
        "## <span style=\"color:darkblue;\">**Key Libraries**</span>\n",
        "- **Pandas**: Essential for data manipulation and analysis, allowing us to work with data in DataFrame format.\n",
        "- **NumPy**: Provides support for numerical operations and array handling.\n",
        "- **NLTK**: A powerful toolkit for NLP tasks, enabling us to preprocess text data.\n",
        "- **Gensim**: A robust library for topic modeling and handling large text corpora efficiently.\n",
        "- **pyLDAvis**: Used for visualizing the results of the LDA model, helping to interpret the identified topics.\n",
        "- **Matplotlib & Seaborn**: Libraries for data visualization, enhancing our ability to present findings graphically.\n",
        "- **Flask**: A web framework used to create a web application for topic inference.\n",
        "\n",
        "## <span style=\"color:darkblue;\">**Suppressing Warnings**</span>\n",
        "- The warnings library is imported to suppress warning messages that may arise during the execution of the code, ensuring a cleaner output."
      ],
      "metadata": {
        "id": "VCHGiM-aiQpA"
      }
    },
    {
      "cell_type": "code",
      "source": [
        "# Import Libraries"
      ],
      "metadata": {
        "id": "PDEq3ALod--h"
      },
      "execution_count": 27,
      "outputs": []
    },
    {
      "cell_type": "code",
      "source": [
        "import pandas as pd  # For data manipulation"
      ],
      "metadata": {
        "id": "IWQOBRXHd_BM"
      },
      "execution_count": 28,
      "outputs": []
    },
    {
      "cell_type": "code",
      "source": [
        "import numpy as np  # For numerical operations"
      ],
      "metadata": {
        "id": "tppGrFSXd_Do"
      },
      "execution_count": 29,
      "outputs": []
    },
    {
      "cell_type": "code",
      "source": [
        "import nltk  # For natural language processing"
      ],
      "metadata": {
        "id": "K0023WYhd_IN"
      },
      "execution_count": 30,
      "outputs": []
    },
    {
      "cell_type": "code",
      "source": [
        "from nltk.corpus import stopwords  # For English stop words"
      ],
      "metadata": {
        "id": "fyR_FeZid_Kh"
      },
      "execution_count": 31,
      "outputs": []
    },
    {
      "cell_type": "code",
      "source": [
        "from nltk.tokenize import word_tokenize  # For tokenizing text"
      ],
      "metadata": {
        "id": "pJxQc-f2d_MF"
      },
      "execution_count": 32,
      "outputs": []
    },
    {
      "cell_type": "code",
      "source": [
        "from gensim import corpora  # For creating a dictionary and corpus for LDA"
      ],
      "metadata": {
        "id": "0CwtwD_ed_Ov"
      },
      "execution_count": 33,
      "outputs": []
    },
    {
      "cell_type": "code",
      "source": [
        "from gensim.models import LdaModel  # For LDA modeling"
      ],
      "metadata": {
        "id": "IMY1qLUOd_Qt"
      },
      "execution_count": 34,
      "outputs": []
    },
    {
      "cell_type": "code",
      "source": [
        "import pyLDAvis  # For visualizing LDA results"
      ],
      "metadata": {
        "id": "0kMc4j-qd_TM"
      },
      "execution_count": 35,
      "outputs": []
    },
    {
      "cell_type": "code",
      "source": [
        "import pyLDAvis.gensim_models  # For Gensim integration with pyLDAvis"
      ],
      "metadata": {
        "id": "g_C5mZoPd_Xi"
      },
      "execution_count": 36,
      "outputs": []
    },
    {
      "cell_type": "code",
      "source": [
        "import matplotlib.pyplot as plt  # For plotting graphs"
      ],
      "metadata": {
        "id": "HUItYD9Hd_bw"
      },
      "execution_count": 37,
      "outputs": []
    },
    {
      "cell_type": "code",
      "source": [
        "import seaborn as sns  # For enhanced visualizations"
      ],
      "metadata": {
        "id": "f7YqjnJEd_ga"
      },
      "execution_count": 38,
      "outputs": []
    },
    {
      "cell_type": "code",
      "source": [
        "from flask import Flask, request, jsonify  # For creating the web application"
      ],
      "metadata": {
        "id": "I5H-TvFqd_kY"
      },
      "execution_count": 39,
      "outputs": []
    },
    {
      "cell_type": "code",
      "source": [],
      "metadata": {
        "id": "zfE4POkSfv_q"
      },
      "execution_count": null,
      "outputs": []
    },
    {
      "cell_type": "code",
      "source": [],
      "metadata": {
        "id": "7xGEXwwaf3ta"
      },
      "execution_count": null,
      "outputs": []
    },
    {
      "cell_type": "code",
      "source": [
        "# Download stopwords"
      ],
      "metadata": {
        "id": "2zZkSTI6f3wU"
      },
      "execution_count": 40,
      "outputs": []
    },
    {
      "cell_type": "code",
      "source": [
        "nltk.download('punkt')  # Download tokenizer"
      ],
      "metadata": {
        "colab": {
          "base_uri": "https://localhost:8080/"
        },
        "id": "Nh0ayadVf3zl",
        "outputId": "0cf84613-7013-4c0f-e03a-e8d3484028cd"
      },
      "execution_count": 41,
      "outputs": [
        {
          "output_type": "stream",
          "name": "stderr",
          "text": [
            "[nltk_data] Downloading package punkt to /root/nltk_data...\n",
            "[nltk_data]   Package punkt is already up-to-date!\n"
          ]
        },
        {
          "output_type": "execute_result",
          "data": {
            "text/plain": [
              "True"
            ]
          },
          "metadata": {},
          "execution_count": 41
        }
      ]
    },
    {
      "cell_type": "code",
      "source": [],
      "metadata": {
        "id": "ddeidMdqf31u"
      },
      "execution_count": null,
      "outputs": []
    },
    {
      "cell_type": "code",
      "source": [
        "nltk.download('stopwords')  # Download stopwords"
      ],
      "metadata": {
        "colab": {
          "base_uri": "https://localhost:8080/"
        },
        "id": "Xecm6o45f34H",
        "outputId": "a976fce0-7010-4c48-83b5-12b487d48ee6"
      },
      "execution_count": 42,
      "outputs": [
        {
          "output_type": "stream",
          "name": "stderr",
          "text": [
            "[nltk_data] Downloading package stopwords to /root/nltk_data...\n",
            "[nltk_data]   Package stopwords is already up-to-date!\n"
          ]
        },
        {
          "output_type": "execute_result",
          "data": {
            "text/plain": [
              "True"
            ]
          },
          "metadata": {},
          "execution_count": 42
        }
      ]
    },
    {
      "cell_type": "code",
      "source": [],
      "metadata": {
        "id": "d5hcDXafgAEx"
      },
      "execution_count": null,
      "outputs": []
    },
    {
      "cell_type": "code",
      "source": [],
      "metadata": {
        "id": "viN9m5ltgAOQ"
      },
      "execution_count": null,
      "outputs": []
    },
    {
      "cell_type": "code",
      "source": [],
      "metadata": {
        "id": "TFB3Y95YgAQ5"
      },
      "execution_count": null,
      "outputs": []
    },
    {
      "cell_type": "markdown",
      "source": [
        "# <span style=\"color:blue;\">**Step 2: Load Data**</span>\n",
        "\n",
        "## <span style=\"color:darkblue;\">**Overview**</span>\n",
        "In this step, we load the dataset into a Pandas DataFrame for further inspection and analysis.\n",
        "\n",
        "## <span style=\"color:darkblue;\">**Dataset**</span>\n",
        "- The dataset `papers.csv` contains research articles along with their abstracts and metadata.\n",
        "- Using `pd.read_csv()`, we load the dataset, which allows us to perform various data manipulation tasks.\n",
        "\n",
        "## <span style=\"color:darkblue;\">**Inspecting the Dataset**</span>\n",
        "- We inspect the first few rows of the dataset using `head()`, which provides a glimpse of the data structure and content.\n",
        "- The `info()` method gives us information about data types and non-null counts, while `describe()` provides summary statistics.\n",
        "- We check for missing values using `isnull().sum()` to understand data quality."
      ],
      "metadata": {
        "id": "SdlaZtWNiVxV"
      }
    },
    {
      "cell_type": "code",
      "source": [
        "# Load Data"
      ],
      "metadata": {
        "id": "akaMINgbgAWA"
      },
      "execution_count": 43,
      "outputs": []
    },
    {
      "cell_type": "code",
      "source": [
        "papers_df = pd.read_csv('papers.csv')  # Load the dataset into a DataFrame"
      ],
      "metadata": {
        "id": "oDTr6wDxgAY7"
      },
      "execution_count": 44,
      "outputs": []
    },
    {
      "cell_type": "code",
      "source": [],
      "metadata": {
        "id": "rney3nglgGqQ"
      },
      "execution_count": null,
      "outputs": []
    },
    {
      "cell_type": "code",
      "source": [],
      "metadata": {
        "id": "4PE8UB3ggGsa"
      },
      "execution_count": null,
      "outputs": []
    },
    {
      "cell_type": "code",
      "source": [
        "# Inspect the Dataset"
      ],
      "metadata": {
        "id": "8xmiiXgdgGz5"
      },
      "execution_count": 45,
      "outputs": []
    },
    {
      "cell_type": "code",
      "source": [
        "print(papers_df.head())  # Display the first 5 rows of the dataset"
      ],
      "metadata": {
        "colab": {
          "base_uri": "https://localhost:8080/"
        },
        "id": "tIFDQT_RgG6J",
        "outputId": "d477128c-9ba6-47ce-cc2c-655817f27afc"
      },
      "execution_count": 46,
      "outputs": [
        {
          "output_type": "stream",
          "name": "stdout",
          "text": [
            "     id  year                                              title event_type  \\\n",
            "0     1  1987  Self-Organization of Associative Database and ...        NaN   \n",
            "1    10  1987  A Mean Field Theory of Layer IV of Visual Cort...        NaN   \n",
            "2   100  1988  Storing Covariance by the Associative Long-Ter...        NaN   \n",
            "3  1000  1994  Bayesian Query Construction for Neural Network...        NaN   \n",
            "4  1001  1994  Neural Network Ensembles, Cross Validation, an...        NaN   \n",
            "\n",
            "                                            pdf_name          abstract  \\\n",
            "0  1-self-organization-of-associative-database-an...  Abstract Missing   \n",
            "1  10-a-mean-field-theory-of-layer-iv-of-visual-c...  Abstract Missing   \n",
            "2  100-storing-covariance-by-the-associative-long...  Abstract Missing   \n",
            "3  1000-bayesian-query-construction-for-neural-ne...  Abstract Missing   \n",
            "4  1001-neural-network-ensembles-cross-validation...  Abstract Missing   \n",
            "\n",
            "                                          paper_text  \n",
            "0  767\\n\\nSELF-ORGANIZATION OF ASSOCIATIVE DATABA...  \n",
            "1  683\\n\\nA MEAN FIELD THEORY OF LAYER IV OF VISU...  \n",
            "2  394\\n\\nSTORING COVARIANCE BY THE ASSOCIATIVE\\n...  \n",
            "3  Bayesian Query Construction for Neural\\nNetwor...  \n",
            "4  Neural Network Ensembles, Cross\\nValidation, a...  \n"
          ]
        }
      ]
    },
    {
      "cell_type": "code",
      "source": [],
      "metadata": {
        "id": "Yw_2vaZ_gQAk"
      },
      "execution_count": null,
      "outputs": []
    },
    {
      "cell_type": "code",
      "source": [],
      "metadata": {
        "id": "Bs1IoJIdgQDk"
      },
      "execution_count": null,
      "outputs": []
    },
    {
      "cell_type": "code",
      "source": [
        "print(papers_df.info())  # Display information about the dataset (types and non-null counts)"
      ],
      "metadata": {
        "colab": {
          "base_uri": "https://localhost:8080/"
        },
        "id": "wsTpYRvlgG9a",
        "outputId": "921b7eb6-e29c-4792-80b9-cd223c4066ee"
      },
      "execution_count": 47,
      "outputs": [
        {
          "output_type": "stream",
          "name": "stdout",
          "text": [
            "<class 'pandas.core.frame.DataFrame'>\n",
            "RangeIndex: 7241 entries, 0 to 7240\n",
            "Data columns (total 7 columns):\n",
            " #   Column      Non-Null Count  Dtype \n",
            "---  ------      --------------  ----- \n",
            " 0   id          7241 non-null   int64 \n",
            " 1   year        7241 non-null   int64 \n",
            " 2   title       7241 non-null   object\n",
            " 3   event_type  2422 non-null   object\n",
            " 4   pdf_name    7241 non-null   object\n",
            " 5   abstract    7241 non-null   object\n",
            " 6   paper_text  7241 non-null   object\n",
            "dtypes: int64(2), object(5)\n",
            "memory usage: 396.1+ KB\n",
            "None\n"
          ]
        }
      ]
    },
    {
      "cell_type": "code",
      "source": [],
      "metadata": {
        "id": "0Z89kpCggHAV"
      },
      "execution_count": null,
      "outputs": []
    },
    {
      "cell_type": "code",
      "source": [],
      "metadata": {
        "id": "2fV8Vlz_gHDB"
      },
      "execution_count": null,
      "outputs": []
    },
    {
      "cell_type": "code",
      "source": [
        "print(papers_df.describe())  # Display summary statistics for numerical columns"
      ],
      "metadata": {
        "colab": {
          "base_uri": "https://localhost:8080/"
        },
        "id": "mo9QSbrggHGT",
        "outputId": "5572d280-3b8e-49f6-9247-08c8c9508358"
      },
      "execution_count": 49,
      "outputs": [
        {
          "output_type": "stream",
          "name": "stdout",
          "text": [
            "                id         year\n",
            "count  7241.000000  7241.000000\n",
            "mean   3655.912167  2006.439718\n",
            "std    2098.435219     8.759919\n",
            "min       1.000000  1987.000000\n",
            "25%    1849.000000  2000.000000\n",
            "50%    3659.000000  2009.000000\n",
            "75%    5473.000000  2014.000000\n",
            "max    7284.000000  2017.000000\n"
          ]
        }
      ]
    },
    {
      "cell_type": "code",
      "source": [],
      "metadata": {
        "id": "lyseL79XgRFq"
      },
      "execution_count": null,
      "outputs": []
    },
    {
      "cell_type": "code",
      "source": [],
      "metadata": {
        "id": "gzrjALxAgRIi"
      },
      "execution_count": null,
      "outputs": []
    },
    {
      "cell_type": "code",
      "source": [
        "print(papers_df.isnull().sum())  # Check for missing values in each column"
      ],
      "metadata": {
        "colab": {
          "base_uri": "https://localhost:8080/"
        },
        "id": "JFra6-jugRLF",
        "outputId": "f6314f7f-8255-4a41-ff08-6afbaca75424"
      },
      "execution_count": 48,
      "outputs": [
        {
          "output_type": "stream",
          "name": "stdout",
          "text": [
            "id               0\n",
            "year             0\n",
            "title            0\n",
            "event_type    4819\n",
            "pdf_name         0\n",
            "abstract         0\n",
            "paper_text       0\n",
            "dtype: int64\n"
          ]
        }
      ]
    },
    {
      "cell_type": "code",
      "source": [],
      "metadata": {
        "id": "2M2WDbgCgRNr"
      },
      "execution_count": null,
      "outputs": []
    },
    {
      "cell_type": "code",
      "source": [],
      "metadata": {
        "id": "IGBUtjhOgRQc"
      },
      "execution_count": null,
      "outputs": []
    },
    {
      "cell_type": "code",
      "source": [],
      "metadata": {
        "id": "CclElKjNgHJb"
      },
      "execution_count": null,
      "outputs": []
    },
    {
      "cell_type": "markdown",
      "source": [
        "# <span style=\"color:blue;\">**Step 3: Visualize Missing Values**</span>\n",
        "\n",
        "## <span style=\"color:darkblue;\">**Overview**</span>\n",
        "This step involves visualizing the presence of missing values in the dataset to identify potential data quality issues.\n",
        "\n",
        "## <span style=\"color:darkblue;\">**Heatmap Visualization**</span>\n",
        "- A heatmap is created using Seaborn’s `heatmap()` function to visually represent missing values in the dataset.\n",
        "- The `cbar` parameter is set to `False` to disable the color bar, and `cmap` is set to 'viridis' for better visual distinction.\n",
        "- The title 'Missing Values in Dataset' is added to provide context to the visualization."
      ],
      "metadata": {
        "id": "NKyYsDAiiZO-"
      }
    },
    {
      "cell_type": "code",
      "source": [
        "# Visualize Missing Values"
      ],
      "metadata": {
        "id": "pfu7gBzhgAb-"
      },
      "execution_count": 50,
      "outputs": []
    },
    {
      "cell_type": "code",
      "source": [
        "plt.figure(figsize=(10, 6))  # Set the figure size\n",
        "sns.heatmap(papers_df.isnull(), cbar=False, cmap='viridis')  # Visualize missing values\n",
        "plt.title('Missing Values in Dataset')  # Title for the heatmap\n",
        "plt.show()  # Show the heatmap"
      ],
      "metadata": {
        "colab": {
          "base_uri": "https://localhost:8080/",
          "height": 545
        },
        "id": "9V1YFcGAgVn0",
        "outputId": "8c1f3adf-187e-4fdf-a83a-b579ed2c6ff4"
      },
      "execution_count": 51,
      "outputs": [
        {
          "output_type": "display_data",
          "data": {
            "text/plain": [
              "<Figure size 1000x600 with 1 Axes>"
            ],
            "image/png": "[encoded data removed]"
          },
          "metadata": {}
        }
      ]
    },
    {
      "cell_type": "code",
      "source": [],
      "metadata": {
        "id": "RvUY1aUogVq7"
      },
      "execution_count": null,
      "outputs": []
    },
    {
      "cell_type": "code",
      "source": [],
      "metadata": {
        "id": "hNvv8eiDgVtp"
      },
      "execution_count": null,
      "outputs": []
    },
    {
      "cell_type": "code",
      "source": [],
      "metadata": {
        "id": "o4ZIMbSUibtt"
      },
      "execution_count": null,
      "outputs": []
    },
    {
      "cell_type": "markdown",
      "source": [
        "# <span style=\"color:blue;\">**Step 4: Sample Data**</span>\n",
        "\n",
        "## <span style=\"color:darkblue;\">**Overview**</span>\n",
        "To expedite the processing and analysis, we sample a smaller subset of the dataset.\n",
        "\n",
        "## <span style=\"color:darkblue;\">**Sampling Method**</span>\n",
        "- We use the `sample()` method with `frac=0.1` to select 10% of the dataset randomly.\n",
        "- The `random_state` parameter ensures reproducibility of the results."
      ],
      "metadata": {
        "id": "8_IBTD07icHq"
      }
    },
    {
      "cell_type": "code",
      "source": [
        "# Sample a smaller subset of the data for testing"
      ],
      "metadata": {
        "id": "khXEjbtFgVwM"
      },
      "execution_count": 52,
      "outputs": []
    },
    {
      "cell_type": "code",
      "source": [
        "papers_df = papers_df.sample(frac=0.1, random_state=42)  # Use 10% of the dataset for faster processing"
      ],
      "metadata": {
        "id": "MOcHxGQJgVyZ"
      },
      "execution_count": 53,
      "outputs": []
    },
    {
      "cell_type": "code",
      "source": [],
      "metadata": {
        "id": "Gi2lt7Q7gdIz"
      },
      "execution_count": null,
      "outputs": []
    },
    {
      "cell_type": "code",
      "source": [],
      "metadata": {
        "id": "d91tL1LyigBn"
      },
      "execution_count": null,
      "outputs": []
    },
    {
      "cell_type": "code",
      "source": [],
      "metadata": {
        "id": "GSUdqMt2igT2"
      },
      "execution_count": null,
      "outputs": []
    },
    {
      "cell_type": "markdown",
      "source": [
        "# <span style=\"color:blue;\">**Step 5: Distribution of Year**</span>\n",
        "\n",
        "## <span style=\"color:darkblue;\">**Overview**</span>\n",
        "This step visualizes the distribution of research papers across different years to identify trends over time.\n",
        "\n",
        "## <span style=\"color:darkblue;\">**Count Plot**</span>\n",
        "- A count plot is created using Seaborn's `countplot()` function to display the number of papers published each year.\n",
        "- The x-axis is labeled 'year', and the title 'Distribution of Papers by Year' provides context for the visualization.\n",
        "- The x-axis labels are rotated for improved readability."
      ],
      "metadata": {
        "id": "mJfdn07yigll"
      }
    },
    {
      "cell_type": "code",
      "source": [
        "# Distribution of Year"
      ],
      "metadata": {
        "id": "5eSi73V_gdOR"
      },
      "execution_count": 54,
      "outputs": []
    },
    {
      "cell_type": "code",
      "source": [
        "plt.figure(figsize=(10, 6))  # Set the figure size\n",
        "sns.countplot(data=papers_df, x='year', palette='viridis')  # Plot the distribution of articles by year\n",
        "plt.title('Distribution of Papers by Year')  # Title for the plot\n",
        "plt.xticks(rotation=45)  # Rotate x-axis labels for better readability\n",
        "plt.show()  # Show the distribution plot"
      ],
      "metadata": {
        "colab": {
          "base_uri": "https://localhost:8080/",
          "height": 585
        },
        "id": "PcPIBAKegdRF",
        "outputId": "1a1f81a0-6af5-45ef-c47a-b870273bd225"
      },
      "execution_count": 55,
      "outputs": [
        {
          "output_type": "display_data",
          "data": {
            "text/plain": [
              "<Figure size 1000x600 with 1 Axes>"
            ],
            "image/png": "[encoded data removed]"
          },
          "metadata": {}
        }
      ]
    },
    {
      "cell_type": "code",
      "source": [],
      "metadata": {
        "id": "yGsbmTs6gdVa"
      },
      "execution_count": null,
      "outputs": []
    },
    {
      "cell_type": "code",
      "source": [],
      "metadata": {
        "id": "W-T1Ue71gjwb"
      },
      "execution_count": null,
      "outputs": []
    },
    {
      "cell_type": "code",
      "source": [],
      "metadata": {
        "id": "cZqdzkcPijEV"
      },
      "execution_count": null,
      "outputs": []
    },
    {
      "cell_type": "markdown",
      "source": [
        "# <span style=\"color:blue;\">**Step 6: Word Count Analysis in Abstracts**</span>\n",
        "\n",
        "## <span style=\"color:darkblue;\">**Overview**</span>\n",
        "In this step, we analyze the word count in the abstracts of the research papers to understand their length distribution.\n",
        "\n",
        "## <span style=\"color:darkblue;\">**Abstract Length Calculation**</span>\n",
        "- A new column `abstract_length` is created to store the word count of each abstract using a lambda function.\n",
        "- We then plot a histogram using Seaborn's `histplot()` to visualize the distribution of abstract lengths.\n",
        "- The histogram includes a kernel density estimate (KDE) for smoother representation, with titles and axis labels for clarity."
      ],
      "metadata": {
        "id": "k7LLtkhOijRP"
      }
    },
    {
      "cell_type": "code",
      "source": [
        "# Word Count Analysis in Abstracts"
      ],
      "metadata": {
        "id": "mBv2dN6Lgjz4"
      },
      "execution_count": 56,
      "outputs": []
    },
    {
      "cell_type": "code",
      "source": [
        "papers_df['abstract_length'] = papers_df['abstract'].fillna('').apply(lambda x: len(x.split()))  # Calculate word count in abstracts\n",
        "plt.figure(figsize=(10, 6))  # Set the figure size\n",
        "sns.histplot(papers_df['abstract_length'], bins=30, kde=True)  # Plot the distribution of abstract lengths\n",
        "plt.title('Distribution of Abstract Lengths')  # Title for the plot\n",
        "plt.xlabel('Number of Words in Abstract')  # X-axis label\n",
        "plt.ylabel('Frequency')  # Y-axis label\n",
        "plt.show()  # Show the histogram"
      ],
      "metadata": {
        "colab": {
          "base_uri": "https://localhost:8080/",
          "height": 564
        },
        "id": "fxtNN4Vpgj50",
        "outputId": "9b863c73-4db6-462a-bbd1-c7016fc1e765"
      },
      "execution_count": 57,
      "outputs": [
        {
          "output_type": "display_data",
          "data": {
            "text/plain": [
              "<Figure size 1000x600 with 1 Axes>"
            ],
            "image/png": "[encoded data removed]"
          },
          "metadata": {}
        }
      ]
    },
    {
      "cell_type": "code",
      "source": [],
      "metadata": {
        "id": "YlXjvVlWgj8d"
      },
      "execution_count": null,
      "outputs": []
    },
    {
      "cell_type": "code",
      "source": [],
      "metadata": {
        "id": "XyyQW__JgkBr"
      },
      "execution_count": null,
      "outputs": []
    },
    {
      "cell_type": "code",
      "source": [],
      "metadata": {
        "id": "-z0JnA51gdZG"
      },
      "execution_count": null,
      "outputs": []
    },
    {
      "cell_type": "markdown",
      "source": [
        "# <span style=\"color:blue;\">**Step 7: Preprocessing Text**</span>\n",
        "\n",
        "## <span style=\"color:darkblue;\">**Overview**</span>\n",
        "This step involves cleaning and preparing the abstract text data for topic modeling.\n",
        "\n",
        "## <span style=\"color:darkblue;\">**Text Preprocessing Function**</span>\n",
        "- We define a function `preprocess_text()` to handle the preprocessing tasks.\n",
        "- The function converts the text to lowercase, tokenizes it, and removes stopwords and non-alphabetic tokens.\n",
        "- The processed tokens are then returned for further analysis, ensuring that the data is clean and relevant for LDA modeling."
      ],
      "metadata": {
        "id": "-RjUKc4Xil1V"
      }
    },
    {
      "cell_type": "code",
      "source": [
        "# Preprocessing"
      ],
      "metadata": {
        "id": "VVflVVnJgV8y"
      },
      "execution_count": 58,
      "outputs": []
    },
    {
      "cell_type": "code",
      "source": [
        "def preprocess_text(text):  # Define a function to preprocess text\n",
        "    text = text.lower()  # Convert text to lowercase\n",
        "    tokens = word_tokenize(text)  # Tokenize the text\n",
        "    tokens = [word for word in tokens if word.isalpha() and word not in stopwords.words('english')]  # Remove stopwords and non-alphabetic tokens\n",
        "    return tokens  # Return the processed tokens"
      ],
      "metadata": {
        "id": "faK0MAFJgV_8"
      },
      "execution_count": 59,
      "outputs": []
    },
    {
      "cell_type": "code",
      "source": [],
      "metadata": {
        "id": "UwWGdEhXgWGt"
      },
      "execution_count": null,
      "outputs": []
    },
    {
      "cell_type": "code",
      "source": [
        "papers_df['processed_abstract'] = papers_df['abstract'].fillna('').apply(preprocess_text)  # Apply preprocessing to the abstracts\n"
      ],
      "metadata": {
        "id": "92jGMOgBf36u"
      },
      "execution_count": 60,
      "outputs": []
    },
    {
      "cell_type": "code",
      "source": [],
      "metadata": {
        "id": "xrnW6DUkgw1x"
      },
      "execution_count": null,
      "outputs": []
    },
    {
      "cell_type": "code",
      "source": [],
      "metadata": {
        "id": "gX6RmJzPgw49"
      },
      "execution_count": null,
      "outputs": []
    },
    {
      "cell_type": "code",
      "source": [],
      "metadata": {
        "id": "J13GVqd5iomt"
      },
      "execution_count": null,
      "outputs": []
    },
    {
      "cell_type": "markdown",
      "source": [
        "# <span style=\"color:blue;\">**Step 8: Prepare Data for LDA**</span>\n",
        "\n",
        "## <span style=\"color:darkblue;\">**Overview**</span>\n",
        "In this step, we prepare the data for training the LDA model by creating a dictionary and corpus.\n",
        "\n",
        "## <span style=\"color:darkblue;\">**Dictionary and Corpus Creation**</span>\n",
        "- We create a dictionary using Gensim's `corpora.Dictionary()` method, which maps each word to a unique ID based on the processed abstracts.\n",
        "- A bag-of-words corpus is generated, which represents each document as a collection of word IDs and their corresponding counts, enabling LDA to process the text data effectively."
      ],
      "metadata": {
        "id": "biNBtgm7io20"
      }
    },
    {
      "cell_type": "code",
      "source": [
        "# Prepare Data for LDA"
      ],
      "metadata": {
        "id": "kioew9BMgw8C"
      },
      "execution_count": 61,
      "outputs": []
    },
    {
      "cell_type": "code",
      "source": [
        "dictionary = corpora.Dictionary(papers_df['processed_abstract'])  # Create a dictionary from processed abstracts"
      ],
      "metadata": {
        "id": "zx8mefmwgw-2"
      },
      "execution_count": 62,
      "outputs": []
    },
    {
      "cell_type": "code",
      "source": [
        "corpus = [dictionary.doc2bow(text) for text in papers_df['processed_abstract']]  # Create a bag-of-words corpus"
      ],
      "metadata": {
        "id": "mZkiIC6dgxBz"
      },
      "execution_count": 63,
      "outputs": []
    },
    {
      "cell_type": "code",
      "source": [],
      "metadata": {
        "id": "9lUYZ7SHgxEq"
      },
      "execution_count": null,
      "outputs": []
    },
    {
      "cell_type": "code",
      "source": [],
      "metadata": {
        "id": "DhOwvwi6f38k"
      },
      "execution_count": null,
      "outputs": []
    },
    {
      "cell_type": "code",
      "source": [],
      "metadata": {
        "id": "oQyB-vQ6irMw"
      },
      "execution_count": null,
      "outputs": []
    },
    {
      "cell_type": "markdown",
      "source": [
        "# <span style=\"color:blue;\">**Step 9: Train LDA Model**</span>\n",
        "\n",
        "## <span style=\"color:darkblue;\">**Overview**</span>\n",
        "This step involves training the Latent Dirichlet Allocation (LDA) model on the prepared corpus to discover topics.\n",
        "\n",
        "## <span style=\"color:darkblue;\">**Model Training**</span>\n",
        "- The number of topics is set (e.g., `num_topics = 3`), and the number of passes over the corpus is defined (e.g., `passes = 5`).\n",
        "- The LDA model is trained using Gensim's `LdaModel()` method, which applies the LDA algorithm to identify latent topics in the dataset.\n",
        "- After training, the topics and their associated keywords are printed for review."
      ],
      "metadata": {
        "id": "WfXvsA4Kirfn"
      }
    },
    {
      "cell_type": "code",
      "source": [
        "# Train LDA Model"
      ],
      "metadata": {
        "id": "P4a3bDEAfwCR"
      },
      "execution_count": 64,
      "outputs": []
    },
    {
      "cell_type": "code",
      "source": [
        "num_topics = 3  # Number of topics"
      ],
      "metadata": {
        "id": "OgvIucYhg34q"
      },
      "execution_count": 65,
      "outputs": []
    },
    {
      "cell_type": "code",
      "source": [
        "passes = 5  # Number of passes over the corpus"
      ],
      "metadata": {
        "id": "9uUcR5KXg37r"
      },
      "execution_count": 66,
      "outputs": []
    },
    {
      "cell_type": "code",
      "source": [
        "lda_model = LdaModel(corpus, num_topics=num_topics, id2word=dictionary, passes=passes)  # Train the LDA model"
      ],
      "metadata": {
        "colab": {
          "base_uri": "https://localhost:8080/"
        },
        "id": "0HrSaTm-g3-m",
        "outputId": "fe08ddef-c160-4af3-abd5-6ce04893fbb7"
      },
      "execution_count": 67,
      "outputs": [
        {
          "output_type": "stream",
          "name": "stderr",
          "text": [
            "WARNING:gensim.models.ldamodel:too few updates, training might not converge; consider increasing the number of passes or iterations to improve accuracy\n"
          ]
        }
      ]
    },
    {
      "cell_type": "code",
      "source": [],
      "metadata": {
        "id": "nx70RoCTg4A6"
      },
      "execution_count": null,
      "outputs": []
    },
    {
      "cell_type": "code",
      "source": [],
      "metadata": {
        "id": "FvWvU0CMhEZE"
      },
      "execution_count": null,
      "outputs": []
    },
    {
      "cell_type": "code",
      "source": [
        "# Display the topics"
      ],
      "metadata": {
        "id": "SrmwBzAhg4Da"
      },
      "execution_count": 68,
      "outputs": []
    },
    {
      "cell_type": "code",
      "source": [
        "for idx, topic in lda_model.print_topics(-1):  # Loop through the topics\n",
        "    print(f\"Topic {idx}: {topic}\")  # Print each topic and its words"
      ],
      "metadata": {
        "colab": {
          "base_uri": "https://localhost:8080/"
        },
        "id": "4fwcTCWmhCos",
        "outputId": "e59e62d0-d55a-430b-b77a-b838a4d91e9b"
      },
      "execution_count": 69,
      "outputs": [
        {
          "output_type": "stream",
          "name": "stdout",
          "text": [
            "Topic 0: 0.010*\"learning\" + 0.007*\"model\" + 0.007*\"data\" + 0.006*\"show\" + 0.006*\"methods\" + 0.005*\"approach\" + 0.005*\"paper\" + 0.005*\"algorithm\" + 0.005*\"networks\" + 0.005*\"algorithms\"\n",
            "Topic 1: 0.037*\"missing\" + 0.037*\"abstract\" + 0.009*\"model\" + 0.007*\"algorithm\" + 0.005*\"data\" + 0.005*\"show\" + 0.005*\"problem\" + 0.005*\"models\" + 0.005*\"method\" + 0.004*\"learning\"\n",
            "Topic 2: 0.011*\"learning\" + 0.010*\"algorithm\" + 0.008*\"data\" + 0.008*\"problem\" + 0.007*\"model\" + 0.006*\"show\" + 0.005*\"models\" + 0.005*\"method\" + 0.005*\"algorithms\" + 0.005*\"propose\"\n"
          ]
        }
      ]
    },
    {
      "cell_type": "code",
      "source": [],
      "metadata": {
        "id": "NiKbA_OLhCqW"
      },
      "execution_count": null,
      "outputs": []
    },
    {
      "cell_type": "code",
      "source": [],
      "metadata": {
        "id": "F_zK4-9VhCs1"
      },
      "execution_count": null,
      "outputs": []
    },
    {
      "cell_type": "code",
      "source": [],
      "metadata": {
        "id": "sgwTOV8viukP"
      },
      "execution_count": null,
      "outputs": []
    },
    {
      "cell_type": "markdown",
      "source": [
        "# <span style=\"color:blue;\">**Step 10: Visualize Topics**</span>\n",
        "\n",
        "## <span style=\"color:darkblue;\">**Overview**</span>\n",
        "In this step, we visualize the results of the LDA model to interpret the identified topics.\n",
        "\n",
        "## <span style=\"color:darkblue;\">**Visualization Preparation**</span>\n",
        "- The `pyLDAvis` library is used to prepare the data for visualization, allowing us to interactively explore the topics.\n",
        "- The visualization is displayed inline, providing insights into the relationships between topics and the distribution of words associated with each topic."
      ],
      "metadata": {
        "id": "cWNdF8YdiuzW"
      }
    },
    {
      "cell_type": "code",
      "source": [
        "# Visualize Topics"
      ],
      "metadata": {
        "id": "LcCxFt3FhCvo"
      },
      "execution_count": 70,
      "outputs": []
    },
    {
      "cell_type": "code",
      "source": [
        "pyLDAvis.enable_notebook()  # Enable notebook visualization"
      ],
      "metadata": {
        "id": "5EwQOA2OhC1I"
      },
      "execution_count": 75,
      "outputs": []
    },
    {
      "cell_type": "code",
      "source": [
        "vis = pyLDAvis.gensim_models.prepare(lda_model, corpus, dictionary)  # Prepare visualization data"
      ],
      "metadata": {
        "id": "C6NPjNejhC3u"
      },
      "execution_count": 76,
      "outputs": []
    },
    {
      "cell_type": "code",
      "source": [
        "pyLDAvis.display(vis)  # Display the visualization"
      ],
      "metadata": {
        "colab": {
          "base_uri": "https://localhost:8080/",
          "height": 881
        },
        "id": "UdnmJwC6hO7-",
        "outputId": "92d783b6-8397-4226-d9a6-787392fbd52b"
      },
      "execution_count": 99,
      "outputs": [
        {
          "output_type": "execute_result",
          "data": {
            "text/plain": [
              "<IPython.core.display.HTML object>"
            ],
            "text/html": [
              "\n",
              "<link rel=\"stylesheet\" type=\"text/css\" href=\"https://cdn.jsdelivr.net/gh/bmabey/pyLDAvis@3.4.0/pyLDAvis/js/ldavis.v1.0.0.css\">\n",
              "\n",
              "\n",
              "<div id=\"ldavis_el205139081472960192344760793\" style=\"background-color:white;\"></div>\n",
              "<script type=\"text/javascript\">\n",
              "\n",
              "var ldavis_el205139081472960192344760793_data = {\"mdsDat\": {\"x\": [-0.04174254633555557, -0.035027361087352535, 0.0767699074229081], \"y\": [0.0469856556394259, -0.049807883640444195, 0.0028222280010183408], \"topics\": [1, 2, 3], \"cluster\": [1, 1, 1], \"Freq\": [44.594596321218575, 34.226275880926295, 21.17912779785513]}, \"tinfo\": {\"Term\": [\"abstract\", \"missing\", \"model\", \"convergence\", \"stochastic\", \"clustering\", \"gradient\", \"bandit\", \"methods\", \"algorithm\", \"networks\", \"neurons\", \"guarantees\", \"margin\", \"game\", \"network\", \"games\", \"submodular\", \"dynamical\", \"setting\", \"information\", \"variational\", \"p\", \"estimators\", \"bayesian\", \"proposed\", \"rates\", \"plasticity\", \"strategies\", \"feedback\", \"entries\", \"deliberation\", \"motion\", \"unitary\", \"mmd\", \"sources\", \"lstm\", \"pmd\", \"rational\", \"might\", \"sentence\", \"cirl\", \"hashing\", \"domain\", \"independence\", \"lp\", \"translation\", \"discriminators\", \"rl\", \"spn\", \"false\", \"easier\", \"hierarchy\", \"text\", \"augmentation\", \"evaluations\", \"softmax\", \"mccfr\", \"selected\", \"databases\", \"clustering\", \"successfully\", \"node\", \"tests\", \"utility\", \"human\", \"gan\", \"x\", \"image\", \"constraints\", \"hard\", \"testing\", \"classification\", \"sequence\", \"tree\", \"algorithm\", \"problem\", \"k\", \"real\", \"learning\", \"adversarial\", \"first\", \"metrics\", \"data\", \"test\", \"tasks\", \"decision\", \"one\", \"two\", \"also\", \"propose\", \"based\", \"features\", \"algorithms\", \"models\", \"show\", \"using\", \"results\", \"method\", \"model\", \"new\", \"structure\", \"performance\", \"demonstrate\", \"training\", \"paper\", \"matrix\", \"optimal\", \"approach\", \"network\", \"problems\", \"methods\", \"g\", \"lbp\", \"margin\", \"dynamical\", \"connectivity\", \"std\", \"workers\", \"spore\", \"bco\", \"dha\", \"jacobian\", \"bethe\", \"tensor\", \"established\", \"de\", \"states\", \"identification\", \"replica\", \"link\", \"protein\", \"cation\", \"q\", \"classi\", \"eigenfeatures\", \"hots\", \"principle\", \"grfs\", \"patients\", \"stale\", \"samplers\", \"social\", \"relational\", \"mcmc\", \"color\", \"brain\", \"gradient\", \"questions\", \"methods\", \"quantization\", \"networks\", \"bayesian\", \"programs\", \"stochastic\", \"output\", \"network\", \"ranking\", \"gradients\", \"spectral\", \"risk\", \"approach\", \"prediction\", \"learning\", \"properties\", \"neural\", \"variational\", \"inference\", \"paper\", \"n\", \"function\", \"show\", \"large\", \"number\", \"model\", \"data\", \"algorithms\", \"deep\", \"estimation\", \"error\", \"propose\", \"method\", \"based\", \"efficient\", \"analysis\", \"models\", \"new\", \"algorithm\", \"problem\", \"time\", \"performance\", \"using\", \"proposed\", \"also\", \"abstract\", \"missing\", \"arms\", \"memristive\", \"dendritic\", \"curvature\", \"net\", \"luce\", \"side\", \"sgns\", \"trustvi\", \"axiom\", \"deflation\", \"minsky\", \"rf\", \"preferred\", \"geometry\", \"waveforms\", \"ode\", \"relies\", \"disparity\", \"voc\", \"copula\", \"sussman\", \"influence\", \"lgmd\", \"shifted\", \"nonlinearities\", \"euclidean\", \"collapsed\", \"goss\", \"implementations\", \"bandit\", \"feedback\", \"neurons\", \"convergence\", \"outliers\", \"strategies\", \"estimators\", \"submodular\", \"model\", \"constraint\", \"guarantees\", \"rates\", \"algorithm\", \"collaborative\", \"information\", \"models\", \"game\", \"setting\", \"method\", \"proposed\", \"problem\", \"show\", \"games\", \"data\", \"distributions\", \"distribution\", \"stochastic\", \"optimization\", \"used\", \"new\", \"matrix\", \"performance\", \"time\", \"demonstrate\", \"algorithms\", \"however\", \"learning\", \"approach\", \"also\", \"function\", \"using\", \"number\", \"paper\", \"results\"], \"Freq\": [262.0, 265.0, 237.0, 67.0, 60.0, 49.0, 69.0, 19.0, 125.0, 251.0, 91.0, 22.0, 38.0, 16.0, 21.0, 96.0, 19.0, 18.0, 15.0, 54.0, 80.0, 45.0, 18.0, 16.0, 39.0, 84.0, 17.0, 13.0, 14.0, 12.0, 14.636443208383227, 7.656959647950735, 9.190888699095648, 8.33837368277035, 6.659069315212273, 6.643890559914276, 9.13968595504848, 5.782654456117464, 6.615913904483619, 7.425249937256845, 6.583812433551396, 5.748109554888647, 6.565810939798151, 13.186055386242266, 14.748601845018047, 5.742290496278428, 5.721591414332452, 5.714369987027188, 6.527493529628689, 4.886461140980394, 7.303310721887017, 5.685818154705102, 5.68631661277122, 8.893029359919678, 4.868922103162954, 5.679794655426321, 5.673144547641379, 4.851718228034857, 5.659371161215954, 4.850707596805359, 43.83331712734903, 7.273483814116349, 10.396684905439328, 10.2534144278591, 8.76459176002837, 21.078172377461144, 10.944993921330639, 13.035684774248185, 48.14051599230479, 16.79317996935981, 12.168066007063041, 10.625607879808284, 48.1118994418675, 26.392215390683553, 14.878005502072751, 144.4467871846509, 115.08763280610607, 29.15667839766501, 24.30575135930346, 163.6382542079667, 13.034630426146164, 37.783327138205884, 14.44639139123569, 123.24609955773491, 28.545226788366328, 37.51741883248904, 18.66393123661505, 41.8448577522293, 50.16768622944668, 62.47731518448082, 66.87189979164182, 61.62598480968153, 47.67677769490567, 76.10757085487883, 78.97286039938233, 95.31184777903741, 60.27126922007282, 55.374660621505654, 76.96005329784813, 98.71179981765647, 61.83371367281271, 39.70039600330227, 54.8668488590549, 46.76074291999829, 41.21964818598961, 61.689197692962374, 39.72712672786602, 38.22776143620866, 48.62988094893808, 41.17698051840734, 39.17113725750796, 39.91598704593892, 9.160778954771201, 7.362772761750205, 14.689962636401125, 13.582611558294916, 5.615556689406499, 8.011691701412774, 6.387094023802729, 4.78549403862485, 4.781344368462909, 4.773088778129637, 4.7574045709698, 4.743354573985509, 11.089298935568022, 4.728431879820114, 4.725643064629235, 5.513248487681853, 5.512954737744904, 4.7098858311692835, 7.056311643318889, 7.764254254523067, 4.674419062466127, 4.675240443868772, 4.663495051652975, 4.663576630582834, 4.659405578846535, 5.441960016141198, 3.858637000724537, 3.8565054222346937, 3.8460557534249924, 3.835905755603601, 9.113499359656196, 8.28530940584101, 9.493616383330545, 8.207502185699548, 12.623799921990223, 45.01263770685034, 12.100480297474117, 70.73299534409428, 9.566851236032374, 53.29961487549127, 25.234207741591785, 8.29103572040138, 35.16264771580176, 13.57968392734436, 50.2552734236695, 12.210363168625557, 16.177792580209278, 13.955491741417328, 18.23145924467077, 58.68172424658415, 21.953678182570993, 115.89762775516239, 22.791624055344787, 42.4534856245711, 25.68376553983496, 37.87496555467899, 56.13746163479323, 25.87985497143028, 42.73553556403154, 71.02014791403843, 36.37924745466922, 42.03704097711521, 78.03963588105067, 74.98251548460337, 52.44269926994706, 26.52568378017717, 31.913561571084543, 25.23338932071482, 43.855540586790106, 50.568210198605605, 40.594914970865524, 32.41164041154468, 30.11883564051736, 44.71854829628986, 39.67243358992076, 54.95182504717454, 48.21918965017083, 30.67165657449074, 35.10473983349434, 34.92925039747741, 31.32659064444116, 33.43127177163706, 259.8523757548077, 260.8499810394478, 5.364652853203017, 4.643244436353133, 3.945450460065826, 3.9451455396096424, 3.9182571734013703, 3.893348958192932, 3.891323618714278, 3.238274785630662, 3.8818971391910138, 3.8720094115010535, 3.216214055243017, 3.851556128938829, 3.847734649202924, 3.834328326716178, 5.095791988911412, 3.185199492394363, 3.1822310978599697, 3.18028290447804, 4.444676897038571, 3.8032476095629444, 3.1677779089472216, 3.799294635424707, 3.1638493610137517, 3.154205488268055, 3.1397258376334753, 3.112389657671129, 3.1133785118608075, 2.4761344510204184, 3.080726579085893, 5.95194145781106, 12.746387499435125, 7.643540001276566, 12.078126433125606, 27.166150779372234, 5.394239907934706, 8.342378604921105, 8.987418492564808, 9.648989221388458, 60.32892831555754, 5.346496448095781, 15.649688640743129, 9.00370832852438, 52.0597167786044, 6.670646300896573, 22.795291501555273, 34.335290731098524, 9.9935012986729, 17.473080400446353, 33.367876235551336, 22.006855950409197, 35.80403516695237, 35.96084163107902, 8.890027143121905, 36.94936362437279, 15.817801180849923, 17.55805265317854, 16.52205100305733, 16.065629454422897, 17.484707273915774, 22.484595062151218, 16.80236287214403, 19.94720905295193, 16.568008093120913, 17.62675216829449, 22.025714608903506, 15.882454088042694, 28.645880493716934, 19.696863251874234, 18.149485977632246, 17.02041560210519, 17.201299790478185, 16.76218013688753, 17.191902215297226, 16.498951955415354], \"Total\": [262.0, 265.0, 237.0, 67.0, 60.0, 49.0, 69.0, 19.0, 125.0, 251.0, 91.0, 22.0, 38.0, 16.0, 21.0, 96.0, 19.0, 18.0, 15.0, 54.0, 80.0, 45.0, 18.0, 16.0, 39.0, 84.0, 17.0, 13.0, 14.0, 12.0, 15.580284026548107, 8.229972370413654, 10.061573141898108, 9.133207262512528, 7.301208625409307, 7.2947085497779325, 10.040345723773823, 6.380390496348948, 7.299898776037754, 8.210344810401404, 7.2948969663430585, 6.375115339794154, 7.293085910931215, 14.651959884514024, 16.401159305607088, 6.386316513438928, 6.379376449240009, 6.378007650949709, 7.296587465942979, 5.462554917973804, 8.169938201539738, 6.370441371728033, 6.373430492758508, 9.968097643233705, 5.465953502732091, 6.38195533305451, 6.377863983799761, 5.455060344862739, 6.369416554813603, 5.460889623836713, 49.7259924407442, 8.190414995435647, 11.877251106281179, 11.771644422997058, 10.024941465783746, 25.24520616680737, 12.719148017024391, 15.475401189448888, 63.66134091676659, 20.593243473011796, 14.590267838701815, 12.725926805253337, 69.93947303505612, 35.39573085516372, 18.592871858901184, 251.45832901042985, 199.11085762322926, 40.65284805180293, 32.91874612204602, 308.18176245684606, 16.119320829528785, 57.25069862452271, 18.248703018367657, 235.17797866671106, 41.689430173851356, 58.224619037376584, 24.924968273571903, 66.87542952472957, 84.67236170200056, 114.05807293375014, 125.65272594962066, 114.37380541115529, 82.56705498510263, 150.5759847337294, 158.0266994267707, 202.29283732415485, 112.40181940802842, 102.50894284341939, 160.89613973200508, 237.0803640142647, 123.99074232488468, 67.25768396279759, 109.91879774550117, 86.7438481844331, 71.88505761095652, 135.01856154305284, 73.21975575443187, 70.90994582319006, 127.00846844739647, 96.4603198001323, 77.53233253137998, 125.93478734469745, 9.871888000321047, 8.069827739133302, 16.211078397100525, 15.15138959735282, 6.269517251607185, 8.981065028319277, 7.166233801985371, 5.37257554597101, 5.369957771263105, 5.3716941337707445, 5.370514225399344, 5.364891833755458, 12.55825490725245, 5.366662225644656, 5.364877329997607, 6.2619240389792425, 6.262580005541469, 5.359939301073283, 8.049855744947623, 8.894678254015176, 5.362221477621214, 5.3723169012145044, 5.362121681759092, 5.3677269192825605, 5.36593346896336, 6.275918910603398, 4.468968327771153, 4.466562607938424, 4.468001862108456, 4.465731626820853, 10.64453137365291, 9.78301385853195, 11.497728366573936, 9.89321574653624, 16.23709534810637, 69.04924855254959, 16.086039788314203, 125.93478734469745, 12.315427663890627, 91.56164725104333, 39.47821576450438, 10.48686222424718, 60.91556949805438, 19.107322536431433, 96.4603198001323, 17.07063641415883, 24.258575060670616, 20.29983897651048, 28.414539384355052, 127.00846844739647, 36.18894469545682, 308.18176245684606, 38.26015428712508, 86.46369501225753, 45.86592810422198, 78.01636573131603, 135.01856154305284, 47.404615238230306, 96.60632252818816, 202.29283732415485, 78.31703276644461, 96.68005573619325, 237.0803640142647, 235.17797866671106, 150.5759847337294, 53.47705763708746, 71.27613076816762, 50.304276568027404, 125.65272594962066, 160.89613973200508, 114.37380541115529, 78.21179904764242, 70.85960885475811, 158.0266994267707, 123.99074232488468, 251.45832901042985, 199.11085762322926, 73.90605513888676, 109.91879774550117, 112.40181940802842, 84.62300091303027, 114.05807293375014, 262.5648512428456, 265.98456618579286, 6.12618666830923, 5.370975462726836, 4.61163748379257, 4.611534463849805, 4.617083037497168, 4.6229787808775935, 4.623297701058478, 3.853916702721413, 4.6248441009380725, 4.627903477934661, 3.8584161294245307, 4.631212047795733, 4.632833411196915, 4.636677145279849, 6.180926641164488, 3.86497542776355, 3.865941604651347, 3.866561818778737, 5.417034609536362, 4.64302597100772, 3.8689878221389513, 4.641891801856529, 3.8694776234783577, 3.8711920966794726, 3.873558211417475, 3.880660977915406, 3.882012055861782, 3.1076024482561015, 3.889346805614249, 7.8325673426818785, 19.127897361206074, 12.01071441353427, 22.855370568616483, 67.93322768628234, 7.961411383850535, 14.601213326702691, 16.27444171671385, 18.022269054056288, 237.0803640142647, 7.970646938910738, 38.53448170442027, 17.18741262908194, 251.45832901042985, 11.315618296502413, 80.0593915243749, 158.0266994267707, 21.641694139586953, 54.56700882325664, 160.89613973200508, 84.62300091303027, 199.11085762322926, 202.29283732415485, 19.13869572317251, 235.17797866671106, 54.14154280243092, 65.54268358710236, 60.91556949805438, 61.23593061757955, 72.87153974051743, 123.99074232488468, 73.21975575443187, 109.91879774550117, 73.90605513888676, 86.7438481844331, 150.5759847337294, 68.80658274009585, 308.18176245684606, 127.00846844739647, 114.05807293375014, 96.60632252818816, 112.40181940802842, 96.68005573619325, 135.01856154305284, 102.50894284341939], \"Category\": [\"Default\", \"Default\", \"Default\", \"Default\", \"Default\", \"Default\", \"Default\", \"Default\", \"Default\", \"Default\", \"Default\", \"Default\", \"Default\", \"Default\", \"Default\", \"Default\", \"Default\", \"Default\", \"Default\", \"Default\", \"Default\", \"Default\", \"Default\", \"Default\", \"Default\", \"Default\", \"Default\", \"Default\", \"Default\", \"Default\", \"Topic1\", \"Topic1\", \"Topic1\", \"Topic1\", \"Topic1\", \"Topic1\", \"Topic1\", \"Topic1\", \"Topic1\", \"Topic1\", \"Topic1\", \"Topic1\", \"Topic1\", \"Topic1\", \"Topic1\", \"Topic1\", \"Topic1\", \"Topic1\", \"Topic1\", \"Topic1\", \"Topic1\", \"Topic1\", \"Topic1\", \"Topic1\", \"Topic1\", \"Topic1\", \"Topic1\", \"Topic1\", \"Topic1\", \"Topic1\", \"Topic1\", \"Topic1\", \"Topic1\", \"Topic1\", \"Topic1\", \"Topic1\", \"Topic1\", \"Topic1\", \"Topic1\", \"Topic1\", \"Topic1\", \"Topic1\", \"Topic1\", \"Topic1\", \"Topic1\", \"Topic1\", \"Topic1\", \"Topic1\", \"Topic1\", \"Topic1\", \"Topic1\", \"Topic1\", \"Topic1\", \"Topic1\", \"Topic1\", \"Topic1\", \"Topic1\", \"Topic1\", \"Topic1\", \"Topic1\", \"Topic1\", \"Topic1\", \"Topic1\", \"Topic1\", \"Topic1\", \"Topic1\", \"Topic1\", \"Topic1\", \"Topic1\", \"Topic1\", \"Topic1\", \"Topic1\", \"Topic1\", \"Topic1\", \"Topic1\", \"Topic1\", \"Topic1\", \"Topic1\", \"Topic1\", \"Topic1\", \"Topic1\", \"Topic1\", \"Topic2\", \"Topic2\", \"Topic2\", \"Topic2\", \"Topic2\", \"Topic2\", \"Topic2\", \"Topic2\", \"Topic2\", \"Topic2\", \"Topic2\", \"Topic2\", \"Topic2\", \"Topic2\", \"Topic2\", \"Topic2\", \"Topic2\", \"Topic2\", \"Topic2\", \"Topic2\", \"Topic2\", \"Topic2\", \"Topic2\", \"Topic2\", \"Topic2\", \"Topic2\", \"Topic2\", \"Topic2\", \"Topic2\", \"Topic2\", \"Topic2\", \"Topic2\", \"Topic2\", \"Topic2\", \"Topic2\", \"Topic2\", \"Topic2\", \"Topic2\", \"Topic2\", \"Topic2\", \"Topic2\", \"Topic2\", \"Topic2\", \"Topic2\", \"Topic2\", \"Topic2\", \"Topic2\", \"Topic2\", \"Topic2\", \"Topic2\", \"Topic2\", \"Topic2\", \"Topic2\", \"Topic2\", \"Topic2\", \"Topic2\", \"Topic2\", \"Topic2\", \"Topic2\", \"Topic2\", \"Topic2\", \"Topic2\", \"Topic2\", \"Topic2\", \"Topic2\", \"Topic2\", \"Topic2\", \"Topic2\", \"Topic2\", \"Topic2\", \"Topic2\", \"Topic2\", \"Topic2\", \"Topic2\", \"Topic2\", \"Topic2\", \"Topic2\", \"Topic2\", \"Topic2\", \"Topic2\", \"Topic2\", \"Topic2\", \"Topic3\", \"Topic3\", \"Topic3\", \"Topic3\", \"Topic3\", \"Topic3\", \"Topic3\", \"Topic3\", \"Topic3\", \"Topic3\", \"Topic3\", \"Topic3\", \"Topic3\", \"Topic3\", \"Topic3\", \"Topic3\", \"Topic3\", \"Topic3\", \"Topic3\", \"Topic3\", \"Topic3\", \"Topic3\", \"Topic3\", \"Topic3\", \"Topic3\", \"Topic3\", \"Topic3\", \"Topic3\", \"Topic3\", \"Topic3\", \"Topic3\", \"Topic3\", \"Topic3\", \"Topic3\", \"Topic3\", \"Topic3\", \"Topic3\", \"Topic3\", \"Topic3\", \"Topic3\", \"Topic3\", \"Topic3\", \"Topic3\", \"Topic3\", \"Topic3\", \"Topic3\", \"Topic3\", \"Topic3\", \"Topic3\", \"Topic3\", \"Topic3\", \"Topic3\", \"Topic3\", \"Topic3\", \"Topic3\", \"Topic3\", \"Topic3\", \"Topic3\", \"Topic3\", \"Topic3\", \"Topic3\", \"Topic3\", \"Topic3\", \"Topic3\", \"Topic3\", \"Topic3\", \"Topic3\", \"Topic3\", \"Topic3\", \"Topic3\", \"Topic3\", \"Topic3\", \"Topic3\", \"Topic3\", \"Topic3\", \"Topic3\"], \"logprob\": [30.0, 29.0, 28.0, 27.0, 26.0, 25.0, 24.0, 23.0, 22.0, 21.0, 20.0, 19.0, 18.0, 17.0, 16.0, 15.0, 14.0, 13.0, 12.0, 11.0, 10.0, 9.0, 8.0, 7.0, 6.0, 5.0, 4.0, 3.0, 2.0, 1.0, -6.9139, -7.5618, -7.3792, -7.4765, -7.7014, -7.7037, -7.3848, -7.8425, -7.7079, -7.5925, -7.7128, -7.8485, -7.7155, -7.0182, -6.9063, -7.8495, -7.8532, -7.8544, -7.7214, -8.0109, -7.6091, -7.8594, -7.8593, -7.4121, -8.0145, -7.8605, -7.8617, -8.0181, -7.8641, -8.0183, -5.817, -7.6132, -7.2559, -7.2698, -7.4267, -6.5492, -7.2045, -7.0297, -5.7233, -6.7764, -7.0986, -7.2341, -5.7239, -6.3243, -6.8975, -4.6245, -4.8517, -6.2247, -6.4067, -4.4997, -7.0298, -5.9655, -6.927, -4.7832, -6.2459, -5.9726, -6.6708, -5.8634, -5.682, -5.4626, -5.3946, -5.4763, -5.733, -5.2653, -5.2283, -5.0402, -5.4985, -5.5833, -5.2541, -5.0052, -5.473, -5.916, -5.5925, -5.7524, -5.8785, -5.4753, -5.9154, -5.9538, -5.7132, -5.8795, -5.9295, -5.9106, -7.1179, -7.3363, -6.6456, -6.724, -7.6072, -7.2519, -7.4785, -7.7672, -7.7681, -7.7698, -7.7731, -7.776, -6.9268, -7.7792, -7.7798, -7.6256, -7.6257, -7.7831, -7.3789, -7.2833, -7.7907, -7.7905, -7.793, -7.793, -7.7939, -7.6386, -7.9825, -7.983, -7.9857, -7.9884, -7.123, -7.2183, -7.0822, -7.2277, -6.7972, -5.5258, -6.8395, -5.0739, -7.0745, -5.3569, -6.1046, -7.2176, -5.7728, -6.7242, -5.4157, -6.8305, -6.5491, -6.6969, -6.4296, -5.2607, -6.2438, -4.5801, -6.2064, -5.5844, -6.0869, -5.6985, -5.305, -6.0793, -5.5778, -5.0698, -5.7388, -5.5942, -4.9756, -5.0155, -5.3731, -6.0547, -5.8698, -6.1046, -5.5519, -5.4095, -5.6291, -5.8543, -5.9276, -5.5324, -5.6521, -5.3263, -5.457, -5.9094, -5.7744, -5.7795, -5.8883, -5.8233, -3.2927, -3.2889, -7.173, -7.3174, -7.4802, -7.4803, -7.4872, -7.4935, -7.4941, -7.6778, -7.4965, -7.499, -7.6846, -7.5043, -7.5053, -7.5088, -7.2244, -7.6943, -7.6952, -7.6958, -7.3611, -7.517, -7.6998, -7.518, -7.701, -7.7041, -7.7087, -7.7174, -7.7171, -7.9461, -7.7276, -7.0691, -6.3076, -6.8189, -6.3614, -5.5508, -7.1675, -6.7315, -6.657, -6.586, -4.753, -7.1764, -6.1024, -6.6552, -4.9004, -6.9551, -5.7263, -5.3166, -6.5509, -5.9921, -5.3452, -5.7615, -5.2747, -5.2704, -6.6679, -5.2433, -6.0917, -5.9873, -6.0481, -6.0761, -5.9915, -5.74, -6.0313, -5.8597, -6.0453, -5.9834, -5.7606, -6.0876, -5.4978, -5.8723, -5.9542, -6.0184, -6.0078, -6.0337, -6.0084, -6.0495], \"loglift\": [30.0, 29.0, 28.0, 27.0, 26.0, 25.0, 24.0, 23.0, 22.0, 21.0, 20.0, 19.0, 18.0, 17.0, 16.0, 15.0, 14.0, 13.0, 12.0, 11.0, 10.0, 9.0, 8.0, 7.0, 6.0, 5.0, 4.0, 3.0, 2.0, 1.0, 0.7451, 0.7354, 0.717, 0.7165, 0.7155, 0.7141, 0.7136, 0.7092, 0.7092, 0.707, 0.705, 0.704, 0.7025, 0.7021, 0.7014, 0.7013, 0.6987, 0.6977, 0.6962, 0.6961, 0.6954, 0.6939, 0.6935, 0.6934, 0.6919, 0.691, 0.6905, 0.6903, 0.6894, 0.6891, 0.6814, 0.6888, 0.6744, 0.6695, 0.6732, 0.6272, 0.6573, 0.636, 0.5281, 0.6036, 0.626, 0.6272, 0.4335, 0.514, 0.5847, 0.2532, 0.2594, 0.4752, 0.5042, 0.1745, 0.5951, 0.392, 0.5739, 0.1614, 0.4288, 0.3681, 0.5183, 0.3387, 0.2841, 0.2057, 0.1768, 0.1892, 0.2584, 0.1252, 0.1139, 0.055, 0.1843, 0.1917, 0.0701, -0.0686, 0.1118, 0.2804, 0.1127, 0.1896, 0.2514, 0.0243, 0.1961, 0.1897, -0.1525, -0.0437, 0.1248, -0.3414, 0.9974, 0.9805, 0.9736, 0.9629, 0.962, 0.958, 0.9571, 0.9565, 0.9561, 0.954, 0.951, 0.949, 0.9478, 0.9456, 0.9453, 0.9448, 0.9447, 0.9429, 0.9404, 0.9363, 0.9349, 0.9332, 0.9326, 0.9316, 0.931, 0.9296, 0.9253, 0.9253, 0.9223, 0.9201, 0.9169, 0.906, 0.8806, 0.8854, 0.8205, 0.6443, 0.7875, 0.4953, 0.8196, 0.5311, 0.6246, 0.8372, 0.5227, 0.7307, 0.4202, 0.7371, 0.667, 0.6974, 0.6284, 0.3001, 0.5724, 0.0942, 0.5542, 0.3609, 0.4923, 0.3495, 0.1946, 0.4669, 0.2566, 0.0254, 0.3054, 0.2393, -0.039, -0.0709, 0.0174, 0.371, 0.2686, 0.3823, 0.0196, -0.0853, 0.0363, 0.1913, 0.2166, -0.1902, -0.0674, -0.4486, -0.3459, 0.1927, -0.0692, -0.0966, 0.0784, -0.155, 1.5418, 1.5327, 1.4194, 1.4066, 1.3961, 1.3961, 1.388, 1.3804, 1.3798, 1.3781, 1.377, 1.3738, 1.3701, 1.3678, 1.3665, 1.3622, 1.3591, 1.3587, 1.3575, 1.3568, 1.3543, 1.3526, 1.3522, 1.3518, 1.3508, 1.3473, 1.3421, 1.3315, 1.3315, 1.325, 1.3191, 1.2776, 1.1463, 1.1002, 0.9144, 0.6356, 1.1629, 0.9924, 0.9584, 0.9274, 0.1836, 1.1528, 0.6511, 0.9056, -0.0227, 1.0237, 0.2959, 0.0256, 0.7795, 0.4134, -0.021, 0.2053, -0.1636, -0.1751, 0.7854, -0.2986, 0.3217, 0.235, 0.2474, 0.2141, 0.1248, -0.1552, 0.0802, -0.1545, 0.0568, -0.0414, -0.3701, 0.0861, -0.8235, -0.3116, -0.2859, -0.1841, -0.3249, -0.2001, -0.5088, -0.2745]}, \"token.table\": {\"Topic\": [1, 2, 3, 1, 2, 3, 1, 2, 3, 1, 2, 3, 1, 2, 3, 1, 2, 3, 1, 2, 3, 3, 1, 3, 1, 2, 3, 1, 2, 3, 1, 2, 3, 2, 2, 1, 2, 2, 1, 2, 1, 2, 3, 1, 2, 3, 1, 2, 3, 3, 1, 2, 2, 1, 3, 1, 2, 3, 1, 2, 3, 3, 3, 1, 2, 3, 1, 2, 1, 2, 3, 1, 2, 3, 3, 1, 1, 2, 3, 3, 2, 1, 1, 3, 1, 2, 3, 1, 2, 3, 1, 2, 1, 2, 3, 1, 1, 2, 3, 2, 1, 2, 1, 2, 3, 2, 1, 2, 3, 1, 2, 3, 3, 1, 1, 3, 1, 2, 3, 1, 2, 3, 1, 2, 3, 1, 2, 3, 2, 1, 2, 3, 1, 3, 1, 2, 3, 2, 3, 3, 1, 2, 3, 1, 2, 3, 2, 1, 2, 3, 1, 2, 3, 1, 1, 2, 1, 2, 3, 1, 2, 3, 2, 1, 2, 3, 1, 3, 1, 2, 3, 1, 2, 3, 3, 1, 2, 3, 2, 1, 2, 3, 1, 2, 3, 2, 1, 2, 3, 3, 1, 2, 1, 1, 2, 3, 1, 2, 1, 2, 3, 1, 1, 2, 3, 3, 1, 2, 3, 1, 2, 3, 1, 2, 3, 1, 3, 1, 2, 3, 1, 1, 2, 3, 1, 2, 3, 1, 2, 1, 2, 3, 3, 1, 2, 3, 1, 2, 3, 1, 2, 3, 1, 2, 3, 1, 2, 3, 1, 2, 3, 1, 2, 3, 3, 1, 2, 3, 1, 2, 3, 1, 2, 3, 1, 3, 1, 2, 3, 1, 2, 3, 1, 2, 3, 2, 1, 2, 3, 2, 3, 1, 1, 2, 3, 3, 1, 2, 1, 2, 3, 1, 2, 3, 2, 3, 1, 2, 3, 1, 2, 3, 1, 2, 3, 2, 3, 2, 1, 2, 3, 1, 2, 3, 1, 2, 3, 1, 2, 3, 1, 1, 2, 3, 1, 2, 3, 3, 2, 1, 2, 3, 3, 1, 2, 3, 1, 2, 1, 1, 1, 2, 3, 1, 2, 3, 3, 3, 1, 2, 3, 3, 1, 2, 3, 1, 1, 1, 2, 3, 1, 2, 2, 2, 1, 2, 1, 2, 3, 1, 2, 3, 1, 2, 3, 1, 2, 3, 1, 2, 3, 1, 2, 3, 1, 2, 3, 1, 2, 3, 1, 2, 3, 1, 2, 3, 1, 3, 1, 2, 3, 1, 2, 3, 1, 1, 3, 3, 1, 2, 3, 1, 1, 2, 3, 1, 2, 3, 1, 2, 1, 2, 3, 3, 3, 2, 1, 2, 3], \"Freq\": [0.0038085828901565444, 0.007617165780313089, 0.9902315514407016, 0.8064855918858231, 0.0620373532219864, 0.1240747064439728, 0.5726594961745222, 0.21872411312221335, 0.2067937069519108, 0.5047285603636886, 0.3453405939330501, 0.14610563589475198, 0.5435827417144973, 0.28932629800932924, 0.15781434436872502, 0.38103512616534846, 0.4233723624059428, 0.19757376912277327, 0.3858010461742911, 0.4645359535567995, 0.15746981476501679, 0.8161684047051659, 0.9147534821693617, 0.8643222614887204, 0.2091186461567142, 0.1045593230783571, 0.6796356000093211, 0.5420821645054132, 0.35847368943099905, 0.10491912861395095, 0.2026434033321474, 0.6332606354129606, 0.15198255249911055, 0.9311060185160293, 0.9319852393929756, 0.18476211019786068, 0.8006358108573963, 0.9324493627999301, 0.9411594426452736, 0.9324667168611708, 0.6863077160438528, 0.214471161263704, 0.10008654192306186, 0.8848491068817267, 0.0402204139491694, 0.0804408278983388, 0.17674685974677914, 0.17674685974677914, 0.6186140091137271, 0.6435829657433638, 0.10107936849048446, 0.8086349479238757, 0.957011482576574, 0.2509206611870477, 0.6273016529676192, 0.8255134759261757, 0.048559616230951515, 0.14567884869285455, 0.26496606466462236, 0.33856774929368416, 0.39744909699693354, 0.7753965992949196, 0.8673902431731405, 0.5230081519422907, 0.3189074097209089, 0.15732765546231506, 0.9156017323944919, 0.931987758982409, 0.7622878308794405, 0.12036123645464851, 0.160481648606198, 0.4674901930778999, 0.5048894085241319, 0.037399215446231995, 0.7775211121272809, 0.9720567263092653, 0.5418251666685285, 0.25362029078101334, 0.2075075106390109, 0.8673708664347214, 0.9308050450166216, 0.9407326438541632, 0.18460284492913528, 0.7384113797165411, 0.38143082693244434, 0.35091636077784877, 0.2746301953913599, 0.44328252867818935, 0.25858147506227713, 0.29552168578545956, 0.8872533164481281, 0.06825025511139447, 0.0660005469184632, 0.9240076568584847, 0.0660005469184632, 0.9418499676691087, 0.4602886065575699, 0.40914542805117327, 0.12785794626599165, 0.9314929904571766, 0.9627552344001349, 0.06418368229334233, 0.43733856246295466, 0.49697563916244847, 0.05963707669949382, 0.9316777896151995, 0.4349282104107256, 0.44895815268203937, 0.11223953817050984, 0.18433812060778715, 0.24578416081038287, 0.5530143618233615, 0.7727951270707786, 0.9401507354530951, 0.8567996265480629, 0.12239994664972327, 0.581345671208214, 0.23011599485325138, 0.193781890402738, 0.16651798811786755, 0.16651798811786755, 0.6660719524714702, 0.6637473587741184, 0.22707146484377733, 0.10480221454328184, 0.38299770689650253, 0.44510544314998945, 0.17597191938487955, 0.9116797110853879, 0.5082781379799106, 0.046207103452719146, 0.46207103452719145, 0.522501645077743, 0.4702514805699686, 0.8648378008713055, 0.07862161826102777, 0.07862161826102777, 0.16178803892284987, 0.8089401946142494, 0.7713377463972917, 0.23171866943379232, 0.6517087577825409, 0.11585933471689616, 0.12366761000994535, 0.6595605867197085, 0.20611268334990893, 0.8950611654916236, 0.2595078370770692, 0.31140940449248306, 0.4152125393233107, 0.8224660528965116, 0.13707767548275196, 0.06853883774137598, 0.9598131827170822, 0.9414082426751497, 0.9318043223830627, 0.5086722607952503, 0.2616028769804144, 0.23253589064925725, 0.8318410973252812, 0.07922296165002678, 0.07922296165002678, 0.9580715926488564, 0.7539897732087852, 0.1256649622014642, 0.10995684192628118, 0.1276720590132327, 0.7660323540793962, 0.9145694960033666, 0.06097129973355777, 0.06097129973355777, 0.3332634089819377, 0.4870772900505243, 0.17944952791335106, 0.7752984490199053, 0.46215689746698824, 0.249814539171345, 0.28728672004704675, 0.9310095439935656, 0.7133571542895595, 0.22138670305538055, 0.07379556768512685, 0.3702898204338663, 0.459670121917903, 0.16599198847035387, 0.8674286770775356, 0.5321534885535757, 0.3764012480013096, 0.0941003120003274, 0.774955084913833, 0.124225828596697, 0.869580800176879, 0.939508711692258, 0.8963834759882359, 0.09959816399869288, 0.865242993661474, 0.06168621084325011, 0.9252931626487516, 0.5463006477944836, 0.23217777531265552, 0.23217777531265552, 0.9165801446557253, 0.0869737019450893, 0.7827633175058037, 0.0869737019450893, 0.9309295927152695, 0.47856959233611335, 0.31697466505378935, 0.20510125385833428, 0.31762470754419564, 0.5637838558909473, 0.11910926532907337, 0.7671778090699783, 0.16439524480070966, 0.054798414933569885, 0.8525829501255465, 0.8637047836977872, 0.0075192332723658115, 0.011278849908548718, 0.9812599420437385, 0.9587453747916399, 0.41757992236777297, 0.3290023630776393, 0.2530787408289533, 0.49991552241846615, 0.28476200644089844, 0.2151535159775677, 0.894492329685749, 0.09938803663174989, 0.37970986389282146, 0.5484698034007421, 0.08437996975396032, 0.8663478580554884, 0.42504524228151863, 0.5183478564408763, 0.05183478564408764, 0.34949130952463686, 0.5788449814001798, 0.06552962053586942, 0.3585319826501202, 0.48575300875177574, 0.150352121756502, 0.13126017760216963, 0.35002714027245235, 0.5250407104086785, 0.500037332122309, 0.3226047304014897, 0.17743260172081934, 0.8419456581760395, 0.08419456581760394, 0.773064180837442, 0.3930490079948752, 0.43442258778380943, 0.17583771410297047, 0.7760075828332532, 0.6280333494451652, 0.254203974775424, 0.11962539989431717, 0.5358909749381399, 0.2538430933917505, 0.21153591115979206, 0.3266056349318944, 0.408257043664868, 0.2612845079455155, 0.25121173917189293, 0.6280293479297324, 0.10467191288505505, 0.7327033901953853, 0.2093438257701101, 0.1102106899025887, 0.4408427596103548, 0.4959481045616491, 0.4591961230473508, 0.4147577885588975, 0.12590861438395104, 0.8955432512892124, 0.5003693738294284, 0.3184168742550908, 0.1819524995743376, 0.4599205188108468, 0.5365739386126546, 0.940381314189685, 0.2486947346969713, 0.6079204625925965, 0.1381637414983174, 0.86268676353108, 0.1593392161760508, 0.796696080880254, 0.5775676995857785, 0.24107173547928148, 0.1808038016094611, 0.5030159512383479, 0.3224461225886845, 0.16767198374611594, 0.7628592641851263, 0.19071481604628157, 0.3136422271051353, 0.6011476019515093, 0.10454740903504509, 0.5332156504655781, 0.3501714719475438, 0.11937663816393539, 0.3663306626511589, 0.3663306626511589, 0.2599765993008224, 0.8994142083091868, 0.11242677603864835, 0.9306971446285427, 0.08119896663694788, 0.8119896663694788, 0.16239793327389576, 0.18649711423562235, 0.7459884569424894, 0.06216570474520745, 0.23432049649199346, 0.7029614894759804, 0.058580124122998366, 0.2327284557788416, 0.2327284557788416, 0.5236390255023936, 0.9589174062218253, 0.7290678664071885, 0.12151131106786475, 0.15188913883483093, 0.1022179886955676, 0.8177439095645408, 0.1022179886955676, 0.7758831076823588, 0.9328463848459612, 0.5365385543387325, 0.3024126397181947, 0.15608394308035856, 0.8634025109412644, 0.24635275290980702, 0.6334785074823609, 0.10557975124706015, 0.9593525785406796, 0.8957098935315093, 0.9420015080448112, 0.9595748963002981, 0.734551861816041, 0.08475598405569704, 0.16951196811139407, 0.32986964812937186, 0.34819573969211476, 0.311543556566629, 0.7784288637794309, 0.7744817132623371, 0.4696162318776103, 0.3509763417190561, 0.17795983523783127, 0.8651833082442912, 0.09394495303712252, 0.8455045773341028, 0.09394495303712252, 0.9407538347071115, 0.9595996813626085, 0.19704589798118663, 0.6896606429341532, 0.14778442348588997, 0.9153226054621749, 0.9306523393141655, 0.8952547746057552, 0.9581719552411021, 0.1113453690455174, 0.8907629523641392, 0.14774547909771174, 0.5745657520466567, 0.2790747938512333, 0.20546237719255847, 0.20546237719255847, 0.5478996725134893, 0.594727585655868, 0.3122319824693307, 0.0892091378483802, 0.38840836184412103, 0.055486908834874435, 0.5548690883487444, 0.854657548353894, 0.12209393547912771, 0.8617176295234189, 0.6526448885068078, 0.2576229823053189, 0.10304919292212755, 0.0796288980742456, 0.8759178788167016, 0.0796288980742456, 0.6956199659977487, 0.167908267654629, 0.167908267654629, 0.8643771230445185, 0.07857973845859259, 0.07857973845859259, 0.8494989859245172, 0.08494989859245172, 0.08494989859245172, 0.9028804012678543, 0.10032004458531714, 0.36532865878527393, 0.41945142304975896, 0.23002174812406137, 0.5703549717090425, 0.34777742177380644, 0.08346658122571354, 0.9405307944657811, 0.8067607905778619, 0.16135215811557238, 0.8648940186305235, 0.590511460823215, 0.23620458432928604, 0.17715343824696453, 0.8759244994730597, 0.41168335548864005, 0.35679224142348803, 0.23328723477689603, 0.5337991886251837, 0.3113828600313572, 0.15124310344380207, 0.8977608528406887, 0.09975120587118763, 0.21802676656355496, 0.5668695930652429, 0.23982944321991045, 0.8615071345663488, 0.7762015712829347, 0.8372598725899411, 0.8400428422407159, 0.12923736034472552, 0.06461868017236276], \"Term\": [\"abstract\", \"abstract\", \"abstract\", \"adversarial\", \"adversarial\", \"adversarial\", \"algorithm\", \"algorithm\", \"algorithm\", \"algorithms\", \"algorithms\", \"algorithms\", \"also\", \"also\", \"also\", \"analysis\", \"analysis\", \"analysis\", \"approach\", \"approach\", \"approach\", \"arms\", \"augmentation\", \"axiom\", \"bandit\", \"bandit\", \"bandit\", \"based\", \"based\", \"based\", \"bayesian\", \"bayesian\", \"bayesian\", \"bco\", \"bethe\", \"brain\", \"brain\", \"cation\", \"cirl\", \"classi\", \"classification\", \"classification\", \"classification\", \"clustering\", \"clustering\", \"clustering\", \"collaborative\", \"collaborative\", \"collaborative\", \"collapsed\", \"color\", \"color\", \"connectivity\", \"constraint\", \"constraint\", \"constraints\", \"constraints\", \"constraints\", \"convergence\", \"convergence\", \"convergence\", \"copula\", \"curvature\", \"data\", \"data\", \"data\", \"databases\", \"de\", \"decision\", \"decision\", \"decision\", \"deep\", \"deep\", \"deep\", \"deflation\", \"deliberation\", \"demonstrate\", \"demonstrate\", \"demonstrate\", \"dendritic\", \"dha\", \"discriminators\", \"disparity\", \"disparity\", \"distribution\", \"distribution\", \"distribution\", \"distributions\", \"distributions\", \"distributions\", \"domain\", \"domain\", \"dynamical\", \"dynamical\", \"dynamical\", \"easier\", \"efficient\", \"efficient\", \"efficient\", \"eigenfeatures\", \"entries\", \"entries\", \"error\", \"error\", \"error\", \"established\", \"estimation\", \"estimation\", \"estimation\", \"estimators\", \"estimators\", \"estimators\", \"euclidean\", \"evaluations\", \"false\", \"false\", \"features\", \"features\", \"features\", \"feedback\", \"feedback\", \"feedback\", \"first\", \"first\", \"first\", \"function\", \"function\", \"function\", \"g\", \"game\", \"game\", \"game\", \"games\", \"games\", \"gan\", \"gan\", \"gan\", \"geometry\", \"geometry\", \"goss\", \"gradient\", \"gradient\", \"gradient\", \"gradients\", \"gradients\", \"gradients\", \"grfs\", \"guarantees\", \"guarantees\", \"guarantees\", \"hard\", \"hard\", \"hard\", \"hashing\", \"hierarchy\", \"hots\", \"however\", \"however\", \"however\", \"human\", \"human\", \"human\", \"identification\", \"image\", \"image\", \"image\", \"implementations\", \"implementations\", \"independence\", \"independence\", \"independence\", \"inference\", \"inference\", \"inference\", \"influence\", \"information\", \"information\", \"information\", \"jacobian\", \"k\", \"k\", \"k\", \"large\", \"large\", \"large\", \"lbp\", \"learning\", \"learning\", \"learning\", \"lgmd\", \"link\", \"link\", \"lp\", \"lstm\", \"lstm\", \"luce\", \"margin\", \"margin\", \"matrix\", \"matrix\", \"matrix\", \"mccfr\", \"mcmc\", \"mcmc\", \"mcmc\", \"memristive\", \"method\", \"method\", \"method\", \"methods\", \"methods\", \"methods\", \"metrics\", \"metrics\", \"metrics\", \"might\", \"minsky\", \"missing\", \"missing\", \"missing\", \"mmd\", \"model\", \"model\", \"model\", \"models\", \"models\", \"models\", \"motion\", \"motion\", \"n\", \"n\", \"n\", \"net\", \"network\", \"network\", \"network\", \"networks\", \"networks\", \"networks\", \"neural\", \"neural\", \"neural\", \"neurons\", \"neurons\", \"neurons\", \"new\", \"new\", \"new\", \"node\", \"node\", \"nonlinearities\", \"number\", \"number\", \"number\", \"ode\", \"one\", \"one\", \"one\", \"optimal\", \"optimal\", \"optimal\", \"optimization\", \"optimization\", \"optimization\", \"outliers\", \"outliers\", \"output\", \"output\", \"output\", \"p\", \"p\", \"p\", \"paper\", \"paper\", \"paper\", \"patients\", \"performance\", \"performance\", \"performance\", \"plasticity\", \"plasticity\", \"pmd\", \"prediction\", \"prediction\", \"prediction\", \"preferred\", \"principle\", \"principle\", \"problem\", \"problem\", \"problem\", \"problems\", \"problems\", \"problems\", \"programs\", \"programs\", \"properties\", \"properties\", \"properties\", \"propose\", \"propose\", \"propose\", \"proposed\", \"proposed\", \"proposed\", \"protein\", \"protein\", \"q\", \"quantization\", \"quantization\", \"quantization\", \"questions\", \"questions\", \"questions\", \"ranking\", \"ranking\", \"ranking\", \"rates\", \"rates\", \"rates\", \"rational\", \"real\", \"real\", \"real\", \"relational\", \"relational\", \"relational\", \"relies\", \"replica\", \"results\", \"results\", \"results\", \"rf\", \"risk\", \"risk\", \"risk\", \"rl\", \"samplers\", \"selected\", \"sentence\", \"sequence\", \"sequence\", \"sequence\", \"setting\", \"setting\", \"setting\", \"sgns\", \"shifted\", \"show\", \"show\", \"show\", \"side\", \"social\", \"social\", \"social\", \"softmax\", \"sources\", \"spectral\", \"spectral\", \"spectral\", \"spn\", \"spore\", \"stale\", \"states\", \"std\", \"std\", \"stochastic\", \"stochastic\", \"stochastic\", \"strategies\", \"strategies\", \"strategies\", \"structure\", \"structure\", \"structure\", \"submodular\", \"submodular\", \"submodular\", \"successfully\", \"successfully\", \"sussman\", \"tasks\", \"tasks\", \"tasks\", \"tensor\", \"tensor\", \"tensor\", \"test\", \"test\", \"test\", \"testing\", \"testing\", \"testing\", \"tests\", \"tests\", \"tests\", \"text\", \"text\", \"time\", \"time\", \"time\", \"training\", \"training\", \"training\", \"translation\", \"tree\", \"tree\", \"trustvi\", \"two\", \"two\", \"two\", \"unitary\", \"used\", \"used\", \"used\", \"using\", \"using\", \"using\", \"utility\", \"utility\", \"variational\", \"variational\", \"variational\", \"voc\", \"waveforms\", \"workers\", \"x\", \"x\", \"x\"]}, \"R\": 30, \"lambda.step\": 0.01, \"plot.opts\": {\"xlab\": \"PC1\", \"ylab\": \"PC2\"}, \"topic.order\": [3, 1, 2]};\n",
              "\n",
              "function LDAvis_load_lib(url, callback){\n",
              "  var s = document.createElement('script');\n",
              "  s.src = url;\n",
              "  s.async = true;\n",
              "  s.onreadystatechange = s.onload = callback;\n",
              "  s.onerror = function(){console.warn(\"failed to load library \" + url);};\n",
              "  document.getElementsByTagName(\"head\")[0].appendChild(s);\n",
              "}\n",
              "\n",
              "if(typeof(LDAvis) !== \"undefined\"){\n",
              "   // already loaded: just create the visualization\n",
              "   !function(LDAvis){\n",
              "       new LDAvis(\"#\" + \"ldavis_el205139081472960192344760793\", ldavis_el205139081472960192344760793_data);\n",
              "   }(LDAvis);\n",
              "}else if(typeof define === \"function\" && define.amd){\n",
              "   // require.js is available: use it to load d3/LDAvis\n",
              "   require.config({paths: {d3: \"https://d3js.org/d3.v5\"}});\n",
              "   require([\"d3\"], function(d3){\n",
              "      window.d3 = d3;\n",
              "      LDAvis_load_lib(\"https://cdn.jsdelivr.net/gh/bmabey/pyLDAvis@3.4.0/pyLDAvis/js/ldavis.v3.0.0.js\", function(){\n",
              "        new LDAvis(\"#\" + \"ldavis_el205139081472960192344760793\", ldavis_el205139081472960192344760793_data);\n",
              "      });\n",
              "    });\n",
              "}else{\n",
              "    // require.js not available: dynamically load d3 & LDAvis\n",
              "    LDAvis_load_lib(\"https://d3js.org/d3.v5.js\", function(){\n",
              "         LDAvis_load_lib(\"https://cdn.jsdelivr.net/gh/bmabey/pyLDAvis@3.4.0/pyLDAvis/js/ldavis.v3.0.0.js\", function(){\n",
              "                 new LDAvis(\"#\" + \"ldavis_el205139081472960192344760793\", ldavis_el205139081472960192344760793_data);\n",
              "            })\n",
              "         });\n",
              "}\n",
              "</script>"
            ]
          },
          "metadata": {},
          "execution_count": 99
        }
      ]
    },
    {
      "cell_type": "code",
      "source": [],
      "metadata": {
        "id": "R_LdHny4hO_K"
      },
      "execution_count": null,
      "outputs": []
    },
    {
      "cell_type": "code",
      "source": [],
      "metadata": {
        "id": "3Wa8zTi0kV4w"
      },
      "execution_count": null,
      "outputs": []
    },
    {
      "cell_type": "code",
      "source": [],
      "metadata": {
        "id": "bam1ljkvhPGl"
      },
      "execution_count": null,
      "outputs": []
    },
    {
      "cell_type": "markdown",
      "source": [
        "# <span style=\"color:blue;\">**Step 11: Model Evaluation**</span>\n",
        "\n",
        "## <span style=\"color:darkblue;\">**Overview**</span>\n",
        "This step evaluates the performance of the LDA model using perplexity and coherence scores.\n",
        "\n",
        "## <span style=\"color:darkblue;\">**Evaluation Metrics**</span>\n",
        "- **Perplexity**: A measure of how well the model predicts a sample. A lower perplexity indicates a better model.\n",
        "- **Coherence Score**: Evaluates the degree of semantic similarity between high-scoring words in the topic. A higher coherence score indicates more interpretable topics.\n",
        "- Both metrics are printed to assess the effectiveness of the trained LDA model."
      ],
      "metadata": {
        "id": "KxVVujNBixpI"
      }
    },
    {
      "cell_type": "code",
      "source": [
        "# Model Evaluation"
      ],
      "metadata": {
        "id": "6GqQJd1ahPJG"
      },
      "execution_count": 78,
      "outputs": []
    },
    {
      "cell_type": "code",
      "source": [
        "perplexity = lda_model.log_perplexity(corpus)  # Calculate perplexity"
      ],
      "metadata": {
        "id": "pBkCbGoihTTS"
      },
      "execution_count": 79,
      "outputs": []
    },
    {
      "cell_type": "code",
      "source": [
        "print(f'Perplexity: {perplexity}')  # Print perplexity value"
      ],
      "metadata": {
        "colab": {
          "base_uri": "https://localhost:8080/"
        },
        "id": "PGeWLHqFhTY8",
        "outputId": "71317d39-426e-4840-a4e2-8ae538746f63"
      },
      "execution_count": 80,
      "outputs": [
        {
          "output_type": "stream",
          "name": "stdout",
          "text": [
            "Perplexity: -7.70936757329736\n"
          ]
        }
      ]
    },
    {
      "cell_type": "code",
      "source": [],
      "metadata": {
        "id": "WUPw3BkYhTb-"
      },
      "execution_count": null,
      "outputs": []
    },
    {
      "cell_type": "code",
      "source": [],
      "metadata": {
        "id": "wzNxm1LxhTgH"
      },
      "execution_count": null,
      "outputs": []
    },
    {
      "cell_type": "code",
      "source": [
        "from gensim.models import CoherenceModel  # Import CoherenceModel for evaluation"
      ],
      "metadata": {
        "id": "lU8T__X_hTlT"
      },
      "execution_count": 81,
      "outputs": []
    },
    {
      "cell_type": "code",
      "source": [
        "coherence_model_lda = CoherenceModel(model=lda_model, texts=papers_df['processed_abstract'], dictionary=dictionary, coherence='c_v')  # Create coherence model\n"
      ],
      "metadata": {
        "id": "KD7YjRTghZjE"
      },
      "execution_count": 82,
      "outputs": []
    },
    {
      "cell_type": "code",
      "source": [
        "coherence_lda = coherence_model_lda.get_coherence()  # Get coherence score"
      ],
      "metadata": {
        "id": "et3HfZCjhZwq"
      },
      "execution_count": 83,
      "outputs": []
    },
    {
      "cell_type": "code",
      "source": [
        "print(f'Coherence Score: {coherence_lda}')  # Print coherence score"
      ],
      "metadata": {
        "colab": {
          "base_uri": "https://localhost:8080/"
        },
        "id": "2CvpKGgbhZzV",
        "outputId": "2f6df4f3-76bb-4b69-dc9e-43e851ab68ea"
      },
      "execution_count": 84,
      "outputs": [
        {
          "output_type": "stream",
          "name": "stdout",
          "text": [
            "Coherence Score: 0.5047528461835386\n"
          ]
        }
      ]
    },
    {
      "cell_type": "code",
      "source": [],
      "metadata": {
        "id": "rv2u5VPZhZ35"
      },
      "execution_count": null,
      "outputs": []
    },
    {
      "cell_type": "code",
      "source": [],
      "metadata": {
        "id": "9-eyoXmRhZ-c"
      },
      "execution_count": null,
      "outputs": []
    },
    {
      "cell_type": "code",
      "source": [],
      "metadata": {
        "id": "9YD_t1s6i0H3"
      },
      "execution_count": null,
      "outputs": []
    },
    {
      "cell_type": "markdown",
      "source": [
        "# <span style=\"color:blue;\">**Step 12: Save the Model**</span>\n",
        "\n",
        "## <span style=\"color:darkblue;\">**Overview**</span>\n",
        "In this step, we save the trained LDA model and dictionary to disk for future use.\n",
        "\n",
        "## <span style=\"color:darkblue;\">**Model Persistence**</span>\n",
        "- The LDA model is saved using the `save()` method, allowing us to load it later without retraining.\n",
        "- The dictionary is also saved to enable consistent processing of new text data in the future."
      ],
      "metadata": {
        "id": "KNOGZnZBi0UX"
      }
    },
    {
      "cell_type": "code",
      "source": [
        "# Save the Model"
      ],
      "metadata": {
        "id": "7dMhwwPehaCg"
      },
      "execution_count": 85,
      "outputs": []
    },
    {
      "cell_type": "code",
      "source": [
        "lda_model.save('lda_model.gensim')  # Save the LDA model"
      ],
      "metadata": {
        "id": "f8Nfx_0khaHV"
      },
      "execution_count": 86,
      "outputs": []
    },
    {
      "cell_type": "code",
      "source": [
        "dictionary.save('lda_dictionary.gensim')  # Save the dictionary"
      ],
      "metadata": {
        "id": "XkopVD9bhmTi"
      },
      "execution_count": 87,
      "outputs": []
    },
    {
      "cell_type": "code",
      "source": [],
      "metadata": {
        "id": "DUUa2VnRhmWp"
      },
      "execution_count": null,
      "outputs": []
    },
    {
      "cell_type": "code",
      "source": [],
      "metadata": {
        "id": "anLAg-xChmZP"
      },
      "execution_count": null,
      "outputs": []
    },
    {
      "cell_type": "code",
      "source": [
        "# Load and Use the Model"
      ],
      "metadata": {
        "id": "PiMUgVS_hmcC"
      },
      "execution_count": 88,
      "outputs": []
    },
    {
      "cell_type": "code",
      "source": [
        "lda_model = LdaModel.load('lda_model.gensim')  # Load the LDA model"
      ],
      "metadata": {
        "id": "cVr6Wvnihmgs"
      },
      "execution_count": 89,
      "outputs": []
    },
    {
      "cell_type": "code",
      "source": [
        "dictionary = corpora.Dictionary.load('lda_dictionary.gensim')  # Load the dictionary"
      ],
      "metadata": {
        "id": "lDVsCJYehToO"
      },
      "execution_count": 90,
      "outputs": []
    },
    {
      "cell_type": "code",
      "source": [],
      "metadata": {
        "id": "MquEkmduhPL1"
      },
      "execution_count": null,
      "outputs": []
    },
    {
      "cell_type": "code",
      "source": [
        "def infer_topics(new_text):  # Define a function to infer topics from new text\n",
        "    new_text_processed = preprocess_text(new_text)  # Preprocess the new text\n",
        "    new_corpus = dictionary.doc2bow(new_text_processed)  # Create a bag-of-words representation\n",
        "    topics = lda_model.get_document_topics(new_corpus)  # Get the topics for the new document\n",
        "    return topics  # Return the inferred topics"
      ],
      "metadata": {
        "id": "HXdPssnqhwgz"
      },
      "execution_count": 91,
      "outputs": []
    },
    {
      "cell_type": "code",
      "source": [],
      "metadata": {
        "id": "8OZ2i7oHhwj9"
      },
      "execution_count": null,
      "outputs": []
    },
    {
      "cell_type": "code",
      "source": [
        "new_abstract = \"This study investigates the effects of X on Y.\"  # Example new abstract"
      ],
      "metadata": {
        "id": "AU6aKR0Nhwoy"
      },
      "execution_count": 92,
      "outputs": []
    },
    {
      "cell_type": "code",
      "source": [
        "predicted_topics = infer_topics(new_abstract)  # Infer topics from the new abstract"
      ],
      "metadata": {
        "id": "oHEhrwE8hwuF"
      },
      "execution_count": 93,
      "outputs": []
    },
    {
      "cell_type": "code",
      "source": [
        "print(predicted_topics)  # Print the predicted topics"
      ],
      "metadata": {
        "colab": {
          "base_uri": "https://localhost:8080/"
        },
        "id": "4BzOQUqIhwxd",
        "outputId": "96c6e1f6-76fc-4588-e842-ee92d4e2f415"
      },
      "execution_count": 94,
      "outputs": [
        {
          "output_type": "stream",
          "name": "stdout",
          "text": [
            "[(0, 0.39351973), (1, 0.068457015), (2, 0.5380233)]\n"
          ]
        }
      ]
    },
    {
      "cell_type": "code",
      "source": [],
      "metadata": {
        "id": "GvgBYJ9gh4nj"
      },
      "execution_count": null,
      "outputs": []
    },
    {
      "cell_type": "code",
      "source": [],
      "metadata": {
        "id": "SNvmf106h4pz"
      },
      "execution_count": null,
      "outputs": []
    },
    {
      "cell_type": "code",
      "source": [],
      "metadata": {
        "id": "n4QxwFpoh4sR"
      },
      "execution_count": null,
      "outputs": []
    },
    {
      "cell_type": "markdown",
      "source": [
        "# <span style=\"color:blue;\">**Step 13: Create Flask Application**</span>\n",
        "\n",
        "## <span style=\"color:darkblue;\">**Overview**</span>\n",
        "In this final step, we create a Flask web application that allows users to interact with the LDA model.\n",
        "\n",
        "## <span style=\"color:darkblue;\">**Application Structure**</span>\n",
        "- The application includes routes for rendering the input form and displaying the inferred topics based on user input.\n",
        "- The model is loaded when the application starts, allowing users to submit abstracts for topic inference in real time.\n",
        "- The application is designed to provide a user-friendly interface for interacting with the LDA model, enabling broader access to the insights generated by our analysis."
      ],
      "metadata": {
        "id": "2CTX1iP1i7NN"
      }
    },
    {
      "cell_type": "code",
      "source": [
        "# Create a Flask App"
      ],
      "metadata": {
        "id": "7v32a4R2h4ue"
      },
      "execution_count": 95,
      "outputs": []
    },
    {
      "cell_type": "code",
      "source": [
        "app = Flask(__name__)  # Initialize the Flask application"
      ],
      "metadata": {
        "id": "n7av21kRh4xh"
      },
      "execution_count": 96,
      "outputs": []
    },
    {
      "cell_type": "code",
      "source": [],
      "metadata": {
        "id": "nvVNZ8bah9F6"
      },
      "execution_count": null,
      "outputs": []
    },
    {
      "cell_type": "code",
      "source": [
        "@app.route('/infer', methods=['POST'])  # Define the inference route\n",
        "def infer():  # Define the inference function\n",
        "    data = request.json  # Get the JSON data from the request\n",
        "    abstract = data.get('abstract', '')  # Extract the abstract from the JSON data\n",
        "    topics = infer_topics(abstract)  # Infer topics using the LDA model\n",
        "    return jsonify(topics)  # Return the inferred topics as JSON response"
      ],
      "metadata": {
        "id": "tODMhOM1h9I-"
      },
      "execution_count": 97,
      "outputs": []
    },
    {
      "cell_type": "code",
      "source": [],
      "metadata": {
        "id": "HZzfhK76h9Lx"
      },
      "execution_count": null,
      "outputs": []
    },
    {
      "cell_type": "code",
      "source": [
        "if __name__ == '__main__':  # Check if the script is run directly\n",
        "    app.run(port=5000)  # Run the Flask app on port 5000"
      ],
      "metadata": {
        "colab": {
          "base_uri": "https://localhost:8080/"
        },
        "id": "ZNx71feMh9Q-",
        "outputId": "30164016-e2a5-4df1-a6d7-c78245fba2e5"
      },
      "execution_count": 98,
      "outputs": [
        {
          "output_type": "stream",
          "name": "stdout",
          "text": [
            " * Serving Flask app '__main__'\n",
            " * Debug mode: off\n"
          ]
        },
        {
          "output_type": "stream",
          "name": "stderr",
          "text": [
            "INFO:werkzeug:\u001b[31m\u001b[1mWARNING: This is a development server. Do not use it in a production deployment. Use a production WSGI server instead.\u001b[0m\n",
            " * Running on http://127.0.0.1:5000\n",
            "INFO:werkzeug:\u001b[33mPress CTRL+C to quit\u001b[0m\n"
          ]
        }
      ]
    },
    {
      "cell_type": "code",
      "source": [],
      "metadata": {
        "id": "u8068jRfh9Tc"
      },
      "execution_count": null,
      "outputs": []
    },
    {
      "cell_type": "code",
      "source": [],
      "metadata": {
        "id": "6zGsg9Bwh9cN"
      },
      "execution_count": null,
      "outputs": []
    },
    {
      "cell_type": "code",
      "source": [],
      "metadata": {
        "id": "Q3eToLsThw0P"
      },
      "execution_count": null,
      "outputs": []
    },
    {
      "cell_type": "markdown",
      "source": [
        "# <span style=\"color:blue;\">**Conclusion**</span>\n",
        "\n",
        "## <span style=\"color:darkblue;\">**Summary**</span>\n",
        "In this project, we successfully implemented a topic modeling pipeline using Latent Dirichlet Allocation (LDA) on a dataset of research papers. The key steps included data loading, preprocessing, model training, and evaluation.\n",
        "\n",
        "## <span style=\"color:darkblue;\">**Key Achievements**</span>\n",
        "- **Data Preprocessing**: Effectively cleaned and prepared text data for analysis, ensuring the quality of input for the LDA model.\n",
        "- **Model Training**: Trained the LDA model to identify distinct topics present in the abstracts, enabling insights into the main themes of the research papers.\n",
        "- **Visualization**: Employed `pyLDAvis` for an interactive visualization of the topics, enhancing interpretability and understanding of the model outputs.\n",
        "- **Web Application**: Developed a Flask application to facilitate user interaction with the model, allowing for real-time topic inference based on new abstracts.\n",
        "\n",
        "## <span style=\"color:darkblue;\">**Future Work**</span>\n",
        "- Further refinement of the model can be achieved by exploring advanced NLP techniques, such as using pre-trained embeddings or fine-tuning transformer models.\n",
        "- Expanding the dataset to include more diverse research topics could improve the model's robustness and applicability.\n",
        "- Implementing additional evaluation metrics and user feedback mechanisms in the Flask application could enhance user experience and model accuracy.\n",
        "\n",
        "## <span style=\"color:darkblue;\">**Final Thoughts**</span>\n",
        "This project highlights the power of topic modeling in extracting meaningful insights from large text corpora, demonstrating the value of combining data science techniques with web technologies to make research accessible and interactive."
      ],
      "metadata": {
        "id": "y_YITzOji8nm"
      }
    },
    {
      "cell_type": "code",
      "source": [],
      "metadata": {
        "id": "SEBXOqKei_12"
      },
      "execution_count": null,
      "outputs": []
    }
  ]
}