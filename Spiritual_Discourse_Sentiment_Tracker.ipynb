{
  "nbformat": 4,
  "nbformat_minor": 0,
  "metadata": {
    "colab": {
      "provenance": [],
      "gpuType": "T4"
    },
    "kernelspec": {
      "name": "python3",
      "display_name": "Python 3"
    },
    "language_info": {
      "name": "python"
    },
    "accelerator": "GPU"
  },
  "cells": [
    {
      "cell_type": "code",
      "source": [
        "# Install dependencies"
      ],
      "metadata": {
        "id": "hkY8kfW4avLB"
      },
      "execution_count": 26,
      "outputs": []
    },
    {
      "cell_type": "code",
      "source": [
        "import warnings"
      ],
      "metadata": {
        "id": "5VPD-wywbNmo"
      },
      "execution_count": 27,
      "outputs": []
    },
    {
      "cell_type": "code",
      "source": [
        "warnings.filterwarnings('ignore')"
      ],
      "metadata": {
        "id": "edGStY-2bP7q"
      },
      "execution_count": 28,
      "outputs": []
    },
    {
      "cell_type": "code",
      "source": [],
      "metadata": {
        "id": "B8c46l_2bNrc"
      },
      "execution_count": 28,
      "outputs": []
    },
    {
      "cell_type": "code",
      "source": [
        "!pip install youtube-transcript-api pandas nltk matplotlib seaborn"
      ],
      "metadata": {
        "colab": {
          "base_uri": "https://localhost:8080/"
        },
        "id": "B-YjPL9SavNz",
        "outputId": "aaef6b88-5f33-490a-b352-adb388546a2d"
      },
      "execution_count": 29,
      "outputs": [
        {
          "output_type": "stream",
          "name": "stdout",
          "text": [
            "Requirement already satisfied: youtube-transcript-api in /usr/local/lib/python3.11/dist-packages (1.0.3)\n",
            "Requirement already satisfied: pandas in /usr/local/lib/python3.11/dist-packages (2.2.2)\n",
            "Requirement already satisfied: nltk in /usr/local/lib/python3.11/dist-packages (3.9.1)\n",
            "Requirement already satisfied: matplotlib in /usr/local/lib/python3.11/dist-packages (3.10.0)\n",
            "Requirement already satisfied: seaborn in /usr/local/lib/python3.11/dist-packages (0.13.2)\n",
            "Requirement already satisfied: defusedxml<0.8.0,>=0.7.1 in /usr/local/lib/python3.11/dist-packages (from youtube-transcript-api) (0.7.1)\n",
            "Requirement already satisfied: requests in /usr/local/lib/python3.11/dist-packages (from youtube-transcript-api) (2.32.3)\n",
            "Requirement already satisfied: numpy>=1.23.2 in /usr/local/lib/python3.11/dist-packages (from pandas) (1.26.4)\n",
            "Requirement already satisfied: python-dateutil>=2.8.2 in /usr/local/lib/python3.11/dist-packages (from pandas) (2.8.2)\n",
            "Requirement already satisfied: pytz>=2020.1 in /usr/local/lib/python3.11/dist-packages (from pandas) (2025.1)\n",
            "Requirement already satisfied: tzdata>=2022.7 in /usr/local/lib/python3.11/dist-packages (from pandas) (2025.1)\n",
            "Requirement already satisfied: click in /usr/local/lib/python3.11/dist-packages (from nltk) (8.1.8)\n",
            "Requirement already satisfied: joblib in /usr/local/lib/python3.11/dist-packages (from nltk) (1.4.2)\n",
            "Requirement already satisfied: regex>=2021.8.3 in /usr/local/lib/python3.11/dist-packages (from nltk) (2024.11.6)\n",
            "Requirement already satisfied: tqdm in /usr/local/lib/python3.11/dist-packages (from nltk) (4.67.1)\n",
            "Requirement already satisfied: contourpy>=1.0.1 in /usr/local/lib/python3.11/dist-packages (from matplotlib) (1.3.1)\n",
            "Requirement already satisfied: cycler>=0.10 in /usr/local/lib/python3.11/dist-packages (from matplotlib) (0.12.1)\n",
            "Requirement already satisfied: fonttools>=4.22.0 in /usr/local/lib/python3.11/dist-packages (from matplotlib) (4.56.0)\n",
            "Requirement already satisfied: kiwisolver>=1.3.1 in /usr/local/lib/python3.11/dist-packages (from matplotlib) (1.4.8)\n",
            "Requirement already satisfied: packaging>=20.0 in /usr/local/lib/python3.11/dist-packages (from matplotlib) (24.2)\n",
            "Requirement already satisfied: pillow>=8 in /usr/local/lib/python3.11/dist-packages (from matplotlib) (11.1.0)\n",
            "Requirement already satisfied: pyparsing>=2.3.1 in /usr/local/lib/python3.11/dist-packages (from matplotlib) (3.2.1)\n",
            "Requirement already satisfied: six>=1.5 in /usr/local/lib/python3.11/dist-packages (from python-dateutil>=2.8.2->pandas) (1.17.0)\n",
            "Requirement already satisfied: charset-normalizer<4,>=2 in /usr/local/lib/python3.11/dist-packages (from requests->youtube-transcript-api) (3.4.1)\n",
            "Requirement already satisfied: idna<4,>=2.5 in /usr/local/lib/python3.11/dist-packages (from requests->youtube-transcript-api) (3.10)\n",
            "Requirement already satisfied: urllib3<3,>=1.21.1 in /usr/local/lib/python3.11/dist-packages (from requests->youtube-transcript-api) (2.3.0)\n",
            "Requirement already satisfied: certifi>=2017.4.17 in /usr/local/lib/python3.11/dist-packages (from requests->youtube-transcript-api) (2025.1.31)\n"
          ]
        }
      ]
    },
    {
      "cell_type": "code",
      "source": [
        "import nltk; nltk.download('vader_lexicon')"
      ],
      "metadata": {
        "colab": {
          "base_uri": "https://localhost:8080/"
        },
        "id": "uWLDalAJavQg",
        "outputId": "12da3851-0fa3-4094-810f-6681761e3930"
      },
      "execution_count": 30,
      "outputs": [
        {
          "output_type": "stream",
          "name": "stderr",
          "text": [
            "[nltk_data] Downloading package vader_lexicon to /root/nltk_data...\n",
            "[nltk_data]   Package vader_lexicon is already up-to-date!\n"
          ]
        },
        {
          "output_type": "execute_result",
          "data": {
            "text/plain": [
              "True"
            ]
          },
          "metadata": {},
          "execution_count": 30
        }
      ]
    },
    {
      "cell_type": "code",
      "source": [],
      "metadata": {
        "id": "yBUpT4ZiavTu"
      },
      "execution_count": 30,
      "outputs": []
    },
    {
      "cell_type": "code",
      "source": [
        "import json"
      ],
      "metadata": {
        "id": "y4dJNJDsavWf"
      },
      "execution_count": 31,
      "outputs": []
    },
    {
      "cell_type": "code",
      "source": [
        "import re"
      ],
      "metadata": {
        "id": "xtP0NpsDavZi"
      },
      "execution_count": 32,
      "outputs": []
    },
    {
      "cell_type": "code",
      "source": [
        "import pandas as pd"
      ],
      "metadata": {
        "id": "gKpT9RcEavcl"
      },
      "execution_count": 33,
      "outputs": []
    },
    {
      "cell_type": "code",
      "source": [
        "from youtube_transcript_api import YouTubeTranscriptApi"
      ],
      "metadata": {
        "id": "JJBnqJ8Oaveu"
      },
      "execution_count": 34,
      "outputs": []
    },
    {
      "cell_type": "code",
      "source": [
        "from nltk.sentiment import SentimentIntensityAnalyzer"
      ],
      "metadata": {
        "id": "zjOy1H1iavhS"
      },
      "execution_count": 35,
      "outputs": []
    },
    {
      "cell_type": "code",
      "source": [
        "import matplotlib.pyplot as plt"
      ],
      "metadata": {
        "id": "dqfrJyy9avkO"
      },
      "execution_count": 36,
      "outputs": []
    },
    {
      "cell_type": "code",
      "source": [
        "import seaborn as sns"
      ],
      "metadata": {
        "id": "kJ5JPZ_QWzXS"
      },
      "execution_count": 37,
      "outputs": []
    },
    {
      "cell_type": "markdown",
      "source": [
        "---\n",
        "---"
      ],
      "metadata": {
        "id": "h0DgaarGcpeO"
      }
    },
    {
      "cell_type": "code",
      "source": [],
      "metadata": {
        "id": "pXY90L5UcqeP"
      },
      "execution_count": 37,
      "outputs": []
    },
    {
      "cell_type": "code",
      "source": [],
      "metadata": {
        "id": "_krxM8Xtcqhx"
      },
      "execution_count": 37,
      "outputs": []
    },
    {
      "cell_type": "markdown",
      "source": [
        "---\n",
        "---"
      ],
      "metadata": {
        "id": "9JicWvt3cqtY"
      }
    },
    {
      "cell_type": "code",
      "source": [
        "# --- CONFIGURATION ---"
      ],
      "metadata": {
        "id": "cWrhUw6ocrbn"
      },
      "execution_count": 38,
      "outputs": []
    },
    {
      "cell_type": "code",
      "source": [
        "VIDEO_URL = \"https://www.youtube.com/watch?v=c_iag_vvbdM\""
      ],
      "metadata": {
        "id": "DeN-dgcMcl1n"
      },
      "execution_count": 39,
      "outputs": []
    },
    {
      "cell_type": "code",
      "source": [
        "SPIRITUAL_LEXICON = {\n",
        "    'grace': 0.9, 'soul': 0.8, 'compassion': 0.85, 'divine': 0.7,\n",
        "    'sin': -0.7, 'ego': -0.6, 'suffering': -0.75, 'evil': -0.8\n",
        "}"
      ],
      "metadata": {
        "id": "xuAsBK2bcl4x"
      },
      "execution_count": 40,
      "outputs": []
    },
    {
      "cell_type": "code",
      "source": [
        "TOPICS = {\n",
        "    'meditation': ['meditate', 'silence', 'mindfulness', 'awareness'],\n",
        "    'ethics': ['wrong', 'right', 'moral', 'justice'],\n",
        "    'divine': ['god', 'spirit', 'prayer', 'bless']\n",
        "}"
      ],
      "metadata": {
        "id": "a_laqHv4cydP"
      },
      "execution_count": 41,
      "outputs": []
    },
    {
      "cell_type": "markdown",
      "source": [
        "---\n",
        "---"
      ],
      "metadata": {
        "id": "3UgAMUg5c2LH"
      }
    },
    {
      "cell_type": "code",
      "source": [],
      "metadata": {
        "id": "iruRTtRxc3-Y"
      },
      "execution_count": 41,
      "outputs": []
    },
    {
      "cell_type": "code",
      "source": [],
      "metadata": {
        "id": "VLXpL2xGc4Ww"
      },
      "execution_count": 41,
      "outputs": []
    },
    {
      "cell_type": "markdown",
      "source": [
        "---\n",
        "---"
      ],
      "metadata": {
        "id": "DBCjXJ1kc4n3"
      }
    },
    {
      "cell_type": "code",
      "source": [
        "# --- FETCH TRANSCRIPT ---"
      ],
      "metadata": {
        "id": "5oDB0uTtc5nX"
      },
      "execution_count": 42,
      "outputs": []
    },
    {
      "cell_type": "code",
      "source": [
        "print(\"Fetching YouTube transcript...\")\n",
        "video_id = VIDEO_URL.split(\"v=\")[1].split(\"&\")[0]\n",
        "\n",
        "try:\n",
        "    transcript = YouTubeTranscriptApi.get_transcript(video_id, languages=['en'])\n",
        "    with open(f\"transcript_{video_id}.json\", \"w\") as f:\n",
        "        json.dump(transcript, f, indent=2)\n",
        "    print(\"Transcript saved to transcript_{}.json\".format(video_id))\n",
        "except Exception as e:\n",
        "    print(\"Transcript error:\", e)\n",
        "    transcript = []\n",
        "\n",
        "if not transcript:\n",
        "    raise ValueError(\"Transcript not available or couldn't be fetched. Exiting.\")"
      ],
      "metadata": {
        "colab": {
          "base_uri": "https://localhost:8080/"
        },
        "id": "bvK5pcPpcl7l",
        "outputId": "38b90b25-9798-4fdb-c03f-bf6fd399d06f"
      },
      "execution_count": 43,
      "outputs": [
        {
          "output_type": "stream",
          "name": "stdout",
          "text": [
            "Fetching YouTube transcript...\n",
            "Transcript saved to transcript_c_iag_vvbdM.json\n"
          ]
        }
      ]
    },
    {
      "cell_type": "markdown",
      "source": [
        "---\n",
        "---"
      ],
      "metadata": {
        "id": "Hu9FeL_ZdVTY"
      }
    },
    {
      "cell_type": "code",
      "source": [],
      "metadata": {
        "id": "jOGHtKfGdWfn"
      },
      "execution_count": 43,
      "outputs": []
    },
    {
      "cell_type": "code",
      "source": [],
      "metadata": {
        "id": "hLTvyb47dWi5"
      },
      "execution_count": 43,
      "outputs": []
    },
    {
      "cell_type": "markdown",
      "source": [
        "---\n",
        "---"
      ],
      "metadata": {
        "id": "qrW1i7VQdWuw"
      }
    },
    {
      "cell_type": "code",
      "source": [
        "# --- PREPROCESS DATA ---"
      ],
      "metadata": {
        "id": "y2B5UJjkcl_K"
      },
      "execution_count": 44,
      "outputs": []
    },
    {
      "cell_type": "code",
      "source": [
        "df = pd.DataFrame(transcript)"
      ],
      "metadata": {
        "id": "q8mWyZfpcmEu"
      },
      "execution_count": 45,
      "outputs": []
    },
    {
      "cell_type": "code",
      "source": [
        "df[\"end\"] = df[\"start\"] + df[\"duration\"]"
      ],
      "metadata": {
        "id": "K5Q4wWSZcmHm"
      },
      "execution_count": 46,
      "outputs": []
    },
    {
      "cell_type": "code",
      "source": [],
      "metadata": {
        "id": "mg5ebAapcmKe"
      },
      "execution_count": 46,
      "outputs": []
    },
    {
      "cell_type": "code",
      "source": [
        "def clean_text(text):\n",
        "    text = re.sub(r'\\b(uh|um|yeah|you know|like)\\b', '', text, flags=re.IGNORECASE)\n",
        "    return re.sub(r'\\s+', ' ', text).strip()"
      ],
      "metadata": {
        "id": "U2822BSHUr98"
      },
      "execution_count": 47,
      "outputs": []
    },
    {
      "cell_type": "code",
      "source": [],
      "metadata": {
        "id": "rS2DE-JedgCv"
      },
      "execution_count": 47,
      "outputs": []
    },
    {
      "cell_type": "code",
      "source": [
        "df['cleaned_text'] = df['text'].apply(clean_text)"
      ],
      "metadata": {
        "id": "fpDHeONkdgF_"
      },
      "execution_count": 48,
      "outputs": []
    },
    {
      "cell_type": "markdown",
      "source": [
        "---\n",
        "---"
      ],
      "metadata": {
        "id": "0PUQlS2fdkXf"
      }
    },
    {
      "cell_type": "code",
      "source": [],
      "metadata": {
        "id": "XMPGztf5dlX3"
      },
      "execution_count": 48,
      "outputs": []
    },
    {
      "cell_type": "code",
      "source": [],
      "metadata": {
        "id": "gnueDhbhdlbB"
      },
      "execution_count": 48,
      "outputs": []
    },
    {
      "cell_type": "markdown",
      "source": [
        "---\n",
        "---"
      ],
      "metadata": {
        "id": "trx1Dox4dlk0"
      }
    },
    {
      "cell_type": "code",
      "source": [
        "# --- SENTIMENT ANALYSIS ---"
      ],
      "metadata": {
        "id": "DuVCTKQXdgI1"
      },
      "execution_count": 49,
      "outputs": []
    },
    {
      "cell_type": "code",
      "source": [
        "sia = SentimentIntensityAnalyzer()"
      ],
      "metadata": {
        "id": "WFnQDTtedn8H"
      },
      "execution_count": 50,
      "outputs": []
    },
    {
      "cell_type": "code",
      "source": [
        "sia.lexicon.update(SPIRITUAL_LEXICON)"
      ],
      "metadata": {
        "id": "q2L-XZeZdgLO"
      },
      "execution_count": 51,
      "outputs": []
    },
    {
      "cell_type": "code",
      "source": [],
      "metadata": {
        "id": "QqOC1fImdgOQ"
      },
      "execution_count": 51,
      "outputs": []
    },
    {
      "cell_type": "code",
      "source": [
        "df['sentiment'] = df['cleaned_text'].apply(lambda x: sia.polarity_scores(x)['compound'])"
      ],
      "metadata": {
        "id": "pH4mWloFdgRg"
      },
      "execution_count": 52,
      "outputs": []
    },
    {
      "cell_type": "markdown",
      "source": [
        "---\n",
        "---"
      ],
      "metadata": {
        "id": "OwDw3bQ8dvGX"
      }
    },
    {
      "cell_type": "code",
      "source": [],
      "metadata": {
        "id": "FFPpcamPdv7g"
      },
      "execution_count": 52,
      "outputs": []
    },
    {
      "cell_type": "code",
      "source": [],
      "metadata": {
        "id": "PR8ACd1jdv-v"
      },
      "execution_count": 52,
      "outputs": []
    },
    {
      "cell_type": "markdown",
      "source": [
        "---\n",
        "---"
      ],
      "metadata": {
        "id": "f67l7oDFdwKn"
      }
    },
    {
      "cell_type": "code",
      "source": [
        "# --- TOPIC TAGGING ---"
      ],
      "metadata": {
        "id": "GkR-qvdIdxAH"
      },
      "execution_count": 53,
      "outputs": []
    },
    {
      "cell_type": "code",
      "source": [
        "for topic, keywords in TOPICS.items():\n",
        "    df[topic] = df['cleaned_text'].str.contains('|'.join(keywords), case=False, na=False)"
      ],
      "metadata": {
        "id": "qC5UOsvWdxDR"
      },
      "execution_count": 54,
      "outputs": []
    },
    {
      "cell_type": "markdown",
      "source": [
        "---\n",
        "---"
      ],
      "metadata": {
        "id": "2ezzfIPNd2zi"
      }
    },
    {
      "cell_type": "code",
      "source": [],
      "metadata": {
        "id": "wEfFZhKAd3mX"
      },
      "execution_count": 54,
      "outputs": []
    },
    {
      "cell_type": "code",
      "source": [],
      "metadata": {
        "id": "8_dfGiO8d3p3"
      },
      "execution_count": 54,
      "outputs": []
    },
    {
      "cell_type": "markdown",
      "source": [
        "---\n",
        "---"
      ],
      "metadata": {
        "id": "MDzKf4Zvd3yP"
      }
    },
    {
      "cell_type": "code",
      "source": [
        "# --- VISUALIZATION ---"
      ],
      "metadata": {
        "id": "MfzT8OJ-d4tv"
      },
      "execution_count": 55,
      "outputs": []
    },
    {
      "cell_type": "code",
      "source": [
        "plt.figure(figsize=(15, 6))\n",
        "\n",
        "plt.subplot(2, 1, 1)\n",
        "sns.lineplot(data=df, x='start', y='sentiment', color='teal')\n",
        "plt.axhline(0, color='red', linestyle='--', label='Neutral')\n",
        "plt.title('Sentiment Over Time')\n",
        "plt.xlabel('Time (s)')\n",
        "plt.ylabel('Sentiment Score')\n",
        "\n",
        "plt.subplot(2, 1, 2)\n",
        "for topic in TOPICS.keys():\n",
        "    sns.scatterplot(data=df[df[topic]], x='start', y='sentiment', label=topic, s=100)\n",
        "plt.title('Topic Highlights')\n",
        "plt.xlabel('Time (s)')\n",
        "plt.ylabel('Sentiment Score')\n",
        "plt.legend()\n",
        "\n",
        "plt.tight_layout()\n",
        "\n",
        "# Save the figure as a PDF\n",
        "plt.savefig(\"sentiment_topic_analysis.pdf\")\n",
        "\n",
        "# Display the plot\n",
        "plt.show()\n"
      ],
      "metadata": {
        "colab": {
          "base_uri": "https://localhost:8080/",
          "height": 390
        },
        "id": "BgaQa6oEgRoI",
        "outputId": "39358f78-4fc4-4032-a529-7dad6a065aba"
      },
      "execution_count": 56,
      "outputs": [
        {
          "output_type": "display_data",
          "data": {
            "text/plain": [
              "<Figure size 1500x600 with 2 Axes>"
            ],
            "image/png": "[encoded data removed]"
          },
          "metadata": {}
        }
      ]
    },
    {
      "cell_type": "markdown",
      "source": [
        "---\n",
        "---"
      ],
      "metadata": {
        "id": "9J3yTbL1d_Qn"
      }
    },
    {
      "cell_type": "code",
      "source": [],
      "metadata": {
        "id": "b-L7uSbpeAGX"
      },
      "execution_count": 56,
      "outputs": []
    },
    {
      "cell_type": "code",
      "source": [],
      "metadata": {
        "id": "yxlEPcWTeASI"
      },
      "execution_count": 56,
      "outputs": []
    },
    {
      "cell_type": "markdown",
      "source": [
        "---\n",
        "---"
      ],
      "metadata": {
        "id": "MBNalHjceAdf"
      }
    },
    {
      "cell_type": "code",
      "source": [
        "# --- SPEAKER DIARIZATION (SIMULATED) ---"
      ],
      "metadata": {
        "id": "lxAa-lNUeBWv"
      },
      "execution_count": 57,
      "outputs": []
    },
    {
      "cell_type": "code",
      "source": [
        "print(\"\\n SPEAKER DIARIZATION (Simulated Output):\")\n",
        "print(\"\"\"\n",
        "| Time Range  | Speaker   | Text Excerpt                    |\n",
        "|-------------|-----------|----------------------------------|\n",
        "| 00:00-02:30 | Speaker_1 | \"Let's begin our meditation...\" |\n",
        "| 02:30-05:15 | Speaker_2 | \"The path to peace requires...\" |\n",
        "\"\"\")"
      ],
      "metadata": {
        "colab": {
          "base_uri": "https://localhost:8080/"
        },
        "id": "kP5SKkJQelt_",
        "outputId": "9df9d785-9264-4dd5-b772-05cfd4a177af"
      },
      "execution_count": 58,
      "outputs": [
        {
          "output_type": "stream",
          "name": "stdout",
          "text": [
            "\n",
            " SPEAKER DIARIZATION (Simulated Output):\n",
            "\n",
            "| Time Range  | Speaker   | Text Excerpt                    |\n",
            "|-------------|-----------|----------------------------------|\n",
            "| 00:00-02:30 | Speaker_1 | \"Let's begin our meditation...\" |\n",
            "| 02:30-05:15 | Speaker_2 | \"The path to peace requires...\" |\n",
            "\n"
          ]
        }
      ]
    },
    {
      "cell_type": "markdown",
      "source": [
        "---\n",
        "---"
      ],
      "metadata": {
        "id": "VDSsPAVpen-W"
      }
    },
    {
      "cell_type": "code",
      "source": [],
      "metadata": {
        "id": "v3adtfEmeoxK"
      },
      "execution_count": 58,
      "outputs": []
    },
    {
      "cell_type": "code",
      "source": [],
      "metadata": {
        "id": "UE2Km9Q2eo1X"
      },
      "execution_count": 58,
      "outputs": []
    },
    {
      "cell_type": "markdown",
      "source": [
        "---\n",
        "---"
      ],
      "metadata": {
        "id": "20sgqB-MepF_"
      }
    },
    {
      "cell_type": "code",
      "source": [
        "# ---  EMOTION DETECTION (SIMULATED) ---"
      ],
      "metadata": {
        "id": "X7nINNTreqHP"
      },
      "execution_count": 59,
      "outputs": []
    },
    {
      "cell_type": "code",
      "source": [
        "print(\"\\n EMOTION ANALYSIS (Sample Output):\")\n",
        "emotion_df = pd.DataFrame({\n",
        "    'Text': [\"Love conquers all\", \"Fear is the mind-killer\"],\n",
        "    'Emotion': [\"joy\", \"fear\"],\n",
        "    'Confidence': [0.92, 0.87]\n",
        "})\n",
        "print(emotion_df.to_string(index=False))"
      ],
      "metadata": {
        "colab": {
          "base_uri": "https://localhost:8080/"
        },
        "id": "t3jS1_ONdxJC",
        "outputId": "1deaecde-80df-4572-c416-e904fd429c80"
      },
      "execution_count": 68,
      "outputs": [
        {
          "output_type": "stream",
          "name": "stdout",
          "text": [
            "\n",
            " EMOTION ANALYSIS (Sample Output):\n",
            "                   Text Emotion  Confidence\n",
            "      Love conquers all     joy        0.92\n",
            "Fear is the mind-killer    fear        0.87\n"
          ]
        }
      ]
    },
    {
      "cell_type": "markdown",
      "source": [
        "---\n",
        "---"
      ],
      "metadata": {
        "id": "EbPCp3ypfeCv"
      }
    },
    {
      "cell_type": "code",
      "source": [],
      "metadata": {
        "id": "hBFtI6B7ffCP"
      },
      "execution_count": 61,
      "outputs": []
    },
    {
      "cell_type": "code",
      "source": [],
      "metadata": {
        "id": "aRjNBaZGffFz"
      },
      "execution_count": 61,
      "outputs": []
    },
    {
      "cell_type": "markdown",
      "source": [
        "---\n",
        "---"
      ],
      "metadata": {
        "id": "7_acp2EKffP4"
      }
    },
    {
      "cell_type": "code",
      "source": [
        "# --- EXPORT RESULTS ---"
      ],
      "metadata": {
        "id": "F8MqArQGff9H"
      },
      "execution_count": 62,
      "outputs": []
    },
    {
      "cell_type": "code",
      "source": [
        "csv_file = 'spiritual_discourse_analysis.csv'"
      ],
      "metadata": {
        "id": "zufEYXyefj8n"
      },
      "execution_count": 63,
      "outputs": []
    },
    {
      "cell_type": "code",
      "source": [
        "df.to_csv(csv_file, index=False)"
      ],
      "metadata": {
        "id": "9NSe_9-7UsAk"
      },
      "execution_count": 64,
      "outputs": []
    },
    {
      "cell_type": "code",
      "source": [],
      "metadata": {
        "id": "L3tYh9JrftJQ"
      },
      "execution_count": 64,
      "outputs": []
    },
    {
      "cell_type": "code",
      "source": [
        "print(f\"- {csv_file}\")\n",
        "print(f\"- transcript_{video_id}.json\")"
      ],
      "metadata": {
        "colab": {
          "base_uri": "https://localhost:8080/"
        },
        "id": "ix06BMYFftM_",
        "outputId": "83247deb-957e-4ef5-d342-72d606d1e8a9"
      },
      "execution_count": 65,
      "outputs": [
        {
          "output_type": "stream",
          "name": "stdout",
          "text": [
            "- spiritual_discourse_analysis.csv\n",
            "- transcript_c_iag_vvbdM.json\n"
          ]
        }
      ]
    },
    {
      "cell_type": "markdown",
      "source": [
        "---\n",
        "---"
      ],
      "metadata": {
        "id": "DHiMtIlsfuYP"
      }
    },
    {
      "cell_type": "code",
      "source": [],
      "metadata": {
        "id": "_VuvopIdfvc4"
      },
      "execution_count": 65,
      "outputs": []
    },
    {
      "cell_type": "code",
      "source": [],
      "metadata": {
        "id": "w_AoOgVSfxnm"
      },
      "execution_count": 65,
      "outputs": []
    },
    {
      "cell_type": "markdown",
      "source": [
        "---\n",
        "---"
      ],
      "metadata": {
        "id": "h6Jb_a6YfxuW"
      }
    },
    {
      "cell_type": "code",
      "source": [
        "# --- STREAMLIT DASHBOARD (OPTIONAL PREVIEW) ---"
      ],
      "metadata": {
        "id": "n3NVBQWqfypm"
      },
      "execution_count": 66,
      "outputs": []
    },
    {
      "cell_type": "code",
      "source": [
        "print(\"\"\"\n",
        " To create a Streamlit dashboard, save this code as app.py and run:\n",
        "    streamlit run app.py\n",
        "\n",
        "# ------------------------- app.py -------------------------\n",
        "import streamlit as st\n",
        "import pandas as pd\n",
        "import matplotlib.pyplot as plt\n",
        "\n",
        "st.title('Spiritual Sentiment Tracker')\n",
        "df = pd.read_csv('spiritual_discourse_analysis.csv')\n",
        "\n",
        "st.subheader('Sentiment Over Time')\n",
        "st.line_chart(df.set_index('start')['sentiment'])\n",
        "\n",
        "st.subheader('Raw Data')\n",
        "st.dataframe(df)\n",
        "# ----------------------------------------------------------\n",
        "\"\"\")"
      ],
      "metadata": {
        "colab": {
          "base_uri": "https://localhost:8080/"
        },
        "id": "v9p7rEoKf0h2",
        "outputId": "de3cf692-d066-4e77-f093-bcff179796d2"
      },
      "execution_count": 67,
      "outputs": [
        {
          "output_type": "stream",
          "name": "stdout",
          "text": [
            "\n",
            " To create a Streamlit dashboard, save this code as app.py and run:\n",
            "    streamlit run app.py\n",
            "\n",
            "# ------------------------- app.py -------------------------\n",
            "import streamlit as st\n",
            "import pandas as pd\n",
            "import matplotlib.pyplot as plt\n",
            "\n",
            "st.title('Spiritual Sentiment Tracker')\n",
            "df = pd.read_csv('spiritual_discourse_analysis.csv')\n",
            "\n",
            "st.subheader('Sentiment Over Time')\n",
            "st.line_chart(df.set_index('start')['sentiment'])\n",
            "\n",
            "st.subheader('Raw Data')\n",
            "st.dataframe(df)\n",
            "# ----------------------------------------------------------\n",
            "\n"
          ]
        }
      ]
    }
  ]
}