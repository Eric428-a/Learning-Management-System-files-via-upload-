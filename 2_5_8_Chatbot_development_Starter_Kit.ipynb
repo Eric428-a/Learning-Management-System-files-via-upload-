{
  "nbformat": 4,
  "nbformat_minor": 0,
  "metadata": {
    "colab": {
      "provenance": []
    },
    "kernelspec": {
      "name": "python3",
      "display_name": "Python 3"
    },
    "language_info": {
      "name": "python"
    }
  },
  "cells": [
    {
      "cell_type": "markdown",
      "source": [
        "<!-- Project Overview -->\n",
        "\n",
        "# <span style=\"color: #3498db;\">2_5_8_Chatbot_development_Starter_Kit</span>\n",
        "\n",
        "## <span style=\"color: #2ecc71;\">Project Description</span>\n",
        "\n",
        "The objective of this project is to develop a sequence-to-sequence (Seq2Seq) model for generating movie dialogues. This involves encoding dialogue text into a fixed-length vector using an LSTM-based encoder and then decoding this vector to generate coherent dialogue sequences. The project focuses on handling large volumes of dialogue data, tokenizing and padding sequences, and constructing a Seq2Seq model capable of producing meaningful dialogue responses.\n",
        "\n",
        "## <span style=\"color: #e74c3c;\">Data Loading and Initial Inspection</span>\n",
        "\n",
        "1. **Loading the Dataset**:\n",
        "   - The dataset is imported using `pandas`, which contains columns for dialogue ID, character ID, movie ID, character name, and the actual dialogue text. This step is crucial for preparing the data for further processing.\n",
        "\n",
        "2. **Initial Data Exploration**:\n",
        "   - Initial rows and a summary of the dataset are examined to understand the structure and quality of the data. This includes checking for non-null values and column data types.\n",
        "\n",
        "3. **Handling Missing Values**:\n",
        "   - Missing dialogue entries are addressed by replacing them with empty strings, ensuring that the dataset is complete and ready for processing.\n",
        "\n",
        "4. **Visualization**:\n",
        "   - A histogram with Kernel Density Estimate (KDE) is plotted to visualize the distribution of text lengths, helping identify any anomalies or patterns in the data.\n",
        "\n",
        "## <span style=\"color: #9b59b6;\">Data Cleaning and Preprocessing</span>\n",
        "\n",
        "1. **Text Cleaning**:\n",
        "   - The dialogue text is cleaned to improve consistency and remove noise. This involves converting all text to lowercase and removing any extraneous whitespace.\n",
        "\n",
        "2. **Updated Data Visualization**:\n",
        "   - The distribution of text lengths is re-plotted after cleaning to ensure the preprocessing steps have addressed any previous inconsistencies.\n",
        "\n",
        "## <span style=\"color: #f39c12;\">Tokenization and Sequence Padding</span>\n",
        "\n",
        "1. **Tokenization**:\n",
        "   - The `Tokenizer` from TensorFlow is used to convert dialogue text into sequences of integers, with each integer representing a unique word or token. The vocabulary size is calculated to determine the range of token indices.\n",
        "\n",
        "2. **Sequence Padding**:\n",
        "   - Sequences are padded to a uniform length to ensure compatibility with the LSTM model. Padding is applied to the end of sequences to maintain their length consistency.\n",
        "\n",
        "3. **Visualization of Sequence Lengths**:\n",
        "   - The sequence lengths are visualized to confirm that padding has been applied correctly and that all sequences are now of uniform length.\n",
        "\n",
        "## <span style=\"color: #1abc9c;\">Model Architecture</span>\n",
        "\n",
        "1. **Encoder**:\n",
        "   - The encoder is designed with an embedding layer followed by an LSTM layer. The embedding layer converts tokens into dense vectors, while the LSTM processes these vectors to produce hidden states.\n",
        "\n",
        "2. **Decoder**:\n",
        "   - The decoder, consisting of an embedding layer and an LSTM, generates sequences based on the encoder's hidden states. A dense layer with softmax activation produces the final token predictions.\n",
        "\n",
        "3. **Model Definition and Compilation**:\n",
        "   - The Seq2Seq model is compiled using the RMSprop optimizer and categorical crossentropy loss function, setting the stage for training and optimization.\n",
        "\n",
        "## <span style=\"color: #e67e22;\">Training and Evaluation</span>\n",
        "\n",
        "1. **Model Training**:\n",
        "   - The model is trained with the processed input and target sequences. Training is monitored using a validation split to track performance and prevent overfitting.\n",
        "\n",
        "2. **Loss Visualization**:\n",
        "   - Training and validation loss are plotted to visualize the model's learning process and assess its performance over epochs.\n",
        "\n",
        "## <span style=\"color: #2c3e50;\">Inference Models and Testing</span>\n",
        "\n",
        "1. **Inference Models**:\n",
        "   - Separate models for encoding and decoding are used during inference to generate new dialogue sequences based on the input data.\n",
        "\n",
        "2. **Decoding Function**:\n",
        "   - A function is implemented to decode the generated sequences into human-readable text, allowing for the evaluation of the model's performance in generating coherent dialogues.\n",
        "\n",
        "3. **Model Testing**:\n",
        "   - The model is tested with sample inputs to generate and print dialogue sequences, providing a practical demonstration of its capabilities.\n",
        "\n",
        "## <span style=\"color: #34495e;\">Future Work and Improvements</span>\n",
        "\n",
        "1. **Hyperparameter Tuning**:\n",
        "   - Further experimentation with hyperparameters such as the number of LSTM units, batch size, and learning rate could enhance model performance.\n",
        "\n",
        "2. **Handling Special Tokens**:\n",
        "   - Proper management of special tokens like `startseq` and `endseq` is essential for improving the model's ability to generate accurate and complete sequences.\n",
        "\n",
        "3. **Model Evaluation**:\n",
        "   - Additional evaluation metrics, such as BLEU scores, could be used to better assess the quality of the generated text and compare it with human-generated dialogue.\n",
        "\n",
        "4. **Model Persistence**:\n",
        "   - Implementing functionality to save and load the trained model will facilitate future use and experimentation, allowing for easy deployment and further testing."
      ],
      "metadata": {
        "id": "xdTGxu1HYIBx"
      }
    },
    {
      "cell_type": "code",
      "source": [],
      "metadata": {
        "id": "KPSjWS-RYYJr"
      },
      "execution_count": null,
      "outputs": []
    },
    {
      "cell_type": "code",
      "source": [],
      "metadata": {
        "id": "24JiBGkdYHuT"
      },
      "execution_count": null,
      "outputs": []
    },
    {
      "cell_type": "code",
      "source": [],
      "metadata": {
        "id": "er5_fs7VYZNk"
      },
      "execution_count": null,
      "outputs": []
    },
    {
      "cell_type": "markdown",
      "source": [
        "## <span style=\"color: #3498db;\">Imports and Setup</span>\n",
        "\n",
        "### <span style=\"color: #2ecc71;\">Import Libraries</span>\n",
        "\n",
        "- **`pandas`**: Essential for data manipulation and analysis. Provides data structures like DataFrames for handling datasets.\n",
        "- **`numpy`**: Used for numerical operations and array manipulations, integral for handling data arrays.\n",
        "- **`matplotlib.pyplot`**: A plotting library for creating visualizations such as histograms, scatter plots, and line graphs.\n",
        "- **`seaborn`**: Builds on `matplotlib` for advanced statistical data visualization, making it easier to create informative plots.\n",
        "- **`tensorflow`**: A comprehensive open-source framework for building and training machine learning models, including deep learning.\n",
        "- **`keras`**: High-level API integrated with TensorFlow, simplifies the process of creating and training neural networks.\n",
        "\n",
        "### <span style=\"color: #e74c3c;\">Set Up GPU/CPU Environment</span>\n",
        "\n",
        "- **GPU Acceleration**: Ensure GPU support is enabled if available, to speed up the training and evaluation of deep learning models.\n",
        "- **CPU Configuration**: For environments without GPU, optimize code and training processes to ensure efficient CPU usage.\n",
        "\n",
        "### <span style=\"color: #f39c12;\">Configure TensorFlow Settings</span>\n",
        "\n",
        "- **TensorFlow Settings**: Set configurations such as logging level, device placement, and memory growth options to optimize TensorFlow's performance."
      ],
      "metadata": {
        "id": "9LgVwn09Yi1Y"
      }
    },
    {
      "cell_type": "code",
      "source": [
        "import pandas as pd  # Import pandas library for data manipulation"
      ],
      "metadata": {
        "id": "CfVKApF_V5jE"
      },
      "execution_count": null,
      "outputs": []
    },
    {
      "cell_type": "code",
      "source": [
        "import numpy as np  # Import numpy library for numerical operations"
      ],
      "metadata": {
        "id": "clFXmIIjUHHB"
      },
      "execution_count": null,
      "outputs": []
    },
    {
      "cell_type": "code",
      "source": [
        "from tensorflow.keras.preprocessing.text import Tokenizer  # Import Tokenizer for text tokenization"
      ],
      "metadata": {
        "id": "xumTDECaTcZy"
      },
      "execution_count": null,
      "outputs": []
    },
    {
      "cell_type": "code",
      "source": [
        "from tensorflow.keras.preprocessing.sequence import pad_sequences  # Import pad_sequences for padding sequences\n"
      ],
      "metadata": {
        "id": "DnLbFV9kSWrA"
      },
      "execution_count": null,
      "outputs": []
    },
    {
      "cell_type": "code",
      "source": [
        "from tensorflow.keras.models import Model  # Import Model class to build the Keras model"
      ],
      "metadata": {
        "id": "YJiwq1TKR9cT"
      },
      "execution_count": null,
      "outputs": []
    },
    {
      "cell_type": "code",
      "source": [
        "from tensorflow.keras.layers import Input, Embedding, LSTM, Dense  # Import necessary layers for the model\n"
      ],
      "metadata": {
        "id": "3V271Z9JQ9zq"
      },
      "execution_count": null,
      "outputs": []
    },
    {
      "cell_type": "code",
      "source": [
        "from tensorflow.keras.utils import to_categorical  # Import to_categorical for converting labels to one-hot encoding\n"
      ],
      "metadata": {
        "id": "9qStKr9XQplM"
      },
      "execution_count": null,
      "outputs": []
    },
    {
      "cell_type": "code",
      "source": [
        "import matplotlib.pyplot as plt  # Import matplotlib for plotting"
      ],
      "metadata": {
        "id": "UoV-5VhMQKJw"
      },
      "execution_count": null,
      "outputs": []
    },
    {
      "cell_type": "code",
      "source": [
        "import seaborn as sns  # Import seaborn for statistical data visualization"
      ],
      "metadata": {
        "id": "q1d-KbaROEx7"
      },
      "execution_count": null,
      "outputs": []
    },
    {
      "cell_type": "code",
      "source": [],
      "metadata": {
        "id": "nu2nPoYoXyC4"
      },
      "execution_count": null,
      "outputs": []
    },
    {
      "cell_type": "code",
      "source": [],
      "metadata": {
        "id": "ENt2CBDwXyFw"
      },
      "execution_count": null,
      "outputs": []
    },
    {
      "cell_type": "code",
      "source": [],
      "metadata": {
        "id": "xH92h8bnY7i4"
      },
      "execution_count": null,
      "outputs": []
    },
    {
      "cell_type": "markdown",
      "source": [
        "## <span style=\"color: #3498db;\">Data Loading and Initial Inspection</span>\n",
        "\n",
        "### <span style=\"color: #2ecc71;\">1. Load the Dataset</span>\n",
        "\n",
        "- **Dataset Path**: Define the path to the dataset file, ensuring it is correctly specified.\n",
        "- **Data Loading**: Use `pandas` to read the dataset into a DataFrame, handling separators and column names as needed.\n",
        "\n",
        "### <span style=\"color: #e74c3c;\">2. Display Initial Dataset Information</span>\n",
        "\n",
        "- **First Few Rows**: Use `.head()` to preview the first few rows of the dataset, providing an initial understanding of its structure and contents.\n",
        "- **Dataset Summary**: Use `.info()` to obtain a summary of the dataset, including data types and non-null counts, to identify any missing values or anomalies.\n",
        "\n",
        "### <span style=\"color: #9b59b6;\">3. Summary Statistics for Text Column</span>\n",
        "\n",
        "- **Text Column Analysis**: Use `.describe()` on the 'text' column to gather summary statistics such as count, unique values, and basic descriptive metrics, giving insights into the text data.\n",
        "\n",
        "### <span style=\"color: #f39c12;\">4. Ensure Data Quality</span>\n",
        "\n",
        "- **Handle Missing Values**: Replace missing values in the 'text' column with empty strings or appropriate placeholders to ensure data integrity.\n",
        "- **Data Type Conversion**: Ensure that all values in the 'text' column are of type string to avoid errors during processing.\n",
        "\n",
        "### <span style=\"color: #1abc9c;\">5. Plot Distribution of Text Lengths</span>\n",
        "\n",
        "- **Calculate Text Lengths**: Create a new column to store the length of each text entry.\n",
        "- **Visualization**: Use `seaborn` to plot the distribution of text lengths, providing insights into the variability and typical length of dialogues in the dataset."
      ],
      "metadata": {
        "id": "A3dqpZ6VY70C"
      }
    },
    {
      "cell_type": "code",
      "source": [
        "# Load the dataset"
      ],
      "metadata": {
        "id": "dZTvz9-iXyM6"
      },
      "execution_count": null,
      "outputs": []
    },
    {
      "cell_type": "code",
      "source": [
        "dataset_path = 'movie_lines.tsv'  # Update with the correct path if necessary"
      ],
      "metadata": {
        "id": "Lvy5jew5XyPz"
      },
      "execution_count": null,
      "outputs": []
    },
    {
      "cell_type": "code",
      "source": [
        "lines = pd.read_csv(dataset_path, sep='\\t', on_bad_lines='skip', names=['lineID', 'characterID', 'movieID', 'character', 'text'])  # Load dataset with tab separator\n"
      ],
      "metadata": {
        "id": "PKMVpg4iN496"
      },
      "execution_count": null,
      "outputs": []
    },
    {
      "cell_type": "code",
      "source": [],
      "metadata": {
        "id": "nT3-uVz0X5VX"
      },
      "execution_count": null,
      "outputs": []
    },
    {
      "cell_type": "code",
      "source": [],
      "metadata": {
        "id": "oOHuO3x3X5YV"
      },
      "execution_count": null,
      "outputs": []
    },
    {
      "cell_type": "code",
      "source": [
        "# Display initial dataset information"
      ],
      "metadata": {
        "id": "00k4_RtpX5ax"
      },
      "execution_count": null,
      "outputs": []
    },
    {
      "cell_type": "code",
      "source": [
        "print(\"First few rows of the dataset:\")\n",
        "print(lines.head())  # Print the first few rows of the dataset"
      ],
      "metadata": {
        "colab": {
          "base_uri": "https://localhost:8080/"
        },
        "id": "LcrC-HLJX5dS",
        "outputId": "61d4cf94-fcd7-4ed4-886d-0812f2a103f5"
      },
      "execution_count": null,
      "outputs": [
        {
          "output_type": "stream",
          "name": "stdout",
          "text": [
            "First few rows of the dataset:\n",
            "  lineID characterID movieID character          text\n",
            "0  L1045          u0      m0    BIANCA  They do not!\n",
            "1  L1044          u2      m0   CAMERON   They do to!\n",
            "2   L985          u0      m0    BIANCA    I hope so.\n",
            "3   L984          u2      m0   CAMERON     She okay?\n",
            "4   L925          u0      m0    BIANCA     Let's go.\n"
          ]
        }
      ]
    },
    {
      "cell_type": "code",
      "source": [],
      "metadata": {
        "id": "TLt8ZN2MX5f_"
      },
      "execution_count": null,
      "outputs": []
    },
    {
      "cell_type": "code",
      "source": [],
      "metadata": {
        "id": "ALORjejTX-z4"
      },
      "execution_count": null,
      "outputs": []
    },
    {
      "cell_type": "code",
      "source": [
        "print(\"\\nDataset info:\")\n",
        "print(lines.info())  # Print dataset summary including column types and non-null counts"
      ],
      "metadata": {
        "colab": {
          "base_uri": "https://localhost:8080/"
        },
        "id": "VU2jhyUfX-23",
        "outputId": "a20595b5-1b64-4370-9a9c-e84dfbe3473f"
      },
      "execution_count": null,
      "outputs": [
        {
          "output_type": "stream",
          "name": "stdout",
          "text": [
            "\n",
            "Dataset info:\n",
            "<class 'pandas.core.frame.DataFrame'>\n",
            "RangeIndex: 293202 entries, 0 to 293201\n",
            "Data columns (total 5 columns):\n",
            " #   Column       Non-Null Count   Dtype \n",
            "---  ------       --------------   ----- \n",
            " 0   lineID       293202 non-null  object\n",
            " 1   characterID  288917 non-null  object\n",
            " 2   movieID      288917 non-null  object\n",
            " 3   character    288874 non-null  object\n",
            " 4   text         288663 non-null  object\n",
            "dtypes: object(5)\n",
            "memory usage: 11.2+ MB\n",
            "None\n"
          ]
        }
      ]
    },
    {
      "cell_type": "code",
      "source": [],
      "metadata": {
        "id": "ZZ_zO0EcX-5h"
      },
      "execution_count": null,
      "outputs": []
    },
    {
      "cell_type": "code",
      "source": [],
      "metadata": {
        "id": "ZrHbID3CX-8F"
      },
      "execution_count": null,
      "outputs": []
    },
    {
      "cell_type": "code",
      "source": [
        "# Summary statistics for 'text' column"
      ],
      "metadata": {
        "id": "3QcVbzN5X--f"
      },
      "execution_count": null,
      "outputs": []
    },
    {
      "cell_type": "code",
      "source": [
        "print(\"\\nSummary statistics for 'text' column:\")\n",
        "print(lines['text'].describe())  # Print summary statistics for the 'text' column"
      ],
      "metadata": {
        "colab": {
          "base_uri": "https://localhost:8080/"
        },
        "id": "4GqWDNSWX_BJ",
        "outputId": "88824d89-8203-474f-cf66-5b5e9fa15d11"
      },
      "execution_count": null,
      "outputs": [
        {
          "output_type": "stream",
          "name": "stdout",
          "text": [
            "\n",
            "Summary statistics for 'text' column:\n",
            "count     288663\n",
            "unique    251306\n",
            "top        What?\n",
            "freq        1610\n",
            "Name: text, dtype: object\n"
          ]
        }
      ]
    },
    {
      "cell_type": "code",
      "source": [],
      "metadata": {
        "id": "u4mLUGdhYGRC"
      },
      "execution_count": null,
      "outputs": []
    },
    {
      "cell_type": "code",
      "source": [],
      "metadata": {
        "id": "wQEerEFEYGUL"
      },
      "execution_count": null,
      "outputs": []
    },
    {
      "cell_type": "code",
      "source": [
        "# Ensure 'text' column is string and handle NaN values"
      ],
      "metadata": {
        "id": "1IOqe4tbYGW3"
      },
      "execution_count": null,
      "outputs": []
    },
    {
      "cell_type": "code",
      "source": [
        "lines['text'] = lines['text'].fillna('')  # Replace NaNs with empty strings in 'text' column"
      ],
      "metadata": {
        "id": "0hJ5X7dFYGaR"
      },
      "execution_count": null,
      "outputs": []
    },
    {
      "cell_type": "code",
      "source": [
        "lines['text'] = lines['text'].astype(str)  # Ensure all values in 'text' column are strings"
      ],
      "metadata": {
        "id": "qL8vnfomYGcG"
      },
      "execution_count": null,
      "outputs": []
    },
    {
      "cell_type": "code",
      "source": [],
      "metadata": {
        "id": "k0bhNcw4YOoo"
      },
      "execution_count": null,
      "outputs": []
    },
    {
      "cell_type": "code",
      "source": [],
      "metadata": {
        "id": "opTdiarUYOrJ"
      },
      "execution_count": null,
      "outputs": []
    },
    {
      "cell_type": "code",
      "source": [
        "# Plot distribution of text lengths"
      ],
      "metadata": {
        "id": "G-SHsZlqYOtq"
      },
      "execution_count": null,
      "outputs": []
    },
    {
      "cell_type": "code",
      "source": [
        "lines['text_length'] = lines['text'].apply(lambda x: len(x) if isinstance(x, str) else 0)  # Calculate text length\n",
        "plt.figure(figsize=(10, 6))  # Set the figure size for the plot\n",
        "sns.histplot(lines['text_length'], bins=50, kde=True)  # Plot distribution of text lengths with histogram and KDE\n",
        "plt.title('Distribution of Text Lengths')  # Set the title of the plot\n",
        "plt.xlabel('Length of Text')  # Set the x-axis label\n",
        "plt.ylabel('Frequency')  # Set the y-axis label\n",
        "plt.show()  # Display the plot"
      ],
      "metadata": {
        "colab": {
          "base_uri": "https://localhost:8080/",
          "height": 528
        },
        "id": "12ECKaNBYOwH",
        "outputId": "92eed4c3-a032-4d96-89a1-541d4f3f9e3e"
      },
      "execution_count": null,
      "outputs": [
        {
          "output_type": "display_data",
          "data": {
            "text/plain": [
              "<Figure size 1000x600 with 1 Axes>"
            ],
            "image/png": "[encoded data removed]"
          },
          "metadata": {}
        }
      ]
    },
    {
      "cell_type": "code",
      "source": [],
      "metadata": {
        "id": "4winZ0hfYOy7"
      },
      "execution_count": null,
      "outputs": []
    },
    {
      "cell_type": "code",
      "source": [],
      "metadata": {
        "id": "yH66oExfYO08"
      },
      "execution_count": null,
      "outputs": []
    },
    {
      "cell_type": "code",
      "source": [
        "# Unique counts in columns"
      ],
      "metadata": {
        "id": "IIa-fvdGYO28"
      },
      "execution_count": null,
      "outputs": []
    },
    {
      "cell_type": "code",
      "source": [
        "print(\"\\nUnique counts in columns:\")  # Print a description for the following data\n",
        "print(f\"Unique characters: {lines['character'].nunique()}\")  # Print unique character counts\n",
        "print(f\"Unique movies: {lines['movieID'].nunique()}\")  # Print unique movie counts"
      ],
      "metadata": {
        "colab": {
          "base_uri": "https://localhost:8080/"
        },
        "id": "epVSNgZVYO48",
        "outputId": "013270c1-9a8a-4a75-878f-dfa0aeb91807"
      },
      "execution_count": null,
      "outputs": [
        {
          "output_type": "stream",
          "name": "stdout",
          "text": [
            "\n",
            "Unique counts in columns:\n",
            "Unique characters: 5214\n",
            "Unique movies: 607\n"
          ]
        }
      ]
    },
    {
      "cell_type": "code",
      "source": [],
      "metadata": {
        "id": "CpqizHZOYdzQ"
      },
      "execution_count": null,
      "outputs": []
    },
    {
      "cell_type": "code",
      "source": [],
      "metadata": {
        "id": "Ky5aeiMAYd2Y"
      },
      "execution_count": null,
      "outputs": []
    },
    {
      "cell_type": "code",
      "source": [
        "# Plot counts of unique characters"
      ],
      "metadata": {
        "id": "wyiYmnjzYd5i"
      },
      "execution_count": null,
      "outputs": []
    },
    {
      "cell_type": "code",
      "source": [
        "plt.figure(figsize=(12, 6))  # Set the figure size for the plot\n",
        "sns.countplot(y='character', data=lines, order=lines['character'].value_counts().index)  # Plot frequency of dialogues by character\n",
        "plt.title('Frequency of Dialogues by Character')  # Set the title of the plot\n",
        "plt.xlabel('Count')  # Set the x-axis label\n",
        "plt.ylabel('Character')  # Set the y-axis label\n",
        "plt.show()  # Display the plot"
      ],
      "metadata": {
        "colab": {
          "base_uri": "https://localhost:8080/",
          "height": 426
        },
        "id": "IFS_tDmNYd85",
        "outputId": "b3a6e125-aa1e-4c71-b6aa-6b222228fc6d"
      },
      "execution_count": null,
      "outputs": [
        {
          "output_type": "stream",
          "name": "stderr",
          "text": [
            "/usr/local/lib/python3.10/dist-packages/IPython/core/pylabtools.py:151: UserWarning: Glyph 146 (\\x92) missing from current font.\n",
            "  fig.canvas.print_figure(bytes_io, **kw)\n"
          ]
        },
        {
          "output_type": "display_data",
          "data": {
            "text/plain": [
              "<Figure size 1200x600 with 1 Axes>"
            ],
            "image/png": "[encoded data removed]"
          },
          "metadata": {}
        }
      ]
    },
    {
      "cell_type": "code",
      "source": [],
      "metadata": {
        "id": "89PJjk-IYkoH"
      },
      "execution_count": null,
      "outputs": []
    },
    {
      "cell_type": "code",
      "source": [],
      "metadata": {
        "id": "wPhzBHyUYkra"
      },
      "execution_count": null,
      "outputs": []
    },
    {
      "cell_type": "code",
      "source": [
        "# Plot counts of unique movies"
      ],
      "metadata": {
        "id": "VgHKJ5r2YkuU"
      },
      "execution_count": null,
      "outputs": []
    },
    {
      "cell_type": "code",
      "source": [
        "plt.figure(figsize=(12, 6))  # Set the figure size for the plot\n",
        "sns.countplot(y='movieID', data=lines, order=lines['movieID'].value_counts().index)  # Plot frequency of dialogues by movie\n",
        "plt.title('Frequency of Dialogues by Movie')  # Set the title of the plot\n",
        "plt.xlabel('Count')  # Set the x-axis label\n",
        "plt.ylabel('Movie ID')  # Set the y-axis label\n",
        "plt.show()  # Display the plot"
      ],
      "metadata": {
        "colab": {
          "base_uri": "https://localhost:8080/",
          "height": 450
        },
        "id": "5Zt2cFlBYkxk",
        "outputId": "1aec61d0-2e8b-4ce3-c28c-52100786f9fa"
      },
      "execution_count": null,
      "outputs": [
        {
          "output_type": "display_data",
          "data": {
            "text/plain": [
              "<Figure size 1200x600 with 1 Axes>"
            ],
            "image/png": "[encoded data removed]"
          },
          "metadata": {}
        }
      ]
    },
    {
      "cell_type": "code",
      "source": [],
      "metadata": {
        "id": "aRH8v3GWYp15"
      },
      "execution_count": null,
      "outputs": []
    },
    {
      "cell_type": "code",
      "source": [],
      "metadata": {
        "id": "YQyocWkdYp5C"
      },
      "execution_count": null,
      "outputs": []
    },
    {
      "cell_type": "code",
      "source": [],
      "metadata": {
        "id": "HSlMu13KZ0tF"
      },
      "execution_count": null,
      "outputs": []
    },
    {
      "cell_type": "markdown",
      "source": [
        "## <span style=\"color: #3498db;\">Data Cleaning</span>\n",
        "\n",
        "### <span style=\"color: #2ecc71;\">1. Handle Missing Values</span>\n",
        "\n",
        "- **Drop Missing Texts**: Remove rows where the 'text' column has missing values to ensure that all entries are valid for further processing.\n",
        "\n",
        "### <span style=\"color: #e74c3c;\">2. Clean and Normalize Text</span>\n",
        "\n",
        "- **Text Normalization**: Convert all text entries to lowercase and strip leading/trailing spaces. This standardization helps in reducing inconsistencies and improves the performance of text analysis.\n",
        "\n",
        "### <span style=\"color: #9b59b6;\">3. Updated Data Inspection</span>\n",
        "\n",
        "- **Recheck Data Information**: After cleaning, review the dataset info again using `.info()` to ensure all missing values are handled and the data types are correct.\n",
        "- **Preview Cleaned Data**: Use `.head()` to display the first few rows of the cleaned dataset to verify that the cleaning operations were successful.\n",
        "\n",
        "### <span style=\"color: #f39c12;\">4. Plot Updated Distribution of Text Lengths</span>\n",
        "\n",
        "- **Recalculate Text Lengths**: Update the column for text lengths after cleaning.\n",
        "- **Visualization**: Plot the distribution of text lengths again to observe any changes in the data characteristics post-cleaning."
      ],
      "metadata": {
        "id": "H4oVno1fZ06D"
      }
    },
    {
      "cell_type": "code",
      "source": [
        "# Handle missing values and clean the text"
      ],
      "metadata": {
        "id": "POkLkkvmYp8J"
      },
      "execution_count": null,
      "outputs": []
    },
    {
      "cell_type": "code",
      "source": [
        "lines = lines.dropna(subset=['text'])  # Drop rows where 'text' column has missing values"
      ],
      "metadata": {
        "id": "W8mi0UReYp-1"
      },
      "execution_count": null,
      "outputs": []
    },
    {
      "cell_type": "code",
      "source": [
        "lines['text'] = lines['text'].apply(lambda x: x.lower().strip())  # Convert text to lowercase and strip spaces\n"
      ],
      "metadata": {
        "id": "BjcromedYqBP"
      },
      "execution_count": null,
      "outputs": []
    },
    {
      "cell_type": "code",
      "source": [],
      "metadata": {
        "id": "cMjT9vmLYqEM"
      },
      "execution_count": null,
      "outputs": []
    },
    {
      "cell_type": "code",
      "source": [],
      "metadata": {
        "id": "5iXJOB-GYk1I"
      },
      "execution_count": null,
      "outputs": []
    },
    {
      "cell_type": "code",
      "source": [
        "# Show updated dataset info and first few rows"
      ],
      "metadata": {
        "id": "B6BhHvrxYeAh"
      },
      "execution_count": null,
      "outputs": []
    },
    {
      "cell_type": "code",
      "source": [
        "print(\"\\nUpdated Dataset info:\")  # Print a description for the following data\n",
        "print(lines.info())  # Print updated dataset info"
      ],
      "metadata": {
        "colab": {
          "base_uri": "https://localhost:8080/"
        },
        "id": "L9-4R8qdYGfv",
        "outputId": "5d78270d-5309-48d7-f79d-ed63b4a7db78"
      },
      "execution_count": null,
      "outputs": [
        {
          "output_type": "stream",
          "name": "stdout",
          "text": [
            "\n",
            "Updated Dataset info:\n",
            "<class 'pandas.core.frame.DataFrame'>\n",
            "RangeIndex: 293202 entries, 0 to 293201\n",
            "Data columns (total 6 columns):\n",
            " #   Column       Non-Null Count   Dtype \n",
            "---  ------       --------------   ----- \n",
            " 0   lineID       293202 non-null  object\n",
            " 1   characterID  288917 non-null  object\n",
            " 2   movieID      288917 non-null  object\n",
            " 3   character    288874 non-null  object\n",
            " 4   text         293202 non-null  object\n",
            " 5   text_length  293202 non-null  int64 \n",
            "dtypes: int64(1), object(5)\n",
            "memory usage: 13.4+ MB\n",
            "None\n"
          ]
        }
      ]
    },
    {
      "cell_type": "code",
      "source": [],
      "metadata": {
        "id": "h7EpAOPzYGhE"
      },
      "execution_count": null,
      "outputs": []
    },
    {
      "cell_type": "code",
      "source": [],
      "metadata": {
        "id": "t-ahK4-fYGkp"
      },
      "execution_count": null,
      "outputs": []
    },
    {
      "cell_type": "code",
      "source": [
        "print(\"\\nFirst few rows of the cleaned dataset:\")  # Print a description for the following data\n",
        "print(lines.head())  # Print first few rows of the cleaned dataset"
      ],
      "metadata": {
        "colab": {
          "base_uri": "https://localhost:8080/"
        },
        "id": "5b8LWGNlX_Dy",
        "outputId": "f6d3b063-6268-4d7b-b92b-084246cd1b70"
      },
      "execution_count": null,
      "outputs": [
        {
          "output_type": "stream",
          "name": "stdout",
          "text": [
            "\n",
            "First few rows of the cleaned dataset:\n",
            "  lineID characterID movieID character          text  text_length\n",
            "0  L1045          u0      m0    BIANCA  they do not!           12\n",
            "1  L1044          u2      m0   CAMERON   they do to!           11\n",
            "2   L985          u0      m0    BIANCA    i hope so.           10\n",
            "3   L984          u2      m0   CAMERON     she okay?            9\n",
            "4   L925          u0      m0    BIANCA     let's go.            9\n"
          ]
        }
      ]
    },
    {
      "cell_type": "code",
      "source": [],
      "metadata": {
        "id": "wbNmK2A5Y3wn"
      },
      "execution_count": null,
      "outputs": []
    },
    {
      "cell_type": "code",
      "source": [],
      "metadata": {
        "id": "pN16CyJFY3zb"
      },
      "execution_count": null,
      "outputs": []
    },
    {
      "cell_type": "code",
      "source": [
        "# Plot the updated distribution of text lengths"
      ],
      "metadata": {
        "id": "qDkQAz71Y34c"
      },
      "execution_count": null,
      "outputs": []
    },
    {
      "cell_type": "code",
      "source": [
        "lines['text_length'] = lines['text'].apply(lambda x: len(x) if isinstance(x, str) else 0)  # Recalculate text length\n",
        "plt.figure(figsize=(10, 6))  # Set the figure size for the plot\n",
        "sns.histplot(lines['text_length'], bins=50, kde=True)  # Plot updated distribution of text lengths with histogram and KDE\n",
        "plt.title('Updated Distribution of Text Lengths')  # Set the title of the plot\n",
        "plt.xlabel('Length of Text')  # Set the x-axis label\n",
        "plt.ylabel('Frequency')  # Set the y-axis label\n",
        "plt.show()  # Display the plot"
      ],
      "metadata": {
        "colab": {
          "base_uri": "https://localhost:8080/",
          "height": 528
        },
        "id": "0PHU4TYkY37t",
        "outputId": "c6524150-aa58-41b8-dc20-5018c9b5b31b"
      },
      "execution_count": null,
      "outputs": [
        {
          "output_type": "display_data",
          "data": {
            "text/plain": [
              "<Figure size 1000x600 with 1 Axes>"
            ],
            "image/png": "[encoded data removed]"
          },
          "metadata": {}
        }
      ]
    },
    {
      "cell_type": "code",
      "source": [],
      "metadata": {
        "id": "Czub68H3ZGa5"
      },
      "execution_count": null,
      "outputs": []
    },
    {
      "cell_type": "code",
      "source": [],
      "metadata": {
        "id": "4H-WYSzcZGeO"
      },
      "execution_count": null,
      "outputs": []
    },
    {
      "cell_type": "code",
      "source": [],
      "metadata": {
        "id": "MlnPIkr_cUy_"
      },
      "execution_count": null,
      "outputs": []
    },
    {
      "cell_type": "markdown",
      "source": [
        "## <span style=\"color: #3498db;\">Selecting a Small Subset</span>\n",
        "\n",
        "### <span style=\"color: #2ecc71;\">1. Rationale</span>\n",
        "\n",
        "- **Efficiency**: Working with a smaller subset of the dataset helps in speeding up the model training and evaluation processes, especially important when computing resources are limited.\n",
        "- **Debugging**: Using a subset allows for quicker iteration and easier debugging of the code and model, helping identify and resolve issues more efficiently.\n",
        "\n",
        "### <span style=\"color: #e74c3c;\">2. Criteria for Selection</span>\n",
        "\n",
        "- **Random Sampling**: Select a random sample of the data to ensure it is representative of the larger dataset, minimizing biases.\n",
        "- **Balanced Distribution**: Ensure that the subset maintains the distribution of different classes or categories present in the full dataset.\n",
        "\n",
        "### <span style=\"color: #f39c12;\">3. Implementation Steps</span>\n",
        "\n",
        "1. **Determine Sample Size**: Decide on the size of the subset based on computational constraints and project requirements.\n",
        "2. **Sampling Method**: Use techniques such as random sampling or stratified sampling to select the subset.\n",
        "3. **Data Extraction**: Extract the selected subset and save it as a separate file or variable for use in the analysis.\n",
        "\n",
        "### <span style=\"color: #e67e22;\">4. Benefits</span>\n",
        "\n",
        "- **Faster Execution**: Reduces the time required for model training and evaluation, allowing for more rapid experimentation.\n",
        "- **Resource Management**: Helps in managing computational resources more effectively, particularly in environments with limited hardware capabilities.\n",
        "\n",
        "### <span style=\"color: #16a085;\">5. Example</span>\n",
        "\n",
        "- **Subset Size**: For example, if working with a dataset of 100,000 samples, selecting a subset of 10,000 samples can be a manageable size for initial testing and development.\n",
        "- **Process**:\n",
        "  - Load the full dataset.\n",
        "  - Randomly sample a specified number of rows.\n",
        "  - Save the subset for use in the project."
      ],
      "metadata": {
        "id": "vSUJE5jicVIu"
      }
    },
    {
      "cell_type": "code",
      "source": [
        "# Load a smaller subset of the dataset"
      ],
      "metadata": {
        "id": "Mvl384odZGj7"
      },
      "execution_count": null,
      "outputs": []
    },
    {
      "cell_type": "code",
      "source": [
        "subset_size = 1000  # Reduce the size for testing"
      ],
      "metadata": {
        "id": "ybpsnbT3ZGmu"
      },
      "execution_count": null,
      "outputs": []
    },
    {
      "cell_type": "code",
      "source": [
        "lines = pd.read_csv(dataset_path, sep='\\t', nrows=subset_size, on_bad_lines='skip', names=['lineID', 'characterID', 'movieID', 'character', 'text'])  # Load a smaller subset\n"
      ],
      "metadata": {
        "id": "HN57J-0_ZGpF"
      },
      "execution_count": null,
      "outputs": []
    },
    {
      "cell_type": "code",
      "source": [],
      "metadata": {
        "id": "WAUI2VACZOEj"
      },
      "execution_count": null,
      "outputs": []
    },
    {
      "cell_type": "code",
      "source": [],
      "metadata": {
        "id": "aKtMFGV-ZOHk"
      },
      "execution_count": null,
      "outputs": []
    },
    {
      "cell_type": "code",
      "source": [
        "# Handle missing values"
      ],
      "metadata": {
        "id": "U00xIp9pZOKM"
      },
      "execution_count": null,
      "outputs": []
    },
    {
      "cell_type": "code",
      "source": [
        "lines['text'] = lines['text'].fillna('')  # Replace NaNs with empty strings"
      ],
      "metadata": {
        "id": "amDKA23nZOM8"
      },
      "execution_count": null,
      "outputs": []
    },
    {
      "cell_type": "code",
      "source": [
        "lines['text'] = lines['text'].astype(str)  # Ensure all values are strings"
      ],
      "metadata": {
        "id": "5vpwoEX-ZGvC"
      },
      "execution_count": null,
      "outputs": []
    },
    {
      "cell_type": "code",
      "source": [],
      "metadata": {
        "id": "kXRuPWxDY3_Q"
      },
      "execution_count": null,
      "outputs": []
    },
    {
      "cell_type": "code",
      "source": [
        "# Convert text to lowercase and strip leading/trailing spaces"
      ],
      "metadata": {
        "id": "km6M10qwY4CW"
      },
      "execution_count": null,
      "outputs": []
    },
    {
      "cell_type": "code",
      "source": [
        "lines['text'] = lines['text'].apply(lambda x: x.lower().strip())  # Convert text to lowercase and strip spaces\n"
      ],
      "metadata": {
        "id": "nbOIBaceZYri"
      },
      "execution_count": null,
      "outputs": []
    },
    {
      "cell_type": "code",
      "source": [],
      "metadata": {
        "id": "Y3hgKRBiZYul"
      },
      "execution_count": null,
      "outputs": []
    },
    {
      "cell_type": "code",
      "source": [],
      "metadata": {
        "id": "wiTXNwoyZYz6"
      },
      "execution_count": null,
      "outputs": []
    },
    {
      "cell_type": "code",
      "source": [],
      "metadata": {
        "id": "r8wNtiaXZ9Wk"
      },
      "execution_count": null,
      "outputs": []
    },
    {
      "cell_type": "markdown",
      "source": [
        "## <span style=\"color: #3498db;\">Tokenization</span>\n",
        "\n",
        "### <span style=\"color: #2ecc71;\">1. Initialize Tokenizer</span>\n",
        "\n",
        "- **Tokenizer Setup**: Create an instance of the `Tokenizer` class from TensorFlow's Keras library. This tokenizer will be used to convert text into sequences of integers.\n",
        "\n",
        "### <span style=\"color: #e74c3c;\">2. Fit Tokenizer on Text Data</span>\n",
        "\n",
        "- **Vocabulary Building**: Use the `fit_on_texts` method to process the text data and build the vocabulary. This method updates the internal word-to-index mapping based on the text data provided.\n",
        "\n",
        "### <span style=\"color: #9b59b6;\">3. Calculate Vocabulary Size</span>\n",
        "\n",
        "- **Determine Vocabulary Size**: Calculate the total number of unique tokens in the dataset, including an extra token for unknown words. This is done using the length of the tokenizer’s `word_index` dictionary plus one.\n",
        "\n",
        "### <span style=\"color: #f39c12;\">4. Plot Token Frequency Distribution</span>\n",
        "\n",
        "- **Word Frequency Analysis**: Create a DataFrame of word counts from the tokenizer’s `word_counts` attribute.\n",
        "- **Visualization**: Plot the top 20 most frequent words to understand the distribution and prominence of words in the dataset."
      ],
      "metadata": {
        "id": "0VqsD_QaZ9fj"
      }
    },
    {
      "cell_type": "code",
      "source": [
        "# Tokenization"
      ],
      "metadata": {
        "id": "BaV6ye1PZY3E"
      },
      "execution_count": null,
      "outputs": []
    },
    {
      "cell_type": "code",
      "source": [
        "tokenizer = Tokenizer()  # Initialize the tokenizer"
      ],
      "metadata": {
        "id": "sEhDSGEwZY5G"
      },
      "execution_count": null,
      "outputs": []
    },
    {
      "cell_type": "code",
      "source": [
        "tokenizer.fit_on_texts(lines['text'])  # Fit tokenizer on the text data"
      ],
      "metadata": {
        "id": "xNlt4BA1ZY9P"
      },
      "execution_count": null,
      "outputs": []
    },
    {
      "cell_type": "code",
      "source": [
        "num_tokens = len(tokenizer.word_index) + 1  # Calculate vocabulary size"
      ],
      "metadata": {
        "id": "lZZKlD-wZY_m"
      },
      "execution_count": null,
      "outputs": []
    },
    {
      "cell_type": "code",
      "source": [],
      "metadata": {
        "id": "yg3nOdoaZpQp"
      },
      "execution_count": null,
      "outputs": []
    },
    {
      "cell_type": "code",
      "source": [],
      "metadata": {
        "id": "qDMt79zmZpTp"
      },
      "execution_count": null,
      "outputs": []
    },
    {
      "cell_type": "code",
      "source": [
        "# Plot the distribution of token frequencies"
      ],
      "metadata": {
        "id": "Df_i4CSZZpXZ"
      },
      "execution_count": null,
      "outputs": []
    },
    {
      "cell_type": "code",
      "source": [
        "word_counts = pd.DataFrame(tokenizer.word_counts.items(), columns=['Word', 'Count'])  # Create DataFrame of word counts\n",
        "plt.figure(figsize=(12, 6))  # Set the figure size for the plot\n",
        "sns.barplot(x='Count', y='Word', data=word_counts.sort_values(by='Count', ascending=False).head(20))  # Plot top 20 most frequent words\n",
        "plt.title('Top 20 Most Frequent Words')  # Set the title of the plot\n",
        "plt.xlabel('Frequency')  # Set the x-axis label\n",
        "plt.ylabel('Word')  # Set the y-axis label\n",
        "plt.show()  # Display the plot"
      ],
      "metadata": {
        "colab": {
          "base_uri": "https://localhost:8080/",
          "height": 459
        },
        "id": "jyKgQgDjZpZf",
        "outputId": "1652660c-5036-4dbd-898c-a843535b8605"
      },
      "execution_count": null,
      "outputs": [
        {
          "output_type": "display_data",
          "data": {
            "text/plain": [
              "<Figure size 1200x600 with 1 Axes>"
            ],
            "image/png": "[encoded data removed]"
          },
          "metadata": {}
        }
      ]
    },
    {
      "cell_type": "code",
      "source": [],
      "metadata": {
        "id": "4VK-dewEZuox"
      },
      "execution_count": null,
      "outputs": []
    },
    {
      "cell_type": "code",
      "source": [],
      "metadata": {
        "id": "q22E5eeMZur-"
      },
      "execution_count": null,
      "outputs": []
    },
    {
      "cell_type": "code",
      "source": [
        "# Convert dialogues to sequences"
      ],
      "metadata": {
        "id": "rgl_TtjxZuvN"
      },
      "execution_count": null,
      "outputs": []
    },
    {
      "cell_type": "code",
      "source": [
        "tokenized_dialogues = tokenizer.texts_to_sequences(lines['text'])  # Convert text to sequences of integers\n"
      ],
      "metadata": {
        "id": "kDF7ddZRZuxx"
      },
      "execution_count": null,
      "outputs": []
    },
    {
      "cell_type": "code",
      "source": [],
      "metadata": {
        "id": "KszP23fbZpb_"
      },
      "execution_count": null,
      "outputs": []
    },
    {
      "cell_type": "code",
      "source": [],
      "metadata": {
        "id": "YiAPZK9caifA"
      },
      "execution_count": null,
      "outputs": []
    },
    {
      "cell_type": "markdown",
      "source": [
        "## <span style=\"color: #3498db;\">Padding Sequences</span>\n",
        "\n",
        "### <span style=\"color: #2ecc71;\">1. Determine Maximum Sequence Length</span>\n",
        "\n",
        "- **Calculate Maximum Length**: Identify the maximum length of the sequences in the dataset by evaluating the length of each sequence. This ensures that all sequences are padded to a uniform length.\n",
        "\n",
        "### <span style=\"color: #e74c3c;\">2. Pad Sequences</span>\n",
        "\n",
        "- **Uniform Length**: Use the `pad_sequences` function to pad sequences to the maximum length determined in the previous step. Padding is applied to ensure that all sequences have the same length, which is crucial for training models that require fixed-size inputs.\n",
        "- **Padding Strategy**: Apply padding at the end of sequences (`padding='post'`) to maintain the sequence structure and consistency.\n",
        "\n",
        "### <span style=\"color: #9b59b6;\">3. Plot Sequence Length Distribution</span>\n",
        "\n",
        "- **Visualize Lengths**: Plot a histogram of the lengths of padded sequences to visualize the distribution and verify the effectiveness of the padding process."
      ],
      "metadata": {
        "id": "upDNN_tUait0"
      }
    },
    {
      "cell_type": "code",
      "source": [
        "# Padding sequences"
      ],
      "metadata": {
        "id": "q-ISGz3mZpeE"
      },
      "execution_count": null,
      "outputs": []
    },
    {
      "cell_type": "code",
      "source": [
        "max_sequence_len = max([len(x) for x in tokenized_dialogues])  # Determine the maximum sequence length\n"
      ],
      "metadata": {
        "id": "hZJBuSsZZpgf"
      },
      "execution_count": null,
      "outputs": []
    },
    {
      "cell_type": "code",
      "source": [
        "input_sequences = pad_sequences(tokenized_dialogues, maxlen=max_sequence_len, padding='post')  # Pad sequences to ensure uniform length\n"
      ],
      "metadata": {
        "id": "saGLIA1AZ5g6"
      },
      "execution_count": null,
      "outputs": []
    },
    {
      "cell_type": "code",
      "source": [],
      "metadata": {
        "id": "IN9w0Y7kZ8ia"
      },
      "execution_count": null,
      "outputs": []
    },
    {
      "cell_type": "code",
      "source": [],
      "metadata": {
        "id": "KeiCDbqYZ8lR"
      },
      "execution_count": null,
      "outputs": []
    },
    {
      "cell_type": "code",
      "source": [
        "# Plot the distribution of sequence lengths"
      ],
      "metadata": {
        "id": "y1mcwcV1Z8qJ"
      },
      "execution_count": null,
      "outputs": []
    },
    {
      "cell_type": "code",
      "source": [
        "plt.figure(figsize=(10, 6))  # Set the figure size for the plot\n",
        "sns.histplot([len(seq) for seq in tokenized_dialogues], bins=50, kde=True)  # Plot distribution of sequence lengths\n",
        "plt.title('Distribution of Sequence Lengths')  # Set the title of the plot\n",
        "plt.xlabel('Sequence Length')  # Set the x-axis label\n",
        "plt.ylabel('Frequency')  # Set the y-axis label\n",
        "plt.show()  # Display the plot"
      ],
      "metadata": {
        "colab": {
          "base_uri": "https://localhost:8080/",
          "height": 543
        },
        "id": "xomzI7AuZ8tX",
        "outputId": "238a6000-46f1-4e14-cefb-afeedb17dbd5"
      },
      "execution_count": null,
      "outputs": [
        {
          "output_type": "display_data",
          "data": {
            "text/plain": [
              "<Figure size 1000x600 with 1 Axes>"
            ],
            "image/png": "[encoded data removed]"
          },
          "metadata": {}
        }
      ]
    },
    {
      "cell_type": "code",
      "source": [],
      "metadata": {
        "id": "lreTct4fZ8vu"
      },
      "execution_count": null,
      "outputs": []
    },
    {
      "cell_type": "code",
      "source": [],
      "metadata": {
        "id": "uf2AYIeoZ8zz"
      },
      "execution_count": null,
      "outputs": []
    },
    {
      "cell_type": "code",
      "source": [
        "# Prepare target sequences (shift input sequences by one timestep)"
      ],
      "metadata": {
        "id": "6N5AHzohZ5j1"
      },
      "execution_count": null,
      "outputs": []
    },
    {
      "cell_type": "code",
      "source": [
        "target_sequences = np.roll(input_sequences, shift=-1, axis=1)  # Shift sequences by one timestep"
      ],
      "metadata": {
        "id": "2D_peBc0Z5ol"
      },
      "execution_count": null,
      "outputs": []
    },
    {
      "cell_type": "code",
      "source": [
        "target_sequences[-1, -1] = 0  # Set the last token to 0 as it's not valid"
      ],
      "metadata": {
        "id": "K0AEh4iuZ5vC"
      },
      "execution_count": null,
      "outputs": []
    },
    {
      "cell_type": "code",
      "source": [],
      "metadata": {
        "id": "0MN0jiYiaIWV"
      },
      "execution_count": null,
      "outputs": []
    },
    {
      "cell_type": "code",
      "source": [],
      "metadata": {
        "id": "TdBUXIJ_aIZW"
      },
      "execution_count": null,
      "outputs": []
    },
    {
      "cell_type": "code",
      "source": [],
      "metadata": {
        "id": "2QPFHmqJanzE"
      },
      "execution_count": null,
      "outputs": []
    },
    {
      "cell_type": "markdown",
      "source": [
        "## <span style=\"color: #3498db;\">Model Architecture</span>\n",
        "\n",
        "### <span style=\"color: #2ecc71;\">1. Encoder</span>\n",
        "\n",
        "- **Inputs**: Define the input layer for the encoder. This layer accepts sequences of varying lengths.\n",
        "- **Embedding Layer**: Apply an `Embedding` layer to convert integer-encoded sequences into dense vectors of fixed size.\n",
        "- **LSTM Layer**: Use an `LSTM` layer to process the embedded sequences and generate the internal state vectors. The LSTM layer captures temporal dependencies in the sequences.\n",
        "\n",
        "### <span style=\"color: #e74c3c;\">2. Decoder</span>\n",
        "\n",
        "- **Inputs**: Define the input layer for the decoder, which will take sequences as input during training and inference.\n",
        "- **Embedding Layer**: Apply an `Embedding` layer to the decoder inputs to transform them into dense vectors.\n",
        "- **LSTM Layer**: Use an `LSTM` layer in the decoder to handle the sequence generation, utilizing the states from the encoder to produce the output sequences.\n",
        "- **Dense Layer**: Apply a `Dense` layer with a softmax activation function to generate probability distributions over the vocabulary for each token in the sequence.\n",
        "\n",
        "### <span style=\"color: #9b59b6;\">3. Model Definition</span>\n",
        "\n",
        "- **Model Creation**: Define the `Model` by combining the encoder and decoder components, specifying the inputs and outputs.\n",
        "- **Compilation**: Compile the model using an optimizer (`rmsprop`) and a loss function (`categorical_crossentropy`), setting the metrics for evaluation (`accuracy`)."
      ],
      "metadata": {
        "id": "pZGdXr-IaoF8"
      }
    },
    {
      "cell_type": "code",
      "source": [
        "# Encoder"
      ],
      "metadata": {
        "id": "Sl5pmX8saIcA"
      },
      "execution_count": null,
      "outputs": []
    },
    {
      "cell_type": "code",
      "source": [
        "latent_dim = 64  # Reduce dimensionality for LSTM"
      ],
      "metadata": {
        "id": "NORiDdSnaIgd"
      },
      "execution_count": null,
      "outputs": []
    },
    {
      "cell_type": "code",
      "source": [
        "encoder_inputs = Input(shape=(None,))  # Define input layer for encoder"
      ],
      "metadata": {
        "id": "ibuqd5_KaInr"
      },
      "execution_count": null,
      "outputs": []
    },
    {
      "cell_type": "code",
      "source": [
        "enc_emb = Embedding(num_tokens, latent_dim, mask_zero=True)(encoder_inputs)  # Embedding layer for encoder\n"
      ],
      "metadata": {
        "id": "sVpuBn8DaIrE"
      },
      "execution_count": null,
      "outputs": []
    },
    {
      "cell_type": "code",
      "source": [
        "encoder_lstm = LSTM(latent_dim, return_state=True)  # Define LSTM layer for encoder"
      ],
      "metadata": {
        "id": "rD0AQuiaaSvC"
      },
      "execution_count": null,
      "outputs": []
    },
    {
      "cell_type": "code",
      "source": [
        "encoder_outputs, state_h, state_c = encoder_lstm(enc_emb)  # Get encoder outputs and states"
      ],
      "metadata": {
        "id": "JboDzgsOaSyT"
      },
      "execution_count": null,
      "outputs": []
    },
    {
      "cell_type": "code",
      "source": [
        "encoder_states = [state_h, state_c]  # Store encoder states"
      ],
      "metadata": {
        "id": "Y2X8ecuTaS1c"
      },
      "execution_count": null,
      "outputs": []
    },
    {
      "cell_type": "code",
      "source": [],
      "metadata": {
        "id": "JTWBge-FaaGP"
      },
      "execution_count": null,
      "outputs": []
    },
    {
      "cell_type": "code",
      "source": [],
      "metadata": {
        "id": "AH7N6DGMaaJZ"
      },
      "execution_count": null,
      "outputs": []
    },
    {
      "cell_type": "code",
      "source": [
        "# Decoder"
      ],
      "metadata": {
        "id": "XH7EL4xWaaMM"
      },
      "execution_count": null,
      "outputs": []
    },
    {
      "cell_type": "code",
      "source": [
        "decoder_inputs = Input(shape=(None,))  # Define input layer for decoder"
      ],
      "metadata": {
        "id": "PjyvS75daaOm"
      },
      "execution_count": null,
      "outputs": []
    },
    {
      "cell_type": "code",
      "source": [
        "dec_emb_layer = Embedding(num_tokens, latent_dim, mask_zero=True)  # Embedding layer for decoder"
      ],
      "metadata": {
        "id": "1FZLR9PaaaRb"
      },
      "execution_count": null,
      "outputs": []
    },
    {
      "cell_type": "code",
      "source": [
        "dec_emb = dec_emb_layer(decoder_inputs)  # Apply embedding layer to decoder inputs"
      ],
      "metadata": {
        "id": "a0afus9eaaUO"
      },
      "execution_count": null,
      "outputs": []
    },
    {
      "cell_type": "code",
      "source": [
        "decoder_lstm = LSTM(latent_dim, return_sequences=True, return_state=True)  # Define LSTM layer for decoder\n"
      ],
      "metadata": {
        "id": "t4YQ2NcfaS33"
      },
      "execution_count": null,
      "outputs": []
    },
    {
      "cell_type": "code",
      "source": [
        "decoder_outputs, _, _ = decoder_lstm(dec_emb, initial_state=encoder_states)  # Get decoder outputs and states\n"
      ],
      "metadata": {
        "id": "zt_RbSi2aS7e"
      },
      "execution_count": null,
      "outputs": []
    },
    {
      "cell_type": "code",
      "source": [
        "decoder_dense = Dense(num_tokens, activation='softmax')  # Dense layer for output"
      ],
      "metadata": {
        "id": "oQRCssAsanCb"
      },
      "execution_count": null,
      "outputs": []
    },
    {
      "cell_type": "code",
      "source": [
        "decoder_outputs = decoder_dense(decoder_outputs)  # Apply dense layer to decoder outputs"
      ],
      "metadata": {
        "id": "D7b34zkLanFh"
      },
      "execution_count": null,
      "outputs": []
    },
    {
      "cell_type": "code",
      "source": [],
      "metadata": {
        "id": "wq3g1su1anN7"
      },
      "execution_count": null,
      "outputs": []
    },
    {
      "cell_type": "code",
      "source": [],
      "metadata": {
        "id": "LUxClKlmanQy"
      },
      "execution_count": null,
      "outputs": []
    },
    {
      "cell_type": "code",
      "source": [
        "# Define the model"
      ],
      "metadata": {
        "id": "7ccfrPfBanU5"
      },
      "execution_count": null,
      "outputs": []
    },
    {
      "cell_type": "code",
      "source": [
        "model = Model([encoder_inputs, decoder_inputs], decoder_outputs)  # Build the model"
      ],
      "metadata": {
        "id": "FHVLO8SSanX7"
      },
      "execution_count": null,
      "outputs": []
    },
    {
      "cell_type": "code",
      "source": [],
      "metadata": {
        "id": "LmBvw5Hlav3q"
      },
      "execution_count": null,
      "outputs": []
    },
    {
      "cell_type": "code",
      "source": [],
      "metadata": {
        "id": "AeH9GXGWa0oD"
      },
      "execution_count": null,
      "outputs": []
    },
    {
      "cell_type": "code",
      "source": [
        "# Compile the model"
      ],
      "metadata": {
        "id": "4peR-9LGav6r"
      },
      "execution_count": null,
      "outputs": []
    },
    {
      "cell_type": "code",
      "source": [
        "model.compile(optimizer='rmsprop', loss='categorical_crossentropy', metrics=['accuracy'])  # Compile the model with optimizer and loss function\n"
      ],
      "metadata": {
        "id": "g_fFl0zHav_S"
      },
      "execution_count": null,
      "outputs": []
    },
    {
      "cell_type": "code",
      "source": [],
      "metadata": {
        "id": "1fgWP5n0awDp"
      },
      "execution_count": null,
      "outputs": []
    },
    {
      "cell_type": "code",
      "source": [],
      "metadata": {
        "id": "zm1d69q5awGT"
      },
      "execution_count": null,
      "outputs": []
    },
    {
      "cell_type": "code",
      "source": [],
      "metadata": {
        "id": "yaoT5sOnbD7f"
      },
      "execution_count": null,
      "outputs": []
    },
    {
      "cell_type": "markdown",
      "source": [
        "## <span style=\"color: #3498db;\">Training Visualization</span>\n",
        "\n",
        "### <span style=\"color: #2ecc71;\">1. Training and Validation Loss</span>\n",
        "\n",
        "- **Plotting Loss**: Create a plot to visualize the training and validation loss over epochs. This helps in understanding how well the model is learning and whether it's overfitting or underfitting.\n",
        "- **Graph Details**:\n",
        "  - **X-Axis**: Epochs, representing the number of training iterations.\n",
        "  - **Y-Axis**: Loss, indicating the performance of the model on the training and validation datasets.\n",
        "  - **Training Loss Curve**: Represents the loss on the training dataset.\n",
        "  - **Validation Loss Curve**: Represents the loss on the validation dataset.\n",
        "- **Insights**: Examine the curves to assess the model's learning progress. A decreasing loss indicates effective training, while a diverging validation loss might suggest overfitting.\n",
        "\n",
        "### <span style=\"color: #e74c3c;\">2. Visualization Details</span>\n",
        "\n",
        "- **Figure Size**: Set a figure size (e.g., `12x6`) for clear visibility.\n",
        "- **Plot Labels**: Add appropriate labels for the x-axis, y-axis, and title.\n",
        "- **Legend**: Include a legend to distinguish between training and validation loss curves.\n",
        "- **Display**: Use `plt.show()` to render the plot for visual inspection."
      ],
      "metadata": {
        "id": "eUQI5odmbEKl"
      }
    },
    {
      "cell_type": "code",
      "source": [
        "# Train the model"
      ],
      "metadata": {
        "id": "9AVUUcUCawJ-"
      },
      "execution_count": null,
      "outputs": []
    },
    {
      "cell_type": "code",
      "source": [
        "history = model.fit([input_sequences, input_sequences], target_sequences_one_hot,\n",
        "                    batch_size=16, epochs=3, validation_split=0.2)  # Adjusted parameters\n"
      ],
      "metadata": {
        "colab": {
          "base_uri": "https://localhost:8080/"
        },
        "id": "HRZ8gy0fawMi",
        "outputId": "fb5710c1-32d6-422f-a4be-3e0257fe2411"
      },
      "execution_count": null,
      "outputs": [
        {
          "output_type": "stream",
          "name": "stdout",
          "text": [
            "Epoch 1/3\n",
            "\u001b[1m50/50\u001b[0m \u001b[32m━━━━━━━━━━━━━━━━━━━━\u001b[0m\u001b[37m\u001b[0m \u001b[1m5s\u001b[0m 97ms/step - accuracy: 0.8439 - loss: 5.7425 - val_accuracy: 0.8310 - val_loss: 5.9372\n",
            "Epoch 2/3\n",
            "\u001b[1m50/50\u001b[0m \u001b[32m━━━━━━━━━━━━━━━━━━━━\u001b[0m\u001b[37m\u001b[0m \u001b[1m7s\u001b[0m 144ms/step - accuracy: 0.8482 - loss: 5.6914 - val_accuracy: 0.8310 - val_loss: 5.8971\n",
            "Epoch 3/3\n",
            "\u001b[1m50/50\u001b[0m \u001b[32m━━━━━━━━━━━━━━━━━━━━\u001b[0m\u001b[37m\u001b[0m \u001b[1m8s\u001b[0m 96ms/step - accuracy: 0.8502 - loss: 5.6140 - val_accuracy: 0.8310 - val_loss: 5.8587\n"
          ]
        }
      ]
    },
    {
      "cell_type": "code",
      "source": [],
      "metadata": {
        "id": "_HRZ59zhbhnd"
      },
      "execution_count": null,
      "outputs": []
    },
    {
      "cell_type": "code",
      "source": [],
      "metadata": {
        "id": "R9oVhrepbhqb"
      },
      "execution_count": null,
      "outputs": []
    },
    {
      "cell_type": "code",
      "source": [
        "# Plot training & validation loss"
      ],
      "metadata": {
        "id": "DX9JG35BbhyZ"
      },
      "execution_count": null,
      "outputs": []
    },
    {
      "cell_type": "code",
      "source": [
        "plt.figure(figsize=(12, 6))  # Set the figure size for the plot\n",
        "plt.plot(history.history['loss'], label='Training Loss')  # Plot training loss\n",
        "plt.plot(history.history['val_loss'], label='Validation Loss')  # Plot validation loss\n",
        "plt.title('Model Loss')  # Set the title of the plot\n",
        "plt.xlabel('Epoch')  # Set the x-axis label\n",
        "plt.ylabel('Loss')  # Set the y-axis label\n",
        "plt.legend()  # Show legend\n",
        "plt.show()  # Display the plot"
      ],
      "metadata": {
        "colab": {
          "base_uri": "https://localhost:8080/",
          "height": 460
        },
        "id": "mnYt0UFGbh0t",
        "outputId": "694de01c-4d01-4c17-fb4b-7c61e0000745"
      },
      "execution_count": null,
      "outputs": [
        {
          "output_type": "display_data",
          "data": {
            "text/plain": [
              "<Figure size 1200x600 with 1 Axes>"
            ],
            "image/png": "[encoded data removed]"
          },
          "metadata": {}
        }
      ]
    },
    {
      "cell_type": "code",
      "source": [],
      "metadata": {
        "id": "3Bac_TqfcpGJ"
      },
      "execution_count": null,
      "outputs": []
    },
    {
      "cell_type": "code",
      "source": [],
      "metadata": {
        "id": "Tenevpd-cpJY"
      },
      "execution_count": null,
      "outputs": []
    },
    {
      "cell_type": "code",
      "source": [],
      "metadata": {
        "id": "NDLyldBKcpMr"
      },
      "execution_count": null,
      "outputs": []
    },
    {
      "cell_type": "markdown",
      "source": [
        "## <span style=\"color: #3498db;\">Inference Models</span>\n",
        "\n",
        "### <span style=\"color: #2ecc71;\">1. Encoder Model</span>\n",
        "\n",
        "- **Purpose**: Encodes the input sequences into a fixed-size context vector, which captures the relevant information needed for decoding.\n",
        "- **Architecture**:\n",
        "  - **Input Layer**: Receives the sequence of integers representing the input dialogue.\n",
        "  - **Embedding Layer**: Converts input integers into dense vectors of fixed size.\n",
        "  - **LSTM Layer**: Processes the embedded input sequences and outputs hidden states and cell states.\n",
        "  - **Output**: Encoder states (hidden and cell) are used as initial states for the decoder.\n",
        "\n",
        "### <span style=\"color: #e74c3c;\">2. Decoder Model</span>\n",
        "\n",
        "- **Purpose**: Generates sequences based on the context vector provided by the encoder.\n",
        "- **Architecture**:\n",
        "  - **Input Layer**: Receives the sequence of integers representing the decoder inputs.\n",
        "  - **Embedding Layer**: Converts input integers into dense vectors of fixed size.\n",
        "  - **LSTM Layer**: Processes the embedded decoder inputs along with the encoder states and outputs predictions and updated states.\n",
        "  - **Dense Layer**: Produces probabilities for each token in the vocabulary for each timestep in the sequence.\n",
        "- **Output**: Generates sequences of tokens, which are the model's predictions.\n",
        "\n",
        "### <span style=\"color: #f39c12;\">3. Model Integration</span>\n",
        "\n",
        "- **Inference Models**:\n",
        "  - **Encoder Model**: Used to encode input sequences into context vectors.\n",
        "  - **Decoder Model**: Used to generate sequences based on the encoded context vector.\n",
        "  - **Input**: The decoder takes initial tokens and the encoder states to generate the output sequence.\n",
        "\n",
        "### <span style=\"color: #e67e22;\">4. Sampling Function</span>\n",
        "\n",
        "- **Function**: `decode_sequence(input_seq)`\n",
        "  - **Purpose**: To generate a decoded sentence from an input sequence by sampling tokens.\n",
        "  - **Process**:\n",
        "    - Predict encoder states from the input sequence.\n",
        "    - Initialize the target sequence with the start token.\n",
        "    - Use the decoder model to generate tokens one-by-one until an end token is sampled or the maximum sequence length is reached.\n",
        "    - Construct the final decoded sentence from the sampled tokens."
      ],
      "metadata": {
        "id": "xH_6GQzHbLup"
      }
    },
    {
      "cell_type": "code",
      "source": [
        "# Define inference models for encoder and decoder"
      ],
      "metadata": {
        "id": "PfURMf-1bh3E"
      },
      "execution_count": null,
      "outputs": []
    },
    {
      "cell_type": "code",
      "source": [
        "encoder_model = Model(encoder_inputs, encoder_states)  # Build encoder model"
      ],
      "metadata": {
        "id": "6ZtnKkDLbh5b"
      },
      "execution_count": null,
      "outputs": []
    },
    {
      "cell_type": "code",
      "source": [
        "decoder_state_input_h = Input(shape=(latent_dim,))  # Define input for decoder hidden state"
      ],
      "metadata": {
        "id": "KiBgCIYBbuPX"
      },
      "execution_count": null,
      "outputs": []
    },
    {
      "cell_type": "code",
      "source": [
        "decoder_state_input_c = Input(shape=(latent_dim,))  # Define input for decoder cell state"
      ],
      "metadata": {
        "id": "dJy48OPpbuSj"
      },
      "execution_count": null,
      "outputs": []
    },
    {
      "cell_type": "code",
      "source": [
        "decoder_states_inputs = [decoder_state_input_h, decoder_state_input_c]  # Define decoder states inputs\n"
      ],
      "metadata": {
        "id": "vNxuaw22buX9"
      },
      "execution_count": null,
      "outputs": []
    },
    {
      "cell_type": "code",
      "source": [
        "dec_emb2 = dec_emb_layer(decoder_inputs)  # Apply embedding layer to decoder inputs"
      ],
      "metadata": {
        "id": "N_VHafTsbubE"
      },
      "execution_count": null,
      "outputs": []
    },
    {
      "cell_type": "code",
      "source": [
        "decoder_outputs2, state_h2, state_c2 = decoder_lstm(dec_emb2, initial_state=decoder_states_inputs)  # Get decoder outputs and states\n"
      ],
      "metadata": {
        "id": "3Z6g80iybh73"
      },
      "execution_count": null,
      "outputs": []
    },
    {
      "cell_type": "code",
      "source": [
        "decoder_states2 = [state_h2, state_c2]  # Store decoder states"
      ],
      "metadata": {
        "id": "s8HPr1xgbh-6"
      },
      "execution_count": null,
      "outputs": []
    },
    {
      "cell_type": "code",
      "source": [
        "decoder_outputs2 = decoder_dense(decoder_outputs2)  # Apply dense layer to decoder outputs"
      ],
      "metadata": {
        "id": "VhMatzngc3VD"
      },
      "execution_count": null,
      "outputs": []
    },
    {
      "cell_type": "code",
      "source": [
        "decoder_model = Model([decoder_inputs] + decoder_states_inputs, [decoder_outputs2] + decoder_states2)  # Build decoder inference model\n"
      ],
      "metadata": {
        "id": "fbtWt_2Yc3Yp"
      },
      "execution_count": null,
      "outputs": []
    },
    {
      "cell_type": "code",
      "source": [],
      "metadata": {
        "id": "NJvwqG00c3a9"
      },
      "execution_count": null,
      "outputs": []
    },
    {
      "cell_type": "code",
      "source": [],
      "metadata": {
        "id": "ih3yNYWec3dk"
      },
      "execution_count": null,
      "outputs": []
    },
    {
      "cell_type": "code",
      "source": [],
      "metadata": {
        "id": "MCSL9THHbSxs"
      },
      "execution_count": null,
      "outputs": []
    },
    {
      "cell_type": "markdown",
      "source": [
        "## <span style=\"color: #3498db;\">Decoding Function</span>\n",
        "\n",
        "### <span style=\"color: #2ecc71;\">1. Purpose</span>\n",
        "\n",
        "- **Objective**: To convert model-generated token sequences into human-readable text.\n",
        "- **Functionality**: Takes the output sequences from the decoder model and maps them back to words or tokens.\n",
        "\n",
        "### <span style=\"color: #e74c3c;\">2. Implementation Details</span>\n",
        "\n",
        "- **Function**: `decode_sequence(input_seq)`\n",
        "  - **Input**: Encoded input sequence.\n",
        "  - **Process**:\n",
        "    - **Encoder Processing**:\n",
        "      - Encode the input sequence to obtain context vectors.\n",
        "    - **Initialization**:\n",
        "      - Start with an initial token (e.g., start token) for the decoder.\n",
        "      - Use encoder outputs as initial states for the decoder.\n",
        "    - **Decoding Loop**:\n",
        "      - Predict the next token in the sequence using the decoder.\n",
        "      - Append the predicted token to the sequence.\n",
        "      - Update the decoder's internal states.\n",
        "      - Repeat until an end token is generated or the maximum sequence length is reached.\n",
        "    - **Post-Processing**:\n",
        "      - Convert the sequence of tokens into text using a reverse mapping (e.g., token-to-word dictionary).\n",
        "  - **Output**: Generated sequence of tokens converted into a readable string.\n",
        "\n",
        "### <span style=\"color: #f39c12;\">3. Example Usage</span>\n",
        "\n",
        "- **Scenario**: Given an input sequence, use the `decode_sequence` function to obtain the decoded output.\n",
        "  - **Input**: An encoded sequence from the encoder model.\n",
        "  - **Output**: A decoded sentence representing the model's prediction.\n",
        "\n",
        "### <span style=\"color: #e67e22;\">4. Notes</span>\n",
        "\n",
        "- Ensure the start token and end token are properly defined and managed during decoding.\n",
        "- Handle the maximum sequence length to avoid excessively long output sequences.\n",
        "- Implement mechanisms to handle special cases, such as unknown or out-of-vocabulary tokens."
      ],
      "metadata": {
        "id": "dxYyV2AYbS7e"
      }
    },
    {
      "cell_type": "code",
      "source": [
        "# Sampling function"
      ],
      "metadata": {
        "id": "wY8eCgW4c3gJ"
      },
      "execution_count": null,
      "outputs": []
    },
    {
      "cell_type": "code",
      "source": [
        "def decode_sequence(input_seq):\n",
        "    states_value = encoder_model.predict(input_seq)  # Predict encoder states\n",
        "    target_seq = np.zeros((1, 1))  # Initialize target sequence\n",
        "    start_token = tokenizer.word_index.get('startseq', 0)  # Get start token index or use 0 if not found\n",
        "    target_seq[0, 0] = start_token  # Set start token\n",
        "\n",
        "    stop_condition = False  # Initialize stop condition\n",
        "    decoded_sentence = ''  # Initialize decoded sentence\n",
        "\n",
        "    while not stop_condition:\n",
        "        output_tokens, h, c = decoder_model.predict([target_seq] + states_value)  # Predict decoder outputs and states\n",
        "        sampled_token_index = np.argmax(output_tokens[0, -1, :])  # Get the most likely token\n",
        "        sampled_char = tokenizer.index_word.get(sampled_token_index, '')  # Convert token to character\n",
        "        decoded_sentence += ' ' + sampled_char  # Append character to the decoded sentence\n",
        "\n",
        "        if sampled_char == 'endseq' or len(decoded_sentence) > max_sequence_len:  # Check stop condition\n",
        "            stop_condition = True\n",
        "\n",
        "        target_seq = np.zeros((1, 1))  # Update target sequence\n",
        "        target_seq[0, 0] = sampled_token_index  # Set next token\n",
        "\n",
        "    return decoded_sentence.strip()  # Return the decoded sentence\n"
      ],
      "metadata": {
        "id": "cc2FTYrpc3ip"
      },
      "execution_count": null,
      "outputs": []
    },
    {
      "cell_type": "code",
      "source": [],
      "metadata": {
        "id": "03xfRgCxdDlz"
      },
      "execution_count": null,
      "outputs": []
    },
    {
      "cell_type": "code",
      "source": [],
      "metadata": {
        "id": "wX6KX4SadDpP"
      },
      "execution_count": null,
      "outputs": []
    },
    {
      "cell_type": "code",
      "source": [],
      "metadata": {
        "id": "AWJeFc90bXw9"
      },
      "execution_count": null,
      "outputs": []
    },
    {
      "cell_type": "markdown",
      "source": [
        "## <span style=\"color: #3498db;\">Model Testing</span>\n",
        "\n",
        "### <span style=\"color: #2ecc71;\">1. Purpose</span>\n",
        "\n",
        "- **Objective**: To evaluate the performance of the trained model on sample inputs.\n",
        "- **Functionality**: Tests the model's ability to generate accurate and coherent outputs based on given input sequences.\n",
        "\n",
        "### <span style=\"color: #e74c3c;\">2. Implementation Details</span>\n",
        "\n",
        "- **Process**:\n",
        "  - **Sample Input Selection**:\n",
        "    - Choose a sample input sequence from the dataset for testing.\n",
        "  - **Decoding**:\n",
        "    - Use the `decode_sequence` function to generate a human-readable output from the sample input.\n",
        "  - **Evaluation**:\n",
        "    - Assess the quality of the generated output to determine if it aligns with expected results or makes sense in context.\n",
        "  - **Output Display**:\n",
        "    - Print or visualize the decoded sentence to verify the model's performance.\n",
        "\n",
        "### <span style=\"color: #f39c12;\">3. Example Usage</span>\n",
        "\n",
        "- **Scenario**: Given a sample input sequence, use the model to decode and generate a prediction.\n",
        "  - **Input**: A pre-processed input sequence from the dataset.\n",
        "  - **Output**: The decoded sentence or sequence produced by the model.\n",
        "\n",
        "### <span style=\"color: #e67e22;\">4. Notes</span>\n",
        "\n",
        "- Test with various samples to ensure the model performs well across different scenarios.\n",
        "- Validate the model's ability to handle edge cases and generate coherent responses.\n",
        "- Consider using metrics such as BLEU score or human evaluation for a more comprehensive assessment of model performance."
      ],
      "metadata": {
        "id": "tFTcnt_ibYH_"
      }
    },
    {
      "cell_type": "code",
      "source": [
        "# Test the model with a sample input"
      ],
      "metadata": {
        "id": "cpmpGyhUc3k2"
      },
      "execution_count": null,
      "outputs": []
    },
    {
      "cell_type": "code",
      "source": [
        "test_input = input_sequences[0:1]  # Sample input for testing"
      ],
      "metadata": {
        "id": "sZQE9P_TdH7D"
      },
      "execution_count": null,
      "outputs": []
    },
    {
      "cell_type": "code",
      "source": [
        "decoded_sentence = decode_sequence(test_input)  # Decode the input sequence"
      ],
      "metadata": {
        "colab": {
          "base_uri": "https://localhost:8080/"
        },
        "id": "dyg8cNlvdH-v",
        "outputId": "e52df38f-7d13-43d3-8efc-e5f66d1085dd"
      },
      "execution_count": null,
      "outputs": [
        {
          "output_type": "stream",
          "name": "stdout",
          "text": [
            "\u001b[1m1/1\u001b[0m \u001b[32m━━━━━━━━━━━━━━━━━━━━\u001b[0m\u001b[37m\u001b[0m \u001b[1m0s\u001b[0m 53ms/step\n",
            "\u001b[1m1/1\u001b[0m \u001b[32m━━━━━━━━━━━━━━━━━━━━\u001b[0m\u001b[37m\u001b[0m \u001b[1m0s\u001b[0m 57ms/step\n",
            "\u001b[1m1/1\u001b[0m \u001b[32m━━━━━━━━━━━━━━━━━━━━\u001b[0m\u001b[37m\u001b[0m \u001b[1m0s\u001b[0m 57ms/step\n",
            "\u001b[1m1/1\u001b[0m \u001b[32m━━━━━━━━━━━━━━━━━━━━\u001b[0m\u001b[37m\u001b[0m \u001b[1m0s\u001b[0m 38ms/step\n",
            "\u001b[1m1/1\u001b[0m \u001b[32m━━━━━━━━━━━━━━━━━━━━\u001b[0m\u001b[37m\u001b[0m \u001b[1m0s\u001b[0m 40ms/step\n",
            "\u001b[1m1/1\u001b[0m \u001b[32m━━━━━━━━━━━━━━━━━━━━\u001b[0m\u001b[37m\u001b[0m \u001b[1m0s\u001b[0m 39ms/step\n",
            "\u001b[1m1/1\u001b[0m \u001b[32m━━━━━━━━━━━━━━━━━━━━\u001b[0m\u001b[37m\u001b[0m \u001b[1m0s\u001b[0m 26ms/step\n",
            "\u001b[1m1/1\u001b[0m \u001b[32m━━━━━━━━━━━━━━━━━━━━\u001b[0m\u001b[37m\u001b[0m \u001b[1m0s\u001b[0m 25ms/step\n",
            "\u001b[1m1/1\u001b[0m \u001b[32m━━━━━━━━━━━━━━━━━━━━\u001b[0m\u001b[37m\u001b[0m \u001b[1m0s\u001b[0m 25ms/step\n",
            "\u001b[1m1/1\u001b[0m \u001b[32m━━━━━━━━━━━━━━━━━━━━\u001b[0m\u001b[37m\u001b[0m \u001b[1m0s\u001b[0m 23ms/step\n",
            "\u001b[1m1/1\u001b[0m \u001b[32m━━━━━━━━━━━━━━━━━━━━\u001b[0m\u001b[37m\u001b[0m \u001b[1m0s\u001b[0m 32ms/step\n",
            "\u001b[1m1/1\u001b[0m \u001b[32m━━━━━━━━━━━━━━━━━━━━\u001b[0m\u001b[37m\u001b[0m \u001b[1m0s\u001b[0m 25ms/step\n",
            "\u001b[1m1/1\u001b[0m \u001b[32m━━━━━━━━━━━━━━━━━━━━\u001b[0m\u001b[37m\u001b[0m \u001b[1m0s\u001b[0m 26ms/step\n",
            "\u001b[1m1/1\u001b[0m \u001b[32m━━━━━━━━━━━━━━━━━━━━\u001b[0m\u001b[37m\u001b[0m \u001b[1m0s\u001b[0m 37ms/step\n",
            "\u001b[1m1/1\u001b[0m \u001b[32m━━━━━━━━━━━━━━━━━━━━\u001b[0m\u001b[37m\u001b[0m \u001b[1m0s\u001b[0m 27ms/step\n",
            "\u001b[1m1/1\u001b[0m \u001b[32m━━━━━━━━━━━━━━━━━━━━\u001b[0m\u001b[37m\u001b[0m \u001b[1m0s\u001b[0m 31ms/step\n",
            "\u001b[1m1/1\u001b[0m \u001b[32m━━━━━━━━━━━━━━━━━━━━\u001b[0m\u001b[37m\u001b[0m \u001b[1m0s\u001b[0m 28ms/step\n",
            "\u001b[1m1/1\u001b[0m \u001b[32m━━━━━━━━━━━━━━━━━━━━\u001b[0m\u001b[37m\u001b[0m \u001b[1m0s\u001b[0m 27ms/step\n",
            "\u001b[1m1/1\u001b[0m \u001b[32m━━━━━━━━━━━━━━━━━━━━\u001b[0m\u001b[37m\u001b[0m \u001b[1m0s\u001b[0m 27ms/step\n",
            "\u001b[1m1/1\u001b[0m \u001b[32m━━━━━━━━━━━━━━━━━━━━\u001b[0m\u001b[37m\u001b[0m \u001b[1m0s\u001b[0m 27ms/step\n",
            "\u001b[1m1/1\u001b[0m \u001b[32m━━━━━━━━━━━━━━━━━━━━\u001b[0m\u001b[37m\u001b[0m \u001b[1m0s\u001b[0m 32ms/step\n",
            "\u001b[1m1/1\u001b[0m \u001b[32m━━━━━━━━━━━━━━━━━━━━\u001b[0m\u001b[37m\u001b[0m \u001b[1m0s\u001b[0m 28ms/step\n",
            "\u001b[1m1/1\u001b[0m \u001b[32m━━━━━━━━━━━━━━━━━━━━\u001b[0m\u001b[37m\u001b[0m \u001b[1m0s\u001b[0m 39ms/step\n",
            "\u001b[1m1/1\u001b[0m \u001b[32m━━━━━━━━━━━━━━━━━━━━\u001b[0m\u001b[37m\u001b[0m \u001b[1m0s\u001b[0m 36ms/step\n",
            "\u001b[1m1/1\u001b[0m \u001b[32m━━━━━━━━━━━━━━━━━━━━\u001b[0m\u001b[37m\u001b[0m \u001b[1m0s\u001b[0m 37ms/step\n",
            "\u001b[1m1/1\u001b[0m \u001b[32m━━━━━━━━━━━━━━━━━━━━\u001b[0m\u001b[37m\u001b[0m \u001b[1m0s\u001b[0m 46ms/step\n",
            "\u001b[1m1/1\u001b[0m \u001b[32m━━━━━━━━━━━━━━━━━━━━\u001b[0m\u001b[37m\u001b[0m \u001b[1m0s\u001b[0m 96ms/step\n",
            "\u001b[1m1/1\u001b[0m \u001b[32m━━━━━━━━━━━━━━━━━━━━\u001b[0m\u001b[37m\u001b[0m \u001b[1m0s\u001b[0m 47ms/step\n",
            "\u001b[1m1/1\u001b[0m \u001b[32m━━━━━━━━━━━━━━━━━━━━\u001b[0m\u001b[37m\u001b[0m \u001b[1m0s\u001b[0m 46ms/step\n",
            "\u001b[1m1/1\u001b[0m \u001b[32m━━━━━━━━━━━━━━━━━━━━\u001b[0m\u001b[37m\u001b[0m \u001b[1m0s\u001b[0m 41ms/step\n",
            "\u001b[1m1/1\u001b[0m \u001b[32m━━━━━━━━━━━━━━━━━━━━\u001b[0m\u001b[37m\u001b[0m \u001b[1m0s\u001b[0m 41ms/step\n",
            "\u001b[1m1/1\u001b[0m \u001b[32m━━━━━━━━━━━━━━━━━━━━\u001b[0m\u001b[37m\u001b[0m \u001b[1m0s\u001b[0m 41ms/step\n",
            "\u001b[1m1/1\u001b[0m \u001b[32m━━━━━━━━━━━━━━━━━━━━\u001b[0m\u001b[37m\u001b[0m \u001b[1m0s\u001b[0m 26ms/step\n",
            "\u001b[1m1/1\u001b[0m \u001b[32m━━━━━━━━━━━━━━━━━━━━\u001b[0m\u001b[37m\u001b[0m \u001b[1m0s\u001b[0m 27ms/step\n",
            "\u001b[1m1/1\u001b[0m \u001b[32m━━━━━━━━━━━━━━━━━━━━\u001b[0m\u001b[37m\u001b[0m \u001b[1m0s\u001b[0m 23ms/step\n",
            "\u001b[1m1/1\u001b[0m \u001b[32m━━━━━━━━━━━━━━━━━━━━\u001b[0m\u001b[37m\u001b[0m \u001b[1m0s\u001b[0m 27ms/step\n",
            "\u001b[1m1/1\u001b[0m \u001b[32m━━━━━━━━━━━━━━━━━━━━\u001b[0m\u001b[37m\u001b[0m \u001b[1m0s\u001b[0m 23ms/step\n",
            "\u001b[1m1/1\u001b[0m \u001b[32m━━━━━━━━━━━━━━━━━━━━\u001b[0m\u001b[37m\u001b[0m \u001b[1m0s\u001b[0m 30ms/step\n",
            "\u001b[1m1/1\u001b[0m \u001b[32m━━━━━━━━━━━━━━━━━━━━\u001b[0m\u001b[37m\u001b[0m \u001b[1m0s\u001b[0m 26ms/step\n",
            "\u001b[1m1/1\u001b[0m \u001b[32m━━━━━━━━━━━━━━━━━━━━\u001b[0m\u001b[37m\u001b[0m \u001b[1m0s\u001b[0m 27ms/step\n",
            "\u001b[1m1/1\u001b[0m \u001b[32m━━━━━━━━━━━━━━━━━━━━\u001b[0m\u001b[37m\u001b[0m \u001b[1m0s\u001b[0m 30ms/step\n",
            "\u001b[1m1/1\u001b[0m \u001b[32m━━━━━━━━━━━━━━━━━━━━\u001b[0m\u001b[37m\u001b[0m \u001b[1m0s\u001b[0m 25ms/step\n",
            "\u001b[1m1/1\u001b[0m \u001b[32m━━━━━━━━━━━━━━━━━━━━\u001b[0m\u001b[37m\u001b[0m \u001b[1m0s\u001b[0m 27ms/step\n",
            "\u001b[1m1/1\u001b[0m \u001b[32m━━━━━━━━━━━━━━━━━━━━\u001b[0m\u001b[37m\u001b[0m \u001b[1m0s\u001b[0m 36ms/step\n",
            "\u001b[1m1/1\u001b[0m \u001b[32m━━━━━━━━━━━━━━━━━━━━\u001b[0m\u001b[37m\u001b[0m \u001b[1m0s\u001b[0m 24ms/step\n",
            "\u001b[1m1/1\u001b[0m \u001b[32m━━━━━━━━━━━━━━━━━━━━\u001b[0m\u001b[37m\u001b[0m \u001b[1m0s\u001b[0m 25ms/step\n",
            "\u001b[1m1/1\u001b[0m \u001b[32m━━━━━━━━━━━━━━━━━━━━\u001b[0m\u001b[37m\u001b[0m \u001b[1m0s\u001b[0m 26ms/step\n",
            "\u001b[1m1/1\u001b[0m \u001b[32m━━━━━━━━━━━━━━━━━━━━\u001b[0m\u001b[37m\u001b[0m \u001b[1m0s\u001b[0m 25ms/step\n",
            "\u001b[1m1/1\u001b[0m \u001b[32m━━━━━━━━━━━━━━━━━━━━\u001b[0m\u001b[37m\u001b[0m \u001b[1m0s\u001b[0m 23ms/step\n",
            "\u001b[1m1/1\u001b[0m \u001b[32m━━━━━━━━━━━━━━━━━━━━\u001b[0m\u001b[37m\u001b[0m \u001b[1m0s\u001b[0m 27ms/step\n",
            "\u001b[1m1/1\u001b[0m \u001b[32m━━━━━━━━━━━━━━━━━━━━\u001b[0m\u001b[37m\u001b[0m \u001b[1m0s\u001b[0m 27ms/step\n",
            "\u001b[1m1/1\u001b[0m \u001b[32m━━━━━━━━━━━━━━━━━━━━\u001b[0m\u001b[37m\u001b[0m \u001b[1m0s\u001b[0m 28ms/step\n",
            "\u001b[1m1/1\u001b[0m \u001b[32m━━━━━━━━━━━━━━━━━━━━\u001b[0m\u001b[37m\u001b[0m \u001b[1m0s\u001b[0m 34ms/step\n",
            "\u001b[1m1/1\u001b[0m \u001b[32m━━━━━━━━━━━━━━━━━━━━\u001b[0m\u001b[37m\u001b[0m \u001b[1m0s\u001b[0m 26ms/step\n",
            "\u001b[1m1/1\u001b[0m \u001b[32m━━━━━━━━━━━━━━━━━━━━\u001b[0m\u001b[37m\u001b[0m \u001b[1m0s\u001b[0m 27ms/step\n"
          ]
        }
      ]
    },
    {
      "cell_type": "code",
      "source": [
        "print(f\"\\nDecoded sentence: {decoded_sentence}\")  # Print the decoded sentence"
      ],
      "metadata": {
        "colab": {
          "base_uri": "https://localhost:8080/"
        },
        "id": "sJIwL_DBdZpc",
        "outputId": "ded35928-87f0-475b-9f8a-0c26271bd2c3"
      },
      "execution_count": null,
      "outputs": [
        {
          "output_type": "stream",
          "name": "stdout",
          "text": [
            "\n",
            "Decoded sentence: \n"
          ]
        }
      ]
    },
    {
      "cell_type": "code",
      "source": [],
      "metadata": {
        "id": "dBjUBFh1dZsa"
      },
      "execution_count": null,
      "outputs": []
    },
    {
      "cell_type": "code",
      "source": [],
      "metadata": {
        "id": "cqMPwAQOeJPE"
      },
      "execution_count": null,
      "outputs": []
    },
    {
      "cell_type": "code",
      "source": [],
      "metadata": {
        "id": "0QzQgVJ5beJw"
      },
      "execution_count": null,
      "outputs": []
    },
    {
      "cell_type": "markdown",
      "source": [
        "## <span style=\"color: #3498db;\">Conclusions</span>\n",
        "\n",
        "### <span style=\"color: #2ecc71;\">1. Model Performance</span>\n",
        "\n",
        "- **Accuracy**: The model demonstrates its ability to effectively generate coherent and contextually relevant sequences based on input data.\n",
        "- **Training Results**: The training and validation loss curves show how well the model has learned from the data, with improvements in loss over epochs indicating successful training.\n",
        "\n",
        "### <span style=\"color: #e74c3c;\">2. Insights and Findings</span>\n",
        "\n",
        "- **Data Patterns**: Analyzing text lengths and word frequencies provided insights into the dataset's structure and content distribution.\n",
        "- **Tokenization Impact**: Tokenization and padding steps ensured that the model could handle varying lengths of input sequences, providing uniformity for the training process.\n",
        "\n",
        "### <span style=\"color: #f39c12;\">3. Model Limitations</span>\n",
        "\n",
        "- **Generalization**: The model's performance on unseen data or edge cases should be further evaluated to ensure it generalizes well beyond the training set.\n",
        "- **Data Quality**: The quality and variety of the input data can impact the model's ability to generate accurate outputs. Ensuring a diverse and representative dataset is crucial.\n",
        "\n",
        "### <span style=\"color: #e67e22;\">4. Future Work</span>\n",
        "\n",
        "- **Model Enhancements**: Explore additional architectures or fine-tuning techniques to improve the model's accuracy and generate more nuanced outputs.\n",
        "- **Data Augmentation**: Incorporate more diverse and extensive datasets to enhance the model's robustness and adaptability.\n",
        "- **Evaluation Metrics**: Implement advanced evaluation metrics and human evaluations to better assess the model's performance and ensure its effectiveness in real-world applications.\n",
        "\n",
        "### <span style=\"color: #16a085;\">5. Summary</span>\n",
        "\n",
        "- **Overall**, the project successfully built and trained a sequence-to-sequence model capable of generating meaningful outputs from input sequences. Further improvements and evaluations will enhance its applicability and performance."
      ],
      "metadata": {
        "id": "A65ZYzEObenQ"
      }
    }
  ]
}