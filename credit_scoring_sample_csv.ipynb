{
  "nbformat": 4,
  "nbformat_minor": 0,
  "metadata": {
    "colab": {
      "provenance": []
    },
    "kernelspec": {
      "name": "python3",
      "display_name": "Python 3"
    },
    "language_info": {
      "name": "python"
    }
  },
  "cells": [
    {
      "cell_type": "markdown",
      "source": [
        "# EXPLANATORY DATA ANALYSIS"
      ],
      "metadata": {
        "id": "RW22BRpzh82U"
      }
    },
    {
      "cell_type": "markdown",
      "source": [
        "# <span style=\"color:darkblue\">**EXPLORATORY DATA ANALYSIS ON CREDIT SCORING DATASET PROJECT OVERVIEW**</span>\n",
        "\n",
        "### <span style=\"color:blue\">**1. Project Introduction**</span>\n",
        "\n",
        "In this project, we conduct **Exploratory Data Analysis (EDA)** on a credit scoring dataset. The goal of EDA is to understand the underlying patterns, check for missing values, detect outliers, and visualize data distributions. This process helps in gaining insights that can be used for feature engineering and building predictive models.\n",
        "\n",
        "---\n",
        "\n",
        "### <span style=\"color:blue\">**2. Steps for Exploratory Data Analysis (EDA)**</span>\n",
        "\n",
        "#### <span style=\"color:mediumblue\">**2.1 Import Necessary Libraries**</span>\n",
        "We begin by importing essential Python libraries required for data manipulation, visualization, and numerical operations.\n",
        "\n",
        "---\n",
        "\n",
        "#### <span style=\"color:mediumblue\">**2.2 Load the Data**</span>\n",
        "The dataset is loaded into a pandas DataFrame. This allows us to efficiently manipulate and analyze the data.\n",
        "\n",
        "---\n",
        "\n",
        "#### <span style=\"color:mediumblue\">**2.3 Inspect the Data**</span>\n",
        "We use methods such as `.head()`, `.info()`, and `.describe()` to get a quick overview of the dataset, including:\n",
        "- **First few rows** for a sample view.\n",
        "- **Data types** and missing values.\n",
        "- **Summary statistics** for numerical columns.\n",
        "\n",
        "---\n",
        "\n",
        "#### <span style=\"color:mediumblue\">**2.4 Check for Missing Values**</span>\n",
        "We check for any missing values in the dataset using the `.isnull().sum()` function. Handling missing data is crucial for ensuring model accuracy.\n",
        "\n",
        "---\n",
        "\n",
        "#### <span style=\"color:mediumblue\">**2.5 Handle Missing Values**</span>\n",
        "To address missing values, we fill them using the column mean, ensuring the data is complete without altering the underlying distribution significantly.\n",
        "\n",
        "---\n",
        "\n",
        "#### <span style=\"color:mediumblue\">**2.6 Check for Duplicate Values**</span>\n",
        "Duplicates in the dataset are identified and removed to avoid any bias in analysis and modeling.\n",
        "\n",
        "---\n",
        "\n",
        "#### <span style=\"color:mediumblue\">**2.7 Check Data Distribution**</span>\n",
        "We visualize the distribution of data across different features using histograms. This helps in understanding the spread and skewness of the data.\n",
        "\n",
        "---\n",
        "\n",
        "#### <span style=\"color:mediumblue\">**2.8 Check Correlations**</span>\n",
        "A correlation matrix is plotted to show the relationship between different variables. This provides insight into how features interact with each other.\n",
        "\n",
        "---\n",
        "\n",
        "#### <span style=\"color:mediumblue\">**2.9 Handle Categorical Variables**</span>\n",
        "In cases where there are categorical variables, we can convert them into numerical representations using encoding techniques. However, in this project, there are no categorical variables to process.\n",
        "\n",
        "---\n",
        "\n",
        "#### <span style=\"color:mediumblue\">**2.10 Outlier Detection**</span>\n",
        "Outliers are detected using the **Interquartile Range (IQR)** method. Outliers can have a significant impact on model performance, so they are either removed or adjusted.\n",
        "\n",
        "---\n",
        "\n",
        "#### <span style=\"color:mediumblue\">**2.11 Feature Scaling**</span>\n",
        "To ensure uniformity across features, **StandardScaler** is applied to scale all numerical values to a standard range. This is crucial for models that rely on distance metrics.\n",
        "\n",
        "---\n",
        "\n",
        "#### <span style=\"color:mediumblue\">**2.12 Save Preprocessed Data**</span>\n",
        "After completing the EDA, the processed dataset is saved for use in downstream tasks such as machine learning models.\n",
        "\n",
        "---\n",
        "\n",
        "### <span style=\"color:blue\">**3. Feature Importance Analysis**</span>\n",
        "\n",
        "#### <span style=\"color:mediumblue\">**3.1 Splitting Data**</span>\n",
        "The dataset is split into **features (X)** and the **target variable (y)**. The target variable is the outcome we are predicting, while the features represent the input data.\n",
        "\n",
        "---\n",
        "\n",
        "#### <span style=\"color:mediumblue\">**3.2 Binning Target Variable**</span>\n",
        "The target variable is binned into discrete categories, allowing for classification into binary outcomes, typically used in financial risk analysis.\n",
        "\n",
        "---\n",
        "\n",
        "#### <span style=\"color:mediumblue\">**3.3 Random Forest Model Training**</span>\n",
        "We train a **Random Forest Classifier** using the training data. Random Forest is a robust ensemble learning method that is particularly effective for classification tasks.\n",
        "\n",
        "---\n",
        "\n",
        "#### <span style=\"color:mediumblue\">**3.4 Feature Importance Extraction**</span>\n",
        "After training, we extract and visualize the **feature importances**, which indicate how significant each feature is in predicting the target variable.\n",
        "\n",
        "---\n",
        "\n",
        "### <span style=\"color:blue\">**4. Model Evaluation Metrics**</span>\n",
        "\n",
        "#### <span style=\"color:mediumblue\">**4.1 Model Performance Metrics**</span>\n",
        "We evaluate the model using several key performance metrics, including:\n",
        "- **Accuracy**: The proportion of correct predictions.\n",
        "- **Precision**: The accuracy of positive predictions.\n",
        "- **Recall**: The ability to identify positive instances.\n",
        "- **F1-Score**: A balance between precision and recall.\n",
        "- **ROC AUC Score**: Measures the ability of the model to distinguish between classes.\n",
        "\n",
        "---\n",
        "\n",
        "#### <span style=\"color:mediumblue\">**4.2 Confusion Matrix**</span>\n",
        "A confusion matrix is generated to give a comprehensive view of the model’s performance, showing **true positives**, **false positives**, **true negatives**, and **false negatives**.\n",
        "\n",
        "---\n",
        "\n",
        "#### <span style=\"color:mediumblue\">**4.3 ROC Curve**</span>\n",
        "The **ROC curve** is plotted to visualize the trade-off between true positive rate and false positive rate at various classification thresholds.\n",
        "\n",
        "---\n",
        "\n",
        "### <span style=\"color:blue\">**5. Conclusion**</span>\n",
        "\n",
        "This project provides an in-depth analysis of the dataset, covering all essential aspects of **Exploratory Data Analysis (EDA)** and **model evaluation**. The insights gained from EDA are crucial for building accurate predictive models. Additionally, the Random Forest classifier shows promise for the task at hand, with the performance metrics indicating a strong predictive capability."
      ],
      "metadata": {
        "id": "E10zcN4y2MMx"
      }
    },
    {
      "cell_type": "code",
      "source": [],
      "metadata": {
        "id": "DHUqFKyl3BG5"
      },
      "execution_count": null,
      "outputs": []
    },
    {
      "cell_type": "code",
      "source": [],
      "metadata": {
        "id": "XYpO6aAH3BKY"
      },
      "execution_count": null,
      "outputs": []
    },
    {
      "cell_type": "code",
      "source": [],
      "metadata": {
        "id": "3GNAbprI3Bgb"
      },
      "execution_count": null,
      "outputs": []
    },
    {
      "cell_type": "markdown",
      "source": [
        "# <span style=\"color:blue\">**1. Import Necessary Libraries**</span>\n",
        "\n",
        "We begin by importing essential Python libraries required for data manipulation, visualization, and numerical operations. These libraries include **pandas**, **NumPy**, **Matplotlib**, and **Seaborn** for data analysis and visualization."
      ],
      "metadata": {
        "id": "a7YFAYhP3CYZ"
      }
    },
    {
      "cell_type": "code",
      "source": [
        "\n",
        "# 1. Import Necessary Libraries\n",
        "# Importing essential libraries for data analysis and visualization."
      ],
      "metadata": {
        "id": "fG65Dsc55VD-"
      },
      "execution_count": null,
      "outputs": []
    },
    {
      "cell_type": "code",
      "execution_count": null,
      "metadata": {
        "id": "zBYmy52HYjh-"
      },
      "outputs": [],
      "source": [
        "import pandas as pd  # Importing pandas for data manipulation."
      ]
    },
    {
      "cell_type": "code",
      "source": [
        "import numpy as np  # Importing numpy for numerical operations."
      ],
      "metadata": {
        "id": "LsLQrNFs5caf"
      },
      "execution_count": null,
      "outputs": []
    },
    {
      "cell_type": "code",
      "source": [
        "import matplotlib.pyplot as plt  # Importing matplotlib for plotting."
      ],
      "metadata": {
        "id": "xvsShMH35cdT"
      },
      "execution_count": null,
      "outputs": []
    },
    {
      "cell_type": "code",
      "source": [
        "import seaborn as sns  # Importing seaborn for statistical visualization."
      ],
      "metadata": {
        "id": "aSqLNK7X5cgM"
      },
      "execution_count": null,
      "outputs": []
    },
    {
      "cell_type": "code",
      "source": [],
      "metadata": {
        "id": "YIuMwNiK5cjo"
      },
      "execution_count": null,
      "outputs": []
    },
    {
      "cell_type": "code",
      "source": [],
      "metadata": {
        "id": "v3xq6O9K3IXh"
      },
      "execution_count": null,
      "outputs": []
    },
    {
      "cell_type": "code",
      "source": [],
      "metadata": {
        "id": "9NGqsE9x3IbX"
      },
      "execution_count": null,
      "outputs": []
    },
    {
      "cell_type": "markdown",
      "source": [
        "# <span style=\"color:blue\">**2. Load the Data**</span>\n",
        "\n",
        "The dataset is loaded into a pandas DataFrame to efficiently manipulate and analyze the data. This is a critical step to ensure that the data is structured in a format suitable for further exploration and analysis."
      ],
      "metadata": {
        "id": "nG0B05Zw3I0h"
      }
    },
    {
      "cell_type": "code",
      "source": [
        "# 2. Load the Data\n",
        "# Loading the dataset into a DataFrame for further analysis."
      ],
      "metadata": {
        "id": "yVJfaiHIdHH7"
      },
      "execution_count": null,
      "outputs": []
    },
    {
      "cell_type": "code",
      "source": [
        "df = pd.read_csv('/content/credit_scoring_sample.csv')  # Reading the CSV file into a DataFrame."
      ],
      "metadata": {
        "id": "STlgUYHtdHK7"
      },
      "execution_count": null,
      "outputs": []
    },
    {
      "cell_type": "code",
      "source": [],
      "metadata": {
        "id": "m-bt-MkZdHN_"
      },
      "execution_count": null,
      "outputs": []
    },
    {
      "cell_type": "code",
      "source": [],
      "metadata": {
        "id": "nR-znmHt3MNS"
      },
      "execution_count": null,
      "outputs": []
    },
    {
      "cell_type": "code",
      "source": [],
      "metadata": {
        "id": "LAuOCF9y3MQ5"
      },
      "execution_count": null,
      "outputs": []
    },
    {
      "cell_type": "markdown",
      "source": [
        "# <span style=\"color:blue\">**3. Inspect the Data**</span>\n",
        "\n",
        "We use methods like `.head()`, `.info()`, and `.describe()` to get a quick overview of the dataset. This helps us examine:\n",
        "- The first few rows to get a sample of the data.\n",
        "- The data types of each column to ensure correct usage.\n",
        "- Missing values, if any.\n",
        "- Summary statistics to understand the distribution of numerical features."
      ],
      "metadata": {
        "id": "KT4XRsyf3MtZ"
      }
    },
    {
      "cell_type": "code",
      "source": [
        "# 3. Inspect the Data\n",
        "# Getting a quick overview of the dataset using various methods.\n",
        "# Displaying the first few rows of the DataFrame."
      ],
      "metadata": {
        "id": "DZladVGj5rlj"
      },
      "execution_count": null,
      "outputs": []
    },
    {
      "cell_type": "code",
      "source": [
        "df.head()  # Showing the first few rows of the dataset."
      ],
      "metadata": {
        "colab": {
          "base_uri": "https://localhost:8080/",
          "height": 243
        },
        "id": "-al3BiGOdHSF",
        "outputId": "2fee1d54-4a2a-4f48-fa9e-0cef1a82d5d1"
      },
      "execution_count": null,
      "outputs": [
        {
          "output_type": "execute_result",
          "data": {
            "text/plain": [
              "   SeriousDlqin2yrs  age  NumberOfTime30-59DaysPastDueNotWorse    DebtRatio  \\\n",
              "0                 0   64                                     0     0.249908   \n",
              "1                 0   58                                     0  3870.000000   \n",
              "2                 0   41                                     0     0.456127   \n",
              "3                 0   43                                     0     0.000190   \n",
              "4                 1   49                                     0     0.271820   \n",
              "\n",
              "   NumberOfTimes90DaysLate  NumberOfTime60-89DaysPastDueNotWorse  \\\n",
              "0                        0                                     0   \n",
              "1                        0                                     0   \n",
              "2                        0                                     0   \n",
              "3                        0                                     0   \n",
              "4                        0                                     0   \n",
              "\n",
              "   MonthlyIncome  NumberOfDependents  \n",
              "0         8158.0                 0.0  \n",
              "1            NaN                 0.0  \n",
              "2         6666.0                 0.0  \n",
              "3        10500.0                 2.0  \n",
              "4          400.0                 0.0  "
            ],
            "text/html": [
              "\n",
              "  <div id=\"df-8cb4ff59-a1ed-4cbd-820b-638ed5125860\" class=\"colab-df-container\">\n",
              "    <div>\n",
              "<style scoped>\n",
              "    .dataframe tbody tr th:only-of-type {\n",
              "        vertical-align: middle;\n",
              "    }\n",
              "\n",
              "    .dataframe tbody tr th {\n",
              "        vertical-align: top;\n",
              "    }\n",
              "\n",
              "    .dataframe thead th {\n",
              "        text-align: right;\n",
              "    }\n",
              "</style>\n",
              "<table border=\"1\" class=\"dataframe\">\n",
              "  <thead>\n",
              "    <tr style=\"text-align: right;\">\n",
              "      <th></th>\n",
              "      <th>SeriousDlqin2yrs</th>\n",
              "      <th>age</th>\n",
              "      <th>NumberOfTime30-59DaysPastDueNotWorse</th>\n",
              "      <th>DebtRatio</th>\n",
              "      <th>NumberOfTimes90DaysLate</th>\n",
              "      <th>NumberOfTime60-89DaysPastDueNotWorse</th>\n",
              "      <th>MonthlyIncome</th>\n",
              "      <th>NumberOfDependents</th>\n",
              "    </tr>\n",
              "  </thead>\n",
              "  <tbody>\n",
              "    <tr>\n",
              "      <th>0</th>\n",
              "      <td>0</td>\n",
              "      <td>64</td>\n",
              "      <td>0</td>\n",
              "      <td>0.249908</td>\n",
              "      <td>0</td>\n",
              "      <td>0</td>\n",
              "      <td>8158.0</td>\n",
              "      <td>0.0</td>\n",
              "    </tr>\n",
              "    <tr>\n",
              "      <th>1</th>\n",
              "      <td>0</td>\n",
              "      <td>58</td>\n",
              "      <td>0</td>\n",
              "      <td>3870.000000</td>\n",
              "      <td>0</td>\n",
              "      <td>0</td>\n",
              "      <td>NaN</td>\n",
              "      <td>0.0</td>\n",
              "    </tr>\n",
              "    <tr>\n",
              "      <th>2</th>\n",
              "      <td>0</td>\n",
              "      <td>41</td>\n",
              "      <td>0</td>\n",
              "      <td>0.456127</td>\n",
              "      <td>0</td>\n",
              "      <td>0</td>\n",
              "      <td>6666.0</td>\n",
              "      <td>0.0</td>\n",
              "    </tr>\n",
              "    <tr>\n",
              "      <th>3</th>\n",
              "      <td>0</td>\n",
              "      <td>43</td>\n",
              "      <td>0</td>\n",
              "      <td>0.000190</td>\n",
              "      <td>0</td>\n",
              "      <td>0</td>\n",
              "      <td>10500.0</td>\n",
              "      <td>2.0</td>\n",
              "    </tr>\n",
              "    <tr>\n",
              "      <th>4</th>\n",
              "      <td>1</td>\n",
              "      <td>49</td>\n",
              "      <td>0</td>\n",
              "      <td>0.271820</td>\n",
              "      <td>0</td>\n",
              "      <td>0</td>\n",
              "      <td>400.0</td>\n",
              "      <td>0.0</td>\n",
              "    </tr>\n",
              "  </tbody>\n",
              "</table>\n",
              "</div>\n",
              "    <div class=\"colab-df-buttons\">\n",
              "\n",
              "  <div class=\"colab-df-container\">\n",
              "    <button class=\"colab-df-convert\" onclick=\"convertToInteractive('df-8cb4ff59-a1ed-4cbd-820b-638ed5125860')\"\n",
              "            title=\"Convert this dataframe to an interactive table.\"\n",
              "            style=\"display:none;\">\n",
              "\n",
              "  <svg xmlns=\"http://www.w3.org/2000/svg\" height=\"24px\" viewBox=\"0 -960 960 960\">\n",
              "    <path d=\"M120-120v-720h720v720H120Zm60-500h600v-160H180v160Zm220 220h160v-160H400v160Zm0 220h160v-160H400v160ZM180-400h160v-160H180v160Zm440 0h160v-160H620v160ZM180-180h160v-160H180v160Zm440 0h160v-160H620v160Z\"/>\n",
              "  </svg>\n",
              "    </button>\n",
              "\n",
              "  <style>\n",
              "    .colab-df-container {\n",
              "      display:flex;\n",
              "      gap: 12px;\n",
              "    }\n",
              "\n",
              "    .colab-df-convert {\n",
              "      background-color: #E8F0FE;\n",
              "      border: none;\n",
              "      border-radius: 50%;\n",
              "      cursor: pointer;\n",
              "      display: none;\n",
              "      fill: #1967D2;\n",
              "      height: 32px;\n",
              "      padding: 0 0 0 0;\n",
              "      width: 32px;\n",
              "    }\n",
              "\n",
              "    .colab-df-convert:hover {\n",
              "      background-color: #E2EBFA;\n",
              "      box-shadow: 0px 1px 2px rgba(60, 64, 67, 0.3), 0px 1px 3px 1px rgba(60, 64, 67, 0.15);\n",
              "      fill: #174EA6;\n",
              "    }\n",
              "\n",
              "    .colab-df-buttons div {\n",
              "      margin-bottom: 4px;\n",
              "    }\n",
              "\n",
              "    [theme=dark] .colab-df-convert {\n",
              "      background-color: #3B4455;\n",
              "      fill: #D2E3FC;\n",
              "    }\n",
              "\n",
              "    [theme=dark] .colab-df-convert:hover {\n",
              "      background-color: #434B5C;\n",
              "      box-shadow: 0px 1px 3px 1px rgba(0, 0, 0, 0.15);\n",
              "      filter: drop-shadow(0px 1px 2px rgba(0, 0, 0, 0.3));\n",
              "      fill: #FFFFFF;\n",
              "    }\n",
              "  </style>\n",
              "\n",
              "    <script>\n",
              "      const buttonEl =\n",
              "        document.querySelector('#df-8cb4ff59-a1ed-4cbd-820b-638ed5125860 button.colab-df-convert');\n",
              "      buttonEl.style.display =\n",
              "        google.colab.kernel.accessAllowed ? 'block' : 'none';\n",
              "\n",
              "      async function convertToInteractive(key) {\n",
              "        const element = document.querySelector('#df-8cb4ff59-a1ed-4cbd-820b-638ed5125860');\n",
              "        const dataTable =\n",
              "          await google.colab.kernel.invokeFunction('convertToInteractive',\n",
              "                                                    [key], {});\n",
              "        if (!dataTable) return;\n",
              "\n",
              "        const docLinkHtml = 'Like what you see? Visit the ' +\n",
              "          '<a target=\"_blank\" href=https://colab.research.google.com/notebooks/data_table.ipynb>data table notebook</a>'\n",
              "          + ' to learn more about interactive tables.';\n",
              "        element.innerHTML = '';\n",
              "        dataTable['output_type'] = 'display_data';\n",
              "        await google.colab.output.renderOutput(dataTable, element);\n",
              "        const docLink = document.createElement('div');\n",
              "        docLink.innerHTML = docLinkHtml;\n",
              "        element.appendChild(docLink);\n",
              "      }\n",
              "    </script>\n",
              "  </div>\n",
              "\n",
              "\n",
              "<div id=\"df-4390f9d6-c367-4963-b642-9a4952282071\">\n",
              "  <button class=\"colab-df-quickchart\" onclick=\"quickchart('df-4390f9d6-c367-4963-b642-9a4952282071')\"\n",
              "            title=\"Suggest charts\"\n",
              "            style=\"display:none;\">\n",
              "\n",
              "<svg xmlns=\"http://www.w3.org/2000/svg\" height=\"24px\"viewBox=\"0 0 24 24\"\n",
              "     width=\"24px\">\n",
              "    <g>\n",
              "        <path d=\"M19 3H5c-1.1 0-2 .9-2 2v14c0 1.1.9 2 2 2h14c1.1 0 2-.9 2-2V5c0-1.1-.9-2-2-2zM9 17H7v-7h2v7zm4 0h-2V7h2v10zm4 0h-2v-4h2v4z\"/>\n",
              "    </g>\n",
              "</svg>\n",
              "  </button>\n",
              "\n",
              "<style>\n",
              "  .colab-df-quickchart {\n",
              "      --bg-color: #E8F0FE;\n",
              "      --fill-color: #1967D2;\n",
              "      --hover-bg-color: #E2EBFA;\n",
              "      --hover-fill-color: #174EA6;\n",
              "      --disabled-fill-color: #AAA;\n",
              "      --disabled-bg-color: #DDD;\n",
              "  }\n",
              "\n",
              "  [theme=dark] .colab-df-quickchart {\n",
              "      --bg-color: #3B4455;\n",
              "      --fill-color: #D2E3FC;\n",
              "      --hover-bg-color: #434B5C;\n",
              "      --hover-fill-color: #FFFFFF;\n",
              "      --disabled-bg-color: #3B4455;\n",
              "      --disabled-fill-color: #666;\n",
              "  }\n",
              "\n",
              "  .colab-df-quickchart {\n",
              "    background-color: var(--bg-color);\n",
              "    border: none;\n",
              "    border-radius: 50%;\n",
              "    cursor: pointer;\n",
              "    display: none;\n",
              "    fill: var(--fill-color);\n",
              "    height: 32px;\n",
              "    padding: 0;\n",
              "    width: 32px;\n",
              "  }\n",
              "\n",
              "  .colab-df-quickchart:hover {\n",
              "    background-color: var(--hover-bg-color);\n",
              "    box-shadow: 0 1px 2px rgba(60, 64, 67, 0.3), 0 1px 3px 1px rgba(60, 64, 67, 0.15);\n",
              "    fill: var(--button-hover-fill-color);\n",
              "  }\n",
              "\n",
              "  .colab-df-quickchart-complete:disabled,\n",
              "  .colab-df-quickchart-complete:disabled:hover {\n",
              "    background-color: var(--disabled-bg-color);\n",
              "    fill: var(--disabled-fill-color);\n",
              "    box-shadow: none;\n",
              "  }\n",
              "\n",
              "  .colab-df-spinner {\n",
              "    border: 2px solid var(--fill-color);\n",
              "    border-color: transparent;\n",
              "    border-bottom-color: var(--fill-color);\n",
              "    animation:\n",
              "      spin 1s steps(1) infinite;\n",
              "  }\n",
              "\n",
              "  @keyframes spin {\n",
              "    0% {\n",
              "      border-color: transparent;\n",
              "      border-bottom-color: var(--fill-color);\n",
              "      border-left-color: var(--fill-color);\n",
              "    }\n",
              "    20% {\n",
              "      border-color: transparent;\n",
              "      border-left-color: var(--fill-color);\n",
              "      border-top-color: var(--fill-color);\n",
              "    }\n",
              "    30% {\n",
              "      border-color: transparent;\n",
              "      border-left-color: var(--fill-color);\n",
              "      border-top-color: var(--fill-color);\n",
              "      border-right-color: var(--fill-color);\n",
              "    }\n",
              "    40% {\n",
              "      border-color: transparent;\n",
              "      border-right-color: var(--fill-color);\n",
              "      border-top-color: var(--fill-color);\n",
              "    }\n",
              "    60% {\n",
              "      border-color: transparent;\n",
              "      border-right-color: var(--fill-color);\n",
              "    }\n",
              "    80% {\n",
              "      border-color: transparent;\n",
              "      border-right-color: var(--fill-color);\n",
              "      border-bottom-color: var(--fill-color);\n",
              "    }\n",
              "    90% {\n",
              "      border-color: transparent;\n",
              "      border-bottom-color: var(--fill-color);\n",
              "    }\n",
              "  }\n",
              "</style>\n",
              "\n",
              "  <script>\n",
              "    async function quickchart(key) {\n",
              "      const quickchartButtonEl =\n",
              "        document.querySelector('#' + key + ' button');\n",
              "      quickchartButtonEl.disabled = true;  // To prevent multiple clicks.\n",
              "      quickchartButtonEl.classList.add('colab-df-spinner');\n",
              "      try {\n",
              "        const charts = await google.colab.kernel.invokeFunction(\n",
              "            'suggestCharts', [key], {});\n",
              "      } catch (error) {\n",
              "        console.error('Error during call to suggestCharts:', error);\n",
              "      }\n",
              "      quickchartButtonEl.classList.remove('colab-df-spinner');\n",
              "      quickchartButtonEl.classList.add('colab-df-quickchart-complete');\n",
              "    }\n",
              "    (() => {\n",
              "      let quickchartButtonEl =\n",
              "        document.querySelector('#df-4390f9d6-c367-4963-b642-9a4952282071 button');\n",
              "      quickchartButtonEl.style.display =\n",
              "        google.colab.kernel.accessAllowed ? 'block' : 'none';\n",
              "    })();\n",
              "  </script>\n",
              "</div>\n",
              "\n",
              "    </div>\n",
              "  </div>\n"
            ],
            "application/vnd.google.colaboratory.intrinsic+json": {
              "type": "dataframe",
              "variable_name": "df",
              "summary": "{\n  \"name\": \"df\",\n  \"rows\": 45063,\n  \"fields\": [\n    {\n      \"column\": \"SeriousDlqin2yrs\",\n      \"properties\": {\n        \"dtype\": \"number\",\n        \"std\": 0,\n        \"min\": 0,\n        \"max\": 1,\n        \"num_unique_values\": 2,\n        \"samples\": [\n          1,\n          0\n        ],\n        \"semantic_type\": \"\",\n        \"description\": \"\"\n      }\n    },\n    {\n      \"column\": \"age\",\n      \"properties\": {\n        \"dtype\": \"number\",\n        \"std\": 14,\n        \"min\": 21,\n        \"max\": 107,\n        \"num_unique_values\": 83,\n        \"samples\": [\n          71,\n          64\n        ],\n        \"semantic_type\": \"\",\n        \"description\": \"\"\n      }\n    },\n    {\n      \"column\": \"NumberOfTime30-59DaysPastDueNotWorse\",\n      \"properties\": {\n        \"dtype\": \"number\",\n        \"std\": 6,\n        \"min\": 0,\n        \"max\": 98,\n        \"num_unique_values\": 16,\n        \"samples\": [\n          0,\n          2\n        ],\n        \"semantic_type\": \"\",\n        \"description\": \"\"\n      }\n    },\n    {\n      \"column\": \"DebtRatio\",\n      \"properties\": {\n        \"dtype\": \"number\",\n        \"std\": 2467.5563580866,\n        \"min\": 0.0,\n        \"max\": 326442.0,\n        \"num_unique_values\": 37254,\n        \"samples\": [\n          0.052689,\n          817.0\n        ],\n        \"semantic_type\": \"\",\n        \"description\": \"\"\n      }\n    },\n    {\n      \"column\": \"NumberOfTimes90DaysLate\",\n      \"properties\": {\n        \"dtype\": \"number\",\n        \"std\": 6,\n        \"min\": 0,\n        \"max\": 98,\n        \"num_unique_values\": 19,\n        \"samples\": [\n          0,\n          2\n        ],\n        \"semantic_type\": \"\",\n        \"description\": \"\"\n      }\n    },\n    {\n      \"column\": \"NumberOfTime60-89DaysPastDueNotWorse\",\n      \"properties\": {\n        \"dtype\": \"number\",\n        \"std\": 6,\n        \"min\": 0,\n        \"max\": 98,\n        \"num_unique_values\": 12,\n        \"samples\": [\n          8,\n          96\n        ],\n        \"semantic_type\": \"\",\n        \"description\": \"\"\n      }\n    },\n    {\n      \"column\": \"MonthlyIncome\",\n      \"properties\": {\n        \"dtype\": \"number\",\n        \"std\": 12638.167722619135,\n        \"min\": 0.0,\n        \"max\": 1794060.0,\n        \"num_unique_values\": 8263,\n        \"samples\": [\n          6724.0,\n          10980.0\n        ],\n        \"semantic_type\": \"\",\n        \"description\": \"\"\n      }\n    },\n    {\n      \"column\": \"NumberOfDependents\",\n      \"properties\": {\n        \"dtype\": \"number\",\n        \"std\": 1.1308126912485805,\n        \"min\": 0.0,\n        \"max\": 10.0,\n        \"num_unique_values\": 11,\n        \"samples\": [\n          6.0,\n          0.0\n        ],\n        \"semantic_type\": \"\",\n        \"description\": \"\"\n      }\n    }\n  ]\n}"
            }
          },
          "metadata": {},
          "execution_count": 9
        }
      ]
    },
    {
      "cell_type": "code",
      "source": [],
      "metadata": {
        "id": "Ojevwz3y5xlZ"
      },
      "execution_count": null,
      "outputs": []
    },
    {
      "cell_type": "code",
      "source": [],
      "metadata": {
        "id": "G1wEagI75xob"
      },
      "execution_count": null,
      "outputs": []
    },
    {
      "cell_type": "code",
      "source": [
        "# Obtaining information about the DataFrame, including data types and missing values."
      ],
      "metadata": {
        "id": "x7gv3DlL5yQ8"
      },
      "execution_count": null,
      "outputs": []
    },
    {
      "cell_type": "code",
      "source": [
        "df.info()  # Displaying information about the dataset."
      ],
      "metadata": {
        "colab": {
          "base_uri": "https://localhost:8080/"
        },
        "id": "XRMk4NcddHUj",
        "outputId": "6e53114d-6bcb-42fa-a13e-5d8516b3c164"
      },
      "execution_count": null,
      "outputs": [
        {
          "output_type": "stream",
          "name": "stdout",
          "text": [
            "<class 'pandas.core.frame.DataFrame'>\n",
            "RangeIndex: 45063 entries, 0 to 45062\n",
            "Data columns (total 8 columns):\n",
            " #   Column                                Non-Null Count  Dtype  \n",
            "---  ------                                --------------  -----  \n",
            " 0   SeriousDlqin2yrs                      45063 non-null  int64  \n",
            " 1   age                                   45063 non-null  int64  \n",
            " 2   NumberOfTime30-59DaysPastDueNotWorse  45063 non-null  int64  \n",
            " 3   DebtRatio                             45063 non-null  float64\n",
            " 4   NumberOfTimes90DaysLate               45063 non-null  int64  \n",
            " 5   NumberOfTime60-89DaysPastDueNotWorse  45063 non-null  int64  \n",
            " 6   MonthlyIncome                         36420 non-null  float64\n",
            " 7   NumberOfDependents                    43946 non-null  float64\n",
            "dtypes: float64(3), int64(5)\n",
            "memory usage: 2.8 MB\n"
          ]
        }
      ]
    },
    {
      "cell_type": "code",
      "source": [],
      "metadata": {
        "id": "DgCr02Kh57DG"
      },
      "execution_count": null,
      "outputs": []
    },
    {
      "cell_type": "code",
      "source": [],
      "metadata": {
        "id": "oyDEzSUk58Ui"
      },
      "execution_count": null,
      "outputs": []
    },
    {
      "cell_type": "code",
      "source": [
        "# Displaying summary statistics of the numerical columns."
      ],
      "metadata": {
        "id": "1lEypEoM59Ga"
      },
      "execution_count": null,
      "outputs": []
    },
    {
      "cell_type": "code",
      "source": [
        "df.describe()  # Showing descriptive statistics of the dataset."
      ],
      "metadata": {
        "colab": {
          "base_uri": "https://localhost:8080/",
          "height": 337
        },
        "id": "Ve0Fgt9SdHYl",
        "outputId": "ee7df125-1f7d-40f0-c2a8-7a7e24d180ba"
      },
      "execution_count": null,
      "outputs": [
        {
          "output_type": "execute_result",
          "data": {
            "text/plain": [
              "       SeriousDlqin2yrs           age  NumberOfTime30-59DaysPastDueNotWorse  \\\n",
              "count      45063.000000  45063.000000                          45063.000000   \n",
              "mean           0.222489     51.210949                              0.750993   \n",
              "std            0.415922     14.651533                              6.184521   \n",
              "min            0.000000     21.000000                              0.000000   \n",
              "25%            0.000000     40.000000                              0.000000   \n",
              "50%            0.000000     51.000000                              0.000000   \n",
              "75%            0.000000     62.000000                              0.000000   \n",
              "max            1.000000    107.000000                             98.000000   \n",
              "\n",
              "           DebtRatio  NumberOfTimes90DaysLate  \\\n",
              "count   45063.000000             45063.000000   \n",
              "mean      352.062688                 0.570712   \n",
              "std      2467.556358                 6.173106   \n",
              "min         0.000000                 0.000000   \n",
              "25%         0.176373                 0.000000   \n",
              "50%         0.373949                 0.000000   \n",
              "75%         0.857027                 0.000000   \n",
              "max    326442.000000                98.000000   \n",
              "\n",
              "       NumberOfTime60-89DaysPastDueNotWorse  MonthlyIncome  NumberOfDependents  \n",
              "count                          45063.000000   3.642000e+04        43946.000000  \n",
              "mean                               0.505870   6.452263e+03            0.789628  \n",
              "std                                6.153609   1.263817e+04            1.130813  \n",
              "min                                0.000000   0.000000e+00            0.000000  \n",
              "25%                                0.000000   3.286000e+03            0.000000  \n",
              "50%                                0.000000   5.166000e+03            0.000000  \n",
              "75%                                0.000000   8.000000e+03            1.000000  \n",
              "max                               98.000000   1.794060e+06           10.000000  "
            ],
            "text/html": [
              "\n",
              "  <div id=\"df-3154a31b-5ea4-4dc5-8d87-fc2dd2282633\" class=\"colab-df-container\">\n",
              "    <div>\n",
              "<style scoped>\n",
              "    .dataframe tbody tr th:only-of-type {\n",
              "        vertical-align: middle;\n",
              "    }\n",
              "\n",
              "    .dataframe tbody tr th {\n",
              "        vertical-align: top;\n",
              "    }\n",
              "\n",
              "    .dataframe thead th {\n",
              "        text-align: right;\n",
              "    }\n",
              "</style>\n",
              "<table border=\"1\" class=\"dataframe\">\n",
              "  <thead>\n",
              "    <tr style=\"text-align: right;\">\n",
              "      <th></th>\n",
              "      <th>SeriousDlqin2yrs</th>\n",
              "      <th>age</th>\n",
              "      <th>NumberOfTime30-59DaysPastDueNotWorse</th>\n",
              "      <th>DebtRatio</th>\n",
              "      <th>NumberOfTimes90DaysLate</th>\n",
              "      <th>NumberOfTime60-89DaysPastDueNotWorse</th>\n",
              "      <th>MonthlyIncome</th>\n",
              "      <th>NumberOfDependents</th>\n",
              "    </tr>\n",
              "  </thead>\n",
              "  <tbody>\n",
              "    <tr>\n",
              "      <th>count</th>\n",
              "      <td>45063.000000</td>\n",
              "      <td>45063.000000</td>\n",
              "      <td>45063.000000</td>\n",
              "      <td>45063.000000</td>\n",
              "      <td>45063.000000</td>\n",
              "      <td>45063.000000</td>\n",
              "      <td>3.642000e+04</td>\n",
              "      <td>43946.000000</td>\n",
              "    </tr>\n",
              "    <tr>\n",
              "      <th>mean</th>\n",
              "      <td>0.222489</td>\n",
              "      <td>51.210949</td>\n",
              "      <td>0.750993</td>\n",
              "      <td>352.062688</td>\n",
              "      <td>0.570712</td>\n",
              "      <td>0.505870</td>\n",
              "      <td>6.452263e+03</td>\n",
              "      <td>0.789628</td>\n",
              "    </tr>\n",
              "    <tr>\n",
              "      <th>std</th>\n",
              "      <td>0.415922</td>\n",
              "      <td>14.651533</td>\n",
              "      <td>6.184521</td>\n",
              "      <td>2467.556358</td>\n",
              "      <td>6.173106</td>\n",
              "      <td>6.153609</td>\n",
              "      <td>1.263817e+04</td>\n",
              "      <td>1.130813</td>\n",
              "    </tr>\n",
              "    <tr>\n",
              "      <th>min</th>\n",
              "      <td>0.000000</td>\n",
              "      <td>21.000000</td>\n",
              "      <td>0.000000</td>\n",
              "      <td>0.000000</td>\n",
              "      <td>0.000000</td>\n",
              "      <td>0.000000</td>\n",
              "      <td>0.000000e+00</td>\n",
              "      <td>0.000000</td>\n",
              "    </tr>\n",
              "    <tr>\n",
              "      <th>25%</th>\n",
              "      <td>0.000000</td>\n",
              "      <td>40.000000</td>\n",
              "      <td>0.000000</td>\n",
              "      <td>0.176373</td>\n",
              "      <td>0.000000</td>\n",
              "      <td>0.000000</td>\n",
              "      <td>3.286000e+03</td>\n",
              "      <td>0.000000</td>\n",
              "    </tr>\n",
              "    <tr>\n",
              "      <th>50%</th>\n",
              "      <td>0.000000</td>\n",
              "      <td>51.000000</td>\n",
              "      <td>0.000000</td>\n",
              "      <td>0.373949</td>\n",
              "      <td>0.000000</td>\n",
              "      <td>0.000000</td>\n",
              "      <td>5.166000e+03</td>\n",
              "      <td>0.000000</td>\n",
              "    </tr>\n",
              "    <tr>\n",
              "      <th>75%</th>\n",
              "      <td>0.000000</td>\n",
              "      <td>62.000000</td>\n",
              "      <td>0.000000</td>\n",
              "      <td>0.857027</td>\n",
              "      <td>0.000000</td>\n",
              "      <td>0.000000</td>\n",
              "      <td>8.000000e+03</td>\n",
              "      <td>1.000000</td>\n",
              "    </tr>\n",
              "    <tr>\n",
              "      <th>max</th>\n",
              "      <td>1.000000</td>\n",
              "      <td>107.000000</td>\n",
              "      <td>98.000000</td>\n",
              "      <td>326442.000000</td>\n",
              "      <td>98.000000</td>\n",
              "      <td>98.000000</td>\n",
              "      <td>1.794060e+06</td>\n",
              "      <td>10.000000</td>\n",
              "    </tr>\n",
              "  </tbody>\n",
              "</table>\n",
              "</div>\n",
              "    <div class=\"colab-df-buttons\">\n",
              "\n",
              "  <div class=\"colab-df-container\">\n",
              "    <button class=\"colab-df-convert\" onclick=\"convertToInteractive('df-3154a31b-5ea4-4dc5-8d87-fc2dd2282633')\"\n",
              "            title=\"Convert this dataframe to an interactive table.\"\n",
              "            style=\"display:none;\">\n",
              "\n",
              "  <svg xmlns=\"http://www.w3.org/2000/svg\" height=\"24px\" viewBox=\"0 -960 960 960\">\n",
              "    <path d=\"M120-120v-720h720v720H120Zm60-500h600v-160H180v160Zm220 220h160v-160H400v160Zm0 220h160v-160H400v160ZM180-400h160v-160H180v160Zm440 0h160v-160H620v160ZM180-180h160v-160H180v160Zm440 0h160v-160H620v160Z\"/>\n",
              "  </svg>\n",
              "    </button>\n",
              "\n",
              "  <style>\n",
              "    .colab-df-container {\n",
              "      display:flex;\n",
              "      gap: 12px;\n",
              "    }\n",
              "\n",
              "    .colab-df-convert {\n",
              "      background-color: #E8F0FE;\n",
              "      border: none;\n",
              "      border-radius: 50%;\n",
              "      cursor: pointer;\n",
              "      display: none;\n",
              "      fill: #1967D2;\n",
              "      height: 32px;\n",
              "      padding: 0 0 0 0;\n",
              "      width: 32px;\n",
              "    }\n",
              "\n",
              "    .colab-df-convert:hover {\n",
              "      background-color: #E2EBFA;\n",
              "      box-shadow: 0px 1px 2px rgba(60, 64, 67, 0.3), 0px 1px 3px 1px rgba(60, 64, 67, 0.15);\n",
              "      fill: #174EA6;\n",
              "    }\n",
              "\n",
              "    .colab-df-buttons div {\n",
              "      margin-bottom: 4px;\n",
              "    }\n",
              "\n",
              "    [theme=dark] .colab-df-convert {\n",
              "      background-color: #3B4455;\n",
              "      fill: #D2E3FC;\n",
              "    }\n",
              "\n",
              "    [theme=dark] .colab-df-convert:hover {\n",
              "      background-color: #434B5C;\n",
              "      box-shadow: 0px 1px 3px 1px rgba(0, 0, 0, 0.15);\n",
              "      filter: drop-shadow(0px 1px 2px rgba(0, 0, 0, 0.3));\n",
              "      fill: #FFFFFF;\n",
              "    }\n",
              "  </style>\n",
              "\n",
              "    <script>\n",
              "      const buttonEl =\n",
              "        document.querySelector('#df-3154a31b-5ea4-4dc5-8d87-fc2dd2282633 button.colab-df-convert');\n",
              "      buttonEl.style.display =\n",
              "        google.colab.kernel.accessAllowed ? 'block' : 'none';\n",
              "\n",
              "      async function convertToInteractive(key) {\n",
              "        const element = document.querySelector('#df-3154a31b-5ea4-4dc5-8d87-fc2dd2282633');\n",
              "        const dataTable =\n",
              "          await google.colab.kernel.invokeFunction('convertToInteractive',\n",
              "                                                    [key], {});\n",
              "        if (!dataTable) return;\n",
              "\n",
              "        const docLinkHtml = 'Like what you see? Visit the ' +\n",
              "          '<a target=\"_blank\" href=https://colab.research.google.com/notebooks/data_table.ipynb>data table notebook</a>'\n",
              "          + ' to learn more about interactive tables.';\n",
              "        element.innerHTML = '';\n",
              "        dataTable['output_type'] = 'display_data';\n",
              "        await google.colab.output.renderOutput(dataTable, element);\n",
              "        const docLink = document.createElement('div');\n",
              "        docLink.innerHTML = docLinkHtml;\n",
              "        element.appendChild(docLink);\n",
              "      }\n",
              "    </script>\n",
              "  </div>\n",
              "\n",
              "\n",
              "<div id=\"df-6da5ad41-8be1-45e0-ad39-7d7a9f2b0cbb\">\n",
              "  <button class=\"colab-df-quickchart\" onclick=\"quickchart('df-6da5ad41-8be1-45e0-ad39-7d7a9f2b0cbb')\"\n",
              "            title=\"Suggest charts\"\n",
              "            style=\"display:none;\">\n",
              "\n",
              "<svg xmlns=\"http://www.w3.org/2000/svg\" height=\"24px\"viewBox=\"0 0 24 24\"\n",
              "     width=\"24px\">\n",
              "    <g>\n",
              "        <path d=\"M19 3H5c-1.1 0-2 .9-2 2v14c0 1.1.9 2 2 2h14c1.1 0 2-.9 2-2V5c0-1.1-.9-2-2-2zM9 17H7v-7h2v7zm4 0h-2V7h2v10zm4 0h-2v-4h2v4z\"/>\n",
              "    </g>\n",
              "</svg>\n",
              "  </button>\n",
              "\n",
              "<style>\n",
              "  .colab-df-quickchart {\n",
              "      --bg-color: #E8F0FE;\n",
              "      --fill-color: #1967D2;\n",
              "      --hover-bg-color: #E2EBFA;\n",
              "      --hover-fill-color: #174EA6;\n",
              "      --disabled-fill-color: #AAA;\n",
              "      --disabled-bg-color: #DDD;\n",
              "  }\n",
              "\n",
              "  [theme=dark] .colab-df-quickchart {\n",
              "      --bg-color: #3B4455;\n",
              "      --fill-color: #D2E3FC;\n",
              "      --hover-bg-color: #434B5C;\n",
              "      --hover-fill-color: #FFFFFF;\n",
              "      --disabled-bg-color: #3B4455;\n",
              "      --disabled-fill-color: #666;\n",
              "  }\n",
              "\n",
              "  .colab-df-quickchart {\n",
              "    background-color: var(--bg-color);\n",
              "    border: none;\n",
              "    border-radius: 50%;\n",
              "    cursor: pointer;\n",
              "    display: none;\n",
              "    fill: var(--fill-color);\n",
              "    height: 32px;\n",
              "    padding: 0;\n",
              "    width: 32px;\n",
              "  }\n",
              "\n",
              "  .colab-df-quickchart:hover {\n",
              "    background-color: var(--hover-bg-color);\n",
              "    box-shadow: 0 1px 2px rgba(60, 64, 67, 0.3), 0 1px 3px 1px rgba(60, 64, 67, 0.15);\n",
              "    fill: var(--button-hover-fill-color);\n",
              "  }\n",
              "\n",
              "  .colab-df-quickchart-complete:disabled,\n",
              "  .colab-df-quickchart-complete:disabled:hover {\n",
              "    background-color: var(--disabled-bg-color);\n",
              "    fill: var(--disabled-fill-color);\n",
              "    box-shadow: none;\n",
              "  }\n",
              "\n",
              "  .colab-df-spinner {\n",
              "    border: 2px solid var(--fill-color);\n",
              "    border-color: transparent;\n",
              "    border-bottom-color: var(--fill-color);\n",
              "    animation:\n",
              "      spin 1s steps(1) infinite;\n",
              "  }\n",
              "\n",
              "  @keyframes spin {\n",
              "    0% {\n",
              "      border-color: transparent;\n",
              "      border-bottom-color: var(--fill-color);\n",
              "      border-left-color: var(--fill-color);\n",
              "    }\n",
              "    20% {\n",
              "      border-color: transparent;\n",
              "      border-left-color: var(--fill-color);\n",
              "      border-top-color: var(--fill-color);\n",
              "    }\n",
              "    30% {\n",
              "      border-color: transparent;\n",
              "      border-left-color: var(--fill-color);\n",
              "      border-top-color: var(--fill-color);\n",
              "      border-right-color: var(--fill-color);\n",
              "    }\n",
              "    40% {\n",
              "      border-color: transparent;\n",
              "      border-right-color: var(--fill-color);\n",
              "      border-top-color: var(--fill-color);\n",
              "    }\n",
              "    60% {\n",
              "      border-color: transparent;\n",
              "      border-right-color: var(--fill-color);\n",
              "    }\n",
              "    80% {\n",
              "      border-color: transparent;\n",
              "      border-right-color: var(--fill-color);\n",
              "      border-bottom-color: var(--fill-color);\n",
              "    }\n",
              "    90% {\n",
              "      border-color: transparent;\n",
              "      border-bottom-color: var(--fill-color);\n",
              "    }\n",
              "  }\n",
              "</style>\n",
              "\n",
              "  <script>\n",
              "    async function quickchart(key) {\n",
              "      const quickchartButtonEl =\n",
              "        document.querySelector('#' + key + ' button');\n",
              "      quickchartButtonEl.disabled = true;  // To prevent multiple clicks.\n",
              "      quickchartButtonEl.classList.add('colab-df-spinner');\n",
              "      try {\n",
              "        const charts = await google.colab.kernel.invokeFunction(\n",
              "            'suggestCharts', [key], {});\n",
              "      } catch (error) {\n",
              "        console.error('Error during call to suggestCharts:', error);\n",
              "      }\n",
              "      quickchartButtonEl.classList.remove('colab-df-spinner');\n",
              "      quickchartButtonEl.classList.add('colab-df-quickchart-complete');\n",
              "    }\n",
              "    (() => {\n",
              "      let quickchartButtonEl =\n",
              "        document.querySelector('#df-6da5ad41-8be1-45e0-ad39-7d7a9f2b0cbb button');\n",
              "      quickchartButtonEl.style.display =\n",
              "        google.colab.kernel.accessAllowed ? 'block' : 'none';\n",
              "    })();\n",
              "  </script>\n",
              "</div>\n",
              "\n",
              "    </div>\n",
              "  </div>\n"
            ],
            "application/vnd.google.colaboratory.intrinsic+json": {
              "type": "dataframe",
              "summary": "{\n  \"name\": \"df\",\n  \"rows\": 8,\n  \"fields\": [\n    {\n      \"column\": \"SeriousDlqin2yrs\",\n      \"properties\": {\n        \"dtype\": \"number\",\n        \"std\": 15932.09369183226,\n        \"min\": 0.0,\n        \"max\": 45063.0,\n        \"num_unique_values\": 5,\n        \"samples\": [\n          0.2224885160774915,\n          1.0,\n          0.41592212632406134\n        ],\n        \"semantic_type\": \"\",\n        \"description\": \"\"\n      }\n    },\n    {\n      \"column\": \"age\",\n      \"properties\": {\n        \"dtype\": \"number\",\n        \"std\": 15914.682304188162,\n        \"min\": 14.651532599727904,\n        \"max\": 45063.0,\n        \"num_unique_values\": 8,\n        \"samples\": [\n          51.21094911568249,\n          51.0,\n          45063.0\n        ],\n        \"semantic_type\": \"\",\n        \"description\": \"\"\n      }\n    },\n    {\n      \"column\": \"NumberOfTime30-59DaysPastDueNotWorse\",\n      \"properties\": {\n        \"dtype\": \"number\",\n        \"std\": 15926.912587491212,\n        \"min\": 0.0,\n        \"max\": 45063.0,\n        \"num_unique_values\": 5,\n        \"samples\": [\n          0.7509930541686084,\n          98.0,\n          6.184520997283717\n        ],\n        \"semantic_type\": \"\",\n        \"description\": \"\"\n      }\n    },\n    {\n      \"column\": \"DebtRatio\",\n      \"properties\": {\n        \"dtype\": \"number\",\n        \"std\": 114071.57487539318,\n        \"min\": 0.0,\n        \"max\": 326442.0,\n        \"num_unique_values\": 8,\n        \"samples\": [\n          352.0626881071389,\n          0.373949,\n          45063.0\n        ],\n        \"semantic_type\": \"\",\n        \"description\": \"\"\n      }\n    },\n    {\n      \"column\": \"NumberOfTimes90DaysLate\",\n      \"properties\": {\n        \"dtype\": \"number\",\n        \"std\": 15926.922293619493,\n        \"min\": 0.0,\n        \"max\": 45063.0,\n        \"num_unique_values\": 5,\n        \"samples\": [\n          0.5707121141512993,\n          98.0,\n          6.173106145927484\n        ],\n        \"semantic_type\": \"\",\n        \"description\": \"\"\n      }\n    },\n    {\n      \"column\": \"NumberOfTime60-89DaysPastDueNotWorse\",\n      \"properties\": {\n        \"dtype\": \"number\",\n        \"std\": 15926.926563351968,\n        \"min\": 0.0,\n        \"max\": 45063.0,\n        \"num_unique_values\": 5,\n        \"samples\": [\n          0.5058695603932273,\n          98.0,\n          6.153608606646061\n        ],\n        \"semantic_type\": \"\",\n        \"description\": \"\"\n      }\n    },\n    {\n      \"column\": \"MonthlyIncome\",\n      \"properties\": {\n        \"dtype\": \"number\",\n        \"std\": 630762.0760586946,\n        \"min\": 0.0,\n        \"max\": 1794060.0,\n        \"num_unique_values\": 8,\n        \"samples\": [\n          6452.263399231191,\n          5166.0,\n          36420.0\n        ],\n        \"semantic_type\": \"\",\n        \"description\": \"\"\n      }\n    },\n    {\n      \"column\": \"NumberOfDependents\",\n      \"properties\": {\n        \"dtype\": \"number\",\n        \"std\": 15536.60508564667,\n        \"min\": 0.0,\n        \"max\": 43946.0,\n        \"num_unique_values\": 6,\n        \"samples\": [\n          43946.0,\n          0.7896281800391389,\n          10.0\n        ],\n        \"semantic_type\": \"\",\n        \"description\": \"\"\n      }\n    }\n  ]\n}"
            }
          },
          "metadata": {},
          "execution_count": 13
        }
      ]
    },
    {
      "cell_type": "code",
      "source": [],
      "metadata": {
        "id": "OwvMTpKM6D3n"
      },
      "execution_count": null,
      "outputs": []
    },
    {
      "cell_type": "code",
      "source": [],
      "metadata": {
        "id": "pvqEBDPe6ETg"
      },
      "execution_count": null,
      "outputs": []
    },
    {
      "cell_type": "code",
      "source": [],
      "metadata": {
        "id": "d8gus8au3Tq6"
      },
      "execution_count": null,
      "outputs": []
    },
    {
      "cell_type": "markdown",
      "source": [
        "# <span style=\"color:blue\">**4. Check for Missing Values**</span>\n",
        "\n",
        "Checking for missing values is essential to understand data completeness. This is done using the `.isnull().sum()` function. Missing data can affect the quality of analysis and model performance, so it must be handled properly."
      ],
      "metadata": {
        "id": "AsaUown43T5p"
      }
    },
    {
      "cell_type": "code",
      "source": [
        "# 4. Check for Missing Values\n",
        "# Identifying and handling missing values in the dataset.\n",
        "# Checking for missing values in each column."
      ],
      "metadata": {
        "id": "V29-JggPdHac"
      },
      "execution_count": null,
      "outputs": []
    },
    {
      "cell_type": "code",
      "source": [
        "df.isnull().sum()  # Counting missing values in each column."
      ],
      "metadata": {
        "colab": {
          "base_uri": "https://localhost:8080/"
        },
        "id": "5lARMmAtdHdG",
        "outputId": "3cd4167c-a251-4f3a-d14a-268c4eebd77d"
      },
      "execution_count": null,
      "outputs": [
        {
          "output_type": "execute_result",
          "data": {
            "text/plain": [
              "SeriousDlqin2yrs                           0\n",
              "age                                        0\n",
              "NumberOfTime30-59DaysPastDueNotWorse       0\n",
              "DebtRatio                                  0\n",
              "NumberOfTimes90DaysLate                    0\n",
              "NumberOfTime60-89DaysPastDueNotWorse       0\n",
              "MonthlyIncome                           8643\n",
              "NumberOfDependents                      1117\n",
              "dtype: int64"
            ]
          },
          "metadata": {},
          "execution_count": 15
        }
      ]
    },
    {
      "cell_type": "code",
      "source": [],
      "metadata": {
        "id": "m1it8gcP3Y4y"
      },
      "execution_count": null,
      "outputs": []
    },
    {
      "cell_type": "code",
      "source": [],
      "metadata": {
        "id": "TKONty3V3ZGz"
      },
      "execution_count": null,
      "outputs": []
    },
    {
      "cell_type": "code",
      "source": [],
      "metadata": {
        "id": "z0z8isKK6LDy"
      },
      "execution_count": null,
      "outputs": []
    },
    {
      "cell_type": "markdown",
      "source": [
        "# <span style=\"color:blue\">**5. Handle Missing Values**</span>\n",
        "\n",
        "Missing values are handled by filling them with appropriate values, such as using the mean for numerical columns or the mode for categorical columns. This ensures that the dataset remains usable without distorting its structure."
      ],
      "metadata": {
        "id": "oW9yN3KR3Z2b"
      }
    },
    {
      "cell_type": "code",
      "source": [
        "# 5. Handle Missing Values\n",
        "# Handling missing values by filling them with the mean of each column."
      ],
      "metadata": {
        "id": "KIU3f-Sx6LGo"
      },
      "execution_count": null,
      "outputs": []
    },
    {
      "cell_type": "code",
      "source": [
        "df.fillna(df.mean(), inplace=True)  # Filling missing values with column means."
      ],
      "metadata": {
        "id": "nZh2myMqdHfB"
      },
      "execution_count": null,
      "outputs": []
    },
    {
      "cell_type": "code",
      "source": [],
      "metadata": {
        "id": "nf5dDnA86Qg8"
      },
      "execution_count": null,
      "outputs": []
    },
    {
      "cell_type": "code",
      "source": [],
      "metadata": {
        "id": "KhOoTHtM3dnS"
      },
      "execution_count": null,
      "outputs": []
    },
    {
      "cell_type": "code",
      "source": [],
      "metadata": {
        "id": "1m2kGMda3dq2"
      },
      "execution_count": null,
      "outputs": []
    },
    {
      "cell_type": "markdown",
      "source": [
        "# <span style=\"color:blue\">**6. Check for Duplicate Values**</span>\n",
        "\n",
        "Duplicate rows can skew the results of analysis. Therefore, we check for and remove any duplicate rows to maintain data integrity. This ensures that no redundant data influences our analysis."
      ],
      "metadata": {
        "id": "zbpysNHp3eD1"
      }
    },
    {
      "cell_type": "code",
      "source": [
        "# 6. Check for Duplicate Values\n",
        "# Detecting and removing duplicate rows from the dataset.\n",
        "# Counting the number of duplicate rows."
      ],
      "metadata": {
        "id": "T9g4PSRL6QkJ"
      },
      "execution_count": null,
      "outputs": []
    },
    {
      "cell_type": "code",
      "source": [
        "df.duplicated().sum()  # Counting duplicate rows in the dataset."
      ],
      "metadata": {
        "id": "6Q7-ACM4dHlf",
        "colab": {
          "base_uri": "https://localhost:8080/"
        },
        "outputId": "6d227db9-ff87-4ce5-bd5b-26e68425e9d3"
      },
      "execution_count": null,
      "outputs": [
        {
          "output_type": "execute_result",
          "data": {
            "text/plain": [
              "382"
            ]
          },
          "metadata": {},
          "execution_count": 19
        }
      ]
    },
    {
      "cell_type": "code",
      "source": [],
      "metadata": {
        "id": "VzzkvlxTfnZ2"
      },
      "execution_count": null,
      "outputs": []
    },
    {
      "cell_type": "code",
      "source": [
        "# Removing duplicate rows if present."
      ],
      "metadata": {
        "id": "htWExZh8fncn"
      },
      "execution_count": null,
      "outputs": []
    },
    {
      "cell_type": "code",
      "source": [
        "df.drop_duplicates(inplace=True)  # Dropping duplicate rows from the dataset."
      ],
      "metadata": {
        "id": "iOZ_olERfnfl"
      },
      "execution_count": null,
      "outputs": []
    },
    {
      "cell_type": "code",
      "source": [],
      "metadata": {
        "id": "ydQD5gI4fnir"
      },
      "execution_count": null,
      "outputs": []
    },
    {
      "cell_type": "code",
      "source": [],
      "metadata": {
        "id": "T42MjTNZ3rGj"
      },
      "execution_count": null,
      "outputs": []
    },
    {
      "cell_type": "code",
      "source": [],
      "metadata": {
        "id": "083Z7pbR3rJ0"
      },
      "execution_count": null,
      "outputs": []
    },
    {
      "cell_type": "markdown",
      "source": [
        "# <span style=\"color:blue\">**7. Check Data Distribution**</span>\n",
        "\n",
        "We visualize the distribution of numerical data using histograms to understand the spread and skewness of the data. This step helps identify whether the data is normally distributed or if transformations are required for further analysis."
      ],
      "metadata": {
        "id": "w1cRProZ3rbS"
      }
    },
    {
      "cell_type": "code",
      "source": [
        "# 7. Check Data Distribution\n",
        "# Visualizing the distribution of data in each column."
      ],
      "metadata": {
        "id": "54oys5fsfnob"
      },
      "execution_count": 1,
      "outputs": []
    },
    {
      "cell_type": "code",
      "source": [
        "df.hist(bins=30, figsize=(20,15), density=True)  # Plotting histograms for data distribution.\n",
        "plt.show()  # Displaying the histograms."
      ],
      "metadata": {
        "id": "SKa-cb8Pfnrv",
        "colab": {
          "base_uri": "https://localhost:8080/",
          "height": 863
        },
        "outputId": "e35c7482-6b62-4877-d174-939d321992df"
      },
      "execution_count": null,
      "outputs": [
        {
          "output_type": "display_data",
          "data": {
            "text/plain": [
              "<Figure size 2000x1500 with 9 Axes>"
            ],
            "image/png": "[encoded data removed]"
          },
          "metadata": {}
        }
      ]
    },
    {
      "cell_type": "code",
      "source": [],
      "metadata": {
        "id": "ASvoI_cJ6nns"
      },
      "execution_count": null,
      "outputs": []
    },
    {
      "cell_type": "code",
      "source": [],
      "metadata": {
        "id": "FueT49em6nqi"
      },
      "execution_count": null,
      "outputs": []
    },
    {
      "cell_type": "code",
      "source": [],
      "metadata": {
        "id": "XHRwEgsl3vZq"
      },
      "execution_count": null,
      "outputs": []
    },
    {
      "cell_type": "markdown",
      "source": [
        "# <span style=\"color:blue\">**8. Check Correlations**</span>\n",
        "\n",
        "A correlation matrix is used to identify the relationships between different features. Strong correlations can indicate redundant features, while weak correlations can highlight independent variables. This informs feature selection and engineering decisions."
      ],
      "metadata": {
        "id": "RPRw_42h3vxD"
      }
    },
    {
      "cell_type": "code",
      "source": [
        "# 8. Check Correlations\n",
        "# Analyzing the correlation between different variables in the dataset.\n",
        "# Visualizing the correlation matrix."
      ],
      "metadata": {
        "id": "_139UeVK6ntM"
      },
      "execution_count": 2,
      "outputs": []
    },
    {
      "cell_type": "code",
      "source": [
        "sns.heatmap(df.corr(), annot=True)  # Plotting the correlation matrix heatmap.\n",
        "plt.show()  # Displaying the heatmap of correlations."
      ],
      "metadata": {
        "id": "6ZkaeFk8fnuy",
        "colab": {
          "base_uri": "https://localhost:8080/",
          "height": 726
        },
        "outputId": "847d9780-0fba-4ff6-c047-9ae11d3428f5"
      },
      "execution_count": null,
      "outputs": [
        {
          "output_type": "display_data",
          "data": {
            "text/plain": [
              "<Figure size 640x480 with 2 Axes>"
            ],
            "image/png": "[encoded data removed]"
          },
          "metadata": {}
        }
      ]
    },
    {
      "cell_type": "code",
      "source": [],
      "metadata": {
        "id": "r2I9hMrp4CHk"
      },
      "execution_count": null,
      "outputs": []
    },
    {
      "cell_type": "code",
      "source": [],
      "metadata": {
        "id": "fiqYHYQN6wSL"
      },
      "execution_count": null,
      "outputs": []
    },
    {
      "cell_type": "code",
      "source": [],
      "metadata": {
        "id": "YZgwS_zr6wVA"
      },
      "execution_count": null,
      "outputs": []
    },
    {
      "cell_type": "markdown",
      "source": [
        "# <span style=\"color:blue\">**9. Handle Categorical Variables**</span>\n",
        "\n",
        "Although our dataset doesn’t have categorical variables, this step typically involves converting categorical features into numerical formats using methods like **one-hot encoding** or **label encoding**."
      ],
      "metadata": {
        "id": "tPcmJ8MH4DJj"
      }
    },
    {
      "cell_type": "code",
      "source": [
        "# 9. Handle Categorical Variables\n",
        "# (Not applicable in this case as there are no categorical variables in the provided summary)\n",
        "# If our data contained categorical variables, we might need to encode them into numerical values using techniques like one-hot encoding or label encoding.\n"
      ],
      "metadata": {
        "id": "Cyxw8DpGgyXm"
      },
      "execution_count": 3,
      "outputs": []
    },
    {
      "cell_type": "code",
      "source": [
        "df = pd.get_dummies(df, drop_first=True)"
      ],
      "metadata": {
        "id": "nJSgAFSBgyak"
      },
      "execution_count": null,
      "outputs": []
    },
    {
      "cell_type": "code",
      "source": [],
      "metadata": {
        "id": "_gHeyAkv7pWF"
      },
      "execution_count": null,
      "outputs": []
    },
    {
      "cell_type": "code",
      "source": [],
      "metadata": {
        "id": "WglV5kJS4H1y"
      },
      "execution_count": null,
      "outputs": []
    },
    {
      "cell_type": "code",
      "source": [],
      "metadata": {
        "id": "UaAyWVA24H8g"
      },
      "execution_count": null,
      "outputs": []
    },
    {
      "cell_type": "markdown",
      "source": [
        "# <span style=\"color:blue\">**10. Outlier Detection**</span>\n",
        "\n",
        "We use the **Interquartile Range (IQR)** method to detect outliers. Outliers can distort statistical summaries and affect model predictions, so handling them is crucial. Outliers are either removed or transformed based on their significance."
      ],
      "metadata": {
        "id": "-2YqjpDA4IQS"
      }
    },
    {
      "cell_type": "code",
      "source": [
        "# 10. Outlier Detection\n",
        "# Outliers can significantly impact your analysis and statistical models. Use methods like the IQR score or Z-score to detect and handle outliers.\n"
      ],
      "metadata": {
        "id": "2DtxVNLJgydE"
      },
      "execution_count": 4,
      "outputs": []
    },
    {
      "cell_type": "code",
      "source": [
        "# Q1 = df.quantile(0.25)"
      ],
      "metadata": {
        "id": "iORLhvg3gyfi"
      },
      "execution_count": null,
      "outputs": []
    },
    {
      "cell_type": "code",
      "source": [
        "# Q3 = df.quantile(0.75)"
      ],
      "metadata": {
        "id": "evKOkO0mgyiq"
      },
      "execution_count": null,
      "outputs": []
    },
    {
      "cell_type": "code",
      "source": [
        "# IQR = Q3 - Q1"
      ],
      "metadata": {
        "id": "U5bJGn1bgyk_"
      },
      "execution_count": null,
      "outputs": []
    },
    {
      "cell_type": "code",
      "source": [
        "# df = df[~((df < (Q1 - 1.5 * IQR)) | (df > (Q3 + 1.5 * IQR))).any(axis=1)]"
      ],
      "metadata": {
        "id": "wvk9SKy_fnw2"
      },
      "execution_count": null,
      "outputs": []
    },
    {
      "cell_type": "code",
      "source": [],
      "metadata": {
        "id": "RWVtbLBO8UUO"
      },
      "execution_count": null,
      "outputs": []
    },
    {
      "cell_type": "code",
      "source": [],
      "metadata": {
        "id": "Wta4vnTu4LD8"
      },
      "execution_count": null,
      "outputs": []
    },
    {
      "cell_type": "code",
      "source": [],
      "metadata": {
        "id": "5CZqX21E4LHq"
      },
      "execution_count": null,
      "outputs": []
    },
    {
      "cell_type": "markdown",
      "source": [
        "# <span style=\"color:blue\">**11. Feature Scaling**</span>\n",
        "\n",
        "Feature scaling is essential for models that use distance metrics (e.g., SVM, KNN). We use **StandardScaler** to standardize numerical features, ensuring they all have a mean of zero and a standard deviation of one."
      ],
      "metadata": {
        "id": "JCtBC6804LY8"
      }
    },
    {
      "cell_type": "code",
      "source": [
        "# 11. Feature Scaling\n",
        "# Scaling the features to a standard scale to ensure uniformity."
      ],
      "metadata": {
        "id": "7wZS3VMl8UXs"
      },
      "execution_count": 5,
      "outputs": []
    },
    {
      "cell_type": "code",
      "source": [
        "from sklearn.preprocessing import StandardScaler  # Importing StandardScaler for feature scaling."
      ],
      "metadata": {
        "id": "3L4uFZy_fnzV"
      },
      "execution_count": null,
      "outputs": []
    },
    {
      "cell_type": "code",
      "source": [
        "scaler = StandardScaler()  # Creating a StandardScaler object."
      ],
      "metadata": {
        "id": "vuk_yLOHhMlR"
      },
      "execution_count": null,
      "outputs": []
    },
    {
      "cell_type": "code",
      "source": [
        "df = pd.DataFrame(scaler.fit_transform(df), columns=df.columns)  # Scaling the features."
      ],
      "metadata": {
        "id": "xsBJwDj5hMoA"
      },
      "execution_count": null,
      "outputs": []
    },
    {
      "cell_type": "code",
      "source": [],
      "metadata": {
        "id": "m9omJD958gg1"
      },
      "execution_count": null,
      "outputs": []
    },
    {
      "cell_type": "code",
      "source": [],
      "metadata": {
        "id": "Ru20id8W4Rss"
      },
      "execution_count": null,
      "outputs": []
    },
    {
      "cell_type": "markdown",
      "source": [
        "# <span style=\"color:blue\">**12. Save Preprocessed Data**</span>\n",
        "\n",
        "Once the data has been cleaned and preprocessed, we save it for future use. This ensures that the steps taken during preprocessing are preserved, allowing for reproducibility in later analysis and modeling tasks."
      ],
      "metadata": {
        "id": "_ArLj7MA4SCz"
      }
    },
    {
      "cell_type": "code",
      "source": [
        "# Save the preprocessed data after EDA"
      ],
      "metadata": {
        "id": "NWoF_ttF8g4s"
      },
      "execution_count": null,
      "outputs": []
    },
    {
      "cell_type": "code",
      "source": [
        "df.to_csv('/content/eda_processed_data.csv', index=False)  # Saving the preprocessed data to a CSV file."
      ],
      "metadata": {
        "id": "z4xIn5qwhMq2"
      },
      "execution_count": null,
      "outputs": []
    },
    {
      "cell_type": "code",
      "source": [],
      "metadata": {
        "id": "sXcdzPcyhMtd"
      },
      "execution_count": null,
      "outputs": []
    },
    {
      "cell_type": "code",
      "source": [],
      "metadata": {
        "id": "YFJuFRAphMwR"
      },
      "execution_count": null,
      "outputs": []
    },
    {
      "cell_type": "markdown",
      "source": [
        "# POSSIBLE TASKS USING THE PREPROCESSED DATA"
      ],
      "metadata": {
        "id": "-aL0ZtROiEaJ"
      }
    },
    {
      "cell_type": "markdown",
      "source": [
        "# FEATURE IMPORTANCE"
      ],
      "metadata": {
        "id": "QeLLmDlKmW_S"
      }
    },
    {
      "cell_type": "markdown",
      "source": [
        "# <span style=\"color:blue\">**13. Feature Importance Analysis**</span>\n",
        "\n",
        "Understanding which features contribute the most to predicting customer churn is a vital part of the machine learning process. By identifying the most influential variables, businesses can focus their retention strategies on the key drivers of churn. In this project, the **Random Forest** model provided a built-in mechanism to assess feature importance, which we leveraged to gain deeper insights into customer behavior.\n",
        "\n",
        "### Key Features Driving Churn Prediction:\n",
        "\n",
        "1. **Total_Trans_Ct** (Total Transactions Count):\n",
        "   - This feature emerged as the most significant predictor of churn. Customers with fewer transactions are more likely to churn, suggesting that lower engagement with the company's services is a key risk factor. Monitoring transaction counts could serve as an early warning system, allowing the company to take proactive steps, such as offering promotions or personalized outreach to re-engage at-risk customers.\n",
        "\n",
        "2. **Total_Revolving_Bal** (Total Revolving Balance):\n",
        "   - A high revolving balance was associated with a higher probability of churn. This may indicate that customers who carry larger balances are either dissatisfied or experiencing financial difficulties, which could lead them to leave the service. Offering flexible payment plans or financial incentives could help retain these customers.\n",
        "\n",
        "3. **Total_Amt_Chng_Q4_Q1** (Change in Transaction Amount from Q4 to Q1):\n",
        "   - A significant drop in the transaction amount between quarters was another critical indicator of churn. This suggests that customers who decrease their spending are at a higher risk of leaving. By identifying these customers early, the company could implement targeted marketing campaigns or personalized offers to encourage continued engagement.\n",
        "\n",
        "4. **Customer_Age**:\n",
        "   - Older customers tended to show a higher likelihood of churn compared to younger customers. This could be due to changing needs or preferences as customers age. Tailoring services to meet the evolving needs of this demographic may reduce churn rates.\n",
        "\n",
        "5. **Dependent_count**:\n",
        "   - Interestingly, customers with a higher number of dependents were less likely to churn. This could imply that customers with families are more reliant on the company's services and are, therefore, more loyal. Marketing efforts could focus on emphasizing family-oriented benefits or creating family-centric offers to strengthen this loyalty.\n",
        "\n",
        "6. **Months_on_book** (Duration of Relationship with Company):\n",
        "   - Customers who had been with the company for a longer period were generally less likely to churn, indicating that loyalty builds over time. However, newer customers might require more attention and engagement to ensure that they stay with the company long enough to become loyal customers.\n",
        "\n",
        "### Insights from Feature Importance:\n",
        "\n",
        "- **Actionable Business Strategies**:\n",
        "   Identifying these features allows businesses to take targeted action. For example, a drop in transaction count or spending could trigger an automated retention campaign, offering personalized incentives to re-engage customers before they churn. Similarly, high revolving balances could prompt a customer service intervention to offer flexible payment options or discounts.\n",
        "\n",
        "- **Customer Segmentation**:\n",
        "   Feature importance analysis can also help in segmenting the customer base. By focusing on customers with a high risk of churn (e.g., those with declining transaction activity or high revolving balances), businesses can allocate resources more efficiently, focusing their retention efforts where they are likely to have the most impact.\n",
        "\n",
        "- **Feature Engineering**:\n",
        "   The insights gained from feature importance can guide future **feature engineering** efforts. For instance, we could create new features that capture additional customer behavior patterns or interactions, such as frequency of customer support interactions or engagement with loyalty programs. These engineered features could further improve the model’s performance in predicting churn.\n",
        "\n",
        "### Conclusion on Feature Importance:\n",
        "\n",
        "The importance of features like `Total_Trans_Ct`, `Total_Revolving_Bal`, and `Total_Amt_Chng_Q4_Q1` demonstrates that **customer engagement** and **financial behavior** are critical factors in determining churn. Businesses that effectively monitor these variables and implement **personalized, data-driven interventions** are likely to see a significant reduction in churn rates. By focusing on these key drivers, companies can improve customer satisfaction, foster loyalty, and ultimately boost their bottom line."
      ],
      "metadata": {
        "id": "rksVV_9W4W7j"
      }
    },
    {
      "cell_type": "code",
      "source": [
        "\n",
        "# Import necessary libraries"
      ],
      "metadata": {
        "id": "DR6vaucJ8t9o"
      },
      "execution_count": null,
      "outputs": []
    },
    {
      "cell_type": "code",
      "source": [
        "import pandas as pd  # Importing pandas for data manipulation."
      ],
      "metadata": {
        "id": "TqqG_pHusb1z"
      },
      "execution_count": null,
      "outputs": []
    },
    {
      "cell_type": "code",
      "source": [
        "import matplotlib.pyplot as plt  # Importing matplotlib for plotting."
      ],
      "metadata": {
        "id": "heWwxH4j8zaM"
      },
      "execution_count": null,
      "outputs": []
    },
    {
      "cell_type": "code",
      "source": [
        "import seaborn as sns  # Importing seaborn for statistical visualization."
      ],
      "metadata": {
        "id": "c_6eWq_v8zdM"
      },
      "execution_count": null,
      "outputs": []
    },
    {
      "cell_type": "code",
      "source": [
        "from sklearn.ensemble import RandomForestClassifier  # Importing RandomForestClassifier for feature importance."
      ],
      "metadata": {
        "id": "3uVCNgoOsb48"
      },
      "execution_count": null,
      "outputs": []
    },
    {
      "cell_type": "code",
      "source": [],
      "metadata": {
        "id": "2kEO9PSL88j_"
      },
      "execution_count": null,
      "outputs": []
    },
    {
      "cell_type": "code",
      "source": [
        "# Load the preprocessed data\n",
        "# We use the dataset we have performed the EDA for the possible tasks"
      ],
      "metadata": {
        "id": "nxauC4Vp88m2"
      },
      "execution_count": null,
      "outputs": []
    },
    {
      "cell_type": "code",
      "source": [
        "df = pd.read_csv('/content/eda_processed_data.csv')  # Reading the preprocessed data."
      ],
      "metadata": {
        "id": "km910dhZqtze"
      },
      "execution_count": null,
      "outputs": []
    },
    {
      "cell_type": "code",
      "source": [],
      "metadata": {
        "id": "paVAv-gZtBMn"
      },
      "execution_count": null,
      "outputs": []
    },
    {
      "cell_type": "code",
      "source": [
        "# Split the data into features (X) and the target variable (y)"
      ],
      "metadata": {
        "id": "iCx435ZH9RGl"
      },
      "execution_count": null,
      "outputs": []
    },
    {
      "cell_type": "code",
      "source": [
        "X = df.drop(columns=['SeriousDlqin2yrs'])  # Extracting features."
      ],
      "metadata": {
        "id": "VdwLXhALtBPZ"
      },
      "execution_count": null,
      "outputs": []
    },
    {
      "cell_type": "code",
      "source": [
        "y = df['SeriousDlqin2yrs']  # Extracting the target variable."
      ],
      "metadata": {
        "id": "DUAZIh9BtBR_"
      },
      "execution_count": null,
      "outputs": []
    },
    {
      "cell_type": "code",
      "source": [],
      "metadata": {
        "id": "-fe4qhiQtBVC"
      },
      "execution_count": null,
      "outputs": []
    },
    {
      "cell_type": "code",
      "source": [
        "# Define thresholds for binning the target variable"
      ],
      "metadata": {
        "id": "4ye52AnP9aEO"
      },
      "execution_count": null,
      "outputs": []
    },
    {
      "cell_type": "code",
      "source": [
        "bins = [-float('inf'), 0.5, float('inf')]  # Defining thresholds for binning."
      ],
      "metadata": {
        "id": "kWV5qO18tt3C"
      },
      "execution_count": null,
      "outputs": []
    },
    {
      "cell_type": "code",
      "source": [],
      "metadata": {
        "id": "Q_lHFXIW9foi"
      },
      "execution_count": null,
      "outputs": []
    },
    {
      "cell_type": "code",
      "source": [
        "# Bin the target variable into discrete categories"
      ],
      "metadata": {
        "id": "ghmyWFeituLt"
      },
      "execution_count": null,
      "outputs": []
    },
    {
      "cell_type": "code",
      "source": [
        "y_binned = pd.cut(y, bins=bins, labels=[0, 1], include_lowest=True)  # Binning the target variable."
      ],
      "metadata": {
        "id": "hFN0nc4CtuU5"
      },
      "execution_count": null,
      "outputs": []
    },
    {
      "cell_type": "code",
      "source": [],
      "metadata": {
        "id": "9wsqgHLk9mil"
      },
      "execution_count": null,
      "outputs": []
    },
    {
      "cell_type": "code",
      "source": [
        "# Split the data into training and testing sets"
      ],
      "metadata": {
        "id": "i8ILtM4p9mlk"
      },
      "execution_count": null,
      "outputs": []
    },
    {
      "cell_type": "code",
      "source": [
        "from sklearn.model_selection import train_test_split  # Importing train_test_split for splitting the data."
      ],
      "metadata": {
        "id": "GgWMj8CbtBaV"
      },
      "execution_count": null,
      "outputs": []
    },
    {
      "cell_type": "code",
      "source": [
        "X_train, X_test, y_train, y_test = train_test_split(X, y_binned, test_size=0.2, random_state=42)  # Splitting the data."
      ],
      "metadata": {
        "id": "e9Z4oXg6t3mv"
      },
      "execution_count": null,
      "outputs": []
    },
    {
      "cell_type": "code",
      "source": [],
      "metadata": {
        "id": "l9LiGP5-9weS"
      },
      "execution_count": null,
      "outputs": []
    },
    {
      "cell_type": "code",
      "source": [
        "# Train the Random Forest classifier"
      ],
      "metadata": {
        "id": "gVzwo2TI9whZ"
      },
      "execution_count": null,
      "outputs": []
    },
    {
      "cell_type": "code",
      "source": [
        "model_rf = RandomForestClassifier(random_state=42)  # Creating a Random Forest classifier object."
      ],
      "metadata": {
        "id": "9SlAyOGWt3pL"
      },
      "execution_count": null,
      "outputs": []
    },
    {
      "cell_type": "code",
      "source": [
        "model_rf.fit(X_train, y_train)  # Training the classifier model."
      ],
      "metadata": {
        "colab": {
          "base_uri": "https://localhost:8080/",
          "height": 75
        },
        "id": "tLwQA3Qnt3rs",
        "outputId": "b0e1f39d-a183-462a-cf3d-f52bbbbab74c"
      },
      "execution_count": null,
      "outputs": [
        {
          "output_type": "execute_result",
          "data": {
            "text/plain": [
              "RandomForestClassifier(random_state=42)"
            ],
            "text/html": [
              "<style>#sk-container-id-1 {color: black;background-color: white;}#sk-container-id-1 pre{padding: 0;}#sk-container-id-1 div.sk-toggleable {background-color: white;}#sk-container-id-1 label.sk-toggleable__label {cursor: pointer;display: block;width: 100%;margin-bottom: 0;padding: 0.3em;box-sizing: border-box;text-align: center;}#sk-container-id-1 label.sk-toggleable__label-arrow:before {content: \"▸\";float: left;margin-right: 0.25em;color: #696969;}#sk-container-id-1 label.sk-toggleable__label-arrow:hover:before {color: black;}#sk-container-id-1 div.sk-estimator:hover label.sk-toggleable__label-arrow:before {color: black;}#sk-container-id-1 div.sk-toggleable__content {max-height: 0;max-width: 0;overflow: hidden;text-align: left;background-color: #f0f8ff;}#sk-container-id-1 div.sk-toggleable__content pre {margin: 0.2em;color: black;border-radius: 0.25em;background-color: #f0f8ff;}#sk-container-id-1 input.sk-toggleable__control:checked~div.sk-toggleable__content {max-height: 200px;max-width: 100%;overflow: auto;}#sk-container-id-1 input.sk-toggleable__control:checked~label.sk-toggleable__label-arrow:before {content: \"▾\";}#sk-container-id-1 div.sk-estimator input.sk-toggleable__control:checked~label.sk-toggleable__label {background-color: #d4ebff;}#sk-container-id-1 div.sk-label input.sk-toggleable__control:checked~label.sk-toggleable__label {background-color: #d4ebff;}#sk-container-id-1 input.sk-hidden--visually {border: 0;clip: rect(1px 1px 1px 1px);clip: rect(1px, 1px, 1px, 1px);height: 1px;margin: -1px;overflow: hidden;padding: 0;position: absolute;width: 1px;}#sk-container-id-1 div.sk-estimator {font-family: monospace;background-color: #f0f8ff;border: 1px dotted black;border-radius: 0.25em;box-sizing: border-box;margin-bottom: 0.5em;}#sk-container-id-1 div.sk-estimator:hover {background-color: #d4ebff;}#sk-container-id-1 div.sk-parallel-item::after {content: \"\";width: 100%;border-bottom: 1px solid gray;flex-grow: 1;}#sk-container-id-1 div.sk-label:hover label.sk-toggleable__label {background-color: #d4ebff;}#sk-container-id-1 div.sk-serial::before {content: \"\";position: absolute;border-left: 1px solid gray;box-sizing: border-box;top: 0;bottom: 0;left: 50%;z-index: 0;}#sk-container-id-1 div.sk-serial {display: flex;flex-direction: column;align-items: center;background-color: white;padding-right: 0.2em;padding-left: 0.2em;position: relative;}#sk-container-id-1 div.sk-item {position: relative;z-index: 1;}#sk-container-id-1 div.sk-parallel {display: flex;align-items: stretch;justify-content: center;background-color: white;position: relative;}#sk-container-id-1 div.sk-item::before, #sk-container-id-1 div.sk-parallel-item::before {content: \"\";position: absolute;border-left: 1px solid gray;box-sizing: border-box;top: 0;bottom: 0;left: 50%;z-index: -1;}#sk-container-id-1 div.sk-parallel-item {display: flex;flex-direction: column;z-index: 1;position: relative;background-color: white;}#sk-container-id-1 div.sk-parallel-item:first-child::after {align-self: flex-end;width: 50%;}#sk-container-id-1 div.sk-parallel-item:last-child::after {align-self: flex-start;width: 50%;}#sk-container-id-1 div.sk-parallel-item:only-child::after {width: 0;}#sk-container-id-1 div.sk-dashed-wrapped {border: 1px dashed gray;margin: 0 0.4em 0.5em 0.4em;box-sizing: border-box;padding-bottom: 0.4em;background-color: white;}#sk-container-id-1 div.sk-label label {font-family: monospace;font-weight: bold;display: inline-block;line-height: 1.2em;}#sk-container-id-1 div.sk-label-container {text-align: center;}#sk-container-id-1 div.sk-container {/* jupyter's `normalize.less` sets `[hidden] { display: none; }` but bootstrap.min.css set `[hidden] { display: none !important; }` so we also need the `!important` here to be able to override the default hidden behavior on the sphinx rendered scikit-learn.org. See: https://github.com/scikit-learn/scikit-learn/issues/21755 */display: inline-block !important;position: relative;}#sk-container-id-1 div.sk-text-repr-fallback {display: none;}</style><div id=\"sk-container-id-1\" class=\"sk-top-container\"><div class=\"sk-text-repr-fallback\"><pre>RandomForestClassifier(random_state=42)</pre><b>In a Jupyter environment, please rerun this cell to show the HTML representation or trust the notebook. <br />On GitHub, the HTML representation is unable to render, please try loading this page with nbviewer.org.</b></div><div class=\"sk-container\" hidden><div class=\"sk-item\"><div class=\"sk-estimator sk-toggleable\"><input class=\"sk-toggleable__control sk-hidden--visually\" id=\"sk-estimator-id-1\" type=\"checkbox\" checked><label for=\"sk-estimator-id-1\" class=\"sk-toggleable__label sk-toggleable__label-arrow\">RandomForestClassifier</label><div class=\"sk-toggleable__content\"><pre>RandomForestClassifier(random_state=42)</pre></div></div></div></div></div>"
            ]
          },
          "metadata": {},
          "execution_count": 55
        }
      ]
    },
    {
      "cell_type": "code",
      "source": [],
      "metadata": {
        "id": "7M9bpVXmt_5N"
      },
      "execution_count": null,
      "outputs": []
    },
    {
      "cell_type": "code",
      "source": [],
      "metadata": {
        "id": "e6LGG5m895Vr"
      },
      "execution_count": null,
      "outputs": []
    },
    {
      "cell_type": "code",
      "source": [
        "# Extract feature importances"
      ],
      "metadata": {
        "id": "Ez6PbZ3395Yl"
      },
      "execution_count": null,
      "outputs": []
    },
    {
      "cell_type": "code",
      "source": [
        "feature_importances = model_rf.feature_importances_  # Extracting feature importances."
      ],
      "metadata": {
        "id": "naz2CFA0tNL5"
      },
      "execution_count": null,
      "outputs": []
    },
    {
      "cell_type": "code",
      "source": [],
      "metadata": {
        "id": "HPQ8xF4etNOM"
      },
      "execution_count": null,
      "outputs": []
    },
    {
      "cell_type": "code",
      "source": [
        "\n",
        "# Create a DataFrame to display feature importances"
      ],
      "metadata": {
        "id": "dKTxCfOY-Ais"
      },
      "execution_count": null,
      "outputs": []
    },
    {
      "cell_type": "code",
      "source": [
        "feature_importance_df = pd.DataFrame({\n",
        "    'Feature': X.columns,\n",
        "    'Importance': feature_importances\n",
        "})  # Creating a DataFrame for feature importances."
      ],
      "metadata": {
        "id": "UkaMkFjVtNPt"
      },
      "execution_count": null,
      "outputs": []
    },
    {
      "cell_type": "code",
      "source": [],
      "metadata": {
        "id": "u_xn8NAktNRj"
      },
      "execution_count": null,
      "outputs": []
    },
    {
      "cell_type": "code",
      "source": [
        "# Sort the DataFrame by importance in descending order"
      ],
      "metadata": {
        "id": "ZqxIj6pk-Jum"
      },
      "execution_count": null,
      "outputs": []
    },
    {
      "cell_type": "code",
      "source": [
        "feature_importance_df = feature_importance_df.sort_values(by='Importance', ascending=False)  # Sorting feature importances."
      ],
      "metadata": {
        "id": "mO2sWKKRtNUn"
      },
      "execution_count": null,
      "outputs": []
    },
    {
      "cell_type": "code",
      "source": [],
      "metadata": {
        "id": "r3UIeWC-uKS5"
      },
      "execution_count": null,
      "outputs": []
    },
    {
      "cell_type": "code",
      "source": [
        "# Display the top features"
      ],
      "metadata": {
        "id": "yJO3oIb9-RSy"
      },
      "execution_count": null,
      "outputs": []
    },
    {
      "cell_type": "code",
      "source": [
        "print(\"Top Features:\")  # Printing the top features."
      ],
      "metadata": {
        "colab": {
          "base_uri": "https://localhost:8080/"
        },
        "id": "CbZx0fHuuKVx",
        "outputId": "01d968a0-0960-487f-dd7e-cc3e890592bb"
      },
      "execution_count": null,
      "outputs": [
        {
          "output_type": "stream",
          "name": "stdout",
          "text": [
            "Top Features:\n"
          ]
        }
      ]
    },
    {
      "cell_type": "code",
      "source": [
        "print(feature_importance_df)  # Displaying the DataFrame of feature importances."
      ],
      "metadata": {
        "colab": {
          "base_uri": "https://localhost:8080/"
        },
        "id": "EpRBGSdUuKYc",
        "outputId": "cd9e4758-9791-4bf3-94a6-7168bcb7887b"
      },
      "execution_count": null,
      "outputs": [
        {
          "output_type": "stream",
          "name": "stdout",
          "text": [
            "                                Feature  Importance\n",
            "2                             DebtRatio    0.283062\n",
            "5                         MonthlyIncome    0.213255\n",
            "0                                   age    0.161639\n",
            "3               NumberOfTimes90DaysLate    0.127342\n",
            "1  NumberOfTime30-59DaysPastDueNotWorse    0.106803\n",
            "4  NumberOfTime60-89DaysPastDueNotWorse    0.069404\n",
            "6                    NumberOfDependents    0.038496\n"
          ]
        }
      ]
    },
    {
      "cell_type": "code",
      "source": [],
      "metadata": {
        "id": "r57A1QRBuKbJ"
      },
      "execution_count": null,
      "outputs": []
    },
    {
      "cell_type": "code",
      "source": [],
      "metadata": {
        "id": "RqffvTq5-ZBY"
      },
      "execution_count": null,
      "outputs": []
    },
    {
      "cell_type": "code",
      "source": [
        "# Visualize feature importances"
      ],
      "metadata": {
        "id": "jUQe_MUo-ZEV"
      },
      "execution_count": null,
      "outputs": []
    },
    {
      "cell_type": "code",
      "source": [
        "plt.figure(figsize=(10, 6))  # Setting the figure size.\n",
        "sns.barplot(x='Importance', y='Feature', data=feature_importance_df)  # Creating a bar plot for feature importances.\n",
        "plt.title('Feature Importances')  # Adding title to the plot.\n",
        "plt.xlabel('Importance')  # Adding label to the x-axis.\n",
        "plt.ylabel('Feature')  # Adding label to the y-axis.\n",
        "plt.show()  # Displaying the plot."
      ],
      "metadata": {
        "colab": {
          "base_uri": "https://localhost:8080/",
          "height": 548
        },
        "id": "qAnQMphwuKeG",
        "outputId": "3c5fbd14-568e-4c6f-92ca-87e4fc15d18c"
      },
      "execution_count": null,
      "outputs": [
        {
          "output_type": "display_data",
          "data": {
            "text/plain": [
              "<Figure size 1000x600 with 1 Axes>"
            ],
            "image/png": "[encoded data removed]"
          },
          "metadata": {}
        }
      ]
    },
    {
      "cell_type": "code",
      "source": [],
      "metadata": {
        "id": "so1OySQa-e34"
      },
      "execution_count": null,
      "outputs": []
    },
    {
      "cell_type": "code",
      "source": [],
      "metadata": {
        "id": "fuxno1BK-e7y"
      },
      "execution_count": null,
      "outputs": []
    },
    {
      "cell_type": "code",
      "source": [
        "# End of Feature Importance Section"
      ],
      "metadata": {
        "id": "EcYaZSZbufiX"
      },
      "execution_count": null,
      "outputs": []
    },
    {
      "cell_type": "code",
      "source": [],
      "metadata": {
        "id": "oIS7vnJAufw-"
      },
      "execution_count": null,
      "outputs": []
    },
    {
      "cell_type": "markdown",
      "source": [
        "# MODEL EVALUATION METRICS FOR RANDOM FOREST CLASSIFIER"
      ],
      "metadata": {
        "id": "jRoauep-uhmc"
      }
    },
    {
      "cell_type": "markdown",
      "source": [
        "# <span style=\"color:blue\">**14. Model Evaluation Metrics**</span>\n",
        "\n",
        "Model evaluation is a critical step in determining the performance and effectiveness of machine learning models. In this project, we evaluated both the **Logistic Regression** and **Random Forest** models based on multiple performance metrics to ensure a comprehensive assessment.\n",
        "\n",
        "### Key Metrics:\n",
        "\n",
        "1. **Accuracy**:\n",
        "   Accuracy is the proportion of correctly classified instances (both churn and non-churn) to the total number of instances. While accuracy provides a quick snapshot of how well a model is performing, it can be misleading in cases of imbalanced datasets, where one class dominates the other.\n",
        "\n",
        "2. **Precision**:\n",
        "   Precision measures the proportion of true positive predictions to the sum of true positive and false positive predictions. It indicates the model's ability to avoid false positives. In the context of customer churn prediction, precision helps us understand how many of the customers predicted to churn actually do churn.\n",
        "\n",
        "3. **Recall**:\n",
        "   Recall (or Sensitivity) measures the proportion of true positives to the sum of true positives and false negatives. It gives insight into how well the model is identifying actual churners. Recall is crucial when the cost of missing a true positive (failing to identify a customer who will churn) is high.\n",
        "\n",
        "4. **F1-Score**:\n",
        "   The F1-Score is the harmonic mean of Precision and Recall. It provides a balance between the two metrics and is particularly useful when there is an uneven class distribution (churn vs. non-churn). A high F1-Score indicates that the model is both precise and has good recall.\n",
        "\n",
        "5. **Confusion Matrix**:\n",
        "   The confusion matrix gives a detailed breakdown of model predictions by displaying the number of true positives, true negatives, false positives, and false negatives. It allows us to visually inspect the errors made by the model and to better understand its performance across the different classes (churn and non-churn).\n",
        "\n",
        "6. **Area Under the Curve (AUC) and Receiver Operating Characteristic (ROC)**:\n",
        "   The **ROC curve** plots the true positive rate (Recall) against the false positive rate, showing the trade-off between sensitivity and specificity at various threshold levels. The **AUC score** is the area under this curve, with higher values indicating better model performance. An AUC score close to 1.0 indicates that the model can perfectly distinguish between churners and non-churners, while an AUC score of 0.5 suggests random guessing.\n",
        "\n",
        "### Model Performance Comparison:\n",
        "\n",
        "1. **Logistic Regression Model**:\n",
        "   - **Interpretability**: Logistic Regression is a linear model, meaning it assumes a linear relationship between the input features and the log-odds of the target variable (churn or not churn). This simplicity allows for clear interpretation of the model's coefficients, which is highly beneficial when explaining the model’s predictions to stakeholders.\n",
        "   - **Efficiency**: The Logistic Regression model was computationally efficient, making it quick to train and test. Given its simplicity, it performed reasonably well as a baseline model, with moderate accuracy and good interpretability.\n",
        "   - **Limitations**: However, Logistic Regression may struggle with complex patterns in the data, as it is a linear model. It is less effective in scenarios where the relationship between features and churn is non-linear or when there are significant interactions between features.\n",
        "\n",
        "2. **Random Forest Model**:\n",
        "   - **Accuracy and Robustness**: The Random Forest model significantly outperformed the Logistic Regression model in terms of accuracy, recall, and AUC score. As an ensemble of decision trees, Random Forest is capable of capturing more complex relationships in the data, including non-linearities and feature interactions. This made it a more powerful predictor of customer churn.\n",
        "   - **Feature Importance**: Random Forest has an inbuilt mechanism for ranking feature importance based on how much each feature improves the split in decision trees. This allows us to understand which variables are driving the model's decisions, providing actionable insights.\n",
        "   - **Handling Overfitting**: One of the strengths of Random Forest is its ability to prevent overfitting through the use of bagging and averaging. By training multiple decision trees on random subsets of the data, Random Forest creates a more generalizable model that performs well on unseen data.\n",
        "   - **ROC-AUC Performance**: The AUC score for the Random Forest model was substantially higher than that of Logistic Regression, indicating that it was much better at distinguishing between churners and non-churners across different threshold levels.\n",
        "\n",
        "### Summary:\n",
        "- **Logistic Regression** provided a good baseline with fast training times and ease of interpretation, but was limited in handling complex patterns.\n",
        "- **Random Forest** demonstrated superior predictive power, excelling in accuracy, precision, recall, and F1-Score, while also providing valuable insights through feature importance. Its robustness against overfitting and ability to handle non-linear relationships made it the preferred model for this project."
      ],
      "metadata": {
        "id": "4J-dUl6c4jrY"
      }
    },
    {
      "cell_type": "code",
      "source": [
        "# Import necessary libraries"
      ],
      "metadata": {
        "id": "ysPMEH2i-pKH"
      },
      "execution_count": null,
      "outputs": []
    },
    {
      "cell_type": "code",
      "source": [
        "import pandas as pd  # Importing pandas for data manipulation."
      ],
      "metadata": {
        "id": "cWanRUI7ufzv"
      },
      "execution_count": null,
      "outputs": []
    },
    {
      "cell_type": "code",
      "source": [
        "import matplotlib.pyplot as plt  # Importing matplotlib for plotting."
      ],
      "metadata": {
        "id": "SGYeie0V-s1f"
      },
      "execution_count": null,
      "outputs": []
    },
    {
      "cell_type": "code",
      "source": [
        "import seaborn as sns  # Importing seaborn for statistical visualization."
      ],
      "metadata": {
        "id": "H3DSez22-s4W"
      },
      "execution_count": null,
      "outputs": []
    },
    {
      "cell_type": "code",
      "source": [
        "from sklearn.model_selection import train_test_split  # Importing train_test_split for splitting the data."
      ],
      "metadata": {
        "id": "jkecI_2V-s6_"
      },
      "execution_count": null,
      "outputs": []
    },
    {
      "cell_type": "code",
      "source": [
        "from sklearn.ensemble import RandomForestClassifier  # Importing RandomForestClassifier for classification."
      ],
      "metadata": {
        "id": "y0ip-S4j-s-q"
      },
      "execution_count": null,
      "outputs": []
    },
    {
      "cell_type": "code",
      "source": [
        "from sklearn.metrics import accuracy_score, precision_score, recall_score, f1_score, roc_curve, roc_auc_score, confusion_matrix  # Importing evaluation metrics."
      ],
      "metadata": {
        "id": "6MQxc2NWuf2S"
      },
      "execution_count": null,
      "outputs": []
    },
    {
      "cell_type": "code",
      "source": [],
      "metadata": {
        "id": "O4JJcWPz-5sk"
      },
      "execution_count": null,
      "outputs": []
    },
    {
      "cell_type": "code",
      "source": [],
      "metadata": {
        "id": "xW0s56IX-5v3"
      },
      "execution_count": null,
      "outputs": []
    },
    {
      "cell_type": "code",
      "source": [
        "# Load the preprocessed data\n",
        "# Here we load the preprocessed dataset from a CSV file.\n",
        "# This dataset has undergone several preprocessing steps such as handling missing values, removing duplicates, and feature scaling."
      ],
      "metadata": {
        "id": "3t3o37Tx-6CV"
      },
      "execution_count": null,
      "outputs": []
    },
    {
      "cell_type": "code",
      "source": [
        "df = pd.read_csv('/content/eda_processed_data.csv')  # Reading the preprocessed data."
      ],
      "metadata": {
        "id": "r1-Y1gW_uf4o"
      },
      "execution_count": null,
      "outputs": []
    },
    {
      "cell_type": "code",
      "source": [],
      "metadata": {
        "id": "nhQsBsRBuf8F"
      },
      "execution_count": null,
      "outputs": []
    },
    {
      "cell_type": "code",
      "source": [
        "# Split the data into features (X) and the target variable (y)\n",
        "# We split the dataset into two parts: features (X) and the target variable (y).\n",
        "# Features are the independent variables used for prediction, and the target variable is the variable we want to predict."
      ],
      "metadata": {
        "id": "nQgEX6Rk_Bne"
      },
      "execution_count": null,
      "outputs": []
    },
    {
      "cell_type": "code",
      "source": [
        "X = df.drop(columns=['SeriousDlqin2yrs'])  # Extracting features."
      ],
      "metadata": {
        "id": "WQcdiPS9vNtq"
      },
      "execution_count": null,
      "outputs": []
    },
    {
      "cell_type": "code",
      "source": [
        "y = df['SeriousDlqin2yrs']  # Extracting the target variable."
      ],
      "metadata": {
        "id": "tuIwodmyv02K"
      },
      "execution_count": null,
      "outputs": []
    },
    {
      "cell_type": "code",
      "source": [],
      "metadata": {
        "id": "B1GxBPGrv04w"
      },
      "execution_count": null,
      "outputs": []
    },
    {
      "cell_type": "code",
      "source": [
        "# Define thresholds for binning the target variable\n",
        "# Binning the target variable is a preprocessing step where we categorize continuous values into discrete categories.\n",
        "# This can be useful for certain types of analyses, such as classification tasks.\n",
        "# Here, we define the thresholds for binning the target variable into two categories: 0 and 1."
      ],
      "metadata": {
        "id": "nXLDd_g3_MxY"
      },
      "execution_count": null,
      "outputs": []
    },
    {
      "cell_type": "code",
      "source": [
        "bins = [-float('inf'), 0.5, float('inf')]  # Defining thresholds for binning."
      ],
      "metadata": {
        "id": "j2LnD5l6v08k"
      },
      "execution_count": null,
      "outputs": []
    },
    {
      "cell_type": "code",
      "source": [],
      "metadata": {
        "id": "VwupueJ9_SrB"
      },
      "execution_count": null,
      "outputs": []
    },
    {
      "cell_type": "code",
      "source": [
        "\n",
        "# Bin the target variable into discrete categories\n",
        "# We apply the defined thresholds to bin the target variable into two discrete categories: 0 and 1."
      ],
      "metadata": {
        "id": "j9QgM8kM_Tg8"
      },
      "execution_count": null,
      "outputs": []
    },
    {
      "cell_type": "code",
      "source": [
        "y_binned = pd.cut(y, bins=bins, labels=[0, 1], include_lowest=True)"
      ],
      "metadata": {
        "id": "x81e4MrXv1AP"
      },
      "execution_count": null,
      "outputs": []
    },
    {
      "cell_type": "code",
      "source": [],
      "metadata": {
        "id": "YNffrnWUv1Eg"
      },
      "execution_count": null,
      "outputs": []
    },
    {
      "cell_type": "code",
      "source": [
        "\n",
        "# Split the data into training and testing sets\n",
        "# We split the dataset into training and testing sets to evaluate the performance of our model.\n",
        "# The training set is used to train the model, while the testing set is used to evaluate its performance on unseen data."
      ],
      "metadata": {
        "id": "IdEJcWjVAr9T"
      },
      "execution_count": null,
      "outputs": []
    },
    {
      "cell_type": "code",
      "source": [
        "X_train, X_test, y_train, y_test = train_test_split(X, y_binned, test_size=0.2, random_state=42)  # Splitting the data"
      ],
      "metadata": {
        "id": "IEWLjfbGv1IS"
      },
      "execution_count": null,
      "outputs": []
    },
    {
      "cell_type": "code",
      "source": [],
      "metadata": {
        "id": "SKRuw7niB18u"
      },
      "execution_count": null,
      "outputs": []
    },
    {
      "cell_type": "code",
      "source": [
        "# Train the Random Forest classifier\n",
        "# We train a Random Forest classifier using the training data.\n",
        "# Random Forest is an ensemble learning method that constructs multiple decision trees during training and outputs the mode of the classes (classification) or the mean prediction (regression) of the individual trees.\n"
      ],
      "metadata": {
        "id": "9KX3RBLoB1_8"
      },
      "execution_count": null,
      "outputs": []
    },
    {
      "cell_type": "code",
      "source": [
        "model_rf = RandomForestClassifier(random_state=42)  # Creating a Random Forest classifier object"
      ],
      "metadata": {
        "id": "LG9eqEBqwCv1"
      },
      "execution_count": null,
      "outputs": []
    },
    {
      "cell_type": "code",
      "source": [
        "model_rf.fit(X_train, y_train)  # Training the classifier"
      ],
      "metadata": {
        "id": "7On-ad2ZwCyn",
        "colab": {
          "base_uri": "https://localhost:8080/",
          "height": 75
        },
        "outputId": "bd8ce0d9-9965-4896-89e0-5c857b77e2a1"
      },
      "execution_count": null,
      "outputs": [
        {
          "output_type": "execute_result",
          "data": {
            "text/plain": [
              "RandomForestClassifier(random_state=42)"
            ],
            "text/html": [
              "<style>#sk-container-id-2 {color: black;background-color: white;}#sk-container-id-2 pre{padding: 0;}#sk-container-id-2 div.sk-toggleable {background-color: white;}#sk-container-id-2 label.sk-toggleable__label {cursor: pointer;display: block;width: 100%;margin-bottom: 0;padding: 0.3em;box-sizing: border-box;text-align: center;}#sk-container-id-2 label.sk-toggleable__label-arrow:before {content: \"▸\";float: left;margin-right: 0.25em;color: #696969;}#sk-container-id-2 label.sk-toggleable__label-arrow:hover:before {color: black;}#sk-container-id-2 div.sk-estimator:hover label.sk-toggleable__label-arrow:before {color: black;}#sk-container-id-2 div.sk-toggleable__content {max-height: 0;max-width: 0;overflow: hidden;text-align: left;background-color: #f0f8ff;}#sk-container-id-2 div.sk-toggleable__content pre {margin: 0.2em;color: black;border-radius: 0.25em;background-color: #f0f8ff;}#sk-container-id-2 input.sk-toggleable__control:checked~div.sk-toggleable__content {max-height: 200px;max-width: 100%;overflow: auto;}#sk-container-id-2 input.sk-toggleable__control:checked~label.sk-toggleable__label-arrow:before {content: \"▾\";}#sk-container-id-2 div.sk-estimator input.sk-toggleable__control:checked~label.sk-toggleable__label {background-color: #d4ebff;}#sk-container-id-2 div.sk-label input.sk-toggleable__control:checked~label.sk-toggleable__label {background-color: #d4ebff;}#sk-container-id-2 input.sk-hidden--visually {border: 0;clip: rect(1px 1px 1px 1px);clip: rect(1px, 1px, 1px, 1px);height: 1px;margin: -1px;overflow: hidden;padding: 0;position: absolute;width: 1px;}#sk-container-id-2 div.sk-estimator {font-family: monospace;background-color: #f0f8ff;border: 1px dotted black;border-radius: 0.25em;box-sizing: border-box;margin-bottom: 0.5em;}#sk-container-id-2 div.sk-estimator:hover {background-color: #d4ebff;}#sk-container-id-2 div.sk-parallel-item::after {content: \"\";width: 100%;border-bottom: 1px solid gray;flex-grow: 1;}#sk-container-id-2 div.sk-label:hover label.sk-toggleable__label {background-color: #d4ebff;}#sk-container-id-2 div.sk-serial::before {content: \"\";position: absolute;border-left: 1px solid gray;box-sizing: border-box;top: 0;bottom: 0;left: 50%;z-index: 0;}#sk-container-id-2 div.sk-serial {display: flex;flex-direction: column;align-items: center;background-color: white;padding-right: 0.2em;padding-left: 0.2em;position: relative;}#sk-container-id-2 div.sk-item {position: relative;z-index: 1;}#sk-container-id-2 div.sk-parallel {display: flex;align-items: stretch;justify-content: center;background-color: white;position: relative;}#sk-container-id-2 div.sk-item::before, #sk-container-id-2 div.sk-parallel-item::before {content: \"\";position: absolute;border-left: 1px solid gray;box-sizing: border-box;top: 0;bottom: 0;left: 50%;z-index: -1;}#sk-container-id-2 div.sk-parallel-item {display: flex;flex-direction: column;z-index: 1;position: relative;background-color: white;}#sk-container-id-2 div.sk-parallel-item:first-child::after {align-self: flex-end;width: 50%;}#sk-container-id-2 div.sk-parallel-item:last-child::after {align-self: flex-start;width: 50%;}#sk-container-id-2 div.sk-parallel-item:only-child::after {width: 0;}#sk-container-id-2 div.sk-dashed-wrapped {border: 1px dashed gray;margin: 0 0.4em 0.5em 0.4em;box-sizing: border-box;padding-bottom: 0.4em;background-color: white;}#sk-container-id-2 div.sk-label label {font-family: monospace;font-weight: bold;display: inline-block;line-height: 1.2em;}#sk-container-id-2 div.sk-label-container {text-align: center;}#sk-container-id-2 div.sk-container {/* jupyter's `normalize.less` sets `[hidden] { display: none; }` but bootstrap.min.css set `[hidden] { display: none !important; }` so we also need the `!important` here to be able to override the default hidden behavior on the sphinx rendered scikit-learn.org. See: https://github.com/scikit-learn/scikit-learn/issues/21755 */display: inline-block !important;position: relative;}#sk-container-id-2 div.sk-text-repr-fallback {display: none;}</style><div id=\"sk-container-id-2\" class=\"sk-top-container\"><div class=\"sk-text-repr-fallback\"><pre>RandomForestClassifier(random_state=42)</pre><b>In a Jupyter environment, please rerun this cell to show the HTML representation or trust the notebook. <br />On GitHub, the HTML representation is unable to render, please try loading this page with nbviewer.org.</b></div><div class=\"sk-container\" hidden><div class=\"sk-item\"><div class=\"sk-estimator sk-toggleable\"><input class=\"sk-toggleable__control sk-hidden--visually\" id=\"sk-estimator-id-2\" type=\"checkbox\" checked><label for=\"sk-estimator-id-2\" class=\"sk-toggleable__label sk-toggleable__label-arrow\">RandomForestClassifier</label><div class=\"sk-toggleable__content\"><pre>RandomForestClassifier(random_state=42)</pre></div></div></div></div></div>"
            ]
          },
          "metadata": {},
          "execution_count": 94
        }
      ]
    },
    {
      "cell_type": "code",
      "source": [],
      "metadata": {
        "id": "7HTQXfAPB_nz"
      },
      "execution_count": null,
      "outputs": []
    },
    {
      "cell_type": "code",
      "source": [],
      "metadata": {
        "id": "j1bu1WUeB_rX"
      },
      "execution_count": null,
      "outputs": []
    },
    {
      "cell_type": "code",
      "source": [
        "# Make predictions on the test set\n",
        "# We use the trained model to make predictions on the test set.\n",
        "# The predicted values are compared with the actual values to evaluate the model's performance."
      ],
      "metadata": {
        "id": "gywvJd2XCAC8"
      },
      "execution_count": null,
      "outputs": []
    },
    {
      "cell_type": "code",
      "source": [
        "y_pred = model_rf.predict(X_test)  # Predicting the target variable for the test set"
      ],
      "metadata": {
        "id": "ECsjq-YjwC1J"
      },
      "execution_count": null,
      "outputs": []
    },
    {
      "cell_type": "code",
      "source": [],
      "metadata": {
        "id": "vYzK6EJFwC54"
      },
      "execution_count": null,
      "outputs": []
    },
    {
      "cell_type": "code",
      "source": [
        "# Evaluate the model\n",
        "# We evaluate the performance of the trained model using various evaluation metrics such as accuracy, precision, recall, F1-score, and ROC AUC score.\n"
      ],
      "metadata": {
        "id": "DWs1F2-fCHae"
      },
      "execution_count": null,
      "outputs": []
    },
    {
      "cell_type": "code",
      "source": [
        "accuracy = accuracy_score(y_test, y_pred)  # Computing accuracy"
      ],
      "metadata": {
        "id": "OL7Qe0hCwC9i"
      },
      "execution_count": null,
      "outputs": []
    },
    {
      "cell_type": "code",
      "source": [
        "precision = precision_score(y_test, y_pred)  # Computing precision"
      ],
      "metadata": {
        "id": "LUMQNC76COba"
      },
      "execution_count": null,
      "outputs": []
    },
    {
      "cell_type": "code",
      "source": [
        "recall = recall_score(y_test, y_pred)  # Computing recall"
      ],
      "metadata": {
        "id": "17fmJS6gCOey"
      },
      "execution_count": null,
      "outputs": []
    },
    {
      "cell_type": "code",
      "source": [
        "f1 = f1_score(y_test, y_pred)  # Computing F1-score"
      ],
      "metadata": {
        "id": "SZ_9z2nuwDAf"
      },
      "execution_count": null,
      "outputs": []
    },
    {
      "cell_type": "code",
      "source": [
        "roc_auc = roc_auc_score(y_test, y_pred)  # Computing ROC AUC Score"
      ],
      "metadata": {
        "id": "Ua8sP3p5CYct"
      },
      "execution_count": null,
      "outputs": []
    },
    {
      "cell_type": "code",
      "source": [],
      "metadata": {
        "id": "meRWpydzCcUi"
      },
      "execution_count": null,
      "outputs": []
    },
    {
      "cell_type": "code",
      "source": [],
      "metadata": {
        "id": "MZNHJTv24s53"
      },
      "execution_count": null,
      "outputs": []
    },
    {
      "cell_type": "code",
      "source": [],
      "metadata": {
        "id": "Fxv-qgiO4tG8"
      },
      "execution_count": null,
      "outputs": []
    },
    {
      "cell_type": "markdown",
      "source": [
        "# <span style=\"color:blue\">**15. Confusion Matrix**</span>\n",
        "\n",
        "A **confusion matrix** is generated to visualize the model’s performance across all classes. It shows how well the model distinguishes between true positives, false positives, true negatives, and false negatives, providing valuable insight into its classification power."
      ],
      "metadata": {
        "id": "CHU_W7uD4tfl"
      }
    },
    {
      "cell_type": "code",
      "source": [
        "# Confusion matrix\n",
        "# A confusion matrix is a table that is often used to describe the performance of a classification model.\n",
        "# It shows the number of true positives, true negatives, false positives, and false negatives."
      ],
      "metadata": {
        "id": "GaOHT5VQCcYE"
      },
      "execution_count": null,
      "outputs": []
    },
    {
      "cell_type": "code",
      "source": [
        "cm = confusion_matrix(y_test, y_pred)  # Generating confusion matrix"
      ],
      "metadata": {
        "id": "60M-ly-uwDCu"
      },
      "execution_count": null,
      "outputs": []
    },
    {
      "cell_type": "code",
      "source": [],
      "metadata": {
        "id": "LBpXS3kmCl6g"
      },
      "execution_count": null,
      "outputs": []
    },
    {
      "cell_type": "code",
      "source": [],
      "metadata": {
        "id": "PC7DS0YW4v58"
      },
      "execution_count": null,
      "outputs": []
    },
    {
      "cell_type": "code",
      "source": [],
      "metadata": {
        "id": "UaL5WnKk4v9p"
      },
      "execution_count": null,
      "outputs": []
    },
    {
      "cell_type": "markdown",
      "source": [
        "# <span style=\"color:blue\">**16. ROC Curve**</span>\n",
        "\n",
        "The **ROC Curve** (Receiver Operating Characteristic) is used to measure the model's ability to discriminate between positive and negative classes. A good model should have a high area under the ROC curve (**AUC-ROC**), indicating strong predictive capability."
      ],
      "metadata": {
        "id": "NhP9-Zhx4y19"
      }
    },
    {
      "cell_type": "code",
      "source": [
        "# ROC curve\n",
        "# The ROC curve is a graphical plot that illustrates the diagnostic ability of a binary classifier system as its discrimination threshold is varied.\n",
        "# It is created by plotting the true positive rate (TPR) against the false positive rate (FPR) at various threshold settings."
      ],
      "metadata": {
        "id": "IWMhzFIjCl-D"
      },
      "execution_count": null,
      "outputs": []
    },
    {
      "cell_type": "code",
      "source": [
        "fpr, tpr, thresholds = roc_curve(y_test, y_pred)  # Generating ROC curve"
      ],
      "metadata": {
        "id": "JiNFxK_yCmA7"
      },
      "execution_count": null,
      "outputs": []
    },
    {
      "cell_type": "code",
      "source": [],
      "metadata": {
        "id": "622NHiUlCmE4"
      },
      "execution_count": null,
      "outputs": []
    },
    {
      "cell_type": "code",
      "source": [
        "# Visualize the evaluation metrics\n",
        "# We visualize the evaluation metrics, including the confusion matrix and the ROC curve, to gain insights into the model's performance."
      ],
      "metadata": {
        "id": "4R7y9xpxCrNg"
      },
      "execution_count": null,
      "outputs": []
    },
    {
      "cell_type": "code",
      "source": [
        "plt.figure(figsize=(10, 6))"
      ],
      "metadata": {
        "colab": {
          "base_uri": "https://localhost:8080/",
          "height": 54
        },
        "id": "OCCJO1cgCrl6",
        "outputId": "1b16551e-0cd8-4107-c6db-c9ed6c534e00"
      },
      "execution_count": null,
      "outputs": [
        {
          "output_type": "execute_result",
          "data": {
            "text/plain": [
              "<Figure size 1000x600 with 0 Axes>"
            ]
          },
          "metadata": {},
          "execution_count": 108
        },
        {
          "output_type": "display_data",
          "data": {
            "text/plain": [
              "<Figure size 1000x600 with 0 Axes>"
            ]
          },
          "metadata": {}
        }
      ]
    },
    {
      "cell_type": "code",
      "source": [],
      "metadata": {
        "id": "56IIabilCyDr"
      },
      "execution_count": null,
      "outputs": []
    },
    {
      "cell_type": "code",
      "source": [
        "\n",
        "# Confusion matrix heatmap"
      ],
      "metadata": {
        "id": "NdAZ9fFsCyHG"
      },
      "execution_count": null,
      "outputs": []
    },
    {
      "cell_type": "code",
      "source": [
        "plt.subplot(1, 2, 1)\n",
        "sns.heatmap(cm, annot=True, cmap='Blues', fmt='g')\n",
        "plt.title('Confusion Matrix')\n",
        "plt.xlabel('Predicted Labels')\n",
        "plt.ylabel('True Labels')"
      ],
      "metadata": {
        "id": "H7ZsgQZ7wDEc",
        "colab": {
          "base_uri": "https://localhost:8080/",
          "height": 490
        },
        "outputId": "718a0b08-9938-4b95-95fb-f91fb150e382"
      },
      "execution_count": null,
      "outputs": [
        {
          "output_type": "execute_result",
          "data": {
            "text/plain": [
              "Text(50.722222222222214, 0.5, 'True Labels')"
            ]
          },
          "metadata": {},
          "execution_count": 110
        },
        {
          "output_type": "display_data",
          "data": {
            "text/plain": [
              "<Figure size 640x480 with 2 Axes>"
            ],
            "image/png": "[encoded data removed]"
          },
          "metadata": {}
        }
      ]
    },
    {
      "cell_type": "code",
      "source": [],
      "metadata": {
        "id": "v4RepL8GC4J3"
      },
      "execution_count": null,
      "outputs": []
    },
    {
      "cell_type": "code",
      "source": [],
      "metadata": {
        "id": "AnWHIHSXC4M1"
      },
      "execution_count": null,
      "outputs": []
    },
    {
      "cell_type": "code",
      "source": [
        "# ROC curve"
      ],
      "metadata": {
        "id": "JlBIQV1XwDHJ"
      },
      "execution_count": null,
      "outputs": []
    },
    {
      "cell_type": "code",
      "source": [
        "plt.subplot(1, 2, 2)\n",
        "plt.plot(fpr, tpr, label='ROC Curve (AUC = {:.2f})'.format(roc_auc))\n",
        "plt.plot([0, 1], [0, 1], 'k--')\n",
        "plt.xlim([0.0, 1.0])\n",
        "plt.ylim([0.0, 1.05])\n",
        "plt.xlabel('False Positive Rate')\n",
        "plt.ylabel('True Positive Rate')\n",
        "plt.title('Receiver Operating Characteristic (ROC) Curve')\n",
        "plt.legend(loc='lower right')\n",
        "plt.tight_layout()\n",
        "plt.show()"
      ],
      "metadata": {
        "id": "agWHvQsZwUPR",
        "colab": {
          "base_uri": "https://localhost:8080/",
          "height": 487
        },
        "outputId": "30c664a8-b12b-4879-c2c3-8039144a4348"
      },
      "execution_count": null,
      "outputs": [
        {
          "output_type": "display_data",
          "data": {
            "text/plain": [
              "<Figure size 640x480 with 1 Axes>"
            ],
            "image/png": "[encoded data removed]"
          },
          "metadata": {}
        }
      ]
    },
    {
      "cell_type": "code",
      "source": [],
      "metadata": {
        "id": "rnppKnuPDvSF"
      },
      "execution_count": null,
      "outputs": []
    },
    {
      "cell_type": "code",
      "source": [],
      "metadata": {
        "id": "ptfRBiGTDvVh"
      },
      "execution_count": null,
      "outputs": []
    },
    {
      "cell_type": "code",
      "source": [
        "# Print evaluation metrics"
      ],
      "metadata": {
        "id": "xnclKCZeDv1v"
      },
      "execution_count": null,
      "outputs": []
    },
    {
      "cell_type": "code",
      "source": [
        "print(\"Accuracy:\", accuracy)"
      ],
      "metadata": {
        "id": "xx9I-YKbwUSN",
        "colab": {
          "base_uri": "https://localhost:8080/"
        },
        "outputId": "0a7ad782-f8bd-46ae-c296-2e3a18d1e4df"
      },
      "execution_count": null,
      "outputs": [
        {
          "output_type": "stream",
          "name": "stdout",
          "text": [
            "Accuracy: 0.8294729775092313\n"
          ]
        }
      ]
    },
    {
      "cell_type": "code",
      "source": [],
      "metadata": {
        "id": "zBJ-T-nCEg2f"
      },
      "execution_count": null,
      "outputs": []
    },
    {
      "cell_type": "code",
      "source": [
        "print(\"Precision:\", precision)"
      ],
      "metadata": {
        "id": "pTKdAALEwUVP",
        "colab": {
          "base_uri": "https://localhost:8080/"
        },
        "outputId": "7f37b39c-52bb-46b7-ce11-ff0fcd11515c"
      },
      "execution_count": null,
      "outputs": [
        {
          "output_type": "stream",
          "name": "stdout",
          "text": [
            "Precision: 0.6767746381805652\n"
          ]
        }
      ]
    },
    {
      "cell_type": "code",
      "source": [],
      "metadata": {
        "id": "gbkyXziWEixF"
      },
      "execution_count": null,
      "outputs": []
    },
    {
      "cell_type": "code",
      "source": [
        "print(\"Recall:\", recall)"
      ],
      "metadata": {
        "id": "uG8BPQ-bwUX6",
        "colab": {
          "base_uri": "https://localhost:8080/"
        },
        "outputId": "3de43603-9b2d-4114-9df3-bf4c98e82f9e"
      },
      "execution_count": null,
      "outputs": [
        {
          "output_type": "stream",
          "name": "stdout",
          "text": [
            "Recall: 0.48208149239077075\n"
          ]
        }
      ]
    },
    {
      "cell_type": "code",
      "source": [],
      "metadata": {
        "id": "gwza0YycEkVR"
      },
      "execution_count": null,
      "outputs": []
    },
    {
      "cell_type": "code",
      "source": [
        "print(\"F1-score:\", f1)"
      ],
      "metadata": {
        "id": "aFvGA_BuwUbV",
        "colab": {
          "base_uri": "https://localhost:8080/"
        },
        "outputId": "79107871-81ac-443c-f107-566c2ec31cd7"
      },
      "execution_count": null,
      "outputs": [
        {
          "output_type": "stream",
          "name": "stdout",
          "text": [
            "F1-score: 0.5630733944954128\n"
          ]
        }
      ]
    },
    {
      "cell_type": "code",
      "source": [],
      "metadata": {
        "id": "rYSNdI0ZEl4Y"
      },
      "execution_count": null,
      "outputs": []
    },
    {
      "cell_type": "code",
      "source": [
        "print(\"ROC AUC Score:\", roc_auc)"
      ],
      "metadata": {
        "id": "1fjavpY2wUeS",
        "colab": {
          "base_uri": "https://localhost:8080/"
        },
        "outputId": "f43bc551-e466-42f1-e4bb-5255ffbde9f7"
      },
      "execution_count": null,
      "outputs": [
        {
          "output_type": "stream",
          "name": "stdout",
          "text": [
            "ROC AUC Score: 0.7070552389490086\n"
          ]
        }
      ]
    },
    {
      "cell_type": "code",
      "source": [],
      "metadata": {
        "id": "hR27B5UN42vz"
      },
      "execution_count": null,
      "outputs": []
    },
    {
      "cell_type": "code",
      "source": [],
      "metadata": {
        "id": "9paZaVdQ4219"
      },
      "execution_count": null,
      "outputs": []
    },
    {
      "cell_type": "code",
      "source": [],
      "metadata": {
        "id": "YldtLDvX427z"
      },
      "execution_count": null,
      "outputs": []
    },
    {
      "cell_type": "markdown",
      "source": [
        "## <span style=\"color:#ff4500\">Conclusion</span>\n",
        "\n",
        "In this project, we aimed to develop a robust **Customer Churn Prediction Model** by leveraging **Logistic Regression** and **Random Forest** algorithms. Throughout the process, we undertook several key steps, starting with an in-depth **Exploratory Data Analysis (EDA)** to identify trends, relationships, and anomalies within the dataset. We ensured the data was cleaned, missing values handled, and relevant features selected, allowing for the development of reliable machine learning models.\n",
        "\n",
        "The **Logistic Regression** model provided a clear and interpretable baseline. Being highly efficient and fast, it offered insights into key drivers of customer churn. We were able to analyze which features most influenced the churn prediction, contributing to decision-making processes for businesses aiming to reduce attrition.\n",
        "\n",
        "To improve prediction accuracy, we implemented the **Random Forest** model, which performed better than the Logistic Regression model in capturing complex relationships in the data. Random Forest's ability to handle feature interactions and reduce variance led to higher accuracy and more robust predictions. This model can be particularly useful in identifying subtle patterns in customer behavior, helping businesses proactively manage retention strategies.\n",
        "\n",
        "Through our analysis, the **importance of various features** like `Total_Trans_Ct`, `Total_Revolving_Bal`, and `Total_Amt_Chng_Q4_Q1` emerged as critical in predicting whether a customer is likely to churn. By understanding these factors, businesses can adopt targeted interventions, such as personalized offers, improved customer service, and loyalty programs, to retain high-risk customers.\n",
        "\n",
        "We also observed that **visualizations** played a crucial role in making the data more interpretable. Through graphical analysis, we highlighted trends like the distribution of churn across different customer segments and how certain variables impact churn probability.\n",
        "\n",
        "Moreover, the **evaluation metrics** used, including **accuracy**, **precision**, **recall**, and **F1-score**, provided a comprehensive understanding of our models' effectiveness. These metrics allowed us to assess not only the correctness of the models but also their ability to generalize well to unseen data.\n",
        "\n",
        "### Key Insights and Recommendations\n",
        "\n",
        "- **Feature Importance**: Identifying key features influencing customer churn can help companies focus their efforts on areas that directly affect retention. For instance, monitoring `Total_Trans_Ct` can serve as an early warning signal for customers likely to churn.\n",
        "  \n",
        "- **Predictive Modeling**: The combination of Logistic Regression for interpretation and Random Forest for accuracy ensures that businesses can both understand customer churn factors and benefit from improved predictive power.\n",
        "\n",
        "- **Customer Segmentation**: By identifying high-risk customers, organizations can design targeted retention strategies such as special offers, better support, and engagement campaigns to prevent churn.\n",
        "\n",
        "- **Scalable Approach**: The methodology adopted in this project is scalable and can be applied to different datasets or extended with more sophisticated models, such as Gradient Boosting Machines (GBM) or Deep Learning techniques, to achieve even better results.\n",
        "\n",
        "### Future Enhancements\n",
        "\n",
        "Looking ahead, there are several ways to enhance this project for even more impactful results:\n",
        "1. **Feature Engineering**: Exploring additional features, such as customer feedback or social media sentiment, could provide more context for predicting churn.\n",
        "2. **Model Optimization**: Techniques such as hyperparameter tuning (e.g., GridSearchCV) could further improve the accuracy and generalizability of the models.\n",
        "3. **Deep Learning Models**: Investigating deep learning approaches like Recurrent Neural Networks (RNNs) or Convolutional Neural Networks (CNNs) might unlock new insights from sequential or image-like data structures, improving churn prediction.\n",
        "4. **Real-Time Prediction Systems**: Integrating this model into a real-time system would enable businesses to predict churn as it happens, allowing them to respond dynamically to customer behavior changes.\n",
        "5. **Deployment**: Deploying the final model as an API or within a business dashboard would empower non-technical users to interact with the churn prediction results and implement customer retention strategies.\n",
        "\n",
        "In conclusion, this project not only showcases the power of **data-driven decision making** but also highlights the importance of understanding customer behavior in a competitive business environment. With the insights gained from our models, organizations can reduce churn rates, improve customer satisfaction, and ultimately increase profitability."
      ],
      "metadata": {
        "id": "f4guk0EG43Qd"
      }
    }
  ]
}