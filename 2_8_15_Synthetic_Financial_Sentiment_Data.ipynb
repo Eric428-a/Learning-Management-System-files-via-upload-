{
  "nbformat": 4,
  "nbformat_minor": 0,
  "metadata": {
    "colab": {
      "provenance": [],
      "gpuType": "T4"
    },
    "kernelspec": {
      "name": "python3",
      "display_name": "Python 3"
    },
    "language_info": {
      "name": "python"
    },
    "accelerator": "GPU"
  },
  "cells": [
    {
      "cell_type": "markdown",
      "source": [
        "<hr style=\"border: 3px solid purple;\">\n",
        "<hr style=\"border: 3px solid purple;\">"
      ],
      "metadata": {
        "id": "ljkltqo13yN-"
      }
    },
    {
      "cell_type": "markdown",
      "source": [
        "# 🧠 **Project Overview: Synthetic Sentiment Data Generation using GANs**\n",
        "\n",
        "In this project, we’ll be working on generating **synthetic sentiment data** using a **Generative Adversarial Network (GAN)**. The goal is to create realistic financial sentiment data by training the GAN model on existing sentiment-labeled data. This synthetic data can be useful for various applications, such as training models for sentiment analysis or enhancing financial datasets.\n",
        "\n",
        "## 🧹 **Step 1: Data Loading and Exploration**\n",
        "- **Dataset**: The dataset consists of financial phrases and their corresponding sentiment labels (positive, neutral, negative).\n",
        "- We start by **loading the dataset** and inspecting the first few rows to understand its structure.\n",
        "- Key operations include:\n",
        "  - Checking for **missing values** and **duplicates**.\n",
        "  - Displaying general **statistics** of the dataset (mean, std, etc.).\n",
        "\n",
        "## ✨ **Step 2: Text Preprocessing**\n",
        "- Text data is **cleaned** by:\n",
        "  - Removing special characters with regular expressions (e.g., `[^a-zA-Z\\s]`).\n",
        "  - Converting all text to **lowercase** for uniformity.\n",
        "- **Text normalization** ensures we have clean, readable data for model training.\n",
        "\n",
        "## 🔠 **Step 3: Sentiment Encoding**\n",
        "- The sentiment labels are **encoded** into numerical values:\n",
        "  - `positive` → `1`\n",
        "  - `neutral` → `0`\n",
        "  - `negative` → `-1`\n",
        "- This encoding is essential for training machine learning models, as they require numerical inputs.\n",
        "\n",
        "## 🧑‍💻 **Step 4: Feature Extraction**\n",
        "- **Text features** are extracted using the **CountVectorizer**.\n",
        "  - Converts the cleaned phrases into a **bag-of-words** representation.\n",
        "  - We limit the features to the **5000 most frequent words** to keep the data manageable.\n",
        "- This step results in a sparse matrix that is converted to a DataFrame for better inspection.\n",
        "\n",
        "## 🤖 **Step 5: Building the GAN Model**\n",
        "- A **GAN** consists of two main components:\n",
        "  1. **Generator**: Takes random noise as input and generates synthetic data.\n",
        "  2. **Discriminator**: Differentiates between real and fake data.\n",
        "- Both components are defined using the **Keras Sequential API**:\n",
        "  - The **generator** learns to generate realistic synthetic sentiment data.\n",
        "  - The **discriminator** gets better at distinguishing real from synthetic data.\n",
        "  \n",
        "## 🚀 **Step 6: Training the GAN**\n",
        "- **Training Process**:\n",
        "  - The **discriminator** is trained on both real and fake data.\n",
        "  - The **generator** is trained to fool the discriminator into thinking its synthetic data is real.\n",
        "  - This process continues for several **epochs**.\n",
        "- **Loss functions**:\n",
        "  - **Discriminator loss**: Measures how well the discriminator can classify real and fake data.\n",
        "  - **Generator loss**: Measures how well the generator can fool the discriminator.\n",
        "\n",
        "## 🧬 **Step 7: Generating Synthetic Data**\n",
        "- After training, we use the **generator** to produce synthetic sentiment data.\n",
        "- The generated data is then **saved** as a CSV file for further use or analysis.\n",
        "\n",
        "## 📊 **Step 8: Data Visualization**\n",
        "- **Distributions**: We compare the distributions of original and synthetic data using **histograms**.\n",
        "- **Correlation Heatmap**: A heatmap is used to visualize the relationships between features in the synthetic data.\n",
        "  \n",
        "## 🚨 **Key Points to Remember**\n",
        "- The **generator** and **discriminator** are trained simultaneously in an adversarial setup.\n",
        "- The goal of training is to make the **generator** better at producing realistic data and the **discriminator** better at identifying fake data.\n",
        "- After training, the generator can produce **new, synthetic data** that mimics the distribution of real data.\n",
        "\n",
        "---\n",
        "\n",
        "✨ **Congratulations!** You’ve now built and trained a **GAN** to generate **synthetic sentiment data**. This is a great foundation for generating other types of synthetic datasets for various machine learning applications. Keep experimenting and improving the model to make the generated data even more realistic! 💡"
      ],
      "metadata": {
        "id": "PPsYBL9L34pv"
      }
    },
    {
      "cell_type": "markdown",
      "source": [
        "<hr style=\"border: 1px solid purple;\">"
      ],
      "metadata": {
        "id": "1jBbP10_38GS"
      }
    },
    {
      "cell_type": "code",
      "source": [],
      "metadata": {
        "id": "zIy1MivX3-OE"
      },
      "execution_count": null,
      "outputs": []
    },
    {
      "cell_type": "code",
      "source": [],
      "metadata": {
        "id": "9it0XUd33-VI"
      },
      "execution_count": null,
      "outputs": []
    },
    {
      "cell_type": "code",
      "source": [],
      "metadata": {
        "id": "W1Tc_ygQ3-pB"
      },
      "execution_count": null,
      "outputs": []
    },
    {
      "cell_type": "markdown",
      "source": [
        "<hr style=\"border: 1px solid purple;\">"
      ],
      "metadata": {
        "id": "-uTTj8933-3d"
      }
    },
    {
      "cell_type": "code",
      "source": [
        "import warnings"
      ],
      "metadata": {
        "id": "ikvjmDYKyeNA"
      },
      "execution_count": 254,
      "outputs": []
    },
    {
      "cell_type": "code",
      "source": [
        "warnings.filterwarnings('ignore')"
      ],
      "metadata": {
        "id": "67fDJO_ayeCx"
      },
      "execution_count": 255,
      "outputs": []
    },
    {
      "cell_type": "code",
      "source": [],
      "metadata": {
        "id": "4_BXhu-MzKr7"
      },
      "execution_count": 255,
      "outputs": []
    },
    {
      "cell_type": "code",
      "source": [
        "import pandas as pd"
      ],
      "metadata": {
        "id": "H-dYk7JusLX7"
      },
      "execution_count": 256,
      "outputs": []
    },
    {
      "cell_type": "code",
      "source": [
        "import matplotlib.pyplot as plt"
      ],
      "metadata": {
        "id": "bFr6UQr_1Agb"
      },
      "execution_count": 361,
      "outputs": []
    },
    {
      "cell_type": "code",
      "source": [
        "import seaborn as sns"
      ],
      "metadata": {
        "id": "jAmY4Ay71Am1"
      },
      "execution_count": 360,
      "outputs": []
    },
    {
      "cell_type": "code",
      "source": [
        "import re"
      ],
      "metadata": {
        "id": "DxdCCPYPsLay"
      },
      "execution_count": 257,
      "outputs": []
    },
    {
      "cell_type": "markdown",
      "source": [
        "<hr style=\"border: 1px solid purple;\">"
      ],
      "metadata": {
        "id": "-D1UfpkE4CZQ"
      }
    },
    {
      "cell_type": "code",
      "source": [],
      "metadata": {
        "id": "WNQ3xGoKsLc_"
      },
      "execution_count": 257,
      "outputs": []
    },
    {
      "cell_type": "code",
      "source": [],
      "metadata": {
        "id": "3_azlKYnsLfK"
      },
      "execution_count": 257,
      "outputs": []
    },
    {
      "cell_type": "code",
      "source": [],
      "metadata": {
        "id": "-SQGoWXH4Ey1"
      },
      "execution_count": null,
      "outputs": []
    },
    {
      "cell_type": "markdown",
      "source": [
        "<hr style=\"border: 1px solid purple;\">"
      ],
      "metadata": {
        "id": "XJR1iVdv4E-z"
      }
    },
    {
      "cell_type": "markdown",
      "source": [
        "# 📥 **Step 1: Data Loading and Exploration**\n",
        "\n",
        "In this step, we begin by loading the sentiment dataset and exploring its basic structure.\n",
        "\n",
        "- **Load Data**: The dataset is loaded using Pandas from a specified CSV file. The data is expected to contain two columns: one for financial phrases and another for sentiment labels.\n",
        "  \n",
        "- **Inspect Data**:\n",
        "  - `head()`: Shows the first few rows to give a quick preview of the data.\n",
        "  - `info()`: Provides an overview of the data types, non-null counts, and memory usage.\n",
        "  - `describe()`: Displays statistical summaries of the dataset, including counts, means, and standard deviations for numerical columns.\n",
        "  \n",
        "- **Check for Missing Data**:\n",
        "  - `isnull().sum()`: Identifies if there are any missing values in the dataset. Handling missing data is crucial as it can introduce bias or errors in the model.\n",
        "  \n",
        "- **Check for Duplicate Data**:\n",
        "  - `duplicated().sum()`: Helps identify if there are any duplicate rows that need to be removed. Duplicates can affect the model training, so we remove them to avoid biasing the results."
      ],
      "metadata": {
        "id": "0fPkgyBX4GIg"
      }
    },
    {
      "cell_type": "code",
      "source": [
        "# Load dataset with specified encoding"
      ],
      "metadata": {
        "id": "CPmsb0ZHsLhh"
      },
      "execution_count": 258,
      "outputs": []
    },
    {
      "cell_type": "code",
      "source": [
        "file_path = \"/content/all-data.csv\""
      ],
      "metadata": {
        "id": "nlvgw7u6sLmD"
      },
      "execution_count": 259,
      "outputs": []
    },
    {
      "cell_type": "code",
      "source": [
        "data = pd.read_csv(file_path, header=None, names=[\"phrase\", \"sentiment\"], encoding=\"latin1\")\n"
      ],
      "metadata": {
        "id": "p8ziIvt3sLqo"
      },
      "execution_count": 260,
      "outputs": []
    },
    {
      "cell_type": "code",
      "source": [],
      "metadata": {
        "id": "2ujRq1_nsLvB"
      },
      "execution_count": 260,
      "outputs": []
    },
    {
      "cell_type": "code",
      "source": [],
      "metadata": {
        "id": "1bulh1ScsLxU"
      },
      "execution_count": 260,
      "outputs": []
    },
    {
      "cell_type": "code",
      "source": [
        "# Display first 5 rows of the dataset"
      ],
      "metadata": {
        "id": "Z8KWaPKusLzt"
      },
      "execution_count": 261,
      "outputs": []
    },
    {
      "cell_type": "code",
      "source": [
        "print(\"First 5 rows of the dataset:\")\n",
        "print(data.head(), \"\\n\")"
      ],
      "metadata": {
        "colab": {
          "base_uri": "https://localhost:8080/"
        },
        "id": "i-KkViyIsL17",
        "outputId": "8ecf8505-2665-4df8-8026-d677c1811446"
      },
      "execution_count": 262,
      "outputs": [
        {
          "output_type": "stream",
          "name": "stdout",
          "text": [
            "First 5 rows of the dataset:\n",
            "     phrase                                          sentiment\n",
            "0   neutral  According to Gran , the company has no plans t...\n",
            "1   neutral  Technopolis plans to develop in stages an area...\n",
            "2  negative  The international electronic industry company ...\n",
            "3  positive  With the new production plant the company woul...\n",
            "4  positive  According to the company 's updated strategy f... \n",
            "\n"
          ]
        }
      ]
    },
    {
      "cell_type": "code",
      "source": [],
      "metadata": {
        "id": "GsJWF-uqtfdd"
      },
      "execution_count": 262,
      "outputs": []
    },
    {
      "cell_type": "code",
      "source": [],
      "metadata": {
        "id": "ylfecbXptfgu"
      },
      "execution_count": 262,
      "outputs": []
    },
    {
      "cell_type": "code",
      "source": [
        "# Display dataset information (types, non-null counts, etc.)"
      ],
      "metadata": {
        "id": "E1k2R7uhtfj8"
      },
      "execution_count": 263,
      "outputs": []
    },
    {
      "cell_type": "code",
      "source": [
        "print(\"Dataset Information:\")\n",
        "print(data.info(), \"\\n\")"
      ],
      "metadata": {
        "colab": {
          "base_uri": "https://localhost:8080/"
        },
        "id": "Xp-zRaUcsL4L",
        "outputId": "5ca8e949-f2ee-4121-e1d2-5dbf61b3c904"
      },
      "execution_count": 264,
      "outputs": [
        {
          "output_type": "stream",
          "name": "stdout",
          "text": [
            "Dataset Information:\n",
            "<class 'pandas.core.frame.DataFrame'>\n",
            "RangeIndex: 4846 entries, 0 to 4845\n",
            "Data columns (total 2 columns):\n",
            " #   Column     Non-Null Count  Dtype \n",
            "---  ------     --------------  ----- \n",
            " 0   phrase     4846 non-null   object\n",
            " 1   sentiment  4846 non-null   object\n",
            "dtypes: object(2)\n",
            "memory usage: 75.8+ KB\n",
            "None \n",
            "\n"
          ]
        }
      ]
    },
    {
      "cell_type": "code",
      "source": [],
      "metadata": {
        "id": "lvepUVXCti7S"
      },
      "execution_count": 264,
      "outputs": []
    },
    {
      "cell_type": "code",
      "source": [],
      "metadata": {
        "id": "cSqGHhknti-f"
      },
      "execution_count": 264,
      "outputs": []
    },
    {
      "cell_type": "code",
      "source": [
        "# Display dataset statistics"
      ],
      "metadata": {
        "id": "YImlB47ztjBY"
      },
      "execution_count": 265,
      "outputs": []
    },
    {
      "cell_type": "code",
      "source": [
        "print(\"Dataset Statistics:\")\n",
        "print(data.describe(include='all'), \"\\n\")"
      ],
      "metadata": {
        "colab": {
          "base_uri": "https://localhost:8080/"
        },
        "id": "L02W6SDVsL6n",
        "outputId": "1bbf9cbd-3beb-444d-8672-89803e73d494"
      },
      "execution_count": 266,
      "outputs": [
        {
          "output_type": "stream",
          "name": "stdout",
          "text": [
            "Dataset Statistics:\n",
            "         phrase                                          sentiment\n",
            "count      4846                                               4846\n",
            "unique        3                                               4838\n",
            "top     neutral  TELECOMWORLDWIRE-7 April 2006-TJ Group Plc sel...\n",
            "freq       2879                                                  2 \n",
            "\n"
          ]
        }
      ]
    },
    {
      "cell_type": "code",
      "source": [],
      "metadata": {
        "id": "kbG1IXHMtrxB"
      },
      "execution_count": 266,
      "outputs": []
    },
    {
      "cell_type": "code",
      "source": [],
      "metadata": {
        "id": "A5MYOJxHtr0U"
      },
      "execution_count": 266,
      "outputs": []
    },
    {
      "cell_type": "code",
      "source": [
        "# Check for missing values"
      ],
      "metadata": {
        "id": "8rTeLUaTtr3R"
      },
      "execution_count": 267,
      "outputs": []
    },
    {
      "cell_type": "code",
      "source": [
        "print(\"Missing Values in the dataset:\")\n",
        "print(data.isnull().sum(), \"\\n\")"
      ],
      "metadata": {
        "colab": {
          "base_uri": "https://localhost:8080/"
        },
        "id": "C6WEULqStr5u",
        "outputId": "d475ddfe-7808-4a36-b87b-9e7f507082cc"
      },
      "execution_count": 268,
      "outputs": [
        {
          "output_type": "stream",
          "name": "stdout",
          "text": [
            "Missing Values in the dataset:\n",
            "phrase       0\n",
            "sentiment    0\n",
            "dtype: int64 \n",
            "\n"
          ]
        }
      ]
    },
    {
      "cell_type": "code",
      "source": [],
      "metadata": {
        "id": "tsdeZPUotzY4"
      },
      "execution_count": 268,
      "outputs": []
    },
    {
      "cell_type": "code",
      "source": [],
      "metadata": {
        "id": "jhcsn7lctzb0"
      },
      "execution_count": 268,
      "outputs": []
    },
    {
      "cell_type": "code",
      "source": [
        "# Check for duplicate rows"
      ],
      "metadata": {
        "id": "WUVpeSjutzfL"
      },
      "execution_count": 269,
      "outputs": []
    },
    {
      "cell_type": "code",
      "source": [
        "duplicates = data.duplicated().sum()"
      ],
      "metadata": {
        "id": "6EKBwTsdtzi4"
      },
      "execution_count": 270,
      "outputs": []
    },
    {
      "cell_type": "code",
      "source": [
        "print(f\"Number of duplicate rows: {duplicates}\\n\")"
      ],
      "metadata": {
        "colab": {
          "base_uri": "https://localhost:8080/"
        },
        "id": "W68Hf4zltzmh",
        "outputId": "b60e40f1-4dae-474a-9a92-40c5b4fe9d5f"
      },
      "execution_count": 271,
      "outputs": [
        {
          "output_type": "stream",
          "name": "stdout",
          "text": [
            "Number of duplicate rows: 6\n",
            "\n"
          ]
        }
      ]
    },
    {
      "cell_type": "code",
      "source": [],
      "metadata": {
        "id": "hmUqsefFt7Xb"
      },
      "execution_count": 271,
      "outputs": []
    },
    {
      "cell_type": "code",
      "source": [],
      "metadata": {
        "id": "R9wkxW-ot7bH"
      },
      "execution_count": 271,
      "outputs": []
    },
    {
      "cell_type": "code",
      "source": [
        "# Remove duplicate rows"
      ],
      "metadata": {
        "id": "Ispv9_XFt7eT"
      },
      "execution_count": 272,
      "outputs": []
    },
    {
      "cell_type": "code",
      "source": [
        "data = data.drop_duplicates()"
      ],
      "metadata": {
        "id": "7qRondPEt7iN"
      },
      "execution_count": 273,
      "outputs": []
    },
    {
      "cell_type": "code",
      "source": [
        "print(f\"Number of rows after removing duplicates: {data.shape[0]}\")"
      ],
      "metadata": {
        "colab": {
          "base_uri": "https://localhost:8080/"
        },
        "id": "aePO_OFBtzpb",
        "outputId": "bcc3193b-2c35-4b39-9ce7-c6d6bf31f369"
      },
      "execution_count": 274,
      "outputs": [
        {
          "output_type": "stream",
          "name": "stdout",
          "text": [
            "Number of rows after removing duplicates: 4840\n"
          ]
        }
      ]
    },
    {
      "cell_type": "code",
      "source": [],
      "metadata": {
        "id": "6XxtkdO9uBwa"
      },
      "execution_count": 274,
      "outputs": []
    },
    {
      "cell_type": "code",
      "source": [
        "# Verify unique sentiment labels in the dataset"
      ],
      "metadata": {
        "id": "vvkMJV9zuBzj"
      },
      "execution_count": 275,
      "outputs": []
    },
    {
      "cell_type": "code",
      "source": [
        "print(\"Unique Sentiment Labels:\", data['sentiment'].unique())"
      ],
      "metadata": {
        "colab": {
          "base_uri": "https://localhost:8080/"
        },
        "id": "3sAW0pWauB2j",
        "outputId": "5cbef008-f48f-489b-ee67-8bc320f40056"
      },
      "execution_count": 276,
      "outputs": [
        {
          "output_type": "stream",
          "name": "stdout",
          "text": [
            "Unique Sentiment Labels: ['According to Gran , the company has no plans to move all production to Russia , although that is where the company is growing .'\n",
            " 'Technopolis plans to develop in stages an area of no less than 100,000 square meters in order to host companies working in computer technologies and telecommunications , the statement said .'\n",
            " 'The international electronic industry company Elcoteq has laid off tens of employees from its Tallinn facility ; contrary to earlier layoffs the company contracted the ranks of its office workers , the daily Postimees reported .'\n",
            " ...\n",
            " 'Operating profit fell to EUR 35.4 mn from EUR 68.8 mn in 2007 , including vessel sales gain of EUR 12.3 mn .'\n",
            " 'Net sales of the Paper segment decreased to EUR 221.6 mn in the second quarter of 2009 from EUR 241.1 mn in the second quarter of 2008 , while operating profit excluding non-recurring items rose to EUR 8.0 mn from EUR 7.6 mn .'\n",
            " 'Sales in Finland decreased by 10.5 % in January , while sales outside Finland dropped by 17 % .']\n"
          ]
        }
      ]
    },
    {
      "cell_type": "code",
      "source": [],
      "metadata": {
        "id": "CRkffqOxuB5n"
      },
      "execution_count": 276,
      "outputs": []
    },
    {
      "cell_type": "code",
      "source": [],
      "metadata": {
        "id": "jq6uUJrN1H3B"
      },
      "execution_count": null,
      "outputs": []
    },
    {
      "cell_type": "code",
      "source": [],
      "metadata": {
        "id": "lLH7nTts1H9H"
      },
      "execution_count": null,
      "outputs": []
    },
    {
      "cell_type": "code",
      "source": [
        "# Plot the distribution of the data (features)"
      ],
      "metadata": {
        "id": "jLCnm7xdz7n0"
      },
      "execution_count": 363,
      "outputs": []
    },
    {
      "cell_type": "code",
      "source": [
        "plt.figure(figsize=(12, 8))\n",
        "for i, column in enumerate(data.columns):\n",
        "    plt.subplot(len(data.columns) // 3 + 1, 3, i + 1)\n",
        "    sns.histplot(data[column], kde=True)\n",
        "    plt.title(f'Distribution of {column}')\n",
        "plt.tight_layout()\n",
        "plt.show()  # Ensure the plot is shown"
      ],
      "metadata": {
        "colab": {
          "base_uri": "https://localhost:8080/",
          "height": 492
        },
        "id": "oiVOnekX1Jb5",
        "outputId": "016745a2-50ca-4e38-ef46-c993054fff9a"
      },
      "execution_count": 364,
      "outputs": [
        {
          "output_type": "display_data",
          "data": {
            "text/plain": [
              "<Figure size 1200x800 with 4 Axes>"
            ],
            "image/png": "[encoded data removed]"
          },
          "metadata": {}
        }
      ]
    },
    {
      "cell_type": "code",
      "source": [],
      "metadata": {
        "id": "wQduSWNg1JiU"
      },
      "execution_count": null,
      "outputs": []
    },
    {
      "cell_type": "code",
      "source": [],
      "metadata": {
        "id": "fHzI8HJm1JzC"
      },
      "execution_count": null,
      "outputs": []
    },
    {
      "cell_type": "code",
      "source": [
        "# Plot a correlation heatmap"
      ],
      "metadata": {
        "id": "VhgkHrzPz7tj"
      },
      "execution_count": 365,
      "outputs": []
    },
    {
      "cell_type": "code",
      "source": [
        "plt.figure(figsize=(10, 8))\n",
        "correlation = data.corr()\n",
        "sns.heatmap(correlation, annot=True, cmap='coolwarm', fmt='.2f', linewidths=0.5)\n",
        "plt.title('Correlation Heatmap')\n",
        "plt.show()  # Ensure the plot is shown"
      ],
      "metadata": {
        "colab": {
          "base_uri": "https://localhost:8080/",
          "height": 719
        },
        "id": "T-TtZN281fAa",
        "outputId": "50497c6c-3238-4e20-a182-37465a7c8a95"
      },
      "execution_count": 366,
      "outputs": [
        {
          "output_type": "display_data",
          "data": {
            "text/plain": [
              "<Figure size 1000x800 with 2 Axes>"
            ],
            "image/png": "[encoded data removed]"
          },
          "metadata": {}
        }
      ]
    },
    {
      "cell_type": "markdown",
      "source": [
        "<hr style=\"border: 1px solid purple;\">"
      ],
      "metadata": {
        "id": "3DfZHplo4Uer"
      }
    },
    {
      "cell_type": "code",
      "source": [],
      "metadata": {
        "id": "9wL5BjVA1fKM"
      },
      "execution_count": null,
      "outputs": []
    },
    {
      "cell_type": "code",
      "source": [],
      "metadata": {
        "id": "x--tokyk1fQn"
      },
      "execution_count": null,
      "outputs": []
    },
    {
      "cell_type": "code",
      "source": [],
      "metadata": {
        "id": "V4BkQtHF2XJh"
      },
      "execution_count": null,
      "outputs": []
    },
    {
      "cell_type": "markdown",
      "source": [
        "<hr style=\"border: 1px solid purple;\">"
      ],
      "metadata": {
        "id": "yydoLDFj4XSl"
      }
    },
    {
      "cell_type": "markdown",
      "source": [
        "# ✨ **Step 2: Text Preprocessing**\n",
        "\n",
        "Before we use the text data to train our model, we need to preprocess it to ensure consistency and remove any irrelevant information.\n",
        "\n",
        "- **Cleaning Text**:\n",
        "  - **Remove Special Characters**: We use regular expressions to remove any characters that are not alphabetic or spaces. This step is essential to avoid unnecessary noise in the data.\n",
        "  - **Convert to Lowercase**: Text normalization is performed by converting all characters to lowercase. This ensures that words like \"positive\" and \"Positive\" are treated the same.\n",
        "  \n",
        "- **Text Stripping**: Leading and trailing spaces are removed to ensure that all text is clean and ready for analysis.\n",
        "\n",
        "The cleaned text is then saved into a new column to keep the original data intact for reference."
      ],
      "metadata": {
        "id": "2tp10MGF4Z5Z"
      }
    },
    {
      "cell_type": "code",
      "source": [
        "# Define text cleaning function"
      ],
      "metadata": {
        "id": "UqxN6vRQuCAg"
      },
      "execution_count": 277,
      "outputs": []
    },
    {
      "cell_type": "code",
      "source": [
        "def clean_text(text):\n",
        "    \"\"\"\n",
        "    This function takes a string input and performs basic cleaning:\n",
        "    - Removes special characters\n",
        "    - Converts text to lowercase\n",
        "    \"\"\"\n",
        "    text = re.sub(r\"[^a-zA-Z\\s]\", \"\", text)  # Remove non-alphabetic characters\n",
        "    text = text.lower()  # Convert to lowercase\n",
        "    return text.strip()"
      ],
      "metadata": {
        "id": "nFlemxr2uKNG"
      },
      "execution_count": 278,
      "outputs": []
    },
    {
      "cell_type": "code",
      "source": [],
      "metadata": {
        "id": "BfIZ5jrnuKP6"
      },
      "execution_count": 278,
      "outputs": []
    },
    {
      "cell_type": "code",
      "source": [],
      "metadata": {
        "id": "_KtHVaiKuKSi"
      },
      "execution_count": 278,
      "outputs": []
    },
    {
      "cell_type": "code",
      "source": [
        "# Apply the cleaning function to each phrase in the dataset"
      ],
      "metadata": {
        "id": "TEiiXKHxuKV1"
      },
      "execution_count": 279,
      "outputs": []
    },
    {
      "cell_type": "code",
      "source": [
        "data['cleaned_phrase'] = data['phrase'].apply(clean_text)"
      ],
      "metadata": {
        "id": "LInpeUNbuKY-"
      },
      "execution_count": 280,
      "outputs": []
    },
    {
      "cell_type": "code",
      "source": [],
      "metadata": {
        "id": "pAYHyH3fuWBI"
      },
      "execution_count": 280,
      "outputs": []
    },
    {
      "cell_type": "code",
      "source": [],
      "metadata": {
        "id": "VC3hMgKquWEc"
      },
      "execution_count": 280,
      "outputs": []
    },
    {
      "cell_type": "code",
      "source": [
        "# Display a few examples of cleaned phrases"
      ],
      "metadata": {
        "id": "uBZ-dU3XuWHj"
      },
      "execution_count": 281,
      "outputs": []
    },
    {
      "cell_type": "code",
      "source": [
        "print(\"Examples of Cleaned Phrases:\")\n",
        "print(data[['phrase', 'cleaned_phrase']].head(), \"\\n\")"
      ],
      "metadata": {
        "colab": {
          "base_uri": "https://localhost:8080/"
        },
        "id": "lY0WrbqXuWK4",
        "outputId": "248cb3e6-6435-4520-f4e7-1a067370f3f9"
      },
      "execution_count": 282,
      "outputs": [
        {
          "output_type": "stream",
          "name": "stdout",
          "text": [
            "Examples of Cleaned Phrases:\n",
            "     phrase cleaned_phrase\n",
            "0   neutral        neutral\n",
            "1   neutral        neutral\n",
            "2  negative       negative\n",
            "3  positive       positive\n",
            "4  positive       positive \n",
            "\n"
          ]
        }
      ]
    },
    {
      "cell_type": "code",
      "source": [],
      "metadata": {
        "id": "ctbbTmTpuWPW"
      },
      "execution_count": 282,
      "outputs": []
    },
    {
      "cell_type": "code",
      "source": [],
      "metadata": {
        "id": "In9aMqnPuWSX"
      },
      "execution_count": 282,
      "outputs": []
    },
    {
      "cell_type": "code",
      "source": [
        "# Verify sentiment labels"
      ],
      "metadata": {
        "id": "p2kBmAS-uWWQ"
      },
      "execution_count": 283,
      "outputs": []
    },
    {
      "cell_type": "code",
      "source": [
        "valid_sentiments = ['positive', 'neutral', 'negative']"
      ],
      "metadata": {
        "id": "2WTMsfKJuWZN"
      },
      "execution_count": 284,
      "outputs": []
    },
    {
      "cell_type": "code",
      "source": [
        "invalid_sentiments = data[~data['sentiment'].isin(valid_sentiments)]"
      ],
      "metadata": {
        "id": "vyjxa3bfugkZ"
      },
      "execution_count": 285,
      "outputs": []
    },
    {
      "cell_type": "code",
      "source": [
        "if not invalid_sentiments.empty:\n",
        "    print(\"Invalid Sentiment Entries Found:\")\n",
        "    print(invalid_sentiments)\n",
        "else:\n",
        "    print(\"All sentiment labels are valid.\")"
      ],
      "metadata": {
        "colab": {
          "base_uri": "https://localhost:8080/"
        },
        "id": "1AVw6_InugoE",
        "outputId": "121e51f4-fc92-4f62-8d47-d51318d793df"
      },
      "execution_count": 286,
      "outputs": [
        {
          "output_type": "stream",
          "name": "stdout",
          "text": [
            "Invalid Sentiment Entries Found:\n",
            "        phrase                                          sentiment  \\\n",
            "0      neutral  According to Gran , the company has no plans t...   \n",
            "1      neutral  Technopolis plans to develop in stages an area...   \n",
            "2     negative  The international electronic industry company ...   \n",
            "3     positive  With the new production plant the company woul...   \n",
            "4     positive  According to the company 's updated strategy f...   \n",
            "...        ...                                                ...   \n",
            "4841  negative  LONDON MarketWatch -- Share prices ended lower...   \n",
            "4842   neutral  Rinkuskiai 's beer sales fell by 6.5 per cent ...   \n",
            "4843  negative  Operating profit fell to EUR 35.4 mn from EUR ...   \n",
            "4844  negative  Net sales of the Paper segment decreased to EU...   \n",
            "4845  negative  Sales in Finland decreased by 10.5 % in Januar...   \n",
            "\n",
            "     cleaned_phrase  \n",
            "0           neutral  \n",
            "1           neutral  \n",
            "2          negative  \n",
            "3          positive  \n",
            "4          positive  \n",
            "...             ...  \n",
            "4841       negative  \n",
            "4842        neutral  \n",
            "4843       negative  \n",
            "4844       negative  \n",
            "4845       negative  \n",
            "\n",
            "[4840 rows x 3 columns]\n"
          ]
        }
      ]
    },
    {
      "cell_type": "code",
      "source": [],
      "metadata": {
        "id": "YZ739ay6ugri"
      },
      "execution_count": 286,
      "outputs": []
    },
    {
      "cell_type": "code",
      "source": [],
      "metadata": {
        "id": "VmPPMzBxugwH"
      },
      "execution_count": 286,
      "outputs": []
    },
    {
      "cell_type": "code",
      "source": [
        "# Save cleaned dataset to a CSV file"
      ],
      "metadata": {
        "id": "k2GgjVBTug0A"
      },
      "execution_count": 287,
      "outputs": []
    },
    {
      "cell_type": "code",
      "source": [
        "cleaned_file_path = \"/content/cleaned_data.csv\""
      ],
      "metadata": {
        "id": "ASYGRsT8ug3R"
      },
      "execution_count": 288,
      "outputs": []
    },
    {
      "cell_type": "code",
      "source": [
        "data.to_csv(cleaned_file_path, index=False)"
      ],
      "metadata": {
        "id": "SKNKshVdur0s"
      },
      "execution_count": 289,
      "outputs": []
    },
    {
      "cell_type": "code",
      "source": [
        "print(f\"Cleaned dataset saved at: {cleaned_file_path}\")"
      ],
      "metadata": {
        "colab": {
          "base_uri": "https://localhost:8080/"
        },
        "id": "6vDmgW8Pur4R",
        "outputId": "3c3ada73-750b-463f-8ff6-dc52f71de15d"
      },
      "execution_count": 290,
      "outputs": [
        {
          "output_type": "stream",
          "name": "stdout",
          "text": [
            "Cleaned dataset saved at: /content/cleaned_data.csv\n"
          ]
        }
      ]
    },
    {
      "cell_type": "markdown",
      "source": [
        "<hr style=\"border: 1px solid purple;\">"
      ],
      "metadata": {
        "id": "Adqlgu3z4jMJ"
      }
    },
    {
      "cell_type": "code",
      "source": [],
      "metadata": {
        "id": "6E1bavqMu1pZ"
      },
      "execution_count": 290,
      "outputs": []
    },
    {
      "cell_type": "code",
      "source": [],
      "metadata": {
        "id": "UNDnaeAnu1tX"
      },
      "execution_count": 290,
      "outputs": []
    },
    {
      "cell_type": "code",
      "source": [],
      "metadata": {
        "id": "D8XoQsQWu1xN"
      },
      "execution_count": 290,
      "outputs": []
    },
    {
      "cell_type": "markdown",
      "source": [
        "<hr style=\"border: 1px solid purple;\">"
      ],
      "metadata": {
        "id": "jBSrWs_n4q9R"
      }
    },
    {
      "cell_type": "markdown",
      "source": [
        "# 🔠 **Step 3: Sentiment Encoding**\n",
        "\n",
        "Machine learning models typically require numerical input. To transform the categorical sentiment labels into a format that the model can understand, we encode the labels.\n",
        "\n",
        "- **Sentiment Encoding**: We map the textual sentiment labels (`positive`, `neutral`, `negative`) to numerical values:\n",
        "  - `positive` → `1`\n",
        "  - `neutral` → `0`\n",
        "  - `negative` → `-1`\n",
        "  \n",
        "This numerical encoding helps the model understand and process the sentiment data more effectively, as it works with numbers rather than text."
      ],
      "metadata": {
        "id": "UF257s6D4umB"
      }
    },
    {
      "cell_type": "code",
      "source": [
        "from sklearn.feature_extraction.text import CountVectorizer"
      ],
      "metadata": {
        "id": "qy_u4pWKu14N"
      },
      "execution_count": 291,
      "outputs": []
    },
    {
      "cell_type": "code",
      "source": [],
      "metadata": {
        "id": "7m_LltK0u2CO"
      },
      "execution_count": 291,
      "outputs": []
    },
    {
      "cell_type": "code",
      "source": [
        "# Load cleaned dataset"
      ],
      "metadata": {
        "id": "R8GBu2L0u7JB"
      },
      "execution_count": 292,
      "outputs": []
    },
    {
      "cell_type": "code",
      "source": [
        "data = pd.read_csv(cleaned_file_path)"
      ],
      "metadata": {
        "id": "K7-5YIvBu7Mi"
      },
      "execution_count": 293,
      "outputs": []
    },
    {
      "cell_type": "code",
      "source": [],
      "metadata": {
        "id": "nAYLCY-au7Qp"
      },
      "execution_count": 293,
      "outputs": []
    },
    {
      "cell_type": "code",
      "source": [
        "# Strip leading/trailing spaces from sentiment labels"
      ],
      "metadata": {
        "id": "u6TxrJbqu7U4"
      },
      "execution_count": 294,
      "outputs": []
    },
    {
      "cell_type": "code",
      "source": [
        "data['sentiment'] = data['sentiment'].str.strip()"
      ],
      "metadata": {
        "id": "7y3iOXyWu2F6"
      },
      "execution_count": 295,
      "outputs": []
    },
    {
      "cell_type": "code",
      "source": [],
      "metadata": {
        "id": "QsPoJYOyvGSq"
      },
      "execution_count": 295,
      "outputs": []
    },
    {
      "cell_type": "code",
      "source": [
        "# Encode sentiment labels: 'positive' = 1, 'neutral' = 0, 'negative' = -1"
      ],
      "metadata": {
        "id": "X9LKJ4LQvGV6"
      },
      "execution_count": 296,
      "outputs": []
    },
    {
      "cell_type": "code",
      "source": [
        "data['sentiment_encoded'] = data['sentiment'].map({'positive': 1, 'neutral': 0, 'negative': -1})\n"
      ],
      "metadata": {
        "id": "7EJHckulvGZv"
      },
      "execution_count": 297,
      "outputs": []
    },
    {
      "cell_type": "code",
      "source": [],
      "metadata": {
        "id": "yN88Zj_zvGdF"
      },
      "execution_count": 297,
      "outputs": []
    },
    {
      "cell_type": "code",
      "source": [
        "# Display first 5 rows with encoded sentiment"
      ],
      "metadata": {
        "id": "BzxmuFBevGgf"
      },
      "execution_count": 298,
      "outputs": []
    },
    {
      "cell_type": "code",
      "source": [
        "print(\"First 5 Rows with Encoded Sentiment:\")\n",
        "print(data[['phrase', 'sentiment', 'sentiment_encoded']].head(), \"\\n\")"
      ],
      "metadata": {
        "colab": {
          "base_uri": "https://localhost:8080/"
        },
        "id": "H1RGUSXnvGlp",
        "outputId": "fea4a3ed-202c-4c24-fc14-087e681fcd9e"
      },
      "execution_count": 299,
      "outputs": [
        {
          "output_type": "stream",
          "name": "stdout",
          "text": [
            "First 5 Rows with Encoded Sentiment:\n",
            "     phrase                                          sentiment  \\\n",
            "0   neutral  According to Gran , the company has no plans t...   \n",
            "1   neutral  Technopolis plans to develop in stages an area...   \n",
            "2  negative  The international electronic industry company ...   \n",
            "3  positive  With the new production plant the company woul...   \n",
            "4  positive  According to the company 's updated strategy f...   \n",
            "\n",
            "   sentiment_encoded  \n",
            "0                NaN  \n",
            "1                NaN  \n",
            "2                NaN  \n",
            "3                NaN  \n",
            "4                NaN   \n",
            "\n"
          ]
        }
      ]
    },
    {
      "cell_type": "markdown",
      "source": [
        "<hr style=\"border: 1px solid purple;\">"
      ],
      "metadata": {
        "id": "nhkXERSW42uM"
      }
    },
    {
      "cell_type": "code",
      "source": [],
      "metadata": {
        "id": "ue5s3vw544QV"
      },
      "execution_count": null,
      "outputs": []
    },
    {
      "cell_type": "code",
      "source": [],
      "metadata": {
        "id": "u5xAYZaavQST"
      },
      "execution_count": 299,
      "outputs": []
    },
    {
      "cell_type": "code",
      "source": [],
      "metadata": {
        "id": "knvhG7tMvQV5"
      },
      "execution_count": 299,
      "outputs": []
    },
    {
      "cell_type": "markdown",
      "source": [
        "<hr style=\"border: 1px solid purple;\">"
      ],
      "metadata": {
        "id": "gf83Z2kz45Ff"
      }
    },
    {
      "cell_type": "markdown",
      "source": [
        "# 🧑‍💻 **Step 4: Feature Extraction**\n",
        "\n",
        "In this step, we extract meaningful features from the cleaned text data using the **CountVectorizer**. This method converts text data into a **bag-of-words** representation, where each unique word is treated as a feature.\n",
        "\n",
        "- **CountVectorizer**:\n",
        "  - It tokenizes the text data into individual words and counts the frequency of each word in the dataset.\n",
        "  - We specify `max_features=5000` to limit the number of features to the top 5000 most frequent words, reducing the complexity of the dataset.\n",
        "\n",
        "- **Sparse Matrix**: The result from the CountVectorizer is a sparse matrix (as most words are not present in every document). We convert this sparse matrix into a **DataFrame** for easier inspection and manipulation.\n",
        "\n",
        "This step prepares the data for input into the GAN model."
      ],
      "metadata": {
        "id": "ziRedloU46eF"
      }
    },
    {
      "cell_type": "code",
      "source": [
        "# Initialize the CountVectorizer for text feature extraction"
      ],
      "metadata": {
        "id": "9x2ThHhyvQZR"
      },
      "execution_count": 300,
      "outputs": []
    },
    {
      "cell_type": "code",
      "source": [
        "vectorizer = CountVectorizer(stop_words='english', max_features=5000)"
      ],
      "metadata": {
        "id": "NepW6lkVvQfR"
      },
      "execution_count": 301,
      "outputs": []
    },
    {
      "cell_type": "code",
      "source": [],
      "metadata": {
        "id": "5xkUI7buvGo3"
      },
      "execution_count": 301,
      "outputs": []
    },
    {
      "cell_type": "code",
      "source": [
        "# Fit and transform the cleaned text data"
      ],
      "metadata": {
        "id": "tfIbyMpMur7g"
      },
      "execution_count": 302,
      "outputs": []
    },
    {
      "cell_type": "code",
      "source": [
        "X = vectorizer.fit_transform(data['cleaned_phrase'])"
      ],
      "metadata": {
        "id": "VlNPW1mHug7I"
      },
      "execution_count": 303,
      "outputs": []
    },
    {
      "cell_type": "code",
      "source": [],
      "metadata": {
        "id": "PqJg0Podvbo3"
      },
      "execution_count": 303,
      "outputs": []
    },
    {
      "cell_type": "code",
      "source": [
        "# Convert the sparse matrix into a DataFrame for easier inspection"
      ],
      "metadata": {
        "id": "caVvoAFIvbsK"
      },
      "execution_count": 304,
      "outputs": []
    },
    {
      "cell_type": "code",
      "source": [
        "X_df = pd.DataFrame(X.toarray(), columns=vectorizer.get_feature_names_out())"
      ],
      "metadata": {
        "id": "NQuy4Z8KvbwT"
      },
      "execution_count": 305,
      "outputs": []
    },
    {
      "cell_type": "code",
      "source": [],
      "metadata": {
        "id": "mT2CElVvvbzu"
      },
      "execution_count": 305,
      "outputs": []
    },
    {
      "cell_type": "code",
      "source": [
        "# Display processed feature data"
      ],
      "metadata": {
        "id": "F11jADUWuKcX"
      },
      "execution_count": 306,
      "outputs": []
    },
    {
      "cell_type": "code",
      "source": [
        "print(\"Processed Text Data Features:\")\n",
        "print(X_df.head(), \"\\n\")"
      ],
      "metadata": {
        "colab": {
          "base_uri": "https://localhost:8080/"
        },
        "id": "h70VHzJXtzsj",
        "outputId": "af327fca-e789-44b1-f312-1e2b2be7d54d"
      },
      "execution_count": 307,
      "outputs": [
        {
          "output_type": "stream",
          "name": "stdout",
          "text": [
            "Processed Text Data Features:\n",
            "   negative  neutral  positive\n",
            "0         0        1         0\n",
            "1         0        1         0\n",
            "2         1        0         0\n",
            "3         0        0         1\n",
            "4         0        0         1 \n",
            "\n"
          ]
        }
      ]
    },
    {
      "cell_type": "code",
      "source": [],
      "metadata": {
        "id": "sNP6dQBivn0U"
      },
      "execution_count": 307,
      "outputs": []
    },
    {
      "cell_type": "code",
      "source": [],
      "metadata": {
        "id": "kWK5Qxqbvn5n"
      },
      "execution_count": 307,
      "outputs": []
    },
    {
      "cell_type": "code",
      "source": [
        "# Save processed data with features and sentiment labels to a CSV file"
      ],
      "metadata": {
        "id": "InrWP22wvn9H"
      },
      "execution_count": 308,
      "outputs": []
    },
    {
      "cell_type": "code",
      "source": [
        "processed_data = data[['sentiment_encoded']].join(X_df)"
      ],
      "metadata": {
        "id": "hIs6RMUcvoA5"
      },
      "execution_count": 309,
      "outputs": []
    },
    {
      "cell_type": "code",
      "source": [
        "processed_data.to_csv(\"/content/processed_data.csv\", index=False)"
      ],
      "metadata": {
        "id": "_Edv75FpvoEL"
      },
      "execution_count": 310,
      "outputs": []
    },
    {
      "cell_type": "code",
      "source": [
        "print(\"Processed data saved at: /content/processed_data.csv\")"
      ],
      "metadata": {
        "colab": {
          "base_uri": "https://localhost:8080/"
        },
        "id": "5_4Cam4dvoHy",
        "outputId": "1198e3b1-e2a4-4f1a-b00a-c5deff3e1be3"
      },
      "execution_count": 311,
      "outputs": [
        {
          "output_type": "stream",
          "name": "stdout",
          "text": [
            "Processed data saved at: /content/processed_data.csv\n"
          ]
        }
      ]
    },
    {
      "cell_type": "markdown",
      "source": [
        "<hr style=\"border: 1px solid purple;\">"
      ],
      "metadata": {
        "id": "tIg-xwi-5BLD"
      }
    },
    {
      "cell_type": "code",
      "source": [],
      "metadata": {
        "id": "ngr-1YNUvzyO"
      },
      "execution_count": 311,
      "outputs": []
    },
    {
      "cell_type": "code",
      "source": [],
      "metadata": {
        "id": "J_AEMHfBvz3C"
      },
      "execution_count": 311,
      "outputs": []
    },
    {
      "cell_type": "code",
      "source": [],
      "metadata": {
        "id": "5YXhpYXGvz8_"
      },
      "execution_count": 311,
      "outputs": []
    },
    {
      "cell_type": "markdown",
      "source": [
        "<hr style=\"border: 1px solid purple;\">"
      ],
      "metadata": {
        "id": "b5fVrquZ5C0c"
      }
    },
    {
      "cell_type": "markdown",
      "source": [
        "# 🤖 **Step 5: Building the GAN Model**\n",
        "\n",
        "The heart of this project is the **Generative Adversarial Network (GAN)**. A GAN consists of two neural networks: a **generator** and a **discriminator**, which are trained together in an adversarial manner.\n",
        "\n",
        "- **Generator**:\n",
        "  - The generator takes random noise as input and attempts to generate synthetic data (in this case, synthetic sentiment data).\n",
        "  - It uses **Dense** layers followed by **LeakyReLU** activations to create complex, high-dimensional representations of the data.\n",
        "  \n",
        "- **Discriminator**:\n",
        "  - The discriminator is a binary classifier that distinguishes between real and fake data.\n",
        "  - It also uses **Dense** layers with **LeakyReLU** activations, followed by a **sigmoid** activation function to output a probability of whether the input data is real or synthetic.\n",
        "  \n",
        "The two networks are trained together: the generator gets better at producing fake data, while the discriminator gets better at identifying fake data."
      ],
      "metadata": {
        "id": "b2Y_NP1w5HVv"
      }
    },
    {
      "cell_type": "code",
      "source": [
        "import numpy as np"
      ],
      "metadata": {
        "id": "bQz2JBIgv0Fp"
      },
      "execution_count": 312,
      "outputs": []
    },
    {
      "cell_type": "code",
      "source": [
        "from keras.models import Sequential"
      ],
      "metadata": {
        "id": "_obH8O3uv0JC"
      },
      "execution_count": 313,
      "outputs": []
    },
    {
      "cell_type": "code",
      "source": [
        "from keras.layers import Dense, LeakyReLU"
      ],
      "metadata": {
        "id": "PM9JI7U5v0Ma"
      },
      "execution_count": 314,
      "outputs": []
    },
    {
      "cell_type": "code",
      "source": [
        "from keras.optimizers import Adam"
      ],
      "metadata": {
        "id": "i7JmqN2Vv0QJ"
      },
      "execution_count": 315,
      "outputs": []
    },
    {
      "cell_type": "code",
      "source": [],
      "metadata": {
        "id": "hGeRQkZIwFSa"
      },
      "execution_count": 315,
      "outputs": []
    },
    {
      "cell_type": "code",
      "source": [],
      "metadata": {
        "id": "T100GIbewFWe"
      },
      "execution_count": 315,
      "outputs": []
    },
    {
      "cell_type": "code",
      "source": [
        "# Load the processed data"
      ],
      "metadata": {
        "id": "SFFAe6V9xC3p"
      },
      "execution_count": 316,
      "outputs": []
    },
    {
      "cell_type": "code",
      "source": [
        "data = pd.read_csv('/content/processed_data.csv')"
      ],
      "metadata": {
        "id": "do9So3RtxC84"
      },
      "execution_count": 317,
      "outputs": []
    },
    {
      "cell_type": "code",
      "source": [
        "print(f\"Data shape: {data.shape}\")"
      ],
      "metadata": {
        "colab": {
          "base_uri": "https://localhost:8080/"
        },
        "id": "z96fE14VxDBx",
        "outputId": "a1a1da93-ca0e-40b6-cc88-4b9d866d0486"
      },
      "execution_count": 318,
      "outputs": [
        {
          "output_type": "stream",
          "name": "stdout",
          "text": [
            "Data shape: (4840, 4)\n"
          ]
        }
      ]
    },
    {
      "cell_type": "code",
      "source": [],
      "metadata": {
        "id": "h7n15tiPxKXc"
      },
      "execution_count": 318,
      "outputs": []
    },
    {
      "cell_type": "code",
      "source": [],
      "metadata": {
        "id": "7uBnptXXxKbz"
      },
      "execution_count": 318,
      "outputs": []
    },
    {
      "cell_type": "code",
      "source": [
        "# Define the generator model"
      ],
      "metadata": {
        "id": "WpfygIf8xKg1"
      },
      "execution_count": 319,
      "outputs": []
    },
    {
      "cell_type": "code",
      "source": [
        "def build_generator(z_dim):\n",
        "    model = Sequential()\n",
        "    model.add(Dense(128, input_dim=z_dim))\n",
        "    model.add(LeakyReLU(alpha=0.2))\n",
        "    model.add(Dense(256))\n",
        "    model.add(LeakyReLU(alpha=0.2))\n",
        "    model.add(Dense(512))\n",
        "    model.add(LeakyReLU(alpha=0.2))\n",
        "    model.add(Dense(1024))\n",
        "    model.add(LeakyReLU(alpha=0.2))\n",
        "    model.add(Dense(data.shape[1], activation='tanh'))\n",
        "    return model"
      ],
      "metadata": {
        "id": "_kYC0u2FxKlO"
      },
      "execution_count": 320,
      "outputs": []
    },
    {
      "cell_type": "code",
      "source": [],
      "metadata": {
        "id": "yQapgm1ixQye"
      },
      "execution_count": 320,
      "outputs": []
    },
    {
      "cell_type": "code",
      "source": [],
      "metadata": {
        "id": "6Iq8Sy0PxQ5S"
      },
      "execution_count": 320,
      "outputs": []
    },
    {
      "cell_type": "code",
      "source": [
        "# Define the discriminator model"
      ],
      "metadata": {
        "id": "0duIri1_xQ9o"
      },
      "execution_count": 321,
      "outputs": []
    },
    {
      "cell_type": "code",
      "source": [
        "def build_discriminator(input_shape):\n",
        "    model = Sequential()\n",
        "    model.add(Dense(1024, input_dim=input_shape))\n",
        "    model.add(LeakyReLU(alpha=0.2))\n",
        "    model.add(Dense(512))\n",
        "    model.add(LeakyReLU(alpha=0.2))\n",
        "    model.add(Dense(256))\n",
        "    model.add(LeakyReLU(alpha=0.2))\n",
        "    model.add(Dense(1, activation='sigmoid'))\n",
        "    return model"
      ],
      "metadata": {
        "id": "9vOjwHspxRBz"
      },
      "execution_count": 322,
      "outputs": []
    },
    {
      "cell_type": "code",
      "source": [],
      "metadata": {
        "id": "8c7MB_NoxXn4"
      },
      "execution_count": 322,
      "outputs": []
    },
    {
      "cell_type": "code",
      "source": [],
      "metadata": {
        "id": "UoVSNFWWxf3Z"
      },
      "execution_count": 322,
      "outputs": []
    },
    {
      "cell_type": "code",
      "source": [
        "# Define the GAN model (combining generator and discriminator)"
      ],
      "metadata": {
        "id": "1QIX2f78xXxO"
      },
      "execution_count": 323,
      "outputs": []
    },
    {
      "cell_type": "code",
      "source": [
        "def build_gan(generator, discriminator):\n",
        "    discriminator.trainable = False  # We don't want to train the discriminator when training the generator\n",
        "    model = Sequential()\n",
        "    model.add(generator)\n",
        "    model.add(discriminator)\n",
        "    return model"
      ],
      "metadata": {
        "id": "UB7olA2LxX2N"
      },
      "execution_count": 324,
      "outputs": []
    },
    {
      "cell_type": "code",
      "source": [],
      "metadata": {
        "id": "XWBSS7rBxDF4"
      },
      "execution_count": 324,
      "outputs": []
    },
    {
      "cell_type": "code",
      "source": [],
      "metadata": {
        "id": "9fzW-99SwFaM"
      },
      "execution_count": 324,
      "outputs": []
    },
    {
      "cell_type": "code",
      "source": [
        "# Initialize the models"
      ],
      "metadata": {
        "id": "YZJjxqlPxkZR"
      },
      "execution_count": 325,
      "outputs": []
    },
    {
      "cell_type": "code",
      "source": [
        "z_dim = 100  # Latent dimension for the generator"
      ],
      "metadata": {
        "id": "KmMqTIO-xkfh"
      },
      "execution_count": 326,
      "outputs": []
    },
    {
      "cell_type": "code",
      "source": [
        "generator = build_generator(z_dim)"
      ],
      "metadata": {
        "id": "5mWzl1dhxkkS"
      },
      "execution_count": 327,
      "outputs": []
    },
    {
      "cell_type": "code",
      "source": [
        "discriminator = build_discriminator(data.shape[1])"
      ],
      "metadata": {
        "id": "G1JbOsWgxkpR"
      },
      "execution_count": 328,
      "outputs": []
    },
    {
      "cell_type": "code",
      "source": [
        "discriminator.compile(loss='binary_crossentropy', optimizer=Adam(learning_rate=0.0002, beta_1=0.5), metrics=['accuracy'])\n"
      ],
      "metadata": {
        "id": "megm62-Kxktp"
      },
      "execution_count": 329,
      "outputs": []
    },
    {
      "cell_type": "code",
      "source": [],
      "metadata": {
        "id": "QZ6nh95rxwWI"
      },
      "execution_count": 329,
      "outputs": []
    },
    {
      "cell_type": "code",
      "source": [],
      "metadata": {
        "id": "meGPhh52xwae"
      },
      "execution_count": 329,
      "outputs": []
    },
    {
      "cell_type": "code",
      "source": [
        "# Build and compile the GAN"
      ],
      "metadata": {
        "id": "v1ULlGYOxwgd"
      },
      "execution_count": 330,
      "outputs": []
    },
    {
      "cell_type": "code",
      "source": [
        "gan = build_gan(generator, discriminator)"
      ],
      "metadata": {
        "id": "JQLcKe8Zxkyg"
      },
      "execution_count": 331,
      "outputs": []
    },
    {
      "cell_type": "code",
      "source": [
        "gan.compile(loss='binary_crossentropy', optimizer=Adam(learning_rate=0.0002, beta_1=0.5))\n"
      ],
      "metadata": {
        "id": "SjLkMRokwFgn"
      },
      "execution_count": 332,
      "outputs": []
    },
    {
      "cell_type": "markdown",
      "source": [
        "<hr style=\"border: 1px solid purple;\">"
      ],
      "metadata": {
        "id": "_iEUsnS25Od1"
      }
    },
    {
      "cell_type": "code",
      "source": [],
      "metadata": {
        "id": "pj_-a_DY5Pno"
      },
      "execution_count": null,
      "outputs": []
    },
    {
      "cell_type": "code",
      "source": [],
      "metadata": {
        "id": "tvcU-lLmx3q1"
      },
      "execution_count": 332,
      "outputs": []
    },
    {
      "cell_type": "code",
      "source": [],
      "metadata": {
        "id": "dLfhS4Zox3wB"
      },
      "execution_count": 332,
      "outputs": []
    },
    {
      "cell_type": "markdown",
      "source": [
        "<hr style=\"border: 1px solid purple;\">"
      ],
      "metadata": {
        "id": "xrKphUS_5QVK"
      }
    },
    {
      "cell_type": "markdown",
      "source": [
        "# 🚀 **Step 6: Training the GAN**\n",
        "\n",
        "Training a GAN involves an adversarial process where the generator and discriminator compete against each other.\n",
        "\n",
        "- **Discriminator Training**:\n",
        "  - The discriminator is first trained on real data, then on fake data generated by the generator.\n",
        "  - The goal is to correctly classify real data as real (label = 1) and fake data as fake (label = 0).\n",
        "  \n",
        "- **Generator Training**:\n",
        "  - The generator is trained to produce data that can **fool** the discriminator into thinking it is real. It generates fake samples, and the discriminator tries to classify them.\n",
        "  - The generator's loss function is the binary cross-entropy loss, but it is trained to **minimize** the discriminator's ability to identify fake data.\n",
        "\n",
        "- **Epochs and Batch Size**:\n",
        "  - The training loop runs for a set number of epochs, with each epoch using a batch of data. The batch size is divided into two halves: one for real data and one for generated fake data.\n",
        "\n",
        "The training continues until the generator produces synthetic data that is indistinguishable from real data according to the discriminator."
      ],
      "metadata": {
        "id": "YvyUd2iU5RS9"
      }
    },
    {
      "cell_type": "code",
      "source": [
        "# Training the GAN"
      ],
      "metadata": {
        "id": "RxhC37e9x31m"
      },
      "execution_count": 333,
      "outputs": []
    },
    {
      "cell_type": "code",
      "source": [
        "def train_gan(epochs, batch_size, z_dim):\n",
        "    half_batch = batch_size // 2  # Half batch for training discriminator\n",
        "\n",
        "    for epoch in range(epochs):\n",
        "        # Train the discriminator\n",
        "        idx = np.random.randint(0, data.shape[0], half_batch)\n",
        "        real_samples = data.iloc[idx].values\n",
        "        noise = np.random.normal(0, 1, (half_batch, z_dim))  # Generate noise for half batch\n",
        "        fake_samples = generator.predict(noise)\n",
        "\n",
        "        # Labels for real and fake data\n",
        "        real_labels = np.ones((half_batch, 1))\n",
        "        fake_labels = np.zeros((half_batch, 1))\n",
        "\n",
        "        # Train the discriminator on real and fake data\n",
        "        d_loss_real = discriminator.train_on_batch(real_samples, real_labels)\n",
        "        d_loss_fake = discriminator.train_on_batch(fake_samples, fake_labels)\n",
        "\n",
        "        # Train the generator\n",
        "        noise = np.random.normal(0, 1, (batch_size, z_dim))  # Generate noise for full batch\n",
        "        g_loss = gan.train_on_batch(noise, np.ones((batch_size, 1)))  # We want the generator to fool the discriminator\n",
        "\n",
        "        # Print the progress\n",
        "        if epoch % 10 == 0:\n",
        "            print(f\"{epoch}/{epochs} [D loss: {0.5 * (d_loss_real[0] + d_loss_fake[0])}] [G loss: {g_loss}]\")\n",
        "\n",
        "    # Save the generator after training\n",
        "    generator.save('/content/sentiment_generator.h5')\n",
        "    print(\"Generator model saved at: /content/sentiment_generator.h5\")"
      ],
      "metadata": {
        "id": "eNiDEPg5x364"
      },
      "execution_count": 334,
      "outputs": []
    },
    {
      "cell_type": "code",
      "source": [],
      "metadata": {
        "id": "na9YgEE_x_t-"
      },
      "execution_count": 334,
      "outputs": []
    },
    {
      "cell_type": "code",
      "source": [],
      "metadata": {
        "id": "oPsGO8_Lx_zK"
      },
      "execution_count": 334,
      "outputs": []
    },
    {
      "cell_type": "code",
      "source": [
        "# Train the GAN with the specified number of epochs (50) and batch size (64)"
      ],
      "metadata": {
        "id": "tQxxpyrJx_5A"
      },
      "execution_count": 335,
      "outputs": []
    },
    {
      "cell_type": "code",
      "source": [
        "epochs = 50"
      ],
      "metadata": {
        "id": "6KlTT8LWx4A_"
      },
      "execution_count": 336,
      "outputs": []
    },
    {
      "cell_type": "code",
      "source": [
        "batch_size = 64"
      ],
      "metadata": {
        "id": "u4Nbh_bxyMXB"
      },
      "execution_count": 337,
      "outputs": []
    },
    {
      "cell_type": "code",
      "source": [
        "train_gan(epochs, batch_size, z_dim)"
      ],
      "metadata": {
        "colab": {
          "base_uri": "https://localhost:8080/"
        },
        "id": "eA-rDZMnySU9",
        "outputId": "c41f7e43-d26e-46a6-fa65-9bcb41a56ef3"
      },
      "execution_count": 338,
      "outputs": [
        {
          "output_type": "stream",
          "name": "stdout",
          "text": [
            "\u001b[1m1/1\u001b[0m \u001b[32m━━━━━━━━━━━━━━━━━━━━\u001b[0m\u001b[37m\u001b[0m \u001b[1m0s\u001b[0m 143ms/step\n",
            "0/50 [D loss: nan] [G loss: [array(nan, dtype=float32), array(nan, dtype=float32), array(0.171875, dtype=float32)]]\n",
            "\u001b[1m1/1\u001b[0m \u001b[32m━━━━━━━━━━━━━━━━━━━━\u001b[0m\u001b[37m\u001b[0m \u001b[1m0s\u001b[0m 16ms/step\n",
            "\u001b[1m1/1\u001b[0m \u001b[32m━━━━━━━━━━━━━━━━━━━━\u001b[0m\u001b[37m\u001b[0m \u001b[1m0s\u001b[0m 16ms/step\n",
            "\u001b[1m1/1\u001b[0m \u001b[32m━━━━━━━━━━━━━━━━━━━━\u001b[0m\u001b[37m\u001b[0m \u001b[1m0s\u001b[0m 29ms/step\n",
            "\u001b[1m1/1\u001b[0m \u001b[32m━━━━━━━━━━━━━━━━━━━━\u001b[0m\u001b[37m\u001b[0m \u001b[1m0s\u001b[0m 24ms/step\n",
            "\u001b[1m1/1\u001b[0m \u001b[32m━━━━━━━━━━━━━━━━━━━━\u001b[0m\u001b[37m\u001b[0m \u001b[1m0s\u001b[0m 27ms/step\n",
            "\u001b[1m1/1\u001b[0m \u001b[32m━━━━━━━━━━━━━━━━━━━━\u001b[0m\u001b[37m\u001b[0m \u001b[1m0s\u001b[0m 25ms/step\n",
            "\u001b[1m1/1\u001b[0m \u001b[32m━━━━━━━━━━━━━━━━━━━━\u001b[0m\u001b[37m\u001b[0m \u001b[1m0s\u001b[0m 22ms/step\n",
            "\u001b[1m1/1\u001b[0m \u001b[32m━━━━━━━━━━━━━━━━━━━━\u001b[0m\u001b[37m\u001b[0m \u001b[1m0s\u001b[0m 23ms/step\n",
            "\u001b[1m1/1\u001b[0m \u001b[32m━━━━━━━━━━━━━━━━━━━━\u001b[0m\u001b[37m\u001b[0m \u001b[1m0s\u001b[0m 15ms/step\n",
            "\u001b[1m1/1\u001b[0m \u001b[32m━━━━━━━━━━━━━━━━━━━━\u001b[0m\u001b[37m\u001b[0m \u001b[1m0s\u001b[0m 15ms/step\n",
            "10/50 [D loss: nan] [G loss: [array(nan, dtype=float32), array(nan, dtype=float32), array(0.015625, dtype=float32)]]\n",
            "\u001b[1m1/1\u001b[0m \u001b[32m━━━━━━━━━━━━━━━━━━━━\u001b[0m\u001b[37m\u001b[0m \u001b[1m0s\u001b[0m 15ms/step\n",
            "\u001b[1m1/1\u001b[0m \u001b[32m━━━━━━━━━━━━━━━━━━━━\u001b[0m\u001b[37m\u001b[0m \u001b[1m0s\u001b[0m 16ms/step\n",
            "\u001b[1m1/1\u001b[0m \u001b[32m━━━━━━━━━━━━━━━━━━━━\u001b[0m\u001b[37m\u001b[0m \u001b[1m0s\u001b[0m 21ms/step\n",
            "\u001b[1m1/1\u001b[0m \u001b[32m━━━━━━━━━━━━━━━━━━━━\u001b[0m\u001b[37m\u001b[0m \u001b[1m0s\u001b[0m 16ms/step\n",
            "\u001b[1m1/1\u001b[0m \u001b[32m━━━━━━━━━━━━━━━━━━━━\u001b[0m\u001b[37m\u001b[0m \u001b[1m0s\u001b[0m 16ms/step\n",
            "\u001b[1m1/1\u001b[0m \u001b[32m━━━━━━━━━━━━━━━━━━━━\u001b[0m\u001b[37m\u001b[0m \u001b[1m0s\u001b[0m 25ms/step\n",
            "\u001b[1m1/1\u001b[0m \u001b[32m━━━━━━━━━━━━━━━━━━━━\u001b[0m\u001b[37m\u001b[0m \u001b[1m0s\u001b[0m 16ms/step\n",
            "\u001b[1m1/1\u001b[0m \u001b[32m━━━━━━━━━━━━━━━━━━━━\u001b[0m\u001b[37m\u001b[0m \u001b[1m0s\u001b[0m 15ms/step\n",
            "\u001b[1m1/1\u001b[0m \u001b[32m━━━━━━━━━━━━━━━━━━━━\u001b[0m\u001b[37m\u001b[0m \u001b[1m0s\u001b[0m 16ms/step\n",
            "\u001b[1m1/1\u001b[0m \u001b[32m━━━━━━━━━━━━━━━━━━━━\u001b[0m\u001b[37m\u001b[0m \u001b[1m0s\u001b[0m 15ms/step\n",
            "20/50 [D loss: nan] [G loss: [array(nan, dtype=float32), array(nan, dtype=float32), array(0.00818452, dtype=float32)]]\n",
            "\u001b[1m1/1\u001b[0m \u001b[32m━━━━━━━━━━━━━━━━━━━━\u001b[0m\u001b[37m\u001b[0m \u001b[1m0s\u001b[0m 15ms/step\n",
            "\u001b[1m1/1\u001b[0m \u001b[32m━━━━━━━━━━━━━━━━━━━━\u001b[0m\u001b[37m\u001b[0m \u001b[1m0s\u001b[0m 16ms/step\n",
            "\u001b[1m1/1\u001b[0m \u001b[32m━━━━━━━━━━━━━━━━━━━━\u001b[0m\u001b[37m\u001b[0m \u001b[1m0s\u001b[0m 15ms/step\n",
            "\u001b[1m1/1\u001b[0m \u001b[32m━━━━━━━━━━━━━━━━━━━━\u001b[0m\u001b[37m\u001b[0m \u001b[1m0s\u001b[0m 15ms/step\n",
            "\u001b[1m1/1\u001b[0m \u001b[32m━━━━━━━━━━━━━━━━━━━━\u001b[0m\u001b[37m\u001b[0m \u001b[1m0s\u001b[0m 16ms/step\n",
            "\u001b[1m1/1\u001b[0m \u001b[32m━━━━━━━━━━━━━━━━━━━━\u001b[0m\u001b[37m\u001b[0m \u001b[1m0s\u001b[0m 17ms/step\n",
            "\u001b[1m1/1\u001b[0m \u001b[32m━━━━━━━━━━━━━━━━━━━━\u001b[0m\u001b[37m\u001b[0m \u001b[1m0s\u001b[0m 16ms/step\n",
            "\u001b[1m1/1\u001b[0m \u001b[32m━━━━━━━━━━━━━━━━━━━━\u001b[0m\u001b[37m\u001b[0m \u001b[1m0s\u001b[0m 15ms/step\n",
            "\u001b[1m1/1\u001b[0m \u001b[32m━━━━━━━━━━━━━━━━━━━━\u001b[0m\u001b[37m\u001b[0m \u001b[1m0s\u001b[0m 14ms/step\n",
            "\u001b[1m1/1\u001b[0m \u001b[32m━━━━━━━━━━━━━━━━━━━━\u001b[0m\u001b[37m\u001b[0m \u001b[1m0s\u001b[0m 15ms/step\n",
            "30/50 [D loss: nan] [G loss: [array(nan, dtype=float32), array(nan, dtype=float32), array(0.00554435, dtype=float32)]]\n",
            "\u001b[1m1/1\u001b[0m \u001b[32m━━━━━━━━━━━━━━━━━━━━\u001b[0m\u001b[37m\u001b[0m \u001b[1m0s\u001b[0m 15ms/step\n",
            "\u001b[1m1/1\u001b[0m \u001b[32m━━━━━━━━━━━━━━━━━━━━\u001b[0m\u001b[37m\u001b[0m \u001b[1m0s\u001b[0m 16ms/step\n",
            "\u001b[1m1/1\u001b[0m \u001b[32m━━━━━━━━━━━━━━━━━━━━\u001b[0m\u001b[37m\u001b[0m \u001b[1m0s\u001b[0m 15ms/step\n",
            "\u001b[1m1/1\u001b[0m \u001b[32m━━━━━━━━━━━━━━━━━━━━\u001b[0m\u001b[37m\u001b[0m \u001b[1m0s\u001b[0m 16ms/step\n",
            "\u001b[1m1/1\u001b[0m \u001b[32m━━━━━━━━━━━━━━━━━━━━\u001b[0m\u001b[37m\u001b[0m \u001b[1m0s\u001b[0m 14ms/step\n",
            "\u001b[1m1/1\u001b[0m \u001b[32m━━━━━━━━━━━━━━━━━━━━\u001b[0m\u001b[37m\u001b[0m \u001b[1m0s\u001b[0m 15ms/step\n",
            "\u001b[1m1/1\u001b[0m \u001b[32m━━━━━━━━━━━━━━━━━━━━\u001b[0m\u001b[37m\u001b[0m \u001b[1m0s\u001b[0m 16ms/step\n",
            "\u001b[1m1/1\u001b[0m \u001b[32m━━━━━━━━━━━━━━━━━━━━\u001b[0m\u001b[37m\u001b[0m \u001b[1m0s\u001b[0m 15ms/step\n",
            "\u001b[1m1/1\u001b[0m \u001b[32m━━━━━━━━━━━━━━━━━━━━\u001b[0m\u001b[37m\u001b[0m \u001b[1m0s\u001b[0m 16ms/step\n",
            "\u001b[1m1/1\u001b[0m \u001b[32m━━━━━━━━━━━━━━━━━━━━\u001b[0m\u001b[37m\u001b[0m \u001b[1m0s\u001b[0m 18ms/step\n",
            "40/50 [D loss: nan] [G loss: [array(nan, dtype=float32), array(nan, dtype=float32), array(0.00419207, dtype=float32)]]\n",
            "\u001b[1m1/1\u001b[0m \u001b[32m━━━━━━━━━━━━━━━━━━━━\u001b[0m\u001b[37m\u001b[0m \u001b[1m0s\u001b[0m 14ms/step\n",
            "\u001b[1m1/1\u001b[0m \u001b[32m━━━━━━━━━━━━━━━━━━━━\u001b[0m\u001b[37m\u001b[0m \u001b[1m0s\u001b[0m 15ms/step\n",
            "\u001b[1m1/1\u001b[0m \u001b[32m━━━━━━━━━━━━━━━━━━━━\u001b[0m\u001b[37m\u001b[0m \u001b[1m0s\u001b[0m 33ms/step\n",
            "\u001b[1m1/1\u001b[0m \u001b[32m━━━━━━━━━━━━━━━━━━━━\u001b[0m\u001b[37m\u001b[0m \u001b[1m0s\u001b[0m 24ms/step\n",
            "\u001b[1m1/1\u001b[0m \u001b[32m━━━━━━━━━━━━━━━━━━━━\u001b[0m\u001b[37m\u001b[0m \u001b[1m0s\u001b[0m 23ms/step\n",
            "\u001b[1m1/1\u001b[0m \u001b[32m━━━━━━━━━━━━━━━━━━━━\u001b[0m\u001b[37m\u001b[0m \u001b[1m0s\u001b[0m 25ms/step\n",
            "\u001b[1m1/1\u001b[0m \u001b[32m━━━━━━━━━━━━━━━━━━━━\u001b[0m\u001b[37m\u001b[0m \u001b[1m0s\u001b[0m 23ms/step\n",
            "\u001b[1m1/1\u001b[0m \u001b[32m━━━━━━━━━━━━━━━━━━━━\u001b[0m\u001b[37m\u001b[0m \u001b[1m0s\u001b[0m 25ms/step\n",
            "\u001b[1m1/1\u001b[0m \u001b[32m━━━━━━━━━━━━━━━━━━━━\u001b[0m\u001b[37m\u001b[0m \u001b[1m0s\u001b[0m 15ms/step\n"
          ]
        },
        {
          "output_type": "stream",
          "name": "stderr",
          "text": [
            "WARNING:absl:You are saving your model as an HDF5 file via `model.save()` or `keras.saving.save_model(model)`. This file format is considered legacy. We recommend using instead the native Keras format, e.g. `model.save('my_model.keras')` or `keras.saving.save_model(model, 'my_model.keras')`. \n"
          ]
        },
        {
          "output_type": "stream",
          "name": "stdout",
          "text": [
            "Generator model saved at: /content/sentiment_generator.h5\n"
          ]
        }
      ]
    },
    {
      "cell_type": "markdown",
      "source": [
        "<hr style=\"border: 1px solid purple;\">"
      ],
      "metadata": {
        "id": "hDXoibVE5bcP"
      }
    },
    {
      "cell_type": "code",
      "source": [],
      "metadata": {
        "id": "DPwN48StyScH"
      },
      "execution_count": 338,
      "outputs": []
    },
    {
      "cell_type": "code",
      "source": [],
      "metadata": {
        "id": "b27q1TkXySjG"
      },
      "execution_count": 338,
      "outputs": []
    },
    {
      "cell_type": "code",
      "source": [],
      "metadata": {
        "id": "IyDye1xVyMd9"
      },
      "execution_count": 372,
      "outputs": []
    },
    {
      "cell_type": "markdown",
      "source": [
        "<hr style=\"border: 1px solid purple;\">"
      ],
      "metadata": {
        "id": "6a4S1MY95dWf"
      }
    },
    {
      "cell_type": "markdown",
      "source": [
        "# 🧬 **Step 7: Generating Synthetic Data**\n",
        "\n",
        "Once the GAN has been trained, the generator can produce **synthetic sentiment data**. This data is generated by feeding random noise into the trained generator.\n",
        "\n",
        "- **Generate New Data**:\n",
        "  - We generate synthetic samples by feeding random noise into the generator model.\n",
        "  - The generator produces synthetic data based on what it learned during training, mimicking the patterns in the real data.\n",
        "\n",
        "- **Save Synthetic Data**:\n",
        "  - The generated synthetic data is saved as a CSV file for further analysis, testing, or use in other models.\n",
        "  \n",
        "This synthetic data can now be used for additional training, testing, or experimentation without using real data."
      ],
      "metadata": {
        "id": "CyIsrg2J5eRY"
      }
    },
    {
      "cell_type": "code",
      "source": [
        "# Generate synthetic data using the trained Generator"
      ],
      "metadata": {
        "id": "4FB5eu_4wFlA"
      },
      "execution_count": 339,
      "outputs": []
    },
    {
      "cell_type": "code",
      "source": [
        "noise = np.random.normal(0, 1, (1000, z_dim))  # Generate 1000 samples of random noise"
      ],
      "metadata": {
        "id": "fADC3JT1wFpR"
      },
      "execution_count": 340,
      "outputs": []
    },
    {
      "cell_type": "code",
      "source": [
        "synthetic_data = generator.predict(noise)"
      ],
      "metadata": {
        "colab": {
          "base_uri": "https://localhost:8080/"
        },
        "id": "fngdhKn0wFtd",
        "outputId": "a488114d-2a2a-4523-b2dd-3cc512ead814"
      },
      "execution_count": 341,
      "outputs": [
        {
          "output_type": "stream",
          "name": "stdout",
          "text": [
            "\u001b[1m32/32\u001b[0m \u001b[32m━━━━━━━━━━━━━━━━━━━━\u001b[0m\u001b[37m\u001b[0m \u001b[1m0s\u001b[0m 4ms/step\n"
          ]
        }
      ]
    },
    {
      "cell_type": "code",
      "source": [],
      "metadata": {
        "id": "vKuRQkLSwFxJ"
      },
      "execution_count": 341,
      "outputs": []
    },
    {
      "cell_type": "code",
      "source": [],
      "metadata": {
        "id": "x279yvwnwF04"
      },
      "execution_count": 341,
      "outputs": []
    },
    {
      "cell_type": "code",
      "source": [
        "# Convert generated data into a DataFrame for easier inspection"
      ],
      "metadata": {
        "id": "vPyk2PnNwF4o"
      },
      "execution_count": 342,
      "outputs": []
    },
    {
      "cell_type": "code",
      "source": [
        "synthetic_data_df = pd.DataFrame(synthetic_data, columns=data.columns)"
      ],
      "metadata": {
        "id": "wfAV8oXwwF8e"
      },
      "execution_count": 343,
      "outputs": []
    },
    {
      "cell_type": "code",
      "source": [],
      "metadata": {
        "id": "1ySoZxJAwpqW"
      },
      "execution_count": 343,
      "outputs": []
    },
    {
      "cell_type": "code",
      "source": [],
      "metadata": {
        "id": "ZqZ7HTCbwpu7"
      },
      "execution_count": 343,
      "outputs": []
    },
    {
      "cell_type": "code",
      "source": [
        "# Save synthetic data to a CSV file"
      ],
      "metadata": {
        "id": "LcfIY_7wwpzB"
      },
      "execution_count": 344,
      "outputs": []
    },
    {
      "cell_type": "code",
      "source": [
        "synthetic_data_df.to_csv('/content/synthetic_sentiment_data.csv', index=False)"
      ],
      "metadata": {
        "id": "FIxtxLurwGA8"
      },
      "execution_count": 345,
      "outputs": []
    },
    {
      "cell_type": "code",
      "source": [
        "print(\"Synthetic sentiment data saved at: /content/synthetic_sentiment_data.csv\")"
      ],
      "metadata": {
        "colab": {
          "base_uri": "https://localhost:8080/"
        },
        "id": "qMGfh9w1voZ_",
        "outputId": "fccdd427-5745-4b08-e07e-e3815860b941"
      },
      "execution_count": 346,
      "outputs": [
        {
          "output_type": "stream",
          "name": "stdout",
          "text": [
            "Synthetic sentiment data saved at: /content/synthetic_sentiment_data.csv\n"
          ]
        }
      ]
    },
    {
      "cell_type": "code",
      "source": [],
      "metadata": {
        "id": "lDJ1vN6Awx9P"
      },
      "execution_count": 346,
      "outputs": []
    },
    {
      "cell_type": "code",
      "source": [
        "# Display a few rows of the synthetic data"
      ],
      "metadata": {
        "id": "qhg7pN9ewyDG"
      },
      "execution_count": 347,
      "outputs": []
    },
    {
      "cell_type": "code",
      "source": [
        "print(\"Generated Synthetic Data:\")\n",
        "print(synthetic_data_df.head())"
      ],
      "metadata": {
        "colab": {
          "base_uri": "https://localhost:8080/"
        },
        "id": "ID-qXE04vog4",
        "outputId": "40a5e36f-cc54-426f-d1e1-9704a849bb93"
      },
      "execution_count": 348,
      "outputs": [
        {
          "output_type": "stream",
          "name": "stdout",
          "text": [
            "Generated Synthetic Data:\n",
            "   sentiment_encoded  negative   neutral  positive\n",
            "0           0.992552 -0.996179  0.932608  0.442675\n",
            "1           0.992907 -0.997556  0.962617  0.516359\n",
            "2           0.998258 -0.999111  0.977948  0.494249\n",
            "3           0.999349 -0.999647  0.984267  0.613942\n",
            "4           0.997615 -0.998690  0.969311  0.424938\n"
          ]
        }
      ]
    },
    {
      "cell_type": "markdown",
      "source": [
        "<hr style=\"border: 1px solid purple;\">"
      ],
      "metadata": {
        "id": "rUUCNWO55kO4"
      }
    },
    {
      "cell_type": "code",
      "source": [],
      "metadata": {
        "id": "fuuBKn7p5lVW"
      },
      "execution_count": null,
      "outputs": []
    },
    {
      "cell_type": "code",
      "source": [],
      "metadata": {
        "id": "CPKOyIZR1sir"
      },
      "execution_count": null,
      "outputs": []
    },
    {
      "cell_type": "code",
      "source": [],
      "metadata": {
        "id": "0l8DrnZP1spr"
      },
      "execution_count": null,
      "outputs": []
    },
    {
      "cell_type": "markdown",
      "source": [
        "<hr style=\"border: 1px solid purple;\">"
      ],
      "metadata": {
        "id": "D5IYresR5mC3"
      }
    },
    {
      "cell_type": "markdown",
      "source": [
        "# 📊 **Step 8: Data Visualization**\n",
        "\n",
        "Visualization helps us to understand how well the synthetic data matches the real data.\n",
        "\n",
        "- **Distributions Comparison**:\n",
        "  - We plot the distributions of the original data and the synthetic data side by side.\n",
        "  - This allows us to visually compare how similar the two datasets are in terms of feature distribution.\n",
        "\n",
        "- **Correlation Heatmap**:\n",
        "  - A **correlation heatmap** is plotted to visualize the relationships between features in the synthetic data.\n",
        "  - This helps us to understand if the synthetic data has similar feature dependencies as the real data.\n",
        "\n",
        "By analyzing the visualizations, we can assess how well the generator is able to replicate the structure of the original dataset."
      ],
      "metadata": {
        "id": "JxnY9slC5m7I"
      }
    },
    {
      "cell_type": "code",
      "source": [
        "# Plot the distribution of original and synthetic data"
      ],
      "metadata": {
        "id": "Cui0n9hJ1tAr"
      },
      "execution_count": 367,
      "outputs": []
    },
    {
      "cell_type": "code",
      "source": [
        "plt.figure(figsize=(12, 8))\n",
        "for i, column in enumerate(data.columns):\n",
        "    plt.subplot(len(data.columns) // 3 + 1, 3, i + 1)\n",
        "    sns.histplot(data[column], kde=True, color='blue', label='Original', stat='density')\n",
        "    sns.histplot(synthetic_data_df[column], kde=True, color='red', label='Synthetic', stat='density')\n",
        "    plt.title(f'Distribution of {column}')\n",
        "    plt.legend()\n",
        "plt.tight_layout()\n",
        "plt.show()  # Ensure the plot is shown"
      ],
      "metadata": {
        "colab": {
          "base_uri": "https://localhost:8080/",
          "height": 492
        },
        "id": "rOHlYn3-1uFO",
        "outputId": "6234675f-053f-4319-9c91-2c804eca52d4"
      },
      "execution_count": 368,
      "outputs": [
        {
          "output_type": "display_data",
          "data": {
            "text/plain": [
              "<Figure size 1200x800 with 4 Axes>"
            ],
            "image/png": "[encoded data removed]"
          },
          "metadata": {}
        }
      ]
    },
    {
      "cell_type": "code",
      "source": [],
      "metadata": {
        "id": "UkgC0pC51xwR"
      },
      "execution_count": null,
      "outputs": []
    },
    {
      "cell_type": "code",
      "source": [],
      "metadata": {
        "id": "yw0Zwuu31x12"
      },
      "execution_count": null,
      "outputs": []
    },
    {
      "cell_type": "code",
      "source": [
        "# Plot the correlation heatmap of synthetic data"
      ],
      "metadata": {
        "id": "NlpbNBSv1x7b"
      },
      "execution_count": 369,
      "outputs": []
    },
    {
      "cell_type": "code",
      "source": [
        "plt.figure(figsize=(10, 8))\n",
        "correlation = synthetic_data_df.corr()\n",
        "sns.heatmap(correlation, annot=True, cmap='coolwarm', fmt='.2f', linewidths=0.5)\n",
        "plt.title('Correlation Heatmap of Synthetic Data')\n",
        "plt.show()  # Ensure the plot is shown"
      ],
      "metadata": {
        "colab": {
          "base_uri": "https://localhost:8080/",
          "height": 719
        },
        "id": "--wsInvN1yPL",
        "outputId": "bcaf1bf8-2016-4f2e-8567-7ba481fd75bf"
      },
      "execution_count": 370,
      "outputs": [
        {
          "output_type": "display_data",
          "data": {
            "text/plain": [
              "<Figure size 1000x800 with 2 Axes>"
            ],
            "image/png": "[encoded data removed]"
          },
          "metadata": {}
        }
      ]
    },
    {
      "cell_type": "markdown",
      "source": [
        "<hr style=\"border: 1px solid purple;\">"
      ],
      "metadata": {
        "id": "yJrpQuU15qVT"
      }
    },
    {
      "cell_type": "code",
      "source": [],
      "metadata": {
        "id": "a5xuyUb25sLl"
      },
      "execution_count": null,
      "outputs": []
    },
    {
      "cell_type": "code",
      "source": [],
      "metadata": {
        "id": "WD8RqCrO5sTa"
      },
      "execution_count": null,
      "outputs": []
    },
    {
      "cell_type": "markdown",
      "source": [
        "<hr style=\"border: 1px solid purple;\">"
      ],
      "metadata": {
        "id": "obykbEhI5tsH"
      }
    },
    {
      "cell_type": "markdown",
      "source": [
        "# 🏁 **Conclusion**\n",
        "\n",
        "In this project, we successfully used a **Generative Adversarial Network (GAN)** to generate synthetic financial sentiment data. Here's a recap of what we achieved:\n",
        "\n",
        "- **Data Loading & Exploration**: We started by loading and inspecting the dataset to understand its structure and clean it by handling missing or duplicate values.\n",
        "  \n",
        "- **Preprocessing**: We cleaned the text data by removing special characters and converting it to lowercase, ensuring that the input to the model was consistent and well-prepared.\n",
        "  \n",
        "- **Sentiment Encoding**: We encoded the sentiment labels (positive, neutral, negative) into numerical values, allowing the GAN model to process the data effectively.\n",
        "\n",
        "- **Feature Extraction**: We transformed the text data into a numerical format using **CountVectorizer**, which converted the words into a **bag-of-words** representation suitable for machine learning.\n",
        "\n",
        "- **Building the GAN**: We constructed a simple GAN with a generator and discriminator. The generator learned to create fake sentiment data, while the discriminator learned to distinguish real from fake data.\n",
        "\n",
        "- **Training the GAN**: The GAN was trained using an adversarial process, where both the generator and discriminator were optimized simultaneously to improve their performance.\n",
        "\n",
        "- **Generating Synthetic Data**: After training, the generator produced synthetic data that mimicked the real sentiment data. This synthetic data can be used for further analysis, model training, or as a tool for privacy-preserving applications.\n",
        "\n",
        "- **Visualization**: We visualized the distributions and correlations of the original and synthetic data to evaluate how well the generator replicated the real data patterns.\n",
        "\n",
        "By the end of this project, we have not only generated synthetic sentiment data but also demonstrated the potential of GANs for data augmentation and privacy-preserving techniques in financial sentiment analysis. This approach can be extended to other types of data generation tasks in machine learning and AI applications.\n",
        "\n",
        "The generated data can be further used for training more advanced models, improving the robustness of AI systems, or testing new strategies without relying on real sensitive data."
      ],
      "metadata": {
        "id": "33ul8K0d5umA"
      }
    },
    {
      "cell_type": "markdown",
      "source": [
        "<hr style=\"border: 3px solid purple;\">\n",
        "<hr style=\"border: 3px solid purple;\">"
      ],
      "metadata": {
        "id": "mO2L4vVf5xra"
      }
    },
    {
      "cell_type": "code",
      "source": [],
      "metadata": {
        "id": "yomBJ2El1uLO"
      },
      "execution_count": 372,
      "outputs": []
    }
  ]
}