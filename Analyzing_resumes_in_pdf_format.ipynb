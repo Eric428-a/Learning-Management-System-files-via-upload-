{
  "nbformat": 4,
  "nbformat_minor": 0,
  "metadata": {
    "colab": {
      "provenance": []
    },
    "kernelspec": {
      "name": "python3",
      "display_name": "Python 3"
    },
    "language_info": {
      "name": "python"
    }
  },
  "cells": [
    {
      "cell_type": "code",
      "source": [
        "# Install necessary packages"
      ],
      "metadata": {
        "id": "zpdOAAow9uPT"
      },
      "execution_count": 2,
      "outputs": []
    },
    {
      "cell_type": "code",
      "source": [
        "!pip install PyPDF2 textblob nltk matplotlib  # Install required packages for PDF reading, text analysis, and visualization\n"
      ],
      "metadata": {
        "colab": {
          "base_uri": "https://localhost:8080/"
        },
        "id": "lSuzSm1c9uRs",
        "outputId": "1f9050c5-1fdd-4ee2-e1f1-ea8f3a67319b"
      },
      "execution_count": 3,
      "outputs": [
        {
          "output_type": "stream",
          "name": "stdout",
          "text": [
            "Requirement already satisfied: PyPDF2 in /usr/local/lib/python3.10/dist-packages (3.0.1)\n",
            "Requirement already satisfied: textblob in /usr/local/lib/python3.10/dist-packages (0.17.1)\n",
            "Requirement already satisfied: nltk in /usr/local/lib/python3.10/dist-packages (3.8.1)\n",
            "Requirement already satisfied: matplotlib in /usr/local/lib/python3.10/dist-packages (3.7.1)\n",
            "Requirement already satisfied: click in /usr/local/lib/python3.10/dist-packages (from nltk) (8.1.7)\n",
            "Requirement already satisfied: joblib in /usr/local/lib/python3.10/dist-packages (from nltk) (1.4.2)\n",
            "Requirement already satisfied: regex>=2021.8.3 in /usr/local/lib/python3.10/dist-packages (from nltk) (2024.5.15)\n",
            "Requirement already satisfied: tqdm in /usr/local/lib/python3.10/dist-packages (from nltk) (4.66.4)\n",
            "Requirement already satisfied: contourpy>=1.0.1 in /usr/local/lib/python3.10/dist-packages (from matplotlib) (1.2.1)\n",
            "Requirement already satisfied: cycler>=0.10 in /usr/local/lib/python3.10/dist-packages (from matplotlib) (0.12.1)\n",
            "Requirement already satisfied: fonttools>=4.22.0 in /usr/local/lib/python3.10/dist-packages (from matplotlib) (4.53.1)\n",
            "Requirement already satisfied: kiwisolver>=1.0.1 in /usr/local/lib/python3.10/dist-packages (from matplotlib) (1.4.5)\n",
            "Requirement already satisfied: numpy>=1.20 in /usr/local/lib/python3.10/dist-packages (from matplotlib) (1.26.4)\n",
            "Requirement already satisfied: packaging>=20.0 in /usr/local/lib/python3.10/dist-packages (from matplotlib) (24.1)\n",
            "Requirement already satisfied: pillow>=6.2.0 in /usr/local/lib/python3.10/dist-packages (from matplotlib) (9.4.0)\n",
            "Requirement already satisfied: pyparsing>=2.3.1 in /usr/local/lib/python3.10/dist-packages (from matplotlib) (3.1.2)\n",
            "Requirement already satisfied: python-dateutil>=2.7 in /usr/local/lib/python3.10/dist-packages (from matplotlib) (2.8.2)\n",
            "Requirement already satisfied: six>=1.5 in /usr/local/lib/python3.10/dist-packages (from python-dateutil>=2.7->matplotlib) (1.16.0)\n"
          ]
        }
      ]
    },
    {
      "cell_type": "code",
      "source": [],
      "metadata": {
        "id": "s1J3sYlG9uUr"
      },
      "execution_count": null,
      "outputs": []
    },
    {
      "cell_type": "code",
      "source": [],
      "metadata": {
        "id": "Gfj_VeNH9uZE"
      },
      "execution_count": null,
      "outputs": []
    },
    {
      "cell_type": "code",
      "source": [
        "import PyPDF2  # Import PyPDF2 for reading PDF files"
      ],
      "metadata": {
        "id": "wB2o4xqm9udu"
      },
      "execution_count": 4,
      "outputs": []
    },
    {
      "cell_type": "code",
      "source": [
        "import os  # Import os for file and directory operations"
      ],
      "metadata": {
        "id": "espvxhnW9ugF"
      },
      "execution_count": 5,
      "outputs": []
    },
    {
      "cell_type": "code",
      "source": [
        "import re  # Import re for regular expressions"
      ],
      "metadata": {
        "id": "portaafO9ukO"
      },
      "execution_count": 6,
      "outputs": []
    },
    {
      "cell_type": "code",
      "source": [
        "import nltk  # Import nltk for natural language processing"
      ],
      "metadata": {
        "id": "PJlQFfxU9889"
      },
      "execution_count": 7,
      "outputs": []
    },
    {
      "cell_type": "code",
      "source": [
        "from nltk.corpus import stopwords  # Import stopwords for removing common words from text"
      ],
      "metadata": {
        "id": "Ww0A_Bla98_7"
      },
      "execution_count": 8,
      "outputs": []
    },
    {
      "cell_type": "code",
      "source": [
        "from nltk.tokenize import word_tokenize  # Import word_tokenize for splitting text into words"
      ],
      "metadata": {
        "id": "u9qzo0n399Cj"
      },
      "execution_count": 9,
      "outputs": []
    },
    {
      "cell_type": "code",
      "source": [
        "from collections import Counter  # Import Counter for counting word frequencies"
      ],
      "metadata": {
        "id": "J1LNdQaf99E_"
      },
      "execution_count": 10,
      "outputs": []
    },
    {
      "cell_type": "code",
      "source": [
        "import matplotlib.pyplot as plt  # Import matplotlib for plotting graphs"
      ],
      "metadata": {
        "id": "dJu4EKpO99Hr"
      },
      "execution_count": 11,
      "outputs": []
    },
    {
      "cell_type": "code",
      "source": [
        "from textblob import TextBlob  # Import TextBlob for sentiment analysis"
      ],
      "metadata": {
        "id": "FCj9_Dk499Kf"
      },
      "execution_count": 12,
      "outputs": []
    },
    {
      "cell_type": "code",
      "source": [],
      "metadata": {
        "id": "ip5ZCXug-K1l"
      },
      "execution_count": null,
      "outputs": []
    },
    {
      "cell_type": "code",
      "source": [],
      "metadata": {
        "id": "4LytTRcw-K41"
      },
      "execution_count": null,
      "outputs": []
    },
    {
      "cell_type": "code",
      "source": [
        "# Ensure required NLTK data is downloaded"
      ],
      "metadata": {
        "id": "qhyYbQ8A-K71"
      },
      "execution_count": 13,
      "outputs": []
    },
    {
      "cell_type": "code",
      "source": [
        "nltk.download('punkt')  # Download the punkt tokenizer models"
      ],
      "metadata": {
        "colab": {
          "base_uri": "https://localhost:8080/"
        },
        "id": "PyncJAlS-K-9",
        "outputId": "c49d7905-71fa-43b2-a29d-54ac3e030c2e"
      },
      "execution_count": 15,
      "outputs": [
        {
          "output_type": "stream",
          "name": "stderr",
          "text": [
            "[nltk_data] Downloading package punkt to /root/nltk_data...\n",
            "[nltk_data]   Package punkt is already up-to-date!\n"
          ]
        },
        {
          "output_type": "execute_result",
          "data": {
            "text/plain": [
              "True"
            ]
          },
          "metadata": {},
          "execution_count": 15
        }
      ]
    },
    {
      "cell_type": "code",
      "source": [
        "nltk.download('stopwords')  # Download the stopwords corpus"
      ],
      "metadata": {
        "colab": {
          "base_uri": "https://localhost:8080/"
        },
        "id": "ivGa5k3Y-LBn",
        "outputId": "aa032549-29dc-4094-8b13-90c6c373ccf7"
      },
      "execution_count": 16,
      "outputs": [
        {
          "output_type": "stream",
          "name": "stderr",
          "text": [
            "[nltk_data] Downloading package stopwords to /root/nltk_data...\n",
            "[nltk_data]   Package stopwords is already up-to-date!\n"
          ]
        },
        {
          "output_type": "execute_result",
          "data": {
            "text/plain": [
              "True"
            ]
          },
          "metadata": {},
          "execution_count": 16
        }
      ]
    },
    {
      "cell_type": "code",
      "source": [],
      "metadata": {
        "id": "8Q0ao2HG-LEn"
      },
      "execution_count": null,
      "outputs": []
    },
    {
      "cell_type": "code",
      "source": [],
      "metadata": {
        "id": "P9Q-36Cv-LKZ"
      },
      "execution_count": null,
      "outputs": []
    },
    {
      "cell_type": "code",
      "source": [
        "# Path to the PDF file"
      ],
      "metadata": {
        "id": "kuGVPXtN-LNV"
      },
      "execution_count": 17,
      "outputs": []
    },
    {
      "cell_type": "code",
      "source": [
        "pdf_path = \"/content/ERIC MWANIKI  DS & ML RESUME.pdf\"  # Define the path to the PDF file"
      ],
      "metadata": {
        "id": "_OgudBGA-Vn8"
      },
      "execution_count": 18,
      "outputs": []
    },
    {
      "cell_type": "code",
      "source": [],
      "metadata": {
        "id": "mbC403WD-VrT"
      },
      "execution_count": null,
      "outputs": []
    },
    {
      "cell_type": "code",
      "source": [],
      "metadata": {
        "id": "zgIEVoNC-VuL"
      },
      "execution_count": null,
      "outputs": []
    },
    {
      "cell_type": "code",
      "source": [
        "# Directory to save results"
      ],
      "metadata": {
        "id": "ueKzkL_I-VzG"
      },
      "execution_count": 19,
      "outputs": []
    },
    {
      "cell_type": "code",
      "source": [
        "output_dir = \"/content/resume_analysis/\"  # Define the directory to save results"
      ],
      "metadata": {
        "id": "MlXfH1jb-V31"
      },
      "execution_count": 20,
      "outputs": []
    },
    {
      "cell_type": "code",
      "source": [
        "os.makedirs(output_dir, exist_ok=True)  # Create the directory if it doesn't exist"
      ],
      "metadata": {
        "id": "jMuwKx96-V79"
      },
      "execution_count": 21,
      "outputs": []
    },
    {
      "cell_type": "code",
      "source": [],
      "metadata": {
        "id": "YokLGvQG-fHd"
      },
      "execution_count": null,
      "outputs": []
    },
    {
      "cell_type": "code",
      "source": [],
      "metadata": {
        "id": "tqgadoDi-fKu"
      },
      "execution_count": null,
      "outputs": []
    },
    {
      "cell_type": "code",
      "source": [
        "# Read PDF file and extract text"
      ],
      "metadata": {
        "id": "V4eR_SzK-fNc"
      },
      "execution_count": 22,
      "outputs": []
    },
    {
      "cell_type": "code",
      "source": [
        "text = \"\"  # Initialize an empty string to hold the text"
      ],
      "metadata": {
        "id": "LQkxPg9e-fP-"
      },
      "execution_count": 23,
      "outputs": []
    },
    {
      "cell_type": "code",
      "source": [
        "with open(pdf_path, \"rb\") as file:  # Open the PDF file in binary read mode\n",
        "    reader = PyPDF2.PdfReader(file)  # Create a PdfReader object\n",
        "    for page in reader.pages:  # Iterate through each page in the PDF\n",
        "        text += page.extract_text()  # Extract text from the page and append to the text variable"
      ],
      "metadata": {
        "id": "Y_677aZ3-fSk"
      },
      "execution_count": 24,
      "outputs": []
    },
    {
      "cell_type": "code",
      "source": [],
      "metadata": {
        "id": "87PqrJjt-m7k"
      },
      "execution_count": null,
      "outputs": []
    },
    {
      "cell_type": "code",
      "source": [
        "# Display extracted text"
      ],
      "metadata": {
        "id": "ec8OKNkg-m-8"
      },
      "execution_count": 25,
      "outputs": []
    },
    {
      "cell_type": "code",
      "source": [
        "print(\"Extracted Text:\")  # Print header for extracted text\n",
        "print(text[:2000])  # Displaying first 2000 characters for brevity"
      ],
      "metadata": {
        "colab": {
          "base_uri": "https://localhost:8080/"
        },
        "id": "I7z4CM6j-nCH",
        "outputId": "7f529ee3-655f-41ab-b1cd-2cc982acb937"
      },
      "execution_count": 26,
      "outputs": [
        {
          "output_type": "stream",
          "name": "stdout",
          "text": [
            "Extracted Text:\n",
            "ERIC MWANIKI RESUME  \n",
            " \n",
            "Eric Mwaniki  \n",
            "P.O. BOX 90420 -80100, Mombasa, Kenya  \n",
            "Email: ericmwaniki2004@gmail.com  \n",
            "GitHub: https://github.com/Eric428 -a \n",
            " \n",
            "Objective : \n",
            "To leverage my strong foundation in Civil Engineering with advanced skills in data science and \n",
            "machine learning to drive innovation and efficiency in infrastructure development and \n",
            "management.  \n",
            " \n",
            "Education:  \n",
            "Online Data Science and Machine Learning Studies  \n",
            "Kaggle and Udemy, Completed in May 2023  \n",
            " Gained comprehen sive knowledge in data science, machine learning, and statistical \n",
            "analysis.  \n",
            " Executed hands -on projects demonstrating practical application of data science skills.  \n",
            " \n",
            "Bachelor of Science in Civil Engineering  \n",
            "Technical University of Mombasa, Mombasa, Kenya  \n",
            "Expected Graduation: 2028  \n",
            " \n",
            "Relevant Coursework : \n",
            "Computer programming  \n",
            "CAD Drafting and Programming  \n",
            "Structural Analysis  \n",
            "Geotechnical Engineering  \n",
            "Fluid Mechanics  Construction Management  \n",
            " \n",
            "Integration of Data Science and Machine Learning:  \n",
            "I am passionate about integrating data science and machine learning principles into civil \n",
            "engineering practices to enhance project planning, design, and implementation. By leveraging \n",
            "data analytics, I aim to optimize construction processes, improve structural performance \n",
            "predic tions, and implement predictive maintenance strategies. My proficiency in Python \n",
            "(NumPy, Pandas, Scikit -learn) and R allows me to utilize advanced statistical techniques for \n",
            "data -driven decision -making in infrastructure projects.  \n",
            " \n",
            "Experience:  \n",
            " \n",
            "Chief Conten t Officer  \n",
            "Ignitus Organization  \n",
            "July 2024 - Present  \n",
            " \n",
            " Oversee the development and implementation of content strategies that integrate \n",
            "machine learning models to enhance content personalization and engagement.  \n",
            " Lead a team of content creators, data analysts, and machine learning engineers to \n",
            "develop data -driven content solutions.  \n",
            " Design and deploy machine learning algorithms for content recommendation, user \n",
            "engagement \n"
          ]
        }
      ]
    },
    {
      "cell_type": "code",
      "source": [],
      "metadata": {
        "id": "G7WjtD1a-tTr"
      },
      "execution_count": null,
      "outputs": []
    },
    {
      "cell_type": "code",
      "source": [],
      "metadata": {
        "id": "U8XL8FOL-tXS"
      },
      "execution_count": null,
      "outputs": []
    },
    {
      "cell_type": "code",
      "source": [],
      "metadata": {
        "id": "eByVQWtx-taa"
      },
      "execution_count": null,
      "outputs": []
    },
    {
      "cell_type": "code",
      "source": [
        "# Clean and process text"
      ],
      "metadata": {
        "id": "mD7lwfjx-tdC"
      },
      "execution_count": 27,
      "outputs": []
    },
    {
      "cell_type": "code",
      "source": [
        "text = re.sub(r'\\s+', ' ', text).strip()  # Replace multiple whitespace characters with a single space and strip leading/trailing spaces\n"
      ],
      "metadata": {
        "id": "nPJY2MXV-tfk"
      },
      "execution_count": 28,
      "outputs": []
    },
    {
      "cell_type": "code",
      "source": [
        "words = word_tokenize(text.lower())  # Tokenize the text into words and convert to lowercase"
      ],
      "metadata": {
        "id": "slGIa-sd-tiz"
      },
      "execution_count": 29,
      "outputs": []
    },
    {
      "cell_type": "code",
      "source": [
        "words = [word for word in words if word.isalnum() and word not in stopwords.words('english')]  # Remove non-alphanumeric words and stopwords\n"
      ],
      "metadata": {
        "id": "zHS9nxjx-nFD"
      },
      "execution_count": 30,
      "outputs": []
    },
    {
      "cell_type": "code",
      "source": [],
      "metadata": {
        "id": "m8g_RfyN-fU9"
      },
      "execution_count": null,
      "outputs": []
    },
    {
      "cell_type": "code",
      "source": [
        "# Display cleaned words"
      ],
      "metadata": {
        "id": "vDnkxzcv-fXS"
      },
      "execution_count": 31,
      "outputs": []
    },
    {
      "cell_type": "code",
      "source": [
        "print(\"\\nCleaned Words Sample:\")  # Print header for cleaned words\n",
        "print(words[:50])  # Displaying first 50 cleaned words"
      ],
      "metadata": {
        "colab": {
          "base_uri": "https://localhost:8080/"
        },
        "id": "CjIFQQmH-fZt",
        "outputId": "d7aa0d4d-5cb6-4034-ea5c-47130ae1afe3"
      },
      "execution_count": 32,
      "outputs": [
        {
          "output_type": "stream",
          "name": "stdout",
          "text": [
            "\n",
            "Cleaned Words Sample:\n",
            "['eric', 'mwaniki', 'resume', 'eric', 'mwaniki', 'box', '90420', 'mombasa', 'kenya', 'email', 'ericmwaniki2004', 'github', 'https', 'objective', 'leverage', 'strong', 'foundation', 'civil', 'engineering', 'advanced', 'skills', 'data', 'science', 'machine', 'learning', 'drive', 'innovation', 'efficiency', 'infrastructure', 'development', 'management', 'education', 'online', 'data', 'science', 'machine', 'learning', 'studies', 'kaggle', 'udemy', 'completed', 'may', '2023', 'gained', 'comprehen', 'sive', 'knowledge', 'data', 'science', 'machine']\n"
          ]
        }
      ]
    },
    {
      "cell_type": "code",
      "source": [],
      "metadata": {
        "id": "8w2epTHm-V_F"
      },
      "execution_count": null,
      "outputs": []
    },
    {
      "cell_type": "code",
      "source": [],
      "metadata": {
        "id": "H8lWIgjZ-WCY"
      },
      "execution_count": null,
      "outputs": []
    },
    {
      "cell_type": "code",
      "source": [],
      "metadata": {
        "id": "CS0gy0ov-WFe"
      },
      "execution_count": null,
      "outputs": []
    },
    {
      "cell_type": "code",
      "source": [
        "# Count word frequency"
      ],
      "metadata": {
        "id": "LIUVnlR299NN"
      },
      "execution_count": 33,
      "outputs": []
    },
    {
      "cell_type": "code",
      "source": [
        "word_freq = Counter(words)  # Count the frequency of each word"
      ],
      "metadata": {
        "id": "EpxIfApB9uq-"
      },
      "execution_count": 34,
      "outputs": []
    },
    {
      "cell_type": "code",
      "source": [
        "most_common_words = word_freq.most_common(20)  # Get the 20 most common words"
      ],
      "metadata": {
        "id": "8UlQUqJk9utr"
      },
      "execution_count": 35,
      "outputs": []
    },
    {
      "cell_type": "code",
      "source": [],
      "metadata": {
        "id": "MeW6xS109uwT"
      },
      "execution_count": null,
      "outputs": []
    },
    {
      "cell_type": "code",
      "source": [],
      "metadata": {
        "id": "OiHR12Ti_LJs"
      },
      "execution_count": null,
      "outputs": []
    },
    {
      "cell_type": "code",
      "source": [
        "# Display most common words"
      ],
      "metadata": {
        "id": "FMhErLJ49uyb"
      },
      "execution_count": 36,
      "outputs": []
    },
    {
      "cell_type": "code",
      "source": [
        "print(\"\\nMost Common Words:\")  # Print header for most common words\n",
        "for word, freq in most_common_words:  # Iterate through the most common words\n",
        "    print(f\"{word}: {freq}\")  # Print each word and its frequency"
      ],
      "metadata": {
        "colab": {
          "base_uri": "https://localhost:8080/"
        },
        "id": "jSepGz9J9u0r",
        "outputId": "f85bded7-a39b-44be-a027-60a0423d4a74"
      },
      "execution_count": 39,
      "outputs": [
        {
          "output_type": "stream",
          "name": "stdout",
          "text": [
            "\n",
            "Most Common Words:\n",
            "data: 32\n",
            "learning: 21\n",
            "machine: 18\n",
            "science: 13\n",
            "analysis: 9\n",
            "content: 8\n",
            "projects: 7\n",
            "project: 7\n",
            "engineering: 6\n",
            "programming: 6\n",
            "predictive: 6\n",
            "statistical: 5\n",
            "techniques: 5\n",
            "present: 5\n",
            "models: 5\n",
            "model: 5\n",
            "advanced: 4\n",
            "skills: 4\n",
            "development: 4\n",
            "management: 4\n"
          ]
        }
      ]
    },
    {
      "cell_type": "code",
      "source": [],
      "metadata": {
        "id": "0tuzgsxa9u3e"
      },
      "execution_count": null,
      "outputs": []
    },
    {
      "cell_type": "code",
      "source": [],
      "metadata": {
        "id": "it_cT-sX9u5K"
      },
      "execution_count": null,
      "outputs": []
    },
    {
      "cell_type": "code",
      "source": [],
      "metadata": {
        "id": "IzbYk7Hu9u7z"
      },
      "execution_count": null,
      "outputs": []
    },
    {
      "cell_type": "code",
      "source": [
        "# Plot most common words"
      ],
      "metadata": {
        "id": "7aCje5ea9vCU"
      },
      "execution_count": 40,
      "outputs": []
    },
    {
      "cell_type": "code",
      "source": [
        "plt.figure(figsize=(12, 8))  # Create a figure with a specific size\n",
        "plt.bar([word[0] for word in most_common_words], [word[1] for word in most_common_words])  # Create a bar chart\n",
        "plt.title('Most Common Words in Resume')  # Set the title of the plot\n",
        "plt.xlabel('Words')  # Set the x-axis label\n",
        "plt.ylabel('Frequency')  # Set the y-axis label\n",
        "plt.xticks(rotation=45)  # Rotate x-axis labels for better readability\n",
        "plt.tight_layout()  # Adjust layout to prevent clipping\n",
        "plt.show()  # Display the plot"
      ],
      "metadata": {
        "colab": {
          "base_uri": "https://localhost:8080/",
          "height": 642
        },
        "id": "nQzXLTh19vGr",
        "outputId": "41a5dd81-012b-4741-95f3-da4beb6a3c63"
      },
      "execution_count": 41,
      "outputs": [
        {
          "output_type": "display_data",
          "data": {
            "text/plain": [
              "<Figure size 1200x800 with 1 Axes>"
            ],
            "image/png": "[encoded data removed]"
          },
          "metadata": {}
        }
      ]
    },
    {
      "cell_type": "code",
      "source": [],
      "metadata": {
        "id": "l1_m0DJt9vJN"
      },
      "execution_count": null,
      "outputs": []
    },
    {
      "cell_type": "code",
      "source": [],
      "metadata": {
        "id": "rhEVSO_A9vQ9"
      },
      "execution_count": null,
      "outputs": []
    },
    {
      "cell_type": "code",
      "source": [
        "# Extract sections from text with error handling"
      ],
      "metadata": {
        "id": "0LvXPbyx9vTl"
      },
      "execution_count": 42,
      "outputs": []
    },
    {
      "cell_type": "code",
      "source": [
        "def extract_section(title):  # Define a function to extract sections\n",
        "    pattern = re.compile(rf'{title}:(.*?)(Objective:|Education:|Experience:|Skills:|Projects:|Achievements:|References:|$)', re.S)  # Compile a regex pattern to extract the section\n",
        "    match = pattern.search(text)  # Search for the pattern in the text\n",
        "    return match.group(1).strip() if match else \"Not Found\"  # Return the section content if found, otherwise return \"Not Found\"\n",
        ""
      ],
      "metadata": {
        "id": "DsiZbHDx9vWT"
      },
      "execution_count": 43,
      "outputs": []
    },
    {
      "cell_type": "code",
      "source": [],
      "metadata": {
        "id": "3Lz9z1pY9vYU"
      },
      "execution_count": null,
      "outputs": []
    },
    {
      "cell_type": "code",
      "source": [
        "sections = {  # Dictionary to hold extracted sections\n",
        "    \"Objective\": extract_section(\"Objective\"),  # Extract the Objective section\n",
        "    \"Education\": extract_section(\"Education\"),  # Extract the Education section\n",
        "    \"Experience\": extract_section(\"Experience\"),  # Extract the Experience section\n",
        "    \"Skills\": extract_section(\"Skills\"),  # Extract the Skills section\n",
        "    \"Projects\": extract_section(\"Projects\"),  # Extract the Projects section\n",
        "    \"Achievements\": extract_section(\"Achievements\"),  # Extract the Achievements section\n",
        "    \"References\": extract_section(\"References\"),  # Extract the References section\n",
        "}"
      ],
      "metadata": {
        "id": "-W6I-tkJ9val"
      },
      "execution_count": 44,
      "outputs": []
    },
    {
      "cell_type": "code",
      "source": [],
      "metadata": {
        "id": "QcWSdIP19vdB"
      },
      "execution_count": null,
      "outputs": []
    },
    {
      "cell_type": "code",
      "source": [
        "# Display and save sections"
      ],
      "metadata": {
        "id": "E9MS4h-w9ve9"
      },
      "execution_count": 45,
      "outputs": []
    },
    {
      "cell_type": "code",
      "source": [
        "for section, content in sections.items():  # Iterate through each section and its content\n",
        "    print(f\"\\n{section} Section:\")  # Print header for the section\n",
        "    print(content[:500])  # Displaying first 500 characters for brevity\n",
        "\n",
        "    # Save each section to a text file\n",
        "    with open(os.path.join(output_dir, f\"{section.lower()}.txt\"), \"w\") as file:  # Open a file to write the section content\n",
        "        file.write(content)  # Write the section content to the file"
      ],
      "metadata": {
        "colab": {
          "base_uri": "https://localhost:8080/"
        },
        "id": "u5FCQKga9vhW",
        "outputId": "39de869e-a919-4799-b6da-3d030c11ffb2"
      },
      "execution_count": 46,
      "outputs": [
        {
          "output_type": "stream",
          "name": "stdout",
          "text": [
            "\n",
            "Objective Section:\n",
            "Not Found\n",
            "\n",
            "Education Section:\n",
            "Online Data Science and Machine Learning Studies Kaggle and Udemy, Completed in May 2023  Gained comprehen sive knowledge in data science, machine learning, and statistical analysis.  Executed hands -on projects demonstrating practical application of data science skills. Bachelor of Science in Civil Engineering Technical University of Mombasa, Mombasa, Kenya Expected Graduation: 2028 Relevant Coursework : Computer programming CAD Drafting and Programming Structural Analysis Geotechnical Engine\n",
            "\n",
            "Experience Section:\n",
            "Chief Conten t Officer Ignitus Organization July 2024 - Present  Oversee the development and implementation of content strategies that integrate machine learning models to enhance content personalization and engagement.  Lead a team of content creators, data analysts, and machine learning engineers to develop data -driven content solutions.  Design and deploy machine learning algorithms for content recommendation, user engagement analysis, and performance optimization.  Utilize natural langu\n",
            "\n",
            "Skills Section:\n",
            " Data Science & Machine Learning: Regression, Classification, Clustering, Neural Networks  Programming Languages: Python (NumPy, Pandas, Scikit -learn), R  Data Manipulation & Visualization: SQL, Matplotlib, Seaborn  Deep Learning Frameworks: TensorFlow, Keras, PyTorch  Data Processing: Spark, Hadoop  Statistical Analysis: Hypothesis Testing, A/B Testing  Tools: Jupyter, Git, Docker, Colab Professional Development: Actively engage in continuous learni ng and exploration of emerging trends\n",
            "\n",
            "Projects Section:\n",
            " Predictive Maintenance Model: Developed a machine learning model predicting equipment failures, reducing downtime by 30%.  Sentiment Analysis on Social Media Data: Conducted sentiment analysis on Twitt er data using natural language processing techniques.\n",
            "\n",
            "Achievements Section:\n",
            " Successfully implemented a predictive maintenance model that reduced equipment downtime by 25%, ensuring smoother project ex ecution and cost management.  Contributed to the development of a real -time data dashboard for project monitoring, enabling proactive decision -making and risk mitigation strategies.  Received commendation for innovative problem -solving and proactive contribu tion to the team's data science initiatives.\n",
            "\n",
            "References Section:\n",
            "Afelio Padilla COO, Ignitus Email: socialignitus@gmail.com Alternative Email: afelio@cpturz.net\n"
          ]
        }
      ]
    },
    {
      "cell_type": "code",
      "source": [],
      "metadata": {
        "id": "BDz4Tj8N9vjt"
      },
      "execution_count": null,
      "outputs": []
    },
    {
      "cell_type": "code",
      "source": [],
      "metadata": {
        "id": "XS_oX32Z9vlc"
      },
      "execution_count": null,
      "outputs": []
    },
    {
      "cell_type": "code",
      "source": [
        "# Perform sentiment analysis"
      ],
      "metadata": {
        "id": "IU31lLbc9vnr"
      },
      "execution_count": 47,
      "outputs": []
    },
    {
      "cell_type": "code",
      "source": [
        "sentiment_scores = {}  # Dictionary to hold sentiment scores for each section"
      ],
      "metadata": {
        "id": "EmOCtFDR9vqU"
      },
      "execution_count": 48,
      "outputs": []
    },
    {
      "cell_type": "code",
      "source": [
        "for section, content in sections.items():  # Iterate through each section and its content\n",
        "    blob = TextBlob(content)  # Create a TextBlob object for sentiment analysis\n",
        "    sentiment_scores[section] = {  # Store sentiment scores for the section\n",
        "        \"Polarity\": blob.sentiment.polarity,  # Get polarity score\n",
        "        \"Subjectivity\": blob.sentiment.subjectivity  # Get subjectivity score\n",
        "    }"
      ],
      "metadata": {
        "id": "avAfGfX-9vsF"
      },
      "execution_count": 49,
      "outputs": []
    },
    {
      "cell_type": "code",
      "source": [],
      "metadata": {
        "id": "xQmHtVbD9vud"
      },
      "execution_count": null,
      "outputs": []
    },
    {
      "cell_type": "code",
      "source": [
        "# Display sentiment scores"
      ],
      "metadata": {
        "id": "LcBXHr4X9vwk"
      },
      "execution_count": 50,
      "outputs": []
    },
    {
      "cell_type": "code",
      "source": [
        "print(\"\\nSentiment Analysis Scores:\")  # Print header for sentiment analysis scores\n",
        "for section, scores in sentiment_scores.items():  # Iterate through each section and its sentiment scores\n",
        "    print(f\"{section}: Polarity={scores['Polarity']}, Subjectivity={scores['Subjectivity']}\")  # Print sentiment scores for the section\n",
        ""
      ],
      "metadata": {
        "colab": {
          "base_uri": "https://localhost:8080/"
        },
        "id": "Z4TAVUPN9v07",
        "outputId": "a3572f46-7abf-42ae-f42c-f375c800393d"
      },
      "execution_count": 51,
      "outputs": [
        {
          "output_type": "stream",
          "name": "stdout",
          "text": [
            "\n",
            "Sentiment Analysis Scores:\n",
            "Objective: Polarity=0.0, Subjectivity=0.0\n",
            "Education: Polarity=0.10833333333333335, Subjectivity=0.4916666666666667\n",
            "Experience: Polarity=0.10636363636363637, Subjectivity=0.248013468013468\n",
            "Skills: Polarity=-0.011111111111111108, Subjectivity=0.3666666666666667\n",
            "Projects: Polarity=0.07777777777777778, Subjectivity=0.25555555555555554\n",
            "Achievements: Polarity=0.48333333333333334, Subjectivity=0.75\n",
            "References: Polarity=0.0, Subjectivity=0.0\n"
          ]
        }
      ]
    },
    {
      "cell_type": "code",
      "source": [],
      "metadata": {
        "id": "e9kfsX1o9v3O"
      },
      "execution_count": null,
      "outputs": []
    },
    {
      "cell_type": "code",
      "source": [],
      "metadata": {
        "id": "5TWu0_5D9v5E"
      },
      "execution_count": null,
      "outputs": []
    },
    {
      "cell_type": "code",
      "source": [
        "# Save sentiment analysis results"
      ],
      "metadata": {
        "id": "IJTAKr1d9v7b"
      },
      "execution_count": 52,
      "outputs": []
    },
    {
      "cell_type": "code",
      "source": [
        "with open(os.path.join(output_dir, \"sentiment_analysis.txt\"), \"w\") as file:  # Open a file to write sentiment analysis results\n",
        "    for section, scores in sentiment_scores.items():  # Iterate through each section and its sentiment scores\n",
        "        file.write(f\"{section}: Polarity={scores['Polarity']}, Subjectivity={scores['Subjectivity']}\\n\")  # Write sentiment scores to the file\n",
        ""
      ],
      "metadata": {
        "id": "u2op4gBE9wAb"
      },
      "execution_count": 53,
      "outputs": []
    },
    {
      "cell_type": "code",
      "source": [],
      "metadata": {
        "id": "t21mkI-BADMs"
      },
      "execution_count": null,
      "outputs": []
    },
    {
      "cell_type": "code",
      "source": [],
      "metadata": {
        "id": "XEjYc76a9wCz"
      },
      "execution_count": null,
      "outputs": []
    },
    {
      "cell_type": "code",
      "source": [
        "# Plot section distribution"
      ],
      "metadata": {
        "id": "6qeg5k1K9wE2"
      },
      "execution_count": 54,
      "outputs": []
    },
    {
      "cell_type": "code",
      "source": [
        "section_counts = {section: len(content.split()) for section, content in sections.items()}  # Count the number of words in each section\n",
        "plt.figure(figsize=(10, 7))  # Create a figure with a specific size\n",
        "plt.pie(section_counts.values(), labels=section_counts.keys(), autopct='%1.1f%%', startangle=140)  # Create a pie chart of section distribution\n",
        "plt.title('Distribution of Resume Sections')  # Set the title of the plot\n",
        "plt.show()  # Display the plot"
      ],
      "metadata": {
        "colab": {
          "base_uri": "https://localhost:8080/",
          "height": 598
        },
        "id": "hYHga5j99wJN",
        "outputId": "a9c08c4f-1e6a-4d18-8258-e87a6bc59750"
      },
      "execution_count": 55,
      "outputs": [
        {
          "output_type": "display_data",
          "data": {
            "text/plain": [
              "<Figure size 1000x700 with 1 Axes>"
            ],
            "image/png": "[encoded data removed]"
          },
          "metadata": {}
        }
      ]
    },
    {
      "cell_type": "code",
      "source": [],
      "metadata": {
        "id": "23MKiOEe9wLz"
      },
      "execution_count": null,
      "outputs": []
    },
    {
      "cell_type": "code",
      "source": [],
      "metadata": {
        "id": "jUbCEHOy9wN2"
      },
      "execution_count": null,
      "outputs": []
    },
    {
      "cell_type": "code",
      "source": [
        "# Save section distribution plot"
      ],
      "metadata": {
        "id": "dF4gjzwb9waV"
      },
      "execution_count": 56,
      "outputs": []
    },
    {
      "cell_type": "code",
      "source": [
        "plt.figure(figsize=(10, 7))  # Create a figure with a specific size\n",
        "plt.pie(section_counts.values(), labels=section_counts.keys(), autopct='%1.1f%%', startangle=140)  # Create a pie chart of section distribution\n",
        "plt.title('Distribution of Resume Sections')  # Set the title of the plot\n",
        "plt.savefig(os.path.join(output_dir, 'section_distribution.png'))  # Save the pie chart as an image file"
      ],
      "metadata": {
        "colab": {
          "base_uri": "https://localhost:8080/",
          "height": 598
        },
        "id": "47Drp1Nv9wdD",
        "outputId": "c1556a0b-02b7-4bbf-9833-ee3829f71bd1"
      },
      "execution_count": 57,
      "outputs": [
        {
          "output_type": "display_data",
          "data": {
            "text/plain": [
              "<Figure size 1000x700 with 1 Axes>"
            ],
            "image/png": "[encoded data removed]"
          },
          "metadata": {}
        }
      ]
    },
    {
      "cell_type": "code",
      "source": [],
      "metadata": {
        "id": "ed1YMzhW9wfV"
      },
      "execution_count": null,
      "outputs": []
    },
    {
      "cell_type": "code",
      "source": [],
      "metadata": {
        "id": "1Hx1LMJ89wiT"
      },
      "execution_count": null,
      "outputs": []
    },
    {
      "cell_type": "code",
      "source": [],
      "metadata": {
        "id": "BsM-cB8PE38V"
      },
      "execution_count": null,
      "outputs": []
    },
    {
      "cell_type": "markdown",
      "source": [
        "# CONTINUED ANALYSIS"
      ],
      "metadata": {
        "id": "icO_d1PzE4k0"
      }
    },
    {
      "cell_type": "code",
      "source": [
        "# Define key skills and requirements for a Data Science position"
      ],
      "metadata": {
        "id": "6YXYIpEoE88X"
      },
      "execution_count": 63,
      "outputs": []
    },
    {
      "cell_type": "code",
      "source": [
        "key_skills_data_science = [\n",
        "    \"data science\", \"python\", \"machine learning\", \"statistical analysis\", \"data analysis\",\n",
        "    \"deep learning\", \"predictive modeling\", \"sql\", \"data visualization\", \"pandas\", \"numpy\",\n",
        "    \"scikit-learn\", \"r\", \"data mining\", \"big data\", \"data wrangling\"\n",
        "]  # List of key skills for Data Science positions"
      ],
      "metadata": {
        "id": "xOEVFQkf9wk0"
      },
      "execution_count": 64,
      "outputs": []
    },
    {
      "cell_type": "code",
      "source": [],
      "metadata": {
        "id": "5K9qNyIJE1_B"
      },
      "execution_count": null,
      "outputs": []
    },
    {
      "cell_type": "code",
      "source": [],
      "metadata": {
        "id": "qmsOIeLxEiVE"
      },
      "execution_count": null,
      "outputs": []
    },
    {
      "cell_type": "code",
      "source": [
        "# Resume text extracted from a sample resume"
      ],
      "metadata": {
        "id": "Rdxa5aszD4a0"
      },
      "execution_count": 65,
      "outputs": []
    },
    {
      "cell_type": "code",
      "source": [
        "resume_text = \"\"\"\n",
        "    JOHN DOE RESUME\n",
        "\n",
        "    John Doe\n",
        "    123 Data Science Lane, Data City, CA, USA\n",
        "    Email: john.doe@example.com\n",
        "    GitHub: https://github.com/johndoe\n",
        "\n",
        "    Objective:\n",
        "    To leverage my expertise in data science, machine learning, and statistical analysis to drive data-driven decision-making and optimize business processes in a challenging Data Scientist role.\n",
        "\n",
        "    Education:\n",
        "    Master of Science in Data Science\n",
        "    University of Data, Data City, CA, USA\n",
        "    Graduated: 2023\n",
        "\n",
        "    Bachelor of Science in Computer Science\n",
        "    Tech University, Data City, CA, USA\n",
        "    Graduated: 2021\n",
        "\n",
        "    Key Skills:\n",
        "    - Data Science\n",
        "    - Python (NumPy, Pandas, Scikit-learn)\n",
        "    - Machine Learning (Classification, Regression, Clustering)\n",
        "    - Statistical Analysis\n",
        "    - Deep Learning (TensorFlow, Keras)\n",
        "    - SQL\n",
        "    - Data Visualization (Matplotlib, Seaborn)\n",
        "    - Big Data (Hadoop, Spark)\n",
        "    - Data Wrangling\n",
        "    - Predictive Modeling\n",
        "\n",
        "    Experience:\n",
        "    Data Scientist\n",
        "    Innovative Data Solutions\n",
        "    June 2023 - Present\n",
        "    - Developed and deployed machine learning models to enhance predictive analytics for client projects.\n",
        "    - Utilized Python and SQL to analyze and visualize large datasets, providing actionable insights.\n",
        "    - Collaborated with cross-functional teams to implement data-driven strategies and solutions.\n",
        "    - Led initiatives in data wrangling, feature engineering, and model tuning to optimize performance.\n",
        "\n",
        "    Machine Learning Intern\n",
        "    Tech Innovations Inc.\n",
        "    June 2022 - May 2023\n",
        "    - Assisted in building and evaluating machine learning models for various business applications.\n",
        "    - Performed data preprocessing and feature selection to improve model accuracy.\n",
        "    - Created data visualizations to present findings and support decision-making processes.\n",
        "\n",
        "    Projects:\n",
        "    - Customer Churn Prediction: Developed a machine learning model to predict customer churn, resulting in a 15% improvement in retention strategies.\n",
        "    - Sales Forecasting: Implemented a time series forecasting model to predict sales trends, achieving a 10% increase in forecast accuracy.\n",
        "\n",
        "    Certifications:\n",
        "    - Certified Data Scientist (Data Science Council)\n",
        "    - Machine Learning Specialization (Coursera)\n",
        "\"\"\"  # Resume text extracted from the example resume"
      ],
      "metadata": {
        "id": "Uj67dlmdDsim"
      },
      "execution_count": 66,
      "outputs": []
    },
    {
      "cell_type": "code",
      "source": [],
      "metadata": {
        "id": "XZo6k73MDdFu"
      },
      "execution_count": null,
      "outputs": []
    },
    {
      "cell_type": "code",
      "source": [],
      "metadata": {
        "id": "e55325ZDF-a9"
      },
      "execution_count": null,
      "outputs": []
    },
    {
      "cell_type": "code",
      "source": [
        "# Function to calculate skill match percentage for Data Science"
      ],
      "metadata": {
        "id": "xdvyydNX9wsL"
      },
      "execution_count": 67,
      "outputs": []
    },
    {
      "cell_type": "code",
      "source": [
        "# Convert resume text to lowercase for case-insensitive matching"
      ],
      "metadata": {
        "id": "BNKq-k1o9wyr"
      },
      "execution_count": 69,
      "outputs": []
    },
    {
      "cell_type": "code",
      "source": [
        "text_lower = resume_text.lower()  # Convert all text to lowercase to ensure case-insensitive search"
      ],
      "metadata": {
        "id": "8ifpdtO3F6wl"
      },
      "execution_count": 70,
      "outputs": []
    },
    {
      "cell_type": "code",
      "source": [],
      "metadata": {
        "id": "qi8S7fWvF61w"
      },
      "execution_count": null,
      "outputs": []
    },
    {
      "cell_type": "code",
      "source": [
        "# Total number of key skills"
      ],
      "metadata": {
        "id": "mw7mZvXbF65e"
      },
      "execution_count": 71,
      "outputs": []
    },
    {
      "cell_type": "code",
      "source": [
        "total_skills = len(key_skills_data_science)  # Count the total number of key skills defined"
      ],
      "metadata": {
        "id": "vWJ8XMIUF68n"
      },
      "execution_count": 72,
      "outputs": []
    },
    {
      "cell_type": "code",
      "source": [],
      "metadata": {
        "id": "CWmZ9jclGFuU"
      },
      "execution_count": null,
      "outputs": []
    },
    {
      "cell_type": "code",
      "source": [
        "# Count the number of matched skills"
      ],
      "metadata": {
        "id": "_G_bZBarGFxV"
      },
      "execution_count": 73,
      "outputs": []
    },
    {
      "cell_type": "code",
      "source": [
        "matched_skills = sum(1 for skill in key_skills_data_science if re.search(r'\\b' + re.escape(skill) + r'\\b', text_lower))  # Count skills found in the resume text\n"
      ],
      "metadata": {
        "id": "xhRdE_DJGF0Y"
      },
      "execution_count": 74,
      "outputs": []
    },
    {
      "cell_type": "code",
      "source": [],
      "metadata": {
        "id": "ZAepP5LFGF2w"
      },
      "execution_count": null,
      "outputs": []
    },
    {
      "cell_type": "code",
      "source": [
        "# Calculate percentage of matched skills"
      ],
      "metadata": {
        "id": "3etUhFagGF5e"
      },
      "execution_count": 75,
      "outputs": []
    },
    {
      "cell_type": "code",
      "source": [
        "suitability_percentage_data_science = (matched_skills / total_skills) * 100  # Calculate the percentage of skills that match\n"
      ],
      "metadata": {
        "id": "dkDwrX1DGNLe"
      },
      "execution_count": 76,
      "outputs": []
    },
    {
      "cell_type": "code",
      "source": [],
      "metadata": {
        "id": "IPlOQTgWGNO5"
      },
      "execution_count": null,
      "outputs": []
    },
    {
      "cell_type": "code",
      "source": [
        "# Print the suitability percentage formatted to two decimal places"
      ],
      "metadata": {
        "id": "lgwawgdeGNRR"
      },
      "execution_count": 77,
      "outputs": []
    },
    {
      "cell_type": "code",
      "source": [
        "print(f\"Suitability Percentage for Data Science Position: {suitability_percentage_data_science:.2f}%\")  # Output the percentage with two decimal places\n"
      ],
      "metadata": {
        "colab": {
          "base_uri": "https://localhost:8080/"
        },
        "id": "WdHO82AQGNTt",
        "outputId": "ad0a0abf-e912-4e64-f159-f8a8cfb983f4"
      },
      "execution_count": 78,
      "outputs": [
        {
          "output_type": "stream",
          "name": "stdout",
          "text": [
            "Suitability Percentage for Data Science Position: 81.25%\n"
          ]
        }
      ]
    },
    {
      "cell_type": "code",
      "source": [],
      "metadata": {
        "id": "HD3p7bRVGWY9"
      },
      "execution_count": null,
      "outputs": []
    }
  ]
}