{
  "nbformat": 4,
  "nbformat_minor": 0,
  "metadata": {
    "colab": {
      "provenance": []
    },
    "kernelspec": {
      "name": "python3",
      "display_name": "Python 3"
    },
    "language_info": {
      "name": "python"
    }
  },
  "cells": [
    {
      "cell_type": "markdown",
      "source": [
        "# EXPLANATORY DATA ANALYSIS"
      ],
      "metadata": {
        "id": "pk1C8itVpy-L"
      }
    },
    {
      "cell_type": "markdown",
      "source": [
        "# <span style=\"color:navy\">**Project Overview: Explanatory Data Analysis and Predictive Modeling**</span>\n",
        "\n",
        "---\n",
        "\n",
        "## <span style=\"color:darkorange\">**1. Introduction**</span>\n",
        "\n",
        "This project focuses on **Explanatory Data Analysis (EDA)**, followed by **predictive modeling** on a dataset containing currency information. The EDA helps in gaining insights into the structure of the data, handling missing values, and preparing it for further analysis. Later, customer segmentation is performed using **KMeans Clustering**, and a predictive model is built to forecast the variable `GEMS_GEMS_SPENT`. The entire workflow is divided into several key sections, which are discussed below.\n",
        "\n",
        "---\n",
        "\n",
        "## <span style=\"color:darkorange\">**2. Data Import and Preliminary Inspection**</span>\n",
        "\n",
        "- **Importing the Dataset**: The dataset is loaded into the environment using `pandas` and inspected to understand its structure.\n",
        "- **Initial Data Insights**: Using `.head()`, `.info()`, and `.describe()` functions, the structure of the dataset is analyzed to check for null values, data types, and statistical properties.\n",
        "\n",
        "---\n",
        "\n",
        "## <span style=\"color:darkorange\">**3. Data Cleaning and Preprocessing**</span>\n",
        "\n",
        "- **Missing Value Handling**: A check is performed to identify any missing values in the dataset. Since there were no missing values, no further action was required. However, where missing values exist, they can be filled using the mean for numerical columns.\n",
        "- **Duplicate Check**: The dataset is checked for duplicate rows, and no duplicates are found. If present, duplicates can be removed using the `.drop_duplicates()` method.\n",
        "\n",
        "---\n",
        "\n",
        "## <span style=\"color:darkorange\">**4. Exploratory Data Analysis (EDA)**</span>\n",
        "\n",
        "### <span style=\"color:royalblue\">**4.1 Data Visualization**</span>\n",
        "\n",
        "- **Distribution of Numerical Variables**: Histograms are used to visualize the distribution of numerical variables using `sns.histplot()`. This helps in understanding the spread of the data, potential skewness, or normality.\n",
        "- **Correlation Analysis**: A heatmap is generated using `sns.heatmap()` to visualize the correlations between numerical variables. This helps to identify strong relationships that may exist between the variables.\n",
        "\n",
        "---\n",
        "\n",
        "### <span style=\"color:royalblue\">**4.2 Categorical Variables Handling**</span>\n",
        "\n",
        "- **Encoding Categorical Variables**: Categorical variables, if any, are handled using **one-hot encoding** to convert them into a format suitable for machine learning algorithms.\n",
        "\n",
        "---\n",
        "\n",
        "### <span style=\"color:royalblue\">**4.3 Outlier Detection**</span>\n",
        "\n",
        "- **Outlier Removal**: Outliers are detected and removed using the **Interquartile Range (IQR)** method. This ensures that the dataset is free from extreme values that could skew the model performance.\n",
        "\n",
        "---\n",
        "\n",
        "### <span style=\"color:royalblue\">**4.4 Feature Scaling**</span>\n",
        "\n",
        "- **Standardization**: Features are scaled using **StandardScaler** to ensure that each feature has a mean of 0 and a standard deviation of 1. This step is critical for models that rely on the relative distance between data points, such as **KMeans** and **Linear Regression**.\n",
        "\n",
        "---\n",
        "\n",
        "## <span style=\"color:darkorange\">**5. Customer Segmentation (Clustering)**</span>\n",
        "\n",
        "- **KMeans Clustering**: Customer segmentation is performed using the **KMeans algorithm** on the feature `GEMS_GEMS_SPENT`. The number of clusters is specified, and the model is fitted to the data to generate customer segments.\n",
        "- **Cluster Assignment**: Each data point is assigned a cluster label, and the results are saved for further analysis.\n",
        "\n",
        "---\n",
        "\n",
        "## <span style=\"color:darkorange\">**6. Predictive Modeling**</span>\n",
        "\n",
        "### <span style=\"color:royalblue\">**6.1 Model Selection**</span>\n",
        "\n",
        "- **Linear Regression**: A **Linear Regression** model is chosen to predict `GEMS_GEMS_SPENT`. The dataset is split into training and testing sets using **train_test_split** to validate the model's performance on unseen data.\n",
        "\n",
        "---\n",
        "\n",
        "### <span style=\"color:royalblue\">**6.2 Model Evaluation**</span>\n",
        "\n",
        "- **Model Performance**: The model's performance is evaluated using **Mean Squared Error (MSE)**. Predictions are compared against the actual values to assess the accuracy of the model.\n",
        "- **Saving Predictions**: The model's predictions, along with actual values, are saved into a CSV file for further examination.\n",
        "\n",
        "---\n",
        "\n",
        "## <span style=\"color:darkorange\">**7. Descriptive Analysis**</span>\n",
        "\n",
        "- **Summary Statistics**: Descriptive statistics of the dataset, including mean, median, and standard deviation, are computed and saved into a CSV file for future reference.\n",
        "- **Data Visualization**: The distribution of `GEMS_GEMS_SPENT` is visualized using a histogram and saved as an image for documentation purposes.\n",
        "\n",
        "---\n",
        "\n",
        "## <span style=\"color:darkorange\">**8. Conclusion**</span>\n",
        "\n",
        "The project demonstrates the importance of thorough **Exploratory Data Analysis** and **data preprocessing** before moving on to predictive modeling. Customer segmentation through **KMeans Clustering** and predictive modeling using **Linear Regression** are implemented, providing valuable insights into the dataset. The entire workflow ensures a structured approach to understanding and utilizing the dataset effectively."
      ],
      "metadata": {
        "id": "Jzo8nuOXxGFU"
      }
    },
    {
      "cell_type": "code",
      "source": [],
      "metadata": {
        "id": "WaWITX01xcIR"
      },
      "execution_count": null,
      "outputs": []
    },
    {
      "cell_type": "code",
      "source": [],
      "metadata": {
        "id": "w786mk78xcQM"
      },
      "execution_count": null,
      "outputs": []
    },
    {
      "cell_type": "code",
      "source": [],
      "metadata": {
        "id": "MiT2TSQdxh4y"
      },
      "execution_count": null,
      "outputs": []
    },
    {
      "cell_type": "markdown",
      "source": [
        "# <span style=\"color:blue; font-size:24px;\">1. Import Necessary Libraries</span>\n",
        "\n",
        "In this step, we import all the essential libraries required for data manipulation, analysis, and visualization.\n",
        "\n",
        "- **Pandas**: Used for handling and manipulating structured data.\n",
        "- **NumPy**: Essential for numerical operations and array-based computations.\n",
        "- **Matplotlib**: A versatile library for creating static, animated, and interactive visualizations.\n",
        "- **Seaborn**: Built on top of Matplotlib, it provides an interface for drawing attractive statistical graphics."
      ],
      "metadata": {
        "id": "t6ZFtwcpxiHR"
      }
    },
    {
      "cell_type": "code",
      "source": [
        "# 1. Import Necessary Libraries\n",
        "# We import libraries that help us analyze and visualize data."
      ],
      "metadata": {
        "id": "9NXdPzz0z4bC"
      },
      "execution_count": null,
      "outputs": []
    },
    {
      "cell_type": "code",
      "execution_count": null,
      "metadata": {
        "id": "sjFkf1ZWhI9K"
      },
      "outputs": [],
      "source": [
        "import pandas as pd  # Pandas is used for data manipulation and analysis."
      ]
    },
    {
      "cell_type": "code",
      "source": [
        "import numpy as np  # NumPy is used for numerical computing."
      ],
      "metadata": {
        "id": "Tyx64hh8z_3_"
      },
      "execution_count": null,
      "outputs": []
    },
    {
      "cell_type": "code",
      "source": [
        "import matplotlib.pyplot as plt  # Matplotlib is used for data visualization."
      ],
      "metadata": {
        "id": "KURCy2Dpz_7a"
      },
      "execution_count": null,
      "outputs": []
    },
    {
      "cell_type": "code",
      "source": [
        "import seaborn as sns  # Seaborn is used for statistical data visualization."
      ],
      "metadata": {
        "id": "bnpDr_8Fz__z"
      },
      "execution_count": null,
      "outputs": []
    },
    {
      "cell_type": "code",
      "source": [],
      "metadata": {
        "id": "jwOq97AliiC-"
      },
      "execution_count": null,
      "outputs": []
    },
    {
      "cell_type": "code",
      "source": [],
      "metadata": {
        "id": "PO0bIdblxkX5"
      },
      "execution_count": null,
      "outputs": []
    },
    {
      "cell_type": "code",
      "source": [],
      "metadata": {
        "id": "NeEXv0F6xkbw"
      },
      "execution_count": null,
      "outputs": []
    },
    {
      "cell_type": "markdown",
      "source": [
        "# <span style=\"color:blue; font-size:24px;\">2. Load the Data</span>\n",
        "\n",
        "In this step, we load the dataset, which is crucial for analysis. The dataset is in CSV format and contains information on various currencies.\n",
        "\n",
        "- The **pd.read_csv()** function is used to read the dataset and store it in a DataFrame.\n",
        "- This step helps us access the data for further analysis and manipulation."
      ],
      "metadata": {
        "id": "hPjwLVMVxk35"
      }
    },
    {
      "cell_type": "code",
      "source": [
        "# 2. Load the Data\n",
        "# We load the dataset containing information about currencies from a CSV file."
      ],
      "metadata": {
        "id": "LXSN9ip50Laj"
      },
      "execution_count": null,
      "outputs": []
    },
    {
      "cell_type": "code",
      "source": [
        "df = pd.read_csv('/content/currency.csv')"
      ],
      "metadata": {
        "id": "qg22OlnKiiGF"
      },
      "execution_count": null,
      "outputs": []
    },
    {
      "cell_type": "code",
      "source": [],
      "metadata": {
        "id": "QCXfRlxHiiIx"
      },
      "execution_count": null,
      "outputs": []
    },
    {
      "cell_type": "code",
      "source": [],
      "metadata": {
        "id": "iujUj1Ifxqvh"
      },
      "execution_count": null,
      "outputs": []
    },
    {
      "cell_type": "markdown",
      "source": [
        "# <span style=\"color:blue; font-size:24px;\">3. Inspect the Data</span>\n",
        "\n",
        "Before proceeding with data analysis, it’s essential to inspect the dataset to understand its structure and content:\n",
        "\n",
        "- **df.head()**: Displays the first few rows of the dataset, allowing us to view the data's format and structure.\n",
        "- **df.info()**: Provides an overview of the dataset, including the number of non-null values, data types, and memory usage.\n",
        "- **df.describe()**: Generates summary statistics for numerical columns, providing insights into central tendencies, dispersion, and shape of the dataset."
      ],
      "metadata": {
        "id": "b-w1fjQPxrA5"
      }
    },
    {
      "cell_type": "code",
      "source": [
        "# 3. Inspect the Data\n",
        "# We display the first few rows of the dataset to understand its structure."
      ],
      "metadata": {
        "id": "sCmjqCIX0chg"
      },
      "execution_count": null,
      "outputs": []
    },
    {
      "cell_type": "code",
      "source": [
        "df.head()"
      ],
      "metadata": {
        "colab": {
          "base_uri": "https://localhost:8080/",
          "height": 206
        },
        "id": "kIlwxnMJiiLF",
        "outputId": "32d17360-a9e1-4d8d-dd02-b8884cae82e7"
      },
      "execution_count": null,
      "outputs": [
        {
          "output_type": "execute_result",
          "data": {
            "text/plain": [
              "     Time  GEMS_GEMS_SPENT\n",
              "0  5/1/17          1199436\n",
              "1  5/2/17          1045515\n",
              "2  5/3/17           586111\n",
              "3  5/4/17           856601\n",
              "4  5/5/17           793775"
            ],
            "text/html": [
              "\n",
              "  <div id=\"df-88437384-abe2-49bf-9855-f6ca60b125e1\" class=\"colab-df-container\">\n",
              "    <div>\n",
              "<style scoped>\n",
              "    .dataframe tbody tr th:only-of-type {\n",
              "        vertical-align: middle;\n",
              "    }\n",
              "\n",
              "    .dataframe tbody tr th {\n",
              "        vertical-align: top;\n",
              "    }\n",
              "\n",
              "    .dataframe thead th {\n",
              "        text-align: right;\n",
              "    }\n",
              "</style>\n",
              "<table border=\"1\" class=\"dataframe\">\n",
              "  <thead>\n",
              "    <tr style=\"text-align: right;\">\n",
              "      <th></th>\n",
              "      <th>Time</th>\n",
              "      <th>GEMS_GEMS_SPENT</th>\n",
              "    </tr>\n",
              "  </thead>\n",
              "  <tbody>\n",
              "    <tr>\n",
              "      <th>0</th>\n",
              "      <td>5/1/17</td>\n",
              "      <td>1199436</td>\n",
              "    </tr>\n",
              "    <tr>\n",
              "      <th>1</th>\n",
              "      <td>5/2/17</td>\n",
              "      <td>1045515</td>\n",
              "    </tr>\n",
              "    <tr>\n",
              "      <th>2</th>\n",
              "      <td>5/3/17</td>\n",
              "      <td>586111</td>\n",
              "    </tr>\n",
              "    <tr>\n",
              "      <th>3</th>\n",
              "      <td>5/4/17</td>\n",
              "      <td>856601</td>\n",
              "    </tr>\n",
              "    <tr>\n",
              "      <th>4</th>\n",
              "      <td>5/5/17</td>\n",
              "      <td>793775</td>\n",
              "    </tr>\n",
              "  </tbody>\n",
              "</table>\n",
              "</div>\n",
              "    <div class=\"colab-df-buttons\">\n",
              "\n",
              "  <div class=\"colab-df-container\">\n",
              "    <button class=\"colab-df-convert\" onclick=\"convertToInteractive('df-88437384-abe2-49bf-9855-f6ca60b125e1')\"\n",
              "            title=\"Convert this dataframe to an interactive table.\"\n",
              "            style=\"display:none;\">\n",
              "\n",
              "  <svg xmlns=\"http://www.w3.org/2000/svg\" height=\"24px\" viewBox=\"0 -960 960 960\">\n",
              "    <path d=\"M120-120v-720h720v720H120Zm60-500h600v-160H180v160Zm220 220h160v-160H400v160Zm0 220h160v-160H400v160ZM180-400h160v-160H180v160Zm440 0h160v-160H620v160ZM180-180h160v-160H180v160Zm440 0h160v-160H620v160Z\"/>\n",
              "  </svg>\n",
              "    </button>\n",
              "\n",
              "  <style>\n",
              "    .colab-df-container {\n",
              "      display:flex;\n",
              "      gap: 12px;\n",
              "    }\n",
              "\n",
              "    .colab-df-convert {\n",
              "      background-color: #E8F0FE;\n",
              "      border: none;\n",
              "      border-radius: 50%;\n",
              "      cursor: pointer;\n",
              "      display: none;\n",
              "      fill: #1967D2;\n",
              "      height: 32px;\n",
              "      padding: 0 0 0 0;\n",
              "      width: 32px;\n",
              "    }\n",
              "\n",
              "    .colab-df-convert:hover {\n",
              "      background-color: #E2EBFA;\n",
              "      box-shadow: 0px 1px 2px rgba(60, 64, 67, 0.3), 0px 1px 3px 1px rgba(60, 64, 67, 0.15);\n",
              "      fill: #174EA6;\n",
              "    }\n",
              "\n",
              "    .colab-df-buttons div {\n",
              "      margin-bottom: 4px;\n",
              "    }\n",
              "\n",
              "    [theme=dark] .colab-df-convert {\n",
              "      background-color: #3B4455;\n",
              "      fill: #D2E3FC;\n",
              "    }\n",
              "\n",
              "    [theme=dark] .colab-df-convert:hover {\n",
              "      background-color: #434B5C;\n",
              "      box-shadow: 0px 1px 3px 1px rgba(0, 0, 0, 0.15);\n",
              "      filter: drop-shadow(0px 1px 2px rgba(0, 0, 0, 0.3));\n",
              "      fill: #FFFFFF;\n",
              "    }\n",
              "  </style>\n",
              "\n",
              "    <script>\n",
              "      const buttonEl =\n",
              "        document.querySelector('#df-88437384-abe2-49bf-9855-f6ca60b125e1 button.colab-df-convert');\n",
              "      buttonEl.style.display =\n",
              "        google.colab.kernel.accessAllowed ? 'block' : 'none';\n",
              "\n",
              "      async function convertToInteractive(key) {\n",
              "        const element = document.querySelector('#df-88437384-abe2-49bf-9855-f6ca60b125e1');\n",
              "        const dataTable =\n",
              "          await google.colab.kernel.invokeFunction('convertToInteractive',\n",
              "                                                    [key], {});\n",
              "        if (!dataTable) return;\n",
              "\n",
              "        const docLinkHtml = 'Like what you see? Visit the ' +\n",
              "          '<a target=\"_blank\" href=https://colab.research.google.com/notebooks/data_table.ipynb>data table notebook</a>'\n",
              "          + ' to learn more about interactive tables.';\n",
              "        element.innerHTML = '';\n",
              "        dataTable['output_type'] = 'display_data';\n",
              "        await google.colab.output.renderOutput(dataTable, element);\n",
              "        const docLink = document.createElement('div');\n",
              "        docLink.innerHTML = docLinkHtml;\n",
              "        element.appendChild(docLink);\n",
              "      }\n",
              "    </script>\n",
              "  </div>\n",
              "\n",
              "\n",
              "<div id=\"df-16fa0d1c-e2cc-409a-882e-77a55924c186\">\n",
              "  <button class=\"colab-df-quickchart\" onclick=\"quickchart('df-16fa0d1c-e2cc-409a-882e-77a55924c186')\"\n",
              "            title=\"Suggest charts\"\n",
              "            style=\"display:none;\">\n",
              "\n",
              "<svg xmlns=\"http://www.w3.org/2000/svg\" height=\"24px\"viewBox=\"0 0 24 24\"\n",
              "     width=\"24px\">\n",
              "    <g>\n",
              "        <path d=\"M19 3H5c-1.1 0-2 .9-2 2v14c0 1.1.9 2 2 2h14c1.1 0 2-.9 2-2V5c0-1.1-.9-2-2-2zM9 17H7v-7h2v7zm4 0h-2V7h2v10zm4 0h-2v-4h2v4z\"/>\n",
              "    </g>\n",
              "</svg>\n",
              "  </button>\n",
              "\n",
              "<style>\n",
              "  .colab-df-quickchart {\n",
              "      --bg-color: #E8F0FE;\n",
              "      --fill-color: #1967D2;\n",
              "      --hover-bg-color: #E2EBFA;\n",
              "      --hover-fill-color: #174EA6;\n",
              "      --disabled-fill-color: #AAA;\n",
              "      --disabled-bg-color: #DDD;\n",
              "  }\n",
              "\n",
              "  [theme=dark] .colab-df-quickchart {\n",
              "      --bg-color: #3B4455;\n",
              "      --fill-color: #D2E3FC;\n",
              "      --hover-bg-color: #434B5C;\n",
              "      --hover-fill-color: #FFFFFF;\n",
              "      --disabled-bg-color: #3B4455;\n",
              "      --disabled-fill-color: #666;\n",
              "  }\n",
              "\n",
              "  .colab-df-quickchart {\n",
              "    background-color: var(--bg-color);\n",
              "    border: none;\n",
              "    border-radius: 50%;\n",
              "    cursor: pointer;\n",
              "    display: none;\n",
              "    fill: var(--fill-color);\n",
              "    height: 32px;\n",
              "    padding: 0;\n",
              "    width: 32px;\n",
              "  }\n",
              "\n",
              "  .colab-df-quickchart:hover {\n",
              "    background-color: var(--hover-bg-color);\n",
              "    box-shadow: 0 1px 2px rgba(60, 64, 67, 0.3), 0 1px 3px 1px rgba(60, 64, 67, 0.15);\n",
              "    fill: var(--button-hover-fill-color);\n",
              "  }\n",
              "\n",
              "  .colab-df-quickchart-complete:disabled,\n",
              "  .colab-df-quickchart-complete:disabled:hover {\n",
              "    background-color: var(--disabled-bg-color);\n",
              "    fill: var(--disabled-fill-color);\n",
              "    box-shadow: none;\n",
              "  }\n",
              "\n",
              "  .colab-df-spinner {\n",
              "    border: 2px solid var(--fill-color);\n",
              "    border-color: transparent;\n",
              "    border-bottom-color: var(--fill-color);\n",
              "    animation:\n",
              "      spin 1s steps(1) infinite;\n",
              "  }\n",
              "\n",
              "  @keyframes spin {\n",
              "    0% {\n",
              "      border-color: transparent;\n",
              "      border-bottom-color: var(--fill-color);\n",
              "      border-left-color: var(--fill-color);\n",
              "    }\n",
              "    20% {\n",
              "      border-color: transparent;\n",
              "      border-left-color: var(--fill-color);\n",
              "      border-top-color: var(--fill-color);\n",
              "    }\n",
              "    30% {\n",
              "      border-color: transparent;\n",
              "      border-left-color: var(--fill-color);\n",
              "      border-top-color: var(--fill-color);\n",
              "      border-right-color: var(--fill-color);\n",
              "    }\n",
              "    40% {\n",
              "      border-color: transparent;\n",
              "      border-right-color: var(--fill-color);\n",
              "      border-top-color: var(--fill-color);\n",
              "    }\n",
              "    60% {\n",
              "      border-color: transparent;\n",
              "      border-right-color: var(--fill-color);\n",
              "    }\n",
              "    80% {\n",
              "      border-color: transparent;\n",
              "      border-right-color: var(--fill-color);\n",
              "      border-bottom-color: var(--fill-color);\n",
              "    }\n",
              "    90% {\n",
              "      border-color: transparent;\n",
              "      border-bottom-color: var(--fill-color);\n",
              "    }\n",
              "  }\n",
              "</style>\n",
              "\n",
              "  <script>\n",
              "    async function quickchart(key) {\n",
              "      const quickchartButtonEl =\n",
              "        document.querySelector('#' + key + ' button');\n",
              "      quickchartButtonEl.disabled = true;  // To prevent multiple clicks.\n",
              "      quickchartButtonEl.classList.add('colab-df-spinner');\n",
              "      try {\n",
              "        const charts = await google.colab.kernel.invokeFunction(\n",
              "            'suggestCharts', [key], {});\n",
              "      } catch (error) {\n",
              "        console.error('Error during call to suggestCharts:', error);\n",
              "      }\n",
              "      quickchartButtonEl.classList.remove('colab-df-spinner');\n",
              "      quickchartButtonEl.classList.add('colab-df-quickchart-complete');\n",
              "    }\n",
              "    (() => {\n",
              "      let quickchartButtonEl =\n",
              "        document.querySelector('#df-16fa0d1c-e2cc-409a-882e-77a55924c186 button');\n",
              "      quickchartButtonEl.style.display =\n",
              "        google.colab.kernel.accessAllowed ? 'block' : 'none';\n",
              "    })();\n",
              "  </script>\n",
              "</div>\n",
              "\n",
              "    </div>\n",
              "  </div>\n"
            ],
            "application/vnd.google.colaboratory.intrinsic+json": {
              "type": "dataframe",
              "variable_name": "df",
              "summary": "{\n  \"name\": \"df\",\n  \"rows\": 300,\n  \"fields\": [\n    {\n      \"column\": \"Time\",\n      \"properties\": {\n        \"dtype\": \"object\",\n        \"num_unique_values\": 300,\n        \"samples\": [\n          \"11/20/17\",\n          \"1/22/18\",\n          \"9/30/17\"\n        ],\n        \"semantic_type\": \"\",\n        \"description\": \"\"\n      }\n    },\n    {\n      \"column\": \"GEMS_GEMS_SPENT\",\n      \"properties\": {\n        \"dtype\": \"number\",\n        \"std\": 480702,\n        \"min\": 532950,\n        \"max\": 3242154,\n        \"num_unique_values\": 300,\n        \"samples\": [\n          970724,\n          1592552,\n          732678\n        ],\n        \"semantic_type\": \"\",\n        \"description\": \"\"\n      }\n    }\n  ]\n}"
            }
          },
          "metadata": {},
          "execution_count": 10
        }
      ]
    },
    {
      "cell_type": "code",
      "source": [],
      "metadata": {
        "id": "QivuQA1j0kMO"
      },
      "execution_count": null,
      "outputs": []
    },
    {
      "cell_type": "code",
      "source": [],
      "metadata": {
        "id": "M8PL_V7hxvJq"
      },
      "execution_count": null,
      "outputs": []
    },
    {
      "cell_type": "code",
      "source": [
        "# Now, we display information about the dataset, such as data types and non-null values in each column."
      ],
      "metadata": {
        "id": "S68TVXzp0qeA"
      },
      "execution_count": null,
      "outputs": []
    },
    {
      "cell_type": "code",
      "source": [
        "df.info()"
      ],
      "metadata": {
        "colab": {
          "base_uri": "https://localhost:8080/"
        },
        "id": "xcE8fMsqiiNp",
        "outputId": "7391c47d-48b2-41e4-8529-82edd8da5a7d"
      },
      "execution_count": null,
      "outputs": [
        {
          "output_type": "stream",
          "name": "stdout",
          "text": [
            "<class 'pandas.core.frame.DataFrame'>\n",
            "RangeIndex: 300 entries, 0 to 299\n",
            "Data columns (total 2 columns):\n",
            " #   Column           Non-Null Count  Dtype \n",
            "---  ------           --------------  ----- \n",
            " 0   Time             300 non-null    object\n",
            " 1   GEMS_GEMS_SPENT  300 non-null    int64 \n",
            "dtypes: int64(1), object(1)\n",
            "memory usage: 4.8+ KB\n"
          ]
        }
      ]
    },
    {
      "cell_type": "code",
      "source": [],
      "metadata": {
        "id": "-YENSg8P0vG2"
      },
      "execution_count": null,
      "outputs": []
    },
    {
      "cell_type": "code",
      "source": [],
      "metadata": {
        "id": "ZCeI1vmnxwWa"
      },
      "execution_count": null,
      "outputs": []
    },
    {
      "cell_type": "code",
      "source": [
        "# We also generate descriptive statistics for numerical columns, such as mean, median, and quartiles."
      ],
      "metadata": {
        "id": "icNpCLNd0viy"
      },
      "execution_count": null,
      "outputs": []
    },
    {
      "cell_type": "code",
      "source": [
        "df.describe()"
      ],
      "metadata": {
        "colab": {
          "base_uri": "https://localhost:8080/",
          "height": 300
        },
        "id": "yZp0PIrDiiQa",
        "outputId": "a0bfe455-4b26-4a7a-f73a-20fd897aa629"
      },
      "execution_count": null,
      "outputs": [
        {
          "output_type": "execute_result",
          "data": {
            "text/plain": [
              "       GEMS_GEMS_SPENT\n",
              "count     3.000000e+02\n",
              "mean      1.348372e+06\n",
              "std       4.807021e+05\n",
              "min       5.329500e+05\n",
              "25%       9.957090e+05\n",
              "50%       1.272089e+06\n",
              "75%       1.632589e+06\n",
              "max       3.242154e+06"
            ],
            "text/html": [
              "\n",
              "  <div id=\"df-5f6f569e-e7c9-411e-accb-6bd9745d5cb2\" class=\"colab-df-container\">\n",
              "    <div>\n",
              "<style scoped>\n",
              "    .dataframe tbody tr th:only-of-type {\n",
              "        vertical-align: middle;\n",
              "    }\n",
              "\n",
              "    .dataframe tbody tr th {\n",
              "        vertical-align: top;\n",
              "    }\n",
              "\n",
              "    .dataframe thead th {\n",
              "        text-align: right;\n",
              "    }\n",
              "</style>\n",
              "<table border=\"1\" class=\"dataframe\">\n",
              "  <thead>\n",
              "    <tr style=\"text-align: right;\">\n",
              "      <th></th>\n",
              "      <th>GEMS_GEMS_SPENT</th>\n",
              "    </tr>\n",
              "  </thead>\n",
              "  <tbody>\n",
              "    <tr>\n",
              "      <th>count</th>\n",
              "      <td>3.000000e+02</td>\n",
              "    </tr>\n",
              "    <tr>\n",
              "      <th>mean</th>\n",
              "      <td>1.348372e+06</td>\n",
              "    </tr>\n",
              "    <tr>\n",
              "      <th>std</th>\n",
              "      <td>4.807021e+05</td>\n",
              "    </tr>\n",
              "    <tr>\n",
              "      <th>min</th>\n",
              "      <td>5.329500e+05</td>\n",
              "    </tr>\n",
              "    <tr>\n",
              "      <th>25%</th>\n",
              "      <td>9.957090e+05</td>\n",
              "    </tr>\n",
              "    <tr>\n",
              "      <th>50%</th>\n",
              "      <td>1.272089e+06</td>\n",
              "    </tr>\n",
              "    <tr>\n",
              "      <th>75%</th>\n",
              "      <td>1.632589e+06</td>\n",
              "    </tr>\n",
              "    <tr>\n",
              "      <th>max</th>\n",
              "      <td>3.242154e+06</td>\n",
              "    </tr>\n",
              "  </tbody>\n",
              "</table>\n",
              "</div>\n",
              "    <div class=\"colab-df-buttons\">\n",
              "\n",
              "  <div class=\"colab-df-container\">\n",
              "    <button class=\"colab-df-convert\" onclick=\"convertToInteractive('df-5f6f569e-e7c9-411e-accb-6bd9745d5cb2')\"\n",
              "            title=\"Convert this dataframe to an interactive table.\"\n",
              "            style=\"display:none;\">\n",
              "\n",
              "  <svg xmlns=\"http://www.w3.org/2000/svg\" height=\"24px\" viewBox=\"0 -960 960 960\">\n",
              "    <path d=\"M120-120v-720h720v720H120Zm60-500h600v-160H180v160Zm220 220h160v-160H400v160Zm0 220h160v-160H400v160ZM180-400h160v-160H180v160Zm440 0h160v-160H620v160ZM180-180h160v-160H180v160Zm440 0h160v-160H620v160Z\"/>\n",
              "  </svg>\n",
              "    </button>\n",
              "\n",
              "  <style>\n",
              "    .colab-df-container {\n",
              "      display:flex;\n",
              "      gap: 12px;\n",
              "    }\n",
              "\n",
              "    .colab-df-convert {\n",
              "      background-color: #E8F0FE;\n",
              "      border: none;\n",
              "      border-radius: 50%;\n",
              "      cursor: pointer;\n",
              "      display: none;\n",
              "      fill: #1967D2;\n",
              "      height: 32px;\n",
              "      padding: 0 0 0 0;\n",
              "      width: 32px;\n",
              "    }\n",
              "\n",
              "    .colab-df-convert:hover {\n",
              "      background-color: #E2EBFA;\n",
              "      box-shadow: 0px 1px 2px rgba(60, 64, 67, 0.3), 0px 1px 3px 1px rgba(60, 64, 67, 0.15);\n",
              "      fill: #174EA6;\n",
              "    }\n",
              "\n",
              "    .colab-df-buttons div {\n",
              "      margin-bottom: 4px;\n",
              "    }\n",
              "\n",
              "    [theme=dark] .colab-df-convert {\n",
              "      background-color: #3B4455;\n",
              "      fill: #D2E3FC;\n",
              "    }\n",
              "\n",
              "    [theme=dark] .colab-df-convert:hover {\n",
              "      background-color: #434B5C;\n",
              "      box-shadow: 0px 1px 3px 1px rgba(0, 0, 0, 0.15);\n",
              "      filter: drop-shadow(0px 1px 2px rgba(0, 0, 0, 0.3));\n",
              "      fill: #FFFFFF;\n",
              "    }\n",
              "  </style>\n",
              "\n",
              "    <script>\n",
              "      const buttonEl =\n",
              "        document.querySelector('#df-5f6f569e-e7c9-411e-accb-6bd9745d5cb2 button.colab-df-convert');\n",
              "      buttonEl.style.display =\n",
              "        google.colab.kernel.accessAllowed ? 'block' : 'none';\n",
              "\n",
              "      async function convertToInteractive(key) {\n",
              "        const element = document.querySelector('#df-5f6f569e-e7c9-411e-accb-6bd9745d5cb2');\n",
              "        const dataTable =\n",
              "          await google.colab.kernel.invokeFunction('convertToInteractive',\n",
              "                                                    [key], {});\n",
              "        if (!dataTable) return;\n",
              "\n",
              "        const docLinkHtml = 'Like what you see? Visit the ' +\n",
              "          '<a target=\"_blank\" href=https://colab.research.google.com/notebooks/data_table.ipynb>data table notebook</a>'\n",
              "          + ' to learn more about interactive tables.';\n",
              "        element.innerHTML = '';\n",
              "        dataTable['output_type'] = 'display_data';\n",
              "        await google.colab.output.renderOutput(dataTable, element);\n",
              "        const docLink = document.createElement('div');\n",
              "        docLink.innerHTML = docLinkHtml;\n",
              "        element.appendChild(docLink);\n",
              "      }\n",
              "    </script>\n",
              "  </div>\n",
              "\n",
              "\n",
              "<div id=\"df-65b5e20f-22e2-44ec-887b-35330cf3006d\">\n",
              "  <button class=\"colab-df-quickchart\" onclick=\"quickchart('df-65b5e20f-22e2-44ec-887b-35330cf3006d')\"\n",
              "            title=\"Suggest charts\"\n",
              "            style=\"display:none;\">\n",
              "\n",
              "<svg xmlns=\"http://www.w3.org/2000/svg\" height=\"24px\"viewBox=\"0 0 24 24\"\n",
              "     width=\"24px\">\n",
              "    <g>\n",
              "        <path d=\"M19 3H5c-1.1 0-2 .9-2 2v14c0 1.1.9 2 2 2h14c1.1 0 2-.9 2-2V5c0-1.1-.9-2-2-2zM9 17H7v-7h2v7zm4 0h-2V7h2v10zm4 0h-2v-4h2v4z\"/>\n",
              "    </g>\n",
              "</svg>\n",
              "  </button>\n",
              "\n",
              "<style>\n",
              "  .colab-df-quickchart {\n",
              "      --bg-color: #E8F0FE;\n",
              "      --fill-color: #1967D2;\n",
              "      --hover-bg-color: #E2EBFA;\n",
              "      --hover-fill-color: #174EA6;\n",
              "      --disabled-fill-color: #AAA;\n",
              "      --disabled-bg-color: #DDD;\n",
              "  }\n",
              "\n",
              "  [theme=dark] .colab-df-quickchart {\n",
              "      --bg-color: #3B4455;\n",
              "      --fill-color: #D2E3FC;\n",
              "      --hover-bg-color: #434B5C;\n",
              "      --hover-fill-color: #FFFFFF;\n",
              "      --disabled-bg-color: #3B4455;\n",
              "      --disabled-fill-color: #666;\n",
              "  }\n",
              "\n",
              "  .colab-df-quickchart {\n",
              "    background-color: var(--bg-color);\n",
              "    border: none;\n",
              "    border-radius: 50%;\n",
              "    cursor: pointer;\n",
              "    display: none;\n",
              "    fill: var(--fill-color);\n",
              "    height: 32px;\n",
              "    padding: 0;\n",
              "    width: 32px;\n",
              "  }\n",
              "\n",
              "  .colab-df-quickchart:hover {\n",
              "    background-color: var(--hover-bg-color);\n",
              "    box-shadow: 0 1px 2px rgba(60, 64, 67, 0.3), 0 1px 3px 1px rgba(60, 64, 67, 0.15);\n",
              "    fill: var(--button-hover-fill-color);\n",
              "  }\n",
              "\n",
              "  .colab-df-quickchart-complete:disabled,\n",
              "  .colab-df-quickchart-complete:disabled:hover {\n",
              "    background-color: var(--disabled-bg-color);\n",
              "    fill: var(--disabled-fill-color);\n",
              "    box-shadow: none;\n",
              "  }\n",
              "\n",
              "  .colab-df-spinner {\n",
              "    border: 2px solid var(--fill-color);\n",
              "    border-color: transparent;\n",
              "    border-bottom-color: var(--fill-color);\n",
              "    animation:\n",
              "      spin 1s steps(1) infinite;\n",
              "  }\n",
              "\n",
              "  @keyframes spin {\n",
              "    0% {\n",
              "      border-color: transparent;\n",
              "      border-bottom-color: var(--fill-color);\n",
              "      border-left-color: var(--fill-color);\n",
              "    }\n",
              "    20% {\n",
              "      border-color: transparent;\n",
              "      border-left-color: var(--fill-color);\n",
              "      border-top-color: var(--fill-color);\n",
              "    }\n",
              "    30% {\n",
              "      border-color: transparent;\n",
              "      border-left-color: var(--fill-color);\n",
              "      border-top-color: var(--fill-color);\n",
              "      border-right-color: var(--fill-color);\n",
              "    }\n",
              "    40% {\n",
              "      border-color: transparent;\n",
              "      border-right-color: var(--fill-color);\n",
              "      border-top-color: var(--fill-color);\n",
              "    }\n",
              "    60% {\n",
              "      border-color: transparent;\n",
              "      border-right-color: var(--fill-color);\n",
              "    }\n",
              "    80% {\n",
              "      border-color: transparent;\n",
              "      border-right-color: var(--fill-color);\n",
              "      border-bottom-color: var(--fill-color);\n",
              "    }\n",
              "    90% {\n",
              "      border-color: transparent;\n",
              "      border-bottom-color: var(--fill-color);\n",
              "    }\n",
              "  }\n",
              "</style>\n",
              "\n",
              "  <script>\n",
              "    async function quickchart(key) {\n",
              "      const quickchartButtonEl =\n",
              "        document.querySelector('#' + key + ' button');\n",
              "      quickchartButtonEl.disabled = true;  // To prevent multiple clicks.\n",
              "      quickchartButtonEl.classList.add('colab-df-spinner');\n",
              "      try {\n",
              "        const charts = await google.colab.kernel.invokeFunction(\n",
              "            'suggestCharts', [key], {});\n",
              "      } catch (error) {\n",
              "        console.error('Error during call to suggestCharts:', error);\n",
              "      }\n",
              "      quickchartButtonEl.classList.remove('colab-df-spinner');\n",
              "      quickchartButtonEl.classList.add('colab-df-quickchart-complete');\n",
              "    }\n",
              "    (() => {\n",
              "      let quickchartButtonEl =\n",
              "        document.querySelector('#df-65b5e20f-22e2-44ec-887b-35330cf3006d button');\n",
              "      quickchartButtonEl.style.display =\n",
              "        google.colab.kernel.accessAllowed ? 'block' : 'none';\n",
              "    })();\n",
              "  </script>\n",
              "</div>\n",
              "\n",
              "    </div>\n",
              "  </div>\n"
            ],
            "application/vnd.google.colaboratory.intrinsic+json": {
              "type": "dataframe",
              "summary": "{\n  \"name\": \"df\",\n  \"rows\": 8,\n  \"fields\": [\n    {\n      \"column\": \"GEMS_GEMS_SPENT\",\n      \"properties\": {\n        \"dtype\": \"number\",\n        \"std\": 987563.1058336893,\n        \"min\": 300.0,\n        \"max\": 3242154.0,\n        \"num_unique_values\": 8,\n        \"samples\": [\n          1348372.43,\n          1272089.0,\n          300.0\n        ],\n        \"semantic_type\": \"\",\n        \"description\": \"\"\n      }\n    }\n  ]\n}"
            }
          },
          "metadata": {},
          "execution_count": 14
        }
      ]
    },
    {
      "cell_type": "code",
      "source": [],
      "metadata": {
        "id": "sM9NhYhV02QP"
      },
      "execution_count": null,
      "outputs": []
    },
    {
      "cell_type": "code",
      "source": [],
      "metadata": {
        "id": "Z3s31LGSi4NC"
      },
      "execution_count": null,
      "outputs": []
    },
    {
      "cell_type": "code",
      "source": [],
      "metadata": {
        "id": "5tJiFS-jxxb6"
      },
      "execution_count": null,
      "outputs": []
    },
    {
      "cell_type": "markdown",
      "source": [
        "# <span style=\"color:blue; font-size:24px;\">4. Check for Missing Values</span>\n",
        "\n",
        "Missing values in a dataset can adversely affect the quality of analysis. In this step:\n",
        "\n",
        "- We use **df.isnull().sum()** to check for missing values in each column.\n",
        "- Identifying missing values is a key step before performing any further analysis or modeling, as they need to be handled appropriately."
      ],
      "metadata": {
        "id": "7M24guFNxx5C"
      }
    },
    {
      "cell_type": "code",
      "source": [
        "# 4. Check for Missing Values\n",
        "# We check if there are any missing values in our dataset."
      ],
      "metadata": {
        "id": "ELH0CSRTi4YE"
      },
      "execution_count": null,
      "outputs": []
    },
    {
      "cell_type": "code",
      "source": [
        "df.isnull().sum()"
      ],
      "metadata": {
        "id": "4nwU-i0si4vK",
        "colab": {
          "base_uri": "https://localhost:8080/"
        },
        "outputId": "c2902a0b-9150-4af2-c52b-89b1d3511f5c"
      },
      "execution_count": null,
      "outputs": [
        {
          "output_type": "execute_result",
          "data": {
            "text/plain": [
              "Time               0\n",
              "GEMS_GEMS_SPENT    0\n",
              "dtype: int64"
            ]
          },
          "metadata": {},
          "execution_count": 16
        }
      ]
    },
    {
      "cell_type": "code",
      "source": [],
      "metadata": {
        "id": "8Si_EDd90_FW"
      },
      "execution_count": null,
      "outputs": []
    },
    {
      "cell_type": "code",
      "source": [],
      "metadata": {
        "id": "uWUF1demx2Mq"
      },
      "execution_count": null,
      "outputs": []
    },
    {
      "cell_type": "markdown",
      "source": [
        "# <span style=\"color:blue; font-size:24px;\">5. Handle Missing Values</span>\n",
        "\n",
        "If any missing values are present, appropriate techniques are required to handle them. Here, the dataset has no missing values, but in case they exist:\n",
        "\n",
        "- **df.fillna()** can be used to fill missing numerical values with the column’s mean.\n",
        "- Handling missing values ensures that the dataset is clean and suitable for analysis."
      ],
      "metadata": {
        "id": "HGuxy3DFx2zZ"
      }
    },
    {
      "cell_type": "code",
      "source": [
        "# 5. Handle Missing Values\n",
        "# Since there are no missing values, we don't need to handle them in this dataset.\n",
        "# otherwise we would have used this model here\n",
        "# # Fill missing values with the mean"
      ],
      "metadata": {
        "id": "fXPbJIbM1CcU"
      },
      "execution_count": null,
      "outputs": []
    },
    {
      "cell_type": "code",
      "source": [
        "df.fillna(df.mean(numeric_only=True), inplace=True)"
      ],
      "metadata": {
        "id": "HP1h6YqK1BJS"
      },
      "execution_count": null,
      "outputs": []
    },
    {
      "cell_type": "code",
      "source": [],
      "metadata": {
        "id": "9P7M8C0N1knC"
      },
      "execution_count": null,
      "outputs": []
    },
    {
      "cell_type": "code",
      "source": [],
      "metadata": {
        "id": "7hfpISODx7VK"
      },
      "execution_count": null,
      "outputs": []
    },
    {
      "cell_type": "code",
      "source": [],
      "metadata": {
        "id": "7pDrWLXxx7Y6"
      },
      "execution_count": null,
      "outputs": []
    },
    {
      "cell_type": "markdown",
      "source": [
        "# <span style=\"color:blue; font-size:24px;\">6. Check for Duplicate Values</span>\n",
        "\n",
        "Duplicate entries in the dataset can lead to bias in the analysis. In this step:\n",
        "\n",
        "- **df.duplicated().sum()** helps identify any duplicate rows in the dataset.\n",
        "- Ensuring the dataset is free of duplicates is crucial for accurate modeling and analysis."
      ],
      "metadata": {
        "id": "8rQdjreDx7o-"
      }
    },
    {
      "cell_type": "code",
      "source": [
        "\n",
        "# 6. Check for Duplicate Values\n",
        "# We check for any duplicate rows in the dataset."
      ],
      "metadata": {
        "id": "bw9EZ0Rji5oS"
      },
      "execution_count": null,
      "outputs": []
    },
    {
      "cell_type": "code",
      "source": [
        "df.duplicated().sum()"
      ],
      "metadata": {
        "id": "mH8_Z6m9i5qz",
        "colab": {
          "base_uri": "https://localhost:8080/"
        },
        "outputId": "f4cf29b2-c328-4bbc-99cc-09d3a916b810"
      },
      "execution_count": null,
      "outputs": [
        {
          "output_type": "execute_result",
          "data": {
            "text/plain": [
              "0"
            ]
          },
          "metadata": {},
          "execution_count": 22
        }
      ]
    },
    {
      "cell_type": "code",
      "source": [],
      "metadata": {
        "id": "2zn-bOlv1v9r"
      },
      "execution_count": null,
      "outputs": []
    },
    {
      "cell_type": "code",
      "source": [],
      "metadata": {
        "id": "XwipfG3-x-jS"
      },
      "execution_count": null,
      "outputs": []
    },
    {
      "cell_type": "code",
      "source": [],
      "metadata": {
        "id": "rWHpC2aEx_LK"
      },
      "execution_count": null,
      "outputs": []
    },
    {
      "cell_type": "markdown",
      "source": [
        "# <span style=\"color:blue; font-size:24px;\">7. Remove Duplicate Values</span>\n",
        "\n",
        "In case of duplicate values, we need to remove them to ensure that each data point contributes uniquely to the analysis:\n",
        "\n",
        "- **df.drop_duplicates(inplace=True)** is used to eliminate any duplicates.\n",
        "- This step is critical to maintaining data integrity and preventing overrepresentation of certain values."
      ],
      "metadata": {
        "id": "3FPM137Vx_Za"
      }
    },
    {
      "cell_type": "code",
      "source": [
        "# 7. Remove Duplicate Values\n",
        "# There are no duplicate values to remove in this dataset.\n",
        "# otherwise we would have used this code here\n",
        "# If there are duplicates, you can remove them using the drop_duplicates() function."
      ],
      "metadata": {
        "id": "foEL3dwW1wfh"
      },
      "execution_count": null,
      "outputs": []
    },
    {
      "cell_type": "code",
      "source": [
        "df.drop_duplicates(inplace=True)"
      ],
      "metadata": {
        "id": "f4vZabB3i5tS"
      },
      "execution_count": null,
      "outputs": []
    },
    {
      "cell_type": "code",
      "source": [],
      "metadata": {
        "id": "jViJHpJoi5wV"
      },
      "execution_count": null,
      "outputs": []
    },
    {
      "cell_type": "code",
      "source": [],
      "metadata": {
        "id": "-PfUzkjfyCex"
      },
      "execution_count": null,
      "outputs": []
    },
    {
      "cell_type": "code",
      "source": [],
      "metadata": {
        "id": "auD5nombyCif"
      },
      "execution_count": null,
      "outputs": []
    },
    {
      "cell_type": "markdown",
      "source": [
        "# <span style=\"color:blue; font-size:24px;\">8. Visualize the Data</span>\n",
        "\n",
        "Visualization is a powerful tool to understand the distribution and patterns in the dataset. In this step:\n",
        "\n",
        "- We use **sns.histplot()** to visualize the distribution of each numerical variable.\n",
        "- This provides a quick and effective way to observe the spread and skewness of the data."
      ],
      "metadata": {
        "id": "MpflRJNmyDAC"
      }
    },
    {
      "cell_type": "code",
      "source": [
        "# 8. Visualize the Data\n",
        "# We visualize the distribution of each numerical variable using histograms."
      ],
      "metadata": {
        "id": "UlX5y-mX2JoG"
      },
      "execution_count": null,
      "outputs": []
    },
    {
      "cell_type": "code",
      "source": [
        "for column in df.columns:\n",
        "    sns.histplot(df[column], kde=True)\n",
        "    plt.show()"
      ],
      "metadata": {
        "id": "O_Rpqke0i5zG",
        "colab": {
          "base_uri": "https://localhost:8080/",
          "height": 881
        },
        "outputId": "cb46fda5-34b6-47db-9066-a9f11b7fd142"
      },
      "execution_count": null,
      "outputs": [
        {
          "output_type": "display_data",
          "data": {
            "text/plain": [
              "<Figure size 640x480 with 1 Axes>"
            ],
            "image/png": "[encoded data removed]"
          },
          "metadata": {}
        },
        {
          "output_type": "display_data",
          "data": {
            "text/plain": [
              "<Figure size 640x480 with 1 Axes>"
            ],
            "image/png": "[encoded data removed]"
          },
          "metadata": {}
        }
      ]
    },
    {
      "cell_type": "code",
      "source": [],
      "metadata": {
        "id": "gcW8-29wiiSg"
      },
      "execution_count": null,
      "outputs": []
    },
    {
      "cell_type": "code",
      "source": [],
      "metadata": {
        "id": "WNiQgtNSiiV0"
      },
      "execution_count": null,
      "outputs": []
    },
    {
      "cell_type": "code",
      "source": [],
      "metadata": {
        "id": "vxBm_e7vyFdA"
      },
      "execution_count": null,
      "outputs": []
    },
    {
      "cell_type": "markdown",
      "source": [
        "# <span style=\"color:blue; font-size:24px;\">9. Check Data Distribution</span>\n",
        "\n",
        "Understanding the overall data distribution is critical for modeling and hypothesis testing:\n",
        "\n",
        "- **df.hist()**: Creates histograms of all numerical variables, giving an overall view of data distribution across multiple columns.\n",
        "- Visualizing data distributions helps in identifying patterns such as normality, skewness, or outliers."
      ],
      "metadata": {
        "id": "0j6IEPqtyIcC"
      }
    },
    {
      "cell_type": "code",
      "source": [
        "# 9. Check Data Distribution\n",
        "# We visualize the distribution of all numerical variables in the dataset using histograms."
      ],
      "metadata": {
        "id": "O87Sedg92St5"
      },
      "execution_count": null,
      "outputs": []
    },
    {
      "cell_type": "code",
      "source": [
        "df.hist(bins=30, figsize=(20,15), density=True)\n",
        "plt.show()"
      ],
      "metadata": {
        "colab": {
          "base_uri": "https://localhost:8080/",
          "height": 864
        },
        "id": "iNTTPbgl2SyN",
        "outputId": "43f97c2a-66dd-4ce6-ba63-3e135b43bf62"
      },
      "execution_count": null,
      "outputs": [
        {
          "output_type": "display_data",
          "data": {
            "text/plain": [
              "<Figure size 2000x1500 with 1 Axes>"
            ],
            "image/png": "[encoded data removed]"
          },
          "metadata": {}
        }
      ]
    },
    {
      "cell_type": "code",
      "source": [],
      "metadata": {
        "id": "VKkdUZ9Y2ZYO"
      },
      "execution_count": null,
      "outputs": []
    },
    {
      "cell_type": "code",
      "source": [],
      "metadata": {
        "id": "Hj8q1H9C2Zaz"
      },
      "execution_count": null,
      "outputs": []
    },
    {
      "cell_type": "code",
      "source": [],
      "metadata": {
        "id": "teLLwLgFyMe3"
      },
      "execution_count": null,
      "outputs": []
    },
    {
      "cell_type": "markdown",
      "source": [
        "# <span style=\"color:blue; font-size:24px;\">10. Check Correlations</span>\n",
        "\n",
        "To understand the relationships between different variables in the dataset:\n",
        "\n",
        "- We generate a correlation heatmap using **sns.heatmap()** to visualize correlations between numerical features.\n",
        "- Strong correlations between variables can indicate linear relationships, which are crucial for regression modeling."
      ],
      "metadata": {
        "id": "X-cDFrJEyMx6"
      }
    },
    {
      "cell_type": "code",
      "source": [
        "# 10. Check Correlations\n",
        "# To understand relationships between variables, we create a heatmap of correlations."
      ],
      "metadata": {
        "id": "o36lDTPz2ZdY"
      },
      "execution_count": null,
      "outputs": []
    },
    {
      "cell_type": "code",
      "source": [
        "sns.heatmap(df.corr(), annot=True)\n",
        "plt.show()"
      ],
      "metadata": {
        "colab": {
          "base_uri": "https://localhost:8080/",
          "height": 492
        },
        "id": "pqeGXqXMjcaK",
        "outputId": "3d40f1f1-2eed-462f-9274-10317049c7bf"
      },
      "execution_count": null,
      "outputs": [
        {
          "output_type": "stream",
          "name": "stderr",
          "text": [
            "<ipython-input-30-6522c2b4e5f9>:1: FutureWarning: The default value of numeric_only in DataFrame.corr is deprecated. In a future version, it will default to False. Select only valid columns or specify the value of numeric_only to silence this warning.\n",
            "  sns.heatmap(df.corr(), annot=True)\n"
          ]
        },
        {
          "output_type": "display_data",
          "data": {
            "text/plain": [
              "<Figure size 640x480 with 2 Axes>"
            ],
            "image/png": "[encoded data removed]"
          },
          "metadata": {}
        }
      ]
    },
    {
      "cell_type": "code",
      "source": [],
      "metadata": {
        "id": "t5B6vo1zjcde"
      },
      "execution_count": null,
      "outputs": []
    },
    {
      "cell_type": "code",
      "source": [],
      "metadata": {
        "id": "vj2u9Gaj2iuJ"
      },
      "execution_count": null,
      "outputs": []
    },
    {
      "cell_type": "code",
      "source": [],
      "metadata": {
        "id": "-VU_IQF02ixI"
      },
      "execution_count": null,
      "outputs": []
    },
    {
      "cell_type": "markdown",
      "source": [
        "# <span style=\"color:blue; font-size:24px;\">11. Handle Categorical Variables</span>\n",
        "\n",
        "Categorical data needs to be converted into numerical form for modeling purposes. In this step:\n",
        "\n",
        "- We use **pd.get_dummies()** for one-hot encoding categorical variables.\n",
        "- One-hot encoding ensures that categorical variables are transformed into a numerical format suitable for machine learning algorithms."
      ],
      "metadata": {
        "id": "_PIxPJLqyTHO"
      }
    },
    {
      "cell_type": "code",
      "source": [
        "# 11. Handle Categorical Variables\n",
        "# We convert categorical variables into dummy/indicator variables using one-hot encoding."
      ],
      "metadata": {
        "id": "34LAE8122jEo"
      },
      "execution_count": null,
      "outputs": []
    },
    {
      "cell_type": "code",
      "source": [
        "df = pd.get_dummies(df, drop_first=True)"
      ],
      "metadata": {
        "id": "8TC7EHNLjcg8"
      },
      "execution_count": null,
      "outputs": []
    },
    {
      "cell_type": "code",
      "source": [],
      "metadata": {
        "id": "foyEvRk0jckQ"
      },
      "execution_count": null,
      "outputs": []
    },
    {
      "cell_type": "code",
      "source": [],
      "metadata": {
        "id": "fQewtsimyVYC"
      },
      "execution_count": null,
      "outputs": []
    },
    {
      "cell_type": "code",
      "source": [],
      "metadata": {
        "id": "36-qoRx4yVcY"
      },
      "execution_count": null,
      "outputs": []
    },
    {
      "cell_type": "markdown",
      "source": [
        "# <span style=\"color:blue; font-size:24px;\">12. Outlier Detection</span>\n",
        "\n",
        "Outliers can skew results, so it’s important to detect and handle them properly. Here:\n",
        "\n",
        "- We use the Interquartile Range (IQR) method to detect and remove outliers.\n",
        "- Removing outliers can improve model accuracy and prevent distortions in the data analysis."
      ],
      "metadata": {
        "id": "U0IjhwwvyV1R"
      }
    },
    {
      "cell_type": "code",
      "source": [
        "# 12. Outlier Detection\n",
        "# We can skip outlier detection for now, as it may not be necessary for this dataset.\n",
        "# Though we wont, we just do it"
      ],
      "metadata": {
        "id": "YECKDbBZjcnd"
      },
      "execution_count": null,
      "outputs": []
    },
    {
      "cell_type": "code",
      "source": [
        "Q1 = df.quantile(0.25)"
      ],
      "metadata": {
        "id": "FxH7-Bbd8Pz_"
      },
      "execution_count": null,
      "outputs": []
    },
    {
      "cell_type": "code",
      "source": [
        "Q3 = df.quantile(0.75)"
      ],
      "metadata": {
        "id": "GHGF8MP68P3k"
      },
      "execution_count": null,
      "outputs": []
    },
    {
      "cell_type": "code",
      "source": [
        "IQR = Q3 - Q1"
      ],
      "metadata": {
        "id": "zn4QFuSC8P6N"
      },
      "execution_count": null,
      "outputs": []
    },
    {
      "cell_type": "code",
      "source": [
        "df = df[~((df < (Q1 - 1.5 * IQR)) | (df > (Q3 + 1.5 * IQR))).any(axis=1)]"
      ],
      "metadata": {
        "id": "Be3QWEGq8P-C"
      },
      "execution_count": null,
      "outputs": []
    },
    {
      "cell_type": "code",
      "source": [],
      "metadata": {
        "id": "_iSaeiPJiiYC"
      },
      "execution_count": null,
      "outputs": []
    },
    {
      "cell_type": "code",
      "source": [],
      "metadata": {
        "id": "L1cO6ud6yZTK"
      },
      "execution_count": null,
      "outputs": []
    },
    {
      "cell_type": "code",
      "source": [],
      "metadata": {
        "id": "dCDsM14fyZdM"
      },
      "execution_count": null,
      "outputs": []
    },
    {
      "cell_type": "markdown",
      "source": [
        "# <span style=\"color:blue; font-size:24px;\">13. Feature Scaling</span>\n",
        "\n",
        "Before applying machine learning models, it’s essential to scale numerical features:\n",
        "\n",
        "- We use **StandardScaler()** to standardize the dataset, giving features a mean of 0 and a standard deviation of 1.\n",
        "- Feature scaling ensures that all features contribute equally to the model, especially in distance-based algorithms like K-Means or SVM."
      ],
      "metadata": {
        "id": "EqWtOR1byZ2c"
      }
    },
    {
      "cell_type": "code",
      "source": [
        "# 13. Feature Scaling\n",
        "# Finally, we scale the features to have mean 0 and standard deviation 1 using StandardScaler."
      ],
      "metadata": {
        "id": "nmcpAwaojpvJ"
      },
      "execution_count": null,
      "outputs": []
    },
    {
      "cell_type": "code",
      "source": [
        "from sklearn.preprocessing import StandardScaler"
      ],
      "metadata": {
        "id": "Qumu2MVzjp7B"
      },
      "execution_count": null,
      "outputs": []
    },
    {
      "cell_type": "code",
      "source": [
        "scaler = StandardScaler()"
      ],
      "metadata": {
        "id": "9BjgRFzhjp-l"
      },
      "execution_count": null,
      "outputs": []
    },
    {
      "cell_type": "code",
      "source": [
        "df = pd.DataFrame(scaler.fit_transform(df), columns=df.columns)"
      ],
      "metadata": {
        "id": "0x1nLcRGjqAp"
      },
      "execution_count": null,
      "outputs": []
    },
    {
      "cell_type": "code",
      "source": [],
      "metadata": {
        "id": "2HCXn8rbjqD2"
      },
      "execution_count": null,
      "outputs": []
    },
    {
      "cell_type": "code",
      "source": [],
      "metadata": {
        "id": "FOfKhJtvygsw"
      },
      "execution_count": null,
      "outputs": []
    },
    {
      "cell_type": "code",
      "source": [],
      "metadata": {
        "id": "eXjZqXWxygwC"
      },
      "execution_count": null,
      "outputs": []
    },
    {
      "cell_type": "markdown",
      "source": [
        "# <span style=\"color:blue; font-size:24px;\">14. Save the Preprocessed Data</span>\n",
        "\n",
        "After completing the preprocessing steps, the dataset is saved for further tasks:\n",
        "\n",
        "- We save the preprocessed DataFrame using **df.to_csv()** to preserve the cleaned and transformed data.\n",
        "- Saving the data ensures reproducibility and allows for further analysis or model building without reprocessing."
      ],
      "metadata": {
        "id": "R_OeEPHuyhJz"
      }
    },
    {
      "cell_type": "code",
      "source": [
        "# Save the preprocessed data to a CSV file"
      ],
      "metadata": {
        "id": "5L400ED9kLWk"
      },
      "execution_count": null,
      "outputs": []
    },
    {
      "cell_type": "code",
      "source": [
        "df.to_csv('preprocessed_data.csv', index=False)"
      ],
      "metadata": {
        "id": "SNCQuNNBkLZg"
      },
      "execution_count": null,
      "outputs": []
    },
    {
      "cell_type": "code",
      "source": [],
      "metadata": {
        "id": "FWnu3eozkLdS"
      },
      "execution_count": null,
      "outputs": []
    },
    {
      "cell_type": "code",
      "source": [],
      "metadata": {
        "id": "zCXJQMMJkLfy"
      },
      "execution_count": null,
      "outputs": []
    },
    {
      "cell_type": "code",
      "source": [],
      "metadata": {
        "id": "4UqB63gckLiT"
      },
      "execution_count": null,
      "outputs": []
    },
    {
      "cell_type": "markdown",
      "source": [
        "# POSSIBLE TASKS"
      ],
      "metadata": {
        "id": "ninURWuYlbKU"
      }
    },
    {
      "cell_type": "code",
      "source": [
        "# We will use the dataset we performed Explanatory Data Analysis on: preprocessed_data.csv to perfrom some possible tasks."
      ],
      "metadata": {
        "id": "gjyhR5fOkLkc"
      },
      "execution_count": null,
      "outputs": []
    },
    {
      "cell_type": "code",
      "source": [
        "# Import necessary libraries"
      ],
      "metadata": {
        "id": "nI55jns0ld8H"
      },
      "execution_count": null,
      "outputs": []
    },
    {
      "cell_type": "code",
      "source": [
        "import pandas as pd"
      ],
      "metadata": {
        "id": "K71R90bCld_W"
      },
      "execution_count": null,
      "outputs": []
    },
    {
      "cell_type": "code",
      "source": [],
      "metadata": {
        "id": "dvjb9BfF3v5r"
      },
      "execution_count": null,
      "outputs": []
    },
    {
      "cell_type": "code",
      "source": [
        "# Load the preprocessed data from the CSV file"
      ],
      "metadata": {
        "id": "zIxTrqThleUe"
      },
      "execution_count": null,
      "outputs": []
    },
    {
      "cell_type": "code",
      "source": [
        "df = pd.read_csv('preprocessed_data.csv')"
      ],
      "metadata": {
        "id": "tlp55fIfleW8"
      },
      "execution_count": null,
      "outputs": []
    },
    {
      "cell_type": "code",
      "source": [],
      "metadata": {
        "id": "Ob8oyvZGleZe"
      },
      "execution_count": null,
      "outputs": []
    },
    {
      "cell_type": "code",
      "source": [
        "# Display the first few rows of the DataFrame to verify the data has been loaded correctly"
      ],
      "metadata": {
        "id": "hIJUUKYE33wa"
      },
      "execution_count": null,
      "outputs": []
    },
    {
      "cell_type": "code",
      "source": [
        "print(\"First few rows of the preprocessed data:\")"
      ],
      "metadata": {
        "colab": {
          "base_uri": "https://localhost:8080/"
        },
        "id": "eWl2PueO33zV",
        "outputId": "dcc3c475-bedc-45f6-b7ec-49127b5da910"
      },
      "execution_count": null,
      "outputs": [
        {
          "output_type": "stream",
          "name": "stdout",
          "text": [
            "First few rows of the preprocessed data:\n"
          ]
        }
      ]
    },
    {
      "cell_type": "code",
      "source": [
        "print(df.head())"
      ],
      "metadata": {
        "colab": {
          "base_uri": "https://localhost:8080/"
        },
        "id": "hlD75nv24Ai7",
        "outputId": "1694a3a3-8745-400f-f489-c128de43c271"
      },
      "execution_count": null,
      "outputs": [
        {
          "output_type": "stream",
          "name": "stdout",
          "text": [
            "   GEMS_GEMS_SPENT  Time_1/10/18  Time_1/11/18  Time_1/12/18  Time_1/13/18  \\\n",
            "0        -0.310349     -0.057831     -0.057831     -0.057831     -0.057831   \n",
            "1        -0.631084     -0.057831     -0.057831     -0.057831     -0.057831   \n",
            "2        -1.588375     -0.057831     -0.057831     -0.057831     -0.057831   \n",
            "3        -1.024737     -0.057831     -0.057831     -0.057831     -0.057831   \n",
            "4        -1.155652     -0.057831     -0.057831     -0.057831     -0.057831   \n",
            "\n",
            "   Time_1/14/18  Time_1/15/18  Time_1/16/18  Time_1/17/18  Time_1/18/18  ...  \\\n",
            "0     -0.057831     -0.057831     -0.057831     -0.057831     -0.057831  ...   \n",
            "1     -0.057831     -0.057831     -0.057831     -0.057831     -0.057831  ...   \n",
            "2     -0.057831     -0.057831     -0.057831     -0.057831     -0.057831  ...   \n",
            "3     -0.057831     -0.057831     -0.057831     -0.057831     -0.057831  ...   \n",
            "4     -0.057831     -0.057831     -0.057831     -0.057831     -0.057831  ...   \n",
            "\n",
            "   Time_9/28/17  Time_9/29/17  Time_9/3/17  Time_9/30/17  Time_9/4/17  \\\n",
            "0     -0.057831     -0.057831    -0.057831     -0.057831    -0.057831   \n",
            "1     -0.057831     -0.057831    -0.057831     -0.057831    -0.057831   \n",
            "2     -0.057831     -0.057831    -0.057831     -0.057831    -0.057831   \n",
            "3     -0.057831     -0.057831    -0.057831     -0.057831    -0.057831   \n",
            "4     -0.057831     -0.057831    -0.057831     -0.057831    -0.057831   \n",
            "\n",
            "   Time_9/5/17  Time_9/6/17  Time_9/7/17  Time_9/8/17  Time_9/9/17  \n",
            "0    -0.057831    -0.057831    -0.057831    -0.057831    -0.057831  \n",
            "1    -0.057831    -0.057831    -0.057831    -0.057831    -0.057831  \n",
            "2    -0.057831    -0.057831    -0.057831    -0.057831    -0.057831  \n",
            "3    -0.057831    -0.057831    -0.057831    -0.057831    -0.057831  \n",
            "4    -0.057831    -0.057831    -0.057831    -0.057831    -0.057831  \n",
            "\n",
            "[5 rows x 300 columns]\n"
          ]
        }
      ]
    },
    {
      "cell_type": "code",
      "source": [],
      "metadata": {
        "id": "xuDHJuXw4CMP"
      },
      "execution_count": null,
      "outputs": []
    },
    {
      "cell_type": "code",
      "source": [],
      "metadata": {
        "id": "GxJB05Pk4CO3"
      },
      "execution_count": null,
      "outputs": []
    },
    {
      "cell_type": "code",
      "source": [],
      "metadata": {
        "id": "lekmXtN34CUU"
      },
      "execution_count": null,
      "outputs": []
    },
    {
      "cell_type": "markdown",
      "source": [
        "# <span style=\"color:green; font-size:24px;\">1. Customer Segmentation</span>\n",
        "\n",
        "Customer segmentation involves dividing a customer base into distinct groups that share similar characteristics:\n",
        "\n",
        "- The goal is to understand the behavior and preferences of different customer groups to tailor strategies accordingly.\n",
        "- **K-Means Clustering** is one of the most commonly used techniques for customer segmentation. It groups customers based on features like purchasing habits, demographics, etc.\n",
        "- In this step, we apply clustering algorithms to group customers and analyze their patterns."
      ],
      "metadata": {
        "id": "It9Dm8S3zi8c"
      }
    },
    {
      "cell_type": "markdown",
      "source": [
        "# CUSTOMER SEGMENTATION"
      ],
      "metadata": {
        "id": "Z0DuTtSBmEE7"
      }
    },
    {
      "cell_type": "code",
      "source": [
        "# Perform customer segmentation using clustering algorithms like KMeans"
      ],
      "metadata": {
        "id": "bNquZGB_4JAl"
      },
      "execution_count": null,
      "outputs": []
    },
    {
      "cell_type": "code",
      "source": [
        "from sklearn.cluster import KMeans"
      ],
      "metadata": {
        "id": "Z4dIWnAmlebu"
      },
      "execution_count": null,
      "outputs": []
    },
    {
      "cell_type": "code",
      "source": [],
      "metadata": {
        "id": "MgP4Jw5O4NZp"
      },
      "execution_count": null,
      "outputs": []
    },
    {
      "cell_type": "code",
      "source": [
        "# Define features for segmentation (e.g., 'GEMS_GEMS_SPENT')"
      ],
      "metadata": {
        "id": "x4SN23GV4N1t"
      },
      "execution_count": null,
      "outputs": []
    },
    {
      "cell_type": "code",
      "source": [
        "X = df[['GEMS_GEMS_SPENT']]"
      ],
      "metadata": {
        "id": "uOlGG1ieled_"
      },
      "execution_count": null,
      "outputs": []
    },
    {
      "cell_type": "code",
      "source": [],
      "metadata": {
        "id": "WKjSXeie4TpN"
      },
      "execution_count": null,
      "outputs": []
    },
    {
      "cell_type": "code",
      "source": [
        "# Initialize and fit KMeans model with explicit setting of n_init"
      ],
      "metadata": {
        "id": "KBNgOmnH4UI0"
      },
      "execution_count": null,
      "outputs": []
    },
    {
      "cell_type": "code",
      "source": [
        "kmeans = KMeans(n_clusters=3, n_init=10)  # Specify number of clusters and n_init value"
      ],
      "metadata": {
        "id": "k6oYrqCNmLgE"
      },
      "execution_count": null,
      "outputs": []
    },
    {
      "cell_type": "code",
      "source": [
        "df['Segment'] = kmeans.fit_predict(X)"
      ],
      "metadata": {
        "id": "xDTkx5X2leg2"
      },
      "execution_count": null,
      "outputs": []
    },
    {
      "cell_type": "code",
      "source": [],
      "metadata": {
        "id": "3ycdkhoY4fcs"
      },
      "execution_count": null,
      "outputs": []
    },
    {
      "cell_type": "code",
      "source": [
        "# Save the DataFrame with segmentation results to a CSV file"
      ],
      "metadata": {
        "id": "UTLd10cv4fgN"
      },
      "execution_count": null,
      "outputs": []
    },
    {
      "cell_type": "code",
      "source": [
        "df.to_csv('segmented_data.csv', index=False)"
      ],
      "metadata": {
        "id": "qh86JmjSm193"
      },
      "execution_count": null,
      "outputs": []
    },
    {
      "cell_type": "code",
      "source": [],
      "metadata": {
        "id": "ClgMPaAvm2Aj"
      },
      "execution_count": null,
      "outputs": []
    },
    {
      "cell_type": "code",
      "source": [],
      "metadata": {
        "id": "Ju4ljmFPm2DH"
      },
      "execution_count": null,
      "outputs": []
    },
    {
      "cell_type": "code",
      "source": [],
      "metadata": {
        "id": "K397bSsZzmza"
      },
      "execution_count": null,
      "outputs": []
    },
    {
      "cell_type": "markdown",
      "source": [
        "# <span style=\"color:green; font-size:24px;\">2. Predictive Modeling</span>\n",
        "\n",
        "Predictive modeling involves creating a model that makes predictions based on past data:\n",
        "\n",
        "- The purpose of predictive modeling is to anticipate future customer behavior, such as customer churn, future sales, or potential responses to marketing campaigns.\n",
        "- Algorithms like **Logistic Regression**, **Random Forest**, and **Decision Trees** are commonly used for classification tasks in predictive modeling.\n",
        "- In this step, we train a model using historical data and evaluate its accuracy on test data."
      ],
      "metadata": {
        "id": "2j9Q95DKznFM"
      }
    },
    {
      "cell_type": "markdown",
      "source": [
        "# PREDICTIVE *MODELING*"
      ],
      "metadata": {
        "id": "2Jv-gxC2m__O"
      }
    },
    {
      "cell_type": "code",
      "source": [
        "# Split data into features (X) and target variable (y)"
      ],
      "metadata": {
        "id": "5RAJLXzh4qAr"
      },
      "execution_count": null,
      "outputs": []
    },
    {
      "cell_type": "code",
      "source": [
        "X = df.drop(columns=['GEMS_GEMS_SPENT'])"
      ],
      "metadata": {
        "id": "4cYcKMq2m2Gh"
      },
      "execution_count": null,
      "outputs": []
    },
    {
      "cell_type": "code",
      "source": [
        "y = df['GEMS_GEMS_SPENT']"
      ],
      "metadata": {
        "id": "meE7WH71m2LL"
      },
      "execution_count": null,
      "outputs": []
    },
    {
      "cell_type": "code",
      "source": [],
      "metadata": {
        "id": "xDOgT2JknMpO"
      },
      "execution_count": null,
      "outputs": []
    },
    {
      "cell_type": "code",
      "source": [
        "# Split data into training and testing sets"
      ],
      "metadata": {
        "id": "i3l3w_754x4_"
      },
      "execution_count": null,
      "outputs": []
    },
    {
      "cell_type": "code",
      "source": [
        "from sklearn.model_selection import train_test_split"
      ],
      "metadata": {
        "id": "RaKJwnebnMsQ"
      },
      "execution_count": null,
      "outputs": []
    },
    {
      "cell_type": "code",
      "source": [
        "X_train, X_test, y_train, y_test = train_test_split(X, y, test_size=0.2, random_state=42)"
      ],
      "metadata": {
        "id": "Ce-njpWfnMut"
      },
      "execution_count": null,
      "outputs": []
    },
    {
      "cell_type": "code",
      "source": [],
      "metadata": {
        "id": "w7AhAflenMzY"
      },
      "execution_count": null,
      "outputs": []
    },
    {
      "cell_type": "code",
      "source": [
        "\n",
        "# Build and train a predictive model (e.g., linear regression, decision tree, etc.)"
      ],
      "metadata": {
        "id": "IaWEmk9U48UC"
      },
      "execution_count": null,
      "outputs": []
    },
    {
      "cell_type": "code",
      "source": [
        "from sklearn.linear_model import LinearRegression"
      ],
      "metadata": {
        "id": "yU_Z6XzunM2a"
      },
      "execution_count": null,
      "outputs": []
    },
    {
      "cell_type": "code",
      "source": [
        "model = LinearRegression()"
      ],
      "metadata": {
        "id": "9bT4QKZ8nM5T"
      },
      "execution_count": null,
      "outputs": []
    },
    {
      "cell_type": "code",
      "source": [
        "model.fit(X_train, y_train)"
      ],
      "metadata": {
        "colab": {
          "base_uri": "https://localhost:8080/",
          "height": 75
        },
        "id": "EqZp5UwqnM7v",
        "outputId": "d7ee0e54-6727-4a13-9538-883fc85fafa5"
      },
      "execution_count": null,
      "outputs": [
        {
          "output_type": "execute_result",
          "data": {
            "text/plain": [
              "LinearRegression()"
            ],
            "text/html": [
              "<style>#sk-container-id-1 {color: black;background-color: white;}#sk-container-id-1 pre{padding: 0;}#sk-container-id-1 div.sk-toggleable {background-color: white;}#sk-container-id-1 label.sk-toggleable__label {cursor: pointer;display: block;width: 100%;margin-bottom: 0;padding: 0.3em;box-sizing: border-box;text-align: center;}#sk-container-id-1 label.sk-toggleable__label-arrow:before {content: \"▸\";float: left;margin-right: 0.25em;color: #696969;}#sk-container-id-1 label.sk-toggleable__label-arrow:hover:before {color: black;}#sk-container-id-1 div.sk-estimator:hover label.sk-toggleable__label-arrow:before {color: black;}#sk-container-id-1 div.sk-toggleable__content {max-height: 0;max-width: 0;overflow: hidden;text-align: left;background-color: #f0f8ff;}#sk-container-id-1 div.sk-toggleable__content pre {margin: 0.2em;color: black;border-radius: 0.25em;background-color: #f0f8ff;}#sk-container-id-1 input.sk-toggleable__control:checked~div.sk-toggleable__content {max-height: 200px;max-width: 100%;overflow: auto;}#sk-container-id-1 input.sk-toggleable__control:checked~label.sk-toggleable__label-arrow:before {content: \"▾\";}#sk-container-id-1 div.sk-estimator input.sk-toggleable__control:checked~label.sk-toggleable__label {background-color: #d4ebff;}#sk-container-id-1 div.sk-label input.sk-toggleable__control:checked~label.sk-toggleable__label {background-color: #d4ebff;}#sk-container-id-1 input.sk-hidden--visually {border: 0;clip: rect(1px 1px 1px 1px);clip: rect(1px, 1px, 1px, 1px);height: 1px;margin: -1px;overflow: hidden;padding: 0;position: absolute;width: 1px;}#sk-container-id-1 div.sk-estimator {font-family: monospace;background-color: #f0f8ff;border: 1px dotted black;border-radius: 0.25em;box-sizing: border-box;margin-bottom: 0.5em;}#sk-container-id-1 div.sk-estimator:hover {background-color: #d4ebff;}#sk-container-id-1 div.sk-parallel-item::after {content: \"\";width: 100%;border-bottom: 1px solid gray;flex-grow: 1;}#sk-container-id-1 div.sk-label:hover label.sk-toggleable__label {background-color: #d4ebff;}#sk-container-id-1 div.sk-serial::before {content: \"\";position: absolute;border-left: 1px solid gray;box-sizing: border-box;top: 0;bottom: 0;left: 50%;z-index: 0;}#sk-container-id-1 div.sk-serial {display: flex;flex-direction: column;align-items: center;background-color: white;padding-right: 0.2em;padding-left: 0.2em;position: relative;}#sk-container-id-1 div.sk-item {position: relative;z-index: 1;}#sk-container-id-1 div.sk-parallel {display: flex;align-items: stretch;justify-content: center;background-color: white;position: relative;}#sk-container-id-1 div.sk-item::before, #sk-container-id-1 div.sk-parallel-item::before {content: \"\";position: absolute;border-left: 1px solid gray;box-sizing: border-box;top: 0;bottom: 0;left: 50%;z-index: -1;}#sk-container-id-1 div.sk-parallel-item {display: flex;flex-direction: column;z-index: 1;position: relative;background-color: white;}#sk-container-id-1 div.sk-parallel-item:first-child::after {align-self: flex-end;width: 50%;}#sk-container-id-1 div.sk-parallel-item:last-child::after {align-self: flex-start;width: 50%;}#sk-container-id-1 div.sk-parallel-item:only-child::after {width: 0;}#sk-container-id-1 div.sk-dashed-wrapped {border: 1px dashed gray;margin: 0 0.4em 0.5em 0.4em;box-sizing: border-box;padding-bottom: 0.4em;background-color: white;}#sk-container-id-1 div.sk-label label {font-family: monospace;font-weight: bold;display: inline-block;line-height: 1.2em;}#sk-container-id-1 div.sk-label-container {text-align: center;}#sk-container-id-1 div.sk-container {/* jupyter's `normalize.less` sets `[hidden] { display: none; }` but bootstrap.min.css set `[hidden] { display: none !important; }` so we also need the `!important` here to be able to override the default hidden behavior on the sphinx rendered scikit-learn.org. See: https://github.com/scikit-learn/scikit-learn/issues/21755 */display: inline-block !important;position: relative;}#sk-container-id-1 div.sk-text-repr-fallback {display: none;}</style><div id=\"sk-container-id-1\" class=\"sk-top-container\"><div class=\"sk-text-repr-fallback\"><pre>LinearRegression()</pre><b>In a Jupyter environment, please rerun this cell to show the HTML representation or trust the notebook. <br />On GitHub, the HTML representation is unable to render, please try loading this page with nbviewer.org.</b></div><div class=\"sk-container\" hidden><div class=\"sk-item\"><div class=\"sk-estimator sk-toggleable\"><input class=\"sk-toggleable__control sk-hidden--visually\" id=\"sk-estimator-id-1\" type=\"checkbox\" checked><label for=\"sk-estimator-id-1\" class=\"sk-toggleable__label sk-toggleable__label-arrow\">LinearRegression</label><div class=\"sk-toggleable__content\"><pre>LinearRegression()</pre></div></div></div></div></div>"
            ]
          },
          "metadata": {},
          "execution_count": 66
        }
      ]
    },
    {
      "cell_type": "code",
      "source": [],
      "metadata": {
        "id": "q2yxjSFalejt"
      },
      "execution_count": null,
      "outputs": []
    },
    {
      "cell_type": "code",
      "source": [],
      "metadata": {
        "id": "EgPV3dqf7yAV"
      },
      "execution_count": null,
      "outputs": []
    },
    {
      "cell_type": "code",
      "source": [
        "# Evaluate model performance"
      ],
      "metadata": {
        "id": "kV28li515KWR"
      },
      "execution_count": null,
      "outputs": []
    },
    {
      "cell_type": "code",
      "source": [
        "from sklearn.metrics import mean_squared_error"
      ],
      "metadata": {
        "id": "WliIB8sLnc67"
      },
      "execution_count": null,
      "outputs": []
    },
    {
      "cell_type": "code",
      "source": [
        "y_pred = model.predict(X_test)"
      ],
      "metadata": {
        "id": "yYCODal1nc-N"
      },
      "execution_count": null,
      "outputs": []
    },
    {
      "cell_type": "code",
      "source": [
        "mse = mean_squared_error(y_test, y_pred)"
      ],
      "metadata": {
        "id": "Pvwg7FCGndBH"
      },
      "execution_count": null,
      "outputs": []
    },
    {
      "cell_type": "code",
      "source": [
        "print('Mean Squared Error:', mse)"
      ],
      "metadata": {
        "colab": {
          "base_uri": "https://localhost:8080/"
        },
        "id": "UAzw7WgXndFN",
        "outputId": "9c0cfb39-b3d8-479a-f010-5a41ec49b154"
      },
      "execution_count": null,
      "outputs": [
        {
          "output_type": "stream",
          "name": "stdout",
          "text": [
            "Mean Squared Error: 0.6262099588596036\n"
          ]
        }
      ]
    },
    {
      "cell_type": "code",
      "source": [],
      "metadata": {
        "id": "jKnJd3tendJR"
      },
      "execution_count": null,
      "outputs": []
    },
    {
      "cell_type": "code",
      "source": [
        "# Save the DataFrame with model predictions to a CSV file"
      ],
      "metadata": {
        "id": "WucHACsq5bMQ"
      },
      "execution_count": null,
      "outputs": []
    },
    {
      "cell_type": "code",
      "source": [
        "df_predictions = pd.DataFrame({'Actual': y_test, 'Predicted': y_pred})"
      ],
      "metadata": {
        "id": "xap1NrPandLG"
      },
      "execution_count": null,
      "outputs": []
    },
    {
      "cell_type": "code",
      "source": [
        "df_predictions.to_csv('model_predictions.csv', index=False)"
      ],
      "metadata": {
        "id": "n_noI4EtndM8"
      },
      "execution_count": null,
      "outputs": []
    },
    {
      "cell_type": "code",
      "source": [],
      "metadata": {
        "id": "70CyyRbrndaK"
      },
      "execution_count": null,
      "outputs": []
    },
    {
      "cell_type": "code",
      "source": [],
      "metadata": {
        "id": "Qf03G07dn4O1"
      },
      "execution_count": null,
      "outputs": []
    },
    {
      "cell_type": "code",
      "source": [],
      "metadata": {
        "id": "-AsOCNb-zq61"
      },
      "execution_count": null,
      "outputs": []
    },
    {
      "cell_type": "markdown",
      "source": [
        "# <span style=\"color:green; font-size:24px;\">3. Descriptive Analysis</span>\n",
        "\n",
        "Descriptive analysis focuses on summarizing the main features of a dataset to gain insights into customer behavior:\n",
        "\n",
        "- **Univariate**, **Bivariate**, and **Multivariate analysis** help describe patterns and trends in the data.\n",
        "- Descriptive statistics such as mean, median, standard deviation, and visualizations (histograms, bar plots) are used to describe customer behavior or product performance.\n",
        "- This step helps in identifying key patterns and trends that provide actionable insights."
      ],
      "metadata": {
        "id": "e9z_9x_2zrTk"
      }
    },
    {
      "cell_type": "markdown",
      "source": [
        "# *DESCRIPTIVE* *ANALYSIS*"
      ],
      "metadata": {
        "id": "2R--OkFgn5h4"
      }
    },
    {
      "cell_type": "code",
      "source": [
        "# Display summary statistics"
      ],
      "metadata": {
        "id": "sO_oBFFR5ot2"
      },
      "execution_count": null,
      "outputs": []
    },
    {
      "cell_type": "code",
      "source": [
        "print(\"Summary Statistics:\")"
      ],
      "metadata": {
        "colab": {
          "base_uri": "https://localhost:8080/"
        },
        "id": "Dlcduod4n4Rq",
        "outputId": "7ddd4c0c-8399-4d6c-87fa-528aef393a3d"
      },
      "execution_count": null,
      "outputs": [
        {
          "output_type": "stream",
          "name": "stdout",
          "text": [
            "Summary Statistics:\n"
          ]
        }
      ]
    },
    {
      "cell_type": "code",
      "source": [
        "print(df.describe())"
      ],
      "metadata": {
        "colab": {
          "base_uri": "https://localhost:8080/"
        },
        "id": "1Ivt22HRn4UY",
        "outputId": "480b6565-c424-4fad-84f6-a1ed395c7f82"
      },
      "execution_count": null,
      "outputs": [
        {
          "output_type": "stream",
          "name": "stdout",
          "text": [
            "       GEMS_GEMS_SPENT  Time_1/10/18  Time_1/11/18  Time_1/12/18  \\\n",
            "count     3.000000e+02  3.000000e+02  3.000000e+02  3.000000e+02   \n",
            "mean      1.184238e-16  5.329071e-17  5.329071e-17  5.329071e-17   \n",
            "std       1.001671e+00  1.001671e+00  1.001671e+00  1.001671e+00   \n",
            "min      -1.699150e+00 -5.783149e-02 -5.783149e-02 -5.783149e-02   \n",
            "25%      -7.348682e-01 -5.783149e-02 -5.783149e-02 -5.783149e-02   \n",
            "50%      -1.589569e-01 -5.783149e-02 -5.783149e-02 -5.783149e-02   \n",
            "75%       5.922410e-01 -5.783149e-02 -5.783149e-02 -5.783149e-02   \n",
            "max       3.946199e+00  1.729162e+01  1.729162e+01  1.729162e+01   \n",
            "\n",
            "       Time_1/13/18  Time_1/14/18  Time_1/15/18  Time_1/16/18  Time_1/17/18  \\\n",
            "count  3.000000e+02  3.000000e+02  3.000000e+02  3.000000e+02  3.000000e+02   \n",
            "mean   5.329071e-17  5.329071e-17  5.329071e-17  5.329071e-17  5.329071e-17   \n",
            "std    1.001671e+00  1.001671e+00  1.001671e+00  1.001671e+00  1.001671e+00   \n",
            "min   -5.783149e-02 -5.783149e-02 -5.783149e-02 -5.783149e-02 -5.783149e-02   \n",
            "25%   -5.783149e-02 -5.783149e-02 -5.783149e-02 -5.783149e-02 -5.783149e-02   \n",
            "50%   -5.783149e-02 -5.783149e-02 -5.783149e-02 -5.783149e-02 -5.783149e-02   \n",
            "75%   -5.783149e-02 -5.783149e-02 -5.783149e-02 -5.783149e-02 -5.783149e-02   \n",
            "max    1.729162e+01  1.729162e+01  1.729162e+01  1.729162e+01  1.729162e+01   \n",
            "\n",
            "       Time_1/18/18  ...  Time_9/29/17   Time_9/3/17  Time_9/30/17  \\\n",
            "count  3.000000e+02  ...  3.000000e+02  3.000000e+02  3.000000e+02   \n",
            "mean   5.329071e-17  ...  4.736952e-17  2.368476e-17  4.736952e-17   \n",
            "std    1.001671e+00  ...  1.001671e+00  1.001671e+00  1.001671e+00   \n",
            "min   -5.783149e-02  ... -5.783149e-02 -5.783149e-02 -5.783149e-02   \n",
            "25%   -5.783149e-02  ... -5.783149e-02 -5.783149e-02 -5.783149e-02   \n",
            "50%   -5.783149e-02  ... -5.783149e-02 -5.783149e-02 -5.783149e-02   \n",
            "75%   -5.783149e-02  ... -5.783149e-02 -5.783149e-02 -5.783149e-02   \n",
            "max    1.729162e+01  ...  1.729162e+01  1.729162e+01  1.729162e+01   \n",
            "\n",
            "        Time_9/4/17   Time_9/5/17   Time_9/6/17   Time_9/7/17   Time_9/8/17  \\\n",
            "count  3.000000e+02  3.000000e+02  3.000000e+02  3.000000e+02  3.000000e+02   \n",
            "mean   2.368476e-17  2.368476e-17  2.368476e-17  2.368476e-17  2.368476e-17   \n",
            "std    1.001671e+00  1.001671e+00  1.001671e+00  1.001671e+00  1.001671e+00   \n",
            "min   -5.783149e-02 -5.783149e-02 -5.783149e-02 -5.783149e-02 -5.783149e-02   \n",
            "25%   -5.783149e-02 -5.783149e-02 -5.783149e-02 -5.783149e-02 -5.783149e-02   \n",
            "50%   -5.783149e-02 -5.783149e-02 -5.783149e-02 -5.783149e-02 -5.783149e-02   \n",
            "75%   -5.783149e-02 -5.783149e-02 -5.783149e-02 -5.783149e-02 -5.783149e-02   \n",
            "max    1.729162e+01  1.729162e+01  1.729162e+01  1.729162e+01  1.729162e+01   \n",
            "\n",
            "        Time_9/9/17     Segment  \n",
            "count  3.000000e+02  300.000000  \n",
            "mean   2.368476e-17    0.756667  \n",
            "std    1.001671e+00    0.738879  \n",
            "min   -5.783149e-02    0.000000  \n",
            "25%   -5.783149e-02    0.000000  \n",
            "50%   -5.783149e-02    1.000000  \n",
            "75%   -5.783149e-02    1.000000  \n",
            "max    1.729162e+01    2.000000  \n",
            "\n",
            "[8 rows x 301 columns]\n"
          ]
        }
      ]
    },
    {
      "cell_type": "code",
      "source": [],
      "metadata": {
        "id": "QoXyKNbvn4XA"
      },
      "execution_count": null,
      "outputs": []
    },
    {
      "cell_type": "code",
      "source": [],
      "metadata": {
        "id": "UBED2PqE5ybo"
      },
      "execution_count": null,
      "outputs": []
    },
    {
      "cell_type": "code",
      "source": [
        "# Visualize the distribution of spending"
      ],
      "metadata": {
        "id": "ZPMPrzH75yer"
      },
      "execution_count": null,
      "outputs": []
    },
    {
      "cell_type": "code",
      "source": [
        "plt.figure(figsize=(8, 6))\n",
        "sns.histplot(df['GEMS_GEMS_SPENT'], kde=True)\n",
        "plt.title('Distribution of GEMS_GEMS_SPENT')\n",
        "plt.xlabel('GEMS_GEMS_SPENT')\n",
        "plt.ylabel('Frequency')\n",
        "plt.show()"
      ],
      "metadata": {
        "colab": {
          "base_uri": "https://localhost:8080/",
          "height": 564
        },
        "id": "Xu-zmjAvn4aO",
        "outputId": "dbd75ae4-bb7d-4f88-f0ee-bf41cf4d1596"
      },
      "execution_count": null,
      "outputs": [
        {
          "output_type": "display_data",
          "data": {
            "text/plain": [
              "<Figure size 800x600 with 1 Axes>"
            ],
            "image/png": "[encoded data removed]"
          },
          "metadata": {}
        }
      ]
    },
    {
      "cell_type": "code",
      "source": [],
      "metadata": {
        "id": "cZXBwc1bn4eG"
      },
      "execution_count": null,
      "outputs": []
    },
    {
      "cell_type": "code",
      "source": [],
      "metadata": {
        "id": "Ur_GxNl0n4hM"
      },
      "execution_count": null,
      "outputs": []
    },
    {
      "cell_type": "code",
      "source": [
        "# Save the summary statistics to a CSV file"
      ],
      "metadata": {
        "id": "yJkuecg658hN"
      },
      "execution_count": null,
      "outputs": []
    },
    {
      "cell_type": "code",
      "source": [
        "df_statistics = df.describe()"
      ],
      "metadata": {
        "id": "kZ6bHJBKn4i7"
      },
      "execution_count": null,
      "outputs": []
    },
    {
      "cell_type": "code",
      "source": [
        "df_statistics.to_csv('summary_statistics.csv')"
      ],
      "metadata": {
        "id": "W1HIHk5LndeT"
      },
      "execution_count": null,
      "outputs": []
    },
    {
      "cell_type": "code",
      "source": [],
      "metadata": {
        "id": "F-_YJT_t6IIN"
      },
      "execution_count": null,
      "outputs": []
    },
    {
      "cell_type": "code",
      "source": [
        "# Save the visualization to an image file"
      ],
      "metadata": {
        "id": "rPkWEOsN6IY0"
      },
      "execution_count": null,
      "outputs": []
    },
    {
      "cell_type": "code",
      "source": [
        "plt.figure(figsize=(8, 6))\n",
        "sns.histplot(df['GEMS_GEMS_SPENT'], kde=True)\n",
        "plt.title('Distribution of GEMS_GEMS_SPENT')\n",
        "plt.xlabel('GEMS_GEMS_SPENT')\n",
        "plt.ylabel('Frequency')\n",
        "plt.savefig('distribution_plot.png')"
      ],
      "metadata": {
        "colab": {
          "base_uri": "https://localhost:8080/",
          "height": 564
        },
        "id": "kvO9em0RkLmw",
        "outputId": "71f78ed4-d79f-4f43-b866-d213a7419d97"
      },
      "execution_count": null,
      "outputs": [
        {
          "output_type": "display_data",
          "data": {
            "text/plain": [
              "<Figure size 800x600 with 1 Axes>"
            ],
            "image/png": "[encoded data removed]"
          },
          "metadata": {}
        }
      ]
    },
    {
      "cell_type": "code",
      "source": [],
      "metadata": {
        "id": "6Na8erNaom4B"
      },
      "execution_count": null,
      "outputs": []
    },
    {
      "cell_type": "code",
      "source": [],
      "metadata": {
        "id": "Rt__P_bJom7q"
      },
      "execution_count": null,
      "outputs": []
    },
    {
      "cell_type": "code",
      "source": [],
      "metadata": {
        "id": "wgsrBklzom-h"
      },
      "execution_count": null,
      "outputs": []
    },
    {
      "cell_type": "markdown",
      "source": [
        "# <span style=\"color:blue; font-size:28px;\">Conclusion</span>\n",
        "\n",
        "In this project, we conducted a comprehensive Exploratory Data Analysis (EDA) and performed several data processing steps on the given dataset.\n",
        "\n",
        "### Key Takeaways:\n",
        "- **Data Preprocessing**: We successfully handled missing values and duplicate records, ensuring the dataset was clean and ready for analysis. Outliers were detected and removed, and features were scaled to standardize the data.\n",
        "  \n",
        "- **Exploratory Data Analysis (EDA)**: Visualizations provided a clear understanding of the distribution of key variables, as well as insights into the relationships between them. Correlation analysis helped identify potential interactions among variables, offering valuable guidance for further modeling.\n",
        "\n",
        "- **Customer Segmentation**: Using **K-Means Clustering**, we segmented the customer base into distinct groups, which can be leveraged for targeted marketing and personalized customer experiences. This segmentation provides critical insight into customer behavior patterns.\n",
        "\n",
        "- **Predictive Modeling**: We implemented a linear regression model to predict customer spending, with a detailed evaluation of model performance. The mean squared error (MSE) metric allowed us to assess the accuracy of the model, providing a basis for future refinement.\n",
        "\n",
        "- **Descriptive Analysis**: Through the generation of descriptive statistics and visualizations, we obtained key insights into the underlying trends and patterns within the dataset. These insights help summarize the behavior of customers and spending trends, which can be crucial for business decision-making.\n",
        "\n",
        "### Final Remarks:\n",
        "This project successfully combined the use of **data cleaning**, **statistical analysis**, and **machine learning algorithms** to generate meaningful insights and actionable predictions from the dataset. The outcomes offer a solid foundation for further business strategy development, such as improving customer engagement, enhancing marketing efforts, and optimizing operational processes.\n",
        "\n",
        "Moving forward, additional improvements can be made by experimenting with more sophisticated models or incorporating external data to improve the accuracy and relevance of predictions."
      ],
      "metadata": {
        "id": "bB5yLkzKz0R8"
      }
    }
  ]
}