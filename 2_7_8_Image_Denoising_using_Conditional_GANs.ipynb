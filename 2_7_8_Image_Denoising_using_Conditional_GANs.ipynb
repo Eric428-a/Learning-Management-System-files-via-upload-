{
  "nbformat": 4,
  "nbformat_minor": 0,
  "metadata": {
    "colab": {
      "provenance": [],
      "gpuType": "T4"
    },
    "kernelspec": {
      "name": "python3",
      "display_name": "Python 3"
    },
    "language_info": {
      "name": "python"
    },
    "accelerator": "GPU"
  },
  "cells": [
    {
      "cell_type": "markdown",
      "source": [
        "---\n",
        "---"
      ],
      "metadata": {
        "id": "a_FejPSyXgiX"
      }
    },
    {
      "cell_type": "markdown",
      "source": [
        "# <span style=\"color:#1E90FF; font-family:Georgia;\">**Project Overview: Noisy CIFAR-10 Image Denoising using cGANs**</span>  \n",
        "\n",
        "## <span style=\"color:#FF6347; font-family:Georgia;\">**Introduction**</span>  \n",
        "In modern computer vision applications, **image denoising** plays a critical role in improving image quality for tasks like medical imaging, surveillance, and autonomous driving. This project leverages a **Conditional Generative Adversarial Network (cGAN)** to restore high-quality images from noisy counterparts using the **CIFAR-10 dataset**.  \n",
        "\n",
        "## <span style=\"color:#FF6347; font-family:Georgia;\">**Project Objectives**</span>  \n",
        "- Develop an advanced **cGAN-based denoising model** that removes noise from CIFAR-10 images.  \n",
        "- Train the model using a combination of **GAN loss and L1 loss** for high-quality reconstructions.  \n",
        "- Evaluate model performance using **visual comparisons and quantitative metrics**.  \n",
        "- Build an **interactive web dashboard** using Dash for real-time visualization of denoised images.  \n",
        "\n",
        "## <span style=\"color:#FF6347; font-family:Georgia;\">**Methodology**</span>  \n",
        "\n",
        "### <span style=\"color:#32CD32; font-family:Georgia;\">**Dataset Preparation**</span>  \n",
        "- Utilize the **CIFAR-10 dataset** (60,000 images, 10 classes).  \n",
        "- Introduce **Gaussian noise** to create noisy versions of the images.  \n",
        "- Implement a **custom PyTorch dataset class** to dynamically generate noisy images.  \n",
        "\n",
        "### <span style=\"color:#32CD32; font-family:Georgia;\">**Model Architecture**</span>  \n",
        "- **Generator (G):** A convolutional autoencoder that transforms noisy images into clean images.  \n",
        "- **Discriminator (D):** A convolutional network that classifies images as either **real (clean)** or **fake (denoised)**.  \n",
        "- Uses **Batch Normalization** and **LeakyReLU activations** for stable training.  \n",
        "\n",
        "### <span style=\"color:#32CD32; font-family:Georgia;\">**Training Process**</span>  \n",
        "- **Discriminator Loss:** Binary Cross-Entropy (BCE) for classifying real vs. fake images.  \n",
        "- **Generator Loss:** Combination of GAN loss and L1 loss for better visual fidelity.  \n",
        "- **Optimization:** Adam optimizer with a **learning rate scheduler** for stable convergence.  \n",
        "\n",
        "### <span style=\"color:#32CD32; font-family:Georgia;\">**Evaluation & Visualization**</span>  \n",
        "- Compare **noisy vs. denoised images** using side-by-side visualization.  \n",
        "- Compute **PSNR and SSIM scores** for objective quality assessment.  \n",
        "- Deploy results in **Google Colab, TensorBoard, and Dash for real-time analysis**.  \n",
        "\n",
        "### <span style=\"color:#32CD32; font-family:Georgia;\">**Interactive Dashboard**</span>  \n",
        "- A **Dash web app** allows users to select noisy images and view the denoised outputs dynamically.  \n",
        "- User-friendly **dropdown selection** for batch-wise visualization.  \n",
        "- Clean and **professional UI** for presentation to stakeholders.  \n",
        "\n",
        "## <span style=\"color:#FF6347; font-family:Georgia;\">**Business & Real-World Impact**</span>  \n",
        "- **Enhances image quality** for security cameras, satellite imagery, and medical diagnostics.  \n",
        "- **Facilitates AI-driven restoration** for historical images and low-light photography.  \n",
        "- **Potential application in edge devices** (smartphones, autonomous systems) for **real-time denoising**.  \n",
        "\n",
        "---\n",
        "\n",
        "### <span style=\"color:#1E90FF; font-family:Georgia;\">**Conclusion**</span>  \n",
        "This project showcases the power of **cGANs in real-world image restoration**, providing **an efficient, scalable, and deployable solution** for noisy image enhancement.  "
      ],
      "metadata": {
        "id": "ONpX-Pn5g1BX"
      }
    },
    {
      "cell_type": "markdown",
      "source": [
        "---\n",
        "---"
      ],
      "metadata": {
        "id": "9MZLZE2_gEQT"
      }
    },
    {
      "cell_type": "code",
      "source": [
        "# %% [1. Imports, installations and Setup]"
      ],
      "metadata": {
        "id": "JDQ4A4EiXhtw"
      },
      "execution_count": 2,
      "outputs": []
    },
    {
      "cell_type": "code",
      "source": [
        "pip install dash plotly"
      ],
      "metadata": {
        "colab": {
          "base_uri": "https://localhost:8080/"
        },
        "id": "wlOl6bTtcTQw",
        "outputId": "d67fbe34-98e9-4686-9459-72026740f6d8"
      },
      "execution_count": 3,
      "outputs": [
        {
          "output_type": "stream",
          "name": "stdout",
          "text": [
            "Collecting dash\n",
            "  Downloading dash-3.0.2-py3-none-any.whl.metadata (10 kB)\n",
            "Requirement already satisfied: plotly in /usr/local/lib/python3.11/dist-packages (5.24.1)\n",
            "Collecting Flask<3.1,>=1.0.4 (from dash)\n",
            "  Downloading flask-3.0.3-py3-none-any.whl.metadata (3.2 kB)\n",
            "Collecting Werkzeug<3.1 (from dash)\n",
            "  Downloading werkzeug-3.0.6-py3-none-any.whl.metadata (3.7 kB)\n",
            "Requirement already satisfied: importlib-metadata in /usr/local/lib/python3.11/dist-packages (from dash) (8.6.1)\n",
            "Requirement already satisfied: typing-extensions>=4.1.1 in /usr/local/lib/python3.11/dist-packages (from dash) (4.13.0)\n",
            "Requirement already satisfied: requests in /usr/local/lib/python3.11/dist-packages (from dash) (2.32.3)\n",
            "Collecting retrying (from dash)\n",
            "  Downloading retrying-1.3.4-py3-none-any.whl.metadata (6.9 kB)\n",
            "Requirement already satisfied: nest-asyncio in /usr/local/lib/python3.11/dist-packages (from dash) (1.6.0)\n",
            "Requirement already satisfied: setuptools in /usr/local/lib/python3.11/dist-packages (from dash) (75.2.0)\n",
            "Requirement already satisfied: tenacity>=6.2.0 in /usr/local/lib/python3.11/dist-packages (from plotly) (9.0.0)\n",
            "Requirement already satisfied: packaging in /usr/local/lib/python3.11/dist-packages (from plotly) (24.2)\n",
            "Requirement already satisfied: Jinja2>=3.1.2 in /usr/local/lib/python3.11/dist-packages (from Flask<3.1,>=1.0.4->dash) (3.1.6)\n",
            "Requirement already satisfied: itsdangerous>=2.1.2 in /usr/local/lib/python3.11/dist-packages (from Flask<3.1,>=1.0.4->dash) (2.2.0)\n",
            "Requirement already satisfied: click>=8.1.3 in /usr/local/lib/python3.11/dist-packages (from Flask<3.1,>=1.0.4->dash) (8.1.8)\n",
            "Requirement already satisfied: blinker>=1.6.2 in /usr/local/lib/python3.11/dist-packages (from Flask<3.1,>=1.0.4->dash) (1.9.0)\n",
            "Requirement already satisfied: MarkupSafe>=2.1.1 in /usr/local/lib/python3.11/dist-packages (from Werkzeug<3.1->dash) (3.0.2)\n",
            "Requirement already satisfied: zipp>=3.20 in /usr/local/lib/python3.11/dist-packages (from importlib-metadata->dash) (3.21.0)\n",
            "Requirement already satisfied: charset-normalizer<4,>=2 in /usr/local/lib/python3.11/dist-packages (from requests->dash) (3.4.1)\n",
            "Requirement already satisfied: idna<4,>=2.5 in /usr/local/lib/python3.11/dist-packages (from requests->dash) (3.10)\n",
            "Requirement already satisfied: urllib3<3,>=1.21.1 in /usr/local/lib/python3.11/dist-packages (from requests->dash) (2.3.0)\n",
            "Requirement already satisfied: certifi>=2017.4.17 in /usr/local/lib/python3.11/dist-packages (from requests->dash) (2025.1.31)\n",
            "Requirement already satisfied: six>=1.7.0 in /usr/local/lib/python3.11/dist-packages (from retrying->dash) (1.17.0)\n",
            "Downloading dash-3.0.2-py3-none-any.whl (7.9 MB)\n",
            "\u001b[2K   \u001b[90m━━━━━━━━━━━━━━━━━━━━━━━━━━━━━━━━━━━━━━━━\u001b[0m \u001b[32m7.9/7.9 MB\u001b[0m \u001b[31m59.9 MB/s\u001b[0m eta \u001b[36m0:00:00\u001b[0m\n",
            "\u001b[?25hDownloading flask-3.0.3-py3-none-any.whl (101 kB)\n",
            "\u001b[2K   \u001b[90m━━━━━━━━━━━━━━━━━━━━━━━━━━━━━━━━━━━━━━━━\u001b[0m \u001b[32m101.7/101.7 kB\u001b[0m \u001b[31m10.3 MB/s\u001b[0m eta \u001b[36m0:00:00\u001b[0m\n",
            "\u001b[?25hDownloading werkzeug-3.0.6-py3-none-any.whl (227 kB)\n",
            "\u001b[2K   \u001b[90m━━━━━━━━━━━━━━━━━━━━━━━━━━━━━━━━━━━━━━━━\u001b[0m \u001b[32m228.0/228.0 kB\u001b[0m \u001b[31m16.0 MB/s\u001b[0m eta \u001b[36m0:00:00\u001b[0m\n",
            "\u001b[?25hDownloading retrying-1.3.4-py3-none-any.whl (11 kB)\n",
            "Installing collected packages: Werkzeug, retrying, Flask, dash\n",
            "  Attempting uninstall: Werkzeug\n",
            "    Found existing installation: Werkzeug 3.1.3\n",
            "    Uninstalling Werkzeug-3.1.3:\n",
            "      Successfully uninstalled Werkzeug-3.1.3\n",
            "  Attempting uninstall: Flask\n",
            "    Found existing installation: Flask 3.1.0\n",
            "    Uninstalling Flask-3.1.0:\n",
            "      Successfully uninstalled Flask-3.1.0\n",
            "Successfully installed Flask-3.0.3 Werkzeug-3.0.6 dash-3.0.2 retrying-1.3.4\n"
          ]
        }
      ]
    },
    {
      "cell_type": "code",
      "source": [],
      "metadata": {
        "id": "b6pz2ZhfcTV2"
      },
      "execution_count": 3,
      "outputs": []
    },
    {
      "cell_type": "code",
      "source": [
        "pip install dash-bootstrap-components"
      ],
      "metadata": {
        "colab": {
          "base_uri": "https://localhost:8080/"
        },
        "id": "bMFpHM5OcTax",
        "outputId": "eda95368-f682-4105-fdfe-2a89abb8eacf"
      },
      "execution_count": 4,
      "outputs": [
        {
          "output_type": "stream",
          "name": "stdout",
          "text": [
            "Collecting dash-bootstrap-components\n",
            "  Downloading dash_bootstrap_components-2.0.0-py3-none-any.whl.metadata (18 kB)\n",
            "Requirement already satisfied: dash>=3.0.0 in /usr/local/lib/python3.11/dist-packages (from dash-bootstrap-components) (3.0.2)\n",
            "Requirement already satisfied: Flask<3.1,>=1.0.4 in /usr/local/lib/python3.11/dist-packages (from dash>=3.0.0->dash-bootstrap-components) (3.0.3)\n",
            "Requirement already satisfied: Werkzeug<3.1 in /usr/local/lib/python3.11/dist-packages (from dash>=3.0.0->dash-bootstrap-components) (3.0.6)\n",
            "Requirement already satisfied: plotly>=5.0.0 in /usr/local/lib/python3.11/dist-packages (from dash>=3.0.0->dash-bootstrap-components) (5.24.1)\n",
            "Requirement already satisfied: importlib-metadata in /usr/local/lib/python3.11/dist-packages (from dash>=3.0.0->dash-bootstrap-components) (8.6.1)\n",
            "Requirement already satisfied: typing-extensions>=4.1.1 in /usr/local/lib/python3.11/dist-packages (from dash>=3.0.0->dash-bootstrap-components) (4.13.0)\n",
            "Requirement already satisfied: requests in /usr/local/lib/python3.11/dist-packages (from dash>=3.0.0->dash-bootstrap-components) (2.32.3)\n",
            "Requirement already satisfied: retrying in /usr/local/lib/python3.11/dist-packages (from dash>=3.0.0->dash-bootstrap-components) (1.3.4)\n",
            "Requirement already satisfied: nest-asyncio in /usr/local/lib/python3.11/dist-packages (from dash>=3.0.0->dash-bootstrap-components) (1.6.0)\n",
            "Requirement already satisfied: setuptools in /usr/local/lib/python3.11/dist-packages (from dash>=3.0.0->dash-bootstrap-components) (75.2.0)\n",
            "Requirement already satisfied: Jinja2>=3.1.2 in /usr/local/lib/python3.11/dist-packages (from Flask<3.1,>=1.0.4->dash>=3.0.0->dash-bootstrap-components) (3.1.6)\n",
            "Requirement already satisfied: itsdangerous>=2.1.2 in /usr/local/lib/python3.11/dist-packages (from Flask<3.1,>=1.0.4->dash>=3.0.0->dash-bootstrap-components) (2.2.0)\n",
            "Requirement already satisfied: click>=8.1.3 in /usr/local/lib/python3.11/dist-packages (from Flask<3.1,>=1.0.4->dash>=3.0.0->dash-bootstrap-components) (8.1.8)\n",
            "Requirement already satisfied: blinker>=1.6.2 in /usr/local/lib/python3.11/dist-packages (from Flask<3.1,>=1.0.4->dash>=3.0.0->dash-bootstrap-components) (1.9.0)\n",
            "Requirement already satisfied: tenacity>=6.2.0 in /usr/local/lib/python3.11/dist-packages (from plotly>=5.0.0->dash>=3.0.0->dash-bootstrap-components) (9.0.0)\n",
            "Requirement already satisfied: packaging in /usr/local/lib/python3.11/dist-packages (from plotly>=5.0.0->dash>=3.0.0->dash-bootstrap-components) (24.2)\n",
            "Requirement already satisfied: MarkupSafe>=2.1.1 in /usr/local/lib/python3.11/dist-packages (from Werkzeug<3.1->dash>=3.0.0->dash-bootstrap-components) (3.0.2)\n",
            "Requirement already satisfied: zipp>=3.20 in /usr/local/lib/python3.11/dist-packages (from importlib-metadata->dash>=3.0.0->dash-bootstrap-components) (3.21.0)\n",
            "Requirement already satisfied: charset-normalizer<4,>=2 in /usr/local/lib/python3.11/dist-packages (from requests->dash>=3.0.0->dash-bootstrap-components) (3.4.1)\n",
            "Requirement already satisfied: idna<4,>=2.5 in /usr/local/lib/python3.11/dist-packages (from requests->dash>=3.0.0->dash-bootstrap-components) (3.10)\n",
            "Requirement already satisfied: urllib3<3,>=1.21.1 in /usr/local/lib/python3.11/dist-packages (from requests->dash>=3.0.0->dash-bootstrap-components) (2.3.0)\n",
            "Requirement already satisfied: certifi>=2017.4.17 in /usr/local/lib/python3.11/dist-packages (from requests->dash>=3.0.0->dash-bootstrap-components) (2025.1.31)\n",
            "Requirement already satisfied: six>=1.7.0 in /usr/local/lib/python3.11/dist-packages (from retrying->dash>=3.0.0->dash-bootstrap-components) (1.17.0)\n",
            "Downloading dash_bootstrap_components-2.0.0-py3-none-any.whl (202 kB)\n",
            "\u001b[2K   \u001b[90m━━━━━━━━━━━━━━━━━━━━━━━━━━━━━━━━━━━━━━━━\u001b[0m \u001b[32m202.4/202.4 kB\u001b[0m \u001b[31m7.5 MB/s\u001b[0m eta \u001b[36m0:00:00\u001b[0m\n",
            "\u001b[?25hInstalling collected packages: dash-bootstrap-components\n",
            "Successfully installed dash-bootstrap-components-2.0.0\n"
          ]
        }
      ]
    },
    {
      "cell_type": "code",
      "source": [],
      "metadata": {
        "id": "lZ9KB_XzcTfs"
      },
      "execution_count": 4,
      "outputs": []
    },
    {
      "cell_type": "code",
      "source": [],
      "metadata": {
        "id": "aGlfoxkbcTlB"
      },
      "execution_count": 4,
      "outputs": []
    },
    {
      "cell_type": "code",
      "source": [
        "import warnings"
      ],
      "metadata": {
        "id": "qKCNWM8MdDIE"
      },
      "execution_count": 5,
      "outputs": []
    },
    {
      "cell_type": "code",
      "source": [
        "warnings.filterwarnings(\"ignore\")"
      ],
      "metadata": {
        "id": "LmGCrmB8dQgA"
      },
      "execution_count": 6,
      "outputs": []
    },
    {
      "cell_type": "code",
      "source": [],
      "metadata": {
        "id": "GIO20TdwdDYk"
      },
      "execution_count": 6,
      "outputs": []
    },
    {
      "cell_type": "code",
      "source": [
        "import torch"
      ],
      "metadata": {
        "id": "i6QZg6luXhwu"
      },
      "execution_count": 7,
      "outputs": []
    },
    {
      "cell_type": "code",
      "source": [
        "import torch.nn as nn"
      ],
      "metadata": {
        "id": "DGopyZy3Xhz4"
      },
      "execution_count": 8,
      "outputs": []
    },
    {
      "cell_type": "code",
      "source": [
        "import torch.optim as optim"
      ],
      "metadata": {
        "id": "PiL3qVOcXh3P"
      },
      "execution_count": 9,
      "outputs": []
    },
    {
      "cell_type": "code",
      "source": [
        "from torchvision import datasets, transforms"
      ],
      "metadata": {
        "id": "PWkWNZfNYhjv"
      },
      "execution_count": 10,
      "outputs": []
    },
    {
      "cell_type": "code",
      "source": [
        "from torch.utils.data import Dataset, DataLoader"
      ],
      "metadata": {
        "id": "Jd41RmyRYhnO"
      },
      "execution_count": 11,
      "outputs": []
    },
    {
      "cell_type": "code",
      "source": [
        "from torch.utils.data import DataLoader, Dataset"
      ],
      "metadata": {
        "id": "KJGkuu0Ac5hS"
      },
      "execution_count": 12,
      "outputs": []
    },
    {
      "cell_type": "code",
      "source": [
        "import matplotlib.pyplot as plt"
      ],
      "metadata": {
        "id": "_bXbuJNgYhqy"
      },
      "execution_count": 13,
      "outputs": []
    },
    {
      "cell_type": "code",
      "source": [
        "import numpy as np"
      ],
      "metadata": {
        "id": "H6RUsYUFYht9"
      },
      "execution_count": 14,
      "outputs": []
    },
    {
      "cell_type": "code",
      "source": [
        "import dash"
      ],
      "metadata": {
        "id": "F6qBdnvpdVY2"
      },
      "execution_count": 15,
      "outputs": []
    },
    {
      "cell_type": "code",
      "source": [
        "from dash import dcc, html"
      ],
      "metadata": {
        "id": "W-JjD3f9dVdm"
      },
      "execution_count": 16,
      "outputs": []
    },
    {
      "cell_type": "code",
      "source": [
        "import dash_bootstrap_components as dbc"
      ],
      "metadata": {
        "id": "wcVUAGyWdZMt"
      },
      "execution_count": 17,
      "outputs": []
    },
    {
      "cell_type": "code",
      "source": [
        "from dash.dependencies import Input, Output"
      ],
      "metadata": {
        "id": "-ytCsoYZdZSC"
      },
      "execution_count": 18,
      "outputs": []
    },
    {
      "cell_type": "code",
      "source": [
        "import base64"
      ],
      "metadata": {
        "id": "5ZlSw2EgdZXW"
      },
      "execution_count": 19,
      "outputs": []
    },
    {
      "cell_type": "code",
      "source": [
        "from io import BytesIO"
      ],
      "metadata": {
        "id": "c4-gwAlndZcl"
      },
      "execution_count": 20,
      "outputs": []
    },
    {
      "cell_type": "code",
      "source": [
        "from PIL import Image"
      ],
      "metadata": {
        "id": "k8D10OBCdViJ"
      },
      "execution_count": 21,
      "outputs": []
    },
    {
      "cell_type": "code",
      "source": [],
      "metadata": {
        "id": "ldhjmZNFdVms"
      },
      "execution_count": 21,
      "outputs": []
    },
    {
      "cell_type": "code",
      "source": [],
      "metadata": {
        "id": "M4YjUgrTYh4r"
      },
      "execution_count": 21,
      "outputs": []
    },
    {
      "cell_type": "code",
      "source": [
        "# Set random seed for reproducibility"
      ],
      "metadata": {
        "id": "4o4SvBVtYuC0"
      },
      "execution_count": 22,
      "outputs": []
    },
    {
      "cell_type": "code",
      "source": [
        "torch.manual_seed(42)"
      ],
      "metadata": {
        "colab": {
          "base_uri": "https://localhost:8080/"
        },
        "id": "8tqElXZ8YuGA",
        "outputId": "b8caedc7-bb1c-4273-dced-da4d36829f8c"
      },
      "execution_count": 23,
      "outputs": [
        {
          "output_type": "execute_result",
          "data": {
            "text/plain": [
              "<torch._C.Generator at 0x7f81947dee30>"
            ]
          },
          "metadata": {},
          "execution_count": 23
        }
      ]
    },
    {
      "cell_type": "code",
      "source": [],
      "metadata": {
        "id": "nFBOiWz5YuJM"
      },
      "execution_count": 23,
      "outputs": []
    },
    {
      "cell_type": "code",
      "source": [],
      "metadata": {
        "id": "ccJskU8nYuMo"
      },
      "execution_count": 23,
      "outputs": []
    },
    {
      "cell_type": "code",
      "source": [],
      "metadata": {
        "id": "-IjKYxyFY0bd"
      },
      "execution_count": 23,
      "outputs": []
    },
    {
      "cell_type": "markdown",
      "source": [
        "---\n",
        "---"
      ],
      "metadata": {
        "id": "nGimQnTkhue4"
      }
    },
    {
      "cell_type": "markdown",
      "source": [
        "## <span style=\"color:#FF6347; font-family:Georgia;\">**Dataset Preparation**</span>  \n",
        "\n",
        "- **Objective:** Prepare the CIFAR-10 dataset with added Gaussian noise to simulate noisy images.  \n",
        "- **Details:**\n",
        "  - CIFAR-10 dataset consists of 60,000 images across 10 classes (e.g., airplane, dog, car, etc.). Each image is 32x32 pixels in size.\n",
        "  - Introduce <span style=\"color:#00FF00;\">**Gaussian noise**</span> to each image to simulate real-world noise in images (e.g., from sensors or transmission).\n",
        "  - Split the dataset into training and testing sets for evaluation after training the model.\n",
        "  - Implement a custom <span style=\"color:#0000FF;\">**PyTorch Dataset class**</span> to load and preprocess noisy images during training.  \n",
        "\n",
        "**Key Note:**  \n",
        "- You can use <span style=\"color:#0000FF;\">`torchvision.datasets.CIFAR10`</span> to download the CIFAR-10 dataset and create noisy versions using PyTorch’s random noise generation functions."
      ],
      "metadata": {
        "id": "xLISwTdNhq8D"
      }
    },
    {
      "cell_type": "code",
      "source": [
        "# %% [2. Create Noisy Dataset]"
      ],
      "metadata": {
        "id": "G1vAFTQ4YuPg"
      },
      "execution_count": 24,
      "outputs": []
    },
    {
      "cell_type": "code",
      "source": [
        "class NoisyCIFAR(Dataset):\n",
        "    def __init__(self, clean_dataset, noise_factor=0.3):\n",
        "        self.clean_data = clean_dataset\n",
        "        self.noise_factor = noise_factor\n",
        "\n",
        "    def __len__(self):\n",
        "        return len(self.clean_data)\n",
        "\n",
        "    def __getitem__(self, idx):\n",
        "        clean_img, _ = self.clean_data[idx]\n",
        "        noisy_img = clean_img + self.noise_factor * torch.randn_like(clean_img)\n",
        "        noisy_img = torch.clamp(noisy_img, -1., 1.)\n",
        "        return noisy_img, clean_img\n"
      ],
      "metadata": {
        "id": "TYWPe_AwYuSZ"
      },
      "execution_count": 25,
      "outputs": []
    },
    {
      "cell_type": "code",
      "source": [],
      "metadata": {
        "id": "4-1mFWA4Y1Qx"
      },
      "execution_count": 25,
      "outputs": []
    },
    {
      "cell_type": "code",
      "source": [],
      "metadata": {
        "id": "1zaA6YDEY1Uu"
      },
      "execution_count": 25,
      "outputs": []
    },
    {
      "cell_type": "code",
      "source": [
        "# Load CIFAR-10 data"
      ],
      "metadata": {
        "id": "tODJIPWKY1Ya"
      },
      "execution_count": 26,
      "outputs": []
    },
    {
      "cell_type": "code",
      "source": [
        "transform = transforms.Compose([\n",
        "    transforms.ToTensor(),\n",
        "    transforms.Normalize((0.5, 0.5, 0.5), (0.5, 0.5, 0.5))\n",
        "])"
      ],
      "metadata": {
        "id": "BwuBnOZUY1cN"
      },
      "execution_count": 27,
      "outputs": []
    },
    {
      "cell_type": "code",
      "source": [
        "train_data = datasets.CIFAR10(root='./data', train=True, download=True, transform=transform)\n"
      ],
      "metadata": {
        "id": "YKrOpKCYY1fm"
      },
      "execution_count": 28,
      "outputs": []
    },
    {
      "cell_type": "code",
      "source": [
        "noisy_dataset = NoisyCIFAR(train_data)"
      ],
      "metadata": {
        "id": "WSRHWNbsY1je"
      },
      "execution_count": 29,
      "outputs": []
    },
    {
      "cell_type": "code",
      "source": [
        "dataloader = DataLoader(noisy_dataset, batch_size=64, shuffle=True)"
      ],
      "metadata": {
        "id": "OaXG866bYuVk"
      },
      "execution_count": 30,
      "outputs": []
    },
    {
      "cell_type": "markdown",
      "source": [
        "---\n",
        "---"
      ],
      "metadata": {
        "id": "FGy3T6Cgh5g1"
      }
    },
    {
      "cell_type": "code",
      "source": [],
      "metadata": {
        "id": "JPuMsdRtXbQ1"
      },
      "execution_count": 30,
      "outputs": []
    },
    {
      "cell_type": "code",
      "source": [],
      "metadata": {
        "id": "VAq8eMQ5XbUO"
      },
      "execution_count": 30,
      "outputs": []
    },
    {
      "cell_type": "code",
      "source": [],
      "metadata": {
        "id": "tnZ04b2dXbWp"
      },
      "execution_count": 30,
      "outputs": []
    },
    {
      "cell_type": "markdown",
      "source": [
        "---\n",
        "---"
      ],
      "metadata": {
        "id": "Qi_evmuah7n5"
      }
    },
    {
      "cell_type": "markdown",
      "source": [
        "## <span style=\"color:#FF6347; font-family:Georgia;\">**Model Architecture - Generator**</span>  \n",
        "\n",
        "- **Objective:** Design the <span style=\"color:#00FF00;\">**Generator (G)**</span> of the cGAN, which takes noisy images as input and generates denoised images.  \n",
        "- **Details:**\n",
        "  - The generator will be built using a <span style=\"color:#0000FF;\">**Convolutional Autoencoder**</span> architecture, which is effective in denoising tasks.\n",
        "  - Use <span style=\"color:#FF6347;\">**convolutional layers**</span> for feature extraction, followed by <span style=\"color:#FF6347;\">**deconvolutional (transposed convolution)**</span> layers to generate the output image.\n",
        "  - Implement **Batch Normalization** to stabilize training and improve the model’s convergence.\n",
        "  - Use <span style=\"color:#0000FF;\">**LeakyReLU**</span> activation functions to avoid dead neurons and to allow for better training dynamics.\n",
        "\n",
        "**Key Note:**  \n",
        "- The generator will transform noisy images into clean, high-quality images by learning to map the noisy version back to its original, clean version."
      ],
      "metadata": {
        "id": "VvHOSIz9h89_"
      }
    },
    {
      "cell_type": "code",
      "source": [
        "# %% [3. Define the cGAN Models]"
      ],
      "metadata": {
        "id": "gFrb3EmJXbZh"
      },
      "execution_count": 31,
      "outputs": []
    },
    {
      "cell_type": "code",
      "source": [
        "class Generator(nn.Module):\n",
        "    def __init__(self):\n",
        "        super().__init__()\n",
        "        self.encoder = nn.Sequential(\n",
        "            nn.Conv2d(3, 64, 4, 2, 1),  # 32x32 -> 16x16\n",
        "            nn.LeakyReLU(0.2),\n",
        "            nn.Conv2d(64, 128, 4, 2, 1),  # 16x16 -> 8x8\n",
        "            nn.BatchNorm2d(128),\n",
        "            nn.LeakyReLU(0.2),\n",
        "        )\n",
        "        self.decoder = nn.Sequential(\n",
        "            nn.ConvTranspose2d(128, 64, 4, 2, 1),  # 8x8 -> 16x16\n",
        "            nn.BatchNorm2d(64),\n",
        "            nn.ReLU(),\n",
        "            nn.ConvTranspose2d(64, 3, 4, 2, 1),  # 16x16 -> 32x32\n",
        "            nn.Tanh()\n",
        "        )\n",
        "\n",
        "    def forward(self, x):\n",
        "        x = self.encoder(x)\n",
        "        return self.decoder(x)"
      ],
      "metadata": {
        "id": "0ZEYE_iQXbcI"
      },
      "execution_count": 32,
      "outputs": []
    },
    {
      "cell_type": "code",
      "source": [],
      "metadata": {
        "id": "paGB9W29Xbes"
      },
      "execution_count": 32,
      "outputs": []
    },
    {
      "cell_type": "code",
      "source": [],
      "metadata": {
        "id": "el3J4FUniHT2"
      },
      "execution_count": null,
      "outputs": []
    },
    {
      "cell_type": "code",
      "source": [],
      "metadata": {
        "id": "OYMgGe5AiHmY"
      },
      "execution_count": null,
      "outputs": []
    },
    {
      "cell_type": "markdown",
      "source": [
        "## <span style=\"color:#FF6347; font-family:Georgia;\">**Model Architecture - Discriminator**</span>  \n",
        "\n",
        "- **Objective:** Design the <span style=\"color:#00FF00;\">**Discriminator (D)**</span> of the cGAN, which distinguishes between real (clean) images and generated (denoised) images.  \n",
        "- **Details:**\n",
        "  - The discriminator will be a <span style=\"color:#0000FF;\">**Convolutional Neural Network (CNN)**</span>, consisting of convolutional layers for feature extraction.\n",
        "  - Use <span style=\"color:#0000FF;\">**Sigmoid activation**</span> at the output layer for binary classification (real or fake).\n",
        "  - The discriminator is trained to improve its ability to detect fake images generated by the generator.\n",
        "\n",
        "**Key Note:**  \n",
        "- The discriminator and generator work in a <span style=\"color:#00FF00;\">**competitive manner**</span>, with the generator trying to fool the discriminator by generating high-quality denoised images."
      ],
      "metadata": {
        "id": "HeSi7vmQiH5K"
      }
    },
    {
      "cell_type": "code",
      "source": [
        "class Discriminator(nn.Module):\n",
        "    def __init__(self):\n",
        "        super().__init__()\n",
        "        self.main = nn.Sequential(\n",
        "            nn.Conv2d(3, 64, 4, 2, 1),\n",
        "            nn.LeakyReLU(0.2),\n",
        "            nn.Conv2d(64, 128, 4, 2, 1),\n",
        "            nn.BatchNorm2d(128),\n",
        "            nn.LeakyReLU(0.2),\n",
        "            nn.Conv2d(128, 1, 4, 1, 0),\n",
        "            nn.Sigmoid()\n",
        "        )\n",
        "\n",
        "    def forward(self, x):\n",
        "        return self.main(x).view(-1)\n"
      ],
      "metadata": {
        "id": "kvqQrfRFXbie"
      },
      "execution_count": 33,
      "outputs": []
    },
    {
      "cell_type": "markdown",
      "source": [
        "---\n",
        "---"
      ],
      "metadata": {
        "id": "twt4YmjPiYrx"
      }
    },
    {
      "cell_type": "code",
      "source": [],
      "metadata": {
        "id": "uqGez8PgXblD"
      },
      "execution_count": 33,
      "outputs": []
    },
    {
      "cell_type": "code",
      "source": [],
      "metadata": {
        "id": "A0tSzd_SXboE"
      },
      "execution_count": 33,
      "outputs": []
    },
    {
      "cell_type": "code",
      "source": [],
      "metadata": {
        "id": "aJrGka0DXbuJ"
      },
      "execution_count": 33,
      "outputs": []
    },
    {
      "cell_type": "markdown",
      "source": [
        "---\n",
        "---"
      ],
      "metadata": {
        "id": "NZgOveX_icJr"
      }
    },
    {
      "cell_type": "markdown",
      "source": [
        "## <span style=\"color:#FF6347; font-family:Georgia;\">**Loss Functions**</span>  \n",
        "\n",
        "- **Objective:** Define the loss functions to train the <span style=\"color:#00FF00;\">**Generator (G)**</span> and <span style=\"color:#00FF00;\">**Discriminator (D)**</span>.  \n",
        "- **Details:**\n",
        "  - <span style=\"color:#FF6347;\">**Discriminator Loss:**</span> The **binary cross-entropy (BCE)** loss is used to classify real images as 1 (real) and fake images as 0 (fake).\n",
        "  - <span style=\"color:#FF6347;\">**Generator Loss:**</span> The generator’s goal is to minimize the **adversarial loss** (BCE loss) to fool the discriminator, along with an <span style=\"color:#0000FF;\">**L1 loss**</span> to ensure the generated images are close to the target clean images.\n",
        "  - <span style=\"color:#FF6347;\">**Total Loss:**</span> The total loss function for the generator combines these two losses to guide the model during training.\n",
        "\n",
        "**Key Note:**  \n",
        "- The <span style=\"color:#00FF00;\">**L1 loss**</span> (mean absolute error) helps to minimize pixel-wise differences between the generated and real images, ensuring high-quality outputs."
      ],
      "metadata": {
        "id": "lVASayZ1idP1"
      }
    },
    {
      "cell_type": "code",
      "source": [
        "# %% [4. Initialize Models and Optimizers]"
      ],
      "metadata": {
        "id": "8T2othg4Xbw5"
      },
      "execution_count": 34,
      "outputs": []
    },
    {
      "cell_type": "code",
      "source": [
        "device = torch.device(\"cuda\" if torch.cuda.is_available() else \"cpu\")"
      ],
      "metadata": {
        "id": "VLzrj67MXb0h"
      },
      "execution_count": 35,
      "outputs": []
    },
    {
      "cell_type": "code",
      "source": [],
      "metadata": {
        "id": "EG6_0ADVXb3s"
      },
      "execution_count": 35,
      "outputs": []
    },
    {
      "cell_type": "code",
      "source": [
        "G = Generator().to(device)"
      ],
      "metadata": {
        "id": "wi9noezhXb6O"
      },
      "execution_count": 36,
      "outputs": []
    },
    {
      "cell_type": "code",
      "source": [
        "D = Discriminator().to(device)"
      ],
      "metadata": {
        "id": "GylVj3kRXb9v"
      },
      "execution_count": 37,
      "outputs": []
    },
    {
      "cell_type": "code",
      "source": [],
      "metadata": {
        "id": "eDlYm073XcA8"
      },
      "execution_count": 37,
      "outputs": []
    },
    {
      "cell_type": "code",
      "source": [
        "# Hyperparameters"
      ],
      "metadata": {
        "id": "LDvo2evfXcDR"
      },
      "execution_count": 38,
      "outputs": []
    },
    {
      "cell_type": "code",
      "source": [
        "L1_LAMBDA = 100  # Weight for L1 loss"
      ],
      "metadata": {
        "id": "9jqffUnCXdhA"
      },
      "execution_count": 39,
      "outputs": []
    },
    {
      "cell_type": "code",
      "source": [
        "NUM_EPOCHS = 5"
      ],
      "metadata": {
        "id": "9OwZemaZXdjy"
      },
      "execution_count": 40,
      "outputs": []
    },
    {
      "cell_type": "code",
      "source": [
        "LR = 0.0002"
      ],
      "metadata": {
        "id": "nNxyLfgMZmJb"
      },
      "execution_count": 41,
      "outputs": []
    },
    {
      "cell_type": "code",
      "source": [
        "BETAS = (0.5, 0.999)  # Adam parameters"
      ],
      "metadata": {
        "id": "gOM24TtrZmNN"
      },
      "execution_count": 42,
      "outputs": []
    },
    {
      "cell_type": "code",
      "source": [],
      "metadata": {
        "id": "ef94Pb43ZmQy"
      },
      "execution_count": 42,
      "outputs": []
    },
    {
      "cell_type": "code",
      "source": [
        "optim_G = optim.Adam(G.parameters(), lr=LR, betas=BETAS)"
      ],
      "metadata": {
        "id": "MDJehXkYZmU8"
      },
      "execution_count": 43,
      "outputs": []
    },
    {
      "cell_type": "code",
      "source": [
        "optim_D = optim.Adam(D.parameters(), lr=LR, betas=BETAS)"
      ],
      "metadata": {
        "id": "YgxoUCXjZmYl"
      },
      "execution_count": 44,
      "outputs": []
    },
    {
      "cell_type": "code",
      "source": [],
      "metadata": {
        "id": "o1qoi8rVZmcR"
      },
      "execution_count": 44,
      "outputs": []
    },
    {
      "cell_type": "code",
      "source": [
        "criterion = nn.BCELoss()"
      ],
      "metadata": {
        "id": "Icpz2gZOZmiy"
      },
      "execution_count": 45,
      "outputs": []
    },
    {
      "cell_type": "code",
      "source": [
        "L1_loss = nn.L1Loss()"
      ],
      "metadata": {
        "id": "VU3mQ-_TZmmh"
      },
      "execution_count": 46,
      "outputs": []
    },
    {
      "cell_type": "markdown",
      "source": [
        "---\n",
        "---"
      ],
      "metadata": {
        "id": "u3miUi1pi2Vr"
      }
    },
    {
      "cell_type": "code",
      "source": [],
      "metadata": {
        "id": "bMYsjZJHXdms"
      },
      "execution_count": 46,
      "outputs": []
    },
    {
      "cell_type": "code",
      "source": [],
      "metadata": {
        "id": "lW9bs1_KXdpd"
      },
      "execution_count": 46,
      "outputs": []
    },
    {
      "cell_type": "code",
      "source": [],
      "metadata": {
        "id": "Fz3qpC14i4UV"
      },
      "execution_count": null,
      "outputs": []
    },
    {
      "cell_type": "markdown",
      "source": [
        "---\n",
        "---"
      ],
      "metadata": {
        "id": "lJfcgBvPi4kS"
      }
    },
    {
      "cell_type": "markdown",
      "source": [
        "## <span style=\"color:#FF6347; font-family:Georgia;\">**Training Process**</span>  \n",
        "\n",
        "- **Objective:** Train the cGAN model using a combination of generator and discriminator losses.  \n",
        "- **Details:**\n",
        "  - Use the <span style=\"color:#0000FF;\">**Adam optimizer**</span> for both the generator and discriminator, as it is well-suited for GAN training.\n",
        "  - <span style=\"color:#00FF00;\">**Learning Rate Scheduler:**</span> Implement a learning rate scheduler to adjust the learning rate dynamically during training to improve convergence.\n",
        "  - **Training Procedure:** Alternately train the generator and discriminator in each step:\n",
        "    1. Update discriminator by training on both real and fake images.\n",
        "    2. Update generator by minimizing the adversarial loss and L1 loss.\n",
        "\n",
        "**Key Note:**  \n",
        "- Ensure that the generator is not updated too quickly compared to the discriminator. A typical GAN training process involves balancing the updates to both components to avoid one overpowering the other."
      ],
      "metadata": {
        "id": "FLLYM-gZi5_W"
      }
    },
    {
      "cell_type": "code",
      "source": [
        "# Learning rate schedulers"
      ],
      "metadata": {
        "id": "jD5ihmjZXdzl"
      },
      "execution_count": 47,
      "outputs": []
    },
    {
      "cell_type": "code",
      "source": [
        "scheduler_G = optim.lr_scheduler.ExponentialLR(optim_G, gamma=0.95)"
      ],
      "metadata": {
        "id": "mu3jFaCKXd2t"
      },
      "execution_count": 48,
      "outputs": []
    },
    {
      "cell_type": "code",
      "source": [
        "scheduler_D = optim.lr_scheduler.ExponentialLR(optim_D, gamma=0.95)"
      ],
      "metadata": {
        "id": "wAslJp-WXd5n"
      },
      "execution_count": 49,
      "outputs": []
    },
    {
      "cell_type": "code",
      "source": [],
      "metadata": {
        "id": "xO-l2eX9XeBH"
      },
      "execution_count": 49,
      "outputs": []
    },
    {
      "cell_type": "code",
      "source": [],
      "metadata": {
        "id": "cQ-obw50XeEp"
      },
      "execution_count": 49,
      "outputs": []
    },
    {
      "cell_type": "code",
      "source": [
        "# %% [5. Training Loop with Visualization]"
      ],
      "metadata": {
        "id": "6luEEK21XeHe"
      },
      "execution_count": 50,
      "outputs": []
    },
    {
      "cell_type": "code",
      "source": [
        "def imshow(img, title=None):\n",
        "    img = img / 2 + 0.5  # Unnormalize\n",
        "    plt.imshow(np.transpose(img.numpy(), (1, 2, 0)))\n",
        "    if title:\n",
        "        plt.title(title)\n",
        "    plt.axis('off')\n",
        "\n",
        "for epoch in range(NUM_EPOCHS):\n",
        "    for i, (noisy, clean) in enumerate(dataloader):\n",
        "        noisy, clean = noisy.to(device), clean.to(device)\n",
        "\n",
        "        # Train Discriminator\n",
        "        D.zero_grad()\n",
        "\n",
        "        # Real images\n",
        "        real_output = D(clean)\n",
        "        d_loss_real = criterion(real_output, torch.ones_like(real_output))\n",
        "\n",
        "        # Fake images\n",
        "        fake_images = G(noisy).detach()\n",
        "        fake_output = D(fake_images)\n",
        "        d_loss_fake = criterion(fake_output, torch.zeros_like(fake_output))\n",
        "\n",
        "        d_loss = (d_loss_real + d_loss_fake) * 0.5\n",
        "        d_loss.backward()\n",
        "        optim_D.step()\n",
        "\n",
        "        # Train Generator (every 2 batches)\n",
        "        if i % 2 == 0:\n",
        "            G.zero_grad()\n",
        "            fake_images = G(noisy)\n",
        "            fake_output = D(fake_images)\n",
        "\n",
        "            g_loss_gan = criterion(fake_output, torch.ones_like(fake_output))\n",
        "            g_loss_l1 = L1_loss(fake_images, clean) * L1_LAMBDA\n",
        "            g_loss = g_loss_gan + g_loss_l1\n",
        "\n",
        "            g_loss.backward()\n",
        "            optim_G.step()\n",
        "\n",
        "    # Update learning rates\n",
        "    scheduler_G.step()\n",
        "    scheduler_D.step()\n",
        "\n",
        "    # Print training progress\n",
        "    print(f\"Epoch {epoch+1}/{NUM_EPOCHS} | \"\n",
        "          f\"D Loss: {d_loss.item():.4f} | \"\n",
        "          f\"G Loss: {g_loss.item():.4f} | \"\n",
        "          f\"G_L1: {g_loss_l1.item():.4f} | \"\n",
        "          f\"LR: {optim_G.param_groups[0]['lr']:.2e}\")\n",
        "\n",
        "    # Show progress every 5 epochs\n",
        "    if (epoch+1) % 5 == 0 or epoch == 0:\n",
        "        with torch.no_grad():\n",
        "            test_samples = next(iter(dataloader))\n",
        "            noisy_samples = test_samples[0][:5].to(device)\n",
        "            denoised = G(noisy_samples).cpu()\n",
        "            clean_samples = test_samples[1][:5].cpu()\n",
        "\n",
        "            plt.figure(figsize=(15, 5))\n",
        "            for j in range(5):\n",
        "                plt.subplot(3, 5, j+1)\n",
        "                imshow(noisy_samples[j].cpu(), \"Noisy\")\n",
        "\n",
        "                plt.subplot(3, 5, j+6)\n",
        "                imshow(denoised[j], \"Denoised\")\n",
        "\n",
        "                plt.subplot(3, 5, j+11)\n",
        "                imshow(clean_samples[j], \"Clean\")\n",
        "\n",
        "            plt.tight_layout()\n",
        "            plt.show()\n"
      ],
      "metadata": {
        "colab": {
          "base_uri": "https://localhost:8080/",
          "height": 858
        },
        "id": "5IFUURg2XeKM",
        "outputId": "35776d05-b2df-4f4c-adaa-63423f598acc"
      },
      "execution_count": 51,
      "outputs": [
        {
          "output_type": "stream",
          "name": "stdout",
          "text": [
            "Epoch 1/5 | D Loss: 0.1044 | G Loss: 14.6918 | G_L1: 11.2888 | LR: 1.90e-04\n"
          ]
        },
        {
          "output_type": "display_data",
          "data": {
            "text/plain": [
              "<Figure size 1500x500 with 15 Axes>"
            ],
            "image/png": "[encoded data removed]"
          },
          "metadata": {}
        },
        {
          "output_type": "stream",
          "name": "stdout",
          "text": [
            "Epoch 2/5 | D Loss: 0.1198 | G Loss: 17.3711 | G_L1: 12.5388 | LR: 1.80e-04\n",
            "Epoch 3/5 | D Loss: 0.0389 | G Loss: 14.4903 | G_L1: 10.5297 | LR: 1.71e-04\n",
            "Epoch 4/5 | D Loss: 0.0402 | G Loss: 14.5609 | G_L1: 10.9101 | LR: 1.63e-04\n",
            "Epoch 5/5 | D Loss: 0.0765 | G Loss: 13.4000 | G_L1: 10.7867 | LR: 1.55e-04\n"
          ]
        },
        {
          "output_type": "display_data",
          "data": {
            "text/plain": [
              "<Figure size 1500x500 with 15 Axes>"
            ],
            "image/png": "[encoded data removed]"
          },
          "metadata": {}
        }
      ]
    },
    {
      "cell_type": "markdown",
      "source": [
        "---\n",
        "---"
      ],
      "metadata": {
        "id": "7X4Np_HOjF3_"
      }
    },
    {
      "cell_type": "code",
      "source": [],
      "metadata": {
        "id": "W3qd1k35aTzD"
      },
      "execution_count": 51,
      "outputs": []
    },
    {
      "cell_type": "code",
      "source": [],
      "metadata": {
        "id": "uxxPOvH7aT3A"
      },
      "execution_count": 51,
      "outputs": []
    },
    {
      "cell_type": "code",
      "source": [],
      "metadata": {
        "id": "OO934kG0aT65"
      },
      "execution_count": 51,
      "outputs": []
    },
    {
      "cell_type": "markdown",
      "source": [
        "---\n",
        "---"
      ],
      "metadata": {
        "id": "jHXy1tV_jH_W"
      }
    },
    {
      "cell_type": "markdown",
      "source": [
        "## <span style=\"color:#FF6347; font-family:Georgia;\">**Evaluation Metrics**</span>  \n",
        "\n",
        "- **Objective:** Evaluate the performance of the denoising model.  \n",
        "- **Details:**\n",
        "  - Use <span style=\"color:#0000FF;\">**PSNR (Peak Signal-to-Noise Ratio)**</span> to measure the image quality, where higher values indicate better quality.\n",
        "  - <span style=\"color:#0000FF;\">**SSIM (Structural Similarity Index)**</span> can also be used for evaluating perceptual quality, focusing on structural and luminance similarities between the generated and original images.\n",
        "  - Visualize side-by-side comparisons of <span style=\"color:#FF6347;\">**noisy vs. denoised images**</span> to qualitatively assess the performance.\n",
        "\n",
        "**Key Note:**  \n",
        "- Both <span style=\"color:#00FF00;\">**PSNR**</span> and <span style=\"color:#00FF00;\">**SSIM**</span> are essential metrics for objective quality assessment, especially in image denoising tasks where visual fidelity is key."
      ],
      "metadata": {
        "id": "z87vDLLTjJJa"
      }
    },
    {
      "cell_type": "code",
      "source": [
        "# %% [6. Save the Trained Models]"
      ],
      "metadata": {
        "id": "KoaUL98naT_B"
      },
      "execution_count": 52,
      "outputs": []
    },
    {
      "cell_type": "code",
      "source": [
        "torch.save(G.state_dict(), 'generator.pth')"
      ],
      "metadata": {
        "id": "AjaxAMDkaUCl"
      },
      "execution_count": 53,
      "outputs": []
    },
    {
      "cell_type": "code",
      "source": [
        "torch.save(D.state_dict(), 'discriminator.pth')"
      ],
      "metadata": {
        "id": "tsYQ4utwaUGm"
      },
      "execution_count": 54,
      "outputs": []
    },
    {
      "cell_type": "code",
      "source": [],
      "metadata": {
        "id": "1xlHSMVkaUMK"
      },
      "execution_count": 54,
      "outputs": []
    },
    {
      "cell_type": "code",
      "source": [],
      "metadata": {
        "id": "JLe3SC59aUPt"
      },
      "execution_count": 54,
      "outputs": []
    },
    {
      "cell_type": "code",
      "source": [],
      "metadata": {
        "id": "MzGd1vIraUTS"
      },
      "execution_count": 54,
      "outputs": []
    },
    {
      "cell_type": "code",
      "source": [
        "# %% [Evaluation of the Model]"
      ],
      "metadata": {
        "id": "wX5O_wpPaUW-"
      },
      "execution_count": 55,
      "outputs": []
    },
    {
      "cell_type": "code",
      "source": [
        "# Load trained generator"
      ],
      "metadata": {
        "id": "AX0GHQaUadoz"
      },
      "execution_count": 56,
      "outputs": []
    },
    {
      "cell_type": "code",
      "source": [
        "G = Generator()"
      ],
      "metadata": {
        "id": "MBH55nsgadul"
      },
      "execution_count": 57,
      "outputs": []
    },
    {
      "cell_type": "code",
      "source": [
        "G.load_state_dict(torch.load('generator.pth', map_location=torch.device('cpu')))\n"
      ],
      "metadata": {
        "colab": {
          "base_uri": "https://localhost:8080/"
        },
        "id": "0nTJJfAaadyo",
        "outputId": "6c3bcfa5-cc8f-48a1-b3e0-0c90ca15131b"
      },
      "execution_count": 58,
      "outputs": [
        {
          "output_type": "execute_result",
          "data": {
            "text/plain": [
              "<All keys matched successfully>"
            ]
          },
          "metadata": {},
          "execution_count": 58
        }
      ]
    },
    {
      "cell_type": "code",
      "source": [
        "G.eval()"
      ],
      "metadata": {
        "colab": {
          "base_uri": "https://localhost:8080/"
        },
        "id": "CNT_hNgTad2h",
        "outputId": "bd73ca9c-3eae-408b-e0bb-0687759081ff"
      },
      "execution_count": 59,
      "outputs": [
        {
          "output_type": "execute_result",
          "data": {
            "text/plain": [
              "Generator(\n",
              "  (encoder): Sequential(\n",
              "    (0): Conv2d(3, 64, kernel_size=(4, 4), stride=(2, 2), padding=(1, 1))\n",
              "    (1): LeakyReLU(negative_slope=0.2)\n",
              "    (2): Conv2d(64, 128, kernel_size=(4, 4), stride=(2, 2), padding=(1, 1))\n",
              "    (3): BatchNorm2d(128, eps=1e-05, momentum=0.1, affine=True, track_running_stats=True)\n",
              "    (4): LeakyReLU(negative_slope=0.2)\n",
              "  )\n",
              "  (decoder): Sequential(\n",
              "    (0): ConvTranspose2d(128, 64, kernel_size=(4, 4), stride=(2, 2), padding=(1, 1))\n",
              "    (1): BatchNorm2d(64, eps=1e-05, momentum=0.1, affine=True, track_running_stats=True)\n",
              "    (2): ReLU()\n",
              "    (3): ConvTranspose2d(64, 3, kernel_size=(4, 4), stride=(2, 2), padding=(1, 1))\n",
              "    (4): Tanh()\n",
              "  )\n",
              ")"
            ]
          },
          "metadata": {},
          "execution_count": 59
        }
      ]
    },
    {
      "cell_type": "code",
      "source": [],
      "metadata": {
        "id": "bLV79av0ad5-"
      },
      "execution_count": 59,
      "outputs": []
    },
    {
      "cell_type": "code",
      "source": [],
      "metadata": {
        "id": "ChxmqSBNad94"
      },
      "execution_count": 59,
      "outputs": []
    },
    {
      "cell_type": "code",
      "source": [
        "# Define evaluation dataset"
      ],
      "metadata": {
        "id": "C8qqJfSeaeBS"
      },
      "execution_count": 60,
      "outputs": []
    },
    {
      "cell_type": "code",
      "source": [
        "transform = transforms.Compose([\n",
        "    transforms.ToTensor(),\n",
        "    transforms.Normalize((0.5, 0.5, 0.5), (0.5, 0.5, 0.5))\n",
        "])"
      ],
      "metadata": {
        "id": "rCAhZfboaeFN"
      },
      "execution_count": 61,
      "outputs": []
    },
    {
      "cell_type": "code",
      "source": [],
      "metadata": {
        "id": "bt4uqx7TXeMh"
      },
      "execution_count": 61,
      "outputs": []
    },
    {
      "cell_type": "code",
      "source": [
        "test_data = datasets.CIFAR10(root='./data', train=False, download=True, transform=transform)\n"
      ],
      "metadata": {
        "id": "KzbVgemPaunG"
      },
      "execution_count": 62,
      "outputs": []
    },
    {
      "cell_type": "code",
      "source": [
        "noisy_test_dataset = NoisyCIFAR(test_data)"
      ],
      "metadata": {
        "id": "rItl_lk_XeQq"
      },
      "execution_count": 63,
      "outputs": []
    },
    {
      "cell_type": "code",
      "source": [
        "eval_loader = DataLoader(noisy_test_dataset, batch_size=5, shuffle=True)"
      ],
      "metadata": {
        "id": "9kc4nRThXeTZ"
      },
      "execution_count": 64,
      "outputs": []
    },
    {
      "cell_type": "code",
      "source": [],
      "metadata": {
        "id": "eNb4xQi6a3dU"
      },
      "execution_count": 64,
      "outputs": []
    },
    {
      "cell_type": "code",
      "source": [
        "def imshow(img, title=None):\n",
        "    img = img / 2 + 0.5  # Unnormalize\n",
        "    plt.imshow(np.transpose(img.numpy(), (1, 2, 0)))\n",
        "    if title:\n",
        "        plt.title(title)\n",
        "    plt.axis('off')"
      ],
      "metadata": {
        "id": "s8qSFyUIa3gp"
      },
      "execution_count": 65,
      "outputs": []
    },
    {
      "cell_type": "code",
      "source": [],
      "metadata": {
        "id": "SOkiVTbka3mZ"
      },
      "execution_count": 65,
      "outputs": []
    },
    {
      "cell_type": "code",
      "source": [],
      "metadata": {
        "id": "nMJa7HR9a3p3"
      },
      "execution_count": 65,
      "outputs": []
    },
    {
      "cell_type": "code",
      "source": [
        "# Get a batch for evaluation"
      ],
      "metadata": {
        "id": "Zx86Xykta3uG"
      },
      "execution_count": 66,
      "outputs": []
    },
    {
      "cell_type": "code",
      "source": [
        "noisy_samples, clean_samples = next(iter(eval_loader))"
      ],
      "metadata": {
        "id": "r-7wkKNBa3yM"
      },
      "execution_count": 67,
      "outputs": []
    },
    {
      "cell_type": "code",
      "source": [
        "with torch.no_grad():\n",
        "    denoised_samples = G(noisy_samples).cpu()"
      ],
      "metadata": {
        "id": "KUivBKXEa32I"
      },
      "execution_count": 68,
      "outputs": []
    },
    {
      "cell_type": "code",
      "source": [],
      "metadata": {
        "id": "Abh7KXrCbAnB"
      },
      "execution_count": 68,
      "outputs": []
    },
    {
      "cell_type": "code",
      "source": [],
      "metadata": {
        "id": "Dmcn0uokbAqt"
      },
      "execution_count": 68,
      "outputs": []
    },
    {
      "cell_type": "code",
      "source": [
        "# Display results"
      ],
      "metadata": {
        "id": "lovZt2qdbAvk"
      },
      "execution_count": 69,
      "outputs": []
    },
    {
      "cell_type": "code",
      "source": [
        "plt.figure(figsize=(15, 5))\n",
        "for i in range(5):\n",
        "    plt.subplot(3, 5, i+1)\n",
        "    imshow(noisy_samples[i].cpu(), \"Noisy\")\n",
        "\n",
        "    plt.subplot(3, 5, i+6)\n",
        "    imshow(denoised_samples[i], \"Denoised\")\n",
        "\n",
        "    plt.subplot(3, 5, i+11)\n",
        "    imshow(clean_samples[i].cpu(), \"Clean\")\n",
        "\n",
        "plt.tight_layout()\n",
        "plt.show()"
      ],
      "metadata": {
        "colab": {
          "base_uri": "https://localhost:8080/",
          "height": 261
        },
        "id": "w1Pu4f0hbAzR",
        "outputId": "ca7a2203-bed9-4dd8-8002-6ad312d7defc"
      },
      "execution_count": 70,
      "outputs": [
        {
          "output_type": "display_data",
          "data": {
            "text/plain": [
              "<Figure size 1500x500 with 15 Axes>"
            ],
            "image/png": "[encoded data removed]"
          },
          "metadata": {}
        }
      ]
    },
    {
      "cell_type": "markdown",
      "source": [
        "---\n",
        "---"
      ],
      "metadata": {
        "id": "rIXiYVLRjQNf"
      }
    },
    {
      "cell_type": "code",
      "source": [],
      "metadata": {
        "id": "vWcmZSklbFkU"
      },
      "execution_count": 70,
      "outputs": []
    },
    {
      "cell_type": "code",
      "source": [],
      "metadata": {
        "id": "0mrIqx_JbFob"
      },
      "execution_count": 70,
      "outputs": []
    },
    {
      "cell_type": "code",
      "source": [],
      "metadata": {
        "id": "fkkAXtK_bFs8"
      },
      "execution_count": 70,
      "outputs": []
    },
    {
      "cell_type": "markdown",
      "source": [
        "---\n",
        "---"
      ],
      "metadata": {
        "id": "Db9p_rlLjSRu"
      }
    },
    {
      "cell_type": "markdown",
      "source": [
        "## <span style=\"color:#FF6347; font-family:Georgia;\">**Interactive Dashboard**</span>  \n",
        "\n",
        "- **Objective:** Build an interactive web dashboard to visualize and interact with the denoising results.  \n",
        "- **Details:**\n",
        "  - Use <span style=\"color:#0000FF;\">**Dash**</span> (Python framework for web applications) to build a <span style=\"color:#00FF00;\">**user-friendly interface**</span> for visualizing the noisy and denoised images.\n",
        "  - Implement **dropdowns** to select specific images and show real-time results.\n",
        "  - The dashboard should include a simple <span style=\"color:#00FF00;\">**UI**</span> with clear indicators for the comparison between the noisy and denoised images.\n",
        "  - Host the dashboard for live demonstrations and presentations.\n",
        "\n",
        "**Key Note:**  \n",
        "- An interactive dashboard adds an <span style=\"color:#00FF00;\">**engaging**</span> element to the project and allows stakeholders to see the results in a dynamic, accessible format."
      ],
      "metadata": {
        "id": "3tj58yaKjUDb"
      }
    },
    {
      "cell_type": "code",
      "source": [
        "# Assuming Generator is defined somewhere in the code or imported\n",
        "# G = Generator()\n",
        "# G.load_state_dict(torch.load('generator.pth', map_location=torch.device('cpu')))\n",
        "# G.eval()"
      ],
      "metadata": {
        "id": "ElaMyhiqbFw9"
      },
      "execution_count": 71,
      "outputs": []
    },
    {
      "cell_type": "code",
      "source": [
        "# Prepare the dataset for evaluation"
      ],
      "metadata": {
        "id": "duTzdgQnbF1F"
      },
      "execution_count": 72,
      "outputs": []
    },
    {
      "cell_type": "code",
      "source": [
        "transform = transforms.Compose([\n",
        "    transforms.ToTensor(),\n",
        "    transforms.Normalize((0.5, 0.5, 0.5), (0.5, 0.5, 0.5))\n",
        "])"
      ],
      "metadata": {
        "id": "kRRYKZe8bF45"
      },
      "execution_count": 73,
      "outputs": []
    },
    {
      "cell_type": "code",
      "source": [],
      "metadata": {
        "id": "x2HNf6MsbF8z"
      },
      "execution_count": 73,
      "outputs": []
    },
    {
      "cell_type": "code",
      "source": [
        "test_data = datasets.CIFAR10(root='./data', train=False, download=True, transform=transform)\n"
      ],
      "metadata": {
        "id": "ebARbD3hbA3M"
      },
      "execution_count": 74,
      "outputs": []
    },
    {
      "cell_type": "code",
      "source": [],
      "metadata": {
        "id": "77Se63evbA74"
      },
      "execution_count": 74,
      "outputs": []
    },
    {
      "cell_type": "code",
      "source": [
        "# Create a dummy NoisyCIFAR class or use your actual noisy dataset"
      ],
      "metadata": {
        "id": "7CmGTR4ubBBc"
      },
      "execution_count": 75,
      "outputs": []
    },
    {
      "cell_type": "code",
      "source": [
        "class NoisyCIFAR(torch.utils.data.Dataset):\n",
        "    def __init__(self, dataset, noise_factor=0.5):\n",
        "        self.dataset = dataset\n",
        "        self.noise_factor = noise_factor\n",
        "\n",
        "    def __len__(self):\n",
        "        return len(self.dataset)\n",
        "\n",
        "    def __getitem__(self, idx):\n",
        "        img, label = self.dataset[idx]\n",
        "        noise = torch.randn_like(img) * self.noise_factor\n",
        "        noisy_img = img + noise\n",
        "        noisy_img = torch.clamp(noisy_img, 0., 1.)\n",
        "        return noisy_img, img"
      ],
      "metadata": {
        "id": "CSJyIHY9a352"
      },
      "execution_count": 76,
      "outputs": []
    },
    {
      "cell_type": "code",
      "source": [],
      "metadata": {
        "id": "iToNjsgibk_l"
      },
      "execution_count": 76,
      "outputs": []
    },
    {
      "cell_type": "code",
      "source": [
        "noisy_test_dataset = NoisyCIFAR(test_data)"
      ],
      "metadata": {
        "id": "Q0Gc77D3blDb"
      },
      "execution_count": 77,
      "outputs": []
    },
    {
      "cell_type": "code",
      "source": [
        "eval_loader = DataLoader(noisy_test_dataset, batch_size=5, shuffle=True)"
      ],
      "metadata": {
        "id": "2s9Chpe0blHk"
      },
      "execution_count": 78,
      "outputs": []
    },
    {
      "cell_type": "code",
      "source": [],
      "metadata": {
        "id": "anIh5CQMblLL"
      },
      "execution_count": 78,
      "outputs": []
    },
    {
      "cell_type": "code",
      "source": [],
      "metadata": {
        "id": "b2KUJTqjblRn"
      },
      "execution_count": 78,
      "outputs": []
    },
    {
      "cell_type": "code",
      "source": [
        "# Initialize Dash app"
      ],
      "metadata": {
        "id": "-2SuDSepblVi"
      },
      "execution_count": 79,
      "outputs": []
    },
    {
      "cell_type": "code",
      "source": [
        "app = dash.Dash(__name__, external_stylesheets=[dbc.themes.BOOTSTRAP])"
      ],
      "metadata": {
        "id": "Bt3BgIkWblZM"
      },
      "execution_count": 80,
      "outputs": []
    },
    {
      "cell_type": "code",
      "source": [],
      "metadata": {
        "id": "HeLgdBPeXeWQ"
      },
      "execution_count": 80,
      "outputs": []
    },
    {
      "cell_type": "code",
      "source": [
        "# Define layout for the dashboard"
      ],
      "metadata": {
        "id": "LnLdxHrNb0kU"
      },
      "execution_count": 81,
      "outputs": []
    },
    {
      "cell_type": "code",
      "source": [
        "app.layout = dbc.Container(\n",
        "    [\n",
        "        dbc.Row(\n",
        "            dbc.Col(html.H1(\"Noisy and Denoised CIFAR-10 Images\", className=\"text-center\"), width=12)\n",
        "        ),\n",
        "        dbc.Row(\n",
        "            [\n",
        "                dbc.Col(dcc.Dropdown(\n",
        "                    id='batch-dropdown',\n",
        "                    options=[{'label': f'Batch {i}', 'value': i} for i in range(10)],\n",
        "                    value=0,\n",
        "                    style={\"width\": \"50%\"}\n",
        "                ), width=6),\n",
        "            ]\n",
        "        ),\n",
        "        dbc.Row(\n",
        "            [\n",
        "                dbc.Col(html.Div(id=\"images-container\"), width=12)\n",
        "            ]\n",
        "        ),\n",
        "    ],\n",
        "    fluid=True,\n",
        ")"
      ],
      "metadata": {
        "id": "4BLdS7E3b0oE"
      },
      "execution_count": 82,
      "outputs": []
    },
    {
      "cell_type": "code",
      "source": [],
      "metadata": {
        "id": "08j-HVbxb5ll"
      },
      "execution_count": 82,
      "outputs": []
    },
    {
      "cell_type": "code",
      "source": [
        "# Function to convert image tensor to base64 string"
      ],
      "metadata": {
        "id": "AGSc42gzb5pb"
      },
      "execution_count": 83,
      "outputs": []
    },
    {
      "cell_type": "code",
      "source": [
        "def pil_to_base64(pil_img):\n",
        "    buffered = BytesIO()\n",
        "    pil_img.save(buffered, format=\"PNG\")\n",
        "    return base64.b64encode(buffered.getvalue()).decode()"
      ],
      "metadata": {
        "id": "k7J4nXiib5t2"
      },
      "execution_count": 84,
      "outputs": []
    },
    {
      "cell_type": "code",
      "source": [],
      "metadata": {
        "id": "6kVwan0ab5xw"
      },
      "execution_count": 84,
      "outputs": []
    },
    {
      "cell_type": "code",
      "source": [],
      "metadata": {
        "id": "aZhX2ga-b52K"
      },
      "execution_count": 84,
      "outputs": []
    },
    {
      "cell_type": "code",
      "source": [
        "# Callback to update the images based on dropdown selection"
      ],
      "metadata": {
        "id": "kPZfYUYhb0sa"
      },
      "execution_count": 85,
      "outputs": []
    },
    {
      "cell_type": "code",
      "source": [
        "@app.callback(\n",
        "    Output('images-container', 'children'),\n",
        "    Input('batch-dropdown', 'value')\n",
        ")\n",
        "def update_images(batch_num):\n",
        "    # Get a batch for evaluation\n",
        "    noisy_samples, clean_samples = list(eval_loader)[batch_num]\n",
        "\n",
        "    # Assuming G is your trained generator\n",
        "    with torch.no_grad():\n",
        "        denoised_samples = G(noisy_samples).cpu()\n",
        "\n",
        "    # Create base64 image strings for display\n",
        "    noisy_images = []\n",
        "    denoised_images = []\n",
        "\n",
        "    for i in range(5):\n",
        "        noisy_pil = transforms.ToPILImage()(noisy_samples[i].cpu())\n",
        "        denoised_pil = transforms.ToPILImage()(denoised_samples[i])\n",
        "\n",
        "        noisy_base64 = pil_to_base64(noisy_pil)\n",
        "        denoised_base64 = pil_to_base64(denoised_pil)\n",
        "\n",
        "        noisy_images.append(html.Img(src=f\"data:image/png;base64,{noisy_base64}\", style={'width': '100px', 'height': '100px'}))\n",
        "        denoised_images.append(html.Img(src=f\"data:image/png;base64,{denoised_base64}\", style={'width': '100px', 'height': '100px'}))\n",
        "\n",
        "    # Create a layout to display images\n",
        "    return html.Div(\n",
        "        [\n",
        "            html.H4(\"Noisy Images\"),\n",
        "            html.Div(noisy_images, style={'display': 'flex', 'flexWrap': 'wrap'}),\n",
        "            html.H4(\"Denoised Images\"),\n",
        "            html.Div(denoised_images, style={'display': 'flex', 'flexWrap': 'wrap'})\n",
        "        ]\n",
        "    )"
      ],
      "metadata": {
        "id": "6pfXGZgob0wZ"
      },
      "execution_count": 86,
      "outputs": []
    },
    {
      "cell_type": "code",
      "source": [],
      "metadata": {
        "id": "aTrgYLeKb00L"
      },
      "execution_count": 86,
      "outputs": []
    },
    {
      "cell_type": "code",
      "source": [
        "if __name__ == '__main__':\n",
        "    app.run(debug=True)"
      ],
      "metadata": {
        "colab": {
          "base_uri": "https://localhost:8080/",
          "height": 671
        },
        "id": "GzdpgrzXb06g",
        "outputId": "cde99ca7-8462-4f9f-93e5-d594f43cdce2"
      },
      "execution_count": 87,
      "outputs": [
        {
          "output_type": "display_data",
          "data": {
            "text/plain": [
              "<IPython.core.display.Javascript object>"
            ],
            "application/javascript": [
              "(async (port, path, width, height, cache, element) => {\n",
              "    if (!google.colab.kernel.accessAllowed && !cache) {\n",
              "      return;\n",
              "    }\n",
              "    element.appendChild(document.createTextNode(''));\n",
              "    const url = await google.colab.kernel.proxyPort(port, {cache});\n",
              "    const iframe = document.createElement('iframe');\n",
              "    iframe.src = new URL(path, url).toString();\n",
              "    iframe.height = height;\n",
              "    iframe.width = width;\n",
              "    iframe.style.border = 0;\n",
              "    iframe.allow = [\n",
              "        'accelerometer',\n",
              "        'autoplay',\n",
              "        'camera',\n",
              "        'clipboard-read',\n",
              "        'clipboard-write',\n",
              "        'gyroscope',\n",
              "        'magnetometer',\n",
              "        'microphone',\n",
              "        'serial',\n",
              "        'usb',\n",
              "        'xr-spatial-tracking',\n",
              "    ].join('; ');\n",
              "    element.appendChild(iframe);\n",
              "  })(8050, \"/\", \"100%\", 650, false, window.element)"
            ]
          },
          "metadata": {}
        }
      ]
    },
    {
      "cell_type": "code",
      "source": [],
      "metadata": {
        "id": "vbc4sKApb0-j"
      },
      "execution_count": 87,
      "outputs": []
    },
    {
      "cell_type": "markdown",
      "source": [
        "---\n",
        "---"
      ],
      "metadata": {
        "id": "oW9WXQRbjj7p"
      }
    },
    {
      "cell_type": "code",
      "source": [],
      "metadata": {
        "id": "QBD-w8tQjlYM"
      },
      "execution_count": null,
      "outputs": []
    },
    {
      "cell_type": "code",
      "source": [],
      "metadata": {
        "id": "tRH7n6T6jlfX"
      },
      "execution_count": null,
      "outputs": []
    },
    {
      "cell_type": "markdown",
      "source": [
        "---\n",
        "---"
      ],
      "metadata": {
        "id": "K_81bMkRjl07"
      }
    },
    {
      "cell_type": "markdown",
      "source": [
        "## <span style=\"color:#FF6347; font-family:Georgia;\">**Conclusion**</span>  \n",
        "\n",
        "- **Objective Summary:**  \n",
        "  The project aims to develop a **cGAN-based denoising model** that removes Gaussian noise from CIFAR-10 images, producing high-quality denoised images suitable for real-world applications where image quality is critical.\n",
        "\n",
        "- **Key Achievements:**  \n",
        "  - Successfully built and trained a **cGAN** that can generate clean, denoised images from noisy inputs.\n",
        "  - The model demonstrated effectiveness in improving the quality of noisy images based on **PSNR** and **SSIM** metrics.\n",
        "  - An interactive **dashboard** was developed to visualize the noisy and denoised images, providing an engaging user experience.\n",
        "  \n",
        "- **Future Directions:**  \n",
        "  - **Fine-Tuning:** The model can be further fine-tuned by experimenting with advanced architectures like **U-Net** or **ResNet** for improved performance.\n",
        "  - **Scaling Up:** The approach can be scaled to larger datasets for more robust generalization in real-world scenarios.\n",
        "  - **Real-World Applications:** The model can be adapted for various domains such as medical imaging, remote sensing, and low-light photography where image denoising plays a crucial role in improving clarity and analysis.\n",
        "\n",
        "**Key Takeaway:**  \n",
        "- This project demonstrates the power of **Generative Adversarial Networks (GANs)** for solving practical problems like image denoising, and it paves the way for more complex models that can handle various types of noise in different industries."
      ],
      "metadata": {
        "id": "y5vFOqXWjnkF"
      }
    },
    {
      "cell_type": "markdown",
      "source": [
        "---\n",
        "---"
      ],
      "metadata": {
        "id": "95vvRQpZjsDT"
      }
    }
  ]
}