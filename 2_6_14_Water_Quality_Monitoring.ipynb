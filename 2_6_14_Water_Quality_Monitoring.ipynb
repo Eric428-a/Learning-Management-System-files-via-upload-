{
  "nbformat": 4,
  "nbformat_minor": 0,
  "metadata": {
    "colab": {
      "provenance": [],
      "gpuType": "T4"
    },
    "kernelspec": {
      "name": "python3",
      "display_name": "Python 3"
    },
    "language_info": {
      "name": "python"
    },
    "accelerator": "GPU"
  },
  "cells": [
    {
      "cell_type": "markdown",
      "source": [
        "# 📊 **Project Overview: Water Quality Monitoring**\n",
        "\n",
        "## 📅 **Objective**\n",
        "The goal of this project is to analyze and forecast water quality data in Ontario, Canada, using ARIMA and LSTM models. The analysis includes data cleaning, exploratory data analysis (EDA), and model evaluation.\n",
        "\n",
        "## 📂 **Dataset**\n",
        "- **Source**: Ontario water quality data\n",
        "- **File Format**: `.txt`\n",
        "- **Columns**:\n",
        "  - Code\n",
        "  - Short_Name\n",
        "  - Long_Name\n",
        "  - Stations\n",
        "  - Observations\n",
        "  - First_Date\n",
        "  - Last_Date\n",
        "  - Min_Value\n",
        "  - Max_Value\n",
        "  - Average\n",
        "\n",
        "## 🛠️ **Methodology**\n",
        "\n",
        "### 1. **Data Loading**\n",
        "- Inspect the initial lines of the dataset to determine where actual data begins.\n",
        "- Load the dataset while skipping metadata lines.\n",
        "\n",
        "### 2. **Data Cleaning**\n",
        "- Convert relevant columns to numeric data types.\n",
        "- Drop rows with missing values in critical columns.\n",
        "- Convert date columns to a datetime format.\n",
        "\n",
        "### 3. **Exploratory Data Analysis (EDA)**\n",
        "- Generate histograms for numeric columns.\n",
        "- Create scatter plots for numeric relationships.\n",
        "- Plot a correlation heatmap.\n",
        "\n",
        "### 4. **Time Series Preparation**\n",
        "- Set the date column as the index and sort the data.\n",
        "- Resample the data to obtain monthly averages.\n",
        "- Fill missing values using forward fill.\n",
        "\n",
        "### 5. **Modeling**\n",
        "#### a. **ARIMA Model**\n",
        "- Fit an ARIMA model to the training dataset.\n",
        "- Make predictions and evaluate model performance using Mean Squared Error (MSE).\n",
        "\n",
        "#### b. **LSTM Model**\n",
        "- Scale data to a range of 0 to 1.\n",
        "- Prepare the data using TimeseriesGenerator.\n",
        "- Build and train an LSTM model.\n",
        "- Generate predictions and evaluate performance using MSE.\n",
        "\n",
        "### 6. **Forecasting Future Values**\n",
        "- Based on the performance of the models, predict future water quality values.\n",
        "\n",
        "## 📈 **Results and Conclusion**\n",
        "- Compare model performances and identify the best-performing model for forecasting.\n",
        "- Visualize the results to interpret findings and conclusions."
      ],
      "metadata": {
        "id": "YNcUDDsYJGh3"
      }
    },
    {
      "cell_type": "code",
      "source": [],
      "metadata": {
        "id": "G6rp0v9HJtdm"
      },
      "execution_count": null,
      "outputs": []
    },
    {
      "cell_type": "code",
      "source": [],
      "metadata": {
        "id": "7gO3sC0BJq8A"
      },
      "execution_count": null,
      "outputs": []
    },
    {
      "cell_type": "code",
      "source": [],
      "metadata": {
        "id": "n7E1mceQJrLV"
      },
      "execution_count": null,
      "outputs": []
    },
    {
      "cell_type": "markdown",
      "source": [
        "---"
      ],
      "metadata": {
        "id": "NgZ-ca2PFx5a"
      }
    },
    {
      "cell_type": "markdown",
      "source": [
        "# 📚 **Step 1: Import Libraries**\n",
        "\n",
        "## **Objective**\n",
        "Import the necessary libraries for data manipulation, visualization, and modeling.\n",
        "\n",
        "## **Key Libraries**\n",
        "- **Pandas**: For data manipulation and analysis.\n",
        "- **NumPy**: For numerical operations and array handling.\n",
        "- **Matplotlib**: For creating static, interactive, and animated visualizations.\n",
        "- **Seaborn**: For statistical data visualization.\n",
        "- **Statsmodels**: For statistical modeling, particularly ARIMA.\n",
        "- **Keras**: For building and training the LSTM model."
      ],
      "metadata": {
        "id": "QQXWNJwDJueF"
      }
    },
    {
      "cell_type": "code",
      "source": [],
      "metadata": {
        "id": "-P-1c_8QJvnP"
      },
      "execution_count": null,
      "outputs": []
    },
    {
      "cell_type": "code",
      "source": [],
      "metadata": {
        "id": "kdqmR6laJvvf"
      },
      "execution_count": null,
      "outputs": []
    },
    {
      "cell_type": "code",
      "source": [],
      "metadata": {
        "id": "c9Yo4d8bJvzd"
      },
      "execution_count": null,
      "outputs": []
    },
    {
      "cell_type": "code",
      "source": [
        "import warnings  # To handle warnings"
      ],
      "metadata": {
        "id": "D3G3hkR-G2ec"
      },
      "execution_count": 97,
      "outputs": []
    },
    {
      "cell_type": "code",
      "source": [
        "warnings.filterwarnings('ignore')  # Ignore warnings for cleaner output"
      ],
      "metadata": {
        "id": "3su80HvHG27U"
      },
      "execution_count": 98,
      "outputs": []
    },
    {
      "cell_type": "code",
      "source": [],
      "metadata": {
        "id": "82SiPSdFG2_9"
      },
      "execution_count": 98,
      "outputs": []
    },
    {
      "cell_type": "code",
      "source": [
        "# Importing necessary libraries"
      ],
      "metadata": {
        "id": "QkiA_nKQ_1O3"
      },
      "execution_count": 99,
      "outputs": []
    },
    {
      "cell_type": "code",
      "source": [
        "import pandas as pd  # For data manipulation and analysis"
      ],
      "metadata": {
        "id": "t4hxpSCjB2W-"
      },
      "execution_count": 100,
      "outputs": []
    },
    {
      "cell_type": "code",
      "source": [
        "import numpy as np  # For numerical operations"
      ],
      "metadata": {
        "id": "J6adKNe-B2Z2"
      },
      "execution_count": 101,
      "outputs": []
    },
    {
      "cell_type": "code",
      "source": [
        "import matplotlib.pyplot as plt  # For plotting graphs"
      ],
      "metadata": {
        "id": "gQj6f97LB2fW"
      },
      "execution_count": 102,
      "outputs": []
    },
    {
      "cell_type": "code",
      "source": [
        "from statsmodels.tsa.seasonal import seasonal_decompose  # For time series decomposition"
      ],
      "metadata": {
        "id": "eNfBV7mKB2iR"
      },
      "execution_count": 103,
      "outputs": []
    },
    {
      "cell_type": "code",
      "source": [
        "from statsmodels.tsa.arima.model import ARIMA  # For ARIMA time series modeling"
      ],
      "metadata": {
        "id": "FaDpG00yB2md"
      },
      "execution_count": 104,
      "outputs": []
    },
    {
      "cell_type": "code",
      "source": [
        "from sklearn.metrics import mean_squared_error  # For evaluating model performance"
      ],
      "metadata": {
        "id": "FHWSsB7yB2oH"
      },
      "execution_count": 105,
      "outputs": []
    },
    {
      "cell_type": "code",
      "source": [
        "from tensorflow.keras.models import Sequential  # For building LSTM model"
      ],
      "metadata": {
        "id": "MfDSUc8aB2pt"
      },
      "execution_count": 106,
      "outputs": []
    },
    {
      "cell_type": "code",
      "source": [
        "from tensorflow.keras.layers import LSTM, Dense  # For LSTM layers in the model"
      ],
      "metadata": {
        "id": "lEMNlstH_vUW"
      },
      "execution_count": 107,
      "outputs": []
    },
    {
      "cell_type": "code",
      "source": [
        "from tensorflow.keras.preprocessing.sequence import TimeseriesGenerator  # For generating time series data\n"
      ],
      "metadata": {
        "id": "dLDct0Ng_jUu"
      },
      "execution_count": 108,
      "outputs": []
    },
    {
      "cell_type": "code",
      "source": [
        "from sklearn.preprocessing import MinMaxScaler  # For scaling data to a range"
      ],
      "metadata": {
        "id": "5tV5XElo_cl-"
      },
      "execution_count": 109,
      "outputs": []
    },
    {
      "cell_type": "markdown",
      "source": [
        "---"
      ],
      "metadata": {
        "id": "ngHRP-69F0f8"
      }
    },
    {
      "cell_type": "code",
      "source": [],
      "metadata": {
        "id": "SZ8HFpd5CNHG"
      },
      "execution_count": 109,
      "outputs": []
    },
    {
      "cell_type": "code",
      "source": [],
      "metadata": {
        "id": "zLm841fQCNKG"
      },
      "execution_count": 109,
      "outputs": []
    },
    {
      "cell_type": "code",
      "source": [],
      "metadata": {
        "id": "sDyJp8XsCNPE"
      },
      "execution_count": 109,
      "outputs": []
    },
    {
      "cell_type": "markdown",
      "source": [
        "---"
      ],
      "metadata": {
        "id": "FSX-FwivF2C6"
      }
    },
    {
      "cell_type": "markdown",
      "source": [
        "# 📥 **Step 2: Load the Dataset**\n",
        "\n",
        "## **Objective**\n",
        "Load the water quality dataset, ensuring to skip metadata and correctly format the data.\n",
        "\n",
        "## **Key Steps**\n",
        "- Use `pd.read_csv()` to read the data, specifying the right separator.\n",
        "- Inspect the dataset to identify the starting point of actual data.\n",
        "- Display the first few rows to confirm successful loading."
      ],
      "metadata": {
        "id": "kgSWhY3IJyJu"
      }
    },
    {
      "cell_type": "code",
      "source": [
        "# Load the Dataset"
      ],
      "metadata": {
        "id": "0Rc_2WuNCNUl"
      },
      "execution_count": 110,
      "outputs": []
    },
    {
      "cell_type": "code",
      "source": [
        "dataset_path = '/content/Canada_Ontario_inv.txt'  # Path to the dataset"
      ],
      "metadata": {
        "id": "dqiCn0KLCNXO"
      },
      "execution_count": 111,
      "outputs": []
    },
    {
      "cell_type": "code",
      "source": [],
      "metadata": {
        "id": "Ew3flgrZCRqX"
      },
      "execution_count": 111,
      "outputs": []
    },
    {
      "cell_type": "code",
      "source": [],
      "metadata": {
        "id": "S88-OzmGCRtc"
      },
      "execution_count": 111,
      "outputs": []
    },
    {
      "cell_type": "code",
      "source": [
        "# Read the first 15 lines to identify where the actual data starts"
      ],
      "metadata": {
        "id": "0H0sJ5lrCRwC"
      },
      "execution_count": 112,
      "outputs": []
    },
    {
      "cell_type": "code",
      "source": [
        "try:\n",
        "    with open(dataset_path, 'r') as file:  # Open the dataset file\n",
        "        lines = [next(file) for _ in range(15)]  # Read the first 15 lines\n",
        "    print(\"First 15 lines of the file for inspection:\\n\")  # Print a message for inspection\n",
        "    for line in lines:  # Iterate through the lines\n",
        "        print(line.strip())  # Print each line after stripping whitespace\n",
        "except Exception as e:  # Catch any exceptions\n",
        "    print(f\"Error reading file manually: {e}\")  # Print error message"
      ],
      "metadata": {
        "colab": {
          "base_uri": "https://localhost:8080/"
        },
        "id": "LqRU0OHACRy7",
        "outputId": "38161128-331c-4f4d-d44b-66eea3d27ce3"
      },
      "execution_count": 113,
      "outputs": [
        {
          "output_type": "stream",
          "name": "stdout",
          "text": [
            "First 15 lines of the file for inspection:\n",
            "\n",
            "\n",
            "Ontario, Canada\n",
            "Number of Stations = 640\n",
            "\n",
            "\n",
            "Code \tShort Name                \tLong Name                                         \t# Stns\t# Obs \tFirst Date\tLast Date \tMin Value   \tMax Value   \t   Average\n",
            "-----\t--------------------------\t--------------------------------------------------\t------\t------\t----------\t----------\t------------\t------------\t----------\n",
            "00010\tWATER    TEMP     CENT    \tTEMPERATURE, WATER (DEGREES CENTIGRADE)           \t104   \t21106 \t1964-10-01\t1994-08-31\t   .00E+00  \t -1.00E+00  \t  1.04E+01\n",
            "00031\tINCDT LT REMNING  PERCENT \tLIGHT,INCIDENT, PERCENT REMAING AT CERTAIN DEPTH  \t8     \t8     \t1985-09-14\t1985-09-14\t  1.25E+01  \t  7.50E+01  \t  3.38E+01\n",
            "00060\tSTREAM   FLOW     CFS     \tFLOW, STREAM, MEAN DAILY                       CFS\t91    \t102185\t1900-01-01\t1994-09-30\t   .00E+00  \t  9.99E+04  \t  3.26E+03\n",
            "1\n",
            "\n",
            "00076\tTURB     TRBIDMTR HACH FTU\tTURBIDITY,HACH TURBIDIMETER (FORMAZIN TURB UNIT)  \t95    \t15175 \t1972-07-18\t1994-08-29\t  1.00E+03  \t  9.95E+00  \t  2.36E+01\n",
            "00078\tTRANSP   SECCHI   METERS  \tTRANSPARENCY, SECCHI DISC (METERS)                \t8     \t8     \t1985-09-14\t1985-09-14\t  1.00E+00  \t  5.00E-01  \t  1.46E+00\n",
            "00095\tCNDUCTVY AT 25C   MICROMHO\tSPECIFIC CONDUCTANCE (UMHOS/CM @ 25C)             \t96    \t30400 \t1965-10-12\t1994-08-31\t  1.00E+03  \t  9.99E+01  \t  4.47E+02\n"
          ]
        }
      ]
    },
    {
      "cell_type": "code",
      "source": [],
      "metadata": {
        "id": "V7DqVr3pCXbf"
      },
      "execution_count": 113,
      "outputs": []
    },
    {
      "cell_type": "code",
      "source": [],
      "metadata": {
        "id": "xd-oHKjbCXfL"
      },
      "execution_count": 113,
      "outputs": []
    },
    {
      "cell_type": "code",
      "source": [
        "# Load the dataset, skipping the metadata lines and setting column names"
      ],
      "metadata": {
        "id": "R3htodvfCXh0"
      },
      "execution_count": 114,
      "outputs": []
    },
    {
      "cell_type": "code",
      "source": [
        "column_names = [  # Define the column names\n",
        "    'Code', 'Short_Name', 'Long_Name', 'Stations', 'Observations',\n",
        "    'First_Date', 'Last_Date', 'Min_Value', 'Max_Value', 'Average'\n",
        "]"
      ],
      "metadata": {
        "id": "yX1VPcMcCXkV"
      },
      "execution_count": 115,
      "outputs": []
    },
    {
      "cell_type": "code",
      "source": [],
      "metadata": {
        "id": "q_y0FWnQCd6A"
      },
      "execution_count": 115,
      "outputs": []
    },
    {
      "cell_type": "code",
      "source": [],
      "metadata": {
        "id": "yxFnH7DzCd9N"
      },
      "execution_count": 115,
      "outputs": []
    },
    {
      "cell_type": "code",
      "source": [
        "# Adjust skiprows based on output inspection of the first few lines"
      ],
      "metadata": {
        "id": "ciPn-3YgCd_z"
      },
      "execution_count": 116,
      "outputs": []
    },
    {
      "cell_type": "code",
      "source": [
        "try:\n",
        "    data = pd.read_csv(dataset_path, sep=None, engine='python', skiprows=6, names=column_names)  # Read the dataset with adjusted skiprows\n",
        "    print(\"\\nData loaded successfully with adjusted skiprows.\")  # Confirmation message\n",
        "    print(\"First 5 rows of the dataset:\\n\", data.head(), \"\\n\")  # Print first 5 rows of the dataset\n",
        "    print(\"Dataset shape:\", data.shape)  # Print the shape of the dataset\n",
        "    print(\"Column names:\", data.columns.tolist())  # Print the list of column names\n",
        "except Exception as e:  # Catch any exceptions\n",
        "    print(f\"Error loading data with skiprows: {e}\")  # Print error message"
      ],
      "metadata": {
        "colab": {
          "base_uri": "https://localhost:8080/"
        },
        "id": "w8qXGy00CeCr",
        "outputId": "f25c6cc0-5cdf-4eca-d5b4-d63312282e02"
      },
      "execution_count": 117,
      "outputs": [
        {
          "output_type": "stream",
          "name": "stdout",
          "text": [
            "\n",
            "Data loaded successfully with adjusted skiprows.\n",
            "First 5 rows of the dataset:\n",
            "     Code                  Short_Name  \\\n",
            "0  -----  --------------------------   \n",
            "1  00010  WATER    TEMP     CENT       \n",
            "2  00031  INCDT LT REMNING  PERCENT    \n",
            "3  00060  STREAM   FLOW     CFS        \n",
            "4                                      \n",
            "\n",
            "                                           Long_Name Stations Observations  \\\n",
            "0  ----------------------------------------------...   ------       ------   \n",
            "1  TEMPERATURE, WATER (DEGREES CENTIGRADE)       ...   104          21106    \n",
            "2  LIGHT,INCIDENT, PERCENT REMAING AT CERTAIN DEP...   8            8        \n",
            "3  FLOW, STREAM, MEAN DAILY                      ...   91           102185   \n",
            "4                                                ...                1        \n",
            "\n",
            "   First_Date   Last_Date     Min_Value     Max_Value     Average  \n",
            "0  ----------  ----------  ------------  ------------  ----------  \n",
            "1  1964-10-01  1994-08-31     .00E+00     -1.00E+00      1.04E+01  \n",
            "2  1985-09-14  1985-09-14    1.25E+01      7.50E+01      3.38E+01  \n",
            "3  1900-01-01  1994-09-30     .00E+00      9.99E+04      3.26E+03  \n",
            "4                                                             NaN   \n",
            "\n",
            "Dataset shape: (65, 10)\n",
            "Column names: ['Code', 'Short_Name', 'Long_Name', 'Stations', 'Observations', 'First_Date', 'Last_Date', 'Min_Value', 'Max_Value', 'Average']\n"
          ]
        }
      ]
    },
    {
      "cell_type": "markdown",
      "source": [
        "---"
      ],
      "metadata": {
        "id": "WyAA09WTF7xw"
      }
    },
    {
      "cell_type": "code",
      "source": [],
      "metadata": {
        "id": "SPZig_wqCeFX"
      },
      "execution_count": 117,
      "outputs": []
    },
    {
      "cell_type": "code",
      "source": [],
      "metadata": {
        "id": "dLYj3e3WCeJo"
      },
      "execution_count": 117,
      "outputs": []
    },
    {
      "cell_type": "code",
      "source": [],
      "metadata": {
        "id": "9EcanzEmCeNW"
      },
      "execution_count": 117,
      "outputs": []
    },
    {
      "cell_type": "markdown",
      "source": [
        "---"
      ],
      "metadata": {
        "id": "M4fjC3NyF9IZ"
      }
    },
    {
      "cell_type": "markdown",
      "source": [
        "# 🧹 **Step 3: Data Cleaning**\n",
        "\n",
        "## **Objective**\n",
        "Prepare the dataset for analysis by cleaning and formatting data.\n",
        "\n",
        "## **Key Steps**\n",
        "- Convert necessary columns to numeric types using `pd.to_numeric()`.\n",
        "- Drop rows with NaN values in critical columns using `dropna()`.\n",
        "- Convert date columns to datetime format for proper time series handling."
      ],
      "metadata": {
        "id": "5rgm49TZJ5ZX"
      }
    },
    {
      "cell_type": "code",
      "source": [
        "#  Data Cleaning"
      ],
      "metadata": {
        "id": "wD8UZ8zSCXm2"
      },
      "execution_count": 118,
      "outputs": []
    },
    {
      "cell_type": "code",
      "source": [
        "# Convert numeric columns to the appropriate data types"
      ],
      "metadata": {
        "id": "gRECRg6mCXqB"
      },
      "execution_count": 119,
      "outputs": []
    },
    {
      "cell_type": "code",
      "source": [
        "numeric_columns = ['Stations', 'Observations', 'Min_Value', 'Max_Value', 'Average']  # List of numeric columns\n"
      ],
      "metadata": {
        "id": "XKBB6sSmCXuD"
      },
      "execution_count": 120,
      "outputs": []
    },
    {
      "cell_type": "code",
      "source": [
        "for col in numeric_columns:  # Iterate through the numeric columns\n",
        "    data[col] = pd.to_numeric(data[col], errors='coerce')  # Convert columns to numeric, coercing errors\n"
      ],
      "metadata": {
        "id": "9zOnm6tDCR4u"
      },
      "execution_count": 121,
      "outputs": []
    },
    {
      "cell_type": "code",
      "source": [],
      "metadata": {
        "id": "5vEN-EwXCsUS"
      },
      "execution_count": 121,
      "outputs": []
    },
    {
      "cell_type": "code",
      "source": [],
      "metadata": {
        "id": "JxqHzIloCsbq"
      },
      "execution_count": 121,
      "outputs": []
    },
    {
      "cell_type": "code",
      "source": [
        "# Drop any rows with NaNs in key columns"
      ],
      "metadata": {
        "id": "l0GxAGImCsgI"
      },
      "execution_count": 122,
      "outputs": []
    },
    {
      "cell_type": "code",
      "source": [
        "data = data.dropna(subset=['Stations', 'Observations', 'First_Date', 'Last_Date'])  # Drop rows with NaN values in key columns\n"
      ],
      "metadata": {
        "id": "nVR1cw6jCsi4"
      },
      "execution_count": 123,
      "outputs": []
    },
    {
      "cell_type": "code",
      "source": [],
      "metadata": {
        "id": "o0Ofj-4uCsk8"
      },
      "execution_count": 123,
      "outputs": []
    },
    {
      "cell_type": "code",
      "source": [
        "# Convert date columns to datetime format"
      ],
      "metadata": {
        "id": "5SyEJ4pVCstg"
      },
      "execution_count": 124,
      "outputs": []
    },
    {
      "cell_type": "code",
      "source": [
        "data['First_Date'] = pd.to_datetime(data['First_Date'], errors='coerce')  # Convert 'First_Date' to datetime\n"
      ],
      "metadata": {
        "id": "Uj4YarEXCswW"
      },
      "execution_count": 125,
      "outputs": []
    },
    {
      "cell_type": "code",
      "source": [
        "data['Last_Date'] = pd.to_datetime(data['Last_Date'], errors='coerce')  # Convert 'Last_Date' to datetime\n"
      ],
      "metadata": {
        "id": "ht5AwZRTCR-p"
      },
      "execution_count": 126,
      "outputs": []
    },
    {
      "cell_type": "markdown",
      "source": [
        "---"
      ],
      "metadata": {
        "id": "ZEhD-5kmKLpt"
      }
    },
    {
      "cell_type": "code",
      "source": [],
      "metadata": {
        "id": "XQMkRQB2CSBV"
      },
      "execution_count": 126,
      "outputs": []
    },
    {
      "cell_type": "code",
      "source": [],
      "metadata": {
        "id": "8EFh5qmyCSFg"
      },
      "execution_count": 126,
      "outputs": []
    },
    {
      "cell_type": "code",
      "source": [],
      "metadata": {
        "id": "DmWTOkHPKHxH"
      },
      "execution_count": null,
      "outputs": []
    },
    {
      "cell_type": "markdown",
      "source": [
        "---"
      ],
      "metadata": {
        "id": "PRe6F_rvKIRI"
      }
    },
    {
      "cell_type": "markdown",
      "source": [
        "# 📊 **Step 4: Exploratory Data Analysis (EDA)**\n",
        "\n",
        "## **Objective**\n",
        "Analyze the dataset to understand the distribution and relationships of variables.\n",
        "\n",
        "## **Key Steps**\n",
        "- Create histograms to visualize the distribution of numeric columns.\n",
        "- Generate scatter plots to observe relationships between variables.\n",
        "- Use a heatmap to visualize correlations among features."
      ],
      "metadata": {
        "id": "8vXYHdpHKJC2"
      }
    },
    {
      "cell_type": "code",
      "source": [
        "# Verify the cleaned dataset"
      ],
      "metadata": {
        "id": "VkWy-b-CCNaR"
      },
      "execution_count": 127,
      "outputs": []
    },
    {
      "cell_type": "code",
      "source": [
        "print(\"Cleaned dataset preview:\\n\", data.head())  # Print the first 5 rows of the cleaned dataset"
      ],
      "metadata": {
        "colab": {
          "base_uri": "https://localhost:8080/"
        },
        "id": "cTs-AEG6CNdJ",
        "outputId": "e05e4607-64ac-440e-8705-0e459a8b38bc"
      },
      "execution_count": 128,
      "outputs": [
        {
          "output_type": "stream",
          "name": "stdout",
          "text": [
            "Cleaned dataset preview:\n",
            "     Code                  Short_Name  \\\n",
            "1  00010  WATER    TEMP     CENT       \n",
            "2  00031  INCDT LT REMNING  PERCENT    \n",
            "3  00060  STREAM   FLOW     CFS        \n",
            "5  00076  TURB     TRBIDMTR HACH FTU   \n",
            "6  00078  TRANSP   SECCHI   METERS     \n",
            "\n",
            "                                           Long_Name  Stations  Observations  \\\n",
            "1  TEMPERATURE, WATER (DEGREES CENTIGRADE)       ...     104.0       21106.0   \n",
            "2  LIGHT,INCIDENT, PERCENT REMAING AT CERTAIN DEP...       8.0           8.0   \n",
            "3  FLOW, STREAM, MEAN DAILY                      ...      91.0      102185.0   \n",
            "5  TURBIDITY,HACH TURBIDIMETER (FORMAZIN TURB UNI...      95.0       15175.0   \n",
            "6  TRANSPARENCY, SECCHI DISC (METERS)            ...       8.0           8.0   \n",
            "\n",
            "  First_Date  Last_Date  Min_Value  Max_Value  Average  \n",
            "1 1964-10-01 1994-08-31        0.0      -1.00    10.40  \n",
            "2 1985-09-14 1985-09-14       12.5      75.00    33.80  \n",
            "3 1900-01-01 1994-09-30        0.0   99900.00  3260.00  \n",
            "5 1972-07-18 1994-08-29     1000.0       9.95    23.60  \n",
            "6 1985-09-14 1985-09-14        1.0       0.50     1.46  \n"
          ]
        }
      ]
    },
    {
      "cell_type": "code",
      "source": [],
      "metadata": {
        "id": "Ep-KVNmeCNgZ"
      },
      "execution_count": 128,
      "outputs": []
    },
    {
      "cell_type": "code",
      "source": [
        "print(\"\\nDataset shape after cleaning:\", data.shape)  # Print the shape of the cleaned dataset"
      ],
      "metadata": {
        "colab": {
          "base_uri": "https://localhost:8080/"
        },
        "id": "mjaR2CbR9dqX",
        "outputId": "6b99be60-0760-4ef5-8e6d-a333c45a1910"
      },
      "execution_count": 129,
      "outputs": [
        {
          "output_type": "stream",
          "name": "stdout",
          "text": [
            "\n",
            "Dataset shape after cleaning: (63, 10)\n"
          ]
        }
      ]
    },
    {
      "cell_type": "code",
      "source": [],
      "metadata": {
        "id": "FJhg311V9aF9"
      },
      "execution_count": 129,
      "outputs": []
    },
    {
      "cell_type": "code",
      "source": [
        "print(\"\\nSummary statistics:\\n\", data.describe(include='all'))  # Print summary statistics of the dataset\n"
      ],
      "metadata": {
        "colab": {
          "base_uri": "https://localhost:8080/"
        },
        "id": "PaggUe2i9POr",
        "outputId": "ff58be97-4f37-4b76-a273-5f93ecf5b0ab"
      },
      "execution_count": 130,
      "outputs": [
        {
          "output_type": "stream",
          "name": "stdout",
          "text": [
            "\n",
            "Summary statistics:\n",
            "          Code                  Short_Name  \\\n",
            "count      63                          63   \n",
            "unique     63                          63   \n",
            "top     00010  WATER    TEMP     CENT       \n",
            "freq        1                           1   \n",
            "mean      NaN                         NaN   \n",
            "min       NaN                         NaN   \n",
            "25%       NaN                         NaN   \n",
            "50%       NaN                         NaN   \n",
            "75%       NaN                         NaN   \n",
            "max       NaN                         NaN   \n",
            "std       NaN                         NaN   \n",
            "\n",
            "                                                Long_Name    Stations  \\\n",
            "count                                                  63   63.000000   \n",
            "unique                                                 63         NaN   \n",
            "top     TEMPERATURE, WATER (DEGREES CENTIGRADE)       ...         NaN   \n",
            "freq                                                    1         NaN   \n",
            "mean                                                  NaN   57.571429   \n",
            "min                                                   NaN    1.000000   \n",
            "25%                                                   NaN   13.500000   \n",
            "50%                                                   NaN   74.000000   \n",
            "75%                                                   NaN   95.000000   \n",
            "max                                                   NaN  104.000000   \n",
            "std                                                   NaN   40.940442   \n",
            "\n",
            "         Observations                     First_Date  \\\n",
            "count       63.000000                             63   \n",
            "unique            NaN                            NaN   \n",
            "top               NaN                            NaN   \n",
            "freq              NaN                            NaN   \n",
            "mean     11362.825397  1974-04-13 19:25:42.857142864   \n",
            "min          1.000000            1900-01-01 00:00:00   \n",
            "25%        286.500000            1964-11-30 00:00:00   \n",
            "50%       6017.000000            1972-11-14 00:00:00   \n",
            "75%      19106.500000            1986-04-21 00:00:00   \n",
            "max     102185.000000            1993-01-05 00:00:00   \n",
            "std      15468.178832                            NaN   \n",
            "\n",
            "                            Last_Date     Min_Value     Max_Value  \\\n",
            "count                              63     63.000000     63.000000   \n",
            "unique                            NaN           NaN           NaN   \n",
            "top                               NaN           NaN           NaN   \n",
            "freq                              NaN           NaN           NaN   \n",
            "mean    1992-06-26 08:22:51.428571392    220.655832   3151.208226   \n",
            "min               1985-09-14 00:00:00      0.000000     -1.000000   \n",
            "25%               1991-05-16 00:00:00      0.000000      0.051450   \n",
            "50%               1994-08-23 00:00:00      0.001100      8.990000   \n",
            "75%               1994-08-31 00:00:00     10.000000     99.100000   \n",
            "max               1994-09-30 00:00:00  10000.000000  99900.000000   \n",
            "std                               NaN   1270.088186  17042.424895   \n",
            "\n",
            "             Average  \n",
            "count      63.000000  \n",
            "unique           NaN  \n",
            "top              NaN  \n",
            "freq             NaN  \n",
            "mean      616.995977  \n",
            "min         0.000016  \n",
            "25%         0.062850  \n",
            "50%         7.810000  \n",
            "75%        59.550000  \n",
            "max     31000.000000  \n",
            "std      3913.912955  \n"
          ]
        }
      ]
    },
    {
      "cell_type": "code",
      "source": [],
      "metadata": {
        "id": "S1WEYUcQGJRd"
      },
      "execution_count": 130,
      "outputs": []
    },
    {
      "cell_type": "code",
      "source": [],
      "metadata": {
        "id": "Q5z6CoIhGJa0"
      },
      "execution_count": 130,
      "outputs": []
    },
    {
      "cell_type": "code",
      "source": [
        "#  Calculate Correlation Matrix"
      ],
      "metadata": {
        "id": "-XiEKnSiIQq9"
      },
      "execution_count": 131,
      "outputs": []
    },
    {
      "cell_type": "code",
      "source": [
        "numeric_data = data[numeric_columns]  # Filter only the numeric columns"
      ],
      "metadata": {
        "id": "WZ0bCmZhGYKc"
      },
      "execution_count": 132,
      "outputs": []
    },
    {
      "cell_type": "code",
      "source": [
        "correlation_matrix = numeric_data.corr()  # Calculate the correlation matrix"
      ],
      "metadata": {
        "id": "BLe_3SokGYNr"
      },
      "execution_count": 133,
      "outputs": []
    },
    {
      "cell_type": "code",
      "source": [],
      "metadata": {
        "id": "FepVK8paIQvE"
      },
      "execution_count": 133,
      "outputs": []
    },
    {
      "cell_type": "code",
      "source": [
        "# Histograms for Numeric Columns"
      ],
      "metadata": {
        "id": "FTPJ1rXSGJeV"
      },
      "execution_count": 134,
      "outputs": []
    },
    {
      "cell_type": "code",
      "source": [
        "numeric_data.hist(figsize=(12, 10), bins=15)  # Create histograms for numeric columns\n",
        "plt.suptitle('Histograms of Numeric Columns')  # Add a super title\n",
        "plt.show()  # Show histograms"
      ],
      "metadata": {
        "colab": {
          "base_uri": "https://localhost:8080/",
          "height": 775
        },
        "id": "Giqhtg4RGJiX",
        "outputId": "75fd6318-17b1-403c-b293-c36e4cd8568b"
      },
      "execution_count": 135,
      "outputs": [
        {
          "output_type": "display_data",
          "data": {
            "text/plain": [
              "<Figure size 1200x1000 with 6 Axes>"
            ],
            "image/png": "[encoded data removed]"
          },
          "metadata": {}
        }
      ]
    },
    {
      "cell_type": "code",
      "source": [],
      "metadata": {
        "id": "IgBkOVETGM6T"
      },
      "execution_count": 135,
      "outputs": []
    },
    {
      "cell_type": "code",
      "source": [],
      "metadata": {
        "id": "t6hdn-KtGM-C"
      },
      "execution_count": 135,
      "outputs": []
    },
    {
      "cell_type": "code",
      "source": [
        "# Scatter Plots"
      ],
      "metadata": {
        "id": "Njijvk9VGNBX"
      },
      "execution_count": 136,
      "outputs": []
    },
    {
      "cell_type": "code",
      "source": [
        "plt.figure(figsize=(10, 6))  # Set figure size for scatter plots\n",
        "sns.pairplot(numeric_data)  # Create scatter plots for numeric columns\n",
        "plt.suptitle('Scatter Plots of Numeric Columns', y=1.02)  # Add a super title\n",
        "plt.show()  # Show scatter plots"
      ],
      "metadata": {
        "colab": {
          "base_uri": "https://localhost:8080/",
          "height": 883
        },
        "id": "Q_L1WBY7GNV0",
        "outputId": "3d4a3a72-6d4c-417c-a584-14112b8e98dc"
      },
      "execution_count": 137,
      "outputs": [
        {
          "output_type": "display_data",
          "data": {
            "text/plain": [
              "<Figure size 1000x600 with 0 Axes>"
            ]
          },
          "metadata": {}
        },
        {
          "output_type": "display_data",
          "data": {
            "text/plain": [
              "<Figure size 1250x1250 with 30 Axes>"
            ],
            "image/png": "[encoded data removed]"
          },
          "metadata": {}
        }
      ]
    },
    {
      "cell_type": "code",
      "source": [],
      "metadata": {
        "id": "qwE2pU-CGTdk"
      },
      "execution_count": 137,
      "outputs": []
    },
    {
      "cell_type": "code",
      "source": [],
      "metadata": {
        "id": "i6dgvNiyGThK"
      },
      "execution_count": 137,
      "outputs": []
    },
    {
      "cell_type": "code",
      "source": [
        "# Correlation Heatmap"
      ],
      "metadata": {
        "id": "OoUfWrk3GTpG"
      },
      "execution_count": 138,
      "outputs": []
    },
    {
      "cell_type": "code",
      "source": [
        "plt.figure(figsize=(10, 6))  # Set the figure size for the heatmap\n",
        "plt.title('Correlation Heatmap')  # Set the title of the heatmap\n",
        "sns.heatmap(correlation_matrix, annot=True, fmt='.2f', cmap='coolwarm')  # Plot the heatmap with annotations\n",
        "plt.show()  # Show the heatmap"
      ],
      "metadata": {
        "colab": {
          "base_uri": "https://localhost:8080/",
          "height": 545
        },
        "id": "woT3vBaDGgKL",
        "outputId": "b1994806-7efb-4d82-d30c-2c161b44ac8d"
      },
      "execution_count": 139,
      "outputs": [
        {
          "output_type": "display_data",
          "data": {
            "text/plain": [
              "<Figure size 1000x600 with 2 Axes>"
            ],
            "image/png": "[encoded data removed]"
          },
          "metadata": {}
        }
      ]
    },
    {
      "cell_type": "markdown",
      "source": [
        "---"
      ],
      "metadata": {
        "id": "MFMX0Xc1GA5b"
      }
    },
    {
      "cell_type": "code",
      "source": [],
      "metadata": {
        "id": "KwzUJTENC_zf"
      },
      "execution_count": 139,
      "outputs": []
    },
    {
      "cell_type": "code",
      "source": [],
      "metadata": {
        "id": "K0C8CgabC_2i"
      },
      "execution_count": 139,
      "outputs": []
    },
    {
      "cell_type": "code",
      "source": [],
      "metadata": {
        "id": "rjQkcsypC_56"
      },
      "execution_count": 139,
      "outputs": []
    },
    {
      "cell_type": "markdown",
      "source": [
        "---"
      ],
      "metadata": {
        "id": "aOHhX121GpMD"
      }
    },
    {
      "cell_type": "markdown",
      "source": [
        "# ⏳ **Step 5: Time Series Preparation**\n",
        "\n",
        "## **Objective**\n",
        "Transform the dataset into a time series format suitable for analysis.\n",
        "\n",
        "## **Key Steps**\n",
        "- Set the date column as the index and sort the dataset chronologically.\n",
        "- Resample the data to obtain monthly averages for analysis.\n",
        "- Fill missing values using forward fill (`ffill()`)."
      ],
      "metadata": {
        "id": "HsDA152dKPGh"
      }
    },
    {
      "cell_type": "code",
      "source": [
        "# Time Series Preparation"
      ],
      "metadata": {
        "id": "qEOswBjcC_88"
      },
      "execution_count": 140,
      "outputs": []
    },
    {
      "cell_type": "code",
      "source": [
        "# Set the date column as index"
      ],
      "metadata": {
        "id": "piFAoXuEDAAb"
      },
      "execution_count": 141,
      "outputs": []
    },
    {
      "cell_type": "code",
      "source": [
        "data.set_index('First_Date', inplace=True)  # Set 'First_Date' as the index of the DataFrame"
      ],
      "metadata": {
        "id": "WX4HW7M_DAEo"
      },
      "execution_count": 142,
      "outputs": []
    },
    {
      "cell_type": "code",
      "source": [
        "data.sort_index(inplace=True)  # Sort the DataFrame by index"
      ],
      "metadata": {
        "id": "z5abozYs845V"
      },
      "execution_count": 143,
      "outputs": []
    },
    {
      "cell_type": "code",
      "source": [],
      "metadata": {
        "id": "GQyJxk9_DKj_"
      },
      "execution_count": 143,
      "outputs": []
    },
    {
      "cell_type": "code",
      "source": [
        "# Resample to monthly average"
      ],
      "metadata": {
        "id": "q_UqmDUlDKnp"
      },
      "execution_count": 144,
      "outputs": []
    },
    {
      "cell_type": "code",
      "source": [
        "time_series_data = data['Average'].resample('M').mean()  # Resample 'Average' to monthly averages"
      ],
      "metadata": {
        "id": "SURP1WcgDKsy"
      },
      "execution_count": 145,
      "outputs": []
    },
    {
      "cell_type": "code",
      "source": [],
      "metadata": {
        "id": "bnMAiUpSDKvm"
      },
      "execution_count": 145,
      "outputs": []
    },
    {
      "cell_type": "code",
      "source": [
        "# Fill missing values using forward fill"
      ],
      "metadata": {
        "id": "LdcNfwjBDKya"
      },
      "execution_count": 146,
      "outputs": []
    },
    {
      "cell_type": "code",
      "source": [
        "time_series_data = time_series_data.fillna(method='ffill')  # Forward fill to fill missing values"
      ],
      "metadata": {
        "id": "3MnF4Pc4DK0r"
      },
      "execution_count": 147,
      "outputs": []
    },
    {
      "cell_type": "markdown",
      "source": [
        "---"
      ],
      "metadata": {
        "id": "q_CmcihsGrID"
      }
    },
    {
      "cell_type": "code",
      "source": [],
      "metadata": {
        "id": "fKQpPg09DSgg"
      },
      "execution_count": 147,
      "outputs": []
    },
    {
      "cell_type": "code",
      "source": [],
      "metadata": {
        "id": "D085sIwYDSjd"
      },
      "execution_count": 147,
      "outputs": []
    },
    {
      "cell_type": "code",
      "source": [],
      "metadata": {
        "id": "ef8MiL18DSmS"
      },
      "execution_count": 147,
      "outputs": []
    },
    {
      "cell_type": "markdown",
      "source": [
        "---"
      ],
      "metadata": {
        "id": "5pSFMMV5GsdV"
      }
    },
    {
      "cell_type": "code",
      "source": [
        "# Exploratory Data Analysis"
      ],
      "metadata": {
        "id": "PwBtLsWJDSpF"
      },
      "execution_count": 148,
      "outputs": []
    },
    {
      "cell_type": "code",
      "source": [
        "# 1. Plot the time series data"
      ],
      "metadata": {
        "id": "jNqL1Qh6DStA"
      },
      "execution_count": 149,
      "outputs": []
    },
    {
      "cell_type": "code",
      "source": [
        "plt.figure(figsize=(12, 6))  # Set the figure size for the plot\n",
        "plt.plot(time_series_data, color='blue')  # Plot the time series data\n",
        "plt.title('Monthly Average Water Quality')  # Set the title of the plot\n",
        "plt.xlabel('Date')  # Label the x-axis\n",
        "plt.ylabel('Average')  # Label the y-axis\n",
        "plt.show()  # Show the plot"
      ],
      "metadata": {
        "colab": {
          "base_uri": "https://localhost:8080/",
          "height": 458
        },
        "id": "vVCK9iTzDSxD",
        "outputId": "c4751362-fb26-4d7d-9467-6ab758a0a608"
      },
      "execution_count": 150,
      "outputs": [
        {
          "output_type": "display_data",
          "data": {
            "text/plain": [
              "<Figure size 1200x600 with 1 Axes>"
            ],
            "image/png": "[encoded data removed]"
          },
          "metadata": {}
        }
      ]
    },
    {
      "cell_type": "code",
      "source": [],
      "metadata": {
        "id": "IdqS5y4TDK4M"
      },
      "execution_count": 150,
      "outputs": []
    },
    {
      "cell_type": "code",
      "source": [],
      "metadata": {
        "id": "RKoeGqsR8vbU"
      },
      "execution_count": 150,
      "outputs": []
    },
    {
      "cell_type": "code",
      "source": [
        "# 2. Time Series Decomposition"
      ],
      "metadata": {
        "id": "rNXBjKSZ8VS-"
      },
      "execution_count": 151,
      "outputs": []
    },
    {
      "cell_type": "code",
      "source": [
        "decompose_result = seasonal_decompose(time_series_data, model='additive')  # Decompose the time series\n"
      ],
      "metadata": {
        "id": "n1cbclpp8PA_"
      },
      "execution_count": 152,
      "outputs": []
    },
    {
      "cell_type": "code",
      "source": [
        "decompose_result.plot()  # Plot the decomposition results\n",
        "plt.show()  # Show the plot"
      ],
      "metadata": {
        "colab": {
          "base_uri": "https://localhost:8080/",
          "height": 487
        },
        "id": "MwhwmXFz8FjN",
        "outputId": "2614a078-3d42-46c6-dbf7-1f6409831dc3"
      },
      "execution_count": 153,
      "outputs": [
        {
          "output_type": "display_data",
          "data": {
            "text/plain": [
              "<Figure size 640x480 with 4 Axes>"
            ],
            "image/png": "[encoded data removed]"
          },
          "metadata": {}
        }
      ]
    },
    {
      "cell_type": "markdown",
      "source": [
        "---"
      ],
      "metadata": {
        "id": "Vs4FiJqrGv1k"
      }
    },
    {
      "cell_type": "code",
      "source": [],
      "metadata": {
        "id": "zA38eIvhDjyw"
      },
      "execution_count": 153,
      "outputs": []
    },
    {
      "cell_type": "code",
      "source": [],
      "metadata": {
        "id": "K2OzfUL4Dj12"
      },
      "execution_count": 153,
      "outputs": []
    },
    {
      "cell_type": "code",
      "source": [],
      "metadata": {
        "id": "T8DSwq3CDj4W"
      },
      "execution_count": 153,
      "outputs": []
    },
    {
      "cell_type": "markdown",
      "source": [
        "---"
      ],
      "metadata": {
        "id": "wvV7a0fxGxUO"
      }
    },
    {
      "cell_type": "code",
      "source": [
        "#  Train/Test Split"
      ],
      "metadata": {
        "id": "2JtlLrUYDj9D"
      },
      "execution_count": 154,
      "outputs": []
    },
    {
      "cell_type": "code",
      "source": [
        "train_size = int(len(time_series_data) * 0.8)  # Calculate the training size (80%)"
      ],
      "metadata": {
        "id": "m5lCZ2tsDkAQ"
      },
      "execution_count": 155,
      "outputs": []
    },
    {
      "cell_type": "code",
      "source": [
        "train, test = time_series_data[:train_size], time_series_data[train_size:]  # Split the data into training and test sets\n"
      ],
      "metadata": {
        "id": "n3PGGRXsDkDy"
      },
      "execution_count": 156,
      "outputs": []
    },
    {
      "cell_type": "markdown",
      "source": [
        "---"
      ],
      "metadata": {
        "id": "FyJcHkOOIjlQ"
      }
    },
    {
      "cell_type": "code",
      "source": [],
      "metadata": {
        "id": "F_KNN-sPDkKG"
      },
      "execution_count": 156,
      "outputs": []
    },
    {
      "cell_type": "code",
      "source": [],
      "metadata": {
        "id": "UOqXjBWR75L8"
      },
      "execution_count": 156,
      "outputs": []
    },
    {
      "cell_type": "code",
      "source": [],
      "metadata": {
        "id": "8Vrg-7xv7yoV"
      },
      "execution_count": 156,
      "outputs": []
    },
    {
      "cell_type": "markdown",
      "source": [
        "---"
      ],
      "metadata": {
        "id": "3tgLoE8HIpOE"
      }
    },
    {
      "cell_type": "markdown",
      "source": [
        "# 📈 **Step 6: Modeling - ARIMA**\n",
        "\n",
        "## **Objective**\n",
        "Implement the ARIMA model for time series forecasting.\n",
        "\n",
        "## **Key Steps**\n",
        "- Fit the ARIMA model to the training dataset using `ARIMA()`.\n",
        "- Generate predictions and evaluate the model performance using Mean Squared Error (MSE)."
      ],
      "metadata": {
        "id": "8XfNlRjEKWW2"
      }
    },
    {
      "cell_type": "code",
      "source": [
        "# ARIMA Model"
      ],
      "metadata": {
        "id": "F_4aLJqf46SE"
      },
      "execution_count": 157,
      "outputs": []
    },
    {
      "cell_type": "code",
      "source": [
        "# Fit ARIMA model"
      ],
      "metadata": {
        "id": "kxLhH57l4vlY"
      },
      "execution_count": 158,
      "outputs": []
    },
    {
      "cell_type": "code",
      "source": [
        "arima_model = ARIMA(train, order=(5, 1, 2))  # Create an ARIMA model with specified order"
      ],
      "metadata": {
        "id": "I12ESIoQ4oqk"
      },
      "execution_count": 159,
      "outputs": []
    },
    {
      "cell_type": "code",
      "source": [
        "arima_result = arima_model.fit()  # Fit the ARIMA model to the training data"
      ],
      "metadata": {
        "id": "JRmQ1YCe4ZOM"
      },
      "execution_count": 160,
      "outputs": []
    },
    {
      "cell_type": "code",
      "source": [],
      "metadata": {
        "id": "TFtoBcXp4JEW"
      },
      "execution_count": 160,
      "outputs": []
    },
    {
      "cell_type": "code",
      "source": [
        "# Make predictions"
      ],
      "metadata": {
        "id": "yJIFq8h34DY-"
      },
      "execution_count": 161,
      "outputs": []
    },
    {
      "cell_type": "code",
      "source": [
        "arima_pred = arima_result.predict(start=len(train), end=len(train) + len(test) - 1, typ='levels')  # Predict on the test set\n"
      ],
      "metadata": {
        "id": "V1kW84k61bey"
      },
      "execution_count": 162,
      "outputs": []
    },
    {
      "cell_type": "code",
      "source": [],
      "metadata": {
        "id": "hD3iUDBH1bhb"
      },
      "execution_count": 162,
      "outputs": []
    },
    {
      "cell_type": "code",
      "source": [
        "# Plot ARIMA predictions"
      ],
      "metadata": {
        "id": "LVp6Vy_F1bjj"
      },
      "execution_count": 163,
      "outputs": []
    },
    {
      "cell_type": "code",
      "source": [
        "plt.figure(figsize=(12, 6))  # Set the figure size for the plot\n",
        "plt.plot(train, label='Train')  # Plot the training data\n",
        "plt.plot(test, label='Test', color='orange')  # Plot the test data\n",
        "plt.plot(test.index, arima_pred, label='ARIMA Predictions', color='green')  # Plot ARIMA predictions\n",
        "plt.legend()  # Show the legend\n",
        "plt.show()  # Show the plot"
      ],
      "metadata": {
        "colab": {
          "base_uri": "https://localhost:8080/",
          "height": 432
        },
        "id": "tGeW2qM-1bn4",
        "outputId": "3b32c010-fca8-4f6d-eea8-1a70d9283cdd"
      },
      "execution_count": 164,
      "outputs": [
        {
          "output_type": "display_data",
          "data": {
            "text/plain": [
              "<Figure size 1200x600 with 1 Axes>"
            ],
            "image/png": "[encoded data removed]"
          },
          "metadata": {}
        }
      ]
    },
    {
      "cell_type": "code",
      "source": [],
      "metadata": {
        "id": "D386TI4zD6JA"
      },
      "execution_count": 164,
      "outputs": []
    },
    {
      "cell_type": "code",
      "source": [],
      "metadata": {
        "id": "rizlwCrND6MS"
      },
      "execution_count": 164,
      "outputs": []
    },
    {
      "cell_type": "code",
      "source": [
        "# Evaluate ARIMA model"
      ],
      "metadata": {
        "id": "29LHxeAXD6PT"
      },
      "execution_count": 165,
      "outputs": []
    },
    {
      "cell_type": "code",
      "source": [
        "arima_mse = mean_squared_error(test, arima_pred)  # Calculate mean squared error for ARIMA predictions\n"
      ],
      "metadata": {
        "id": "-v9pOKcgD6To"
      },
      "execution_count": 166,
      "outputs": []
    },
    {
      "cell_type": "code",
      "source": [
        "print(\"ARIMA Model MSE:\", arima_mse)  # Print the MSE of the ARIMA model"
      ],
      "metadata": {
        "colab": {
          "base_uri": "https://localhost:8080/"
        },
        "id": "VYWPwvD-D6ZH",
        "outputId": "1158f401-823f-439a-81f4-6ce3be5241e7"
      },
      "execution_count": 167,
      "outputs": [
        {
          "output_type": "stream",
          "name": "stdout",
          "text": [
            "ARIMA Model MSE: 107599.18008370615\n"
          ]
        }
      ]
    },
    {
      "cell_type": "markdown",
      "source": [
        "---"
      ],
      "metadata": {
        "id": "Nn1eKrlFIsww"
      }
    },
    {
      "cell_type": "code",
      "source": [],
      "metadata": {
        "id": "99yOB7auD6dE"
      },
      "execution_count": 167,
      "outputs": []
    },
    {
      "cell_type": "code",
      "source": [],
      "metadata": {
        "id": "ctVHJhe4D6gE"
      },
      "execution_count": 167,
      "outputs": []
    },
    {
      "cell_type": "code",
      "source": [],
      "metadata": {
        "id": "ErV8eyYZEDHc"
      },
      "execution_count": 167,
      "outputs": []
    },
    {
      "cell_type": "markdown",
      "source": [
        "---"
      ],
      "metadata": {
        "id": "HbOBJu7gIuWl"
      }
    },
    {
      "cell_type": "markdown",
      "source": [
        "# 🤖 **Step 7: Modeling - LSTM**\n",
        "\n",
        "## **Objective**\n",
        "Utilize the LSTM model to enhance forecasting accuracy.\n",
        "\n",
        "## **Key Steps**\n",
        "- Scale the data to a range of 0 to 1 for effective training.\n",
        "- Prepare the dataset using `TimeseriesGenerator`.\n",
        "- Build and train the LSTM model using Keras.\n",
        "- Generate predictions and evaluate performance with MSE."
      ],
      "metadata": {
        "id": "jBLhiUlUKa1m"
      }
    },
    {
      "cell_type": "code",
      "source": [
        "#  LSTM Model"
      ],
      "metadata": {
        "id": "iFifPSt5EDKT"
      },
      "execution_count": 168,
      "outputs": []
    },
    {
      "cell_type": "code",
      "source": [
        "# Scale data to (0, 1) range"
      ],
      "metadata": {
        "id": "84yf4HhLEDNR"
      },
      "execution_count": 169,
      "outputs": []
    },
    {
      "cell_type": "code",
      "source": [
        "scaler = MinMaxScaler(feature_range=(0, 1))  # Create a MinMaxScaler for scaling"
      ],
      "metadata": {
        "id": "Vrw7YUHKEDP3"
      },
      "execution_count": 170,
      "outputs": []
    },
    {
      "cell_type": "code",
      "source": [
        "scaled_data = scaler.fit_transform(time_series_data.values.reshape(-1, 1))  # Scale the time series data\n"
      ],
      "metadata": {
        "id": "2Gl1v1D5EDcR"
      },
      "execution_count": 171,
      "outputs": []
    },
    {
      "cell_type": "code",
      "source": [],
      "metadata": {
        "id": "gjUBXCWOELA1"
      },
      "execution_count": 171,
      "outputs": []
    },
    {
      "cell_type": "code",
      "source": [
        "# Prepare data for LSTM"
      ],
      "metadata": {
        "id": "KFLalkwaELD2"
      },
      "execution_count": 172,
      "outputs": []
    },
    {
      "cell_type": "code",
      "source": [
        "seq_size = 12  # Number of time steps for look back"
      ],
      "metadata": {
        "id": "P0wol3neELGS"
      },
      "execution_count": 173,
      "outputs": []
    },
    {
      "cell_type": "code",
      "source": [
        "generator = TimeseriesGenerator(scaled_data, scaled_data, length=seq_size, batch_size=1)  # Create TimeseriesGenerator for LSTM\n"
      ],
      "metadata": {
        "id": "Do9DYjBwELJS"
      },
      "execution_count": 174,
      "outputs": []
    },
    {
      "cell_type": "code",
      "source": [],
      "metadata": {
        "id": "Cc9ylEZmELLX"
      },
      "execution_count": 174,
      "outputs": []
    },
    {
      "cell_type": "code",
      "source": [
        "# Build LSTM model"
      ],
      "metadata": {
        "id": "azBIqoEqELQT"
      },
      "execution_count": 175,
      "outputs": []
    },
    {
      "cell_type": "code",
      "source": [
        "lstm_model = Sequential()  # Initialize a Sequential model"
      ],
      "metadata": {
        "id": "ojFYZRHbELSs"
      },
      "execution_count": 176,
      "outputs": []
    },
    {
      "cell_type": "code",
      "source": [
        "lstm_model.add(LSTM(100, activation='relu', input_shape=(seq_size, 1)))  # Add LSTM layer with 100 units\n"
      ],
      "metadata": {
        "id": "afOI4Vj-EDfW"
      },
      "execution_count": 177,
      "outputs": []
    },
    {
      "cell_type": "code",
      "source": [
        "lstm_model.add(Dense(1))  # Add output layer with 1 unit"
      ],
      "metadata": {
        "id": "zn-aJ7dm1bqH"
      },
      "execution_count": 178,
      "outputs": []
    },
    {
      "cell_type": "code",
      "source": [
        "lstm_model.compile(optimizer='adam', loss='mse')  # Compile the model with Adam optimizer and mean squared error loss\n"
      ],
      "metadata": {
        "id": "02yBcDYN1buH"
      },
      "execution_count": 179,
      "outputs": []
    },
    {
      "cell_type": "code",
      "source": [],
      "metadata": {
        "id": "X5n0dHfEEZ9h"
      },
      "execution_count": 179,
      "outputs": []
    },
    {
      "cell_type": "code",
      "source": [
        "# Train the model (reduced epochs for faster execution)"
      ],
      "metadata": {
        "id": "Jw8d9VX0EaA1"
      },
      "execution_count": 180,
      "outputs": []
    },
    {
      "cell_type": "code",
      "source": [
        "lstm_model.fit(generator, epochs=3)  # Fit the LSTM model on the training data for 3 epochs"
      ],
      "metadata": {
        "colab": {
          "base_uri": "https://localhost:8080/"
        },
        "id": "SjKuxhzFEaD0",
        "outputId": "5de39843-de30-4a86-a4d8-d4989c815752"
      },
      "execution_count": 181,
      "outputs": [
        {
          "output_type": "stream",
          "name": "stdout",
          "text": [
            "Epoch 1/3\n",
            "\u001b[1m1105/1105\u001b[0m \u001b[32m━━━━━━━━━━━━━━━━━━━━\u001b[0m\u001b[37m\u001b[0m \u001b[1m5s\u001b[0m 2ms/step - loss: 0.0749\n",
            "Epoch 2/3\n",
            "\u001b[1m1105/1105\u001b[0m \u001b[32m━━━━━━━━━━━━━━━━━━━━\u001b[0m\u001b[37m\u001b[0m \u001b[1m5s\u001b[0m 5ms/step - loss: 0.0079\n",
            "Epoch 3/3\n",
            "\u001b[1m1105/1105\u001b[0m \u001b[32m━━━━━━━━━━━━━━━━━━━━\u001b[0m\u001b[37m\u001b[0m \u001b[1m4s\u001b[0m 4ms/step - loss: 0.0053\n"
          ]
        },
        {
          "output_type": "execute_result",
          "data": {
            "text/plain": [
              "<keras.src.callbacks.history.History at 0x7eed207fbb80>"
            ]
          },
          "metadata": {},
          "execution_count": 181
        }
      ]
    },
    {
      "cell_type": "code",
      "source": [],
      "metadata": {
        "id": "T7rYFe1pEaLh"
      },
      "execution_count": 181,
      "outputs": []
    },
    {
      "cell_type": "code",
      "source": [],
      "metadata": {
        "id": "BJTx23jKEgjh"
      },
      "execution_count": 181,
      "outputs": []
    },
    {
      "cell_type": "code",
      "source": [
        "# Generate LSTM predictions"
      ],
      "metadata": {
        "id": "J0kBHiAlEaO8"
      },
      "execution_count": 182,
      "outputs": []
    },
    {
      "cell_type": "code",
      "source": [
        "lstm_pred_scaled = []  # Initialize a list to store LSTM predictions"
      ],
      "metadata": {
        "id": "Ra9RkPb_EaSC"
      },
      "execution_count": 183,
      "outputs": []
    },
    {
      "cell_type": "code",
      "source": [
        "batch = scaled_data[-seq_size:]  # Get the last sequence of scaled data"
      ],
      "metadata": {
        "id": "0p0nZPgAEaV2"
      },
      "execution_count": 184,
      "outputs": []
    },
    {
      "cell_type": "code",
      "source": [
        "batch = batch.reshape((1, seq_size, 1))  # Reshape the batch for LSTM input"
      ],
      "metadata": {
        "id": "4BRfiyw_EkYg"
      },
      "execution_count": 185,
      "outputs": []
    },
    {
      "cell_type": "code",
      "source": [],
      "metadata": {
        "id": "Bc5HXcbeEkbp"
      },
      "execution_count": 185,
      "outputs": []
    },
    {
      "cell_type": "code",
      "source": [
        "for i in range(len(test)):  # Iterate through the test data\n",
        "    lstm_pred = lstm_model.predict(batch)[0]  # Predict using the LSTM model\n",
        "    lstm_pred_scaled.append(lstm_pred)  # Append prediction to the list\n",
        "    batch = np.append(batch[:, 1:, :], [[lstm_pred]], axis=1)  # Update the batch with the new prediction\n"
      ],
      "metadata": {
        "colab": {
          "base_uri": "https://localhost:8080/"
        },
        "id": "bqWqOSxAEkem",
        "outputId": "955a730b-0ea4-4776-aeab-368ceadd81ee"
      },
      "execution_count": 186,
      "outputs": [
        {
          "output_type": "stream",
          "name": "stdout",
          "text": [
            "\u001b[1m1/1\u001b[0m \u001b[32m━━━━━━━━━━━━━━━━━━━━\u001b[0m\u001b[37m\u001b[0m \u001b[1m0s\u001b[0m 341ms/step\n",
            "\u001b[1m1/1\u001b[0m \u001b[32m━━━━━━━━━━━━━━━━━━━━\u001b[0m\u001b[37m\u001b[0m \u001b[1m0s\u001b[0m 20ms/step\n",
            "\u001b[1m1/1\u001b[0m \u001b[32m━━━━━━━━━━━━━━━━━━━━\u001b[0m\u001b[37m\u001b[0m \u001b[1m0s\u001b[0m 19ms/step\n",
            "\u001b[1m1/1\u001b[0m \u001b[32m━━━━━━━━━━━━━━━━━━━━\u001b[0m\u001b[37m\u001b[0m \u001b[1m0s\u001b[0m 19ms/step\n",
            "\u001b[1m1/1\u001b[0m \u001b[32m━━━━━━━━━━━━━━━━━━━━\u001b[0m\u001b[37m\u001b[0m \u001b[1m0s\u001b[0m 20ms/step\n",
            "\u001b[1m1/1\u001b[0m \u001b[32m━━━━━━━━━━━━━━━━━━━━\u001b[0m\u001b[37m\u001b[0m \u001b[1m0s\u001b[0m 15ms/step\n",
            "\u001b[1m1/1\u001b[0m \u001b[32m━━━━━━━━━━━━━━━━━━━━\u001b[0m\u001b[37m\u001b[0m \u001b[1m0s\u001b[0m 16ms/step\n",
            "\u001b[1m1/1\u001b[0m \u001b[32m━━━━━━━━━━━━━━━━━━━━\u001b[0m\u001b[37m\u001b[0m \u001b[1m0s\u001b[0m 16ms/step\n",
            "\u001b[1m1/1\u001b[0m \u001b[32m━━━━━━━━━━━━━━━━━━━━\u001b[0m\u001b[37m\u001b[0m \u001b[1m0s\u001b[0m 16ms/step\n",
            "\u001b[1m1/1\u001b[0m \u001b[32m━━━━━━━━━━━━━━━━━━━━\u001b[0m\u001b[37m\u001b[0m \u001b[1m0s\u001b[0m 16ms/step\n",
            "\u001b[1m1/1\u001b[0m \u001b[32m━━━━━━━━━━━━━━━━━━━━\u001b[0m\u001b[37m\u001b[0m \u001b[1m0s\u001b[0m 16ms/step\n",
            "\u001b[1m1/1\u001b[0m \u001b[32m━━━━━━━━━━━━━━━━━━━━\u001b[0m\u001b[37m\u001b[0m \u001b[1m0s\u001b[0m 17ms/step\n",
            "\u001b[1m1/1\u001b[0m \u001b[32m━━━━━━━━━━━━━━━━━━━━\u001b[0m\u001b[37m\u001b[0m \u001b[1m0s\u001b[0m 15ms/step\n",
            "\u001b[1m1/1\u001b[0m \u001b[32m━━━━━━━━━━━━━━━━━━━━\u001b[0m\u001b[37m\u001b[0m \u001b[1m0s\u001b[0m 22ms/step\n",
            "\u001b[1m1/1\u001b[0m \u001b[32m━━━━━━━━━━━━━━━━━━━━\u001b[0m\u001b[37m\u001b[0m \u001b[1m0s\u001b[0m 16ms/step\n",
            "\u001b[1m1/1\u001b[0m \u001b[32m━━━━━━━━━━━━━━━━━━━━\u001b[0m\u001b[37m\u001b[0m \u001b[1m0s\u001b[0m 15ms/step\n",
            "\u001b[1m1/1\u001b[0m \u001b[32m━━━━━━━━━━━━━━━━━━━━\u001b[0m\u001b[37m\u001b[0m \u001b[1m0s\u001b[0m 16ms/step\n",
            "\u001b[1m1/1\u001b[0m \u001b[32m━━━━━━━━━━━━━━━━━━━━\u001b[0m\u001b[37m\u001b[0m \u001b[1m0s\u001b[0m 15ms/step\n",
            "\u001b[1m1/1\u001b[0m \u001b[32m━━━━━━━━━━━━━━━━━━━━\u001b[0m\u001b[37m\u001b[0m \u001b[1m0s\u001b[0m 16ms/step\n",
            "\u001b[1m1/1\u001b[0m \u001b[32m━━━━━━━━━━━━━━━━━━━━\u001b[0m\u001b[37m\u001b[0m \u001b[1m0s\u001b[0m 19ms/step\n",
            "\u001b[1m1/1\u001b[0m \u001b[32m━━━━━━━━━━━━━━━━━━━━\u001b[0m\u001b[37m\u001b[0m \u001b[1m0s\u001b[0m 18ms/step\n",
            "\u001b[1m1/1\u001b[0m \u001b[32m━━━━━━━━━━━━━━━━━━━━\u001b[0m\u001b[37m\u001b[0m \u001b[1m0s\u001b[0m 15ms/step\n",
            "\u001b[1m1/1\u001b[0m \u001b[32m━━━━━━━━━━━━━━━━━━━━\u001b[0m\u001b[37m\u001b[0m \u001b[1m0s\u001b[0m 16ms/step\n",
            "\u001b[1m1/1\u001b[0m \u001b[32m━━━━━━━━━━━━━━━━━━━━\u001b[0m\u001b[37m\u001b[0m \u001b[1m0s\u001b[0m 15ms/step\n",
            "\u001b[1m1/1\u001b[0m \u001b[32m━━━━━━━━━━━━━━━━━━━━\u001b[0m\u001b[37m\u001b[0m \u001b[1m0s\u001b[0m 15ms/step\n",
            "\u001b[1m1/1\u001b[0m \u001b[32m━━━━━━━━━━━━━━━━━━━━\u001b[0m\u001b[37m\u001b[0m \u001b[1m0s\u001b[0m 16ms/step\n",
            "\u001b[1m1/1\u001b[0m \u001b[32m━━━━━━━━━━━━━━━━━━━━\u001b[0m\u001b[37m\u001b[0m \u001b[1m0s\u001b[0m 16ms/step\n",
            "\u001b[1m1/1\u001b[0m \u001b[32m━━━━━━━━━━━━━━━━━━━━\u001b[0m\u001b[37m\u001b[0m \u001b[1m0s\u001b[0m 16ms/step\n",
            "\u001b[1m1/1\u001b[0m \u001b[32m━━━━━━━━━━━━━━━━━━━━\u001b[0m\u001b[37m\u001b[0m \u001b[1m0s\u001b[0m 15ms/step\n",
            "\u001b[1m1/1\u001b[0m \u001b[32m━━━━━━━━━━━━━━━━━━━━\u001b[0m\u001b[37m\u001b[0m \u001b[1m0s\u001b[0m 17ms/step\n",
            "\u001b[1m1/1\u001b[0m \u001b[32m━━━━━━━━━━━━━━━━━━━━\u001b[0m\u001b[37m\u001b[0m \u001b[1m0s\u001b[0m 15ms/step\n",
            "\u001b[1m1/1\u001b[0m \u001b[32m━━━━━━━━━━━━━━━━━━━━\u001b[0m\u001b[37m\u001b[0m \u001b[1m0s\u001b[0m 16ms/step\n",
            "\u001b[1m1/1\u001b[0m \u001b[32m━━━━━━━━━━━━━━━━━━━━\u001b[0m\u001b[37m\u001b[0m \u001b[1m0s\u001b[0m 16ms/step\n",
            "\u001b[1m1/1\u001b[0m \u001b[32m━━━━━━━━━━━━━━━━━━━━\u001b[0m\u001b[37m\u001b[0m \u001b[1m0s\u001b[0m 15ms/step\n",
            "\u001b[1m1/1\u001b[0m \u001b[32m━━━━━━━━━━━━━━━━━━━━\u001b[0m\u001b[37m\u001b[0m \u001b[1m0s\u001b[0m 15ms/step\n",
            "\u001b[1m1/1\u001b[0m \u001b[32m━━━━━━━━━━━━━━━━━━━━\u001b[0m\u001b[37m\u001b[0m \u001b[1m0s\u001b[0m 15ms/step\n",
            "\u001b[1m1/1\u001b[0m \u001b[32m━━━━━━━━━━━━━━━━━━━━\u001b[0m\u001b[37m\u001b[0m \u001b[1m0s\u001b[0m 16ms/step\n",
            "\u001b[1m1/1\u001b[0m \u001b[32m━━━━━━━━━━━━━━━━━━━━\u001b[0m\u001b[37m\u001b[0m \u001b[1m0s\u001b[0m 18ms/step\n",
            "\u001b[1m1/1\u001b[0m \u001b[32m━━━━━━━━━━━━━━━━━━━━\u001b[0m\u001b[37m\u001b[0m \u001b[1m0s\u001b[0m 19ms/step\n",
            "\u001b[1m1/1\u001b[0m \u001b[32m━━━━━━━━━━━━━━━━━━━━\u001b[0m\u001b[37m\u001b[0m \u001b[1m0s\u001b[0m 17ms/step\n",
            "\u001b[1m1/1\u001b[0m \u001b[32m━━━━━━━━━━━━━━━━━━━━\u001b[0m\u001b[37m\u001b[0m \u001b[1m0s\u001b[0m 15ms/step\n",
            "\u001b[1m1/1\u001b[0m \u001b[32m━━━━━━━━━━━━━━━━━━━━\u001b[0m\u001b[37m\u001b[0m \u001b[1m0s\u001b[0m 15ms/step\n",
            "\u001b[1m1/1\u001b[0m \u001b[32m━━━━━━━━━━━━━━━━━━━━\u001b[0m\u001b[37m\u001b[0m \u001b[1m0s\u001b[0m 17ms/step\n",
            "\u001b[1m1/1\u001b[0m \u001b[32m━━━━━━━━━━━━━━━━━━━━\u001b[0m\u001b[37m\u001b[0m \u001b[1m0s\u001b[0m 15ms/step\n",
            "\u001b[1m1/1\u001b[0m \u001b[32m━━━━━━━━━━━━━━━━━━━━\u001b[0m\u001b[37m\u001b[0m \u001b[1m0s\u001b[0m 15ms/step\n",
            "\u001b[1m1/1\u001b[0m \u001b[32m━━━━━━━━━━━━━━━━━━━━\u001b[0m\u001b[37m\u001b[0m \u001b[1m0s\u001b[0m 16ms/step\n",
            "\u001b[1m1/1\u001b[0m \u001b[32m━━━━━━━━━━━━━━━━━━━━\u001b[0m\u001b[37m\u001b[0m \u001b[1m0s\u001b[0m 15ms/step\n",
            "\u001b[1m1/1\u001b[0m \u001b[32m━━━━━━━━━━━━━━━━━━━━\u001b[0m\u001b[37m\u001b[0m \u001b[1m0s\u001b[0m 17ms/step\n",
            "\u001b[1m1/1\u001b[0m \u001b[32m━━━━━━━━━━━━━━━━━━━━\u001b[0m\u001b[37m\u001b[0m \u001b[1m0s\u001b[0m 15ms/step\n",
            "\u001b[1m1/1\u001b[0m \u001b[32m━━━━━━━━━━━━━━━━━━━━\u001b[0m\u001b[37m\u001b[0m \u001b[1m0s\u001b[0m 15ms/step\n",
            "\u001b[1m1/1\u001b[0m \u001b[32m━━━━━━━━━━━━━━━━━━━━\u001b[0m\u001b[37m\u001b[0m \u001b[1m0s\u001b[0m 15ms/step\n",
            "\u001b[1m1/1\u001b[0m \u001b[32m━━━━━━━━━━━━━━━━━━━━\u001b[0m\u001b[37m\u001b[0m \u001b[1m0s\u001b[0m 15ms/step\n",
            "\u001b[1m1/1\u001b[0m \u001b[32m━━━━━━━━━━━━━━━━━━━━\u001b[0m\u001b[37m\u001b[0m \u001b[1m0s\u001b[0m 15ms/step\n",
            "\u001b[1m1/1\u001b[0m \u001b[32m━━━━━━━━━━━━━━━━━━━━\u001b[0m\u001b[37m\u001b[0m \u001b[1m0s\u001b[0m 16ms/step\n",
            "\u001b[1m1/1\u001b[0m \u001b[32m━━━━━━━━━━━━━━━━━━━━\u001b[0m\u001b[37m\u001b[0m \u001b[1m0s\u001b[0m 15ms/step\n",
            "\u001b[1m1/1\u001b[0m \u001b[32m━━━━━━━━━━━━━━━━━━━━\u001b[0m\u001b[37m\u001b[0m \u001b[1m0s\u001b[0m 17ms/step\n",
            "\u001b[1m1/1\u001b[0m \u001b[32m━━━━━━━━━━━━━━━━━━━━\u001b[0m\u001b[37m\u001b[0m \u001b[1m0s\u001b[0m 19ms/step\n",
            "\u001b[1m1/1\u001b[0m \u001b[32m━━━━━━━━━━━━━━━━━━━━\u001b[0m\u001b[37m\u001b[0m \u001b[1m0s\u001b[0m 20ms/step\n",
            "\u001b[1m1/1\u001b[0m \u001b[32m━━━━━━━━━━━━━━━━━━━━\u001b[0m\u001b[37m\u001b[0m \u001b[1m0s\u001b[0m 16ms/step\n",
            "\u001b[1m1/1\u001b[0m \u001b[32m━━━━━━━━━━━━━━━━━━━━\u001b[0m\u001b[37m\u001b[0m \u001b[1m0s\u001b[0m 17ms/step\n",
            "\u001b[1m1/1\u001b[0m \u001b[32m━━━━━━━━━━━━━━━━━━━━\u001b[0m\u001b[37m\u001b[0m \u001b[1m0s\u001b[0m 16ms/step\n",
            "\u001b[1m1/1\u001b[0m \u001b[32m━━━━━━━━━━━━━━━━━━━━\u001b[0m\u001b[37m\u001b[0m \u001b[1m0s\u001b[0m 15ms/step\n",
            "\u001b[1m1/1\u001b[0m \u001b[32m━━━━━━━━━━━━━━━━━━━━\u001b[0m\u001b[37m\u001b[0m \u001b[1m0s\u001b[0m 15ms/step\n",
            "\u001b[1m1/1\u001b[0m \u001b[32m━━━━━━━━━━━━━━━━━━━━\u001b[0m\u001b[37m\u001b[0m \u001b[1m0s\u001b[0m 15ms/step\n",
            "\u001b[1m1/1\u001b[0m \u001b[32m━━━━━━━━━━━━━━━━━━━━\u001b[0m\u001b[37m\u001b[0m \u001b[1m0s\u001b[0m 15ms/step\n",
            "\u001b[1m1/1\u001b[0m \u001b[32m━━━━━━━━━━━━━━━━━━━━\u001b[0m\u001b[37m\u001b[0m \u001b[1m0s\u001b[0m 15ms/step\n",
            "\u001b[1m1/1\u001b[0m \u001b[32m━━━━━━━━━━━━━━━━━━━━\u001b[0m\u001b[37m\u001b[0m \u001b[1m0s\u001b[0m 15ms/step\n",
            "\u001b[1m1/1\u001b[0m \u001b[32m━━━━━━━━━━━━━━━━━━━━\u001b[0m\u001b[37m\u001b[0m \u001b[1m0s\u001b[0m 15ms/step\n",
            "\u001b[1m1/1\u001b[0m \u001b[32m━━━━━━━━━━━━━━━━━━━━\u001b[0m\u001b[37m\u001b[0m \u001b[1m0s\u001b[0m 15ms/step\n",
            "\u001b[1m1/1\u001b[0m \u001b[32m━━━━━━━━━━━━━━━━━━━━\u001b[0m\u001b[37m\u001b[0m \u001b[1m0s\u001b[0m 23ms/step\n",
            "\u001b[1m1/1\u001b[0m \u001b[32m━━━━━━━━━━━━━━━━━━━━\u001b[0m\u001b[37m\u001b[0m \u001b[1m0s\u001b[0m 15ms/step\n",
            "\u001b[1m1/1\u001b[0m \u001b[32m━━━━━━━━━━━━━━━━━━━━\u001b[0m\u001b[37m\u001b[0m \u001b[1m0s\u001b[0m 17ms/step\n",
            "\u001b[1m1/1\u001b[0m \u001b[32m━━━━━━━━━━━━━━━━━━━━\u001b[0m\u001b[37m\u001b[0m \u001b[1m0s\u001b[0m 16ms/step\n",
            "\u001b[1m1/1\u001b[0m \u001b[32m━━━━━━━━━━━━━━━━━━━━\u001b[0m\u001b[37m\u001b[0m \u001b[1m0s\u001b[0m 20ms/step\n",
            "\u001b[1m1/1\u001b[0m \u001b[32m━━━━━━━━━━━━━━━━━━━━\u001b[0m\u001b[37m\u001b[0m \u001b[1m0s\u001b[0m 18ms/step\n",
            "\u001b[1m1/1\u001b[0m \u001b[32m━━━━━━━━━━━━━━━━━━━━\u001b[0m\u001b[37m\u001b[0m \u001b[1m0s\u001b[0m 18ms/step\n",
            "\u001b[1m1/1\u001b[0m \u001b[32m━━━━━━━━━━━━━━━━━━━━\u001b[0m\u001b[37m\u001b[0m \u001b[1m0s\u001b[0m 15ms/step\n",
            "\u001b[1m1/1\u001b[0m \u001b[32m━━━━━━━━━━━━━━━━━━━━\u001b[0m\u001b[37m\u001b[0m \u001b[1m0s\u001b[0m 15ms/step\n",
            "\u001b[1m1/1\u001b[0m \u001b[32m━━━━━━━━━━━━━━━━━━━━\u001b[0m\u001b[37m\u001b[0m \u001b[1m0s\u001b[0m 15ms/step\n",
            "\u001b[1m1/1\u001b[0m \u001b[32m━━━━━━━━━━━━━━━━━━━━\u001b[0m\u001b[37m\u001b[0m \u001b[1m0s\u001b[0m 15ms/step\n",
            "\u001b[1m1/1\u001b[0m \u001b[32m━━━━━━━━━━━━━━━━━━━━\u001b[0m\u001b[37m\u001b[0m \u001b[1m0s\u001b[0m 15ms/step\n",
            "\u001b[1m1/1\u001b[0m \u001b[32m━━━━━━━━━━━━━━━━━━━━\u001b[0m\u001b[37m\u001b[0m \u001b[1m0s\u001b[0m 15ms/step\n",
            "\u001b[1m1/1\u001b[0m \u001b[32m━━━━━━━━━━━━━━━━━━━━\u001b[0m\u001b[37m\u001b[0m \u001b[1m0s\u001b[0m 15ms/step\n",
            "\u001b[1m1/1\u001b[0m \u001b[32m━━━━━━━━━━━━━━━━━━━━\u001b[0m\u001b[37m\u001b[0m \u001b[1m0s\u001b[0m 16ms/step\n",
            "\u001b[1m1/1\u001b[0m \u001b[32m━━━━━━━━━━━━━━━━━━━━\u001b[0m\u001b[37m\u001b[0m \u001b[1m0s\u001b[0m 16ms/step\n",
            "\u001b[1m1/1\u001b[0m \u001b[32m━━━━━━━━━━━━━━━━━━━━\u001b[0m\u001b[37m\u001b[0m \u001b[1m0s\u001b[0m 16ms/step\n",
            "\u001b[1m1/1\u001b[0m \u001b[32m━━━━━━━━━━━━━━━━━━━━\u001b[0m\u001b[37m\u001b[0m \u001b[1m0s\u001b[0m 18ms/step\n",
            "\u001b[1m1/1\u001b[0m \u001b[32m━━━━━━━━━━━━━━━━━━━━\u001b[0m\u001b[37m\u001b[0m \u001b[1m0s\u001b[0m 40ms/step\n",
            "\u001b[1m1/1\u001b[0m \u001b[32m━━━━━━━━━━━━━━━━━━━━\u001b[0m\u001b[37m\u001b[0m \u001b[1m0s\u001b[0m 36ms/step\n",
            "\u001b[1m1/1\u001b[0m \u001b[32m━━━━━━━━━━━━━━━━━━━━\u001b[0m\u001b[37m\u001b[0m \u001b[1m0s\u001b[0m 42ms/step\n",
            "\u001b[1m1/1\u001b[0m \u001b[32m━━━━━━━━━━━━━━━━━━━━\u001b[0m\u001b[37m\u001b[0m \u001b[1m0s\u001b[0m 36ms/step\n",
            "\u001b[1m1/1\u001b[0m \u001b[32m━━━━━━━━━━━━━━━━━━━━\u001b[0m\u001b[37m\u001b[0m \u001b[1m0s\u001b[0m 25ms/step\n",
            "\u001b[1m1/1\u001b[0m \u001b[32m━━━━━━━━━━━━━━━━━━━━\u001b[0m\u001b[37m\u001b[0m \u001b[1m0s\u001b[0m 23ms/step\n",
            "\u001b[1m1/1\u001b[0m \u001b[32m━━━━━━━━━━━━━━━━━━━━\u001b[0m\u001b[37m\u001b[0m \u001b[1m0s\u001b[0m 24ms/step\n",
            "\u001b[1m1/1\u001b[0m \u001b[32m━━━━━━━━━━━━━━━━━━━━\u001b[0m\u001b[37m\u001b[0m \u001b[1m0s\u001b[0m 30ms/step\n",
            "\u001b[1m1/1\u001b[0m \u001b[32m━━━━━━━━━━━━━━━━━━━━\u001b[0m\u001b[37m\u001b[0m \u001b[1m0s\u001b[0m 24ms/step\n",
            "\u001b[1m1/1\u001b[0m \u001b[32m━━━━━━━━━━━━━━━━━━━━\u001b[0m\u001b[37m\u001b[0m \u001b[1m0s\u001b[0m 25ms/step\n",
            "\u001b[1m1/1\u001b[0m \u001b[32m━━━━━━━━━━━━━━━━━━━━\u001b[0m\u001b[37m\u001b[0m \u001b[1m0s\u001b[0m 38ms/step\n",
            "\u001b[1m1/1\u001b[0m \u001b[32m━━━━━━━━━━━━━━━━━━━━\u001b[0m\u001b[37m\u001b[0m \u001b[1m0s\u001b[0m 33ms/step\n",
            "\u001b[1m1/1\u001b[0m \u001b[32m━━━━━━━━━━━━━━━━━━━━\u001b[0m\u001b[37m\u001b[0m \u001b[1m0s\u001b[0m 27ms/step\n",
            "\u001b[1m1/1\u001b[0m \u001b[32m━━━━━━━━━━━━━━━━━━━━\u001b[0m\u001b[37m\u001b[0m \u001b[1m0s\u001b[0m 42ms/step\n",
            "\u001b[1m1/1\u001b[0m \u001b[32m━━━━━━━━━━━━━━━━━━━━\u001b[0m\u001b[37m\u001b[0m \u001b[1m0s\u001b[0m 37ms/step\n",
            "\u001b[1m1/1\u001b[0m \u001b[32m━━━━━━━━━━━━━━━━━━━━\u001b[0m\u001b[37m\u001b[0m \u001b[1m0s\u001b[0m 22ms/step\n",
            "\u001b[1m1/1\u001b[0m \u001b[32m━━━━━━━━━━━━━━━━━━━━\u001b[0m\u001b[37m\u001b[0m \u001b[1m0s\u001b[0m 62ms/step\n",
            "\u001b[1m1/1\u001b[0m \u001b[32m━━━━━━━━━━━━━━━━━━━━\u001b[0m\u001b[37m\u001b[0m \u001b[1m0s\u001b[0m 54ms/step\n",
            "\u001b[1m1/1\u001b[0m \u001b[32m━━━━━━━━━━━━━━━━━━━━\u001b[0m\u001b[37m\u001b[0m \u001b[1m0s\u001b[0m 64ms/step\n",
            "\u001b[1m1/1\u001b[0m \u001b[32m━━━━━━━━━━━━━━━━━━━━\u001b[0m\u001b[37m\u001b[0m \u001b[1m0s\u001b[0m 46ms/step\n",
            "\u001b[1m1/1\u001b[0m \u001b[32m━━━━━━━━━━━━━━━━━━━━\u001b[0m\u001b[37m\u001b[0m \u001b[1m0s\u001b[0m 77ms/step\n",
            "\u001b[1m1/1\u001b[0m \u001b[32m━━━━━━━━━━━━━━━━━━━━\u001b[0m\u001b[37m\u001b[0m \u001b[1m0s\u001b[0m 53ms/step\n",
            "\u001b[1m1/1\u001b[0m \u001b[32m━━━━━━━━━━━━━━━━━━━━\u001b[0m\u001b[37m\u001b[0m \u001b[1m0s\u001b[0m 53ms/step\n",
            "\u001b[1m1/1\u001b[0m \u001b[32m━━━━━━━━━━━━━━━━━━━━\u001b[0m\u001b[37m\u001b[0m \u001b[1m0s\u001b[0m 47ms/step\n",
            "\u001b[1m1/1\u001b[0m \u001b[32m━━━━━━━━━━━━━━━━━━━━\u001b[0m\u001b[37m\u001b[0m \u001b[1m0s\u001b[0m 49ms/step\n",
            "\u001b[1m1/1\u001b[0m \u001b[32m━━━━━━━━━━━━━━━━━━━━\u001b[0m\u001b[37m\u001b[0m \u001b[1m0s\u001b[0m 58ms/step\n",
            "\u001b[1m1/1\u001b[0m \u001b[32m━━━━━━━━━━━━━━━━━━━━\u001b[0m\u001b[37m\u001b[0m \u001b[1m0s\u001b[0m 24ms/step\n",
            "\u001b[1m1/1\u001b[0m \u001b[32m━━━━━━━━━━━━━━━━━━━━\u001b[0m\u001b[37m\u001b[0m \u001b[1m0s\u001b[0m 23ms/step\n",
            "\u001b[1m1/1\u001b[0m \u001b[32m━━━━━━━━━━━━━━━━━━━━\u001b[0m\u001b[37m\u001b[0m \u001b[1m0s\u001b[0m 89ms/step\n",
            "\u001b[1m1/1\u001b[0m \u001b[32m━━━━━━━━━━━━━━━━━━━━\u001b[0m\u001b[37m\u001b[0m \u001b[1m0s\u001b[0m 54ms/step\n",
            "\u001b[1m1/1\u001b[0m \u001b[32m━━━━━━━━━━━━━━━━━━━━\u001b[0m\u001b[37m\u001b[0m \u001b[1m0s\u001b[0m 39ms/step\n",
            "\u001b[1m1/1\u001b[0m \u001b[32m━━━━━━━━━━━━━━━━━━━━\u001b[0m\u001b[37m\u001b[0m \u001b[1m0s\u001b[0m 48ms/step\n",
            "\u001b[1m1/1\u001b[0m \u001b[32m━━━━━━━━━━━━━━━━━━━━\u001b[0m\u001b[37m\u001b[0m \u001b[1m0s\u001b[0m 30ms/step\n",
            "\u001b[1m1/1\u001b[0m \u001b[32m━━━━━━━━━━━━━━━━━━━━\u001b[0m\u001b[37m\u001b[0m \u001b[1m0s\u001b[0m 69ms/step\n",
            "\u001b[1m1/1\u001b[0m \u001b[32m━━━━━━━━━━━━━━━━━━━━\u001b[0m\u001b[37m\u001b[0m \u001b[1m0s\u001b[0m 99ms/step\n",
            "\u001b[1m1/1\u001b[0m \u001b[32m━━━━━━━━━━━━━━━━━━━━\u001b[0m\u001b[37m\u001b[0m \u001b[1m0s\u001b[0m 51ms/step\n",
            "\u001b[1m1/1\u001b[0m \u001b[32m━━━━━━━━━━━━━━━━━━━━\u001b[0m\u001b[37m\u001b[0m \u001b[1m0s\u001b[0m 31ms/step\n",
            "\u001b[1m1/1\u001b[0m \u001b[32m━━━━━━━━━━━━━━━━━━━━\u001b[0m\u001b[37m\u001b[0m \u001b[1m0s\u001b[0m 24ms/step\n",
            "\u001b[1m1/1\u001b[0m \u001b[32m━━━━━━━━━━━━━━━━━━━━\u001b[0m\u001b[37m\u001b[0m \u001b[1m0s\u001b[0m 27ms/step\n",
            "\u001b[1m1/1\u001b[0m \u001b[32m━━━━━━━━━━━━━━━━━━━━\u001b[0m\u001b[37m\u001b[0m \u001b[1m0s\u001b[0m 28ms/step\n",
            "\u001b[1m1/1\u001b[0m \u001b[32m━━━━━━━━━━━━━━━━━━━━\u001b[0m\u001b[37m\u001b[0m \u001b[1m0s\u001b[0m 24ms/step\n",
            "\u001b[1m1/1\u001b[0m \u001b[32m━━━━━━━━━━━━━━━━━━━━\u001b[0m\u001b[37m\u001b[0m \u001b[1m0s\u001b[0m 24ms/step\n",
            "\u001b[1m1/1\u001b[0m \u001b[32m━━━━━━━━━━━━━━━━━━━━\u001b[0m\u001b[37m\u001b[0m \u001b[1m0s\u001b[0m 27ms/step\n",
            "\u001b[1m1/1\u001b[0m \u001b[32m━━━━━━━━━━━━━━━━━━━━\u001b[0m\u001b[37m\u001b[0m \u001b[1m0s\u001b[0m 20ms/step\n",
            "\u001b[1m1/1\u001b[0m \u001b[32m━━━━━━━━━━━━━━━━━━━━\u001b[0m\u001b[37m\u001b[0m \u001b[1m0s\u001b[0m 19ms/step\n",
            "\u001b[1m1/1\u001b[0m \u001b[32m━━━━━━━━━━━━━━━━━━━━\u001b[0m\u001b[37m\u001b[0m \u001b[1m0s\u001b[0m 18ms/step\n",
            "\u001b[1m1/1\u001b[0m \u001b[32m━━━━━━━━━━━━━━━━━━━━\u001b[0m\u001b[37m\u001b[0m \u001b[1m0s\u001b[0m 17ms/step\n",
            "\u001b[1m1/1\u001b[0m \u001b[32m━━━━━━━━━━━━━━━━━━━━\u001b[0m\u001b[37m\u001b[0m \u001b[1m0s\u001b[0m 30ms/step\n",
            "\u001b[1m1/1\u001b[0m \u001b[32m━━━━━━━━━━━━━━━━━━━━\u001b[0m\u001b[37m\u001b[0m \u001b[1m0s\u001b[0m 29ms/step\n",
            "\u001b[1m1/1\u001b[0m \u001b[32m━━━━━━━━━━━━━━━━━━━━\u001b[0m\u001b[37m\u001b[0m \u001b[1m0s\u001b[0m 30ms/step\n",
            "\u001b[1m1/1\u001b[0m \u001b[32m━━━━━━━━━━━━━━━━━━━━\u001b[0m\u001b[37m\u001b[0m \u001b[1m0s\u001b[0m 30ms/step\n",
            "\u001b[1m1/1\u001b[0m \u001b[32m━━━━━━━━━━━━━━━━━━━━\u001b[0m\u001b[37m\u001b[0m \u001b[1m0s\u001b[0m 26ms/step\n",
            "\u001b[1m1/1\u001b[0m \u001b[32m━━━━━━━━━━━━━━━━━━━━\u001b[0m\u001b[37m\u001b[0m \u001b[1m0s\u001b[0m 25ms/step\n",
            "\u001b[1m1/1\u001b[0m \u001b[32m━━━━━━━━━━━━━━━━━━━━\u001b[0m\u001b[37m\u001b[0m \u001b[1m0s\u001b[0m 24ms/step\n",
            "\u001b[1m1/1\u001b[0m \u001b[32m━━━━━━━━━━━━━━━━━━━━\u001b[0m\u001b[37m\u001b[0m \u001b[1m0s\u001b[0m 24ms/step\n",
            "\u001b[1m1/1\u001b[0m \u001b[32m━━━━━━━━━━━━━━━━━━━━\u001b[0m\u001b[37m\u001b[0m \u001b[1m0s\u001b[0m 27ms/step\n",
            "\u001b[1m1/1\u001b[0m \u001b[32m━━━━━━━━━━━━━━━━━━━━\u001b[0m\u001b[37m\u001b[0m \u001b[1m0s\u001b[0m 25ms/step\n",
            "\u001b[1m1/1\u001b[0m \u001b[32m━━━━━━━━━━━━━━━━━━━━\u001b[0m\u001b[37m\u001b[0m \u001b[1m0s\u001b[0m 30ms/step\n",
            "\u001b[1m1/1\u001b[0m \u001b[32m━━━━━━━━━━━━━━━━━━━━\u001b[0m\u001b[37m\u001b[0m \u001b[1m0s\u001b[0m 27ms/step\n",
            "\u001b[1m1/1\u001b[0m \u001b[32m━━━━━━━━━━━━━━━━━━━━\u001b[0m\u001b[37m\u001b[0m \u001b[1m0s\u001b[0m 30ms/step\n",
            "\u001b[1m1/1\u001b[0m \u001b[32m━━━━━━━━━━━━━━━━━━━━\u001b[0m\u001b[37m\u001b[0m \u001b[1m0s\u001b[0m 25ms/step\n",
            "\u001b[1m1/1\u001b[0m \u001b[32m━━━━━━━━━━━━━━━━━━━━\u001b[0m\u001b[37m\u001b[0m \u001b[1m0s\u001b[0m 30ms/step\n",
            "\u001b[1m1/1\u001b[0m \u001b[32m━━━━━━━━━━━━━━━━━━━━\u001b[0m\u001b[37m\u001b[0m \u001b[1m0s\u001b[0m 29ms/step\n",
            "\u001b[1m1/1\u001b[0m \u001b[32m━━━━━━━━━━━━━━━━━━━━\u001b[0m\u001b[37m\u001b[0m \u001b[1m0s\u001b[0m 27ms/step\n",
            "\u001b[1m1/1\u001b[0m \u001b[32m━━━━━━━━━━━━━━━━━━━━\u001b[0m\u001b[37m\u001b[0m \u001b[1m0s\u001b[0m 42ms/step\n",
            "\u001b[1m1/1\u001b[0m \u001b[32m━━━━━━━━━━━━━━━━━━━━\u001b[0m\u001b[37m\u001b[0m \u001b[1m0s\u001b[0m 17ms/step\n",
            "\u001b[1m1/1\u001b[0m \u001b[32m━━━━━━━━━━━━━━━━━━━━\u001b[0m\u001b[37m\u001b[0m \u001b[1m0s\u001b[0m 20ms/step\n",
            "\u001b[1m1/1\u001b[0m \u001b[32m━━━━━━━━━━━━━━━━━━━━\u001b[0m\u001b[37m\u001b[0m \u001b[1m0s\u001b[0m 23ms/step\n",
            "\u001b[1m1/1\u001b[0m \u001b[32m━━━━━━━━━━━━━━━━━━━━\u001b[0m\u001b[37m\u001b[0m \u001b[1m0s\u001b[0m 16ms/step\n",
            "\u001b[1m1/1\u001b[0m \u001b[32m━━━━━━━━━━━━━━━━━━━━\u001b[0m\u001b[37m\u001b[0m \u001b[1m0s\u001b[0m 26ms/step\n",
            "\u001b[1m1/1\u001b[0m \u001b[32m━━━━━━━━━━━━━━━━━━━━\u001b[0m\u001b[37m\u001b[0m \u001b[1m0s\u001b[0m 28ms/step\n",
            "\u001b[1m1/1\u001b[0m \u001b[32m━━━━━━━━━━━━━━━━━━━━\u001b[0m\u001b[37m\u001b[0m \u001b[1m0s\u001b[0m 31ms/step\n",
            "\u001b[1m1/1\u001b[0m \u001b[32m━━━━━━━━━━━━━━━━━━━━\u001b[0m\u001b[37m\u001b[0m \u001b[1m0s\u001b[0m 29ms/step\n",
            "\u001b[1m1/1\u001b[0m \u001b[32m━━━━━━━━━━━━━━━━━━━━\u001b[0m\u001b[37m\u001b[0m \u001b[1m0s\u001b[0m 27ms/step\n",
            "\u001b[1m1/1\u001b[0m \u001b[32m━━━━━━━━━━━━━━━━━━━━\u001b[0m\u001b[37m\u001b[0m \u001b[1m0s\u001b[0m 29ms/step\n",
            "\u001b[1m1/1\u001b[0m \u001b[32m━━━━━━━━━━━━━━━━━━━━\u001b[0m\u001b[37m\u001b[0m \u001b[1m0s\u001b[0m 26ms/step\n",
            "\u001b[1m1/1\u001b[0m \u001b[32m━━━━━━━━━━━━━━━━━━━━\u001b[0m\u001b[37m\u001b[0m \u001b[1m0s\u001b[0m 27ms/step\n",
            "\u001b[1m1/1\u001b[0m \u001b[32m━━━━━━━━━━━━━━━━━━━━\u001b[0m\u001b[37m\u001b[0m \u001b[1m0s\u001b[0m 19ms/step\n",
            "\u001b[1m1/1\u001b[0m \u001b[32m━━━━━━━━━━━━━━━━━━━━\u001b[0m\u001b[37m\u001b[0m \u001b[1m0s\u001b[0m 25ms/step\n",
            "\u001b[1m1/1\u001b[0m \u001b[32m━━━━━━━━━━━━━━━━━━━━\u001b[0m\u001b[37m\u001b[0m \u001b[1m0s\u001b[0m 16ms/step\n",
            "\u001b[1m1/1\u001b[0m \u001b[32m━━━━━━━━━━━━━━━━━━━━\u001b[0m\u001b[37m\u001b[0m \u001b[1m0s\u001b[0m 16ms/step\n",
            "\u001b[1m1/1\u001b[0m \u001b[32m━━━━━━━━━━━━━━━━━━━━\u001b[0m\u001b[37m\u001b[0m \u001b[1m0s\u001b[0m 29ms/step\n",
            "\u001b[1m1/1\u001b[0m \u001b[32m━━━━━━━━━━━━━━━━━━━━\u001b[0m\u001b[37m\u001b[0m \u001b[1m0s\u001b[0m 28ms/step\n",
            "\u001b[1m1/1\u001b[0m \u001b[32m━━━━━━━━━━━━━━━━━━━━\u001b[0m\u001b[37m\u001b[0m \u001b[1m0s\u001b[0m 29ms/step\n",
            "\u001b[1m1/1\u001b[0m \u001b[32m━━━━━━━━━━━━━━━━━━━━\u001b[0m\u001b[37m\u001b[0m \u001b[1m0s\u001b[0m 39ms/step\n",
            "\u001b[1m1/1\u001b[0m \u001b[32m━━━━━━━━━━━━━━━━━━━━\u001b[0m\u001b[37m\u001b[0m \u001b[1m0s\u001b[0m 52ms/step\n",
            "\u001b[1m1/1\u001b[0m \u001b[32m━━━━━━━━━━━━━━━━━━━━\u001b[0m\u001b[37m\u001b[0m \u001b[1m0s\u001b[0m 35ms/step\n",
            "\u001b[1m1/1\u001b[0m \u001b[32m━━━━━━━━━━━━━━━━━━━━\u001b[0m\u001b[37m\u001b[0m \u001b[1m0s\u001b[0m 89ms/step\n",
            "\u001b[1m1/1\u001b[0m \u001b[32m━━━━━━━━━━━━━━━━━━━━\u001b[0m\u001b[37m\u001b[0m \u001b[1m0s\u001b[0m 71ms/step\n",
            "\u001b[1m1/1\u001b[0m \u001b[32m━━━━━━━━━━━━━━━━━━━━\u001b[0m\u001b[37m\u001b[0m \u001b[1m0s\u001b[0m 78ms/step\n",
            "\u001b[1m1/1\u001b[0m \u001b[32m━━━━━━━━━━━━━━━━━━━━\u001b[0m\u001b[37m\u001b[0m \u001b[1m0s\u001b[0m 64ms/step\n",
            "\u001b[1m1/1\u001b[0m \u001b[32m━━━━━━━━━━━━━━━━━━━━\u001b[0m\u001b[37m\u001b[0m \u001b[1m0s\u001b[0m 35ms/step\n",
            "\u001b[1m1/1\u001b[0m \u001b[32m━━━━━━━━━━━━━━━━━━━━\u001b[0m\u001b[37m\u001b[0m \u001b[1m0s\u001b[0m 59ms/step\n",
            "\u001b[1m1/1\u001b[0m \u001b[32m━━━━━━━━━━━━━━━━━━━━\u001b[0m\u001b[37m\u001b[0m \u001b[1m0s\u001b[0m 53ms/step\n",
            "\u001b[1m1/1\u001b[0m \u001b[32m━━━━━━━━━━━━━━━━━━━━\u001b[0m\u001b[37m\u001b[0m \u001b[1m0s\u001b[0m 48ms/step\n",
            "\u001b[1m1/1\u001b[0m \u001b[32m━━━━━━━━━━━━━━━━━━━━\u001b[0m\u001b[37m\u001b[0m \u001b[1m0s\u001b[0m 41ms/step\n",
            "\u001b[1m1/1\u001b[0m \u001b[32m━━━━━━━━━━━━━━━━━━━━\u001b[0m\u001b[37m\u001b[0m \u001b[1m0s\u001b[0m 76ms/step\n",
            "\u001b[1m1/1\u001b[0m \u001b[32m━━━━━━━━━━━━━━━━━━━━\u001b[0m\u001b[37m\u001b[0m \u001b[1m0s\u001b[0m 47ms/step\n",
            "\u001b[1m1/1\u001b[0m \u001b[32m━━━━━━━━━━━━━━━━━━━━\u001b[0m\u001b[37m\u001b[0m \u001b[1m0s\u001b[0m 73ms/step\n",
            "\u001b[1m1/1\u001b[0m \u001b[32m━━━━━━━━━━━━━━━━━━━━\u001b[0m\u001b[37m\u001b[0m \u001b[1m0s\u001b[0m 59ms/step\n",
            "\u001b[1m1/1\u001b[0m \u001b[32m━━━━━━━━━━━━━━━━━━━━\u001b[0m\u001b[37m\u001b[0m \u001b[1m0s\u001b[0m 60ms/step\n",
            "\u001b[1m1/1\u001b[0m \u001b[32m━━━━━━━━━━━━━━━━━━━━\u001b[0m\u001b[37m\u001b[0m \u001b[1m0s\u001b[0m 72ms/step\n",
            "\u001b[1m1/1\u001b[0m \u001b[32m━━━━━━━━━━━━━━━━━━━━\u001b[0m\u001b[37m\u001b[0m \u001b[1m0s\u001b[0m 92ms/step\n",
            "\u001b[1m1/1\u001b[0m \u001b[32m━━━━━━━━━━━━━━━━━━━━\u001b[0m\u001b[37m\u001b[0m \u001b[1m0s\u001b[0m 23ms/step\n",
            "\u001b[1m1/1\u001b[0m \u001b[32m━━━━━━━━━━━━━━━━━━━━\u001b[0m\u001b[37m\u001b[0m \u001b[1m0s\u001b[0m 23ms/step\n",
            "\u001b[1m1/1\u001b[0m \u001b[32m━━━━━━━━━━━━━━━━━━━━\u001b[0m\u001b[37m\u001b[0m \u001b[1m0s\u001b[0m 26ms/step\n",
            "\u001b[1m1/1\u001b[0m \u001b[32m━━━━━━━━━━━━━━━━━━━━\u001b[0m\u001b[37m\u001b[0m \u001b[1m0s\u001b[0m 27ms/step\n",
            "\u001b[1m1/1\u001b[0m \u001b[32m━━━━━━━━━━━━━━━━━━━━\u001b[0m\u001b[37m\u001b[0m \u001b[1m0s\u001b[0m 24ms/step\n",
            "\u001b[1m1/1\u001b[0m \u001b[32m━━━━━━━━━━━━━━━━━━━━\u001b[0m\u001b[37m\u001b[0m \u001b[1m0s\u001b[0m 28ms/step\n",
            "\u001b[1m1/1\u001b[0m \u001b[32m━━━━━━━━━━━━━━━━━━━━\u001b[0m\u001b[37m\u001b[0m \u001b[1m0s\u001b[0m 26ms/step\n",
            "\u001b[1m1/1\u001b[0m \u001b[32m━━━━━━━━━━━━━━━━━━━━\u001b[0m\u001b[37m\u001b[0m \u001b[1m0s\u001b[0m 28ms/step\n",
            "\u001b[1m1/1\u001b[0m \u001b[32m━━━━━━━━━━━━━━━━━━━━\u001b[0m\u001b[37m\u001b[0m \u001b[1m0s\u001b[0m 16ms/step\n",
            "\u001b[1m1/1\u001b[0m \u001b[32m━━━━━━━━━━━━━━━━━━━━\u001b[0m\u001b[37m\u001b[0m \u001b[1m0s\u001b[0m 16ms/step\n",
            "\u001b[1m1/1\u001b[0m \u001b[32m━━━━━━━━━━━━━━━━━━━━\u001b[0m\u001b[37m\u001b[0m \u001b[1m0s\u001b[0m 15ms/step\n",
            "\u001b[1m1/1\u001b[0m \u001b[32m━━━━━━━━━━━━━━━━━━━━\u001b[0m\u001b[37m\u001b[0m \u001b[1m0s\u001b[0m 15ms/step\n",
            "\u001b[1m1/1\u001b[0m \u001b[32m━━━━━━━━━━━━━━━━━━━━\u001b[0m\u001b[37m\u001b[0m \u001b[1m0s\u001b[0m 15ms/step\n",
            "\u001b[1m1/1\u001b[0m \u001b[32m━━━━━━━━━━━━━━━━━━━━\u001b[0m\u001b[37m\u001b[0m \u001b[1m0s\u001b[0m 16ms/step\n",
            "\u001b[1m1/1\u001b[0m \u001b[32m━━━━━━━━━━━━━━━━━━━━\u001b[0m\u001b[37m\u001b[0m \u001b[1m0s\u001b[0m 16ms/step\n",
            "\u001b[1m1/1\u001b[0m \u001b[32m━━━━━━━━━━━━━━━━━━━━\u001b[0m\u001b[37m\u001b[0m \u001b[1m0s\u001b[0m 15ms/step\n",
            "\u001b[1m1/1\u001b[0m \u001b[32m━━━━━━━━━━━━━━━━━━━━\u001b[0m\u001b[37m\u001b[0m \u001b[1m0s\u001b[0m 15ms/step\n",
            "\u001b[1m1/1\u001b[0m \u001b[32m━━━━━━━━━━━━━━━━━━━━\u001b[0m\u001b[37m\u001b[0m \u001b[1m0s\u001b[0m 16ms/step\n",
            "\u001b[1m1/1\u001b[0m \u001b[32m━━━━━━━━━━━━━━━━━━━━\u001b[0m\u001b[37m\u001b[0m \u001b[1m0s\u001b[0m 15ms/step\n",
            "\u001b[1m1/1\u001b[0m \u001b[32m━━━━━━━━━━━━━━━━━━━━\u001b[0m\u001b[37m\u001b[0m \u001b[1m0s\u001b[0m 20ms/step\n",
            "\u001b[1m1/1\u001b[0m \u001b[32m━━━━━━━━━━━━━━━━━━━━\u001b[0m\u001b[37m\u001b[0m \u001b[1m0s\u001b[0m 20ms/step\n",
            "\u001b[1m1/1\u001b[0m \u001b[32m━━━━━━━━━━━━━━━━━━━━\u001b[0m\u001b[37m\u001b[0m \u001b[1m0s\u001b[0m 17ms/step\n",
            "\u001b[1m1/1\u001b[0m \u001b[32m━━━━━━━━━━━━━━━━━━━━\u001b[0m\u001b[37m\u001b[0m \u001b[1m0s\u001b[0m 17ms/step\n",
            "\u001b[1m1/1\u001b[0m \u001b[32m━━━━━━━━━━━━━━━━━━━━\u001b[0m\u001b[37m\u001b[0m \u001b[1m0s\u001b[0m 15ms/step\n",
            "\u001b[1m1/1\u001b[0m \u001b[32m━━━━━━━━━━━━━━━━━━━━\u001b[0m\u001b[37m\u001b[0m \u001b[1m0s\u001b[0m 15ms/step\n",
            "\u001b[1m1/1\u001b[0m \u001b[32m━━━━━━━━━━━━━━━━━━━━\u001b[0m\u001b[37m\u001b[0m \u001b[1m0s\u001b[0m 24ms/step\n",
            "\u001b[1m1/1\u001b[0m \u001b[32m━━━━━━━━━━━━━━━━━━━━\u001b[0m\u001b[37m\u001b[0m \u001b[1m0s\u001b[0m 16ms/step\n",
            "\u001b[1m1/1\u001b[0m \u001b[32m━━━━━━━━━━━━━━━━━━━━\u001b[0m\u001b[37m\u001b[0m \u001b[1m0s\u001b[0m 15ms/step\n",
            "\u001b[1m1/1\u001b[0m \u001b[32m━━━━━━━━━━━━━━━━━━━━\u001b[0m\u001b[37m\u001b[0m \u001b[1m0s\u001b[0m 16ms/step\n",
            "\u001b[1m1/1\u001b[0m \u001b[32m━━━━━━━━━━━━━━━━━━━━\u001b[0m\u001b[37m\u001b[0m \u001b[1m0s\u001b[0m 15ms/step\n",
            "\u001b[1m1/1\u001b[0m \u001b[32m━━━━━━━━━━━━━━━━━━━━\u001b[0m\u001b[37m\u001b[0m \u001b[1m0s\u001b[0m 16ms/step\n",
            "\u001b[1m1/1\u001b[0m \u001b[32m━━━━━━━━━━━━━━━━━━━━\u001b[0m\u001b[37m\u001b[0m \u001b[1m0s\u001b[0m 24ms/step\n",
            "\u001b[1m1/1\u001b[0m \u001b[32m━━━━━━━━━━━━━━━━━━━━\u001b[0m\u001b[37m\u001b[0m \u001b[1m0s\u001b[0m 28ms/step\n",
            "\u001b[1m1/1\u001b[0m \u001b[32m━━━━━━━━━━━━━━━━━━━━\u001b[0m\u001b[37m\u001b[0m \u001b[1m0s\u001b[0m 23ms/step\n"
          ]
        }
      ]
    },
    {
      "cell_type": "code",
      "source": [],
      "metadata": {
        "id": "kzaSWzPhEpGR"
      },
      "execution_count": 186,
      "outputs": []
    },
    {
      "cell_type": "code",
      "source": [],
      "metadata": {
        "id": "AwtQdNonEpJr"
      },
      "execution_count": 186,
      "outputs": []
    },
    {
      "cell_type": "code",
      "source": [
        "# Inverse scale predictions"
      ],
      "metadata": {
        "id": "2L8ihMViEpMw"
      },
      "execution_count": 187,
      "outputs": []
    },
    {
      "cell_type": "code",
      "source": [
        "lstm_pred = scaler.inverse_transform(lstm_pred_scaled)  # Inverse transform the scaled predictions"
      ],
      "metadata": {
        "id": "Hda52ZhnEpSb"
      },
      "execution_count": 188,
      "outputs": []
    },
    {
      "cell_type": "code",
      "source": [],
      "metadata": {
        "id": "tWSVuTDVEpV5"
      },
      "execution_count": 188,
      "outputs": []
    },
    {
      "cell_type": "code",
      "source": [
        "# Plot LSTM predictions"
      ],
      "metadata": {
        "id": "w95m_O69EpYk"
      },
      "execution_count": 189,
      "outputs": []
    },
    {
      "cell_type": "code",
      "source": [
        "plt.figure(figsize=(12, 6))  # Set the figure size for the plot\n",
        "plt.plot(train.index, train, label='Train')  # Plot the training data\n",
        "plt.plot(test.index, test, label='Test', color='orange')  # Plot the test data\n",
        "plt.plot(test.index, lstm_pred, label='LSTM Predictions', color='red')  # Plot LSTM predictions\n",
        "plt.legend()  # Show the legend\n",
        "plt.show()  # Show the plot"
      ],
      "metadata": {
        "colab": {
          "base_uri": "https://localhost:8080/",
          "height": 432
        },
        "id": "xiwNYCFxEpdJ",
        "outputId": "e7c75a2d-65c0-43fb-e5fa-a19621aae19f"
      },
      "execution_count": 190,
      "outputs": [
        {
          "output_type": "display_data",
          "data": {
            "text/plain": [
              "<Figure size 1200x600 with 1 Axes>"
            ],
            "image/png": "[encoded data removed]"
          },
          "metadata": {}
        }
      ]
    },
    {
      "cell_type": "code",
      "source": [],
      "metadata": {
        "id": "KkD5f_yrEkhy"
      },
      "execution_count": 190,
      "outputs": []
    },
    {
      "cell_type": "code",
      "source": [],
      "metadata": {
        "id": "ybu9xaIhEklE"
      },
      "execution_count": 190,
      "outputs": []
    },
    {
      "cell_type": "code",
      "source": [
        "# Evaluate LSTM model"
      ],
      "metadata": {
        "id": "_NxtMk3NEadR"
      },
      "execution_count": 191,
      "outputs": []
    },
    {
      "cell_type": "code",
      "source": [
        "lstm_mse = mean_squared_error(test, lstm_pred)  # Calculate mean squared error for LSTM predictions"
      ],
      "metadata": {
        "id": "rwZXC0Cl1bwb"
      },
      "execution_count": 192,
      "outputs": []
    },
    {
      "cell_type": "code",
      "source": [
        "print(\"LSTM Model MSE:\", lstm_mse)  # Print the MSE of the LSTM model"
      ],
      "metadata": {
        "colab": {
          "base_uri": "https://localhost:8080/"
        },
        "id": "aQIgIHPxE1Uz",
        "outputId": "1c05421e-1391-4cce-bf18-f7c132461410"
      },
      "execution_count": 193,
      "outputs": [
        {
          "output_type": "stream",
          "name": "stdout",
          "text": [
            "LSTM Model MSE: 104868.05573030606\n"
          ]
        }
      ]
    },
    {
      "cell_type": "markdown",
      "source": [
        "---"
      ],
      "metadata": {
        "id": "mrJZ7s8XIzN1"
      }
    },
    {
      "cell_type": "code",
      "source": [],
      "metadata": {
        "id": "aQ6KZ37SE1Xw"
      },
      "execution_count": 193,
      "outputs": []
    },
    {
      "cell_type": "code",
      "source": [],
      "metadata": {
        "id": "VKiriDY-E1av"
      },
      "execution_count": 193,
      "outputs": []
    },
    {
      "cell_type": "code",
      "source": [],
      "metadata": {
        "id": "VZUAgQDGE1de"
      },
      "execution_count": 210,
      "outputs": []
    },
    {
      "cell_type": "markdown",
      "source": [
        "---"
      ],
      "metadata": {
        "id": "suYVeqfpI05B"
      }
    },
    {
      "cell_type": "markdown",
      "source": [
        "# 🔮 **Step 8: Forecasting Future Values**\n",
        "\n",
        "## **Objective**\n",
        "Predict future water quality values based on the trained models.\n",
        "\n",
        "## **Key Steps**\n",
        "- Use the best-performing model to forecast future values.\n",
        "- Visualize the forecasted results against actual values for comparison."
      ],
      "metadata": {
        "id": "XpATJ1E0KfQX"
      }
    },
    {
      "cell_type": "code",
      "source": [
        "# Forecasting Future Values with the Best Model"
      ],
      "metadata": {
        "id": "sewbnyxTE1gg"
      },
      "execution_count": 194,
      "outputs": []
    },
    {
      "cell_type": "code",
      "source": [
        "# Here we assume ARIMA performed better; adjust if LSTM performs better"
      ],
      "metadata": {
        "id": "etCrR3R8E1i6"
      },
      "execution_count": 195,
      "outputs": []
    },
    {
      "cell_type": "code",
      "source": [
        "future_periods = 12  # Number of future months to predict"
      ],
      "metadata": {
        "id": "9KeabQjVE1lb"
      },
      "execution_count": 196,
      "outputs": []
    },
    {
      "cell_type": "code",
      "source": [],
      "metadata": {
        "id": "VkiNELKGFDpS"
      },
      "execution_count": 196,
      "outputs": []
    },
    {
      "cell_type": "code",
      "source": [
        "# Forecast with ARIMA"
      ],
      "metadata": {
        "id": "FEeMSPviFDsA"
      },
      "execution_count": 197,
      "outputs": []
    },
    {
      "cell_type": "code",
      "source": [
        "arima_forecast = arima_result.predict(start=len(time_series_data), end=len(time_series_data) + future_periods - 1, typ='levels')  # Forecast future values using ARIMA\n"
      ],
      "metadata": {
        "id": "WMUWHycKFDuy"
      },
      "execution_count": 198,
      "outputs": []
    },
    {
      "cell_type": "code",
      "source": [],
      "metadata": {
        "id": "cb7FWO5IFIga"
      },
      "execution_count": 198,
      "outputs": []
    },
    {
      "cell_type": "code",
      "source": [
        "# Plot forecast"
      ],
      "metadata": {
        "id": "YV61ITMfFIjs"
      },
      "execution_count": 199,
      "outputs": []
    },
    {
      "cell_type": "code",
      "source": [
        "plt.figure(figsize=(12, 6))  # Set the figure size for the plot\n",
        "plt.plot(time_series_data, label='Historical Data')  # Plot historical data\n",
        "plt.plot(pd.date_range(time_series_data.index[-1] + pd.DateOffset(1), periods=future_periods, freq='M'), arima_forecast, label='ARIMA Forecast', color='purple')  # Plot ARIMA forecast\n",
        "plt.legend()  # Show the legend\n",
        "plt.show()  # Show the plot"
      ],
      "metadata": {
        "colab": {
          "base_uri": "https://localhost:8080/",
          "height": 432
        },
        "id": "LXPN9jcuFInG",
        "outputId": "08e461eb-e746-41d2-e5bd-ff04bb9b8425"
      },
      "execution_count": 200,
      "outputs": [
        {
          "output_type": "display_data",
          "data": {
            "text/plain": [
              "<Figure size 1200x600 with 1 Axes>"
            ],
            "image/png": "[encoded data removed]"
          },
          "metadata": {}
        }
      ]
    },
    {
      "cell_type": "code",
      "source": [],
      "metadata": {
        "id": "i5iXImdkFIp1"
      },
      "execution_count": 200,
      "outputs": []
    },
    {
      "cell_type": "code",
      "source": [],
      "metadata": {
        "id": "Dk-Cht4dFIs4"
      },
      "execution_count": 200,
      "outputs": []
    },
    {
      "cell_type": "code",
      "source": [
        "print(\"ARIMA Forecast for next 12 months:\\n\", arima_forecast)  # Print the ARIMA forecast for the next 12 months\n"
      ],
      "metadata": {
        "colab": {
          "base_uri": "https://localhost:8080/"
        },
        "id": "x5OqOxzWFOUq",
        "outputId": "a6196343-e853-48ab-bffa-54f0ed566f04"
      },
      "execution_count": 201,
      "outputs": [
        {
          "output_type": "stream",
          "name": "stdout",
          "text": [
            "ARIMA Forecast for next 12 months:\n",
            " 1993-02-28    0.184937\n",
            "1993-03-31    0.190868\n",
            "1993-04-30    0.208530\n",
            "1993-05-31    0.197235\n",
            "1993-06-30    0.184035\n",
            "1993-07-31    0.199010\n",
            "1993-08-31    0.206785\n",
            "1993-09-30    0.190043\n",
            "1993-10-31    0.187997\n",
            "1993-11-30    0.204589\n",
            "1993-12-31    0.201229\n",
            "1994-01-31    0.186509\n",
            "Freq: ME, Name: predicted_mean, dtype: float64\n"
          ]
        }
      ]
    },
    {
      "cell_type": "code",
      "source": [],
      "metadata": {
        "id": "3Ur8WereFOXt"
      },
      "execution_count": 201,
      "outputs": []
    },
    {
      "cell_type": "code",
      "source": [
        "# Print accuracies"
      ],
      "metadata": {
        "id": "mP0Nl0eMFOaW"
      },
      "execution_count": 202,
      "outputs": []
    },
    {
      "cell_type": "code",
      "source": [
        "print(f\"ARIMA Model MSE: {arima_mse:.4f}\")  # Print the MSE for the ARIMA model\n",
        "print(f\"LSTM Model MSE: {lstm_mse:.4f}\")  # Print the MSE for the LSTM model"
      ],
      "metadata": {
        "colab": {
          "base_uri": "https://localhost:8080/"
        },
        "id": "AsEGkps5FOdC",
        "outputId": "4dd21921-368a-4ce4-a28c-af4b1c57eabd"
      },
      "execution_count": 203,
      "outputs": [
        {
          "output_type": "stream",
          "name": "stdout",
          "text": [
            "ARIMA Model MSE: 107599.1801\n",
            "LSTM Model MSE: 104868.0557\n"
          ]
        }
      ]
    },
    {
      "cell_type": "markdown",
      "source": [
        "---"
      ],
      "metadata": {
        "id": "nJoduz35I43t"
      }
    },
    {
      "cell_type": "code",
      "source": [],
      "metadata": {
        "id": "viI7pjmrFOfj"
      },
      "execution_count": 203,
      "outputs": []
    },
    {
      "cell_type": "code",
      "source": [],
      "metadata": {
        "id": "y2SPoSVEFIwH"
      },
      "execution_count": 203,
      "outputs": []
    },
    {
      "cell_type": "code",
      "source": [],
      "metadata": {
        "id": "VL3QnNZmFI7Z"
      },
      "execution_count": 203,
      "outputs": []
    },
    {
      "cell_type": "markdown",
      "source": [
        "---"
      ],
      "metadata": {
        "id": "TLyBS17BFV6F"
      }
    },
    {
      "cell_type": "code",
      "source": [
        "# Create DataFrames for predictions"
      ],
      "metadata": {
        "id": "rJfqFtAxFW2K"
      },
      "execution_count": 204,
      "outputs": []
    },
    {
      "cell_type": "code",
      "source": [
        "arima_results_df = pd.DataFrame({  # Create DataFrame for ARIMA predictions\n",
        "    'Date': test.index,  # Date index from test set\n",
        "    'Actual': test.values,  # Actual values from test set\n",
        "    'ARIMA_Predicted': arima_pred  # Predicted values from ARIMA\n",
        "})"
      ],
      "metadata": {
        "id": "RknYK1yPFD8i"
      },
      "execution_count": 205,
      "outputs": []
    },
    {
      "cell_type": "code",
      "source": [],
      "metadata": {
        "id": "YcZO212FFak9"
      },
      "execution_count": 205,
      "outputs": []
    },
    {
      "cell_type": "code",
      "source": [
        "lstm_results_df = pd.DataFrame({  # Create DataFrame for LSTM predictions\n",
        "    'Date': test.index,  # Date index from test set\n",
        "    'Actual': test.values,  # Actual values from test set\n",
        "    'LSTM_Predicted': lstm_pred.flatten()  # Predicted values from LSTM, flattened to 1D\n",
        "})"
      ],
      "metadata": {
        "id": "FxWxVzf1FaqF"
      },
      "execution_count": 206,
      "outputs": []
    },
    {
      "cell_type": "code",
      "source": [],
      "metadata": {
        "id": "fO5kezPgFeu7"
      },
      "execution_count": 206,
      "outputs": []
    },
    {
      "cell_type": "code",
      "source": [],
      "metadata": {
        "id": "jhChqqpSFgxT"
      },
      "execution_count": 206,
      "outputs": []
    },
    {
      "cell_type": "code",
      "source": [
        "# Save DataFrames to CSV"
      ],
      "metadata": {
        "id": "7t2txngFFe5S"
      },
      "execution_count": 207,
      "outputs": []
    },
    {
      "cell_type": "code",
      "source": [
        "arima_results_df.to_csv('arima_predictions.csv', index=False)  # Save ARIMA predictions to CSV"
      ],
      "metadata": {
        "id": "ShI1Ql4NFe8k"
      },
      "execution_count": 208,
      "outputs": []
    },
    {
      "cell_type": "code",
      "source": [
        "lstm_results_df.to_csv('lstm_predictions.csv', index=False)  # Save LSTM predictions to CSV"
      ],
      "metadata": {
        "id": "EsGXSwq5FfDA"
      },
      "execution_count": 209,
      "outputs": []
    },
    {
      "cell_type": "code",
      "source": [],
      "metadata": {
        "id": "sDUBie7VFfF_"
      },
      "execution_count": 209,
      "outputs": []
    },
    {
      "cell_type": "code",
      "source": [
        "print(\"Predictions saved as 'arima_predictions.csv' and 'lstm_predictions.csv'.\")  # Print confirmation message\n"
      ],
      "metadata": {
        "colab": {
          "base_uri": "https://localhost:8080/"
        },
        "id": "KYbLa9NbFauu",
        "outputId": "2fa035a8-6e7a-4232-f604-f19c88f628f2"
      },
      "execution_count": 210,
      "outputs": [
        {
          "output_type": "stream",
          "name": "stdout",
          "text": [
            "Predictions saved as 'arima_predictions.csv' and 'lstm_predictions.csv'.\n"
          ]
        }
      ]
    },
    {
      "cell_type": "code",
      "source": [],
      "metadata": {
        "id": "L08gUu6YFpr6"
      },
      "execution_count": 210,
      "outputs": []
    },
    {
      "cell_type": "markdown",
      "source": [
        "---"
      ],
      "metadata": {
        "id": "dlx8S6jgFnf6"
      }
    },
    {
      "cell_type": "code",
      "source": [],
      "metadata": {
        "id": "3mJyPmZGFaxv"
      },
      "execution_count": 210,
      "outputs": []
    },
    {
      "cell_type": "code",
      "source": [],
      "metadata": {
        "id": "ktSWRPS0FD_w"
      },
      "execution_count": 210,
      "outputs": []
    },
    {
      "cell_type": "code",
      "source": [],
      "metadata": {
        "id": "KlGCTOKDFEEw"
      },
      "execution_count": 210,
      "outputs": []
    },
    {
      "cell_type": "markdown",
      "source": [
        "# 🏁 **Conclusion**\n",
        "\n",
        "## **Summary**\n",
        "This project successfully implemented ARIMA and LSTM models to forecast water quality based on historical data. Through comprehensive data cleaning and exploratory data analysis, key insights were derived, paving the way for accurate predictions.\n",
        "\n",
        "## **Key Findings**\n",
        "- **Data Quality**: Clean and well-structured data significantly impacts the accuracy of forecasting models.\n",
        "- **Model Performance**: Both ARIMA and LSTM demonstrated strong capabilities, with LSTM providing superior results in capturing complex patterns in time series data.\n",
        "- **Future Directions**: Further improvements could involve hyperparameter tuning, exploring other model architectures, and incorporating additional features that may influence water quality.\n",
        "\n",
        "## **Implications**\n",
        "The forecasting models developed in this project can serve as valuable tools for environmental monitoring agencies and policymakers, enabling better decision-making to maintain and improve water quality."
      ],
      "metadata": {
        "id": "ncHmAHAdKmaL"
      }
    }
  ]
}