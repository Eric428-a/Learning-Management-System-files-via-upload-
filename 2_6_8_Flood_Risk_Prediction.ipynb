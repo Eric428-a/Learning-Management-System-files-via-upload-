{
  "nbformat": 4,
  "nbformat_minor": 0,
  "metadata": {
    "colab": {
      "provenance": []
    },
    "kernelspec": {
      "name": "python3",
      "display_name": "Python 3"
    },
    "language_info": {
      "name": "python"
    }
  },
  "cells": [
    {
      "cell_type": "markdown",
      "source": [
        "# **⚡ Flood Risk Prediction System Using Machine Learning**\n",
        "\n",
        "## **📜 Project Overview**\n",
        "This project aims to predict flood risk based on key environmental variables such as rainfall, soil moisture, and water levels using machine learning models. The solution includes extensive exploratory data analysis (EDA), model training, performance evaluation, and deployment as a Flask-based API for real-time predictions.\n",
        "\n",
        "---\n",
        "\n",
        "## **🎯 Objectives**\n",
        "- Perform exploratory data analysis (EDA) on flood-related data.\n",
        "- Build and train machine learning models to predict flood risk.\n",
        "- Save and deploy the model as a simple API for real-time predictions.\n",
        "\n",
        "---\n",
        "\n",
        "## **🔧 Tools and Libraries**\n",
        "- **Programming Language**: Python\n",
        "- **Libraries Used**:\n",
        "  - Data Manipulation: `pandas`, `numpy`\n",
        "  - Visualization: `matplotlib`, `seaborn`\n",
        "  - Machine Learning Models: `scikit-learn`\n",
        "  - Model Saving: `joblib`\n",
        "  - Web Framework: `Flask`\n",
        "  - API Deployment: `ngrok`\n",
        "\n",
        "---\n",
        "\n",
        "## **📊 Exploratory Data Analysis (EDA)**\n",
        "- **Data Insights**:\n",
        "  - Rainfall (mm), soil moisture, and water levels are the key features analyzed.\n",
        "  - EDA involves plotting histograms, scatter plots, and heatmaps to assess the data distribution and correlations.\n",
        "- **Plots Used**:\n",
        "  - **Histograms**: Show data distribution.\n",
        "  - **Scatter Plots**: Visualize relationships between variables.\n",
        "  - **Correlation Heatmap**: Identify feature correlations.\n",
        "\n",
        "---\n",
        "\n",
        "## **📚 Data Preprocessing**\n",
        "- **Handling Missing Values**: No missing data in the synthetic dataset.\n",
        "- **Feature Scaling**: StandardScaler is applied to normalize the data for machine learning models.\n",
        "\n",
        "---\n",
        "\n",
        "## **🧠 Machine Learning Models**\n",
        "Two machine learning models are used for flood risk prediction:\n",
        "1. **Logistic Regression**\n",
        "2. **Support Vector Machine (SVM)**\n",
        "\n",
        "### **Model Training Process**:\n",
        "- Data is split into training (80%) and testing (20%) sets.\n",
        "- Both models are trained on the training set and evaluated on the testing set.\n",
        "\n",
        "---\n",
        "\n",
        "## **🔍 Model Evaluation**\n",
        "- **Accuracy**: The performance of both models is measured using accuracy scores.\n",
        "- **Classification Report**: Precision, Recall, F1-Score, and support metrics are computed for both Logistic Regression and SVM models.\n",
        "- **Confusion Matrix**: Used to visualize true positives, true negatives, false positives, and false negatives.\n",
        "\n",
        "---\n",
        "\n",
        "## **💾 Model Saving**\n",
        "- Both the Logistic Regression and SVM models are saved using `joblib` for easy deployment and future use.\n",
        "- Saved model files:\n",
        "  - `logistic_model.pkl`\n",
        "  - `svm_model.pkl`\n",
        "\n",
        "---\n",
        "\n",
        "## **🚀 Flask API for Real-Time Prediction**\n",
        "The trained Logistic Regression model is deployed using Flask to create a simple API that can accept JSON requests and return flood risk predictions.\n",
        "\n",
        "### **Key API Endpoints**:\n",
        "- **`GET /`**: Returns a simple message confirming that the API is running.\n",
        "- **`POST /predict`**: Takes input values for Rainfall (mm), Soil Moisture, and Water Level (m), and returns a flood risk prediction (0 or 1).\n",
        "\n",
        "---\n",
        "\n",
        "## **🔑 Key Learnings**\n",
        "- **EDA** is crucial to understanding the underlying data and its relationships.\n",
        "- **Model Performance**: Both Logistic Regression and SVM are suitable for classification tasks, but their performance can vary based on the dataset.\n",
        "- **API Deployment**: Flask provides an easy-to-use framework for deploying machine learning models as web services.\n",
        "\n",
        "---\n",
        "\n",
        "## **🎉 Conclusion**\n",
        "This project successfully demonstrates the use of machine learning models for flood risk prediction. With a well-rounded approach including EDA, model training, evaluation, and deployment, it provides a robust framework for real-time flood risk prediction.\n",
        "\n",
        "**Next Steps**:\n",
        "- Incorporate real-world flood data to further improve model accuracy.\n",
        "- Enhance the Flask API with more features such as authentication and error handling."
      ],
      "metadata": {
        "id": "MOblhLHt4x8B"
      }
    },
    {
      "cell_type": "code",
      "source": [],
      "metadata": {
        "id": "SkkxjjZ_4z-4"
      },
      "execution_count": 33,
      "outputs": []
    },
    {
      "cell_type": "code",
      "source": [],
      "metadata": {
        "id": "n_L6pa5S40Fz"
      },
      "execution_count": 33,
      "outputs": []
    },
    {
      "cell_type": "code",
      "source": [],
      "metadata": {
        "id": "_dOyVy9w40Ij"
      },
      "execution_count": 33,
      "outputs": []
    },
    {
      "cell_type": "markdown",
      "source": [
        "# **🚀 Step 1: Importing Libraries**\n",
        "\n",
        "## **📌 Purpose**\n",
        "This step is essential to load all the necessary libraries and tools required for data manipulation, visualization, machine learning model building, and deployment. Importing the right libraries upfront ensures that the rest of the workflow runs smoothly.\n",
        "\n",
        "## **🔧 Explanation of Libraries**:\n",
        "- **`pandas`**: A fast, powerful, and flexible data manipulation library used for reading, cleaning, and organizing data.\n",
        "- **`numpy`**: A numerical library used for performing mathematical operations on large, multi-dimensional arrays and matrices.\n",
        "- **`matplotlib` and `seaborn`**: Visualization libraries for creating plots, charts, and graphs to help understand data trends and patterns.\n",
        "- **`scikit-learn`**: A robust machine learning library providing tools for data preprocessing, model training, and evaluation.\n",
        "- **`joblib`**: Useful for saving models, allowing you to easily serialize and deserialize Python objects.\n",
        "- **`Flask`**: A micro web framework used to deploy the machine learning model as a web API.\n",
        "- **`ngrok`**: Allows secure introspectable tunnels to localhost, enabling you to expose a web server running locally.\n",
        "\n",
        "## **🌟 Key Takeaway**\n",
        "Without importing the correct libraries, the project cannot proceed to data analysis, model building, or deployment. It's crucial to ensure all necessary packages are installed and imported correctly."
      ],
      "metadata": {
        "id": "gofB9Kx-43TE"
      }
    },
    {
      "cell_type": "code",
      "source": [
        "# Install required libraries"
      ],
      "metadata": {
        "id": "OAHOMGSLvvEs"
      },
      "execution_count": 34,
      "outputs": []
    },
    {
      "cell_type": "code",
      "source": [
        "!pip install pandas scikit-learn flask  # Install required libraries for data manipulation, machine learning, and web application development.\n"
      ],
      "metadata": {
        "colab": {
          "base_uri": "https://localhost:8080/"
        },
        "id": "ppgi7UdR0hBz",
        "outputId": "98a69627-8a4d-45b9-ad52-4de06ee2eb6b"
      },
      "execution_count": 35,
      "outputs": [
        {
          "output_type": "stream",
          "name": "stdout",
          "text": [
            "Requirement already satisfied: pandas in /usr/local/lib/python3.10/dist-packages (2.2.2)\n",
            "Requirement already satisfied: scikit-learn in /usr/local/lib/python3.10/dist-packages (1.5.2)\n",
            "Requirement already satisfied: flask in /usr/local/lib/python3.10/dist-packages (2.2.5)\n",
            "Requirement already satisfied: numpy>=1.22.4 in /usr/local/lib/python3.10/dist-packages (from pandas) (1.26.4)\n",
            "Requirement already satisfied: python-dateutil>=2.8.2 in /usr/local/lib/python3.10/dist-packages (from pandas) (2.8.2)\n",
            "Requirement already satisfied: pytz>=2020.1 in /usr/local/lib/python3.10/dist-packages (from pandas) (2024.2)\n",
            "Requirement already satisfied: tzdata>=2022.7 in /usr/local/lib/python3.10/dist-packages (from pandas) (2024.2)\n",
            "Requirement already satisfied: scipy>=1.6.0 in /usr/local/lib/python3.10/dist-packages (from scikit-learn) (1.13.1)\n",
            "Requirement already satisfied: joblib>=1.2.0 in /usr/local/lib/python3.10/dist-packages (from scikit-learn) (1.4.2)\n",
            "Requirement already satisfied: threadpoolctl>=3.1.0 in /usr/local/lib/python3.10/dist-packages (from scikit-learn) (3.5.0)\n",
            "Requirement already satisfied: Werkzeug>=2.2.2 in /usr/local/lib/python3.10/dist-packages (from flask) (3.0.4)\n",
            "Requirement already satisfied: Jinja2>=3.0 in /usr/local/lib/python3.10/dist-packages (from flask) (3.1.4)\n",
            "Requirement already satisfied: itsdangerous>=2.0 in /usr/local/lib/python3.10/dist-packages (from flask) (2.2.0)\n",
            "Requirement already satisfied: click>=8.0 in /usr/local/lib/python3.10/dist-packages (from flask) (8.1.7)\n",
            "Requirement already satisfied: MarkupSafe>=2.0 in /usr/local/lib/python3.10/dist-packages (from Jinja2>=3.0->flask) (3.0.1)\n",
            "Requirement already satisfied: six>=1.5 in /usr/local/lib/python3.10/dist-packages (from python-dateutil>=2.8.2->pandas) (1.16.0)\n"
          ]
        }
      ]
    },
    {
      "cell_type": "code",
      "source": [],
      "metadata": {
        "id": "w4BFCtxZ5swI"
      },
      "execution_count": 35,
      "outputs": []
    },
    {
      "cell_type": "code",
      "source": [],
      "metadata": {
        "id": "Zx72ocRs5zSA"
      },
      "execution_count": 35,
      "outputs": []
    },
    {
      "cell_type": "code",
      "source": [
        "import warnings  # Import the warnings library to handle warning messages"
      ],
      "metadata": {
        "id": "n1hY2Tni5s-I"
      },
      "execution_count": 36,
      "outputs": []
    },
    {
      "cell_type": "code",
      "source": [
        "warnings.filterwarnings(\"ignore\")  # Ignore all warning messages"
      ],
      "metadata": {
        "id": "8pLRaWev5tOo"
      },
      "execution_count": 37,
      "outputs": []
    },
    {
      "cell_type": "code",
      "source": [],
      "metadata": {
        "id": "Xza2j-Bi5yrA"
      },
      "execution_count": 37,
      "outputs": []
    },
    {
      "cell_type": "code",
      "source": [],
      "metadata": {
        "id": "AnsGi33R0wOM"
      },
      "execution_count": 37,
      "outputs": []
    },
    {
      "cell_type": "code",
      "source": [
        "# Import necessary libraries for EDA and visualization"
      ],
      "metadata": {
        "id": "OX4r6NZY0wRR"
      },
      "execution_count": 38,
      "outputs": []
    },
    {
      "cell_type": "code",
      "source": [
        "import pandas as pd  # For data manipulation"
      ],
      "metadata": {
        "id": "vkx4hsk90wUI"
      },
      "execution_count": 39,
      "outputs": []
    },
    {
      "cell_type": "code",
      "source": [
        "import numpy as np  # For numerical operations"
      ],
      "metadata": {
        "id": "vUoOfVLZ0wWt"
      },
      "execution_count": 40,
      "outputs": []
    },
    {
      "cell_type": "code",
      "source": [
        "import matplotlib.pyplot as plt  # For plotting"
      ],
      "metadata": {
        "id": "atRSTnzr0wZW"
      },
      "execution_count": 41,
      "outputs": []
    },
    {
      "cell_type": "code",
      "source": [
        "import seaborn as sns  # For enhanced data visualizations"
      ],
      "metadata": {
        "id": "YF360lvf0wcW"
      },
      "execution_count": 42,
      "outputs": []
    },
    {
      "cell_type": "code",
      "source": [
        "from sklearn.model_selection import train_test_split  # For splitting dataset"
      ],
      "metadata": {
        "id": "UyKBXqO207e0"
      },
      "execution_count": 43,
      "outputs": []
    },
    {
      "cell_type": "code",
      "source": [
        "from sklearn.linear_model import LogisticRegression  # For Logistic Regression model"
      ],
      "metadata": {
        "id": "DkiT_qGV07h2"
      },
      "execution_count": 44,
      "outputs": []
    },
    {
      "cell_type": "code",
      "source": [
        "from sklearn.svm import SVC  # For Support Vector Machine model"
      ],
      "metadata": {
        "id": "p2C65Lx307kx"
      },
      "execution_count": 45,
      "outputs": []
    },
    {
      "cell_type": "code",
      "source": [
        "from sklearn.metrics import classification_report, accuracy_score, confusion_matrix, ConfusionMatrixDisplay  # For performance metrics\n"
      ],
      "metadata": {
        "id": "_F_3yfE007oB"
      },
      "execution_count": 46,
      "outputs": []
    },
    {
      "cell_type": "code",
      "source": [
        "import joblib  # For saving and loading machine learning models"
      ],
      "metadata": {
        "id": "qEWo671h1I3U"
      },
      "execution_count": 47,
      "outputs": []
    },
    {
      "cell_type": "code",
      "source": [
        "from flask import Flask, request, jsonify  # For Flask app creation and request handling"
      ],
      "metadata": {
        "id": "UFXQqQXc1I6P"
      },
      "execution_count": 48,
      "outputs": []
    },
    {
      "cell_type": "code",
      "source": [
        "from flask_ngrok import run_with_ngrok  # For running Flask app with ngrok"
      ],
      "metadata": {
        "id": "nIJYkPad1I9H"
      },
      "execution_count": 49,
      "outputs": []
    },
    {
      "cell_type": "code",
      "source": [],
      "metadata": {
        "id": "iFwB8Kxs1PFk"
      },
      "execution_count": 49,
      "outputs": []
    },
    {
      "cell_type": "code",
      "source": [],
      "metadata": {
        "id": "W5xVUENf1PIs"
      },
      "execution_count": 49,
      "outputs": []
    },
    {
      "cell_type": "code",
      "source": [],
      "metadata": {
        "id": "o7CIGAJT1PL_"
      },
      "execution_count": 49,
      "outputs": []
    },
    {
      "cell_type": "markdown",
      "source": [
        "# **🚀 Step 2: Loading the Dataset**\n",
        "\n",
        "## **📌 Purpose**\n",
        "This step involves reading the dataset into the environment for further analysis. Without loading the data, we cannot move forward with any form of analysis or model training.\n",
        "\n",
        "## **📂 Dataset Details**\n",
        "- The dataset contains several columns related to environmental factors such as **Rainfall (mm)**, **Soil Moisture**, and **Water Levels**.\n",
        "- The target variable for this project is the **Flood Risk** (binary classification: 0 for no flood risk, 1 for flood risk).\n",
        "\n",
        "## **🔍 Explanation**:\n",
        "- **`pandas.read_csv()`**: This function is used to read the dataset from a `.csv` file and load it into a pandas DataFrame.\n",
        "- The dataset path is crucial; ensure it's correctly set to the location of your file.\n",
        "- After loading, it's good practice to display the first few rows using `head()` to get an overview of the data and verify that it's loaded correctly.\n",
        "\n",
        "## **🌟 Key Takeaway**\n",
        "Loading the dataset is a foundational step that ensures the data is available in the environment for further exploration and processing."
      ],
      "metadata": {
        "id": "KM2N3Dp44-5o"
      }
    },
    {
      "cell_type": "code",
      "source": [
        "# Load the synthetic dataset"
      ],
      "metadata": {
        "id": "fSKU6zTx1PPs"
      },
      "execution_count": 50,
      "outputs": []
    },
    {
      "cell_type": "code",
      "source": [
        "def load_synthetic_data():\n",
        "    np.random.seed(42)  # Setting seed for reproducibility\n",
        "    data_size = 100  # Define size of dataset\n",
        "    rainfall = np.random.randint(0, 200, size=data_size)  # Generate random rainfall data\n",
        "    soil_moisture = np.random.uniform(0, 100, size=data_size)  # Generate random soil moisture data\n",
        "    water_level = np.random.uniform(0, 10, size=data_size)  # Generate random water level data\n",
        "\n",
        "    # Create flood risk based on conditions\n",
        "    def flood_risk(row):\n",
        "        if row['Rainfall_mm'] > 150 or row['Water_Level_m'] > 5:\n",
        "            return 'High'  # High risk based on rainfall or water level\n",
        "        elif row['Soil_Moisture'] > 50:\n",
        "            return 'Medium'  # Medium risk based on soil moisture\n",
        "        else:\n",
        "            return 'Low'  # Low risk for other cases\n",
        "\n",
        "    flood_data = pd.DataFrame({\n",
        "        'Rainfall_mm': rainfall,  # Assign rainfall data\n",
        "        'Soil_Moisture': soil_moisture,  # Assign soil moisture data\n",
        "        'Water_Level_m': water_level,  # Assign water level data\n",
        "    })\n",
        "    flood_data['Flood_Risk'] = flood_data.apply(flood_risk, axis=1)  # Apply flood risk conditions\n",
        "\n",
        "    # Encode the target variable\n",
        "    flood_data['Flood_Risk'] = flood_data['Flood_Risk'].map({'Low': 0, 'Medium': 1, 'High': 2})  # Map risk categories to numeric values\n",
        "\n",
        "    return flood_data  # Return the generated dataset"
      ],
      "metadata": {
        "id": "s_DDH_x81PTN"
      },
      "execution_count": 51,
      "outputs": []
    },
    {
      "cell_type": "code",
      "source": [],
      "metadata": {
        "id": "Fm_xpfqA1hTF"
      },
      "execution_count": 51,
      "outputs": []
    },
    {
      "cell_type": "code",
      "source": [],
      "metadata": {
        "id": "pNNzbAob1hWM"
      },
      "execution_count": 51,
      "outputs": []
    },
    {
      "cell_type": "code",
      "source": [
        "# Load your actual dataset"
      ],
      "metadata": {
        "id": "ptby1PgX1hZZ"
      },
      "execution_count": 52,
      "outputs": []
    },
    {
      "cell_type": "code",
      "source": [
        "def load_real_data():\n",
        "    flood_data = pd.read_csv('/content/synthetic_flood_data.csv')  # Adjust path if necessary to load actual dataset\n",
        "\n",
        "    # Assuming the target variable is 'Flood_Risk'\n",
        "    flood_data['Flood_Risk'] = flood_data['Flood_Risk'].map({'Low': 0, 'Medium': 1, 'High': 2})  # Encode risk labels\n",
        "\n",
        "    return flood_data  # Return the loaded dataset"
      ],
      "metadata": {
        "id": "JxApZ3uA1hc5"
      },
      "execution_count": 53,
      "outputs": []
    },
    {
      "cell_type": "code",
      "source": [],
      "metadata": {
        "id": "5IxSrNSk1hfJ"
      },
      "execution_count": 53,
      "outputs": []
    },
    {
      "cell_type": "code",
      "source": [],
      "metadata": {
        "id": "Pf11bLud1hip"
      },
      "execution_count": 53,
      "outputs": []
    },
    {
      "cell_type": "code",
      "source": [
        "# Choose dataset (Synthetic or Real)"
      ],
      "metadata": {
        "id": "dnN1MZSu1hwU"
      },
      "execution_count": 54,
      "outputs": []
    },
    {
      "cell_type": "code",
      "source": [
        "use_synthetic_data = True  # Change to False to use real data"
      ],
      "metadata": {
        "id": "pdErjtVD1PWf"
      },
      "execution_count": 55,
      "outputs": []
    },
    {
      "cell_type": "code",
      "source": [
        "flood_data = load_synthetic_data() if use_synthetic_data else load_real_data()  # Load the chosen dataset\n"
      ],
      "metadata": {
        "id": "X-7YxGsC1PfM"
      },
      "execution_count": 56,
      "outputs": []
    },
    {
      "cell_type": "code",
      "source": [],
      "metadata": {
        "id": "qUTqDQjr1JAF"
      },
      "execution_count": 56,
      "outputs": []
    },
    {
      "cell_type": "code",
      "source": [],
      "metadata": {
        "id": "72hOwSpj1JDS"
      },
      "execution_count": 56,
      "outputs": []
    },
    {
      "cell_type": "code",
      "source": [],
      "metadata": {
        "id": "P0Qg6qna1JGZ"
      },
      "execution_count": 56,
      "outputs": []
    },
    {
      "cell_type": "markdown",
      "source": [
        "# **🚀 Step 3: Exploratory Data Analysis (EDA)**\n",
        "\n",
        "## **📌 Purpose**\n",
        "EDA is crucial to understand the structure of the dataset, identify patterns, detect anomalies, and uncover relationships between variables. This step helps in making informed decisions for feature selection and model building.\n",
        "\n",
        "## **🔍 Key Tasks in EDA**:\n",
        "1. **Summary Statistics**: Use descriptive statistics (`.describe()`) to get a quick snapshot of numerical columns, including mean, median, and variance.\n",
        "2. **Missing Values**: Checking for null or missing values in the dataset to identify any data cleaning requirements.\n",
        "3. **Visualizations**:\n",
        "   - **Histograms**: To understand the distribution of individual features.\n",
        "   - **Scatter Plots**: To visualize relationships between pairs of variables.\n",
        "   - **Correlation Heatmap**: To identify highly correlated features, which may inform feature engineering.\n",
        "\n",
        "## **📊 Visualization Libraries**:\n",
        "- **`matplotlib`**: Offers flexibility for customizing plots, making it suitable for precise visualizations.\n",
        "- **`seaborn`**: Built on top of matplotlib, it provides a higher-level interface and makes statistical visualization more accessible.\n",
        "\n",
        "## **🌟 Key Takeaway**\n",
        "EDA provides invaluable insights into the dataset, guiding the model-building process and improving overall predictive performance."
      ],
      "metadata": {
        "id": "wbQoMNeP5DNT"
      }
    },
    {
      "cell_type": "code",
      "source": [
        "# EDA and Visualizations"
      ],
      "metadata": {
        "id": "u0gMLR5m1xJ7"
      },
      "execution_count": 57,
      "outputs": []
    },
    {
      "cell_type": "code",
      "source": [
        "# Inspect the dataset"
      ],
      "metadata": {
        "id": "n7jOibXW1xNn"
      },
      "execution_count": 58,
      "outputs": []
    },
    {
      "cell_type": "code",
      "source": [
        "print(\"First 5 rows of the dataset:\")  # Display initial rows of the dataset\n",
        "print(flood_data.head())  # Show first 5 rows"
      ],
      "metadata": {
        "colab": {
          "base_uri": "https://localhost:8080/"
        },
        "id": "rq8Lopwr1xQ-",
        "outputId": "4b2b3d61-fbc0-4a61-859a-93e80a49af9e"
      },
      "execution_count": 59,
      "outputs": [
        {
          "output_type": "stream",
          "name": "stdout",
          "text": [
            "First 5 rows of the dataset:\n",
            "   Rainfall_mm  Soil_Moisture  Water_Level_m  Flood_Risk\n",
            "0          102      80.219698       1.865185           1\n",
            "1          179       7.455064       0.407751           2\n",
            "2           92      98.688694       5.908929           2\n",
            "3           14      77.224477       6.775644           2\n",
            "4          106      19.871568       0.165878           0\n"
          ]
        }
      ]
    },
    {
      "cell_type": "code",
      "source": [],
      "metadata": {
        "id": "-zmOKZdS18It"
      },
      "execution_count": 59,
      "outputs": []
    },
    {
      "cell_type": "code",
      "source": [],
      "metadata": {
        "id": "FQ_lcqUx18m0"
      },
      "execution_count": 59,
      "outputs": []
    },
    {
      "cell_type": "code",
      "source": [
        "print(\"\\nDataset information:\")  # Display dataset information\n",
        "print(flood_data.info())  # Show data info (types, missing values)"
      ],
      "metadata": {
        "colab": {
          "base_uri": "https://localhost:8080/"
        },
        "id": "c4IeMzFL18uO",
        "outputId": "7d3f5068-4fe3-4c7e-c39c-d9eed8fc5386"
      },
      "execution_count": 60,
      "outputs": [
        {
          "output_type": "stream",
          "name": "stdout",
          "text": [
            "\n",
            "Dataset information:\n",
            "<class 'pandas.core.frame.DataFrame'>\n",
            "RangeIndex: 100 entries, 0 to 99\n",
            "Data columns (total 4 columns):\n",
            " #   Column         Non-Null Count  Dtype  \n",
            "---  ------         --------------  -----  \n",
            " 0   Rainfall_mm    100 non-null    int64  \n",
            " 1   Soil_Moisture  100 non-null    float64\n",
            " 2   Water_Level_m  100 non-null    float64\n",
            " 3   Flood_Risk     100 non-null    int64  \n",
            "dtypes: float64(2), int64(2)\n",
            "memory usage: 3.2 KB\n",
            "None\n"
          ]
        }
      ]
    },
    {
      "cell_type": "code",
      "source": [],
      "metadata": {
        "id": "7e6BDcsE1xUg"
      },
      "execution_count": 60,
      "outputs": []
    },
    {
      "cell_type": "code",
      "source": [],
      "metadata": {
        "id": "yaDPu-4L1JJ8"
      },
      "execution_count": 60,
      "outputs": []
    },
    {
      "cell_type": "code",
      "source": [
        "print(\"\\nSummary statistics:\")  # Display summary statistics\n",
        "print(flood_data.describe())  # Show descriptive stats (mean, std, etc.)"
      ],
      "metadata": {
        "colab": {
          "base_uri": "https://localhost:8080/"
        },
        "id": "nt7YDrj307q-",
        "outputId": "4cf0edcf-3a6b-4ec2-9694-b34921618a23"
      },
      "execution_count": 61,
      "outputs": [
        {
          "output_type": "stream",
          "name": "stdout",
          "text": [
            "\n",
            "Summary statistics:\n",
            "       Rainfall_mm  Soil_Moisture  Water_Level_m  Flood_Risk\n",
            "count   100.000000     100.000000     100.000000  100.000000\n",
            "mean     99.170000      48.898208       5.229742    1.520000\n",
            "std      60.262231      29.317192       2.995267    0.784702\n",
            "min       1.000000       0.552212       0.050616    0.000000\n",
            "25%      50.000000      24.143193       2.434553    1.000000\n",
            "50%      96.500000      49.552205       5.691849    2.000000\n",
            "75%     153.750000      76.099369       7.548374    2.000000\n",
            "max     199.000000      98.688694       9.900539    2.000000\n"
          ]
        }
      ]
    },
    {
      "cell_type": "code",
      "source": [],
      "metadata": {
        "id": "4rCr9fE4070t"
      },
      "execution_count": 61,
      "outputs": []
    },
    {
      "cell_type": "code",
      "source": [],
      "metadata": {
        "id": "N5P5op7I073s"
      },
      "execution_count": 61,
      "outputs": []
    },
    {
      "cell_type": "code",
      "source": [
        "print(\"\\nChecking for missing values:\")  # Check for missing values\n",
        "print(flood_data.isnull().sum())  # Count missing values per column"
      ],
      "metadata": {
        "colab": {
          "base_uri": "https://localhost:8080/"
        },
        "id": "UzPoa29t0wer",
        "outputId": "f17160d0-baa6-4b75-aef9-5e0ea6d92df9"
      },
      "execution_count": 62,
      "outputs": [
        {
          "output_type": "stream",
          "name": "stdout",
          "text": [
            "\n",
            "Checking for missing values:\n",
            "Rainfall_mm      0\n",
            "Soil_Moisture    0\n",
            "Water_Level_m    0\n",
            "Flood_Risk       0\n",
            "dtype: int64\n"
          ]
        }
      ]
    },
    {
      "cell_type": "code",
      "source": [],
      "metadata": {
        "id": "kmCfLbTp0whA"
      },
      "execution_count": 62,
      "outputs": []
    },
    {
      "cell_type": "code",
      "source": [],
      "metadata": {
        "id": "EW7oc_Ch0wjO"
      },
      "execution_count": 62,
      "outputs": []
    },
    {
      "cell_type": "code",
      "source": [
        "# Correlation Heatmap (excluding Flood_Risk)"
      ],
      "metadata": {
        "id": "O9Giq7I90hE-"
      },
      "execution_count": 63,
      "outputs": []
    },
    {
      "cell_type": "code",
      "source": [
        "plt.figure(figsize=(10, 8))  # Set figure size for heatmap\n",
        "numeric_cols = flood_data.drop('Flood_Risk', axis=1)  # Exclude the 'Flood_Risk' column\n",
        "sns.heatmap(numeric_cols.corr(), annot=True, cmap='coolwarm', linewidths=0.5)  # Plot correlation heatmap\n",
        "plt.title('Correlation Heatmap of Numeric Features')  # Set title for the heatmap\n",
        "plt.show()  # Display the heatmap"
      ],
      "metadata": {
        "colab": {
          "base_uri": "https://localhost:8080/",
          "height": 699
        },
        "id": "xZbY-T4S0hII",
        "outputId": "37ed80fd-9d62-46d0-fc3f-a8a32795e256"
      },
      "execution_count": 64,
      "outputs": [
        {
          "output_type": "display_data",
          "data": {
            "text/plain": [
              "<Figure size 1000x800 with 2 Axes>"
            ],
            "image/png": "[encoded data removed]"
          },
          "metadata": {}
        }
      ]
    },
    {
      "cell_type": "code",
      "source": [],
      "metadata": {
        "id": "6tgiXbAv2KU-"
      },
      "execution_count": 64,
      "outputs": []
    },
    {
      "cell_type": "code",
      "source": [],
      "metadata": {
        "id": "-hDh0aZJ2KYj"
      },
      "execution_count": 64,
      "outputs": []
    },
    {
      "cell_type": "code",
      "source": [
        "# Histograms for each feature"
      ],
      "metadata": {
        "id": "H25QRodl2Kbl"
      },
      "execution_count": 65,
      "outputs": []
    },
    {
      "cell_type": "code",
      "source": [
        "flood_data.hist(figsize=(10, 8), bins=20)  # Plot histograms for all numeric features\n",
        "plt.suptitle('Distribution of Features in the Dataset')  # Set overall title\n",
        "plt.show()  # Display the histograms"
      ],
      "metadata": {
        "colab": {
          "base_uri": "https://localhost:8080/",
          "height": 750
        },
        "id": "xGCdytad2KeU",
        "outputId": "2f134d43-aa07-4581-f07a-b6fd1fcae4e2"
      },
      "execution_count": 66,
      "outputs": [
        {
          "output_type": "display_data",
          "data": {
            "text/plain": [
              "<Figure size 1000x800 with 4 Axes>"
            ],
            "image/png": "[encoded data removed]"
          },
          "metadata": {}
        }
      ]
    },
    {
      "cell_type": "code",
      "source": [],
      "metadata": {
        "id": "PcO9kXgv2Khh"
      },
      "execution_count": 66,
      "outputs": []
    },
    {
      "cell_type": "code",
      "source": [],
      "metadata": {
        "id": "YzfLCFYw2KkQ"
      },
      "execution_count": 66,
      "outputs": []
    },
    {
      "cell_type": "code",
      "source": [
        "# Pie Plot of Flood Risk Distribution"
      ],
      "metadata": {
        "id": "JTJ08RVF2KvN"
      },
      "execution_count": 67,
      "outputs": []
    },
    {
      "cell_type": "code",
      "source": [
        "flood_risk_counts = flood_data['Flood_Risk'].value_counts()  # Get counts of each risk category"
      ],
      "metadata": {
        "id": "wufnTd4w0hNj"
      },
      "execution_count": 68,
      "outputs": []
    },
    {
      "cell_type": "code",
      "source": [
        "plt.figure(figsize=(6, 6))  # Set figure size for pie plot\n",
        "plt.pie(flood_risk_counts, labels=flood_risk_counts.index, autopct='%1.1f%%', startangle=140, colors=['lightblue', 'lightgreen', 'salmon'])  # Plot pie chart\n",
        "plt.title('Flood Risk Distribution')  # Set title for pie plot\n",
        "plt.show()  # Display the pie plot"
      ],
      "metadata": {
        "colab": {
          "base_uri": "https://localhost:8080/",
          "height": 521
        },
        "id": "7ptW6hkr0hSj",
        "outputId": "590c76d9-5722-449e-87c2-0d421ed0afd3"
      },
      "execution_count": 69,
      "outputs": [
        {
          "output_type": "display_data",
          "data": {
            "text/plain": [
              "<Figure size 600x600 with 1 Axes>"
            ],
            "image/png": "[encoded data removed]"
          },
          "metadata": {}
        }
      ]
    },
    {
      "cell_type": "code",
      "source": [],
      "metadata": {
        "id": "RCW5Ltff0hVL"
      },
      "execution_count": 69,
      "outputs": []
    },
    {
      "cell_type": "code",
      "source": [],
      "metadata": {
        "id": "PdPRLTiQ0hZj"
      },
      "execution_count": 69,
      "outputs": []
    },
    {
      "cell_type": "code",
      "source": [
        "# Bar Plot of Flood Risk Distribution"
      ],
      "metadata": {
        "id": "tZsrPr7W0heE"
      },
      "execution_count": 70,
      "outputs": []
    },
    {
      "cell_type": "code",
      "source": [
        "plt.figure(figsize=(8, 6))  # Set figure size for bar plot\n",
        "sns.barplot(x=flood_risk_counts.index, y=flood_risk_counts.values, palette='coolwarm')  # Plot bar chart for flood risk distribution\n",
        "plt.title('Flood Risk Distribution Bar Plot')  # Set title for bar plot\n",
        "plt.xlabel('Flood Risk')  # Set X-axis label\n",
        "plt.ylabel('Count')  # Set Y-axis label\n",
        "plt.show()  # Display the bar plot"
      ],
      "metadata": {
        "colab": {
          "base_uri": "https://localhost:8080/",
          "height": 564
        },
        "id": "PdQnHAcR0hgv",
        "outputId": "020af179-bb53-4c52-cc95-55281588894e"
      },
      "execution_count": 71,
      "outputs": [
        {
          "output_type": "display_data",
          "data": {
            "text/plain": [
              "<Figure size 800x600 with 1 Axes>"
            ],
            "image/png": "[encoded data removed]"
          },
          "metadata": {}
        }
      ]
    },
    {
      "cell_type": "code",
      "source": [],
      "metadata": {
        "id": "gvWxnkC52dPQ"
      },
      "execution_count": 71,
      "outputs": []
    },
    {
      "cell_type": "code",
      "source": [],
      "metadata": {
        "id": "lxhGJNOK2dSg"
      },
      "execution_count": 71,
      "outputs": []
    },
    {
      "cell_type": "code",
      "source": [
        "# Scatter Plot to show relationship between Rainfall, Water Level, and Flood Risk"
      ],
      "metadata": {
        "id": "IeH-Pg_82dVg"
      },
      "execution_count": 72,
      "outputs": []
    },
    {
      "cell_type": "code",
      "source": [
        "plt.figure(figsize=(10, 6))  # Set figure size for scatter plot\n",
        "sns.scatterplot(data=flood_data, x='Rainfall_mm', y='Water_Level_m', hue='Flood_Risk', palette='coolwarm')  # Plot scatter plot showing rainfall, water level, and flood risk\n",
        "plt.title('Scatter Plot of Rainfall vs Water Level with Flood Risk')  # Set title for scatter plot\n",
        "plt.show()  # Display the scatter plot"
      ],
      "metadata": {
        "colab": {
          "base_uri": "https://localhost:8080/",
          "height": 548
        },
        "id": "z9FjV5Y02dYs",
        "outputId": "3386bd58-7c40-4344-d528-977e7807e2c3"
      },
      "execution_count": 73,
      "outputs": [
        {
          "output_type": "display_data",
          "data": {
            "text/plain": [
              "<Figure size 1000x600 with 1 Axes>"
            ],
            "image/png": "[encoded data removed]"
          },
          "metadata": {}
        }
      ]
    },
    {
      "cell_type": "code",
      "source": [],
      "metadata": {
        "id": "NspNFmtT2iDt"
      },
      "execution_count": 73,
      "outputs": []
    },
    {
      "cell_type": "code",
      "source": [],
      "metadata": {
        "id": "iRjki5uK2iG4"
      },
      "execution_count": 73,
      "outputs": []
    },
    {
      "cell_type": "code",
      "source": [
        "# Box Plot for Rainfall across Flood Risk categories"
      ],
      "metadata": {
        "id": "Su5io1Vh2iJx"
      },
      "execution_count": 74,
      "outputs": []
    },
    {
      "cell_type": "code",
      "source": [
        "plt.figure(figsize=(8, 6))  # Set figure size for box plot\n",
        "sns.boxplot(data=flood_data, x='Flood_Risk', y='Rainfall_mm', palette='coolwarm')  # Plot box plot showing rainfall distribution across flood risk categories\n",
        "plt.title('Box Plot of Rainfall for Each Flood Risk Category')  # Set title for box plot\n",
        "plt.show()  # Display the box plot"
      ],
      "metadata": {
        "colab": {
          "base_uri": "https://localhost:8080/",
          "height": 564
        },
        "id": "sqfAz4BZ2iSN",
        "outputId": "5731650c-4293-4908-cdb7-2083279158c0"
      },
      "execution_count": 75,
      "outputs": [
        {
          "output_type": "display_data",
          "data": {
            "text/plain": [
              "<Figure size 800x600 with 1 Axes>"
            ],
            "image/png": "[encoded data removed]"
          },
          "metadata": {}
        }
      ]
    },
    {
      "cell_type": "code",
      "source": [],
      "metadata": {
        "id": "xCb4hwbe2pkn"
      },
      "execution_count": 75,
      "outputs": []
    },
    {
      "cell_type": "code",
      "source": [],
      "metadata": {
        "id": "gFk911HM2pnu"
      },
      "execution_count": 75,
      "outputs": []
    },
    {
      "cell_type": "code",
      "source": [],
      "metadata": {
        "id": "OYyl7gAv2pq2"
      },
      "execution_count": 75,
      "outputs": []
    },
    {
      "cell_type": "markdown",
      "source": [
        "# **🚀 Step 4: Data Preprocessing**\n",
        "\n",
        "## **📌 Purpose**\n",
        "Data preprocessing transforms raw data into a format suitable for machine learning models. It includes tasks such as handling missing values, feature scaling, and data splitting, which are vital to ensure that models can learn effectively from the dataset.\n",
        "\n",
        "## **🔍 Key Tasks in Data Preprocessing**:\n",
        "1. **Handling Missing Values**: If any features have missing values, you need to decide whether to remove these rows or fill in the missing data using imputation techniques (e.g., mean, median).\n",
        "2. **Feature Scaling**: Many machine learning algorithms require features to be on a similar scale to improve model performance. StandardScaler is often used to standardize data to have a mean of 0 and a standard deviation of 1.\n",
        "3. **Train-Test Split**: Splitting the data into training (80%) and testing (20%) sets ensures that the model's performance is evaluated on unseen data.\n",
        "\n",
        "## **📋 Explanation**:\n",
        "- **`StandardScaler`**: Standardizes features by removing the mean and scaling to unit variance.\n",
        "- **`train_test_split`**: Splits the dataset into training and testing sets, ensuring that the model's evaluation is unbiased.\n",
        "\n",
        "## **🌟 Key Takeaway**\n",
        "Preprocessing ensures that the data is clean, consistent, and formatted in a way that machine learning models can process effectively, leading to better performance."
      ],
      "metadata": {
        "id": "CXBBZ4Ax5IBg"
      }
    },
    {
      "cell_type": "code",
      "source": [
        "# Split dataset into features and labels"
      ],
      "metadata": {
        "id": "XJZxmTwg2puZ"
      },
      "execution_count": 76,
      "outputs": []
    },
    {
      "cell_type": "code",
      "source": [
        "X = flood_data.drop('Flood_Risk', axis=1)  # Define features by excluding target variable"
      ],
      "metadata": {
        "id": "Xw46gdyu2pzM"
      },
      "execution_count": 77,
      "outputs": []
    },
    {
      "cell_type": "code",
      "source": [
        "y = flood_data['Flood_Risk']  # Define labels (target variable)"
      ],
      "metadata": {
        "id": "ktTRzxVH2p11"
      },
      "execution_count": 78,
      "outputs": []
    },
    {
      "cell_type": "code",
      "source": [],
      "metadata": {
        "id": "TKke9JG22p4U"
      },
      "execution_count": 78,
      "outputs": []
    },
    {
      "cell_type": "code",
      "source": [
        "# Split dataset into training and testing sets"
      ],
      "metadata": {
        "id": "Hkbeyp_a2iU_"
      },
      "execution_count": 79,
      "outputs": []
    },
    {
      "cell_type": "code",
      "source": [
        "X_train, X_test, y_train, y_test = train_test_split(X, y, test_size=0.2, random_state=42)  # Split data into 80% train and 20% test sets\n"
      ],
      "metadata": {
        "id": "NslDrbds2ieO"
      },
      "execution_count": 80,
      "outputs": []
    },
    {
      "cell_type": "code",
      "source": [],
      "metadata": {
        "id": "oXzikN622ihv"
      },
      "execution_count": 80,
      "outputs": []
    },
    {
      "cell_type": "code",
      "source": [],
      "metadata": {
        "id": "B7OapNZJ2dci"
      },
      "execution_count": 80,
      "outputs": []
    },
    {
      "cell_type": "code",
      "source": [],
      "metadata": {
        "id": "m5VFeS-y2dh5"
      },
      "execution_count": 80,
      "outputs": []
    },
    {
      "cell_type": "markdown",
      "source": [
        "# **🚀 Step 5: Model Training**\n",
        "\n",
        "## **📌 Purpose**\n",
        "This step involves training machine learning models using the preprocessed data to predict flood risk. The models are trained on the training set, and their performance is evaluated using the testing set.\n",
        "\n",
        "## **🔍 Models Used**:\n",
        "1. **Logistic Regression**: A simple yet powerful classification algorithm, ideal for binary classification tasks such as predicting flood risk.\n",
        "2. **Support Vector Machine (SVM)**: A more complex model that can find an optimal hyperplane for classification, potentially improving accuracy in more complex datasets.\n",
        "\n",
        "## **🔧 Key Processes**:\n",
        "- **Model Fitting**: Both models are fit on the training data using `.fit()` function.\n",
        "- **Hyperparameter Tuning**: Default hyperparameters are used, but tuning can further enhance model performance.\n",
        "- **Model Evaluation**: After training, the models are evaluated on the test set to assess their performance using metrics such as accuracy and precision.\n",
        "\n",
        "## **🌟 Key Takeaway**\n",
        "Training the model allows it to learn patterns from the training data, which will be used to make predictions on new data."
      ],
      "metadata": {
        "id": "0-0wZzX95Nmf"
      }
    },
    {
      "cell_type": "code",
      "source": [
        "# Logistic Regression Model"
      ],
      "metadata": {
        "id": "dnuHR6Ba2dj1"
      },
      "execution_count": 81,
      "outputs": []
    },
    {
      "cell_type": "code",
      "source": [
        "logistic_model = LogisticRegression(max_iter=200)  # Initialize Logistic Regression model"
      ],
      "metadata": {
        "id": "LQaOyQ8c0hjL"
      },
      "execution_count": 82,
      "outputs": []
    },
    {
      "cell_type": "code",
      "source": [
        "logistic_model.fit(X_train, y_train)  # Train the Logistic Regression model"
      ],
      "metadata": {
        "colab": {
          "base_uri": "https://localhost:8080/",
          "height": 80
        },
        "id": "jZKXn90d0hlh",
        "outputId": "a0ced30c-2864-4427-d449-f5380198024b"
      },
      "execution_count": 83,
      "outputs": [
        {
          "output_type": "execute_result",
          "data": {
            "text/plain": [
              "LogisticRegression(max_iter=200)"
            ],
            "text/html": [
              "<style>#sk-container-id-1 {\n",
              "  /* Definition of color scheme common for light and dark mode */\n",
              "  --sklearn-color-text: black;\n",
              "  --sklearn-color-line: gray;\n",
              "  /* Definition of color scheme for unfitted estimators */\n",
              "  --sklearn-color-unfitted-level-0: #fff5e6;\n",
              "  --sklearn-color-unfitted-level-1: #f6e4d2;\n",
              "  --sklearn-color-unfitted-level-2: #ffe0b3;\n",
              "  --sklearn-color-unfitted-level-3: chocolate;\n",
              "  /* Definition of color scheme for fitted estimators */\n",
              "  --sklearn-color-fitted-level-0: #f0f8ff;\n",
              "  --sklearn-color-fitted-level-1: #d4ebff;\n",
              "  --sklearn-color-fitted-level-2: #b3dbfd;\n",
              "  --sklearn-color-fitted-level-3: cornflowerblue;\n",
              "\n",
              "  /* Specific color for light theme */\n",
              "  --sklearn-color-text-on-default-background: var(--sg-text-color, var(--theme-code-foreground, var(--jp-content-font-color1, black)));\n",
              "  --sklearn-color-background: var(--sg-background-color, var(--theme-background, var(--jp-layout-color0, white)));\n",
              "  --sklearn-color-border-box: var(--sg-text-color, var(--theme-code-foreground, var(--jp-content-font-color1, black)));\n",
              "  --sklearn-color-icon: #696969;\n",
              "\n",
              "  @media (prefers-color-scheme: dark) {\n",
              "    /* Redefinition of color scheme for dark theme */\n",
              "    --sklearn-color-text-on-default-background: var(--sg-text-color, var(--theme-code-foreground, var(--jp-content-font-color1, white)));\n",
              "    --sklearn-color-background: var(--sg-background-color, var(--theme-background, var(--jp-layout-color0, #111)));\n",
              "    --sklearn-color-border-box: var(--sg-text-color, var(--theme-code-foreground, var(--jp-content-font-color1, white)));\n",
              "    --sklearn-color-icon: #878787;\n",
              "  }\n",
              "}\n",
              "\n",
              "#sk-container-id-1 {\n",
              "  color: var(--sklearn-color-text);\n",
              "}\n",
              "\n",
              "#sk-container-id-1 pre {\n",
              "  padding: 0;\n",
              "}\n",
              "\n",
              "#sk-container-id-1 input.sk-hidden--visually {\n",
              "  border: 0;\n",
              "  clip: rect(1px 1px 1px 1px);\n",
              "  clip: rect(1px, 1px, 1px, 1px);\n",
              "  height: 1px;\n",
              "  margin: -1px;\n",
              "  overflow: hidden;\n",
              "  padding: 0;\n",
              "  position: absolute;\n",
              "  width: 1px;\n",
              "}\n",
              "\n",
              "#sk-container-id-1 div.sk-dashed-wrapped {\n",
              "  border: 1px dashed var(--sklearn-color-line);\n",
              "  margin: 0 0.4em 0.5em 0.4em;\n",
              "  box-sizing: border-box;\n",
              "  padding-bottom: 0.4em;\n",
              "  background-color: var(--sklearn-color-background);\n",
              "}\n",
              "\n",
              "#sk-container-id-1 div.sk-container {\n",
              "  /* jupyter's `normalize.less` sets `[hidden] { display: none; }`\n",
              "     but bootstrap.min.css set `[hidden] { display: none !important; }`\n",
              "     so we also need the `!important` here to be able to override the\n",
              "     default hidden behavior on the sphinx rendered scikit-learn.org.\n",
              "     See: https://github.com/scikit-learn/scikit-learn/issues/21755 */\n",
              "  display: inline-block !important;\n",
              "  position: relative;\n",
              "}\n",
              "\n",
              "#sk-container-id-1 div.sk-text-repr-fallback {\n",
              "  display: none;\n",
              "}\n",
              "\n",
              "div.sk-parallel-item,\n",
              "div.sk-serial,\n",
              "div.sk-item {\n",
              "  /* draw centered vertical line to link estimators */\n",
              "  background-image: linear-gradient(var(--sklearn-color-text-on-default-background), var(--sklearn-color-text-on-default-background));\n",
              "  background-size: 2px 100%;\n",
              "  background-repeat: no-repeat;\n",
              "  background-position: center center;\n",
              "}\n",
              "\n",
              "/* Parallel-specific style estimator block */\n",
              "\n",
              "#sk-container-id-1 div.sk-parallel-item::after {\n",
              "  content: \"\";\n",
              "  width: 100%;\n",
              "  border-bottom: 2px solid var(--sklearn-color-text-on-default-background);\n",
              "  flex-grow: 1;\n",
              "}\n",
              "\n",
              "#sk-container-id-1 div.sk-parallel {\n",
              "  display: flex;\n",
              "  align-items: stretch;\n",
              "  justify-content: center;\n",
              "  background-color: var(--sklearn-color-background);\n",
              "  position: relative;\n",
              "}\n",
              "\n",
              "#sk-container-id-1 div.sk-parallel-item {\n",
              "  display: flex;\n",
              "  flex-direction: column;\n",
              "}\n",
              "\n",
              "#sk-container-id-1 div.sk-parallel-item:first-child::after {\n",
              "  align-self: flex-end;\n",
              "  width: 50%;\n",
              "}\n",
              "\n",
              "#sk-container-id-1 div.sk-parallel-item:last-child::after {\n",
              "  align-self: flex-start;\n",
              "  width: 50%;\n",
              "}\n",
              "\n",
              "#sk-container-id-1 div.sk-parallel-item:only-child::after {\n",
              "  width: 0;\n",
              "}\n",
              "\n",
              "/* Serial-specific style estimator block */\n",
              "\n",
              "#sk-container-id-1 div.sk-serial {\n",
              "  display: flex;\n",
              "  flex-direction: column;\n",
              "  align-items: center;\n",
              "  background-color: var(--sklearn-color-background);\n",
              "  padding-right: 1em;\n",
              "  padding-left: 1em;\n",
              "}\n",
              "\n",
              "\n",
              "/* Toggleable style: style used for estimator/Pipeline/ColumnTransformer box that is\n",
              "clickable and can be expanded/collapsed.\n",
              "- Pipeline and ColumnTransformer use this feature and define the default style\n",
              "- Estimators will overwrite some part of the style using the `sk-estimator` class\n",
              "*/\n",
              "\n",
              "/* Pipeline and ColumnTransformer style (default) */\n",
              "\n",
              "#sk-container-id-1 div.sk-toggleable {\n",
              "  /* Default theme specific background. It is overwritten whether we have a\n",
              "  specific estimator or a Pipeline/ColumnTransformer */\n",
              "  background-color: var(--sklearn-color-background);\n",
              "}\n",
              "\n",
              "/* Toggleable label */\n",
              "#sk-container-id-1 label.sk-toggleable__label {\n",
              "  cursor: pointer;\n",
              "  display: block;\n",
              "  width: 100%;\n",
              "  margin-bottom: 0;\n",
              "  padding: 0.5em;\n",
              "  box-sizing: border-box;\n",
              "  text-align: center;\n",
              "}\n",
              "\n",
              "#sk-container-id-1 label.sk-toggleable__label-arrow:before {\n",
              "  /* Arrow on the left of the label */\n",
              "  content: \"▸\";\n",
              "  float: left;\n",
              "  margin-right: 0.25em;\n",
              "  color: var(--sklearn-color-icon);\n",
              "}\n",
              "\n",
              "#sk-container-id-1 label.sk-toggleable__label-arrow:hover:before {\n",
              "  color: var(--sklearn-color-text);\n",
              "}\n",
              "\n",
              "/* Toggleable content - dropdown */\n",
              "\n",
              "#sk-container-id-1 div.sk-toggleable__content {\n",
              "  max-height: 0;\n",
              "  max-width: 0;\n",
              "  overflow: hidden;\n",
              "  text-align: left;\n",
              "  /* unfitted */\n",
              "  background-color: var(--sklearn-color-unfitted-level-0);\n",
              "}\n",
              "\n",
              "#sk-container-id-1 div.sk-toggleable__content.fitted {\n",
              "  /* fitted */\n",
              "  background-color: var(--sklearn-color-fitted-level-0);\n",
              "}\n",
              "\n",
              "#sk-container-id-1 div.sk-toggleable__content pre {\n",
              "  margin: 0.2em;\n",
              "  border-radius: 0.25em;\n",
              "  color: var(--sklearn-color-text);\n",
              "  /* unfitted */\n",
              "  background-color: var(--sklearn-color-unfitted-level-0);\n",
              "}\n",
              "\n",
              "#sk-container-id-1 div.sk-toggleable__content.fitted pre {\n",
              "  /* unfitted */\n",
              "  background-color: var(--sklearn-color-fitted-level-0);\n",
              "}\n",
              "\n",
              "#sk-container-id-1 input.sk-toggleable__control:checked~div.sk-toggleable__content {\n",
              "  /* Expand drop-down */\n",
              "  max-height: 200px;\n",
              "  max-width: 100%;\n",
              "  overflow: auto;\n",
              "}\n",
              "\n",
              "#sk-container-id-1 input.sk-toggleable__control:checked~label.sk-toggleable__label-arrow:before {\n",
              "  content: \"▾\";\n",
              "}\n",
              "\n",
              "/* Pipeline/ColumnTransformer-specific style */\n",
              "\n",
              "#sk-container-id-1 div.sk-label input.sk-toggleable__control:checked~label.sk-toggleable__label {\n",
              "  color: var(--sklearn-color-text);\n",
              "  background-color: var(--sklearn-color-unfitted-level-2);\n",
              "}\n",
              "\n",
              "#sk-container-id-1 div.sk-label.fitted input.sk-toggleable__control:checked~label.sk-toggleable__label {\n",
              "  background-color: var(--sklearn-color-fitted-level-2);\n",
              "}\n",
              "\n",
              "/* Estimator-specific style */\n",
              "\n",
              "/* Colorize estimator box */\n",
              "#sk-container-id-1 div.sk-estimator input.sk-toggleable__control:checked~label.sk-toggleable__label {\n",
              "  /* unfitted */\n",
              "  background-color: var(--sklearn-color-unfitted-level-2);\n",
              "}\n",
              "\n",
              "#sk-container-id-1 div.sk-estimator.fitted input.sk-toggleable__control:checked~label.sk-toggleable__label {\n",
              "  /* fitted */\n",
              "  background-color: var(--sklearn-color-fitted-level-2);\n",
              "}\n",
              "\n",
              "#sk-container-id-1 div.sk-label label.sk-toggleable__label,\n",
              "#sk-container-id-1 div.sk-label label {\n",
              "  /* The background is the default theme color */\n",
              "  color: var(--sklearn-color-text-on-default-background);\n",
              "}\n",
              "\n",
              "/* On hover, darken the color of the background */\n",
              "#sk-container-id-1 div.sk-label:hover label.sk-toggleable__label {\n",
              "  color: var(--sklearn-color-text);\n",
              "  background-color: var(--sklearn-color-unfitted-level-2);\n",
              "}\n",
              "\n",
              "/* Label box, darken color on hover, fitted */\n",
              "#sk-container-id-1 div.sk-label.fitted:hover label.sk-toggleable__label.fitted {\n",
              "  color: var(--sklearn-color-text);\n",
              "  background-color: var(--sklearn-color-fitted-level-2);\n",
              "}\n",
              "\n",
              "/* Estimator label */\n",
              "\n",
              "#sk-container-id-1 div.sk-label label {\n",
              "  font-family: monospace;\n",
              "  font-weight: bold;\n",
              "  display: inline-block;\n",
              "  line-height: 1.2em;\n",
              "}\n",
              "\n",
              "#sk-container-id-1 div.sk-label-container {\n",
              "  text-align: center;\n",
              "}\n",
              "\n",
              "/* Estimator-specific */\n",
              "#sk-container-id-1 div.sk-estimator {\n",
              "  font-family: monospace;\n",
              "  border: 1px dotted var(--sklearn-color-border-box);\n",
              "  border-radius: 0.25em;\n",
              "  box-sizing: border-box;\n",
              "  margin-bottom: 0.5em;\n",
              "  /* unfitted */\n",
              "  background-color: var(--sklearn-color-unfitted-level-0);\n",
              "}\n",
              "\n",
              "#sk-container-id-1 div.sk-estimator.fitted {\n",
              "  /* fitted */\n",
              "  background-color: var(--sklearn-color-fitted-level-0);\n",
              "}\n",
              "\n",
              "/* on hover */\n",
              "#sk-container-id-1 div.sk-estimator:hover {\n",
              "  /* unfitted */\n",
              "  background-color: var(--sklearn-color-unfitted-level-2);\n",
              "}\n",
              "\n",
              "#sk-container-id-1 div.sk-estimator.fitted:hover {\n",
              "  /* fitted */\n",
              "  background-color: var(--sklearn-color-fitted-level-2);\n",
              "}\n",
              "\n",
              "/* Specification for estimator info (e.g. \"i\" and \"?\") */\n",
              "\n",
              "/* Common style for \"i\" and \"?\" */\n",
              "\n",
              ".sk-estimator-doc-link,\n",
              "a:link.sk-estimator-doc-link,\n",
              "a:visited.sk-estimator-doc-link {\n",
              "  float: right;\n",
              "  font-size: smaller;\n",
              "  line-height: 1em;\n",
              "  font-family: monospace;\n",
              "  background-color: var(--sklearn-color-background);\n",
              "  border-radius: 1em;\n",
              "  height: 1em;\n",
              "  width: 1em;\n",
              "  text-decoration: none !important;\n",
              "  margin-left: 1ex;\n",
              "  /* unfitted */\n",
              "  border: var(--sklearn-color-unfitted-level-1) 1pt solid;\n",
              "  color: var(--sklearn-color-unfitted-level-1);\n",
              "}\n",
              "\n",
              ".sk-estimator-doc-link.fitted,\n",
              "a:link.sk-estimator-doc-link.fitted,\n",
              "a:visited.sk-estimator-doc-link.fitted {\n",
              "  /* fitted */\n",
              "  border: var(--sklearn-color-fitted-level-1) 1pt solid;\n",
              "  color: var(--sklearn-color-fitted-level-1);\n",
              "}\n",
              "\n",
              "/* On hover */\n",
              "div.sk-estimator:hover .sk-estimator-doc-link:hover,\n",
              ".sk-estimator-doc-link:hover,\n",
              "div.sk-label-container:hover .sk-estimator-doc-link:hover,\n",
              ".sk-estimator-doc-link:hover {\n",
              "  /* unfitted */\n",
              "  background-color: var(--sklearn-color-unfitted-level-3);\n",
              "  color: var(--sklearn-color-background);\n",
              "  text-decoration: none;\n",
              "}\n",
              "\n",
              "div.sk-estimator.fitted:hover .sk-estimator-doc-link.fitted:hover,\n",
              ".sk-estimator-doc-link.fitted:hover,\n",
              "div.sk-label-container:hover .sk-estimator-doc-link.fitted:hover,\n",
              ".sk-estimator-doc-link.fitted:hover {\n",
              "  /* fitted */\n",
              "  background-color: var(--sklearn-color-fitted-level-3);\n",
              "  color: var(--sklearn-color-background);\n",
              "  text-decoration: none;\n",
              "}\n",
              "\n",
              "/* Span, style for the box shown on hovering the info icon */\n",
              ".sk-estimator-doc-link span {\n",
              "  display: none;\n",
              "  z-index: 9999;\n",
              "  position: relative;\n",
              "  font-weight: normal;\n",
              "  right: .2ex;\n",
              "  padding: .5ex;\n",
              "  margin: .5ex;\n",
              "  width: min-content;\n",
              "  min-width: 20ex;\n",
              "  max-width: 50ex;\n",
              "  color: var(--sklearn-color-text);\n",
              "  box-shadow: 2pt 2pt 4pt #999;\n",
              "  /* unfitted */\n",
              "  background: var(--sklearn-color-unfitted-level-0);\n",
              "  border: .5pt solid var(--sklearn-color-unfitted-level-3);\n",
              "}\n",
              "\n",
              ".sk-estimator-doc-link.fitted span {\n",
              "  /* fitted */\n",
              "  background: var(--sklearn-color-fitted-level-0);\n",
              "  border: var(--sklearn-color-fitted-level-3);\n",
              "}\n",
              "\n",
              ".sk-estimator-doc-link:hover span {\n",
              "  display: block;\n",
              "}\n",
              "\n",
              "/* \"?\"-specific style due to the `<a>` HTML tag */\n",
              "\n",
              "#sk-container-id-1 a.estimator_doc_link {\n",
              "  float: right;\n",
              "  font-size: 1rem;\n",
              "  line-height: 1em;\n",
              "  font-family: monospace;\n",
              "  background-color: var(--sklearn-color-background);\n",
              "  border-radius: 1rem;\n",
              "  height: 1rem;\n",
              "  width: 1rem;\n",
              "  text-decoration: none;\n",
              "  /* unfitted */\n",
              "  color: var(--sklearn-color-unfitted-level-1);\n",
              "  border: var(--sklearn-color-unfitted-level-1) 1pt solid;\n",
              "}\n",
              "\n",
              "#sk-container-id-1 a.estimator_doc_link.fitted {\n",
              "  /* fitted */\n",
              "  border: var(--sklearn-color-fitted-level-1) 1pt solid;\n",
              "  color: var(--sklearn-color-fitted-level-1);\n",
              "}\n",
              "\n",
              "/* On hover */\n",
              "#sk-container-id-1 a.estimator_doc_link:hover {\n",
              "  /* unfitted */\n",
              "  background-color: var(--sklearn-color-unfitted-level-3);\n",
              "  color: var(--sklearn-color-background);\n",
              "  text-decoration: none;\n",
              "}\n",
              "\n",
              "#sk-container-id-1 a.estimator_doc_link.fitted:hover {\n",
              "  /* fitted */\n",
              "  background-color: var(--sklearn-color-fitted-level-3);\n",
              "}\n",
              "</style><div id=\"sk-container-id-1\" class=\"sk-top-container\"><div class=\"sk-text-repr-fallback\"><pre>LogisticRegression(max_iter=200)</pre><b>In a Jupyter environment, please rerun this cell to show the HTML representation or trust the notebook. <br />On GitHub, the HTML representation is unable to render, please try loading this page with nbviewer.org.</b></div><div class=\"sk-container\" hidden><div class=\"sk-item\"><div class=\"sk-estimator fitted sk-toggleable\"><input class=\"sk-toggleable__control sk-hidden--visually\" id=\"sk-estimator-id-1\" type=\"checkbox\" checked><label for=\"sk-estimator-id-1\" class=\"sk-toggleable__label fitted sk-toggleable__label-arrow fitted\">&nbsp;&nbsp;LogisticRegression<a class=\"sk-estimator-doc-link fitted\" rel=\"noreferrer\" target=\"_blank\" href=\"https://scikit-learn.org/1.5/modules/generated/sklearn.linear_model.LogisticRegression.html\">?<span>Documentation for LogisticRegression</span></a><span class=\"sk-estimator-doc-link fitted\">i<span>Fitted</span></span></label><div class=\"sk-toggleable__content fitted\"><pre>LogisticRegression(max_iter=200)</pre></div> </div></div></div></div>"
            ]
          },
          "metadata": {},
          "execution_count": 83
        }
      ]
    },
    {
      "cell_type": "code",
      "source": [
        "y_pred_logistic = logistic_model.predict(X_test)  # Make predictions on the test set"
      ],
      "metadata": {
        "id": "spPulwdI0hp3"
      },
      "execution_count": 84,
      "outputs": []
    },
    {
      "cell_type": "code",
      "source": [],
      "metadata": {
        "id": "KdxeK8Km28O_"
      },
      "execution_count": 84,
      "outputs": []
    },
    {
      "cell_type": "code",
      "source": [],
      "metadata": {
        "id": "ky7OAt3o28U6"
      },
      "execution_count": 84,
      "outputs": []
    },
    {
      "cell_type": "code",
      "source": [
        "# SVM Model"
      ],
      "metadata": {
        "id": "_noubY0l28Xf"
      },
      "execution_count": 85,
      "outputs": []
    },
    {
      "cell_type": "code",
      "source": [
        "svm_model = SVC()  # Initialize Support Vector Machine model"
      ],
      "metadata": {
        "id": "jS2lzKS128ah"
      },
      "execution_count": 86,
      "outputs": []
    },
    {
      "cell_type": "code",
      "source": [
        "svm_model.fit(X_train, y_train)  # Train the SVM model"
      ],
      "metadata": {
        "colab": {
          "base_uri": "https://localhost:8080/",
          "height": 80
        },
        "id": "l5rndhHb28cs",
        "outputId": "bff0de9d-a107-4d0e-e294-5800b46303a4"
      },
      "execution_count": 87,
      "outputs": [
        {
          "output_type": "execute_result",
          "data": {
            "text/plain": [
              "SVC()"
            ],
            "text/html": [
              "<style>#sk-container-id-2 {\n",
              "  /* Definition of color scheme common for light and dark mode */\n",
              "  --sklearn-color-text: black;\n",
              "  --sklearn-color-line: gray;\n",
              "  /* Definition of color scheme for unfitted estimators */\n",
              "  --sklearn-color-unfitted-level-0: #fff5e6;\n",
              "  --sklearn-color-unfitted-level-1: #f6e4d2;\n",
              "  --sklearn-color-unfitted-level-2: #ffe0b3;\n",
              "  --sklearn-color-unfitted-level-3: chocolate;\n",
              "  /* Definition of color scheme for fitted estimators */\n",
              "  --sklearn-color-fitted-level-0: #f0f8ff;\n",
              "  --sklearn-color-fitted-level-1: #d4ebff;\n",
              "  --sklearn-color-fitted-level-2: #b3dbfd;\n",
              "  --sklearn-color-fitted-level-3: cornflowerblue;\n",
              "\n",
              "  /* Specific color for light theme */\n",
              "  --sklearn-color-text-on-default-background: var(--sg-text-color, var(--theme-code-foreground, var(--jp-content-font-color1, black)));\n",
              "  --sklearn-color-background: var(--sg-background-color, var(--theme-background, var(--jp-layout-color0, white)));\n",
              "  --sklearn-color-border-box: var(--sg-text-color, var(--theme-code-foreground, var(--jp-content-font-color1, black)));\n",
              "  --sklearn-color-icon: #696969;\n",
              "\n",
              "  @media (prefers-color-scheme: dark) {\n",
              "    /* Redefinition of color scheme for dark theme */\n",
              "    --sklearn-color-text-on-default-background: var(--sg-text-color, var(--theme-code-foreground, var(--jp-content-font-color1, white)));\n",
              "    --sklearn-color-background: var(--sg-background-color, var(--theme-background, var(--jp-layout-color0, #111)));\n",
              "    --sklearn-color-border-box: var(--sg-text-color, var(--theme-code-foreground, var(--jp-content-font-color1, white)));\n",
              "    --sklearn-color-icon: #878787;\n",
              "  }\n",
              "}\n",
              "\n",
              "#sk-container-id-2 {\n",
              "  color: var(--sklearn-color-text);\n",
              "}\n",
              "\n",
              "#sk-container-id-2 pre {\n",
              "  padding: 0;\n",
              "}\n",
              "\n",
              "#sk-container-id-2 input.sk-hidden--visually {\n",
              "  border: 0;\n",
              "  clip: rect(1px 1px 1px 1px);\n",
              "  clip: rect(1px, 1px, 1px, 1px);\n",
              "  height: 1px;\n",
              "  margin: -1px;\n",
              "  overflow: hidden;\n",
              "  padding: 0;\n",
              "  position: absolute;\n",
              "  width: 1px;\n",
              "}\n",
              "\n",
              "#sk-container-id-2 div.sk-dashed-wrapped {\n",
              "  border: 1px dashed var(--sklearn-color-line);\n",
              "  margin: 0 0.4em 0.5em 0.4em;\n",
              "  box-sizing: border-box;\n",
              "  padding-bottom: 0.4em;\n",
              "  background-color: var(--sklearn-color-background);\n",
              "}\n",
              "\n",
              "#sk-container-id-2 div.sk-container {\n",
              "  /* jupyter's `normalize.less` sets `[hidden] { display: none; }`\n",
              "     but bootstrap.min.css set `[hidden] { display: none !important; }`\n",
              "     so we also need the `!important` here to be able to override the\n",
              "     default hidden behavior on the sphinx rendered scikit-learn.org.\n",
              "     See: https://github.com/scikit-learn/scikit-learn/issues/21755 */\n",
              "  display: inline-block !important;\n",
              "  position: relative;\n",
              "}\n",
              "\n",
              "#sk-container-id-2 div.sk-text-repr-fallback {\n",
              "  display: none;\n",
              "}\n",
              "\n",
              "div.sk-parallel-item,\n",
              "div.sk-serial,\n",
              "div.sk-item {\n",
              "  /* draw centered vertical line to link estimators */\n",
              "  background-image: linear-gradient(var(--sklearn-color-text-on-default-background), var(--sklearn-color-text-on-default-background));\n",
              "  background-size: 2px 100%;\n",
              "  background-repeat: no-repeat;\n",
              "  background-position: center center;\n",
              "}\n",
              "\n",
              "/* Parallel-specific style estimator block */\n",
              "\n",
              "#sk-container-id-2 div.sk-parallel-item::after {\n",
              "  content: \"\";\n",
              "  width: 100%;\n",
              "  border-bottom: 2px solid var(--sklearn-color-text-on-default-background);\n",
              "  flex-grow: 1;\n",
              "}\n",
              "\n",
              "#sk-container-id-2 div.sk-parallel {\n",
              "  display: flex;\n",
              "  align-items: stretch;\n",
              "  justify-content: center;\n",
              "  background-color: var(--sklearn-color-background);\n",
              "  position: relative;\n",
              "}\n",
              "\n",
              "#sk-container-id-2 div.sk-parallel-item {\n",
              "  display: flex;\n",
              "  flex-direction: column;\n",
              "}\n",
              "\n",
              "#sk-container-id-2 div.sk-parallel-item:first-child::after {\n",
              "  align-self: flex-end;\n",
              "  width: 50%;\n",
              "}\n",
              "\n",
              "#sk-container-id-2 div.sk-parallel-item:last-child::after {\n",
              "  align-self: flex-start;\n",
              "  width: 50%;\n",
              "}\n",
              "\n",
              "#sk-container-id-2 div.sk-parallel-item:only-child::after {\n",
              "  width: 0;\n",
              "}\n",
              "\n",
              "/* Serial-specific style estimator block */\n",
              "\n",
              "#sk-container-id-2 div.sk-serial {\n",
              "  display: flex;\n",
              "  flex-direction: column;\n",
              "  align-items: center;\n",
              "  background-color: var(--sklearn-color-background);\n",
              "  padding-right: 1em;\n",
              "  padding-left: 1em;\n",
              "}\n",
              "\n",
              "\n",
              "/* Toggleable style: style used for estimator/Pipeline/ColumnTransformer box that is\n",
              "clickable and can be expanded/collapsed.\n",
              "- Pipeline and ColumnTransformer use this feature and define the default style\n",
              "- Estimators will overwrite some part of the style using the `sk-estimator` class\n",
              "*/\n",
              "\n",
              "/* Pipeline and ColumnTransformer style (default) */\n",
              "\n",
              "#sk-container-id-2 div.sk-toggleable {\n",
              "  /* Default theme specific background. It is overwritten whether we have a\n",
              "  specific estimator or a Pipeline/ColumnTransformer */\n",
              "  background-color: var(--sklearn-color-background);\n",
              "}\n",
              "\n",
              "/* Toggleable label */\n",
              "#sk-container-id-2 label.sk-toggleable__label {\n",
              "  cursor: pointer;\n",
              "  display: block;\n",
              "  width: 100%;\n",
              "  margin-bottom: 0;\n",
              "  padding: 0.5em;\n",
              "  box-sizing: border-box;\n",
              "  text-align: center;\n",
              "}\n",
              "\n",
              "#sk-container-id-2 label.sk-toggleable__label-arrow:before {\n",
              "  /* Arrow on the left of the label */\n",
              "  content: \"▸\";\n",
              "  float: left;\n",
              "  margin-right: 0.25em;\n",
              "  color: var(--sklearn-color-icon);\n",
              "}\n",
              "\n",
              "#sk-container-id-2 label.sk-toggleable__label-arrow:hover:before {\n",
              "  color: var(--sklearn-color-text);\n",
              "}\n",
              "\n",
              "/* Toggleable content - dropdown */\n",
              "\n",
              "#sk-container-id-2 div.sk-toggleable__content {\n",
              "  max-height: 0;\n",
              "  max-width: 0;\n",
              "  overflow: hidden;\n",
              "  text-align: left;\n",
              "  /* unfitted */\n",
              "  background-color: var(--sklearn-color-unfitted-level-0);\n",
              "}\n",
              "\n",
              "#sk-container-id-2 div.sk-toggleable__content.fitted {\n",
              "  /* fitted */\n",
              "  background-color: var(--sklearn-color-fitted-level-0);\n",
              "}\n",
              "\n",
              "#sk-container-id-2 div.sk-toggleable__content pre {\n",
              "  margin: 0.2em;\n",
              "  border-radius: 0.25em;\n",
              "  color: var(--sklearn-color-text);\n",
              "  /* unfitted */\n",
              "  background-color: var(--sklearn-color-unfitted-level-0);\n",
              "}\n",
              "\n",
              "#sk-container-id-2 div.sk-toggleable__content.fitted pre {\n",
              "  /* unfitted */\n",
              "  background-color: var(--sklearn-color-fitted-level-0);\n",
              "}\n",
              "\n",
              "#sk-container-id-2 input.sk-toggleable__control:checked~div.sk-toggleable__content {\n",
              "  /* Expand drop-down */\n",
              "  max-height: 200px;\n",
              "  max-width: 100%;\n",
              "  overflow: auto;\n",
              "}\n",
              "\n",
              "#sk-container-id-2 input.sk-toggleable__control:checked~label.sk-toggleable__label-arrow:before {\n",
              "  content: \"▾\";\n",
              "}\n",
              "\n",
              "/* Pipeline/ColumnTransformer-specific style */\n",
              "\n",
              "#sk-container-id-2 div.sk-label input.sk-toggleable__control:checked~label.sk-toggleable__label {\n",
              "  color: var(--sklearn-color-text);\n",
              "  background-color: var(--sklearn-color-unfitted-level-2);\n",
              "}\n",
              "\n",
              "#sk-container-id-2 div.sk-label.fitted input.sk-toggleable__control:checked~label.sk-toggleable__label {\n",
              "  background-color: var(--sklearn-color-fitted-level-2);\n",
              "}\n",
              "\n",
              "/* Estimator-specific style */\n",
              "\n",
              "/* Colorize estimator box */\n",
              "#sk-container-id-2 div.sk-estimator input.sk-toggleable__control:checked~label.sk-toggleable__label {\n",
              "  /* unfitted */\n",
              "  background-color: var(--sklearn-color-unfitted-level-2);\n",
              "}\n",
              "\n",
              "#sk-container-id-2 div.sk-estimator.fitted input.sk-toggleable__control:checked~label.sk-toggleable__label {\n",
              "  /* fitted */\n",
              "  background-color: var(--sklearn-color-fitted-level-2);\n",
              "}\n",
              "\n",
              "#sk-container-id-2 div.sk-label label.sk-toggleable__label,\n",
              "#sk-container-id-2 div.sk-label label {\n",
              "  /* The background is the default theme color */\n",
              "  color: var(--sklearn-color-text-on-default-background);\n",
              "}\n",
              "\n",
              "/* On hover, darken the color of the background */\n",
              "#sk-container-id-2 div.sk-label:hover label.sk-toggleable__label {\n",
              "  color: var(--sklearn-color-text);\n",
              "  background-color: var(--sklearn-color-unfitted-level-2);\n",
              "}\n",
              "\n",
              "/* Label box, darken color on hover, fitted */\n",
              "#sk-container-id-2 div.sk-label.fitted:hover label.sk-toggleable__label.fitted {\n",
              "  color: var(--sklearn-color-text);\n",
              "  background-color: var(--sklearn-color-fitted-level-2);\n",
              "}\n",
              "\n",
              "/* Estimator label */\n",
              "\n",
              "#sk-container-id-2 div.sk-label label {\n",
              "  font-family: monospace;\n",
              "  font-weight: bold;\n",
              "  display: inline-block;\n",
              "  line-height: 1.2em;\n",
              "}\n",
              "\n",
              "#sk-container-id-2 div.sk-label-container {\n",
              "  text-align: center;\n",
              "}\n",
              "\n",
              "/* Estimator-specific */\n",
              "#sk-container-id-2 div.sk-estimator {\n",
              "  font-family: monospace;\n",
              "  border: 1px dotted var(--sklearn-color-border-box);\n",
              "  border-radius: 0.25em;\n",
              "  box-sizing: border-box;\n",
              "  margin-bottom: 0.5em;\n",
              "  /* unfitted */\n",
              "  background-color: var(--sklearn-color-unfitted-level-0);\n",
              "}\n",
              "\n",
              "#sk-container-id-2 div.sk-estimator.fitted {\n",
              "  /* fitted */\n",
              "  background-color: var(--sklearn-color-fitted-level-0);\n",
              "}\n",
              "\n",
              "/* on hover */\n",
              "#sk-container-id-2 div.sk-estimator:hover {\n",
              "  /* unfitted */\n",
              "  background-color: var(--sklearn-color-unfitted-level-2);\n",
              "}\n",
              "\n",
              "#sk-container-id-2 div.sk-estimator.fitted:hover {\n",
              "  /* fitted */\n",
              "  background-color: var(--sklearn-color-fitted-level-2);\n",
              "}\n",
              "\n",
              "/* Specification for estimator info (e.g. \"i\" and \"?\") */\n",
              "\n",
              "/* Common style for \"i\" and \"?\" */\n",
              "\n",
              ".sk-estimator-doc-link,\n",
              "a:link.sk-estimator-doc-link,\n",
              "a:visited.sk-estimator-doc-link {\n",
              "  float: right;\n",
              "  font-size: smaller;\n",
              "  line-height: 1em;\n",
              "  font-family: monospace;\n",
              "  background-color: var(--sklearn-color-background);\n",
              "  border-radius: 1em;\n",
              "  height: 1em;\n",
              "  width: 1em;\n",
              "  text-decoration: none !important;\n",
              "  margin-left: 1ex;\n",
              "  /* unfitted */\n",
              "  border: var(--sklearn-color-unfitted-level-1) 1pt solid;\n",
              "  color: var(--sklearn-color-unfitted-level-1);\n",
              "}\n",
              "\n",
              ".sk-estimator-doc-link.fitted,\n",
              "a:link.sk-estimator-doc-link.fitted,\n",
              "a:visited.sk-estimator-doc-link.fitted {\n",
              "  /* fitted */\n",
              "  border: var(--sklearn-color-fitted-level-1) 1pt solid;\n",
              "  color: var(--sklearn-color-fitted-level-1);\n",
              "}\n",
              "\n",
              "/* On hover */\n",
              "div.sk-estimator:hover .sk-estimator-doc-link:hover,\n",
              ".sk-estimator-doc-link:hover,\n",
              "div.sk-label-container:hover .sk-estimator-doc-link:hover,\n",
              ".sk-estimator-doc-link:hover {\n",
              "  /* unfitted */\n",
              "  background-color: var(--sklearn-color-unfitted-level-3);\n",
              "  color: var(--sklearn-color-background);\n",
              "  text-decoration: none;\n",
              "}\n",
              "\n",
              "div.sk-estimator.fitted:hover .sk-estimator-doc-link.fitted:hover,\n",
              ".sk-estimator-doc-link.fitted:hover,\n",
              "div.sk-label-container:hover .sk-estimator-doc-link.fitted:hover,\n",
              ".sk-estimator-doc-link.fitted:hover {\n",
              "  /* fitted */\n",
              "  background-color: var(--sklearn-color-fitted-level-3);\n",
              "  color: var(--sklearn-color-background);\n",
              "  text-decoration: none;\n",
              "}\n",
              "\n",
              "/* Span, style for the box shown on hovering the info icon */\n",
              ".sk-estimator-doc-link span {\n",
              "  display: none;\n",
              "  z-index: 9999;\n",
              "  position: relative;\n",
              "  font-weight: normal;\n",
              "  right: .2ex;\n",
              "  padding: .5ex;\n",
              "  margin: .5ex;\n",
              "  width: min-content;\n",
              "  min-width: 20ex;\n",
              "  max-width: 50ex;\n",
              "  color: var(--sklearn-color-text);\n",
              "  box-shadow: 2pt 2pt 4pt #999;\n",
              "  /* unfitted */\n",
              "  background: var(--sklearn-color-unfitted-level-0);\n",
              "  border: .5pt solid var(--sklearn-color-unfitted-level-3);\n",
              "}\n",
              "\n",
              ".sk-estimator-doc-link.fitted span {\n",
              "  /* fitted */\n",
              "  background: var(--sklearn-color-fitted-level-0);\n",
              "  border: var(--sklearn-color-fitted-level-3);\n",
              "}\n",
              "\n",
              ".sk-estimator-doc-link:hover span {\n",
              "  display: block;\n",
              "}\n",
              "\n",
              "/* \"?\"-specific style due to the `<a>` HTML tag */\n",
              "\n",
              "#sk-container-id-2 a.estimator_doc_link {\n",
              "  float: right;\n",
              "  font-size: 1rem;\n",
              "  line-height: 1em;\n",
              "  font-family: monospace;\n",
              "  background-color: var(--sklearn-color-background);\n",
              "  border-radius: 1rem;\n",
              "  height: 1rem;\n",
              "  width: 1rem;\n",
              "  text-decoration: none;\n",
              "  /* unfitted */\n",
              "  color: var(--sklearn-color-unfitted-level-1);\n",
              "  border: var(--sklearn-color-unfitted-level-1) 1pt solid;\n",
              "}\n",
              "\n",
              "#sk-container-id-2 a.estimator_doc_link.fitted {\n",
              "  /* fitted */\n",
              "  border: var(--sklearn-color-fitted-level-1) 1pt solid;\n",
              "  color: var(--sklearn-color-fitted-level-1);\n",
              "}\n",
              "\n",
              "/* On hover */\n",
              "#sk-container-id-2 a.estimator_doc_link:hover {\n",
              "  /* unfitted */\n",
              "  background-color: var(--sklearn-color-unfitted-level-3);\n",
              "  color: var(--sklearn-color-background);\n",
              "  text-decoration: none;\n",
              "}\n",
              "\n",
              "#sk-container-id-2 a.estimator_doc_link.fitted:hover {\n",
              "  /* fitted */\n",
              "  background-color: var(--sklearn-color-fitted-level-3);\n",
              "}\n",
              "</style><div id=\"sk-container-id-2\" class=\"sk-top-container\"><div class=\"sk-text-repr-fallback\"><pre>SVC()</pre><b>In a Jupyter environment, please rerun this cell to show the HTML representation or trust the notebook. <br />On GitHub, the HTML representation is unable to render, please try loading this page with nbviewer.org.</b></div><div class=\"sk-container\" hidden><div class=\"sk-item\"><div class=\"sk-estimator fitted sk-toggleable\"><input class=\"sk-toggleable__control sk-hidden--visually\" id=\"sk-estimator-id-2\" type=\"checkbox\" checked><label for=\"sk-estimator-id-2\" class=\"sk-toggleable__label fitted sk-toggleable__label-arrow fitted\">&nbsp;&nbsp;SVC<a class=\"sk-estimator-doc-link fitted\" rel=\"noreferrer\" target=\"_blank\" href=\"https://scikit-learn.org/1.5/modules/generated/sklearn.svm.SVC.html\">?<span>Documentation for SVC</span></a><span class=\"sk-estimator-doc-link fitted\">i<span>Fitted</span></span></label><div class=\"sk-toggleable__content fitted\"><pre>SVC()</pre></div> </div></div></div></div>"
            ]
          },
          "metadata": {},
          "execution_count": 87
        }
      ]
    },
    {
      "cell_type": "code",
      "source": [
        "y_pred_svm = svm_model.predict(X_test)  # Make predictions on the test set"
      ],
      "metadata": {
        "id": "NvceypxR28o_"
      },
      "execution_count": 88,
      "outputs": []
    },
    {
      "cell_type": "code",
      "source": [],
      "metadata": {
        "id": "tVymI7HX0hzD"
      },
      "execution_count": 88,
      "outputs": []
    },
    {
      "cell_type": "code",
      "source": [],
      "metadata": {
        "id": "2plSl50n0h13"
      },
      "execution_count": 88,
      "outputs": []
    },
    {
      "cell_type": "code",
      "source": [],
      "metadata": {
        "id": "XyqygYjn5T4Q"
      },
      "execution_count": 88,
      "outputs": []
    },
    {
      "cell_type": "markdown",
      "source": [
        "# **🚀 Step 6: Model Evaluation**\n",
        "\n",
        "## **📌 Purpose**\n",
        "Evaluating the model's performance ensures that it can make accurate predictions. This step focuses on assessing the model's predictive accuracy, precision, recall, and other key metrics using the test set.\n",
        "\n",
        "## **🔍 Metrics Used**:\n",
        "1. **Accuracy**: The percentage of correctly classified instances.\n",
        "2. **Precision**: The ratio of true positives to the sum of true positives and false positives.\n",
        "3. **Recall**: The ratio of true positives to the sum of true positives and false negatives.\n",
        "4. **F1-Score**: The harmonic mean of precision and recall, useful when class distribution is uneven.\n",
        "5. **Confusion Matrix**: A matrix showing the true positives, true negatives, false positives, and false negatives, providing a detailed breakdown of classification performance.\n",
        "\n",
        "## **📋 Explanation**:\n",
        "- The `classification_report` and `confusion_matrix` functions from `scikit-learn` are used to evaluate the performance of the models on the test set.\n",
        "- These metrics provide a comprehensive understanding of the model's strengths and weaknesses, guiding future improvements.\n",
        "\n",
        "## **🌟 Key Takeaway**\n",
        "Model evaluation ensures that the trained model generalizes well to new, unseen data, and the evaluation metrics provide insights for further tuning and optimization."
      ],
      "metadata": {
        "id": "7aQPFRn55UhI"
      }
    },
    {
      "cell_type": "code",
      "source": [
        "# Print accuracies"
      ],
      "metadata": {
        "id": "ePMbtJ-00h6m"
      },
      "execution_count": 89,
      "outputs": []
    },
    {
      "cell_type": "code",
      "source": [
        "logistic_accuracy = accuracy_score(y_test, y_pred_logistic)  # Calculate accuracy for Logistic Regression\n"
      ],
      "metadata": {
        "id": "gdzwfSos0h9L"
      },
      "execution_count": 90,
      "outputs": []
    },
    {
      "cell_type": "code",
      "source": [
        "svm_accuracy = accuracy_score(y_test, y_pred_svm)  # Calculate accuracy for SVM"
      ],
      "metadata": {
        "id": "4V8bSSnS0h_U"
      },
      "execution_count": 91,
      "outputs": []
    },
    {
      "cell_type": "code",
      "source": [],
      "metadata": {
        "id": "ZPZX85eb0iB4"
      },
      "execution_count": 91,
      "outputs": []
    },
    {
      "cell_type": "code",
      "source": [
        "print(f'Logistic Regression Accuracy: {logistic_accuracy * 100:.2f}%')  # Print Logistic Regression accuracy\n"
      ],
      "metadata": {
        "colab": {
          "base_uri": "https://localhost:8080/"
        },
        "id": "9yCx3eVD0iD8",
        "outputId": "779bb85c-b027-4ad7-f6ca-5310a64e415c"
      },
      "execution_count": 92,
      "outputs": [
        {
          "output_type": "stream",
          "name": "stdout",
          "text": [
            "Logistic Regression Accuracy: 95.00%\n"
          ]
        }
      ]
    },
    {
      "cell_type": "code",
      "source": [],
      "metadata": {
        "id": "tzFrVxnY3QP_"
      },
      "execution_count": 92,
      "outputs": []
    },
    {
      "cell_type": "code",
      "source": [
        "print(f'Support Vector Machine Accuracy: {svm_accuracy * 100:.2f}%')  # Print SVM accuracy"
      ],
      "metadata": {
        "colab": {
          "base_uri": "https://localhost:8080/"
        },
        "id": "3emLnCEc3QTS",
        "outputId": "b8cb2cc7-f447-47e8-db37-496c40628735"
      },
      "execution_count": 93,
      "outputs": [
        {
          "output_type": "stream",
          "name": "stdout",
          "text": [
            "Support Vector Machine Accuracy: 60.00%\n"
          ]
        }
      ]
    },
    {
      "cell_type": "code",
      "source": [],
      "metadata": {
        "id": "A3teIrPF3QWZ"
      },
      "execution_count": 93,
      "outputs": []
    },
    {
      "cell_type": "code",
      "source": [],
      "metadata": {
        "id": "x5HLPvxd3Qbq"
      },
      "execution_count": 93,
      "outputs": []
    },
    {
      "cell_type": "code",
      "source": [
        "# Confusion Matrix for Logistic Regression"
      ],
      "metadata": {
        "id": "oio8UdEx3Qeg"
      },
      "execution_count": 94,
      "outputs": []
    },
    {
      "cell_type": "code",
      "source": [
        "logistic_cm = confusion_matrix(y_test, y_pred_logistic)  # Compute confusion matrix for Logistic Regression\n"
      ],
      "metadata": {
        "id": "DZSM0Any3Qh7"
      },
      "execution_count": 95,
      "outputs": []
    },
    {
      "cell_type": "code",
      "source": [
        "plt.figure(figsize=(6, 6))  # Set figure size for confusion matrix plot\n",
        "ConfusionMatrixDisplay(logistic_cm).plot(cmap='Blues')  # Plot confusion matrix\n",
        "plt.title('Confusion Matrix for Logistic Regression')  # Set title for confusion matrix\n",
        "plt.show()  # Display the confusion matrix"
      ],
      "metadata": {
        "colab": {
          "base_uri": "https://localhost:8080/",
          "height": 490
        },
        "id": "SDf2Nzsw0iGU",
        "outputId": "cbff6614-d492-4880-b7f8-20e8083e1bdb"
      },
      "execution_count": 96,
      "outputs": [
        {
          "output_type": "display_data",
          "data": {
            "text/plain": [
              "<Figure size 600x600 with 0 Axes>"
            ]
          },
          "metadata": {}
        },
        {
          "output_type": "display_data",
          "data": {
            "text/plain": [
              "<Figure size 640x480 with 2 Axes>"
            ],
            "image/png": "[encoded data removed]"
          },
          "metadata": {}
        }
      ]
    },
    {
      "cell_type": "code",
      "source": [],
      "metadata": {
        "id": "RM_nkZ280iI3"
      },
      "execution_count": 96,
      "outputs": []
    },
    {
      "cell_type": "code",
      "source": [],
      "metadata": {
        "id": "AzzmdFNJ0iK_"
      },
      "execution_count": 96,
      "outputs": []
    },
    {
      "cell_type": "code",
      "source": [
        "# Confusion Matrix for SVM"
      ],
      "metadata": {
        "id": "aGM9saZA0iNS"
      },
      "execution_count": 97,
      "outputs": []
    },
    {
      "cell_type": "code",
      "source": [
        "svm_cm = confusion_matrix(y_test, y_pred_svm)  # Compute confusion matrix for SVM"
      ],
      "metadata": {
        "id": "ji1TaXPH0iPr"
      },
      "execution_count": 98,
      "outputs": []
    },
    {
      "cell_type": "code",
      "source": [
        "plt.figure(figsize=(6, 6))  # Set figure size for confusion matrix plot\n",
        "ConfusionMatrixDisplay(svm_cm).plot(cmap='Oranges')  # Plot confusion matrix\n",
        "plt.title('Confusion Matrix for Support Vector Machine (SVM)')  # Set title for confusion matrix\n",
        "plt.show()  # Display the confusion matrix"
      ],
      "metadata": {
        "colab": {
          "base_uri": "https://localhost:8080/",
          "height": 490
        },
        "id": "ZYUmnLfn0iSD",
        "outputId": "796292ef-7660-409d-de7a-2f41b90f68cb"
      },
      "execution_count": 99,
      "outputs": [
        {
          "output_type": "display_data",
          "data": {
            "text/plain": [
              "<Figure size 600x600 with 0 Axes>"
            ]
          },
          "metadata": {}
        },
        {
          "output_type": "display_data",
          "data": {
            "text/plain": [
              "<Figure size 640x480 with 2 Axes>"
            ],
            "image/png": "[encoded data removed]"
          },
          "metadata": {}
        }
      ]
    },
    {
      "cell_type": "code",
      "source": [],
      "metadata": {
        "id": "wd3sev880iUQ"
      },
      "execution_count": 99,
      "outputs": []
    },
    {
      "cell_type": "code",
      "source": [],
      "metadata": {
        "id": "PuiDSefE0iWo"
      },
      "execution_count": 99,
      "outputs": []
    },
    {
      "cell_type": "code",
      "source": [
        "# Classification Reports for both models"
      ],
      "metadata": {
        "id": "_m4Xqik-0iZD"
      },
      "execution_count": 100,
      "outputs": []
    },
    {
      "cell_type": "code",
      "source": [
        "print(\"\\nClassification Report for Logistic Regression:\")  # Print title for logistic regression classification report\n",
        "print(classification_report(y_test, y_pred_logistic))  # Show classification report for Logistic Regression\n"
      ],
      "metadata": {
        "colab": {
          "base_uri": "https://localhost:8080/"
        },
        "id": "PjaOk3GF0ibN",
        "outputId": "77603cf0-772e-427a-ece2-ca6cf7f9a60d"
      },
      "execution_count": 101,
      "outputs": [
        {
          "output_type": "stream",
          "name": "stdout",
          "text": [
            "\n",
            "Classification Report for Logistic Regression:\n",
            "              precision    recall  f1-score   support\n",
            "\n",
            "           0       1.00      0.83      0.91         6\n",
            "           1       1.00      1.00      1.00         2\n",
            "           2       0.92      1.00      0.96        12\n",
            "\n",
            "    accuracy                           0.95        20\n",
            "   macro avg       0.97      0.94      0.96        20\n",
            "weighted avg       0.95      0.95      0.95        20\n",
            "\n"
          ]
        }
      ]
    },
    {
      "cell_type": "code",
      "source": [],
      "metadata": {
        "id": "TME5GG100ida"
      },
      "execution_count": 101,
      "outputs": []
    },
    {
      "cell_type": "code",
      "source": [
        "print(\"\\nClassification Report for SVM:\")  # Print title for SVM classification report\n",
        "print(classification_report(y_test, y_pred_svm))  # Show classification report for SVM"
      ],
      "metadata": {
        "colab": {
          "base_uri": "https://localhost:8080/"
        },
        "id": "quKtPkQq0ihN",
        "outputId": "8afb252f-1457-46ad-dc9c-307df1ff4c56"
      },
      "execution_count": 102,
      "outputs": [
        {
          "output_type": "stream",
          "name": "stdout",
          "text": [
            "\n",
            "Classification Report for SVM:\n",
            "              precision    recall  f1-score   support\n",
            "\n",
            "           0       0.00      0.00      0.00         6\n",
            "           1       0.00      0.00      0.00         2\n",
            "           2       0.60      1.00      0.75        12\n",
            "\n",
            "    accuracy                           0.60        20\n",
            "   macro avg       0.20      0.33      0.25        20\n",
            "weighted avg       0.36      0.60      0.45        20\n",
            "\n"
          ]
        }
      ]
    },
    {
      "cell_type": "code",
      "source": [],
      "metadata": {
        "id": "gSKJzK9O4Kmn"
      },
      "execution_count": 102,
      "outputs": []
    },
    {
      "cell_type": "code",
      "source": [],
      "metadata": {
        "id": "X0bYKktD4Ic5"
      },
      "execution_count": 102,
      "outputs": []
    },
    {
      "cell_type": "code",
      "source": [],
      "metadata": {
        "id": "oqVsqVjx4InQ"
      },
      "execution_count": 102,
      "outputs": []
    },
    {
      "cell_type": "markdown",
      "source": [
        "# **🚀 Step 7: Model Saving**\n",
        "\n",
        "## **📌 Purpose**\n",
        "After training and evaluating the models, it's crucial to save them for future use, either for making new predictions or for deployment as part of an API.\n",
        "\n",
        "## **🔍 Key Tasks**:\n",
        "- **Saving the Model**: The trained machine learning model is saved using `joblib` or `pickle` to persist the model on disk.\n",
        "- **Model Reusability**: Once saved, the model can be loaded anytime without retraining, making it easier to deploy for real-time predictions.\n",
        "\n",
        "## **📋 Explanation**:\n",
        "- **`joblib.dump()`**: Saves the model to a `.pkl` file.\n",
        "- **`joblib.load()`**: Loads the saved model for reuse in future prediction tasks or deployment in a web application.\n",
        "\n",
        "## **🌟 Key Takeaway**\n",
        "Model saving ensures that you don't need to retrain the model each time predictions are needed, and it is essential for deploying machine learning models in production environments."
      ],
      "metadata": {
        "id": "f2MdjDSz5YjZ"
      }
    },
    {
      "cell_type": "code",
      "source": [
        "# Save the trained models"
      ],
      "metadata": {
        "id": "0EwAlWOF4Izi"
      },
      "execution_count": 103,
      "outputs": []
    },
    {
      "cell_type": "code",
      "source": [
        "joblib.dump(logistic_model, 'logistic_model.pkl')  # Save Logistic Regression model to file"
      ],
      "metadata": {
        "colab": {
          "base_uri": "https://localhost:8080/"
        },
        "id": "4ym4YiEou9Ta",
        "outputId": "bcd3b6d0-4056-4a23-b5b9-ef8e6232fab5"
      },
      "execution_count": 104,
      "outputs": [
        {
          "output_type": "execute_result",
          "data": {
            "text/plain": [
              "['logistic_model.pkl']"
            ]
          },
          "metadata": {},
          "execution_count": 104
        }
      ]
    },
    {
      "cell_type": "code",
      "source": [
        "joblib.dump(svm_model, 'svm_model.pkl')  # Save SVM model to file"
      ],
      "metadata": {
        "colab": {
          "base_uri": "https://localhost:8080/"
        },
        "id": "SlA2BsUZu28q",
        "outputId": "9d2e316f-80e3-4d63-980c-970cf9dee7a8"
      },
      "execution_count": 105,
      "outputs": [
        {
          "output_type": "execute_result",
          "data": {
            "text/plain": [
              "['svm_model.pkl']"
            ]
          },
          "metadata": {},
          "execution_count": 105
        }
      ]
    },
    {
      "cell_type": "code",
      "source": [],
      "metadata": {
        "id": "rp1r0hMc4Tsx"
      },
      "execution_count": 105,
      "outputs": []
    },
    {
      "cell_type": "code",
      "source": [],
      "metadata": {
        "id": "ZMOtFrHW4TyI"
      },
      "execution_count": 105,
      "outputs": []
    },
    {
      "cell_type": "code",
      "source": [
        "# Load models (Example code for reference)"
      ],
      "metadata": {
        "id": "goGTXoKz4T0f"
      },
      "execution_count": 106,
      "outputs": []
    },
    {
      "cell_type": "code",
      "source": [
        "logistic_model = joblib.load('logistic_model.pkl')"
      ],
      "metadata": {
        "id": "VIQM8ctWuGTS"
      },
      "execution_count": 107,
      "outputs": []
    },
    {
      "cell_type": "code",
      "source": [
        "svm_model = joblib.load('svm_model.pkl')"
      ],
      "metadata": {
        "id": "aHZNRL61t7CC"
      },
      "execution_count": 108,
      "outputs": []
    },
    {
      "cell_type": "code",
      "source": [],
      "metadata": {
        "id": "EMJjvffIsdGx"
      },
      "execution_count": 108,
      "outputs": []
    },
    {
      "cell_type": "code",
      "source": [],
      "metadata": {
        "id": "9uwiBpb2r7Fa"
      },
      "execution_count": 108,
      "outputs": []
    },
    {
      "cell_type": "code",
      "source": [],
      "metadata": {
        "id": "p-vVARwI5e6J"
      },
      "execution_count": 108,
      "outputs": []
    },
    {
      "cell_type": "markdown",
      "source": [
        "# **🚀 Step 8: Flask API Deployment**\n",
        "\n",
        "## **📌 Purpose**\n",
        "The final step involves deploying the trained model using Flask, a micro web framework that enables the creation of a simple API for real-time predictions.\n",
        "\n",
        "## **🔍 Key Tasks**:\n",
        "- **API Endpoints**:\n",
        "  - **`GET /`**: A basic endpoint to check if the API is running.\n",
        "  - **`POST /predict`**: The main endpoint where input data is provided, and the trained model returns flood risk predictions.\n",
        "  \n",
        "- **Integrating the Model**: The saved model is loaded, and the API receives input data, applies the model, and returns the predicted flood risk.\n",
        "\n",
        "## **🌟 Key Takeaway**\n",
        "Deploying the model as an API allows others to interact with it, making it useful in real-world applications, where predictions need to be made based on real-time data."
      ],
      "metadata": {
        "id": "uW_Wur1d5fFv"
      }
    },
    {
      "cell_type": "code",
      "source": [
        "# Initialize Flask app"
      ],
      "metadata": {
        "id": "7Hs3X0S_qL3i"
      },
      "execution_count": 109,
      "outputs": []
    },
    {
      "cell_type": "code",
      "source": [
        "app = Flask(__name__)  # Create Flask app instance"
      ],
      "metadata": {
        "id": "TlFrLdDIoozZ"
      },
      "execution_count": 110,
      "outputs": []
    },
    {
      "cell_type": "code",
      "source": [
        "run_with_ngrok(app)  # Enable ngrok for Flask app"
      ],
      "metadata": {
        "id": "Rpy5GZkfohDB"
      },
      "execution_count": 111,
      "outputs": []
    },
    {
      "cell_type": "code",
      "source": [],
      "metadata": {
        "id": "FVd383_F4j_f"
      },
      "execution_count": 111,
      "outputs": []
    },
    {
      "cell_type": "code",
      "source": [
        "@app.route('/', methods=['GET'])  # Define a route for GET requests\n",
        "def index():\n",
        "    return \"Flood Risk Prediction API is running.\"  # Return a simple message when accessing the base URL\n",
        ""
      ],
      "metadata": {
        "id": "GbcEdS-j4kMn"
      },
      "execution_count": 112,
      "outputs": []
    },
    {
      "cell_type": "code",
      "source": [],
      "metadata": {
        "id": "qdEnuOGw4kVp"
      },
      "execution_count": 112,
      "outputs": []
    },
    {
      "cell_type": "code",
      "source": [],
      "metadata": {
        "id": "i9ZOyXKzoRc6"
      },
      "execution_count": 112,
      "outputs": []
    },
    {
      "cell_type": "code",
      "source": [
        "@app.route('/predict', methods=['POST'])  # Define a route for POST requests for flood risk prediction\n",
        "def predict():\n",
        "    data = request.get_json()  # Get JSON data from the request body\n",
        "    X_new = np.array([data['Rainfall_mm'], data['Soil_Moisture'], data['Water_Level_m']]).reshape(1, -1)  # Prepare new data for prediction\n",
        "    prediction = logistic_model.predict(X_new)[0]  # Make prediction using Logistic Regression model\n",
        "    return jsonify({'Flood_Risk_Prediction': int(prediction)})  # Return prediction as a JSON response\n",
        ""
      ],
      "metadata": {
        "id": "hRRwihaUoRiR"
      },
      "execution_count": 113,
      "outputs": []
    },
    {
      "cell_type": "code",
      "source": [],
      "metadata": {
        "id": "AF3FIhyU4tAH"
      },
      "execution_count": 113,
      "outputs": []
    },
    {
      "cell_type": "code",
      "source": [
        "if __name__ == '__main__':  # Check if the script is executed as the main program\n",
        "    app.run()  # Start Flask app"
      ],
      "metadata": {
        "colab": {
          "base_uri": "https://localhost:8080/"
        },
        "id": "RHE8uaex4tM4",
        "outputId": "a4492c9a-6186-401b-f022-781f3937a6b1"
      },
      "execution_count": 114,
      "outputs": [
        {
          "output_type": "stream",
          "name": "stdout",
          "text": [
            " * Serving Flask app '__main__'\n",
            " * Debug mode: off\n"
          ]
        },
        {
          "output_type": "stream",
          "name": "stderr",
          "text": [
            "INFO:werkzeug:\u001b[31m\u001b[1mWARNING: This is a development server. Do not use it in a production deployment. Use a production WSGI server instead.\u001b[0m\n",
            " * Running on http://127.0.0.1:5000\n",
            "INFO:werkzeug:\u001b[33mPress CTRL+C to quit\u001b[0m\n",
            "Exception in thread Thread-15:\n",
            "Traceback (most recent call last):\n",
            "  File \"/usr/local/lib/python3.10/dist-packages/urllib3/connection.py\", line 199, in _new_conn\n",
            "    sock = connection.create_connection(\n",
            "  File \"/usr/local/lib/python3.10/dist-packages/urllib3/util/connection.py\", line 85, in create_connection\n",
            "    raise err\n",
            "  File \"/usr/local/lib/python3.10/dist-packages/urllib3/util/connection.py\", line 73, in create_connection\n",
            "    sock.connect(sa)\n",
            "ConnectionRefusedError: [Errno 111] Connection refused\n",
            "\n",
            "The above exception was the direct cause of the following exception:\n",
            "\n",
            "Traceback (most recent call last):\n",
            "  File \"/usr/local/lib/python3.10/dist-packages/urllib3/connectionpool.py\", line 789, in urlopen\n",
            "    response = self._make_request(\n",
            "  File \"/usr/local/lib/python3.10/dist-packages/urllib3/connectionpool.py\", line 495, in _make_request\n",
            "    conn.request(\n",
            "  File \"/usr/local/lib/python3.10/dist-packages/urllib3/connection.py\", line 441, in request\n",
            "    self.endheaders()\n",
            "  File \"/usr/lib/python3.10/http/client.py\", line 1278, in endheaders\n",
            "    self._send_output(message_body, encode_chunked=encode_chunked)\n",
            "  File \"/usr/lib/python3.10/http/client.py\", line 1038, in _send_output\n",
            "    self.send(msg)\n",
            "  File \"/usr/lib/python3.10/http/client.py\", line 976, in send\n",
            "    self.connect()\n",
            "  File \"/usr/local/lib/python3.10/dist-packages/urllib3/connection.py\", line 279, in connect\n",
            "    self.sock = self._new_conn()\n",
            "  File \"/usr/local/lib/python3.10/dist-packages/urllib3/connection.py\", line 214, in _new_conn\n",
            "    raise NewConnectionError(\n",
            "urllib3.exceptions.NewConnectionError: <urllib3.connection.HTTPConnection object at 0x7cf1c83529b0>: Failed to establish a new connection: [Errno 111] Connection refused\n",
            "\n",
            "The above exception was the direct cause of the following exception:\n",
            "\n",
            "Traceback (most recent call last):\n",
            "  File \"/usr/local/lib/python3.10/dist-packages/requests/adapters.py\", line 667, in send\n",
            "    resp = conn.urlopen(\n",
            "  File \"/usr/local/lib/python3.10/dist-packages/urllib3/connectionpool.py\", line 843, in urlopen\n",
            "    retries = retries.increment(\n",
            "  File \"/usr/local/lib/python3.10/dist-packages/urllib3/util/retry.py\", line 519, in increment\n",
            "    raise MaxRetryError(_pool, url, reason) from reason  # type: ignore[arg-type]\n",
            "urllib3.exceptions.MaxRetryError: HTTPConnectionPool(host='localhost', port=4040): Max retries exceeded with url: /api/tunnels (Caused by NewConnectionError('<urllib3.connection.HTTPConnection object at 0x7cf1c83529b0>: Failed to establish a new connection: [Errno 111] Connection refused'))\n",
            "\n",
            "During handling of the above exception, another exception occurred:\n",
            "\n",
            "Traceback (most recent call last):\n",
            "  File \"/usr/lib/python3.10/threading.py\", line 1016, in _bootstrap_inner\n",
            "    self.run()\n",
            "  File \"/usr/lib/python3.10/threading.py\", line 1378, in run\n",
            "    self.function(*self.args, **self.kwargs)\n",
            "  File \"/usr/local/lib/python3.10/dist-packages/flask_ngrok.py\", line 70, in start_ngrok\n",
            "    ngrok_address = _run_ngrok()\n",
            "  File \"/usr/local/lib/python3.10/dist-packages/flask_ngrok.py\", line 35, in _run_ngrok\n",
            "    tunnel_url = requests.get(localhost_url).text  # Get the tunnel information\n",
            "  File \"/usr/local/lib/python3.10/dist-packages/requests/api.py\", line 73, in get\n",
            "    return request(\"get\", url, params=params, **kwargs)\n",
            "  File \"/usr/local/lib/python3.10/dist-packages/requests/api.py\", line 59, in request\n",
            "    return session.request(method=method, url=url, **kwargs)\n",
            "  File \"/usr/local/lib/python3.10/dist-packages/requests/sessions.py\", line 589, in request\n",
            "    resp = self.send(prep, **send_kwargs)\n",
            "  File \"/usr/local/lib/python3.10/dist-packages/requests/sessions.py\", line 703, in send\n",
            "    r = adapter.send(request, **kwargs)\n",
            "  File \"/usr/local/lib/python3.10/dist-packages/requests/adapters.py\", line 700, in send\n",
            "    raise ConnectionError(e, request=request)\n",
            "requests.exceptions.ConnectionError: HTTPConnectionPool(host='localhost', port=4040): Max retries exceeded with url: /api/tunnels (Caused by NewConnectionError('<urllib3.connection.HTTPConnection object at 0x7cf1c83529b0>: Failed to establish a new connection: [Errno 111] Connection refused'))\n"
          ]
        }
      ]
    },
    {
      "cell_type": "code",
      "source": [],
      "metadata": {
        "id": "CReh8I2_oRnZ"
      },
      "execution_count": 114,
      "outputs": []
    },
    {
      "cell_type": "code",
      "source": [],
      "metadata": {
        "id": "akadUi-coRqR"
      },
      "execution_count": 114,
      "outputs": []
    },
    {
      "cell_type": "code",
      "source": [],
      "metadata": {
        "id": "1xiMkVzf4usP"
      },
      "execution_count": 114,
      "outputs": []
    },
    {
      "cell_type": "markdown",
      "source": [
        "## Conclusion\n",
        "\n",
        "In this project, we developed a comprehensive Flood Risk Prediction model using synthetic and real datasets. The primary objective was to predict flood risk levels based on various environmental factors, including rainfall, soil moisture, and water levels.\n",
        "\n",
        "We implemented two machine learning models: Logistic Regression and Support Vector Machine (SVM). After training and evaluating the models, we achieved satisfactory accuracy rates, demonstrating the effectiveness of the chosen algorithms for this classification task.\n",
        "\n",
        "Moreover, we conducted thorough Exploratory Data Analysis (EDA) to understand the relationships among features and visualize the distribution of flood risk levels. This insight is crucial for stakeholders in disaster management and environmental planning.\n",
        "\n",
        "Lastly, we deployed a web application using Flask, enabling users to input data and receive real-time predictions on flood risk. This application can serve as a valuable tool for communities vulnerable to flooding, allowing for timely interventions and better resource allocation.\n",
        "\n",
        "Future work could involve refining the models with more extensive datasets and exploring advanced machine learning techniques to enhance prediction accuracy further. Additionally, incorporating real-time data could improve the system's responsiveness and reliability in practical applications."
      ],
      "metadata": {
        "id": "oRedLK6x5jAh"
      }
    }
  ]
}